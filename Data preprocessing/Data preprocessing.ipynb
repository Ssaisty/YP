{
  "metadata": {
    "kernelspec": {
      "name": "python",
      "display_name": "Python (Pyodide)",
      "language": "python"
    },
    "language_info": {
      "codemirror_mode": {
        "name": "python",
        "version": 3
      },
      "file_extension": ".py",
      "mimetype": "text/x-python",
      "name": "python",
      "nbconvert_exporter": "python",
      "pygments_lexer": "ipython3",
      "version": "3.8"
    },
    "ExecuteTimeLog": [
      {
        "duration": 47,
        "start_time": "2023-04-11T19:36:10.119Z"
      },
      {
        "duration": 659,
        "start_time": "2023-04-11T19:36:17.436Z"
      },
      {
        "duration": 20,
        "start_time": "2023-04-11T19:36:18.099Z"
      },
      {
        "duration": 13,
        "start_time": "2023-04-11T19:36:18.121Z"
      },
      {
        "duration": 9,
        "start_time": "2023-04-11T19:36:18.136Z"
      },
      {
        "duration": 44,
        "start_time": "2023-04-11T19:36:18.147Z"
      },
      {
        "duration": 3,
        "start_time": "2023-04-11T19:36:18.193Z"
      },
      {
        "duration": 15,
        "start_time": "2023-04-11T19:36:18.198Z"
      },
      {
        "duration": 5,
        "start_time": "2023-04-11T19:36:18.215Z"
      },
      {
        "duration": 13,
        "start_time": "2023-04-11T19:36:18.222Z"
      },
      {
        "duration": 11,
        "start_time": "2023-04-11T19:36:18.237Z"
      },
      {
        "duration": 68,
        "start_time": "2023-04-11T19:36:18.249Z"
      },
      {
        "duration": 14,
        "start_time": "2023-04-11T19:36:18.319Z"
      },
      {
        "duration": 13,
        "start_time": "2023-04-11T19:36:18.335Z"
      },
      {
        "duration": 32,
        "start_time": "2023-04-11T19:36:18.352Z"
      },
      {
        "duration": 39,
        "start_time": "2023-04-11T19:36:18.387Z"
      },
      {
        "duration": 15,
        "start_time": "2023-04-11T19:36:18.427Z"
      },
      {
        "duration": 3,
        "start_time": "2023-04-11T19:36:18.444Z"
      },
      {
        "duration": 17,
        "start_time": "2023-04-11T19:36:18.449Z"
      },
      {
        "duration": 20,
        "start_time": "2023-04-11T19:36:18.467Z"
      },
      {
        "duration": 12,
        "start_time": "2023-04-11T19:36:18.491Z"
      },
      {
        "duration": 37,
        "start_time": "2023-04-11T19:36:18.505Z"
      },
      {
        "duration": 47,
        "start_time": "2023-04-11T19:36:18.544Z"
      },
      {
        "duration": 2,
        "start_time": "2023-04-11T19:36:18.593Z"
      },
      {
        "duration": 27,
        "start_time": "2023-04-11T19:36:18.597Z"
      },
      {
        "duration": 15,
        "start_time": "2023-04-11T19:36:18.626Z"
      },
      {
        "duration": 63,
        "start_time": "2023-04-11T20:34:22.549Z"
      },
      {
        "duration": 456,
        "start_time": "2023-04-11T20:37:21.148Z"
      },
      {
        "duration": 20,
        "start_time": "2023-04-11T20:37:21.605Z"
      },
      {
        "duration": 13,
        "start_time": "2023-04-11T20:37:21.626Z"
      },
      {
        "duration": 8,
        "start_time": "2023-04-11T20:37:21.641Z"
      },
      {
        "duration": 51,
        "start_time": "2023-04-11T20:37:21.651Z"
      },
      {
        "duration": 4,
        "start_time": "2023-04-11T20:37:21.703Z"
      },
      {
        "duration": 14,
        "start_time": "2023-04-11T20:37:21.708Z"
      },
      {
        "duration": 4,
        "start_time": "2023-04-11T20:37:21.724Z"
      },
      {
        "duration": 11,
        "start_time": "2023-04-11T20:37:21.729Z"
      },
      {
        "duration": 5,
        "start_time": "2023-04-11T20:37:21.742Z"
      },
      {
        "duration": 53,
        "start_time": "2023-04-11T20:37:21.748Z"
      },
      {
        "duration": 9,
        "start_time": "2023-04-11T20:37:21.803Z"
      },
      {
        "duration": 6,
        "start_time": "2023-04-11T20:37:21.813Z"
      },
      {
        "duration": 13,
        "start_time": "2023-04-11T20:37:21.820Z"
      },
      {
        "duration": 22,
        "start_time": "2023-04-11T20:37:21.835Z"
      },
      {
        "duration": 32,
        "start_time": "2023-04-11T20:37:21.859Z"
      },
      {
        "duration": 3,
        "start_time": "2023-04-11T20:37:21.892Z"
      },
      {
        "duration": 17,
        "start_time": "2023-04-11T20:37:21.897Z"
      },
      {
        "duration": 9,
        "start_time": "2023-04-11T20:37:21.915Z"
      },
      {
        "duration": 27,
        "start_time": "2023-04-11T20:37:21.925Z"
      },
      {
        "duration": 27,
        "start_time": "2023-04-11T20:37:21.953Z"
      },
      {
        "duration": 28,
        "start_time": "2023-04-11T20:37:21.982Z"
      },
      {
        "duration": 29,
        "start_time": "2023-04-11T20:37:22.012Z"
      },
      {
        "duration": 93,
        "start_time": "2023-04-11T20:37:22.042Z"
      },
      {
        "duration": 0,
        "start_time": "2023-04-11T20:37:22.137Z"
      },
      {
        "duration": 13,
        "start_time": "2023-04-11T20:37:52.510Z"
      },
      {
        "duration": 1342,
        "start_time": "2023-04-11T20:39:03.707Z"
      },
      {
        "duration": 1381,
        "start_time": "2023-04-11T20:39:09.748Z"
      },
      {
        "duration": 8,
        "start_time": "2023-04-11T20:40:37.969Z"
      },
      {
        "duration": 465,
        "start_time": "2023-04-11T20:40:50.297Z"
      },
      {
        "duration": 22,
        "start_time": "2023-04-11T20:40:50.764Z"
      },
      {
        "duration": 22,
        "start_time": "2023-04-11T20:40:50.787Z"
      },
      {
        "duration": 10,
        "start_time": "2023-04-11T20:40:50.811Z"
      },
      {
        "duration": 45,
        "start_time": "2023-04-11T20:40:50.822Z"
      },
      {
        "duration": 4,
        "start_time": "2023-04-11T20:40:50.868Z"
      },
      {
        "duration": 14,
        "start_time": "2023-04-11T20:40:50.873Z"
      },
      {
        "duration": 6,
        "start_time": "2023-04-11T20:40:50.888Z"
      },
      {
        "duration": 11,
        "start_time": "2023-04-11T20:40:50.896Z"
      },
      {
        "duration": 4,
        "start_time": "2023-04-11T20:40:50.910Z"
      },
      {
        "duration": 34,
        "start_time": "2023-04-11T20:40:50.916Z"
      },
      {
        "duration": 32,
        "start_time": "2023-04-11T20:40:50.952Z"
      },
      {
        "duration": 5,
        "start_time": "2023-04-11T20:40:50.986Z"
      },
      {
        "duration": 18,
        "start_time": "2023-04-11T20:40:50.992Z"
      },
      {
        "duration": 23,
        "start_time": "2023-04-11T20:40:51.012Z"
      },
      {
        "duration": 18,
        "start_time": "2023-04-11T20:40:51.037Z"
      },
      {
        "duration": 4,
        "start_time": "2023-04-11T20:40:51.056Z"
      },
      {
        "duration": 30,
        "start_time": "2023-04-11T20:40:51.061Z"
      },
      {
        "duration": 17,
        "start_time": "2023-04-11T20:40:51.093Z"
      },
      {
        "duration": 8,
        "start_time": "2023-04-11T20:40:51.112Z"
      },
      {
        "duration": 20,
        "start_time": "2023-04-11T20:40:51.122Z"
      },
      {
        "duration": 45,
        "start_time": "2023-04-11T20:40:51.143Z"
      },
      {
        "duration": 27,
        "start_time": "2023-04-11T20:40:51.190Z"
      },
      {
        "duration": 1294,
        "start_time": "2023-04-11T20:40:51.218Z"
      },
      {
        "duration": 52,
        "start_time": "2023-04-11T20:40:52.513Z"
      },
      {
        "duration": 61,
        "start_time": "2023-04-11T20:40:58.713Z"
      },
      {
        "duration": 42,
        "start_time": "2023-04-12T18:07:45.130Z"
      },
      {
        "duration": 6,
        "start_time": "2023-04-12T18:07:48.741Z"
      },
      {
        "duration": 466,
        "start_time": "2023-04-12T18:07:55.583Z"
      },
      {
        "duration": 21,
        "start_time": "2023-04-12T18:07:56.051Z"
      },
      {
        "duration": 13,
        "start_time": "2023-04-12T18:07:56.074Z"
      },
      {
        "duration": 8,
        "start_time": "2023-04-12T18:07:56.089Z"
      },
      {
        "duration": 43,
        "start_time": "2023-04-12T18:07:56.099Z"
      },
      {
        "duration": 4,
        "start_time": "2023-04-12T18:07:56.143Z"
      },
      {
        "duration": 9,
        "start_time": "2023-04-12T18:07:56.148Z"
      },
      {
        "duration": 3,
        "start_time": "2023-04-12T18:07:56.159Z"
      },
      {
        "duration": 7,
        "start_time": "2023-04-12T18:07:56.164Z"
      },
      {
        "duration": 4,
        "start_time": "2023-04-12T18:07:56.174Z"
      },
      {
        "duration": 58,
        "start_time": "2023-04-12T18:07:56.179Z"
      },
      {
        "duration": 9,
        "start_time": "2023-04-12T18:07:56.239Z"
      },
      {
        "duration": 3,
        "start_time": "2023-04-12T18:07:56.249Z"
      },
      {
        "duration": 10,
        "start_time": "2023-04-12T18:07:56.254Z"
      },
      {
        "duration": 19,
        "start_time": "2023-04-12T18:07:56.266Z"
      },
      {
        "duration": 15,
        "start_time": "2023-04-12T18:07:56.287Z"
      },
      {
        "duration": 34,
        "start_time": "2023-04-12T18:07:56.303Z"
      },
      {
        "duration": 18,
        "start_time": "2023-04-12T18:07:56.338Z"
      },
      {
        "duration": 5,
        "start_time": "2023-04-12T18:07:56.358Z"
      },
      {
        "duration": 3,
        "start_time": "2023-04-12T18:07:56.365Z"
      },
      {
        "duration": 12,
        "start_time": "2023-04-12T18:07:56.369Z"
      },
      {
        "duration": 22,
        "start_time": "2023-04-12T18:07:56.382Z"
      },
      {
        "duration": 41,
        "start_time": "2023-04-12T18:07:56.406Z"
      },
      {
        "duration": 1354,
        "start_time": "2023-04-12T18:07:56.449Z"
      },
      {
        "duration": 64,
        "start_time": "2023-04-12T18:07:57.805Z"
      },
      {
        "duration": 10,
        "start_time": "2023-04-12T18:08:35.254Z"
      },
      {
        "duration": 12,
        "start_time": "2023-04-12T18:08:59.464Z"
      },
      {
        "duration": 21,
        "start_time": "2023-04-12T18:13:06.924Z"
      },
      {
        "duration": 19,
        "start_time": "2023-04-12T18:13:20.262Z"
      },
      {
        "duration": 9,
        "start_time": "2023-04-12T18:13:48.439Z"
      },
      {
        "duration": 10,
        "start_time": "2023-04-12T18:14:01.778Z"
      },
      {
        "duration": 55,
        "start_time": "2023-04-12T18:23:31.689Z"
      },
      {
        "duration": 25,
        "start_time": "2023-04-12T18:23:37.703Z"
      },
      {
        "duration": 450,
        "start_time": "2023-04-12T18:25:32.458Z"
      },
      {
        "duration": 19,
        "start_time": "2023-04-12T18:25:32.910Z"
      },
      {
        "duration": 14,
        "start_time": "2023-04-12T18:25:32.931Z"
      },
      {
        "duration": 8,
        "start_time": "2023-04-12T18:25:32.947Z"
      },
      {
        "duration": 31,
        "start_time": "2023-04-12T18:25:32.958Z"
      },
      {
        "duration": 3,
        "start_time": "2023-04-12T18:25:32.990Z"
      },
      {
        "duration": 9,
        "start_time": "2023-04-12T18:25:32.994Z"
      },
      {
        "duration": 4,
        "start_time": "2023-04-12T18:25:33.004Z"
      },
      {
        "duration": 36,
        "start_time": "2023-04-12T18:25:33.009Z"
      },
      {
        "duration": 4,
        "start_time": "2023-04-12T18:25:33.047Z"
      },
      {
        "duration": 32,
        "start_time": "2023-04-12T18:25:33.052Z"
      },
      {
        "duration": 7,
        "start_time": "2023-04-12T18:25:33.085Z"
      },
      {
        "duration": 21,
        "start_time": "2023-04-12T18:25:33.094Z"
      },
      {
        "duration": 28,
        "start_time": "2023-04-12T18:25:33.116Z"
      },
      {
        "duration": 37,
        "start_time": "2023-04-12T18:25:33.146Z"
      },
      {
        "duration": 15,
        "start_time": "2023-04-12T18:25:33.184Z"
      },
      {
        "duration": 4,
        "start_time": "2023-04-12T18:25:33.200Z"
      },
      {
        "duration": 11,
        "start_time": "2023-04-12T18:25:33.205Z"
      },
      {
        "duration": 16,
        "start_time": "2023-04-12T18:25:33.218Z"
      },
      {
        "duration": 10,
        "start_time": "2023-04-12T18:25:33.235Z"
      },
      {
        "duration": 10,
        "start_time": "2023-04-12T18:25:33.246Z"
      },
      {
        "duration": 18,
        "start_time": "2023-04-12T18:25:33.258Z"
      },
      {
        "duration": 8,
        "start_time": "2023-04-12T18:25:33.278Z"
      },
      {
        "duration": 13,
        "start_time": "2023-04-12T18:25:33.288Z"
      },
      {
        "duration": 35,
        "start_time": "2023-04-12T18:25:33.302Z"
      },
      {
        "duration": 10,
        "start_time": "2023-04-12T18:25:33.339Z"
      },
      {
        "duration": 18,
        "start_time": "2023-04-12T18:25:33.351Z"
      },
      {
        "duration": 25,
        "start_time": "2023-04-12T18:25:33.372Z"
      },
      {
        "duration": 19,
        "start_time": "2023-04-12T18:41:13.737Z"
      },
      {
        "duration": 13,
        "start_time": "2023-04-12T18:42:08.542Z"
      },
      {
        "duration": 20,
        "start_time": "2023-04-12T18:46:36.705Z"
      },
      {
        "duration": 12,
        "start_time": "2023-04-12T18:46:38.033Z"
      },
      {
        "duration": 13,
        "start_time": "2023-04-12T18:47:26.381Z"
      },
      {
        "duration": 13,
        "start_time": "2023-04-12T18:47:42.262Z"
      },
      {
        "duration": 468,
        "start_time": "2023-04-12T18:47:58.308Z"
      },
      {
        "duration": 21,
        "start_time": "2023-04-12T18:47:58.778Z"
      },
      {
        "duration": 25,
        "start_time": "2023-04-12T18:47:58.803Z"
      },
      {
        "duration": 17,
        "start_time": "2023-04-12T18:47:58.829Z"
      },
      {
        "duration": 35,
        "start_time": "2023-04-12T18:47:58.848Z"
      },
      {
        "duration": 4,
        "start_time": "2023-04-12T18:47:58.885Z"
      },
      {
        "duration": 10,
        "start_time": "2023-04-12T18:47:58.890Z"
      },
      {
        "duration": 3,
        "start_time": "2023-04-12T18:47:58.902Z"
      },
      {
        "duration": 14,
        "start_time": "2023-04-12T18:47:58.909Z"
      },
      {
        "duration": 14,
        "start_time": "2023-04-12T18:47:58.925Z"
      },
      {
        "duration": 35,
        "start_time": "2023-04-12T18:47:58.941Z"
      },
      {
        "duration": 8,
        "start_time": "2023-04-12T18:47:58.978Z"
      },
      {
        "duration": 3,
        "start_time": "2023-04-12T18:47:58.987Z"
      },
      {
        "duration": 11,
        "start_time": "2023-04-12T18:47:58.992Z"
      },
      {
        "duration": 44,
        "start_time": "2023-04-12T18:47:59.004Z"
      },
      {
        "duration": 16,
        "start_time": "2023-04-12T18:47:59.050Z"
      },
      {
        "duration": 3,
        "start_time": "2023-04-12T18:47:59.067Z"
      },
      {
        "duration": 10,
        "start_time": "2023-04-12T18:47:59.072Z"
      },
      {
        "duration": 6,
        "start_time": "2023-04-12T18:47:59.083Z"
      },
      {
        "duration": 3,
        "start_time": "2023-04-12T18:47:59.090Z"
      },
      {
        "duration": 10,
        "start_time": "2023-04-12T18:47:59.095Z"
      },
      {
        "duration": 19,
        "start_time": "2023-04-12T18:47:59.136Z"
      },
      {
        "duration": 12,
        "start_time": "2023-04-12T18:47:59.156Z"
      },
      {
        "duration": 19,
        "start_time": "2023-04-12T18:47:59.170Z"
      },
      {
        "duration": 12,
        "start_time": "2023-04-12T18:47:59.191Z"
      },
      {
        "duration": 50,
        "start_time": "2023-04-12T18:47:59.204Z"
      },
      {
        "duration": 12,
        "start_time": "2023-04-12T18:47:59.258Z"
      },
      {
        "duration": 24,
        "start_time": "2023-04-12T18:47:59.271Z"
      },
      {
        "duration": 12,
        "start_time": "2023-04-12T18:47:59.297Z"
      },
      {
        "duration": 14,
        "start_time": "2023-04-12T19:25:56.495Z"
      },
      {
        "duration": 13,
        "start_time": "2023-04-12T19:26:17.793Z"
      },
      {
        "duration": 21,
        "start_time": "2023-04-12T19:27:02.740Z"
      },
      {
        "duration": 18,
        "start_time": "2023-04-12T19:27:03.079Z"
      },
      {
        "duration": 21,
        "start_time": "2023-04-12T19:30:23.490Z"
      },
      {
        "duration": 445,
        "start_time": "2023-04-12T19:33:39.619Z"
      },
      {
        "duration": 20,
        "start_time": "2023-04-12T19:33:40.066Z"
      },
      {
        "duration": 13,
        "start_time": "2023-04-12T19:33:40.087Z"
      },
      {
        "duration": 8,
        "start_time": "2023-04-12T19:33:40.102Z"
      },
      {
        "duration": 45,
        "start_time": "2023-04-12T19:33:40.111Z"
      },
      {
        "duration": 3,
        "start_time": "2023-04-12T19:33:40.157Z"
      },
      {
        "duration": 8,
        "start_time": "2023-04-12T19:33:40.162Z"
      },
      {
        "duration": 4,
        "start_time": "2023-04-12T19:33:40.171Z"
      },
      {
        "duration": 8,
        "start_time": "2023-04-12T19:33:40.177Z"
      },
      {
        "duration": 4,
        "start_time": "2023-04-12T19:33:40.188Z"
      },
      {
        "duration": 56,
        "start_time": "2023-04-12T19:33:40.194Z"
      },
      {
        "duration": 9,
        "start_time": "2023-04-12T19:33:40.251Z"
      },
      {
        "duration": 3,
        "start_time": "2023-04-12T19:33:40.262Z"
      },
      {
        "duration": 12,
        "start_time": "2023-04-12T19:33:40.267Z"
      },
      {
        "duration": 17,
        "start_time": "2023-04-12T19:33:40.280Z"
      },
      {
        "duration": 42,
        "start_time": "2023-04-12T19:33:40.299Z"
      },
      {
        "duration": 4,
        "start_time": "2023-04-12T19:33:40.342Z"
      },
      {
        "duration": 9,
        "start_time": "2023-04-12T19:33:40.348Z"
      },
      {
        "duration": 4,
        "start_time": "2023-04-12T19:33:40.359Z"
      },
      {
        "duration": 3,
        "start_time": "2023-04-12T19:33:40.365Z"
      },
      {
        "duration": 36,
        "start_time": "2023-04-12T19:33:40.369Z"
      },
      {
        "duration": 23,
        "start_time": "2023-04-12T19:33:40.407Z"
      },
      {
        "duration": 13,
        "start_time": "2023-04-12T19:33:40.432Z"
      },
      {
        "duration": 18,
        "start_time": "2023-04-12T19:33:40.447Z"
      },
      {
        "duration": 13,
        "start_time": "2023-04-12T19:33:40.467Z"
      },
      {
        "duration": 20,
        "start_time": "2023-04-12T19:33:40.481Z"
      },
      {
        "duration": 33,
        "start_time": "2023-04-12T19:33:40.502Z"
      },
      {
        "duration": 20,
        "start_time": "2023-04-12T19:33:40.538Z"
      },
      {
        "duration": 13,
        "start_time": "2023-04-12T19:33:40.559Z"
      },
      {
        "duration": 478,
        "start_time": "2023-04-12T20:15:08.204Z"
      },
      {
        "duration": 21,
        "start_time": "2023-04-12T20:15:08.684Z"
      },
      {
        "duration": 15,
        "start_time": "2023-04-12T20:15:08.706Z"
      },
      {
        "duration": 21,
        "start_time": "2023-04-12T20:15:08.722Z"
      },
      {
        "duration": 32,
        "start_time": "2023-04-12T20:15:08.745Z"
      },
      {
        "duration": 3,
        "start_time": "2023-04-12T20:15:08.779Z"
      },
      {
        "duration": 12,
        "start_time": "2023-04-12T20:15:08.784Z"
      },
      {
        "duration": 3,
        "start_time": "2023-04-12T20:15:08.798Z"
      },
      {
        "duration": 33,
        "start_time": "2023-04-12T20:15:08.803Z"
      },
      {
        "duration": 4,
        "start_time": "2023-04-12T20:15:08.838Z"
      },
      {
        "duration": 39,
        "start_time": "2023-04-12T20:15:08.843Z"
      },
      {
        "duration": 9,
        "start_time": "2023-04-12T20:15:08.883Z"
      },
      {
        "duration": 3,
        "start_time": "2023-04-12T20:15:08.894Z"
      },
      {
        "duration": 16,
        "start_time": "2023-04-12T20:15:08.900Z"
      },
      {
        "duration": 38,
        "start_time": "2023-04-12T20:15:08.918Z"
      },
      {
        "duration": 15,
        "start_time": "2023-04-12T20:15:08.958Z"
      },
      {
        "duration": 4,
        "start_time": "2023-04-12T20:15:08.974Z"
      },
      {
        "duration": 10,
        "start_time": "2023-04-12T20:15:08.979Z"
      },
      {
        "duration": 7,
        "start_time": "2023-04-12T20:15:08.990Z"
      },
      {
        "duration": 3,
        "start_time": "2023-04-12T20:15:08.999Z"
      },
      {
        "duration": 34,
        "start_time": "2023-04-12T20:15:09.003Z"
      },
      {
        "duration": 23,
        "start_time": "2023-04-12T20:15:09.039Z"
      },
      {
        "duration": 13,
        "start_time": "2023-04-12T20:15:09.063Z"
      },
      {
        "duration": 23,
        "start_time": "2023-04-12T20:15:09.077Z"
      },
      {
        "duration": 11,
        "start_time": "2023-04-12T20:15:09.101Z"
      },
      {
        "duration": 18,
        "start_time": "2023-04-12T20:15:09.136Z"
      },
      {
        "duration": 12,
        "start_time": "2023-04-12T20:15:09.155Z"
      },
      {
        "duration": 20,
        "start_time": "2023-04-12T20:15:09.169Z"
      },
      {
        "duration": 12,
        "start_time": "2023-04-12T20:15:09.191Z"
      },
      {
        "duration": 482,
        "start_time": "2023-04-12T20:25:37.276Z"
      },
      {
        "duration": 23,
        "start_time": "2023-04-12T20:25:37.760Z"
      },
      {
        "duration": 26,
        "start_time": "2023-04-12T20:25:37.785Z"
      },
      {
        "duration": 11,
        "start_time": "2023-04-12T20:25:37.814Z"
      },
      {
        "duration": 35,
        "start_time": "2023-04-12T20:25:37.826Z"
      },
      {
        "duration": 3,
        "start_time": "2023-04-12T20:25:37.863Z"
      },
      {
        "duration": 32,
        "start_time": "2023-04-12T20:25:37.869Z"
      },
      {
        "duration": 5,
        "start_time": "2023-04-12T20:25:37.903Z"
      },
      {
        "duration": 9,
        "start_time": "2023-04-12T20:25:37.909Z"
      },
      {
        "duration": 5,
        "start_time": "2023-04-12T20:25:37.921Z"
      },
      {
        "duration": 34,
        "start_time": "2023-04-12T20:25:37.927Z"
      },
      {
        "duration": 32,
        "start_time": "2023-04-12T20:25:37.963Z"
      },
      {
        "duration": 17,
        "start_time": "2023-04-12T20:25:37.997Z"
      },
      {
        "duration": 17,
        "start_time": "2023-04-12T20:25:38.015Z"
      },
      {
        "duration": 19,
        "start_time": "2023-04-12T20:25:38.034Z"
      },
      {
        "duration": 17,
        "start_time": "2023-04-12T20:25:38.054Z"
      },
      {
        "duration": 25,
        "start_time": "2023-04-12T20:25:38.073Z"
      },
      {
        "duration": 14,
        "start_time": "2023-04-12T20:25:38.100Z"
      },
      {
        "duration": 12,
        "start_time": "2023-04-12T20:25:38.115Z"
      },
      {
        "duration": 11,
        "start_time": "2023-04-12T20:25:38.129Z"
      },
      {
        "duration": 16,
        "start_time": "2023-04-12T20:25:38.142Z"
      },
      {
        "duration": 26,
        "start_time": "2023-04-12T20:25:38.159Z"
      },
      {
        "duration": 14,
        "start_time": "2023-04-12T20:25:38.187Z"
      },
      {
        "duration": 22,
        "start_time": "2023-04-12T20:25:38.202Z"
      },
      {
        "duration": 13,
        "start_time": "2023-04-12T20:25:38.226Z"
      },
      {
        "duration": 21,
        "start_time": "2023-04-12T20:25:38.240Z"
      },
      {
        "duration": 48,
        "start_time": "2023-04-12T20:25:38.262Z"
      },
      {
        "duration": 22,
        "start_time": "2023-04-12T20:25:38.314Z"
      },
      {
        "duration": 14,
        "start_time": "2023-04-12T20:25:38.338Z"
      },
      {
        "duration": 51,
        "start_time": "2023-04-12T20:45:15.217Z"
      },
      {
        "duration": 41,
        "start_time": "2023-04-12T20:45:20.547Z"
      }
    ],
    "colab": {
      "name": "dpp_template_part2.ipynb",
      "provenance": []
    },
    "toc": {
      "base_numbering": 1,
      "nav_menu": {},
      "number_sections": true,
      "sideBar": true,
      "skip_h1_title": true,
      "title_cell": "Table of Contents",
      "title_sidebar": "Contents",
      "toc_cell": false,
      "toc_position": {},
      "toc_section_display": true,
      "toc_window_display": false
    }
  },
  "nbformat_minor": 5,
  "nbformat": 4,
  "cells": [
    {
      "id": "40765258",
      "cell_type": "markdown",
      "source": "# Исследование надежности заемщиков\n",
      "metadata": {
        "deletable": true,
        "editable": true,
        "id": "c81daeeb"
      }
    },
    {
      "id": "438e2acc",
      "cell_type": "code",
      "source": "import pandas as pd\n\ntry:\n    data = pd.read_csv('/datasets/data.csv')\nexcept:\n    data = pd.read_csv('https://code.s3.yandex.net/datasets/data.csv')",
      "metadata": {
        "deletable": true,
        "id": "7bcf75c9"
      },
      "outputs": [],
      "execution_count": 1
    },
    {
      "id": "f3d92620",
      "cell_type": "code",
      "source": "data.head(20)",
      "metadata": {
        "deletable": true,
        "id": "2a7cab99",
        "outputId": "1a8f3ef2-d323-4ec2-ddf7-89670b5944c4"
      },
      "outputs": [
        {
          "data": {
            "text/html": [
              "<div>\n",
              "<style scoped>\n",
              "    .dataframe tbody tr th:only-of-type {\n",
              "        vertical-align: middle;\n",
              "    }\n",
              "\n",
              "    .dataframe tbody tr th {\n",
              "        vertical-align: top;\n",
              "    }\n",
              "\n",
              "    .dataframe thead th {\n",
              "        text-align: right;\n",
              "    }\n",
              "</style>\n",
              "<table border=\"1\" class=\"dataframe\">\n",
              "  <thead>\n",
              "    <tr style=\"text-align: right;\">\n",
              "      <th></th>\n",
              "      <th>children</th>\n",
              "      <th>days_employed</th>\n",
              "      <th>dob_years</th>\n",
              "      <th>education</th>\n",
              "      <th>education_id</th>\n",
              "      <th>family_status</th>\n",
              "      <th>family_status_id</th>\n",
              "      <th>gender</th>\n",
              "      <th>income_type</th>\n",
              "      <th>debt</th>\n",
              "      <th>total_income</th>\n",
              "      <th>purpose</th>\n",
              "    </tr>\n",
              "  </thead>\n",
              "  <tbody>\n",
              "    <tr>\n",
              "      <th>0</th>\n",
              "      <td>1</td>\n",
              "      <td>-8437.673028</td>\n",
              "      <td>42</td>\n",
              "      <td>высшее</td>\n",
              "      <td>0</td>\n",
              "      <td>женат / замужем</td>\n",
              "      <td>0</td>\n",
              "      <td>F</td>\n",
              "      <td>сотрудник</td>\n",
              "      <td>0</td>\n",
              "      <td>253875.639453</td>\n",
              "      <td>покупка жилья</td>\n",
              "    </tr>\n",
              "    <tr>\n",
              "      <th>1</th>\n",
              "      <td>1</td>\n",
              "      <td>-4024.803754</td>\n",
              "      <td>36</td>\n",
              "      <td>среднее</td>\n",
              "      <td>1</td>\n",
              "      <td>женат / замужем</td>\n",
              "      <td>0</td>\n",
              "      <td>F</td>\n",
              "      <td>сотрудник</td>\n",
              "      <td>0</td>\n",
              "      <td>112080.014102</td>\n",
              "      <td>приобретение автомобиля</td>\n",
              "    </tr>\n",
              "    <tr>\n",
              "      <th>2</th>\n",
              "      <td>0</td>\n",
              "      <td>-5623.422610</td>\n",
              "      <td>33</td>\n",
              "      <td>Среднее</td>\n",
              "      <td>1</td>\n",
              "      <td>женат / замужем</td>\n",
              "      <td>0</td>\n",
              "      <td>M</td>\n",
              "      <td>сотрудник</td>\n",
              "      <td>0</td>\n",
              "      <td>145885.952297</td>\n",
              "      <td>покупка жилья</td>\n",
              "    </tr>\n",
              "    <tr>\n",
              "      <th>3</th>\n",
              "      <td>3</td>\n",
              "      <td>-4124.747207</td>\n",
              "      <td>32</td>\n",
              "      <td>среднее</td>\n",
              "      <td>1</td>\n",
              "      <td>женат / замужем</td>\n",
              "      <td>0</td>\n",
              "      <td>M</td>\n",
              "      <td>сотрудник</td>\n",
              "      <td>0</td>\n",
              "      <td>267628.550329</td>\n",
              "      <td>дополнительное образование</td>\n",
              "    </tr>\n",
              "    <tr>\n",
              "      <th>4</th>\n",
              "      <td>0</td>\n",
              "      <td>340266.072047</td>\n",
              "      <td>53</td>\n",
              "      <td>среднее</td>\n",
              "      <td>1</td>\n",
              "      <td>гражданский брак</td>\n",
              "      <td>1</td>\n",
              "      <td>F</td>\n",
              "      <td>пенсионер</td>\n",
              "      <td>0</td>\n",
              "      <td>158616.077870</td>\n",
              "      <td>сыграть свадьбу</td>\n",
              "    </tr>\n",
              "    <tr>\n",
              "      <th>5</th>\n",
              "      <td>0</td>\n",
              "      <td>-926.185831</td>\n",
              "      <td>27</td>\n",
              "      <td>высшее</td>\n",
              "      <td>0</td>\n",
              "      <td>гражданский брак</td>\n",
              "      <td>1</td>\n",
              "      <td>M</td>\n",
              "      <td>компаньон</td>\n",
              "      <td>0</td>\n",
              "      <td>255763.565419</td>\n",
              "      <td>покупка жилья</td>\n",
              "    </tr>\n",
              "    <tr>\n",
              "      <th>6</th>\n",
              "      <td>0</td>\n",
              "      <td>-2879.202052</td>\n",
              "      <td>43</td>\n",
              "      <td>высшее</td>\n",
              "      <td>0</td>\n",
              "      <td>женат / замужем</td>\n",
              "      <td>0</td>\n",
              "      <td>F</td>\n",
              "      <td>компаньон</td>\n",
              "      <td>0</td>\n",
              "      <td>240525.971920</td>\n",
              "      <td>операции с жильем</td>\n",
              "    </tr>\n",
              "    <tr>\n",
              "      <th>7</th>\n",
              "      <td>0</td>\n",
              "      <td>-152.779569</td>\n",
              "      <td>50</td>\n",
              "      <td>СРЕДНЕЕ</td>\n",
              "      <td>1</td>\n",
              "      <td>женат / замужем</td>\n",
              "      <td>0</td>\n",
              "      <td>M</td>\n",
              "      <td>сотрудник</td>\n",
              "      <td>0</td>\n",
              "      <td>135823.934197</td>\n",
              "      <td>образование</td>\n",
              "    </tr>\n",
              "    <tr>\n",
              "      <th>8</th>\n",
              "      <td>2</td>\n",
              "      <td>-6929.865299</td>\n",
              "      <td>35</td>\n",
              "      <td>ВЫСШЕЕ</td>\n",
              "      <td>0</td>\n",
              "      <td>гражданский брак</td>\n",
              "      <td>1</td>\n",
              "      <td>F</td>\n",
              "      <td>сотрудник</td>\n",
              "      <td>0</td>\n",
              "      <td>95856.832424</td>\n",
              "      <td>на проведение свадьбы</td>\n",
              "    </tr>\n",
              "    <tr>\n",
              "      <th>9</th>\n",
              "      <td>0</td>\n",
              "      <td>-2188.756445</td>\n",
              "      <td>41</td>\n",
              "      <td>среднее</td>\n",
              "      <td>1</td>\n",
              "      <td>женат / замужем</td>\n",
              "      <td>0</td>\n",
              "      <td>M</td>\n",
              "      <td>сотрудник</td>\n",
              "      <td>0</td>\n",
              "      <td>144425.938277</td>\n",
              "      <td>покупка жилья для семьи</td>\n",
              "    </tr>\n",
              "    <tr>\n",
              "      <th>10</th>\n",
              "      <td>2</td>\n",
              "      <td>-4171.483647</td>\n",
              "      <td>36</td>\n",
              "      <td>высшее</td>\n",
              "      <td>0</td>\n",
              "      <td>женат / замужем</td>\n",
              "      <td>0</td>\n",
              "      <td>M</td>\n",
              "      <td>компаньон</td>\n",
              "      <td>0</td>\n",
              "      <td>113943.491460</td>\n",
              "      <td>покупка недвижимости</td>\n",
              "    </tr>\n",
              "    <tr>\n",
              "      <th>11</th>\n",
              "      <td>0</td>\n",
              "      <td>-792.701887</td>\n",
              "      <td>40</td>\n",
              "      <td>среднее</td>\n",
              "      <td>1</td>\n",
              "      <td>женат / замужем</td>\n",
              "      <td>0</td>\n",
              "      <td>F</td>\n",
              "      <td>сотрудник</td>\n",
              "      <td>0</td>\n",
              "      <td>77069.234271</td>\n",
              "      <td>покупка коммерческой недвижимости</td>\n",
              "    </tr>\n",
              "    <tr>\n",
              "      <th>12</th>\n",
              "      <td>0</td>\n",
              "      <td>NaN</td>\n",
              "      <td>65</td>\n",
              "      <td>среднее</td>\n",
              "      <td>1</td>\n",
              "      <td>гражданский брак</td>\n",
              "      <td>1</td>\n",
              "      <td>M</td>\n",
              "      <td>пенсионер</td>\n",
              "      <td>0</td>\n",
              "      <td>NaN</td>\n",
              "      <td>сыграть свадьбу</td>\n",
              "    </tr>\n",
              "    <tr>\n",
              "      <th>13</th>\n",
              "      <td>0</td>\n",
              "      <td>-1846.641941</td>\n",
              "      <td>54</td>\n",
              "      <td>неоконченное высшее</td>\n",
              "      <td>2</td>\n",
              "      <td>женат / замужем</td>\n",
              "      <td>0</td>\n",
              "      <td>F</td>\n",
              "      <td>сотрудник</td>\n",
              "      <td>0</td>\n",
              "      <td>130458.228857</td>\n",
              "      <td>приобретение автомобиля</td>\n",
              "    </tr>\n",
              "    <tr>\n",
              "      <th>14</th>\n",
              "      <td>0</td>\n",
              "      <td>-1844.956182</td>\n",
              "      <td>56</td>\n",
              "      <td>высшее</td>\n",
              "      <td>0</td>\n",
              "      <td>гражданский брак</td>\n",
              "      <td>1</td>\n",
              "      <td>F</td>\n",
              "      <td>компаньон</td>\n",
              "      <td>1</td>\n",
              "      <td>165127.911772</td>\n",
              "      <td>покупка жилой недвижимости</td>\n",
              "    </tr>\n",
              "    <tr>\n",
              "      <th>15</th>\n",
              "      <td>1</td>\n",
              "      <td>-972.364419</td>\n",
              "      <td>26</td>\n",
              "      <td>среднее</td>\n",
              "      <td>1</td>\n",
              "      <td>женат / замужем</td>\n",
              "      <td>0</td>\n",
              "      <td>F</td>\n",
              "      <td>сотрудник</td>\n",
              "      <td>0</td>\n",
              "      <td>116820.904450</td>\n",
              "      <td>строительство собственной недвижимости</td>\n",
              "    </tr>\n",
              "    <tr>\n",
              "      <th>16</th>\n",
              "      <td>0</td>\n",
              "      <td>-1719.934226</td>\n",
              "      <td>35</td>\n",
              "      <td>среднее</td>\n",
              "      <td>1</td>\n",
              "      <td>женат / замужем</td>\n",
              "      <td>0</td>\n",
              "      <td>F</td>\n",
              "      <td>сотрудник</td>\n",
              "      <td>0</td>\n",
              "      <td>289202.704229</td>\n",
              "      <td>недвижимость</td>\n",
              "    </tr>\n",
              "    <tr>\n",
              "      <th>17</th>\n",
              "      <td>0</td>\n",
              "      <td>-2369.999720</td>\n",
              "      <td>33</td>\n",
              "      <td>высшее</td>\n",
              "      <td>0</td>\n",
              "      <td>гражданский брак</td>\n",
              "      <td>1</td>\n",
              "      <td>M</td>\n",
              "      <td>сотрудник</td>\n",
              "      <td>0</td>\n",
              "      <td>90410.586745</td>\n",
              "      <td>строительство недвижимости</td>\n",
              "    </tr>\n",
              "    <tr>\n",
              "      <th>18</th>\n",
              "      <td>0</td>\n",
              "      <td>400281.136913</td>\n",
              "      <td>53</td>\n",
              "      <td>среднее</td>\n",
              "      <td>1</td>\n",
              "      <td>вдовец / вдова</td>\n",
              "      <td>2</td>\n",
              "      <td>F</td>\n",
              "      <td>пенсионер</td>\n",
              "      <td>0</td>\n",
              "      <td>56823.777243</td>\n",
              "      <td>на покупку подержанного автомобиля</td>\n",
              "    </tr>\n",
              "    <tr>\n",
              "      <th>19</th>\n",
              "      <td>0</td>\n",
              "      <td>-10038.818549</td>\n",
              "      <td>48</td>\n",
              "      <td>СРЕДНЕЕ</td>\n",
              "      <td>1</td>\n",
              "      <td>в разводе</td>\n",
              "      <td>3</td>\n",
              "      <td>F</td>\n",
              "      <td>сотрудник</td>\n",
              "      <td>0</td>\n",
              "      <td>242831.107982</td>\n",
              "      <td>на покупку своего автомобиля</td>\n",
              "    </tr>\n",
              "  </tbody>\n",
              "</table>\n",
              "</div>"
            ],
            "text/plain": [
              "    children  days_employed  dob_years            education  education_id  \\\n",
              "0          1   -8437.673028         42               высшее             0   \n",
              "1          1   -4024.803754         36              среднее             1   \n",
              "2          0   -5623.422610         33              Среднее             1   \n",
              "3          3   -4124.747207         32              среднее             1   \n",
              "4          0  340266.072047         53              среднее             1   \n",
              "5          0    -926.185831         27               высшее             0   \n",
              "6          0   -2879.202052         43               высшее             0   \n",
              "7          0    -152.779569         50              СРЕДНЕЕ             1   \n",
              "8          2   -6929.865299         35               ВЫСШЕЕ             0   \n",
              "9          0   -2188.756445         41              среднее             1   \n",
              "10         2   -4171.483647         36               высшее             0   \n",
              "11         0    -792.701887         40              среднее             1   \n",
              "12         0            NaN         65              среднее             1   \n",
              "13         0   -1846.641941         54  неоконченное высшее             2   \n",
              "14         0   -1844.956182         56               высшее             0   \n",
              "15         1    -972.364419         26              среднее             1   \n",
              "16         0   -1719.934226         35              среднее             1   \n",
              "17         0   -2369.999720         33               высшее             0   \n",
              "18         0  400281.136913         53              среднее             1   \n",
              "19         0  -10038.818549         48              СРЕДНЕЕ             1   \n",
              "\n",
              "       family_status  family_status_id gender income_type  debt  \\\n",
              "0    женат / замужем                 0      F   сотрудник     0   \n",
              "1    женат / замужем                 0      F   сотрудник     0   \n",
              "2    женат / замужем                 0      M   сотрудник     0   \n",
              "3    женат / замужем                 0      M   сотрудник     0   \n",
              "4   гражданский брак                 1      F   пенсионер     0   \n",
              "5   гражданский брак                 1      M   компаньон     0   \n",
              "6    женат / замужем                 0      F   компаньон     0   \n",
              "7    женат / замужем                 0      M   сотрудник     0   \n",
              "8   гражданский брак                 1      F   сотрудник     0   \n",
              "9    женат / замужем                 0      M   сотрудник     0   \n",
              "10   женат / замужем                 0      M   компаньон     0   \n",
              "11   женат / замужем                 0      F   сотрудник     0   \n",
              "12  гражданский брак                 1      M   пенсионер     0   \n",
              "13   женат / замужем                 0      F   сотрудник     0   \n",
              "14  гражданский брак                 1      F   компаньон     1   \n",
              "15   женат / замужем                 0      F   сотрудник     0   \n",
              "16   женат / замужем                 0      F   сотрудник     0   \n",
              "17  гражданский брак                 1      M   сотрудник     0   \n",
              "18    вдовец / вдова                 2      F   пенсионер     0   \n",
              "19         в разводе                 3      F   сотрудник     0   \n",
              "\n",
              "     total_income                                 purpose  \n",
              "0   253875.639453                           покупка жилья  \n",
              "1   112080.014102                 приобретение автомобиля  \n",
              "2   145885.952297                           покупка жилья  \n",
              "3   267628.550329              дополнительное образование  \n",
              "4   158616.077870                         сыграть свадьбу  \n",
              "5   255763.565419                           покупка жилья  \n",
              "6   240525.971920                       операции с жильем  \n",
              "7   135823.934197                             образование  \n",
              "8    95856.832424                   на проведение свадьбы  \n",
              "9   144425.938277                 покупка жилья для семьи  \n",
              "10  113943.491460                    покупка недвижимости  \n",
              "11   77069.234271       покупка коммерческой недвижимости  \n",
              "12            NaN                         сыграть свадьбу  \n",
              "13  130458.228857                 приобретение автомобиля  \n",
              "14  165127.911772              покупка жилой недвижимости  \n",
              "15  116820.904450  строительство собственной недвижимости  \n",
              "16  289202.704229                            недвижимость  \n",
              "17   90410.586745              строительство недвижимости  \n",
              "18   56823.777243      на покупку подержанного автомобиля  \n",
              "19  242831.107982            на покупку своего автомобиля  "
            ]
          },
          "execution_count": 2,
          "metadata": {},
          "output_type": "execute_result"
        }
      ],
      "execution_count": 2
    },
    {
      "id": "ea6a8934",
      "cell_type": "code",
      "source": "data.info()",
      "metadata": {
        "deletable": true,
        "id": "2b757bca",
        "outputId": "15376089-8dad-46c9-b520-c05248d43158"
      },
      "outputs": [
        {
          "name": "stdout",
          "output_type": "stream",
          "text": [
            "<class 'pandas.core.frame.DataFrame'>\n",
            "RangeIndex: 21525 entries, 0 to 21524\n",
            "Data columns (total 12 columns):\n",
            " #   Column            Non-Null Count  Dtype  \n",
            "---  ------            --------------  -----  \n",
            " 0   children          21525 non-null  int64  \n",
            " 1   days_employed     19351 non-null  float64\n",
            " 2   dob_years         21525 non-null  int64  \n",
            " 3   education         21525 non-null  object \n",
            " 4   education_id      21525 non-null  int64  \n",
            " 5   family_status     21525 non-null  object \n",
            " 6   family_status_id  21525 non-null  int64  \n",
            " 7   gender            21525 non-null  object \n",
            " 8   income_type       21525 non-null  object \n",
            " 9   debt              21525 non-null  int64  \n",
            " 10  total_income      19351 non-null  float64\n",
            " 11  purpose           21525 non-null  object \n",
            "dtypes: float64(2), int64(5), object(5)\n",
            "memory usage: 2.0+ MB\n"
          ]
        }
      ],
      "execution_count": 3
    },
    {
      "id": "a9be8917",
      "cell_type": "markdown",
      "source": "## Предобработка данных",
      "metadata": {
        "deletable": true,
        "editable": true,
        "id": "333ec665"
      }
    },
    {
      "id": "665b5959",
      "cell_type": "markdown",
      "source": "### Удаление пропусков",
      "metadata": {
        "deletable": true,
        "editable": true,
        "id": "02d92d53"
      }
    },
    {
      "id": "85157e4a",
      "cell_type": "code",
      "source": "data.isna().sum()",
      "metadata": {
        "deletable": true,
        "id": "7f9b2309",
        "outputId": "81f4d817-781c-465c-ed15-91ce4446810d"
      },
      "outputs": [
        {
          "data": {
            "text/plain": [
              "children               0\n",
              "days_employed       2174\n",
              "dob_years              0\n",
              "education              0\n",
              "education_id           0\n",
              "family_status          0\n",
              "family_status_id       0\n",
              "gender                 0\n",
              "income_type            0\n",
              "debt                   0\n",
              "total_income        2174\n",
              "purpose                0\n",
              "dtype: int64"
            ]
          },
          "execution_count": 4,
          "metadata": {},
          "output_type": "execute_result"
        }
      ],
      "execution_count": 4
    },
    {
      "id": "7474094b",
      "cell_type": "code",
      "source": "for t in data['income_type'].unique():\n    data.loc[(data['income_type'] == t) & (data['total_income'].isna()), 'total_income'] = \\\n    data.loc[(data['income_type'] == t), 'total_income'].median()",
      "metadata": {
        "deletable": true,
        "id": "42006a93"
      },
      "outputs": [],
      "execution_count": 5
    },
    {
      "id": "d60f5164",
      "cell_type": "markdown",
      "source": "### Обработка аномальных значений",
      "metadata": {
        "deletable": true,
        "editable": true,
        "id": "89da5ece"
      }
    },
    {
      "id": "4afd6a34",
      "cell_type": "code",
      "source": "data['days_employed'] = data['days_employed'].abs()",
      "metadata": {
        "deletable": true,
        "id": "f6f055bf"
      },
      "outputs": [],
      "execution_count": 6
    },
    {
      "id": "43a02b70",
      "cell_type": "code",
      "source": "data.groupby('income_type')['days_employed'].agg('median')",
      "metadata": {
        "deletable": true,
        "id": "85a5faf6",
        "outputId": "801ef80e-522b-4668-f34e-565af7432bcf"
      },
      "outputs": [
        {
          "data": {
            "text/plain": [
              "income_type\n",
              "безработный        366413.652744\n",
              "в декрете            3296.759962\n",
              "госслужащий          2689.368353\n",
              "компаньон            1547.382223\n",
              "пенсионер          365213.306266\n",
              "предприниматель       520.848083\n",
              "сотрудник            1574.202821\n",
              "студент               578.751554\n",
              "Name: days_employed, dtype: float64"
            ]
          },
          "execution_count": 7,
          "metadata": {},
          "output_type": "execute_result"
        }
      ],
      "execution_count": 7
    },
    {
      "id": "b7df5df6",
      "cell_type": "markdown",
      "source": "У двух типов (безработные и пенсионеры) получатся аномально большие значения. Исправить такие значения сложно, поэтому оставьте их как есть. Тем более этот столбец не понадобится вам для исследования.",
      "metadata": {
        "deletable": true,
        "editable": true,
        "id": "38d1a030"
      }
    },
    {
      "id": "0e0b215b",
      "cell_type": "code",
      "source": "data['children'].unique()",
      "metadata": {
        "deletable": true,
        "id": "ef5056eb",
        "outputId": "6975b15c-7f95-4697-d16d-a0c79b657b03"
      },
      "outputs": [
        {
          "data": {
            "text/plain": [
              "array([ 1,  0,  3,  2, -1,  4, 20,  5])"
            ]
          },
          "execution_count": 8,
          "metadata": {},
          "output_type": "execute_result"
        }
      ],
      "execution_count": 8
    },
    {
      "id": "493715f6",
      "cell_type": "code",
      "source": "data = data[(data['children'] != -1) & (data['children'] != 20)]",
      "metadata": {
        "deletable": true,
        "id": "3ff9801d"
      },
      "outputs": [],
      "execution_count": 9
    },
    {
      "id": "361f9b56",
      "cell_type": "code",
      "source": "data['children'].unique()",
      "metadata": {
        "deletable": true,
        "id": "ad4fa8b7",
        "outputId": "b2097101-d49d-44d9-901b-32a65c9463d1"
      },
      "outputs": [
        {
          "data": {
            "text/plain": [
              "array([1, 0, 3, 2, 4, 5])"
            ]
          },
          "execution_count": 10,
          "metadata": {},
          "output_type": "execute_result"
        }
      ],
      "execution_count": 10
    },
    {
      "id": "64a80577",
      "cell_type": "markdown",
      "source": "### Удаление пропусков (продолжение)",
      "metadata": {
        "deletable": true,
        "editable": true,
        "id": "75440b63"
      }
    },
    {
      "id": "907554af",
      "cell_type": "code",
      "source": "for t in data['income_type'].unique():\n    data.loc[(data['income_type'] == t) & (data['days_employed'].isna()), 'days_employed'] = \\\n    data.loc[(data['income_type'] == t), 'days_employed'].median()",
      "metadata": {
        "deletable": true,
        "id": "af6b1a7e"
      },
      "outputs": [],
      "execution_count": 11
    },
    {
      "id": "e18238f5",
      "cell_type": "code",
      "source": "data.isna().sum()",
      "metadata": {
        "deletable": true,
        "id": "55f78bc2",
        "outputId": "8da1e4e1-358e-4e87-98c9-f261bce0a7b2"
      },
      "outputs": [
        {
          "data": {
            "text/plain": [
              "children            0\n",
              "days_employed       0\n",
              "dob_years           0\n",
              "education           0\n",
              "education_id        0\n",
              "family_status       0\n",
              "family_status_id    0\n",
              "gender              0\n",
              "income_type         0\n",
              "debt                0\n",
              "total_income        0\n",
              "purpose             0\n",
              "dtype: int64"
            ]
          },
          "execution_count": 12,
          "metadata": {},
          "output_type": "execute_result"
        }
      ],
      "execution_count": 12
    },
    {
      "id": "b8d23c47",
      "cell_type": "markdown",
      "source": "### Изменение типов данных",
      "metadata": {
        "deletable": true,
        "editable": true,
        "id": "ddc81e43"
      }
    },
    {
      "id": "83e2bff5",
      "cell_type": "code",
      "source": "data['total_income'] = data['total_income'].astype(int)",
      "metadata": {
        "deletable": true,
        "id": "920b65ad"
      },
      "outputs": [],
      "execution_count": 13
    },
    {
      "id": "506586c5",
      "cell_type": "markdown",
      "source": "### Обработка дубликатов",
      "metadata": {
        "deletable": true,
        "editable": true,
        "id": "80c420ba"
      }
    },
    {
      "id": "61916023",
      "cell_type": "code",
      "source": "data['education'] = data['education'].str.lower()",
      "metadata": {
        "deletable": true
      },
      "outputs": [],
      "execution_count": 14
    },
    {
      "id": "5d644e2d",
      "cell_type": "code",
      "source": "data.duplicated().sum()",
      "metadata": {
        "deletable": true,
        "id": "3ee445e4",
        "outputId": "9684deba-1934-42d1-99e1-cda61740f822"
      },
      "outputs": [
        {
          "data": {
            "text/plain": [
              "71"
            ]
          },
          "execution_count": 15,
          "metadata": {},
          "output_type": "execute_result"
        }
      ],
      "execution_count": 15
    },
    {
      "id": "afe87836",
      "cell_type": "code",
      "source": "data = data.drop_duplicates()",
      "metadata": {
        "deletable": true,
        "id": "8575fe05"
      },
      "outputs": [],
      "execution_count": 16
    },
    {
      "id": "4371e18a",
      "cell_type": "markdown",
      "source": "### Категоризация данных",
      "metadata": {
        "deletable": true,
        "editable": true,
        "id": "9904cf55"
      }
    },
    {
      "id": "fb716beb",
      "cell_type": "code",
      "source": "def categorize_income(income):\n    try:\n        if 0 <= income <= 30000:\n            return 'E'\n        elif 30001 <= income <= 50000:\n            return 'D'\n        elif 50001 <= income <= 200000:\n            return 'C'\n        elif 200001 <= income <= 1000000:\n            return 'B'\n        elif income >= 1000001:\n            return 'A'\n    except:\n        pass",
      "metadata": {
        "deletable": true,
        "id": "e1771346"
      },
      "outputs": [],
      "execution_count": 17
    },
    {
      "id": "e74825e7",
      "cell_type": "code",
      "source": "data['total_income_category'] = data['total_income'].apply(categorize_income)",
      "metadata": {
        "deletable": true,
        "id": "d5f3586d"
      },
      "outputs": [],
      "execution_count": 18
    },
    {
      "id": "9e6c1f32",
      "cell_type": "code",
      "source": "data['purpose'].unique()",
      "metadata": {
        "deletable": true,
        "id": "f67ce9b3",
        "outputId": "673c12d9-7d7e-4ae0-9812-c622c89dd244"
      },
      "outputs": [
        {
          "data": {
            "text/plain": [
              "array(['покупка жилья', 'приобретение автомобиля',\n",
              "       'дополнительное образование', 'сыграть свадьбу',\n",
              "       'операции с жильем', 'образование', 'на проведение свадьбы',\n",
              "       'покупка жилья для семьи', 'покупка недвижимости',\n",
              "       'покупка коммерческой недвижимости', 'покупка жилой недвижимости',\n",
              "       'строительство собственной недвижимости', 'недвижимость',\n",
              "       'строительство недвижимости', 'на покупку подержанного автомобиля',\n",
              "       'на покупку своего автомобиля',\n",
              "       'операции с коммерческой недвижимостью',\n",
              "       'строительство жилой недвижимости', 'жилье',\n",
              "       'операции со своей недвижимостью', 'автомобили',\n",
              "       'заняться образованием', 'сделка с подержанным автомобилем',\n",
              "       'получение образования', 'автомобиль', 'свадьба',\n",
              "       'получение дополнительного образования', 'покупка своего жилья',\n",
              "       'операции с недвижимостью', 'получение высшего образования',\n",
              "       'свой автомобиль', 'сделка с автомобилем',\n",
              "       'профильное образование', 'высшее образование',\n",
              "       'покупка жилья для сдачи', 'на покупку автомобиля', 'ремонт жилью',\n",
              "       'заняться высшим образованием'], dtype=object)"
            ]
          },
          "execution_count": 19,
          "metadata": {},
          "output_type": "execute_result"
        }
      ],
      "execution_count": 19
    },
    {
      "id": "525892df",
      "cell_type": "code",
      "source": "def categorize_purpose(row):\n    try:\n        if 'автом' in row:\n            return 'операции с автомобилем'\n        elif 'жил' in row or 'недвиж' in row:\n            return 'операции с недвижимостью'\n        elif 'свад' in row:\n            return 'проведение свадьбы'\n        elif 'образов' in row:\n            return 'получение образования'\n    except:\n        return 'нет категории'",
      "metadata": {
        "deletable": true,
        "id": "e149fab4"
      },
      "outputs": [],
      "execution_count": 20
    },
    {
      "id": "93a4ee49",
      "cell_type": "code",
      "source": "data['purpose_category'] = data['purpose'].apply(categorize_purpose)",
      "metadata": {
        "deletable": true,
        "id": "bf36e69b"
      },
      "outputs": [],
      "execution_count": 21
    },
    {
      "id": "1def0b4a",
      "cell_type": "markdown",
      "source": "# Шаг 3. Исследуем данные и ответьте на вопросы",
      "metadata": {
        "deletable": true,
        "editable": true,
        "id": "09b242bf"
      }
    },
    {
      "id": "bb9e6cee",
      "cell_type": "markdown",
      "source": "3.1 Есть ли зависимость между количеством детей и возвратом кредита в срок?",
      "metadata": {
        "deletable": true,
        "editable": true,
        "id": "c5d66278"
      }
    },
    {
      "id": "1e8040b4",
      "cell_type": "code",
      "source": "# Создаём сводную таблицу\npivot = data.pivot_table(index='children', values='debt', aggfunc=['count', 'sum'])\npivot",
      "metadata": {
        "deletable": true,
        "id": "2cacfc4a",
        "scrolled": true
      },
      "outputs": [
        {
          "data": {
            "text/html": [
              "<div>\n",
              "<style scoped>\n",
              "    .dataframe tbody tr th:only-of-type {\n",
              "        vertical-align: middle;\n",
              "    }\n",
              "\n",
              "    .dataframe tbody tr th {\n",
              "        vertical-align: top;\n",
              "    }\n",
              "\n",
              "    .dataframe thead tr th {\n",
              "        text-align: left;\n",
              "    }\n",
              "\n",
              "    .dataframe thead tr:last-of-type th {\n",
              "        text-align: right;\n",
              "    }\n",
              "</style>\n",
              "<table border=\"1\" class=\"dataframe\">\n",
              "  <thead>\n",
              "    <tr>\n",
              "      <th></th>\n",
              "      <th>count</th>\n",
              "      <th>sum</th>\n",
              "    </tr>\n",
              "    <tr>\n",
              "      <th></th>\n",
              "      <th>debt</th>\n",
              "      <th>debt</th>\n",
              "    </tr>\n",
              "    <tr>\n",
              "      <th>children</th>\n",
              "      <th></th>\n",
              "      <th></th>\n",
              "    </tr>\n",
              "  </thead>\n",
              "  <tbody>\n",
              "    <tr>\n",
              "      <th>0</th>\n",
              "      <td>14091</td>\n",
              "      <td>1063</td>\n",
              "    </tr>\n",
              "    <tr>\n",
              "      <th>1</th>\n",
              "      <td>4808</td>\n",
              "      <td>444</td>\n",
              "    </tr>\n",
              "    <tr>\n",
              "      <th>2</th>\n",
              "      <td>2052</td>\n",
              "      <td>194</td>\n",
              "    </tr>\n",
              "    <tr>\n",
              "      <th>3</th>\n",
              "      <td>330</td>\n",
              "      <td>27</td>\n",
              "    </tr>\n",
              "    <tr>\n",
              "      <th>4</th>\n",
              "      <td>41</td>\n",
              "      <td>4</td>\n",
              "    </tr>\n",
              "    <tr>\n",
              "      <th>5</th>\n",
              "      <td>9</td>\n",
              "      <td>0</td>\n",
              "    </tr>\n",
              "  </tbody>\n",
              "</table>\n",
              "</div>"
            ],
            "text/plain": [
              "          count   sum\n",
              "           debt  debt\n",
              "children             \n",
              "0         14091  1063\n",
              "1          4808   444\n",
              "2          2052   194\n",
              "3           330    27\n",
              "4            41     4\n",
              "5             9     0"
            ]
          },
          "execution_count": 22,
          "metadata": {},
          "output_type": "execute_result"
        }
      ],
      "execution_count": 22
    },
    {
      "id": "743fddfe",
      "cell_type": "code",
      "source": "# Считаем конверсию и сортируем таблицу по её убыванию\npivot['conversion'] = pivot[('sum', 'debt')] / pivot[('count', 'debt')]\npivot.sort_values(by='conversion', ascending=False, inplace=True)\npivot",
      "metadata": {},
      "outputs": [
        {
          "data": {
            "text/html": [
              "<div>\n",
              "<style scoped>\n",
              "    .dataframe tbody tr th:only-of-type {\n",
              "        vertical-align: middle;\n",
              "    }\n",
              "\n",
              "    .dataframe tbody tr th {\n",
              "        vertical-align: top;\n",
              "    }\n",
              "\n",
              "    .dataframe thead tr th {\n",
              "        text-align: left;\n",
              "    }\n",
              "\n",
              "    .dataframe thead tr:last-of-type th {\n",
              "        text-align: right;\n",
              "    }\n",
              "</style>\n",
              "<table border=\"1\" class=\"dataframe\">\n",
              "  <thead>\n",
              "    <tr>\n",
              "      <th></th>\n",
              "      <th>count</th>\n",
              "      <th>sum</th>\n",
              "      <th>conversion</th>\n",
              "    </tr>\n",
              "    <tr>\n",
              "      <th></th>\n",
              "      <th>debt</th>\n",
              "      <th>debt</th>\n",
              "      <th></th>\n",
              "    </tr>\n",
              "    <tr>\n",
              "      <th>children</th>\n",
              "      <th></th>\n",
              "      <th></th>\n",
              "      <th></th>\n",
              "    </tr>\n",
              "  </thead>\n",
              "  <tbody>\n",
              "    <tr>\n",
              "      <th>4</th>\n",
              "      <td>41</td>\n",
              "      <td>4</td>\n",
              "      <td>0.097561</td>\n",
              "    </tr>\n",
              "    <tr>\n",
              "      <th>2</th>\n",
              "      <td>2052</td>\n",
              "      <td>194</td>\n",
              "      <td>0.094542</td>\n",
              "    </tr>\n",
              "    <tr>\n",
              "      <th>1</th>\n",
              "      <td>4808</td>\n",
              "      <td>444</td>\n",
              "      <td>0.092346</td>\n",
              "    </tr>\n",
              "    <tr>\n",
              "      <th>3</th>\n",
              "      <td>330</td>\n",
              "      <td>27</td>\n",
              "      <td>0.081818</td>\n",
              "    </tr>\n",
              "    <tr>\n",
              "      <th>0</th>\n",
              "      <td>14091</td>\n",
              "      <td>1063</td>\n",
              "      <td>0.075438</td>\n",
              "    </tr>\n",
              "    <tr>\n",
              "      <th>5</th>\n",
              "      <td>9</td>\n",
              "      <td>0</td>\n",
              "      <td>0.000000</td>\n",
              "    </tr>\n",
              "  </tbody>\n",
              "</table>\n",
              "</div>"
            ],
            "text/plain": [
              "          count   sum conversion\n",
              "           debt  debt           \n",
              "children                        \n",
              "4            41     4   0.097561\n",
              "2          2052   194   0.094542\n",
              "1          4808   444   0.092346\n",
              "3           330    27   0.081818\n",
              "0         14091  1063   0.075438\n",
              "5             9     0   0.000000"
            ]
          },
          "execution_count": 23,
          "metadata": {},
          "output_type": "execute_result"
        }
      ],
      "execution_count": 23
    },
    {
      "id": "4f12f8e7",
      "cell_type": "markdown",
      "source": "**Вывод:** зависимость есть. В данном датасете, посчитав конверсию, мы можем сказать, что плательщики, у которых есть дети, имеют больший шанс не вернуть деньги вовремя\nаномальной конверсией здесь считаются клиенты, имеющие 5 детей: в данном случае их всего 9 и они вовремя возвращали кредит.",
      "metadata": {
        "deletable": true,
        "id": "3a6b99ec"
      }
    },
    {
      "id": "3010b4ee",
      "cell_type": "markdown",
      "source": "# 3.2 Есть ли зависимость между семейным положением и возвратом кредита в срок?",
      "metadata": {
        "deletable": true,
        "editable": true,
        "id": "97be82ca"
      }
    },
    {
      "id": "b974d53d",
      "cell_type": "code",
      "source": "# Создаём сводную таблицу\npivot = data.pivot_table(index='family_status', values='debt', aggfunc=['count', 'sum'])\npivot",
      "metadata": {
        "deletable": true,
        "id": "dc3f7ee8"
      },
      "outputs": [
        {
          "data": {
            "text/html": [
              "<div>\n",
              "<style scoped>\n",
              "    .dataframe tbody tr th:only-of-type {\n",
              "        vertical-align: middle;\n",
              "    }\n",
              "\n",
              "    .dataframe tbody tr th {\n",
              "        vertical-align: top;\n",
              "    }\n",
              "\n",
              "    .dataframe thead tr th {\n",
              "        text-align: left;\n",
              "    }\n",
              "\n",
              "    .dataframe thead tr:last-of-type th {\n",
              "        text-align: right;\n",
              "    }\n",
              "</style>\n",
              "<table border=\"1\" class=\"dataframe\">\n",
              "  <thead>\n",
              "    <tr>\n",
              "      <th></th>\n",
              "      <th>count</th>\n",
              "      <th>sum</th>\n",
              "    </tr>\n",
              "    <tr>\n",
              "      <th></th>\n",
              "      <th>debt</th>\n",
              "      <th>debt</th>\n",
              "    </tr>\n",
              "    <tr>\n",
              "      <th>family_status</th>\n",
              "      <th></th>\n",
              "      <th></th>\n",
              "    </tr>\n",
              "  </thead>\n",
              "  <tbody>\n",
              "    <tr>\n",
              "      <th>Не женат / не замужем</th>\n",
              "      <td>2796</td>\n",
              "      <td>273</td>\n",
              "    </tr>\n",
              "    <tr>\n",
              "      <th>в разводе</th>\n",
              "      <td>1189</td>\n",
              "      <td>84</td>\n",
              "    </tr>\n",
              "    <tr>\n",
              "      <th>вдовец / вдова</th>\n",
              "      <td>951</td>\n",
              "      <td>63</td>\n",
              "    </tr>\n",
              "    <tr>\n",
              "      <th>гражданский брак</th>\n",
              "      <td>4134</td>\n",
              "      <td>385</td>\n",
              "    </tr>\n",
              "    <tr>\n",
              "      <th>женат / замужем</th>\n",
              "      <td>12261</td>\n",
              "      <td>927</td>\n",
              "    </tr>\n",
              "  </tbody>\n",
              "</table>\n",
              "</div>"
            ],
            "text/plain": [
              "                       count  sum\n",
              "                        debt debt\n",
              "family_status                    \n",
              "Не женат / не замужем   2796  273\n",
              "в разводе               1189   84\n",
              "вдовец / вдова           951   63\n",
              "гражданский брак        4134  385\n",
              "женат / замужем        12261  927"
            ]
          },
          "execution_count": 24,
          "metadata": {},
          "output_type": "execute_result"
        }
      ],
      "execution_count": 24
    },
    {
      "id": "c823c9ae",
      "cell_type": "code",
      "source": "# Считаем конверсию и сортируем таблицу по её убыванию\npivot['conversion'] = pivot[('sum', 'debt')] / pivot[('count', 'debt')]\npivot.sort_values(by='conversion', ascending=False, inplace=True)\npivot",
      "metadata": {},
      "outputs": [
        {
          "data": {
            "text/html": [
              "<div>\n",
              "<style scoped>\n",
              "    .dataframe tbody tr th:only-of-type {\n",
              "        vertical-align: middle;\n",
              "    }\n",
              "\n",
              "    .dataframe tbody tr th {\n",
              "        vertical-align: top;\n",
              "    }\n",
              "\n",
              "    .dataframe thead tr th {\n",
              "        text-align: left;\n",
              "    }\n",
              "\n",
              "    .dataframe thead tr:last-of-type th {\n",
              "        text-align: right;\n",
              "    }\n",
              "</style>\n",
              "<table border=\"1\" class=\"dataframe\">\n",
              "  <thead>\n",
              "    <tr>\n",
              "      <th></th>\n",
              "      <th>count</th>\n",
              "      <th>sum</th>\n",
              "      <th>conversion</th>\n",
              "    </tr>\n",
              "    <tr>\n",
              "      <th></th>\n",
              "      <th>debt</th>\n",
              "      <th>debt</th>\n",
              "      <th></th>\n",
              "    </tr>\n",
              "    <tr>\n",
              "      <th>family_status</th>\n",
              "      <th></th>\n",
              "      <th></th>\n",
              "      <th></th>\n",
              "    </tr>\n",
              "  </thead>\n",
              "  <tbody>\n",
              "    <tr>\n",
              "      <th>Не женат / не замужем</th>\n",
              "      <td>2796</td>\n",
              "      <td>273</td>\n",
              "      <td>0.097639</td>\n",
              "    </tr>\n",
              "    <tr>\n",
              "      <th>гражданский брак</th>\n",
              "      <td>4134</td>\n",
              "      <td>385</td>\n",
              "      <td>0.093130</td>\n",
              "    </tr>\n",
              "    <tr>\n",
              "      <th>женат / замужем</th>\n",
              "      <td>12261</td>\n",
              "      <td>927</td>\n",
              "      <td>0.075606</td>\n",
              "    </tr>\n",
              "    <tr>\n",
              "      <th>в разводе</th>\n",
              "      <td>1189</td>\n",
              "      <td>84</td>\n",
              "      <td>0.070648</td>\n",
              "    </tr>\n",
              "    <tr>\n",
              "      <th>вдовец / вдова</th>\n",
              "      <td>951</td>\n",
              "      <td>63</td>\n",
              "      <td>0.066246</td>\n",
              "    </tr>\n",
              "  </tbody>\n",
              "</table>\n",
              "</div>"
            ],
            "text/plain": [
              "                       count  sum conversion\n",
              "                        debt debt           \n",
              "family_status                               \n",
              "Не женат / не замужем   2796  273   0.097639\n",
              "гражданский брак        4134  385   0.093130\n",
              "женат / замужем        12261  927   0.075606\n",
              "в разводе               1189   84   0.070648\n",
              "вдовец / вдова           951   63   0.066246"
            ]
          },
          "execution_count": 25,
          "metadata": {},
          "output_type": "execute_result"
        }
      ],
      "execution_count": 25
    },
    {
      "id": "5a2c6e96",
      "cell_type": "markdown",
      "source": "**Вывод:** зависимость есть. В этом случае, посчитав конверсию, мы можем сказать, что незамужние (неженатые) плательщики имеют меньший шанс вернуть деньги вовремя",
      "metadata": {
        "deletable": true,
        "id": "1cef7837"
      }
    },
    {
      "id": "f4cc9fea",
      "cell_type": "markdown",
      "source": "# 3.3 Есть ли зависимость между уровнем дохода и возвратом кредита в срок?",
      "metadata": {
        "deletable": true,
        "editable": true,
        "id": "1e8b2fca"
      }
    },
    {
      "id": "a9cc5ec0",
      "cell_type": "code",
      "source": "# Создаём сводную таблицу\npivot = data.pivot_table(index='total_income_category', values='debt', aggfunc=['count', 'sum'])\npivot",
      "metadata": {
        "deletable": true,
        "id": "cd7e3720"
      },
      "outputs": [
        {
          "data": {
            "text/html": [
              "<div>\n",
              "<style scoped>\n",
              "    .dataframe tbody tr th:only-of-type {\n",
              "        vertical-align: middle;\n",
              "    }\n",
              "\n",
              "    .dataframe tbody tr th {\n",
              "        vertical-align: top;\n",
              "    }\n",
              "\n",
              "    .dataframe thead tr th {\n",
              "        text-align: left;\n",
              "    }\n",
              "\n",
              "    .dataframe thead tr:last-of-type th {\n",
              "        text-align: right;\n",
              "    }\n",
              "</style>\n",
              "<table border=\"1\" class=\"dataframe\">\n",
              "  <thead>\n",
              "    <tr>\n",
              "      <th></th>\n",
              "      <th>count</th>\n",
              "      <th>sum</th>\n",
              "    </tr>\n",
              "    <tr>\n",
              "      <th></th>\n",
              "      <th>debt</th>\n",
              "      <th>debt</th>\n",
              "    </tr>\n",
              "    <tr>\n",
              "      <th>total_income_category</th>\n",
              "      <th></th>\n",
              "      <th></th>\n",
              "    </tr>\n",
              "  </thead>\n",
              "  <tbody>\n",
              "    <tr>\n",
              "      <th>A</th>\n",
              "      <td>25</td>\n",
              "      <td>2</td>\n",
              "    </tr>\n",
              "    <tr>\n",
              "      <th>B</th>\n",
              "      <td>5014</td>\n",
              "      <td>354</td>\n",
              "    </tr>\n",
              "    <tr>\n",
              "      <th>C</th>\n",
              "      <td>15921</td>\n",
              "      <td>1353</td>\n",
              "    </tr>\n",
              "    <tr>\n",
              "      <th>D</th>\n",
              "      <td>349</td>\n",
              "      <td>21</td>\n",
              "    </tr>\n",
              "    <tr>\n",
              "      <th>E</th>\n",
              "      <td>22</td>\n",
              "      <td>2</td>\n",
              "    </tr>\n",
              "  </tbody>\n",
              "</table>\n",
              "</div>"
            ],
            "text/plain": [
              "                       count   sum\n",
              "                        debt  debt\n",
              "total_income_category             \n",
              "A                         25     2\n",
              "B                       5014   354\n",
              "C                      15921  1353\n",
              "D                        349    21\n",
              "E                         22     2"
            ]
          },
          "execution_count": 26,
          "metadata": {},
          "output_type": "execute_result"
        }
      ],
      "execution_count": 26
    },
    {
      "id": "18a7edaa",
      "cell_type": "code",
      "source": "# Считаем конверсию и сортируем таблицу по её убыванию\npivot['conversion'] = pivot[('sum', 'debt')] / pivot[('count', 'debt')]\npivot.sort_values(by='conversion', ascending=False, inplace=True)\npivot",
      "metadata": {},
      "outputs": [
        {
          "data": {
            "text/html": [
              "<div>\n",
              "<style scoped>\n",
              "    .dataframe tbody tr th:only-of-type {\n",
              "        vertical-align: middle;\n",
              "    }\n",
              "\n",
              "    .dataframe tbody tr th {\n",
              "        vertical-align: top;\n",
              "    }\n",
              "\n",
              "    .dataframe thead tr th {\n",
              "        text-align: left;\n",
              "    }\n",
              "\n",
              "    .dataframe thead tr:last-of-type th {\n",
              "        text-align: right;\n",
              "    }\n",
              "</style>\n",
              "<table border=\"1\" class=\"dataframe\">\n",
              "  <thead>\n",
              "    <tr>\n",
              "      <th></th>\n",
              "      <th>count</th>\n",
              "      <th>sum</th>\n",
              "      <th>conversion</th>\n",
              "    </tr>\n",
              "    <tr>\n",
              "      <th></th>\n",
              "      <th>debt</th>\n",
              "      <th>debt</th>\n",
              "      <th></th>\n",
              "    </tr>\n",
              "    <tr>\n",
              "      <th>total_income_category</th>\n",
              "      <th></th>\n",
              "      <th></th>\n",
              "      <th></th>\n",
              "    </tr>\n",
              "  </thead>\n",
              "  <tbody>\n",
              "    <tr>\n",
              "      <th>E</th>\n",
              "      <td>22</td>\n",
              "      <td>2</td>\n",
              "      <td>0.090909</td>\n",
              "    </tr>\n",
              "    <tr>\n",
              "      <th>C</th>\n",
              "      <td>15921</td>\n",
              "      <td>1353</td>\n",
              "      <td>0.084982</td>\n",
              "    </tr>\n",
              "    <tr>\n",
              "      <th>A</th>\n",
              "      <td>25</td>\n",
              "      <td>2</td>\n",
              "      <td>0.080000</td>\n",
              "    </tr>\n",
              "    <tr>\n",
              "      <th>B</th>\n",
              "      <td>5014</td>\n",
              "      <td>354</td>\n",
              "      <td>0.070602</td>\n",
              "    </tr>\n",
              "    <tr>\n",
              "      <th>D</th>\n",
              "      <td>349</td>\n",
              "      <td>21</td>\n",
              "      <td>0.060172</td>\n",
              "    </tr>\n",
              "  </tbody>\n",
              "</table>\n",
              "</div>"
            ],
            "text/plain": [
              "                       count   sum conversion\n",
              "                        debt  debt           \n",
              "total_income_category                        \n",
              "E                         22     2   0.090909\n",
              "C                      15921  1353   0.084982\n",
              "A                         25     2   0.080000\n",
              "B                       5014   354   0.070602\n",
              "D                        349    21   0.060172"
            ]
          },
          "execution_count": 27,
          "metadata": {},
          "output_type": "execute_result"
        }
      ],
      "execution_count": 27
    },
    {
      "id": "f05fd027",
      "cell_type": "markdown",
      "source": "**Вывод:** здесь, посчитав конверсию по уровню дохода, можно сказать, что плательщики с наименьшим доходом (класс Е) имеют наибольший шанс просрочить платёж; заемщики с более высоким уровнем дохода имеют более высокую вероятность выплатить кредит в срок, чем те, у кого доход ниже.",
      "metadata": {
        "deletable": true,
        "id": "e8593def"
      }
    },
    {
      "id": "02bfc750",
      "cell_type": "markdown",
      "source": "# 3.4 Как разные цели кредита влияют на его возврат в срок?",
      "metadata": {
        "deletable": true,
        "editable": true,
        "id": "99ecbd1f"
      }
    },
    {
      "id": "3357c8f5",
      "cell_type": "code",
      "source": "# Создаём сводную таблицу\npivot = data.pivot_table(index='purpose_category', values='debt', aggfunc=['count', 'sum'])\npivot",
      "metadata": {
        "deletable": true,
        "id": "2b687290"
      },
      "outputs": [
        {
          "data": {
            "text/html": [
              "<div>\n",
              "<style scoped>\n",
              "    .dataframe tbody tr th:only-of-type {\n",
              "        vertical-align: middle;\n",
              "    }\n",
              "\n",
              "    .dataframe tbody tr th {\n",
              "        vertical-align: top;\n",
              "    }\n",
              "\n",
              "    .dataframe thead tr th {\n",
              "        text-align: left;\n",
              "    }\n",
              "\n",
              "    .dataframe thead tr:last-of-type th {\n",
              "        text-align: right;\n",
              "    }\n",
              "</style>\n",
              "<table border=\"1\" class=\"dataframe\">\n",
              "  <thead>\n",
              "    <tr>\n",
              "      <th></th>\n",
              "      <th>count</th>\n",
              "      <th>sum</th>\n",
              "    </tr>\n",
              "    <tr>\n",
              "      <th></th>\n",
              "      <th>debt</th>\n",
              "      <th>debt</th>\n",
              "    </tr>\n",
              "    <tr>\n",
              "      <th>purpose_category</th>\n",
              "      <th></th>\n",
              "      <th></th>\n",
              "    </tr>\n",
              "  </thead>\n",
              "  <tbody>\n",
              "    <tr>\n",
              "      <th>операции с автомобилем</th>\n",
              "      <td>4279</td>\n",
              "      <td>400</td>\n",
              "    </tr>\n",
              "    <tr>\n",
              "      <th>операции с недвижимостью</th>\n",
              "      <td>10751</td>\n",
              "      <td>780</td>\n",
              "    </tr>\n",
              "    <tr>\n",
              "      <th>получение образования</th>\n",
              "      <td>3988</td>\n",
              "      <td>369</td>\n",
              "    </tr>\n",
              "    <tr>\n",
              "      <th>проведение свадьбы</th>\n",
              "      <td>2313</td>\n",
              "      <td>183</td>\n",
              "    </tr>\n",
              "  </tbody>\n",
              "</table>\n",
              "</div>"
            ],
            "text/plain": [
              "                          count  sum\n",
              "                           debt debt\n",
              "purpose_category                    \n",
              "операции с автомобилем     4279  400\n",
              "операции с недвижимостью  10751  780\n",
              "получение образования      3988  369\n",
              "проведение свадьбы         2313  183"
            ]
          },
          "execution_count": 28,
          "metadata": {},
          "output_type": "execute_result"
        }
      ],
      "execution_count": 28
    },
    {
      "id": "e423487e",
      "cell_type": "code",
      "source": "# Считаем конверсию и сортируем таблицу по её убыванию\npivot['conversion'] = pivot[('sum', 'debt')] / pivot[('count', 'debt')]\npivot.sort_values(by='conversion', ascending=False, inplace=True)\npivot",
      "metadata": {},
      "outputs": [
        {
          "data": {
            "text/html": [
              "<div>\n",
              "<style scoped>\n",
              "    .dataframe tbody tr th:only-of-type {\n",
              "        vertical-align: middle;\n",
              "    }\n",
              "\n",
              "    .dataframe tbody tr th {\n",
              "        vertical-align: top;\n",
              "    }\n",
              "\n",
              "    .dataframe thead tr th {\n",
              "        text-align: left;\n",
              "    }\n",
              "\n",
              "    .dataframe thead tr:last-of-type th {\n",
              "        text-align: right;\n",
              "    }\n",
              "</style>\n",
              "<table border=\"1\" class=\"dataframe\">\n",
              "  <thead>\n",
              "    <tr>\n",
              "      <th></th>\n",
              "      <th>count</th>\n",
              "      <th>sum</th>\n",
              "      <th>conversion</th>\n",
              "    </tr>\n",
              "    <tr>\n",
              "      <th></th>\n",
              "      <th>debt</th>\n",
              "      <th>debt</th>\n",
              "      <th></th>\n",
              "    </tr>\n",
              "    <tr>\n",
              "      <th>purpose_category</th>\n",
              "      <th></th>\n",
              "      <th></th>\n",
              "      <th></th>\n",
              "    </tr>\n",
              "  </thead>\n",
              "  <tbody>\n",
              "    <tr>\n",
              "      <th>операции с автомобилем</th>\n",
              "      <td>4279</td>\n",
              "      <td>400</td>\n",
              "      <td>0.093480</td>\n",
              "    </tr>\n",
              "    <tr>\n",
              "      <th>получение образования</th>\n",
              "      <td>3988</td>\n",
              "      <td>369</td>\n",
              "      <td>0.092528</td>\n",
              "    </tr>\n",
              "    <tr>\n",
              "      <th>проведение свадьбы</th>\n",
              "      <td>2313</td>\n",
              "      <td>183</td>\n",
              "      <td>0.079118</td>\n",
              "    </tr>\n",
              "    <tr>\n",
              "      <th>операции с недвижимостью</th>\n",
              "      <td>10751</td>\n",
              "      <td>780</td>\n",
              "      <td>0.072551</td>\n",
              "    </tr>\n",
              "  </tbody>\n",
              "</table>\n",
              "</div>"
            ],
            "text/plain": [
              "                          count  sum conversion\n",
              "                           debt debt           \n",
              "purpose_category                               \n",
              "операции с автомобилем     4279  400   0.093480\n",
              "получение образования      3988  369   0.092528\n",
              "проведение свадьбы         2313  183   0.079118\n",
              "операции с недвижимостью  10751  780   0.072551"
            ]
          },
          "execution_count": 29,
          "metadata": {},
          "output_type": "execute_result"
        }
      ],
      "execution_count": 29
    },
    {
      "id": "2445fc83",
      "cell_type": "markdown",
      "source": "**Вывод:** По таблице мы можем сделать вывод, что, например, кредит на образование и операции с автомобилем вовремя выплачивается реже, чем кредит, взятый на проведение свадьбы или на операции с недвижимостью",
      "metadata": {
        "deletable": true,
        "id": "b4bb2ce6"
      }
    },
    {
      "id": "cbfa886b",
      "cell_type": "markdown",
      "source": "# 3.5 Возможные причины появления пропусков в исходных данных.",
      "metadata": {
        "deletable": true,
        "editable": true,
        "id": "09c3ac4c"
      }
    },
    {
      "id": "4d0033a7",
      "cell_type": "markdown",
      "source": "**Ответ:** \n1. Пользователь недозаполнил форму на сайте\n2. Сбои в системе\n3. Необязательные поля\n4. Данные были случайно удалены или не получены",
      "metadata": {
        "deletable": true,
        "id": "9da2ceda"
      }
    },
    {
      "id": "5d6a059e",
      "cell_type": "markdown",
      "source": "# 3.6 Почему заполнить пропуски медианным значением — лучшее решение для количественных переменных?",
      "metadata": {
        "deletable": true,
        "editable": true,
        "id": "7b0487d6"
      }
    },
    {
      "id": "00c4c5b3",
      "cell_type": "markdown",
      "source": "**Ответ:** Медиана менее подвержена выбросам, нежели среднее значение, а значит чуть лучше отражает примерную картину происходящего",
      "metadata": {
        "deletable": true,
        "id": "7ecf2b8e"
      }
    },
    {
      "id": "8b9c8796",
      "cell_type": "markdown",
      "source": "# Шаг 4: общий вывод.",
      "metadata": {
        "deletable": true,
        "editable": true,
        "id": "6db5255a"
      }
    },
    {
      "id": "4996ced1",
      "cell_type": "markdown",
      "source": "В данном проекте мы проверили несколько предположений и убедились, что:\n1. количество детей у плательщика влияет на то, выплатит ли он кредит вовремя\n2. семейный статус клиента также влияет на то, вернёт ли он деньги банку вовремя\n3. уровень дохода клиента влияет на способность выплатить кредит вовремя\n4. в зависимости от цели кредита, вероятность выплатить его вовремя также меняется",
      "metadata": {
        "deletable": true,
        "id": "bad65432"
      }
    },
    {
      "id": "54c94f6f",
      "cell_type": "markdown",
      "source": "**Общий вывод.**\n\nВ данном проекте мы проверили несколько предположений и убедились, что:\n\n1. **Количество детей** у плательщика **влияет** на то, выплатит ли он кредит вовремя. Посчитав конверсию, мы видим, что клиенты, имеющие 4, 2, 1 детей имеют наибольший шанс не вернуть долг вовремя (конверсии соответственно 9,76% 9,45% 9,23%). У клиентов, имеющих 3 или 0 детей шансов на несвоевременный возврат меньше остальных: 8,18% и 7,54% соответственно; Клиенты, имеющие 5 детей, почти наверное, вернут долг вовремя (нулевая конверсия);\n\n\n2. **Семейный статус** клиента **также влияет** на то, вернёт ли он деньги банку вовремя.\n    * Незамужние (неженатые) плательщики имеют меньший шанс вернуть деньги вовремя (конверсия составила 9,76%).\n    * Люди, состоящие в гражданском браке имеют почти такой же шанс (9,31%), но чуть меньше.\n    * Клиентам женатым/замужним, разведённым или же вдовам/вдовцам доверять можно больше: шанс, что они вернут долг вовремя, сильно выше (7,56%, 7,06% и 6,62% соответственно).\n    \n    \n3. **Уровень дохода** клиента **влияет** на способность выплатить кредит вовремя.\n    * Конверсия по клиентам, имеющим зарплату до 30_000 (коих всего 22) составила 9,09% (**наибольшая конверсия**)\n    * Имеющим зарплату в диапазоне [50_001, 200_000] конверсия составила 8,5%\n    * Имеющим зарплату свыше 1_000_000 составила 8%\n    * Имеющим зарплату в диапозоне [200_001, 1_000_000] составила 7,06%\n    * Имеющим зарплату в диапозоне [30_001, 50_000] составила 6,02% (**наименьшая конверсия**)\n    \n    \n4. **В зависимости от цели кредита, вероятность выплатить его вовремя также меняется.** При взятии кредита на операции с автомобилем и получение образования конверсия составила соответственно 9,35% и 9,25% соответственно, а на проведение свадьбы и операции с недвижимостью 7,91% и 7,26% соответственно.\n\n**Здесь конверсия - вероятность того, что тот или иной клиент не закроет кредит вовремя.**",
      "metadata": {}
    }
  ]
}