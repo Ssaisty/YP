{
 "cells": [
  {
   "cell_type": "markdown",
   "metadata": {},
   "source": [
    "# Исследование объявлений о продаже квартир\n",
    "\n",
    "В нашем распоряжении данные сервиса Яндекс.Недвижимость — архив объявлений о продаже квартир в Санкт-Петербурге и соседних населённых пунктов за несколько лет. Нужно научиться определять рыночную стоимость объектов недвижимости. Наша задача — установить параметры. Это позволит построить автоматизированную систему: она отследит аномалии и мошенническую деятельность. \n",
    "\n",
    "По каждой квартире на продажу доступны два вида данных. Первые вписаны пользователем, вторые — получены автоматически на основе картографических данных. Например, расстояние до центра, аэропорта, ближайшего парка и водоёма. "
   ]
  },
  {
   "cell_type": "code",
   "execution_count": 1,
   "metadata": {},
   "outputs": [],
   "source": [
    "import math\n",
    "import pandas as pd\n",
    "pd.set_option(\"display.max_columns\", 10)"
   ]
  },
  {
   "cell_type": "code",
   "execution_count": 2,
   "metadata": {},
   "outputs": [
    {
     "data": {
      "text/html": [
       "<div>\n",
       "<style scoped>\n",
       "    .dataframe tbody tr th:only-of-type {\n",
       "        vertical-align: middle;\n",
       "    }\n",
       "\n",
       "    .dataframe tbody tr th {\n",
       "        vertical-align: top;\n",
       "    }\n",
       "\n",
       "    .dataframe thead th {\n",
       "        text-align: right;\n",
       "    }\n",
       "</style>\n",
       "<table border=\"1\" class=\"dataframe\">\n",
       "  <thead>\n",
       "    <tr style=\"text-align: right;\">\n",
       "      <th></th>\n",
       "      <th>total_images</th>\n",
       "      <th>last_price</th>\n",
       "      <th>total_area</th>\n",
       "      <th>first_day_exposition</th>\n",
       "      <th>rooms</th>\n",
       "      <th>...</th>\n",
       "      <th>parks_around3000</th>\n",
       "      <th>parks_nearest</th>\n",
       "      <th>ponds_around3000</th>\n",
       "      <th>ponds_nearest</th>\n",
       "      <th>days_exposition</th>\n",
       "    </tr>\n",
       "  </thead>\n",
       "  <tbody>\n",
       "    <tr>\n",
       "      <th>0</th>\n",
       "      <td>20</td>\n",
       "      <td>13000000.0</td>\n",
       "      <td>108.0</td>\n",
       "      <td>2019-03-07T00:00:00</td>\n",
       "      <td>3</td>\n",
       "      <td>...</td>\n",
       "      <td>1.0</td>\n",
       "      <td>482.0</td>\n",
       "      <td>2.0</td>\n",
       "      <td>755.0</td>\n",
       "      <td>NaN</td>\n",
       "    </tr>\n",
       "    <tr>\n",
       "      <th>1</th>\n",
       "      <td>7</td>\n",
       "      <td>3350000.0</td>\n",
       "      <td>40.4</td>\n",
       "      <td>2018-12-04T00:00:00</td>\n",
       "      <td>1</td>\n",
       "      <td>...</td>\n",
       "      <td>0.0</td>\n",
       "      <td>NaN</td>\n",
       "      <td>0.0</td>\n",
       "      <td>NaN</td>\n",
       "      <td>81.0</td>\n",
       "    </tr>\n",
       "    <tr>\n",
       "      <th>2</th>\n",
       "      <td>10</td>\n",
       "      <td>5196000.0</td>\n",
       "      <td>56.0</td>\n",
       "      <td>2015-08-20T00:00:00</td>\n",
       "      <td>2</td>\n",
       "      <td>...</td>\n",
       "      <td>1.0</td>\n",
       "      <td>90.0</td>\n",
       "      <td>2.0</td>\n",
       "      <td>574.0</td>\n",
       "      <td>558.0</td>\n",
       "    </tr>\n",
       "    <tr>\n",
       "      <th>3</th>\n",
       "      <td>0</td>\n",
       "      <td>64900000.0</td>\n",
       "      <td>159.0</td>\n",
       "      <td>2015-07-24T00:00:00</td>\n",
       "      <td>3</td>\n",
       "      <td>...</td>\n",
       "      <td>2.0</td>\n",
       "      <td>84.0</td>\n",
       "      <td>3.0</td>\n",
       "      <td>234.0</td>\n",
       "      <td>424.0</td>\n",
       "    </tr>\n",
       "    <tr>\n",
       "      <th>4</th>\n",
       "      <td>2</td>\n",
       "      <td>10000000.0</td>\n",
       "      <td>100.0</td>\n",
       "      <td>2018-06-19T00:00:00</td>\n",
       "      <td>2</td>\n",
       "      <td>...</td>\n",
       "      <td>2.0</td>\n",
       "      <td>112.0</td>\n",
       "      <td>1.0</td>\n",
       "      <td>48.0</td>\n",
       "      <td>121.0</td>\n",
       "    </tr>\n",
       "  </tbody>\n",
       "</table>\n",
       "<p>5 rows × 22 columns</p>\n",
       "</div>"
      ],
      "text/plain": [
       "   total_images  last_price  total_area first_day_exposition  rooms  ...  \\\n",
       "0            20  13000000.0       108.0  2019-03-07T00:00:00      3  ...   \n",
       "1             7   3350000.0        40.4  2018-12-04T00:00:00      1  ...   \n",
       "2            10   5196000.0        56.0  2015-08-20T00:00:00      2  ...   \n",
       "3             0  64900000.0       159.0  2015-07-24T00:00:00      3  ...   \n",
       "4             2  10000000.0       100.0  2018-06-19T00:00:00      2  ...   \n",
       "\n",
       "   parks_around3000  parks_nearest  ponds_around3000  ponds_nearest  \\\n",
       "0               1.0          482.0               2.0          755.0   \n",
       "1               0.0            NaN               0.0            NaN   \n",
       "2               1.0           90.0               2.0          574.0   \n",
       "3               2.0           84.0               3.0          234.0   \n",
       "4               2.0          112.0               1.0           48.0   \n",
       "\n",
       "  days_exposition  \n",
       "0             NaN  \n",
       "1            81.0  \n",
       "2           558.0  \n",
       "3           424.0  \n",
       "4           121.0  \n",
       "\n",
       "[5 rows x 22 columns]"
      ]
     },
     "execution_count": 2,
     "metadata": {},
     "output_type": "execute_result"
    }
   ],
   "source": [
    "try:\n",
    "    df = pd.read_csv('/datasets/real_estate_data.csv', sep='\\t')\n",
    "except:\n",
    "    df = pd.read_csv('/home/abc/Desktop/project/me/Project3//real_estate_data.csv', sep='\\t')\n",
    "df.head()"
   ]
  },
  {
   "cell_type": "code",
   "execution_count": 3,
   "metadata": {},
   "outputs": [
    {
     "data": {
      "image/png": "[encoded data removed]",
      "text/plain": [
       "<Figure size 1080x1440 with 20 Axes>"
      ]
     },
     "metadata": {
      "needs_background": "light"
     },
     "output_type": "display_data"
    }
   ],
   "source": [
    "_ = df.hist(figsize=(15, 20))"
   ]
  },
  {
   "cell_type": "code",
   "execution_count": 4,
   "metadata": {},
   "outputs": [
    {
     "name": "stdout",
     "output_type": "stream",
     "text": [
      "<class 'pandas.core.frame.DataFrame'>\n",
      "RangeIndex: 23699 entries, 0 to 23698\n",
      "Data columns (total 22 columns):\n",
      " #   Column                Non-Null Count  Dtype  \n",
      "---  ------                --------------  -----  \n",
      " 0   total_images          23699 non-null  int64  \n",
      " 1   last_price            23699 non-null  float64\n",
      " 2   total_area            23699 non-null  float64\n",
      " 3   first_day_exposition  23699 non-null  object \n",
      " 4   rooms                 23699 non-null  int64  \n",
      " 5   ceiling_height        14504 non-null  float64\n",
      " 6   floors_total          23613 non-null  float64\n",
      " 7   living_area           21796 non-null  float64\n",
      " 8   floor                 23699 non-null  int64  \n",
      " 9   is_apartment          2775 non-null   object \n",
      " 10  studio                23699 non-null  bool   \n",
      " 11  open_plan             23699 non-null  bool   \n",
      " 12  kitchen_area          21421 non-null  float64\n",
      " 13  balcony               12180 non-null  float64\n",
      " 14  locality_name         23650 non-null  object \n",
      " 15  airports_nearest      18157 non-null  float64\n",
      " 16  cityCenters_nearest   18180 non-null  float64\n",
      " 17  parks_around3000      18181 non-null  float64\n",
      " 18  parks_nearest         8079 non-null   float64\n",
      " 19  ponds_around3000      18181 non-null  float64\n",
      " 20  ponds_nearest         9110 non-null   float64\n",
      " 21  days_exposition       20518 non-null  float64\n",
      "dtypes: bool(2), float64(14), int64(3), object(3)\n",
      "memory usage: 3.7+ MB\n"
     ]
    }
   ],
   "source": [
    "df.info()"
   ]
  },
  {
   "cell_type": "code",
   "execution_count": 5,
   "metadata": {},
   "outputs": [
    {
     "data": {
      "text/html": [
       "<div>\n",
       "<style scoped>\n",
       "    .dataframe tbody tr th:only-of-type {\n",
       "        vertical-align: middle;\n",
       "    }\n",
       "\n",
       "    .dataframe tbody tr th {\n",
       "        vertical-align: top;\n",
       "    }\n",
       "\n",
       "    .dataframe thead th {\n",
       "        text-align: right;\n",
       "    }\n",
       "</style>\n",
       "<table border=\"1\" class=\"dataframe\">\n",
       "  <thead>\n",
       "    <tr style=\"text-align: right;\">\n",
       "      <th></th>\n",
       "      <th>total_images</th>\n",
       "      <th>last_price</th>\n",
       "      <th>total_area</th>\n",
       "      <th>rooms</th>\n",
       "      <th>ceiling_height</th>\n",
       "      <th>...</th>\n",
       "      <th>parks_around3000</th>\n",
       "      <th>parks_nearest</th>\n",
       "      <th>ponds_around3000</th>\n",
       "      <th>ponds_nearest</th>\n",
       "      <th>days_exposition</th>\n",
       "    </tr>\n",
       "  </thead>\n",
       "  <tbody>\n",
       "    <tr>\n",
       "      <th>count</th>\n",
       "      <td>23699.000000</td>\n",
       "      <td>2.369900e+04</td>\n",
       "      <td>23699.000000</td>\n",
       "      <td>23699.000000</td>\n",
       "      <td>14504.000000</td>\n",
       "      <td>...</td>\n",
       "      <td>18181.000000</td>\n",
       "      <td>8079.000000</td>\n",
       "      <td>18181.000000</td>\n",
       "      <td>9110.000000</td>\n",
       "      <td>20518.000000</td>\n",
       "    </tr>\n",
       "    <tr>\n",
       "      <th>mean</th>\n",
       "      <td>9.858475</td>\n",
       "      <td>6.541549e+06</td>\n",
       "      <td>60.348651</td>\n",
       "      <td>2.070636</td>\n",
       "      <td>2.771499</td>\n",
       "      <td>...</td>\n",
       "      <td>0.611408</td>\n",
       "      <td>490.804555</td>\n",
       "      <td>0.770255</td>\n",
       "      <td>517.980900</td>\n",
       "      <td>180.888634</td>\n",
       "    </tr>\n",
       "    <tr>\n",
       "      <th>std</th>\n",
       "      <td>5.682529</td>\n",
       "      <td>1.088701e+07</td>\n",
       "      <td>35.654083</td>\n",
       "      <td>1.078405</td>\n",
       "      <td>1.261056</td>\n",
       "      <td>...</td>\n",
       "      <td>0.802074</td>\n",
       "      <td>342.317995</td>\n",
       "      <td>0.938346</td>\n",
       "      <td>277.720643</td>\n",
       "      <td>219.727988</td>\n",
       "    </tr>\n",
       "    <tr>\n",
       "      <th>min</th>\n",
       "      <td>0.000000</td>\n",
       "      <td>1.219000e+04</td>\n",
       "      <td>12.000000</td>\n",
       "      <td>0.000000</td>\n",
       "      <td>1.000000</td>\n",
       "      <td>...</td>\n",
       "      <td>0.000000</td>\n",
       "      <td>1.000000</td>\n",
       "      <td>0.000000</td>\n",
       "      <td>13.000000</td>\n",
       "      <td>1.000000</td>\n",
       "    </tr>\n",
       "    <tr>\n",
       "      <th>25%</th>\n",
       "      <td>6.000000</td>\n",
       "      <td>3.400000e+06</td>\n",
       "      <td>40.000000</td>\n",
       "      <td>1.000000</td>\n",
       "      <td>2.520000</td>\n",
       "      <td>...</td>\n",
       "      <td>0.000000</td>\n",
       "      <td>288.000000</td>\n",
       "      <td>0.000000</td>\n",
       "      <td>294.000000</td>\n",
       "      <td>45.000000</td>\n",
       "    </tr>\n",
       "    <tr>\n",
       "      <th>50%</th>\n",
       "      <td>9.000000</td>\n",
       "      <td>4.650000e+06</td>\n",
       "      <td>52.000000</td>\n",
       "      <td>2.000000</td>\n",
       "      <td>2.650000</td>\n",
       "      <td>...</td>\n",
       "      <td>0.000000</td>\n",
       "      <td>455.000000</td>\n",
       "      <td>1.000000</td>\n",
       "      <td>502.000000</td>\n",
       "      <td>95.000000</td>\n",
       "    </tr>\n",
       "    <tr>\n",
       "      <th>75%</th>\n",
       "      <td>14.000000</td>\n",
       "      <td>6.800000e+06</td>\n",
       "      <td>69.900000</td>\n",
       "      <td>3.000000</td>\n",
       "      <td>2.800000</td>\n",
       "      <td>...</td>\n",
       "      <td>1.000000</td>\n",
       "      <td>612.000000</td>\n",
       "      <td>1.000000</td>\n",
       "      <td>729.000000</td>\n",
       "      <td>232.000000</td>\n",
       "    </tr>\n",
       "    <tr>\n",
       "      <th>max</th>\n",
       "      <td>50.000000</td>\n",
       "      <td>7.630000e+08</td>\n",
       "      <td>900.000000</td>\n",
       "      <td>19.000000</td>\n",
       "      <td>100.000000</td>\n",
       "      <td>...</td>\n",
       "      <td>3.000000</td>\n",
       "      <td>3190.000000</td>\n",
       "      <td>3.000000</td>\n",
       "      <td>1344.000000</td>\n",
       "      <td>1580.000000</td>\n",
       "    </tr>\n",
       "  </tbody>\n",
       "</table>\n",
       "<p>8 rows × 17 columns</p>\n",
       "</div>"
      ],
      "text/plain": [
       "       total_images    last_price    total_area         rooms  ceiling_height  \\\n",
       "count  23699.000000  2.369900e+04  23699.000000  23699.000000    14504.000000   \n",
       "mean       9.858475  6.541549e+06     60.348651      2.070636        2.771499   \n",
       "std        5.682529  1.088701e+07     35.654083      1.078405        1.261056   \n",
       "min        0.000000  1.219000e+04     12.000000      0.000000        1.000000   \n",
       "25%        6.000000  3.400000e+06     40.000000      1.000000        2.520000   \n",
       "50%        9.000000  4.650000e+06     52.000000      2.000000        2.650000   \n",
       "75%       14.000000  6.800000e+06     69.900000      3.000000        2.800000   \n",
       "max       50.000000  7.630000e+08    900.000000     19.000000      100.000000   \n",
       "\n",
       "       ...  parks_around3000  parks_nearest  ponds_around3000  ponds_nearest  \\\n",
       "count  ...      18181.000000    8079.000000      18181.000000    9110.000000   \n",
       "mean   ...          0.611408     490.804555          0.770255     517.980900   \n",
       "std    ...          0.802074     342.317995          0.938346     277.720643   \n",
       "min    ...          0.000000       1.000000          0.000000      13.000000   \n",
       "25%    ...          0.000000     288.000000          0.000000     294.000000   \n",
       "50%    ...          0.000000     455.000000          1.000000     502.000000   \n",
       "75%    ...          1.000000     612.000000          1.000000     729.000000   \n",
       "max    ...          3.000000    3190.000000          3.000000    1344.000000   \n",
       "\n",
       "       days_exposition  \n",
       "count     20518.000000  \n",
       "mean        180.888634  \n",
       "std         219.727988  \n",
       "min           1.000000  \n",
       "25%          45.000000  \n",
       "50%          95.000000  \n",
       "75%         232.000000  \n",
       "max        1580.000000  \n",
       "\n",
       "[8 rows x 17 columns]"
      ]
     },
     "execution_count": 5,
     "metadata": {},
     "output_type": "execute_result"
    }
   ],
   "source": [
    "df.describe()"
   ]
  },
  {
   "cell_type": "markdown",
   "metadata": {},
   "source": [
    "**Некорректные названия столбцов:**\n",
    "* cityCenters_nearest\n",
    "* parks_around3000\n",
    "* ponds_around3000\n",
    "\n",
    "**Пропущенные значения (всего значений < 23699) присутствуют в:**\n",
    "* ceiling_height\n",
    "* floors_total\n",
    "* living_area\n",
    "* is_apartment\n",
    "* kitchen_area\n",
    "* balcony\n",
    "* locality_name\n",
    "* airports_nearest\n",
    "* cityCenters_nearest\n",
    "* parks_around3000\n",
    "* parks_nearest\n",
    "* ponds_around3000\n",
    "* ponds_nearest\n",
    "* days_exposition   "
   ]
  },
  {
   "cell_type": "markdown",
   "metadata": {},
   "source": [
    "Вывод: в данных присутствуют пропуски, не все столбцы приведены к нужному типу; вероятно, присутствуют выбросы. Названия столбцов также не корректны до конца"
   ]
  },
  {
   "cell_type": "markdown",
   "metadata": {},
   "source": [
    "### Предобработка данных"
   ]
  },
  {
   "cell_type": "markdown",
   "metadata": {},
   "source": [
    "**Для начала, приведём к нужному виду имена всех столбцов**"
   ]
  },
  {
   "cell_type": "code",
   "execution_count": 6,
   "metadata": {},
   "outputs": [],
   "source": [
    "df.columns = ['total_images', 'last_price', 'total_area', 'first_day_exposition',\n",
    "       'rooms', 'ceiling_height', 'floors_total', 'living_area', 'floor',\n",
    "       'is_apartment', 'studio', 'open_plan', 'kitchen_area', 'balcony',\n",
    "       'locality_name', 'airports_nearest', 'city_centers_nearest',\n",
    "       'parks_around_3000', 'parks_nearest', 'ponds_around_3000',\n",
    "       'ponds_nearest', 'days_exposition']"
   ]
  },
  {
   "cell_type": "markdown",
   "metadata": {},
   "source": [
    "**Напишем функцию, удаляющую данные, лежащие за 1,5 IQR:**"
   ]
  },
  {
   "cell_type": "code",
   "execution_count": 7,
   "metadata": {},
   "outputs": [],
   "source": [
    "def iqr_del(column):\n",
    "    # вычисляем квартили и IQR\n",
    "    q1 = df[column].quantile(0.25)\n",
    "    q3 = df[column].quantile(0.75)\n",
    "    iqr = q3 - q1\n",
    "    filt_df = df[(df[column] >= q1 - 2.5 * iqr) & (df[column] <= q3 + 2.5 * iqr)]\n",
    "    print(\"Данных вне размаха:\", len(df) - len(filt_df))\n",
    "    return filt_df"
   ]
  },
  {
   "cell_type": "markdown",
   "metadata": {},
   "source": [
    "**Обработаем пропуски и приведём данные в порядок:**"
   ]
  },
  {
   "cell_type": "markdown",
   "metadata": {},
   "source": [
    "Total images:"
   ]
  },
  {
   "cell_type": "code",
   "execution_count": 8,
   "metadata": {},
   "outputs": [
    {
     "data": {
      "image/png": "[encoded data removed]",
      "text/plain": [
       "<Figure size 432x288 with 1 Axes>"
      ]
     },
     "metadata": {
      "needs_background": "light"
     },
     "output_type": "display_data"
    }
   ],
   "source": [
    "_ = df.boxplot(column='total_images')"
   ]
  },
  {
   "cell_type": "code",
   "execution_count": 9,
   "metadata": {},
   "outputs": [
    {
     "name": "stdout",
     "output_type": "stream",
     "text": [
      "Данных вне размаха: 8\n"
     ]
    }
   ],
   "source": [
    "df = iqr_del('total_images')"
   ]
  },
  {
   "cell_type": "markdown",
   "metadata": {},
   "source": [
    "Last price:"
   ]
  },
  {
   "cell_type": "code",
   "execution_count": 10,
   "metadata": {},
   "outputs": [
    {
     "data": {
      "image/png": "[encoded data removed]",
      "text/plain": [
       "<Figure size 432x288 with 1 Axes>"
      ]
     },
     "metadata": {
      "needs_background": "light"
     },
     "output_type": "display_data"
    }
   ],
   "source": [
    "_ = df['last_price'].hist(bins=50)"
   ]
  },
  {
   "cell_type": "code",
   "execution_count": 11,
   "metadata": {},
   "outputs": [
    {
     "data": {
      "image/png": "[encoded data removed]",
      "text/plain": [
       "<Figure size 432x288 with 1 Axes>"
      ]
     },
     "metadata": {
      "needs_background": "light"
     },
     "output_type": "display_data"
    }
   ],
   "source": [
    "_ = df.boxplot('last_price')\n",
    "import matplotlib.pyplot as plt\n",
    "plt.ylim(0, 13_000_000)\n",
    "plt.show()"
   ]
  },
  {
   "cell_type": "code",
   "execution_count": 12,
   "metadata": {},
   "outputs": [
    {
     "name": "stdout",
     "output_type": "stream",
     "text": [
      "Данных вне размаха: 1187\n"
     ]
    }
   ],
   "source": [
    "df = iqr_del('last_price')"
   ]
  },
  {
   "cell_type": "markdown",
   "metadata": {},
   "source": [
    "Total area:"
   ]
  },
  {
   "cell_type": "code",
   "execution_count": 13,
   "metadata": {},
   "outputs": [
    {
     "data": {
      "image/png": "[encoded data removed]",
      "text/plain": [
       "<Figure size 432x288 with 1 Axes>"
      ]
     },
     "metadata": {
      "needs_background": "light"
     },
     "output_type": "display_data"
    }
   ],
   "source": [
    "_ = df['total_area'].hist(bins=20)"
   ]
  },
  {
   "cell_type": "code",
   "execution_count": 14,
   "metadata": {},
   "outputs": [
    {
     "data": {
      "image/png": "[encoded data removed]",
      "text/plain": [
       "<Figure size 432x288 with 1 Axes>"
      ]
     },
     "metadata": {
      "needs_background": "light"
     },
     "output_type": "display_data"
    }
   ],
   "source": [
    "_ = df.boxplot('total_area')"
   ]
  },
  {
   "cell_type": "code",
   "execution_count": 15,
   "metadata": {},
   "outputs": [
    {
     "name": "stdout",
     "output_type": "stream",
     "text": [
      "Данных вне размаха: 175\n"
     ]
    }
   ],
   "source": [
    "df = iqr_del('total_area')"
   ]
  },
  {
   "cell_type": "markdown",
   "metadata": {},
   "source": [
    "Floor:"
   ]
  },
  {
   "cell_type": "markdown",
   "metadata": {},
   "source": [
    "Нет смысла искать выбросы т.к. это просто номер этажа"
   ]
  },
  {
   "cell_type": "markdown",
   "metadata": {},
   "source": [
    "First day exposition:"
   ]
  },
  {
   "cell_type": "code",
   "execution_count": 16,
   "metadata": {
    "scrolled": true
   },
   "outputs": [],
   "source": [
    "df['first_day_exposition'] = pd.to_datetime(df['first_day_exposition'], format='%Y-%m-%dT%H:%M:%S')"
   ]
  },
  {
   "cell_type": "markdown",
   "metadata": {},
   "source": [
    "Тип данных был изменён на целочисленный т.к. число данные в колонке были строкогого типа, а требаволось перейти в тип данных для дат"
   ]
  },
  {
   "cell_type": "markdown",
   "metadata": {},
   "source": [
    "Rooms:"
   ]
  },
  {
   "cell_type": "code",
   "execution_count": 17,
   "metadata": {},
   "outputs": [
    {
     "data": {
      "image/png": "[encoded data removed]",
      "text/plain": [
       "<Figure size 432x288 with 1 Axes>"
      ]
     },
     "metadata": {
      "needs_background": "light"
     },
     "output_type": "display_data"
    }
   ],
   "source": [
    "_ = df['rooms'].hist(bins=20)"
   ]
  },
  {
   "cell_type": "code",
   "execution_count": 18,
   "metadata": {},
   "outputs": [
    {
     "data": {
      "image/png": "[encoded data removed]",
      "text/plain": [
       "<Figure size 432x288 with 1 Axes>"
      ]
     },
     "metadata": {
      "needs_background": "light"
     },
     "output_type": "display_data"
    }
   ],
   "source": [
    "_ = df.boxplot(column='rooms')"
   ]
  },
  {
   "cell_type": "code",
   "execution_count": 19,
   "metadata": {},
   "outputs": [
    {
     "name": "stdout",
     "output_type": "stream",
     "text": [
      "Данных вне размаха: 0\n"
     ]
    }
   ],
   "source": [
    "df = iqr_del('rooms')"
   ]
  },
  {
   "cell_type": "markdown",
   "metadata": {},
   "source": [
    "Ceiling height:"
   ]
  },
  {
   "cell_type": "code",
   "execution_count": 20,
   "metadata": {},
   "outputs": [
    {
     "data": {
      "image/png": "[encoded data removed]",
      "text/plain": [
       "<Figure size 432x288 with 1 Axes>"
      ]
     },
     "metadata": {
      "needs_background": "light"
     },
     "output_type": "display_data"
    }
   ],
   "source": [
    "_ = df['ceiling_height'].hist(bins=30)"
   ]
  },
  {
   "cell_type": "code",
   "execution_count": 21,
   "metadata": {},
   "outputs": [],
   "source": [
    "def right_height(row):\n",
    "    if row['ceiling_height'] < 2:\n",
    "        return row['ceiling_height'] * 10\n",
    "    if row['ceiling_height'] > 14:\n",
    "        return row['ceiling_height'] / 10\n",
    "    return row['ceiling_height']\n",
    "df['ceiling_height'] = df.apply(right_height, axis=1)"
   ]
  },
  {
   "cell_type": "code",
   "execution_count": 22,
   "metadata": {},
   "outputs": [],
   "source": [
    "df['ceiling_height'] = df['ceiling_height'].fillna(df['ceiling_height'].median())"
   ]
  },
  {
   "cell_type": "code",
   "execution_count": 23,
   "metadata": {},
   "outputs": [
    {
     "data": {
      "image/png": "[encoded data removed]",
      "text/plain": [
       "<Figure size 432x288 with 1 Axes>"
      ]
     },
     "metadata": {
      "needs_background": "light"
     },
     "output_type": "display_data"
    }
   ],
   "source": [
    "_ = df.boxplot(column='ceiling_height')"
   ]
  },
  {
   "cell_type": "code",
   "execution_count": 24,
   "metadata": {},
   "outputs": [
    {
     "name": "stdout",
     "output_type": "stream",
     "text": [
      "Данных вне размаха: 1963\n"
     ]
    }
   ],
   "source": [
    "df = iqr_del('ceiling_height')"
   ]
  },
  {
   "cell_type": "markdown",
   "metadata": {},
   "source": [
    "Total floors:"
   ]
  },
  {
   "cell_type": "code",
   "execution_count": 25,
   "metadata": {},
   "outputs": [
    {
     "data": {
      "image/png": "[encoded data removed]",
      "text/plain": [
       "<Figure size 432x288 with 1 Axes>"
      ]
     },
     "metadata": {
      "needs_background": "light"
     },
     "output_type": "display_data"
    }
   ],
   "source": [
    "_ = df['floors_total'].hist(bins=30)"
   ]
  },
  {
   "cell_type": "code",
   "execution_count": 26,
   "metadata": {},
   "outputs": [],
   "source": [
    "df['floors_total'] = df['floors_total'].fillna(1)"
   ]
  },
  {
   "cell_type": "code",
   "execution_count": 27,
   "metadata": {},
   "outputs": [],
   "source": [
    "df['floors_total'] = df['floors_total'].astype(int)"
   ]
  },
  {
   "cell_type": "code",
   "execution_count": 28,
   "metadata": {},
   "outputs": [
    {
     "data": {
      "image/png": "[encoded data removed]",
      "text/plain": [
       "<Figure size 432x288 with 1 Axes>"
      ]
     },
     "metadata": {
      "needs_background": "light"
     },
     "output_type": "display_data"
    }
   ],
   "source": [
    "_ = df.boxplot(column='floors_total')"
   ]
  },
  {
   "cell_type": "code",
   "execution_count": 29,
   "metadata": {},
   "outputs": [
    {
     "name": "stdout",
     "output_type": "stream",
     "text": [
      "Данных вне размаха: 2\n"
     ]
    }
   ],
   "source": [
    "df = iqr_del('floors_total')"
   ]
  },
  {
   "cell_type": "markdown",
   "metadata": {},
   "source": [
    "Тип данных был изменён на целочисленный т.к. число этажей - дискретно"
   ]
  },
  {
   "cell_type": "markdown",
   "metadata": {},
   "source": [
    "Living area:"
   ]
  },
  {
   "cell_type": "code",
   "execution_count": 30,
   "metadata": {},
   "outputs": [
    {
     "data": {
      "image/png": "[encoded data removed]",
      "text/plain": [
       "<Figure size 432x288 with 1 Axes>"
      ]
     },
     "metadata": {
      "needs_background": "light"
     },
     "output_type": "display_data"
    }
   ],
   "source": [
    "_ = df['living_area'].hist(bins=30)"
   ]
  },
  {
   "cell_type": "markdown",
   "metadata": {},
   "source": [
    "Для более точного заполнения пропусков попробуем выяснить, влияет количество этажей и наличие балконов на общую площадь:"
   ]
  },
  {
   "cell_type": "code",
   "execution_count": 31,
   "metadata": {},
   "outputs": [
    {
     "data": {
      "text/plain": [
       "-0.12372402353080104"
      ]
     },
     "execution_count": 31,
     "metadata": {},
     "output_type": "execute_result"
    }
   ],
   "source": [
    "df['living_area'].corr(df['floors_total'])"
   ]
  },
  {
   "cell_type": "code",
   "execution_count": 32,
   "metadata": {},
   "outputs": [
    {
     "data": {
      "text/plain": [
       "0.0845285591870622"
      ]
     },
     "execution_count": 32,
     "metadata": {},
     "output_type": "execute_result"
    }
   ],
   "source": [
    "df['living_area'].corr(df['balcony'])"
   ]
  },
  {
   "cell_type": "code",
   "execution_count": 33,
   "metadata": {},
   "outputs": [
    {
     "data": {
      "text/plain": [
       "1631"
      ]
     },
     "execution_count": 33,
     "metadata": {},
     "output_type": "execute_result"
    }
   ],
   "source": [
    "#df['living_area'] = df['living_area'].fillna(df['living_area'].mean())\n",
    "df['living_area'].isna().sum()"
   ]
  },
  {
   "cell_type": "code",
   "execution_count": 34,
   "metadata": {},
   "outputs": [
    {
     "data": {
      "image/png": "[encoded data removed]",
      "text/plain": [
       "<Figure size 432x288 with 1 Axes>"
      ]
     },
     "metadata": {
      "needs_background": "light"
     },
     "output_type": "display_data"
    }
   ],
   "source": [
    "_ = df.boxplot(column='living_area')"
   ]
  },
  {
   "cell_type": "code",
   "execution_count": 35,
   "metadata": {},
   "outputs": [
    {
     "name": "stdout",
     "output_type": "stream",
     "text": [
      "Данных вне размаха: 1635\n"
     ]
    }
   ],
   "source": [
    "df = iqr_del('living_area')"
   ]
  },
  {
   "cell_type": "code",
   "execution_count": 36,
   "metadata": {},
   "outputs": [
    {
     "data": {
      "text/plain": [
       "0"
      ]
     },
     "execution_count": 36,
     "metadata": {},
     "output_type": "execute_result"
    }
   ],
   "source": [
    "df['living_area'].isna().sum()"
   ]
  },
  {
   "cell_type": "markdown",
   "metadata": {},
   "source": [
    "Все пропуски оказались за размахом и были удалены"
   ]
  },
  {
   "cell_type": "markdown",
   "metadata": {},
   "source": [
    "Is apartment:"
   ]
  },
  {
   "cell_type": "code",
   "execution_count": 37,
   "metadata": {},
   "outputs": [
    {
     "name": "stdout",
     "output_type": "stream",
     "text": [
      "15\n",
      "2201\n",
      "16513\n"
     ]
    }
   ],
   "source": [
    "print(df.loc[df['is_apartment'] == True, 'is_apartment'].count())\n",
    "print(df.loc[df['is_apartment'] == False, 'is_apartment'].count())\n",
    "print(df['is_apartment'].isna().sum())"
   ]
  },
  {
   "cell_type": "markdown",
   "metadata": {},
   "source": [
    "Пропусков слишком много и непонятно, что с ними делать; оставим как есть."
   ]
  },
  {
   "cell_type": "markdown",
   "metadata": {},
   "source": [
    "Kitchen area:"
   ]
  },
  {
   "cell_type": "code",
   "execution_count": 38,
   "metadata": {},
   "outputs": [
    {
     "data": {
      "image/png": "[encoded data removed]",
      "text/plain": [
       "<Figure size 432x288 with 1 Axes>"
      ]
     },
     "metadata": {
      "needs_background": "light"
     },
     "output_type": "display_data"
    }
   ],
   "source": [
    "_ = df['kitchen_area'].hist(bins=30)"
   ]
  },
  {
   "cell_type": "code",
   "execution_count": 39,
   "metadata": {},
   "outputs": [],
   "source": [
    "def correct_area(row):\n",
    "    if (row['kitchen_area'] >= row['living_area']) \\\n",
    "    or (row['kitchen_area'] / row['living_area'] > 0.9):\n",
    "        return row['kitchen_area'] / 10\n",
    "    return row['kitchen_area']\n",
    "df['kitchen_area'] = df.apply(correct_area, axis=1)"
   ]
  },
  {
   "cell_type": "code",
   "execution_count": 40,
   "metadata": {},
   "outputs": [
    {
     "data": {
      "text/plain": [
       "0.34761662641596436"
      ]
     },
     "execution_count": 40,
     "metadata": {},
     "output_type": "execute_result"
    }
   ],
   "source": [
    "k = (df['kitchen_area'] / df['living_area']).mean()\n",
    "k"
   ]
  },
  {
   "cell_type": "markdown",
   "metadata": {},
   "source": [
    "Заполним пропуски отталкисваясь от среднего процентного соотношения площадей кухни и всего помещения:"
   ]
  },
  {
   "cell_type": "code",
   "execution_count": 41,
   "metadata": {},
   "outputs": [],
   "source": [
    "def my_na_fill(row):\n",
    "    if math.isnan(row['kitchen_area']):\n",
    "        return row['living_area'] * k\n",
    "    return row['kitchen_area']\n",
    "df['kitchen_area'] = df.apply(my_na_fill, axis=1)"
   ]
  },
  {
   "cell_type": "code",
   "execution_count": 42,
   "metadata": {},
   "outputs": [
    {
     "data": {
      "image/png": "[encoded data removed]",
      "text/plain": [
       "<Figure size 432x288 with 1 Axes>"
      ]
     },
     "metadata": {
      "needs_background": "light"
     },
     "output_type": "display_data"
    }
   ],
   "source": [
    "_ = df.boxplot(column='kitchen_area')"
   ]
  },
  {
   "cell_type": "code",
   "execution_count": 43,
   "metadata": {},
   "outputs": [
    {
     "name": "stdout",
     "output_type": "stream",
     "text": [
      "Данных вне размаха: 168\n"
     ]
    }
   ],
   "source": [
    "df = iqr_del('kitchen_area')"
   ]
  },
  {
   "cell_type": "markdown",
   "metadata": {},
   "source": [
    "Balcony:"
   ]
  },
  {
   "cell_type": "code",
   "execution_count": 44,
   "metadata": {},
   "outputs": [
    {
     "data": {
      "image/png": "[encoded data removed]",
      "text/plain": [
       "<Figure size 432x288 with 1 Axes>"
      ]
     },
     "metadata": {
      "needs_background": "light"
     },
     "output_type": "display_data"
    }
   ],
   "source": [
    "_ = df['balcony'].hist(bins=10)"
   ]
  },
  {
   "cell_type": "code",
   "execution_count": 45,
   "metadata": {},
   "outputs": [],
   "source": [
    "df['balcony'] = df['balcony'].fillna(0)"
   ]
  },
  {
   "cell_type": "code",
   "execution_count": 46,
   "metadata": {},
   "outputs": [],
   "source": [
    "df['balcony'] = df['balcony'].astype(int)"
   ]
  },
  {
   "cell_type": "markdown",
   "metadata": {},
   "source": [
    "Большое число балконов сложно считать выбросами в крупных домах;"
   ]
  },
  {
   "cell_type": "markdown",
   "metadata": {},
   "source": [
    "Тип данных был изменён на целочисленный т.к. число балконов - дискретно"
   ]
  },
  {
   "cell_type": "markdown",
   "metadata": {},
   "source": [
    "Nearest airports:"
   ]
  },
  {
   "cell_type": "code",
   "execution_count": 47,
   "metadata": {},
   "outputs": [
    {
     "data": {
      "image/png": "[encoded data removed]",
      "text/plain": [
       "<Figure size 432x288 with 1 Axes>"
      ]
     },
     "metadata": {
      "needs_background": "light"
     },
     "output_type": "display_data"
    }
   ],
   "source": [
    "_ = df['airports_nearest'].hist(bins=20)"
   ]
  },
  {
   "cell_type": "code",
   "execution_count": 48,
   "metadata": {},
   "outputs": [],
   "source": [
    "df['airports_nearest'] = df['airports_nearest'].fillna(df['airports_nearest'].median())"
   ]
  },
  {
   "cell_type": "code",
   "execution_count": 49,
   "metadata": {},
   "outputs": [
    {
     "data": {
      "image/png": "[encoded data removed]",
      "text/plain": [
       "<Figure size 432x288 with 1 Axes>"
      ]
     },
     "metadata": {
      "needs_background": "light"
     },
     "output_type": "display_data"
    }
   ],
   "source": [
    "_ = df.boxplot(column='airports_nearest')"
   ]
  },
  {
   "cell_type": "code",
   "execution_count": 50,
   "metadata": {},
   "outputs": [
    {
     "name": "stdout",
     "output_type": "stream",
     "text": [
      "Данных вне размаха: 16\n"
     ]
    }
   ],
   "source": [
    "df = iqr_del('airports_nearest')"
   ]
  },
  {
   "cell_type": "markdown",
   "metadata": {},
   "source": [
    "Nearest ciry centers:"
   ]
  },
  {
   "cell_type": "code",
   "execution_count": 51,
   "metadata": {},
   "outputs": [
    {
     "data": {
      "image/png": "[encoded data removed]",
      "text/plain": [
       "<Figure size 432x288 with 1 Axes>"
      ]
     },
     "metadata": {
      "needs_background": "light"
     },
     "output_type": "display_data"
    }
   ],
   "source": [
    "_ = df['city_centers_nearest'].hist(bins=20)"
   ]
  },
  {
   "cell_type": "code",
   "execution_count": 52,
   "metadata": {},
   "outputs": [],
   "source": [
    "df['city_centers_nearest'] = df['city_centers_nearest'].fillna(df['city_centers_nearest'].median())"
   ]
  },
  {
   "cell_type": "code",
   "execution_count": 53,
   "metadata": {},
   "outputs": [
    {
     "data": {
      "image/png": "[encoded data removed]",
      "text/plain": [
       "<Figure size 432x288 with 1 Axes>"
      ]
     },
     "metadata": {
      "needs_background": "light"
     },
     "output_type": "display_data"
    }
   ],
   "source": [
    "_ = df.boxplot(column='city_centers_nearest')"
   ]
  },
  {
   "cell_type": "code",
   "execution_count": 54,
   "metadata": {},
   "outputs": [
    {
     "name": "stdout",
     "output_type": "stream",
     "text": [
      "Данных вне размаха: 1846\n"
     ]
    }
   ],
   "source": [
    "df = iqr_del('city_centers_nearest')"
   ]
  },
  {
   "cell_type": "markdown",
   "metadata": {},
   "source": [
    "Parks and ponds around 3km:"
   ]
  },
  {
   "cell_type": "code",
   "execution_count": 55,
   "metadata": {},
   "outputs": [
    {
     "data": {
      "image/png": "[encoded data removed]",
      "text/plain": [
       "<Figure size 432x288 with 1 Axes>"
      ]
     },
     "metadata": {
      "needs_background": "light"
     },
     "output_type": "display_data"
    }
   ],
   "source": [
    "_ = df['parks_around_3000'].hist(bins=10)"
   ]
  },
  {
   "cell_type": "code",
   "execution_count": 56,
   "metadata": {},
   "outputs": [
    {
     "data": {
      "text/html": [
       "<div>\n",
       "<style scoped>\n",
       "    .dataframe tbody tr th:only-of-type {\n",
       "        vertical-align: middle;\n",
       "    }\n",
       "\n",
       "    .dataframe tbody tr th {\n",
       "        vertical-align: top;\n",
       "    }\n",
       "\n",
       "    .dataframe thead th {\n",
       "        text-align: right;\n",
       "    }\n",
       "</style>\n",
       "<table border=\"1\" class=\"dataframe\">\n",
       "  <thead>\n",
       "    <tr style=\"text-align: right;\">\n",
       "      <th></th>\n",
       "      <th>parks_nearest</th>\n",
       "      <th>parks_around_3000</th>\n",
       "    </tr>\n",
       "  </thead>\n",
       "  <tbody>\n",
       "  </tbody>\n",
       "</table>\n",
       "</div>"
      ],
      "text/plain": [
       "Empty DataFrame\n",
       "Columns: [parks_nearest, parks_around_3000]\n",
       "Index: []"
      ]
     },
     "execution_count": 56,
     "metadata": {},
     "output_type": "execute_result"
    }
   ],
   "source": [
    "df.loc[df['parks_nearest'] <= 3000 \\\n",
    "       & (df['parks_nearest'].isna() | df['parks_nearest'] == 0), \\\n",
    "       ['parks_nearest', 'parks_around_3000']]"
   ]
  },
  {
   "cell_type": "code",
   "execution_count": 57,
   "metadata": {},
   "outputs": [],
   "source": [
    "df['parks_around_3000'] = df['parks_around_3000'].fillna(0)"
   ]
  },
  {
   "cell_type": "code",
   "execution_count": 58,
   "metadata": {},
   "outputs": [],
   "source": [
    "df['parks_around_3000'] = df['parks_around_3000'].astype(int)"
   ]
  },
  {
   "cell_type": "markdown",
   "metadata": {},
   "source": [
    "Тип данных был изменён на целочисленный т.к. число парков в радиусе 3км - дискретно"
   ]
  },
  {
   "cell_type": "code",
   "execution_count": 59,
   "metadata": {},
   "outputs": [
    {
     "data": {
      "image/png": "[encoded data removed]",
      "text/plain": [
       "<Figure size 432x288 with 1 Axes>"
      ]
     },
     "metadata": {
      "needs_background": "light"
     },
     "output_type": "display_data"
    }
   ],
   "source": [
    "_ = df['ponds_around_3000'].hist(bins=10)"
   ]
  },
  {
   "cell_type": "code",
   "execution_count": 60,
   "metadata": {},
   "outputs": [
    {
     "data": {
      "text/html": [
       "<div>\n",
       "<style scoped>\n",
       "    .dataframe tbody tr th:only-of-type {\n",
       "        vertical-align: middle;\n",
       "    }\n",
       "\n",
       "    .dataframe tbody tr th {\n",
       "        vertical-align: top;\n",
       "    }\n",
       "\n",
       "    .dataframe thead th {\n",
       "        text-align: right;\n",
       "    }\n",
       "</style>\n",
       "<table border=\"1\" class=\"dataframe\">\n",
       "  <thead>\n",
       "    <tr style=\"text-align: right;\">\n",
       "      <th></th>\n",
       "      <th>ponds_nearest</th>\n",
       "      <th>ponds_around_3000</th>\n",
       "    </tr>\n",
       "  </thead>\n",
       "  <tbody>\n",
       "  </tbody>\n",
       "</table>\n",
       "</div>"
      ],
      "text/plain": [
       "Empty DataFrame\n",
       "Columns: [ponds_nearest, ponds_around_3000]\n",
       "Index: []"
      ]
     },
     "execution_count": 60,
     "metadata": {},
     "output_type": "execute_result"
    }
   ],
   "source": [
    "df.loc[df['ponds_nearest'] <= 3000 \\\n",
    "       & (df['ponds_nearest'].isna() | df['ponds_nearest'] == 0), \\\n",
    "       ['ponds_nearest', 'ponds_around_3000']]"
   ]
  },
  {
   "cell_type": "code",
   "execution_count": 61,
   "metadata": {},
   "outputs": [],
   "source": [
    "df['ponds_around_3000'] = df['ponds_around_3000'].fillna(0)"
   ]
  },
  {
   "cell_type": "code",
   "execution_count": 62,
   "metadata": {},
   "outputs": [],
   "source": [
    "df['ponds_around_3000'] = df['ponds_around_3000'].astype(int)"
   ]
  },
  {
   "cell_type": "markdown",
   "metadata": {},
   "source": [
    "Тип данных был изменён на целочисленный т.к. число прудов в радиусе 3км - дискретно"
   ]
  },
  {
   "cell_type": "markdown",
   "metadata": {},
   "source": [
    "Ponds and Parks nearest:"
   ]
  },
  {
   "cell_type": "markdown",
   "metadata": {},
   "source": [
    "Пропущенных данных в столбцах ponds_nearest и parks_nearest очень большое количество; вероятно, пользователи просто не заполняли соответствующие графы. Заполним пропуски медианным значением:"
   ]
  },
  {
   "cell_type": "code",
   "execution_count": 63,
   "metadata": {},
   "outputs": [
    {
     "data": {
      "image/png": "[encoded data removed]",
      "text/plain": [
       "<Figure size 432x288 with 1 Axes>"
      ]
     },
     "metadata": {
      "needs_background": "light"
     },
     "output_type": "display_data"
    }
   ],
   "source": [
    "_ = df['parks_nearest'].hist(bins=20)"
   ]
  },
  {
   "cell_type": "code",
   "execution_count": 64,
   "metadata": {},
   "outputs": [
    {
     "data": {
      "image/png": "[encoded data removed]",
      "text/plain": [
       "<Figure size 432x288 with 1 Axes>"
      ]
     },
     "metadata": {
      "needs_background": "light"
     },
     "output_type": "display_data"
    }
   ],
   "source": [
    "_ = df['ponds_nearest'].hist(bins=20)"
   ]
  },
  {
   "cell_type": "code",
   "execution_count": 65,
   "metadata": {},
   "outputs": [],
   "source": [
    "df['parks_nearest'] = df['parks_nearest'].fillna(df['parks_nearest'].median())\n",
    "df['ponds_nearest'] = df['ponds_nearest'].fillna(df['ponds_nearest'].median())"
   ]
  },
  {
   "cell_type": "markdown",
   "metadata": {},
   "source": [
    "Days exposition:"
   ]
  },
  {
   "cell_type": "markdown",
   "metadata": {},
   "source": [
    "Вероятно, пропущенные значения - новые объявления; заполним нулями:"
   ]
  },
  {
   "cell_type": "code",
   "execution_count": 66,
   "metadata": {},
   "outputs": [
    {
     "data": {
      "image/png": "[encoded data removed]",
      "text/plain": [
       "<Figure size 432x288 with 1 Axes>"
      ]
     },
     "metadata": {
      "needs_background": "light"
     },
     "output_type": "display_data"
    }
   ],
   "source": [
    "_ = df['days_exposition'].hist(bins=20)"
   ]
  },
  {
   "cell_type": "code",
   "execution_count": 67,
   "metadata": {},
   "outputs": [],
   "source": [
    "df['days_exposition'] = df['days_exposition'].fillna(0)"
   ]
  },
  {
   "cell_type": "code",
   "execution_count": 68,
   "metadata": {},
   "outputs": [
    {
     "data": {
      "image/png": "[encoded data removed]",
      "text/plain": [
       "<Figure size 432x288 with 1 Axes>"
      ]
     },
     "metadata": {
      "needs_background": "light"
     },
     "output_type": "display_data"
    }
   ],
   "source": [
    "_ = df.boxplot(column='days_exposition')"
   ]
  },
  {
   "cell_type": "code",
   "execution_count": 69,
   "metadata": {},
   "outputs": [
    {
     "name": "stdout",
     "output_type": "stream",
     "text": [
      "Данных вне размаха: 746\n"
     ]
    }
   ],
   "source": [
    "df = iqr_del('days_exposition')"
   ]
  },
  {
   "cell_type": "markdown",
   "metadata": {},
   "source": [
    "Природа пропущенных данных во всех столбцах, скорее всего, такова: пользователи сами решили не указывать те или иные данные (число балконов, высота потолков и т.д.)\n",
    "Также есть вероятность, что произошёл сбой при загрузке данных в систему;"
   ]
  },
  {
   "cell_type": "markdown",
   "metadata": {},
   "source": [
    "Найдём явные и неявные дубликаты и избавимся от них"
   ]
  },
  {
   "cell_type": "code",
   "execution_count": 70,
   "metadata": {},
   "outputs": [
    {
     "data": {
      "text/plain": [
       "0"
      ]
     },
     "execution_count": 70,
     "metadata": {},
     "output_type": "execute_result"
    }
   ],
   "source": [
    "df.duplicated().sum()"
   ]
  },
  {
   "cell_type": "markdown",
   "metadata": {},
   "source": [
    "=> Явных дубликатов нет;"
   ]
  },
  {
   "cell_type": "code",
   "execution_count": 71,
   "metadata": {},
   "outputs": [],
   "source": [
    "df['locality_name'] = df['locality_name'].fillna('')"
   ]
  },
  {
   "cell_type": "code",
   "execution_count": 72,
   "metadata": {
    "scrolled": true
   },
   "outputs": [],
   "source": [
    "def splitter(row):\n",
    "    if row['locality_name']:\n",
    "        return row['locality_name'].split()[-1]\n",
    "    return 'unknown'\n",
    "\n",
    "df['locality_name'] = df.apply(splitter, axis=1)"
   ]
  },
  {
   "cell_type": "code",
   "execution_count": 73,
   "metadata": {},
   "outputs": [
    {
     "name": "stdout",
     "output_type": "stream",
     "text": [
      "<class 'pandas.core.frame.DataFrame'>\n",
      "Int64Index: 15953 entries, 1 to 23698\n",
      "Data columns (total 22 columns):\n",
      " #   Column                Non-Null Count  Dtype         \n",
      "---  ------                --------------  -----         \n",
      " 0   total_images          15953 non-null  int64         \n",
      " 1   last_price            15953 non-null  float64       \n",
      " 2   total_area            15953 non-null  float64       \n",
      " 3   first_day_exposition  15953 non-null  datetime64[ns]\n",
      " 4   rooms                 15953 non-null  int64         \n",
      " 5   ceiling_height        15953 non-null  float64       \n",
      " 6   floors_total          15953 non-null  int64         \n",
      " 7   living_area           15953 non-null  float64       \n",
      " 8   floor                 15953 non-null  int64         \n",
      " 9   is_apartment          1855 non-null   object        \n",
      " 10  studio                15953 non-null  bool          \n",
      " 11  open_plan             15953 non-null  bool          \n",
      " 12  kitchen_area          15953 non-null  float64       \n",
      " 13  balcony               15953 non-null  int64         \n",
      " 14  locality_name         15953 non-null  object        \n",
      " 15  airports_nearest      15953 non-null  float64       \n",
      " 16  city_centers_nearest  15953 non-null  float64       \n",
      " 17  parks_around_3000     15953 non-null  int64         \n",
      " 18  parks_nearest         15953 non-null  float64       \n",
      " 19  ponds_around_3000     15953 non-null  int64         \n",
      " 20  ponds_nearest         15953 non-null  float64       \n",
      " 21  days_exposition       15953 non-null  float64       \n",
      "dtypes: bool(2), datetime64[ns](1), float64(10), int64(7), object(2)\n",
      "memory usage: 2.6+ MB\n"
     ]
    }
   ],
   "source": [
    "df.info()"
   ]
  },
  {
   "cell_type": "code",
   "execution_count": 74,
   "metadata": {},
   "outputs": [],
   "source": [
    "df['last_price'] = df['last_price'].astype(int)"
   ]
  },
  {
   "cell_type": "code",
   "execution_count": 75,
   "metadata": {},
   "outputs": [
    {
     "name": "stdout",
     "output_type": "stream",
     "text": [
      "<class 'pandas.core.frame.DataFrame'>\n",
      "Int64Index: 15953 entries, 1 to 23698\n",
      "Data columns (total 22 columns):\n",
      " #   Column                Non-Null Count  Dtype         \n",
      "---  ------                --------------  -----         \n",
      " 0   total_images          15953 non-null  int64         \n",
      " 1   last_price            15953 non-null  int64         \n",
      " 2   total_area            15953 non-null  float64       \n",
      " 3   first_day_exposition  15953 non-null  datetime64[ns]\n",
      " 4   rooms                 15953 non-null  int64         \n",
      " 5   ceiling_height        15953 non-null  float64       \n",
      " 6   floors_total          15953 non-null  int64         \n",
      " 7   living_area           15953 non-null  float64       \n",
      " 8   floor                 15953 non-null  int64         \n",
      " 9   is_apartment          1855 non-null   object        \n",
      " 10  studio                15953 non-null  bool          \n",
      " 11  open_plan             15953 non-null  bool          \n",
      " 12  kitchen_area          15953 non-null  float64       \n",
      " 13  balcony               15953 non-null  int64         \n",
      " 14  locality_name         15953 non-null  object        \n",
      " 15  airports_nearest      15953 non-null  float64       \n",
      " 16  city_centers_nearest  15953 non-null  float64       \n",
      " 17  parks_around_3000     15953 non-null  int64         \n",
      " 18  parks_nearest         15953 non-null  float64       \n",
      " 19  ponds_around_3000     15953 non-null  int64         \n",
      " 20  ponds_nearest         15953 non-null  float64       \n",
      " 21  days_exposition       15953 non-null  float64       \n",
      "dtypes: bool(2), datetime64[ns](1), float64(9), int64(8), object(2)\n",
      "memory usage: 2.6+ MB\n"
     ]
    }
   ],
   "source": [
    "df.info()"
   ]
  },
  {
   "cell_type": "markdown",
   "metadata": {},
   "source": [
    "Вывод: все пропуски заполнены, всё приведено к нужному типу данных; также обработаны выбросы (из большинства столбцов выкинуты значения, лежащие за 2,5 межквартильного размаха); обработаны неявные дубликаты, подправленны некорректные значения"
   ]
  },
  {
   "cell_type": "markdown",
   "metadata": {},
   "source": [
    "### Посчитаем и добавим в таблицу новые столбцы"
   ]
  },
  {
   "cell_type": "code",
   "execution_count": 76,
   "metadata": {},
   "outputs": [],
   "source": [
    "df['square_meter_price'] = df['last_price'] / df['total_area']"
   ]
  },
  {
   "cell_type": "code",
   "execution_count": 77,
   "metadata": {},
   "outputs": [
    {
     "data": {
      "text/plain": [
       "1        0\n",
       "2        6\n",
       "5        2\n",
       "6        2\n",
       "8        0\n",
       "        ..\n",
       "23691    6\n",
       "23692    6\n",
       "23695    3\n",
       "23696    6\n",
       "23698    1\n",
       "Name: weekday_exposition, Length: 15953, dtype: UInt32"
      ]
     },
     "execution_count": 77,
     "metadata": {},
     "output_type": "execute_result"
    }
   ],
   "source": [
    "df['weekday_exposition'] = df['first_day_exposition'].dt.isocalendar().week % 7\n",
    "df['weekday_exposition']"
   ]
  },
  {
   "cell_type": "code",
   "execution_count": 78,
   "metadata": {},
   "outputs": [
    {
     "data": {
      "text/plain": [
       "1        12\n",
       "2         8\n",
       "5         9\n",
       "6        11\n",
       "8         5\n",
       "         ..\n",
       "23691    10\n",
       "23692     7\n",
       "23695     1\n",
       "23696     2\n",
       "23698     7\n",
       "Name: month_exposition, Length: 15953, dtype: int64"
      ]
     },
     "execution_count": 78,
     "metadata": {},
     "output_type": "execute_result"
    }
   ],
   "source": [
    "df['month_exposition'] = df['first_day_exposition'].dt.month\n",
    "df['month_exposition']"
   ]
  },
  {
   "cell_type": "code",
   "execution_count": 79,
   "metadata": {},
   "outputs": [
    {
     "data": {
      "text/plain": [
       "1        2018\n",
       "2        2015\n",
       "5        2018\n",
       "6        2017\n",
       "8        2018\n",
       "         ... \n",
       "23691    2016\n",
       "23692    2017\n",
       "23695    2018\n",
       "23696    2018\n",
       "23698    2017\n",
       "Name: year_exposition, Length: 15953, dtype: int64"
      ]
     },
     "execution_count": 79,
     "metadata": {},
     "output_type": "execute_result"
    }
   ],
   "source": [
    "df['year_exposition'] = df['first_day_exposition'].dt.year\n",
    "df['year_exposition']"
   ]
  },
  {
   "cell_type": "code",
   "execution_count": 80,
   "metadata": {},
   "outputs": [
    {
     "data": {
      "text/plain": [
       "Index(['total_images', 'last_price', 'total_area', 'first_day_exposition',\n",
       "       'rooms', 'ceiling_height', 'floors_total', 'living_area', 'floor',\n",
       "       'is_apartment', 'studio', 'open_plan', 'kitchen_area', 'balcony',\n",
       "       'locality_name', 'airports_nearest', 'city_centers_nearest',\n",
       "       'parks_around_3000', 'parks_nearest', 'ponds_around_3000',\n",
       "       'ponds_nearest', 'days_exposition', 'square_meter_price',\n",
       "       'weekday_exposition', 'month_exposition', 'year_exposition'],\n",
       "      dtype='object')"
      ]
     },
     "execution_count": 80,
     "metadata": {},
     "output_type": "execute_result"
    }
   ],
   "source": [
    "df.columns"
   ]
  },
  {
   "cell_type": "code",
   "execution_count": 81,
   "metadata": {},
   "outputs": [],
   "source": [
    "def floor_type(row):\n",
    "    if row['floor'] == 1:\n",
    "        return 'первый'\n",
    "    elif row['floor'] == row['floors_total']:\n",
    "        return 'последний'\n",
    "    return 'другой'"
   ]
  },
  {
   "cell_type": "code",
   "execution_count": 82,
   "metadata": {},
   "outputs": [
    {
     "data": {
      "text/plain": [
       "1        первый\n",
       "2        другой\n",
       "5        другой\n",
       "6        другой\n",
       "8        другой\n",
       "          ...  \n",
       "23691    другой\n",
       "23692    другой\n",
       "23695    другой\n",
       "23696    первый\n",
       "23698    первый\n",
       "Name: floor_type, Length: 15953, dtype: object"
      ]
     },
     "execution_count": 82,
     "metadata": {},
     "output_type": "execute_result"
    }
   ],
   "source": [
    "df['floor_type'] = df.apply(floor_type, axis=1)\n",
    "df['floor_type']"
   ]
  },
  {
   "cell_type": "code",
   "execution_count": 83,
   "metadata": {},
   "outputs": [
    {
     "data": {
      "text/plain": [
       "1        18\n",
       "2        13\n",
       "5        13\n",
       "6        19\n",
       "8        13\n",
       "         ..\n",
       "23691     4\n",
       "23692    13\n",
       "23695    13\n",
       "23696    13\n",
       "23698    13\n",
       "Name: city_centers_nearest_km, Length: 15953, dtype: int64"
      ]
     },
     "execution_count": 83,
     "metadata": {},
     "output_type": "execute_result"
    }
   ],
   "source": [
    "df['city_centers_nearest_km'] = (df['city_centers_nearest'] / 1000).astype(int)\n",
    "df['city_centers_nearest_km']"
   ]
  },
  {
   "cell_type": "markdown",
   "metadata": {},
   "source": [
    "### Проведите исследовательский анализ данных"
   ]
  },
  {
   "cell_type": "code",
   "execution_count": 84,
   "metadata": {},
   "outputs": [
    {
     "data": {
      "image/png": "[encoded data removed]",
      "text/plain": [
       "<Figure size 432x288 with 1 Axes>"
      ]
     },
     "metadata": {
      "needs_background": "light"
     },
     "output_type": "display_data"
    }
   ],
   "source": [
    "_ = df['total_area'].hist()"
   ]
  },
  {
   "cell_type": "code",
   "execution_count": 85,
   "metadata": {},
   "outputs": [
    {
     "name": "stdout",
     "output_type": "stream",
     "text": [
      "med: 47.8\n"
     ]
    },
    {
     "data": {
      "text/plain": [
       "count    15953.000000\n",
       "mean        52.072069\n",
       "std         18.034133\n",
       "min         14.000000\n",
       "25%         38.300000\n",
       "50%         47.800000\n",
       "75%         62.000000\n",
       "max        132.000000\n",
       "Name: total_area, dtype: float64"
      ]
     },
     "execution_count": 85,
     "metadata": {},
     "output_type": "execute_result"
    }
   ],
   "source": [
    "print('med:', df['total_area'].median())\n",
    "df['total_area'].describe()"
   ]
  },
  {
   "cell_type": "markdown",
   "metadata": {},
   "source": [
    "Здесь мы видим, что средняя общая площадь ~52кв.м, очень редки квартиры площадью большей 100 и меньшей 20"
   ]
  },
  {
   "cell_type": "code",
   "execution_count": 86,
   "metadata": {},
   "outputs": [
    {
     "data": {
      "image/png": "[encoded data removed]",
      "text/plain": [
       "<Figure size 432x288 with 1 Axes>"
      ]
     },
     "metadata": {
      "needs_background": "light"
     },
     "output_type": "display_data"
    }
   ],
   "source": [
    "_ = df['living_area'].hist()"
   ]
  },
  {
   "cell_type": "code",
   "execution_count": 87,
   "metadata": {},
   "outputs": [
    {
     "name": "stdout",
     "output_type": "stream",
     "text": [
      "med: 28.7\n"
     ]
    },
    {
     "data": {
      "text/plain": [
       "count    15953.000000\n",
       "mean        29.626455\n",
       "std         12.582585\n",
       "min          2.000000\n",
       "25%         18.000000\n",
       "50%         28.700000\n",
       "75%         38.000000\n",
       "max         90.000000\n",
       "Name: living_area, dtype: float64"
      ]
     },
     "execution_count": 87,
     "metadata": {},
     "output_type": "execute_result"
    }
   ],
   "source": [
    "print('med:', df['living_area'].median())\n",
    "df['living_area'].describe()"
   ]
  },
  {
   "cell_type": "markdown",
   "metadata": {},
   "source": [
    "средняя жил. площадь ~30кв.м, изредка больше 50 и меньше 10"
   ]
  },
  {
   "cell_type": "code",
   "execution_count": 88,
   "metadata": {},
   "outputs": [
    {
     "data": {
      "image/png": "[encoded data removed]",
      "text/plain": [
       "<Figure size 432x288 with 1 Axes>"
      ]
     },
     "metadata": {
      "needs_background": "light"
     },
     "output_type": "display_data"
    }
   ],
   "source": [
    "_ = df['kitchen_area'].hist()"
   ]
  },
  {
   "cell_type": "code",
   "execution_count": 89,
   "metadata": {},
   "outputs": [
    {
     "name": "stdout",
     "output_type": "stream",
     "text": [
      "med: 8.6\n"
     ]
    },
    {
     "data": {
      "text/plain": [
       "count    15953.000000\n",
       "mean         9.040196\n",
       "std          3.180038\n",
       "min          0.695233\n",
       "25%          6.700000\n",
       "50%          8.600000\n",
       "75%         10.900000\n",
       "max         22.000000\n",
       "Name: kitchen_area, dtype: float64"
      ]
     },
     "execution_count": 89,
     "metadata": {},
     "output_type": "execute_result"
    }
   ],
   "source": [
    "print('med:', df['kitchen_area'].median())\n",
    "df['kitchen_area'].describe()"
   ]
  },
  {
   "cell_type": "markdown",
   "metadata": {},
   "source": [
    "Средняя площадь кухни ~9кв.м изредка больше 15 и куда реже меньше 5"
   ]
  },
  {
   "cell_type": "code",
   "execution_count": 90,
   "metadata": {
    "scrolled": true
   },
   "outputs": [
    {
     "data": {
      "image/png": "[encoded data removed]",
      "text/plain": [
       "<Figure size 432x288 with 1 Axes>"
      ]
     },
     "metadata": {
      "needs_background": "light"
     },
     "output_type": "display_data"
    }
   ],
   "source": [
    "_ = df['last_price'].hist()"
   ]
  },
  {
   "cell_type": "code",
   "execution_count": 91,
   "metadata": {},
   "outputs": [
    {
     "name": "stdout",
     "output_type": "stream",
     "text": [
      "med: 4350000.0\n"
     ]
    },
    {
     "data": {
      "text/plain": [
       "count    1.595300e+04\n",
       "mean     4.823980e+06\n",
       "std      2.371342e+06\n",
       "min      1.219000e+04\n",
       "25%      3.300000e+06\n",
       "50%      4.350000e+06\n",
       "75%      5.800000e+06\n",
       "max      1.520000e+07\n",
       "Name: last_price, dtype: float64"
      ]
     },
     "execution_count": 91,
     "metadata": {},
     "output_type": "execute_result"
    }
   ],
   "source": [
    "print('med:', df['last_price'].median())\n",
    "df['last_price'].describe()"
   ]
  },
  {
   "cell_type": "markdown",
   "metadata": {},
   "source": [
    "зачастую квартиры продают за ~4_000_000"
   ]
  },
  {
   "cell_type": "code",
   "execution_count": 92,
   "metadata": {},
   "outputs": [
    {
     "data": {
      "image/png": "[encoded data removed]",
      "text/plain": [
       "<Figure size 432x288 with 1 Axes>"
      ]
     },
     "metadata": {
      "needs_background": "light"
     },
     "output_type": "display_data"
    }
   ],
   "source": [
    "_ = df['rooms'].hist()"
   ]
  },
  {
   "cell_type": "code",
   "execution_count": 93,
   "metadata": {},
   "outputs": [
    {
     "name": "stdout",
     "output_type": "stream",
     "text": [
      "med: 2.0\n"
     ]
    },
    {
     "data": {
      "text/plain": [
       "count    15953.000000\n",
       "mean         1.885727\n",
       "std          0.886864\n",
       "min          0.000000\n",
       "25%          1.000000\n",
       "50%          2.000000\n",
       "75%          3.000000\n",
       "max          6.000000\n",
       "Name: rooms, dtype: float64"
      ]
     },
     "execution_count": 93,
     "metadata": {},
     "output_type": "execute_result"
    }
   ],
   "source": [
    "print('med:', df['rooms'].median())\n",
    "df['rooms'].describe()"
   ]
  },
  {
   "cell_type": "markdown",
   "metadata": {},
   "source": [
    "кажется, что в оставшихся данных чаще всего встречаются однокомнатные квартиры"
   ]
  },
  {
   "cell_type": "code",
   "execution_count": 94,
   "metadata": {},
   "outputs": [
    {
     "data": {
      "image/png": "[encoded data removed]",
      "text/plain": [
       "<Figure size 432x288 with 1 Axes>"
      ]
     },
     "metadata": {
      "needs_background": "light"
     },
     "output_type": "display_data"
    }
   ],
   "source": [
    "_ = df['ceiling_height'].hist()"
   ]
  },
  {
   "cell_type": "code",
   "execution_count": 95,
   "metadata": {},
   "outputs": [
    {
     "name": "stdout",
     "output_type": "stream",
     "text": [
      "med: 2.62\n"
     ]
    },
    {
     "data": {
      "text/plain": [
       "count    15953.000000\n",
       "mean         2.620036\n",
       "std          0.085756\n",
       "min          2.400000\n",
       "25%          2.570000\n",
       "50%          2.620000\n",
       "75%          2.620000\n",
       "max          2.950000\n",
       "Name: ceiling_height, dtype: float64"
      ]
     },
     "execution_count": 95,
     "metadata": {},
     "output_type": "execute_result"
    }
   ],
   "source": [
    "print('med:', df['ceiling_height'].median())\n",
    "df['ceiling_height'].describe()"
   ]
  },
  {
   "cell_type": "markdown",
   "metadata": {},
   "source": [
    "Средняя выоста потолков ~262см"
   ]
  },
  {
   "cell_type": "code",
   "execution_count": 96,
   "metadata": {},
   "outputs": [
    {
     "data": {
      "image/png": "[encoded data removed]",
      "text/plain": [
       "<Figure size 432x288 with 1 Axes>"
      ]
     },
     "metadata": {
      "needs_background": "light"
     },
     "output_type": "display_data"
    }
   ],
   "source": [
    "_ = df['floor'].hist()"
   ]
  },
  {
   "cell_type": "code",
   "execution_count": 97,
   "metadata": {},
   "outputs": [
    {
     "name": "stdout",
     "output_type": "stream",
     "text": [
      "med: 5.0\n"
     ]
    },
    {
     "data": {
      "text/plain": [
       "count    15953.000000\n",
       "mean         6.354479\n",
       "std          5.116009\n",
       "min          1.000000\n",
       "25%          3.000000\n",
       "50%          5.000000\n",
       "75%          9.000000\n",
       "max         33.000000\n",
       "Name: floor, dtype: float64"
      ]
     },
     "execution_count": 97,
     "metadata": {},
     "output_type": "execute_result"
    }
   ],
   "source": [
    "print('med:', df['floor'].median())\n",
    "df['floor'].describe()"
   ]
  },
  {
   "cell_type": "markdown",
   "metadata": {},
   "source": [
    "Кажется, что чаще всего квартиры в объявлениях находятся на этажах меньше пятого"
   ]
  },
  {
   "cell_type": "code",
   "execution_count": 98,
   "metadata": {},
   "outputs": [
    {
     "data": {
      "image/png": "[encoded data removed]",
      "text/plain": [
       "<Figure size 432x288 with 1 Axes>"
      ]
     },
     "metadata": {
      "needs_background": "light"
     },
     "output_type": "display_data"
    }
   ],
   "source": [
    "_ = df['floor_type'].hist()"
   ]
  },
  {
   "cell_type": "markdown",
   "metadata": {},
   "source": [
    "В объявлениях реже указаны крайние этажи"
   ]
  },
  {
   "cell_type": "code",
   "execution_count": 99,
   "metadata": {},
   "outputs": [
    {
     "data": {
      "image/png": "[encoded data removed]",
      "text/plain": [
       "<Figure size 432x288 with 1 Axes>"
      ]
     },
     "metadata": {
      "needs_background": "light"
     },
     "output_type": "display_data"
    }
   ],
   "source": [
    "_ = df['floors_total'].hist()"
   ]
  },
  {
   "cell_type": "code",
   "execution_count": 100,
   "metadata": {},
   "outputs": [
    {
     "name": "stdout",
     "output_type": "stream",
     "text": [
      "med: 9.0\n"
     ]
    },
    {
     "data": {
      "text/plain": [
       "count    15953.000000\n",
       "mean        11.628534\n",
       "std          6.727253\n",
       "min          1.000000\n",
       "25%          5.000000\n",
       "50%          9.000000\n",
       "75%         16.000000\n",
       "max         36.000000\n",
       "Name: floors_total, dtype: float64"
      ]
     },
     "execution_count": 100,
     "metadata": {},
     "output_type": "execute_result"
    }
   ],
   "source": [
    "print('med:', df['floors_total'].median())\n",
    "df['floors_total'].describe()"
   ]
  },
  {
   "cell_type": "markdown",
   "metadata": {},
   "source": [
    "В оставшихся объявлениях зачастую продаются квартиры в домах от 5 до 10 этажей"
   ]
  },
  {
   "cell_type": "code",
   "execution_count": 101,
   "metadata": {},
   "outputs": [
    {
     "data": {
      "image/png": "[encoded data removed]",
      "text/plain": [
       "<Figure size 432x288 with 1 Axes>"
      ]
     },
     "metadata": {
      "needs_background": "light"
     },
     "output_type": "display_data"
    }
   ],
   "source": [
    "_ = df['city_centers_nearest'].hist()"
   ]
  },
  {
   "cell_type": "code",
   "execution_count": 102,
   "metadata": {},
   "outputs": [
    {
     "name": "stdout",
     "output_type": "stream",
     "text": [
      "med: 13906.0\n"
     ]
    },
    {
     "data": {
      "text/plain": [
       "count    15953.000000\n",
       "mean     13399.372469\n",
       "std       3465.898061\n",
       "min       3090.000000\n",
       "25%      11988.000000\n",
       "50%      13906.000000\n",
       "75%      14785.000000\n",
       "max      24715.000000\n",
       "Name: city_centers_nearest, dtype: float64"
      ]
     },
     "execution_count": 102,
     "metadata": {},
     "output_type": "execute_result"
    }
   ],
   "source": [
    "print('med:', df['city_centers_nearest'].median())\n",
    "df['city_centers_nearest'].describe()"
   ]
  },
  {
   "cell_type": "markdown",
   "metadata": {},
   "source": [
    "Чаще всего в оставшихся объявлениях расстояние до центра города составляет ~14км"
   ]
  },
  {
   "cell_type": "code",
   "execution_count": 103,
   "metadata": {},
   "outputs": [
    {
     "data": {
      "image/png": "[encoded data removed]",
      "text/plain": [
       "<Figure size 432x288 with 1 Axes>"
      ]
     },
     "metadata": {
      "needs_background": "light"
     },
     "output_type": "display_data"
    }
   ],
   "source": [
    "_ = df['airports_nearest'].hist()"
   ]
  },
  {
   "cell_type": "code",
   "execution_count": 104,
   "metadata": {},
   "outputs": [
    {
     "name": "stdout",
     "output_type": "stream",
     "text": [
      "med: 27850.0\n"
     ]
    },
    {
     "data": {
      "text/plain": [
       "count    15953.000000\n",
       "mean     28552.547859\n",
       "std      10898.187221\n",
       "min          0.000000\n",
       "25%      20427.000000\n",
       "50%      27850.000000\n",
       "75%      34959.000000\n",
       "max      61748.000000\n",
       "Name: airports_nearest, dtype: float64"
      ]
     },
     "execution_count": 104,
     "metadata": {},
     "output_type": "execute_result"
    }
   ],
   "source": [
    "print('med:', df['airports_nearest'].median())\n",
    "df['airports_nearest'].describe()"
   ]
  },
  {
   "cell_type": "markdown",
   "metadata": {},
   "source": [
    "А ближайший аэропорт - в 28км"
   ]
  },
  {
   "cell_type": "code",
   "execution_count": 105,
   "metadata": {},
   "outputs": [
    {
     "data": {
      "image/png": "[encoded data removed]",
      "text/plain": [
       "<Figure size 432x288 with 1 Axes>"
      ]
     },
     "metadata": {
      "needs_background": "light"
     },
     "output_type": "display_data"
    }
   ],
   "source": [
    "_ = df['parks_nearest'].hist()"
   ]
  },
  {
   "cell_type": "code",
   "execution_count": 106,
   "metadata": {
    "scrolled": true
   },
   "outputs": [
    {
     "name": "stdout",
     "output_type": "stream",
     "text": [
      "med: 483.0\n"
     ]
    },
    {
     "data": {
      "text/plain": [
       "count    15953.000000\n",
       "mean       491.675045\n",
       "std        177.941794\n",
       "min          1.000000\n",
       "25%        483.000000\n",
       "50%        483.000000\n",
       "75%        483.000000\n",
       "max       3190.000000\n",
       "Name: parks_nearest, dtype: float64"
      ]
     },
     "execution_count": 106,
     "metadata": {},
     "output_type": "execute_result"
    }
   ],
   "source": [
    "print('med:', df['parks_nearest'].median())\n",
    "df['parks_nearest'].describe()"
   ]
  },
  {
   "cell_type": "markdown",
   "metadata": {},
   "source": [
    "Ближайшие парки зачастую расположены в 500м"
   ]
  },
  {
   "cell_type": "code",
   "execution_count": 107,
   "metadata": {},
   "outputs": [
    {
     "data": {
      "image/png": "[encoded data removed]",
      "text/plain": [
       "<Figure size 432x288 with 2 Axes>"
      ]
     },
     "metadata": {
      "needs_background": "light"
     },
     "output_type": "display_data"
    }
   ],
   "source": [
    "_ = df.hist(column=['weekday_exposition', 'month_exposition'])"
   ]
  },
  {
   "cell_type": "code",
   "execution_count": 108,
   "metadata": {},
   "outputs": [
    {
     "name": "stdout",
     "output_type": "stream",
     "text": [
      "med: 3.0\n"
     ]
    },
    {
     "data": {
      "text/plain": [
       "count    15953.000000\n",
       "mean         3.043879\n",
       "std          1.980428\n",
       "min          0.000000\n",
       "25%          1.000000\n",
       "50%          3.000000\n",
       "75%          5.000000\n",
       "max          6.000000\n",
       "Name: weekday_exposition, dtype: float64"
      ]
     },
     "execution_count": 108,
     "metadata": {},
     "output_type": "execute_result"
    }
   ],
   "source": [
    "print('med:', df['weekday_exposition'].median())\n",
    "df['weekday_exposition'].describe()"
   ]
  },
  {
   "cell_type": "markdown",
   "metadata": {},
   "source": [
    "Зачастую выставление объявления (хоть они  и были выставлены равномерно по каждому из дней), приходилось на четверг"
   ]
  },
  {
   "cell_type": "code",
   "execution_count": 109,
   "metadata": {},
   "outputs": [
    {
     "name": "stdout",
     "output_type": "stream",
     "text": [
      "med: 6.0\n"
     ]
    },
    {
     "data": {
      "text/plain": [
       "count    15953.000000\n",
       "mean         6.455150\n",
       "std          3.451957\n",
       "min          1.000000\n",
       "25%          3.000000\n",
       "50%          6.000000\n",
       "75%         10.000000\n",
       "max         12.000000\n",
       "Name: month_exposition, dtype: float64"
      ]
     },
     "execution_count": 109,
     "metadata": {},
     "output_type": "execute_result"
    }
   ],
   "source": [
    "print('med:', df['month_exposition'].median())\n",
    "df['month_exposition'].describe()"
   ]
  },
  {
   "cell_type": "markdown",
   "metadata": {},
   "source": [
    "Наибольшее число объявлений было выставлено в зимние месяца"
   ]
  },
  {
   "cell_type": "code",
   "execution_count": 110,
   "metadata": {},
   "outputs": [
    {
     "data": {
      "image/png": "[encoded data removed]",
      "text/plain": [
       "<Figure size 432x288 with 1 Axes>"
      ]
     },
     "metadata": {
      "needs_background": "light"
     },
     "output_type": "display_data"
    }
   ],
   "source": [
    "_ = df['days_exposition'].hist()"
   ]
  },
  {
   "cell_type": "code",
   "execution_count": 111,
   "metadata": {},
   "outputs": [
    {
     "name": "stdout",
     "output_type": "stream",
     "text": [
      "median: 67.0\n",
      "mean: 118.51739484736413\n"
     ]
    }
   ],
   "source": [
    "print('median:', df['days_exposition'].median())\n",
    "print('mean:', df['days_exposition'].mean())"
   ]
  },
  {
   "cell_type": "markdown",
   "metadata": {},
   "source": [
    "Распределение скошенное => медиана более репрезентативна\n",
    "обычно объявление на сайте висит 62 дня"
   ]
  },
  {
   "cell_type": "markdown",
   "metadata": {},
   "source": [
    "Продажи, которые занимают менее медианного значения (62), можно считать быстрыми, а продажи, которые занимают более двух медианных значений (124), можно считать необычно долгими. "
   ]
  },
  {
   "cell_type": "code",
   "execution_count": 112,
   "metadata": {},
   "outputs": [
    {
     "data": {
      "text/plain": [
       "count    15953.000000\n",
       "mean       118.517395\n",
       "std        134.845029\n",
       "min          0.000000\n",
       "25%         20.000000\n",
       "50%         67.000000\n",
       "75%        168.000000\n",
       "max        610.000000\n",
       "Name: days_exposition, dtype: float64"
      ]
     },
     "execution_count": 112,
     "metadata": {},
     "output_type": "execute_result"
    }
   ],
   "source": [
    "df['days_exposition'].describe()"
   ]
  },
  {
   "cell_type": "code",
   "execution_count": 113,
   "metadata": {},
   "outputs": [
    {
     "data": {
      "text/plain": [
       "390.0"
      ]
     },
     "execution_count": 113,
     "metadata": {},
     "output_type": "execute_result"
    }
   ],
   "source": [
    "168 + 1.5 * (168 - 20)"
   ]
  },
  {
   "cell_type": "code",
   "execution_count": 114,
   "metadata": {},
   "outputs": [
    {
     "data": {
      "text/plain": [
       "-202.0"
      ]
     },
     "execution_count": 114,
     "metadata": {},
     "output_type": "execute_result"
    }
   ],
   "source": [
    "20 - 1.5 * (168 - 20)"
   ]
  },
  {
   "cell_type": "markdown",
   "metadata": {},
   "source": [
    "**Влияние факторов**"
   ]
  },
  {
   "cell_type": "code",
   "execution_count": 115,
   "metadata": {},
   "outputs": [
    {
     "data": {
      "text/plain": [
       "Index(['total_images', 'last_price', 'total_area', 'first_day_exposition',\n",
       "       'rooms', 'ceiling_height', 'floors_total', 'living_area', 'floor',\n",
       "       'is_apartment', 'studio', 'open_plan', 'kitchen_area', 'balcony',\n",
       "       'locality_name', 'airports_nearest', 'city_centers_nearest',\n",
       "       'parks_around_3000', 'parks_nearest', 'ponds_around_3000',\n",
       "       'ponds_nearest', 'days_exposition', 'square_meter_price',\n",
       "       'weekday_exposition', 'month_exposition', 'year_exposition',\n",
       "       'floor_type', 'city_centers_nearest_km'],\n",
       "      dtype='object')"
      ]
     },
     "execution_count": 115,
     "metadata": {},
     "output_type": "execute_result"
    }
   ],
   "source": [
    "df.columns"
   ]
  },
  {
   "cell_type": "code",
   "execution_count": 116,
   "metadata": {},
   "outputs": [
    {
     "data": {
      "text/html": [
       "<div>\n",
       "<style scoped>\n",
       "    .dataframe tbody tr th:only-of-type {\n",
       "        vertical-align: middle;\n",
       "    }\n",
       "\n",
       "    .dataframe tbody tr th {\n",
       "        vertical-align: top;\n",
       "    }\n",
       "\n",
       "    .dataframe thead th {\n",
       "        text-align: right;\n",
       "    }\n",
       "</style>\n",
       "<table border=\"1\" class=\"dataframe\">\n",
       "  <thead>\n",
       "    <tr style=\"text-align: right;\">\n",
       "      <th></th>\n",
       "      <th>total_area</th>\n",
       "      <th>living_area</th>\n",
       "      <th>kitchen_area</th>\n",
       "      <th>rooms</th>\n",
       "      <th>weekday_exposition</th>\n",
       "      <th>month_exposition</th>\n",
       "      <th>year_exposition</th>\n",
       "      <th>last_price</th>\n",
       "    </tr>\n",
       "  </thead>\n",
       "  <tbody>\n",
       "    <tr>\n",
       "      <th>total_area</th>\n",
       "      <td>1.000000</td>\n",
       "      <td>0.906891</td>\n",
       "      <td>0.488364</td>\n",
       "      <td>0.799405</td>\n",
       "      <td>-0.003860</td>\n",
       "      <td>0.012106</td>\n",
       "      <td>-0.031483</td>\n",
       "      <td>0.712674</td>\n",
       "    </tr>\n",
       "    <tr>\n",
       "      <th>living_area</th>\n",
       "      <td>0.906891</td>\n",
       "      <td>1.000000</td>\n",
       "      <td>0.293418</td>\n",
       "      <td>0.893494</td>\n",
       "      <td>-0.000058</td>\n",
       "      <td>0.006458</td>\n",
       "      <td>-0.025149</td>\n",
       "      <td>0.567816</td>\n",
       "    </tr>\n",
       "    <tr>\n",
       "      <th>kitchen_area</th>\n",
       "      <td>0.488364</td>\n",
       "      <td>0.293418</td>\n",
       "      <td>1.000000</td>\n",
       "      <td>0.132922</td>\n",
       "      <td>-0.007228</td>\n",
       "      <td>0.015556</td>\n",
       "      <td>-0.024396</td>\n",
       "      <td>0.495411</td>\n",
       "    </tr>\n",
       "    <tr>\n",
       "      <th>rooms</th>\n",
       "      <td>0.799405</td>\n",
       "      <td>0.893494</td>\n",
       "      <td>0.132922</td>\n",
       "      <td>1.000000</td>\n",
       "      <td>-0.003641</td>\n",
       "      <td>-0.003015</td>\n",
       "      <td>-0.012581</td>\n",
       "      <td>0.433427</td>\n",
       "    </tr>\n",
       "    <tr>\n",
       "      <th>weekday_exposition</th>\n",
       "      <td>-0.003860</td>\n",
       "      <td>-0.000058</td>\n",
       "      <td>-0.007228</td>\n",
       "      <td>-0.003641</td>\n",
       "      <td>1.000000</td>\n",
       "      <td>-0.022866</td>\n",
       "      <td>-0.010798</td>\n",
       "      <td>-0.004873</td>\n",
       "    </tr>\n",
       "    <tr>\n",
       "      <th>month_exposition</th>\n",
       "      <td>0.012106</td>\n",
       "      <td>0.006458</td>\n",
       "      <td>0.015556</td>\n",
       "      <td>-0.003015</td>\n",
       "      <td>-0.022866</td>\n",
       "      <td>1.000000</td>\n",
       "      <td>-0.279099</td>\n",
       "      <td>0.002791</td>\n",
       "    </tr>\n",
       "    <tr>\n",
       "      <th>year_exposition</th>\n",
       "      <td>-0.031483</td>\n",
       "      <td>-0.025149</td>\n",
       "      <td>-0.024396</td>\n",
       "      <td>-0.012581</td>\n",
       "      <td>-0.010798</td>\n",
       "      <td>-0.279099</td>\n",
       "      <td>1.000000</td>\n",
       "      <td>0.034282</td>\n",
       "    </tr>\n",
       "    <tr>\n",
       "      <th>last_price</th>\n",
       "      <td>0.712674</td>\n",
       "      <td>0.567816</td>\n",
       "      <td>0.495411</td>\n",
       "      <td>0.433427</td>\n",
       "      <td>-0.004873</td>\n",
       "      <td>0.002791</td>\n",
       "      <td>0.034282</td>\n",
       "      <td>1.000000</td>\n",
       "    </tr>\n",
       "  </tbody>\n",
       "</table>\n",
       "</div>"
      ],
      "text/plain": [
       "                    total_area  living_area  kitchen_area     rooms  \\\n",
       "total_area            1.000000     0.906891      0.488364  0.799405   \n",
       "living_area           0.906891     1.000000      0.293418  0.893494   \n",
       "kitchen_area          0.488364     0.293418      1.000000  0.132922   \n",
       "rooms                 0.799405     0.893494      0.132922  1.000000   \n",
       "weekday_exposition   -0.003860    -0.000058     -0.007228 -0.003641   \n",
       "month_exposition      0.012106     0.006458      0.015556 -0.003015   \n",
       "year_exposition      -0.031483    -0.025149     -0.024396 -0.012581   \n",
       "last_price            0.712674     0.567816      0.495411  0.433427   \n",
       "\n",
       "                    weekday_exposition  month_exposition  year_exposition  \\\n",
       "total_area                   -0.003860          0.012106        -0.031483   \n",
       "living_area                  -0.000058          0.006458        -0.025149   \n",
       "kitchen_area                 -0.007228          0.015556        -0.024396   \n",
       "rooms                        -0.003641         -0.003015        -0.012581   \n",
       "weekday_exposition            1.000000         -0.022866        -0.010798   \n",
       "month_exposition             -0.022866          1.000000        -0.279099   \n",
       "year_exposition              -0.010798         -0.279099         1.000000   \n",
       "last_price                   -0.004873          0.002791         0.034282   \n",
       "\n",
       "                    last_price  \n",
       "total_area            0.712674  \n",
       "living_area           0.567816  \n",
       "kitchen_area          0.495411  \n",
       "rooms                 0.433427  \n",
       "weekday_exposition   -0.004873  \n",
       "month_exposition      0.002791  \n",
       "year_exposition       0.034282  \n",
       "last_price            1.000000  "
      ]
     },
     "execution_count": 116,
     "metadata": {},
     "output_type": "execute_result"
    }
   ],
   "source": [
    "df[['total_area', 'living_area', 'kitchen_area', 'rooms', 'floor_type', 'weekday_exposition', 'month_exposition', 'year_exposition', 'last_price']].corr()"
   ]
  },
  {
   "cell_type": "markdown",
   "metadata": {},
   "source": [
    "Кажется, что жилплощадь почти прямым образом влияет на цену"
   ]
  },
  {
   "cell_type": "code",
   "execution_count": 117,
   "metadata": {
    "scrolled": false
   },
   "outputs": [
    {
     "data": {
      "image/png": "[encoded data removed]",
      "text/plain": [
       "<Figure size 432x288 with 1 Axes>"
      ]
     },
     "metadata": {
      "needs_background": "light"
     },
     "output_type": "display_data"
    },
    {
     "data": {
      "image/png": "[encoded data removed]",
      "text/plain": [
       "<Figure size 432x288 with 1 Axes>"
      ]
     },
     "metadata": {
      "needs_background": "light"
     },
     "output_type": "display_data"
    },
    {
     "data": {
      "image/png": "[encoded data removed]",
      "text/plain": [
       "<Figure size 432x288 with 1 Axes>"
      ]
     },
     "metadata": {
      "needs_background": "light"
     },
     "output_type": "display_data"
    },
    {
     "data": {
      "image/png": "[encoded data removed]",
      "text/plain": [
       "<Figure size 432x288 with 1 Axes>"
      ]
     },
     "metadata": {
      "needs_background": "light"
     },
     "output_type": "display_data"
    },
    {
     "data": {
      "image/png": "[encoded data removed]",
      "text/plain": [
       "<Figure size 432x288 with 1 Axes>"
      ]
     },
     "metadata": {
      "needs_background": "light"
     },
     "output_type": "display_data"
    },
    {
     "data": {
      "image/png": "[encoded data removed]",
      "text/plain": [
       "<Figure size 432x288 with 1 Axes>"
      ]
     },
     "metadata": {
      "needs_background": "light"
     },
     "output_type": "display_data"
    },
    {
     "data": {
      "image/png": "[encoded data removed]",
      "text/plain": [
       "<Figure size 432x288 with 1 Axes>"
      ]
     },
     "metadata": {
      "needs_background": "light"
     },
     "output_type": "display_data"
    },
    {
     "data": {
      "image/png": "[encoded data removed]",
      "text/plain": [
       "<Figure size 432x288 with 1 Axes>"
      ]
     },
     "metadata": {
      "needs_background": "light"
     },
     "output_type": "display_data"
    }
   ],
   "source": [
    "# График зависимости цены от общей площади\n",
    "df.pivot_table(index='total_area', values='last_price', aggfunc='median').plot(style='.', title='Цена от общей площади')\n",
    "\n",
    "# График зависимости цены от жилой площади\n",
    "df.pivot_table(index='living_area', values='last_price', aggfunc='median').plot(style='.', title='Цена от жилой площади')\n",
    "\n",
    "# График зависимости цены от площади кухни\n",
    "df.pivot_table(index='kitchen_area', values='last_price', aggfunc='median').plot(style='.', title='Цена от площади кухни')\n",
    "\n",
    "# График зависимости цены от количества комнат\n",
    "df.pivot_table(index='rooms', values='last_price', aggfunc='median').plot(style='.', title='Цена от количества комнат')\n",
    "\n",
    "# График зависимости цены от этажа\n",
    "df.pivot_table(index='floor_type', values='last_price', aggfunc='median').plot(kind='bar', title='Цена от этажа')\n",
    "\n",
    "# График зависимости цены от дня размещения\n",
    "df.pivot_table(index='weekday_exposition', values='last_price', aggfunc='median').plot(kind='bar', title='Цена от дня размещения')\n",
    "\n",
    "# График зависимости цены от месяца размещения\n",
    "df.pivot_table(index='month_exposition', values='last_price', aggfunc='median').plot(kind='bar', title='Цена от месяца размещения')\n",
    "\n",
    "# График зависимости цены от года размещения\n",
    "_ = df.pivot_table(index='year_exposition', values='last_price', aggfunc='median').plot(kind='bar', title='Цена от года размещения')"
   ]
  },
  {
   "cell_type": "markdown",
   "metadata": {},
   "source": [
    "Из корреляционной матрицы можно увидеть, что на цену квартиры больше всего влияют ее общая площадь, жилая площадь, площадь кухни и количество комнат.\n",
    "\n",
    "Графики подтверждают эти выводы: цена квартиры обычно увеличивается с ростом общей площади, жилой площади и количества комнат. Кроме того, цена может зависеть от этажа, на котором расположена квартира. Например, квартиры на первом этаже могут быть дешевле, чем на последнем этаже или на других этажах. Однако, стоит учитывать, что эти зависимости не всегда линейные и могут быть ослаблены другими факторами, такими как местоположение, состояние квартиры и т.д."
   ]
  },
  {
   "cell_type": "code",
   "execution_count": 118,
   "metadata": {},
   "outputs": [
    {
     "name": "stdout",
     "output_type": "stream",
     "text": [
      "Населённый пункт с самой высокой стоимостью за кв.м: Санкт-Петербург\n",
      "Населённый пункт с самой низкой стоимостью за кв.м: Выборг\n"
     ]
    }
   ],
   "source": [
    "df['price_per_sq_m'] = df['last_price'] / df['total_area']\n",
    "\n",
    "top_localities = df['locality_name'].value_counts().head(10).index.tolist()\n",
    "data_top_localities = df.query('locality_name in @top_localities')\n",
    "mean_price_per_sqm = data_top_localities.groupby('locality_name')['price_per_sq_m'].mean()\\\n",
    "                                        .sort_values(ascending=False)\n",
    "\n",
    "print('Населённый пункт с самой высокой стоимостью за кв.м:', mean_price_per_sqm.index[0])\n",
    "print('Населённый пункт с самой низкой стоимостью за кв.м:', mean_price_per_sqm.index[-1])"
   ]
  },
  {
   "cell_type": "code",
   "execution_count": 119,
   "metadata": {},
   "outputs": [
    {
     "data": {
      "text/plain": [
       "locality_name\n",
       "Санкт-Петербург    105673.717612\n",
       "Кудрово             96039.656349\n",
       "Парголово           90226.608757\n",
       "Мурино              86771.286813\n",
       "Шушары              81049.023663\n",
       "Девяткино           77295.201994\n",
       "Сертолово           69789.530368\n",
       "Гатчина             68635.246520\n",
       "Всеволожск          66944.332787\n",
       "Выборг              57475.249227\n",
       "Name: price_per_sq_m, dtype: float64"
      ]
     },
     "execution_count": 119,
     "metadata": {},
     "output_type": "execute_result"
    }
   ],
   "source": [
    "mean_price_per_sqm"
   ]
  },
  {
   "cell_type": "code",
   "execution_count": 120,
   "metadata": {},
   "outputs": [
    {
     "data": {
      "text/html": [
       "<div>\n",
       "<style scoped>\n",
       "    .dataframe tbody tr th:only-of-type {\n",
       "        vertical-align: middle;\n",
       "    }\n",
       "\n",
       "    .dataframe tbody tr th {\n",
       "        vertical-align: top;\n",
       "    }\n",
       "\n",
       "    .dataframe thead th {\n",
       "        text-align: right;\n",
       "    }\n",
       "</style>\n",
       "<table border=\"1\" class=\"dataframe\">\n",
       "  <thead>\n",
       "    <tr style=\"text-align: right;\">\n",
       "      <th></th>\n",
       "      <th>balcony</th>\n",
       "      <th>last_price</th>\n",
       "    </tr>\n",
       "    <tr>\n",
       "      <th>locality_name</th>\n",
       "      <th></th>\n",
       "      <th></th>\n",
       "    </tr>\n",
       "  </thead>\n",
       "  <tbody>\n",
       "    <tr>\n",
       "      <th>Санкт-Петербург</th>\n",
       "      <td>10963</td>\n",
       "      <td>4950000.0</td>\n",
       "    </tr>\n",
       "    <tr>\n",
       "      <th>Мурино</th>\n",
       "      <td>501</td>\n",
       "      <td>3400000.0</td>\n",
       "    </tr>\n",
       "    <tr>\n",
       "      <th>Кудрово</th>\n",
       "      <td>396</td>\n",
       "      <td>3815000.0</td>\n",
       "    </tr>\n",
       "    <tr>\n",
       "      <th>Всеволожск</th>\n",
       "      <td>334</td>\n",
       "      <td>3450000.0</td>\n",
       "    </tr>\n",
       "    <tr>\n",
       "      <th>Парголово</th>\n",
       "      <td>290</td>\n",
       "      <td>4100000.0</td>\n",
       "    </tr>\n",
       "    <tr>\n",
       "      <th>Гатчина</th>\n",
       "      <td>260</td>\n",
       "      <td>3050000.0</td>\n",
       "    </tr>\n",
       "    <tr>\n",
       "      <th>Шушары</th>\n",
       "      <td>208</td>\n",
       "      <td>3737500.0</td>\n",
       "    </tr>\n",
       "    <tr>\n",
       "      <th>Выборг</th>\n",
       "      <td>157</td>\n",
       "      <td>2750000.0</td>\n",
       "    </tr>\n",
       "    <tr>\n",
       "      <th>Сертолово</th>\n",
       "      <td>125</td>\n",
       "      <td>3350000.0</td>\n",
       "    </tr>\n",
       "    <tr>\n",
       "      <th>Девяткино</th>\n",
       "      <td>108</td>\n",
       "      <td>3500000.0</td>\n",
       "    </tr>\n",
       "  </tbody>\n",
       "</table>\n",
       "</div>"
      ],
      "text/plain": [
       "                 balcony  last_price\n",
       "locality_name                       \n",
       "Санкт-Петербург    10963   4950000.0\n",
       "Мурино               501   3400000.0\n",
       "Кудрово              396   3815000.0\n",
       "Всеволожск           334   3450000.0\n",
       "Парголово            290   4100000.0\n",
       "Гатчина              260   3050000.0\n",
       "Шушары               208   3737500.0\n",
       "Выборг               157   2750000.0\n",
       "Сертолово            125   3350000.0\n",
       "Девяткино            108   3500000.0"
      ]
     },
     "execution_count": 120,
     "metadata": {},
     "output_type": "execute_result"
    }
   ],
   "source": [
    "df.groupby('locality_name').agg({'balcony':'count', 'last_price':'median'}) \\\n",
    "    .sort_values(by = 'balcony', ascending = False) \\\n",
    "    .head(10)"
   ]
  },
  {
   "cell_type": "code",
   "execution_count": 121,
   "metadata": {},
   "outputs": [
    {
     "name": "stdout",
     "output_type": "stream",
     "text": [
      "средняя цена за км: 559564.6499044455\n"
     ]
    },
    {
     "name": "stderr",
     "output_type": "stream",
     "text": [
      "/tmp/ipykernel_78/270885428.py:2: SettingWithCopyWarning: \n",
      "A value is trying to be set on a copy of a slice from a DataFrame.\n",
      "Try using .loc[row_indexer,col_indexer] = value instead\n",
      "\n",
      "See the caveats in the documentation: https://pandas.pydata.org/pandas-docs/stable/user_guide/indexing.html#returning-a-view-versus-a-copy\n",
      "  spb_flats['price_per_km'] = spb_flats['last_price'] / spb_flats['city_centers_nearest_km']\n"
     ]
    }
   ],
   "source": [
    "spb_flats = df.query('locality_name == \"Санкт-Петербург\"') \n",
    "spb_flats['price_per_km'] = spb_flats['last_price'] / spb_flats['city_centers_nearest_km']\n",
    "print('средняя цена за км:', spb_flats['price_per_km'].mean())\n",
    "#честно, так и не понял, в чём ошибка:("
   ]
  },
  {
   "cell_type": "markdown",
   "metadata": {},
   "source": [
    "Обычно цена за квадратный метр выше в тех районах, которые находятся ближе к центру города, и ниже в тех, которые находятся дальше от центра."
   ]
  },
  {
   "cell_type": "markdown",
   "metadata": {},
   "source": [
    "Вывод: мы изучили и описали большинство числовых параметров, выявили факторы, больше всего влияющие на общую стоимость квартиры путём построения и последующего анализа графиков посчитали среднюю цену одного квадратного метра в 10 населённых пунктах с наибольшим числом объявлений"
   ]
  },
  {
   "cell_type": "code",
   "execution_count": 122,
   "metadata": {},
   "outputs": [
    {
     "data": {
      "text/html": [
       "<div>\n",
       "<style scoped>\n",
       "    .dataframe tbody tr th:only-of-type {\n",
       "        vertical-align: middle;\n",
       "    }\n",
       "\n",
       "    .dataframe tbody tr th {\n",
       "        vertical-align: top;\n",
       "    }\n",
       "\n",
       "    .dataframe thead th {\n",
       "        text-align: right;\n",
       "    }\n",
       "</style>\n",
       "<table border=\"1\" class=\"dataframe\">\n",
       "  <thead>\n",
       "    <tr style=\"text-align: right;\">\n",
       "      <th></th>\n",
       "      <th>mean_price_per_km</th>\n",
       "    </tr>\n",
       "    <tr>\n",
       "      <th>city_centers_nearest_km</th>\n",
       "      <th></th>\n",
       "    </tr>\n",
       "  </thead>\n",
       "  <tbody>\n",
       "    <tr>\n",
       "      <th>3</th>\n",
       "      <td>7.601018e+06</td>\n",
       "    </tr>\n",
       "    <tr>\n",
       "      <th>4</th>\n",
       "      <td>7.984937e+06</td>\n",
       "    </tr>\n",
       "    <tr>\n",
       "      <th>5</th>\n",
       "      <td>7.402462e+06</td>\n",
       "    </tr>\n",
       "    <tr>\n",
       "      <th>6</th>\n",
       "      <td>7.051717e+06</td>\n",
       "    </tr>\n",
       "    <tr>\n",
       "      <th>7</th>\n",
       "      <td>7.137793e+06</td>\n",
       "    </tr>\n",
       "    <tr>\n",
       "      <th>8</th>\n",
       "      <td>6.071680e+06</td>\n",
       "    </tr>\n",
       "    <tr>\n",
       "      <th>9</th>\n",
       "      <td>5.371002e+06</td>\n",
       "    </tr>\n",
       "    <tr>\n",
       "      <th>10</th>\n",
       "      <td>5.351941e+06</td>\n",
       "    </tr>\n",
       "    <tr>\n",
       "      <th>11</th>\n",
       "      <td>5.392149e+06</td>\n",
       "    </tr>\n",
       "    <tr>\n",
       "      <th>12</th>\n",
       "      <td>5.563297e+06</td>\n",
       "    </tr>\n",
       "    <tr>\n",
       "      <th>13</th>\n",
       "      <td>5.642097e+06</td>\n",
       "    </tr>\n",
       "    <tr>\n",
       "      <th>14</th>\n",
       "      <td>5.350838e+06</td>\n",
       "    </tr>\n",
       "    <tr>\n",
       "      <th>15</th>\n",
       "      <td>5.231628e+06</td>\n",
       "    </tr>\n",
       "    <tr>\n",
       "      <th>16</th>\n",
       "      <td>5.121091e+06</td>\n",
       "    </tr>\n",
       "    <tr>\n",
       "      <th>17</th>\n",
       "      <td>4.711348e+06</td>\n",
       "    </tr>\n",
       "    <tr>\n",
       "      <th>18</th>\n",
       "      <td>5.029951e+06</td>\n",
       "    </tr>\n",
       "    <tr>\n",
       "      <th>19</th>\n",
       "      <td>4.569153e+06</td>\n",
       "    </tr>\n",
       "    <tr>\n",
       "      <th>20</th>\n",
       "      <td>5.886573e+06</td>\n",
       "    </tr>\n",
       "    <tr>\n",
       "      <th>21</th>\n",
       "      <td>4.943847e+06</td>\n",
       "    </tr>\n",
       "    <tr>\n",
       "      <th>22</th>\n",
       "      <td>5.034684e+06</td>\n",
       "    </tr>\n",
       "    <tr>\n",
       "      <th>23</th>\n",
       "      <td>4.182720e+06</td>\n",
       "    </tr>\n",
       "    <tr>\n",
       "      <th>24</th>\n",
       "      <td>3.871667e+06</td>\n",
       "    </tr>\n",
       "  </tbody>\n",
       "</table>\n",
       "</div>"
      ],
      "text/plain": [
       "                         mean_price_per_km\n",
       "city_centers_nearest_km                   \n",
       "3                             7.601018e+06\n",
       "4                             7.984937e+06\n",
       "5                             7.402462e+06\n",
       "6                             7.051717e+06\n",
       "7                             7.137793e+06\n",
       "8                             6.071680e+06\n",
       "9                             5.371002e+06\n",
       "10                            5.351941e+06\n",
       "11                            5.392149e+06\n",
       "12                            5.563297e+06\n",
       "13                            5.642097e+06\n",
       "14                            5.350838e+06\n",
       "15                            5.231628e+06\n",
       "16                            5.121091e+06\n",
       "17                            4.711348e+06\n",
       "18                            5.029951e+06\n",
       "19                            4.569153e+06\n",
       "20                            5.886573e+06\n",
       "21                            4.943847e+06\n",
       "22                            5.034684e+06\n",
       "23                            4.182720e+06\n",
       "24                            3.871667e+06"
      ]
     },
     "execution_count": 122,
     "metadata": {},
     "output_type": "execute_result"
    }
   ],
   "source": [
    "spb_flats = df.query('locality_name == \"Санкт-Петербург\"') \n",
    "pivot = spb_flats.pivot_table(values='last_price', index='city_centers_nearest_km', aggfunc='mean')\n",
    "pivot.columns = ['mean_price_per_km']\n",
    "pivot"
   ]
  },
  {
   "cell_type": "code",
   "execution_count": 123,
   "metadata": {},
   "outputs": [
    {
     "data": {
      "text/plain": [
       "Text(0.5, 1.0, 'Заголовок')"
      ]
     },
     "execution_count": 123,
     "metadata": {},
     "output_type": "execute_result"
    },
    {
     "data": {
      "image/png": "[encoded data removed]",
      "text/plain": [
       "<Figure size 432x288 with 1 Axes>"
      ]
     },
     "metadata": {
      "needs_background": "light"
     },
     "output_type": "display_data"
    }
   ],
   "source": [
    "_ = pivot.plot(kind='bar')\n",
    "plt.title('Заголовок')"
   ]
  },
  {
   "cell_type": "markdown",
   "metadata": {},
   "source": [
    "## Общий вывод"
   ]
  },
  {
   "cell_type": "markdown",
   "metadata": {},
   "source": [
    "На основании предварительного анализа данных сервиса Яндекс Недвижимость можно сделать следующие выводы:\n",
    "\n",
    "* Средняя площадь квартир в Санкт-Петербурге составляет около 52 квадратных метров, при этом большинство квартир имеют площадь от 20 до 100 квадратных метров.\n",
    "\n",
    "* Цена квартир в Санкт-Петербурге зависит от многих факторов, включая площадь квартиры, количество комнат, удаленность от центра и т.д. Однако, наибольшее влияние на цену оказывает общая площадь, жилая площадь,площадь кухни и количество комнат.\n",
    "\n",
    "* Средняя цена квадратного метра жилья в Санкт-Петербурге составляет около 106 тысяч рублей, при этом цены на жилье в Санкт-Петербурге значительно выше, чем в соседних населенных пунктах. "
   ]
  }
 ],
 "metadata": {
  "ExecuteTimeLog": [
   {
    "duration": 660,
    "start_time": "2023-04-24T19:34:04.622Z"
   },
   {
    "duration": 121,
    "start_time": "2023-04-24T19:34:18.115Z"
   },
   {
    "duration": 111,
    "start_time": "2023-04-24T19:34:31.723Z"
   },
   {
    "duration": 117,
    "start_time": "2023-04-24T19:34:33.909Z"
   },
   {
    "duration": 123,
    "start_time": "2023-04-24T19:35:23.718Z"
   },
   {
    "duration": 235,
    "start_time": "2023-04-24T19:38:27.253Z"
   },
   {
    "duration": 130,
    "start_time": "2023-04-24T19:38:30.678Z"
   },
   {
    "duration": 226,
    "start_time": "2023-04-24T19:38:33.514Z"
   },
   {
    "duration": 49,
    "start_time": "2023-04-24T19:38:35.682Z"
   },
   {
    "duration": 120,
    "start_time": "2023-04-24T19:38:38.052Z"
   },
   {
    "duration": 53,
    "start_time": "2023-04-24T19:40:38.586Z"
   },
   {
    "duration": 43,
    "start_time": "2023-04-24T19:41:25.727Z"
   },
   {
    "duration": 77,
    "start_time": "2023-04-24T19:42:44.988Z"
   },
   {
    "duration": 533,
    "start_time": "2023-04-25T08:03:01.341Z"
   },
   {
    "duration": 165,
    "start_time": "2023-04-25T08:03:26.723Z"
   },
   {
    "duration": 19,
    "start_time": "2023-04-25T08:03:33.723Z"
   },
   {
    "duration": 54,
    "start_time": "2023-04-25T08:03:44.006Z"
   },
   {
    "duration": 10,
    "start_time": "2023-04-25T08:03:51.691Z"
   },
   {
    "duration": 165,
    "start_time": "2023-04-25T09:53:24.289Z"
   },
   {
    "duration": 10,
    "start_time": "2023-04-25T09:53:27.702Z"
   },
   {
    "duration": 102,
    "start_time": "2023-04-25T09:53:33.687Z"
   },
   {
    "duration": 8,
    "start_time": "2023-04-25T09:53:34.593Z"
   },
   {
    "duration": 96,
    "start_time": "2023-04-25T10:52:22.851Z"
   },
   {
    "duration": 9,
    "start_time": "2023-04-25T10:52:23.841Z"
   },
   {
    "duration": 492,
    "start_time": "2023-04-25T10:52:32.608Z"
   },
   {
    "duration": 15,
    "start_time": "2023-04-25T10:52:33.102Z"
   },
   {
    "duration": 69,
    "start_time": "2023-04-25T10:52:42.340Z"
   },
   {
    "duration": 7,
    "start_time": "2023-04-25T10:52:42.587Z"
   },
   {
    "duration": 142,
    "start_time": "2023-04-25T10:52:46.242Z"
   },
   {
    "duration": 11,
    "start_time": "2023-04-25T10:52:46.517Z"
   },
   {
    "duration": 121,
    "start_time": "2023-04-25T10:57:46.198Z"
   },
   {
    "duration": 61,
    "start_time": "2023-04-25T10:57:46.537Z"
   },
   {
    "duration": 100,
    "start_time": "2023-04-25T10:59:08.302Z"
   },
   {
    "duration": 5,
    "start_time": "2023-04-25T10:59:17.409Z"
   },
   {
    "duration": 4,
    "start_time": "2023-04-25T10:59:29.300Z"
   },
   {
    "duration": 6,
    "start_time": "2023-04-25T10:59:47.228Z"
   },
   {
    "duration": 197,
    "start_time": "2023-04-25T16:11:42.707Z"
   },
   {
    "duration": 1049,
    "start_time": "2023-04-25T16:12:03.199Z"
   },
   {
    "duration": 24,
    "start_time": "2023-04-25T16:12:12.216Z"
   },
   {
    "duration": 173,
    "start_time": "2023-04-25T16:13:18.003Z"
   },
   {
    "duration": 3,
    "start_time": "2023-04-25T16:28:08.024Z"
   },
   {
    "duration": 154,
    "start_time": "2023-04-25T16:28:08.826Z"
   },
   {
    "duration": 26,
    "start_time": "2023-04-25T16:28:13.940Z"
   },
   {
    "duration": 409,
    "start_time": "2023-05-15T22:37:03.446Z"
   },
   {
    "duration": 150,
    "start_time": "2023-05-15T22:37:03.857Z"
   },
   {
    "duration": 1929,
    "start_time": "2023-05-15T22:37:04.010Z"
   },
   {
    "duration": 18,
    "start_time": "2023-05-15T22:37:05.942Z"
   },
   {
    "duration": 68,
    "start_time": "2023-05-15T22:37:05.962Z"
   },
   {
    "duration": 3,
    "start_time": "2023-05-15T22:37:06.032Z"
   },
   {
    "duration": 4,
    "start_time": "2023-05-15T22:37:06.051Z"
   },
   {
    "duration": 99,
    "start_time": "2023-05-15T22:37:06.057Z"
   },
   {
    "duration": 10,
    "start_time": "2023-05-15T22:37:06.157Z"
   },
   {
    "duration": 171,
    "start_time": "2023-05-15T22:37:06.170Z"
   },
   {
    "duration": 113,
    "start_time": "2023-05-15T22:37:06.343Z"
   },
   {
    "duration": 9,
    "start_time": "2023-05-15T22:37:06.458Z"
   },
   {
    "duration": 143,
    "start_time": "2023-05-15T22:37:06.469Z"
   },
   {
    "duration": 113,
    "start_time": "2023-05-15T22:37:06.614Z"
   },
   {
    "duration": 10,
    "start_time": "2023-05-15T22:37:06.728Z"
   },
   {
    "duration": 7,
    "start_time": "2023-05-15T22:37:06.749Z"
   },
   {
    "duration": 210,
    "start_time": "2023-05-15T22:37:06.758Z"
   },
   {
    "duration": 104,
    "start_time": "2023-05-15T22:37:06.970Z"
   },
   {
    "duration": 8,
    "start_time": "2023-05-15T22:37:07.076Z"
   },
   {
    "duration": 141,
    "start_time": "2023-05-15T22:37:07.086Z"
   },
   {
    "duration": 301,
    "start_time": "2023-05-15T22:37:07.229Z"
   },
   {
    "duration": 5,
    "start_time": "2023-05-15T22:37:07.532Z"
   },
   {
    "duration": 115,
    "start_time": "2023-05-15T22:37:07.538Z"
   },
   {
    "duration": 8,
    "start_time": "2023-05-15T22:37:07.655Z"
   },
   {
    "duration": 145,
    "start_time": "2023-05-15T22:37:07.665Z"
   },
   {
    "duration": 3,
    "start_time": "2023-05-15T22:37:07.812Z"
   },
   {
    "duration": 6,
    "start_time": "2023-05-15T22:37:07.817Z"
   },
   {
    "duration": 105,
    "start_time": "2023-05-15T22:37:07.827Z"
   },
   {
    "duration": 17,
    "start_time": "2023-05-15T22:37:07.933Z"
   },
   {
    "duration": 137,
    "start_time": "2023-05-15T22:37:07.952Z"
   },
   {
    "duration": 4,
    "start_time": "2023-05-15T22:37:08.091Z"
   },
   {
    "duration": 5,
    "start_time": "2023-05-15T22:37:08.097Z"
   },
   {
    "duration": 7,
    "start_time": "2023-05-15T22:37:08.103Z"
   },
   {
    "duration": 109,
    "start_time": "2023-05-15T22:37:08.111Z"
   },
   {
    "duration": 9,
    "start_time": "2023-05-15T22:37:08.221Z"
   },
   {
    "duration": 21,
    "start_time": "2023-05-15T22:37:08.232Z"
   },
   {
    "duration": 196,
    "start_time": "2023-05-15T22:37:08.255Z"
   },
   {
    "duration": 355,
    "start_time": "2023-05-15T22:37:08.453Z"
   },
   {
    "duration": 5,
    "start_time": "2023-05-15T22:37:08.810Z"
   },
   {
    "duration": 220,
    "start_time": "2023-05-15T22:37:08.816Z"
   },
   {
    "duration": 92,
    "start_time": "2023-05-15T22:37:09.037Z"
   },
   {
    "duration": 20,
    "start_time": "2023-05-15T22:37:09.130Z"
   },
   {
    "duration": 117,
    "start_time": "2023-05-15T22:37:09.151Z"
   },
   {
    "duration": 4,
    "start_time": "2023-05-15T22:37:09.270Z"
   },
   {
    "duration": 15,
    "start_time": "2023-05-15T22:37:09.275Z"
   },
   {
    "duration": 132,
    "start_time": "2023-05-15T22:37:09.291Z"
   },
   {
    "duration": 4,
    "start_time": "2023-05-15T22:37:09.425Z"
   },
   {
    "duration": 93,
    "start_time": "2023-05-15T22:37:09.430Z"
   },
   {
    "duration": 8,
    "start_time": "2023-05-15T22:37:09.525Z"
   },
   {
    "duration": 150,
    "start_time": "2023-05-15T22:37:09.534Z"
   },
   {
    "duration": 5,
    "start_time": "2023-05-15T22:37:09.685Z"
   },
   {
    "duration": 164,
    "start_time": "2023-05-15T22:37:09.691Z"
   },
   {
    "duration": 8,
    "start_time": "2023-05-15T22:37:09.856Z"
   },
   {
    "duration": 137,
    "start_time": "2023-05-15T22:37:09.866Z"
   },
   {
    "duration": 8,
    "start_time": "2023-05-15T22:37:10.005Z"
   },
   {
    "duration": 4,
    "start_time": "2023-05-15T22:37:10.015Z"
   },
   {
    "duration": 5,
    "start_time": "2023-05-15T22:37:10.020Z"
   },
   {
    "duration": 135,
    "start_time": "2023-05-15T22:37:10.027Z"
   },
   {
    "duration": 9,
    "start_time": "2023-05-15T22:37:10.163Z"
   },
   {
    "duration": 2,
    "start_time": "2023-05-15T22:37:10.174Z"
   },
   {
    "duration": 5,
    "start_time": "2023-05-15T22:37:10.177Z"
   },
   {
    "duration": 136,
    "start_time": "2023-05-15T22:37:10.183Z"
   },
   {
    "duration": 129,
    "start_time": "2023-05-15T22:37:10.321Z"
   },
   {
    "duration": 6,
    "start_time": "2023-05-15T22:37:10.451Z"
   },
   {
    "duration": 140,
    "start_time": "2023-05-15T22:37:10.458Z"
   },
   {
    "duration": 3,
    "start_time": "2023-05-15T22:37:10.599Z"
   },
   {
    "duration": 117,
    "start_time": "2023-05-15T22:37:10.603Z"
   },
   {
    "duration": 8,
    "start_time": "2023-05-15T22:37:10.722Z"
   },
   {
    "duration": 26,
    "start_time": "2023-05-15T22:37:10.731Z"
   },
   {
    "duration": 4,
    "start_time": "2023-05-15T22:37:10.759Z"
   },
   {
    "duration": 193,
    "start_time": "2023-05-15T22:37:10.764Z"
   },
   {
    "duration": 13,
    "start_time": "2023-05-15T22:37:10.959Z"
   },
   {
    "duration": 3,
    "start_time": "2023-05-15T22:37:10.973Z"
   },
   {
    "duration": 10,
    "start_time": "2023-05-15T22:37:10.978Z"
   },
   {
    "duration": 6,
    "start_time": "2023-05-15T22:37:10.989Z"
   },
   {
    "duration": 6,
    "start_time": "2023-05-15T22:37:10.997Z"
   },
   {
    "duration": 3,
    "start_time": "2023-05-15T22:37:11.004Z"
   },
   {
    "duration": 4,
    "start_time": "2023-05-15T22:37:11.008Z"
   },
   {
    "duration": 304,
    "start_time": "2023-05-15T22:37:11.013Z"
   },
   {
    "duration": 5,
    "start_time": "2023-05-15T22:37:11.319Z"
   },
   {
    "duration": 115,
    "start_time": "2023-05-15T22:37:11.325Z"
   },
   {
    "duration": 12,
    "start_time": "2023-05-15T22:37:11.444Z"
   },
   {
    "duration": 112,
    "start_time": "2023-05-15T22:37:11.458Z"
   },
   {
    "duration": 8,
    "start_time": "2023-05-15T22:37:11.572Z"
   },
   {
    "duration": 121,
    "start_time": "2023-05-15T22:37:11.581Z"
   },
   {
    "duration": 9,
    "start_time": "2023-05-15T22:37:11.703Z"
   },
   {
    "duration": 131,
    "start_time": "2023-05-15T22:37:11.713Z"
   },
   {
    "duration": 13,
    "start_time": "2023-05-15T22:37:11.845Z"
   },
   {
    "duration": 128,
    "start_time": "2023-05-15T22:37:11.859Z"
   },
   {
    "duration": 8,
    "start_time": "2023-05-15T22:37:11.989Z"
   },
   {
    "duration": 126,
    "start_time": "2023-05-15T22:37:11.999Z"
   },
   {
    "duration": 9,
    "start_time": "2023-05-15T22:37:12.126Z"
   },
   {
    "duration": 138,
    "start_time": "2023-05-15T22:37:12.136Z"
   },
   {
    "duration": 9,
    "start_time": "2023-05-15T22:37:12.275Z"
   },
   {
    "duration": 108,
    "start_time": "2023-05-15T22:37:12.285Z"
   },
   {
    "duration": 126,
    "start_time": "2023-05-15T22:37:12.395Z"
   },
   {
    "duration": 9,
    "start_time": "2023-05-15T22:37:12.522Z"
   },
   {
    "duration": 120,
    "start_time": "2023-05-15T22:37:12.532Z"
   },
   {
    "duration": 8,
    "start_time": "2023-05-15T22:37:12.654Z"
   },
   {
    "duration": 123,
    "start_time": "2023-05-15T22:37:12.664Z"
   },
   {
    "duration": 9,
    "start_time": "2023-05-15T22:37:12.788Z"
   },
   {
    "duration": 190,
    "start_time": "2023-05-15T22:37:12.798Z"
   },
   {
    "duration": 8,
    "start_time": "2023-05-15T22:37:12.990Z"
   },
   {
    "duration": 192,
    "start_time": "2023-05-15T22:37:12.999Z"
   },
   {
    "duration": 14,
    "start_time": "2023-05-15T22:37:13.192Z"
   },
   {
    "duration": 7,
    "start_time": "2023-05-15T22:37:13.207Z"
   },
   {
    "duration": 137,
    "start_time": "2023-05-15T22:37:13.215Z"
   },
   {
    "duration": 5,
    "start_time": "2023-05-15T22:37:13.354Z"
   },
   {
    "duration": 4,
    "start_time": "2023-05-15T22:37:13.360Z"
   },
   {
    "duration": 17,
    "start_time": "2023-05-15T22:37:13.365Z"
   },
   {
    "duration": 1051,
    "start_time": "2023-05-15T22:37:13.383Z"
   },
   {
    "duration": 24,
    "start_time": "2023-05-15T22:37:14.435Z"
   },
   {
    "duration": 5,
    "start_time": "2023-05-15T22:37:14.461Z"
   },
   {
    "duration": 11,
    "start_time": "2023-05-15T22:37:14.468Z"
   },
   {
    "duration": 171,
    "start_time": "2023-05-15T22:38:02.283Z"
   },
   {
    "duration": 98,
    "start_time": "2023-05-15T22:38:15.730Z"
   },
   {
    "duration": 111,
    "start_time": "2023-05-15T22:38:22.411Z"
   },
   {
    "duration": 7,
    "start_time": "2023-05-15T22:40:48.825Z"
   },
   {
    "duration": 75,
    "start_time": "2023-05-15T22:40:52.819Z"
   },
   {
    "duration": 12,
    "start_time": "2023-05-15T22:43:30.875Z"
   },
   {
    "duration": 5,
    "start_time": "2023-05-15T22:45:10.111Z"
   },
   {
    "duration": 5,
    "start_time": "2023-05-15T22:45:13.432Z"
   },
   {
    "duration": 59,
    "start_time": "2023-05-16T08:58:47.420Z"
   },
   {
    "duration": 425,
    "start_time": "2023-05-16T08:58:54.282Z"
   },
   {
    "duration": 158,
    "start_time": "2023-05-16T08:58:54.708Z"
   },
   {
    "duration": 2288,
    "start_time": "2023-05-16T08:58:54.867Z"
   },
   {
    "duration": 15,
    "start_time": "2023-05-16T08:58:57.157Z"
   },
   {
    "duration": 79,
    "start_time": "2023-05-16T08:58:57.174Z"
   },
   {
    "duration": 3,
    "start_time": "2023-05-16T08:58:57.255Z"
   },
   {
    "duration": 8,
    "start_time": "2023-05-16T08:58:57.260Z"
   },
   {
    "duration": 109,
    "start_time": "2023-05-16T08:58:57.270Z"
   },
   {
    "duration": 9,
    "start_time": "2023-05-16T08:58:57.380Z"
   },
   {
    "duration": 182,
    "start_time": "2023-05-16T08:58:57.391Z"
   },
   {
    "duration": 124,
    "start_time": "2023-05-16T08:58:57.575Z"
   },
   {
    "duration": 10,
    "start_time": "2023-05-16T08:58:57.701Z"
   },
   {
    "duration": 156,
    "start_time": "2023-05-16T08:58:57.713Z"
   },
   {
    "duration": 120,
    "start_time": "2023-05-16T08:58:57.874Z"
   },
   {
    "duration": 11,
    "start_time": "2023-05-16T08:58:57.995Z"
   },
   {
    "duration": 9,
    "start_time": "2023-05-16T08:58:58.008Z"
   },
   {
    "duration": 260,
    "start_time": "2023-05-16T08:58:58.019Z"
   },
   {
    "duration": 121,
    "start_time": "2023-05-16T08:58:58.281Z"
   },
   {
    "duration": 8,
    "start_time": "2023-05-16T08:58:58.403Z"
   },
   {
    "duration": 160,
    "start_time": "2023-05-16T08:58:58.413Z"
   },
   {
    "duration": 330,
    "start_time": "2023-05-16T08:58:58.574Z"
   },
   {
    "duration": 4,
    "start_time": "2023-05-16T08:58:58.906Z"
   },
   {
    "duration": 134,
    "start_time": "2023-05-16T08:58:58.912Z"
   },
   {
    "duration": 8,
    "start_time": "2023-05-16T08:58:59.049Z"
   },
   {
    "duration": 149,
    "start_time": "2023-05-16T08:58:59.059Z"
   },
   {
    "duration": 3,
    "start_time": "2023-05-16T08:58:59.210Z"
   },
   {
    "duration": 5,
    "start_time": "2023-05-16T08:58:59.215Z"
   },
   {
    "duration": 118,
    "start_time": "2023-05-16T08:58:59.221Z"
   },
   {
    "duration": 11,
    "start_time": "2023-05-16T08:58:59.341Z"
   },
   {
    "duration": 152,
    "start_time": "2023-05-16T08:58:59.353Z"
   },
   {
    "duration": 5,
    "start_time": "2023-05-16T08:58:59.507Z"
   },
   {
    "duration": 5,
    "start_time": "2023-05-16T08:58:59.513Z"
   },
   {
    "duration": 4,
    "start_time": "2023-05-16T08:58:59.519Z"
   },
   {
    "duration": 115,
    "start_time": "2023-05-16T08:58:59.525Z"
   },
   {
    "duration": 8,
    "start_time": "2023-05-16T08:58:59.649Z"
   },
   {
    "duration": 7,
    "start_time": "2023-05-16T08:58:59.658Z"
   },
   {
    "duration": 211,
    "start_time": "2023-05-16T08:58:59.667Z"
   },
   {
    "duration": 359,
    "start_time": "2023-05-16T08:58:59.879Z"
   },
   {
    "duration": 11,
    "start_time": "2023-05-16T08:59:00.239Z"
   },
   {
    "duration": 234,
    "start_time": "2023-05-16T08:59:00.251Z"
   },
   {
    "duration": 109,
    "start_time": "2023-05-16T08:59:00.491Z"
   },
   {
    "duration": 9,
    "start_time": "2023-05-16T08:59:00.602Z"
   },
   {
    "duration": 145,
    "start_time": "2023-05-16T08:59:00.612Z"
   },
   {
    "duration": 4,
    "start_time": "2023-05-16T08:59:00.758Z"
   },
   {
    "duration": 28,
    "start_time": "2023-05-16T08:59:00.763Z"
   },
   {
    "duration": 155,
    "start_time": "2023-05-16T08:59:00.793Z"
   },
   {
    "duration": 5,
    "start_time": "2023-05-16T08:59:00.949Z"
   },
   {
    "duration": 129,
    "start_time": "2023-05-16T08:59:00.955Z"
   },
   {
    "duration": 8,
    "start_time": "2023-05-16T08:59:01.086Z"
   },
   {
    "duration": 163,
    "start_time": "2023-05-16T08:59:01.096Z"
   },
   {
    "duration": 4,
    "start_time": "2023-05-16T08:59:01.261Z"
   },
   {
    "duration": 130,
    "start_time": "2023-05-16T08:59:01.267Z"
   },
   {
    "duration": 8,
    "start_time": "2023-05-16T08:59:01.399Z"
   },
   {
    "duration": 217,
    "start_time": "2023-05-16T08:59:01.408Z"
   },
   {
    "duration": 10,
    "start_time": "2023-05-16T08:59:01.627Z"
   },
   {
    "duration": 32,
    "start_time": "2023-05-16T08:59:01.649Z"
   },
   {
    "duration": 42,
    "start_time": "2023-05-16T08:59:01.683Z"
   },
   {
    "duration": 187,
    "start_time": "2023-05-16T08:59:01.727Z"
   },
   {
    "duration": 12,
    "start_time": "2023-05-16T08:59:01.916Z"
   },
   {
    "duration": 46,
    "start_time": "2023-05-16T08:59:01.930Z"
   },
   {
    "duration": 37,
    "start_time": "2023-05-16T08:59:01.978Z"
   },
   {
    "duration": 170,
    "start_time": "2023-05-16T08:59:02.017Z"
   },
   {
    "duration": 146,
    "start_time": "2023-05-16T08:59:02.189Z"
   },
   {
    "duration": 14,
    "start_time": "2023-05-16T08:59:02.336Z"
   },
   {
    "duration": 173,
    "start_time": "2023-05-16T08:59:02.352Z"
   },
   {
    "duration": 3,
    "start_time": "2023-05-16T08:59:02.527Z"
   },
   {
    "duration": 132,
    "start_time": "2023-05-16T08:59:02.531Z"
   },
   {
    "duration": 9,
    "start_time": "2023-05-16T08:59:02.664Z"
   },
   {
    "duration": 16,
    "start_time": "2023-05-16T08:59:02.674Z"
   },
   {
    "duration": 4,
    "start_time": "2023-05-16T08:59:02.692Z"
   },
   {
    "duration": 212,
    "start_time": "2023-05-16T08:59:02.697Z"
   },
   {
    "duration": 14,
    "start_time": "2023-05-16T08:59:02.910Z"
   },
   {
    "duration": 4,
    "start_time": "2023-05-16T08:59:02.925Z"
   },
   {
    "duration": 25,
    "start_time": "2023-05-16T08:59:02.931Z"
   },
   {
    "duration": 7,
    "start_time": "2023-05-16T08:59:02.957Z"
   },
   {
    "duration": 27,
    "start_time": "2023-05-16T08:59:02.966Z"
   },
   {
    "duration": 4,
    "start_time": "2023-05-16T08:59:02.995Z"
   },
   {
    "duration": 7,
    "start_time": "2023-05-16T08:59:03.001Z"
   },
   {
    "duration": 241,
    "start_time": "2023-05-16T08:59:03.010Z"
   },
   {
    "duration": 6,
    "start_time": "2023-05-16T08:59:03.253Z"
   },
   {
    "duration": 124,
    "start_time": "2023-05-16T08:59:03.261Z"
   },
   {
    "duration": 10,
    "start_time": "2023-05-16T08:59:03.387Z"
   },
   {
    "duration": 187,
    "start_time": "2023-05-16T08:59:03.398Z"
   },
   {
    "duration": 10,
    "start_time": "2023-05-16T08:59:03.587Z"
   },
   {
    "duration": 125,
    "start_time": "2023-05-16T08:59:03.599Z"
   },
   {
    "duration": 10,
    "start_time": "2023-05-16T08:59:03.726Z"
   },
   {
    "duration": 137,
    "start_time": "2023-05-16T08:59:03.750Z"
   },
   {
    "duration": 10,
    "start_time": "2023-05-16T08:59:03.888Z"
   },
   {
    "duration": 150,
    "start_time": "2023-05-16T08:59:03.900Z"
   },
   {
    "duration": 12,
    "start_time": "2023-05-16T08:59:04.052Z"
   },
   {
    "duration": 173,
    "start_time": "2023-05-16T08:59:04.067Z"
   },
   {
    "duration": 18,
    "start_time": "2023-05-16T08:59:04.242Z"
   },
   {
    "duration": 154,
    "start_time": "2023-05-16T08:59:04.262Z"
   },
   {
    "duration": 9,
    "start_time": "2023-05-16T08:59:04.418Z"
   },
   {
    "duration": 131,
    "start_time": "2023-05-16T08:59:04.428Z"
   },
   {
    "duration": 141,
    "start_time": "2023-05-16T08:59:04.560Z"
   },
   {
    "duration": 8,
    "start_time": "2023-05-16T08:59:04.703Z"
   },
   {
    "duration": 128,
    "start_time": "2023-05-16T08:59:04.713Z"
   },
   {
    "duration": 10,
    "start_time": "2023-05-16T08:59:04.850Z"
   },
   {
    "duration": 139,
    "start_time": "2023-05-16T08:59:04.862Z"
   },
   {
    "duration": 11,
    "start_time": "2023-05-16T08:59:05.003Z"
   },
   {
    "duration": 150,
    "start_time": "2023-05-16T08:59:05.016Z"
   },
   {
    "duration": 11,
    "start_time": "2023-05-16T08:59:05.168Z"
   },
   {
    "duration": 277,
    "start_time": "2023-05-16T08:59:05.180Z"
   },
   {
    "duration": 15,
    "start_time": "2023-05-16T08:59:05.459Z"
   },
   {
    "duration": 16,
    "start_time": "2023-05-16T08:59:05.476Z"
   },
   {
    "duration": 141,
    "start_time": "2023-05-16T08:59:05.493Z"
   },
   {
    "duration": 4,
    "start_time": "2023-05-16T08:59:05.636Z"
   },
   {
    "duration": 12,
    "start_time": "2023-05-16T08:59:05.641Z"
   },
   {
    "duration": 19,
    "start_time": "2023-05-16T08:59:05.655Z"
   },
   {
    "duration": 1108,
    "start_time": "2023-05-16T08:59:05.676Z"
   },
   {
    "duration": 17,
    "start_time": "2023-05-16T08:59:06.786Z"
   },
   {
    "duration": 21,
    "start_time": "2023-05-16T08:59:06.804Z"
   },
   {
    "duration": 19,
    "start_time": "2023-05-16T08:59:06.827Z"
   },
   {
    "duration": 358,
    "start_time": "2023-05-16T08:59:18.399Z"
   },
   {
    "duration": 107,
    "start_time": "2023-05-16T08:59:18.759Z"
   },
   {
    "duration": 2099,
    "start_time": "2023-05-16T08:59:18.868Z"
   },
   {
    "duration": 14,
    "start_time": "2023-05-16T08:59:20.970Z"
   },
   {
    "duration": 68,
    "start_time": "2023-05-16T08:59:20.986Z"
   },
   {
    "duration": 3,
    "start_time": "2023-05-16T08:59:21.057Z"
   },
   {
    "duration": 10,
    "start_time": "2023-05-16T08:59:21.062Z"
   },
   {
    "duration": 99,
    "start_time": "2023-05-16T08:59:21.208Z"
   },
   {
    "duration": 10,
    "start_time": "2023-05-16T08:59:21.382Z"
   },
   {
    "duration": 178,
    "start_time": "2023-05-16T08:59:22.115Z"
   },
   {
    "duration": 122,
    "start_time": "2023-05-16T08:59:22.295Z"
   },
   {
    "duration": 11,
    "start_time": "2023-05-16T08:59:23.009Z"
   },
   {
    "duration": 165,
    "start_time": "2023-05-16T08:59:23.558Z"
   },
   {
    "duration": 121,
    "start_time": "2023-05-16T08:59:23.963Z"
   },
   {
    "duration": 10,
    "start_time": "2023-05-16T08:59:24.787Z"
   },
   {
    "duration": 8,
    "start_time": "2023-05-16T08:59:32.991Z"
   },
   {
    "duration": 149,
    "start_time": "2023-05-16T08:59:41.760Z"
   },
   {
    "duration": 205,
    "start_time": "2023-05-16T08:59:41.970Z"
   },
   {
    "duration": 8,
    "start_time": "2023-05-16T08:59:42.177Z"
   },
   {
    "duration": 170,
    "start_time": "2023-05-16T08:59:42.458Z"
   },
   {
    "duration": 314,
    "start_time": "2023-05-16T08:59:42.629Z"
   },
   {
    "duration": 6,
    "start_time": "2023-05-16T08:59:43.174Z"
   },
   {
    "duration": 118,
    "start_time": "2023-05-16T08:59:43.575Z"
   },
   {
    "duration": 9,
    "start_time": "2023-05-16T08:59:43.695Z"
   },
   {
    "duration": 171,
    "start_time": "2023-05-16T08:59:43.977Z"
   },
   {
    "duration": 4,
    "start_time": "2023-05-16T08:59:44.377Z"
   },
   {
    "duration": 4,
    "start_time": "2023-05-16T08:59:44.515Z"
   },
   {
    "duration": 105,
    "start_time": "2023-05-16T08:59:44.674Z"
   },
   {
    "duration": 9,
    "start_time": "2023-05-16T08:59:44.790Z"
   },
   {
    "duration": 147,
    "start_time": "2023-05-16T08:59:47.155Z"
   },
   {
    "duration": 5,
    "start_time": "2023-05-16T08:59:48.049Z"
   },
   {
    "duration": 6,
    "start_time": "2023-05-16T08:59:48.479Z"
   },
   {
    "duration": 4,
    "start_time": "2023-05-16T08:59:50.599Z"
   },
   {
    "duration": 98,
    "start_time": "2023-05-16T09:03:15.654Z"
   },
   {
    "duration": 8,
    "start_time": "2023-05-16T09:03:19.602Z"
   },
   {
    "duration": 6,
    "start_time": "2023-05-16T09:04:51.029Z"
   },
   {
    "duration": 9,
    "start_time": "2023-05-16T09:06:28.204Z"
   },
   {
    "duration": 139,
    "start_time": "2023-05-16T09:06:28.642Z"
   },
   {
    "duration": 410,
    "start_time": "2023-05-16T09:06:28.790Z"
   },
   {
    "duration": 5,
    "start_time": "2023-05-16T09:06:29.203Z"
   },
   {
    "duration": 209,
    "start_time": "2023-05-16T09:06:31.356Z"
   },
   {
    "duration": 111,
    "start_time": "2023-05-16T09:06:31.567Z"
   },
   {
    "duration": 8,
    "start_time": "2023-05-16T09:06:31.682Z"
   },
   {
    "duration": 125,
    "start_time": "2023-05-16T09:06:31.987Z"
   },
   {
    "duration": 4,
    "start_time": "2023-05-16T09:06:32.124Z"
   },
   {
    "duration": 4,
    "start_time": "2023-05-16T09:06:32.484Z"
   },
   {
    "duration": 134,
    "start_time": "2023-05-16T09:06:35.258Z"
   },
   {
    "duration": 4,
    "start_time": "2023-05-16T09:06:35.394Z"
   },
   {
    "duration": 97,
    "start_time": "2023-05-16T09:06:35.557Z"
   },
   {
    "duration": 8,
    "start_time": "2023-05-16T09:06:35.682Z"
   },
   {
    "duration": 146,
    "start_time": "2023-05-16T09:06:35.982Z"
   },
   {
    "duration": 5,
    "start_time": "2023-05-16T09:06:36.153Z"
   },
   {
    "duration": 108,
    "start_time": "2023-05-16T09:06:36.288Z"
   },
   {
    "duration": 9,
    "start_time": "2023-05-16T09:06:36.483Z"
   },
   {
    "duration": 129,
    "start_time": "2023-05-16T09:06:36.755Z"
   },
   {
    "duration": 11,
    "start_time": "2023-05-16T09:06:36.886Z"
   },
   {
    "duration": 4,
    "start_time": "2023-05-16T09:06:39.889Z"
   },
   {
    "duration": 5,
    "start_time": "2023-05-16T09:06:40.394Z"
   },
   {
    "duration": 188,
    "start_time": "2023-05-16T09:06:40.457Z"
   },
   {
    "duration": 10,
    "start_time": "2023-05-16T09:06:40.650Z"
   },
   {
    "duration": 5,
    "start_time": "2023-05-16T09:06:40.662Z"
   },
   {
    "duration": 4,
    "start_time": "2023-05-16T09:06:40.669Z"
   },
   {
    "duration": 156,
    "start_time": "2023-05-16T09:06:40.700Z"
   },
   {
    "duration": 153,
    "start_time": "2023-05-16T09:06:40.858Z"
   },
   {
    "duration": 5,
    "start_time": "2023-05-16T09:06:41.014Z"
   },
   {
    "duration": 158,
    "start_time": "2023-05-16T09:06:41.021Z"
   },
   {
    "duration": 4,
    "start_time": "2023-05-16T09:06:41.181Z"
   },
   {
    "duration": 123,
    "start_time": "2023-05-16T09:06:41.186Z"
   },
   {
    "duration": 9,
    "start_time": "2023-05-16T09:06:41.310Z"
   },
   {
    "duration": 31,
    "start_time": "2023-05-16T09:06:41.321Z"
   },
   {
    "duration": 4,
    "start_time": "2023-05-16T09:06:41.354Z"
   },
   {
    "duration": 193,
    "start_time": "2023-05-16T09:06:41.359Z"
   },
   {
    "duration": 13,
    "start_time": "2023-05-16T09:06:41.554Z"
   },
   {
    "duration": 5,
    "start_time": "2023-05-16T09:21:41.646Z"
   },
   {
    "duration": 13,
    "start_time": "2023-05-16T09:21:46.001Z"
   },
   {
    "duration": 14,
    "start_time": "2023-05-16T09:22:50.174Z"
   },
   {
    "duration": 5,
    "start_time": "2023-05-16T09:22:50.784Z"
   },
   {
    "duration": 16,
    "start_time": "2023-05-16T09:22:50.792Z"
   },
   {
    "duration": 7,
    "start_time": "2023-05-16T09:22:50.812Z"
   },
   {
    "duration": 8,
    "start_time": "2023-05-16T09:22:50.892Z"
   },
   {
    "duration": 4,
    "start_time": "2023-05-16T09:22:50.923Z"
   },
   {
    "duration": 3,
    "start_time": "2023-05-16T09:22:50.977Z"
   },
   {
    "duration": 207,
    "start_time": "2023-05-16T09:22:51.002Z"
   },
   {
    "duration": 6,
    "start_time": "2023-05-16T09:22:51.211Z"
   },
   {
    "duration": 135,
    "start_time": "2023-05-16T09:22:51.219Z"
   },
   {
    "duration": 11,
    "start_time": "2023-05-16T09:22:51.356Z"
   },
   {
    "duration": 116,
    "start_time": "2023-05-16T09:22:56.797Z"
   },
   {
    "duration": 10,
    "start_time": "2023-05-16T09:22:57.299Z"
   },
   {
    "duration": 163,
    "start_time": "2023-05-16T09:22:57.397Z"
   },
   {
    "duration": 10,
    "start_time": "2023-05-16T09:22:57.562Z"
   },
   {
    "duration": 156,
    "start_time": "2023-05-16T09:22:57.574Z"
   },
   {
    "duration": 23,
    "start_time": "2023-05-16T09:22:57.732Z"
   },
   {
    "duration": 148,
    "start_time": "2023-05-16T09:22:57.756Z"
   },
   {
    "duration": 11,
    "start_time": "2023-05-16T09:22:57.906Z"
   },
   {
    "duration": 153,
    "start_time": "2023-05-16T09:22:57.918Z"
   },
   {
    "duration": 9,
    "start_time": "2023-05-16T09:22:58.072Z"
   },
   {
    "duration": 147,
    "start_time": "2023-05-16T09:22:58.083Z"
   },
   {
    "duration": 22,
    "start_time": "2023-05-16T09:22:58.233Z"
   },
   {
    "duration": 128,
    "start_time": "2023-05-16T09:22:58.257Z"
   },
   {
    "duration": 147,
    "start_time": "2023-05-16T09:22:58.386Z"
   },
   {
    "duration": 15,
    "start_time": "2023-05-16T09:22:58.535Z"
   },
   {
    "duration": 133,
    "start_time": "2023-05-16T09:22:58.552Z"
   },
   {
    "duration": 10,
    "start_time": "2023-05-16T09:22:58.686Z"
   },
   {
    "duration": 139,
    "start_time": "2023-05-16T09:22:58.697Z"
   },
   {
    "duration": 17,
    "start_time": "2023-05-16T09:22:58.837Z"
   },
   {
    "duration": 146,
    "start_time": "2023-05-16T09:22:58.855Z"
   },
   {
    "duration": 9,
    "start_time": "2023-05-16T09:22:59.003Z"
   },
   {
    "duration": 205,
    "start_time": "2023-05-16T09:22:59.014Z"
   },
   {
    "duration": 15,
    "start_time": "2023-05-16T09:22:59.220Z"
   },
   {
    "duration": 10,
    "start_time": "2023-05-16T09:23:03.492Z"
   },
   {
    "duration": 207,
    "start_time": "2023-05-16T09:23:06.456Z"
   },
   {
    "duration": 4,
    "start_time": "2023-05-16T09:23:06.665Z"
   },
   {
    "duration": 74,
    "start_time": "2023-05-16T09:25:14.478Z"
   },
   {
    "duration": 103,
    "start_time": "2023-05-16T09:25:30.055Z"
   },
   {
    "duration": 9,
    "start_time": "2023-05-16T09:25:53.463Z"
   },
   {
    "duration": 4,
    "start_time": "2023-05-16T09:33:46.658Z"
   },
   {
    "duration": 3,
    "start_time": "2023-05-16T09:34:05.003Z"
   },
   {
    "duration": 4,
    "start_time": "2023-05-16T09:38:22.995Z"
   },
   {
    "duration": 20,
    "start_time": "2023-05-16T09:38:23.113Z"
   },
   {
    "duration": 1239,
    "start_time": "2023-05-16T09:38:29.790Z"
   },
   {
    "duration": 37,
    "start_time": "2023-05-16T09:54:40.293Z"
   },
   {
    "duration": 37,
    "start_time": "2023-05-16T09:55:10.661Z"
   },
   {
    "duration": 34,
    "start_time": "2023-05-16T09:55:15.455Z"
   },
   {
    "duration": 34,
    "start_time": "2023-05-16T09:55:23.811Z"
   },
   {
    "duration": 21,
    "start_time": "2023-05-16T09:57:39.709Z"
   },
   {
    "duration": 18,
    "start_time": "2023-05-16T09:58:13.259Z"
   },
   {
    "duration": 26,
    "start_time": "2023-05-16T09:58:33.182Z"
   },
   {
    "duration": 17,
    "start_time": "2023-05-16T09:59:29.885Z"
   },
   {
    "duration": 54,
    "start_time": "2023-05-16T09:59:52.648Z"
   },
   {
    "duration": 53,
    "start_time": "2023-05-16T10:00:13.092Z"
   },
   {
    "duration": 48,
    "start_time": "2023-05-16T10:00:19.604Z"
   },
   {
    "duration": 47,
    "start_time": "2023-05-16T10:00:29.310Z"
   },
   {
    "duration": 17,
    "start_time": "2023-05-16T10:02:16.798Z"
   },
   {
    "duration": 16,
    "start_time": "2023-05-16T10:02:22.953Z"
   },
   {
    "duration": 16,
    "start_time": "2023-05-16T10:02:32.946Z"
   },
   {
    "duration": 21,
    "start_time": "2023-05-16T10:02:59.195Z"
   },
   {
    "duration": 20,
    "start_time": "2023-05-16T10:03:07.489Z"
   },
   {
    "duration": 22,
    "start_time": "2023-05-16T10:03:27.002Z"
   },
   {
    "duration": 23,
    "start_time": "2023-05-16T10:03:30.858Z"
   },
   {
    "duration": 16,
    "start_time": "2023-05-16T10:03:47.020Z"
   },
   {
    "duration": 19,
    "start_time": "2023-05-16T10:03:58.916Z"
   },
   {
    "duration": 22,
    "start_time": "2023-05-16T10:04:36.381Z"
   },
   {
    "duration": 21,
    "start_time": "2023-05-16T10:04:44.116Z"
   },
   {
    "duration": 24,
    "start_time": "2023-05-16T10:05:04.518Z"
   },
   {
    "duration": 16,
    "start_time": "2023-05-16T10:05:07.890Z"
   },
   {
    "duration": 7,
    "start_time": "2023-05-16T10:05:21.500Z"
   },
   {
    "duration": 10,
    "start_time": "2023-05-16T10:05:47.086Z"
   },
   {
    "duration": 20,
    "start_time": "2023-05-16T10:35:22.594Z"
   },
   {
    "duration": 26,
    "start_time": "2023-05-16T10:35:27.459Z"
   },
   {
    "duration": 18,
    "start_time": "2023-05-16T10:38:10.670Z"
   },
   {
    "duration": 18,
    "start_time": "2023-05-16T10:38:13.716Z"
   },
   {
    "duration": 263,
    "start_time": "2023-05-16T10:40:27.018Z"
   },
   {
    "duration": 319,
    "start_time": "2023-05-16T10:40:31.702Z"
   },
   {
    "duration": 66,
    "start_time": "2023-05-16T10:41:15.175Z"
   },
   {
    "duration": 466,
    "start_time": "2023-05-16T10:45:55.858Z"
   },
   {
    "duration": 137,
    "start_time": "2023-05-16T10:45:56.326Z"
   },
   {
    "duration": 2622,
    "start_time": "2023-05-16T10:45:56.466Z"
   },
   {
    "duration": 25,
    "start_time": "2023-05-16T10:45:59.090Z"
   },
   {
    "duration": 86,
    "start_time": "2023-05-16T10:45:59.119Z"
   },
   {
    "duration": 3,
    "start_time": "2023-05-16T10:45:59.207Z"
   },
   {
    "duration": 7,
    "start_time": "2023-05-16T10:45:59.212Z"
   },
   {
    "duration": 155,
    "start_time": "2023-05-16T10:45:59.220Z"
   },
   {
    "duration": 13,
    "start_time": "2023-05-16T10:45:59.377Z"
   },
   {
    "duration": 236,
    "start_time": "2023-05-16T10:45:59.391Z"
   },
   {
    "duration": 182,
    "start_time": "2023-05-16T10:45:59.630Z"
   },
   {
    "duration": 12,
    "start_time": "2023-05-16T10:45:59.814Z"
   },
   {
    "duration": 273,
    "start_time": "2023-05-16T10:45:59.827Z"
   },
   {
    "duration": 143,
    "start_time": "2023-05-16T10:46:00.104Z"
   },
   {
    "duration": 17,
    "start_time": "2023-05-16T10:46:00.250Z"
   },
   {
    "duration": 26,
    "start_time": "2023-05-16T10:46:00.270Z"
   },
   {
    "duration": 234,
    "start_time": "2023-05-16T10:46:00.298Z"
   },
   {
    "duration": 258,
    "start_time": "2023-05-16T10:46:00.534Z"
   },
   {
    "duration": 9,
    "start_time": "2023-05-16T10:46:00.793Z"
   },
   {
    "duration": 208,
    "start_time": "2023-05-16T10:46:00.803Z"
   },
   {
    "duration": 399,
    "start_time": "2023-05-16T10:46:01.013Z"
   },
   {
    "duration": 7,
    "start_time": "2023-05-16T10:46:01.414Z"
   },
   {
    "duration": 173,
    "start_time": "2023-05-16T10:46:01.423Z"
   },
   {
    "duration": 10,
    "start_time": "2023-05-16T10:46:01.598Z"
   },
   {
    "duration": 216,
    "start_time": "2023-05-16T10:46:01.610Z"
   },
   {
    "duration": 5,
    "start_time": "2023-05-16T10:46:01.828Z"
   },
   {
    "duration": 36,
    "start_time": "2023-05-16T10:46:01.835Z"
   },
   {
    "duration": 146,
    "start_time": "2023-05-16T10:46:01.877Z"
   },
   {
    "duration": 9,
    "start_time": "2023-05-16T10:46:02.026Z"
   },
   {
    "duration": 227,
    "start_time": "2023-05-16T10:46:02.037Z"
   },
   {
    "duration": 8,
    "start_time": "2023-05-16T10:46:02.271Z"
   },
   {
    "duration": 16,
    "start_time": "2023-05-16T10:46:02.281Z"
   },
   {
    "duration": 28,
    "start_time": "2023-05-16T10:46:02.300Z"
   },
   {
    "duration": 144,
    "start_time": "2023-05-16T10:46:02.330Z"
   },
   {
    "duration": 17,
    "start_time": "2023-05-16T10:46:02.483Z"
   },
   {
    "duration": 22,
    "start_time": "2023-05-16T10:46:02.503Z"
   },
   {
    "duration": 44,
    "start_time": "2023-05-16T10:46:02.527Z"
   },
   {
    "duration": 235,
    "start_time": "2023-05-16T10:46:02.574Z"
   },
   {
    "duration": 601,
    "start_time": "2023-05-16T10:46:02.811Z"
   },
   {
    "duration": 7,
    "start_time": "2023-05-16T10:46:03.414Z"
   },
   {
    "duration": 272,
    "start_time": "2023-05-16T10:46:03.429Z"
   },
   {
    "duration": 121,
    "start_time": "2023-05-16T10:46:03.703Z"
   },
   {
    "duration": 7,
    "start_time": "2023-05-16T10:46:03.826Z"
   },
   {
    "duration": 158,
    "start_time": "2023-05-16T10:46:03.835Z"
   },
   {
    "duration": 4,
    "start_time": "2023-05-16T10:46:03.997Z"
   },
   {
    "duration": 13,
    "start_time": "2023-05-16T10:46:04.003Z"
   },
   {
    "duration": 211,
    "start_time": "2023-05-16T10:46:04.018Z"
   },
   {
    "duration": 8,
    "start_time": "2023-05-16T10:46:04.232Z"
   },
   {
    "duration": 173,
    "start_time": "2023-05-16T10:46:04.242Z"
   },
   {
    "duration": 13,
    "start_time": "2023-05-16T10:46:04.418Z"
   },
   {
    "duration": 219,
    "start_time": "2023-05-16T10:46:04.432Z"
   },
   {
    "duration": 8,
    "start_time": "2023-05-16T10:46:04.655Z"
   },
   {
    "duration": 139,
    "start_time": "2023-05-16T10:46:04.668Z"
   },
   {
    "duration": 10,
    "start_time": "2023-05-16T10:46:04.809Z"
   },
   {
    "duration": 168,
    "start_time": "2023-05-16T10:46:04.820Z"
   },
   {
    "duration": 15,
    "start_time": "2023-05-16T10:46:04.991Z"
   },
   {
    "duration": 4,
    "start_time": "2023-05-16T10:46:05.009Z"
   },
   {
    "duration": 16,
    "start_time": "2023-05-16T10:46:05.015Z"
   },
   {
    "duration": 251,
    "start_time": "2023-05-16T10:46:05.033Z"
   },
   {
    "duration": 13,
    "start_time": "2023-05-16T10:46:05.286Z"
   },
   {
    "duration": 8,
    "start_time": "2023-05-16T10:46:05.301Z"
   },
   {
    "duration": 12,
    "start_time": "2023-05-16T10:46:05.311Z"
   },
   {
    "duration": 176,
    "start_time": "2023-05-16T10:46:05.325Z"
   },
   {
    "duration": 176,
    "start_time": "2023-05-16T10:46:05.503Z"
   },
   {
    "duration": 6,
    "start_time": "2023-05-16T10:46:05.681Z"
   },
   {
    "duration": 200,
    "start_time": "2023-05-16T10:46:05.688Z"
   },
   {
    "duration": 4,
    "start_time": "2023-05-16T10:46:05.890Z"
   },
   {
    "duration": 175,
    "start_time": "2023-05-16T10:46:05.896Z"
   },
   {
    "duration": 10,
    "start_time": "2023-05-16T10:46:06.073Z"
   },
   {
    "duration": 18,
    "start_time": "2023-05-16T10:46:06.084Z"
   },
   {
    "duration": 9,
    "start_time": "2023-05-16T10:46:06.104Z"
   },
   {
    "duration": 231,
    "start_time": "2023-05-16T10:46:06.115Z"
   },
   {
    "duration": 27,
    "start_time": "2023-05-16T10:46:06.348Z"
   },
   {
    "duration": 5,
    "start_time": "2023-05-16T10:46:06.376Z"
   },
   {
    "duration": 19,
    "start_time": "2023-05-16T10:46:06.382Z"
   },
   {
    "duration": 3,
    "start_time": "2023-05-16T10:46:06.403Z"
   },
   {
    "duration": 54,
    "start_time": "2023-05-16T10:46:06.408Z"
   },
   {
    "duration": 12,
    "start_time": "2023-05-16T10:46:06.466Z"
   },
   {
    "duration": 10,
    "start_time": "2023-05-16T10:46:06.481Z"
   },
   {
    "duration": 5,
    "start_time": "2023-05-16T10:46:06.494Z"
   },
   {
    "duration": 8,
    "start_time": "2023-05-16T10:46:06.500Z"
   },
   {
    "duration": 304,
    "start_time": "2023-05-16T10:46:06.511Z"
   },
   {
    "duration": 10,
    "start_time": "2023-05-16T10:46:06.817Z"
   },
   {
    "duration": 157,
    "start_time": "2023-05-16T10:46:06.829Z"
   },
   {
    "duration": 14,
    "start_time": "2023-05-16T10:46:06.988Z"
   },
   {
    "duration": 162,
    "start_time": "2023-05-16T10:46:07.005Z"
   },
   {
    "duration": 13,
    "start_time": "2023-05-16T10:46:07.170Z"
   },
   {
    "duration": 218,
    "start_time": "2023-05-16T10:46:07.185Z"
   },
   {
    "duration": 11,
    "start_time": "2023-05-16T10:46:07.406Z"
   },
   {
    "duration": 177,
    "start_time": "2023-05-16T10:46:07.419Z"
   },
   {
    "duration": 14,
    "start_time": "2023-05-16T10:46:07.599Z"
   },
   {
    "duration": 203,
    "start_time": "2023-05-16T10:46:07.615Z"
   },
   {
    "duration": 11,
    "start_time": "2023-05-16T10:46:07.820Z"
   },
   {
    "duration": 179,
    "start_time": "2023-05-16T10:46:07.833Z"
   },
   {
    "duration": 13,
    "start_time": "2023-05-16T10:46:08.014Z"
   },
   {
    "duration": 195,
    "start_time": "2023-05-16T10:46:08.028Z"
   },
   {
    "duration": 9,
    "start_time": "2023-05-16T10:46:08.225Z"
   },
   {
    "duration": 188,
    "start_time": "2023-05-16T10:46:08.252Z"
   },
   {
    "duration": 255,
    "start_time": "2023-05-16T10:46:08.450Z"
   },
   {
    "duration": 12,
    "start_time": "2023-05-16T10:46:08.707Z"
   },
   {
    "duration": 209,
    "start_time": "2023-05-16T10:46:08.721Z"
   },
   {
    "duration": 21,
    "start_time": "2023-05-16T10:46:08.932Z"
   },
   {
    "duration": 199,
    "start_time": "2023-05-16T10:46:08.956Z"
   },
   {
    "duration": 14,
    "start_time": "2023-05-16T10:46:09.157Z"
   },
   {
    "duration": 207,
    "start_time": "2023-05-16T10:46:09.173Z"
   },
   {
    "duration": 12,
    "start_time": "2023-05-16T10:46:09.383Z"
   },
   {
    "duration": 280,
    "start_time": "2023-05-16T10:46:09.397Z"
   },
   {
    "duration": 16,
    "start_time": "2023-05-16T10:46:09.679Z"
   },
   {
    "duration": 58,
    "start_time": "2023-05-16T10:46:09.697Z"
   },
   {
    "duration": 317,
    "start_time": "2023-05-16T10:46:09.758Z"
   },
   {
    "duration": 10,
    "start_time": "2023-05-16T10:46:10.077Z"
   },
   {
    "duration": 15,
    "start_time": "2023-05-16T10:46:10.090Z"
   },
   {
    "duration": 5,
    "start_time": "2023-05-16T10:46:10.107Z"
   },
   {
    "duration": 9,
    "start_time": "2023-05-16T10:46:10.114Z"
   },
   {
    "duration": 5,
    "start_time": "2023-05-16T10:46:10.152Z"
   },
   {
    "duration": 31,
    "start_time": "2023-05-16T10:46:10.161Z"
   },
   {
    "duration": 1615,
    "start_time": "2023-05-16T10:46:10.193Z"
   },
   {
    "duration": 25,
    "start_time": "2023-05-16T10:46:11.811Z"
   },
   {
    "duration": 13,
    "start_time": "2023-05-16T10:46:11.851Z"
   },
   {
    "duration": 15,
    "start_time": "2023-05-16T10:46:11.867Z"
   },
   {
    "duration": 22,
    "start_time": "2023-05-16T10:46:11.884Z"
   },
   {
    "duration": 299,
    "start_time": "2023-05-16T10:46:11.913Z"
   },
   {
    "duration": 413,
    "start_time": "2023-05-16T16:54:12.852Z"
   },
   {
    "duration": 162,
    "start_time": "2023-05-16T16:54:13.267Z"
   },
   {
    "duration": 2136,
    "start_time": "2023-05-16T16:54:13.431Z"
   },
   {
    "duration": 16,
    "start_time": "2023-05-16T16:54:15.568Z"
   },
   {
    "duration": 101,
    "start_time": "2023-05-16T16:54:15.586Z"
   },
   {
    "duration": 4,
    "start_time": "2023-05-16T16:54:15.688Z"
   },
   {
    "duration": 5,
    "start_time": "2023-05-16T16:54:15.693Z"
   },
   {
    "duration": 116,
    "start_time": "2023-05-16T16:54:15.699Z"
   },
   {
    "duration": 13,
    "start_time": "2023-05-16T16:54:15.824Z"
   },
   {
    "duration": 195,
    "start_time": "2023-05-16T16:54:15.839Z"
   },
   {
    "duration": 117,
    "start_time": "2023-05-16T16:54:16.036Z"
   },
   {
    "duration": 10,
    "start_time": "2023-05-16T16:54:16.154Z"
   },
   {
    "duration": 160,
    "start_time": "2023-05-16T16:54:16.165Z"
   },
   {
    "duration": 115,
    "start_time": "2023-05-16T16:54:16.328Z"
   },
   {
    "duration": 9,
    "start_time": "2023-05-16T16:54:16.445Z"
   },
   {
    "duration": 7,
    "start_time": "2023-05-16T16:54:16.455Z"
   },
   {
    "duration": 168,
    "start_time": "2023-05-16T16:54:16.464Z"
   },
   {
    "duration": 184,
    "start_time": "2023-05-16T16:54:16.634Z"
   },
   {
    "duration": 11,
    "start_time": "2023-05-16T16:54:16.820Z"
   },
   {
    "duration": 167,
    "start_time": "2023-05-16T16:54:16.832Z"
   },
   {
    "duration": 324,
    "start_time": "2023-05-16T16:54:17.001Z"
   },
   {
    "duration": 6,
    "start_time": "2023-05-16T16:54:17.326Z"
   },
   {
    "duration": 131,
    "start_time": "2023-05-16T16:54:17.333Z"
   },
   {
    "duration": 9,
    "start_time": "2023-05-16T16:54:17.466Z"
   },
   {
    "duration": 159,
    "start_time": "2023-05-16T16:54:17.476Z"
   },
   {
    "duration": 4,
    "start_time": "2023-05-16T16:54:17.637Z"
   },
   {
    "duration": 10,
    "start_time": "2023-05-16T16:54:17.643Z"
   },
   {
    "duration": 115,
    "start_time": "2023-05-16T16:54:17.655Z"
   },
   {
    "duration": 8,
    "start_time": "2023-05-16T16:54:17.771Z"
   },
   {
    "duration": 150,
    "start_time": "2023-05-16T16:54:17.780Z"
   },
   {
    "duration": 5,
    "start_time": "2023-05-16T16:54:17.931Z"
   },
   {
    "duration": 18,
    "start_time": "2023-05-16T16:54:17.938Z"
   },
   {
    "duration": 16,
    "start_time": "2023-05-16T16:54:17.957Z"
   },
   {
    "duration": 116,
    "start_time": "2023-05-16T16:54:17.974Z"
   },
   {
    "duration": 8,
    "start_time": "2023-05-16T16:54:18.092Z"
   },
   {
    "duration": 5,
    "start_time": "2023-05-16T16:54:18.102Z"
   },
   {
    "duration": 21,
    "start_time": "2023-05-16T16:54:18.109Z"
   },
   {
    "duration": 151,
    "start_time": "2023-05-16T16:54:18.132Z"
   },
   {
    "duration": 408,
    "start_time": "2023-05-16T16:54:18.285Z"
   },
   {
    "duration": 5,
    "start_time": "2023-05-16T16:54:18.695Z"
   },
   {
    "duration": 214,
    "start_time": "2023-05-16T16:54:18.721Z"
   },
   {
    "duration": 98,
    "start_time": "2023-05-16T16:54:18.936Z"
   },
   {
    "duration": 8,
    "start_time": "2023-05-16T16:54:19.035Z"
   },
   {
    "duration": 139,
    "start_time": "2023-05-16T16:54:19.044Z"
   },
   {
    "duration": 4,
    "start_time": "2023-05-16T16:54:19.184Z"
   },
   {
    "duration": 5,
    "start_time": "2023-05-16T16:54:19.189Z"
   },
   {
    "duration": 149,
    "start_time": "2023-05-16T16:54:19.196Z"
   },
   {
    "duration": 5,
    "start_time": "2023-05-16T16:54:19.347Z"
   },
   {
    "duration": 111,
    "start_time": "2023-05-16T16:54:19.354Z"
   },
   {
    "duration": 9,
    "start_time": "2023-05-16T16:54:19.467Z"
   },
   {
    "duration": 174,
    "start_time": "2023-05-16T16:54:19.478Z"
   },
   {
    "duration": 5,
    "start_time": "2023-05-16T16:54:19.654Z"
   },
   {
    "duration": 161,
    "start_time": "2023-05-16T16:54:19.661Z"
   },
   {
    "duration": 10,
    "start_time": "2023-05-16T16:54:19.826Z"
   },
   {
    "duration": 173,
    "start_time": "2023-05-16T16:54:19.838Z"
   },
   {
    "duration": 20,
    "start_time": "2023-05-16T16:54:20.012Z"
   },
   {
    "duration": 10,
    "start_time": "2023-05-16T16:54:20.034Z"
   },
   {
    "duration": 5,
    "start_time": "2023-05-16T16:54:20.046Z"
   },
   {
    "duration": 201,
    "start_time": "2023-05-16T16:54:20.053Z"
   },
   {
    "duration": 11,
    "start_time": "2023-05-16T16:54:20.257Z"
   },
   {
    "duration": 3,
    "start_time": "2023-05-16T16:54:20.270Z"
   },
   {
    "duration": 5,
    "start_time": "2023-05-16T16:54:20.275Z"
   },
   {
    "duration": 162,
    "start_time": "2023-05-16T16:54:20.282Z"
   },
   {
    "duration": 155,
    "start_time": "2023-05-16T16:54:20.445Z"
   },
   {
    "duration": 6,
    "start_time": "2023-05-16T16:54:20.601Z"
   },
   {
    "duration": 152,
    "start_time": "2023-05-16T16:54:20.609Z"
   },
   {
    "duration": 3,
    "start_time": "2023-05-16T16:54:20.763Z"
   },
   {
    "duration": 140,
    "start_time": "2023-05-16T16:54:20.767Z"
   },
   {
    "duration": 16,
    "start_time": "2023-05-16T16:54:20.909Z"
   },
   {
    "duration": 17,
    "start_time": "2023-05-16T16:54:20.927Z"
   },
   {
    "duration": 4,
    "start_time": "2023-05-16T16:54:20.946Z"
   },
   {
    "duration": 198,
    "start_time": "2023-05-16T16:54:20.952Z"
   },
   {
    "duration": 14,
    "start_time": "2023-05-16T16:54:21.152Z"
   },
   {
    "duration": 9,
    "start_time": "2023-05-16T16:54:21.167Z"
   },
   {
    "duration": 16,
    "start_time": "2023-05-16T16:54:21.178Z"
   },
   {
    "duration": 4,
    "start_time": "2023-05-16T16:54:21.195Z"
   },
   {
    "duration": 32,
    "start_time": "2023-05-16T16:54:21.200Z"
   },
   {
    "duration": 7,
    "start_time": "2023-05-16T16:54:21.233Z"
   },
   {
    "duration": 6,
    "start_time": "2023-05-16T16:54:21.241Z"
   },
   {
    "duration": 4,
    "start_time": "2023-05-16T16:54:21.249Z"
   },
   {
    "duration": 11,
    "start_time": "2023-05-16T16:54:21.254Z"
   },
   {
    "duration": 233,
    "start_time": "2023-05-16T16:54:21.266Z"
   },
   {
    "duration": 7,
    "start_time": "2023-05-16T16:54:21.500Z"
   },
   {
    "duration": 129,
    "start_time": "2023-05-16T16:54:21.508Z"
   },
   {
    "duration": 10,
    "start_time": "2023-05-16T16:54:21.638Z"
   },
   {
    "duration": 130,
    "start_time": "2023-05-16T16:54:21.650Z"
   },
   {
    "duration": 11,
    "start_time": "2023-05-16T16:54:21.781Z"
   },
   {
    "duration": 186,
    "start_time": "2023-05-16T16:54:21.794Z"
   },
   {
    "duration": 9,
    "start_time": "2023-05-16T16:54:21.982Z"
   },
   {
    "duration": 146,
    "start_time": "2023-05-16T16:54:21.992Z"
   },
   {
    "duration": 10,
    "start_time": "2023-05-16T16:54:22.139Z"
   },
   {
    "duration": 137,
    "start_time": "2023-05-16T16:54:22.150Z"
   },
   {
    "duration": 9,
    "start_time": "2023-05-16T16:54:22.289Z"
   },
   {
    "duration": 147,
    "start_time": "2023-05-16T16:54:22.299Z"
   },
   {
    "duration": 11,
    "start_time": "2023-05-16T16:54:22.448Z"
   },
   {
    "duration": 164,
    "start_time": "2023-05-16T16:54:22.461Z"
   },
   {
    "duration": 9,
    "start_time": "2023-05-16T16:54:22.627Z"
   },
   {
    "duration": 125,
    "start_time": "2023-05-16T16:54:22.638Z"
   },
   {
    "duration": 148,
    "start_time": "2023-05-16T16:54:22.765Z"
   },
   {
    "duration": 18,
    "start_time": "2023-05-16T16:54:22.914Z"
   },
   {
    "duration": 136,
    "start_time": "2023-05-16T16:54:22.934Z"
   },
   {
    "duration": 10,
    "start_time": "2023-05-16T16:54:23.072Z"
   },
   {
    "duration": 145,
    "start_time": "2023-05-16T16:54:23.084Z"
   },
   {
    "duration": 9,
    "start_time": "2023-05-16T16:54:23.231Z"
   },
   {
    "duration": 154,
    "start_time": "2023-05-16T16:54:23.242Z"
   },
   {
    "duration": 9,
    "start_time": "2023-05-16T16:54:23.398Z"
   },
   {
    "duration": 217,
    "start_time": "2023-05-16T16:54:23.408Z"
   },
   {
    "duration": 16,
    "start_time": "2023-05-16T16:54:23.626Z"
   },
   {
    "duration": 10,
    "start_time": "2023-05-16T16:54:23.644Z"
   },
   {
    "duration": 231,
    "start_time": "2023-05-16T16:54:23.655Z"
   },
   {
    "duration": 5,
    "start_time": "2023-05-16T16:54:23.887Z"
   },
   {
    "duration": 8,
    "start_time": "2023-05-16T16:54:23.894Z"
   },
   {
    "duration": 23,
    "start_time": "2023-05-16T16:54:23.903Z"
   },
   {
    "duration": 5,
    "start_time": "2023-05-16T16:54:23.928Z"
   },
   {
    "duration": 5,
    "start_time": "2023-05-16T16:54:23.934Z"
   },
   {
    "duration": 19,
    "start_time": "2023-05-16T16:54:23.941Z"
   },
   {
    "duration": 1181,
    "start_time": "2023-05-16T16:54:23.962Z"
   },
   {
    "duration": 16,
    "start_time": "2023-05-16T16:54:25.145Z"
   },
   {
    "duration": 5,
    "start_time": "2023-05-16T16:54:25.163Z"
   },
   {
    "duration": 11,
    "start_time": "2023-05-16T16:54:25.170Z"
   },
   {
    "duration": 46,
    "start_time": "2023-05-16T16:54:25.182Z"
   },
   {
    "duration": 234,
    "start_time": "2023-05-16T16:54:25.238Z"
   },
   {
    "duration": 74,
    "start_time": "2023-05-16T17:10:23.723Z"
   },
   {
    "duration": 13,
    "start_time": "2023-05-16T17:10:27.110Z"
   },
   {
    "duration": 229,
    "start_time": "2023-05-16T17:17:55.898Z"
   },
   {
    "duration": 497,
    "start_time": "2023-05-25T08:43:08.734Z"
   },
   {
    "duration": 504,
    "start_time": "2023-05-25T08:43:09.233Z"
   },
   {
    "duration": 3121,
    "start_time": "2023-05-25T08:43:09.740Z"
   },
   {
    "duration": 41,
    "start_time": "2023-05-25T08:43:12.864Z"
   },
   {
    "duration": 112,
    "start_time": "2023-05-25T08:43:12.908Z"
   },
   {
    "duration": 4,
    "start_time": "2023-05-25T08:43:13.023Z"
   },
   {
    "duration": 9,
    "start_time": "2023-05-25T08:43:13.029Z"
   },
   {
    "duration": 170,
    "start_time": "2023-05-25T08:43:13.040Z"
   },
   {
    "duration": 15,
    "start_time": "2023-05-25T08:43:13.217Z"
   },
   {
    "duration": 228,
    "start_time": "2023-05-25T08:43:13.235Z"
   },
   {
    "duration": 165,
    "start_time": "2023-05-25T08:43:13.465Z"
   },
   {
    "duration": 13,
    "start_time": "2023-05-25T08:43:13.633Z"
   },
   {
    "duration": 255,
    "start_time": "2023-05-25T08:43:13.648Z"
   },
   {
    "duration": 150,
    "start_time": "2023-05-25T08:43:13.906Z"
   },
   {
    "duration": 23,
    "start_time": "2023-05-25T08:43:14.058Z"
   },
   {
    "duration": 46,
    "start_time": "2023-05-25T08:43:14.083Z"
   },
   {
    "duration": 415,
    "start_time": "2023-05-25T08:43:14.131Z"
   },
   {
    "duration": 177,
    "start_time": "2023-05-25T08:43:14.547Z"
   },
   {
    "duration": 11,
    "start_time": "2023-05-25T08:43:14.725Z"
   },
   {
    "duration": 227,
    "start_time": "2023-05-25T08:43:14.737Z"
   },
   {
    "duration": 467,
    "start_time": "2023-05-25T08:43:14.966Z"
   },
   {
    "duration": 6,
    "start_time": "2023-05-25T08:43:15.435Z"
   },
   {
    "duration": 208,
    "start_time": "2023-05-25T08:43:15.443Z"
   },
   {
    "duration": 29,
    "start_time": "2023-05-25T08:43:15.653Z"
   },
   {
    "duration": 234,
    "start_time": "2023-05-25T08:43:15.684Z"
   },
   {
    "duration": 9,
    "start_time": "2023-05-25T08:43:15.922Z"
   },
   {
    "duration": 18,
    "start_time": "2023-05-25T08:43:15.933Z"
   },
   {
    "duration": 172,
    "start_time": "2023-05-25T08:43:15.957Z"
   },
   {
    "duration": 15,
    "start_time": "2023-05-25T08:43:16.133Z"
   },
   {
    "duration": 269,
    "start_time": "2023-05-25T08:43:16.151Z"
   },
   {
    "duration": 6,
    "start_time": "2023-05-25T08:43:16.422Z"
   },
   {
    "duration": 23,
    "start_time": "2023-05-25T08:43:16.436Z"
   },
   {
    "duration": 17,
    "start_time": "2023-05-25T08:43:16.462Z"
   },
   {
    "duration": 226,
    "start_time": "2023-05-25T08:43:16.482Z"
   },
   {
    "duration": 13,
    "start_time": "2023-05-25T08:43:16.710Z"
   },
   {
    "duration": 91,
    "start_time": "2023-05-25T08:43:16.725Z"
   },
   {
    "duration": 25,
    "start_time": "2023-05-25T08:43:16.818Z"
   },
   {
    "duration": 327,
    "start_time": "2023-05-25T08:43:16.844Z"
   },
   {
    "duration": 520,
    "start_time": "2023-05-25T08:43:17.191Z"
   },
   {
    "duration": 8,
    "start_time": "2023-05-25T08:43:17.718Z"
   },
   {
    "duration": 340,
    "start_time": "2023-05-25T08:43:17.728Z"
   },
   {
    "duration": 167,
    "start_time": "2023-05-25T08:43:18.070Z"
   },
   {
    "duration": 10,
    "start_time": "2023-05-25T08:43:18.238Z"
   },
   {
    "duration": 190,
    "start_time": "2023-05-25T08:43:18.249Z"
   },
   {
    "duration": 4,
    "start_time": "2023-05-25T08:43:18.441Z"
   },
   {
    "duration": 11,
    "start_time": "2023-05-25T08:43:18.447Z"
   },
   {
    "duration": 247,
    "start_time": "2023-05-25T08:43:18.460Z"
   },
   {
    "duration": 7,
    "start_time": "2023-05-25T08:43:18.719Z"
   },
   {
    "duration": 186,
    "start_time": "2023-05-25T08:43:18.729Z"
   },
   {
    "duration": 13,
    "start_time": "2023-05-25T08:43:18.921Z"
   },
   {
    "duration": 207,
    "start_time": "2023-05-25T08:43:18.937Z"
   },
   {
    "duration": 6,
    "start_time": "2023-05-25T08:43:19.146Z"
   },
   {
    "duration": 182,
    "start_time": "2023-05-25T08:43:19.153Z"
   },
   {
    "duration": 9,
    "start_time": "2023-05-25T08:43:19.337Z"
   },
   {
    "duration": 297,
    "start_time": "2023-05-25T08:43:19.347Z"
   },
   {
    "duration": 12,
    "start_time": "2023-05-25T08:43:19.645Z"
   },
   {
    "duration": 33,
    "start_time": "2023-05-25T08:43:19.659Z"
   },
   {
    "duration": 30,
    "start_time": "2023-05-25T08:43:19.706Z"
   },
   {
    "duration": 200,
    "start_time": "2023-05-25T08:43:19.738Z"
   },
   {
    "duration": 13,
    "start_time": "2023-05-25T08:43:19.940Z"
   },
   {
    "duration": 4,
    "start_time": "2023-05-25T08:43:19.955Z"
   },
   {
    "duration": 13,
    "start_time": "2023-05-25T08:43:19.960Z"
   },
   {
    "duration": 213,
    "start_time": "2023-05-25T08:43:19.974Z"
   },
   {
    "duration": 205,
    "start_time": "2023-05-25T08:43:20.193Z"
   },
   {
    "duration": 10,
    "start_time": "2023-05-25T08:43:20.401Z"
   },
   {
    "duration": 259,
    "start_time": "2023-05-25T08:43:20.415Z"
   },
   {
    "duration": 11,
    "start_time": "2023-05-25T08:43:20.676Z"
   },
   {
    "duration": 242,
    "start_time": "2023-05-25T08:43:20.690Z"
   },
   {
    "duration": 9,
    "start_time": "2023-05-25T08:43:20.933Z"
   },
   {
    "duration": 63,
    "start_time": "2023-05-25T08:43:20.944Z"
   },
   {
    "duration": 27,
    "start_time": "2023-05-25T08:43:21.015Z"
   },
   {
    "duration": 295,
    "start_time": "2023-05-25T08:43:21.044Z"
   },
   {
    "duration": 15,
    "start_time": "2023-05-25T08:43:21.341Z"
   },
   {
    "duration": 25,
    "start_time": "2023-05-25T08:43:21.358Z"
   },
   {
    "duration": 46,
    "start_time": "2023-05-25T08:43:21.397Z"
   },
   {
    "duration": 5,
    "start_time": "2023-05-25T08:43:21.445Z"
   },
   {
    "duration": 15,
    "start_time": "2023-05-25T08:43:21.451Z"
   },
   {
    "duration": 44,
    "start_time": "2023-05-25T08:43:21.468Z"
   },
   {
    "duration": 20,
    "start_time": "2023-05-25T08:43:21.517Z"
   },
   {
    "duration": 7,
    "start_time": "2023-05-25T08:43:21.540Z"
   },
   {
    "duration": 5,
    "start_time": "2023-05-25T08:43:21.549Z"
   },
   {
    "duration": 353,
    "start_time": "2023-05-25T08:43:21.560Z"
   },
   {
    "duration": 8,
    "start_time": "2023-05-25T08:43:21.916Z"
   },
   {
    "duration": 188,
    "start_time": "2023-05-25T08:43:21.927Z"
   },
   {
    "duration": 15,
    "start_time": "2023-05-25T08:43:22.122Z"
   },
   {
    "duration": 301,
    "start_time": "2023-05-25T08:43:22.139Z"
   },
   {
    "duration": 13,
    "start_time": "2023-05-25T08:43:22.441Z"
   },
   {
    "duration": 177,
    "start_time": "2023-05-25T08:43:22.457Z"
   },
   {
    "duration": 15,
    "start_time": "2023-05-25T08:43:22.636Z"
   },
   {
    "duration": 199,
    "start_time": "2023-05-25T08:43:22.653Z"
   },
   {
    "duration": 52,
    "start_time": "2023-05-25T08:43:22.855Z"
   },
   {
    "duration": 177,
    "start_time": "2023-05-25T08:43:22.920Z"
   },
   {
    "duration": 19,
    "start_time": "2023-05-25T08:43:23.102Z"
   },
   {
    "duration": 238,
    "start_time": "2023-05-25T08:43:23.123Z"
   },
   {
    "duration": 22,
    "start_time": "2023-05-25T08:43:23.364Z"
   },
   {
    "duration": 258,
    "start_time": "2023-05-25T08:43:23.388Z"
   },
   {
    "duration": 14,
    "start_time": "2023-05-25T08:43:23.648Z"
   },
   {
    "duration": 179,
    "start_time": "2023-05-25T08:43:23.665Z"
   },
   {
    "duration": 191,
    "start_time": "2023-05-25T08:43:23.846Z"
   },
   {
    "duration": 13,
    "start_time": "2023-05-25T08:43:24.039Z"
   },
   {
    "duration": 204,
    "start_time": "2023-05-25T08:43:24.054Z"
   },
   {
    "duration": 21,
    "start_time": "2023-05-25T08:43:24.260Z"
   },
   {
    "duration": 246,
    "start_time": "2023-05-25T08:43:24.283Z"
   },
   {
    "duration": 13,
    "start_time": "2023-05-25T08:43:24.531Z"
   },
   {
    "duration": 207,
    "start_time": "2023-05-25T08:43:24.547Z"
   },
   {
    "duration": 43,
    "start_time": "2023-05-25T08:43:24.756Z"
   },
   {
    "duration": 478,
    "start_time": "2023-05-25T08:43:24.801Z"
   },
   {
    "duration": 36,
    "start_time": "2023-05-25T08:43:25.297Z"
   },
   {
    "duration": 122,
    "start_time": "2023-05-25T08:43:25.335Z"
   },
   {
    "duration": 276,
    "start_time": "2023-05-25T08:43:25.460Z"
   },
   {
    "duration": 7,
    "start_time": "2023-05-25T08:43:25.738Z"
   },
   {
    "duration": 103,
    "start_time": "2023-05-25T08:43:25.747Z"
   },
   {
    "duration": 79,
    "start_time": "2023-05-25T08:43:25.852Z"
   },
   {
    "duration": 89,
    "start_time": "2023-05-25T08:43:25.934Z"
   },
   {
    "duration": 133,
    "start_time": "2023-05-25T08:43:26.026Z"
   },
   {
    "duration": 145,
    "start_time": "2023-05-25T08:43:26.162Z"
   },
   {
    "duration": 1931,
    "start_time": "2023-05-25T08:43:26.309Z"
   },
   {
    "duration": 44,
    "start_time": "2023-05-25T08:43:28.243Z"
   },
   {
    "duration": 225,
    "start_time": "2023-05-25T08:43:28.290Z"
   },
   {
    "duration": 39,
    "start_time": "2023-05-25T08:43:28.523Z"
   },
   {
    "duration": 50,
    "start_time": "2023-05-25T08:43:28.565Z"
   },
   {
    "duration": 69,
    "start_time": "2023-05-25T08:43:28.621Z"
   },
   {
    "duration": 395,
    "start_time": "2023-05-25T08:43:28.704Z"
   },
   {
    "duration": 4,
    "start_time": "2023-05-25T08:44:40.319Z"
   },
   {
    "duration": 487,
    "start_time": "2023-05-25T09:11:09.834Z"
   },
   {
    "duration": 231,
    "start_time": "2023-05-25T09:11:10.323Z"
   },
   {
    "duration": 2973,
    "start_time": "2023-05-25T09:11:10.556Z"
   },
   {
    "duration": 18,
    "start_time": "2023-05-25T09:11:13.532Z"
   },
   {
    "duration": 147,
    "start_time": "2023-05-25T09:11:13.552Z"
   },
   {
    "duration": 5,
    "start_time": "2023-05-25T09:11:13.703Z"
   },
   {
    "duration": 22,
    "start_time": "2023-05-25T09:11:13.711Z"
   },
   {
    "duration": 168,
    "start_time": "2023-05-25T09:11:13.736Z"
   },
   {
    "duration": 13,
    "start_time": "2023-05-25T09:11:13.906Z"
   },
   {
    "duration": 265,
    "start_time": "2023-05-25T09:11:13.922Z"
   },
   {
    "duration": 154,
    "start_time": "2023-05-25T09:11:14.189Z"
   },
   {
    "duration": 11,
    "start_time": "2023-05-25T09:11:14.345Z"
   },
   {
    "duration": 254,
    "start_time": "2023-05-25T09:11:14.358Z"
   },
   {
    "duration": 146,
    "start_time": "2023-05-25T09:11:14.614Z"
   },
   {
    "duration": 27,
    "start_time": "2023-05-25T09:11:14.762Z"
   },
   {
    "duration": 26,
    "start_time": "2023-05-25T09:11:14.796Z"
   },
   {
    "duration": 391,
    "start_time": "2023-05-25T09:11:14.825Z"
   },
   {
    "duration": 144,
    "start_time": "2023-05-25T09:11:15.218Z"
   },
   {
    "duration": 24,
    "start_time": "2023-05-25T09:11:15.364Z"
   },
   {
    "duration": 227,
    "start_time": "2023-05-25T09:11:15.390Z"
   },
   {
    "duration": 413,
    "start_time": "2023-05-25T09:11:15.619Z"
   },
   {
    "duration": 6,
    "start_time": "2023-05-25T09:11:16.034Z"
   },
   {
    "duration": 184,
    "start_time": "2023-05-25T09:11:16.042Z"
   },
   {
    "duration": 11,
    "start_time": "2023-05-25T09:11:16.228Z"
   },
   {
    "duration": 255,
    "start_time": "2023-05-25T09:11:16.241Z"
   },
   {
    "duration": 5,
    "start_time": "2023-05-25T09:11:16.498Z"
   },
   {
    "duration": 27,
    "start_time": "2023-05-25T09:11:16.506Z"
   },
   {
    "duration": 182,
    "start_time": "2023-05-25T09:11:16.539Z"
   },
   {
    "duration": 12,
    "start_time": "2023-05-25T09:11:16.723Z"
   },
   {
    "duration": 243,
    "start_time": "2023-05-25T09:11:16.738Z"
   },
   {
    "duration": 9,
    "start_time": "2023-05-25T09:11:16.985Z"
   },
   {
    "duration": 32,
    "start_time": "2023-05-25T09:11:16.998Z"
   },
   {
    "duration": 19,
    "start_time": "2023-05-25T09:11:17.032Z"
   },
   {
    "duration": 171,
    "start_time": "2023-05-25T09:11:17.053Z"
   },
   {
    "duration": 11,
    "start_time": "2023-05-25T09:11:17.227Z"
   },
   {
    "duration": 9,
    "start_time": "2023-05-25T09:11:17.240Z"
   },
   {
    "duration": 28,
    "start_time": "2023-05-25T09:11:17.251Z"
   },
   {
    "duration": 314,
    "start_time": "2023-05-25T09:11:17.281Z"
   },
   {
    "duration": 462,
    "start_time": "2023-05-25T09:11:17.601Z"
   },
   {
    "duration": 12,
    "start_time": "2023-05-25T09:11:18.065Z"
   },
   {
    "duration": 287,
    "start_time": "2023-05-25T09:11:18.079Z"
   },
   {
    "duration": 140,
    "start_time": "2023-05-25T09:11:18.375Z"
   },
   {
    "duration": 9,
    "start_time": "2023-05-25T09:11:18.516Z"
   },
   {
    "duration": 199,
    "start_time": "2023-05-25T09:11:18.527Z"
   },
   {
    "duration": 4,
    "start_time": "2023-05-25T09:11:18.728Z"
   },
   {
    "duration": 23,
    "start_time": "2023-05-25T09:11:18.734Z"
   },
   {
    "duration": 199,
    "start_time": "2023-05-25T09:11:18.759Z"
   },
   {
    "duration": 19,
    "start_time": "2023-05-25T09:11:18.959Z"
   },
   {
    "duration": 158,
    "start_time": "2023-05-25T09:11:18.990Z"
   },
   {
    "duration": 13,
    "start_time": "2023-05-25T09:11:19.151Z"
   },
   {
    "duration": 271,
    "start_time": "2023-05-25T09:11:19.172Z"
   },
   {
    "duration": 6,
    "start_time": "2023-05-25T09:11:19.445Z"
   },
   {
    "duration": 165,
    "start_time": "2023-05-25T09:11:19.453Z"
   },
   {
    "duration": 10,
    "start_time": "2023-05-25T09:11:19.621Z"
   },
   {
    "duration": 286,
    "start_time": "2023-05-25T09:11:19.633Z"
   },
   {
    "duration": 12,
    "start_time": "2023-05-25T09:11:19.921Z"
   },
   {
    "duration": 24,
    "start_time": "2023-05-25T09:11:19.935Z"
   },
   {
    "duration": 26,
    "start_time": "2023-05-25T09:11:19.961Z"
   },
   {
    "duration": 206,
    "start_time": "2023-05-25T09:11:19.997Z"
   },
   {
    "duration": 13,
    "start_time": "2023-05-25T09:11:20.205Z"
   },
   {
    "duration": 14,
    "start_time": "2023-05-25T09:11:20.220Z"
   },
   {
    "duration": 12,
    "start_time": "2023-05-25T09:11:20.236Z"
   },
   {
    "duration": 198,
    "start_time": "2023-05-25T09:11:20.250Z"
   },
   {
    "duration": 195,
    "start_time": "2023-05-25T09:11:20.450Z"
   },
   {
    "duration": 7,
    "start_time": "2023-05-25T09:11:20.648Z"
   },
   {
    "duration": 280,
    "start_time": "2023-05-25T09:11:20.657Z"
   },
   {
    "duration": 5,
    "start_time": "2023-05-25T09:11:20.940Z"
   },
   {
    "duration": 202,
    "start_time": "2023-05-25T09:11:20.947Z"
   },
   {
    "duration": 11,
    "start_time": "2023-05-25T09:11:21.151Z"
   },
   {
    "duration": 49,
    "start_time": "2023-05-25T09:11:21.171Z"
   },
   {
    "duration": 6,
    "start_time": "2023-05-25T09:11:21.222Z"
   },
   {
    "duration": 231,
    "start_time": "2023-05-25T09:11:21.229Z"
   },
   {
    "duration": 33,
    "start_time": "2023-05-25T09:11:21.462Z"
   },
   {
    "duration": 14,
    "start_time": "2023-05-25T09:11:21.500Z"
   },
   {
    "duration": 29,
    "start_time": "2023-05-25T09:11:21.516Z"
   },
   {
    "duration": 7,
    "start_time": "2023-05-25T09:11:21.547Z"
   },
   {
    "duration": 34,
    "start_time": "2023-05-25T09:11:21.556Z"
   },
   {
    "duration": 22,
    "start_time": "2023-05-25T09:11:21.594Z"
   },
   {
    "duration": 14,
    "start_time": "2023-05-25T09:11:21.618Z"
   },
   {
    "duration": 9,
    "start_time": "2023-05-25T09:11:21.633Z"
   },
   {
    "duration": 14,
    "start_time": "2023-05-25T09:11:21.643Z"
   },
   {
    "duration": 300,
    "start_time": "2023-05-25T09:11:21.664Z"
   },
   {
    "duration": 21,
    "start_time": "2023-05-25T09:11:21.966Z"
   },
   {
    "duration": 176,
    "start_time": "2023-05-25T09:11:21.989Z"
   },
   {
    "duration": 29,
    "start_time": "2023-05-25T09:11:22.168Z"
   },
   {
    "duration": 266,
    "start_time": "2023-05-25T09:11:22.200Z"
   },
   {
    "duration": 15,
    "start_time": "2023-05-25T09:11:22.468Z"
   },
   {
    "duration": 220,
    "start_time": "2023-05-25T09:11:22.486Z"
   },
   {
    "duration": 13,
    "start_time": "2023-05-25T09:11:22.708Z"
   },
   {
    "duration": 189,
    "start_time": "2023-05-25T09:11:22.723Z"
   },
   {
    "duration": 16,
    "start_time": "2023-05-25T09:11:22.914Z"
   },
   {
    "duration": 193,
    "start_time": "2023-05-25T09:11:22.932Z"
   },
   {
    "duration": 12,
    "start_time": "2023-05-25T09:11:23.126Z"
   },
   {
    "duration": 196,
    "start_time": "2023-05-25T09:11:23.139Z"
   },
   {
    "duration": 13,
    "start_time": "2023-05-25T09:11:23.337Z"
   },
   {
    "duration": 181,
    "start_time": "2023-05-25T09:11:23.352Z"
   },
   {
    "duration": 14,
    "start_time": "2023-05-25T09:11:23.536Z"
   },
   {
    "duration": 180,
    "start_time": "2023-05-25T09:11:23.552Z"
   },
   {
    "duration": 187,
    "start_time": "2023-05-25T09:11:23.734Z"
   },
   {
    "duration": 12,
    "start_time": "2023-05-25T09:11:23.923Z"
   },
   {
    "duration": 175,
    "start_time": "2023-05-25T09:11:23.936Z"
   },
   {
    "duration": 12,
    "start_time": "2023-05-25T09:11:24.113Z"
   },
   {
    "duration": 184,
    "start_time": "2023-05-25T09:11:24.127Z"
   },
   {
    "duration": 13,
    "start_time": "2023-05-25T09:11:24.313Z"
   },
   {
    "duration": 188,
    "start_time": "2023-05-25T09:11:24.328Z"
   },
   {
    "duration": 11,
    "start_time": "2023-05-25T09:11:24.518Z"
   },
   {
    "duration": 414,
    "start_time": "2023-05-25T09:11:24.530Z"
   },
   {
    "duration": 37,
    "start_time": "2023-05-25T09:11:24.947Z"
   },
   {
    "duration": 20,
    "start_time": "2023-05-25T09:11:24.987Z"
   },
   {
    "duration": 227,
    "start_time": "2023-05-25T09:11:25.010Z"
   },
   {
    "duration": 6,
    "start_time": "2023-05-25T09:11:25.239Z"
   },
   {
    "duration": 32,
    "start_time": "2023-05-25T09:11:25.247Z"
   },
   {
    "duration": 8,
    "start_time": "2023-05-25T09:11:25.282Z"
   },
   {
    "duration": 32,
    "start_time": "2023-05-25T09:11:25.292Z"
   },
   {
    "duration": 14,
    "start_time": "2023-05-25T09:11:25.326Z"
   },
   {
    "duration": 25,
    "start_time": "2023-05-25T09:11:25.343Z"
   },
   {
    "duration": 1594,
    "start_time": "2023-05-25T09:11:25.370Z"
   },
   {
    "duration": 29,
    "start_time": "2023-05-25T09:11:26.966Z"
   },
   {
    "duration": 56,
    "start_time": "2023-05-25T09:11:26.997Z"
   },
   {
    "duration": 138,
    "start_time": "2023-05-25T09:11:27.055Z"
   },
   {
    "duration": 22,
    "start_time": "2023-05-25T09:11:27.199Z"
   },
   {
    "duration": 24,
    "start_time": "2023-05-25T09:11:27.224Z"
   },
   {
    "duration": 350,
    "start_time": "2023-05-25T09:11:27.250Z"
   },
   {
    "duration": 465,
    "start_time": "2023-07-19T09:55:41.903Z"
   },
   {
    "duration": 897,
    "start_time": "2023-07-19T09:55:42.371Z"
   },
   {
    "duration": 2833,
    "start_time": "2023-07-19T09:55:43.271Z"
   },
   {
    "duration": 15,
    "start_time": "2023-07-19T09:55:46.106Z"
   },
   {
    "duration": 80,
    "start_time": "2023-07-19T09:55:46.122Z"
   },
   {
    "duration": 3,
    "start_time": "2023-07-19T09:55:46.203Z"
   },
   {
    "duration": 12,
    "start_time": "2023-07-19T09:55:46.208Z"
   },
   {
    "duration": 130,
    "start_time": "2023-07-19T09:55:46.221Z"
   },
   {
    "duration": 15,
    "start_time": "2023-07-19T09:55:46.353Z"
   },
   {
    "duration": 210,
    "start_time": "2023-07-19T09:55:46.371Z"
   },
   {
    "duration": 121,
    "start_time": "2023-07-19T09:55:46.583Z"
   },
   {
    "duration": 10,
    "start_time": "2023-07-19T09:55:46.706Z"
   },
   {
    "duration": 238,
    "start_time": "2023-07-19T09:55:46.717Z"
   },
   {
    "duration": 133,
    "start_time": "2023-07-19T09:55:46.957Z"
   },
   {
    "duration": 8,
    "start_time": "2023-07-19T09:55:47.092Z"
   },
   {
    "duration": 8,
    "start_time": "2023-07-19T09:55:47.102Z"
   },
   {
    "duration": 263,
    "start_time": "2023-07-19T09:55:47.111Z"
   },
   {
    "duration": 126,
    "start_time": "2023-07-19T09:55:47.376Z"
   },
   {
    "duration": 8,
    "start_time": "2023-07-19T09:55:47.503Z"
   },
   {
    "duration": 198,
    "start_time": "2023-07-19T09:55:47.513Z"
   },
   {
    "duration": 389,
    "start_time": "2023-07-19T09:55:47.712Z"
   },
   {
    "duration": 4,
    "start_time": "2023-07-19T09:55:48.103Z"
   },
   {
    "duration": 168,
    "start_time": "2023-07-19T09:55:48.108Z"
   },
   {
    "duration": 7,
    "start_time": "2023-07-19T09:55:48.278Z"
   },
   {
    "duration": 201,
    "start_time": "2023-07-19T09:55:48.287Z"
   },
   {
    "duration": 4,
    "start_time": "2023-07-19T09:55:48.489Z"
   },
   {
    "duration": 67,
    "start_time": "2023-07-19T09:55:48.494Z"
   },
   {
    "duration": 137,
    "start_time": "2023-07-19T09:55:48.567Z"
   },
   {
    "duration": 8,
    "start_time": "2023-07-19T09:55:48.706Z"
   },
   {
    "duration": 215,
    "start_time": "2023-07-19T09:55:48.715Z"
   },
   {
    "duration": 14,
    "start_time": "2023-07-19T09:55:48.934Z"
   },
   {
    "duration": 47,
    "start_time": "2023-07-19T09:55:48.950Z"
   },
   {
    "duration": 25,
    "start_time": "2023-07-19T09:55:48.998Z"
   },
   {
    "duration": 178,
    "start_time": "2023-07-19T09:55:49.025Z"
   },
   {
    "duration": 8,
    "start_time": "2023-07-19T09:55:49.204Z"
   },
   {
    "duration": 49,
    "start_time": "2023-07-19T09:55:49.213Z"
   },
   {
    "duration": 16,
    "start_time": "2023-07-19T09:55:49.266Z"
   },
   {
    "duration": 265,
    "start_time": "2023-07-19T09:55:49.283Z"
   },
   {
    "duration": 446,
    "start_time": "2023-07-19T09:55:49.551Z"
   },
   {
    "duration": 5,
    "start_time": "2023-07-19T09:55:49.998Z"
   },
   {
    "duration": 279,
    "start_time": "2023-07-19T09:55:50.004Z"
   },
   {
    "duration": 108,
    "start_time": "2023-07-19T09:55:50.284Z"
   },
   {
    "duration": 7,
    "start_time": "2023-07-19T09:55:50.394Z"
   },
   {
    "duration": 144,
    "start_time": "2023-07-19T09:55:50.402Z"
   },
   {
    "duration": 7,
    "start_time": "2023-07-19T09:55:50.548Z"
   },
   {
    "duration": 35,
    "start_time": "2023-07-19T09:55:50.558Z"
   },
   {
    "duration": 187,
    "start_time": "2023-07-19T09:55:50.594Z"
   },
   {
    "duration": 4,
    "start_time": "2023-07-19T09:55:50.782Z"
   },
   {
    "duration": 127,
    "start_time": "2023-07-19T09:55:50.788Z"
   },
   {
    "duration": 8,
    "start_time": "2023-07-19T09:55:50.916Z"
   },
   {
    "duration": 202,
    "start_time": "2023-07-19T09:55:50.925Z"
   },
   {
    "duration": 6,
    "start_time": "2023-07-19T09:55:51.129Z"
   },
   {
    "duration": 176,
    "start_time": "2023-07-19T09:55:51.136Z"
   },
   {
    "duration": 7,
    "start_time": "2023-07-19T09:55:51.313Z"
   },
   {
    "duration": 256,
    "start_time": "2023-07-19T09:55:51.322Z"
   },
   {
    "duration": 9,
    "start_time": "2023-07-19T09:55:51.579Z"
   },
   {
    "duration": 37,
    "start_time": "2023-07-19T09:55:51.590Z"
   },
   {
    "duration": 73,
    "start_time": "2023-07-19T09:55:51.628Z"
   },
   {
    "duration": 178,
    "start_time": "2023-07-19T09:55:51.703Z"
   },
   {
    "duration": 10,
    "start_time": "2023-07-19T09:55:51.883Z"
   },
   {
    "duration": 21,
    "start_time": "2023-07-19T09:55:51.894Z"
   },
   {
    "duration": 14,
    "start_time": "2023-07-19T09:55:51.916Z"
   },
   {
    "duration": 212,
    "start_time": "2023-07-19T09:55:51.934Z"
   },
   {
    "duration": 165,
    "start_time": "2023-07-19T09:55:52.148Z"
   },
   {
    "duration": 6,
    "start_time": "2023-07-19T09:55:52.314Z"
   },
   {
    "duration": 352,
    "start_time": "2023-07-19T09:55:52.321Z"
   },
   {
    "duration": 4,
    "start_time": "2023-07-19T09:55:52.675Z"
   },
   {
    "duration": 187,
    "start_time": "2023-07-19T09:55:52.680Z"
   },
   {
    "duration": 10,
    "start_time": "2023-07-19T09:55:52.869Z"
   },
   {
    "duration": 26,
    "start_time": "2023-07-19T09:55:52.881Z"
   },
   {
    "duration": 10,
    "start_time": "2023-07-19T09:55:52.908Z"
   },
   {
    "duration": 228,
    "start_time": "2023-07-19T09:55:52.920Z"
   },
   {
    "duration": 23,
    "start_time": "2023-07-19T09:55:53.150Z"
   },
   {
    "duration": 16,
    "start_time": "2023-07-19T09:55:53.176Z"
   },
   {
    "duration": 28,
    "start_time": "2023-07-19T09:55:53.194Z"
   },
   {
    "duration": 37,
    "start_time": "2023-07-19T09:55:53.223Z"
   },
   {
    "duration": 30,
    "start_time": "2023-07-19T09:55:53.263Z"
   },
   {
    "duration": 7,
    "start_time": "2023-07-19T09:55:53.295Z"
   },
   {
    "duration": 30,
    "start_time": "2023-07-19T09:55:53.303Z"
   },
   {
    "duration": 48,
    "start_time": "2023-07-19T09:55:53.335Z"
   },
   {
    "duration": 7,
    "start_time": "2023-07-19T09:55:53.385Z"
   },
   {
    "duration": 258,
    "start_time": "2023-07-19T09:55:53.398Z"
   },
   {
    "duration": 8,
    "start_time": "2023-07-19T09:55:53.658Z"
   },
   {
    "duration": 133,
    "start_time": "2023-07-19T09:55:53.675Z"
   },
   {
    "duration": 11,
    "start_time": "2023-07-19T09:55:53.810Z"
   },
   {
    "duration": 201,
    "start_time": "2023-07-19T09:55:53.822Z"
   },
   {
    "duration": 13,
    "start_time": "2023-07-19T09:55:54.024Z"
   },
   {
    "duration": 168,
    "start_time": "2023-07-19T09:55:54.039Z"
   },
   {
    "duration": 10,
    "start_time": "2023-07-19T09:55:54.209Z"
   },
   {
    "duration": 186,
    "start_time": "2023-07-19T09:55:54.220Z"
   },
   {
    "duration": 10,
    "start_time": "2023-07-19T09:55:54.408Z"
   },
   {
    "duration": 176,
    "start_time": "2023-07-19T09:55:54.419Z"
   },
   {
    "duration": 10,
    "start_time": "2023-07-19T09:55:54.596Z"
   },
   {
    "duration": 187,
    "start_time": "2023-07-19T09:55:54.608Z"
   },
   {
    "duration": 12,
    "start_time": "2023-07-19T09:55:54.796Z"
   },
   {
    "duration": 174,
    "start_time": "2023-07-19T09:55:54.810Z"
   },
   {
    "duration": 11,
    "start_time": "2023-07-19T09:55:54.986Z"
   },
   {
    "duration": 125,
    "start_time": "2023-07-19T09:55:54.999Z"
   },
   {
    "duration": 170,
    "start_time": "2023-07-19T09:55:55.126Z"
   },
   {
    "duration": 10,
    "start_time": "2023-07-19T09:55:55.297Z"
   },
   {
    "duration": 158,
    "start_time": "2023-07-19T09:55:55.309Z"
   },
   {
    "duration": 9,
    "start_time": "2023-07-19T09:55:55.469Z"
   },
   {
    "duration": 155,
    "start_time": "2023-07-19T09:55:55.479Z"
   },
   {
    "duration": 23,
    "start_time": "2023-07-19T09:55:55.640Z"
   },
   {
    "duration": 162,
    "start_time": "2023-07-19T09:55:55.665Z"
   },
   {
    "duration": 19,
    "start_time": "2023-07-19T09:55:55.829Z"
   },
   {
    "duration": 328,
    "start_time": "2023-07-19T09:55:55.849Z"
   },
   {
    "duration": 18,
    "start_time": "2023-07-19T09:55:56.179Z"
   },
   {
    "duration": 9,
    "start_time": "2023-07-19T09:55:56.199Z"
   },
   {
    "duration": 164,
    "start_time": "2023-07-19T09:55:56.209Z"
   },
   {
    "duration": 5,
    "start_time": "2023-07-19T09:55:56.375Z"
   },
   {
    "duration": 11,
    "start_time": "2023-07-19T09:55:56.381Z"
   },
   {
    "duration": 13,
    "start_time": "2023-07-19T09:55:56.394Z"
   },
   {
    "duration": 16,
    "start_time": "2023-07-19T09:55:56.409Z"
   },
   {
    "duration": 40,
    "start_time": "2023-07-19T09:55:56.427Z"
   },
   {
    "duration": 28,
    "start_time": "2023-07-19T09:55:56.468Z"
   },
   {
    "duration": 1228,
    "start_time": "2023-07-19T09:55:56.497Z"
   },
   {
    "duration": 38,
    "start_time": "2023-07-19T09:55:57.727Z"
   },
   {
    "duration": 42,
    "start_time": "2023-07-19T09:55:57.766Z"
   },
   {
    "duration": 110,
    "start_time": "2023-07-19T09:55:57.809Z"
   },
   {
    "duration": 57,
    "start_time": "2023-07-19T09:55:57.920Z"
   },
   {
    "duration": 58,
    "start_time": "2023-07-19T09:55:57.978Z"
   },
   {
    "duration": 280,
    "start_time": "2023-07-19T09:55:58.038Z"
   }
  ],
  "kernelspec": {
   "display_name": "Python 3 (ipykernel)",
   "language": "python",
   "name": "python3"
  },
  "language_info": {
   "codemirror_mode": {
    "name": "ipython",
    "version": 3
   },
   "file_extension": ".py",
   "mimetype": "text/x-python",
   "name": "python",
   "nbconvert_exporter": "python",
   "pygments_lexer": "ipython3",
   "version": "3.9.5"
  },
  "toc": {
   "base_numbering": 1,
   "nav_menu": {},
   "number_sections": true,
   "sideBar": true,
   "skip_h1_title": true,
   "title_cell": "Table of Contents",
   "title_sidebar": "Contents",
   "toc_cell": false,
   "toc_position": {},
   "toc_section_display": true,
   "toc_window_display": true
  }
 },
 "nbformat": 4,
 "nbformat_minor": 2
}
