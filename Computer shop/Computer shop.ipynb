{
  "metadata": {
    "kernelspec": {
      "name": "python",
      "display_name": "Python (Pyodide)",
      "language": "python"
    },
    "language_info": {
      "codemirror_mode": {
        "name": "python",
        "version": 3
      },
      "file_extension": ".py",
      "mimetype": "text/x-python",
      "name": "python",
      "nbconvert_exporter": "python",
      "pygments_lexer": "ipython3",
      "version": "3.8"
    },
    "ExecuteTimeLog": [
      {
        "duration": 786,
        "start_time": "2023-05-23T15:57:14.666Z"
      },
      {
        "duration": 48,
        "start_time": "2023-05-24T19:13:13.481Z"
      },
      {
        "duration": 998,
        "start_time": "2023-05-24T19:13:16.693Z"
      },
      {
        "duration": 129,
        "start_time": "2023-05-24T19:13:17.693Z"
      },
      {
        "duration": 17,
        "start_time": "2023-05-24T19:13:29.587Z"
      },
      {
        "duration": 12,
        "start_time": "2023-05-24T19:13:39.611Z"
      },
      {
        "duration": 518,
        "start_time": "2023-05-24T19:16:14.999Z"
      },
      {
        "duration": 71,
        "start_time": "2023-05-24T19:23:33.799Z"
      },
      {
        "duration": 10,
        "start_time": "2023-05-24T19:23:40.805Z"
      },
      {
        "duration": 5,
        "start_time": "2023-05-24T19:23:45.959Z"
      },
      {
        "duration": 7,
        "start_time": "2023-05-24T19:24:43.013Z"
      },
      {
        "duration": 96,
        "start_time": "2023-05-24T19:26:43.656Z"
      },
      {
        "duration": 91,
        "start_time": "2023-05-24T19:26:46.798Z"
      },
      {
        "duration": 781,
        "start_time": "2023-05-24T19:26:55.040Z"
      },
      {
        "duration": 6,
        "start_time": "2023-05-24T19:27:00.949Z"
      },
      {
        "duration": 9,
        "start_time": "2023-05-24T19:27:09.403Z"
      },
      {
        "duration": 3,
        "start_time": "2023-05-24T19:27:29.151Z"
      },
      {
        "duration": 89,
        "start_time": "2023-05-24T19:27:29.505Z"
      },
      {
        "duration": 19,
        "start_time": "2023-05-24T19:27:29.905Z"
      },
      {
        "duration": 11,
        "start_time": "2023-05-24T19:27:30.302Z"
      },
      {
        "duration": 7,
        "start_time": "2023-05-24T19:27:32.219Z"
      },
      {
        "duration": 9,
        "start_time": "2023-05-24T19:27:32.648Z"
      },
      {
        "duration": 7,
        "start_time": "2023-05-24T19:27:41.919Z"
      },
      {
        "duration": 22,
        "start_time": "2023-05-24T19:27:55.110Z"
      },
      {
        "duration": 6,
        "start_time": "2023-05-24T19:29:32.517Z"
      },
      {
        "duration": 7,
        "start_time": "2023-05-24T19:29:34.807Z"
      },
      {
        "duration": 22,
        "start_time": "2023-05-24T19:29:57.494Z"
      },
      {
        "duration": 8,
        "start_time": "2023-05-24T19:30:28.054Z"
      },
      {
        "duration": 6,
        "start_time": "2023-05-24T19:30:33.897Z"
      },
      {
        "duration": 6,
        "start_time": "2023-05-24T19:30:39.205Z"
      },
      {
        "duration": 3,
        "start_time": "2023-05-24T19:31:03.221Z"
      },
      {
        "duration": 76,
        "start_time": "2023-05-24T19:31:03.524Z"
      },
      {
        "duration": 16,
        "start_time": "2023-05-24T19:31:03.655Z"
      },
      {
        "duration": 11,
        "start_time": "2023-05-24T19:31:03.797Z"
      },
      {
        "duration": 7,
        "start_time": "2023-05-24T19:31:04.579Z"
      },
      {
        "duration": 7,
        "start_time": "2023-05-24T19:31:05.291Z"
      },
      {
        "duration": 6,
        "start_time": "2023-05-24T19:31:07.461Z"
      },
      {
        "duration": 7,
        "start_time": "2023-05-24T19:36:10.050Z"
      },
      {
        "duration": 6,
        "start_time": "2023-05-24T19:36:17.682Z"
      },
      {
        "duration": 77,
        "start_time": "2023-05-24T19:36:17.953Z"
      },
      {
        "duration": 14,
        "start_time": "2023-05-24T19:36:18.099Z"
      },
      {
        "duration": 9,
        "start_time": "2023-05-24T19:36:18.254Z"
      },
      {
        "duration": 6,
        "start_time": "2023-05-24T19:36:19.318Z"
      },
      {
        "duration": 7,
        "start_time": "2023-05-24T19:36:20.720Z"
      },
      {
        "duration": 17,
        "start_time": "2023-05-24T19:36:25.114Z"
      },
      {
        "duration": 14,
        "start_time": "2023-05-24T20:06:33.757Z"
      },
      {
        "duration": 10,
        "start_time": "2023-05-24T20:06:40.772Z"
      },
      {
        "duration": 1263,
        "start_time": "2023-05-24T20:07:30.553Z"
      },
      {
        "duration": 82,
        "start_time": "2023-05-24T20:07:31.818Z"
      },
      {
        "duration": 15,
        "start_time": "2023-05-24T20:07:31.902Z"
      },
      {
        "duration": 13,
        "start_time": "2023-05-24T20:07:31.918Z"
      },
      {
        "duration": 133,
        "start_time": "2023-05-24T20:07:31.933Z"
      },
      {
        "duration": 0,
        "start_time": "2023-05-24T20:07:32.068Z"
      },
      {
        "duration": 0,
        "start_time": "2023-05-24T20:07:32.070Z"
      },
      {
        "duration": 6,
        "start_time": "2023-05-24T20:07:48.355Z"
      },
      {
        "duration": 13,
        "start_time": "2023-05-24T20:07:49.253Z"
      },
      {
        "duration": 7,
        "start_time": "2023-05-24T20:08:16.613Z"
      },
      {
        "duration": 7,
        "start_time": "2023-05-24T20:08:24.961Z"
      },
      {
        "duration": 9,
        "start_time": "2023-05-24T20:09:00.051Z"
      },
      {
        "duration": 7,
        "start_time": "2023-05-24T20:09:09.852Z"
      },
      {
        "duration": 4,
        "start_time": "2023-05-24T20:09:24.353Z"
      },
      {
        "duration": 5,
        "start_time": "2023-05-24T20:09:39.877Z"
      },
      {
        "duration": 11,
        "start_time": "2023-05-24T20:09:46.410Z"
      },
      {
        "duration": 6,
        "start_time": "2023-05-24T20:09:51.290Z"
      },
      {
        "duration": 9,
        "start_time": "2023-05-24T20:10:09.385Z"
      },
      {
        "duration": 18,
        "start_time": "2023-05-24T20:10:14.682Z"
      },
      {
        "duration": 1660,
        "start_time": "2023-05-25T08:42:37.759Z"
      },
      {
        "duration": 110,
        "start_time": "2023-05-25T08:42:39.423Z"
      },
      {
        "duration": 20,
        "start_time": "2023-05-25T08:42:39.536Z"
      },
      {
        "duration": 90,
        "start_time": "2023-05-25T08:42:39.559Z"
      },
      {
        "duration": 7,
        "start_time": "2023-05-25T08:42:39.651Z"
      },
      {
        "duration": 35,
        "start_time": "2023-05-25T08:42:39.660Z"
      },
      {
        "duration": 54,
        "start_time": "2023-05-25T08:42:39.698Z"
      },
      {
        "duration": 7,
        "start_time": "2023-05-25T08:42:39.754Z"
      },
      {
        "duration": 5,
        "start_time": "2023-05-25T08:44:24.443Z"
      },
      {
        "duration": 6,
        "start_time": "2023-05-25T08:49:26.252Z"
      },
      {
        "duration": 9,
        "start_time": "2023-05-25T08:50:57.874Z"
      },
      {
        "duration": 15,
        "start_time": "2023-05-25T08:51:14.797Z"
      },
      {
        "duration": 1575,
        "start_time": "2023-05-25T08:53:33.344Z"
      },
      {
        "duration": 91,
        "start_time": "2023-05-25T08:53:34.921Z"
      },
      {
        "duration": 17,
        "start_time": "2023-05-25T08:53:35.014Z"
      },
      {
        "duration": 10,
        "start_time": "2023-05-25T08:53:35.034Z"
      },
      {
        "duration": 16,
        "start_time": "2023-05-25T08:53:35.046Z"
      },
      {
        "duration": 26,
        "start_time": "2023-05-25T08:53:35.064Z"
      },
      {
        "duration": 14,
        "start_time": "2023-05-25T08:53:35.092Z"
      },
      {
        "duration": 31,
        "start_time": "2023-05-25T08:53:35.107Z"
      },
      {
        "duration": 5624,
        "start_time": "2023-05-25T08:53:35.139Z"
      },
      {
        "duration": 0,
        "start_time": "2023-05-25T08:53:40.765Z"
      },
      {
        "duration": 16,
        "start_time": "2023-05-25T08:57:49.439Z"
      },
      {
        "duration": 4719,
        "start_time": "2023-05-25T08:57:54.973Z"
      },
      {
        "duration": 18,
        "start_time": "2023-05-25T08:58:08.173Z"
      },
      {
        "duration": 3,
        "start_time": "2023-05-25T08:58:36.537Z"
      },
      {
        "duration": 90,
        "start_time": "2023-05-25T08:58:37.076Z"
      },
      {
        "duration": 23,
        "start_time": "2023-05-25T08:58:37.169Z"
      },
      {
        "duration": 65,
        "start_time": "2023-05-25T08:58:37.198Z"
      },
      {
        "duration": 38,
        "start_time": "2023-05-25T08:58:37.266Z"
      },
      {
        "duration": 28,
        "start_time": "2023-05-25T08:58:37.306Z"
      },
      {
        "duration": 6,
        "start_time": "2023-05-25T08:58:38.908Z"
      },
      {
        "duration": 15,
        "start_time": "2023-05-25T08:58:39.405Z"
      },
      {
        "duration": 7,
        "start_time": "2023-05-25T08:58:40.218Z"
      },
      {
        "duration": 16,
        "start_time": "2023-05-25T08:58:41.679Z"
      },
      {
        "duration": 4,
        "start_time": "2023-05-25T08:58:55.374Z"
      },
      {
        "duration": 100,
        "start_time": "2023-05-25T08:58:55.913Z"
      },
      {
        "duration": 20,
        "start_time": "2023-05-25T08:58:56.016Z"
      },
      {
        "duration": 62,
        "start_time": "2023-05-25T08:58:56.038Z"
      },
      {
        "duration": 29,
        "start_time": "2023-05-25T08:58:56.103Z"
      },
      {
        "duration": 24,
        "start_time": "2023-05-25T08:58:56.135Z"
      },
      {
        "duration": 48,
        "start_time": "2023-05-25T08:58:56.162Z"
      },
      {
        "duration": 34,
        "start_time": "2023-05-25T08:58:56.213Z"
      },
      {
        "duration": 5,
        "start_time": "2023-05-25T08:58:58.051Z"
      },
      {
        "duration": 1274,
        "start_time": "2023-05-25T08:59:04.594Z"
      },
      {
        "duration": 89,
        "start_time": "2023-05-25T08:59:05.871Z"
      },
      {
        "duration": 24,
        "start_time": "2023-05-25T08:59:05.962Z"
      },
      {
        "duration": 88,
        "start_time": "2023-05-25T08:59:05.988Z"
      },
      {
        "duration": 58,
        "start_time": "2023-05-25T08:59:06.084Z"
      },
      {
        "duration": 56,
        "start_time": "2023-05-25T08:59:06.144Z"
      },
      {
        "duration": 55,
        "start_time": "2023-05-25T08:59:06.202Z"
      },
      {
        "duration": 75,
        "start_time": "2023-05-25T08:59:06.260Z"
      },
      {
        "duration": 35,
        "start_time": "2023-05-25T08:59:06.337Z"
      },
      {
        "duration": 131,
        "start_time": "2023-05-25T08:59:06.383Z"
      },
      {
        "duration": 5,
        "start_time": "2023-05-25T08:59:24.519Z"
      },
      {
        "duration": 2189,
        "start_time": "2023-05-25T08:59:37.499Z"
      },
      {
        "duration": 5,
        "start_time": "2023-05-25T08:59:43.225Z"
      },
      {
        "duration": 1305,
        "start_time": "2023-05-25T08:59:58.760Z"
      },
      {
        "duration": 80,
        "start_time": "2023-05-25T09:00:00.067Z"
      },
      {
        "duration": 15,
        "start_time": "2023-05-25T09:00:00.148Z"
      },
      {
        "duration": 55,
        "start_time": "2023-05-25T09:00:00.165Z"
      },
      {
        "duration": 29,
        "start_time": "2023-05-25T09:00:00.222Z"
      },
      {
        "duration": 90,
        "start_time": "2023-05-25T09:00:00.253Z"
      },
      {
        "duration": 56,
        "start_time": "2023-05-25T09:00:00.346Z"
      },
      {
        "duration": 102,
        "start_time": "2023-05-25T09:00:00.405Z"
      },
      {
        "duration": 77,
        "start_time": "2023-05-25T09:00:00.509Z"
      },
      {
        "duration": 42,
        "start_time": "2023-05-25T09:00:00.588Z"
      },
      {
        "duration": 5,
        "start_time": "2023-05-25T09:00:08.782Z"
      },
      {
        "duration": 5,
        "start_time": "2023-05-25T09:00:36.287Z"
      },
      {
        "duration": 15,
        "start_time": "2023-05-25T09:00:39.235Z"
      },
      {
        "duration": 5,
        "start_time": "2023-05-25T09:00:39.762Z"
      },
      {
        "duration": 78,
        "start_time": "2023-05-25T09:00:51.016Z"
      },
      {
        "duration": 16,
        "start_time": "2023-05-25T09:00:51.191Z"
      },
      {
        "duration": 9,
        "start_time": "2023-05-25T09:00:51.391Z"
      },
      {
        "duration": 6,
        "start_time": "2023-05-25T09:00:56.755Z"
      },
      {
        "duration": 6,
        "start_time": "2023-05-25T09:00:56.960Z"
      },
      {
        "duration": 14,
        "start_time": "2023-05-25T09:00:57.425Z"
      },
      {
        "duration": 5,
        "start_time": "2023-05-25T09:00:59.009Z"
      },
      {
        "duration": 5,
        "start_time": "2023-05-25T09:01:01.687Z"
      },
      {
        "duration": 15,
        "start_time": "2023-05-25T09:01:03.124Z"
      },
      {
        "duration": 6,
        "start_time": "2023-05-25T09:01:11.768Z"
      },
      {
        "duration": 5,
        "start_time": "2023-05-25T09:01:12.701Z"
      },
      {
        "duration": 5,
        "start_time": "2023-05-25T09:01:13.411Z"
      },
      {
        "duration": 4,
        "start_time": "2023-05-25T09:01:23.317Z"
      },
      {
        "duration": 1293,
        "start_time": "2023-05-25T09:01:31.397Z"
      },
      {
        "duration": 83,
        "start_time": "2023-05-25T09:01:32.692Z"
      },
      {
        "duration": 22,
        "start_time": "2023-05-25T09:01:32.777Z"
      },
      {
        "duration": 13,
        "start_time": "2023-05-25T09:01:32.802Z"
      },
      {
        "duration": 11,
        "start_time": "2023-05-25T09:01:32.818Z"
      },
      {
        "duration": 32,
        "start_time": "2023-05-25T09:01:32.831Z"
      },
      {
        "duration": 56,
        "start_time": "2023-05-25T09:01:32.864Z"
      },
      {
        "duration": 15,
        "start_time": "2023-05-25T09:01:32.922Z"
      },
      {
        "duration": 44,
        "start_time": "2023-05-25T09:01:32.938Z"
      },
      {
        "duration": 4,
        "start_time": "2023-05-25T09:02:45.331Z"
      },
      {
        "duration": 5,
        "start_time": "2023-05-25T09:06:16.147Z"
      },
      {
        "duration": 16,
        "start_time": "2023-05-25T09:06:20.335Z"
      },
      {
        "duration": 7,
        "start_time": "2023-05-25T09:06:30.569Z"
      },
      {
        "duration": 6,
        "start_time": "2023-05-25T09:06:58.586Z"
      },
      {
        "duration": 12,
        "start_time": "2023-05-25T09:07:14.041Z"
      },
      {
        "duration": 9,
        "start_time": "2023-05-25T09:07:19.072Z"
      },
      {
        "duration": 91,
        "start_time": "2023-05-25T09:07:19.603Z"
      },
      {
        "duration": 22,
        "start_time": "2023-05-25T09:07:19.698Z"
      },
      {
        "duration": 14,
        "start_time": "2023-05-25T09:07:19.723Z"
      },
      {
        "duration": 17,
        "start_time": "2023-05-25T09:07:19.742Z"
      },
      {
        "duration": 6,
        "start_time": "2023-05-25T09:07:19.776Z"
      },
      {
        "duration": 23,
        "start_time": "2023-05-25T09:07:19.796Z"
      },
      {
        "duration": 8,
        "start_time": "2023-05-25T09:07:19.833Z"
      },
      {
        "duration": 29,
        "start_time": "2023-05-25T09:07:19.870Z"
      },
      {
        "duration": 6,
        "start_time": "2023-05-25T09:07:21.954Z"
      },
      {
        "duration": 19,
        "start_time": "2023-05-25T09:11:53.200Z"
      },
      {
        "duration": 12,
        "start_time": "2023-05-25T09:11:56.381Z"
      },
      {
        "duration": 16,
        "start_time": "2023-05-25T09:11:58.154Z"
      },
      {
        "duration": 5,
        "start_time": "2023-05-25T09:22:18.744Z"
      },
      {
        "duration": 9,
        "start_time": "2023-05-25T09:23:32.123Z"
      },
      {
        "duration": 1412,
        "start_time": "2023-05-25T09:26:43.543Z"
      },
      {
        "duration": 110,
        "start_time": "2023-05-25T09:26:44.958Z"
      },
      {
        "duration": 41,
        "start_time": "2023-05-25T09:26:45.070Z"
      },
      {
        "duration": 43,
        "start_time": "2023-05-25T09:26:45.117Z"
      },
      {
        "duration": 66,
        "start_time": "2023-05-25T09:26:45.162Z"
      },
      {
        "duration": 28,
        "start_time": "2023-05-25T09:26:45.230Z"
      },
      {
        "duration": 86,
        "start_time": "2023-05-25T09:26:45.260Z"
      },
      {
        "duration": 12,
        "start_time": "2023-05-25T09:26:45.348Z"
      },
      {
        "duration": 56,
        "start_time": "2023-05-25T09:26:45.362Z"
      },
      {
        "duration": 49,
        "start_time": "2023-05-25T09:26:45.420Z"
      },
      {
        "duration": 50,
        "start_time": "2023-05-25T09:26:45.471Z"
      },
      {
        "duration": 8,
        "start_time": "2023-05-25T09:27:09.116Z"
      },
      {
        "duration": 4,
        "start_time": "2023-05-25T09:27:12.855Z"
      },
      {
        "duration": 82,
        "start_time": "2023-05-25T09:27:13.398Z"
      },
      {
        "duration": 29,
        "start_time": "2023-05-25T09:27:13.483Z"
      },
      {
        "duration": 44,
        "start_time": "2023-05-25T09:27:13.515Z"
      },
      {
        "duration": 73,
        "start_time": "2023-05-25T09:27:13.561Z"
      },
      {
        "duration": 32,
        "start_time": "2023-05-25T09:27:13.636Z"
      },
      {
        "duration": 112,
        "start_time": "2023-05-25T09:27:13.671Z"
      },
      {
        "duration": 26,
        "start_time": "2023-05-25T09:27:13.793Z"
      },
      {
        "duration": 98,
        "start_time": "2023-05-25T09:27:13.821Z"
      },
      {
        "duration": 20,
        "start_time": "2023-05-25T09:27:13.921Z"
      },
      {
        "duration": 117,
        "start_time": "2023-05-25T09:27:13.943Z"
      },
      {
        "duration": 7,
        "start_time": "2023-05-25T09:27:20.797Z"
      },
      {
        "duration": 13,
        "start_time": "2023-05-25T09:28:10.650Z"
      },
      {
        "duration": 21,
        "start_time": "2023-05-25T12:47:02.011Z"
      },
      {
        "duration": 17,
        "start_time": "2023-05-25T12:51:33.680Z"
      },
      {
        "duration": 1222,
        "start_time": "2023-05-25T12:51:39.452Z"
      },
      {
        "duration": 89,
        "start_time": "2023-05-25T12:51:40.677Z"
      },
      {
        "duration": 18,
        "start_time": "2023-05-25T12:51:40.772Z"
      },
      {
        "duration": 9,
        "start_time": "2023-05-25T12:51:40.792Z"
      },
      {
        "duration": 12,
        "start_time": "2023-05-25T12:51:40.803Z"
      },
      {
        "duration": 24,
        "start_time": "2023-05-25T12:51:40.817Z"
      },
      {
        "duration": 33,
        "start_time": "2023-05-25T12:51:40.843Z"
      },
      {
        "duration": 31,
        "start_time": "2023-05-25T12:51:40.878Z"
      },
      {
        "duration": 5,
        "start_time": "2023-05-25T12:51:40.912Z"
      },
      {
        "duration": 8,
        "start_time": "2023-05-25T12:51:40.919Z"
      },
      {
        "duration": 11,
        "start_time": "2023-05-25T12:51:40.929Z"
      },
      {
        "duration": 38,
        "start_time": "2023-05-25T12:51:40.942Z"
      },
      {
        "duration": 20,
        "start_time": "2023-05-25T12:51:40.982Z"
      },
      {
        "duration": 12,
        "start_time": "2023-05-25T12:57:50.881Z"
      },
      {
        "duration": 9,
        "start_time": "2023-05-25T12:58:06.194Z"
      },
      {
        "duration": 8,
        "start_time": "2023-05-25T12:58:34.438Z"
      },
      {
        "duration": 9,
        "start_time": "2023-05-25T13:12:19.649Z"
      },
      {
        "duration": 10,
        "start_time": "2023-05-25T13:12:35.054Z"
      },
      {
        "duration": 9,
        "start_time": "2023-05-25T13:13:04.189Z"
      },
      {
        "duration": 9,
        "start_time": "2023-05-25T13:14:17.100Z"
      },
      {
        "duration": 111,
        "start_time": "2023-05-25T13:25:12.592Z"
      },
      {
        "duration": 26,
        "start_time": "2023-05-25T13:42:02.304Z"
      },
      {
        "duration": 11,
        "start_time": "2023-05-25T13:42:11.978Z"
      },
      {
        "duration": 10,
        "start_time": "2023-05-25T13:52:43.342Z"
      },
      {
        "duration": 11,
        "start_time": "2023-05-25T13:52:51.084Z"
      },
      {
        "duration": 11,
        "start_time": "2023-05-25T13:53:13.231Z"
      },
      {
        "duration": 20,
        "start_time": "2023-05-25T13:53:19.804Z"
      },
      {
        "duration": 23,
        "start_time": "2023-05-25T13:53:44.743Z"
      },
      {
        "duration": 16,
        "start_time": "2023-05-25T13:53:55.936Z"
      },
      {
        "duration": 176,
        "start_time": "2023-05-25T13:55:14.583Z"
      },
      {
        "duration": 161,
        "start_time": "2023-05-25T13:55:18.586Z"
      },
      {
        "duration": 171,
        "start_time": "2023-05-25T13:57:11.170Z"
      },
      {
        "duration": 190,
        "start_time": "2023-05-25T13:57:32.696Z"
      },
      {
        "duration": 49,
        "start_time": "2023-05-25T22:25:47.521Z"
      },
      {
        "duration": 1352,
        "start_time": "2023-05-25T22:26:00.431Z"
      },
      {
        "duration": 199,
        "start_time": "2023-05-25T22:26:01.786Z"
      },
      {
        "duration": 14,
        "start_time": "2023-05-25T22:26:01.987Z"
      },
      {
        "duration": 31,
        "start_time": "2023-05-25T22:26:02.003Z"
      },
      {
        "duration": 4,
        "start_time": "2023-05-25T22:26:05.286Z"
      },
      {
        "duration": 4,
        "start_time": "2023-05-25T22:37:12.372Z"
      },
      {
        "duration": 15,
        "start_time": "2023-05-25T22:37:13.588Z"
      },
      {
        "duration": 4,
        "start_time": "2023-05-25T22:37:15.192Z"
      },
      {
        "duration": 16,
        "start_time": "2023-05-25T22:37:22.927Z"
      },
      {
        "duration": 4,
        "start_time": "2023-05-25T22:37:37.229Z"
      },
      {
        "duration": 5,
        "start_time": "2023-05-25T22:37:49.427Z"
      },
      {
        "duration": 8,
        "start_time": "2023-05-25T22:37:50.429Z"
      },
      {
        "duration": 12,
        "start_time": "2023-05-25T22:37:52.439Z"
      },
      {
        "duration": 17,
        "start_time": "2023-05-25T22:37:54.052Z"
      },
      {
        "duration": 13,
        "start_time": "2023-05-25T22:38:00.691Z"
      },
      {
        "duration": 8,
        "start_time": "2023-05-25T22:38:00.859Z"
      },
      {
        "duration": 155,
        "start_time": "2023-05-25T22:38:01.467Z"
      },
      {
        "duration": 1043,
        "start_time": "2023-05-25T22:38:12.107Z"
      },
      {
        "duration": 68,
        "start_time": "2023-05-25T22:38:13.151Z"
      },
      {
        "duration": 15,
        "start_time": "2023-05-25T22:38:13.221Z"
      },
      {
        "duration": 4,
        "start_time": "2023-05-25T22:38:13.238Z"
      },
      {
        "duration": 6,
        "start_time": "2023-05-25T22:38:13.243Z"
      },
      {
        "duration": 10,
        "start_time": "2023-05-25T22:38:13.251Z"
      },
      {
        "duration": 4,
        "start_time": "2023-05-25T22:38:13.263Z"
      },
      {
        "duration": 26,
        "start_time": "2023-05-25T22:38:13.269Z"
      },
      {
        "duration": 17,
        "start_time": "2023-05-25T22:38:13.297Z"
      },
      {
        "duration": 5,
        "start_time": "2023-05-25T22:38:13.316Z"
      },
      {
        "duration": 19,
        "start_time": "2023-05-25T22:38:13.322Z"
      },
      {
        "duration": 15,
        "start_time": "2023-05-25T22:38:13.343Z"
      },
      {
        "duration": 18,
        "start_time": "2023-05-25T22:38:13.360Z"
      },
      {
        "duration": 17,
        "start_time": "2023-05-25T22:38:13.379Z"
      },
      {
        "duration": 14,
        "start_time": "2023-05-25T22:38:13.397Z"
      },
      {
        "duration": 8,
        "start_time": "2023-05-25T22:38:13.412Z"
      },
      {
        "duration": 181,
        "start_time": "2023-05-25T22:38:13.421Z"
      },
      {
        "duration": 13,
        "start_time": "2023-05-25T22:39:26.730Z"
      },
      {
        "duration": 3,
        "start_time": "2023-05-25T22:40:20.697Z"
      },
      {
        "duration": 64,
        "start_time": "2023-05-25T22:40:20.771Z"
      },
      {
        "duration": 12,
        "start_time": "2023-05-25T22:40:20.836Z"
      },
      {
        "duration": 4,
        "start_time": "2023-05-25T22:40:20.850Z"
      },
      {
        "duration": 5,
        "start_time": "2023-05-25T22:40:20.894Z"
      },
      {
        "duration": 8,
        "start_time": "2023-05-25T22:40:20.906Z"
      },
      {
        "duration": 5,
        "start_time": "2023-05-25T22:40:20.995Z"
      },
      {
        "duration": 23,
        "start_time": "2023-05-25T22:40:21.022Z"
      },
      {
        "duration": 14,
        "start_time": "2023-05-25T22:40:21.095Z"
      },
      {
        "duration": 5,
        "start_time": "2023-05-25T22:40:21.117Z"
      },
      {
        "duration": 5,
        "start_time": "2023-05-25T22:40:21.151Z"
      },
      {
        "duration": 8,
        "start_time": "2023-05-25T22:40:21.215Z"
      },
      {
        "duration": 13,
        "start_time": "2023-05-25T22:40:21.579Z"
      },
      {
        "duration": 16,
        "start_time": "2023-05-25T22:40:22.095Z"
      },
      {
        "duration": 19,
        "start_time": "2023-05-25T22:40:22.113Z"
      },
      {
        "duration": 15,
        "start_time": "2023-05-25T22:40:22.741Z"
      },
      {
        "duration": 8,
        "start_time": "2023-05-25T22:40:22.926Z"
      },
      {
        "duration": 9,
        "start_time": "2023-05-25T22:46:03.536Z"
      },
      {
        "duration": 18,
        "start_time": "2023-05-25T22:49:58.230Z"
      },
      {
        "duration": 8,
        "start_time": "2023-05-25T23:07:13.570Z"
      },
      {
        "duration": 1097,
        "start_time": "2023-05-25T23:07:24.675Z"
      },
      {
        "duration": 72,
        "start_time": "2023-05-25T23:07:25.774Z"
      },
      {
        "duration": 14,
        "start_time": "2023-05-25T23:07:25.848Z"
      },
      {
        "duration": 5,
        "start_time": "2023-05-25T23:07:25.864Z"
      },
      {
        "duration": 20,
        "start_time": "2023-05-25T23:07:25.870Z"
      },
      {
        "duration": 32,
        "start_time": "2023-05-25T23:07:25.892Z"
      },
      {
        "duration": 11,
        "start_time": "2023-05-25T23:07:25.925Z"
      },
      {
        "duration": 24,
        "start_time": "2023-05-25T23:07:25.937Z"
      },
      {
        "duration": 17,
        "start_time": "2023-05-25T23:07:25.963Z"
      },
      {
        "duration": 5,
        "start_time": "2023-05-25T23:07:25.982Z"
      },
      {
        "duration": 36,
        "start_time": "2023-05-25T23:07:25.988Z"
      },
      {
        "duration": 10,
        "start_time": "2023-05-25T23:07:26.026Z"
      },
      {
        "duration": 13,
        "start_time": "2023-05-25T23:07:26.037Z"
      },
      {
        "duration": 17,
        "start_time": "2023-05-25T23:07:26.052Z"
      },
      {
        "duration": 8,
        "start_time": "2023-05-25T23:07:26.070Z"
      },
      {
        "duration": 16,
        "start_time": "2023-05-25T23:07:26.079Z"
      },
      {
        "duration": 166,
        "start_time": "2023-05-25T23:07:26.097Z"
      },
      {
        "duration": 9,
        "start_time": "2023-05-25T23:07:26.265Z"
      },
      {
        "duration": 9,
        "start_time": "2023-05-25T23:17:37.189Z"
      },
      {
        "duration": 91,
        "start_time": "2023-05-25T23:20:49.466Z"
      },
      {
        "duration": 5,
        "start_time": "2023-05-25T23:20:54.781Z"
      },
      {
        "duration": 6,
        "start_time": "2023-05-25T23:20:55.460Z"
      },
      {
        "duration": 563,
        "start_time": "2023-05-25T23:21:10.492Z"
      },
      {
        "duration": 8,
        "start_time": "2023-05-25T23:22:41.851Z"
      },
      {
        "duration": 512,
        "start_time": "2023-05-25T23:22:42.156Z"
      },
      {
        "duration": 6,
        "start_time": "2023-05-25T23:22:49.118Z"
      },
      {
        "duration": 463,
        "start_time": "2023-05-25T23:22:49.329Z"
      },
      {
        "duration": 740,
        "start_time": "2023-05-25T23:23:07.958Z"
      },
      {
        "duration": 6,
        "start_time": "2023-05-25T23:23:18.876Z"
      },
      {
        "duration": 412,
        "start_time": "2023-05-25T23:23:49.408Z"
      },
      {
        "duration": 408,
        "start_time": "2023-05-25T23:24:59.313Z"
      },
      {
        "duration": 404,
        "start_time": "2023-05-25T23:25:47.870Z"
      },
      {
        "duration": 503,
        "start_time": "2023-05-25T23:26:31.039Z"
      },
      {
        "duration": 416,
        "start_time": "2023-05-25T23:27:01.797Z"
      },
      {
        "duration": 395,
        "start_time": "2023-05-25T23:27:15.014Z"
      },
      {
        "duration": 384,
        "start_time": "2023-05-25T23:28:32.208Z"
      },
      {
        "duration": 440,
        "start_time": "2023-05-25T23:28:43.705Z"
      },
      {
        "duration": 20,
        "start_time": "2023-05-25T23:38:09.576Z"
      },
      {
        "duration": 44,
        "start_time": "2023-05-25T23:39:43.543Z"
      },
      {
        "duration": 10,
        "start_time": "2023-05-25T23:39:48.404Z"
      },
      {
        "duration": 9,
        "start_time": "2023-05-25T23:39:54.254Z"
      },
      {
        "duration": 10,
        "start_time": "2023-05-25T23:40:03.644Z"
      },
      {
        "duration": 12,
        "start_time": "2023-05-25T23:40:07.950Z"
      },
      {
        "duration": 8,
        "start_time": "2023-05-25T23:46:16.506Z"
      },
      {
        "duration": 10,
        "start_time": "2023-05-25T23:46:34.810Z"
      },
      {
        "duration": 9,
        "start_time": "2023-05-25T23:47:28.831Z"
      },
      {
        "duration": 18,
        "start_time": "2023-05-25T23:48:00.165Z"
      },
      {
        "duration": 16,
        "start_time": "2023-05-25T23:48:08.444Z"
      },
      {
        "duration": 798,
        "start_time": "2023-05-25T23:55:30.433Z"
      },
      {
        "duration": 5,
        "start_time": "2023-05-25T23:56:08.445Z"
      },
      {
        "duration": 11,
        "start_time": "2023-05-25T23:56:17.468Z"
      },
      {
        "duration": 15,
        "start_time": "2023-05-25T23:56:31.026Z"
      },
      {
        "duration": 1360,
        "start_time": "2023-05-26T10:28:01.410Z"
      },
      {
        "duration": 122,
        "start_time": "2023-05-26T10:28:02.772Z"
      },
      {
        "duration": 20,
        "start_time": "2023-05-26T10:28:02.896Z"
      },
      {
        "duration": 5,
        "start_time": "2023-05-26T10:28:02.919Z"
      },
      {
        "duration": 11,
        "start_time": "2023-05-26T10:28:02.926Z"
      },
      {
        "duration": 10,
        "start_time": "2023-05-26T10:28:02.939Z"
      },
      {
        "duration": 17,
        "start_time": "2023-05-26T10:28:02.951Z"
      },
      {
        "duration": 34,
        "start_time": "2023-05-26T10:28:02.970Z"
      },
      {
        "duration": 25,
        "start_time": "2023-05-26T10:28:03.006Z"
      },
      {
        "duration": 4,
        "start_time": "2023-05-26T10:28:03.034Z"
      },
      {
        "duration": 9,
        "start_time": "2023-05-26T10:28:03.039Z"
      },
      {
        "duration": 16,
        "start_time": "2023-05-26T10:28:03.049Z"
      },
      {
        "duration": 29,
        "start_time": "2023-05-26T10:28:03.067Z"
      },
      {
        "duration": 23,
        "start_time": "2023-05-26T10:28:03.098Z"
      },
      {
        "duration": 9,
        "start_time": "2023-05-26T10:28:03.123Z"
      },
      {
        "duration": 17,
        "start_time": "2023-05-26T10:28:03.134Z"
      },
      {
        "duration": 188,
        "start_time": "2023-05-26T10:28:03.153Z"
      },
      {
        "duration": 8,
        "start_time": "2023-05-26T10:28:03.343Z"
      },
      {
        "duration": 490,
        "start_time": "2023-05-26T10:28:03.353Z"
      },
      {
        "duration": 7,
        "start_time": "2023-05-26T10:28:03.845Z"
      },
      {
        "duration": 38,
        "start_time": "2023-05-26T10:28:03.853Z"
      },
      {
        "duration": 2780,
        "start_time": "2023-05-26T10:28:03.893Z"
      },
      {
        "duration": 1393,
        "start_time": "2023-05-27T08:04:46.636Z"
      },
      {
        "duration": 210,
        "start_time": "2023-05-27T08:04:48.032Z"
      },
      {
        "duration": 15,
        "start_time": "2023-05-27T08:04:48.243Z"
      },
      {
        "duration": 5,
        "start_time": "2023-05-27T08:04:48.260Z"
      },
      {
        "duration": 7,
        "start_time": "2023-05-27T08:04:48.266Z"
      },
      {
        "duration": 17,
        "start_time": "2023-05-27T08:04:48.275Z"
      },
      {
        "duration": 6,
        "start_time": "2023-05-27T08:04:48.325Z"
      },
      {
        "duration": 24,
        "start_time": "2023-05-27T08:04:48.333Z"
      },
      {
        "duration": 24,
        "start_time": "2023-05-27T08:04:48.358Z"
      },
      {
        "duration": 5,
        "start_time": "2023-05-27T08:04:48.384Z"
      },
      {
        "duration": 34,
        "start_time": "2023-05-27T08:04:48.391Z"
      },
      {
        "duration": 11,
        "start_time": "2023-05-27T08:04:48.427Z"
      },
      {
        "duration": 18,
        "start_time": "2023-05-27T08:04:48.439Z"
      },
      {
        "duration": 15,
        "start_time": "2023-05-27T08:04:48.459Z"
      },
      {
        "duration": 8,
        "start_time": "2023-05-27T08:04:48.476Z"
      },
      {
        "duration": 52,
        "start_time": "2023-05-27T08:04:48.486Z"
      },
      {
        "duration": 181,
        "start_time": "2023-05-27T08:04:48.540Z"
      },
      {
        "duration": 7,
        "start_time": "2023-05-27T08:04:48.725Z"
      },
      {
        "duration": 454,
        "start_time": "2023-05-27T08:04:48.733Z"
      },
      {
        "duration": 6,
        "start_time": "2023-05-27T08:04:49.189Z"
      },
      {
        "duration": 19,
        "start_time": "2023-05-27T08:04:49.197Z"
      },
      {
        "duration": 888,
        "start_time": "2023-05-27T08:04:49.217Z"
      },
      {
        "duration": 15,
        "start_time": "2023-05-27T08:06:14.461Z"
      },
      {
        "duration": 12,
        "start_time": "2023-05-27T08:30:05.338Z"
      },
      {
        "duration": 25,
        "start_time": "2023-05-27T08:41:45.907Z"
      },
      {
        "duration": 27,
        "start_time": "2023-05-27T08:41:52.605Z"
      },
      {
        "duration": 22,
        "start_time": "2023-05-27T08:42:01.514Z"
      },
      {
        "duration": 18,
        "start_time": "2023-05-27T08:42:31.633Z"
      },
      {
        "duration": 16,
        "start_time": "2023-05-27T09:02:51.798Z"
      },
      {
        "duration": 7,
        "start_time": "2023-05-27T09:03:47.062Z"
      },
      {
        "duration": 7,
        "start_time": "2023-05-27T09:04:50.552Z"
      },
      {
        "duration": 1080,
        "start_time": "2023-05-27T09:06:32.843Z"
      },
      {
        "duration": 78,
        "start_time": "2023-05-27T09:06:33.929Z"
      },
      {
        "duration": 14,
        "start_time": "2023-05-27T09:06:34.008Z"
      },
      {
        "duration": 6,
        "start_time": "2023-05-27T09:06:34.024Z"
      },
      {
        "duration": 6,
        "start_time": "2023-05-27T09:06:34.037Z"
      },
      {
        "duration": 14,
        "start_time": "2023-05-27T09:06:34.044Z"
      },
      {
        "duration": 5,
        "start_time": "2023-05-27T09:06:34.060Z"
      },
      {
        "duration": 17,
        "start_time": "2023-05-27T09:06:34.066Z"
      },
      {
        "duration": 46,
        "start_time": "2023-05-27T09:06:34.084Z"
      },
      {
        "duration": 7,
        "start_time": "2023-05-27T09:06:34.132Z"
      },
      {
        "duration": 5,
        "start_time": "2023-05-27T09:06:34.141Z"
      },
      {
        "duration": 9,
        "start_time": "2023-05-27T09:06:34.147Z"
      },
      {
        "duration": 10,
        "start_time": "2023-05-27T09:06:34.157Z"
      },
      {
        "duration": 15,
        "start_time": "2023-05-27T09:06:34.169Z"
      },
      {
        "duration": 41,
        "start_time": "2023-05-27T09:06:34.185Z"
      },
      {
        "duration": 18,
        "start_time": "2023-05-27T09:06:34.228Z"
      },
      {
        "duration": 161,
        "start_time": "2023-05-27T09:06:34.248Z"
      },
      {
        "duration": 6,
        "start_time": "2023-05-27T09:06:34.410Z"
      },
      {
        "duration": 13,
        "start_time": "2023-05-27T09:06:34.418Z"
      },
      {
        "duration": 445,
        "start_time": "2023-05-27T09:06:34.438Z"
      },
      {
        "duration": 17,
        "start_time": "2023-05-27T09:06:34.885Z"
      },
      {
        "duration": 7,
        "start_time": "2023-05-27T09:06:34.904Z"
      },
      {
        "duration": 20,
        "start_time": "2023-05-27T09:06:34.912Z"
      },
      {
        "duration": 91,
        "start_time": "2023-05-27T09:07:53.730Z"
      },
      {
        "duration": 1053,
        "start_time": "2023-05-27T09:12:12.699Z"
      },
      {
        "duration": 10,
        "start_time": "2023-05-27T09:13:07.219Z"
      },
      {
        "duration": 367,
        "start_time": "2023-05-27T09:13:12.815Z"
      },
      {
        "duration": 440,
        "start_time": "2023-05-27T09:14:20.503Z"
      },
      {
        "duration": 392,
        "start_time": "2023-05-27T09:14:30.744Z"
      },
      {
        "duration": 379,
        "start_time": "2023-05-27T09:14:42.823Z"
      },
      {
        "duration": 143,
        "start_time": "2023-05-27T09:15:11.146Z"
      },
      {
        "duration": 134,
        "start_time": "2023-05-27T09:15:26.299Z"
      },
      {
        "duration": 90,
        "start_time": "2023-05-27T09:15:37.107Z"
      },
      {
        "duration": 507,
        "start_time": "2023-05-27T09:15:47.503Z"
      },
      {
        "duration": 14,
        "start_time": "2023-05-27T09:29:13.106Z"
      },
      {
        "duration": 167,
        "start_time": "2023-05-27T09:34:10.841Z"
      },
      {
        "duration": 212,
        "start_time": "2023-05-27T09:36:10.132Z"
      },
      {
        "duration": 2391,
        "start_time": "2023-05-27T09:40:10.450Z"
      },
      {
        "duration": 2298,
        "start_time": "2023-05-27T09:40:41.253Z"
      },
      {
        "duration": 23,
        "start_time": "2023-05-27T09:50:05.507Z"
      },
      {
        "duration": 204,
        "start_time": "2023-05-27T09:50:22.842Z"
      },
      {
        "duration": 51,
        "start_time": "2023-05-27T09:50:35.262Z"
      },
      {
        "duration": 177,
        "start_time": "2023-05-27T09:50:38.541Z"
      },
      {
        "duration": 792,
        "start_time": "2023-05-27T09:51:32.243Z"
      },
      {
        "duration": 768,
        "start_time": "2023-05-27T09:51:45.702Z"
      },
      {
        "duration": 20,
        "start_time": "2023-05-27T09:52:04.802Z"
      },
      {
        "duration": 25,
        "start_time": "2023-05-27T09:52:08.787Z"
      },
      {
        "duration": 239,
        "start_time": "2023-05-27T09:52:12.062Z"
      },
      {
        "duration": 32,
        "start_time": "2023-05-27T10:07:19.132Z"
      },
      {
        "duration": 26,
        "start_time": "2023-05-27T10:07:25.124Z"
      },
      {
        "duration": 250,
        "start_time": "2023-05-27T10:07:34.947Z"
      },
      {
        "duration": 1226,
        "start_time": "2023-05-27T10:07:41.711Z"
      },
      {
        "duration": 98,
        "start_time": "2023-05-27T10:07:42.947Z"
      },
      {
        "duration": 21,
        "start_time": "2023-05-27T10:07:43.053Z"
      },
      {
        "duration": 5,
        "start_time": "2023-05-27T10:07:43.076Z"
      },
      {
        "duration": 6,
        "start_time": "2023-05-27T10:07:43.083Z"
      },
      {
        "duration": 16,
        "start_time": "2023-05-27T10:07:43.090Z"
      },
      {
        "duration": 4,
        "start_time": "2023-05-27T10:07:43.108Z"
      },
      {
        "duration": 34,
        "start_time": "2023-05-27T10:07:43.114Z"
      },
      {
        "duration": 17,
        "start_time": "2023-05-27T10:07:43.149Z"
      },
      {
        "duration": 11,
        "start_time": "2023-05-27T10:07:43.168Z"
      },
      {
        "duration": 16,
        "start_time": "2023-05-27T10:07:43.180Z"
      },
      {
        "duration": 21,
        "start_time": "2023-05-27T10:07:43.197Z"
      },
      {
        "duration": 33,
        "start_time": "2023-05-27T10:07:43.220Z"
      },
      {
        "duration": 33,
        "start_time": "2023-05-27T10:07:43.262Z"
      },
      {
        "duration": 21,
        "start_time": "2023-05-27T10:07:43.297Z"
      },
      {
        "duration": 29,
        "start_time": "2023-05-27T10:07:43.320Z"
      },
      {
        "duration": 157,
        "start_time": "2023-05-27T10:07:43.351Z"
      },
      {
        "duration": 22,
        "start_time": "2023-05-27T10:07:43.510Z"
      },
      {
        "duration": 17,
        "start_time": "2023-05-27T10:07:43.539Z"
      },
      {
        "duration": 491,
        "start_time": "2023-05-27T10:07:43.559Z"
      },
      {
        "duration": 18,
        "start_time": "2023-05-27T10:07:44.052Z"
      },
      {
        "duration": 9,
        "start_time": "2023-05-27T10:07:44.071Z"
      },
      {
        "duration": 29,
        "start_time": "2023-05-27T10:07:44.081Z"
      },
      {
        "duration": 2672,
        "start_time": "2023-05-27T10:07:44.113Z"
      },
      {
        "duration": 19,
        "start_time": "2023-05-27T10:07:46.787Z"
      },
      {
        "duration": 285,
        "start_time": "2023-05-27T10:07:46.808Z"
      },
      {
        "duration": 217,
        "start_time": "2023-05-27T10:39:44.642Z"
      },
      {
        "duration": 232,
        "start_time": "2023-05-27T10:42:54.749Z"
      },
      {
        "duration": 313,
        "start_time": "2023-05-27T10:43:15.068Z"
      },
      {
        "duration": 9,
        "start_time": "2023-05-27T12:12:19.102Z"
      },
      {
        "duration": 1215,
        "start_time": "2023-05-27T12:13:04.131Z"
      },
      {
        "duration": 75,
        "start_time": "2023-05-27T12:13:05.348Z"
      },
      {
        "duration": 16,
        "start_time": "2023-05-27T12:13:05.425Z"
      },
      {
        "duration": 6,
        "start_time": "2023-05-27T12:13:05.442Z"
      },
      {
        "duration": 25,
        "start_time": "2023-05-27T12:13:05.450Z"
      },
      {
        "duration": 31,
        "start_time": "2023-05-27T12:13:05.477Z"
      },
      {
        "duration": 30,
        "start_time": "2023-05-27T12:13:05.510Z"
      },
      {
        "duration": 33,
        "start_time": "2023-05-27T12:13:05.542Z"
      },
      {
        "duration": 19,
        "start_time": "2023-05-27T12:13:05.577Z"
      },
      {
        "duration": 5,
        "start_time": "2023-05-27T12:13:05.597Z"
      },
      {
        "duration": 26,
        "start_time": "2023-05-27T12:13:05.603Z"
      },
      {
        "duration": 11,
        "start_time": "2023-05-27T12:13:05.631Z"
      },
      {
        "duration": 15,
        "start_time": "2023-05-27T12:13:05.644Z"
      },
      {
        "duration": 18,
        "start_time": "2023-05-27T12:13:05.661Z"
      },
      {
        "duration": 9,
        "start_time": "2023-05-27T12:13:05.681Z"
      },
      {
        "duration": 43,
        "start_time": "2023-05-27T12:13:05.691Z"
      },
      {
        "duration": 191,
        "start_time": "2023-05-27T12:13:05.736Z"
      },
      {
        "duration": 7,
        "start_time": "2023-05-27T12:13:05.929Z"
      },
      {
        "duration": 39,
        "start_time": "2023-05-27T12:13:05.938Z"
      },
      {
        "duration": 508,
        "start_time": "2023-05-27T12:13:05.979Z"
      },
      {
        "duration": 17,
        "start_time": "2023-05-27T12:13:06.488Z"
      },
      {
        "duration": 12,
        "start_time": "2023-05-27T12:13:06.506Z"
      },
      {
        "duration": 35,
        "start_time": "2023-05-27T12:13:06.520Z"
      },
      {
        "duration": 2452,
        "start_time": "2023-05-27T12:13:06.556Z"
      },
      {
        "duration": 27,
        "start_time": "2023-05-27T12:13:09.010Z"
      },
      {
        "duration": 221,
        "start_time": "2023-05-27T12:13:09.038Z"
      },
      {
        "duration": 97,
        "start_time": "2023-05-27T12:13:09.260Z"
      },
      {
        "duration": 6,
        "start_time": "2023-05-27T12:13:27.407Z"
      },
      {
        "duration": 18,
        "start_time": "2023-05-27T12:14:59.030Z"
      },
      {
        "duration": 25,
        "start_time": "2023-05-27T12:15:19.651Z"
      },
      {
        "duration": 6,
        "start_time": "2023-05-27T12:16:48.973Z"
      },
      {
        "duration": 12,
        "start_time": "2023-05-27T12:16:53.401Z"
      },
      {
        "duration": 11,
        "start_time": "2023-05-27T12:17:12.556Z"
      },
      {
        "duration": 8,
        "start_time": "2023-05-27T12:17:29.273Z"
      },
      {
        "duration": 703,
        "start_time": "2023-05-27T12:17:50.176Z"
      },
      {
        "duration": 43,
        "start_time": "2023-05-27T12:18:08.101Z"
      },
      {
        "duration": 5,
        "start_time": "2023-05-27T12:26:27.072Z"
      },
      {
        "duration": 14,
        "start_time": "2023-05-27T12:26:46.536Z"
      },
      {
        "duration": 23,
        "start_time": "2023-05-27T12:27:04.433Z"
      },
      {
        "duration": 1141,
        "start_time": "2023-05-27T12:27:18.373Z"
      },
      {
        "duration": 71,
        "start_time": "2023-05-27T12:27:19.517Z"
      },
      {
        "duration": 18,
        "start_time": "2023-05-27T12:27:19.591Z"
      },
      {
        "duration": 6,
        "start_time": "2023-05-27T12:27:19.611Z"
      },
      {
        "duration": 11,
        "start_time": "2023-05-27T12:27:19.620Z"
      },
      {
        "duration": 12,
        "start_time": "2023-05-27T12:27:19.633Z"
      },
      {
        "duration": 5,
        "start_time": "2023-05-27T12:27:19.648Z"
      },
      {
        "duration": 25,
        "start_time": "2023-05-27T12:27:19.655Z"
      },
      {
        "duration": 47,
        "start_time": "2023-05-27T12:27:19.681Z"
      },
      {
        "duration": 6,
        "start_time": "2023-05-27T12:27:19.730Z"
      },
      {
        "duration": 5,
        "start_time": "2023-05-27T12:27:19.740Z"
      },
      {
        "duration": 10,
        "start_time": "2023-05-27T12:27:19.747Z"
      },
      {
        "duration": 16,
        "start_time": "2023-05-27T12:27:19.759Z"
      },
      {
        "duration": 52,
        "start_time": "2023-05-27T12:27:19.779Z"
      },
      {
        "duration": 10,
        "start_time": "2023-05-27T12:27:19.833Z"
      },
      {
        "duration": 13,
        "start_time": "2023-05-27T12:27:19.845Z"
      },
      {
        "duration": 174,
        "start_time": "2023-05-27T12:27:19.859Z"
      },
      {
        "duration": 8,
        "start_time": "2023-05-27T12:27:20.035Z"
      },
      {
        "duration": 24,
        "start_time": "2023-05-27T12:27:20.045Z"
      },
      {
        "duration": 444,
        "start_time": "2023-05-27T12:27:20.071Z"
      },
      {
        "duration": 18,
        "start_time": "2023-05-27T12:27:20.517Z"
      },
      {
        "duration": 49,
        "start_time": "2023-05-27T12:27:20.536Z"
      },
      {
        "duration": 93,
        "start_time": "2023-05-27T12:27:20.587Z"
      },
      {
        "duration": 2337,
        "start_time": "2023-05-27T12:27:20.682Z"
      },
      {
        "duration": 20,
        "start_time": "2023-05-27T12:27:23.021Z"
      },
      {
        "duration": 232,
        "start_time": "2023-05-27T12:27:23.042Z"
      },
      {
        "duration": 12,
        "start_time": "2023-05-27T12:27:23.275Z"
      },
      {
        "duration": 39,
        "start_time": "2023-05-27T12:27:23.288Z"
      },
      {
        "duration": 760,
        "start_time": "2023-05-27T12:27:23.330Z"
      },
      {
        "duration": 4,
        "start_time": "2023-05-27T12:28:51.972Z"
      },
      {
        "duration": 4,
        "start_time": "2023-05-27T12:29:08.907Z"
      },
      {
        "duration": 5,
        "start_time": "2023-05-27T12:29:13.731Z"
      },
      {
        "duration": 12,
        "start_time": "2023-05-27T12:30:52.671Z"
      },
      {
        "duration": 14,
        "start_time": "2023-05-27T12:31:16.643Z"
      },
      {
        "duration": 11,
        "start_time": "2023-05-27T12:31:35.772Z"
      },
      {
        "duration": 114,
        "start_time": "2023-05-27T12:35:32.669Z"
      },
      {
        "duration": 14,
        "start_time": "2023-05-27T12:36:06.246Z"
      },
      {
        "duration": 21,
        "start_time": "2023-05-27T12:36:16.319Z"
      },
      {
        "duration": 16,
        "start_time": "2023-05-27T14:09:14.407Z"
      },
      {
        "duration": 22,
        "start_time": "2023-05-27T14:11:08.365Z"
      },
      {
        "duration": 21,
        "start_time": "2023-05-27T14:11:33.196Z"
      },
      {
        "duration": 13,
        "start_time": "2023-05-27T14:13:08.929Z"
      },
      {
        "duration": 13,
        "start_time": "2023-05-27T14:13:44.146Z"
      },
      {
        "duration": 14,
        "start_time": "2023-05-27T14:14:14.529Z"
      },
      {
        "duration": 1068,
        "start_time": "2023-05-27T14:14:47.546Z"
      },
      {
        "duration": 70,
        "start_time": "2023-05-27T14:14:48.616Z"
      },
      {
        "duration": 14,
        "start_time": "2023-05-27T14:14:48.688Z"
      },
      {
        "duration": 4,
        "start_time": "2023-05-27T14:14:48.704Z"
      },
      {
        "duration": 17,
        "start_time": "2023-05-27T14:14:48.710Z"
      },
      {
        "duration": 10,
        "start_time": "2023-05-27T14:14:48.728Z"
      },
      {
        "duration": 5,
        "start_time": "2023-05-27T14:14:48.740Z"
      },
      {
        "duration": 17,
        "start_time": "2023-05-27T14:14:48.746Z"
      },
      {
        "duration": 16,
        "start_time": "2023-05-27T14:14:48.764Z"
      },
      {
        "duration": 4,
        "start_time": "2023-05-27T14:14:48.782Z"
      },
      {
        "duration": 39,
        "start_time": "2023-05-27T14:14:48.787Z"
      },
      {
        "duration": 8,
        "start_time": "2023-05-27T14:14:48.827Z"
      },
      {
        "duration": 12,
        "start_time": "2023-05-27T14:14:48.836Z"
      },
      {
        "duration": 18,
        "start_time": "2023-05-27T14:14:48.851Z"
      },
      {
        "duration": 12,
        "start_time": "2023-05-27T14:14:48.871Z"
      },
      {
        "duration": 45,
        "start_time": "2023-05-27T14:14:48.884Z"
      },
      {
        "duration": 160,
        "start_time": "2023-05-27T14:14:48.930Z"
      },
      {
        "duration": 7,
        "start_time": "2023-05-27T14:14:49.092Z"
      },
      {
        "duration": 5,
        "start_time": "2023-05-27T14:14:49.100Z"
      },
      {
        "duration": 409,
        "start_time": "2023-05-27T14:14:49.106Z"
      },
      {
        "duration": 20,
        "start_time": "2023-05-27T14:14:49.517Z"
      },
      {
        "duration": 6,
        "start_time": "2023-05-27T14:14:49.539Z"
      },
      {
        "duration": 15,
        "start_time": "2023-05-27T14:14:49.546Z"
      },
      {
        "duration": 2325,
        "start_time": "2023-05-27T14:14:49.563Z"
      },
      {
        "duration": 20,
        "start_time": "2023-05-27T14:14:51.889Z"
      },
      {
        "duration": 227,
        "start_time": "2023-05-27T14:14:51.911Z"
      },
      {
        "duration": 12,
        "start_time": "2023-05-27T14:14:52.140Z"
      },
      {
        "duration": 15,
        "start_time": "2023-05-27T14:14:52.153Z"
      },
      {
        "duration": 701,
        "start_time": "2023-05-27T14:14:52.170Z"
      },
      {
        "duration": 12,
        "start_time": "2023-05-27T14:14:52.873Z"
      },
      {
        "duration": 11,
        "start_time": "2023-05-27T14:14:52.887Z"
      },
      {
        "duration": 30,
        "start_time": "2023-05-27T14:14:52.900Z"
      },
      {
        "duration": 29,
        "start_time": "2023-05-27T14:14:52.931Z"
      },
      {
        "duration": 19,
        "start_time": "2023-05-27T14:14:52.962Z"
      },
      {
        "duration": 12,
        "start_time": "2023-05-27T14:14:52.983Z"
      },
      {
        "duration": 17,
        "start_time": "2023-05-27T15:05:56.525Z"
      },
      {
        "duration": 12,
        "start_time": "2023-05-27T15:06:00.199Z"
      },
      {
        "duration": 24,
        "start_time": "2023-05-27T15:11:36.149Z"
      },
      {
        "duration": 6,
        "start_time": "2023-05-27T15:11:42.123Z"
      },
      {
        "duration": 111,
        "start_time": "2023-05-27T15:12:44.045Z"
      },
      {
        "duration": 17,
        "start_time": "2023-05-27T15:12:46.925Z"
      },
      {
        "duration": 10,
        "start_time": "2023-05-27T15:13:44.140Z"
      },
      {
        "duration": 17,
        "start_time": "2023-05-27T15:16:27.327Z"
      },
      {
        "duration": 18,
        "start_time": "2023-05-27T15:17:09.561Z"
      },
      {
        "duration": 13,
        "start_time": "2023-05-27T15:18:47.608Z"
      },
      {
        "duration": 10,
        "start_time": "2023-05-27T15:18:58.809Z"
      },
      {
        "duration": 14,
        "start_time": "2023-05-27T15:19:05.519Z"
      },
      {
        "duration": 15,
        "start_time": "2023-05-27T15:19:15.671Z"
      },
      {
        "duration": 15,
        "start_time": "2023-05-27T15:19:24.761Z"
      },
      {
        "duration": 14,
        "start_time": "2023-05-27T15:20:05.510Z"
      },
      {
        "duration": 14,
        "start_time": "2023-05-27T15:20:20.794Z"
      },
      {
        "duration": 234,
        "start_time": "2023-05-27T15:22:37.487Z"
      },
      {
        "duration": 14,
        "start_time": "2023-05-27T15:22:44.219Z"
      },
      {
        "duration": 13,
        "start_time": "2023-05-27T15:22:44.780Z"
      },
      {
        "duration": 14,
        "start_time": "2023-05-27T15:22:45.047Z"
      },
      {
        "duration": 224,
        "start_time": "2023-05-27T15:22:45.651Z"
      },
      {
        "duration": 219,
        "start_time": "2023-05-27T15:26:20.975Z"
      },
      {
        "duration": 568,
        "start_time": "2023-05-27T15:27:10.276Z"
      },
      {
        "duration": 669,
        "start_time": "2023-05-27T15:28:18.244Z"
      },
      {
        "duration": 239,
        "start_time": "2023-05-27T15:28:46.747Z"
      },
      {
        "duration": 252,
        "start_time": "2023-05-27T15:32:48.180Z"
      },
      {
        "duration": 13,
        "start_time": "2023-05-27T15:42:13.614Z"
      },
      {
        "duration": 15,
        "start_time": "2023-05-27T15:42:19.391Z"
      },
      {
        "duration": 13,
        "start_time": "2023-05-27T15:42:29.838Z"
      },
      {
        "duration": 10,
        "start_time": "2023-05-27T15:42:53.073Z"
      },
      {
        "duration": 12,
        "start_time": "2023-05-27T15:43:45.275Z"
      },
      {
        "duration": 6,
        "start_time": "2023-05-27T15:43:56.294Z"
      },
      {
        "duration": 15,
        "start_time": "2023-05-27T15:44:16.665Z"
      },
      {
        "duration": 9,
        "start_time": "2023-05-27T15:44:23.689Z"
      },
      {
        "duration": 16,
        "start_time": "2023-05-27T15:44:30.682Z"
      },
      {
        "duration": 10,
        "start_time": "2023-05-27T15:44:30.909Z"
      },
      {
        "duration": 790,
        "start_time": "2023-05-27T15:46:51.639Z"
      },
      {
        "duration": 4,
        "start_time": "2023-05-27T15:47:05.543Z"
      },
      {
        "duration": 5,
        "start_time": "2023-05-27T15:47:15.242Z"
      },
      {
        "duration": 4,
        "start_time": "2023-05-27T15:47:59.461Z"
      },
      {
        "duration": 77,
        "start_time": "2023-05-27T15:48:42.263Z"
      },
      {
        "duration": 75,
        "start_time": "2023-05-27T15:51:58.703Z"
      },
      {
        "duration": 63,
        "start_time": "2023-05-27T15:52:10.115Z"
      },
      {
        "duration": 15,
        "start_time": "2023-05-27T15:53:01.288Z"
      },
      {
        "duration": 12,
        "start_time": "2023-05-27T15:53:01.781Z"
      },
      {
        "duration": 13,
        "start_time": "2023-05-27T16:03:52.125Z"
      },
      {
        "duration": 5,
        "start_time": "2023-05-27T16:06:34.396Z"
      },
      {
        "duration": 9,
        "start_time": "2023-05-27T16:14:18.176Z"
      },
      {
        "duration": 10,
        "start_time": "2023-05-27T16:14:19.865Z"
      },
      {
        "duration": 4,
        "start_time": "2023-05-27T16:14:20.001Z"
      },
      {
        "duration": 47,
        "start_time": "2023-05-27T16:14:39.421Z"
      },
      {
        "duration": 1147,
        "start_time": "2023-05-27T16:16:17.064Z"
      },
      {
        "duration": 70,
        "start_time": "2023-05-27T16:16:18.213Z"
      },
      {
        "duration": 14,
        "start_time": "2023-05-27T16:16:18.284Z"
      },
      {
        "duration": 8,
        "start_time": "2023-05-27T16:16:18.299Z"
      },
      {
        "duration": 7,
        "start_time": "2023-05-27T16:16:18.309Z"
      },
      {
        "duration": 14,
        "start_time": "2023-05-27T16:16:18.317Z"
      },
      {
        "duration": 15,
        "start_time": "2023-05-27T16:16:18.332Z"
      },
      {
        "duration": 42,
        "start_time": "2023-05-27T16:16:18.349Z"
      },
      {
        "duration": 19,
        "start_time": "2023-05-27T16:16:18.392Z"
      },
      {
        "duration": 5,
        "start_time": "2023-05-27T16:16:18.413Z"
      },
      {
        "duration": 13,
        "start_time": "2023-05-27T16:16:18.420Z"
      },
      {
        "duration": 24,
        "start_time": "2023-05-27T16:16:18.434Z"
      },
      {
        "duration": 17,
        "start_time": "2023-05-27T16:16:18.459Z"
      },
      {
        "duration": 19,
        "start_time": "2023-05-27T16:16:18.477Z"
      },
      {
        "duration": 13,
        "start_time": "2023-05-27T16:16:18.497Z"
      },
      {
        "duration": 22,
        "start_time": "2023-05-27T16:16:18.511Z"
      },
      {
        "duration": 155,
        "start_time": "2023-05-27T16:16:18.535Z"
      },
      {
        "duration": 8,
        "start_time": "2023-05-27T16:16:18.691Z"
      },
      {
        "duration": 10,
        "start_time": "2023-05-27T16:16:18.700Z"
      },
      {
        "duration": 435,
        "start_time": "2023-05-27T16:16:18.712Z"
      },
      {
        "duration": 16,
        "start_time": "2023-05-27T16:16:19.148Z"
      },
      {
        "duration": 7,
        "start_time": "2023-05-27T16:16:19.165Z"
      },
      {
        "duration": 18,
        "start_time": "2023-05-27T16:16:19.174Z"
      },
      {
        "duration": 2273,
        "start_time": "2023-05-27T16:16:19.193Z"
      },
      {
        "duration": 21,
        "start_time": "2023-05-27T16:16:21.468Z"
      },
      {
        "duration": 229,
        "start_time": "2023-05-27T16:16:21.491Z"
      },
      {
        "duration": 11,
        "start_time": "2023-05-27T16:16:21.721Z"
      },
      {
        "duration": 35,
        "start_time": "2023-05-27T16:16:21.735Z"
      },
      {
        "duration": 687,
        "start_time": "2023-05-27T16:16:21.772Z"
      },
      {
        "duration": 13,
        "start_time": "2023-05-27T16:16:22.460Z"
      },
      {
        "duration": 11,
        "start_time": "2023-05-27T16:16:22.475Z"
      },
      {
        "duration": 39,
        "start_time": "2023-05-27T16:16:22.488Z"
      },
      {
        "duration": 21,
        "start_time": "2023-05-27T16:16:22.529Z"
      },
      {
        "duration": 21,
        "start_time": "2023-05-27T16:16:22.552Z"
      },
      {
        "duration": 13,
        "start_time": "2023-05-27T16:16:22.575Z"
      },
      {
        "duration": 52,
        "start_time": "2023-05-27T16:16:22.590Z"
      },
      {
        "duration": 29,
        "start_time": "2023-05-27T16:16:22.644Z"
      },
      {
        "duration": 34,
        "start_time": "2023-05-27T16:16:22.675Z"
      },
      {
        "duration": 244,
        "start_time": "2023-05-27T16:16:22.711Z"
      },
      {
        "duration": 3,
        "start_time": "2023-05-27T16:16:22.957Z"
      },
      {
        "duration": 71,
        "start_time": "2023-05-27T16:16:22.962Z"
      },
      {
        "duration": 13,
        "start_time": "2023-05-27T16:16:23.035Z"
      },
      {
        "duration": 15,
        "start_time": "2023-05-27T16:16:23.049Z"
      },
      {
        "duration": 15,
        "start_time": "2023-05-27T16:16:23.065Z"
      },
      {
        "duration": 6,
        "start_time": "2023-05-27T16:16:23.082Z"
      },
      {
        "duration": 27,
        "start_time": "2023-05-27T16:16:23.090Z"
      },
      {
        "duration": 5,
        "start_time": "2023-05-27T16:16:23.124Z"
      },
      {
        "duration": 24,
        "start_time": "2023-05-27T17:22:13.285Z"
      },
      {
        "duration": 12,
        "start_time": "2023-05-27T17:22:17.498Z"
      },
      {
        "duration": 57,
        "start_time": "2023-05-27T17:24:10.238Z"
      },
      {
        "duration": 5,
        "start_time": "2023-05-27T17:32:40.640Z"
      },
      {
        "duration": 5,
        "start_time": "2023-05-27T17:32:44.242Z"
      },
      {
        "duration": 7,
        "start_time": "2023-05-27T17:33:57.390Z"
      },
      {
        "duration": 6,
        "start_time": "2023-05-27T17:36:29.143Z"
      },
      {
        "duration": 6,
        "start_time": "2023-05-27T17:38:37.251Z"
      },
      {
        "duration": 1021,
        "start_time": "2023-05-27T17:38:46.786Z"
      },
      {
        "duration": 67,
        "start_time": "2023-05-27T17:38:47.809Z"
      },
      {
        "duration": 12,
        "start_time": "2023-05-27T17:38:47.878Z"
      },
      {
        "duration": 6,
        "start_time": "2023-05-27T17:38:47.892Z"
      },
      {
        "duration": 6,
        "start_time": "2023-05-27T17:38:47.900Z"
      },
      {
        "duration": 18,
        "start_time": "2023-05-27T17:38:47.907Z"
      },
      {
        "duration": 4,
        "start_time": "2023-05-27T17:38:47.927Z"
      },
      {
        "duration": 16,
        "start_time": "2023-05-27T17:38:47.933Z"
      },
      {
        "duration": 15,
        "start_time": "2023-05-27T17:38:47.951Z"
      },
      {
        "duration": 4,
        "start_time": "2023-05-27T17:38:47.968Z"
      },
      {
        "duration": 5,
        "start_time": "2023-05-27T17:38:47.974Z"
      },
      {
        "duration": 7,
        "start_time": "2023-05-27T17:38:47.980Z"
      },
      {
        "duration": 45,
        "start_time": "2023-05-27T17:38:47.989Z"
      },
      {
        "duration": 15,
        "start_time": "2023-05-27T17:38:48.037Z"
      },
      {
        "duration": 7,
        "start_time": "2023-05-27T17:38:48.053Z"
      },
      {
        "duration": 12,
        "start_time": "2023-05-27T17:38:48.062Z"
      },
      {
        "duration": 161,
        "start_time": "2023-05-27T17:38:48.075Z"
      },
      {
        "duration": 6,
        "start_time": "2023-05-27T17:38:48.238Z"
      },
      {
        "duration": 6,
        "start_time": "2023-05-27T17:38:48.246Z"
      },
      {
        "duration": 400,
        "start_time": "2023-05-27T17:38:48.254Z"
      },
      {
        "duration": 15,
        "start_time": "2023-05-27T17:38:48.656Z"
      },
      {
        "duration": 6,
        "start_time": "2023-05-27T17:38:48.672Z"
      },
      {
        "duration": 14,
        "start_time": "2023-05-27T17:38:48.679Z"
      },
      {
        "duration": 2191,
        "start_time": "2023-05-27T17:38:48.694Z"
      },
      {
        "duration": 19,
        "start_time": "2023-05-27T17:38:50.886Z"
      },
      {
        "duration": 218,
        "start_time": "2023-05-27T17:38:50.907Z"
      },
      {
        "duration": 12,
        "start_time": "2023-05-27T17:38:51.126Z"
      },
      {
        "duration": 12,
        "start_time": "2023-05-27T17:38:51.140Z"
      },
      {
        "duration": 681,
        "start_time": "2023-05-27T17:38:51.153Z"
      },
      {
        "duration": 11,
        "start_time": "2023-05-27T17:38:51.835Z"
      },
      {
        "duration": 13,
        "start_time": "2023-05-27T17:38:51.848Z"
      },
      {
        "duration": 9,
        "start_time": "2023-05-27T17:38:51.862Z"
      },
      {
        "duration": 22,
        "start_time": "2023-05-27T17:38:51.873Z"
      },
      {
        "duration": 39,
        "start_time": "2023-05-27T17:38:51.897Z"
      },
      {
        "duration": 11,
        "start_time": "2023-05-27T17:38:51.938Z"
      },
      {
        "duration": 30,
        "start_time": "2023-05-27T17:38:51.951Z"
      },
      {
        "duration": 234,
        "start_time": "2023-05-27T17:38:51.982Z"
      },
      {
        "duration": 7,
        "start_time": "2023-05-27T17:38:52.218Z"
      },
      {
        "duration": 65,
        "start_time": "2023-05-27T17:38:52.227Z"
      },
      {
        "duration": 13,
        "start_time": "2023-05-27T17:38:52.294Z"
      },
      {
        "duration": 9,
        "start_time": "2023-05-27T17:38:52.327Z"
      },
      {
        "duration": 13,
        "start_time": "2023-05-27T17:38:52.338Z"
      },
      {
        "duration": 5,
        "start_time": "2023-05-27T17:38:52.353Z"
      },
      {
        "duration": 29,
        "start_time": "2023-05-27T17:38:52.359Z"
      },
      {
        "duration": 5,
        "start_time": "2023-05-27T17:38:52.389Z"
      },
      {
        "duration": 6,
        "start_time": "2023-05-27T17:41:14.467Z"
      },
      {
        "duration": 6,
        "start_time": "2023-05-27T17:41:28.092Z"
      },
      {
        "duration": 7,
        "start_time": "2023-05-27T17:41:39.142Z"
      },
      {
        "duration": 6,
        "start_time": "2023-05-27T17:41:52.712Z"
      },
      {
        "duration": 1053,
        "start_time": "2023-05-27T18:03:13.149Z"
      },
      {
        "duration": 71,
        "start_time": "2023-05-27T18:03:14.203Z"
      },
      {
        "duration": 13,
        "start_time": "2023-05-27T18:03:14.275Z"
      },
      {
        "duration": 20,
        "start_time": "2023-05-27T18:03:14.289Z"
      },
      {
        "duration": 9,
        "start_time": "2023-05-27T18:03:14.310Z"
      },
      {
        "duration": 29,
        "start_time": "2023-05-27T18:03:14.320Z"
      },
      {
        "duration": 14,
        "start_time": "2023-05-27T18:03:14.351Z"
      },
      {
        "duration": 41,
        "start_time": "2023-05-27T18:03:14.366Z"
      },
      {
        "duration": 28,
        "start_time": "2023-05-27T18:03:14.408Z"
      },
      {
        "duration": 6,
        "start_time": "2023-05-27T18:03:14.439Z"
      },
      {
        "duration": 21,
        "start_time": "2023-05-27T18:03:14.447Z"
      },
      {
        "duration": 17,
        "start_time": "2023-05-27T18:03:14.469Z"
      },
      {
        "duration": 21,
        "start_time": "2023-05-27T18:03:14.488Z"
      },
      {
        "duration": 22,
        "start_time": "2023-05-27T18:03:14.511Z"
      },
      {
        "duration": 15,
        "start_time": "2023-05-27T18:03:14.535Z"
      },
      {
        "duration": 22,
        "start_time": "2023-05-27T18:03:14.551Z"
      },
      {
        "duration": 145,
        "start_time": "2023-05-27T18:03:14.574Z"
      },
      {
        "duration": 8,
        "start_time": "2023-05-27T18:03:14.720Z"
      },
      {
        "duration": 27,
        "start_time": "2023-05-27T18:03:14.729Z"
      },
      {
        "duration": 425,
        "start_time": "2023-05-27T18:03:14.758Z"
      },
      {
        "duration": 16,
        "start_time": "2023-05-27T18:03:15.184Z"
      },
      {
        "duration": 17,
        "start_time": "2023-05-27T18:03:15.202Z"
      },
      {
        "duration": 38,
        "start_time": "2023-05-27T18:03:15.221Z"
      },
      {
        "duration": 2223,
        "start_time": "2023-05-27T18:03:15.261Z"
      },
      {
        "duration": 19,
        "start_time": "2023-05-27T18:03:17.485Z"
      },
      {
        "duration": 220,
        "start_time": "2023-05-27T18:03:17.505Z"
      },
      {
        "duration": 12,
        "start_time": "2023-05-27T18:03:17.726Z"
      },
      {
        "duration": 7,
        "start_time": "2023-05-27T18:03:17.741Z"
      },
      {
        "duration": 656,
        "start_time": "2023-05-27T18:03:17.749Z"
      },
      {
        "duration": 20,
        "start_time": "2023-05-27T18:03:18.406Z"
      },
      {
        "duration": 16,
        "start_time": "2023-05-27T18:03:18.427Z"
      },
      {
        "duration": 10,
        "start_time": "2023-05-27T18:03:18.444Z"
      },
      {
        "duration": 27,
        "start_time": "2023-05-27T18:03:18.456Z"
      },
      {
        "duration": 30,
        "start_time": "2023-05-27T18:03:18.484Z"
      },
      {
        "duration": 12,
        "start_time": "2023-05-27T18:03:18.516Z"
      },
      {
        "duration": 25,
        "start_time": "2023-05-27T18:03:18.530Z"
      },
      {
        "duration": 234,
        "start_time": "2023-05-27T18:03:18.557Z"
      },
      {
        "duration": 4,
        "start_time": "2023-05-27T18:03:18.792Z"
      },
      {
        "duration": 75,
        "start_time": "2023-05-27T18:03:18.797Z"
      },
      {
        "duration": 12,
        "start_time": "2023-05-27T18:03:18.874Z"
      },
      {
        "duration": 9,
        "start_time": "2023-05-27T18:03:18.888Z"
      },
      {
        "duration": 32,
        "start_time": "2023-05-27T18:03:18.898Z"
      },
      {
        "duration": 7,
        "start_time": "2023-05-27T18:03:18.931Z"
      },
      {
        "duration": 16,
        "start_time": "2023-05-27T18:03:18.939Z"
      },
      {
        "duration": 6,
        "start_time": "2023-05-27T18:03:18.956Z"
      },
      {
        "duration": 1147,
        "start_time": "2023-05-27T19:08:07.829Z"
      },
      {
        "duration": 198,
        "start_time": "2023-05-27T19:08:08.978Z"
      },
      {
        "duration": 12,
        "start_time": "2023-05-27T19:08:09.178Z"
      },
      {
        "duration": 4,
        "start_time": "2023-05-27T19:08:09.191Z"
      },
      {
        "duration": 5,
        "start_time": "2023-05-27T19:08:09.197Z"
      },
      {
        "duration": 9,
        "start_time": "2023-05-27T19:08:09.203Z"
      },
      {
        "duration": 4,
        "start_time": "2023-05-27T19:08:09.213Z"
      },
      {
        "duration": 15,
        "start_time": "2023-05-27T19:08:09.218Z"
      },
      {
        "duration": 15,
        "start_time": "2023-05-27T19:08:09.234Z"
      },
      {
        "duration": 4,
        "start_time": "2023-05-27T19:08:09.250Z"
      },
      {
        "duration": 5,
        "start_time": "2023-05-27T19:08:09.256Z"
      },
      {
        "duration": 8,
        "start_time": "2023-05-27T19:08:09.262Z"
      },
      {
        "duration": 44,
        "start_time": "2023-05-27T19:08:09.271Z"
      },
      {
        "duration": 15,
        "start_time": "2023-05-27T19:08:09.319Z"
      },
      {
        "duration": 8,
        "start_time": "2023-05-27T19:08:09.335Z"
      },
      {
        "duration": 13,
        "start_time": "2023-05-27T19:08:09.345Z"
      },
      {
        "duration": 165,
        "start_time": "2023-05-27T19:08:09.359Z"
      },
      {
        "duration": 7,
        "start_time": "2023-05-27T19:08:09.525Z"
      },
      {
        "duration": 45,
        "start_time": "2023-05-27T19:08:09.533Z"
      },
      {
        "duration": 387,
        "start_time": "2023-05-27T19:08:09.580Z"
      },
      {
        "duration": 17,
        "start_time": "2023-05-27T19:08:09.968Z"
      },
      {
        "duration": 8,
        "start_time": "2023-05-27T19:08:09.986Z"
      },
      {
        "duration": 14,
        "start_time": "2023-05-27T19:08:09.995Z"
      },
      {
        "duration": 2054,
        "start_time": "2023-05-27T19:08:10.010Z"
      },
      {
        "duration": 18,
        "start_time": "2023-05-27T19:08:12.065Z"
      },
      {
        "duration": 207,
        "start_time": "2023-05-27T19:08:12.085Z"
      },
      {
        "duration": 13,
        "start_time": "2023-05-27T19:08:12.294Z"
      },
      {
        "duration": 11,
        "start_time": "2023-05-27T19:08:12.308Z"
      },
      {
        "duration": 691,
        "start_time": "2023-05-27T19:08:12.321Z"
      },
      {
        "duration": 10,
        "start_time": "2023-05-27T19:08:13.014Z"
      },
      {
        "duration": 10,
        "start_time": "2023-05-27T19:08:13.026Z"
      },
      {
        "duration": 12,
        "start_time": "2023-05-27T19:08:13.037Z"
      },
      {
        "duration": 11,
        "start_time": "2023-05-27T19:08:13.050Z"
      },
      {
        "duration": 44,
        "start_time": "2023-05-27T19:08:13.062Z"
      },
      {
        "duration": 11,
        "start_time": "2023-05-27T19:08:13.108Z"
      },
      {
        "duration": 21,
        "start_time": "2023-05-27T19:08:13.121Z"
      },
      {
        "duration": 228,
        "start_time": "2023-05-27T19:08:13.144Z"
      },
      {
        "duration": 3,
        "start_time": "2023-05-27T19:08:13.374Z"
      },
      {
        "duration": 69,
        "start_time": "2023-05-27T19:08:13.379Z"
      },
      {
        "duration": 13,
        "start_time": "2023-05-27T19:08:13.449Z"
      },
      {
        "duration": 8,
        "start_time": "2023-05-27T19:08:13.464Z"
      },
      {
        "duration": 18,
        "start_time": "2023-05-27T19:08:13.473Z"
      },
      {
        "duration": 15,
        "start_time": "2023-05-27T19:08:13.492Z"
      },
      {
        "duration": 11,
        "start_time": "2023-05-27T19:08:13.508Z"
      },
      {
        "duration": 6,
        "start_time": "2023-05-27T19:08:13.520Z"
      },
      {
        "duration": 3,
        "start_time": "2023-05-27T19:09:34.685Z"
      },
      {
        "duration": 52,
        "start_time": "2023-05-28T11:55:09.503Z"
      },
      {
        "duration": 1343,
        "start_time": "2023-05-28T11:55:16.701Z"
      },
      {
        "duration": 119,
        "start_time": "2023-05-28T11:55:18.047Z"
      },
      {
        "duration": 12,
        "start_time": "2023-05-28T11:55:18.168Z"
      },
      {
        "duration": 4,
        "start_time": "2023-05-28T11:55:18.182Z"
      },
      {
        "duration": 5,
        "start_time": "2023-05-28T11:55:18.603Z"
      },
      {
        "duration": 8,
        "start_time": "2023-05-28T11:55:19.625Z"
      },
      {
        "duration": 10,
        "start_time": "2023-05-28T11:55:21.424Z"
      },
      {
        "duration": 11,
        "start_time": "2023-05-28T12:00:01.621Z"
      },
      {
        "duration": 4,
        "start_time": "2023-05-28T12:00:02.557Z"
      },
      {
        "duration": 16,
        "start_time": "2023-05-28T12:00:04.759Z"
      },
      {
        "duration": 16,
        "start_time": "2023-05-28T12:00:06.158Z"
      },
      {
        "duration": 4,
        "start_time": "2023-05-28T12:00:06.413Z"
      },
      {
        "duration": 5,
        "start_time": "2023-05-28T12:00:06.679Z"
      },
      {
        "duration": 8,
        "start_time": "2023-05-28T12:00:07.495Z"
      },
      {
        "duration": 12,
        "start_time": "2023-05-28T12:00:08.491Z"
      },
      {
        "duration": 18,
        "start_time": "2023-05-28T12:00:10.352Z"
      },
      {
        "duration": 8,
        "start_time": "2023-05-28T12:00:11.856Z"
      },
      {
        "duration": 13,
        "start_time": "2023-05-28T12:00:13.799Z"
      },
      {
        "duration": 1211,
        "start_time": "2023-05-28T12:03:26.383Z"
      },
      {
        "duration": 162,
        "start_time": "2023-05-28T12:06:15.760Z"
      },
      {
        "duration": 9,
        "start_time": "2023-05-28T12:06:58.025Z"
      },
      {
        "duration": 7,
        "start_time": "2023-05-28T12:07:03.085Z"
      },
      {
        "duration": 5,
        "start_time": "2023-05-28T12:07:03.966Z"
      },
      {
        "duration": 114,
        "start_time": "2023-05-28T12:07:30.379Z"
      },
      {
        "duration": 99,
        "start_time": "2023-05-28T12:09:46.482Z"
      },
      {
        "duration": 12,
        "start_time": "2023-05-28T12:10:11.779Z"
      },
      {
        "duration": 121,
        "start_time": "2023-05-28T12:11:04.787Z"
      },
      {
        "duration": 6,
        "start_time": "2023-05-28T12:11:30.907Z"
      },
      {
        "duration": 4,
        "start_time": "2023-05-28T12:11:35.179Z"
      },
      {
        "duration": 11,
        "start_time": "2023-05-28T12:11:54.356Z"
      },
      {
        "duration": 5,
        "start_time": "2023-05-28T12:12:03.388Z"
      },
      {
        "duration": 10,
        "start_time": "2023-05-28T12:12:42.286Z"
      },
      {
        "duration": 6,
        "start_time": "2023-05-28T12:12:48.115Z"
      },
      {
        "duration": 10,
        "start_time": "2023-05-28T12:12:52.853Z"
      },
      {
        "duration": 5,
        "start_time": "2023-05-28T12:12:57.765Z"
      },
      {
        "duration": 95,
        "start_time": "2023-05-28T12:13:05.388Z"
      },
      {
        "duration": 270,
        "start_time": "2023-05-28T12:13:11.414Z"
      },
      {
        "duration": 297,
        "start_time": "2023-05-28T12:15:40.880Z"
      },
      {
        "duration": 422,
        "start_time": "2023-05-28T12:16:13.587Z"
      },
      {
        "duration": 277,
        "start_time": "2023-05-28T12:16:20.079Z"
      },
      {
        "duration": 315,
        "start_time": "2023-05-28T12:16:25.694Z"
      },
      {
        "duration": 333,
        "start_time": "2023-05-28T12:16:30.549Z"
      },
      {
        "duration": 331,
        "start_time": "2023-05-28T12:16:35.605Z"
      },
      {
        "duration": 423,
        "start_time": "2023-05-28T12:16:52.009Z"
      },
      {
        "duration": 1204,
        "start_time": "2023-05-28T12:18:55.465Z"
      },
      {
        "duration": 5,
        "start_time": "2023-05-28T12:21:06.691Z"
      },
      {
        "duration": 1309,
        "start_time": "2023-05-28T12:23:14.213Z"
      },
      {
        "duration": 1309,
        "start_time": "2023-05-28T12:23:29.595Z"
      },
      {
        "duration": 414,
        "start_time": "2023-05-28T12:24:35.079Z"
      },
      {
        "duration": 1257,
        "start_time": "2023-05-28T12:24:49.797Z"
      },
      {
        "duration": 16,
        "start_time": "2023-05-28T12:36:55.753Z"
      },
      {
        "duration": 7,
        "start_time": "2023-05-28T12:36:56.261Z"
      },
      {
        "duration": 15,
        "start_time": "2023-05-28T12:36:56.311Z"
      },
      {
        "duration": 2443,
        "start_time": "2023-05-28T12:36:56.387Z"
      },
      {
        "duration": 19,
        "start_time": "2023-05-28T12:36:58.832Z"
      },
      {
        "duration": 235,
        "start_time": "2023-05-28T12:36:58.852Z"
      },
      {
        "duration": 12,
        "start_time": "2023-05-28T12:36:59.089Z"
      },
      {
        "duration": 18,
        "start_time": "2023-05-28T12:36:59.102Z"
      },
      {
        "duration": 706,
        "start_time": "2023-05-28T12:36:59.122Z"
      },
      {
        "duration": 12,
        "start_time": "2023-05-28T12:36:59.830Z"
      },
      {
        "duration": 11,
        "start_time": "2023-05-28T12:36:59.844Z"
      },
      {
        "duration": 13,
        "start_time": "2023-05-28T12:36:59.857Z"
      },
      {
        "duration": 46,
        "start_time": "2023-05-28T12:36:59.872Z"
      },
      {
        "duration": 27,
        "start_time": "2023-05-28T12:36:59.920Z"
      },
      {
        "duration": 12,
        "start_time": "2023-05-28T12:36:59.949Z"
      },
      {
        "duration": 55,
        "start_time": "2023-05-28T12:36:59.963Z"
      },
      {
        "duration": 256,
        "start_time": "2023-05-28T12:37:00.020Z"
      },
      {
        "duration": 5,
        "start_time": "2023-05-28T12:37:00.278Z"
      },
      {
        "duration": 93,
        "start_time": "2023-05-28T12:37:00.285Z"
      },
      {
        "duration": 15,
        "start_time": "2023-05-28T12:37:00.380Z"
      },
      {
        "duration": 12,
        "start_time": "2023-05-28T12:37:02.120Z"
      },
      {
        "duration": 13,
        "start_time": "2023-05-28T12:37:34.757Z"
      },
      {
        "duration": 14,
        "start_time": "2023-05-28T12:42:08.090Z"
      },
      {
        "duration": 13,
        "start_time": "2023-05-28T12:42:26.825Z"
      },
      {
        "duration": 70,
        "start_time": "2023-05-28T12:44:46.099Z"
      },
      {
        "duration": 16,
        "start_time": "2023-05-28T12:44:53.095Z"
      },
      {
        "duration": 147,
        "start_time": "2023-05-28T12:45:38.507Z"
      },
      {
        "duration": 238,
        "start_time": "2023-05-28T12:45:42.623Z"
      },
      {
        "duration": 222,
        "start_time": "2023-05-28T12:47:27.961Z"
      },
      {
        "duration": 208,
        "start_time": "2023-05-28T12:47:38.469Z"
      },
      {
        "duration": 223,
        "start_time": "2023-05-28T12:49:06.457Z"
      },
      {
        "duration": 9,
        "start_time": "2023-05-28T13:01:30.600Z"
      },
      {
        "duration": 13,
        "start_time": "2023-05-28T13:01:36.735Z"
      },
      {
        "duration": 9,
        "start_time": "2023-05-28T13:01:40.057Z"
      },
      {
        "duration": 9,
        "start_time": "2023-05-28T13:01:43.337Z"
      },
      {
        "duration": 95,
        "start_time": "2023-05-28T13:01:51.191Z"
      },
      {
        "duration": 9,
        "start_time": "2023-05-28T13:01:53.893Z"
      },
      {
        "duration": 9,
        "start_time": "2023-05-28T13:02:31.090Z"
      },
      {
        "duration": 1135,
        "start_time": "2023-05-28T13:02:42.160Z"
      },
      {
        "duration": 71,
        "start_time": "2023-05-28T13:02:43.297Z"
      },
      {
        "duration": 13,
        "start_time": "2023-05-28T13:02:43.369Z"
      },
      {
        "duration": 5,
        "start_time": "2023-05-28T13:02:43.384Z"
      },
      {
        "duration": 6,
        "start_time": "2023-05-28T13:02:43.391Z"
      },
      {
        "duration": 22,
        "start_time": "2023-05-28T13:02:43.399Z"
      },
      {
        "duration": 11,
        "start_time": "2023-05-28T13:02:43.423Z"
      },
      {
        "duration": 6,
        "start_time": "2023-05-28T13:02:43.436Z"
      },
      {
        "duration": 17,
        "start_time": "2023-05-28T13:02:43.443Z"
      },
      {
        "duration": 15,
        "start_time": "2023-05-28T13:02:43.462Z"
      },
      {
        "duration": 4,
        "start_time": "2023-05-28T13:02:43.479Z"
      },
      {
        "duration": 6,
        "start_time": "2023-05-28T13:02:43.517Z"
      },
      {
        "duration": 9,
        "start_time": "2023-05-28T13:02:43.524Z"
      },
      {
        "duration": 13,
        "start_time": "2023-05-28T13:02:43.536Z"
      },
      {
        "duration": 19,
        "start_time": "2023-05-28T13:02:43.550Z"
      },
      {
        "duration": 8,
        "start_time": "2023-05-28T13:02:43.570Z"
      },
      {
        "duration": 44,
        "start_time": "2023-05-28T13:02:43.580Z"
      },
      {
        "duration": 164,
        "start_time": "2023-05-28T13:02:43.626Z"
      },
      {
        "duration": 6,
        "start_time": "2023-05-28T13:02:43.792Z"
      },
      {
        "duration": 20,
        "start_time": "2023-05-28T13:02:43.800Z"
      },
      {
        "duration": 19,
        "start_time": "2023-05-28T13:02:43.821Z"
      },
      {
        "duration": 345,
        "start_time": "2023-05-28T13:02:43.842Z"
      },
      {
        "duration": 424,
        "start_time": "2023-05-28T13:02:44.189Z"
      },
      {
        "duration": 16,
        "start_time": "2023-05-28T13:02:44.614Z"
      },
      {
        "duration": 7,
        "start_time": "2023-05-28T13:02:44.632Z"
      },
      {
        "duration": 16,
        "start_time": "2023-05-28T13:02:44.640Z"
      },
      {
        "duration": 2525,
        "start_time": "2023-05-28T13:02:44.658Z"
      },
      {
        "duration": 18,
        "start_time": "2023-05-28T13:02:47.184Z"
      },
      {
        "duration": 215,
        "start_time": "2023-05-28T13:02:47.204Z"
      },
      {
        "duration": 11,
        "start_time": "2023-05-28T13:02:47.420Z"
      },
      {
        "duration": 8,
        "start_time": "2023-05-28T13:02:47.433Z"
      },
      {
        "duration": 709,
        "start_time": "2023-05-28T13:02:47.443Z"
      },
      {
        "duration": 13,
        "start_time": "2023-05-28T13:02:48.154Z"
      },
      {
        "duration": 11,
        "start_time": "2023-05-28T13:02:48.168Z"
      },
      {
        "duration": 37,
        "start_time": "2023-05-28T13:02:48.181Z"
      },
      {
        "duration": 13,
        "start_time": "2023-05-28T13:02:48.220Z"
      },
      {
        "duration": 25,
        "start_time": "2023-05-28T13:02:48.234Z"
      },
      {
        "duration": 234,
        "start_time": "2023-05-28T13:02:48.261Z"
      },
      {
        "duration": 25,
        "start_time": "2023-05-28T13:02:48.497Z"
      },
      {
        "duration": 13,
        "start_time": "2023-05-28T13:02:48.523Z"
      },
      {
        "duration": 33,
        "start_time": "2023-05-28T13:02:48.541Z"
      },
      {
        "duration": 259,
        "start_time": "2023-05-28T13:02:48.575Z"
      },
      {
        "duration": 4,
        "start_time": "2023-05-28T13:02:48.835Z"
      },
      {
        "duration": 77,
        "start_time": "2023-05-28T13:02:48.841Z"
      },
      {
        "duration": 13,
        "start_time": "2023-05-28T13:02:48.920Z"
      },
      {
        "duration": 9,
        "start_time": "2023-05-28T13:02:48.935Z"
      },
      {
        "duration": 15,
        "start_time": "2023-05-28T13:02:48.945Z"
      },
      {
        "duration": 6,
        "start_time": "2023-05-28T13:02:48.961Z"
      },
      {
        "duration": 20,
        "start_time": "2023-05-28T13:02:48.969Z"
      },
      {
        "duration": 29,
        "start_time": "2023-05-28T13:02:48.991Z"
      },
      {
        "duration": 8,
        "start_time": "2023-05-28T13:04:37.701Z"
      },
      {
        "duration": 13,
        "start_time": "2023-05-28T13:04:45.657Z"
      },
      {
        "duration": 1191,
        "start_time": "2023-05-28T13:04:59.690Z"
      },
      {
        "duration": 85,
        "start_time": "2023-05-28T13:05:00.884Z"
      },
      {
        "duration": 17,
        "start_time": "2023-05-28T13:05:00.971Z"
      },
      {
        "duration": 53,
        "start_time": "2023-05-28T13:05:00.990Z"
      },
      {
        "duration": 19,
        "start_time": "2023-05-28T13:05:01.049Z"
      },
      {
        "duration": 29,
        "start_time": "2023-05-28T13:05:01.069Z"
      },
      {
        "duration": 22,
        "start_time": "2023-05-28T13:05:01.101Z"
      },
      {
        "duration": 64,
        "start_time": "2023-05-28T13:05:01.125Z"
      },
      {
        "duration": 59,
        "start_time": "2023-05-28T13:05:01.191Z"
      },
      {
        "duration": 41,
        "start_time": "2023-05-28T13:05:01.252Z"
      },
      {
        "duration": 57,
        "start_time": "2023-05-28T13:05:01.295Z"
      },
      {
        "duration": 52,
        "start_time": "2023-05-28T13:05:01.354Z"
      },
      {
        "duration": 60,
        "start_time": "2023-05-28T13:05:01.407Z"
      },
      {
        "duration": 34,
        "start_time": "2023-05-28T13:05:01.469Z"
      },
      {
        "duration": 59,
        "start_time": "2023-05-28T13:05:01.505Z"
      },
      {
        "duration": 102,
        "start_time": "2023-05-28T13:05:01.565Z"
      },
      {
        "duration": 87,
        "start_time": "2023-05-28T13:05:01.669Z"
      },
      {
        "duration": 264,
        "start_time": "2023-05-28T13:05:01.758Z"
      },
      {
        "duration": 8,
        "start_time": "2023-05-28T13:05:02.025Z"
      },
      {
        "duration": 38,
        "start_time": "2023-05-28T13:05:02.035Z"
      },
      {
        "duration": 38,
        "start_time": "2023-05-28T13:05:02.074Z"
      },
      {
        "duration": 422,
        "start_time": "2023-05-28T13:05:02.114Z"
      },
      {
        "duration": 1702,
        "start_time": "2023-05-28T13:05:02.538Z"
      },
      {
        "duration": 23,
        "start_time": "2023-05-28T13:05:04.242Z"
      },
      {
        "duration": 13,
        "start_time": "2023-05-28T13:05:04.267Z"
      },
      {
        "duration": 40,
        "start_time": "2023-05-28T13:05:04.282Z"
      },
      {
        "duration": 2750,
        "start_time": "2023-05-28T13:05:04.323Z"
      },
      {
        "duration": 18,
        "start_time": "2023-05-28T13:05:07.077Z"
      },
      {
        "duration": 286,
        "start_time": "2023-05-28T13:05:07.096Z"
      },
      {
        "duration": 14,
        "start_time": "2023-05-28T13:05:07.383Z"
      },
      {
        "duration": 54,
        "start_time": "2023-05-28T13:05:07.399Z"
      },
      {
        "duration": 702,
        "start_time": "2023-05-28T13:05:07.455Z"
      },
      {
        "duration": 16,
        "start_time": "2023-05-28T13:05:08.159Z"
      },
      {
        "duration": 15,
        "start_time": "2023-05-28T13:05:08.177Z"
      },
      {
        "duration": 17,
        "start_time": "2023-05-28T13:05:08.194Z"
      },
      {
        "duration": 35,
        "start_time": "2023-05-28T13:05:08.218Z"
      },
      {
        "duration": 16,
        "start_time": "2023-05-28T13:05:08.254Z"
      },
      {
        "duration": 239,
        "start_time": "2023-05-28T13:05:08.272Z"
      },
      {
        "duration": 27,
        "start_time": "2023-05-28T13:05:08.516Z"
      },
      {
        "duration": 22,
        "start_time": "2023-05-28T13:05:08.546Z"
      },
      {
        "duration": 52,
        "start_time": "2023-05-28T13:05:08.570Z"
      },
      {
        "duration": 354,
        "start_time": "2023-05-28T13:05:08.624Z"
      },
      {
        "duration": 4,
        "start_time": "2023-05-28T13:05:08.979Z"
      },
      {
        "duration": 88,
        "start_time": "2023-05-28T13:05:08.984Z"
      },
      {
        "duration": 13,
        "start_time": "2023-05-28T13:05:09.073Z"
      },
      {
        "duration": 8,
        "start_time": "2023-05-28T13:05:09.088Z"
      },
      {
        "duration": 32,
        "start_time": "2023-05-28T13:05:09.098Z"
      },
      {
        "duration": 22,
        "start_time": "2023-05-28T13:05:09.133Z"
      },
      {
        "duration": 14,
        "start_time": "2023-05-28T13:05:09.157Z"
      },
      {
        "duration": 7,
        "start_time": "2023-05-28T13:05:09.173Z"
      },
      {
        "duration": 18,
        "start_time": "2023-05-28T13:07:13.694Z"
      },
      {
        "duration": 1205,
        "start_time": "2023-05-28T13:07:18.497Z"
      },
      {
        "duration": 71,
        "start_time": "2023-05-28T13:07:19.704Z"
      },
      {
        "duration": 12,
        "start_time": "2023-05-28T13:07:19.777Z"
      },
      {
        "duration": 4,
        "start_time": "2023-05-28T13:07:19.791Z"
      },
      {
        "duration": 8,
        "start_time": "2023-05-28T13:07:19.797Z"
      },
      {
        "duration": 25,
        "start_time": "2023-05-28T13:07:19.806Z"
      },
      {
        "duration": 12,
        "start_time": "2023-05-28T13:07:19.833Z"
      },
      {
        "duration": 12,
        "start_time": "2023-05-28T13:07:19.846Z"
      },
      {
        "duration": 17,
        "start_time": "2023-05-28T13:07:19.859Z"
      },
      {
        "duration": 22,
        "start_time": "2023-05-28T13:07:19.878Z"
      },
      {
        "duration": 4,
        "start_time": "2023-05-28T13:07:19.902Z"
      },
      {
        "duration": 12,
        "start_time": "2023-05-28T13:07:19.908Z"
      },
      {
        "duration": 18,
        "start_time": "2023-05-28T13:07:19.921Z"
      },
      {
        "duration": 11,
        "start_time": "2023-05-28T13:07:19.940Z"
      },
      {
        "duration": 14,
        "start_time": "2023-05-28T13:07:19.952Z"
      },
      {
        "duration": 6,
        "start_time": "2023-05-28T13:07:19.968Z"
      },
      {
        "duration": 13,
        "start_time": "2023-05-28T13:07:19.976Z"
      },
      {
        "duration": 191,
        "start_time": "2023-05-28T13:07:19.991Z"
      },
      {
        "duration": 6,
        "start_time": "2023-05-28T13:07:20.183Z"
      },
      {
        "duration": 11,
        "start_time": "2023-05-28T13:07:20.191Z"
      },
      {
        "duration": 17,
        "start_time": "2023-05-28T13:07:20.203Z"
      },
      {
        "duration": 341,
        "start_time": "2023-05-28T13:07:20.221Z"
      },
      {
        "duration": 1467,
        "start_time": "2023-05-28T13:07:20.564Z"
      },
      {
        "duration": 18,
        "start_time": "2023-05-28T13:07:22.033Z"
      },
      {
        "duration": 15,
        "start_time": "2023-05-28T13:07:22.053Z"
      },
      {
        "duration": 33,
        "start_time": "2023-05-28T13:07:22.069Z"
      },
      {
        "duration": 2533,
        "start_time": "2023-05-28T13:07:22.104Z"
      },
      {
        "duration": 21,
        "start_time": "2023-05-28T13:07:24.641Z"
      },
      {
        "duration": 243,
        "start_time": "2023-05-28T13:07:24.664Z"
      },
      {
        "duration": 17,
        "start_time": "2023-05-28T13:07:24.909Z"
      },
      {
        "duration": 20,
        "start_time": "2023-05-28T13:07:24.928Z"
      },
      {
        "duration": 639,
        "start_time": "2023-05-28T13:07:24.950Z"
      },
      {
        "duration": 12,
        "start_time": "2023-05-28T13:07:25.591Z"
      },
      {
        "duration": 33,
        "start_time": "2023-05-28T13:07:25.604Z"
      },
      {
        "duration": 14,
        "start_time": "2023-05-28T13:07:25.638Z"
      },
      {
        "duration": 17,
        "start_time": "2023-05-28T13:07:25.653Z"
      },
      {
        "duration": 13,
        "start_time": "2023-05-28T13:07:25.671Z"
      },
      {
        "duration": 239,
        "start_time": "2023-05-28T13:07:25.686Z"
      },
      {
        "duration": 22,
        "start_time": "2023-05-28T13:07:25.927Z"
      },
      {
        "duration": 12,
        "start_time": "2023-05-28T13:07:25.951Z"
      },
      {
        "duration": 29,
        "start_time": "2023-05-28T13:07:25.965Z"
      },
      {
        "duration": 285,
        "start_time": "2023-05-28T13:07:25.996Z"
      },
      {
        "duration": 3,
        "start_time": "2023-05-28T13:07:26.282Z"
      },
      {
        "duration": 100,
        "start_time": "2023-05-28T13:07:26.287Z"
      },
      {
        "duration": 13,
        "start_time": "2023-05-28T13:07:26.388Z"
      },
      {
        "duration": 21,
        "start_time": "2023-05-28T13:07:26.402Z"
      },
      {
        "duration": 94,
        "start_time": "2023-05-28T13:07:26.425Z"
      },
      {
        "duration": 19,
        "start_time": "2023-05-28T13:07:26.520Z"
      },
      {
        "duration": 16,
        "start_time": "2023-05-28T13:07:26.540Z"
      },
      {
        "duration": 7,
        "start_time": "2023-05-28T13:07:26.557Z"
      },
      {
        "duration": 1171,
        "start_time": "2023-05-28T13:08:16.267Z"
      },
      {
        "duration": 73,
        "start_time": "2023-05-28T13:08:17.441Z"
      },
      {
        "duration": 20,
        "start_time": "2023-05-28T13:08:17.515Z"
      },
      {
        "duration": 31,
        "start_time": "2023-05-28T13:08:17.537Z"
      },
      {
        "duration": 10,
        "start_time": "2023-05-28T13:08:17.570Z"
      },
      {
        "duration": 31,
        "start_time": "2023-05-28T13:08:17.582Z"
      },
      {
        "duration": 61,
        "start_time": "2023-05-28T13:08:17.615Z"
      },
      {
        "duration": 15,
        "start_time": "2023-05-28T13:08:17.678Z"
      },
      {
        "duration": 24,
        "start_time": "2023-05-28T13:08:17.694Z"
      },
      {
        "duration": 26,
        "start_time": "2023-05-28T13:08:17.722Z"
      },
      {
        "duration": 14,
        "start_time": "2023-05-28T13:08:17.750Z"
      },
      {
        "duration": 13,
        "start_time": "2023-05-28T13:08:17.766Z"
      },
      {
        "duration": 23,
        "start_time": "2023-05-28T13:08:17.781Z"
      },
      {
        "duration": 36,
        "start_time": "2023-05-28T13:08:17.806Z"
      },
      {
        "duration": 43,
        "start_time": "2023-05-28T13:08:17.844Z"
      },
      {
        "duration": 13,
        "start_time": "2023-05-28T13:08:17.888Z"
      },
      {
        "duration": 26,
        "start_time": "2023-05-28T13:08:17.902Z"
      },
      {
        "duration": 198,
        "start_time": "2023-05-28T13:08:17.930Z"
      },
      {
        "duration": 10,
        "start_time": "2023-05-28T13:08:18.130Z"
      },
      {
        "duration": 14,
        "start_time": "2023-05-28T13:08:18.141Z"
      },
      {
        "duration": 7,
        "start_time": "2023-05-28T13:08:18.157Z"
      },
      {
        "duration": 363,
        "start_time": "2023-05-28T13:08:18.165Z"
      },
      {
        "duration": 1367,
        "start_time": "2023-05-28T13:08:18.531Z"
      },
      {
        "duration": 22,
        "start_time": "2023-05-28T13:08:19.900Z"
      },
      {
        "duration": 18,
        "start_time": "2023-05-28T13:08:19.924Z"
      },
      {
        "duration": 20,
        "start_time": "2023-05-28T13:08:19.944Z"
      },
      {
        "duration": 2445,
        "start_time": "2023-05-28T13:08:19.965Z"
      },
      {
        "duration": 22,
        "start_time": "2023-05-28T13:08:22.417Z"
      },
      {
        "duration": 223,
        "start_time": "2023-05-28T13:08:22.441Z"
      },
      {
        "duration": 11,
        "start_time": "2023-05-28T13:08:22.666Z"
      },
      {
        "duration": 16,
        "start_time": "2023-05-28T13:08:22.679Z"
      },
      {
        "duration": 669,
        "start_time": "2023-05-28T13:08:22.696Z"
      },
      {
        "duration": 11,
        "start_time": "2023-05-28T13:08:23.366Z"
      },
      {
        "duration": 22,
        "start_time": "2023-05-28T13:08:23.378Z"
      },
      {
        "duration": 17,
        "start_time": "2023-05-28T13:08:23.402Z"
      },
      {
        "duration": 29,
        "start_time": "2023-05-28T13:08:23.420Z"
      },
      {
        "duration": 28,
        "start_time": "2023-05-28T13:08:23.450Z"
      },
      {
        "duration": 222,
        "start_time": "2023-05-28T13:08:23.480Z"
      },
      {
        "duration": 25,
        "start_time": "2023-05-28T13:08:23.704Z"
      },
      {
        "duration": 23,
        "start_time": "2023-05-28T13:08:23.731Z"
      },
      {
        "duration": 30,
        "start_time": "2023-05-28T13:08:23.756Z"
      },
      {
        "duration": 241,
        "start_time": "2023-05-28T13:08:23.787Z"
      },
      {
        "duration": 5,
        "start_time": "2023-05-28T13:08:24.029Z"
      },
      {
        "duration": 96,
        "start_time": "2023-05-28T13:08:24.036Z"
      },
      {
        "duration": 15,
        "start_time": "2023-05-28T13:08:24.134Z"
      },
      {
        "duration": 10,
        "start_time": "2023-05-28T13:08:24.151Z"
      },
      {
        "duration": 110,
        "start_time": "2023-05-28T13:08:24.163Z"
      },
      {
        "duration": 24,
        "start_time": "2023-05-28T13:08:24.275Z"
      },
      {
        "duration": 41,
        "start_time": "2023-05-28T13:08:24.301Z"
      },
      {
        "duration": 10,
        "start_time": "2023-05-28T13:08:24.343Z"
      },
      {
        "duration": 17,
        "start_time": "2023-08-31T17:03:56.025Z"
      },
      {
        "duration": 5,
        "start_time": "2023-08-31T17:04:08.588Z"
      },
      {
        "duration": 3,
        "start_time": "2023-08-31T17:04:10.993Z"
      },
      {
        "duration": 4,
        "start_time": "2023-08-31T17:04:16.436Z"
      },
      {
        "duration": 7,
        "start_time": "2023-08-31T17:04:54.093Z"
      },
      {
        "duration": 66,
        "start_time": "2023-08-31T17:28:20.678Z"
      },
      {
        "duration": 5,
        "start_time": "2023-08-31T17:28:25.426Z"
      },
      {
        "duration": 4,
        "start_time": "2023-08-31T17:28:37.705Z"
      },
      {
        "duration": 5,
        "start_time": "2023-08-31T17:29:11.153Z"
      },
      {
        "duration": 5,
        "start_time": "2023-08-31T17:34:34.824Z"
      },
      {
        "duration": 4,
        "start_time": "2023-08-31T17:34:44.433Z"
      },
      {
        "duration": 3,
        "start_time": "2023-08-31T17:34:48.104Z"
      },
      {
        "duration": 4,
        "start_time": "2023-08-31T17:34:56.188Z"
      },
      {
        "duration": 9,
        "start_time": "2023-08-31T18:12:44.272Z"
      },
      {
        "duration": 7,
        "start_time": "2023-08-31T18:12:46.877Z"
      },
      {
        "duration": 7,
        "start_time": "2023-08-31T18:13:09.248Z"
      },
      {
        "duration": 4,
        "start_time": "2023-08-31T18:13:23.130Z"
      },
      {
        "duration": 6,
        "start_time": "2023-08-31T18:46:53.568Z"
      },
      {
        "duration": 3,
        "start_time": "2023-08-31T18:47:03.481Z"
      },
      {
        "duration": 3,
        "start_time": "2023-08-31T18:47:10.637Z"
      },
      {
        "duration": 4,
        "start_time": "2023-08-31T18:47:14.491Z"
      },
      {
        "duration": 4,
        "start_time": "2023-08-31T18:47:34.128Z"
      },
      {
        "duration": 3,
        "start_time": "2023-08-31T18:47:36.155Z"
      },
      {
        "duration": 5,
        "start_time": "2023-08-31T18:47:39.928Z"
      },
      {
        "duration": 3,
        "start_time": "2023-08-31T18:47:49.208Z"
      },
      {
        "duration": 4,
        "start_time": "2023-08-31T18:47:49.312Z"
      },
      {
        "duration": 15,
        "start_time": "2023-08-31T18:47:58.096Z"
      },
      {
        "duration": 5,
        "start_time": "2023-08-31T18:47:58.213Z"
      },
      {
        "duration": 5,
        "start_time": "2023-08-31T18:48:00.818Z"
      },
      {
        "duration": 4,
        "start_time": "2023-08-31T18:48:06.418Z"
      },
      {
        "duration": 4,
        "start_time": "2023-08-31T18:48:09.902Z"
      },
      {
        "duration": 7,
        "start_time": "2023-08-31T18:48:12.145Z"
      }
    ],
    "toc": {
      "base_numbering": 1,
      "nav_menu": {},
      "number_sections": true,
      "sideBar": true,
      "skip_h1_title": true,
      "title_cell": "Table of Contents",
      "title_sidebar": "Contents",
      "toc_cell": false,
      "toc_position": {},
      "toc_section_display": true,
      "toc_window_display": false
    }
  },
  "nbformat_minor": 4,
  "nbformat": 4,
  "cells": [
    {
      "cell_type": "markdown",
      "source": "# Описание проекта\n<b>Вы работаете в интернет-магазине «Стримчик», который продаёт по всему миру компьютерные игры. Из открытых источников доступны исторические данные о продажах игр, оценки пользователей и экспертов, жанры и платформы (например, Xbox или PlayStation). Вам нужно выявить определяющие успешность игры закономерности. Это позволит сделать ставку на потенциально популярный продукт и спланировать рекламные кампании.\n<br><br>Перед вами данные до 2016 года. Представим, что сейчас декабрь 2016 г., и вы планируете кампанию на 2017-й. Нужно отработать принцип работы с данными. Неважно, прогнозируете ли вы продажи на 2017 год по данным 2016-го или же 2027-й — по данным 2026 года.\n<br><br>В наборе данных попадается аббревиатура ESRB (Entertainment Software Rating Board) — это ассоциация, определяющая возрастной рейтинг компьютерных игр. ESRB оценивает игровой контент и присваивает ему подходящую возрастную категорию, например, «Для взрослых», «Для детей младшего возраста» или «Для подростков».</b>",
      "metadata": {}
    },
    {
      "cell_type": "markdown",
      "source": "# Описание данных:\n* Name — название игры\n* Platform — платформа\n* Year_of_Release — год выпуска\n* Genre — жанр игры\n* NA_sales — продажи в Северной Америке (миллионы проданных копий)\n* EU_sales — продажи в Европе (миллионы проданных копий)\n* JP_sales — продажи в Японии (миллионы проданных копий)\n* Other_sales — продажи в других странах (миллионы проданных копий)\n* Critic_Score — оценка критиков (максимум 100)\n* User_Score — оценка пользователей (максимум 10)\n* Rating — рейтинг от организации ESRB (англ. Entertainment Software Rating Board). Эта ассоциация определяет рейтинг компьютерных игр и присваивает им подходящую возрастную категорию.",
      "metadata": {}
    },
    {
      "cell_type": "markdown",
      "source": "# Будут выполнены следующие задания:\n1. Просмотрена таблица и выявлены аномалии, пропущенные значения.\n2. Проведена предобработка таблицы: замена имён столбцов, заполнение пропусков, удаление дубликатов и т.д.\n3. Будет проведён анализ по данным и подготовлены актуальные данные к проверке гипотез.\n4. Составлены портреты пользователей для крупных регионов продаж.\n5. Будет проверен ряд гипотез.\n6. Оформлены выводы по каждому шагу проекта.",
      "metadata": {}
    },
    {
      "cell_type": "code",
      "source": "import pandas as pd\nimport matplotlib.pyplot as plt\nimport numpy as np\nimport seaborn as sns\nfrom scipy import stats as st",
      "metadata": {},
      "outputs": [],
      "execution_count": 1
    },
    {
      "cell_type": "markdown",
      "source": "# Шаг 1. Открываем файл и изучаем общую информацию",
      "metadata": {}
    },
    {
      "cell_type": "code",
      "source": "df = pd.read_csv('/datasets/games.csv')\ndf",
      "metadata": {},
      "outputs": [
        {
          "data": {
            "text/html": [
              "<div>\n",
              "<style scoped>\n",
              "    .dataframe tbody tr th:only-of-type {\n",
              "        vertical-align: middle;\n",
              "    }\n",
              "\n",
              "    .dataframe tbody tr th {\n",
              "        vertical-align: top;\n",
              "    }\n",
              "\n",
              "    .dataframe thead th {\n",
              "        text-align: right;\n",
              "    }\n",
              "</style>\n",
              "<table border=\"1\" class=\"dataframe\">\n",
              "  <thead>\n",
              "    <tr style=\"text-align: right;\">\n",
              "      <th></th>\n",
              "      <th>Name</th>\n",
              "      <th>Platform</th>\n",
              "      <th>Year_of_Release</th>\n",
              "      <th>Genre</th>\n",
              "      <th>NA_sales</th>\n",
              "      <th>EU_sales</th>\n",
              "      <th>JP_sales</th>\n",
              "      <th>Other_sales</th>\n",
              "      <th>Critic_Score</th>\n",
              "      <th>User_Score</th>\n",
              "      <th>Rating</th>\n",
              "    </tr>\n",
              "  </thead>\n",
              "  <tbody>\n",
              "    <tr>\n",
              "      <th>0</th>\n",
              "      <td>Wii Sports</td>\n",
              "      <td>Wii</td>\n",
              "      <td>2006.0</td>\n",
              "      <td>Sports</td>\n",
              "      <td>41.36</td>\n",
              "      <td>28.96</td>\n",
              "      <td>3.77</td>\n",
              "      <td>8.45</td>\n",
              "      <td>76.0</td>\n",
              "      <td>8</td>\n",
              "      <td>E</td>\n",
              "    </tr>\n",
              "    <tr>\n",
              "      <th>1</th>\n",
              "      <td>Super Mario Bros.</td>\n",
              "      <td>NES</td>\n",
              "      <td>1985.0</td>\n",
              "      <td>Platform</td>\n",
              "      <td>29.08</td>\n",
              "      <td>3.58</td>\n",
              "      <td>6.81</td>\n",
              "      <td>0.77</td>\n",
              "      <td>NaN</td>\n",
              "      <td>NaN</td>\n",
              "      <td>NaN</td>\n",
              "    </tr>\n",
              "    <tr>\n",
              "      <th>2</th>\n",
              "      <td>Mario Kart Wii</td>\n",
              "      <td>Wii</td>\n",
              "      <td>2008.0</td>\n",
              "      <td>Racing</td>\n",
              "      <td>15.68</td>\n",
              "      <td>12.76</td>\n",
              "      <td>3.79</td>\n",
              "      <td>3.29</td>\n",
              "      <td>82.0</td>\n",
              "      <td>8.3</td>\n",
              "      <td>E</td>\n",
              "    </tr>\n",
              "    <tr>\n",
              "      <th>3</th>\n",
              "      <td>Wii Sports Resort</td>\n",
              "      <td>Wii</td>\n",
              "      <td>2009.0</td>\n",
              "      <td>Sports</td>\n",
              "      <td>15.61</td>\n",
              "      <td>10.93</td>\n",
              "      <td>3.28</td>\n",
              "      <td>2.95</td>\n",
              "      <td>80.0</td>\n",
              "      <td>8</td>\n",
              "      <td>E</td>\n",
              "    </tr>\n",
              "    <tr>\n",
              "      <th>4</th>\n",
              "      <td>Pokemon Red/Pokemon Blue</td>\n",
              "      <td>GB</td>\n",
              "      <td>1996.0</td>\n",
              "      <td>Role-Playing</td>\n",
              "      <td>11.27</td>\n",
              "      <td>8.89</td>\n",
              "      <td>10.22</td>\n",
              "      <td>1.00</td>\n",
              "      <td>NaN</td>\n",
              "      <td>NaN</td>\n",
              "      <td>NaN</td>\n",
              "    </tr>\n",
              "    <tr>\n",
              "      <th>...</th>\n",
              "      <td>...</td>\n",
              "      <td>...</td>\n",
              "      <td>...</td>\n",
              "      <td>...</td>\n",
              "      <td>...</td>\n",
              "      <td>...</td>\n",
              "      <td>...</td>\n",
              "      <td>...</td>\n",
              "      <td>...</td>\n",
              "      <td>...</td>\n",
              "      <td>...</td>\n",
              "    </tr>\n",
              "    <tr>\n",
              "      <th>16710</th>\n",
              "      <td>Samurai Warriors: Sanada Maru</td>\n",
              "      <td>PS3</td>\n",
              "      <td>2016.0</td>\n",
              "      <td>Action</td>\n",
              "      <td>0.00</td>\n",
              "      <td>0.00</td>\n",
              "      <td>0.01</td>\n",
              "      <td>0.00</td>\n",
              "      <td>NaN</td>\n",
              "      <td>NaN</td>\n",
              "      <td>NaN</td>\n",
              "    </tr>\n",
              "    <tr>\n",
              "      <th>16711</th>\n",
              "      <td>LMA Manager 2007</td>\n",
              "      <td>X360</td>\n",
              "      <td>2006.0</td>\n",
              "      <td>Sports</td>\n",
              "      <td>0.00</td>\n",
              "      <td>0.01</td>\n",
              "      <td>0.00</td>\n",
              "      <td>0.00</td>\n",
              "      <td>NaN</td>\n",
              "      <td>NaN</td>\n",
              "      <td>NaN</td>\n",
              "    </tr>\n",
              "    <tr>\n",
              "      <th>16712</th>\n",
              "      <td>Haitaka no Psychedelica</td>\n",
              "      <td>PSV</td>\n",
              "      <td>2016.0</td>\n",
              "      <td>Adventure</td>\n",
              "      <td>0.00</td>\n",
              "      <td>0.00</td>\n",
              "      <td>0.01</td>\n",
              "      <td>0.00</td>\n",
              "      <td>NaN</td>\n",
              "      <td>NaN</td>\n",
              "      <td>NaN</td>\n",
              "    </tr>\n",
              "    <tr>\n",
              "      <th>16713</th>\n",
              "      <td>Spirits &amp; Spells</td>\n",
              "      <td>GBA</td>\n",
              "      <td>2003.0</td>\n",
              "      <td>Platform</td>\n",
              "      <td>0.01</td>\n",
              "      <td>0.00</td>\n",
              "      <td>0.00</td>\n",
              "      <td>0.00</td>\n",
              "      <td>NaN</td>\n",
              "      <td>NaN</td>\n",
              "      <td>NaN</td>\n",
              "    </tr>\n",
              "    <tr>\n",
              "      <th>16714</th>\n",
              "      <td>Winning Post 8 2016</td>\n",
              "      <td>PSV</td>\n",
              "      <td>2016.0</td>\n",
              "      <td>Simulation</td>\n",
              "      <td>0.00</td>\n",
              "      <td>0.00</td>\n",
              "      <td>0.01</td>\n",
              "      <td>0.00</td>\n",
              "      <td>NaN</td>\n",
              "      <td>NaN</td>\n",
              "      <td>NaN</td>\n",
              "    </tr>\n",
              "  </tbody>\n",
              "</table>\n",
              "<p>16715 rows × 11 columns</p>\n",
              "</div>"
            ],
            "text/plain": [
              "                                Name Platform  Year_of_Release         Genre  \\\n",
              "0                         Wii Sports      Wii           2006.0        Sports   \n",
              "1                  Super Mario Bros.      NES           1985.0      Platform   \n",
              "2                     Mario Kart Wii      Wii           2008.0        Racing   \n",
              "3                  Wii Sports Resort      Wii           2009.0        Sports   \n",
              "4           Pokemon Red/Pokemon Blue       GB           1996.0  Role-Playing   \n",
              "...                              ...      ...              ...           ...   \n",
              "16710  Samurai Warriors: Sanada Maru      PS3           2016.0        Action   \n",
              "16711               LMA Manager 2007     X360           2006.0        Sports   \n",
              "16712        Haitaka no Psychedelica      PSV           2016.0     Adventure   \n",
              "16713               Spirits & Spells      GBA           2003.0      Platform   \n",
              "16714            Winning Post 8 2016      PSV           2016.0    Simulation   \n",
              "\n",
              "       NA_sales  EU_sales  JP_sales  Other_sales  Critic_Score User_Score  \\\n",
              "0         41.36     28.96      3.77         8.45          76.0          8   \n",
              "1         29.08      3.58      6.81         0.77           NaN        NaN   \n",
              "2         15.68     12.76      3.79         3.29          82.0        8.3   \n",
              "3         15.61     10.93      3.28         2.95          80.0          8   \n",
              "4         11.27      8.89     10.22         1.00           NaN        NaN   \n",
              "...         ...       ...       ...          ...           ...        ...   \n",
              "16710      0.00      0.00      0.01         0.00           NaN        NaN   \n",
              "16711      0.00      0.01      0.00         0.00           NaN        NaN   \n",
              "16712      0.00      0.00      0.01         0.00           NaN        NaN   \n",
              "16713      0.01      0.00      0.00         0.00           NaN        NaN   \n",
              "16714      0.00      0.00      0.01         0.00           NaN        NaN   \n",
              "\n",
              "      Rating  \n",
              "0          E  \n",
              "1        NaN  \n",
              "2          E  \n",
              "3          E  \n",
              "4        NaN  \n",
              "...      ...  \n",
              "16710    NaN  \n",
              "16711    NaN  \n",
              "16712    NaN  \n",
              "16713    NaN  \n",
              "16714    NaN  \n",
              "\n",
              "[16715 rows x 11 columns]"
            ]
          },
          "execution_count": 2,
          "metadata": {},
          "output_type": "execute_result"
        }
      ],
      "execution_count": 2
    },
    {
      "cell_type": "code",
      "source": "df.info()",
      "metadata": {
        "scrolled": true
      },
      "outputs": [
        {
          "name": "stdout",
          "output_type": "stream",
          "text": [
            "<class 'pandas.core.frame.DataFrame'>\n",
            "RangeIndex: 16715 entries, 0 to 16714\n",
            "Data columns (total 11 columns):\n",
            " #   Column           Non-Null Count  Dtype  \n",
            "---  ------           --------------  -----  \n",
            " 0   Name             16713 non-null  object \n",
            " 1   Platform         16715 non-null  object \n",
            " 2   Year_of_Release  16446 non-null  float64\n",
            " 3   Genre            16713 non-null  object \n",
            " 4   NA_sales         16715 non-null  float64\n",
            " 5   EU_sales         16715 non-null  float64\n",
            " 6   JP_sales         16715 non-null  float64\n",
            " 7   Other_sales      16715 non-null  float64\n",
            " 8   Critic_Score     8137 non-null   float64\n",
            " 9   User_Score       10014 non-null  object \n",
            " 10  Rating           9949 non-null   object \n",
            "dtypes: float64(6), object(5)\n",
            "memory usage: 1.4+ MB\n"
          ]
        }
      ],
      "execution_count": 3
    },
    {
      "cell_type": "code",
      "source": "df['Year_of_Release'].unique()",
      "metadata": {},
      "outputs": [
        {
          "data": {
            "text/plain": [
              "array([2006., 1985., 2008., 2009., 1996., 1989., 1984., 2005., 1999.,\n",
              "       2007., 2010., 2013., 2004., 1990., 1988., 2002., 2001., 2011.,\n",
              "       1998., 2015., 2012., 2014., 1992., 1997., 1993., 1994., 1982.,\n",
              "       2016., 2003., 1986., 2000.,   nan, 1995., 1991., 1981., 1987.,\n",
              "       1980., 1983.])"
            ]
          },
          "execution_count": 4,
          "metadata": {},
          "output_type": "execute_result"
        }
      ],
      "execution_count": 4
    },
    {
      "cell_type": "code",
      "source": "df['User_Score'].unique()",
      "metadata": {},
      "outputs": [
        {
          "data": {
            "text/plain": [
              "array(['8', nan, '8.3', '8.5', '6.6', '8.4', '8.6', '7.7', '6.3', '7.4',\n",
              "       '8.2', '9', '7.9', '8.1', '8.7', '7.1', '3.4', '5.3', '4.8', '3.2',\n",
              "       '8.9', '6.4', '7.8', '7.5', '2.6', '7.2', '9.2', '7', '7.3', '4.3',\n",
              "       '7.6', '5.7', '5', '9.1', '6.5', 'tbd', '8.8', '6.9', '9.4', '6.8',\n",
              "       '6.1', '6.7', '5.4', '4', '4.9', '4.5', '9.3', '6.2', '4.2', '6',\n",
              "       '3.7', '4.1', '5.8', '5.6', '5.5', '4.4', '4.6', '5.9', '3.9',\n",
              "       '3.1', '2.9', '5.2', '3.3', '4.7', '5.1', '3.5', '2.5', '1.9', '3',\n",
              "       '2.7', '2.2', '2', '9.5', '2.1', '3.6', '2.8', '1.8', '3.8', '0',\n",
              "       '1.6', '9.6', '2.4', '1.7', '1.1', '0.3', '1.5', '0.7', '1.2',\n",
              "       '2.3', '0.5', '1.3', '0.2', '0.6', '1.4', '0.9', '1', '9.7'],\n",
              "      dtype=object)"
            ]
          },
          "execution_count": 5,
          "metadata": {},
          "output_type": "execute_result"
        }
      ],
      "execution_count": 5
    },
    {
      "cell_type": "code",
      "source": "df.isna().sum()",
      "metadata": {},
      "outputs": [
        {
          "data": {
            "text/plain": [
              "Name                  2\n",
              "Platform              0\n",
              "Year_of_Release     269\n",
              "Genre                 2\n",
              "NA_sales              0\n",
              "EU_sales              0\n",
              "JP_sales              0\n",
              "Other_sales           0\n",
              "Critic_Score       8578\n",
              "User_Score         6701\n",
              "Rating             6766\n",
              "dtype: int64"
            ]
          },
          "execution_count": 6,
          "metadata": {},
          "output_type": "execute_result"
        }
      ],
      "execution_count": 6
    },
    {
      "cell_type": "code",
      "source": "for col in df.columns:\n    pct_missing = np.mean(df[col].isnull())\n    print('{} - {}%'.format(col, round(pct_missing*100)))",
      "metadata": {},
      "outputs": [
        {
          "name": "stdout",
          "output_type": "stream",
          "text": [
            "Name - 0%\n",
            "Platform - 0%\n",
            "Year_of_Release - 2%\n",
            "Genre - 0%\n",
            "NA_sales - 0%\n",
            "EU_sales - 0%\n",
            "JP_sales - 0%\n",
            "Other_sales - 0%\n",
            "Critic_Score - 51%\n",
            "User_Score - 40%\n",
            "Rating - 40%\n"
          ]
        }
      ],
      "execution_count": 7
    },
    {
      "cell_type": "code",
      "source": "df.isna().mean()",
      "metadata": {},
      "outputs": [],
      "execution_count": null
    },
    {
      "cell_type": "markdown",
      "source": "**Вывод:**  \n1. Названия столбцов нужно привести к нижнему регистру\n2. Столбец с годами релиза стоит привести к целочисленному типу, после того, как удалим все NaN (их всего 269 => можно пожертвовать этими строками); в столбце User_Score нужно что-то придумать с переменной tbd (to be determined) и далее привести к вещественному типу (количественная переменная)\n3. Также стоит удалить строки с пропущенными значениями в столбцах Name и Genre (их куда меньше 1%)",
      "metadata": {}
    },
    {
      "cell_type": "markdown",
      "source": "# Шаг 2. Подготовка данных",
      "metadata": {}
    },
    {
      "cell_type": "code",
      "source": "df.columns = df.columns.str.lower()\ndf.columns",
      "metadata": {},
      "outputs": [
        {
          "data": {
            "text/plain": [
              "Index(['name', 'platform', 'year_of_release', 'genre', 'na_sales', 'eu_sales',\n",
              "       'jp_sales', 'other_sales', 'critic_score', 'user_score', 'rating'],\n",
              "      dtype='object')"
            ]
          },
          "execution_count": 8,
          "metadata": {},
          "output_type": "execute_result"
        }
      ],
      "execution_count": 8
    },
    {
      "cell_type": "code",
      "source": "df.duplicated().sum()",
      "metadata": {},
      "outputs": [
        {
          "data": {
            "text/plain": [
              "0"
            ]
          },
          "execution_count": 9,
          "metadata": {},
          "output_type": "execute_result"
        }
      ],
      "execution_count": 9
    },
    {
      "cell_type": "markdown",
      "source": "Выбросим пропуски из столбцов, где их очень мало:",
      "metadata": {}
    },
    {
      "cell_type": "code",
      "source": "df = df.dropna(subset=['year_of_release'])\ndf = df.dropna(subset=['genre'])\ndf.isna().sum()",
      "metadata": {},
      "outputs": [
        {
          "data": {
            "text/plain": [
              "name                  0\n",
              "platform              0\n",
              "year_of_release       0\n",
              "genre                 0\n",
              "na_sales              0\n",
              "eu_sales              0\n",
              "jp_sales              0\n",
              "other_sales           0\n",
              "critic_score       8461\n",
              "user_score         6605\n",
              "rating             6676\n",
              "dtype: int64"
            ]
          },
          "execution_count": 10,
          "metadata": {},
          "output_type": "execute_result"
        }
      ],
      "execution_count": 10
    },
    {
      "cell_type": "markdown",
      "source": "Год релиза приводим к целочисленному типу т.к. год - дискретная величина:",
      "metadata": {}
    },
    {
      "cell_type": "code",
      "source": "df.loc[:, 'year_of_release'] = df['year_of_release'].astype(int)",
      "metadata": {},
      "outputs": [],
      "execution_count": 11
    },
    {
      "cell_type": "code",
      "source": "df['user_score'].unique()",
      "metadata": {},
      "outputs": [
        {
          "data": {
            "text/plain": [
              "array(['8', nan, '8.3', '8.5', '6.6', '8.4', '8.6', '7.7', '6.3', '7.4',\n",
              "       '8.2', '9', '7.9', '8.1', '8.7', '7.1', '3.4', '5.3', '4.8', '3.2',\n",
              "       '8.9', '6.4', '7.8', '7.5', '2.6', '7.2', '9.2', '7', '7.3', '4.3',\n",
              "       '7.6', '5.7', '5', '9.1', '6.5', 'tbd', '8.8', '6.9', '9.4', '6.8',\n",
              "       '6.1', '6.7', '5.4', '4', '4.9', '4.5', '9.3', '6.2', '4.2', '6',\n",
              "       '3.7', '4.1', '5.8', '5.6', '5.5', '4.4', '4.6', '5.9', '3.9',\n",
              "       '3.1', '2.9', '5.2', '3.3', '4.7', '5.1', '3.5', '2.5', '1.9', '3',\n",
              "       '2.7', '2.2', '2', '9.5', '2.1', '3.6', '2.8', '1.8', '3.8', '0',\n",
              "       '1.6', '9.6', '2.4', '1.7', '1.1', '0.3', '1.5', '0.7', '1.2',\n",
              "       '2.3', '0.5', '1.3', '0.2', '0.6', '1.4', '0.9', '1', '9.7'],\n",
              "      dtype=object)"
            ]
          },
          "execution_count": 12,
          "metadata": {},
          "output_type": "execute_result"
        }
      ],
      "execution_count": 12
    },
    {
      "cell_type": "markdown",
      "source": "Столбец `user_score`, кажется должен содержать вещественные числа, но также содержит nan и tbd\n<br>nan'ов много, рассмотрим tbd (to be determined):",
      "metadata": {}
    },
    {
      "cell_type": "code",
      "source": "len(df.query('user_score == \"tbd\"'))",
      "metadata": {},
      "outputs": [
        {
          "data": {
            "text/plain": [
              "2376"
            ]
          },
          "execution_count": 13,
          "metadata": {},
          "output_type": "execute_result"
        }
      ],
      "execution_count": 13
    },
    {
      "cell_type": "code",
      "source": "df.loc[df['user_score'] == 'tbd', 'user_score'] = np.nan\ndf['user_score'] = df['user_score'].astype(float)\n\nlen(df.query('user_score == \"tbd\"'))",
      "metadata": {
        "scrolled": true
      },
      "outputs": [
        {
          "data": {
            "text/plain": [
              "0"
            ]
          },
          "execution_count": 14,
          "metadata": {},
          "output_type": "execute_result"
        }
      ],
      "execution_count": 14
    },
    {
      "cell_type": "code",
      "source": "df['total_sales'] = df[['na_sales','eu_sales', 'jp_sales','other_sales']].sum(axis=1)\ndf.head()",
      "metadata": {},
      "outputs": [
        {
          "data": {
            "text/html": [
              "<div>\n",
              "<style scoped>\n",
              "    .dataframe tbody tr th:only-of-type {\n",
              "        vertical-align: middle;\n",
              "    }\n",
              "\n",
              "    .dataframe tbody tr th {\n",
              "        vertical-align: top;\n",
              "    }\n",
              "\n",
              "    .dataframe thead th {\n",
              "        text-align: right;\n",
              "    }\n",
              "</style>\n",
              "<table border=\"1\" class=\"dataframe\">\n",
              "  <thead>\n",
              "    <tr style=\"text-align: right;\">\n",
              "      <th></th>\n",
              "      <th>name</th>\n",
              "      <th>platform</th>\n",
              "      <th>year_of_release</th>\n",
              "      <th>genre</th>\n",
              "      <th>na_sales</th>\n",
              "      <th>eu_sales</th>\n",
              "      <th>jp_sales</th>\n",
              "      <th>other_sales</th>\n",
              "      <th>critic_score</th>\n",
              "      <th>user_score</th>\n",
              "      <th>rating</th>\n",
              "      <th>total_sales</th>\n",
              "    </tr>\n",
              "  </thead>\n",
              "  <tbody>\n",
              "    <tr>\n",
              "      <th>0</th>\n",
              "      <td>Wii Sports</td>\n",
              "      <td>Wii</td>\n",
              "      <td>2006</td>\n",
              "      <td>Sports</td>\n",
              "      <td>41.36</td>\n",
              "      <td>28.96</td>\n",
              "      <td>3.77</td>\n",
              "      <td>8.45</td>\n",
              "      <td>76.0</td>\n",
              "      <td>8.0</td>\n",
              "      <td>E</td>\n",
              "      <td>82.54</td>\n",
              "    </tr>\n",
              "    <tr>\n",
              "      <th>1</th>\n",
              "      <td>Super Mario Bros.</td>\n",
              "      <td>NES</td>\n",
              "      <td>1985</td>\n",
              "      <td>Platform</td>\n",
              "      <td>29.08</td>\n",
              "      <td>3.58</td>\n",
              "      <td>6.81</td>\n",
              "      <td>0.77</td>\n",
              "      <td>NaN</td>\n",
              "      <td>NaN</td>\n",
              "      <td>NaN</td>\n",
              "      <td>40.24</td>\n",
              "    </tr>\n",
              "    <tr>\n",
              "      <th>2</th>\n",
              "      <td>Mario Kart Wii</td>\n",
              "      <td>Wii</td>\n",
              "      <td>2008</td>\n",
              "      <td>Racing</td>\n",
              "      <td>15.68</td>\n",
              "      <td>12.76</td>\n",
              "      <td>3.79</td>\n",
              "      <td>3.29</td>\n",
              "      <td>82.0</td>\n",
              "      <td>8.3</td>\n",
              "      <td>E</td>\n",
              "      <td>35.52</td>\n",
              "    </tr>\n",
              "    <tr>\n",
              "      <th>3</th>\n",
              "      <td>Wii Sports Resort</td>\n",
              "      <td>Wii</td>\n",
              "      <td>2009</td>\n",
              "      <td>Sports</td>\n",
              "      <td>15.61</td>\n",
              "      <td>10.93</td>\n",
              "      <td>3.28</td>\n",
              "      <td>2.95</td>\n",
              "      <td>80.0</td>\n",
              "      <td>8.0</td>\n",
              "      <td>E</td>\n",
              "      <td>32.77</td>\n",
              "    </tr>\n",
              "    <tr>\n",
              "      <th>4</th>\n",
              "      <td>Pokemon Red/Pokemon Blue</td>\n",
              "      <td>GB</td>\n",
              "      <td>1996</td>\n",
              "      <td>Role-Playing</td>\n",
              "      <td>11.27</td>\n",
              "      <td>8.89</td>\n",
              "      <td>10.22</td>\n",
              "      <td>1.00</td>\n",
              "      <td>NaN</td>\n",
              "      <td>NaN</td>\n",
              "      <td>NaN</td>\n",
              "      <td>31.38</td>\n",
              "    </tr>\n",
              "  </tbody>\n",
              "</table>\n",
              "</div>"
            ],
            "text/plain": [
              "                       name platform  year_of_release         genre  na_sales  \\\n",
              "0                Wii Sports      Wii             2006        Sports     41.36   \n",
              "1         Super Mario Bros.      NES             1985      Platform     29.08   \n",
              "2            Mario Kart Wii      Wii             2008        Racing     15.68   \n",
              "3         Wii Sports Resort      Wii             2009        Sports     15.61   \n",
              "4  Pokemon Red/Pokemon Blue       GB             1996  Role-Playing     11.27   \n",
              "\n",
              "   eu_sales  jp_sales  other_sales  critic_score  user_score rating  \\\n",
              "0     28.96      3.77         8.45          76.0         8.0      E   \n",
              "1      3.58      6.81         0.77           NaN         NaN    NaN   \n",
              "2     12.76      3.79         3.29          82.0         8.3      E   \n",
              "3     10.93      3.28         2.95          80.0         8.0      E   \n",
              "4      8.89     10.22         1.00           NaN         NaN    NaN   \n",
              "\n",
              "   total_sales  \n",
              "0        82.54  \n",
              "1        40.24  \n",
              "2        35.52  \n",
              "3        32.77  \n",
              "4        31.38  "
            ]
          },
          "execution_count": 15,
          "metadata": {},
          "output_type": "execute_result"
        }
      ],
      "execution_count": 15
    },
    {
      "cell_type": "code",
      "source": "df.isna().sum()",
      "metadata": {},
      "outputs": [
        {
          "data": {
            "text/plain": [
              "name                  0\n",
              "platform              0\n",
              "year_of_release       0\n",
              "genre                 0\n",
              "na_sales              0\n",
              "eu_sales              0\n",
              "jp_sales              0\n",
              "other_sales           0\n",
              "critic_score       8461\n",
              "user_score         8981\n",
              "rating             6676\n",
              "total_sales           0\n",
              "dtype: int64"
            ]
          },
          "execution_count": 16,
          "metadata": {},
          "output_type": "execute_result"
        }
      ],
      "execution_count": 16
    },
    {
      "cell_type": "markdown",
      "source": "**Вывод:**\n1. Столбцы приведены к нижнему регистру для удобства\n2. Удалены строки с пропущенными значениями в столбцах, где пропуски занимали < 2% данных\n3. Загадочное tbd в столбце с рейтингом пользователей `user_score` было заменено на NaN\n4. Добавлен столбец с суммарными продажами во всех регионах\n5. Пропущенные значения в столбцах `critic_score`, `user_score` и `rating` оставлены как есть т.к. их очень много (> 38%) и чтобы их заполнить нужно учесть огромное число факторов, медианой или средним тут не обойтись",
      "metadata": {}
    },
    {
      "cell_type": "markdown",
      "source": "# Шаг 3. Исследовательский анализ данных",
      "metadata": {}
    },
    {
      "cell_type": "markdown",
      "source": "Игры, выпущенные в разные годы:",
      "metadata": {}
    },
    {
      "cell_type": "code",
      "source": "year_count = pd.pivot_table(df, index='year_of_release', values='name', aggfunc='count')\nyear_count.columns = ['games_count']\nyear_count.head()",
      "metadata": {},
      "outputs": [
        {
          "data": {
            "text/html": [
              "<div>\n",
              "<style scoped>\n",
              "    .dataframe tbody tr th:only-of-type {\n",
              "        vertical-align: middle;\n",
              "    }\n",
              "\n",
              "    .dataframe tbody tr th {\n",
              "        vertical-align: top;\n",
              "    }\n",
              "\n",
              "    .dataframe thead th {\n",
              "        text-align: right;\n",
              "    }\n",
              "</style>\n",
              "<table border=\"1\" class=\"dataframe\">\n",
              "  <thead>\n",
              "    <tr style=\"text-align: right;\">\n",
              "      <th></th>\n",
              "      <th>games_count</th>\n",
              "    </tr>\n",
              "    <tr>\n",
              "      <th>year_of_release</th>\n",
              "      <th></th>\n",
              "    </tr>\n",
              "  </thead>\n",
              "  <tbody>\n",
              "    <tr>\n",
              "      <th>1980</th>\n",
              "      <td>9</td>\n",
              "    </tr>\n",
              "    <tr>\n",
              "      <th>1981</th>\n",
              "      <td>46</td>\n",
              "    </tr>\n",
              "    <tr>\n",
              "      <th>1982</th>\n",
              "      <td>36</td>\n",
              "    </tr>\n",
              "    <tr>\n",
              "      <th>1983</th>\n",
              "      <td>17</td>\n",
              "    </tr>\n",
              "    <tr>\n",
              "      <th>1984</th>\n",
              "      <td>14</td>\n",
              "    </tr>\n",
              "  </tbody>\n",
              "</table>\n",
              "</div>"
            ],
            "text/plain": [
              "                 games_count\n",
              "year_of_release             \n",
              "1980                       9\n",
              "1981                      46\n",
              "1982                      36\n",
              "1983                      17\n",
              "1984                      14"
            ]
          },
          "execution_count": 17,
          "metadata": {},
          "output_type": "execute_result"
        }
      ],
      "execution_count": 17
    },
    {
      "cell_type": "code",
      "source": "ax = year_count.plot()\nax.set_xlabel('Год выпуска')\nax.set_ylabel('Количество выпущенных игр')",
      "metadata": {},
      "outputs": [
        {
          "data": {
            "text/plain": [
              "Text(0, 0.5, 'Количество выпущенных игр')"
            ]
          },
          "execution_count": 18,
          "metadata": {},
          "output_type": "execute_result"
        },
        {
          "data": {
            "image/png": "[encoded data removed]",
            "text/plain": [
              "<Figure size 432x288 with 1 Axes>"
            ]
          },
          "metadata": {
            "needs_background": "light"
          },
          "output_type": "display_data"
        }
      ],
      "execution_count": 18
    },
    {
      "cell_type": "markdown",
      "source": "**Вывод:** Не все данные за все периоды являются значимыми. Так, например, до 1995 года было выпущено небольшое количество игр и они не были так популярны и доступны среди пользователей. Пик в 2010 году обусловлен популярностью к компьютерным играм и большей доступностью (внедрение PC)",
      "metadata": {}
    },
    {
      "cell_type": "code",
      "source": "# Суммарные продажи по платформам\nplatform_sales = df.groupby(['platform'])['total_sales'].sum().sort_values(ascending = False)\ntop_platforms = platform_sales.head(7)\ndict_platforms  =  top_platforms.reset_index()['platform']",
      "metadata": {},
      "outputs": [],
      "execution_count": 19
    },
    {
      "cell_type": "code",
      "source": "platform_sales",
      "metadata": {},
      "outputs": [
        {
          "data": {
            "text/plain": [
              "platform\n",
              "PS2     1233.56\n",
              "X360     961.24\n",
              "PS3      931.34\n",
              "Wii      891.18\n",
              "DS       802.78\n",
              "PS       727.58\n",
              "PS4      314.14\n",
              "GBA      312.88\n",
              "PSP      289.53\n",
              "3DS      257.81\n",
              "PC       255.76\n",
              "GB       254.43\n",
              "XB       251.57\n",
              "NES      251.05\n",
              "N64      218.01\n",
              "SNES     200.04\n",
              "GC       196.73\n",
              "XOne     159.32\n",
              "2600      86.48\n",
              "WiiU      82.19\n",
              "PSV       53.81\n",
              "SAT       33.59\n",
              "GEN       28.35\n",
              "DC        15.95\n",
              "SCD        1.86\n",
              "NG         1.44\n",
              "WS         1.42\n",
              "TG16       0.16\n",
              "3DO        0.10\n",
              "GG         0.04\n",
              "PCFX       0.03\n",
              "Name: total_sales, dtype: float64"
            ]
          },
          "execution_count": 20,
          "metadata": {},
          "output_type": "execute_result"
        }
      ],
      "execution_count": 20
    },
    {
      "cell_type": "code",
      "source": "platform_sales.reset_index().columns",
      "metadata": {},
      "outputs": [
        {
          "data": {
            "text/plain": [
              "Index(['platform', 'total_sales'], dtype='object')"
            ]
          },
          "execution_count": 21,
          "metadata": {},
          "output_type": "execute_result"
        }
      ],
      "execution_count": 21
    },
    {
      "cell_type": "code",
      "source": "fig, ax = plt.subplots(figsize=(18, 10))\nsns.barplot(x='platform', y='total_sales', data=platform_sales.reset_index(), color='b')\n\nax.set_xlabel('Платформы')\nax.set_ylabel('Глобальные продажи, млн. копий')\nax.set_title('Продажи по платформам в мире')",
      "metadata": {},
      "outputs": [
        {
          "data": {
            "text/plain": [
              "Text(0.5, 1.0, 'Продажи по платформам в мире')"
            ]
          },
          "execution_count": 22,
          "metadata": {},
          "output_type": "execute_result"
        },
        {
          "data": {
            "image/png": "[encoded data removed]",
            "text/plain": [
              "<Figure size 1296x720 with 1 Axes>"
            ]
          },
          "metadata": {
            "needs_background": "light"
          },
          "output_type": "display_data"
        }
      ],
      "execution_count": 22
    },
    {
      "cell_type": "code",
      "source": "platforms = df.query('platform in @top_platforms.index')[['year_of_release' , 'platform']].groupby('platform')\nfor platform, platforms_df in platforms:\n    fig, ax = plt.subplots(figsize=(10, 12))\n    subset = platforms.get_group(platform) \n    subset['year_of_release'].plot(kind='density', grid=True, figsize = (15,7),\n                                    linewidth=3, xlim=(1993, 2018))\n    ax.set_xlabel('Год продажи')\n    ax.set_ylabel('Глобальные продажи, млн. копий')\n    ax.set_title('Продажи по годам платформы ' + platform)\n    \n    plt.show()",
      "metadata": {},
      "outputs": [
        {
          "data": {
            "image/png": "[encoded data removed]",
            "text/plain": [
              "<Figure size 1080x504 with 1 Axes>"
            ]
          },
          "metadata": {
            "needs_background": "light"
          },
          "output_type": "display_data"
        },
        {
          "data": {
            "image/png": "[encoded data removed]",
            "text/plain": [
              "<Figure size 1080x504 with 1 Axes>"
            ]
          },
          "metadata": {
            "needs_background": "light"
          },
          "output_type": "display_data"
        },
        {
          "data": {
            "image/png": "[encoded data removed]",
            "text/plain": [
              "<Figure size 1080x504 with 1 Axes>"
            ]
          },
          "metadata": {
            "needs_background": "light"
          },
          "output_type": "display_data"
        },
        {
          "data": {
            "image/png": "[encoded data removed]",
            "text/plain": [
              "<Figure size 1080x504 with 1 Axes>"
            ]
          },
          "metadata": {
            "needs_background": "light"
          },
          "output_type": "display_data"
        },
        {
          "data": {
            "image/png": "[encoded data removed]",
            "text/plain": [
              "<Figure size 1080x504 with 1 Axes>"
            ]
          },
          "metadata": {
            "needs_background": "light"
          },
          "output_type": "display_data"
        },
        {
          "data": {
            "image/png": "[encoded data removed]",
            "text/plain": [
              "<Figure size 1080x504 with 1 Axes>"
            ]
          },
          "metadata": {
            "needs_background": "light"
          },
          "output_type": "display_data"
        },
        {
          "data": {
            "image/png": "[encoded data removed]",
            "text/plain": [
              "<Figure size 1080x504 with 1 Axes>"
            ]
          },
          "metadata": {
            "needs_background": "light"
          },
          "output_type": "display_data"
        }
      ],
      "execution_count": 23
    },
    {
      "cell_type": "markdown",
      "source": "**Вывод:**  Из графиков видно, что появляются и исчезают новые платформы примерно 10 лет\n<br> В качестве актуального периода возьмём 2010 год",
      "metadata": {}
    },
    {
      "cell_type": "code",
      "source": "actual_period = df.query('year_of_release > 2010')\nactual_period.head()",
      "metadata": {},
      "outputs": [
        {
          "data": {
            "text/html": [
              "<div>\n",
              "<style scoped>\n",
              "    .dataframe tbody tr th:only-of-type {\n",
              "        vertical-align: middle;\n",
              "    }\n",
              "\n",
              "    .dataframe tbody tr th {\n",
              "        vertical-align: top;\n",
              "    }\n",
              "\n",
              "    .dataframe thead th {\n",
              "        text-align: right;\n",
              "    }\n",
              "</style>\n",
              "<table border=\"1\" class=\"dataframe\">\n",
              "  <thead>\n",
              "    <tr style=\"text-align: right;\">\n",
              "      <th></th>\n",
              "      <th>name</th>\n",
              "      <th>platform</th>\n",
              "      <th>year_of_release</th>\n",
              "      <th>genre</th>\n",
              "      <th>na_sales</th>\n",
              "      <th>eu_sales</th>\n",
              "      <th>jp_sales</th>\n",
              "      <th>other_sales</th>\n",
              "      <th>critic_score</th>\n",
              "      <th>user_score</th>\n",
              "      <th>rating</th>\n",
              "      <th>total_sales</th>\n",
              "    </tr>\n",
              "  </thead>\n",
              "  <tbody>\n",
              "    <tr>\n",
              "      <th>16</th>\n",
              "      <td>Grand Theft Auto V</td>\n",
              "      <td>PS3</td>\n",
              "      <td>2013</td>\n",
              "      <td>Action</td>\n",
              "      <td>7.02</td>\n",
              "      <td>9.09</td>\n",
              "      <td>0.98</td>\n",
              "      <td>3.96</td>\n",
              "      <td>97.0</td>\n",
              "      <td>8.2</td>\n",
              "      <td>M</td>\n",
              "      <td>21.05</td>\n",
              "    </tr>\n",
              "    <tr>\n",
              "      <th>23</th>\n",
              "      <td>Grand Theft Auto V</td>\n",
              "      <td>X360</td>\n",
              "      <td>2013</td>\n",
              "      <td>Action</td>\n",
              "      <td>9.66</td>\n",
              "      <td>5.14</td>\n",
              "      <td>0.06</td>\n",
              "      <td>1.41</td>\n",
              "      <td>97.0</td>\n",
              "      <td>8.1</td>\n",
              "      <td>M</td>\n",
              "      <td>16.27</td>\n",
              "    </tr>\n",
              "    <tr>\n",
              "      <th>29</th>\n",
              "      <td>Call of Duty: Modern Warfare 3</td>\n",
              "      <td>X360</td>\n",
              "      <td>2011</td>\n",
              "      <td>Shooter</td>\n",
              "      <td>9.04</td>\n",
              "      <td>4.24</td>\n",
              "      <td>0.13</td>\n",
              "      <td>1.32</td>\n",
              "      <td>88.0</td>\n",
              "      <td>3.4</td>\n",
              "      <td>M</td>\n",
              "      <td>14.73</td>\n",
              "    </tr>\n",
              "    <tr>\n",
              "      <th>31</th>\n",
              "      <td>Call of Duty: Black Ops 3</td>\n",
              "      <td>PS4</td>\n",
              "      <td>2015</td>\n",
              "      <td>Shooter</td>\n",
              "      <td>6.03</td>\n",
              "      <td>5.86</td>\n",
              "      <td>0.36</td>\n",
              "      <td>2.38</td>\n",
              "      <td>NaN</td>\n",
              "      <td>NaN</td>\n",
              "      <td>NaN</td>\n",
              "      <td>14.63</td>\n",
              "    </tr>\n",
              "    <tr>\n",
              "      <th>33</th>\n",
              "      <td>Pokemon X/Pokemon Y</td>\n",
              "      <td>3DS</td>\n",
              "      <td>2013</td>\n",
              "      <td>Role-Playing</td>\n",
              "      <td>5.28</td>\n",
              "      <td>4.19</td>\n",
              "      <td>4.35</td>\n",
              "      <td>0.78</td>\n",
              "      <td>NaN</td>\n",
              "      <td>NaN</td>\n",
              "      <td>NaN</td>\n",
              "      <td>14.60</td>\n",
              "    </tr>\n",
              "  </tbody>\n",
              "</table>\n",
              "</div>"
            ],
            "text/plain": [
              "                              name platform  year_of_release         genre  \\\n",
              "16              Grand Theft Auto V      PS3             2013        Action   \n",
              "23              Grand Theft Auto V     X360             2013        Action   \n",
              "29  Call of Duty: Modern Warfare 3     X360             2011       Shooter   \n",
              "31       Call of Duty: Black Ops 3      PS4             2015       Shooter   \n",
              "33             Pokemon X/Pokemon Y      3DS             2013  Role-Playing   \n",
              "\n",
              "    na_sales  eu_sales  jp_sales  other_sales  critic_score  user_score  \\\n",
              "16      7.02      9.09      0.98         3.96          97.0         8.2   \n",
              "23      9.66      5.14      0.06         1.41          97.0         8.1   \n",
              "29      9.04      4.24      0.13         1.32          88.0         3.4   \n",
              "31      6.03      5.86      0.36         2.38           NaN         NaN   \n",
              "33      5.28      4.19      4.35         0.78           NaN         NaN   \n",
              "\n",
              "   rating  total_sales  \n",
              "16      M        21.05  \n",
              "23      M        16.27  \n",
              "29      M        14.73  \n",
              "31    NaN        14.63  \n",
              "33    NaN        14.60  "
            ]
          },
          "execution_count": 24,
          "metadata": {},
          "output_type": "execute_result"
        }
      ],
      "execution_count": 24
    },
    {
      "cell_type": "code",
      "source": "# Платформы, лидирующие по продажам\n\ntop_purchases = actual_period.groupby('platform')['total_sales'].sum().sort_values(ascending = False )\ntop_purchases",
      "metadata": {},
      "outputs": [
        {
          "data": {
            "text/plain": [
              "platform\n",
              "PS3     445.57\n",
              "X360    380.38\n",
              "PS4     314.14\n",
              "3DS     257.81\n",
              "XOne    159.32\n",
              "PC       97.68\n",
              "Wii      95.02\n",
              "WiiU     82.19\n",
              "PSV      53.81\n",
              "DS       38.73\n",
              "PSP      29.01\n",
              "PS2       0.45\n",
              "Name: total_sales, dtype: float64"
            ]
          },
          "execution_count": 25,
          "metadata": {},
          "output_type": "execute_result"
        }
      ],
      "execution_count": 25
    },
    {
      "cell_type": "code",
      "source": "best_sales_platform = pd.pivot_table(actual_period, index=['platform','year_of_release'],\n                                     values='total_sales', aggfunc='sum')\nbest_sales_platform.head(10)\n",
      "metadata": {},
      "outputs": [
        {
          "data": {
            "text/html": [
              "<div>\n",
              "<style scoped>\n",
              "    .dataframe tbody tr th:only-of-type {\n",
              "        vertical-align: middle;\n",
              "    }\n",
              "\n",
              "    .dataframe tbody tr th {\n",
              "        vertical-align: top;\n",
              "    }\n",
              "\n",
              "    .dataframe thead th {\n",
              "        text-align: right;\n",
              "    }\n",
              "</style>\n",
              "<table border=\"1\" class=\"dataframe\">\n",
              "  <thead>\n",
              "    <tr style=\"text-align: right;\">\n",
              "      <th></th>\n",
              "      <th></th>\n",
              "      <th>total_sales</th>\n",
              "    </tr>\n",
              "    <tr>\n",
              "      <th>platform</th>\n",
              "      <th>year_of_release</th>\n",
              "      <th></th>\n",
              "    </tr>\n",
              "  </thead>\n",
              "  <tbody>\n",
              "    <tr>\n",
              "      <th rowspan=\"6\" valign=\"top\">3DS</th>\n",
              "      <th>2011</th>\n",
              "      <td>63.20</td>\n",
              "    </tr>\n",
              "    <tr>\n",
              "      <th>2012</th>\n",
              "      <td>51.36</td>\n",
              "    </tr>\n",
              "    <tr>\n",
              "      <th>2013</th>\n",
              "      <td>56.57</td>\n",
              "    </tr>\n",
              "    <tr>\n",
              "      <th>2014</th>\n",
              "      <td>43.76</td>\n",
              "    </tr>\n",
              "    <tr>\n",
              "      <th>2015</th>\n",
              "      <td>27.78</td>\n",
              "    </tr>\n",
              "    <tr>\n",
              "      <th>2016</th>\n",
              "      <td>15.14</td>\n",
              "    </tr>\n",
              "    <tr>\n",
              "      <th rowspan=\"3\" valign=\"top\">DS</th>\n",
              "      <th>2011</th>\n",
              "      <td>26.18</td>\n",
              "    </tr>\n",
              "    <tr>\n",
              "      <th>2012</th>\n",
              "      <td>11.01</td>\n",
              "    </tr>\n",
              "    <tr>\n",
              "      <th>2013</th>\n",
              "      <td>1.54</td>\n",
              "    </tr>\n",
              "    <tr>\n",
              "      <th>PC</th>\n",
              "      <th>2011</th>\n",
              "      <td>35.03</td>\n",
              "    </tr>\n",
              "  </tbody>\n",
              "</table>\n",
              "</div>"
            ],
            "text/plain": [
              "                          total_sales\n",
              "platform year_of_release             \n",
              "3DS      2011                   63.20\n",
              "         2012                   51.36\n",
              "         2013                   56.57\n",
              "         2014                   43.76\n",
              "         2015                   27.78\n",
              "         2016                   15.14\n",
              "DS       2011                   26.18\n",
              "         2012                   11.01\n",
              "         2013                    1.54\n",
              "PC       2011                   35.03"
            ]
          },
          "execution_count": 26,
          "metadata": {},
          "output_type": "execute_result"
        }
      ],
      "execution_count": 26
    },
    {
      "cell_type": "code",
      "source": "platforms = actual_period['platform'].unique()\nbest_sales_platform.reset_index(inplace=True)\nfor i in range(len(platforms)):\n    f, ax = plt.subplots(figsize=(20,10))\n    platform = platforms[i]\n    new_data = best_sales_platform.query('platform == @platform')\n    sns.barplot(x='year_of_release', y='total_sales', data=new_data, \n                label=platform, color='b')\n    ax.legend(loc='best', frameon=True)   \n    ax.set(ylabel='Продажи (млн.)',\n           xlabel='Год выпуска',\n           title='Количество продаж на '+ platforms[i])\n    plt.show()",
      "metadata": {},
      "outputs": [
        {
          "data": {
            "image/png": "[encoded data removed]",
            "text/plain": [
              "<Figure size 1440x720 with 1 Axes>"
            ]
          },
          "metadata": {
            "needs_background": "light"
          },
          "output_type": "display_data"
        },
        {
          "data": {
            "image/png": "[encoded data removed]",
            "text/plain": [
              "<Figure size 1440x720 with 1 Axes>"
            ]
          },
          "metadata": {
            "needs_background": "light"
          },
          "output_type": "display_data"
        },
        {
          "data": {
            "image/png": "[encoded data removed]",
            "text/plain": [
              "<Figure size 1440x720 with 1 Axes>"
            ]
          },
          "metadata": {
            "needs_background": "light"
          },
          "output_type": "display_data"
        },
        {
          "data": {
            "image/png": "[encoded data removed]",
            "text/plain": [
              "<Figure size 1440x720 with 1 Axes>"
            ]
          },
          "metadata": {
            "needs_background": "light"
          },
          "output_type": "display_data"
        },
        {
          "data": {
            "image/png": "[encoded data removed]",
            "text/plain": [
              "<Figure size 1440x720 with 1 Axes>"
            ]
          },
          "metadata": {
            "needs_background": "light"
          },
          "output_type": "display_data"
        },
        {
          "data": {
            "image/png": "[encoded data removed]",
            "text/plain": [
              "<Figure size 1440x720 with 1 Axes>"
            ]
          },
          "metadata": {
            "needs_background": "light"
          },
          "output_type": "display_data"
        },
        {
          "data": {
            "image/png": "[encoded data removed]",
            "text/plain": [
              "<Figure size 1440x720 with 1 Axes>"
            ]
          },
          "metadata": {
            "needs_background": "light"
          },
          "output_type": "display_data"
        },
        {
          "data": {
            "image/png": "[encoded data removed]",
            "text/plain": [
              "<Figure size 1440x720 with 1 Axes>"
            ]
          },
          "metadata": {
            "needs_background": "light"
          },
          "output_type": "display_data"
        },
        {
          "data": {
            "image/png": "[encoded data removed]",
            "text/plain": [
              "<Figure size 1440x720 with 1 Axes>"
            ]
          },
          "metadata": {
            "needs_background": "light"
          },
          "output_type": "display_data"
        },
        {
          "data": {
            "image/png": "[encoded data removed]",
            "text/plain": [
              "<Figure size 1440x720 with 1 Axes>"
            ]
          },
          "metadata": {
            "needs_background": "light"
          },
          "output_type": "display_data"
        },
        {
          "data": {
            "image/png": "[encoded data removed]",
            "text/plain": [
              "<Figure size 1440x720 with 1 Axes>"
            ]
          },
          "metadata": {
            "needs_background": "light"
          },
          "output_type": "display_data"
        },
        {
          "data": {
            "image/png": "[encoded data removed]",
            "text/plain": [
              "<Figure size 1440x720 with 1 Axes>"
            ]
          },
          "metadata": {
            "needs_background": "light"
          },
          "output_type": "display_data"
        }
      ],
      "execution_count": 27
    },
    {
      "cell_type": "code",
      "source": "new_dict = top_purchases.reset_index()['platform'][0:7]\ntop_platforms = actual_period.query('platform in @new_dict').reset_index()\ntop_platforms.head()",
      "metadata": {},
      "outputs": [
        {
          "data": {
            "text/html": [
              "<div>\n",
              "<style scoped>\n",
              "    .dataframe tbody tr th:only-of-type {\n",
              "        vertical-align: middle;\n",
              "    }\n",
              "\n",
              "    .dataframe tbody tr th {\n",
              "        vertical-align: top;\n",
              "    }\n",
              "\n",
              "    .dataframe thead th {\n",
              "        text-align: right;\n",
              "    }\n",
              "</style>\n",
              "<table border=\"1\" class=\"dataframe\">\n",
              "  <thead>\n",
              "    <tr style=\"text-align: right;\">\n",
              "      <th></th>\n",
              "      <th>index</th>\n",
              "      <th>name</th>\n",
              "      <th>platform</th>\n",
              "      <th>year_of_release</th>\n",
              "      <th>genre</th>\n",
              "      <th>na_sales</th>\n",
              "      <th>eu_sales</th>\n",
              "      <th>jp_sales</th>\n",
              "      <th>other_sales</th>\n",
              "      <th>critic_score</th>\n",
              "      <th>user_score</th>\n",
              "      <th>rating</th>\n",
              "      <th>total_sales</th>\n",
              "    </tr>\n",
              "  </thead>\n",
              "  <tbody>\n",
              "    <tr>\n",
              "      <th>0</th>\n",
              "      <td>16</td>\n",
              "      <td>Grand Theft Auto V</td>\n",
              "      <td>PS3</td>\n",
              "      <td>2013</td>\n",
              "      <td>Action</td>\n",
              "      <td>7.02</td>\n",
              "      <td>9.09</td>\n",
              "      <td>0.98</td>\n",
              "      <td>3.96</td>\n",
              "      <td>97.0</td>\n",
              "      <td>8.2</td>\n",
              "      <td>M</td>\n",
              "      <td>21.05</td>\n",
              "    </tr>\n",
              "    <tr>\n",
              "      <th>1</th>\n",
              "      <td>23</td>\n",
              "      <td>Grand Theft Auto V</td>\n",
              "      <td>X360</td>\n",
              "      <td>2013</td>\n",
              "      <td>Action</td>\n",
              "      <td>9.66</td>\n",
              "      <td>5.14</td>\n",
              "      <td>0.06</td>\n",
              "      <td>1.41</td>\n",
              "      <td>97.0</td>\n",
              "      <td>8.1</td>\n",
              "      <td>M</td>\n",
              "      <td>16.27</td>\n",
              "    </tr>\n",
              "    <tr>\n",
              "      <th>2</th>\n",
              "      <td>29</td>\n",
              "      <td>Call of Duty: Modern Warfare 3</td>\n",
              "      <td>X360</td>\n",
              "      <td>2011</td>\n",
              "      <td>Shooter</td>\n",
              "      <td>9.04</td>\n",
              "      <td>4.24</td>\n",
              "      <td>0.13</td>\n",
              "      <td>1.32</td>\n",
              "      <td>88.0</td>\n",
              "      <td>3.4</td>\n",
              "      <td>M</td>\n",
              "      <td>14.73</td>\n",
              "    </tr>\n",
              "    <tr>\n",
              "      <th>3</th>\n",
              "      <td>31</td>\n",
              "      <td>Call of Duty: Black Ops 3</td>\n",
              "      <td>PS4</td>\n",
              "      <td>2015</td>\n",
              "      <td>Shooter</td>\n",
              "      <td>6.03</td>\n",
              "      <td>5.86</td>\n",
              "      <td>0.36</td>\n",
              "      <td>2.38</td>\n",
              "      <td>NaN</td>\n",
              "      <td>NaN</td>\n",
              "      <td>NaN</td>\n",
              "      <td>14.63</td>\n",
              "    </tr>\n",
              "    <tr>\n",
              "      <th>4</th>\n",
              "      <td>33</td>\n",
              "      <td>Pokemon X/Pokemon Y</td>\n",
              "      <td>3DS</td>\n",
              "      <td>2013</td>\n",
              "      <td>Role-Playing</td>\n",
              "      <td>5.28</td>\n",
              "      <td>4.19</td>\n",
              "      <td>4.35</td>\n",
              "      <td>0.78</td>\n",
              "      <td>NaN</td>\n",
              "      <td>NaN</td>\n",
              "      <td>NaN</td>\n",
              "      <td>14.60</td>\n",
              "    </tr>\n",
              "  </tbody>\n",
              "</table>\n",
              "</div>"
            ],
            "text/plain": [
              "   index                            name platform  year_of_release  \\\n",
              "0     16              Grand Theft Auto V      PS3             2013   \n",
              "1     23              Grand Theft Auto V     X360             2013   \n",
              "2     29  Call of Duty: Modern Warfare 3     X360             2011   \n",
              "3     31       Call of Duty: Black Ops 3      PS4             2015   \n",
              "4     33             Pokemon X/Pokemon Y      3DS             2013   \n",
              "\n",
              "          genre  na_sales  eu_sales  jp_sales  other_sales  critic_score  \\\n",
              "0        Action      7.02      9.09      0.98         3.96          97.0   \n",
              "1        Action      9.66      5.14      0.06         1.41          97.0   \n",
              "2       Shooter      9.04      4.24      0.13         1.32          88.0   \n",
              "3       Shooter      6.03      5.86      0.36         2.38           NaN   \n",
              "4  Role-Playing      5.28      4.19      4.35         0.78           NaN   \n",
              "\n",
              "   user_score rating  total_sales  \n",
              "0         8.2      M        21.05  \n",
              "1         8.1      M        16.27  \n",
              "2         3.4      M        14.73  \n",
              "3         NaN    NaN        14.63  \n",
              "4         NaN    NaN        14.60  "
            ]
          },
          "execution_count": 28,
          "metadata": {},
          "output_type": "execute_result"
        }
      ],
      "execution_count": 28
    },
    {
      "cell_type": "code",
      "source": "top_platforms.boxplot(column=\"total_sales\", by=\"platform\", figsize = (15,7))\nplt.title('График продаж по отдельным платформам (млн)')\n_ = plt.ylim(0,2)",
      "metadata": {},
      "outputs": [
        {
          "data": {
            "image/png": "[encoded data removed]",
            "text/plain": [
              "<Figure size 1080x504 with 1 Axes>"
            ]
          },
          "metadata": {
            "needs_background": "light"
          },
          "output_type": "display_data"
        }
      ],
      "execution_count": 29
    },
    {
      "cell_type": "markdown",
      "source": "**Вывод:**\n* Медианы продаж различных платформ, в большинстве своём, находятся на примерно одном уровне, что может говорить о популярности всех платформ\n* Пиковые значения продаж достигли ~2млн",
      "metadata": {}
    },
    {
      "cell_type": "code",
      "source": "pc_data = actual_period.query('platform == \"PC\"')\npc_data_raiting = pc_data.loc[:, ['total_sales', 'critic_score', 'user_score']]\npc_data_raiting.head()",
      "metadata": {},
      "outputs": [
        {
          "data": {
            "text/html": [
              "<div>\n",
              "<style scoped>\n",
              "    .dataframe tbody tr th:only-of-type {\n",
              "        vertical-align: middle;\n",
              "    }\n",
              "\n",
              "    .dataframe tbody tr th {\n",
              "        vertical-align: top;\n",
              "    }\n",
              "\n",
              "    .dataframe thead th {\n",
              "        text-align: right;\n",
              "    }\n",
              "</style>\n",
              "<table border=\"1\" class=\"dataframe\">\n",
              "  <thead>\n",
              "    <tr style=\"text-align: right;\">\n",
              "      <th></th>\n",
              "      <th>total_sales</th>\n",
              "      <th>critic_score</th>\n",
              "      <th>user_score</th>\n",
              "    </tr>\n",
              "  </thead>\n",
              "  <tbody>\n",
              "    <tr>\n",
              "      <th>192</th>\n",
              "      <td>5.14</td>\n",
              "      <td>88.0</td>\n",
              "      <td>4.0</td>\n",
              "    </tr>\n",
              "    <tr>\n",
              "      <th>313</th>\n",
              "      <td>3.88</td>\n",
              "      <td>94.0</td>\n",
              "      <td>8.1</td>\n",
              "    </tr>\n",
              "    <tr>\n",
              "      <th>458</th>\n",
              "      <td>3.05</td>\n",
              "      <td>70.0</td>\n",
              "      <td>3.9</td>\n",
              "    </tr>\n",
              "    <tr>\n",
              "      <th>480</th>\n",
              "      <td>2.97</td>\n",
              "      <td>85.0</td>\n",
              "      <td>5.9</td>\n",
              "    </tr>\n",
              "    <tr>\n",
              "      <th>538</th>\n",
              "      <td>2.78</td>\n",
              "      <td>89.0</td>\n",
              "      <td>7.5</td>\n",
              "    </tr>\n",
              "  </tbody>\n",
              "</table>\n",
              "</div>"
            ],
            "text/plain": [
              "     total_sales  critic_score  user_score\n",
              "192         5.14          88.0         4.0\n",
              "313         3.88          94.0         8.1\n",
              "458         3.05          70.0         3.9\n",
              "480         2.97          85.0         5.9\n",
              "538         2.78          89.0         7.5"
            ]
          },
          "execution_count": 30,
          "metadata": {},
          "output_type": "execute_result"
        }
      ],
      "execution_count": 30
    },
    {
      "cell_type": "code",
      "source": "pc_data_raiting.corr()",
      "metadata": {},
      "outputs": [
        {
          "data": {
            "text/html": [
              "<div>\n",
              "<style scoped>\n",
              "    .dataframe tbody tr th:only-of-type {\n",
              "        vertical-align: middle;\n",
              "    }\n",
              "\n",
              "    .dataframe tbody tr th {\n",
              "        vertical-align: top;\n",
              "    }\n",
              "\n",
              "    .dataframe thead th {\n",
              "        text-align: right;\n",
              "    }\n",
              "</style>\n",
              "<table border=\"1\" class=\"dataframe\">\n",
              "  <thead>\n",
              "    <tr style=\"text-align: right;\">\n",
              "      <th></th>\n",
              "      <th>total_sales</th>\n",
              "      <th>critic_score</th>\n",
              "      <th>user_score</th>\n",
              "    </tr>\n",
              "  </thead>\n",
              "  <tbody>\n",
              "    <tr>\n",
              "      <th>total_sales</th>\n",
              "      <td>1.000000</td>\n",
              "      <td>0.314185</td>\n",
              "      <td>-0.048967</td>\n",
              "    </tr>\n",
              "    <tr>\n",
              "      <th>critic_score</th>\n",
              "      <td>0.314185</td>\n",
              "      <td>1.000000</td>\n",
              "      <td>0.464815</td>\n",
              "    </tr>\n",
              "    <tr>\n",
              "      <th>user_score</th>\n",
              "      <td>-0.048967</td>\n",
              "      <td>0.464815</td>\n",
              "      <td>1.000000</td>\n",
              "    </tr>\n",
              "  </tbody>\n",
              "</table>\n",
              "</div>"
            ],
            "text/plain": [
              "              total_sales  critic_score  user_score\n",
              "total_sales      1.000000      0.314185   -0.048967\n",
              "critic_score     0.314185      1.000000    0.464815\n",
              "user_score      -0.048967      0.464815    1.000000"
            ]
          },
          "execution_count": 31,
          "metadata": {},
          "output_type": "execute_result"
        }
      ],
      "execution_count": 31
    },
    {
      "cell_type": "code",
      "source": "_ = pd.plotting.scatter_matrix(pc_data_raiting, figsize=(15, 15))",
      "metadata": {},
      "outputs": [
        {
          "data": {
            "image/png": "[encoded data removed]",
            "text/plain": [
              "<Figure size 1080x1080 with 9 Axes>"
            ]
          },
          "metadata": {
            "needs_background": "light"
          },
          "output_type": "display_data"
        }
      ],
      "execution_count": 32
    },
    {
      "cell_type": "markdown",
      "source": "**Вывод:**\n<br>По полученным данным, на стационарных компьютерах (PC) количество продаж почти не коррелирует с отзывом пользователей и почти на треть (не очень сильно, но весомо) зависит от отзывов критиков",
      "metadata": {}
    },
    {
      "cell_type": "code",
      "source": "ds_data = actual_period.query('platform == \"3DS\"')\nds_data_raiting = ds_data.loc[:,['total_sales', 'critic_score', 'user_score']]\nds_data_raiting.corr()",
      "metadata": {},
      "outputs": [
        {
          "data": {
            "text/html": [
              "<div>\n",
              "<style scoped>\n",
              "    .dataframe tbody tr th:only-of-type {\n",
              "        vertical-align: middle;\n",
              "    }\n",
              "\n",
              "    .dataframe tbody tr th {\n",
              "        vertical-align: top;\n",
              "    }\n",
              "\n",
              "    .dataframe thead th {\n",
              "        text-align: right;\n",
              "    }\n",
              "</style>\n",
              "<table border=\"1\" class=\"dataframe\">\n",
              "  <thead>\n",
              "    <tr style=\"text-align: right;\">\n",
              "      <th></th>\n",
              "      <th>total_sales</th>\n",
              "      <th>critic_score</th>\n",
              "      <th>user_score</th>\n",
              "    </tr>\n",
              "  </thead>\n",
              "  <tbody>\n",
              "    <tr>\n",
              "      <th>total_sales</th>\n",
              "      <td>1.000000</td>\n",
              "      <td>0.348740</td>\n",
              "      <td>0.222078</td>\n",
              "    </tr>\n",
              "    <tr>\n",
              "      <th>critic_score</th>\n",
              "      <td>0.348740</td>\n",
              "      <td>1.000000</td>\n",
              "      <td>0.745222</td>\n",
              "    </tr>\n",
              "    <tr>\n",
              "      <th>user_score</th>\n",
              "      <td>0.222078</td>\n",
              "      <td>0.745222</td>\n",
              "      <td>1.000000</td>\n",
              "    </tr>\n",
              "  </tbody>\n",
              "</table>\n",
              "</div>"
            ],
            "text/plain": [
              "              total_sales  critic_score  user_score\n",
              "total_sales      1.000000      0.348740    0.222078\n",
              "critic_score     0.348740      1.000000    0.745222\n",
              "user_score       0.222078      0.745222    1.000000"
            ]
          },
          "execution_count": 33,
          "metadata": {},
          "output_type": "execute_result"
        }
      ],
      "execution_count": 33
    },
    {
      "cell_type": "code",
      "source": "ps3_data = actual_period.query('platform == \"PS3\"')\nps3_data_raiting = ps3_data.loc[:,['total_sales', 'critic_score', 'user_score']]\nps3_data_raiting.corr()",
      "metadata": {},
      "outputs": [
        {
          "data": {
            "text/html": [
              "<div>\n",
              "<style scoped>\n",
              "    .dataframe tbody tr th:only-of-type {\n",
              "        vertical-align: middle;\n",
              "    }\n",
              "\n",
              "    .dataframe tbody tr th {\n",
              "        vertical-align: top;\n",
              "    }\n",
              "\n",
              "    .dataframe thead th {\n",
              "        text-align: right;\n",
              "    }\n",
              "</style>\n",
              "<table border=\"1\" class=\"dataframe\">\n",
              "  <thead>\n",
              "    <tr style=\"text-align: right;\">\n",
              "      <th></th>\n",
              "      <th>total_sales</th>\n",
              "      <th>critic_score</th>\n",
              "      <th>user_score</th>\n",
              "    </tr>\n",
              "  </thead>\n",
              "  <tbody>\n",
              "    <tr>\n",
              "      <th>total_sales</th>\n",
              "      <td>1.000000</td>\n",
              "      <td>0.380111</td>\n",
              "      <td>0.014089</td>\n",
              "    </tr>\n",
              "    <tr>\n",
              "      <th>critic_score</th>\n",
              "      <td>0.380111</td>\n",
              "      <td>1.000000</td>\n",
              "      <td>0.563315</td>\n",
              "    </tr>\n",
              "    <tr>\n",
              "      <th>user_score</th>\n",
              "      <td>0.014089</td>\n",
              "      <td>0.563315</td>\n",
              "      <td>1.000000</td>\n",
              "    </tr>\n",
              "  </tbody>\n",
              "</table>\n",
              "</div>"
            ],
            "text/plain": [
              "              total_sales  critic_score  user_score\n",
              "total_sales      1.000000      0.380111    0.014089\n",
              "critic_score     0.380111      1.000000    0.563315\n",
              "user_score       0.014089      0.563315    1.000000"
            ]
          },
          "execution_count": 34,
          "metadata": {},
          "output_type": "execute_result"
        }
      ],
      "execution_count": 34
    },
    {
      "cell_type": "code",
      "source": "wii_data = actual_period.query('platform == \"Wii\"')\nwii_data_raiting = wii_data.loc[:,['total_sales', 'critic_score', 'user_score']]\nwii_data_raiting.corr()",
      "metadata": {},
      "outputs": [
        {
          "data": {
            "text/html": [
              "<div>\n",
              "<style scoped>\n",
              "    .dataframe tbody tr th:only-of-type {\n",
              "        vertical-align: middle;\n",
              "    }\n",
              "\n",
              "    .dataframe tbody tr th {\n",
              "        vertical-align: top;\n",
              "    }\n",
              "\n",
              "    .dataframe thead th {\n",
              "        text-align: right;\n",
              "    }\n",
              "</style>\n",
              "<table border=\"1\" class=\"dataframe\">\n",
              "  <thead>\n",
              "    <tr style=\"text-align: right;\">\n",
              "      <th></th>\n",
              "      <th>total_sales</th>\n",
              "      <th>critic_score</th>\n",
              "      <th>user_score</th>\n",
              "    </tr>\n",
              "  </thead>\n",
              "  <tbody>\n",
              "    <tr>\n",
              "      <th>total_sales</th>\n",
              "      <td>1.000000</td>\n",
              "      <td>0.292269</td>\n",
              "      <td>0.145504</td>\n",
              "    </tr>\n",
              "    <tr>\n",
              "      <th>critic_score</th>\n",
              "      <td>0.292269</td>\n",
              "      <td>1.000000</td>\n",
              "      <td>0.444480</td>\n",
              "    </tr>\n",
              "    <tr>\n",
              "      <th>user_score</th>\n",
              "      <td>0.145504</td>\n",
              "      <td>0.444480</td>\n",
              "      <td>1.000000</td>\n",
              "    </tr>\n",
              "  </tbody>\n",
              "</table>\n",
              "</div>"
            ],
            "text/plain": [
              "              total_sales  critic_score  user_score\n",
              "total_sales      1.000000      0.292269    0.145504\n",
              "critic_score     0.292269      1.000000    0.444480\n",
              "user_score       0.145504      0.444480    1.000000"
            ]
          },
          "execution_count": 35,
          "metadata": {},
          "output_type": "execute_result"
        }
      ],
      "execution_count": 35
    },
    {
      "cell_type": "markdown",
      "source": "**Вывод:** Из выбранных платформ, продажи на всех зависят от оценки критиков почти на треть, а оценка пользователей играла лишь небольшую роль (чуть большую на платформах 3DS и Wii)",
      "metadata": {}
    },
    {
      "cell_type": "code",
      "source": "pd.pivot_table(actual_period, index='genre', values='total_sales', aggfunc='sum') \\\n              .sort_values('total_sales', ascending=False)",
      "metadata": {},
      "outputs": [
        {
          "data": {
            "text/html": [
              "<div>\n",
              "<style scoped>\n",
              "    .dataframe tbody tr th:only-of-type {\n",
              "        vertical-align: middle;\n",
              "    }\n",
              "\n",
              "    .dataframe tbody tr th {\n",
              "        vertical-align: top;\n",
              "    }\n",
              "\n",
              "    .dataframe thead th {\n",
              "        text-align: right;\n",
              "    }\n",
              "</style>\n",
              "<table border=\"1\" class=\"dataframe\">\n",
              "  <thead>\n",
              "    <tr style=\"text-align: right;\">\n",
              "      <th></th>\n",
              "      <th>total_sales</th>\n",
              "    </tr>\n",
              "    <tr>\n",
              "      <th>genre</th>\n",
              "      <th></th>\n",
              "    </tr>\n",
              "  </thead>\n",
              "  <tbody>\n",
              "    <tr>\n",
              "      <th>Action</th>\n",
              "      <td>557.80</td>\n",
              "    </tr>\n",
              "    <tr>\n",
              "      <th>Shooter</th>\n",
              "      <td>402.91</td>\n",
              "    </tr>\n",
              "    <tr>\n",
              "      <th>Role-Playing</th>\n",
              "      <td>245.63</td>\n",
              "    </tr>\n",
              "    <tr>\n",
              "      <th>Sports</th>\n",
              "      <td>237.15</td>\n",
              "    </tr>\n",
              "    <tr>\n",
              "      <th>Misc</th>\n",
              "      <td>139.42</td>\n",
              "    </tr>\n",
              "    <tr>\n",
              "      <th>Platform</th>\n",
              "      <td>88.68</td>\n",
              "    </tr>\n",
              "    <tr>\n",
              "      <th>Racing</th>\n",
              "      <td>88.31</td>\n",
              "    </tr>\n",
              "    <tr>\n",
              "      <th>Fighting</th>\n",
              "      <td>66.90</td>\n",
              "    </tr>\n",
              "    <tr>\n",
              "      <th>Simulation</th>\n",
              "      <td>50.26</td>\n",
              "    </tr>\n",
              "    <tr>\n",
              "      <th>Adventure</th>\n",
              "      <td>45.04</td>\n",
              "    </tr>\n",
              "    <tr>\n",
              "      <th>Strategy</th>\n",
              "      <td>22.16</td>\n",
              "    </tr>\n",
              "    <tr>\n",
              "      <th>Puzzle</th>\n",
              "      <td>9.85</td>\n",
              "    </tr>\n",
              "  </tbody>\n",
              "</table>\n",
              "</div>"
            ],
            "text/plain": [
              "              total_sales\n",
              "genre                    \n",
              "Action             557.80\n",
              "Shooter            402.91\n",
              "Role-Playing       245.63\n",
              "Sports             237.15\n",
              "Misc               139.42\n",
              "Platform            88.68\n",
              "Racing              88.31\n",
              "Fighting            66.90\n",
              "Simulation          50.26\n",
              "Adventure           45.04\n",
              "Strategy            22.16\n",
              "Puzzle               9.85"
            ]
          },
          "execution_count": 36,
          "metadata": {},
          "output_type": "execute_result"
        }
      ],
      "execution_count": 36
    },
    {
      "cell_type": "markdown",
      "source": "**Вывод:**\n<br>Из таблицы видно, что самыми популярными жанрами игр стали `Action`, `Shooter`, `Role-Playing (RP)`, `Sports`; Наименее привлекательными для пользователей оказались игры на логику: `Puzzle` и `Strategy`\n<br>Вероятнее всего, пользователей интересуют более динамичные, соревновательные и многопользовательские игры",
      "metadata": {}
    },
    {
      "cell_type": "code",
      "source": "temp_table = pd.pivot_table(actual_period, index='genre', values='total_sales', aggfunc='mean') \\\n              .sort_values('total_sales', ascending=False)\ntemp_table.columns = ['mean_sales']\ntemp_table.reset_index(inplace=True)\ntemp_table",
      "metadata": {},
      "outputs": [
        {
          "data": {
            "text/html": [
              "<div>\n",
              "<style scoped>\n",
              "    .dataframe tbody tr th:only-of-type {\n",
              "        vertical-align: middle;\n",
              "    }\n",
              "\n",
              "    .dataframe tbody tr th {\n",
              "        vertical-align: top;\n",
              "    }\n",
              "\n",
              "    .dataframe thead th {\n",
              "        text-align: right;\n",
              "    }\n",
              "</style>\n",
              "<table border=\"1\" class=\"dataframe\">\n",
              "  <thead>\n",
              "    <tr style=\"text-align: right;\">\n",
              "      <th></th>\n",
              "      <th>genre</th>\n",
              "      <th>mean_sales</th>\n",
              "    </tr>\n",
              "  </thead>\n",
              "  <tbody>\n",
              "    <tr>\n",
              "      <th>0</th>\n",
              "      <td>Shooter</td>\n",
              "      <td>1.224650</td>\n",
              "    </tr>\n",
              "    <tr>\n",
              "      <th>1</th>\n",
              "      <td>Platform</td>\n",
              "      <td>0.726885</td>\n",
              "    </tr>\n",
              "    <tr>\n",
              "      <th>2</th>\n",
              "      <td>Sports</td>\n",
              "      <td>0.609640</td>\n",
              "    </tr>\n",
              "    <tr>\n",
              "      <th>3</th>\n",
              "      <td>Role-Playing</td>\n",
              "      <td>0.528237</td>\n",
              "    </tr>\n",
              "    <tr>\n",
              "      <th>4</th>\n",
              "      <td>Racing</td>\n",
              "      <td>0.490611</td>\n",
              "    </tr>\n",
              "    <tr>\n",
              "      <th>5</th>\n",
              "      <td>Action</td>\n",
              "      <td>0.439559</td>\n",
              "    </tr>\n",
              "    <tr>\n",
              "      <th>6</th>\n",
              "      <td>Fighting</td>\n",
              "      <td>0.420755</td>\n",
              "    </tr>\n",
              "    <tr>\n",
              "      <th>7</th>\n",
              "      <td>Misc</td>\n",
              "      <td>0.371787</td>\n",
              "    </tr>\n",
              "    <tr>\n",
              "      <th>8</th>\n",
              "      <td>Simulation</td>\n",
              "      <td>0.369559</td>\n",
              "    </tr>\n",
              "    <tr>\n",
              "      <th>9</th>\n",
              "      <td>Strategy</td>\n",
              "      <td>0.189402</td>\n",
              "    </tr>\n",
              "    <tr>\n",
              "      <th>10</th>\n",
              "      <td>Puzzle</td>\n",
              "      <td>0.138732</td>\n",
              "    </tr>\n",
              "    <tr>\n",
              "      <th>11</th>\n",
              "      <td>Adventure</td>\n",
              "      <td>0.109854</td>\n",
              "    </tr>\n",
              "  </tbody>\n",
              "</table>\n",
              "</div>"
            ],
            "text/plain": [
              "           genre  mean_sales\n",
              "0        Shooter    1.224650\n",
              "1       Platform    0.726885\n",
              "2         Sports    0.609640\n",
              "3   Role-Playing    0.528237\n",
              "4         Racing    0.490611\n",
              "5         Action    0.439559\n",
              "6       Fighting    0.420755\n",
              "7           Misc    0.371787\n",
              "8     Simulation    0.369559\n",
              "9       Strategy    0.189402\n",
              "10        Puzzle    0.138732\n",
              "11     Adventure    0.109854"
            ]
          },
          "execution_count": 37,
          "metadata": {},
          "output_type": "execute_result"
        }
      ],
      "execution_count": 37
    },
    {
      "cell_type": "code",
      "source": "fig, ax = plt.subplots(figsize=(18, 10))\nsns.barplot(x='genre', y='mean_sales', data=temp_table, color='b')\n\nax.set_xlabel('Жанры игр')\nax.set_ylabel('Среднее число продаж, млн. копий')\nax.set_title('Среднее число продаж по жанрам игр в мире')\n\nplt.show()",
      "metadata": {},
      "outputs": [
        {
          "data": {
            "image/png": "[encoded data removed]",
            "text/plain": [
              "<Figure size 1296x720 with 1 Axes>"
            ]
          },
          "metadata": {
            "needs_background": "light"
          },
          "output_type": "display_data"
        }
      ],
      "execution_count": 38
    },
    {
      "cell_type": "markdown",
      "source": "**Вывод:**\n<br>Из графика средних продаж видно, что самыми популярными жанрами игр стали `Shooter`, `Platform`, `Sports`, `Role-Playing (RP)`; Наименее привлекательными для пользователей оказались игры на логику, такие как `Strategy`, `Puzzle`, а также игры про приключения (жанр `Adventure`). Возможно, такой жанр не пришёлся по вкусу пользователям из-за того что такие игры, зачастую, нацелены на прохождение в одиночестве; либо же среди игр данного жанра нет сильно полюбившихся пользователям.",
      "metadata": {}
    },
    {
      "cell_type": "markdown",
      "source": "**Вывод по исследовательскому анализу данных:**\n<br>Мы ответили на все поставленные нами вопросы, выявили крайне малую зависимость числа продаж на различных платформах от оценки критиков и пользователей\n<br>Более наглядно (графически) мы показали, как изменялось число продаж различных платформ спустя года (начиная с установленного актуального периода: от 2010 года)\n<br>Также по итогам исследования мы выяснили, что примерный срок жизни платформы составляет 10 лет, а на период 2016 года была актуальна лишь консоль `DS`",
      "metadata": {}
    },
    {
      "cell_type": "markdown",
      "source": "# Шаг 4. Составление портрета пользователей каждого региона",
      "metadata": {}
    },
    {
      "cell_type": "code",
      "source": "regions = df.pivot_table(index='platform', values=['na_sales','eu_sales','jp_sales', 'total_sales'], aggfunc='sum')\n\nregions['na'] = regions['na_sales'] / regions['total_sales']\nregions['eu'] = regions['eu_sales'] / regions['total_sales']\nregions['jp'] = regions['jp_sales'] / regions['total_sales']\n\nregions.head()",
      "metadata": {},
      "outputs": [
        {
          "data": {
            "text/html": [
              "<div>\n",
              "<style scoped>\n",
              "    .dataframe tbody tr th:only-of-type {\n",
              "        vertical-align: middle;\n",
              "    }\n",
              "\n",
              "    .dataframe tbody tr th {\n",
              "        vertical-align: top;\n",
              "    }\n",
              "\n",
              "    .dataframe thead th {\n",
              "        text-align: right;\n",
              "    }\n",
              "</style>\n",
              "<table border=\"1\" class=\"dataframe\">\n",
              "  <thead>\n",
              "    <tr style=\"text-align: right;\">\n",
              "      <th></th>\n",
              "      <th>eu_sales</th>\n",
              "      <th>jp_sales</th>\n",
              "      <th>na_sales</th>\n",
              "      <th>total_sales</th>\n",
              "      <th>na</th>\n",
              "      <th>eu</th>\n",
              "      <th>jp</th>\n",
              "    </tr>\n",
              "    <tr>\n",
              "      <th>platform</th>\n",
              "      <th></th>\n",
              "      <th></th>\n",
              "      <th></th>\n",
              "      <th></th>\n",
              "      <th></th>\n",
              "      <th></th>\n",
              "      <th></th>\n",
              "    </tr>\n",
              "  </thead>\n",
              "  <tbody>\n",
              "    <tr>\n",
              "      <th>2600</th>\n",
              "      <td>4.86</td>\n",
              "      <td>0.00</td>\n",
              "      <td>80.78</td>\n",
              "      <td>86.48</td>\n",
              "      <td>0.934089</td>\n",
              "      <td>0.056198</td>\n",
              "      <td>0.000000</td>\n",
              "    </tr>\n",
              "    <tr>\n",
              "      <th>3DO</th>\n",
              "      <td>0.00</td>\n",
              "      <td>0.10</td>\n",
              "      <td>0.00</td>\n",
              "      <td>0.10</td>\n",
              "      <td>0.000000</td>\n",
              "      <td>0.000000</td>\n",
              "      <td>1.000000</td>\n",
              "    </tr>\n",
              "    <tr>\n",
              "      <th>3DS</th>\n",
              "      <td>61.27</td>\n",
              "      <td>100.62</td>\n",
              "      <td>82.65</td>\n",
              "      <td>257.81</td>\n",
              "      <td>0.320585</td>\n",
              "      <td>0.237656</td>\n",
              "      <td>0.390287</td>\n",
              "    </tr>\n",
              "    <tr>\n",
              "      <th>DC</th>\n",
              "      <td>1.69</td>\n",
              "      <td>8.56</td>\n",
              "      <td>5.43</td>\n",
              "      <td>15.95</td>\n",
              "      <td>0.340439</td>\n",
              "      <td>0.105956</td>\n",
              "      <td>0.536677</td>\n",
              "    </tr>\n",
              "    <tr>\n",
              "      <th>DS</th>\n",
              "      <td>188.41</td>\n",
              "      <td>175.02</td>\n",
              "      <td>380.31</td>\n",
              "      <td>802.78</td>\n",
              "      <td>0.473741</td>\n",
              "      <td>0.234697</td>\n",
              "      <td>0.218017</td>\n",
              "    </tr>\n",
              "  </tbody>\n",
              "</table>\n",
              "</div>"
            ],
            "text/plain": [
              "          eu_sales  jp_sales  na_sales  total_sales        na        eu  \\\n",
              "platform                                                                  \n",
              "2600          4.86      0.00     80.78        86.48  0.934089  0.056198   \n",
              "3DO           0.00      0.10      0.00         0.10  0.000000  0.000000   \n",
              "3DS          61.27    100.62     82.65       257.81  0.320585  0.237656   \n",
              "DC            1.69      8.56      5.43        15.95  0.340439  0.105956   \n",
              "DS          188.41    175.02    380.31       802.78  0.473741  0.234697   \n",
              "\n",
              "                jp  \n",
              "platform            \n",
              "2600      0.000000  \n",
              "3DO       1.000000  \n",
              "3DS       0.390287  \n",
              "DC        0.536677  \n",
              "DS        0.218017  "
            ]
          },
          "execution_count": 39,
          "metadata": {},
          "output_type": "execute_result"
        }
      ],
      "execution_count": 39
    },
    {
      "cell_type": "code",
      "source": "rating_eu = regions[['eu_sales', 'eu']].sort_values(ascending=False, by='eu_sales').head()\nrating_jp = regions[['jp_sales', 'jp']].sort_values(ascending=False, by='jp_sales').head()\nrating_na = regions[['na_sales', 'na']].sort_values(ascending=False, by='na_sales').head()\n\nprint(rating_eu)\nprint()\nprint(rating_na)\nprint()\nprint(rating_jp)",
      "metadata": {},
      "outputs": [
        {
          "name": "stdout",
          "output_type": "stream",
          "text": [
            "          eu_sales        eu\n",
            "platform                    \n",
            "PS2         332.63  0.269650\n",
            "PS3         327.21  0.351332\n",
            "X360        268.32  0.279139\n",
            "Wii         258.32  0.289863\n",
            "PS          212.39  0.291913\n",
            "\n",
            "          na_sales        na\n",
            "platform                    \n",
            "X360        595.74  0.619762\n",
            "PS2         572.92  0.464444\n",
            "Wii         486.87  0.546321\n",
            "PS3         390.13  0.418891\n",
            "DS          380.31  0.473741\n",
            "\n",
            "          jp_sales        jp\n",
            "platform                    \n",
            "DS          175.02  0.218017\n",
            "PS          139.78  0.192116\n",
            "PS2         137.54  0.111498\n",
            "SNES        116.55  0.582633\n",
            "3DS         100.62  0.390287\n"
          ]
        }
      ],
      "execution_count": 40
    },
    {
      "cell_type": "markdown",
      "source": "**Вывод:**\n* В северной Америке наблюдается наибольшее число продаж в целом (возможно, это обусловлено численностью населения, а, возможно, и заинтересованностью в играх), лидирующей же платформой там выступает `Xbox-360`\n* Япония выступает Антогонистом Америки по числу продаж, лидирующей платформой там выдалась `DS`\n* В европе мы можем наблюдать среднее число продаж и `PS2` в качестве лидера\n* Интересный факт, что консоль `PS2` во всех регионах была крайне популярна (всегда входила в топ-3) ",
      "metadata": {}
    },
    {
      "cell_type": "code",
      "source": "na_genres_df = actual_period.pivot_table(index='genre', values='na_sales', aggfunc=('sum'))\\\n                            .sort_values(by='na_sales', ascending=False)\neu_genres_df = actual_period.pivot_table(index='genre', values='eu_sales', aggfunc=('sum'))\\\n                            .sort_values(by='eu_sales', ascending=False)\njp_genres_df = actual_period.pivot_table(index='genre', values='jp_sales', aggfunc=('sum'))\\\n                         .sort_values(by='jp_sales', ascending=False)\n\nprint(eu_genres_df)\nprint()\nprint(na_genres_df)\nprint()\nprint(jp_genres_df)",
      "metadata": {},
      "outputs": [
        {
          "name": "stdout",
          "output_type": "stream",
          "text": [
            "              eu_sales\n",
            "genre                 \n",
            "Action          199.12\n",
            "Shooter         148.02\n",
            "Sports           88.48\n",
            "Role-Playing     62.30\n",
            "Racing           40.58\n",
            "Misc             39.72\n",
            "Platform         30.07\n",
            "Simulation       19.72\n",
            "Fighting         16.24\n",
            "Adventure        13.96\n",
            "Strategy          8.02\n",
            "Puzzle            3.56\n",
            "\n",
            "              na_sales\n",
            "genre                 \n",
            "Action          230.92\n",
            "Shooter         194.43\n",
            "Sports          108.70\n",
            "Role-Playing     83.78\n",
            "Misc             69.69\n",
            "Platform         38.28\n",
            "Racing           31.98\n",
            "Fighting         31.63\n",
            "Simulation       15.37\n",
            "Adventure        14.76\n",
            "Strategy          7.48\n",
            "Puzzle            2.74\n",
            "\n",
            "              jp_sales\n",
            "genre                 \n",
            "Role-Playing     79.87\n",
            "Action           63.62\n",
            "Misc             17.60\n",
            "Fighting         12.38\n",
            "Platform         12.13\n",
            "Adventure        12.07\n",
            "Shooter          11.92\n",
            "Simulation       11.64\n",
            "Sports           11.09\n",
            "Racing            5.64\n",
            "Strategy          4.78\n",
            "Puzzle            2.91\n"
          ]
        }
      ],
      "execution_count": 41
    },
    {
      "cell_type": "code",
      "source": "na_genres_head = na_genres_df.head(5)\neu_genres_head = eu_genres_df.head(5)\njp_genres_head = jp_genres_df.head(5)\n\n# Создаем фигуру и три объекта subplot\nfig, ax = plt.subplots(1, 3, figsize=(10, 4))\n\n# Строим первый график Pie на первом subplot\nax[0].pie(na_genres_head['na_sales'], labels=na_genres_head.index, autopct='%1.1f%%', startangle=90)\nax[0].set_title('Северная Америка')\n\n# Строим второй график Pie на втором subplot\nax[1].pie(eu_genres_head['eu_sales'], labels=eu_genres_head.index, autopct='%1.1f%%', startangle=90)\nax[1].set_title('Европа')\n\n# Строим третий график Pie на третьем subplot\nax[2].pie(jp_genres_head['jp_sales'], labels=jp_genres_head.index, autopct='%1.1f%%', startangle=90)\nax[2].set_title('Япония')\n\n# Добавляем заголовок графиков Pie\nfig.suptitle('Популярность жанров в различных регионах')\n\n# Показываем график\nplt.show()",
      "metadata": {},
      "outputs": [
        {
          "data": {
            "image/png": "[encoded data removed]",
            "text/plain": [
              "<Figure size 720x288 with 3 Axes>"
            ]
          },
          "metadata": {},
          "output_type": "display_data"
        }
      ],
      "execution_count": 42
    },
    {
      "cell_type": "markdown",
      "source": "**Вывод:**\n* Жанр `Action` занимает лидирующие позиции во всех регионах\n* Жанр `Shooter` также популярен в северной Америке и Европе\n* В Японии мы наблюдаем несколько другую иерархию: там также довольно популярен жанр `Action`, но лидирующую позицию занимают игры жанра `RP (Role-Playing)`, да и топ-5 не особо похож на подборку других регионов",
      "metadata": {}
    },
    {
      "cell_type": "code",
      "source": "def raiting_num(row):\n    if row['rating'] == \"E\":\n        return 0\n    if row['rating'] == \"E10+\":\n        return 1\n    if row['rating'] == \"EC\":\n        return 2\n    if row['rating'] == \"M\":\n        return 3\n    if row['rating'] == \"RP\":\n        return 4\n    if row['rating'] == \"T\":\n        return 5\n    return -1",
      "metadata": {},
      "outputs": [],
      "execution_count": 43
    },
    {
      "cell_type": "code",
      "source": "actual_period['rating_num'] = actual_period.apply(raiting_num, axis=1)\n\n# Так и не понял, в чём ошибка\n# При\n# actual_period.loc[:, 'rating_num'] = actual_period.apply(raiting_num, axis=1)\n# Выдаёт тоже самое",
      "metadata": {},
      "outputs": [
        {
          "name": "stderr",
          "output_type": "stream",
          "text": [
            "/tmp/ipykernel_163/405884510.py:1: SettingWithCopyWarning: \n",
            "A value is trying to be set on a copy of a slice from a DataFrame.\n",
            "Try using .loc[row_indexer,col_indexer] = value instead\n",
            "\n",
            "See the caveats in the documentation: https://pandas.pydata.org/pandas-docs/stable/user_guide/indexing.html#returning-a-view-versus-a-copy\n",
            "  actual_period['rating_num'] = actual_period.apply(raiting_num, axis=1)\n"
          ]
        }
      ],
      "execution_count": 44
    },
    {
      "cell_type": "code",
      "source": "raiting_df = actual_period.groupby('rating_num' )[['eu_sales', 'jp_sales', 'na_sales', 'total_sales']].sum()\nraiting_df.reset_index(inplace=True)\nraiting_df",
      "metadata": {},
      "outputs": [
        {
          "data": {
            "text/html": [
              "<div>\n",
              "<style scoped>\n",
              "    .dataframe tbody tr th:only-of-type {\n",
              "        vertical-align: middle;\n",
              "    }\n",
              "\n",
              "    .dataframe tbody tr th {\n",
              "        vertical-align: top;\n",
              "    }\n",
              "\n",
              "    .dataframe thead th {\n",
              "        text-align: right;\n",
              "    }\n",
              "</style>\n",
              "<table border=\"1\" class=\"dataframe\">\n",
              "  <thead>\n",
              "    <tr style=\"text-align: right;\">\n",
              "      <th></th>\n",
              "      <th>rating_num</th>\n",
              "      <th>eu_sales</th>\n",
              "      <th>jp_sales</th>\n",
              "      <th>na_sales</th>\n",
              "      <th>total_sales</th>\n",
              "    </tr>\n",
              "  </thead>\n",
              "  <tbody>\n",
              "    <tr>\n",
              "      <th>0</th>\n",
              "      <td>-1</td>\n",
              "      <td>116.61</td>\n",
              "      <td>138.21</td>\n",
              "      <td>123.69</td>\n",
              "      <td>412.48</td>\n",
              "    </tr>\n",
              "    <tr>\n",
              "      <th>1</th>\n",
              "      <td>0</td>\n",
              "      <td>141.73</td>\n",
              "      <td>36.68</td>\n",
              "      <td>170.17</td>\n",
              "      <td>389.44</td>\n",
              "    </tr>\n",
              "    <tr>\n",
              "      <th>2</th>\n",
              "      <td>1</td>\n",
              "      <td>78.00</td>\n",
              "      <td>11.23</td>\n",
              "      <td>117.72</td>\n",
              "      <td>230.86</td>\n",
              "    </tr>\n",
              "    <tr>\n",
              "      <th>3</th>\n",
              "      <td>2</td>\n",
              "      <td>0.00</td>\n",
              "      <td>0.00</td>\n",
              "      <td>0.42</td>\n",
              "      <td>0.45</td>\n",
              "    </tr>\n",
              "    <tr>\n",
              "      <th>4</th>\n",
              "      <td>3</td>\n",
              "      <td>250.26</td>\n",
              "      <td>26.14</td>\n",
              "      <td>308.45</td>\n",
              "      <td>666.81</td>\n",
              "    </tr>\n",
              "    <tr>\n",
              "      <th>5</th>\n",
              "      <td>4</td>\n",
              "      <td>0.03</td>\n",
              "      <td>0.00</td>\n",
              "      <td>0.00</td>\n",
              "      <td>0.04</td>\n",
              "    </tr>\n",
              "    <tr>\n",
              "      <th>6</th>\n",
              "      <td>5</td>\n",
              "      <td>83.16</td>\n",
              "      <td>33.39</td>\n",
              "      <td>109.31</td>\n",
              "      <td>254.03</td>\n",
              "    </tr>\n",
              "  </tbody>\n",
              "</table>\n",
              "</div>"
            ],
            "text/plain": [
              "   rating_num  eu_sales  jp_sales  na_sales  total_sales\n",
              "0          -1    116.61    138.21    123.69       412.48\n",
              "1           0    141.73     36.68    170.17       389.44\n",
              "2           1     78.00     11.23    117.72       230.86\n",
              "3           2      0.00      0.00      0.42         0.45\n",
              "4           3    250.26     26.14    308.45       666.81\n",
              "5           4      0.03      0.00      0.00         0.04\n",
              "6           5     83.16     33.39    109.31       254.03"
            ]
          },
          "execution_count": 45,
          "metadata": {},
          "output_type": "execute_result"
        }
      ],
      "execution_count": 45
    },
    {
      "cell_type": "code",
      "source": "raiting_df.corr()",
      "metadata": {},
      "outputs": [
        {
          "data": {
            "text/html": [
              "<div>\n",
              "<style scoped>\n",
              "    .dataframe tbody tr th:only-of-type {\n",
              "        vertical-align: middle;\n",
              "    }\n",
              "\n",
              "    .dataframe tbody tr th {\n",
              "        vertical-align: top;\n",
              "    }\n",
              "\n",
              "    .dataframe thead th {\n",
              "        text-align: right;\n",
              "    }\n",
              "</style>\n",
              "<table border=\"1\" class=\"dataframe\">\n",
              "  <thead>\n",
              "    <tr style=\"text-align: right;\">\n",
              "      <th></th>\n",
              "      <th>rating_num</th>\n",
              "      <th>eu_sales</th>\n",
              "      <th>jp_sales</th>\n",
              "      <th>na_sales</th>\n",
              "      <th>total_sales</th>\n",
              "    </tr>\n",
              "  </thead>\n",
              "  <tbody>\n",
              "    <tr>\n",
              "      <th>rating_num</th>\n",
              "      <td>1.000000</td>\n",
              "      <td>-0.187938</td>\n",
              "      <td>-0.600973</td>\n",
              "      <td>-0.140887</td>\n",
              "      <td>-0.265665</td>\n",
              "    </tr>\n",
              "    <tr>\n",
              "      <th>eu_sales</th>\n",
              "      <td>-0.187938</td>\n",
              "      <td>1.000000</td>\n",
              "      <td>0.320990</td>\n",
              "      <td>0.993220</td>\n",
              "      <td>0.988263</td>\n",
              "    </tr>\n",
              "    <tr>\n",
              "      <th>jp_sales</th>\n",
              "      <td>-0.600973</td>\n",
              "      <td>0.320990</td>\n",
              "      <td>1.000000</td>\n",
              "      <td>0.239228</td>\n",
              "      <td>0.457470</td>\n",
              "    </tr>\n",
              "    <tr>\n",
              "      <th>na_sales</th>\n",
              "      <td>-0.140887</td>\n",
              "      <td>0.993220</td>\n",
              "      <td>0.239228</td>\n",
              "      <td>1.000000</td>\n",
              "      <td>0.972055</td>\n",
              "    </tr>\n",
              "    <tr>\n",
              "      <th>total_sales</th>\n",
              "      <td>-0.265665</td>\n",
              "      <td>0.988263</td>\n",
              "      <td>0.457470</td>\n",
              "      <td>0.972055</td>\n",
              "      <td>1.000000</td>\n",
              "    </tr>\n",
              "  </tbody>\n",
              "</table>\n",
              "</div>"
            ],
            "text/plain": [
              "             rating_num  eu_sales  jp_sales  na_sales  total_sales\n",
              "rating_num     1.000000 -0.187938 -0.600973 -0.140887    -0.265665\n",
              "eu_sales      -0.187938  1.000000  0.320990  0.993220     0.988263\n",
              "jp_sales      -0.600973  0.320990  1.000000  0.239228     0.457470\n",
              "na_sales      -0.140887  0.993220  0.239228  1.000000     0.972055\n",
              "total_sales   -0.265665  0.988263  0.457470  0.972055     1.000000"
            ]
          },
          "execution_count": 46,
          "metadata": {},
          "output_type": "execute_result"
        }
      ],
      "execution_count": 46
    },
    {
      "cell_type": "markdown",
      "source": "**Вывод:**\n<br>Нет сильной корреляции между рейтингом игры и продажей в различных регионах и в общем, кроме Японии",
      "metadata": {}
    },
    {
      "cell_type": "markdown",
      "source": "**Общий вывод по шагу 4:**\n* `PS2` популярен во всех трёх регионах\n* Жители северной Америки предпочитают `Xbox-360`, а жители Японии - `DS`\n* В Японии популярны несколько другие жанры игр, нежели в Северной Америке и Европе\n* Также мы выяснили, что зависимости между числом продаж и рейтингом игры почтти нет (за исключением японии, где кореляция составила примерно -0.6)",
      "metadata": {}
    },
    {
      "cell_type": "markdown",
      "source": "# Шаг 5. Проверка гипотез",
      "metadata": {}
    },
    {
      "cell_type": "markdown",
      "source": "**Гипотеза 1:**\n<br>H0: Средние пользовательские рейтинги платформ Xbox One и PC одинаковые\n<br>H1: Средние пользовательские рейтинги платформы Xbox One больше, чем у PC",
      "metadata": {}
    },
    {
      "cell_type": "code",
      "source": "xbox_one_users = actual_period.query('platform == \"XOne\"').dropna(subset=['user_score']).reset_index()\npc_users = actual_period.query('platform == \"PC\"').dropna(subset=['user_score']).reset_index()",
      "metadata": {},
      "outputs": [],
      "execution_count": 47
    },
    {
      "cell_type": "code",
      "source": "alpha = 0.05\n\nstat, p = st.ttest_ind(xbox_one_users['user_score'], pc_users['user_score'], alternative='greater')\n\nprint('Xbox360 user score mean:', xbox_one_users['user_score'].mean())\nprint('PC user score mean:', pc_users['user_score'].mean())\nprint('p-value: ', p)\nif p < alpha:\n    print(\"Отвергаем нулевую гипотезу\")\nelse:\n    print(\"Не удалось отвергнуть нулевую гипотезу\")",
      "metadata": {},
      "outputs": [
        {
          "name": "stdout",
          "output_type": "stream",
          "text": [
            "Xbox360 user score mean: 6.521428571428572\n",
            "PC user score mean: 6.451791530944625\n",
            "p-value:  0.3133801135711199\n",
            "Не удалось отвергнуть нулевую гипотезу\n"
          ]
        }
      ],
      "execution_count": 48
    },
    {
      "cell_type": "markdown",
      "source": "**Вывод:** мы пришли к выводу, что средние пользовательские рейтинги платформ Xbox One и PC - одинаковые",
      "metadata": {}
    },
    {
      "cell_type": "markdown",
      "source": "**Гипотеза 2:**\n<br>H0: Средние пользовательские рейтинги жанров Action и Sports одинаковые\n<br>H1: Cредние пользовательские рейтинги жанра Action больше, чем у Sports",
      "metadata": {}
    },
    {
      "cell_type": "code",
      "source": "action_df = actual_period.query('genre == \"Action\"').dropna(subset=['user_score']).reset_index()\nsports_df = actual_period.query('genre == \"Sports\"').dropna(subset = ['user_score']).reset_index()",
      "metadata": {},
      "outputs": [],
      "execution_count": 49
    },
    {
      "cell_type": "code",
      "source": "stat, p = st.ttest_ind(action_df['user_score'], sports_df['user_score'], alternative='greater')\n\nprint('Action genre user score mean:', action_df['user_score'].mean())\nprint('Sports genre user score mean:', sports_df['user_score'].mean())\nprint('p-value: ', p)\nif (p < alpha):\n    print(\"Отвергаем нулевую гипотезу\")\nelse:\n    print(\"Не получилось отвергнуть нулевую гипотезу\")",
      "metadata": {},
      "outputs": [
        {
          "name": "stdout",
          "output_type": "stream",
          "text": [
            "Action genre user score mean: 6.775903614457831\n",
            "Sports genre user score mean: 5.650813008130081\n",
            "p-value:  2.5987275126076027e-24\n",
            "Отвергаем нулевую гипотезу\n"
          ]
        }
      ],
      "execution_count": 50
    },
    {
      "cell_type": "markdown",
      "source": "**Вывод:** Cредние пользовательские рейтинги жанра Action больше, чем у Sports",
      "metadata": {}
    },
    {
      "cell_type": "markdown",
      "source": "**Общий вывод по шагу 5:**\n<br>В этом разделе мы проверили 2 гипотезы и получили следующие ответы:\n* Проверяя, являются ли средние пользовательские рейтинги платформ Xbox One и PC равными, мы пришли к выводу, что так оно и есть\n* Проверяя, являются ли средние пользовательские рейтинги жанров Action и Sports равными, мы пришли к выводу, что это не так и средние пользовательские рейтинги жанра Action больше, чем у Sports\n\nТакже, в этом разделе я дважды использовал `ttest_ind` с параметром `alternative='greater'` т.к. выборки независимы и нужно было проверить, является тот или иной рейтинг больше другого",
      "metadata": {}
    },
    {
      "cell_type": "markdown",
      "source": "# Общий вывод",
      "metadata": {}
    },
    {
      "cell_type": "markdown",
      "source": "В ходе данного проекта было выполнено исследование и анализ данных о продажах компьютерных игр, пользовательских рейтингах и других характеристиках игр за период от 2010 года. На следующие замечания стоит обратить особое внимание:\n* Средний жизненный цикл платформ - 10 лет\n* В работе не были важны данные за все период т.к. платформы и популярность гейминга в целом развивались последовательно, основной пик индустрии пришёлся на 2010 год\n* Самыми прибыльными с сильным отрывом стали игры жанра `Shooter` и `Action`\n* Игры на логику (такие как стратегии и пазлы) куда менее популярны, чем игры жанра экшн и многопользовательские игры\n* Популярные жанры Японии различаются с популярными жанрами в Северной Америке и Европе\n* Оценка критиков влияет на продаваемость игр в Японии\n* Рейтинг игры влияет на продаваемость игр в Японии и слабо влияет на продаваемость игр в целом\n* По результатам проверенных гипотез, мы выяснили, что:\n    * Средние пользовательские рейтинги платформ Xbox One и PC - одинаковые\n    * Cредние пользовательские рейтинги жанра Action больше, чем у Sports",
      "metadata": {}
    }
  ]
}