{
  "metadata": {
    "kernelspec": {
      "name": "python",
      "display_name": "Python (Pyodide)",
      "language": "python"
    },
    "language_info": {
      "codemirror_mode": {
        "name": "python",
        "version": 3
      },
      "file_extension": ".py",
      "mimetype": "text/x-python",
      "name": "python",
      "nbconvert_exporter": "python",
      "pygments_lexer": "ipython3",
      "version": "3.8"
    },
    "ExecuteTimeLog": [
      {
        "duration": 1445,
        "start_time": "2023-11-04T12:04:02.708Z"
      },
      {
        "duration": 4,
        "start_time": "2023-11-04T12:04:11.376Z"
      },
      {
        "duration": 1867,
        "start_time": "2023-11-04T14:43:04.901Z"
      },
      {
        "duration": 191,
        "start_time": "2023-11-04T14:43:06.770Z"
      },
      {
        "duration": 5,
        "start_time": "2023-11-04T14:43:06.963Z"
      },
      {
        "duration": 165,
        "start_time": "2023-11-04T14:43:06.969Z"
      },
      {
        "duration": 0,
        "start_time": "2023-11-04T14:43:07.137Z"
      },
      {
        "duration": 0,
        "start_time": "2023-11-04T14:43:07.139Z"
      },
      {
        "duration": 0,
        "start_time": "2023-11-04T14:43:07.140Z"
      },
      {
        "duration": 0,
        "start_time": "2023-11-04T14:43:07.142Z"
      },
      {
        "duration": 0,
        "start_time": "2023-11-04T14:43:07.143Z"
      },
      {
        "duration": 0,
        "start_time": "2023-11-04T14:43:07.145Z"
      },
      {
        "duration": 0,
        "start_time": "2023-11-04T14:43:07.146Z"
      },
      {
        "duration": 0,
        "start_time": "2023-11-04T14:43:07.148Z"
      },
      {
        "duration": 0,
        "start_time": "2023-11-04T14:43:07.149Z"
      },
      {
        "duration": 0,
        "start_time": "2023-11-04T14:43:07.150Z"
      },
      {
        "duration": 0,
        "start_time": "2023-11-04T14:43:07.152Z"
      },
      {
        "duration": 0,
        "start_time": "2023-11-04T14:43:07.153Z"
      },
      {
        "duration": 0,
        "start_time": "2023-11-04T14:43:07.155Z"
      },
      {
        "duration": 0,
        "start_time": "2023-11-04T14:43:07.157Z"
      },
      {
        "duration": 0,
        "start_time": "2023-11-04T14:43:07.159Z"
      },
      {
        "duration": 0,
        "start_time": "2023-11-04T14:43:07.161Z"
      },
      {
        "duration": 0,
        "start_time": "2023-11-04T14:43:07.162Z"
      },
      {
        "duration": 0,
        "start_time": "2023-11-04T14:43:07.163Z"
      },
      {
        "duration": 0,
        "start_time": "2023-11-04T14:43:07.165Z"
      },
      {
        "duration": 0,
        "start_time": "2023-11-04T14:43:07.167Z"
      },
      {
        "duration": 58,
        "start_time": "2023-11-04T14:43:31.480Z"
      },
      {
        "duration": 2544,
        "start_time": "2023-11-04T14:43:37.930Z"
      },
      {
        "duration": 1613,
        "start_time": "2023-11-04T14:43:47.446Z"
      },
      {
        "duration": 253,
        "start_time": "2023-11-04T14:43:49.061Z"
      },
      {
        "duration": 5,
        "start_time": "2023-11-04T14:43:49.315Z"
      },
      {
        "duration": 1021,
        "start_time": "2023-11-04T14:43:49.322Z"
      },
      {
        "duration": 18,
        "start_time": "2023-11-04T14:43:50.345Z"
      },
      {
        "duration": 51,
        "start_time": "2023-11-04T14:43:50.365Z"
      },
      {
        "duration": 31,
        "start_time": "2023-11-04T14:43:50.418Z"
      },
      {
        "duration": 12,
        "start_time": "2023-11-04T14:43:50.451Z"
      },
      {
        "duration": 23,
        "start_time": "2023-11-04T14:43:50.465Z"
      },
      {
        "duration": 170,
        "start_time": "2023-11-04T14:43:50.491Z"
      },
      {
        "duration": 322,
        "start_time": "2023-11-04T14:43:50.663Z"
      },
      {
        "duration": 3,
        "start_time": "2023-11-04T14:43:50.987Z"
      },
      {
        "duration": 2308,
        "start_time": "2023-11-04T14:43:50.992Z"
      },
      {
        "duration": 2,
        "start_time": "2023-11-04T14:43:53.302Z"
      },
      {
        "duration": 10,
        "start_time": "2023-11-04T14:43:53.306Z"
      },
      {
        "duration": 86711,
        "start_time": "2023-11-04T14:43:53.318Z"
      },
      {
        "duration": 190,
        "start_time": "2023-11-04T14:45:20.031Z"
      },
      {
        "duration": 200,
        "start_time": "2023-11-04T14:45:20.224Z"
      },
      {
        "duration": 194,
        "start_time": "2023-11-04T14:45:20.426Z"
      },
      {
        "duration": 22,
        "start_time": "2023-11-04T14:45:20.621Z"
      },
      {
        "duration": 7,
        "start_time": "2023-11-04T14:45:20.644Z"
      },
      {
        "duration": 6,
        "start_time": "2023-11-04T14:45:20.652Z"
      },
      {
        "duration": 6972,
        "start_time": "2023-11-04T14:45:20.659Z"
      },
      {
        "duration": 3,
        "start_time": "2023-11-04T14:45:27.633Z"
      },
      {
        "duration": 43,
        "start_time": "2023-11-04T15:06:24.745Z"
      },
      {
        "duration": 11,
        "start_time": "2023-11-04T15:06:33.818Z"
      },
      {
        "duration": 10,
        "start_time": "2023-11-04T15:06:41.938Z"
      },
      {
        "duration": 6773,
        "start_time": "2023-11-04T15:06:44.842Z"
      },
      {
        "duration": 237,
        "start_time": "2023-11-04T15:07:38.543Z"
      },
      {
        "duration": 13,
        "start_time": "2023-11-04T15:08:31.648Z"
      },
      {
        "duration": 90,
        "start_time": "2023-11-04T15:08:34.539Z"
      },
      {
        "duration": 13,
        "start_time": "2023-11-04T15:08:44.512Z"
      },
      {
        "duration": 12,
        "start_time": "2023-11-04T15:09:29.274Z"
      },
      {
        "duration": 9,
        "start_time": "2023-11-04T15:09:47.588Z"
      },
      {
        "duration": 81,
        "start_time": "2023-11-04T15:09:50.539Z"
      },
      {
        "duration": 4,
        "start_time": "2023-11-04T15:10:16.390Z"
      },
      {
        "duration": 87,
        "start_time": "2023-11-04T15:10:19.414Z"
      },
      {
        "duration": 5,
        "start_time": "2023-11-04T15:10:41.810Z"
      },
      {
        "duration": 4,
        "start_time": "2023-11-04T15:11:41.549Z"
      },
      {
        "duration": 218,
        "start_time": "2023-11-04T15:11:44.741Z"
      },
      {
        "duration": 3652,
        "start_time": "2023-11-04T15:11:58.857Z"
      },
      {
        "duration": 5,
        "start_time": "2023-11-04T15:13:05.663Z"
      },
      {
        "duration": 331,
        "start_time": "2023-11-04T15:13:15.397Z"
      },
      {
        "duration": 6468,
        "start_time": "2023-11-04T15:13:25.397Z"
      },
      {
        "duration": 5,
        "start_time": "2023-11-04T15:13:55.401Z"
      },
      {
        "duration": 6472,
        "start_time": "2023-11-04T15:14:06.461Z"
      },
      {
        "duration": 2,
        "start_time": "2023-11-04T15:16:50.901Z"
      },
      {
        "duration": 113,
        "start_time": "2023-11-04T15:17:29.925Z"
      },
      {
        "duration": 142,
        "start_time": "2023-11-04T15:17:57.670Z"
      },
      {
        "duration": 11424,
        "start_time": "2023-11-04T15:18:02.979Z"
      },
      {
        "duration": 3,
        "start_time": "2023-11-04T15:18:51.639Z"
      },
      {
        "duration": 90,
        "start_time": "2023-11-04T15:19:19.063Z"
      },
      {
        "duration": 91,
        "start_time": "2023-11-04T15:19:42.224Z"
      },
      {
        "duration": 351032,
        "start_time": "2023-11-04T15:19:49.969Z"
      },
      {
        "duration": 2,
        "start_time": "2023-11-04T15:25:41.004Z"
      },
      {
        "duration": 5,
        "start_time": "2023-11-04T15:25:41.009Z"
      },
      {
        "duration": 1495,
        "start_time": "2023-11-04T15:26:08.786Z"
      },
      {
        "duration": 3,
        "start_time": "2023-11-04T15:26:25.300Z"
      },
      {
        "duration": 4,
        "start_time": "2023-11-04T15:32:38.888Z"
      },
      {
        "duration": 2294,
        "start_time": "2023-11-04T19:47:52.031Z"
      },
      {
        "duration": 573,
        "start_time": "2023-11-04T19:47:54.327Z"
      },
      {
        "duration": 6,
        "start_time": "2023-11-04T19:47:54.902Z"
      },
      {
        "duration": 2305,
        "start_time": "2023-11-04T19:47:54.909Z"
      },
      {
        "duration": 14,
        "start_time": "2023-11-04T19:47:57.216Z"
      },
      {
        "duration": 33,
        "start_time": "2023-11-04T19:47:57.231Z"
      },
      {
        "duration": 25,
        "start_time": "2023-11-04T19:47:57.266Z"
      },
      {
        "duration": 12,
        "start_time": "2023-11-04T19:47:57.292Z"
      },
      {
        "duration": 15,
        "start_time": "2023-11-04T19:47:57.306Z"
      },
      {
        "duration": 161,
        "start_time": "2023-11-04T19:47:57.323Z"
      },
      {
        "duration": 309,
        "start_time": "2023-11-04T19:47:57.487Z"
      },
      {
        "duration": 4,
        "start_time": "2023-11-04T19:47:57.798Z"
      },
      {
        "duration": 2083,
        "start_time": "2023-11-04T19:47:57.803Z"
      },
      {
        "duration": 2,
        "start_time": "2023-11-04T19:47:59.889Z"
      },
      {
        "duration": 23,
        "start_time": "2023-11-04T19:47:59.893Z"
      },
      {
        "duration": 79837,
        "start_time": "2023-11-04T19:47:59.918Z"
      },
      {
        "duration": 189,
        "start_time": "2023-11-04T19:49:19.757Z"
      },
      {
        "duration": 210,
        "start_time": "2023-11-04T19:49:19.947Z"
      },
      {
        "duration": 185,
        "start_time": "2023-11-04T19:49:20.159Z"
      },
      {
        "duration": 23,
        "start_time": "2023-11-04T19:49:20.346Z"
      },
      {
        "duration": 7,
        "start_time": "2023-11-04T19:49:20.370Z"
      },
      {
        "duration": 5,
        "start_time": "2023-11-04T19:49:20.378Z"
      },
      {
        "duration": 6543,
        "start_time": "2023-11-04T19:49:20.384Z"
      },
      {
        "duration": 2,
        "start_time": "2023-11-04T19:49:26.929Z"
      },
      {
        "duration": 960038,
        "start_time": "2023-11-04T19:49:26.933Z"
      },
      {
        "duration": 3,
        "start_time": "2023-11-04T20:05:26.973Z"
      },
      {
        "duration": 15061917,
        "start_time": "2023-11-04T20:05:26.977Z"
      },
      {
        "duration": 3,
        "start_time": "2023-11-05T00:16:28.896Z"
      },
      {
        "duration": 11741096,
        "start_time": "2023-11-05T00:16:28.900Z"
      },
      {
        "duration": 3,
        "start_time": "2023-11-05T03:32:09.997Z"
      },
      {
        "duration": 112723,
        "start_time": "2023-11-05T03:32:10.002Z"
      },
      {
        "duration": 3,
        "start_time": "2023-11-05T03:34:02.727Z"
      },
      {
        "duration": 28,
        "start_time": "2023-11-05T03:34:02.732Z"
      },
      {
        "duration": 115291,
        "start_time": "2023-11-05T07:12:30.274Z"
      },
      {
        "duration": 2,
        "start_time": "2023-11-05T07:14:25.568Z"
      },
      {
        "duration": 14,
        "start_time": "2023-11-05T07:14:25.572Z"
      },
      {
        "duration": 920179,
        "start_time": "2023-11-05T08:00:24.345Z"
      },
      {
        "duration": 223,
        "start_time": "2023-11-05T08:15:44.527Z"
      },
      {
        "duration": 39818,
        "start_time": "2023-11-05T08:16:05.592Z"
      },
      {
        "duration": 33,
        "start_time": "2023-11-05T08:16:45.412Z"
      },
      {
        "duration": 26,
        "start_time": "2023-11-05T08:18:05.065Z"
      },
      {
        "duration": 51,
        "start_time": "2023-11-05T14:30:51.444Z"
      },
      {
        "duration": 2067,
        "start_time": "2023-11-05T14:35:27.204Z"
      },
      {
        "duration": 421,
        "start_time": "2023-11-05T14:35:29.274Z"
      },
      {
        "duration": 4,
        "start_time": "2023-11-05T14:35:29.697Z"
      },
      {
        "duration": 2422,
        "start_time": "2023-11-05T14:35:29.704Z"
      },
      {
        "duration": 14,
        "start_time": "2023-11-05T14:35:32.128Z"
      },
      {
        "duration": 314,
        "start_time": "2023-11-05T14:35:32.144Z"
      },
      {
        "duration": 52,
        "start_time": "2023-11-05T14:35:32.459Z"
      },
      {
        "duration": 16,
        "start_time": "2023-11-05T14:35:32.513Z"
      },
      {
        "duration": 6,
        "start_time": "2023-11-05T14:35:32.532Z"
      },
      {
        "duration": 160,
        "start_time": "2023-11-05T14:35:32.541Z"
      },
      {
        "duration": 318,
        "start_time": "2023-11-05T14:35:32.703Z"
      },
      {
        "duration": 4,
        "start_time": "2023-11-05T14:35:33.023Z"
      },
      {
        "duration": 2357,
        "start_time": "2023-11-05T14:35:33.029Z"
      },
      {
        "duration": 3,
        "start_time": "2023-11-05T14:35:36.551Z"
      },
      {
        "duration": 4,
        "start_time": "2023-11-05T14:35:40.126Z"
      },
      {
        "duration": 2,
        "start_time": "2023-11-05T14:49:13.001Z"
      },
      {
        "duration": 3,
        "start_time": "2023-11-05T14:49:13.307Z"
      },
      {
        "duration": 8,
        "start_time": "2023-11-05T14:49:15.079Z"
      },
      {
        "duration": 78520,
        "start_time": "2023-11-05T14:49:18.441Z"
      },
      {
        "duration": 9,
        "start_time": "2023-11-05T14:50:36.963Z"
      },
      {
        "duration": 5,
        "start_time": "2023-11-05T14:51:26.731Z"
      },
      {
        "duration": 5,
        "start_time": "2023-11-05T14:51:32.157Z"
      },
      {
        "duration": 5,
        "start_time": "2023-11-05T14:51:44.454Z"
      },
      {
        "duration": 4,
        "start_time": "2023-11-05T14:51:52.981Z"
      },
      {
        "duration": 7,
        "start_time": "2023-11-05T14:52:17.605Z"
      },
      {
        "duration": 4,
        "start_time": "2023-11-05T14:52:49.076Z"
      },
      {
        "duration": 5,
        "start_time": "2023-11-05T14:52:49.614Z"
      },
      {
        "duration": 3,
        "start_time": "2023-11-05T14:52:49.651Z"
      },
      {
        "duration": 832,
        "start_time": "2023-11-05T14:52:49.683Z"
      },
      {
        "duration": 10,
        "start_time": "2023-11-05T14:52:50.517Z"
      },
      {
        "duration": 40,
        "start_time": "2023-11-05T14:52:50.528Z"
      },
      {
        "duration": 33,
        "start_time": "2023-11-05T14:52:50.570Z"
      },
      {
        "duration": 5,
        "start_time": "2023-11-05T14:52:50.605Z"
      },
      {
        "duration": 17,
        "start_time": "2023-11-05T14:52:50.611Z"
      },
      {
        "duration": 125,
        "start_time": "2023-11-05T14:52:50.630Z"
      },
      {
        "duration": 288,
        "start_time": "2023-11-05T14:52:50.758Z"
      },
      {
        "duration": 3,
        "start_time": "2023-11-05T14:52:51.048Z"
      },
      {
        "duration": 2015,
        "start_time": "2023-11-05T14:52:51.662Z"
      },
      {
        "duration": 3,
        "start_time": "2023-11-05T14:52:53.680Z"
      },
      {
        "duration": 16,
        "start_time": "2023-11-05T14:52:53.684Z"
      },
      {
        "duration": 8,
        "start_time": "2023-11-05T14:52:53.702Z"
      },
      {
        "duration": 5,
        "start_time": "2023-11-05T14:52:54.506Z"
      },
      {
        "duration": 77422,
        "start_time": "2023-11-05T14:52:54.674Z"
      },
      {
        "duration": 6,
        "start_time": "2023-11-05T14:54:12.098Z"
      },
      {
        "duration": 8,
        "start_time": "2023-11-05T15:42:02.917Z"
      },
      {
        "duration": 8,
        "start_time": "2023-11-05T15:42:08.198Z"
      }
    ],
    "toc": {
      "base_numbering": 1,
      "nav_menu": {},
      "number_sections": true,
      "sideBar": true,
      "skip_h1_title": true,
      "title_cell": "Содержание",
      "title_sidebar": "Contents",
      "toc_cell": true,
      "toc_position": {
        "height": "calc(100% - 180px)",
        "left": "10px",
        "top": "150px",
        "width": "302.391px"
      },
      "toc_section_display": true,
      "toc_window_display": false
    }
  },
  "nbformat_minor": 4,
  "nbformat": 4,
  "cells": [
    {
      "cell_type": "markdown",
      "source": "<h1>Содержание<span class=\"tocSkip\"></span></h1>\n<div class=\"toc\"><ul class=\"toc-item\"><li><span><a href=\"#Подготовка\" data-toc-modified-id=\"Подготовка-1\"><span class=\"toc-item-num\">1&nbsp;&nbsp;</span>Подготовка</a></span></li><li><span><a href=\"#Обучение\" data-toc-modified-id=\"Обучение-2\"><span class=\"toc-item-num\">2&nbsp;&nbsp;</span>Обучение</a></span></li><li><span><a href=\"#Выводы\" data-toc-modified-id=\"Выводы-3\"><span class=\"toc-item-num\">3&nbsp;&nbsp;</span>Выводы</a></span></li></ul></div>",
      "metadata": {
        "toc": true
      }
    },
    {
      "cell_type": "markdown",
      "source": "# Проект для «Викишоп»",
      "metadata": {}
    },
    {
      "cell_type": "markdown",
      "source": "Интернет-магазин «Викишоп» запускает новый сервис. Теперь пользователи могут редактировать и дополнять описания товаров, как в вики-сообществах. То есть клиенты предлагают свои правки и комментируют изменения других. Магазину нужен инструмент, который будет искать токсичные комментарии и отправлять их на модерацию. \n\nОбучите модель классифицировать комментарии на позитивные и негативные. В вашем распоряжении набор данных с разметкой о токсичности правок.\n\nПостройте модель со значением метрики качества *F1* не меньше 0.75. \n\n**Инструкция по выполнению проекта**\n\n1. Загрузите и подготовьте данные.\n2. Обучите разные модели. \n3. Сделайте выводы.\n\n**Описание данных**\n\nДанные находятся в файле `toxic_comments.csv`. Столбец *text* в нём содержит текст комментария, а *toxic* — целевой признак.",
      "metadata": {}
    },
    {
      "cell_type": "markdown",
      "source": "## Подготовка",
      "metadata": {}
    },
    {
      "cell_type": "code",
      "source": "import warnings\nwarnings.filterwarnings('ignore')\n\nimport pandas as pd\nimport matplotlib.pyplot as plt\nimport re\nfrom catboost import CatBoostClassifier\nfrom sklearn.feature_extraction.text import TfidfVectorizer\nfrom sklearn.pipeline import Pipeline\nfrom sklearn.model_selection import train_test_split\nfrom sklearn.model_selection import RandomizedSearchCV\nfrom sklearn.linear_model import LogisticRegression, SGDClassifier\nfrom sklearn.ensemble import RandomForestClassifier\nfrom sklearn.metrics import f1_score\n\nimport nltk\nfrom nltk.stem import WordNetLemmatizer \nfrom nltk.corpus import stopwords",
      "metadata": {},
      "outputs": [],
      "execution_count": 27
    },
    {
      "cell_type": "code",
      "source": "nltk.download('punkt')\nnltk.download('wordnet')\nnltk.download('stopwords')",
      "metadata": {},
      "outputs": [
        {
          "name": "stderr",
          "output_type": "stream",
          "text": [
            "[nltk_data] Downloading package punkt to /home/jovyan/nltk_data...\n",
            "[nltk_data]   Package punkt is already up-to-date!\n",
            "[nltk_data] Downloading package wordnet to /home/jovyan/nltk_data...\n",
            "[nltk_data]   Package wordnet is already up-to-date!\n",
            "[nltk_data] Downloading package stopwords to /home/jovyan/nltk_data...\n",
            "[nltk_data]   Package stopwords is already up-to-date!\n"
          ]
        },
        {
          "data": {
            "text/plain": [
              "True"
            ]
          },
          "execution_count": 28,
          "metadata": {},
          "output_type": "execute_result"
        }
      ],
      "execution_count": 28
    },
    {
      "cell_type": "code",
      "source": "sw = stopwords.words('english')",
      "metadata": {},
      "outputs": [],
      "execution_count": 29
    },
    {
      "cell_type": "code",
      "source": "df = pd.read_csv('/datasets/toxic_comments.csv', index_col=[0])",
      "metadata": {},
      "outputs": [],
      "execution_count": 30
    },
    {
      "cell_type": "code",
      "source": "df.sample(5)",
      "metadata": {},
      "outputs": [
        {
          "data": {
            "text/html": [
              "<div>\n",
              "<style scoped>\n",
              "    .dataframe tbody tr th:only-of-type {\n",
              "        vertical-align: middle;\n",
              "    }\n",
              "\n",
              "    .dataframe tbody tr th {\n",
              "        vertical-align: top;\n",
              "    }\n",
              "\n",
              "    .dataframe thead th {\n",
              "        text-align: right;\n",
              "    }\n",
              "</style>\n",
              "<table border=\"1\" class=\"dataframe\">\n",
              "  <thead>\n",
              "    <tr style=\"text-align: right;\">\n",
              "      <th></th>\n",
              "      <th>text</th>\n",
              "      <th>toxic</th>\n",
              "    </tr>\n",
              "  </thead>\n",
              "  <tbody>\n",
              "    <tr>\n",
              "      <th>46337</th>\n",
              "      <td>, but I think we both know your real reason fo...</td>\n",
              "      <td>0</td>\n",
              "    </tr>\n",
              "    <tr>\n",
              "      <th>12813</th>\n",
              "      <td>You made a factual error of tyrannosaurs \\n\\nY...</td>\n",
              "      <td>0</td>\n",
              "    </tr>\n",
              "    <tr>\n",
              "      <th>32425</th>\n",
              "      <td>Repeated vandalism by anon users \\n\\nJust thou...</td>\n",
              "      <td>0</td>\n",
              "    </tr>\n",
              "    <tr>\n",
              "      <th>49716</th>\n",
              "      <td>Public computer \\n\\nThis ip address is located...</td>\n",
              "      <td>0</td>\n",
              "    </tr>\n",
              "    <tr>\n",
              "      <th>112443</th>\n",
              "      <td>\"\\n I am not forgetting to update them, its ju...</td>\n",
              "      <td>0</td>\n",
              "    </tr>\n",
              "  </tbody>\n",
              "</table>\n",
              "</div>"
            ],
            "text/plain": [
              "                                                     text  toxic\n",
              "46337   , but I think we both know your real reason fo...      0\n",
              "12813   You made a factual error of tyrannosaurs \\n\\nY...      0\n",
              "32425   Repeated vandalism by anon users \\n\\nJust thou...      0\n",
              "49716   Public computer \\n\\nThis ip address is located...      0\n",
              "112443  \"\\n I am not forgetting to update them, its ju...      0"
            ]
          },
          "execution_count": 31,
          "metadata": {},
          "output_type": "execute_result"
        }
      ],
      "execution_count": 31
    },
    {
      "cell_type": "code",
      "source": "df.info()",
      "metadata": {},
      "outputs": [
        {
          "name": "stdout",
          "output_type": "stream",
          "text": [
            "<class 'pandas.core.frame.DataFrame'>\n",
            "Int64Index: 159292 entries, 0 to 159450\n",
            "Data columns (total 2 columns):\n",
            " #   Column  Non-Null Count   Dtype \n",
            "---  ------  --------------   ----- \n",
            " 0   text    159292 non-null  object\n",
            " 1   toxic   159292 non-null  int64 \n",
            "dtypes: int64(1), object(1)\n",
            "memory usage: 3.6+ MB\n"
          ]
        }
      ],
      "execution_count": 32
    },
    {
      "cell_type": "code",
      "source": "df.text.isna().sum()",
      "metadata": {},
      "outputs": [
        {
          "data": {
            "text/plain": [
              "0"
            ]
          },
          "execution_count": 33,
          "metadata": {},
          "output_type": "execute_result"
        }
      ],
      "execution_count": 33
    },
    {
      "cell_type": "code",
      "source": "df.toxic.isna().sum()",
      "metadata": {},
      "outputs": [
        {
          "data": {
            "text/plain": [
              "0"
            ]
          },
          "execution_count": 34,
          "metadata": {},
          "output_type": "execute_result"
        }
      ],
      "execution_count": 34
    },
    {
      "cell_type": "markdown",
      "source": "**=> пропусков нет**",
      "metadata": {}
    },
    {
      "cell_type": "code",
      "source": "plt.rcParams[\"figure.figsize\"] = (12,8)",
      "metadata": {},
      "outputs": [],
      "execution_count": 35
    },
    {
      "cell_type": "code",
      "source": "df['toxic'].value_counts().plot(kind='bar', fontsize=15)\n_ = plt.xticks(rotation = 0)",
      "metadata": {},
      "outputs": [
        {
          "data": {
            "image/png": "[encoded data removed]",
            "text/plain": [
              "<Figure size 864x576 with 1 Axes>"
            ]
          },
          "metadata": {
            "needs_background": "light"
          },
          "output_type": "display_data"
        }
      ],
      "execution_count": 36
    },
    {
      "cell_type": "markdown",
      "source": "**=> Виден сильный дисбаланс классов**",
      "metadata": {}
    },
    {
      "cell_type": "code",
      "source": "df['text'] = df['text'].str.lower()",
      "metadata": {},
      "outputs": [],
      "execution_count": 37
    },
    {
      "cell_type": "code",
      "source": "def clear_text(text):\n    clear_list = re.sub(r'[^a-zA-Z ]', ' ', text)\n    clear_text = \" \".join(clear_list.split())\n    return clear_text",
      "metadata": {},
      "outputs": [],
      "execution_count": 38
    },
    {
      "cell_type": "code",
      "source": "df['text'] = df['text'].apply(clear_text)",
      "metadata": {},
      "outputs": [],
      "execution_count": 39
    },
    {
      "cell_type": "code",
      "source": "m = WordNetLemmatizer()",
      "metadata": {},
      "outputs": [],
      "execution_count": 41
    },
    {
      "cell_type": "code",
      "source": "def lemmatize(text):\n    word_list = nltk.word_tokenize(text)\n    lemm_list = [m.lemmatize(w) for w in word_list]\n    lemm_text = \" \".join(lemm_list)\n    return lemm_text",
      "metadata": {},
      "outputs": [],
      "execution_count": 42
    },
    {
      "cell_type": "code",
      "source": "%%time\n\ndf['text'] = df['text'].apply(lemmatize)",
      "metadata": {},
      "outputs": [
        {
          "name": "stdout",
          "output_type": "stream",
          "text": [
            "CPU times: user 1min 17s, sys: 131 ms, total: 1min 17s\n",
            "Wall time: 1min 17s\n"
          ]
        }
      ],
      "execution_count": 44
    },
    {
      "cell_type": "code",
      "source": "df.duplicated().sum()",
      "metadata": {},
      "outputs": [
        {
          "data": {
            "text/plain": [
              "1307"
            ]
          },
          "execution_count": 17,
          "metadata": {},
          "output_type": "execute_result"
        }
      ],
      "execution_count": 17
    },
    {
      "cell_type": "code",
      "source": "df = df.drop_duplicates()",
      "metadata": {},
      "outputs": [],
      "execution_count": 18
    },
    {
      "cell_type": "code",
      "source": "df.duplicated().sum()",
      "metadata": {},
      "outputs": [
        {
          "data": {
            "text/plain": [
              "0"
            ]
          },
          "execution_count": 19,
          "metadata": {},
          "output_type": "execute_result"
        }
      ],
      "execution_count": 19
    },
    {
      "cell_type": "markdown",
      "source": "**=> дубликатов больше нет**",
      "metadata": {}
    },
    {
      "cell_type": "code",
      "source": "train, test = train_test_split(df, test_size=0.2, random_state=12345)\nprint(train.shape, test.shape)",
      "metadata": {},
      "outputs": [
        {
          "name": "stdout",
          "output_type": "stream",
          "text": [
            "(126388, 2) (31597, 2)\n"
          ]
        }
      ],
      "execution_count": 20
    },
    {
      "cell_type": "code",
      "source": "print(\"Соотношение классов в обучающей выборке:\")\nprint(train['toxic'].value_counts())\nprint()\nprint(\"Соотношение классов в тестовой выборке:\")\nprint(test['toxic'].value_counts())",
      "metadata": {},
      "outputs": [
        {
          "name": "stdout",
          "output_type": "stream",
          "text": [
            "Соотношение классов в обучающей выборке:\n",
            "0    113552\n",
            "1     12836\n",
            "Name: toxic, dtype: int64\n",
            "\n",
            "Соотношение классов в тестовой выборке:\n",
            "0    28372\n",
            "1     3225\n",
            "Name: toxic, dtype: int64\n"
          ]
        }
      ],
      "execution_count": 21
    },
    {
      "cell_type": "code",
      "source": "corpus_train = train['text'].values\ncorpus_test = test['text'].values\n\ntarget_train = train['toxic']\ntarget_test = test['toxic']\n\nprint(corpus_train.shape, corpus_test.shape)\nprint(target_train.shape, target_test.shape)",
      "metadata": {},
      "outputs": [
        {
          "name": "stdout",
          "output_type": "stream",
          "text": [
            "(126388,) (31597,)\n",
            "(126388,) (31597,)\n"
          ]
        }
      ],
      "execution_count": 22
    },
    {
      "cell_type": "code",
      "source": "%%time\n\ncount_tf_idf = TfidfVectorizer(min_df=2, stop_words=sw) \ntf_idf_train = count_tf_idf.fit_transform(corpus_train) \ntf_idf_test = count_tf_idf.transform(corpus_test) \n\nprint(\"Размер матрицы:\", tf_idf_train.shape)\nprint(\"Размер матрицы:\", tf_idf_test.shape)",
      "metadata": {},
      "outputs": [
        {
          "name": "stdout",
          "output_type": "stream",
          "text": [
            "Размер матрицы: (126388, 56484)\n",
            "Размер матрицы: (31597, 56484)\n",
            "CPU times: user 6.41 s, sys: 88 ms, total: 6.5 s\n",
            "Wall time: 6.54 s\n"
          ]
        }
      ],
      "execution_count": 23
    },
    {
      "cell_type": "markdown",
      "source": "В результате работы данного блока мы получили:\n* Данные загружены\n* Пропусков в данных не наблюдалось\n* Повторные комментарии были удалени (их было < 1%)\n* Был виден сильный дисбаланс классов\n* созданы и подготовлены тестовые и тренировочные выборки данных для дальнейшего обучения моделей",
      "metadata": {}
    },
    {
      "cell_type": "markdown",
      "source": "## Обучение",
      "metadata": {}
    },
    {
      "cell_type": "markdown",
      "source": "Создадим словарь, в который будем записывать результаты F1-метрики моделей на тренировочных данных:",
      "metadata": {}
    },
    {
      "cell_type": "code",
      "source": "results = {}",
      "metadata": {},
      "outputs": [],
      "execution_count": 24
    },
    {
      "cell_type": "markdown",
      "source": "<font size=5>**LogisticRegression**</font>",
      "metadata": {}
    },
    {
      "cell_type": "code",
      "source": "%%time\n\npipe = Pipeline([('tfidf', TfidfVectorizer(stop_words=sw)), ('lrc', LogisticRegression())])\nparameters = {\n    'tfidf__min_df': range(1, 3, 1),\n    'lrc__C': [1, 10],\n    'lrc__solver': ['newton-cg', 'liblinear']\n}\n\nlr_grid = RandomizedSearchCV(pipe, param_distributions=parameters, verbose=5, scoring='f1') \nlr_grid.fit(corpus_train, target_train) \n\nf1_train = round(abs(lr_grid.best_score_), 3)\nprint()\nprint(f\"Значение F1 модели на трейне: {f1_train}\")\nprint(f\"Оптимальные гиперпараметры для модели: {lr_grid.best_params_}\")",
      "metadata": {},
      "outputs": [
        {
          "name": "stdout",
          "output_type": "stream",
          "text": [
            "Fitting 5 folds for each of 8 candidates, totalling 40 fits\n",
            "[CV 1/5] END lrc__C=1, lrc__solver=newton-cg, tfidf__min_df=1; total time=  24.5s\n",
            "[CV 2/5] END lrc__C=1, lrc__solver=newton-cg, tfidf__min_df=1; total time=  25.9s\n",
            "[CV 3/5] END lrc__C=1, lrc__solver=newton-cg, tfidf__min_df=1; total time=  24.8s\n",
            "[CV 4/5] END lrc__C=1, lrc__solver=newton-cg, tfidf__min_df=1; total time=  25.7s\n",
            "[CV 5/5] END lrc__C=1, lrc__solver=newton-cg, tfidf__min_df=1; total time=  25.5s\n",
            "[CV 1/5] END lrc__C=1, lrc__solver=newton-cg, tfidf__min_df=2; total time=  23.5s\n",
            "[CV 2/5] END lrc__C=1, lrc__solver=newton-cg, tfidf__min_df=2; total time=  22.8s\n",
            "[CV 3/5] END lrc__C=1, lrc__solver=newton-cg, tfidf__min_df=2; total time=  22.8s\n",
            "[CV 4/5] END lrc__C=1, lrc__solver=newton-cg, tfidf__min_df=2; total time=  22.4s\n",
            "[CV 5/5] END lrc__C=1, lrc__solver=newton-cg, tfidf__min_df=2; total time=  22.7s\n",
            "[CV 1/5] END lrc__C=1, lrc__solver=liblinear, tfidf__min_df=1; total time=  14.1s\n",
            "[CV 2/5] END lrc__C=1, lrc__solver=liblinear, tfidf__min_df=1; total time=  13.6s\n",
            "[CV 3/5] END lrc__C=1, lrc__solver=liblinear, tfidf__min_df=1; total time=  13.5s\n",
            "[CV 4/5] END lrc__C=1, lrc__solver=liblinear, tfidf__min_df=1; total time=  14.4s\n",
            "[CV 5/5] END lrc__C=1, lrc__solver=liblinear, tfidf__min_df=1; total time=  13.3s\n",
            "[CV 1/5] END lrc__C=1, lrc__solver=liblinear, tfidf__min_df=2; total time=  11.4s\n",
            "[CV 2/5] END lrc__C=1, lrc__solver=liblinear, tfidf__min_df=2; total time=  12.1s\n",
            "[CV 3/5] END lrc__C=1, lrc__solver=liblinear, tfidf__min_df=2; total time=  11.3s\n",
            "[CV 4/5] END lrc__C=1, lrc__solver=liblinear, tfidf__min_df=2; total time=  13.4s\n",
            "[CV 5/5] END lrc__C=1, lrc__solver=liblinear, tfidf__min_df=2; total time=  11.6s\n",
            "[CV 1/5] END lrc__C=10, lrc__solver=newton-cg, tfidf__min_df=1; total time=  35.0s\n",
            "[CV 2/5] END lrc__C=10, lrc__solver=newton-cg, tfidf__min_df=1; total time=  33.9s\n",
            "[CV 3/5] END lrc__C=10, lrc__solver=newton-cg, tfidf__min_df=1; total time=  33.3s\n",
            "[CV 4/5] END lrc__C=10, lrc__solver=newton-cg, tfidf__min_df=1; total time=  34.5s\n",
            "[CV 5/5] END lrc__C=10, lrc__solver=newton-cg, tfidf__min_df=1; total time=  33.2s\n",
            "[CV 1/5] END lrc__C=10, lrc__solver=newton-cg, tfidf__min_df=2; total time=  27.7s\n",
            "[CV 2/5] END lrc__C=10, lrc__solver=newton-cg, tfidf__min_df=2; total time=  28.7s\n",
            "[CV 3/5] END lrc__C=10, lrc__solver=newton-cg, tfidf__min_df=2; total time=  28.6s\n",
            "[CV 4/5] END lrc__C=10, lrc__solver=newton-cg, tfidf__min_df=2; total time=  29.5s\n",
            "[CV 5/5] END lrc__C=10, lrc__solver=newton-cg, tfidf__min_df=2; total time=  28.4s\n",
            "[CV 1/5] END lrc__C=10, lrc__solver=liblinear, tfidf__min_df=1; total time=  20.3s\n",
            "[CV 2/5] END lrc__C=10, lrc__solver=liblinear, tfidf__min_df=1; total time=  21.3s\n",
            "[CV 3/5] END lrc__C=10, lrc__solver=liblinear, tfidf__min_df=1; total time=  21.0s\n",
            "[CV 4/5] END lrc__C=10, lrc__solver=liblinear, tfidf__min_df=1; total time=  20.8s\n",
            "[CV 5/5] END lrc__C=10, lrc__solver=liblinear, tfidf__min_df=1; total time=  21.2s\n",
            "[CV 1/5] END lrc__C=10, lrc__solver=liblinear, tfidf__min_df=2; total time=  20.2s\n",
            "[CV 2/5] END lrc__C=10, lrc__solver=liblinear, tfidf__min_df=2; total time=  18.8s\n",
            "[CV 3/5] END lrc__C=10, lrc__solver=liblinear, tfidf__min_df=2; total time=  19.0s\n",
            "[CV 4/5] END lrc__C=10, lrc__solver=liblinear, tfidf__min_df=2; total time=  18.8s\n",
            "[CV 5/5] END lrc__C=10, lrc__solver=liblinear, tfidf__min_df=2; total time=  18.4s\n",
            "\n",
            "Значение F1 модели на трейне: 0.769\n",
            "Оптимальные гиперпараметры для модели: {'tfidf__min_df': 2, 'lrc__solver': 'newton-cg', 'lrc__C': 10}\n",
            "\n",
            "CPU times: user 9min 31s, sys: 5min 47s, total: 15min 18s\n",
            "Wall time: 15min 20s\n"
          ]
        }
      ],
      "execution_count": 37
    },
    {
      "cell_type": "code",
      "source": "results['LogisticRegression'] = f1_train ",
      "metadata": {},
      "outputs": [],
      "execution_count": 26
    },
    {
      "cell_type": "markdown",
      "source": "<font size=5>**RandomForestClassifier**</font>",
      "metadata": {}
    },
    {
      "cell_type": "code",
      "source": "%%time\n\npipe = Pipeline([('tfidf', TfidfVectorizer(stop_words=sw)), ('rfc', RandomForestClassifier(random_state=12345))])\nparameters = {\n    'rfc__n_estimators': [90, 110, 130, 150],\n    'tfidf__min_df': range(1, 3, 1)\n}\n\nforest_grid = RandomizedSearchCV(pipe, param_distributions=parameters, scoring='f1', verbose=5, n_jobs=-1) \nforest_grid.fit(corpus_train, target_train) \n\nf1_train = round(abs(forest_grid.best_score_), 3)\nrf_best_params = forest_grid.best_params_\nprint()\nprint(f\"Значение F1 модели на трейне: {f1_train}\")\nprint(f\"Оптимальные гиперпараметры для модели: {rf_best_params}\")",
      "metadata": {},
      "outputs": [
        {
          "name": "stdout",
          "output_type": "stream",
          "text": [
            "Fitting 5 folds for each of 8 candidates, totalling 40 fits\n",
            "[CV 1/5] END ..........rfc__n_estimators=90, tfidf__min_df=1; total time= 5.6min\n",
            "[CV 2/5] END ..........rfc__n_estimators=90, tfidf__min_df=1; total time= 5.6min\n",
            "[CV 3/5] END ..........rfc__n_estimators=90, tfidf__min_df=1; total time= 5.4min\n",
            "[CV 4/5] END ..........rfc__n_estimators=90, tfidf__min_df=1; total time= 5.5min\n",
            "[CV 5/5] END ..........rfc__n_estimators=90, tfidf__min_df=1; total time= 5.3min\n",
            "[CV 1/5] END ..........rfc__n_estimators=90, tfidf__min_df=2; total time= 3.7min\n",
            "[CV 2/5] END ..........rfc__n_estimators=90, tfidf__min_df=2; total time= 3.7min\n",
            "[CV 3/5] END ..........rfc__n_estimators=90, tfidf__min_df=2; total time= 3.8min\n",
            "[CV 4/5] END ..........rfc__n_estimators=90, tfidf__min_df=2; total time= 3.8min\n",
            "[CV 5/5] END ..........rfc__n_estimators=90, tfidf__min_df=2; total time= 3.7min\n",
            "[CV 1/5] END .........rfc__n_estimators=110, tfidf__min_df=1; total time= 6.9min\n",
            "[CV 2/5] END .........rfc__n_estimators=110, tfidf__min_df=1; total time= 6.7min\n",
            "[CV 3/5] END .........rfc__n_estimators=110, tfidf__min_df=1; total time= 7.0min\n",
            "[CV 4/5] END .........rfc__n_estimators=110, tfidf__min_df=1; total time= 6.8min\n",
            "[CV 5/5] END .........rfc__n_estimators=110, tfidf__min_df=1; total time= 6.8min\n",
            "[CV 1/5] END .........rfc__n_estimators=110, tfidf__min_df=2; total time= 4.7min\n",
            "[CV 2/5] END .........rfc__n_estimators=110, tfidf__min_df=2; total time= 4.7min\n",
            "[CV 3/5] END .........rfc__n_estimators=110, tfidf__min_df=2; total time= 4.6min\n",
            "[CV 4/5] END .........rfc__n_estimators=110, tfidf__min_df=2; total time= 4.5min\n",
            "[CV 5/5] END .........rfc__n_estimators=110, tfidf__min_df=2; total time= 4.5min\n",
            "[CV 1/5] END .........rfc__n_estimators=130, tfidf__min_df=1; total time= 8.3min\n",
            "[CV 2/5] END .........rfc__n_estimators=130, tfidf__min_df=1; total time= 8.0min\n",
            "[CV 3/5] END .........rfc__n_estimators=130, tfidf__min_df=1; total time= 7.8min\n",
            "[CV 4/5] END .........rfc__n_estimators=130, tfidf__min_df=1; total time= 7.7min\n",
            "[CV 5/5] END .........rfc__n_estimators=130, tfidf__min_df=1; total time= 7.7min\n",
            "[CV 1/5] END .........rfc__n_estimators=130, tfidf__min_df=2; total time= 5.3min\n",
            "[CV 2/5] END .........rfc__n_estimators=130, tfidf__min_df=2; total time= 5.2min\n",
            "[CV 3/5] END .........rfc__n_estimators=130, tfidf__min_df=2; total time= 5.2min\n",
            "[CV 4/5] END .........rfc__n_estimators=130, tfidf__min_df=2; total time= 5.2min\n",
            "[CV 5/5] END .........rfc__n_estimators=130, tfidf__min_df=2; total time= 5.2min\n",
            "[CV 1/5] END .........rfc__n_estimators=150, tfidf__min_df=1; total time= 9.3min\n",
            "[CV 2/5] END .........rfc__n_estimators=150, tfidf__min_df=1; total time= 9.0min\n",
            "[CV 3/5] END .........rfc__n_estimators=150, tfidf__min_df=1; total time= 8.9min\n",
            "[CV 4/5] END .........rfc__n_estimators=150, tfidf__min_df=1; total time= 8.8min\n",
            "[CV 5/5] END .........rfc__n_estimators=150, tfidf__min_df=1; total time= 8.7min\n",
            "[CV 1/5] END .........rfc__n_estimators=150, tfidf__min_df=2; total time= 6.0min\n",
            "[CV 2/5] END .........rfc__n_estimators=150, tfidf__min_df=2; total time= 6.0min\n",
            "[CV 3/5] END .........rfc__n_estimators=150, tfidf__min_df=2; total time= 5.9min\n",
            "[CV 4/5] END .........rfc__n_estimators=150, tfidf__min_df=2; total time= 5.8min\n",
            "[CV 5/5] END .........rfc__n_estimators=150, tfidf__min_df=2; total time= 5.9min\n",
            "\n",
            "Значение F1 модели на трейне: 0.726\n",
            "Оптимальные гиперпараметры для модели: {'tfidf__min_df': 2, 'rfc__n_estimators': 130}\n",
            "\n",
            "CPU times: user 4h 10min 36s, sys: 19.2 s, total: 4h 10min 56s\n",
            "Wall time: 4h 11min 1s\n"
          ]
        }
      ],
      "execution_count": 27
    },
    {
      "cell_type": "code",
      "source": "results['RandomForestClassifier'] = f1_train",
      "metadata": {},
      "outputs": [],
      "execution_count": 28
    },
    {
      "cell_type": "markdown",
      "source": "<font size=5>**CatBoostClassifier**</font>",
      "metadata": {}
    },
    {
      "cell_type": "code",
      "source": "%%time\n\npipe = Pipeline([('tfidf', TfidfVectorizer(stop_words=sw)),\n                 ('cbc', CatBoostClassifier(random_state=12345, verbose=False))])\nparameters = {\n    'cbc__iterations': [100, 200, 300],\n    'tfidf__min_df': range(1, 3, 1),\n}\n\ncb_grid = RandomizedSearchCV(pipe, param_distributions=parameters, scoring='f1', verbose=5, n_jobs=-1) \ncb_grid.fit(corpus_train, target_train) \n\nf1_train = round(abs(cb_grid.best_score_), 3)\ncb_best_params = cb_grid.best_params_\n\nprint()\nprint(f\"Значение F1 модели на трейне: {f1_train}\")\nprint(f\"Оптимальные гиперпараметры для модели: {cb_best_params}\")",
      "metadata": {
        "scrolled": true
      },
      "outputs": [
        {
          "name": "stdout",
          "output_type": "stream",
          "text": [
            "Fitting 5 folds for each of 6 candidates, totalling 30 fits\n",
            "[CV 1/5] END ...........cbc__iterations=100, tfidf__min_df=1; total time= 3.6min\n",
            "[CV 2/5] END ...........cbc__iterations=100, tfidf__min_df=1; total time= 3.6min\n",
            "[CV 3/5] END ...........cbc__iterations=100, tfidf__min_df=1; total time= 3.6min\n",
            "[CV 4/5] END ...........cbc__iterations=100, tfidf__min_df=1; total time= 3.6min\n",
            "[CV 5/5] END ...........cbc__iterations=100, tfidf__min_df=1; total time= 3.6min\n",
            "[CV 1/5] END ...........cbc__iterations=100, tfidf__min_df=2; total time= 3.0min\n",
            "[CV 2/5] END ...........cbc__iterations=100, tfidf__min_df=2; total time= 3.0min\n",
            "[CV 3/5] END ...........cbc__iterations=100, tfidf__min_df=2; total time= 3.0min\n",
            "[CV 4/5] END ...........cbc__iterations=100, tfidf__min_df=2; total time= 3.0min\n",
            "[CV 5/5] END ...........cbc__iterations=100, tfidf__min_df=2; total time= 3.0min\n",
            "[CV 1/5] END ...........cbc__iterations=200, tfidf__min_df=1; total time= 6.5min\n",
            "[CV 2/5] END ...........cbc__iterations=200, tfidf__min_df=1; total time= 6.6min\n",
            "[CV 3/5] END ...........cbc__iterations=200, tfidf__min_df=1; total time= 6.6min\n",
            "[CV 4/5] END ...........cbc__iterations=200, tfidf__min_df=1; total time= 6.6min\n",
            "[CV 5/5] END ...........cbc__iterations=200, tfidf__min_df=1; total time= 6.6min\n",
            "[CV 1/5] END ...........cbc__iterations=200, tfidf__min_df=2; total time= 5.7min\n",
            "[CV 2/5] END ...........cbc__iterations=200, tfidf__min_df=2; total time= 5.7min\n",
            "[CV 3/5] END ...........cbc__iterations=200, tfidf__min_df=2; total time= 5.7min\n",
            "[CV 4/5] END ...........cbc__iterations=200, tfidf__min_df=2; total time= 5.7min\n",
            "[CV 5/5] END ...........cbc__iterations=200, tfidf__min_df=2; total time= 5.7min\n",
            "[CV 1/5] END ...........cbc__iterations=300, tfidf__min_df=1; total time= 9.6min\n",
            "[CV 2/5] END ...........cbc__iterations=300, tfidf__min_df=1; total time= 9.8min\n",
            "[CV 3/5] END ...........cbc__iterations=300, tfidf__min_df=1; total time= 9.6min\n",
            "[CV 4/5] END ...........cbc__iterations=300, tfidf__min_df=1; total time= 9.6min\n",
            "[CV 5/5] END ...........cbc__iterations=300, tfidf__min_df=1; total time= 9.6min\n",
            "[CV 1/5] END ...........cbc__iterations=300, tfidf__min_df=2; total time= 8.4min\n",
            "[CV 2/5] END ...........cbc__iterations=300, tfidf__min_df=2; total time= 8.4min\n",
            "[CV 3/5] END ...........cbc__iterations=300, tfidf__min_df=2; total time= 8.4min\n",
            "[CV 4/5] END ...........cbc__iterations=300, tfidf__min_df=2; total time= 8.3min\n",
            "[CV 5/5] END ...........cbc__iterations=300, tfidf__min_df=2; total time= 8.4min\n",
            "\n",
            "Значение F1 модели на трейне: 0.746\n",
            "Оптимальные гиперпараметры для модели: {'tfidf__min_df': 1, 'cbc__iterations': 300}\n",
            "\n",
            "CPU times: user 3h 13min 53s, sys: 1min 19s, total: 3h 15min 12s\n",
            "Wall time: 3h 15min 41s\n"
          ]
        }
      ],
      "execution_count": 29
    },
    {
      "cell_type": "code",
      "source": "results['CatBoostClassifier'] = f1_train",
      "metadata": {},
      "outputs": [],
      "execution_count": 30
    },
    {
      "cell_type": "markdown",
      "source": "<font size=5>**SGDClassifier**</font>",
      "metadata": {}
    },
    {
      "cell_type": "code",
      "source": "%%time\n\npipe = Pipeline([('tfidf', TfidfVectorizer(stop_words=sw)),\n                 ('sgdc', SGDClassifier(verbose=False))])\nparameters = {\n    'sgdc__eta0': [0.1, 0.2],\n    'tfidf__min_df': range(1, 3, 1),\n}\n\nsgd_grid = RandomizedSearchCV(pipe, param_distributions=parameters, scoring='f1', verbose=5, n_jobs=-1) \nsgd_grid.fit(corpus_train, target_train) \n\nf1_train = round(abs(grid.best_score_), 3)\nsgd_best_params = sgd_grid.best_params_\n\nprint()\nprint(f\"Значение F1 модели на трейне: {f1_train}\")\nprint(f\"Оптимальные гиперпараметры для модели: {sgd__best_params}\")",
      "metadata": {},
      "outputs": [
        {
          "name": "stdout",
          "output_type": "stream",
          "text": [
            "Fitting 5 folds for each of 4 candidates, totalling 20 fits\n",
            "[CV 1/5] END ................sgdc__eta0=0.1, tfidf__min_df=1; total time=   5.5s\n",
            "[CV 2/5] END ................sgdc__eta0=0.1, tfidf__min_df=1; total time=   5.6s\n",
            "[CV 3/5] END ................sgdc__eta0=0.1, tfidf__min_df=1; total time=   5.6s\n",
            "[CV 4/5] END ................sgdc__eta0=0.1, tfidf__min_df=1; total time=   5.5s\n",
            "[CV 5/5] END ................sgdc__eta0=0.1, tfidf__min_df=1; total time=   5.6s\n",
            "[CV 1/5] END ................sgdc__eta0=0.1, tfidf__min_df=2; total time=   5.4s\n",
            "[CV 2/5] END ................sgdc__eta0=0.1, tfidf__min_df=2; total time=   5.4s\n",
            "[CV 3/5] END ................sgdc__eta0=0.1, tfidf__min_df=2; total time=   5.5s\n",
            "[CV 4/5] END ................sgdc__eta0=0.1, tfidf__min_df=2; total time=   5.4s\n",
            "[CV 5/5] END ................sgdc__eta0=0.1, tfidf__min_df=2; total time=   5.4s\n",
            "[CV 1/5] END ................sgdc__eta0=0.2, tfidf__min_df=1; total time=   5.5s\n",
            "[CV 2/5] END ................sgdc__eta0=0.2, tfidf__min_df=1; total time=   5.5s\n",
            "[CV 3/5] END ................sgdc__eta0=0.2, tfidf__min_df=1; total time=   5.5s\n",
            "[CV 4/5] END ................sgdc__eta0=0.2, tfidf__min_df=1; total time=   5.6s\n",
            "[CV 5/5] END ................sgdc__eta0=0.2, tfidf__min_df=1; total time=   5.5s\n",
            "[CV 1/5] END ................sgdc__eta0=0.2, tfidf__min_df=2; total time=   5.4s\n",
            "[CV 2/5] END ................sgdc__eta0=0.2, tfidf__min_df=2; total time=   5.4s\n",
            "[CV 3/5] END ................sgdc__eta0=0.2, tfidf__min_df=2; total time=   5.4s\n",
            "[CV 4/5] END ................sgdc__eta0=0.2, tfidf__min_df=2; total time=   5.5s\n",
            "[CV 5/5] END ................sgdc__eta0=0.2, tfidf__min_df=2; total time=   5.4s\n",
            "\n",
            "Значение F1 модели на трейне: 0.634\n",
            "Оптимальные гиперпараметры для модели: {'tfidf__min_df': 2, 'sgdc__eta0': 0.1}\n",
            "\n",
            "CPU times: user 1min 53s, sys: 2.13 s, total: 1min 55s\n",
            "Wall time: 1min 55s\n"
          ]
        }
      ],
      "execution_count": 34
    },
    {
      "cell_type": "code",
      "source": "results['SGDClassifier'] = f1_train",
      "metadata": {},
      "outputs": [],
      "execution_count": 35
    },
    {
      "cell_type": "code",
      "source": "res_df = pd.DataFrame.from_dict(data=results, columns=['F1_train'], orient='index')\nres_df",
      "metadata": {},
      "outputs": [
        {
          "data": {
            "text/html": [
              "<div>\n",
              "<style scoped>\n",
              "    .dataframe tbody tr th:only-of-type {\n",
              "        vertical-align: middle;\n",
              "    }\n",
              "\n",
              "    .dataframe tbody tr th {\n",
              "        vertical-align: top;\n",
              "    }\n",
              "\n",
              "    .dataframe thead th {\n",
              "        text-align: right;\n",
              "    }\n",
              "</style>\n",
              "<table border=\"1\" class=\"dataframe\">\n",
              "  <thead>\n",
              "    <tr style=\"text-align: right;\">\n",
              "      <th></th>\n",
              "      <th>F1_train</th>\n",
              "    </tr>\n",
              "  </thead>\n",
              "  <tbody>\n",
              "    <tr>\n",
              "      <th>LogisticRegression</th>\n",
              "      <td>0.769</td>\n",
              "    </tr>\n",
              "    <tr>\n",
              "      <th>RandomForestClassifier</th>\n",
              "      <td>0.726</td>\n",
              "    </tr>\n",
              "    <tr>\n",
              "      <th>CatBoostClassifier</th>\n",
              "      <td>0.746</td>\n",
              "    </tr>\n",
              "    <tr>\n",
              "      <th>SGDClassifier</th>\n",
              "      <td>0.634</td>\n",
              "    </tr>\n",
              "  </tbody>\n",
              "</table>\n",
              "</div>"
            ],
            "text/plain": [
              "                        F1_train\n",
              "LogisticRegression         0.769\n",
              "RandomForestClassifier     0.726\n",
              "CatBoostClassifier         0.746\n",
              "SGDClassifier              0.634"
            ]
          },
          "execution_count": 36,
          "metadata": {},
          "output_type": "execute_result"
        }
      ],
      "execution_count": 36
    },
    {
      "cell_type": "markdown",
      "source": "Единственная модель, F1 показатель которой превысил 0.75 (он же и наибольший) является модель логистической регрессии. Её работу мы и проверим на тестовых данных.",
      "metadata": {}
    },
    {
      "cell_type": "code",
      "source": "%%time\n\npipe = Pipeline([('tfidf', TfidfVectorizer(stop_words=sw)), ('lrc', LogisticRegression())])\npipe.set_params(**lr_grid.best_params_)\npipe.fit(corpus_train, target_train)\n\ntarget_predict = pipe.predict(corpus_test)\nf1_test = round(f1_score(target_test, target_predict), 3)\nprint(f\"F1 модели на тесте: {f1_test}\")",
      "metadata": {},
      "outputs": [
        {
          "name": "stdout",
          "output_type": "stream",
          "text": [
            "F1 модели на тесте: 0.773\n",
            "CPU times: user 22.7 s, sys: 17 s, total: 39.7 s\n",
            "Wall time: 39.8 s\n"
          ]
        }
      ],
      "execution_count": 39
    },
    {
      "cell_type": "markdown",
      "source": "Проверка на константной модели:",
      "metadata": {}
    },
    {
      "cell_type": "code",
      "source": "%%time\n\ndummy_model = [1 for i in range(len(target_test))]\nconst_f1 = f1_score(target_test.reset_index(drop=True), dummy_model)\nprint(f\"F1 для константной модели: {const_f1:.3f}\")",
      "metadata": {
        "scrolled": true
      },
      "outputs": [
        {
          "name": "stdout",
          "output_type": "stream",
          "text": [
            "F1 для константной модели: 0.185\n",
            "CPU times: user 23.5 ms, sys: 0 ns, total: 23.5 ms\n",
            "Wall time: 22.2 ms\n"
          ]
        }
      ],
      "execution_count": 41
    },
    {
      "cell_type": "markdown",
      "source": "## Выводы",
      "metadata": {}
    },
    {
      "cell_type": "markdown",
      "source": "* Был загружен и корректно обработан датасет, содержащий ~160_000 строк\n* Были обучены (и проверены по метрике F1) следующие модели машинного обучения для задачи классификации:\n    * Логистическая регрессия (`LogisticRegression`) с F1 на тренировочных данных 0.769\n    * Случайный лес (`RandomForestClassifier`) с F1 на тренировочных данных 0.729\n    * Градиентный бустинг (`CatBoostClassifier`) с F1 на тренировочных данных 0.746\n    * `SGDClassifier` с F1 на тренировочных данных 0.634  \n    \n    \n* Все, кроме первой модели, выдали плохое значение метрики, а модели случайного леса и градиентного бустинга обучались 4 и 3 часа соответственно\n* Логистическая регрессия на тестовых данных дала нужный результат:\n    * F1 метрика равняется 0.773\n    * Время работы составило ~40с\n    * Константная модель отработала сильно хуже (F1 == 0.185)",
      "metadata": {}
    }
  ]
}