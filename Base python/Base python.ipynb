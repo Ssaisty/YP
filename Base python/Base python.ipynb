{
  "metadata": {
    "kernelspec": {
      "name": "python",
      "display_name": "Python (Pyodide)",
      "language": "python"
    },
    "language_info": {
      "codemirror_mode": {
        "name": "python",
        "version": 3
      },
      "file_extension": ".py",
      "mimetype": "text/x-python",
      "name": "python",
      "nbconvert_exporter": "python",
      "pygments_lexer": "ipython3",
      "version": "3.8"
    },
    "ExecuteTimeLog": [
      {
        "duration": 3,
        "start_time": "2023-03-23T17:33:21.158Z"
      },
      {
        "duration": 418,
        "start_time": "2023-03-23T17:34:12.473Z"
      },
      {
        "duration": 288,
        "start_time": "2023-03-23T17:34:20.504Z"
      },
      {
        "duration": 18,
        "start_time": "2023-03-23T17:34:30.011Z"
      },
      {
        "duration": 32,
        "start_time": "2023-03-23T17:34:40.223Z"
      },
      {
        "duration": 470,
        "start_time": "2023-03-24T14:33:30.520Z"
      },
      {
        "duration": 224,
        "start_time": "2023-03-24T14:33:30.992Z"
      },
      {
        "duration": 27,
        "start_time": "2023-03-24T14:33:31.218Z"
      },
      {
        "duration": 131,
        "start_time": "2023-03-24T14:33:31.251Z"
      },
      {
        "duration": 64,
        "start_time": "2023-03-24T14:33:31.384Z"
      },
      {
        "duration": 41,
        "start_time": "2023-03-24T14:33:31.450Z"
      },
      {
        "duration": 56,
        "start_time": "2023-03-24T14:33:31.493Z"
      },
      {
        "duration": 51,
        "start_time": "2023-03-24T14:33:31.552Z"
      },
      {
        "duration": 75,
        "start_time": "2023-03-24T14:33:31.605Z"
      },
      {
        "duration": 37,
        "start_time": "2023-03-24T14:33:31.682Z"
      },
      {
        "duration": 46,
        "start_time": "2023-03-24T14:33:31.726Z"
      },
      {
        "duration": 37,
        "start_time": "2023-03-24T14:33:31.774Z"
      },
      {
        "duration": 70,
        "start_time": "2023-03-24T14:33:31.813Z"
      },
      {
        "duration": 30,
        "start_time": "2023-03-24T14:33:31.885Z"
      },
      {
        "duration": 47,
        "start_time": "2023-03-24T14:33:31.919Z"
      },
      {
        "duration": 17,
        "start_time": "2023-03-24T14:33:31.968Z"
      },
      {
        "duration": 11,
        "start_time": "2023-03-24T14:33:31.987Z"
      },
      {
        "duration": 12,
        "start_time": "2023-03-24T14:33:32.002Z"
      },
      {
        "duration": 51,
        "start_time": "2023-03-24T14:33:32.018Z"
      },
      {
        "duration": 22,
        "start_time": "2023-03-24T14:33:32.071Z"
      },
      {
        "duration": 65,
        "start_time": "2023-03-24T14:33:32.095Z"
      },
      {
        "duration": 29,
        "start_time": "2023-03-24T14:33:32.163Z"
      },
      {
        "duration": 14,
        "start_time": "2023-03-24T14:33:32.194Z"
      },
      {
        "duration": 61,
        "start_time": "2023-03-24T14:33:32.210Z"
      },
      {
        "duration": 41,
        "start_time": "2023-03-24T14:33:32.273Z"
      },
      {
        "duration": 45,
        "start_time": "2023-03-24T14:33:32.316Z"
      },
      {
        "duration": 36,
        "start_time": "2023-03-24T14:33:32.363Z"
      },
      {
        "duration": 40,
        "start_time": "2023-03-24T14:33:32.403Z"
      },
      {
        "duration": 18,
        "start_time": "2023-03-24T14:33:32.446Z"
      },
      {
        "duration": 139,
        "start_time": "2023-03-24T14:33:32.467Z"
      },
      {
        "duration": 0,
        "start_time": "2023-03-24T14:33:32.608Z"
      },
      {
        "duration": 0,
        "start_time": "2023-03-24T14:33:32.611Z"
      },
      {
        "duration": 0,
        "start_time": "2023-03-24T14:33:32.613Z"
      },
      {
        "duration": 0,
        "start_time": "2023-03-24T14:33:32.614Z"
      },
      {
        "duration": 0,
        "start_time": "2023-03-24T14:33:32.615Z"
      },
      {
        "duration": 0,
        "start_time": "2023-03-24T14:33:32.617Z"
      },
      {
        "duration": 0,
        "start_time": "2023-03-24T14:33:32.618Z"
      },
      {
        "duration": 0,
        "start_time": "2023-03-24T14:33:32.620Z"
      },
      {
        "duration": 4,
        "start_time": "2023-03-24T14:34:20.198Z"
      },
      {
        "duration": 3,
        "start_time": "2023-03-24T14:35:08.770Z"
      },
      {
        "duration": 16,
        "start_time": "2023-03-24T14:35:39.144Z"
      },
      {
        "duration": 24,
        "start_time": "2023-03-24T14:37:49.590Z"
      },
      {
        "duration": 458,
        "start_time": "2023-03-24T14:38:10.112Z"
      },
      {
        "duration": 209,
        "start_time": "2023-03-24T14:38:10.572Z"
      },
      {
        "duration": 18,
        "start_time": "2023-03-24T14:38:10.784Z"
      },
      {
        "duration": 58,
        "start_time": "2023-03-24T14:38:10.804Z"
      },
      {
        "duration": 3,
        "start_time": "2023-03-24T14:38:10.864Z"
      },
      {
        "duration": 18,
        "start_time": "2023-03-24T14:38:10.869Z"
      },
      {
        "duration": 18,
        "start_time": "2023-03-24T14:38:10.889Z"
      },
      {
        "duration": 12,
        "start_time": "2023-03-24T14:38:10.919Z"
      },
      {
        "duration": 18,
        "start_time": "2023-03-24T14:38:10.933Z"
      },
      {
        "duration": 6,
        "start_time": "2023-03-24T14:38:10.954Z"
      },
      {
        "duration": 6,
        "start_time": "2023-03-24T14:38:10.962Z"
      },
      {
        "duration": 7,
        "start_time": "2023-03-24T14:38:10.969Z"
      },
      {
        "duration": 6,
        "start_time": "2023-03-24T14:38:10.978Z"
      },
      {
        "duration": 9,
        "start_time": "2023-03-24T14:38:10.985Z"
      },
      {
        "duration": 9,
        "start_time": "2023-03-24T14:38:10.996Z"
      },
      {
        "duration": 5,
        "start_time": "2023-03-24T14:38:11.007Z"
      },
      {
        "duration": 32,
        "start_time": "2023-03-24T14:38:11.013Z"
      },
      {
        "duration": 7,
        "start_time": "2023-03-24T14:38:11.047Z"
      },
      {
        "duration": 11,
        "start_time": "2023-03-24T14:38:11.055Z"
      },
      {
        "duration": 8,
        "start_time": "2023-03-24T14:38:11.068Z"
      },
      {
        "duration": 6,
        "start_time": "2023-03-24T14:38:11.078Z"
      },
      {
        "duration": 7,
        "start_time": "2023-03-24T14:38:11.085Z"
      },
      {
        "duration": 5,
        "start_time": "2023-03-24T14:38:11.094Z"
      },
      {
        "duration": 9,
        "start_time": "2023-03-24T14:38:11.100Z"
      },
      {
        "duration": 34,
        "start_time": "2023-03-24T14:38:11.111Z"
      },
      {
        "duration": 13,
        "start_time": "2023-03-24T14:38:11.147Z"
      },
      {
        "duration": 7,
        "start_time": "2023-03-24T14:38:11.161Z"
      },
      {
        "duration": 17,
        "start_time": "2023-03-24T14:38:11.171Z"
      },
      {
        "duration": 7,
        "start_time": "2023-03-24T14:38:11.190Z"
      },
      {
        "duration": 100,
        "start_time": "2023-03-24T14:38:11.198Z"
      },
      {
        "duration": 0,
        "start_time": "2023-03-24T14:38:11.300Z"
      },
      {
        "duration": 0,
        "start_time": "2023-03-24T14:38:11.301Z"
      },
      {
        "duration": 0,
        "start_time": "2023-03-24T14:38:11.302Z"
      },
      {
        "duration": 0,
        "start_time": "2023-03-24T14:38:11.303Z"
      },
      {
        "duration": 0,
        "start_time": "2023-03-24T14:38:11.305Z"
      },
      {
        "duration": 0,
        "start_time": "2023-03-24T14:38:11.306Z"
      },
      {
        "duration": 0,
        "start_time": "2023-03-24T14:38:11.307Z"
      },
      {
        "duration": 0,
        "start_time": "2023-03-24T14:38:11.308Z"
      },
      {
        "duration": 15,
        "start_time": "2023-03-24T14:38:39.153Z"
      },
      {
        "duration": 4,
        "start_time": "2023-03-24T14:39:27.672Z"
      },
      {
        "duration": 102,
        "start_time": "2023-03-24T14:40:02.243Z"
      },
      {
        "duration": 29,
        "start_time": "2023-03-24T14:40:15.948Z"
      },
      {
        "duration": 17,
        "start_time": "2023-03-24T14:41:17.867Z"
      },
      {
        "duration": 29,
        "start_time": "2023-03-24T14:42:38.162Z"
      },
      {
        "duration": 441,
        "start_time": "2023-03-24T14:51:56.189Z"
      },
      {
        "duration": 206,
        "start_time": "2023-03-24T14:51:56.633Z"
      },
      {
        "duration": 19,
        "start_time": "2023-03-24T14:51:56.842Z"
      },
      {
        "duration": 42,
        "start_time": "2023-03-24T14:51:56.863Z"
      },
      {
        "duration": 2,
        "start_time": "2023-03-24T14:51:56.907Z"
      },
      {
        "duration": 23,
        "start_time": "2023-03-24T14:51:56.919Z"
      },
      {
        "duration": 18,
        "start_time": "2023-03-24T14:51:56.944Z"
      },
      {
        "duration": 22,
        "start_time": "2023-03-24T14:51:56.964Z"
      },
      {
        "duration": 40,
        "start_time": "2023-03-24T14:51:56.988Z"
      },
      {
        "duration": 36,
        "start_time": "2023-03-24T14:51:57.033Z"
      },
      {
        "duration": 28,
        "start_time": "2023-03-24T14:51:57.071Z"
      },
      {
        "duration": 14,
        "start_time": "2023-03-24T14:51:57.101Z"
      },
      {
        "duration": 16,
        "start_time": "2023-03-24T14:51:57.117Z"
      },
      {
        "duration": 30,
        "start_time": "2023-03-24T14:51:57.134Z"
      },
      {
        "duration": 13,
        "start_time": "2023-03-24T14:51:57.166Z"
      },
      {
        "duration": 14,
        "start_time": "2023-03-24T14:51:57.181Z"
      },
      {
        "duration": 17,
        "start_time": "2023-03-24T14:51:57.197Z"
      },
      {
        "duration": 17,
        "start_time": "2023-03-24T14:51:57.218Z"
      },
      {
        "duration": 10,
        "start_time": "2023-03-24T14:51:57.237Z"
      },
      {
        "duration": 12,
        "start_time": "2023-03-24T14:51:57.248Z"
      },
      {
        "duration": 9,
        "start_time": "2023-03-24T14:51:57.262Z"
      },
      {
        "duration": 10,
        "start_time": "2023-03-24T14:51:57.273Z"
      },
      {
        "duration": 10,
        "start_time": "2023-03-24T14:51:57.285Z"
      },
      {
        "duration": 17,
        "start_time": "2023-03-24T14:51:57.297Z"
      },
      {
        "duration": 18,
        "start_time": "2023-03-24T14:51:57.316Z"
      },
      {
        "duration": 10,
        "start_time": "2023-03-24T14:51:57.336Z"
      },
      {
        "duration": 11,
        "start_time": "2023-03-24T14:51:57.348Z"
      },
      {
        "duration": 7,
        "start_time": "2023-03-24T14:51:57.362Z"
      },
      {
        "duration": 7,
        "start_time": "2023-03-24T14:51:57.371Z"
      },
      {
        "duration": 81,
        "start_time": "2023-03-24T14:51:57.379Z"
      },
      {
        "duration": 0,
        "start_time": "2023-03-24T14:51:57.462Z"
      },
      {
        "duration": 0,
        "start_time": "2023-03-24T14:51:57.464Z"
      },
      {
        "duration": 1,
        "start_time": "2023-03-24T14:51:57.465Z"
      },
      {
        "duration": 0,
        "start_time": "2023-03-24T14:51:57.467Z"
      },
      {
        "duration": 0,
        "start_time": "2023-03-24T14:51:57.469Z"
      },
      {
        "duration": 0,
        "start_time": "2023-03-24T14:51:57.470Z"
      },
      {
        "duration": 0,
        "start_time": "2023-03-24T14:51:57.472Z"
      },
      {
        "duration": 0,
        "start_time": "2023-03-24T14:51:57.474Z"
      },
      {
        "duration": 20,
        "start_time": "2023-03-24T14:53:46.149Z"
      },
      {
        "duration": 26,
        "start_time": "2023-03-24T14:53:48.983Z"
      },
      {
        "duration": 83,
        "start_time": "2023-03-24T14:54:11.103Z"
      },
      {
        "duration": 80,
        "start_time": "2023-03-24T14:54:32.167Z"
      },
      {
        "duration": 94,
        "start_time": "2023-03-24T14:54:37.894Z"
      },
      {
        "duration": 9,
        "start_time": "2023-03-24T14:54:52.740Z"
      },
      {
        "duration": 95,
        "start_time": "2023-03-24T14:55:01.081Z"
      },
      {
        "duration": 98,
        "start_time": "2023-03-24T14:55:27.806Z"
      },
      {
        "duration": 111,
        "start_time": "2023-03-24T14:55:37.233Z"
      },
      {
        "duration": 97,
        "start_time": "2023-03-24T14:55:58.544Z"
      },
      {
        "duration": 427,
        "start_time": "2023-03-24T14:56:33.584Z"
      },
      {
        "duration": 194,
        "start_time": "2023-03-24T14:56:34.013Z"
      },
      {
        "duration": 24,
        "start_time": "2023-03-24T14:56:34.211Z"
      },
      {
        "duration": 54,
        "start_time": "2023-03-24T14:56:34.238Z"
      },
      {
        "duration": 14,
        "start_time": "2023-03-24T14:56:34.294Z"
      },
      {
        "duration": 35,
        "start_time": "2023-03-24T14:56:34.310Z"
      },
      {
        "duration": 30,
        "start_time": "2023-03-24T14:56:34.347Z"
      },
      {
        "duration": 12,
        "start_time": "2023-03-24T14:56:34.379Z"
      },
      {
        "duration": 56,
        "start_time": "2023-03-24T14:56:34.393Z"
      },
      {
        "duration": 28,
        "start_time": "2023-03-24T14:56:34.451Z"
      },
      {
        "duration": 31,
        "start_time": "2023-03-24T14:56:34.480Z"
      },
      {
        "duration": 100,
        "start_time": "2023-03-24T14:56:34.517Z"
      },
      {
        "duration": 101,
        "start_time": "2023-03-24T14:56:34.623Z"
      },
      {
        "duration": 20,
        "start_time": "2023-03-24T14:56:34.726Z"
      },
      {
        "duration": 12,
        "start_time": "2023-03-24T14:56:34.747Z"
      },
      {
        "duration": 8,
        "start_time": "2023-03-24T14:56:34.761Z"
      },
      {
        "duration": 11,
        "start_time": "2023-03-24T14:56:34.770Z"
      },
      {
        "duration": 15,
        "start_time": "2023-03-24T14:56:34.782Z"
      },
      {
        "duration": 14,
        "start_time": "2023-03-24T14:56:34.799Z"
      },
      {
        "duration": 13,
        "start_time": "2023-03-24T14:56:34.814Z"
      },
      {
        "duration": 17,
        "start_time": "2023-03-24T14:56:34.830Z"
      },
      {
        "duration": 10,
        "start_time": "2023-03-24T14:56:34.850Z"
      },
      {
        "duration": 7,
        "start_time": "2023-03-24T14:56:34.862Z"
      },
      {
        "duration": 6,
        "start_time": "2023-03-24T14:56:34.870Z"
      },
      {
        "duration": 18,
        "start_time": "2023-03-24T14:56:34.878Z"
      },
      {
        "duration": 14,
        "start_time": "2023-03-24T14:56:34.898Z"
      },
      {
        "duration": 9,
        "start_time": "2023-03-24T14:56:34.914Z"
      },
      {
        "duration": 22,
        "start_time": "2023-03-24T14:56:34.926Z"
      },
      {
        "duration": 8,
        "start_time": "2023-03-24T14:56:34.950Z"
      },
      {
        "duration": 90,
        "start_time": "2023-03-24T14:56:34.960Z"
      },
      {
        "duration": 0,
        "start_time": "2023-03-24T14:56:35.052Z"
      },
      {
        "duration": 0,
        "start_time": "2023-03-24T14:56:35.054Z"
      },
      {
        "duration": 0,
        "start_time": "2023-03-24T14:56:35.055Z"
      },
      {
        "duration": 0,
        "start_time": "2023-03-24T14:56:35.056Z"
      },
      {
        "duration": 0,
        "start_time": "2023-03-24T14:56:35.057Z"
      },
      {
        "duration": 0,
        "start_time": "2023-03-24T14:56:35.058Z"
      },
      {
        "duration": 0,
        "start_time": "2023-03-24T14:56:35.060Z"
      },
      {
        "duration": 0,
        "start_time": "2023-03-24T14:56:35.061Z"
      },
      {
        "duration": 100,
        "start_time": "2023-03-24T14:57:06.353Z"
      },
      {
        "duration": 92,
        "start_time": "2023-03-24T14:57:41.105Z"
      },
      {
        "duration": 76,
        "start_time": "2023-03-24T14:58:03.832Z"
      },
      {
        "duration": 444,
        "start_time": "2023-03-24T14:58:10.488Z"
      },
      {
        "duration": 211,
        "start_time": "2023-03-24T14:58:10.935Z"
      },
      {
        "duration": 18,
        "start_time": "2023-03-24T14:58:11.148Z"
      },
      {
        "duration": 49,
        "start_time": "2023-03-24T14:58:11.169Z"
      },
      {
        "duration": 3,
        "start_time": "2023-03-24T14:58:11.221Z"
      },
      {
        "duration": 32,
        "start_time": "2023-03-24T14:58:11.226Z"
      },
      {
        "duration": 14,
        "start_time": "2023-03-24T14:58:11.260Z"
      },
      {
        "duration": 21,
        "start_time": "2023-03-24T14:58:11.276Z"
      },
      {
        "duration": 59,
        "start_time": "2023-03-24T14:58:11.299Z"
      },
      {
        "duration": 23,
        "start_time": "2023-03-24T14:58:11.360Z"
      },
      {
        "duration": 39,
        "start_time": "2023-03-24T14:58:11.385Z"
      },
      {
        "duration": 87,
        "start_time": "2023-03-24T14:58:11.426Z"
      },
      {
        "duration": 89,
        "start_time": "2023-03-24T14:58:11.515Z"
      },
      {
        "duration": 28,
        "start_time": "2023-03-24T14:58:11.607Z"
      },
      {
        "duration": 36,
        "start_time": "2023-03-24T14:58:11.637Z"
      },
      {
        "duration": 34,
        "start_time": "2023-03-24T14:58:11.674Z"
      },
      {
        "duration": 42,
        "start_time": "2023-03-24T14:58:11.710Z"
      },
      {
        "duration": 25,
        "start_time": "2023-03-24T14:58:11.754Z"
      },
      {
        "duration": 25,
        "start_time": "2023-03-24T14:58:11.781Z"
      },
      {
        "duration": 6,
        "start_time": "2023-03-24T14:58:11.808Z"
      },
      {
        "duration": 27,
        "start_time": "2023-03-24T14:58:11.816Z"
      },
      {
        "duration": 26,
        "start_time": "2023-03-24T14:58:11.845Z"
      },
      {
        "duration": 19,
        "start_time": "2023-03-24T14:58:11.873Z"
      },
      {
        "duration": 36,
        "start_time": "2023-03-24T14:58:11.893Z"
      },
      {
        "duration": 78,
        "start_time": "2023-03-24T14:58:11.930Z"
      },
      {
        "duration": 20,
        "start_time": "2023-03-24T14:58:12.010Z"
      },
      {
        "duration": 31,
        "start_time": "2023-03-24T14:58:12.033Z"
      },
      {
        "duration": 19,
        "start_time": "2023-03-24T14:58:12.066Z"
      },
      {
        "duration": 16,
        "start_time": "2023-03-24T14:58:12.087Z"
      },
      {
        "duration": 94,
        "start_time": "2023-03-24T14:58:12.106Z"
      },
      {
        "duration": 0,
        "start_time": "2023-03-24T14:58:12.201Z"
      },
      {
        "duration": 0,
        "start_time": "2023-03-24T14:58:12.202Z"
      },
      {
        "duration": 0,
        "start_time": "2023-03-24T14:58:12.203Z"
      },
      {
        "duration": 0,
        "start_time": "2023-03-24T14:58:12.204Z"
      },
      {
        "duration": 0,
        "start_time": "2023-03-24T14:58:12.205Z"
      },
      {
        "duration": 0,
        "start_time": "2023-03-24T14:58:12.206Z"
      },
      {
        "duration": 0,
        "start_time": "2023-03-24T14:58:12.208Z"
      },
      {
        "duration": 0,
        "start_time": "2023-03-24T14:58:12.209Z"
      },
      {
        "duration": 63,
        "start_time": "2023-03-24T15:10:35.218Z"
      },
      {
        "duration": 453,
        "start_time": "2023-03-24T15:11:54.804Z"
      },
      {
        "duration": 181,
        "start_time": "2023-03-24T15:11:55.259Z"
      },
      {
        "duration": 18,
        "start_time": "2023-03-24T15:11:55.442Z"
      },
      {
        "duration": 36,
        "start_time": "2023-03-24T15:11:55.462Z"
      },
      {
        "duration": 2,
        "start_time": "2023-03-24T15:11:55.501Z"
      },
      {
        "duration": 4,
        "start_time": "2023-03-24T15:11:55.517Z"
      },
      {
        "duration": 17,
        "start_time": "2023-03-24T15:11:55.523Z"
      },
      {
        "duration": 14,
        "start_time": "2023-03-24T15:11:55.542Z"
      },
      {
        "duration": 34,
        "start_time": "2023-03-24T15:11:55.557Z"
      },
      {
        "duration": 29,
        "start_time": "2023-03-24T15:11:55.592Z"
      },
      {
        "duration": 31,
        "start_time": "2023-03-24T15:11:55.622Z"
      },
      {
        "duration": 78,
        "start_time": "2023-03-24T15:11:55.655Z"
      },
      {
        "duration": 96,
        "start_time": "2023-03-24T15:11:55.735Z"
      },
      {
        "duration": 61,
        "start_time": "2023-03-24T15:11:55.834Z"
      },
      {
        "duration": 2,
        "start_time": "2023-03-24T15:11:55.897Z"
      },
      {
        "duration": 27,
        "start_time": "2023-03-24T15:11:55.900Z"
      },
      {
        "duration": 14,
        "start_time": "2023-03-24T15:11:55.929Z"
      },
      {
        "duration": 13,
        "start_time": "2023-03-24T15:11:55.944Z"
      },
      {
        "duration": 18,
        "start_time": "2023-03-24T15:11:55.959Z"
      },
      {
        "duration": 21,
        "start_time": "2023-03-24T15:11:55.979Z"
      },
      {
        "duration": 30,
        "start_time": "2023-03-24T15:11:56.001Z"
      },
      {
        "duration": 21,
        "start_time": "2023-03-24T15:11:56.033Z"
      },
      {
        "duration": 15,
        "start_time": "2023-03-24T15:11:56.056Z"
      },
      {
        "duration": 32,
        "start_time": "2023-03-24T15:11:56.073Z"
      },
      {
        "duration": 21,
        "start_time": "2023-03-24T15:11:56.107Z"
      },
      {
        "duration": 10,
        "start_time": "2023-03-24T15:11:56.130Z"
      },
      {
        "duration": 12,
        "start_time": "2023-03-24T15:11:56.142Z"
      },
      {
        "duration": 9,
        "start_time": "2023-03-24T15:11:56.156Z"
      },
      {
        "duration": 8,
        "start_time": "2023-03-24T15:11:56.167Z"
      },
      {
        "duration": 100,
        "start_time": "2023-03-24T15:11:56.177Z"
      },
      {
        "duration": 0,
        "start_time": "2023-03-24T15:11:56.279Z"
      },
      {
        "duration": 0,
        "start_time": "2023-03-24T15:11:56.280Z"
      },
      {
        "duration": 0,
        "start_time": "2023-03-24T15:11:56.281Z"
      },
      {
        "duration": 0,
        "start_time": "2023-03-24T15:11:56.283Z"
      },
      {
        "duration": 0,
        "start_time": "2023-03-24T15:11:56.284Z"
      },
      {
        "duration": 0,
        "start_time": "2023-03-24T15:11:56.285Z"
      },
      {
        "duration": 0,
        "start_time": "2023-03-24T15:11:56.286Z"
      },
      {
        "duration": 0,
        "start_time": "2023-03-24T15:11:56.287Z"
      },
      {
        "duration": 430,
        "start_time": "2023-03-24T15:17:30.504Z"
      },
      {
        "duration": 188,
        "start_time": "2023-03-24T15:17:30.936Z"
      },
      {
        "duration": 19,
        "start_time": "2023-03-24T15:17:31.126Z"
      },
      {
        "duration": 60,
        "start_time": "2023-03-24T15:17:31.148Z"
      },
      {
        "duration": 52,
        "start_time": "2023-03-24T15:17:31.210Z"
      },
      {
        "duration": 30,
        "start_time": "2023-03-24T15:17:31.264Z"
      },
      {
        "duration": 59,
        "start_time": "2023-03-24T15:17:31.295Z"
      },
      {
        "duration": 48,
        "start_time": "2023-03-24T15:17:31.356Z"
      },
      {
        "duration": 46,
        "start_time": "2023-03-24T15:17:31.406Z"
      },
      {
        "duration": 52,
        "start_time": "2023-03-24T15:17:31.455Z"
      },
      {
        "duration": 28,
        "start_time": "2023-03-24T15:17:31.510Z"
      },
      {
        "duration": 116,
        "start_time": "2023-03-24T15:17:31.540Z"
      },
      {
        "duration": 103,
        "start_time": "2023-03-24T15:17:31.658Z"
      },
      {
        "duration": 77,
        "start_time": "2023-03-24T15:17:31.763Z"
      },
      {
        "duration": 3,
        "start_time": "2023-03-24T15:17:31.843Z"
      },
      {
        "duration": 23,
        "start_time": "2023-03-24T15:17:31.848Z"
      },
      {
        "duration": 17,
        "start_time": "2023-03-24T15:17:31.872Z"
      },
      {
        "duration": 10,
        "start_time": "2023-03-24T15:17:31.891Z"
      },
      {
        "duration": 12,
        "start_time": "2023-03-24T15:17:31.903Z"
      },
      {
        "duration": 28,
        "start_time": "2023-03-24T15:17:31.917Z"
      },
      {
        "duration": 15,
        "start_time": "2023-03-24T15:17:31.947Z"
      },
      {
        "duration": 16,
        "start_time": "2023-03-24T15:17:31.965Z"
      },
      {
        "duration": 17,
        "start_time": "2023-03-24T15:17:31.983Z"
      },
      {
        "duration": 19,
        "start_time": "2023-03-24T15:17:32.002Z"
      },
      {
        "duration": 30,
        "start_time": "2023-03-24T15:17:32.023Z"
      },
      {
        "duration": 21,
        "start_time": "2023-03-24T15:17:32.055Z"
      },
      {
        "duration": 23,
        "start_time": "2023-03-24T15:17:32.078Z"
      },
      {
        "duration": 30,
        "start_time": "2023-03-24T15:17:32.105Z"
      },
      {
        "duration": 20,
        "start_time": "2023-03-24T15:17:32.138Z"
      },
      {
        "duration": 301,
        "start_time": "2023-03-24T15:17:32.160Z"
      },
      {
        "duration": 0,
        "start_time": "2023-03-24T15:17:32.463Z"
      },
      {
        "duration": 0,
        "start_time": "2023-03-24T15:17:32.464Z"
      },
      {
        "duration": 0,
        "start_time": "2023-03-24T15:17:32.466Z"
      },
      {
        "duration": 0,
        "start_time": "2023-03-24T15:17:32.467Z"
      },
      {
        "duration": 0,
        "start_time": "2023-03-24T15:17:32.469Z"
      },
      {
        "duration": 0,
        "start_time": "2023-03-24T15:17:32.471Z"
      },
      {
        "duration": 0,
        "start_time": "2023-03-24T15:17:32.472Z"
      },
      {
        "duration": 0,
        "start_time": "2023-03-24T15:17:32.474Z"
      },
      {
        "duration": 461,
        "start_time": "2023-03-24T15:18:11.196Z"
      },
      {
        "duration": 186,
        "start_time": "2023-03-24T15:18:11.659Z"
      },
      {
        "duration": 20,
        "start_time": "2023-03-24T15:18:11.847Z"
      },
      {
        "duration": 61,
        "start_time": "2023-03-24T15:18:11.870Z"
      },
      {
        "duration": 47,
        "start_time": "2023-03-24T15:18:11.933Z"
      },
      {
        "duration": 27,
        "start_time": "2023-03-24T15:18:11.982Z"
      },
      {
        "duration": 41,
        "start_time": "2023-03-24T15:18:12.011Z"
      },
      {
        "duration": 36,
        "start_time": "2023-03-24T15:18:12.053Z"
      },
      {
        "duration": 47,
        "start_time": "2023-03-24T15:18:12.091Z"
      },
      {
        "duration": 45,
        "start_time": "2023-03-24T15:18:12.141Z"
      },
      {
        "duration": 41,
        "start_time": "2023-03-24T15:18:12.188Z"
      },
      {
        "duration": 89,
        "start_time": "2023-03-24T15:18:12.231Z"
      },
      {
        "duration": 86,
        "start_time": "2023-03-24T15:18:12.321Z"
      },
      {
        "duration": 88,
        "start_time": "2023-03-24T15:18:12.409Z"
      },
      {
        "duration": 19,
        "start_time": "2023-03-24T15:18:12.500Z"
      },
      {
        "duration": 45,
        "start_time": "2023-03-24T15:18:12.521Z"
      },
      {
        "duration": 18,
        "start_time": "2023-03-24T15:18:12.569Z"
      },
      {
        "duration": 40,
        "start_time": "2023-03-24T15:18:12.590Z"
      },
      {
        "duration": 45,
        "start_time": "2023-03-24T15:18:12.632Z"
      },
      {
        "duration": 38,
        "start_time": "2023-03-24T15:18:12.682Z"
      },
      {
        "duration": 31,
        "start_time": "2023-03-24T15:18:12.722Z"
      },
      {
        "duration": 20,
        "start_time": "2023-03-24T15:18:12.755Z"
      },
      {
        "duration": 33,
        "start_time": "2023-03-24T15:18:12.776Z"
      },
      {
        "duration": 21,
        "start_time": "2023-03-24T15:18:12.811Z"
      },
      {
        "duration": 22,
        "start_time": "2023-03-24T15:18:12.834Z"
      },
      {
        "duration": 16,
        "start_time": "2023-03-24T15:18:12.859Z"
      },
      {
        "duration": 11,
        "start_time": "2023-03-24T15:18:12.877Z"
      },
      {
        "duration": 11,
        "start_time": "2023-03-24T15:18:12.891Z"
      },
      {
        "duration": 10,
        "start_time": "2023-03-24T15:18:12.904Z"
      },
      {
        "duration": 160,
        "start_time": "2023-03-24T15:18:12.916Z"
      },
      {
        "duration": 0,
        "start_time": "2023-03-24T15:18:13.078Z"
      },
      {
        "duration": 0,
        "start_time": "2023-03-24T15:18:13.079Z"
      },
      {
        "duration": 0,
        "start_time": "2023-03-24T15:18:13.080Z"
      },
      {
        "duration": 0,
        "start_time": "2023-03-24T15:18:13.081Z"
      },
      {
        "duration": 0,
        "start_time": "2023-03-24T15:18:13.082Z"
      },
      {
        "duration": 0,
        "start_time": "2023-03-24T15:18:13.083Z"
      },
      {
        "duration": 0,
        "start_time": "2023-03-24T15:18:13.085Z"
      },
      {
        "duration": 0,
        "start_time": "2023-03-24T15:18:13.086Z"
      },
      {
        "duration": 403,
        "start_time": "2023-03-24T15:22:03.162Z"
      },
      {
        "duration": 202,
        "start_time": "2023-03-24T15:22:03.567Z"
      },
      {
        "duration": 20,
        "start_time": "2023-03-24T15:22:03.771Z"
      },
      {
        "duration": 64,
        "start_time": "2023-03-24T15:22:03.793Z"
      },
      {
        "duration": 17,
        "start_time": "2023-03-24T15:22:03.859Z"
      },
      {
        "duration": 32,
        "start_time": "2023-03-24T15:22:03.878Z"
      },
      {
        "duration": 34,
        "start_time": "2023-03-24T15:22:03.912Z"
      },
      {
        "duration": 23,
        "start_time": "2023-03-24T15:22:03.948Z"
      },
      {
        "duration": 34,
        "start_time": "2023-03-24T15:22:03.973Z"
      },
      {
        "duration": 51,
        "start_time": "2023-03-24T15:22:04.009Z"
      },
      {
        "duration": 25,
        "start_time": "2023-03-24T15:22:04.062Z"
      },
      {
        "duration": 96,
        "start_time": "2023-03-24T15:22:04.088Z"
      },
      {
        "duration": 107,
        "start_time": "2023-03-24T15:22:04.185Z"
      },
      {
        "duration": 83,
        "start_time": "2023-03-24T15:22:04.294Z"
      },
      {
        "duration": 3,
        "start_time": "2023-03-24T15:22:04.379Z"
      },
      {
        "duration": 33,
        "start_time": "2023-03-24T15:22:04.383Z"
      },
      {
        "duration": 27,
        "start_time": "2023-03-24T15:22:04.419Z"
      },
      {
        "duration": 15,
        "start_time": "2023-03-24T15:22:04.448Z"
      },
      {
        "duration": 15,
        "start_time": "2023-03-24T15:22:04.464Z"
      },
      {
        "duration": 8,
        "start_time": "2023-03-24T15:22:04.481Z"
      },
      {
        "duration": 17,
        "start_time": "2023-03-24T15:22:04.491Z"
      },
      {
        "duration": 17,
        "start_time": "2023-03-24T15:22:04.510Z"
      },
      {
        "duration": 15,
        "start_time": "2023-03-24T15:22:04.530Z"
      },
      {
        "duration": 17,
        "start_time": "2023-03-24T15:22:04.547Z"
      },
      {
        "duration": 17,
        "start_time": "2023-03-24T15:22:04.566Z"
      },
      {
        "duration": 27,
        "start_time": "2023-03-24T15:22:04.584Z"
      },
      {
        "duration": 26,
        "start_time": "2023-03-24T15:22:04.613Z"
      },
      {
        "duration": 14,
        "start_time": "2023-03-24T15:22:04.643Z"
      },
      {
        "duration": 20,
        "start_time": "2023-03-24T15:22:04.659Z"
      },
      {
        "duration": 99,
        "start_time": "2023-03-24T15:22:04.681Z"
      },
      {
        "duration": 0,
        "start_time": "2023-03-24T15:22:04.782Z"
      },
      {
        "duration": 0,
        "start_time": "2023-03-24T15:22:04.783Z"
      },
      {
        "duration": 0,
        "start_time": "2023-03-24T15:22:04.784Z"
      },
      {
        "duration": 0,
        "start_time": "2023-03-24T15:22:04.785Z"
      },
      {
        "duration": 0,
        "start_time": "2023-03-24T15:22:04.786Z"
      },
      {
        "duration": 0,
        "start_time": "2023-03-24T15:22:04.787Z"
      },
      {
        "duration": 0,
        "start_time": "2023-03-24T15:22:04.788Z"
      },
      {
        "duration": 0,
        "start_time": "2023-03-24T15:22:04.790Z"
      },
      {
        "duration": 409,
        "start_time": "2023-03-24T15:23:54.236Z"
      },
      {
        "duration": 194,
        "start_time": "2023-03-24T15:23:54.648Z"
      },
      {
        "duration": 21,
        "start_time": "2023-03-24T15:23:54.844Z"
      },
      {
        "duration": 53,
        "start_time": "2023-03-24T15:23:54.866Z"
      },
      {
        "duration": 31,
        "start_time": "2023-03-24T15:23:54.921Z"
      },
      {
        "duration": 13,
        "start_time": "2023-03-24T15:23:54.954Z"
      },
      {
        "duration": 23,
        "start_time": "2023-03-24T15:23:54.969Z"
      },
      {
        "duration": 20,
        "start_time": "2023-03-24T15:23:54.994Z"
      },
      {
        "duration": 45,
        "start_time": "2023-03-24T15:23:55.015Z"
      },
      {
        "duration": 38,
        "start_time": "2023-03-24T15:23:55.061Z"
      },
      {
        "duration": 95,
        "start_time": "2023-03-24T15:23:55.101Z"
      },
      {
        "duration": 95,
        "start_time": "2023-03-24T15:23:55.198Z"
      },
      {
        "duration": 100,
        "start_time": "2023-03-24T15:23:55.295Z"
      },
      {
        "duration": 84,
        "start_time": "2023-03-24T15:23:55.400Z"
      },
      {
        "duration": 3,
        "start_time": "2023-03-24T15:23:55.486Z"
      },
      {
        "duration": 18,
        "start_time": "2023-03-24T15:23:55.491Z"
      },
      {
        "duration": 35,
        "start_time": "2023-03-24T15:23:55.512Z"
      },
      {
        "duration": 22,
        "start_time": "2023-03-24T15:23:55.549Z"
      },
      {
        "duration": 31,
        "start_time": "2023-03-24T15:23:55.572Z"
      },
      {
        "duration": 11,
        "start_time": "2023-03-24T15:23:55.605Z"
      },
      {
        "duration": 25,
        "start_time": "2023-03-24T15:23:55.618Z"
      },
      {
        "duration": 20,
        "start_time": "2023-03-24T15:23:55.645Z"
      },
      {
        "duration": 16,
        "start_time": "2023-03-24T15:23:55.668Z"
      },
      {
        "duration": 16,
        "start_time": "2023-03-24T15:23:55.686Z"
      },
      {
        "duration": 29,
        "start_time": "2023-03-24T15:23:55.704Z"
      },
      {
        "duration": 31,
        "start_time": "2023-03-24T15:23:55.735Z"
      },
      {
        "duration": 15,
        "start_time": "2023-03-24T15:23:55.768Z"
      },
      {
        "duration": 13,
        "start_time": "2023-03-24T15:23:55.785Z"
      },
      {
        "duration": 27,
        "start_time": "2023-03-24T15:23:55.800Z"
      },
      {
        "duration": 92,
        "start_time": "2023-03-24T15:23:55.830Z"
      },
      {
        "duration": 0,
        "start_time": "2023-03-24T15:23:55.924Z"
      },
      {
        "duration": 0,
        "start_time": "2023-03-24T15:23:55.925Z"
      },
      {
        "duration": 0,
        "start_time": "2023-03-24T15:23:55.927Z"
      },
      {
        "duration": 0,
        "start_time": "2023-03-24T15:23:55.928Z"
      },
      {
        "duration": 0,
        "start_time": "2023-03-24T15:23:55.929Z"
      },
      {
        "duration": 0,
        "start_time": "2023-03-24T15:23:55.930Z"
      },
      {
        "duration": 0,
        "start_time": "2023-03-24T15:23:55.932Z"
      },
      {
        "duration": 0,
        "start_time": "2023-03-24T15:23:55.933Z"
      },
      {
        "duration": 101,
        "start_time": "2023-03-24T15:54:21.839Z"
      },
      {
        "duration": 79,
        "start_time": "2023-03-24T15:54:25.432Z"
      },
      {
        "duration": 77,
        "start_time": "2023-03-24T16:00:09.897Z"
      },
      {
        "duration": 9,
        "start_time": "2023-03-24T16:00:13.584Z"
      },
      {
        "duration": 38,
        "start_time": "2023-03-24T16:00:41.328Z"
      },
      {
        "duration": 43,
        "start_time": "2023-03-24T16:00:49.066Z"
      },
      {
        "duration": 12,
        "start_time": "2023-03-24T16:01:56.007Z"
      },
      {
        "duration": 56,
        "start_time": "2023-03-24T19:29:11.183Z"
      },
      {
        "duration": 450,
        "start_time": "2023-03-24T19:29:20.434Z"
      },
      {
        "duration": 525,
        "start_time": "2023-03-24T19:29:20.887Z"
      },
      {
        "duration": 25,
        "start_time": "2023-03-24T19:29:21.413Z"
      },
      {
        "duration": 29,
        "start_time": "2023-03-24T19:29:21.443Z"
      },
      {
        "duration": 3,
        "start_time": "2023-03-24T19:29:21.474Z"
      },
      {
        "duration": 12,
        "start_time": "2023-03-24T19:29:21.478Z"
      },
      {
        "duration": 12,
        "start_time": "2023-03-24T19:29:21.492Z"
      },
      {
        "duration": 5,
        "start_time": "2023-03-24T19:29:21.506Z"
      },
      {
        "duration": 35,
        "start_time": "2023-03-24T19:29:21.526Z"
      },
      {
        "duration": 20,
        "start_time": "2023-03-24T19:29:21.564Z"
      },
      {
        "duration": 45,
        "start_time": "2023-03-24T19:29:21.586Z"
      },
      {
        "duration": 72,
        "start_time": "2023-03-24T19:29:21.634Z"
      },
      {
        "duration": 105,
        "start_time": "2023-03-24T19:29:21.708Z"
      },
      {
        "duration": 86,
        "start_time": "2023-03-24T19:29:21.817Z"
      },
      {
        "duration": 55,
        "start_time": "2023-03-24T19:29:21.906Z"
      },
      {
        "duration": 12,
        "start_time": "2023-03-24T19:29:21.963Z"
      },
      {
        "duration": 64,
        "start_time": "2023-03-24T19:29:21.977Z"
      },
      {
        "duration": 15,
        "start_time": "2023-03-24T19:29:22.046Z"
      },
      {
        "duration": 8,
        "start_time": "2023-03-24T19:29:22.063Z"
      },
      {
        "duration": 4,
        "start_time": "2023-03-24T19:29:22.073Z"
      },
      {
        "duration": 4,
        "start_time": "2023-03-24T19:29:22.079Z"
      },
      {
        "duration": 7,
        "start_time": "2023-03-24T19:29:22.085Z"
      },
      {
        "duration": 3,
        "start_time": "2023-03-24T19:29:22.094Z"
      },
      {
        "duration": 4,
        "start_time": "2023-03-24T19:29:22.099Z"
      },
      {
        "duration": 19,
        "start_time": "2023-03-24T19:29:22.124Z"
      },
      {
        "duration": 5,
        "start_time": "2023-03-24T19:29:22.145Z"
      },
      {
        "duration": 19,
        "start_time": "2023-03-24T19:29:22.152Z"
      },
      {
        "duration": 66,
        "start_time": "2023-03-24T19:29:22.173Z"
      },
      {
        "duration": 8,
        "start_time": "2023-03-24T19:29:22.241Z"
      },
      {
        "duration": 47,
        "start_time": "2023-03-24T19:29:22.251Z"
      },
      {
        "duration": 0,
        "start_time": "2023-03-24T19:29:22.300Z"
      },
      {
        "duration": 0,
        "start_time": "2023-03-24T19:29:22.301Z"
      },
      {
        "duration": 0,
        "start_time": "2023-03-24T19:29:22.302Z"
      },
      {
        "duration": 0,
        "start_time": "2023-03-24T19:29:22.303Z"
      },
      {
        "duration": 0,
        "start_time": "2023-03-24T19:29:22.305Z"
      },
      {
        "duration": 0,
        "start_time": "2023-03-24T19:29:22.305Z"
      },
      {
        "duration": 0,
        "start_time": "2023-03-24T19:29:22.306Z"
      },
      {
        "duration": 0,
        "start_time": "2023-03-24T19:29:22.308Z"
      },
      {
        "duration": 13,
        "start_time": "2023-03-24T19:29:46.392Z"
      },
      {
        "duration": 5,
        "start_time": "2023-03-24T19:29:54.683Z"
      },
      {
        "duration": 4,
        "start_time": "2023-03-24T19:30:00.188Z"
      },
      {
        "duration": 8,
        "start_time": "2023-03-24T19:30:07.341Z"
      },
      {
        "duration": 35,
        "start_time": "2023-03-24T19:38:03.153Z"
      },
      {
        "duration": 1019,
        "start_time": "2023-03-24T19:39:16.347Z"
      },
      {
        "duration": 63,
        "start_time": "2023-03-24T19:39:20.352Z"
      },
      {
        "duration": 17,
        "start_time": "2023-03-24T19:39:35.551Z"
      },
      {
        "duration": 12,
        "start_time": "2023-03-24T19:42:16.299Z"
      },
      {
        "duration": 29,
        "start_time": "2023-03-24T19:43:00.243Z"
      },
      {
        "duration": 10,
        "start_time": "2023-03-24T20:00:12.014Z"
      },
      {
        "duration": 16,
        "start_time": "2023-03-25T10:05:56.402Z"
      },
      {
        "duration": 4,
        "start_time": "2023-03-25T10:08:13.872Z"
      },
      {
        "duration": 483,
        "start_time": "2023-03-25T10:08:24.692Z"
      },
      {
        "duration": 309,
        "start_time": "2023-03-25T10:08:25.178Z"
      },
      {
        "duration": 20,
        "start_time": "2023-03-25T10:08:25.489Z"
      },
      {
        "duration": 57,
        "start_time": "2023-03-25T10:08:25.511Z"
      },
      {
        "duration": 16,
        "start_time": "2023-03-25T10:08:25.571Z"
      },
      {
        "duration": 22,
        "start_time": "2023-03-25T10:08:25.589Z"
      },
      {
        "duration": 48,
        "start_time": "2023-03-25T10:08:25.613Z"
      },
      {
        "duration": 22,
        "start_time": "2023-03-25T10:08:25.663Z"
      },
      {
        "duration": 60,
        "start_time": "2023-03-25T10:08:25.687Z"
      },
      {
        "duration": 39,
        "start_time": "2023-03-25T10:08:25.750Z"
      },
      {
        "duration": 29,
        "start_time": "2023-03-25T10:08:25.791Z"
      },
      {
        "duration": 97,
        "start_time": "2023-03-25T10:08:25.822Z"
      },
      {
        "duration": 84,
        "start_time": "2023-03-25T10:08:25.920Z"
      },
      {
        "duration": 92,
        "start_time": "2023-03-25T10:08:26.009Z"
      },
      {
        "duration": 67,
        "start_time": "2023-03-25T10:08:26.103Z"
      },
      {
        "duration": 12,
        "start_time": "2023-03-25T10:08:26.171Z"
      },
      {
        "duration": 71,
        "start_time": "2023-03-25T10:08:26.185Z"
      },
      {
        "duration": 14,
        "start_time": "2023-03-25T10:08:26.258Z"
      },
      {
        "duration": 20,
        "start_time": "2023-03-25T10:08:26.274Z"
      },
      {
        "duration": 43,
        "start_time": "2023-03-25T10:08:26.296Z"
      },
      {
        "duration": 57,
        "start_time": "2023-03-25T10:08:26.342Z"
      },
      {
        "duration": 34,
        "start_time": "2023-03-25T10:08:26.400Z"
      },
      {
        "duration": 49,
        "start_time": "2023-03-25T10:08:26.437Z"
      },
      {
        "duration": 22,
        "start_time": "2023-03-25T10:08:26.487Z"
      },
      {
        "duration": 31,
        "start_time": "2023-03-25T10:08:26.510Z"
      },
      {
        "duration": 50,
        "start_time": "2023-03-25T10:08:26.543Z"
      },
      {
        "duration": 97,
        "start_time": "2023-03-25T10:08:26.595Z"
      },
      {
        "duration": 16,
        "start_time": "2023-03-25T10:08:26.694Z"
      },
      {
        "duration": 27,
        "start_time": "2023-03-25T10:08:26.712Z"
      },
      {
        "duration": 116,
        "start_time": "2023-03-25T10:08:26.741Z"
      },
      {
        "duration": 0,
        "start_time": "2023-03-25T10:08:26.859Z"
      },
      {
        "duration": 0,
        "start_time": "2023-03-25T10:08:26.861Z"
      },
      {
        "duration": 0,
        "start_time": "2023-03-25T10:08:26.863Z"
      },
      {
        "duration": 0,
        "start_time": "2023-03-25T10:08:26.865Z"
      },
      {
        "duration": 0,
        "start_time": "2023-03-25T10:08:26.867Z"
      },
      {
        "duration": 0,
        "start_time": "2023-03-25T10:08:26.869Z"
      },
      {
        "duration": 0,
        "start_time": "2023-03-25T10:08:26.870Z"
      },
      {
        "duration": 0,
        "start_time": "2023-03-25T10:08:26.872Z"
      },
      {
        "duration": 4,
        "start_time": "2023-03-25T10:08:32.118Z"
      },
      {
        "duration": 8,
        "start_time": "2023-03-25T10:09:56.693Z"
      },
      {
        "duration": 5,
        "start_time": "2023-03-25T10:10:05.221Z"
      },
      {
        "duration": 5,
        "start_time": "2023-03-25T10:16:06.070Z"
      },
      {
        "duration": 34,
        "start_time": "2023-03-25T10:16:28.157Z"
      },
      {
        "duration": 25,
        "start_time": "2023-03-25T10:16:29.068Z"
      },
      {
        "duration": 20,
        "start_time": "2023-03-25T10:16:29.648Z"
      },
      {
        "duration": 27,
        "start_time": "2023-03-25T10:16:29.955Z"
      },
      {
        "duration": 27,
        "start_time": "2023-03-25T10:16:30.226Z"
      },
      {
        "duration": 24,
        "start_time": "2023-03-25T10:16:30.553Z"
      },
      {
        "duration": 83,
        "start_time": "2023-03-25T10:16:52.430Z"
      },
      {
        "duration": 15,
        "start_time": "2023-03-25T10:17:17.092Z"
      },
      {
        "duration": 11,
        "start_time": "2023-03-25T10:17:17.404Z"
      },
      {
        "duration": 98,
        "start_time": "2023-03-25T10:21:53.033Z"
      },
      {
        "duration": 436,
        "start_time": "2023-03-25T10:22:20.750Z"
      },
      {
        "duration": 203,
        "start_time": "2023-03-25T10:22:21.188Z"
      },
      {
        "duration": 28,
        "start_time": "2023-03-25T10:22:21.394Z"
      },
      {
        "duration": 49,
        "start_time": "2023-03-25T10:22:21.435Z"
      },
      {
        "duration": 3,
        "start_time": "2023-03-25T10:22:21.486Z"
      },
      {
        "duration": 13,
        "start_time": "2023-03-25T10:22:21.491Z"
      },
      {
        "duration": 36,
        "start_time": "2023-03-25T10:22:21.507Z"
      },
      {
        "duration": 28,
        "start_time": "2023-03-25T10:22:21.546Z"
      },
      {
        "duration": 58,
        "start_time": "2023-03-25T10:22:21.577Z"
      },
      {
        "duration": 46,
        "start_time": "2023-03-25T10:22:21.638Z"
      },
      {
        "duration": 35,
        "start_time": "2023-03-25T10:22:21.687Z"
      },
      {
        "duration": 136,
        "start_time": "2023-03-25T10:22:21.724Z"
      },
      {
        "duration": 101,
        "start_time": "2023-03-25T10:22:21.862Z"
      },
      {
        "duration": 94,
        "start_time": "2023-03-25T10:22:21.965Z"
      },
      {
        "duration": 80,
        "start_time": "2023-03-25T10:22:22.062Z"
      },
      {
        "duration": 24,
        "start_time": "2023-03-25T10:22:22.145Z"
      },
      {
        "duration": 102,
        "start_time": "2023-03-25T10:22:22.172Z"
      },
      {
        "duration": 22,
        "start_time": "2023-03-25T10:22:22.276Z"
      },
      {
        "duration": 37,
        "start_time": "2023-03-25T10:22:22.300Z"
      },
      {
        "duration": 7,
        "start_time": "2023-03-25T10:22:22.339Z"
      },
      {
        "duration": 64,
        "start_time": "2023-03-25T10:22:22.348Z"
      },
      {
        "duration": 32,
        "start_time": "2023-03-25T10:22:22.414Z"
      },
      {
        "duration": 26,
        "start_time": "2023-03-25T10:22:22.449Z"
      },
      {
        "duration": 25,
        "start_time": "2023-03-25T10:22:22.477Z"
      },
      {
        "duration": 47,
        "start_time": "2023-03-25T10:22:22.504Z"
      },
      {
        "duration": 20,
        "start_time": "2023-03-25T10:22:22.553Z"
      },
      {
        "duration": 119,
        "start_time": "2023-03-25T10:22:22.575Z"
      },
      {
        "duration": 13,
        "start_time": "2023-03-25T10:22:22.698Z"
      },
      {
        "duration": 27,
        "start_time": "2023-03-25T10:22:22.713Z"
      },
      {
        "duration": 86,
        "start_time": "2023-03-25T10:22:22.743Z"
      },
      {
        "duration": 0,
        "start_time": "2023-03-25T10:22:22.831Z"
      },
      {
        "duration": 0,
        "start_time": "2023-03-25T10:22:22.833Z"
      },
      {
        "duration": 0,
        "start_time": "2023-03-25T10:22:22.835Z"
      },
      {
        "duration": 0,
        "start_time": "2023-03-25T10:22:22.837Z"
      },
      {
        "duration": 0,
        "start_time": "2023-03-25T10:22:22.838Z"
      },
      {
        "duration": 0,
        "start_time": "2023-03-25T10:22:22.840Z"
      },
      {
        "duration": 0,
        "start_time": "2023-03-25T10:22:22.841Z"
      },
      {
        "duration": 0,
        "start_time": "2023-03-25T10:22:22.844Z"
      },
      {
        "duration": 7,
        "start_time": "2023-03-25T10:31:59.430Z"
      },
      {
        "duration": 6,
        "start_time": "2023-03-25T10:35:59.459Z"
      },
      {
        "duration": 5,
        "start_time": "2023-03-25T10:44:53.997Z"
      },
      {
        "duration": 7,
        "start_time": "2023-03-25T10:45:12.883Z"
      },
      {
        "duration": 5,
        "start_time": "2023-03-25T10:45:50.352Z"
      },
      {
        "duration": 5,
        "start_time": "2023-03-25T10:46:57.426Z"
      },
      {
        "duration": 7,
        "start_time": "2023-03-25T10:47:11.848Z"
      },
      {
        "duration": 21,
        "start_time": "2023-03-25T10:48:20.245Z"
      },
      {
        "duration": 113,
        "start_time": "2023-03-25T10:48:34.734Z"
      },
      {
        "duration": 17,
        "start_time": "2023-03-25T10:48:37.428Z"
      },
      {
        "duration": 19,
        "start_time": "2023-03-25T10:48:49.750Z"
      },
      {
        "duration": 19,
        "start_time": "2023-03-25T10:49:04.961Z"
      },
      {
        "duration": 15,
        "start_time": "2023-03-25T10:49:34.211Z"
      },
      {
        "duration": 35,
        "start_time": "2023-03-25T10:49:36.289Z"
      },
      {
        "duration": 16,
        "start_time": "2023-03-25T10:51:32.434Z"
      },
      {
        "duration": 6,
        "start_time": "2023-03-25T10:54:40.046Z"
      },
      {
        "duration": 14,
        "start_time": "2023-03-25T10:55:05.577Z"
      },
      {
        "duration": 8,
        "start_time": "2023-03-25T10:55:06.677Z"
      },
      {
        "duration": 6,
        "start_time": "2023-03-25T10:55:33.465Z"
      },
      {
        "duration": 468,
        "start_time": "2023-03-25T10:55:54.705Z"
      },
      {
        "duration": 407,
        "start_time": "2023-03-25T10:55:55.176Z"
      },
      {
        "duration": 25,
        "start_time": "2023-03-25T10:55:55.588Z"
      },
      {
        "duration": 60,
        "start_time": "2023-03-25T10:55:55.617Z"
      },
      {
        "duration": 11,
        "start_time": "2023-03-25T10:55:55.680Z"
      },
      {
        "duration": 19,
        "start_time": "2023-03-25T10:55:55.694Z"
      },
      {
        "duration": 26,
        "start_time": "2023-03-25T10:55:55.715Z"
      },
      {
        "duration": 30,
        "start_time": "2023-03-25T10:55:55.745Z"
      },
      {
        "duration": 50,
        "start_time": "2023-03-25T10:55:55.777Z"
      },
      {
        "duration": 36,
        "start_time": "2023-03-25T10:55:55.829Z"
      },
      {
        "duration": 74,
        "start_time": "2023-03-25T10:55:55.867Z"
      },
      {
        "duration": 129,
        "start_time": "2023-03-25T10:55:55.944Z"
      },
      {
        "duration": 138,
        "start_time": "2023-03-25T10:55:56.082Z"
      },
      {
        "duration": 79,
        "start_time": "2023-03-25T10:55:56.222Z"
      },
      {
        "duration": 62,
        "start_time": "2023-03-25T10:55:56.302Z"
      },
      {
        "duration": 18,
        "start_time": "2023-03-25T10:55:56.366Z"
      },
      {
        "duration": 71,
        "start_time": "2023-03-25T10:55:56.386Z"
      },
      {
        "duration": 20,
        "start_time": "2023-03-25T10:55:56.460Z"
      },
      {
        "duration": 16,
        "start_time": "2023-03-25T10:55:56.482Z"
      },
      {
        "duration": 6,
        "start_time": "2023-03-25T10:55:56.500Z"
      },
      {
        "duration": 60,
        "start_time": "2023-03-25T10:55:56.508Z"
      },
      {
        "duration": 50,
        "start_time": "2023-03-25T10:55:56.569Z"
      },
      {
        "duration": 25,
        "start_time": "2023-03-25T10:55:56.621Z"
      },
      {
        "duration": 35,
        "start_time": "2023-03-25T10:55:56.651Z"
      },
      {
        "duration": 43,
        "start_time": "2023-03-25T10:55:56.688Z"
      },
      {
        "duration": 57,
        "start_time": "2023-03-25T10:55:56.740Z"
      },
      {
        "duration": 120,
        "start_time": "2023-03-25T10:55:56.799Z"
      },
      {
        "duration": 16,
        "start_time": "2023-03-25T10:55:56.922Z"
      },
      {
        "duration": 38,
        "start_time": "2023-03-25T10:55:56.940Z"
      },
      {
        "duration": 19,
        "start_time": "2023-03-25T10:55:56.981Z"
      },
      {
        "duration": 94,
        "start_time": "2023-03-25T10:55:57.003Z"
      },
      {
        "duration": 55,
        "start_time": "2023-03-25T10:55:57.101Z"
      },
      {
        "duration": 63,
        "start_time": "2023-03-25T10:55:57.158Z"
      },
      {
        "duration": 68,
        "start_time": "2023-03-25T10:55:57.223Z"
      },
      {
        "duration": 15,
        "start_time": "2023-03-25T10:55:57.293Z"
      },
      {
        "duration": 16,
        "start_time": "2023-03-25T10:55:57.310Z"
      },
      {
        "duration": 44,
        "start_time": "2023-03-25T10:55:57.328Z"
      },
      {
        "duration": 10,
        "start_time": "2023-03-25T10:55:57.376Z"
      },
      {
        "duration": 6,
        "start_time": "2023-03-25T10:56:30.593Z"
      },
      {
        "duration": 6,
        "start_time": "2023-03-25T10:56:37.633Z"
      },
      {
        "duration": 6,
        "start_time": "2023-03-25T10:56:42.671Z"
      },
      {
        "duration": 15,
        "start_time": "2023-03-25T10:57:43.097Z"
      },
      {
        "duration": 14,
        "start_time": "2023-03-25T10:57:54.381Z"
      },
      {
        "duration": 399,
        "start_time": "2023-03-25T11:12:13.383Z"
      },
      {
        "duration": 205,
        "start_time": "2023-03-25T11:12:13.785Z"
      },
      {
        "duration": 20,
        "start_time": "2023-03-25T11:12:13.992Z"
      },
      {
        "duration": 59,
        "start_time": "2023-03-25T11:12:14.015Z"
      },
      {
        "duration": 14,
        "start_time": "2023-03-25T11:12:14.078Z"
      },
      {
        "duration": 12,
        "start_time": "2023-03-25T11:12:14.094Z"
      },
      {
        "duration": 24,
        "start_time": "2023-03-25T11:12:14.109Z"
      },
      {
        "duration": 24,
        "start_time": "2023-03-25T11:12:14.136Z"
      },
      {
        "duration": 36,
        "start_time": "2023-03-25T11:12:14.162Z"
      },
      {
        "duration": 37,
        "start_time": "2023-03-25T11:12:14.200Z"
      },
      {
        "duration": 29,
        "start_time": "2023-03-25T11:12:14.240Z"
      },
      {
        "duration": 94,
        "start_time": "2023-03-25T11:12:14.271Z"
      },
      {
        "duration": 94,
        "start_time": "2023-03-25T11:12:14.367Z"
      },
      {
        "duration": 92,
        "start_time": "2023-03-25T11:12:14.464Z"
      },
      {
        "duration": 48,
        "start_time": "2023-03-25T11:12:14.558Z"
      },
      {
        "duration": 26,
        "start_time": "2023-03-25T11:12:14.609Z"
      },
      {
        "duration": 44,
        "start_time": "2023-03-25T11:12:14.638Z"
      },
      {
        "duration": 13,
        "start_time": "2023-03-25T11:12:14.684Z"
      },
      {
        "duration": 50,
        "start_time": "2023-03-25T11:12:14.700Z"
      },
      {
        "duration": 4,
        "start_time": "2023-03-25T11:12:14.753Z"
      },
      {
        "duration": 32,
        "start_time": "2023-03-25T11:12:14.759Z"
      },
      {
        "duration": 19,
        "start_time": "2023-03-25T11:12:14.793Z"
      },
      {
        "duration": 25,
        "start_time": "2023-03-25T11:12:14.833Z"
      },
      {
        "duration": 17,
        "start_time": "2023-03-25T11:12:14.860Z"
      },
      {
        "duration": 56,
        "start_time": "2023-03-25T11:12:14.878Z"
      },
      {
        "duration": 18,
        "start_time": "2023-03-25T11:12:14.936Z"
      },
      {
        "duration": 104,
        "start_time": "2023-03-25T11:12:14.956Z"
      },
      {
        "duration": 16,
        "start_time": "2023-03-25T11:12:15.063Z"
      },
      {
        "duration": 17,
        "start_time": "2023-03-25T11:12:15.081Z"
      },
      {
        "duration": 6,
        "start_time": "2023-03-25T11:12:15.101Z"
      },
      {
        "duration": 27,
        "start_time": "2023-03-25T11:12:15.133Z"
      },
      {
        "duration": 19,
        "start_time": "2023-03-25T11:12:15.162Z"
      },
      {
        "duration": 37,
        "start_time": "2023-03-25T11:12:15.184Z"
      },
      {
        "duration": 17,
        "start_time": "2023-03-25T11:12:15.233Z"
      },
      {
        "duration": 17,
        "start_time": "2023-03-25T11:12:15.252Z"
      },
      {
        "duration": 18,
        "start_time": "2023-03-25T11:12:15.271Z"
      },
      {
        "duration": 14,
        "start_time": "2023-03-25T11:12:15.292Z"
      },
      {
        "duration": 9,
        "start_time": "2023-03-25T11:12:15.308Z"
      },
      {
        "duration": 50,
        "start_time": "2023-03-25T20:06:50.548Z"
      },
      {
        "duration": 7,
        "start_time": "2023-03-25T20:07:47.651Z"
      },
      {
        "duration": 7,
        "start_time": "2023-03-25T20:11:02.915Z"
      },
      {
        "duration": 426,
        "start_time": "2023-03-25T20:11:11.120Z"
      },
      {
        "duration": 237,
        "start_time": "2023-03-25T20:11:11.548Z"
      },
      {
        "duration": 17,
        "start_time": "2023-03-25T20:11:11.787Z"
      },
      {
        "duration": 30,
        "start_time": "2023-03-25T20:11:11.805Z"
      },
      {
        "duration": 3,
        "start_time": "2023-03-25T20:11:11.838Z"
      },
      {
        "duration": 5,
        "start_time": "2023-03-25T20:11:11.843Z"
      },
      {
        "duration": 16,
        "start_time": "2023-03-25T20:11:11.850Z"
      },
      {
        "duration": 9,
        "start_time": "2023-03-25T20:11:11.867Z"
      },
      {
        "duration": 31,
        "start_time": "2023-03-25T20:11:11.878Z"
      },
      {
        "duration": 37,
        "start_time": "2023-03-25T20:11:11.911Z"
      },
      {
        "duration": 26,
        "start_time": "2023-03-25T20:11:11.950Z"
      },
      {
        "duration": 87,
        "start_time": "2023-03-25T20:11:11.978Z"
      },
      {
        "duration": 89,
        "start_time": "2023-03-25T20:11:12.067Z"
      },
      {
        "duration": 66,
        "start_time": "2023-03-25T20:11:12.159Z"
      },
      {
        "duration": 46,
        "start_time": "2023-03-25T20:11:12.227Z"
      },
      {
        "duration": 10,
        "start_time": "2023-03-25T20:11:12.275Z"
      },
      {
        "duration": 37,
        "start_time": "2023-03-25T20:11:12.287Z"
      },
      {
        "duration": 25,
        "start_time": "2023-03-25T20:11:12.326Z"
      },
      {
        "duration": 13,
        "start_time": "2023-03-25T20:11:12.352Z"
      },
      {
        "duration": 12,
        "start_time": "2023-03-25T20:11:12.366Z"
      },
      {
        "duration": 28,
        "start_time": "2023-03-25T20:11:12.380Z"
      },
      {
        "duration": 36,
        "start_time": "2023-03-25T20:11:12.410Z"
      },
      {
        "duration": 15,
        "start_time": "2023-03-25T20:11:12.447Z"
      },
      {
        "duration": 14,
        "start_time": "2023-03-25T20:11:12.464Z"
      },
      {
        "duration": 16,
        "start_time": "2023-03-25T20:11:12.480Z"
      },
      {
        "duration": 43,
        "start_time": "2023-03-25T20:11:12.498Z"
      },
      {
        "duration": 72,
        "start_time": "2023-03-25T20:11:12.543Z"
      },
      {
        "duration": 24,
        "start_time": "2023-03-25T20:11:12.617Z"
      },
      {
        "duration": 11,
        "start_time": "2023-03-25T20:11:12.643Z"
      },
      {
        "duration": 5,
        "start_time": "2023-03-25T20:11:12.655Z"
      },
      {
        "duration": 24,
        "start_time": "2023-03-25T20:11:12.662Z"
      },
      {
        "duration": 13,
        "start_time": "2023-03-25T20:11:12.688Z"
      },
      {
        "duration": 53,
        "start_time": "2023-03-25T20:11:12.703Z"
      },
      {
        "duration": 14,
        "start_time": "2023-03-25T20:11:12.758Z"
      },
      {
        "duration": 99,
        "start_time": "2023-03-25T20:11:12.774Z"
      },
      {
        "duration": 1,
        "start_time": "2023-03-25T20:11:12.874Z"
      },
      {
        "duration": 0,
        "start_time": "2023-03-25T20:11:12.876Z"
      },
      {
        "duration": 0,
        "start_time": "2023-03-25T20:11:12.878Z"
      },
      {
        "duration": 33,
        "start_time": "2023-03-25T20:12:26.807Z"
      },
      {
        "duration": 8,
        "start_time": "2023-03-25T20:12:32.202Z"
      },
      {
        "duration": 34,
        "start_time": "2023-03-25T20:13:06.349Z"
      },
      {
        "duration": 8,
        "start_time": "2023-03-25T20:13:21.962Z"
      },
      {
        "duration": 32,
        "start_time": "2023-03-25T20:26:54.023Z"
      },
      {
        "duration": 12,
        "start_time": "2023-03-25T20:27:07.937Z"
      },
      {
        "duration": 35,
        "start_time": "2023-03-25T20:28:29.270Z"
      },
      {
        "duration": 1176,
        "start_time": "2023-03-25T20:28:54.935Z"
      },
      {
        "duration": 39,
        "start_time": "2023-03-25T20:29:06.431Z"
      },
      {
        "duration": 5,
        "start_time": "2023-03-25T20:29:13.928Z"
      },
      {
        "duration": 17,
        "start_time": "2023-03-25T20:29:59.183Z"
      },
      {
        "duration": 30,
        "start_time": "2023-03-25T20:35:04.441Z"
      },
      {
        "duration": 5,
        "start_time": "2023-03-25T20:35:22.060Z"
      },
      {
        "duration": 39,
        "start_time": "2023-03-25T20:35:26.693Z"
      },
      {
        "duration": 34,
        "start_time": "2023-03-25T20:35:39.281Z"
      },
      {
        "duration": 10,
        "start_time": "2023-03-25T20:35:45.370Z"
      },
      {
        "duration": 14,
        "start_time": "2023-03-25T20:37:46.058Z"
      },
      {
        "duration": 17,
        "start_time": "2023-03-25T20:37:53.238Z"
      },
      {
        "duration": 18,
        "start_time": "2023-03-25T20:38:09.159Z"
      },
      {
        "duration": 36,
        "start_time": "2023-03-25T21:18:53.441Z"
      },
      {
        "duration": 35,
        "start_time": "2023-03-25T21:19:51.436Z"
      },
      {
        "duration": 11,
        "start_time": "2023-03-25T21:19:53.939Z"
      },
      {
        "duration": 27,
        "start_time": "2023-03-25T21:19:59.524Z"
      },
      {
        "duration": 10,
        "start_time": "2023-03-25T21:20:00.558Z"
      },
      {
        "duration": 8,
        "start_time": "2023-03-25T21:20:21.183Z"
      },
      {
        "duration": 5,
        "start_time": "2023-03-25T21:20:24.123Z"
      },
      {
        "duration": 7,
        "start_time": "2023-03-25T21:22:18.626Z"
      },
      {
        "duration": 5,
        "start_time": "2023-03-25T21:22:19.336Z"
      },
      {
        "duration": 49,
        "start_time": "2023-03-30T17:47:19.112Z"
      },
      {
        "duration": 393,
        "start_time": "2023-03-30T17:47:25.648Z"
      },
      {
        "duration": 454,
        "start_time": "2023-03-30T17:47:26.043Z"
      },
      {
        "duration": 18,
        "start_time": "2023-03-30T17:47:26.499Z"
      },
      {
        "duration": 37,
        "start_time": "2023-03-30T17:47:26.520Z"
      },
      {
        "duration": 4,
        "start_time": "2023-03-30T17:47:26.559Z"
      },
      {
        "duration": 19,
        "start_time": "2023-03-30T17:47:26.565Z"
      },
      {
        "duration": 60,
        "start_time": "2023-03-30T17:47:26.586Z"
      },
      {
        "duration": 11,
        "start_time": "2023-03-30T17:47:26.648Z"
      },
      {
        "duration": 44,
        "start_time": "2023-03-30T17:47:26.661Z"
      },
      {
        "duration": 29,
        "start_time": "2023-03-30T17:47:26.708Z"
      },
      {
        "duration": 29,
        "start_time": "2023-03-30T17:47:26.739Z"
      },
      {
        "duration": 77,
        "start_time": "2023-03-30T17:47:26.770Z"
      },
      {
        "duration": 86,
        "start_time": "2023-03-30T17:47:26.849Z"
      },
      {
        "duration": 71,
        "start_time": "2023-03-30T17:47:26.937Z"
      },
      {
        "duration": 43,
        "start_time": "2023-03-30T17:47:27.017Z"
      },
      {
        "duration": 13,
        "start_time": "2023-03-30T17:47:27.062Z"
      },
      {
        "duration": 74,
        "start_time": "2023-03-30T17:47:27.077Z"
      },
      {
        "duration": 16,
        "start_time": "2023-03-30T17:47:27.154Z"
      },
      {
        "duration": 40,
        "start_time": "2023-03-30T17:47:27.172Z"
      },
      {
        "duration": 22,
        "start_time": "2023-03-30T17:47:27.215Z"
      },
      {
        "duration": 45,
        "start_time": "2023-03-30T17:47:27.239Z"
      },
      {
        "duration": 19,
        "start_time": "2023-03-30T17:47:27.285Z"
      },
      {
        "duration": 20,
        "start_time": "2023-03-30T17:47:27.305Z"
      },
      {
        "duration": 14,
        "start_time": "2023-03-30T17:47:27.326Z"
      },
      {
        "duration": 20,
        "start_time": "2023-03-30T17:47:27.341Z"
      },
      {
        "duration": 34,
        "start_time": "2023-03-30T17:47:27.362Z"
      },
      {
        "duration": 76,
        "start_time": "2023-03-30T17:47:27.398Z"
      },
      {
        "duration": 11,
        "start_time": "2023-03-30T17:47:27.478Z"
      },
      {
        "duration": 22,
        "start_time": "2023-03-30T17:47:27.491Z"
      },
      {
        "duration": 50,
        "start_time": "2023-03-30T17:47:27.517Z"
      },
      {
        "duration": 29,
        "start_time": "2023-03-30T17:47:27.569Z"
      },
      {
        "duration": 11,
        "start_time": "2023-03-30T17:47:27.600Z"
      },
      {
        "duration": 21,
        "start_time": "2023-03-30T17:47:27.612Z"
      },
      {
        "duration": 16,
        "start_time": "2023-03-30T17:47:27.635Z"
      },
      {
        "duration": 15,
        "start_time": "2023-03-30T17:47:27.653Z"
      },
      {
        "duration": 28,
        "start_time": "2023-03-30T17:47:27.670Z"
      },
      {
        "duration": 21,
        "start_time": "2023-03-30T17:47:27.700Z"
      },
      {
        "duration": 23,
        "start_time": "2023-03-30T17:47:27.723Z"
      },
      {
        "duration": 17,
        "start_time": "2023-03-30T17:47:35.883Z"
      },
      {
        "duration": 15,
        "start_time": "2023-03-30T17:47:50.167Z"
      },
      {
        "duration": 16,
        "start_time": "2023-03-30T17:47:55.623Z"
      },
      {
        "duration": 396,
        "start_time": "2024-04-19T21:40:20.538Z"
      },
      {
        "duration": 271,
        "start_time": "2024-04-19T21:40:20.936Z"
      },
      {
        "duration": 20,
        "start_time": "2024-04-19T21:40:21.209Z"
      },
      {
        "duration": 33,
        "start_time": "2024-04-19T21:40:21.231Z"
      },
      {
        "duration": 13,
        "start_time": "2024-04-19T21:40:21.267Z"
      },
      {
        "duration": 5,
        "start_time": "2024-04-19T21:40:21.282Z"
      },
      {
        "duration": 16,
        "start_time": "2024-04-19T21:40:21.288Z"
      },
      {
        "duration": 6,
        "start_time": "2024-04-19T21:40:21.306Z"
      },
      {
        "duration": 31,
        "start_time": "2024-04-19T21:40:21.314Z"
      },
      {
        "duration": 42,
        "start_time": "2024-04-19T21:40:21.347Z"
      },
      {
        "duration": 28,
        "start_time": "2024-04-19T21:40:21.390Z"
      },
      {
        "duration": 84,
        "start_time": "2024-04-19T21:40:21.419Z"
      },
      {
        "duration": 80,
        "start_time": "2024-04-19T21:40:21.505Z"
      },
      {
        "duration": 62,
        "start_time": "2024-04-19T21:40:21.588Z"
      },
      {
        "duration": 56,
        "start_time": "2024-04-19T21:40:21.651Z"
      },
      {
        "duration": 12,
        "start_time": "2024-04-19T21:40:21.708Z"
      },
      {
        "duration": 59,
        "start_time": "2024-04-19T21:40:21.722Z"
      },
      {
        "duration": 12,
        "start_time": "2024-04-19T21:40:21.783Z"
      },
      {
        "duration": 12,
        "start_time": "2024-04-19T21:40:21.796Z"
      },
      {
        "duration": 4,
        "start_time": "2024-04-19T21:40:21.809Z"
      },
      {
        "duration": 21,
        "start_time": "2024-04-19T21:40:21.814Z"
      },
      {
        "duration": 44,
        "start_time": "2024-04-19T21:40:21.837Z"
      },
      {
        "duration": 15,
        "start_time": "2024-04-19T21:40:21.882Z"
      },
      {
        "duration": 42,
        "start_time": "2024-04-19T21:40:21.899Z"
      },
      {
        "duration": 16,
        "start_time": "2024-04-19T21:40:21.942Z"
      },
      {
        "duration": 15,
        "start_time": "2024-04-19T21:40:21.960Z"
      },
      {
        "duration": 79,
        "start_time": "2024-04-19T21:40:21.976Z"
      },
      {
        "duration": 11,
        "start_time": "2024-04-19T21:40:22.056Z"
      },
      {
        "duration": 17,
        "start_time": "2024-04-19T21:40:22.069Z"
      },
      {
        "duration": 10,
        "start_time": "2024-04-19T21:40:22.088Z"
      },
      {
        "duration": 31,
        "start_time": "2024-04-19T21:40:22.100Z"
      },
      {
        "duration": 26,
        "start_time": "2024-04-19T21:40:22.133Z"
      },
      {
        "duration": 22,
        "start_time": "2024-04-19T21:40:22.161Z"
      },
      {
        "duration": 38,
        "start_time": "2024-04-19T21:40:22.184Z"
      },
      {
        "duration": 27,
        "start_time": "2024-04-19T21:40:22.224Z"
      },
      {
        "duration": 22,
        "start_time": "2024-04-19T21:40:22.252Z"
      },
      {
        "duration": 10,
        "start_time": "2024-04-19T21:40:22.276Z"
      }
    ],
    "colab": {
      "collapsed_sections": [
        "E0vqbgi9ay0H",
        "VUC88oWjTJw2"
      ],
      "provenance": []
    },
    "toc": {
      "base_numbering": 1,
      "nav_menu": {
        "height": "215px",
        "width": "403px"
      },
      "number_sections": true,
      "sideBar": true,
      "skip_h1_title": true,
      "title_cell": "Table of Contents",
      "title_sidebar": "Contents",
      "toc_cell": true,
      "toc_position": {
        "height": "calc(100% - 180px)",
        "left": "10px",
        "top": "150px",
        "width": "285.825px"
      },
      "toc_section_display": true,
      "toc_window_display": true
    }
  },
  "nbformat_minor": 4,
  "nbformat": 4,
  "cells": [
    {
      "cell_type": "markdown",
      "source": "# Яндекс.Музыка",
      "metadata": {
        "deletable": true,
        "editable": true,
        "id": "E0vqbgi9ay0H"
      }
    },
    {
      "cell_type": "markdown",
      "source": "Сравнение Москвы и Петербурга окружено мифами. Например:\n * Москва — мегаполис, подчинённый жёсткому ритму рабочей недели;\n * Петербург — культурная столица, со своими вкусами.\n\nНа данных Яндекс Музыки мы сравним поведение пользователей двух столиц.\n\n**Цель исследования** — проверить три гипотезы:\n1. Активность пользователей зависит от дня недели. Причём в Москве и Петербурге это проявляется по-разному.\n2. В понедельник утром в Москве преобладают одни жанры, а в Петербурге — другие. Так же и вечером пятницы преобладают разные жанры — в зависимости от города. \n3. Москва и Петербург предпочитают разные жанры музыки. В Москве чаще слушают поп-музыку, в Петербурге — русский рэп.\n\n**Ход исследования**\n\nДанные о поведении пользователей мы получим из файла `yandex_music_project.csv`. О качестве данных ничего не известно. Поэтому перед проверкой гипотез понадобится обзор данных. \n\nМы проверим данные на ошибки и оценим их влияние на исследование. Затем, на этапе предобработки мы поищем возможность исправить самые критичные ошибки данных.\n \nТаким образом, исследование пройдёт в три этапа:\n 1. Обзор данных.\n 2. Предобработка данных.\n 3. Проверка гипотез.\n\n",
      "metadata": {
        "deletable": true,
        "editable": true,
        "id": "VUC88oWjTJw2"
      }
    },
    {
      "cell_type": "markdown",
      "source": "## Обзор данных\n\nСоставим первое представление о данных Яндекс Музыки.\n\n\n",
      "metadata": {
        "deletable": true,
        "editable": true,
        "id": "Ml1hmfXC_Zcs"
      }
    },
    {
      "cell_type": "code",
      "source": "# импорт библиотеки pandas\nimport pandas as pd",
      "metadata": {
        "deletable": true,
        "id": "AXN7PHPN_Zcs"
      },
      "outputs": [],
      "execution_count": 1
    },
    {
      "cell_type": "code",
      "source": "# чтение файла с данными и сохранение в df\ndf = pd.read_csv('/datasets/yandex_music_project.csv')",
      "metadata": {
        "deletable": true,
        "id": "fFVu7vqh_Zct"
      },
      "outputs": [],
      "execution_count": 2
    },
    {
      "cell_type": "code",
      "source": "# получение первых 10 строк таблицы df\ndf.head(10)",
      "metadata": {
        "deletable": true,
        "id": "oWTVX3gW_Zct"
      },
      "outputs": [
        {
          "data": {
            "text/html": [
              "<div>\n",
              "<style scoped>\n",
              "    .dataframe tbody tr th:only-of-type {\n",
              "        vertical-align: middle;\n",
              "    }\n",
              "\n",
              "    .dataframe tbody tr th {\n",
              "        vertical-align: top;\n",
              "    }\n",
              "\n",
              "    .dataframe thead th {\n",
              "        text-align: right;\n",
              "    }\n",
              "</style>\n",
              "<table border=\"1\" class=\"dataframe\">\n",
              "  <thead>\n",
              "    <tr style=\"text-align: right;\">\n",
              "      <th></th>\n",
              "      <th>userID</th>\n",
              "      <th>Track</th>\n",
              "      <th>artist</th>\n",
              "      <th>genre</th>\n",
              "      <th>City</th>\n",
              "      <th>time</th>\n",
              "      <th>Day</th>\n",
              "    </tr>\n",
              "  </thead>\n",
              "  <tbody>\n",
              "    <tr>\n",
              "      <th>0</th>\n",
              "      <td>FFB692EC</td>\n",
              "      <td>Kamigata To Boots</td>\n",
              "      <td>The Mass Missile</td>\n",
              "      <td>rock</td>\n",
              "      <td>Saint-Petersburg</td>\n",
              "      <td>20:28:33</td>\n",
              "      <td>Wednesday</td>\n",
              "    </tr>\n",
              "    <tr>\n",
              "      <th>1</th>\n",
              "      <td>55204538</td>\n",
              "      <td>Delayed Because of Accident</td>\n",
              "      <td>Andreas Rönnberg</td>\n",
              "      <td>rock</td>\n",
              "      <td>Moscow</td>\n",
              "      <td>14:07:09</td>\n",
              "      <td>Friday</td>\n",
              "    </tr>\n",
              "    <tr>\n",
              "      <th>2</th>\n",
              "      <td>20EC38</td>\n",
              "      <td>Funiculì funiculà</td>\n",
              "      <td>Mario Lanza</td>\n",
              "      <td>pop</td>\n",
              "      <td>Saint-Petersburg</td>\n",
              "      <td>20:58:07</td>\n",
              "      <td>Wednesday</td>\n",
              "    </tr>\n",
              "    <tr>\n",
              "      <th>3</th>\n",
              "      <td>A3DD03C9</td>\n",
              "      <td>Dragons in the Sunset</td>\n",
              "      <td>Fire + Ice</td>\n",
              "      <td>folk</td>\n",
              "      <td>Saint-Petersburg</td>\n",
              "      <td>08:37:09</td>\n",
              "      <td>Monday</td>\n",
              "    </tr>\n",
              "    <tr>\n",
              "      <th>4</th>\n",
              "      <td>E2DC1FAE</td>\n",
              "      <td>Soul People</td>\n",
              "      <td>Space Echo</td>\n",
              "      <td>dance</td>\n",
              "      <td>Moscow</td>\n",
              "      <td>08:34:34</td>\n",
              "      <td>Monday</td>\n",
              "    </tr>\n",
              "    <tr>\n",
              "      <th>5</th>\n",
              "      <td>842029A1</td>\n",
              "      <td>Преданная</td>\n",
              "      <td>IMPERVTOR</td>\n",
              "      <td>rusrap</td>\n",
              "      <td>Saint-Petersburg</td>\n",
              "      <td>13:09:41</td>\n",
              "      <td>Friday</td>\n",
              "    </tr>\n",
              "    <tr>\n",
              "      <th>6</th>\n",
              "      <td>4CB90AA5</td>\n",
              "      <td>True</td>\n",
              "      <td>Roman Messer</td>\n",
              "      <td>dance</td>\n",
              "      <td>Moscow</td>\n",
              "      <td>13:00:07</td>\n",
              "      <td>Wednesday</td>\n",
              "    </tr>\n",
              "    <tr>\n",
              "      <th>7</th>\n",
              "      <td>F03E1C1F</td>\n",
              "      <td>Feeling This Way</td>\n",
              "      <td>Polina Griffith</td>\n",
              "      <td>dance</td>\n",
              "      <td>Moscow</td>\n",
              "      <td>20:47:49</td>\n",
              "      <td>Wednesday</td>\n",
              "    </tr>\n",
              "    <tr>\n",
              "      <th>8</th>\n",
              "      <td>8FA1D3BE</td>\n",
              "      <td>И вновь продолжается бой</td>\n",
              "      <td>NaN</td>\n",
              "      <td>ruspop</td>\n",
              "      <td>Moscow</td>\n",
              "      <td>09:17:40</td>\n",
              "      <td>Friday</td>\n",
              "    </tr>\n",
              "    <tr>\n",
              "      <th>9</th>\n",
              "      <td>E772D5C0</td>\n",
              "      <td>Pessimist</td>\n",
              "      <td>NaN</td>\n",
              "      <td>dance</td>\n",
              "      <td>Saint-Petersburg</td>\n",
              "      <td>21:20:49</td>\n",
              "      <td>Wednesday</td>\n",
              "    </tr>\n",
              "  </tbody>\n",
              "</table>\n",
              "</div>"
            ],
            "text/plain": [
              "     userID                        Track            artist   genre  \\\n",
              "0  FFB692EC            Kamigata To Boots  The Mass Missile    rock   \n",
              "1  55204538  Delayed Because of Accident  Andreas Rönnberg    rock   \n",
              "2    20EC38            Funiculì funiculà       Mario Lanza     pop   \n",
              "3  A3DD03C9        Dragons in the Sunset        Fire + Ice    folk   \n",
              "4  E2DC1FAE                  Soul People        Space Echo   dance   \n",
              "5  842029A1                    Преданная         IMPERVTOR  rusrap   \n",
              "6  4CB90AA5                         True      Roman Messer   dance   \n",
              "7  F03E1C1F             Feeling This Way   Polina Griffith   dance   \n",
              "8  8FA1D3BE     И вновь продолжается бой               NaN  ruspop   \n",
              "9  E772D5C0                    Pessimist               NaN   dance   \n",
              "\n",
              "             City        time        Day  \n",
              "0  Saint-Petersburg  20:28:33  Wednesday  \n",
              "1            Moscow  14:07:09     Friday  \n",
              "2  Saint-Petersburg  20:58:07  Wednesday  \n",
              "3  Saint-Petersburg  08:37:09     Monday  \n",
              "4            Moscow  08:34:34     Monday  \n",
              "5  Saint-Petersburg  13:09:41     Friday  \n",
              "6            Moscow  13:00:07  Wednesday  \n",
              "7            Moscow  20:47:49  Wednesday  \n",
              "8            Moscow  09:17:40     Friday  \n",
              "9  Saint-Petersburg  21:20:49  Wednesday  "
            ]
          },
          "execution_count": 3,
          "metadata": {},
          "output_type": "execute_result"
        }
      ],
      "execution_count": 3
    },
    {
      "cell_type": "code",
      "source": "# получение общей информации о данных в таблице df\ndf.info()",
      "metadata": {
        "deletable": true,
        "id": "DSf2kIb-_Zct"
      },
      "outputs": [
        {
          "name": "stdout",
          "output_type": "stream",
          "text": [
            "<class 'pandas.core.frame.DataFrame'>\n",
            "RangeIndex: 65079 entries, 0 to 65078\n",
            "Data columns (total 7 columns):\n",
            " #   Column    Non-Null Count  Dtype \n",
            "---  ------    --------------  ----- \n",
            " 0     userID  65079 non-null  object\n",
            " 1   Track     63848 non-null  object\n",
            " 2   artist    57876 non-null  object\n",
            " 3   genre     63881 non-null  object\n",
            " 4     City    65079 non-null  object\n",
            " 5   time      65079 non-null  object\n",
            " 6   Day       65079 non-null  object\n",
            "dtypes: object(7)\n",
            "memory usage: 3.5+ MB\n"
          ]
        }
      ],
      "execution_count": 4
    },
    {
      "cell_type": "markdown",
      "source": "Итак, в таблице семь столбцов. Тип данных во всех столбцах — `object`.\n\nСогласно документации к данным:\n* `userID` — идентификатор пользователя;\n* `Track` — название трека;  \n* `artist` — имя исполнителя;\n* `genre` — название жанра;\n* `City` — город пользователя;\n* `time` — время начала прослушивания;\n* `Day` — день недели.\n\nКоличество значений в столбцах различается. Значит, в данных есть пропущенные значения.",
      "metadata": {
        "deletable": true,
        "editable": true,
        "id": "TaQ2Iwbr_Zct"
      }
    },
    {
      "cell_type": "markdown",
      "source": "В названиях колонок видны три нарушения стиля:\n1. Строчные буквы сочетаются с прописными.\n2. Встречаются пробелы.",
      "metadata": {
        "deletable": true,
        "editable": true,
        "id": "4P0UCWzswgEm",
        "tags": [
          "start_task"
        ]
      }
    },
    {
      "cell_type": "markdown",
      "source": "**Выводы**\n\nВ каждой строке таблицы — данные о прослушанном треке. Часть колонок описывает саму композицию: название, исполнителя и жанр. Остальные данные рассказывают о пользователе: из какого он города, когда он слушал музыку. \n\nПредварительно можно утверждать, что, данных достаточно для проверки гипотез. Но встречаются пропуски в данных, а в названиях колонок — расхождения с хорошим стилем.\n\nЧтобы двигаться дальше, нужно устранить проблемы в данных.",
      "metadata": {
        "deletable": true,
        "editable": true,
        "id": "MCB6-dXG_Zct"
      }
    },
    {
      "cell_type": "markdown",
      "source": "## Предобработка данных\nИсправим стиль в заголовках столбцов, исключим пропуски. Затем проверим данные на дубликаты.",
      "metadata": {
        "deletable": true,
        "editable": true,
        "id": "SjYF6Ub9_Zct"
      }
    },
    {
      "cell_type": "markdown",
      "source": "### Стиль заголовков",
      "metadata": {
        "deletable": true,
        "editable": true,
        "id": "dIaKXr29_Zct",
        "tags": [
          "start_task"
        ]
      }
    },
    {
      "cell_type": "code",
      "source": "# перечень названий столбцов таблицы df\ndf.columns",
      "metadata": {
        "deletable": true,
        "id": "oKOTdF_Q_Zct"
      },
      "outputs": [
        {
          "data": {
            "text/plain": [
              "Index(['  userID', 'Track', 'artist', 'genre', '  City  ', 'time', 'Day'], dtype='object')"
            ]
          },
          "execution_count": 6,
          "metadata": {},
          "output_type": "execute_result"
        }
      ],
      "execution_count": 6
    },
    {
      "cell_type": "code",
      "source": "# переименование столбцов\ndf = df.rename(columns={'  userID': 'user_id', 'Track': 'track', '  City  ': 'city', 'Day': 'day'})",
      "metadata": {
        "deletable": true,
        "id": "ISlFqs5y_Zct"
      },
      "outputs": [],
      "execution_count": 7
    },
    {
      "cell_type": "code",
      "source": "# проверка результатов - перечень названий столбцов\ndf.columns",
      "metadata": {
        "deletable": true,
        "id": "d4NOAmTW_Zct"
      },
      "outputs": [
        {
          "data": {
            "text/plain": [
              "Index(['user_id', 'track', 'artist', 'genre', 'city', 'time', 'day'], dtype='object')"
            ]
          },
          "execution_count": 8,
          "metadata": {},
          "output_type": "execute_result"
        }
      ],
      "execution_count": 8
    },
    {
      "cell_type": "markdown",
      "source": "### Пропуски значений\n",
      "metadata": {
        "deletable": true,
        "editable": true,
        "id": "5ISfbcfY_Zct",
        "tags": [
          "start_task"
        ]
      }
    },
    {
      "cell_type": "code",
      "source": "# подсчёт пропусков\ndf.isna().sum()",
      "metadata": {
        "deletable": true,
        "id": "RskX29qr_Zct"
      },
      "outputs": [
        {
          "data": {
            "text/plain": [
              "user_id       0\n",
              "track      1231\n",
              "artist     7203\n",
              "genre      1198\n",
              "city          0\n",
              "time          0\n",
              "day           0\n",
              "dtype: int64"
            ]
          },
          "execution_count": 9,
          "metadata": {},
          "output_type": "execute_result"
        }
      ],
      "execution_count": 9
    },
    {
      "cell_type": "markdown",
      "source": "Не все пропущенные значения влияют на исследование. Так в `track` и `artist` пропуски не важны для вашей работы. Достаточно заменить их явными обозначениями.\n\nНо пропуски в `genre` могут помешать сравнению музыкальных вкусов в Москве и Санкт-Петербурге. На практике было бы правильно установить причину пропусков и восстановить данные. Такой возможности нет в учебном проекте. Придётся:\n* заполнить и эти пропуски явными обозначениями,\n* оценить, насколько они повредят расчётам. ",
      "metadata": {
        "deletable": true,
        "editable": true,
        "id": "qubhgnlO_Zct"
      }
    },
    {
      "cell_type": "code",
      "source": "# перебор названий столбцов в цикле и замена пропущенных значений на 'unknown'\ncolumns_to_replace = ['track', 'artist', 'genre']\n\nfor column in columns_to_replace:\n    df[column] = df[column].fillna('unknown')",
      "metadata": {
        "deletable": true,
        "id": "KplB5qWs_Zct"
      },
      "outputs": [],
      "execution_count": 10
    },
    {
      "cell_type": "code",
      "source": "# подсчёт пропусков\ndf.isna().sum()",
      "metadata": {
        "deletable": true,
        "id": "Tq4nYRX4_Zct"
      },
      "outputs": [
        {
          "data": {
            "text/plain": [
              "user_id    0\n",
              "track      0\n",
              "artist     0\n",
              "genre      0\n",
              "city       0\n",
              "time       0\n",
              "day        0\n",
              "dtype: int64"
            ]
          },
          "execution_count": 11,
          "metadata": {},
          "output_type": "execute_result"
        }
      ],
      "execution_count": 11
    },
    {
      "cell_type": "markdown",
      "source": "### Дубликаты\n",
      "metadata": {
        "deletable": true,
        "editable": true,
        "id": "BWKRtBJ3_Zct",
        "tags": [
          "start_task"
        ]
      }
    },
    {
      "cell_type": "code",
      "source": "# подсчёт явных дубликатов\ndf.duplicated().sum()",
      "metadata": {
        "deletable": true,
        "id": "36eES_S0_Zct"
      },
      "outputs": [
        {
          "data": {
            "text/plain": [
              "3826"
            ]
          },
          "execution_count": 12,
          "metadata": {},
          "output_type": "execute_result"
        }
      ],
      "execution_count": 12
    },
    {
      "cell_type": "code",
      "source": "# удаление явных дубликатов (с удалением старых индексов и формированием новых)\ndf = df.drop_duplicates()",
      "metadata": {
        "deletable": true,
        "id": "exFHq6tt_Zct"
      },
      "outputs": [],
      "execution_count": 13
    },
    {
      "cell_type": "code",
      "source": "# проверка на отсутствие дубликатов\ndf.duplicated().sum()",
      "metadata": {
        "deletable": true,
        "id": "-8PuNWQ0_Zct"
      },
      "outputs": [
        {
          "data": {
            "text/plain": [
              "0"
            ]
          },
          "execution_count": 14,
          "metadata": {},
          "output_type": "execute_result"
        }
      ],
      "execution_count": 14
    },
    {
      "cell_type": "code",
      "source": "# Просмотр уникальных названий жанров\ncol = df['genre'].sort_values()\ncol.unique()",
      "metadata": {
        "deletable": true,
        "id": "JIUcqzZN_Zct"
      },
      "outputs": [
        {
          "data": {
            "text/plain": [
              "array(['acid', 'acoustic', 'action', 'adult', 'africa', 'afrikaans',\n",
              "       'alternative', 'alternativepunk', 'ambient', 'americana',\n",
              "       'animated', 'anime', 'arabesk', 'arabic', 'arena',\n",
              "       'argentinetango', 'art', 'audiobook', 'author', 'avantgarde',\n",
              "       'axé', 'baile', 'balkan', 'beats', 'bigroom', 'black', 'bluegrass',\n",
              "       'blues', 'bollywood', 'bossa', 'brazilian', 'breakbeat', 'breaks',\n",
              "       'broadway', 'cantautori', 'cantopop', 'canzone', 'caribbean',\n",
              "       'caucasian', 'celtic', 'chamber', 'chanson', 'children', 'chill',\n",
              "       'chinese', 'choral', 'christian', 'christmas', 'classical',\n",
              "       'classicmetal', 'club', 'colombian', 'comedy', 'conjazz',\n",
              "       'contemporary', 'country', 'cuban', 'dance', 'dancehall',\n",
              "       'dancepop', 'dark', 'death', 'deep', 'deutschrock', 'deutschspr',\n",
              "       'dirty', 'disco', 'dnb', 'documentary', 'downbeat', 'downtempo',\n",
              "       'drum', 'dub', 'dubstep', 'eastern', 'easy', 'electronic',\n",
              "       'electropop', 'emo', 'entehno', 'epicmetal', 'estrada', 'ethnic',\n",
              "       'eurofolk', 'european', 'experimental', 'extrememetal', 'fado',\n",
              "       'fairytail', 'film', 'fitness', 'flamenco', 'folk', 'folklore',\n",
              "       'folkmetal', 'folkrock', 'folktronica', 'forró', 'frankreich',\n",
              "       'französisch', 'french', 'funk', 'future', 'gangsta', 'garage',\n",
              "       'german', 'ghazal', 'gitarre', 'glitch', 'gospel', 'gothic',\n",
              "       'grime', 'grunge', 'gypsy', 'handsup', \"hard'n'heavy\", 'hardcore',\n",
              "       'hardstyle', 'hardtechno', 'hip', 'hip-hop', 'hiphop',\n",
              "       'historisch', 'holiday', 'hop', 'horror', 'house', 'hymn', 'idm',\n",
              "       'independent', 'indian', 'indie', 'indipop', 'industrial',\n",
              "       'inspirational', 'instrumental', 'international', 'irish', 'jam',\n",
              "       'japanese', 'jazz', 'jewish', 'jpop', 'jungle', 'k-pop',\n",
              "       'karadeniz', 'karaoke', 'kayokyoku', 'korean', 'laiko', 'latin',\n",
              "       'latino', 'leftfield', 'local', 'lounge', 'loungeelectronic',\n",
              "       'lovers', 'malaysian', 'mandopop', 'marschmusik', 'meditative',\n",
              "       'mediterranean', 'melodic', 'metal', 'metalcore', 'mexican',\n",
              "       'middle', 'minimal', 'miscellaneous', 'modern', 'mood', 'mpb',\n",
              "       'muslim', 'native', 'neoklassik', 'neue', 'new', 'newage',\n",
              "       'newwave', 'nu', 'nujazz', 'numetal', 'oceania', 'old', 'opera',\n",
              "       'orchestral', 'other', 'piano', 'podcasts', 'pop', 'popdance',\n",
              "       'popelectronic', 'popeurodance', 'poprussian', 'post',\n",
              "       'posthardcore', 'postrock', 'power', 'progmetal', 'progressive',\n",
              "       'psychedelic', 'punjabi', 'punk', 'quebecois', 'ragga', 'ram',\n",
              "       'rancheras', 'rap', 'rave', 'reggae', 'reggaeton', 'regional',\n",
              "       'relax', 'religious', 'retro', 'rhythm', 'rnb', 'rnr', 'rock',\n",
              "       'rockabilly', 'rockalternative', 'rockindie', 'rockother',\n",
              "       'romance', 'roots', 'ruspop', 'rusrap', 'rusrock', 'russian',\n",
              "       'salsa', 'samba', 'scenic', 'schlager', 'self', 'sertanejo',\n",
              "       'shanson', 'shoegazing', 'showtunes', 'singer', 'ska', 'skarock',\n",
              "       'slow', 'smooth', 'soft', 'soul', 'soulful', 'sound', 'soundtrack',\n",
              "       'southern', 'specialty', 'speech', 'spiritual', 'sport',\n",
              "       'stonerrock', 'surf', 'swing', 'synthpop', 'synthrock',\n",
              "       'sängerportrait', 'tango', 'tanzorchester', 'taraftar', 'tatar',\n",
              "       'tech', 'techno', 'teen', 'thrash', 'top', 'traditional',\n",
              "       'tradjazz', 'trance', 'tribal', 'trip', 'triphop', 'tropical',\n",
              "       'türk', 'türkçe', 'ukrrock', 'unknown', 'urban', 'uzbek',\n",
              "       'variété', 'vi', 'videogame', 'vocal', 'western', 'world',\n",
              "       'worldbeat', 'ïîï', 'электроника'], dtype=object)"
            ]
          },
          "execution_count": 15,
          "metadata": {},
          "output_type": "execute_result"
        }
      ],
      "execution_count": 15
    },
    {
      "cell_type": "code",
      "source": "# Устранение неявных дубликатов\ndf['genre'] = df['genre'].replace(['hip', 'hop', 'hip-hop'], 'hiphop')",
      "metadata": {
        "deletable": true,
        "id": "ErNDkmns_Zct"
      },
      "outputs": [],
      "execution_count": 16
    },
    {
      "cell_type": "code",
      "source": "# Проверка на неявные дубликаты\ncol = df['genre'].sort_values()\ncol.unique()",
      "metadata": {
        "deletable": true,
        "id": "wvixALnFG15m"
      },
      "outputs": [
        {
          "data": {
            "text/plain": [
              "array(['acid', 'acoustic', 'action', 'adult', 'africa', 'afrikaans',\n",
              "       'alternative', 'alternativepunk', 'ambient', 'americana',\n",
              "       'animated', 'anime', 'arabesk', 'arabic', 'arena',\n",
              "       'argentinetango', 'art', 'audiobook', 'author', 'avantgarde',\n",
              "       'axé', 'baile', 'balkan', 'beats', 'bigroom', 'black', 'bluegrass',\n",
              "       'blues', 'bollywood', 'bossa', 'brazilian', 'breakbeat', 'breaks',\n",
              "       'broadway', 'cantautori', 'cantopop', 'canzone', 'caribbean',\n",
              "       'caucasian', 'celtic', 'chamber', 'chanson', 'children', 'chill',\n",
              "       'chinese', 'choral', 'christian', 'christmas', 'classical',\n",
              "       'classicmetal', 'club', 'colombian', 'comedy', 'conjazz',\n",
              "       'contemporary', 'country', 'cuban', 'dance', 'dancehall',\n",
              "       'dancepop', 'dark', 'death', 'deep', 'deutschrock', 'deutschspr',\n",
              "       'dirty', 'disco', 'dnb', 'documentary', 'downbeat', 'downtempo',\n",
              "       'drum', 'dub', 'dubstep', 'eastern', 'easy', 'electronic',\n",
              "       'electropop', 'emo', 'entehno', 'epicmetal', 'estrada', 'ethnic',\n",
              "       'eurofolk', 'european', 'experimental', 'extrememetal', 'fado',\n",
              "       'fairytail', 'film', 'fitness', 'flamenco', 'folk', 'folklore',\n",
              "       'folkmetal', 'folkrock', 'folktronica', 'forró', 'frankreich',\n",
              "       'französisch', 'french', 'funk', 'future', 'gangsta', 'garage',\n",
              "       'german', 'ghazal', 'gitarre', 'glitch', 'gospel', 'gothic',\n",
              "       'grime', 'grunge', 'gypsy', 'handsup', \"hard'n'heavy\", 'hardcore',\n",
              "       'hardstyle', 'hardtechno', 'hiphop', 'historisch', 'holiday',\n",
              "       'horror', 'house', 'hymn', 'idm', 'independent', 'indian', 'indie',\n",
              "       'indipop', 'industrial', 'inspirational', 'instrumental',\n",
              "       'international', 'irish', 'jam', 'japanese', 'jazz', 'jewish',\n",
              "       'jpop', 'jungle', 'k-pop', 'karadeniz', 'karaoke', 'kayokyoku',\n",
              "       'korean', 'laiko', 'latin', 'latino', 'leftfield', 'local',\n",
              "       'lounge', 'loungeelectronic', 'lovers', 'malaysian', 'mandopop',\n",
              "       'marschmusik', 'meditative', 'mediterranean', 'melodic', 'metal',\n",
              "       'metalcore', 'mexican', 'middle', 'minimal', 'miscellaneous',\n",
              "       'modern', 'mood', 'mpb', 'muslim', 'native', 'neoklassik', 'neue',\n",
              "       'new', 'newage', 'newwave', 'nu', 'nujazz', 'numetal', 'oceania',\n",
              "       'old', 'opera', 'orchestral', 'other', 'piano', 'podcasts', 'pop',\n",
              "       'popdance', 'popelectronic', 'popeurodance', 'poprussian', 'post',\n",
              "       'posthardcore', 'postrock', 'power', 'progmetal', 'progressive',\n",
              "       'psychedelic', 'punjabi', 'punk', 'quebecois', 'ragga', 'ram',\n",
              "       'rancheras', 'rap', 'rave', 'reggae', 'reggaeton', 'regional',\n",
              "       'relax', 'religious', 'retro', 'rhythm', 'rnb', 'rnr', 'rock',\n",
              "       'rockabilly', 'rockalternative', 'rockindie', 'rockother',\n",
              "       'romance', 'roots', 'ruspop', 'rusrap', 'rusrock', 'russian',\n",
              "       'salsa', 'samba', 'scenic', 'schlager', 'self', 'sertanejo',\n",
              "       'shanson', 'shoegazing', 'showtunes', 'singer', 'ska', 'skarock',\n",
              "       'slow', 'smooth', 'soft', 'soul', 'soulful', 'sound', 'soundtrack',\n",
              "       'southern', 'specialty', 'speech', 'spiritual', 'sport',\n",
              "       'stonerrock', 'surf', 'swing', 'synthpop', 'synthrock',\n",
              "       'sängerportrait', 'tango', 'tanzorchester', 'taraftar', 'tatar',\n",
              "       'tech', 'techno', 'teen', 'thrash', 'top', 'traditional',\n",
              "       'tradjazz', 'trance', 'tribal', 'trip', 'triphop', 'tropical',\n",
              "       'türk', 'türkçe', 'ukrrock', 'unknown', 'urban', 'uzbek',\n",
              "       'variété', 'vi', 'videogame', 'vocal', 'western', 'world',\n",
              "       'worldbeat', 'ïîï', 'электроника'], dtype=object)"
            ]
          },
          "execution_count": 17,
          "metadata": {},
          "output_type": "execute_result"
        }
      ],
      "execution_count": 17
    },
    {
      "cell_type": "markdown",
      "source": "**Выводы**\n\nПредобработка обнаружила три проблемы в данных:\n\n- нарушения в стиле заголовков,\n- пропущенные значения,\n- дубликаты — явные и неявные.\n\nМы исправили заголовки, чтобы упростить работу с таблицей. Без дубликатов исследование станет более точным.\n\nПропущенные значения мы заменили на `'unknown'`. Ещё предстоит увидеть, не повредят ли исследованию пропуски в колонке `genre`.\n\nТеперь можно перейти к проверке гипотез. ",
      "metadata": {
        "deletable": true,
        "editable": true,
        "id": "jz6a9-7HQUDd"
      }
    },
    {
      "cell_type": "markdown",
      "source": "## Проверка гипотез",
      "metadata": {
        "deletable": true,
        "editable": true,
        "id": "WttZHXH0SqKk"
      }
    },
    {
      "cell_type": "markdown",
      "source": "### Сравнение поведения пользователей двух столиц",
      "metadata": {
        "deletable": true,
        "editable": true,
        "id": "Im936VVi_Zcu"
      }
    },
    {
      "cell_type": "markdown",
      "source": "Первая гипотеза утверждает, что пользователи по-разному слушают музыку в Москве и Санкт-Петербурге. Проверим это предположение по данным о трёх днях недели — понедельнике, среде и пятнице. Для этого:\n\n* Разделим пользователей Москвы и Санкт-Петербурга\n* Сравним, сколько треков послушала каждая группа пользователей в понедельник, среду и пятницу.\n",
      "metadata": {
        "deletable": true,
        "editable": true,
        "id": "nwt_MuaL_Zcu"
      }
    },
    {
      "cell_type": "code",
      "source": "# Подсчёт прослушиваний в каждом городе\ndf.groupby('city')['user_id'].count()",
      "metadata": {
        "deletable": true,
        "id": "0_Qs96oh_Zcu"
      },
      "outputs": [
        {
          "data": {
            "text/plain": [
              "city\n",
              "Moscow              42741\n",
              "Saint-Petersburg    18512\n",
              "Name: user_id, dtype: int64"
            ]
          },
          "execution_count": 18,
          "metadata": {},
          "output_type": "execute_result"
        }
      ],
      "execution_count": 18
    },
    {
      "cell_type": "markdown",
      "source": "В Москве прослушиваний больше, чем в Петербурге. Из этого не следует, что московские пользователи чаще слушают музыку. Просто самих пользователей в Москве больше.\n",
      "metadata": {
        "deletable": true,
        "editable": true,
        "id": "dzli3w8o_Zcu",
        "tags": [
          "start_task"
        ]
      }
    },
    {
      "cell_type": "code",
      "source": "# Подсчёт прослушиваний в каждый из трёх дней\ndf.groupby('day')['time'].count()",
      "metadata": {
        "deletable": true,
        "id": "uZMKjiJz_Zcu"
      },
      "outputs": [
        {
          "data": {
            "text/plain": [
              "day\n",
              "Friday       21840\n",
              "Monday       21354\n",
              "Wednesday    18059\n",
              "Name: time, dtype: int64"
            ]
          },
          "execution_count": 19,
          "metadata": {},
          "output_type": "execute_result"
        }
      ],
      "execution_count": 19
    },
    {
      "cell_type": "markdown",
      "source": "В среднем пользователи из двух городов менее активны по средам. Но картина может измениться, если рассмотреть каждый город в отдельности.",
      "metadata": {
        "deletable": true,
        "editable": true,
        "id": "cC2tNrlL_Zcu"
      }
    },
    {
      "cell_type": "code",
      "source": "def number_tracks(day, city):\n    track_list = df[df['day'] == day]\n    track_list = track_list[track_list['city'] == city]\n    track_list_count = track_list['user_id'].count()\n    \n    return track_list_count",
      "metadata": {
        "deletable": true,
        "id": "Nz3GdQB1_Zcu"
      },
      "outputs": [],
      "execution_count": 20
    },
    {
      "cell_type": "code",
      "source": "# количество прослушиваний в Москве по понедельникам\nnumber_tracks('Monday', 'Moscow')",
      "metadata": {
        "deletable": true,
        "id": "rJcRATNQ_Zcu"
      },
      "outputs": [
        {
          "data": {
            "text/plain": [
              "15740"
            ]
          },
          "execution_count": 21,
          "metadata": {},
          "output_type": "execute_result"
        }
      ],
      "execution_count": 21
    },
    {
      "cell_type": "code",
      "source": "# количество прослушиваний в Санкт-Петербурге по понедельникам\nnumber_tracks('Monday', 'Saint-Petersburg')",
      "metadata": {
        "deletable": true,
        "id": "hq_ncZ5T_Zcu"
      },
      "outputs": [
        {
          "data": {
            "text/plain": [
              "5614"
            ]
          },
          "execution_count": 22,
          "metadata": {},
          "output_type": "execute_result"
        }
      ],
      "execution_count": 22
    },
    {
      "cell_type": "code",
      "source": "# количество прослушиваний в Москве по средам\nnumber_tracks('Wednesday', 'Moscow')",
      "metadata": {
        "deletable": true,
        "id": "_NTy2VPU_Zcu"
      },
      "outputs": [
        {
          "data": {
            "text/plain": [
              "11056"
            ]
          },
          "execution_count": 23,
          "metadata": {},
          "output_type": "execute_result"
        }
      ],
      "execution_count": 23
    },
    {
      "cell_type": "code",
      "source": "# количество прослушиваний в Санкт-Петербурге по средам\nnumber_tracks('Wednesday', 'Saint-Petersburg')",
      "metadata": {
        "deletable": true,
        "id": "j2y3TAwo_Zcu"
      },
      "outputs": [
        {
          "data": {
            "text/plain": [
              "7003"
            ]
          },
          "execution_count": 24,
          "metadata": {},
          "output_type": "execute_result"
        }
      ],
      "execution_count": 24
    },
    {
      "cell_type": "code",
      "source": "# количество прослушиваний в Москве по пятницам\nnumber_tracks('Friday', 'Moscow')",
      "metadata": {
        "deletable": true,
        "id": "vYDw5u_K_Zcu"
      },
      "outputs": [
        {
          "data": {
            "text/plain": [
              "15945"
            ]
          },
          "execution_count": 25,
          "metadata": {},
          "output_type": "execute_result"
        }
      ],
      "execution_count": 25
    },
    {
      "cell_type": "code",
      "source": "# количество прослушиваний в Санкт-Петербурге по пятницам\nnumber_tracks('Friday', 'Saint-Petersburg')",
      "metadata": {
        "deletable": true,
        "id": "8_yzFtW3_Zcu"
      },
      "outputs": [
        {
          "data": {
            "text/plain": [
              "5895"
            ]
          },
          "execution_count": 26,
          "metadata": {},
          "output_type": "execute_result"
        }
      ],
      "execution_count": 26
    },
    {
      "cell_type": "code",
      "source": "# Таблица с результатами\nnew_df = pd.DataFrame(data={'Moscow': [number_tracks('Monday', 'Moscow'),\n                                       number_tracks('Wednesday', 'Moscow'),\n                                       number_tracks('Friday', 'Moscow')],\n                            'Saint-Petersburg': [number_tracks('Monday', 'Saint-Petersburg'),\n                                                 number_tracks('Wednesday', 'Saint-Petersburg'),\n                                                 number_tracks('Friday', 'Saint-Petersburg')]},\n                      columns=['city', 'monday', 'wednesday', 'friday'])",
      "metadata": {
        "deletable": true,
        "id": "APAcLpOr_Zcu"
      },
      "outputs": [],
      "execution_count": 27
    },
    {
      "cell_type": "markdown",
      "source": "**Выводы**\n\nДанные показывают разницу поведения пользователей:\n\n- В Москве пик прослушиваний приходится на понедельник и пятницу, а в среду заметен спад.\n- В Петербурге, наоборот, больше слушают музыку по средам. Активность в понедельник и пятницу здесь почти в равной мере уступает среде.\n\nЗначит, данные говорят в пользу первой гипотезы.",
      "metadata": {
        "deletable": true,
        "editable": true,
        "id": "-EgPIHYu_Zcu"
      }
    },
    {
      "cell_type": "markdown",
      "source": "### Музыка в начале и в конце недели",
      "metadata": {
        "deletable": true,
        "editable": true,
        "id": "atZAxtq4_Zcu"
      }
    },
    {
      "cell_type": "markdown",
      "source": "Согласно второй гипотезе, утром в понедельник в Москве преобладают одни жанры, а в Петербурге — другие. Так же и вечером пятницы преобладают разные жанры — в зависимости от города.",
      "metadata": {
        "deletable": true,
        "editable": true,
        "id": "eXrQqXFH_Zcu"
      }
    },
    {
      "cell_type": "code",
      "source": "# получение таблицы moscow_general из тех строк таблицы df, \n# для которых значение в столбце 'city' равно 'Moscow'\nmoscow_general = df[df['city'] == 'Moscow']",
      "metadata": {
        "deletable": true,
        "id": "qeaFfM_P_Zcu"
      },
      "outputs": [],
      "execution_count": 28
    },
    {
      "cell_type": "code",
      "source": "# получение таблицы spb_general из тех строк таблицы df,\n# для которых значение в столбце 'city' равно 'Saint-Petersburg'\nspb_general = df[df['city'] == 'Saint-Petersburg']",
      "metadata": {
        "deletable": true,
        "id": "ORaVRKto_Zcu"
      },
      "outputs": [],
      "execution_count": 29
    },
    {
      "cell_type": "code",
      "source": "def genre_weekday(df, day, time1, time2):\n    # последовательная фильтрация\n    # оставляем в genre_df только те строки df, у которых день равен day\n    genre_df = df[df['day'] == day]\n    # оставляем в genre_df только те строки genre_df, у которых время меньше time2\n    genre_df = genre_df[genre_df['time'] < time2]\n    # оставляем в genre_df только те строки genre_df, у которых время больше time1\n    genre_df = genre_df[genre_df['time'] > time1]\n    # сгруппируем отфильтрованный датафрейм по столбцу с названиями жанров, возьмём столбец genre и посчитаем кол-во строк для каждого жанра методом count()\n    genre_df_grouped = genre_df.groupby('genre')['user_id'].count()\n    # отсортируем результат по убыванию (чтобы в начале Series оказались самые популярные жанры)\n    genre_df_sorted = genre_df_grouped.sort_values(ascending=true)\n    # вернём Series с 10 самыми популярными жанрами в указанный отрезок времени заданного дня\n    return genre_df_sorted[:10]",
      "metadata": {
        "deletable": true,
        "id": "laJT9BYl_Zcu"
      },
      "outputs": [],
      "execution_count": 30
    },
    {
      "cell_type": "code",
      "source": "# вызов функции для утра понедельника в Москве (вместо df — таблица moscow_general)\ngenre_weekday(moscow_general, 'Monday', '07:00', '11:00')",
      "metadata": {
        "deletable": true,
        "id": "yz7itPUQ_Zcu",
        "trusted": true
      },
      "outputs": [],
      "execution_count": null
    },
    {
      "cell_type": "code",
      "source": "# вызов функции для утра понедельника в Петербурге (вместо df — таблица spb_general)\ngenre_weekday(spb_general, 'Monday', '07:00', '11:00')",
      "metadata": {
        "deletable": true,
        "id": "kwUcHPdy_Zcu"
      },
      "outputs": [
        {
          "data": {
            "text/plain": [
              "genre\n",
              "pop            218\n",
              "dance          182\n",
              "rock           162\n",
              "electronic     147\n",
              "hiphop          80\n",
              "ruspop          64\n",
              "alternative     58\n",
              "rusrap          55\n",
              "jazz            44\n",
              "classical       40\n",
              "Name: user_id, dtype: int64"
            ]
          },
          "execution_count": 31,
          "metadata": {},
          "output_type": "execute_result"
        }
      ],
      "execution_count": 31
    },
    {
      "cell_type": "code",
      "source": "# вызов функции для вечера пятницы в Москве\ngenre_weekday(moscow_general, 'Friday', '17:00', '23:00')",
      "metadata": {
        "deletable": true,
        "id": "EzXVRE1o_Zcu"
      },
      "outputs": [
        {
          "data": {
            "text/plain": [
              "genre\n",
              "pop            713\n",
              "rock           517\n",
              "dance          495\n",
              "electronic     482\n",
              "hiphop         273\n",
              "world          208\n",
              "ruspop         170\n",
              "alternative    163\n",
              "classical      163\n",
              "rusrap         142\n",
              "Name: user_id, dtype: int64"
            ]
          },
          "execution_count": 32,
          "metadata": {},
          "output_type": "execute_result"
        }
      ],
      "execution_count": 32
    },
    {
      "cell_type": "code",
      "source": "# вызов функции для вечера пятницы в Петербурге\ngenre_weekday(spb_general, 'Friday', '17:00', '23:00')",
      "metadata": {
        "deletable": true,
        "id": "JZaEKu5v_Zcu"
      },
      "outputs": [
        {
          "data": {
            "text/plain": [
              "genre\n",
              "pop            256\n",
              "electronic     216\n",
              "rock           216\n",
              "dance          210\n",
              "hiphop          97\n",
              "alternative     63\n",
              "jazz            61\n",
              "classical       60\n",
              "rusrap          59\n",
              "world           54\n",
              "Name: user_id, dtype: int64"
            ]
          },
          "execution_count": 33,
          "metadata": {},
          "output_type": "execute_result"
        }
      ],
      "execution_count": 33
    },
    {
      "cell_type": "markdown",
      "source": "**Выводы**\n\nЕсли сравнить топ-10 жанров в понедельник утром, можно сделать такие выводы:\n\n1. В Москве и Петербурге слушают похожую музыку. Единственное отличие — в московский рейтинг вошёл жанр “world”, а в петербургский — джаз и классика.\n\n2. В Москве пропущенных значений оказалось так много, что значение `'unknown'` заняло десятое место среди самых популярных жанров. Значит, пропущенные значения занимают существенную долю в данных и угрожают достоверности исследования.\n\nВечер пятницы не меняет эту картину. Некоторые жанры поднимаются немного выше, другие спускаются, но в целом топ-10 остаётся тем же самым.\n\nТаким образом, вторая гипотеза подтвердилась лишь частично:\n* Пользователи слушают похожую музыку в начале недели и в конце.\n* Разница между Москвой и Петербургом не слишком выражена. В Москве чаще слушают русскую популярную музыку, в Петербурге — джаз.\n\nОднако пропуски в данных ставят под сомнение этот результат. В Москве их так много, что рейтинг топ-10 мог бы выглядеть иначе, если бы не утерянные  данные о жанрах.",
      "metadata": {
        "deletable": true,
        "editable": true,
        "id": "wrCe4MNX_Zcu"
      }
    },
    {
      "cell_type": "markdown",
      "source": "### Жанровые предпочтения в Москве и Петербурге\n\nГипотеза: Петербург — столица рэпа, музыку этого жанра там слушают чаще, чем в Москве.  А Москва — город контрастов, в котором, тем не менее, преобладает поп-музыка.",
      "metadata": {
        "deletable": true,
        "editable": true,
        "id": "JolODAqr_Zcu"
      }
    },
    {
      "cell_type": "code",
      "source": "moscow_genres = moscow_general.groupby('genre')['genre'].count()\nmoscow_genres = moscow_genres.sort_values(ascending=true)",
      "metadata": {
        "deletable": true,
        "id": "r19lIPke_Zcu",
        "scrolled": true
      },
      "outputs": [],
      "execution_count": 34
    },
    {
      "cell_type": "code",
      "source": "# просмотр первых 10 строк moscow_genres\nmoscow_genres.head(10)",
      "metadata": {
        "deletable": true,
        "id": "WhCSooF8_Zcv"
      },
      "outputs": [
        {
          "data": {
            "text/plain": [
              "genre\n",
              "pop            5892\n",
              "dance          4435\n",
              "rock           3965\n",
              "electronic     3786\n",
              "hiphop         2096\n",
              "classical      1616\n",
              "world          1432\n",
              "alternative    1379\n",
              "ruspop         1372\n",
              "rusrap         1161\n",
              "Name: genre, dtype: int64"
            ]
          },
          "execution_count": 35,
          "metadata": {},
          "output_type": "execute_result"
        }
      ],
      "execution_count": 35
    },
    {
      "cell_type": "code",
      "source": "# одной строкой: группировка таблицы spb_general по столбцу 'genre', \n# подсчёт числа значений 'genre' в этой группировке методом count(), \n# сортировка получившегося Series в порядке убывания и сохранение в spb_genres\nspb_genres = spb_general.groupby('genre')['genre'].count().sort_values(ascending=true)",
      "metadata": {
        "deletable": true,
        "id": "gluLIpE7_Zcv"
      },
      "outputs": [],
      "execution_count": 36
    },
    {
      "cell_type": "code",
      "source": "# просмотр первых 10 строк spb_genres\nspb_genres.head(10)",
      "metadata": {
        "deletable": true,
        "id": "uaGJHjVU_Zcv"
      },
      "outputs": [
        {
          "data": {
            "text/plain": [
              "genre\n",
              "pop            2431\n",
              "dance          1932\n",
              "rock           1879\n",
              "electronic     1736\n",
              "hiphop          960\n",
              "alternative     649\n",
              "classical       646\n",
              "rusrap          564\n",
              "ruspop          538\n",
              "world           515\n",
              "Name: genre, dtype: int64"
            ]
          },
          "execution_count": 37,
          "metadata": {},
          "output_type": "execute_result"
        }
      ],
      "execution_count": 37
    },
    {
      "cell_type": "markdown",
      "source": "**Выводы**",
      "metadata": {
        "deletable": true,
        "editable": true,
        "id": "RY51YJYu_Zcv"
      }
    },
    {
      "cell_type": "markdown",
      "source": "Гипотеза частично подтвердилась:\n* Поп-музыка — самый популярный жанр в Москве, как и предполагала гипотеза. Более того, в топ-10 жанров встречается близкий жанр — русская популярная музыка.\n* Вопреки ожиданиям, рэп одинаково популярен в Москве и Петербурге. \n",
      "metadata": {
        "deletable": true,
        "editable": true,
        "id": "nVhnJEm__Zcv"
      }
    },
    {
      "cell_type": "markdown",
      "source": "## Итоги исследования",
      "metadata": {
        "deletable": true,
        "editable": true,
        "id": "ykKQ0N65_Zcv"
      }
    },
    {
      "cell_type": "markdown",
      "source": "Мы проверили три гипотезы и установили:\n\n1. День недели по-разному влияет на активность пользователей в Москве и Петербурге. \n\nПервая гипотеза полностью подтвердилась.\n\n2. Музыкальные предпочтения не сильно меняются в течение недели — будь то Москва или Петербург. Небольшие различия заметны в начале недели, по понедельникам:\n* в Москве слушают музыку жанра “world”,\n* в Петербурге — джаз и классику.\n\nТаким образом, вторая гипотеза подтвердилась лишь отчасти. Этот результат мог оказаться иным, если бы не пропуски в данных.\n\n3. Во вкусах пользователей Москвы и Петербурга больше общего чем различий. Вопреки ожиданиям, предпочтения жанров в Петербурге напоминают московские.\n\nТретья гипотеза не подтвердилась. Если различия в предпочтениях и существуют, на основной массе пользователей они незаметны.",
      "metadata": {
        "deletable": true,
        "editable": true,
        "id": "tjUwbHb3_Zcv"
      }
    }
  ]
}