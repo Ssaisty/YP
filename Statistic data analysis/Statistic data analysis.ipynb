{
  "metadata": {
    "kernelspec": {
      "name": "python",
      "display_name": "Python (Pyodide)",
      "language": "python"
    },
    "language_info": {
      "codemirror_mode": {
        "name": "python",
        "version": 3
      },
      "file_extension": ".py",
      "mimetype": "text/x-python",
      "name": "python",
      "nbconvert_exporter": "python",
      "pygments_lexer": "ipython3",
      "version": "3.8"
    },
    "ExecuteTimeLog": [
      {
        "duration": 588,
        "start_time": "2023-05-18T14:22:30.556Z"
      },
      {
        "duration": 99,
        "start_time": "2023-05-18T14:23:09.173Z"
      },
      {
        "duration": 37,
        "start_time": "2023-05-18T14:23:12.622Z"
      },
      {
        "duration": 205,
        "start_time": "2023-05-18T14:23:32.972Z"
      },
      {
        "duration": 18,
        "start_time": "2023-05-18T14:23:36.423Z"
      },
      {
        "duration": 134,
        "start_time": "2023-05-18T14:24:08.981Z"
      },
      {
        "duration": 21,
        "start_time": "2023-05-18T14:24:09.424Z"
      },
      {
        "duration": 15,
        "start_time": "2023-05-18T14:24:09.576Z"
      },
      {
        "duration": 11,
        "start_time": "2023-05-18T14:24:14.323Z"
      },
      {
        "duration": 10,
        "start_time": "2023-05-18T14:27:09.607Z"
      },
      {
        "duration": 12,
        "start_time": "2023-05-18T14:27:13.376Z"
      },
      {
        "duration": 12,
        "start_time": "2023-05-18T14:27:18.392Z"
      },
      {
        "duration": 33,
        "start_time": "2023-05-18T14:33:42.412Z"
      },
      {
        "duration": 64,
        "start_time": "2023-05-18T14:33:50.984Z"
      },
      {
        "duration": 23,
        "start_time": "2023-05-18T14:33:56.969Z"
      },
      {
        "duration": 19,
        "start_time": "2023-05-18T14:38:47.451Z"
      },
      {
        "duration": 27,
        "start_time": "2023-05-18T14:39:00.488Z"
      },
      {
        "duration": 109,
        "start_time": "2023-05-18T14:39:40.291Z"
      },
      {
        "duration": 5,
        "start_time": "2023-05-18T14:40:12.063Z"
      },
      {
        "duration": 11,
        "start_time": "2023-05-18T14:40:23.050Z"
      },
      {
        "duration": 10,
        "start_time": "2023-05-18T14:41:03.056Z"
      },
      {
        "duration": 17,
        "start_time": "2023-05-18T14:41:14.164Z"
      },
      {
        "duration": 13,
        "start_time": "2023-05-18T14:43:25.369Z"
      },
      {
        "duration": 11,
        "start_time": "2023-05-18T14:43:31.157Z"
      },
      {
        "duration": 12,
        "start_time": "2023-05-18T14:43:42.875Z"
      },
      {
        "duration": 12,
        "start_time": "2023-05-18T14:43:48.371Z"
      },
      {
        "duration": 9,
        "start_time": "2023-05-18T14:43:51.048Z"
      },
      {
        "duration": 11,
        "start_time": "2023-05-18T14:44:05.056Z"
      },
      {
        "duration": 6,
        "start_time": "2023-05-18T14:44:13.374Z"
      },
      {
        "duration": 19,
        "start_time": "2023-05-18T14:44:26.981Z"
      },
      {
        "duration": 17,
        "start_time": "2023-05-18T14:46:02.862Z"
      },
      {
        "duration": 11,
        "start_time": "2023-05-18T14:46:08.360Z"
      },
      {
        "duration": 26,
        "start_time": "2023-05-18T14:46:21.512Z"
      },
      {
        "duration": 20,
        "start_time": "2023-05-18T14:46:32.259Z"
      },
      {
        "duration": 8,
        "start_time": "2023-05-18T14:46:37.337Z"
      },
      {
        "duration": 14,
        "start_time": "2023-05-18T14:46:43.078Z"
      },
      {
        "duration": 4,
        "start_time": "2023-05-18T14:47:48.704Z"
      },
      {
        "duration": 23,
        "start_time": "2023-05-18T14:48:30.384Z"
      },
      {
        "duration": 8,
        "start_time": "2023-05-18T14:48:37.917Z"
      },
      {
        "duration": 24,
        "start_time": "2023-05-18T14:48:38.288Z"
      },
      {
        "duration": 4,
        "start_time": "2023-05-18T14:48:43.589Z"
      },
      {
        "duration": 70,
        "start_time": "2023-05-18T14:48:43.958Z"
      },
      {
        "duration": 18,
        "start_time": "2023-05-18T14:48:45.079Z"
      },
      {
        "duration": 27,
        "start_time": "2023-05-18T14:48:46.591Z"
      },
      {
        "duration": 16,
        "start_time": "2023-05-18T14:48:49.587Z"
      },
      {
        "duration": 18,
        "start_time": "2023-05-18T14:48:50.879Z"
      },
      {
        "duration": 13,
        "start_time": "2023-05-18T14:48:52.991Z"
      },
      {
        "duration": 11,
        "start_time": "2023-05-18T14:48:53.895Z"
      },
      {
        "duration": 6,
        "start_time": "2023-05-18T14:48:55.804Z"
      },
      {
        "duration": 6,
        "start_time": "2023-05-18T14:48:56.195Z"
      },
      {
        "duration": 15,
        "start_time": "2023-05-18T14:48:56.780Z"
      },
      {
        "duration": 5,
        "start_time": "2023-05-18T14:49:22.904Z"
      },
      {
        "duration": 6,
        "start_time": "2023-05-18T14:49:28.479Z"
      },
      {
        "duration": 5,
        "start_time": "2023-05-18T14:49:34.916Z"
      },
      {
        "duration": 6,
        "start_time": "2023-05-18T14:49:46.059Z"
      },
      {
        "duration": 11,
        "start_time": "2023-05-18T14:51:13.877Z"
      },
      {
        "duration": 10,
        "start_time": "2023-05-18T14:51:21.992Z"
      },
      {
        "duration": 5,
        "start_time": "2023-05-18T14:51:37.284Z"
      },
      {
        "duration": 7,
        "start_time": "2023-05-18T14:51:44.935Z"
      },
      {
        "duration": 869,
        "start_time": "2023-05-18T14:51:47.860Z"
      },
      {
        "duration": 7,
        "start_time": "2023-05-18T14:52:00.361Z"
      },
      {
        "duration": 6,
        "start_time": "2023-05-18T14:52:03.248Z"
      },
      {
        "duration": 5,
        "start_time": "2023-05-18T14:52:06.649Z"
      },
      {
        "duration": 7,
        "start_time": "2023-05-18T14:52:45.580Z"
      },
      {
        "duration": 3,
        "start_time": "2023-05-18T14:53:42.360Z"
      },
      {
        "duration": 71,
        "start_time": "2023-05-18T14:53:42.875Z"
      },
      {
        "duration": 22,
        "start_time": "2023-05-18T14:53:42.949Z"
      },
      {
        "duration": 24,
        "start_time": "2023-05-18T14:53:42.973Z"
      },
      {
        "duration": 17,
        "start_time": "2023-05-18T14:53:42.999Z"
      },
      {
        "duration": 22,
        "start_time": "2023-05-18T14:53:43.085Z"
      },
      {
        "duration": 19,
        "start_time": "2023-05-18T14:53:43.157Z"
      },
      {
        "duration": 9,
        "start_time": "2023-05-18T14:53:43.256Z"
      },
      {
        "duration": 7,
        "start_time": "2023-05-18T14:53:43.280Z"
      },
      {
        "duration": 7,
        "start_time": "2023-05-18T14:53:43.314Z"
      },
      {
        "duration": 17,
        "start_time": "2023-05-18T14:53:43.357Z"
      },
      {
        "duration": 4,
        "start_time": "2023-05-18T14:53:43.381Z"
      },
      {
        "duration": 5,
        "start_time": "2023-05-18T14:53:43.405Z"
      },
      {
        "duration": 5,
        "start_time": "2023-05-18T14:53:43.444Z"
      },
      {
        "duration": 5,
        "start_time": "2023-05-18T14:53:43.471Z"
      },
      {
        "duration": 5,
        "start_time": "2023-05-18T14:53:43.505Z"
      },
      {
        "duration": 14,
        "start_time": "2023-05-18T14:53:43.579Z"
      },
      {
        "duration": 14,
        "start_time": "2023-05-18T14:53:43.602Z"
      },
      {
        "duration": 5,
        "start_time": "2023-05-18T14:53:43.656Z"
      },
      {
        "duration": 6,
        "start_time": "2023-05-18T14:53:43.683Z"
      },
      {
        "duration": 6,
        "start_time": "2023-05-18T14:53:45.083Z"
      },
      {
        "duration": 5,
        "start_time": "2023-05-18T14:53:45.582Z"
      },
      {
        "duration": 5,
        "start_time": "2023-05-18T14:53:45.608Z"
      },
      {
        "duration": 7,
        "start_time": "2023-05-18T14:53:45.683Z"
      },
      {
        "duration": 7,
        "start_time": "2023-05-18T14:57:21.090Z"
      },
      {
        "duration": 14,
        "start_time": "2023-05-18T14:57:25.119Z"
      },
      {
        "duration": 417,
        "start_time": "2023-05-18T14:57:57.820Z"
      },
      {
        "duration": 70,
        "start_time": "2023-05-18T14:57:58.240Z"
      },
      {
        "duration": 26,
        "start_time": "2023-05-18T14:57:58.312Z"
      },
      {
        "duration": 24,
        "start_time": "2023-05-18T14:57:58.340Z"
      },
      {
        "duration": 31,
        "start_time": "2023-05-18T14:57:58.365Z"
      },
      {
        "duration": 20,
        "start_time": "2023-05-18T14:57:58.398Z"
      },
      {
        "duration": 13,
        "start_time": "2023-05-18T14:57:58.420Z"
      },
      {
        "duration": 7,
        "start_time": "2023-05-18T14:57:58.435Z"
      },
      {
        "duration": 7,
        "start_time": "2023-05-18T14:57:58.444Z"
      },
      {
        "duration": 40,
        "start_time": "2023-05-18T14:57:58.454Z"
      },
      {
        "duration": 13,
        "start_time": "2023-05-18T14:57:58.496Z"
      },
      {
        "duration": 7,
        "start_time": "2023-05-18T14:57:58.510Z"
      },
      {
        "duration": 17,
        "start_time": "2023-05-18T14:57:58.519Z"
      },
      {
        "duration": 17,
        "start_time": "2023-05-18T14:57:58.538Z"
      },
      {
        "duration": 8,
        "start_time": "2023-05-18T14:57:58.557Z"
      },
      {
        "duration": 24,
        "start_time": "2023-05-18T14:57:58.568Z"
      },
      {
        "duration": 5,
        "start_time": "2023-05-18T14:57:58.594Z"
      },
      {
        "duration": 23,
        "start_time": "2023-05-18T14:57:58.601Z"
      },
      {
        "duration": 40,
        "start_time": "2023-05-18T14:57:58.626Z"
      },
      {
        "duration": 16,
        "start_time": "2023-05-18T14:57:58.668Z"
      },
      {
        "duration": 9,
        "start_time": "2023-05-18T14:57:58.685Z"
      },
      {
        "duration": 11,
        "start_time": "2023-05-18T14:57:58.696Z"
      },
      {
        "duration": 421,
        "start_time": "2023-05-18T15:01:19.486Z"
      },
      {
        "duration": 16,
        "start_time": "2023-05-18T15:05:38.085Z"
      },
      {
        "duration": 5,
        "start_time": "2023-05-18T15:05:46.956Z"
      },
      {
        "duration": 8,
        "start_time": "2023-05-18T15:06:53.961Z"
      },
      {
        "duration": 164,
        "start_time": "2023-05-18T15:08:00.699Z"
      },
      {
        "duration": 154,
        "start_time": "2023-05-18T15:08:21.360Z"
      },
      {
        "duration": 319,
        "start_time": "2023-05-18T15:08:35.080Z"
      },
      {
        "duration": 154,
        "start_time": "2023-05-18T15:11:16.568Z"
      },
      {
        "duration": 238,
        "start_time": "2023-05-18T15:11:40.689Z"
      },
      {
        "duration": 153,
        "start_time": "2023-05-18T15:11:51.683Z"
      },
      {
        "duration": 257,
        "start_time": "2023-05-18T15:13:44.279Z"
      },
      {
        "duration": 275,
        "start_time": "2023-05-18T15:13:48.469Z"
      },
      {
        "duration": 131,
        "start_time": "2023-05-18T15:14:19.120Z"
      },
      {
        "duration": 186,
        "start_time": "2023-05-18T15:15:07.492Z"
      },
      {
        "duration": 277,
        "start_time": "2023-05-18T15:15:16.210Z"
      },
      {
        "duration": 662,
        "start_time": "2023-05-18T15:15:32.371Z"
      },
      {
        "duration": 285,
        "start_time": "2023-05-18T15:15:37.484Z"
      },
      {
        "duration": 178,
        "start_time": "2023-05-18T15:16:50.107Z"
      },
      {
        "duration": 179,
        "start_time": "2023-05-18T15:16:56.489Z"
      },
      {
        "duration": 18,
        "start_time": "2023-05-18T15:18:16.651Z"
      },
      {
        "duration": 349,
        "start_time": "2023-05-18T15:20:52.042Z"
      },
      {
        "duration": 32,
        "start_time": "2023-05-18T15:21:50.284Z"
      },
      {
        "duration": 31,
        "start_time": "2023-05-18T15:22:16.193Z"
      },
      {
        "duration": 20,
        "start_time": "2023-05-18T15:22:31.810Z"
      },
      {
        "duration": 687,
        "start_time": "2023-05-18T15:22:43.642Z"
      },
      {
        "duration": 71,
        "start_time": "2023-05-18T15:22:44.332Z"
      },
      {
        "duration": 24,
        "start_time": "2023-05-18T15:22:44.405Z"
      },
      {
        "duration": 28,
        "start_time": "2023-05-18T15:22:44.431Z"
      },
      {
        "duration": 27,
        "start_time": "2023-05-18T15:22:44.461Z"
      },
      {
        "duration": 29,
        "start_time": "2023-05-18T15:22:44.491Z"
      },
      {
        "duration": 24,
        "start_time": "2023-05-18T15:22:44.523Z"
      },
      {
        "duration": 8,
        "start_time": "2023-05-18T15:22:44.549Z"
      },
      {
        "duration": 30,
        "start_time": "2023-05-18T15:22:44.558Z"
      },
      {
        "duration": 6,
        "start_time": "2023-05-18T15:22:44.591Z"
      },
      {
        "duration": 26,
        "start_time": "2023-05-18T15:22:44.600Z"
      },
      {
        "duration": 10,
        "start_time": "2023-05-18T15:22:44.629Z"
      },
      {
        "duration": 17,
        "start_time": "2023-05-18T15:22:44.642Z"
      },
      {
        "duration": 27,
        "start_time": "2023-05-18T15:22:44.662Z"
      },
      {
        "duration": 30,
        "start_time": "2023-05-18T15:22:44.692Z"
      },
      {
        "duration": 18,
        "start_time": "2023-05-18T15:22:44.725Z"
      },
      {
        "duration": 15,
        "start_time": "2023-05-18T15:22:44.746Z"
      },
      {
        "duration": 16,
        "start_time": "2023-05-18T15:22:44.764Z"
      },
      {
        "duration": 7,
        "start_time": "2023-05-18T15:22:44.783Z"
      },
      {
        "duration": 12,
        "start_time": "2023-05-18T15:22:44.792Z"
      },
      {
        "duration": 25,
        "start_time": "2023-05-18T15:22:44.806Z"
      },
      {
        "duration": 19,
        "start_time": "2023-05-18T15:22:44.833Z"
      },
      {
        "duration": 189,
        "start_time": "2023-05-18T15:22:44.855Z"
      },
      {
        "duration": 214,
        "start_time": "2023-05-18T15:22:45.046Z"
      },
      {
        "duration": 120,
        "start_time": "2023-05-18T15:23:27.510Z"
      },
      {
        "duration": 191,
        "start_time": "2023-05-18T15:23:47.953Z"
      },
      {
        "duration": 249,
        "start_time": "2023-05-18T15:25:20.028Z"
      },
      {
        "duration": 15,
        "start_time": "2023-05-18T15:25:27.285Z"
      },
      {
        "duration": 12,
        "start_time": "2023-05-18T15:32:13.897Z"
      },
      {
        "duration": 11,
        "start_time": "2023-05-18T15:32:23.763Z"
      },
      {
        "duration": 16,
        "start_time": "2023-05-18T15:32:29.888Z"
      },
      {
        "duration": 12,
        "start_time": "2023-05-18T15:32:32.989Z"
      },
      {
        "duration": 30,
        "start_time": "2023-05-18T15:33:51.184Z"
      },
      {
        "duration": 152,
        "start_time": "2023-05-18T15:33:59.405Z"
      },
      {
        "duration": 158,
        "start_time": "2023-05-18T15:34:03.493Z"
      },
      {
        "duration": 16,
        "start_time": "2023-05-18T15:37:07.960Z"
      },
      {
        "duration": 12,
        "start_time": "2023-05-18T15:37:42.486Z"
      },
      {
        "duration": 96,
        "start_time": "2023-05-18T15:39:36.556Z"
      },
      {
        "duration": 730,
        "start_time": "2023-05-18T15:40:11.485Z"
      },
      {
        "duration": 84,
        "start_time": "2023-05-18T15:40:12.217Z"
      },
      {
        "duration": 34,
        "start_time": "2023-05-18T15:40:12.305Z"
      },
      {
        "duration": 21,
        "start_time": "2023-05-18T15:40:12.341Z"
      },
      {
        "duration": 35,
        "start_time": "2023-05-18T15:40:12.364Z"
      },
      {
        "duration": 23,
        "start_time": "2023-05-18T15:40:12.401Z"
      },
      {
        "duration": 13,
        "start_time": "2023-05-18T15:40:12.426Z"
      },
      {
        "duration": 9,
        "start_time": "2023-05-18T15:40:12.441Z"
      },
      {
        "duration": 43,
        "start_time": "2023-05-18T15:40:12.452Z"
      },
      {
        "duration": 14,
        "start_time": "2023-05-18T15:40:12.501Z"
      },
      {
        "duration": 7,
        "start_time": "2023-05-18T15:40:12.521Z"
      },
      {
        "duration": 17,
        "start_time": "2023-05-18T15:40:12.531Z"
      },
      {
        "duration": 17,
        "start_time": "2023-05-18T15:40:12.550Z"
      },
      {
        "duration": 25,
        "start_time": "2023-05-18T15:40:12.571Z"
      },
      {
        "duration": 21,
        "start_time": "2023-05-18T15:40:12.600Z"
      },
      {
        "duration": 11,
        "start_time": "2023-05-18T15:40:12.623Z"
      },
      {
        "duration": 24,
        "start_time": "2023-05-18T15:40:12.636Z"
      },
      {
        "duration": 8,
        "start_time": "2023-05-18T15:40:12.662Z"
      },
      {
        "duration": 6,
        "start_time": "2023-05-18T15:40:12.672Z"
      },
      {
        "duration": 8,
        "start_time": "2023-05-18T15:40:12.688Z"
      },
      {
        "duration": 15,
        "start_time": "2023-05-18T15:40:12.701Z"
      },
      {
        "duration": 5,
        "start_time": "2023-05-18T15:40:12.718Z"
      },
      {
        "duration": 233,
        "start_time": "2023-05-18T15:40:12.725Z"
      },
      {
        "duration": 103,
        "start_time": "2023-05-18T15:40:12.960Z"
      },
      {
        "duration": 96,
        "start_time": "2023-05-18T18:34:35.865Z"
      },
      {
        "duration": 166,
        "start_time": "2023-05-18T18:35:07.787Z"
      },
      {
        "duration": 23,
        "start_time": "2023-05-18T18:37:01.296Z"
      },
      {
        "duration": 228,
        "start_time": "2023-05-18T18:37:44.718Z"
      },
      {
        "duration": 761,
        "start_time": "2023-05-20T13:16:20.241Z"
      },
      {
        "duration": 298,
        "start_time": "2023-05-20T13:16:21.004Z"
      },
      {
        "duration": 26,
        "start_time": "2023-05-20T13:16:21.304Z"
      },
      {
        "duration": 15,
        "start_time": "2023-05-20T13:16:21.331Z"
      },
      {
        "duration": 13,
        "start_time": "2023-05-20T13:16:21.349Z"
      },
      {
        "duration": 47,
        "start_time": "2023-05-20T13:16:21.364Z"
      },
      {
        "duration": 12,
        "start_time": "2023-05-20T13:16:21.413Z"
      },
      {
        "duration": 7,
        "start_time": "2023-05-20T13:16:21.427Z"
      },
      {
        "duration": 5,
        "start_time": "2023-05-20T13:16:21.436Z"
      },
      {
        "duration": 7,
        "start_time": "2023-05-20T13:16:21.443Z"
      },
      {
        "duration": 6,
        "start_time": "2023-05-20T13:16:21.452Z"
      },
      {
        "duration": 8,
        "start_time": "2023-05-20T13:16:21.460Z"
      },
      {
        "duration": 5,
        "start_time": "2023-05-20T13:16:21.469Z"
      },
      {
        "duration": 12,
        "start_time": "2023-05-20T13:16:21.507Z"
      },
      {
        "duration": 14,
        "start_time": "2023-05-20T13:16:21.521Z"
      },
      {
        "duration": 24,
        "start_time": "2023-05-20T13:16:21.536Z"
      },
      {
        "duration": 5,
        "start_time": "2023-05-20T13:16:21.561Z"
      },
      {
        "duration": 4,
        "start_time": "2023-05-20T13:16:21.567Z"
      },
      {
        "duration": 6,
        "start_time": "2023-05-20T13:16:21.572Z"
      },
      {
        "duration": 5,
        "start_time": "2023-05-20T13:16:21.579Z"
      },
      {
        "duration": 10,
        "start_time": "2023-05-20T13:16:21.585Z"
      },
      {
        "duration": 7,
        "start_time": "2023-05-20T13:16:21.597Z"
      },
      {
        "duration": 141,
        "start_time": "2023-05-20T13:16:21.606Z"
      },
      {
        "duration": 82,
        "start_time": "2023-05-20T13:16:21.749Z"
      },
      {
        "duration": 13,
        "start_time": "2023-05-20T13:16:21.832Z"
      },
      {
        "duration": 81,
        "start_time": "2023-05-20T13:17:03.361Z"
      },
      {
        "duration": 14,
        "start_time": "2023-05-20T13:19:51.252Z"
      },
      {
        "duration": 150,
        "start_time": "2023-05-20T13:21:53.475Z"
      },
      {
        "duration": 177,
        "start_time": "2023-05-20T13:22:14.437Z"
      },
      {
        "duration": 134,
        "start_time": "2023-05-20T13:22:50.532Z"
      },
      {
        "duration": 126,
        "start_time": "2023-05-20T13:23:14.287Z"
      },
      {
        "duration": 13,
        "start_time": "2023-05-20T13:23:17.749Z"
      },
      {
        "duration": 133,
        "start_time": "2023-05-20T13:23:48.333Z"
      },
      {
        "duration": 155,
        "start_time": "2023-05-20T13:24:32.700Z"
      },
      {
        "duration": 138,
        "start_time": "2023-05-20T13:24:47.507Z"
      },
      {
        "duration": 27,
        "start_time": "2023-05-20T13:30:05.128Z"
      },
      {
        "duration": 71,
        "start_time": "2023-05-20T13:30:20.900Z"
      },
      {
        "duration": 18,
        "start_time": "2023-05-20T13:30:29.455Z"
      },
      {
        "duration": 15,
        "start_time": "2023-05-20T13:30:37.763Z"
      },
      {
        "duration": 28,
        "start_time": "2023-05-20T13:30:42.570Z"
      },
      {
        "duration": 21,
        "start_time": "2023-05-20T13:35:18.415Z"
      },
      {
        "duration": 8,
        "start_time": "2023-05-20T13:35:30.777Z"
      },
      {
        "duration": 18,
        "start_time": "2023-05-20T13:35:35.924Z"
      },
      {
        "duration": 17,
        "start_time": "2023-05-20T13:35:51.934Z"
      },
      {
        "duration": 8,
        "start_time": "2023-05-20T13:54:43.926Z"
      },
      {
        "duration": 132,
        "start_time": "2023-05-20T13:54:49.158Z"
      },
      {
        "duration": 128,
        "start_time": "2023-05-20T13:55:21.325Z"
      },
      {
        "duration": 343,
        "start_time": "2023-05-20T13:56:02.465Z"
      },
      {
        "duration": 337,
        "start_time": "2023-05-20T13:56:53.154Z"
      },
      {
        "duration": 3,
        "start_time": "2023-05-20T14:25:56.244Z"
      },
      {
        "duration": 25,
        "start_time": "2023-05-20T14:27:36.597Z"
      },
      {
        "duration": 41,
        "start_time": "2023-05-20T14:37:13.858Z"
      },
      {
        "duration": 8,
        "start_time": "2023-05-20T14:38:27.175Z"
      },
      {
        "duration": 3,
        "start_time": "2023-05-20T14:40:41.893Z"
      },
      {
        "duration": 11,
        "start_time": "2023-05-20T14:40:50.070Z"
      },
      {
        "duration": 11,
        "start_time": "2023-05-20T14:42:08.315Z"
      },
      {
        "duration": 19,
        "start_time": "2023-05-20T14:42:24.358Z"
      },
      {
        "duration": 19,
        "start_time": "2023-05-20T14:52:20.341Z"
      },
      {
        "duration": 2,
        "start_time": "2023-05-20T15:02:40.497Z"
      },
      {
        "duration": 21,
        "start_time": "2023-05-20T15:13:54.535Z"
      },
      {
        "duration": 712,
        "start_time": "2023-05-20T15:13:56.151Z"
      },
      {
        "duration": 22,
        "start_time": "2023-05-20T16:06:36.899Z"
      },
      {
        "duration": 18,
        "start_time": "2023-05-20T16:07:04.066Z"
      },
      {
        "duration": 18,
        "start_time": "2023-05-20T16:07:17.163Z"
      },
      {
        "duration": 51,
        "start_time": "2023-05-20T16:07:23.497Z"
      },
      {
        "duration": 22,
        "start_time": "2023-05-20T16:07:31.062Z"
      },
      {
        "duration": 31,
        "start_time": "2023-05-20T16:08:38.290Z"
      },
      {
        "duration": 14,
        "start_time": "2023-05-20T16:08:56.372Z"
      },
      {
        "duration": 3,
        "start_time": "2023-05-20T16:09:02.593Z"
      },
      {
        "duration": 26,
        "start_time": "2023-05-20T16:09:53.724Z"
      },
      {
        "duration": 645,
        "start_time": "2023-05-20T16:10:43.624Z"
      },
      {
        "duration": 694,
        "start_time": "2023-05-20T16:10:49.513Z"
      },
      {
        "duration": 643,
        "start_time": "2023-05-20T16:10:53.320Z"
      },
      {
        "duration": 670,
        "start_time": "2023-05-20T16:11:10.891Z"
      },
      {
        "duration": 8,
        "start_time": "2023-05-20T16:11:14.389Z"
      },
      {
        "duration": 8,
        "start_time": "2023-05-20T16:11:22.671Z"
      },
      {
        "duration": 8,
        "start_time": "2023-05-20T16:11:26.803Z"
      },
      {
        "duration": 9,
        "start_time": "2023-05-20T16:11:29.979Z"
      },
      {
        "duration": 9,
        "start_time": "2023-05-20T16:11:32.858Z"
      },
      {
        "duration": 5,
        "start_time": "2023-05-20T16:13:21.173Z"
      },
      {
        "duration": 4,
        "start_time": "2023-05-20T16:13:33.876Z"
      },
      {
        "duration": 4,
        "start_time": "2023-05-20T16:13:41.218Z"
      },
      {
        "duration": 4,
        "start_time": "2023-05-20T16:14:25.291Z"
      },
      {
        "duration": 45,
        "start_time": "2023-05-20T16:15:34.267Z"
      },
      {
        "duration": 7,
        "start_time": "2023-05-20T16:20:31.854Z"
      },
      {
        "duration": 4,
        "start_time": "2023-05-20T16:24:52.966Z"
      },
      {
        "duration": 654,
        "start_time": "2023-05-20T16:25:43.068Z"
      },
      {
        "duration": 18,
        "start_time": "2023-05-20T16:26:06.875Z"
      },
      {
        "duration": 14,
        "start_time": "2023-05-20T16:28:43.996Z"
      },
      {
        "duration": 67,
        "start_time": "2023-05-20T16:46:08.965Z"
      },
      {
        "duration": 15,
        "start_time": "2023-05-20T16:46:32.972Z"
      },
      {
        "duration": 25,
        "start_time": "2023-05-20T16:49:17.366Z"
      },
      {
        "duration": 25,
        "start_time": "2023-05-20T16:49:57.189Z"
      },
      {
        "duration": 18,
        "start_time": "2023-05-20T16:50:14.999Z"
      },
      {
        "duration": 16,
        "start_time": "2023-05-20T16:50:21.293Z"
      },
      {
        "duration": 26,
        "start_time": "2023-05-20T16:51:11.971Z"
      },
      {
        "duration": 23,
        "start_time": "2023-05-20T17:22:26.567Z"
      },
      {
        "duration": 6747,
        "start_time": "2023-05-20T17:23:56.426Z"
      },
      {
        "duration": 1314,
        "start_time": "2023-05-20T17:24:10.421Z"
      },
      {
        "duration": 2022,
        "start_time": "2023-05-20T17:24:26.220Z"
      },
      {
        "duration": 1440,
        "start_time": "2023-05-20T17:24:41.326Z"
      },
      {
        "duration": 16,
        "start_time": "2023-05-20T17:27:00.182Z"
      },
      {
        "duration": 16,
        "start_time": "2023-05-20T17:27:06.196Z"
      },
      {
        "duration": 7,
        "start_time": "2023-05-20T20:09:37.504Z"
      },
      {
        "duration": 16,
        "start_time": "2023-05-20T20:09:46.849Z"
      },
      {
        "duration": 683,
        "start_time": "2023-05-20T20:09:53.801Z"
      },
      {
        "duration": 1389,
        "start_time": "2023-05-20T20:12:55.749Z"
      },
      {
        "duration": 689,
        "start_time": "2023-05-20T20:13:32.737Z"
      },
      {
        "duration": 20,
        "start_time": "2023-05-20T20:13:49.066Z"
      },
      {
        "duration": 27,
        "start_time": "2023-05-20T20:14:14.803Z"
      },
      {
        "duration": 32,
        "start_time": "2023-05-20T20:14:46.270Z"
      },
      {
        "duration": 20,
        "start_time": "2023-05-20T20:17:44.801Z"
      },
      {
        "duration": 29,
        "start_time": "2023-05-20T20:17:52.818Z"
      },
      {
        "duration": 21,
        "start_time": "2023-05-20T20:18:13.596Z"
      },
      {
        "duration": 29,
        "start_time": "2023-05-20T20:18:23.467Z"
      },
      {
        "duration": 61,
        "start_time": "2023-05-20T20:26:29.136Z"
      },
      {
        "duration": 24,
        "start_time": "2023-05-20T21:28:39.370Z"
      },
      {
        "duration": 2,
        "start_time": "2023-05-20T21:32:48.260Z"
      },
      {
        "duration": 20,
        "start_time": "2023-05-20T21:33:12.302Z"
      },
      {
        "duration": 26,
        "start_time": "2023-05-20T21:33:32.917Z"
      },
      {
        "duration": 29,
        "start_time": "2023-05-20T21:34:04.892Z"
      },
      {
        "duration": 48,
        "start_time": "2023-05-21T10:17:34.562Z"
      },
      {
        "duration": 796,
        "start_time": "2023-05-21T10:17:42.291Z"
      },
      {
        "duration": 303,
        "start_time": "2023-05-21T10:17:43.089Z"
      },
      {
        "duration": 22,
        "start_time": "2023-05-21T10:17:43.394Z"
      },
      {
        "duration": 18,
        "start_time": "2023-05-21T10:17:43.418Z"
      },
      {
        "duration": 15,
        "start_time": "2023-05-21T10:17:43.438Z"
      },
      {
        "duration": 16,
        "start_time": "2023-05-21T10:17:43.454Z"
      },
      {
        "duration": 12,
        "start_time": "2023-05-21T10:17:43.472Z"
      },
      {
        "duration": 6,
        "start_time": "2023-05-21T10:17:43.486Z"
      },
      {
        "duration": 37,
        "start_time": "2023-05-21T10:17:43.493Z"
      },
      {
        "duration": 5,
        "start_time": "2023-05-21T10:17:43.534Z"
      },
      {
        "duration": 7,
        "start_time": "2023-05-21T10:17:43.540Z"
      },
      {
        "duration": 5,
        "start_time": "2023-05-21T10:17:43.548Z"
      },
      {
        "duration": 5,
        "start_time": "2023-05-21T10:17:43.555Z"
      },
      {
        "duration": 5,
        "start_time": "2023-05-21T10:17:43.562Z"
      },
      {
        "duration": 10,
        "start_time": "2023-05-21T10:17:43.568Z"
      },
      {
        "duration": 4,
        "start_time": "2023-05-21T10:17:43.579Z"
      },
      {
        "duration": 6,
        "start_time": "2023-05-21T10:17:43.625Z"
      },
      {
        "duration": 6,
        "start_time": "2023-05-21T10:17:43.633Z"
      },
      {
        "duration": 7,
        "start_time": "2023-05-21T10:17:43.641Z"
      },
      {
        "duration": 5,
        "start_time": "2023-05-21T10:17:43.650Z"
      },
      {
        "duration": 7,
        "start_time": "2023-05-21T10:17:43.657Z"
      },
      {
        "duration": 4,
        "start_time": "2023-05-21T10:17:43.667Z"
      },
      {
        "duration": 187,
        "start_time": "2023-05-21T10:17:43.673Z"
      },
      {
        "duration": 87,
        "start_time": "2023-05-21T10:17:43.862Z"
      },
      {
        "duration": 164,
        "start_time": "2023-05-21T10:17:43.951Z"
      },
      {
        "duration": 177,
        "start_time": "2023-05-21T10:17:44.117Z"
      },
      {
        "duration": 42,
        "start_time": "2023-05-21T10:17:44.296Z"
      },
      {
        "duration": 25,
        "start_time": "2023-05-21T10:17:44.341Z"
      },
      {
        "duration": 92,
        "start_time": "2023-05-21T10:17:44.369Z"
      },
      {
        "duration": 293,
        "start_time": "2023-05-21T10:17:44.463Z"
      },
      {
        "duration": 327,
        "start_time": "2023-05-21T10:17:44.758Z"
      },
      {
        "duration": 19,
        "start_time": "2023-05-21T10:17:45.087Z"
      },
      {
        "duration": 48,
        "start_time": "2023-05-21T10:17:45.108Z"
      },
      {
        "duration": 34,
        "start_time": "2023-05-21T10:17:45.158Z"
      },
      {
        "duration": 9,
        "start_time": "2023-05-21T10:17:45.194Z"
      },
      {
        "duration": 14,
        "start_time": "2023-05-21T10:22:39.208Z"
      },
      {
        "duration": 28,
        "start_time": "2023-05-21T10:22:48.151Z"
      },
      {
        "duration": 17,
        "start_time": "2023-05-21T10:28:14.067Z"
      },
      {
        "duration": 26,
        "start_time": "2023-05-21T10:30:01.914Z"
      },
      {
        "duration": 14,
        "start_time": "2023-05-21T10:30:33.020Z"
      },
      {
        "duration": 17,
        "start_time": "2023-05-21T10:30:46.270Z"
      },
      {
        "duration": 23,
        "start_time": "2023-05-21T10:31:10.575Z"
      },
      {
        "duration": 34,
        "start_time": "2023-05-21T10:51:40.849Z"
      },
      {
        "duration": 16,
        "start_time": "2023-05-21T10:51:57.093Z"
      },
      {
        "duration": 94,
        "start_time": "2023-05-21T10:53:18.797Z"
      },
      {
        "duration": 12,
        "start_time": "2023-05-21T11:01:46.407Z"
      },
      {
        "duration": 24,
        "start_time": "2023-05-21T11:01:49.005Z"
      },
      {
        "duration": 30,
        "start_time": "2023-05-21T11:06:26.209Z"
      },
      {
        "duration": 22,
        "start_time": "2023-05-21T11:06:50.651Z"
      },
      {
        "duration": 46,
        "start_time": "2023-05-21T11:08:31.756Z"
      },
      {
        "duration": 22,
        "start_time": "2023-05-21T11:10:02.286Z"
      },
      {
        "duration": 42,
        "start_time": "2023-05-21T11:13:07.177Z"
      },
      {
        "duration": 5,
        "start_time": "2023-05-21T11:24:53.043Z"
      },
      {
        "duration": 18,
        "start_time": "2023-05-21T11:25:03.632Z"
      },
      {
        "duration": 28,
        "start_time": "2023-05-21T11:25:08.391Z"
      },
      {
        "duration": 22,
        "start_time": "2023-05-21T12:22:07.664Z"
      },
      {
        "duration": 21,
        "start_time": "2023-05-21T12:24:25.502Z"
      },
      {
        "duration": 213,
        "start_time": "2023-05-21T12:24:33.996Z"
      },
      {
        "duration": 28,
        "start_time": "2023-05-21T12:24:45.963Z"
      },
      {
        "duration": 29,
        "start_time": "2023-05-21T12:25:09.849Z"
      },
      {
        "duration": 21,
        "start_time": "2023-05-21T12:25:20.004Z"
      },
      {
        "duration": 30,
        "start_time": "2023-05-21T12:25:23.885Z"
      },
      {
        "duration": 787,
        "start_time": "2023-05-21T12:26:44.731Z"
      },
      {
        "duration": 148,
        "start_time": "2023-05-21T12:27:47.470Z"
      },
      {
        "duration": 678,
        "start_time": "2023-05-21T12:47:08.956Z"
      },
      {
        "duration": 12,
        "start_time": "2023-05-21T12:47:47.639Z"
      },
      {
        "duration": 472,
        "start_time": "2023-05-21T12:48:06.836Z"
      },
      {
        "duration": 1117,
        "start_time": "2023-05-21T12:48:14.485Z"
      },
      {
        "duration": 76,
        "start_time": "2023-05-21T12:48:15.604Z"
      },
      {
        "duration": 22,
        "start_time": "2023-05-21T12:48:15.682Z"
      },
      {
        "duration": 17,
        "start_time": "2023-05-21T12:48:15.706Z"
      },
      {
        "duration": 19,
        "start_time": "2023-05-21T12:48:15.725Z"
      },
      {
        "duration": 17,
        "start_time": "2023-05-21T12:48:15.746Z"
      },
      {
        "duration": 11,
        "start_time": "2023-05-21T12:48:15.765Z"
      },
      {
        "duration": 6,
        "start_time": "2023-05-21T12:48:15.777Z"
      },
      {
        "duration": 5,
        "start_time": "2023-05-21T12:48:15.784Z"
      },
      {
        "duration": 33,
        "start_time": "2023-05-21T12:48:15.792Z"
      },
      {
        "duration": 6,
        "start_time": "2023-05-21T12:48:15.828Z"
      },
      {
        "duration": 7,
        "start_time": "2023-05-21T12:48:15.836Z"
      },
      {
        "duration": 6,
        "start_time": "2023-05-21T12:48:15.844Z"
      },
      {
        "duration": 6,
        "start_time": "2023-05-21T12:48:15.852Z"
      },
      {
        "duration": 16,
        "start_time": "2023-05-21T12:48:15.860Z"
      },
      {
        "duration": 5,
        "start_time": "2023-05-21T12:48:15.878Z"
      },
      {
        "duration": 42,
        "start_time": "2023-05-21T12:48:15.884Z"
      },
      {
        "duration": 7,
        "start_time": "2023-05-21T12:48:15.928Z"
      },
      {
        "duration": 5,
        "start_time": "2023-05-21T12:48:15.937Z"
      },
      {
        "duration": 8,
        "start_time": "2023-05-21T12:48:15.944Z"
      },
      {
        "duration": 9,
        "start_time": "2023-05-21T12:48:15.954Z"
      },
      {
        "duration": 4,
        "start_time": "2023-05-21T12:48:15.965Z"
      },
      {
        "duration": 199,
        "start_time": "2023-05-21T12:48:15.971Z"
      },
      {
        "duration": 87,
        "start_time": "2023-05-21T12:48:16.171Z"
      },
      {
        "duration": 179,
        "start_time": "2023-05-21T12:48:16.260Z"
      },
      {
        "duration": 176,
        "start_time": "2023-05-21T12:48:16.441Z"
      },
      {
        "duration": 38,
        "start_time": "2023-05-21T12:48:16.619Z"
      },
      {
        "duration": 25,
        "start_time": "2023-05-21T12:48:16.661Z"
      },
      {
        "duration": 46,
        "start_time": "2023-05-21T12:48:16.688Z"
      },
      {
        "duration": 328,
        "start_time": "2023-05-21T12:48:16.735Z"
      },
      {
        "duration": 404,
        "start_time": "2023-05-21T12:48:17.065Z"
      },
      {
        "duration": 18,
        "start_time": "2023-05-21T12:48:17.471Z"
      },
      {
        "duration": 35,
        "start_time": "2023-05-21T12:48:17.491Z"
      },
      {
        "duration": 160,
        "start_time": "2023-05-21T12:48:17.527Z"
      },
      {
        "duration": 7,
        "start_time": "2023-05-21T12:48:17.689Z"
      },
      {
        "duration": 20,
        "start_time": "2023-05-21T12:57:06.679Z"
      },
      {
        "duration": 32,
        "start_time": "2023-05-21T12:59:07.096Z"
      },
      {
        "duration": 10,
        "start_time": "2023-05-21T13:04:57.360Z"
      },
      {
        "duration": 108,
        "start_time": "2023-05-21T13:05:46.862Z"
      },
      {
        "duration": 3,
        "start_time": "2023-05-21T13:06:03.250Z"
      },
      {
        "duration": 728,
        "start_time": "2023-05-21T13:06:08.988Z"
      },
      {
        "duration": 6,
        "start_time": "2023-05-21T13:06:20.518Z"
      },
      {
        "duration": 10,
        "start_time": "2023-05-21T13:10:52.660Z"
      },
      {
        "duration": 5,
        "start_time": "2023-05-21T13:11:16.068Z"
      },
      {
        "duration": 6,
        "start_time": "2023-05-21T13:11:24.117Z"
      },
      {
        "duration": 709,
        "start_time": "2023-05-21T13:19:12.642Z"
      },
      {
        "duration": 6,
        "start_time": "2023-05-21T13:21:14.405Z"
      },
      {
        "duration": 157,
        "start_time": "2023-05-21T14:00:13.711Z"
      },
      {
        "duration": 8,
        "start_time": "2023-05-21T15:51:26.703Z"
      },
      {
        "duration": 10,
        "start_time": "2023-05-21T15:53:29.224Z"
      },
      {
        "duration": 5,
        "start_time": "2023-05-21T15:56:17.813Z"
      },
      {
        "duration": 5,
        "start_time": "2023-05-21T15:56:25.515Z"
      },
      {
        "duration": 6,
        "start_time": "2023-05-21T15:58:25.888Z"
      },
      {
        "duration": 1100,
        "start_time": "2023-05-21T16:14:12.991Z"
      },
      {
        "duration": 70,
        "start_time": "2023-05-21T16:14:14.093Z"
      },
      {
        "duration": 21,
        "start_time": "2023-05-21T16:14:14.164Z"
      },
      {
        "duration": 18,
        "start_time": "2023-05-21T16:14:14.187Z"
      },
      {
        "duration": 25,
        "start_time": "2023-05-21T16:14:14.207Z"
      },
      {
        "duration": 22,
        "start_time": "2023-05-21T16:14:14.234Z"
      },
      {
        "duration": 11,
        "start_time": "2023-05-21T16:14:14.258Z"
      },
      {
        "duration": 6,
        "start_time": "2023-05-21T16:14:14.271Z"
      },
      {
        "duration": 5,
        "start_time": "2023-05-21T16:14:14.279Z"
      },
      {
        "duration": 40,
        "start_time": "2023-05-21T16:14:14.287Z"
      },
      {
        "duration": 6,
        "start_time": "2023-05-21T16:14:14.328Z"
      },
      {
        "duration": 7,
        "start_time": "2023-05-21T16:14:14.335Z"
      },
      {
        "duration": 4,
        "start_time": "2023-05-21T16:14:14.344Z"
      },
      {
        "duration": 8,
        "start_time": "2023-05-21T16:14:14.350Z"
      },
      {
        "duration": 10,
        "start_time": "2023-05-21T16:14:14.359Z"
      },
      {
        "duration": 5,
        "start_time": "2023-05-21T16:14:14.371Z"
      },
      {
        "duration": 48,
        "start_time": "2023-05-21T16:14:14.378Z"
      },
      {
        "duration": 5,
        "start_time": "2023-05-21T16:14:14.428Z"
      },
      {
        "duration": 4,
        "start_time": "2023-05-21T16:14:14.435Z"
      },
      {
        "duration": 6,
        "start_time": "2023-05-21T16:14:14.441Z"
      },
      {
        "duration": 9,
        "start_time": "2023-05-21T16:14:14.448Z"
      },
      {
        "duration": 11,
        "start_time": "2023-05-21T16:14:14.458Z"
      },
      {
        "duration": 193,
        "start_time": "2023-05-21T16:14:14.470Z"
      },
      {
        "duration": 100,
        "start_time": "2023-05-21T16:14:14.665Z"
      },
      {
        "duration": 188,
        "start_time": "2023-05-21T16:14:14.767Z"
      },
      {
        "duration": 180,
        "start_time": "2023-05-21T16:14:14.957Z"
      },
      {
        "duration": 34,
        "start_time": "2023-05-21T16:14:15.139Z"
      },
      {
        "duration": 24,
        "start_time": "2023-05-21T16:14:15.176Z"
      },
      {
        "duration": 45,
        "start_time": "2023-05-21T16:14:15.202Z"
      },
      {
        "duration": 322,
        "start_time": "2023-05-21T16:14:15.248Z"
      },
      {
        "duration": 356,
        "start_time": "2023-05-21T16:14:15.573Z"
      },
      {
        "duration": 20,
        "start_time": "2023-05-21T16:14:15.931Z"
      },
      {
        "duration": 29,
        "start_time": "2023-05-21T16:14:15.953Z"
      },
      {
        "duration": 164,
        "start_time": "2023-05-21T16:14:15.984Z"
      },
      {
        "duration": 9,
        "start_time": "2023-05-21T16:14:16.149Z"
      },
      {
        "duration": 18,
        "start_time": "2023-05-21T16:14:16.160Z"
      },
      {
        "duration": 11,
        "start_time": "2023-05-21T16:14:16.179Z"
      },
      {
        "duration": 48,
        "start_time": "2023-05-21T17:41:54.518Z"
      },
      {
        "duration": 1200,
        "start_time": "2023-05-21T17:42:00.555Z"
      },
      {
        "duration": 70,
        "start_time": "2023-05-21T17:42:01.757Z"
      },
      {
        "duration": 23,
        "start_time": "2023-05-21T17:42:01.829Z"
      },
      {
        "duration": 76,
        "start_time": "2023-05-21T17:42:01.854Z"
      },
      {
        "duration": 29,
        "start_time": "2023-05-21T17:42:01.932Z"
      },
      {
        "duration": 40,
        "start_time": "2023-05-21T17:42:01.962Z"
      },
      {
        "duration": 24,
        "start_time": "2023-05-21T17:42:02.004Z"
      },
      {
        "duration": 39,
        "start_time": "2023-05-21T17:42:02.029Z"
      },
      {
        "duration": 35,
        "start_time": "2023-05-21T17:42:02.070Z"
      },
      {
        "duration": 22,
        "start_time": "2023-05-21T17:42:02.107Z"
      },
      {
        "duration": 28,
        "start_time": "2023-05-21T17:42:02.131Z"
      },
      {
        "duration": 11,
        "start_time": "2023-05-21T17:42:02.161Z"
      },
      {
        "duration": 16,
        "start_time": "2023-05-21T17:42:02.173Z"
      },
      {
        "duration": 16,
        "start_time": "2023-05-21T17:42:02.192Z"
      },
      {
        "duration": 25,
        "start_time": "2023-05-21T17:42:02.210Z"
      },
      {
        "duration": 25,
        "start_time": "2023-05-21T17:42:02.237Z"
      },
      {
        "duration": 19,
        "start_time": "2023-05-21T17:42:02.263Z"
      },
      {
        "duration": 22,
        "start_time": "2023-05-21T17:42:02.284Z"
      },
      {
        "duration": 29,
        "start_time": "2023-05-21T17:42:02.307Z"
      },
      {
        "duration": 28,
        "start_time": "2023-05-21T17:42:02.338Z"
      },
      {
        "duration": 20,
        "start_time": "2023-05-21T17:42:02.368Z"
      },
      {
        "duration": 34,
        "start_time": "2023-05-21T17:42:02.390Z"
      },
      {
        "duration": 26,
        "start_time": "2023-05-21T17:42:02.426Z"
      },
      {
        "duration": 166,
        "start_time": "2023-05-21T17:42:02.454Z"
      },
      {
        "duration": 80,
        "start_time": "2023-05-21T17:42:02.623Z"
      },
      {
        "duration": 162,
        "start_time": "2023-05-21T17:42:02.704Z"
      },
      {
        "duration": 162,
        "start_time": "2023-05-21T17:42:02.868Z"
      },
      {
        "duration": 44,
        "start_time": "2023-05-21T17:42:03.032Z"
      },
      {
        "duration": 23,
        "start_time": "2023-05-21T17:42:03.078Z"
      },
      {
        "duration": 21,
        "start_time": "2023-05-21T17:42:03.103Z"
      },
      {
        "duration": 327,
        "start_time": "2023-05-21T17:42:03.127Z"
      },
      {
        "duration": 328,
        "start_time": "2023-05-21T17:42:03.456Z"
      },
      {
        "duration": 20,
        "start_time": "2023-05-21T17:42:03.785Z"
      },
      {
        "duration": 30,
        "start_time": "2023-05-21T17:42:03.806Z"
      },
      {
        "duration": 151,
        "start_time": "2023-05-21T17:42:03.856Z"
      },
      {
        "duration": 11,
        "start_time": "2023-05-21T17:42:04.009Z"
      },
      {
        "duration": 12,
        "start_time": "2023-05-21T17:42:04.022Z"
      },
      {
        "duration": 20,
        "start_time": "2023-05-21T17:42:04.036Z"
      },
      {
        "duration": 7,
        "start_time": "2023-05-21T17:42:15.793Z"
      },
      {
        "duration": 114,
        "start_time": "2023-05-21T17:51:26.846Z"
      },
      {
        "duration": 8,
        "start_time": "2023-05-21T17:51:32.292Z"
      },
      {
        "duration": 1179,
        "start_time": "2023-05-21T17:59:45.707Z"
      },
      {
        "duration": 82,
        "start_time": "2023-05-21T17:59:46.889Z"
      },
      {
        "duration": 30,
        "start_time": "2023-05-21T17:59:46.973Z"
      },
      {
        "duration": 26,
        "start_time": "2023-05-21T17:59:47.005Z"
      },
      {
        "duration": 31,
        "start_time": "2023-05-21T17:59:47.034Z"
      },
      {
        "duration": 25,
        "start_time": "2023-05-21T17:59:47.067Z"
      },
      {
        "duration": 15,
        "start_time": "2023-05-21T17:59:47.095Z"
      },
      {
        "duration": 274,
        "start_time": "2023-05-21T17:59:47.113Z"
      },
      {
        "duration": 11,
        "start_time": "2023-05-21T17:59:47.389Z"
      },
      {
        "duration": 18,
        "start_time": "2023-05-21T17:59:47.402Z"
      },
      {
        "duration": 11,
        "start_time": "2023-05-21T17:59:47.422Z"
      },
      {
        "duration": 6,
        "start_time": "2023-05-21T17:59:47.435Z"
      },
      {
        "duration": 7,
        "start_time": "2023-05-21T17:59:47.444Z"
      },
      {
        "duration": 9,
        "start_time": "2023-05-21T17:59:47.456Z"
      },
      {
        "duration": 8,
        "start_time": "2023-05-21T17:59:47.466Z"
      },
      {
        "duration": 15,
        "start_time": "2023-05-21T17:59:47.475Z"
      },
      {
        "duration": 4,
        "start_time": "2023-05-21T17:59:47.492Z"
      },
      {
        "duration": 22,
        "start_time": "2023-05-21T17:59:47.498Z"
      },
      {
        "duration": 12,
        "start_time": "2023-05-21T17:59:47.522Z"
      },
      {
        "duration": 22,
        "start_time": "2023-05-21T17:59:47.536Z"
      },
      {
        "duration": 8,
        "start_time": "2023-05-21T17:59:47.560Z"
      },
      {
        "duration": 13,
        "start_time": "2023-05-21T17:59:47.570Z"
      },
      {
        "duration": 7,
        "start_time": "2023-05-21T17:59:47.585Z"
      },
      {
        "duration": 188,
        "start_time": "2023-05-21T17:59:47.593Z"
      },
      {
        "duration": 102,
        "start_time": "2023-05-21T17:59:47.784Z"
      },
      {
        "duration": 195,
        "start_time": "2023-05-21T17:59:47.888Z"
      },
      {
        "duration": 183,
        "start_time": "2023-05-21T17:59:48.085Z"
      },
      {
        "duration": 43,
        "start_time": "2023-05-21T17:59:48.271Z"
      },
      {
        "duration": 54,
        "start_time": "2023-05-21T17:59:48.317Z"
      },
      {
        "duration": 28,
        "start_time": "2023-05-21T17:59:48.373Z"
      },
      {
        "duration": 334,
        "start_time": "2023-05-21T17:59:48.403Z"
      },
      {
        "duration": 391,
        "start_time": "2023-05-21T17:59:48.738Z"
      },
      {
        "duration": 31,
        "start_time": "2023-05-21T17:59:49.132Z"
      },
      {
        "duration": 45,
        "start_time": "2023-05-21T17:59:49.166Z"
      },
      {
        "duration": 195,
        "start_time": "2023-05-21T17:59:49.213Z"
      },
      {
        "duration": 11,
        "start_time": "2023-05-21T17:59:49.410Z"
      },
      {
        "duration": 6,
        "start_time": "2023-05-21T17:59:49.423Z"
      },
      {
        "duration": 25,
        "start_time": "2023-05-21T17:59:49.431Z"
      },
      {
        "duration": 44,
        "start_time": "2023-05-22T08:34:02.478Z"
      },
      {
        "duration": 1163,
        "start_time": "2023-05-22T08:34:12.885Z"
      },
      {
        "duration": 287,
        "start_time": "2023-05-22T08:34:14.050Z"
      },
      {
        "duration": 28,
        "start_time": "2023-05-22T08:34:14.339Z"
      },
      {
        "duration": 21,
        "start_time": "2023-05-22T08:34:14.369Z"
      },
      {
        "duration": 13,
        "start_time": "2023-05-22T08:34:14.392Z"
      },
      {
        "duration": 37,
        "start_time": "2023-05-22T08:34:14.406Z"
      },
      {
        "duration": 10,
        "start_time": "2023-05-22T08:34:14.444Z"
      },
      {
        "duration": 8,
        "start_time": "2023-05-22T08:34:14.456Z"
      },
      {
        "duration": 8,
        "start_time": "2023-05-22T08:34:14.466Z"
      },
      {
        "duration": 14,
        "start_time": "2023-05-22T08:34:14.477Z"
      },
      {
        "duration": 13,
        "start_time": "2023-05-22T08:34:14.493Z"
      },
      {
        "duration": 19,
        "start_time": "2023-05-22T08:34:14.508Z"
      },
      {
        "duration": 30,
        "start_time": "2023-05-22T08:34:14.528Z"
      },
      {
        "duration": 10,
        "start_time": "2023-05-22T08:34:14.560Z"
      },
      {
        "duration": 15,
        "start_time": "2023-05-22T08:34:14.572Z"
      },
      {
        "duration": 18,
        "start_time": "2023-05-22T08:34:14.590Z"
      },
      {
        "duration": 5,
        "start_time": "2023-05-22T08:34:14.613Z"
      },
      {
        "duration": 4,
        "start_time": "2023-05-22T08:34:17.049Z"
      },
      {
        "duration": 5,
        "start_time": "2023-05-22T08:34:17.553Z"
      },
      {
        "duration": 4,
        "start_time": "2023-05-22T08:34:17.587Z"
      },
      {
        "duration": 4,
        "start_time": "2023-05-22T08:34:17.621Z"
      },
      {
        "duration": 6,
        "start_time": "2023-05-22T08:34:18.058Z"
      },
      {
        "duration": 4,
        "start_time": "2023-05-22T08:34:18.941Z"
      },
      {
        "duration": 162,
        "start_time": "2023-05-22T08:34:19.375Z"
      },
      {
        "duration": 90,
        "start_time": "2023-05-22T08:34:21.768Z"
      },
      {
        "duration": 151,
        "start_time": "2023-05-22T08:34:23.377Z"
      },
      {
        "duration": 20,
        "start_time": "2023-05-22T08:34:29.516Z"
      },
      {
        "duration": 166,
        "start_time": "2023-05-22T08:36:53.201Z"
      },
      {
        "duration": 70,
        "start_time": "2023-05-22T08:43:11.837Z"
      },
      {
        "duration": 63,
        "start_time": "2023-05-22T08:43:48.181Z"
      },
      {
        "duration": 10,
        "start_time": "2023-05-22T08:43:56.156Z"
      },
      {
        "duration": 29,
        "start_time": "2023-05-22T08:44:04.304Z"
      },
      {
        "duration": 4,
        "start_time": "2023-05-22T08:44:04.988Z"
      },
      {
        "duration": 71,
        "start_time": "2023-05-22T08:47:53.919Z"
      },
      {
        "duration": 24,
        "start_time": "2023-05-22T08:48:07.743Z"
      },
      {
        "duration": 18,
        "start_time": "2023-05-22T08:48:10.336Z"
      },
      {
        "duration": 273,
        "start_time": "2023-05-22T08:48:11.575Z"
      },
      {
        "duration": 284,
        "start_time": "2023-05-22T08:48:15.141Z"
      },
      {
        "duration": 3,
        "start_time": "2023-05-22T09:00:35.110Z"
      },
      {
        "duration": 333,
        "start_time": "2023-05-22T09:00:48.888Z"
      },
      {
        "duration": 288,
        "start_time": "2023-05-22T09:00:49.846Z"
      },
      {
        "duration": 144,
        "start_time": "2023-05-22T09:01:05.925Z"
      },
      {
        "duration": 167,
        "start_time": "2023-05-22T09:01:18.860Z"
      },
      {
        "duration": 284,
        "start_time": "2023-05-22T09:01:53.424Z"
      },
      {
        "duration": 289,
        "start_time": "2023-05-22T09:01:54.389Z"
      },
      {
        "duration": 240,
        "start_time": "2023-05-22T09:02:18.169Z"
      },
      {
        "duration": 160,
        "start_time": "2023-05-22T09:02:29.388Z"
      },
      {
        "duration": 199,
        "start_time": "2023-05-22T09:02:42.686Z"
      },
      {
        "duration": 19,
        "start_time": "2023-05-22T09:03:29.172Z"
      },
      {
        "duration": 27,
        "start_time": "2023-05-22T09:03:33.897Z"
      },
      {
        "duration": 128,
        "start_time": "2023-05-22T09:03:34.301Z"
      },
      {
        "duration": 7,
        "start_time": "2023-05-22T09:03:51.896Z"
      },
      {
        "duration": 9,
        "start_time": "2023-05-22T09:17:05.172Z"
      },
      {
        "duration": 19,
        "start_time": "2023-05-22T09:27:36.147Z"
      },
      {
        "duration": 10,
        "start_time": "2023-05-22T09:31:20.889Z"
      },
      {
        "duration": 9,
        "start_time": "2023-05-22T09:32:47.843Z"
      },
      {
        "duration": 8,
        "start_time": "2023-05-22T09:32:57.981Z"
      },
      {
        "duration": 14,
        "start_time": "2023-05-22T09:33:20.785Z"
      },
      {
        "duration": 4,
        "start_time": "2023-05-22T09:35:10.575Z"
      },
      {
        "duration": 5,
        "start_time": "2023-05-22T09:35:38.095Z"
      },
      {
        "duration": 6,
        "start_time": "2023-05-22T09:37:21.099Z"
      },
      {
        "duration": 6,
        "start_time": "2023-05-22T09:38:13.165Z"
      },
      {
        "duration": 7,
        "start_time": "2023-05-22T09:43:44.453Z"
      },
      {
        "duration": 6,
        "start_time": "2023-05-22T09:43:53.257Z"
      },
      {
        "duration": 1024,
        "start_time": "2023-05-22T09:47:52.503Z"
      },
      {
        "duration": 61,
        "start_time": "2023-05-22T09:47:53.529Z"
      },
      {
        "duration": 18,
        "start_time": "2023-05-22T09:47:53.591Z"
      },
      {
        "duration": 27,
        "start_time": "2023-05-22T09:47:53.611Z"
      },
      {
        "duration": 11,
        "start_time": "2023-05-22T09:47:53.640Z"
      },
      {
        "duration": 17,
        "start_time": "2023-05-22T09:47:53.652Z"
      },
      {
        "duration": 10,
        "start_time": "2023-05-22T09:47:53.670Z"
      },
      {
        "duration": 5,
        "start_time": "2023-05-22T09:47:53.681Z"
      },
      {
        "duration": 15,
        "start_time": "2023-05-22T09:47:53.687Z"
      },
      {
        "duration": 3,
        "start_time": "2023-05-22T09:47:53.706Z"
      },
      {
        "duration": 10,
        "start_time": "2023-05-22T09:47:53.710Z"
      },
      {
        "duration": 12,
        "start_time": "2023-05-22T09:47:53.721Z"
      },
      {
        "duration": 8,
        "start_time": "2023-05-22T09:47:53.734Z"
      },
      {
        "duration": 14,
        "start_time": "2023-05-22T09:47:53.744Z"
      },
      {
        "duration": 6,
        "start_time": "2023-05-22T09:47:53.759Z"
      },
      {
        "duration": 8,
        "start_time": "2023-05-22T09:47:53.767Z"
      },
      {
        "duration": 4,
        "start_time": "2023-05-22T09:47:53.776Z"
      },
      {
        "duration": 10,
        "start_time": "2023-05-22T09:47:53.781Z"
      },
      {
        "duration": 5,
        "start_time": "2023-05-22T09:47:53.792Z"
      },
      {
        "duration": 10,
        "start_time": "2023-05-22T09:47:53.798Z"
      },
      {
        "duration": 7,
        "start_time": "2023-05-22T09:47:53.809Z"
      },
      {
        "duration": 6,
        "start_time": "2023-05-22T09:47:53.817Z"
      },
      {
        "duration": 5,
        "start_time": "2023-05-22T09:47:53.825Z"
      },
      {
        "duration": 158,
        "start_time": "2023-05-22T09:47:53.831Z"
      },
      {
        "duration": 71,
        "start_time": "2023-05-22T09:47:53.990Z"
      },
      {
        "duration": 134,
        "start_time": "2023-05-22T09:47:54.063Z"
      },
      {
        "duration": 26,
        "start_time": "2023-05-22T09:47:54.199Z"
      },
      {
        "duration": 174,
        "start_time": "2023-05-22T09:47:54.228Z"
      },
      {
        "duration": 27,
        "start_time": "2023-05-22T09:47:54.406Z"
      },
      {
        "duration": 3,
        "start_time": "2023-05-22T09:47:54.435Z"
      },
      {
        "duration": 25,
        "start_time": "2023-05-22T09:47:54.439Z"
      },
      {
        "duration": 18,
        "start_time": "2023-05-22T09:47:54.466Z"
      },
      {
        "duration": 271,
        "start_time": "2023-05-22T09:47:54.506Z"
      },
      {
        "duration": 293,
        "start_time": "2023-05-22T09:47:54.779Z"
      },
      {
        "duration": 170,
        "start_time": "2023-05-22T09:47:55.074Z"
      },
      {
        "duration": 277,
        "start_time": "2023-05-22T09:47:55.245Z"
      },
      {
        "duration": 19,
        "start_time": "2023-05-22T09:47:55.523Z"
      },
      {
        "duration": 28,
        "start_time": "2023-05-22T09:47:55.543Z"
      },
      {
        "duration": 144,
        "start_time": "2023-05-22T09:47:55.573Z"
      },
      {
        "duration": 8,
        "start_time": "2023-05-22T09:47:55.719Z"
      },
      {
        "duration": 34,
        "start_time": "2023-05-22T09:47:55.729Z"
      },
      {
        "duration": 11,
        "start_time": "2023-05-22T09:47:55.765Z"
      },
      {
        "duration": 1010,
        "start_time": "2023-05-22T10:22:15.209Z"
      },
      {
        "duration": 62,
        "start_time": "2023-05-22T10:22:16.221Z"
      },
      {
        "duration": 20,
        "start_time": "2023-05-22T10:22:16.284Z"
      },
      {
        "duration": 14,
        "start_time": "2023-05-22T10:22:16.307Z"
      },
      {
        "duration": 12,
        "start_time": "2023-05-22T10:22:16.323Z"
      },
      {
        "duration": 15,
        "start_time": "2023-05-22T10:22:16.336Z"
      },
      {
        "duration": 9,
        "start_time": "2023-05-22T10:22:16.353Z"
      },
      {
        "duration": 5,
        "start_time": "2023-05-22T10:22:16.364Z"
      },
      {
        "duration": 38,
        "start_time": "2023-05-22T10:22:16.371Z"
      },
      {
        "duration": 5,
        "start_time": "2023-05-22T10:22:16.412Z"
      },
      {
        "duration": 5,
        "start_time": "2023-05-22T10:22:16.418Z"
      },
      {
        "duration": 4,
        "start_time": "2023-05-22T10:22:16.424Z"
      },
      {
        "duration": 11,
        "start_time": "2023-05-22T10:22:16.430Z"
      },
      {
        "duration": 5,
        "start_time": "2023-05-22T10:22:16.442Z"
      },
      {
        "duration": 15,
        "start_time": "2023-05-22T10:22:16.449Z"
      },
      {
        "duration": 8,
        "start_time": "2023-05-22T10:22:16.466Z"
      },
      {
        "duration": 30,
        "start_time": "2023-05-22T10:22:16.476Z"
      },
      {
        "duration": 4,
        "start_time": "2023-05-22T10:22:16.508Z"
      },
      {
        "duration": 4,
        "start_time": "2023-05-22T10:22:16.514Z"
      },
      {
        "duration": 7,
        "start_time": "2023-05-22T10:22:16.519Z"
      },
      {
        "duration": 5,
        "start_time": "2023-05-22T10:22:16.527Z"
      },
      {
        "duration": 7,
        "start_time": "2023-05-22T10:22:16.534Z"
      },
      {
        "duration": 4,
        "start_time": "2023-05-22T10:22:16.542Z"
      },
      {
        "duration": 159,
        "start_time": "2023-05-22T10:22:16.548Z"
      },
      {
        "duration": 65,
        "start_time": "2023-05-22T10:22:16.709Z"
      },
      {
        "duration": 160,
        "start_time": "2023-05-22T10:22:16.776Z"
      },
      {
        "duration": 20,
        "start_time": "2023-05-22T10:22:16.938Z"
      },
      {
        "duration": 169,
        "start_time": "2023-05-22T10:22:16.962Z"
      },
      {
        "duration": 28,
        "start_time": "2023-05-22T10:22:17.132Z"
      },
      {
        "duration": 3,
        "start_time": "2023-05-22T10:22:17.162Z"
      },
      {
        "duration": 39,
        "start_time": "2023-05-22T10:22:17.167Z"
      },
      {
        "duration": 19,
        "start_time": "2023-05-22T10:22:17.208Z"
      },
      {
        "duration": 283,
        "start_time": "2023-05-22T10:22:17.229Z"
      },
      {
        "duration": 287,
        "start_time": "2023-05-22T10:22:17.513Z"
      },
      {
        "duration": 162,
        "start_time": "2023-05-22T10:22:17.802Z"
      },
      {
        "duration": 248,
        "start_time": "2023-05-22T10:22:17.966Z"
      },
      {
        "duration": 16,
        "start_time": "2023-05-22T10:22:18.216Z"
      },
      {
        "duration": 30,
        "start_time": "2023-05-22T10:22:18.233Z"
      },
      {
        "duration": 133,
        "start_time": "2023-05-22T10:22:18.265Z"
      },
      {
        "duration": 10,
        "start_time": "2023-05-22T10:22:18.400Z"
      },
      {
        "duration": 7,
        "start_time": "2023-05-22T10:22:18.412Z"
      },
      {
        "duration": 5,
        "start_time": "2023-05-22T10:22:18.420Z"
      },
      {
        "duration": 1279,
        "start_time": "2023-05-22T17:01:57.497Z"
      },
      {
        "duration": 75,
        "start_time": "2023-05-22T17:01:58.778Z"
      },
      {
        "duration": 36,
        "start_time": "2023-05-22T17:01:58.856Z"
      },
      {
        "duration": 25,
        "start_time": "2023-05-22T17:01:58.895Z"
      },
      {
        "duration": 55,
        "start_time": "2023-05-22T17:01:58.923Z"
      },
      {
        "duration": 28,
        "start_time": "2023-05-22T17:01:58.980Z"
      },
      {
        "duration": 15,
        "start_time": "2023-05-22T17:01:59.011Z"
      },
      {
        "duration": 33,
        "start_time": "2023-05-22T17:01:59.028Z"
      },
      {
        "duration": 13,
        "start_time": "2023-05-22T17:01:59.063Z"
      },
      {
        "duration": 11,
        "start_time": "2023-05-22T17:01:59.083Z"
      },
      {
        "duration": 12,
        "start_time": "2023-05-22T17:01:59.096Z"
      },
      {
        "duration": 35,
        "start_time": "2023-05-22T17:01:59.110Z"
      },
      {
        "duration": 24,
        "start_time": "2023-05-22T17:01:59.147Z"
      },
      {
        "duration": 21,
        "start_time": "2023-05-22T17:01:59.174Z"
      },
      {
        "duration": 26,
        "start_time": "2023-05-22T17:01:59.197Z"
      },
      {
        "duration": 18,
        "start_time": "2023-05-22T17:01:59.226Z"
      },
      {
        "duration": 7,
        "start_time": "2023-05-22T17:01:59.247Z"
      },
      {
        "duration": 26,
        "start_time": "2023-05-22T17:01:59.256Z"
      },
      {
        "duration": 7,
        "start_time": "2023-05-22T17:01:59.283Z"
      },
      {
        "duration": 10,
        "start_time": "2023-05-22T17:01:59.292Z"
      },
      {
        "duration": 9,
        "start_time": "2023-05-22T17:01:59.304Z"
      },
      {
        "duration": 16,
        "start_time": "2023-05-22T17:01:59.314Z"
      },
      {
        "duration": 7,
        "start_time": "2023-05-22T17:01:59.332Z"
      },
      {
        "duration": 195,
        "start_time": "2023-05-22T17:01:59.341Z"
      },
      {
        "duration": 94,
        "start_time": "2023-05-22T17:01:59.538Z"
      },
      {
        "duration": 188,
        "start_time": "2023-05-22T17:01:59.634Z"
      },
      {
        "duration": 39,
        "start_time": "2023-05-22T17:01:59.824Z"
      },
      {
        "duration": 207,
        "start_time": "2023-05-22T17:01:59.870Z"
      },
      {
        "duration": 36,
        "start_time": "2023-05-22T17:02:00.078Z"
      },
      {
        "duration": 23,
        "start_time": "2023-05-22T17:02:00.117Z"
      },
      {
        "duration": 63,
        "start_time": "2023-05-22T17:02:00.141Z"
      },
      {
        "duration": 66,
        "start_time": "2023-05-22T17:02:00.206Z"
      },
      {
        "duration": 401,
        "start_time": "2023-05-22T17:02:00.274Z"
      },
      {
        "duration": 384,
        "start_time": "2023-05-22T17:02:00.678Z"
      },
      {
        "duration": 215,
        "start_time": "2023-05-22T17:02:01.064Z"
      },
      {
        "duration": 356,
        "start_time": "2023-05-22T17:02:01.281Z"
      },
      {
        "duration": 33,
        "start_time": "2023-05-22T17:02:01.639Z"
      },
      {
        "duration": 92,
        "start_time": "2023-05-22T17:02:01.674Z"
      },
      {
        "duration": 175,
        "start_time": "2023-05-22T17:02:01.770Z"
      },
      {
        "duration": 16,
        "start_time": "2023-05-22T17:02:01.956Z"
      },
      {
        "duration": 22,
        "start_time": "2023-05-22T17:02:01.974Z"
      },
      {
        "duration": 95,
        "start_time": "2023-05-22T17:02:01.998Z"
      },
      {
        "duration": 234,
        "start_time": "2023-05-22T17:04:00.917Z"
      },
      {
        "duration": 219,
        "start_time": "2023-05-22T17:04:09.314Z"
      },
      {
        "duration": 211,
        "start_time": "2023-05-22T17:06:50.979Z"
      },
      {
        "duration": 257,
        "start_time": "2023-05-22T17:07:03.689Z"
      },
      {
        "duration": 20,
        "start_time": "2023-05-22T17:11:02.469Z"
      },
      {
        "duration": 23,
        "start_time": "2023-05-22T17:14:56.418Z"
      },
      {
        "duration": 1160,
        "start_time": "2023-05-22T17:17:19.870Z"
      },
      {
        "duration": 66,
        "start_time": "2023-05-22T17:17:21.032Z"
      },
      {
        "duration": 23,
        "start_time": "2023-05-22T17:17:21.100Z"
      },
      {
        "duration": 39,
        "start_time": "2023-05-22T17:17:21.126Z"
      },
      {
        "duration": 27,
        "start_time": "2023-05-22T17:17:21.167Z"
      },
      {
        "duration": 45,
        "start_time": "2023-05-22T17:17:21.196Z"
      },
      {
        "duration": 31,
        "start_time": "2023-05-22T17:17:21.243Z"
      },
      {
        "duration": 13,
        "start_time": "2023-05-22T17:17:21.276Z"
      },
      {
        "duration": 14,
        "start_time": "2023-05-22T17:17:21.291Z"
      },
      {
        "duration": 20,
        "start_time": "2023-05-22T17:17:21.308Z"
      },
      {
        "duration": 26,
        "start_time": "2023-05-22T17:17:21.330Z"
      },
      {
        "duration": 43,
        "start_time": "2023-05-22T17:17:21.358Z"
      },
      {
        "duration": 37,
        "start_time": "2023-05-22T17:17:21.402Z"
      },
      {
        "duration": 40,
        "start_time": "2023-05-22T17:17:21.441Z"
      },
      {
        "duration": 31,
        "start_time": "2023-05-22T17:17:21.483Z"
      },
      {
        "duration": 34,
        "start_time": "2023-05-22T17:17:21.516Z"
      },
      {
        "duration": 28,
        "start_time": "2023-05-22T17:17:21.552Z"
      },
      {
        "duration": 44,
        "start_time": "2023-05-22T17:17:21.582Z"
      },
      {
        "duration": 13,
        "start_time": "2023-05-22T17:17:21.628Z"
      },
      {
        "duration": 34,
        "start_time": "2023-05-22T17:17:21.643Z"
      },
      {
        "duration": 27,
        "start_time": "2023-05-22T17:17:21.678Z"
      },
      {
        "duration": 30,
        "start_time": "2023-05-22T17:17:21.707Z"
      },
      {
        "duration": 21,
        "start_time": "2023-05-22T17:17:21.738Z"
      },
      {
        "duration": 180,
        "start_time": "2023-05-22T17:17:21.761Z"
      },
      {
        "duration": 83,
        "start_time": "2023-05-22T17:17:21.943Z"
      },
      {
        "duration": 182,
        "start_time": "2023-05-22T17:17:22.028Z"
      },
      {
        "duration": 26,
        "start_time": "2023-05-22T17:17:22.212Z"
      },
      {
        "duration": 188,
        "start_time": "2023-05-22T17:17:22.258Z"
      },
      {
        "duration": 41,
        "start_time": "2023-05-22T17:17:22.448Z"
      },
      {
        "duration": 5,
        "start_time": "2023-05-22T17:17:22.491Z"
      },
      {
        "duration": 32,
        "start_time": "2023-05-22T17:17:22.497Z"
      },
      {
        "duration": 44,
        "start_time": "2023-05-22T17:17:22.531Z"
      },
      {
        "duration": 340,
        "start_time": "2023-05-22T17:17:22.577Z"
      },
      {
        "duration": 367,
        "start_time": "2023-05-22T17:17:22.919Z"
      },
      {
        "duration": 203,
        "start_time": "2023-05-22T17:17:23.288Z"
      },
      {
        "duration": 350,
        "start_time": "2023-05-22T17:17:23.493Z"
      },
      {
        "duration": 25,
        "start_time": "2023-05-22T17:17:23.845Z"
      },
      {
        "duration": 33,
        "start_time": "2023-05-22T17:17:23.872Z"
      },
      {
        "duration": 158,
        "start_time": "2023-05-22T17:17:23.907Z"
      },
      {
        "duration": 10,
        "start_time": "2023-05-22T17:17:24.067Z"
      },
      {
        "duration": 19,
        "start_time": "2023-05-22T17:17:24.079Z"
      },
      {
        "duration": 22,
        "start_time": "2023-05-22T17:17:24.100Z"
      },
      {
        "duration": 74,
        "start_time": "2023-05-22T19:06:17.280Z"
      },
      {
        "duration": 1670,
        "start_time": "2023-05-22T19:06:25.311Z"
      },
      {
        "duration": 400,
        "start_time": "2023-05-22T19:06:26.983Z"
      },
      {
        "duration": 39,
        "start_time": "2023-05-22T19:06:27.388Z"
      },
      {
        "duration": 66,
        "start_time": "2023-05-22T19:06:27.435Z"
      },
      {
        "duration": 24,
        "start_time": "2023-05-22T19:06:27.510Z"
      },
      {
        "duration": 97,
        "start_time": "2023-05-22T19:06:27.539Z"
      },
      {
        "duration": 36,
        "start_time": "2023-05-22T19:06:27.641Z"
      },
      {
        "duration": 39,
        "start_time": "2023-05-22T19:06:27.679Z"
      },
      {
        "duration": 56,
        "start_time": "2023-05-22T19:06:27.719Z"
      },
      {
        "duration": 6,
        "start_time": "2023-05-22T19:06:27.777Z"
      },
      {
        "duration": 79,
        "start_time": "2023-05-22T19:06:27.784Z"
      },
      {
        "duration": 10,
        "start_time": "2023-05-22T19:06:27.864Z"
      },
      {
        "duration": 6,
        "start_time": "2023-05-22T19:06:27.875Z"
      },
      {
        "duration": 74,
        "start_time": "2023-05-22T19:06:27.883Z"
      },
      {
        "duration": 210,
        "start_time": "2023-05-22T19:06:27.958Z"
      },
      {
        "duration": 104,
        "start_time": "2023-05-22T19:06:28.170Z"
      },
      {
        "duration": 187,
        "start_time": "2023-05-22T19:06:28.275Z"
      },
      {
        "duration": 27,
        "start_time": "2023-05-22T19:06:28.463Z"
      },
      {
        "duration": 227,
        "start_time": "2023-05-22T19:06:28.498Z"
      },
      {
        "duration": 43,
        "start_time": "2023-05-22T19:06:28.727Z"
      },
      {
        "duration": 22,
        "start_time": "2023-05-22T19:06:28.772Z"
      },
      {
        "duration": 135,
        "start_time": "2023-05-22T19:06:28.795Z"
      },
      {
        "duration": 25,
        "start_time": "2023-05-22T19:06:28.931Z"
      },
      {
        "duration": 386,
        "start_time": "2023-05-22T19:06:28.958Z"
      },
      {
        "duration": 413,
        "start_time": "2023-05-22T19:06:29.346Z"
      },
      {
        "duration": 215,
        "start_time": "2023-05-22T19:06:29.760Z"
      },
      {
        "duration": 323,
        "start_time": "2023-05-22T19:06:29.976Z"
      },
      {
        "duration": 18,
        "start_time": "2023-05-22T19:06:30.301Z"
      },
      {
        "duration": 153,
        "start_time": "2023-05-22T19:06:30.320Z"
      },
      {
        "duration": 279,
        "start_time": "2023-05-22T19:06:30.474Z"
      },
      {
        "duration": 10,
        "start_time": "2023-05-22T19:06:30.754Z"
      },
      {
        "duration": 108,
        "start_time": "2023-05-22T19:06:30.765Z"
      },
      {
        "duration": 81,
        "start_time": "2023-05-22T19:06:30.874Z"
      },
      {
        "duration": 264,
        "start_time": "2023-05-22T19:11:55.151Z"
      },
      {
        "duration": 273,
        "start_time": "2023-05-22T19:13:05.162Z"
      },
      {
        "duration": 12,
        "start_time": "2023-05-22T19:20:45.640Z"
      },
      {
        "duration": 10,
        "start_time": "2023-05-22T19:20:54.650Z"
      },
      {
        "duration": 1193,
        "start_time": "2023-05-22T19:21:10.460Z"
      },
      {
        "duration": 112,
        "start_time": "2023-05-22T19:21:11.656Z"
      },
      {
        "duration": 45,
        "start_time": "2023-05-22T19:21:11.769Z"
      },
      {
        "duration": 35,
        "start_time": "2023-05-22T19:21:11.821Z"
      },
      {
        "duration": 11,
        "start_time": "2023-05-22T19:21:11.857Z"
      },
      {
        "duration": 32,
        "start_time": "2023-05-22T19:21:11.870Z"
      },
      {
        "duration": 27,
        "start_time": "2023-05-22T19:21:11.903Z"
      },
      {
        "duration": 26,
        "start_time": "2023-05-22T19:21:11.931Z"
      },
      {
        "duration": 6,
        "start_time": "2023-05-22T19:21:11.959Z"
      },
      {
        "duration": 7,
        "start_time": "2023-05-22T19:21:11.966Z"
      },
      {
        "duration": 9,
        "start_time": "2023-05-22T19:21:11.974Z"
      },
      {
        "duration": 65,
        "start_time": "2023-05-22T19:21:11.984Z"
      },
      {
        "duration": 9,
        "start_time": "2023-05-22T19:21:12.051Z"
      },
      {
        "duration": 5,
        "start_time": "2023-05-22T19:21:12.062Z"
      },
      {
        "duration": 188,
        "start_time": "2023-05-22T19:21:12.068Z"
      },
      {
        "duration": 81,
        "start_time": "2023-05-22T19:21:12.257Z"
      },
      {
        "duration": 207,
        "start_time": "2023-05-22T19:21:12.339Z"
      },
      {
        "duration": 25,
        "start_time": "2023-05-22T19:21:12.548Z"
      },
      {
        "duration": 236,
        "start_time": "2023-05-22T19:21:12.575Z"
      },
      {
        "duration": 50,
        "start_time": "2023-05-22T19:21:12.815Z"
      },
      {
        "duration": 5,
        "start_time": "2023-05-22T19:21:12.866Z"
      },
      {
        "duration": 51,
        "start_time": "2023-05-22T19:21:12.873Z"
      },
      {
        "duration": 32,
        "start_time": "2023-05-22T19:21:12.933Z"
      },
      {
        "duration": 408,
        "start_time": "2023-05-22T19:21:12.966Z"
      },
      {
        "duration": 396,
        "start_time": "2023-05-22T19:21:13.376Z"
      },
      {
        "duration": 206,
        "start_time": "2023-05-22T19:21:13.774Z"
      },
      {
        "duration": 334,
        "start_time": "2023-05-22T19:21:13.984Z"
      },
      {
        "duration": 23,
        "start_time": "2023-05-22T19:21:14.319Z"
      },
      {
        "duration": 81,
        "start_time": "2023-05-22T19:21:14.353Z"
      },
      {
        "duration": 219,
        "start_time": "2023-05-22T19:21:14.444Z"
      },
      {
        "duration": 8,
        "start_time": "2023-05-22T19:21:14.665Z"
      },
      {
        "duration": 81,
        "start_time": "2023-05-22T19:21:14.675Z"
      },
      {
        "duration": 9,
        "start_time": "2023-05-22T19:21:14.758Z"
      },
      {
        "duration": 11,
        "start_time": "2023-05-22T19:46:00.707Z"
      },
      {
        "duration": 354,
        "start_time": "2023-05-22T19:52:51.739Z"
      },
      {
        "duration": 246,
        "start_time": "2023-05-22T19:53:17.616Z"
      },
      {
        "duration": 1484,
        "start_time": "2023-05-22T20:00:14.250Z"
      },
      {
        "duration": 127,
        "start_time": "2023-05-22T20:00:15.736Z"
      },
      {
        "duration": 19,
        "start_time": "2023-05-22T20:00:15.864Z"
      },
      {
        "duration": 62,
        "start_time": "2023-05-22T20:00:15.895Z"
      },
      {
        "duration": 18,
        "start_time": "2023-05-22T20:00:15.960Z"
      },
      {
        "duration": 86,
        "start_time": "2023-05-22T20:00:15.979Z"
      },
      {
        "duration": 15,
        "start_time": "2023-05-22T20:00:16.067Z"
      },
      {
        "duration": 97,
        "start_time": "2023-05-22T20:00:16.084Z"
      },
      {
        "duration": 171,
        "start_time": "2023-05-22T20:00:16.183Z"
      },
      {
        "duration": 6,
        "start_time": "2023-05-22T20:00:16.365Z"
      },
      {
        "duration": 26,
        "start_time": "2023-05-22T20:00:16.372Z"
      },
      {
        "duration": 80,
        "start_time": "2023-05-22T20:00:16.401Z"
      },
      {
        "duration": 123,
        "start_time": "2023-05-22T20:00:16.484Z"
      },
      {
        "duration": 51,
        "start_time": "2023-05-22T20:00:16.616Z"
      },
      {
        "duration": 97,
        "start_time": "2023-05-22T20:00:16.669Z"
      },
      {
        "duration": 292,
        "start_time": "2023-05-22T20:00:16.767Z"
      },
      {
        "duration": 110,
        "start_time": "2023-05-22T20:00:17.063Z"
      },
      {
        "duration": 220,
        "start_time": "2023-05-22T20:00:17.175Z"
      },
      {
        "duration": 39,
        "start_time": "2023-05-22T20:00:17.398Z"
      },
      {
        "duration": 300,
        "start_time": "2023-05-22T20:00:17.443Z"
      },
      {
        "duration": 33,
        "start_time": "2023-05-22T20:00:17.747Z"
      },
      {
        "duration": 13,
        "start_time": "2023-05-22T20:00:17.782Z"
      },
      {
        "duration": 113,
        "start_time": "2023-05-22T20:00:17.797Z"
      },
      {
        "duration": 46,
        "start_time": "2023-05-22T20:00:17.916Z"
      },
      {
        "duration": 332,
        "start_time": "2023-05-22T20:00:17.964Z"
      },
      {
        "duration": 327,
        "start_time": "2023-05-22T20:00:18.301Z"
      },
      {
        "duration": 321,
        "start_time": "2023-05-22T20:00:18.633Z"
      },
      {
        "duration": 287,
        "start_time": "2023-05-22T20:00:18.958Z"
      },
      {
        "duration": 19,
        "start_time": "2023-05-22T20:00:19.247Z"
      },
      {
        "duration": 82,
        "start_time": "2023-05-22T20:00:19.272Z"
      },
      {
        "duration": 223,
        "start_time": "2023-05-22T20:00:19.357Z"
      },
      {
        "duration": 36,
        "start_time": "2023-05-22T20:00:19.582Z"
      },
      {
        "duration": 49,
        "start_time": "2023-05-22T20:00:19.623Z"
      },
      {
        "duration": 29,
        "start_time": "2023-05-22T20:00:19.673Z"
      },
      {
        "duration": 1545,
        "start_time": "2023-05-22T20:05:42.725Z"
      },
      {
        "duration": 126,
        "start_time": "2023-05-22T20:05:44.272Z"
      },
      {
        "duration": 95,
        "start_time": "2023-05-22T20:05:44.403Z"
      },
      {
        "duration": 144,
        "start_time": "2023-05-22T20:05:44.506Z"
      },
      {
        "duration": 47,
        "start_time": "2023-05-22T20:05:44.655Z"
      },
      {
        "duration": 95,
        "start_time": "2023-05-22T20:05:44.703Z"
      },
      {
        "duration": 21,
        "start_time": "2023-05-22T20:05:44.801Z"
      },
      {
        "duration": 51,
        "start_time": "2023-05-22T20:05:44.826Z"
      },
      {
        "duration": 14,
        "start_time": "2023-05-22T20:05:44.880Z"
      },
      {
        "duration": 85,
        "start_time": "2023-05-22T20:05:44.896Z"
      },
      {
        "duration": 89,
        "start_time": "2023-05-22T20:05:44.983Z"
      },
      {
        "duration": 92,
        "start_time": "2023-05-22T20:05:45.073Z"
      },
      {
        "duration": 7,
        "start_time": "2023-05-22T20:05:45.175Z"
      },
      {
        "duration": 94,
        "start_time": "2023-05-22T20:05:45.184Z"
      },
      {
        "duration": 43,
        "start_time": "2023-05-22T20:05:45.279Z"
      },
      {
        "duration": 276,
        "start_time": "2023-05-22T20:05:45.323Z"
      },
      {
        "duration": 96,
        "start_time": "2023-05-22T20:05:45.601Z"
      },
      {
        "duration": 168,
        "start_time": "2023-05-22T20:05:45.700Z"
      },
      {
        "duration": 22,
        "start_time": "2023-05-22T20:05:45.872Z"
      },
      {
        "duration": 284,
        "start_time": "2023-05-22T20:05:45.899Z"
      },
      {
        "duration": 76,
        "start_time": "2023-05-22T20:05:46.202Z"
      },
      {
        "duration": 4,
        "start_time": "2023-05-22T20:05:46.279Z"
      },
      {
        "duration": 76,
        "start_time": "2023-05-22T20:05:46.307Z"
      },
      {
        "duration": 100,
        "start_time": "2023-05-22T20:05:46.386Z"
      },
      {
        "duration": 527,
        "start_time": "2023-05-22T20:05:46.487Z"
      },
      {
        "duration": 429,
        "start_time": "2023-05-22T20:05:47.018Z"
      },
      {
        "duration": 433,
        "start_time": "2023-05-22T20:05:47.448Z"
      },
      {
        "duration": 331,
        "start_time": "2023-05-22T20:05:47.887Z"
      },
      {
        "duration": 28,
        "start_time": "2023-05-22T20:05:48.222Z"
      },
      {
        "duration": 199,
        "start_time": "2023-05-22T20:05:48.255Z"
      },
      {
        "duration": 327,
        "start_time": "2023-05-22T20:05:48.461Z"
      },
      {
        "duration": 37,
        "start_time": "2023-05-22T20:05:48.792Z"
      },
      {
        "duration": 120,
        "start_time": "2023-05-22T20:05:48.834Z"
      },
      {
        "duration": 117,
        "start_time": "2023-05-22T20:05:48.959Z"
      },
      {
        "duration": 28,
        "start_time": "2023-05-22T20:06:21.978Z"
      },
      {
        "duration": 1488,
        "start_time": "2023-05-22T20:06:31.558Z"
      },
      {
        "duration": 168,
        "start_time": "2023-05-22T20:06:33.062Z"
      },
      {
        "duration": 44,
        "start_time": "2023-05-22T20:06:33.232Z"
      },
      {
        "duration": 181,
        "start_time": "2023-05-22T20:06:33.277Z"
      },
      {
        "duration": 52,
        "start_time": "2023-05-22T20:06:33.462Z"
      },
      {
        "duration": 79,
        "start_time": "2023-05-22T20:06:33.523Z"
      },
      {
        "duration": 111,
        "start_time": "2023-05-22T20:06:33.607Z"
      },
      {
        "duration": 120,
        "start_time": "2023-05-22T20:06:33.729Z"
      },
      {
        "duration": 73,
        "start_time": "2023-05-22T20:06:33.853Z"
      },
      {
        "duration": 118,
        "start_time": "2023-05-22T20:06:33.930Z"
      },
      {
        "duration": 36,
        "start_time": "2023-05-22T20:06:34.052Z"
      },
      {
        "duration": 53,
        "start_time": "2023-05-22T20:06:34.093Z"
      },
      {
        "duration": 48,
        "start_time": "2023-05-22T20:06:34.151Z"
      },
      {
        "duration": 43,
        "start_time": "2023-05-22T20:06:34.209Z"
      },
      {
        "duration": 20,
        "start_time": "2023-05-22T20:06:34.266Z"
      },
      {
        "duration": 386,
        "start_time": "2023-05-22T20:06:34.292Z"
      },
      {
        "duration": 155,
        "start_time": "2023-05-22T20:06:34.680Z"
      },
      {
        "duration": 210,
        "start_time": "2023-05-22T20:06:34.851Z"
      },
      {
        "duration": 57,
        "start_time": "2023-05-22T20:06:35.065Z"
      },
      {
        "duration": 244,
        "start_time": "2023-05-22T20:06:35.150Z"
      },
      {
        "duration": 48,
        "start_time": "2023-05-22T20:06:35.398Z"
      },
      {
        "duration": 148,
        "start_time": "2023-05-22T20:06:35.450Z"
      },
      {
        "duration": 71,
        "start_time": "2023-05-22T20:06:35.602Z"
      },
      {
        "duration": 134,
        "start_time": "2023-05-22T20:06:35.676Z"
      },
      {
        "duration": 398,
        "start_time": "2023-05-22T20:06:35.831Z"
      },
      {
        "duration": 390,
        "start_time": "2023-05-22T20:06:36.234Z"
      },
      {
        "duration": 402,
        "start_time": "2023-05-22T20:06:36.628Z"
      },
      {
        "duration": 318,
        "start_time": "2023-05-22T20:06:37.035Z"
      },
      {
        "duration": 25,
        "start_time": "2023-05-22T20:06:37.357Z"
      },
      {
        "duration": 151,
        "start_time": "2023-05-22T20:06:37.387Z"
      },
      {
        "duration": 380,
        "start_time": "2023-05-22T20:06:37.542Z"
      },
      {
        "duration": 27,
        "start_time": "2023-05-22T20:06:37.939Z"
      },
      {
        "duration": 108,
        "start_time": "2023-05-22T20:06:37.968Z"
      },
      {
        "duration": 99,
        "start_time": "2023-05-22T20:06:38.077Z"
      },
      {
        "duration": 200,
        "start_time": "2023-05-22T20:12:55.974Z"
      },
      {
        "duration": 21,
        "start_time": "2023-05-22T20:13:40.146Z"
      },
      {
        "duration": 650,
        "start_time": "2023-05-22T20:13:55.124Z"
      },
      {
        "duration": 749,
        "start_time": "2023-05-22T20:14:12.618Z"
      },
      {
        "duration": 37,
        "start_time": "2023-05-22T20:14:21.957Z"
      },
      {
        "duration": 85,
        "start_time": "2023-05-22T20:14:32.380Z"
      },
      {
        "duration": 182,
        "start_time": "2023-05-22T20:16:15.874Z"
      },
      {
        "duration": 62,
        "start_time": "2023-05-22T20:16:47.411Z"
      },
      {
        "duration": 20,
        "start_time": "2023-05-22T20:17:02.639Z"
      },
      {
        "duration": 119,
        "start_time": "2023-05-22T20:17:02.711Z"
      },
      {
        "duration": 22,
        "start_time": "2023-05-22T20:17:02.832Z"
      },
      {
        "duration": 25,
        "start_time": "2023-05-22T20:17:02.855Z"
      },
      {
        "duration": 68,
        "start_time": "2023-05-22T20:17:02.882Z"
      },
      {
        "duration": 29,
        "start_time": "2023-05-22T20:17:02.953Z"
      },
      {
        "duration": 34,
        "start_time": "2023-05-22T20:17:03.010Z"
      },
      {
        "duration": 16,
        "start_time": "2023-05-22T20:17:03.059Z"
      },
      {
        "duration": 14,
        "start_time": "2023-05-22T20:17:03.211Z"
      },
      {
        "duration": 25,
        "start_time": "2023-05-22T20:17:03.250Z"
      },
      {
        "duration": 23,
        "start_time": "2023-05-22T20:17:03.349Z"
      },
      {
        "duration": 11,
        "start_time": "2023-05-22T20:17:03.424Z"
      },
      {
        "duration": 25,
        "start_time": "2023-05-22T20:17:03.456Z"
      },
      {
        "duration": 45,
        "start_time": "2023-05-22T20:17:03.517Z"
      },
      {
        "duration": 15,
        "start_time": "2023-05-22T20:17:03.743Z"
      },
      {
        "duration": 197,
        "start_time": "2023-05-22T20:17:03.761Z"
      },
      {
        "duration": 103,
        "start_time": "2023-05-22T20:17:04.209Z"
      },
      {
        "duration": 206,
        "start_time": "2023-05-22T20:17:04.567Z"
      },
      {
        "duration": 36,
        "start_time": "2023-05-22T20:17:06.038Z"
      },
      {
        "duration": 198,
        "start_time": "2023-05-22T20:17:09.459Z"
      },
      {
        "duration": 47,
        "start_time": "2023-05-22T20:17:11.720Z"
      },
      {
        "duration": 12,
        "start_time": "2023-05-22T20:17:11.847Z"
      },
      {
        "duration": 40,
        "start_time": "2023-05-22T20:17:13.837Z"
      },
      {
        "duration": 19,
        "start_time": "2023-05-22T20:17:13.964Z"
      },
      {
        "duration": 423,
        "start_time": "2023-05-22T20:17:14.271Z"
      },
      {
        "duration": 384,
        "start_time": "2023-05-22T20:17:14.695Z"
      },
      {
        "duration": 396,
        "start_time": "2023-05-22T20:17:15.081Z"
      },
      {
        "duration": 333,
        "start_time": "2023-05-22T20:17:17.343Z"
      },
      {
        "duration": 29,
        "start_time": "2023-05-22T20:17:20.709Z"
      },
      {
        "duration": 36,
        "start_time": "2023-05-22T20:17:24.333Z"
      },
      {
        "duration": 50,
        "start_time": "2023-05-22T20:17:36.576Z"
      },
      {
        "duration": 30,
        "start_time": "2023-05-22T20:17:41.072Z"
      },
      {
        "duration": 30,
        "start_time": "2023-05-22T20:17:44.029Z"
      },
      {
        "duration": 72,
        "start_time": "2023-05-22T20:18:26.401Z"
      },
      {
        "duration": 80,
        "start_time": "2023-05-22T20:18:55.180Z"
      },
      {
        "duration": 65,
        "start_time": "2023-05-22T20:19:06.401Z"
      },
      {
        "duration": 62,
        "start_time": "2023-05-22T20:19:33.702Z"
      },
      {
        "duration": 276,
        "start_time": "2023-05-22T20:21:09.658Z"
      },
      {
        "duration": 336,
        "start_time": "2023-05-22T20:22:06.903Z"
      },
      {
        "duration": 1290,
        "start_time": "2023-05-22T20:22:41.731Z"
      },
      {
        "duration": 130,
        "start_time": "2023-05-22T20:22:43.037Z"
      },
      {
        "duration": 63,
        "start_time": "2023-05-22T20:22:43.171Z"
      },
      {
        "duration": 22,
        "start_time": "2023-05-22T20:22:43.250Z"
      },
      {
        "duration": 37,
        "start_time": "2023-05-22T20:22:43.273Z"
      },
      {
        "duration": 35,
        "start_time": "2023-05-22T20:22:43.319Z"
      },
      {
        "duration": 19,
        "start_time": "2023-05-22T20:22:43.355Z"
      },
      {
        "duration": 5,
        "start_time": "2023-05-22T20:22:43.375Z"
      },
      {
        "duration": 52,
        "start_time": "2023-05-22T20:22:43.382Z"
      },
      {
        "duration": 40,
        "start_time": "2023-05-22T20:22:43.436Z"
      },
      {
        "duration": 5,
        "start_time": "2023-05-22T20:22:43.478Z"
      },
      {
        "duration": 79,
        "start_time": "2023-05-22T20:22:43.485Z"
      },
      {
        "duration": 6,
        "start_time": "2023-05-22T20:22:43.565Z"
      },
      {
        "duration": 6,
        "start_time": "2023-05-22T20:22:43.572Z"
      },
      {
        "duration": 4,
        "start_time": "2023-05-22T20:22:43.579Z"
      },
      {
        "duration": 273,
        "start_time": "2023-05-22T20:22:43.595Z"
      },
      {
        "duration": 95,
        "start_time": "2023-05-22T20:22:43.870Z"
      },
      {
        "duration": 185,
        "start_time": "2023-05-22T20:22:43.967Z"
      },
      {
        "duration": 21,
        "start_time": "2023-05-22T20:22:44.153Z"
      },
      {
        "duration": 225,
        "start_time": "2023-05-22T20:22:44.175Z"
      },
      {
        "duration": 57,
        "start_time": "2023-05-22T20:22:44.403Z"
      },
      {
        "duration": 8,
        "start_time": "2023-05-22T20:22:44.473Z"
      },
      {
        "duration": 92,
        "start_time": "2023-05-22T20:22:44.482Z"
      },
      {
        "duration": 63,
        "start_time": "2023-05-22T20:22:44.575Z"
      },
      {
        "duration": 357,
        "start_time": "2023-05-22T20:22:44.645Z"
      },
      {
        "duration": 434,
        "start_time": "2023-05-22T20:22:45.004Z"
      },
      {
        "duration": 415,
        "start_time": "2023-05-22T20:22:45.439Z"
      },
      {
        "duration": 265,
        "start_time": "2023-05-22T20:22:45.857Z"
      },
      {
        "duration": 20,
        "start_time": "2023-05-22T20:22:46.123Z"
      },
      {
        "duration": 26,
        "start_time": "2023-05-22T20:22:46.149Z"
      },
      {
        "duration": 90,
        "start_time": "2023-05-22T20:22:46.177Z"
      },
      {
        "duration": 288,
        "start_time": "2023-05-22T20:22:46.270Z"
      },
      {
        "duration": 19,
        "start_time": "2023-05-22T20:22:46.560Z"
      },
      {
        "duration": 45,
        "start_time": "2023-05-22T20:22:46.581Z"
      },
      {
        "duration": 51,
        "start_time": "2023-05-22T20:22:46.630Z"
      },
      {
        "duration": 1379,
        "start_time": "2023-05-22T20:24:25.839Z"
      },
      {
        "duration": 135,
        "start_time": "2023-05-22T20:24:27.235Z"
      },
      {
        "duration": 50,
        "start_time": "2023-05-22T20:24:27.375Z"
      },
      {
        "duration": 95,
        "start_time": "2023-05-22T20:24:27.427Z"
      },
      {
        "duration": 40,
        "start_time": "2023-05-22T20:24:27.524Z"
      },
      {
        "duration": 14,
        "start_time": "2023-05-22T20:24:27.565Z"
      },
      {
        "duration": 53,
        "start_time": "2023-05-22T20:24:27.581Z"
      },
      {
        "duration": 21,
        "start_time": "2023-05-22T20:24:27.641Z"
      },
      {
        "duration": 16,
        "start_time": "2023-05-22T20:24:27.664Z"
      },
      {
        "duration": 31,
        "start_time": "2023-05-22T20:24:27.681Z"
      },
      {
        "duration": 45,
        "start_time": "2023-05-22T20:24:27.719Z"
      },
      {
        "duration": 14,
        "start_time": "2023-05-22T20:24:27.765Z"
      },
      {
        "duration": 38,
        "start_time": "2023-05-22T20:24:27.780Z"
      },
      {
        "duration": 52,
        "start_time": "2023-05-22T20:24:27.821Z"
      },
      {
        "duration": 87,
        "start_time": "2023-05-22T20:24:27.874Z"
      },
      {
        "duration": 192,
        "start_time": "2023-05-22T20:24:27.963Z"
      },
      {
        "duration": 130,
        "start_time": "2023-05-22T20:24:28.156Z"
      },
      {
        "duration": 187,
        "start_time": "2023-05-22T20:24:28.287Z"
      },
      {
        "duration": 54,
        "start_time": "2023-05-22T20:24:28.476Z"
      },
      {
        "duration": 179,
        "start_time": "2023-05-22T20:24:28.533Z"
      },
      {
        "duration": 48,
        "start_time": "2023-05-22T20:24:28.717Z"
      },
      {
        "duration": 5,
        "start_time": "2023-05-22T20:24:28.770Z"
      },
      {
        "duration": 66,
        "start_time": "2023-05-22T20:24:28.776Z"
      },
      {
        "duration": 39,
        "start_time": "2023-05-22T20:24:28.844Z"
      },
      {
        "duration": 366,
        "start_time": "2023-05-22T20:24:28.888Z"
      },
      {
        "duration": 345,
        "start_time": "2023-05-22T20:24:29.255Z"
      },
      {
        "duration": 297,
        "start_time": "2023-05-22T20:24:29.601Z"
      },
      {
        "duration": 247,
        "start_time": "2023-05-22T20:24:29.899Z"
      },
      {
        "duration": 20,
        "start_time": "2023-05-22T20:24:30.156Z"
      },
      {
        "duration": 86,
        "start_time": "2023-05-22T20:24:30.178Z"
      },
      {
        "duration": 197,
        "start_time": "2023-05-22T20:24:30.265Z"
      },
      {
        "duration": 349,
        "start_time": "2023-05-22T20:24:30.465Z"
      },
      {
        "duration": 20,
        "start_time": "2023-05-22T20:24:30.818Z"
      },
      {
        "duration": 74,
        "start_time": "2023-05-22T20:24:30.842Z"
      },
      {
        "duration": 117,
        "start_time": "2023-05-22T20:24:30.933Z"
      },
      {
        "duration": 1130,
        "start_time": "2023-05-23T15:40:59.276Z"
      },
      {
        "duration": 81,
        "start_time": "2023-05-23T15:41:00.409Z"
      },
      {
        "duration": 24,
        "start_time": "2023-05-23T15:41:00.492Z"
      },
      {
        "duration": 65,
        "start_time": "2023-05-23T15:41:00.519Z"
      },
      {
        "duration": 79,
        "start_time": "2023-05-23T15:41:00.586Z"
      },
      {
        "duration": 53,
        "start_time": "2023-05-23T15:41:00.666Z"
      },
      {
        "duration": 47,
        "start_time": "2023-05-23T15:41:00.721Z"
      },
      {
        "duration": 23,
        "start_time": "2023-05-23T15:41:00.770Z"
      },
      {
        "duration": 34,
        "start_time": "2023-05-23T15:41:00.795Z"
      },
      {
        "duration": 38,
        "start_time": "2023-05-23T15:41:00.838Z"
      },
      {
        "duration": 26,
        "start_time": "2023-05-23T15:41:00.879Z"
      },
      {
        "duration": 41,
        "start_time": "2023-05-23T15:41:00.907Z"
      },
      {
        "duration": 39,
        "start_time": "2023-05-23T15:41:00.950Z"
      },
      {
        "duration": 40,
        "start_time": "2023-05-23T15:41:00.991Z"
      },
      {
        "duration": 50,
        "start_time": "2023-05-23T15:41:01.033Z"
      },
      {
        "duration": 277,
        "start_time": "2023-05-23T15:41:01.086Z"
      },
      {
        "duration": 112,
        "start_time": "2023-05-23T15:41:01.365Z"
      },
      {
        "duration": 191,
        "start_time": "2023-05-23T15:41:01.479Z"
      },
      {
        "duration": 35,
        "start_time": "2023-05-23T15:41:01.672Z"
      },
      {
        "duration": 248,
        "start_time": "2023-05-23T15:41:01.736Z"
      },
      {
        "duration": 70,
        "start_time": "2023-05-23T15:41:01.986Z"
      },
      {
        "duration": 6,
        "start_time": "2023-05-23T15:41:02.059Z"
      },
      {
        "duration": 62,
        "start_time": "2023-05-23T15:41:02.067Z"
      },
      {
        "duration": 51,
        "start_time": "2023-05-23T15:41:02.134Z"
      },
      {
        "duration": 446,
        "start_time": "2023-05-23T15:41:02.187Z"
      },
      {
        "duration": 383,
        "start_time": "2023-05-23T15:41:02.636Z"
      },
      {
        "duration": 390,
        "start_time": "2023-05-23T15:41:03.027Z"
      },
      {
        "duration": 310,
        "start_time": "2023-05-23T15:41:03.421Z"
      },
      {
        "duration": 29,
        "start_time": "2023-05-23T15:41:03.736Z"
      },
      {
        "duration": 3,
        "start_time": "2023-05-23T15:41:03.767Z"
      },
      {
        "duration": 62,
        "start_time": "2023-05-23T15:41:03.772Z"
      },
      {
        "duration": 234,
        "start_time": "2023-05-23T15:41:03.836Z"
      },
      {
        "duration": 12,
        "start_time": "2023-05-23T15:41:04.072Z"
      },
      {
        "duration": 15,
        "start_time": "2023-05-23T15:41:04.086Z"
      },
      {
        "duration": 52,
        "start_time": "2023-05-23T15:41:04.103Z"
      }
    ],
    "toc": {
      "base_numbering": 1,
      "nav_menu": {},
      "number_sections": true,
      "sideBar": true,
      "skip_h1_title": true,
      "title_cell": "Table of Contents",
      "title_sidebar": "Contents",
      "toc_cell": false,
      "toc_position": {},
      "toc_section_display": true,
      "toc_window_display": false
    }
  },
  "nbformat_minor": 5,
  "nbformat": 4,
  "cells": [
    {
      "id": "0926d446",
      "cell_type": "markdown",
      "source": "# Исследование сервиса аренды самокатов",
      "metadata": {}
    },
    {
      "id": "6a1dc6e6",
      "cell_type": "markdown",
      "source": "__Цель исследования:__\n\n1. Подсчитать выручку с подписанных и неподписанных пользователей по месяцам\n2. Проверка различных гипотез с целью повышения дальнейшей прибыли\n\n__Ход исследования:__\n* Загрузить данные из трёх файлов\n* Проанализировать качество данных\n* Построить несколько показательных графиков, проанализировать полученные данные\n* Собрать нужную сводную таблицу, добавить столбец с выручкой и проверить некоторые гипотезы\n\n__Описание данных:__\n* В основных данных есть информация о пользователях, их поездках и подписках.\n* Данные о пользователях хранятся в файле `'/datasets/users_go.csv'`\n* Данные о поездках пользователей хранятся в файле `'/datasets/rides_go.csv'`\n* Данные о подписказ пользователей хранятся в файле `'/datasets/subscriptions_go.csv'`",
      "metadata": {}
    },
    {
      "id": "4d58a319",
      "cell_type": "markdown",
      "source": "#### Шаг 1. Загрузка данных",
      "metadata": {}
    },
    {
      "id": "0bbe56e6",
      "cell_type": "code",
      "source": "import pandas as pd\nimport matplotlib.pyplot as plt\nimport numpy as np\nfrom scipy.stats import ttest_ind, ttest_1samp",
      "metadata": {},
      "outputs": [],
      "execution_count": 1
    },
    {
      "id": "7e329e7c",
      "cell_type": "code",
      "source": "users = pd.read_csv('/datasets/users_go.csv')\nrides = pd.read_csv('/datasets/rides_go.csv')\nsubs = pd.read_csv('/datasets/subscriptions_go.csv')",
      "metadata": {},
      "outputs": [],
      "execution_count": 2
    },
    {
      "id": "c1353ea9",
      "cell_type": "code",
      "source": "users.info()\nusers.head()",
      "metadata": {},
      "outputs": [
        {
          "name": "stdout",
          "output_type": "stream",
          "text": [
            "<class 'pandas.core.frame.DataFrame'>\n",
            "RangeIndex: 1565 entries, 0 to 1564\n",
            "Data columns (total 5 columns):\n",
            " #   Column             Non-Null Count  Dtype \n",
            "---  ------             --------------  ----- \n",
            " 0   user_id            1565 non-null   int64 \n",
            " 1   name               1565 non-null   object\n",
            " 2   age                1565 non-null   int64 \n",
            " 3   city               1565 non-null   object\n",
            " 4   subscription_type  1565 non-null   object\n",
            "dtypes: int64(2), object(3)\n",
            "memory usage: 61.3+ KB\n"
          ]
        },
        {
          "data": {
            "text/html": [
              "<div>\n",
              "<style scoped>\n",
              "    .dataframe tbody tr th:only-of-type {\n",
              "        vertical-align: middle;\n",
              "    }\n",
              "\n",
              "    .dataframe tbody tr th {\n",
              "        vertical-align: top;\n",
              "    }\n",
              "\n",
              "    .dataframe thead th {\n",
              "        text-align: right;\n",
              "    }\n",
              "</style>\n",
              "<table border=\"1\" class=\"dataframe\">\n",
              "  <thead>\n",
              "    <tr style=\"text-align: right;\">\n",
              "      <th></th>\n",
              "      <th>user_id</th>\n",
              "      <th>name</th>\n",
              "      <th>age</th>\n",
              "      <th>city</th>\n",
              "      <th>subscription_type</th>\n",
              "    </tr>\n",
              "  </thead>\n",
              "  <tbody>\n",
              "    <tr>\n",
              "      <th>0</th>\n",
              "      <td>1</td>\n",
              "      <td>Кира</td>\n",
              "      <td>22</td>\n",
              "      <td>Тюмень</td>\n",
              "      <td>ultra</td>\n",
              "    </tr>\n",
              "    <tr>\n",
              "      <th>1</th>\n",
              "      <td>2</td>\n",
              "      <td>Станислав</td>\n",
              "      <td>31</td>\n",
              "      <td>Омск</td>\n",
              "      <td>ultra</td>\n",
              "    </tr>\n",
              "    <tr>\n",
              "      <th>2</th>\n",
              "      <td>3</td>\n",
              "      <td>Алексей</td>\n",
              "      <td>20</td>\n",
              "      <td>Москва</td>\n",
              "      <td>ultra</td>\n",
              "    </tr>\n",
              "    <tr>\n",
              "      <th>3</th>\n",
              "      <td>4</td>\n",
              "      <td>Константин</td>\n",
              "      <td>26</td>\n",
              "      <td>Ростов-на-Дону</td>\n",
              "      <td>ultra</td>\n",
              "    </tr>\n",
              "    <tr>\n",
              "      <th>4</th>\n",
              "      <td>5</td>\n",
              "      <td>Адель</td>\n",
              "      <td>28</td>\n",
              "      <td>Омск</td>\n",
              "      <td>ultra</td>\n",
              "    </tr>\n",
              "  </tbody>\n",
              "</table>\n",
              "</div>"
            ],
            "text/plain": [
              "   user_id        name  age            city subscription_type\n",
              "0        1        Кира   22          Тюмень             ultra\n",
              "1        2   Станислав   31            Омск             ultra\n",
              "2        3     Алексей   20          Москва             ultra\n",
              "3        4  Константин   26  Ростов-на-Дону             ultra\n",
              "4        5       Адель   28            Омск             ultra"
            ]
          },
          "execution_count": 3,
          "metadata": {},
          "output_type": "execute_result"
        }
      ],
      "execution_count": 3
    },
    {
      "id": "21a64bbc",
      "cell_type": "code",
      "source": "rides.info()\nrides.head()",
      "metadata": {},
      "outputs": [
        {
          "name": "stdout",
          "output_type": "stream",
          "text": [
            "<class 'pandas.core.frame.DataFrame'>\n",
            "RangeIndex: 18068 entries, 0 to 18067\n",
            "Data columns (total 4 columns):\n",
            " #   Column    Non-Null Count  Dtype  \n",
            "---  ------    --------------  -----  \n",
            " 0   user_id   18068 non-null  int64  \n",
            " 1   distance  18068 non-null  float64\n",
            " 2   duration  18068 non-null  float64\n",
            " 3   date      18068 non-null  object \n",
            "dtypes: float64(2), int64(1), object(1)\n",
            "memory usage: 564.8+ KB\n"
          ]
        },
        {
          "data": {
            "text/html": [
              "<div>\n",
              "<style scoped>\n",
              "    .dataframe tbody tr th:only-of-type {\n",
              "        vertical-align: middle;\n",
              "    }\n",
              "\n",
              "    .dataframe tbody tr th {\n",
              "        vertical-align: top;\n",
              "    }\n",
              "\n",
              "    .dataframe thead th {\n",
              "        text-align: right;\n",
              "    }\n",
              "</style>\n",
              "<table border=\"1\" class=\"dataframe\">\n",
              "  <thead>\n",
              "    <tr style=\"text-align: right;\">\n",
              "      <th></th>\n",
              "      <th>user_id</th>\n",
              "      <th>distance</th>\n",
              "      <th>duration</th>\n",
              "      <th>date</th>\n",
              "    </tr>\n",
              "  </thead>\n",
              "  <tbody>\n",
              "    <tr>\n",
              "      <th>0</th>\n",
              "      <td>1</td>\n",
              "      <td>4409.919140</td>\n",
              "      <td>25.599769</td>\n",
              "      <td>2021-01-01</td>\n",
              "    </tr>\n",
              "    <tr>\n",
              "      <th>1</th>\n",
              "      <td>1</td>\n",
              "      <td>2617.592153</td>\n",
              "      <td>15.816871</td>\n",
              "      <td>2021-01-18</td>\n",
              "    </tr>\n",
              "    <tr>\n",
              "      <th>2</th>\n",
              "      <td>1</td>\n",
              "      <td>754.159807</td>\n",
              "      <td>6.232113</td>\n",
              "      <td>2021-04-20</td>\n",
              "    </tr>\n",
              "    <tr>\n",
              "      <th>3</th>\n",
              "      <td>1</td>\n",
              "      <td>2694.783254</td>\n",
              "      <td>18.511000</td>\n",
              "      <td>2021-08-11</td>\n",
              "    </tr>\n",
              "    <tr>\n",
              "      <th>4</th>\n",
              "      <td>1</td>\n",
              "      <td>4028.687306</td>\n",
              "      <td>26.265803</td>\n",
              "      <td>2021-08-28</td>\n",
              "    </tr>\n",
              "  </tbody>\n",
              "</table>\n",
              "</div>"
            ],
            "text/plain": [
              "   user_id     distance   duration        date\n",
              "0        1  4409.919140  25.599769  2021-01-01\n",
              "1        1  2617.592153  15.816871  2021-01-18\n",
              "2        1   754.159807   6.232113  2021-04-20\n",
              "3        1  2694.783254  18.511000  2021-08-11\n",
              "4        1  4028.687306  26.265803  2021-08-28"
            ]
          },
          "execution_count": 4,
          "metadata": {},
          "output_type": "execute_result"
        }
      ],
      "execution_count": 4
    },
    {
      "id": "51639576",
      "cell_type": "code",
      "source": "subs.info()\nsubs.head()",
      "metadata": {},
      "outputs": [
        {
          "name": "stdout",
          "output_type": "stream",
          "text": [
            "<class 'pandas.core.frame.DataFrame'>\n",
            "RangeIndex: 2 entries, 0 to 1\n",
            "Data columns (total 4 columns):\n",
            " #   Column             Non-Null Count  Dtype \n",
            "---  ------             --------------  ----- \n",
            " 0   subscription_type  2 non-null      object\n",
            " 1   minute_price       2 non-null      int64 \n",
            " 2   start_ride_price   2 non-null      int64 \n",
            " 3   subscription_fee   2 non-null      int64 \n",
            "dtypes: int64(3), object(1)\n",
            "memory usage: 192.0+ bytes\n"
          ]
        },
        {
          "data": {
            "text/html": [
              "<div>\n",
              "<style scoped>\n",
              "    .dataframe tbody tr th:only-of-type {\n",
              "        vertical-align: middle;\n",
              "    }\n",
              "\n",
              "    .dataframe tbody tr th {\n",
              "        vertical-align: top;\n",
              "    }\n",
              "\n",
              "    .dataframe thead th {\n",
              "        text-align: right;\n",
              "    }\n",
              "</style>\n",
              "<table border=\"1\" class=\"dataframe\">\n",
              "  <thead>\n",
              "    <tr style=\"text-align: right;\">\n",
              "      <th></th>\n",
              "      <th>subscription_type</th>\n",
              "      <th>minute_price</th>\n",
              "      <th>start_ride_price</th>\n",
              "      <th>subscription_fee</th>\n",
              "    </tr>\n",
              "  </thead>\n",
              "  <tbody>\n",
              "    <tr>\n",
              "      <th>0</th>\n",
              "      <td>free</td>\n",
              "      <td>8</td>\n",
              "      <td>50</td>\n",
              "      <td>0</td>\n",
              "    </tr>\n",
              "    <tr>\n",
              "      <th>1</th>\n",
              "      <td>ultra</td>\n",
              "      <td>6</td>\n",
              "      <td>0</td>\n",
              "      <td>199</td>\n",
              "    </tr>\n",
              "  </tbody>\n",
              "</table>\n",
              "</div>"
            ],
            "text/plain": [
              "  subscription_type  minute_price  start_ride_price  subscription_fee\n",
              "0              free             8                50                 0\n",
              "1             ultra             6                 0               199"
            ]
          },
          "execution_count": 5,
          "metadata": {},
          "output_type": "execute_result"
        }
      ],
      "execution_count": 5
    },
    {
      "id": "0e645122",
      "cell_type": "markdown",
      "source": "__В данных нет пропусков, столбцы названы корректно;__",
      "metadata": {}
    },
    {
      "id": "b482bf18",
      "cell_type": "markdown",
      "source": "#### Шаг 2. Предобработка данных",
      "metadata": {}
    },
    {
      "id": "964cbccd",
      "cell_type": "markdown",
      "source": "<b>Приведём столбец date к нужному типу данных:</b>",
      "metadata": {}
    },
    {
      "id": "d670eb6c",
      "cell_type": "code",
      "source": "rides['date'] = rides['date'].astype('datetime64[M]')\nrides.info()",
      "metadata": {},
      "outputs": [
        {
          "name": "stdout",
          "output_type": "stream",
          "text": [
            "<class 'pandas.core.frame.DataFrame'>\n",
            "RangeIndex: 18068 entries, 0 to 18067\n",
            "Data columns (total 4 columns):\n",
            " #   Column    Non-Null Count  Dtype         \n",
            "---  ------    --------------  -----         \n",
            " 0   user_id   18068 non-null  int64         \n",
            " 1   distance  18068 non-null  float64       \n",
            " 2   duration  18068 non-null  float64       \n",
            " 3   date      18068 non-null  datetime64[ns]\n",
            "dtypes: datetime64[ns](1), float64(2), int64(1)\n",
            "memory usage: 564.8 KB\n"
          ]
        }
      ],
      "execution_count": 6
    },
    {
      "id": "30e05355",
      "cell_type": "markdown",
      "source": "<b>Добавим столбец, указывающий на месяц поездки:</b>",
      "metadata": {}
    },
    {
      "id": "b5189a13",
      "cell_type": "code",
      "source": "rides['month'] = rides['date'].dt.month\nrides.head()",
      "metadata": {},
      "outputs": [
        {
          "data": {
            "text/html": [
              "<div>\n",
              "<style scoped>\n",
              "    .dataframe tbody tr th:only-of-type {\n",
              "        vertical-align: middle;\n",
              "    }\n",
              "\n",
              "    .dataframe tbody tr th {\n",
              "        vertical-align: top;\n",
              "    }\n",
              "\n",
              "    .dataframe thead th {\n",
              "        text-align: right;\n",
              "    }\n",
              "</style>\n",
              "<table border=\"1\" class=\"dataframe\">\n",
              "  <thead>\n",
              "    <tr style=\"text-align: right;\">\n",
              "      <th></th>\n",
              "      <th>user_id</th>\n",
              "      <th>distance</th>\n",
              "      <th>duration</th>\n",
              "      <th>date</th>\n",
              "      <th>month</th>\n",
              "    </tr>\n",
              "  </thead>\n",
              "  <tbody>\n",
              "    <tr>\n",
              "      <th>0</th>\n",
              "      <td>1</td>\n",
              "      <td>4409.919140</td>\n",
              "      <td>25.599769</td>\n",
              "      <td>2021-01-01</td>\n",
              "      <td>1</td>\n",
              "    </tr>\n",
              "    <tr>\n",
              "      <th>1</th>\n",
              "      <td>1</td>\n",
              "      <td>2617.592153</td>\n",
              "      <td>15.816871</td>\n",
              "      <td>2021-01-01</td>\n",
              "      <td>1</td>\n",
              "    </tr>\n",
              "    <tr>\n",
              "      <th>2</th>\n",
              "      <td>1</td>\n",
              "      <td>754.159807</td>\n",
              "      <td>6.232113</td>\n",
              "      <td>2021-04-01</td>\n",
              "      <td>4</td>\n",
              "    </tr>\n",
              "    <tr>\n",
              "      <th>3</th>\n",
              "      <td>1</td>\n",
              "      <td>2694.783254</td>\n",
              "      <td>18.511000</td>\n",
              "      <td>2021-08-01</td>\n",
              "      <td>8</td>\n",
              "    </tr>\n",
              "    <tr>\n",
              "      <th>4</th>\n",
              "      <td>1</td>\n",
              "      <td>4028.687306</td>\n",
              "      <td>26.265803</td>\n",
              "      <td>2021-08-01</td>\n",
              "      <td>8</td>\n",
              "    </tr>\n",
              "  </tbody>\n",
              "</table>\n",
              "</div>"
            ],
            "text/plain": [
              "   user_id     distance   duration       date  month\n",
              "0        1  4409.919140  25.599769 2021-01-01      1\n",
              "1        1  2617.592153  15.816871 2021-01-01      1\n",
              "2        1   754.159807   6.232113 2021-04-01      4\n",
              "3        1  2694.783254  18.511000 2021-08-01      8\n",
              "4        1  4028.687306  26.265803 2021-08-01      8"
            ]
          },
          "execution_count": 7,
          "metadata": {},
          "output_type": "execute_result"
        }
      ],
      "execution_count": 7
    },
    {
      "id": "9a3e6c5e",
      "cell_type": "code",
      "source": "print(\"Период данных:\", rides['date'].min(), \"-\", rides['date'].max())",
      "metadata": {},
      "outputs": [
        {
          "name": "stdout",
          "output_type": "stream",
          "text": [
            "Период данных: 2021-01-01 00:00:00 - 2021-12-01 00:00:00\n"
          ]
        }
      ],
      "execution_count": 8
    },
    {
      "id": "5c464678",
      "cell_type": "markdown",
      "source": "<b>Обработаем дубликаты:</b>",
      "metadata": {}
    },
    {
      "id": "c63e9c6f",
      "cell_type": "markdown",
      "source": "<b>Users:</b>",
      "metadata": {}
    },
    {
      "id": "4a9bdb6e",
      "cell_type": "code",
      "source": "users.duplicated().sum()",
      "metadata": {},
      "outputs": [
        {
          "data": {
            "text/plain": [
              "31"
            ]
          },
          "execution_count": 9,
          "metadata": {},
          "output_type": "execute_result"
        }
      ],
      "execution_count": 9
    },
    {
      "id": "1a7c5053",
      "cell_type": "code",
      "source": "users = users.drop_duplicates().reset_index(drop=True)",
      "metadata": {},
      "outputs": [],
      "execution_count": 10
    },
    {
      "id": "8b65a709",
      "cell_type": "code",
      "source": "users.isna().sum()",
      "metadata": {},
      "outputs": [
        {
          "data": {
            "text/plain": [
              "user_id              0\n",
              "name                 0\n",
              "age                  0\n",
              "city                 0\n",
              "subscription_type    0\n",
              "dtype: int64"
            ]
          },
          "execution_count": 11,
          "metadata": {},
          "output_type": "execute_result"
        }
      ],
      "execution_count": 11
    },
    {
      "id": "06c7178a",
      "cell_type": "markdown",
      "source": "<b>Rides:</b>",
      "metadata": {}
    },
    {
      "id": "65f8ba73",
      "cell_type": "code",
      "source": "rides.duplicated().sum()",
      "metadata": {},
      "outputs": [
        {
          "data": {
            "text/plain": [
              "0"
            ]
          },
          "execution_count": 12,
          "metadata": {},
          "output_type": "execute_result"
        }
      ],
      "execution_count": 12
    },
    {
      "id": "207768dd",
      "cell_type": "code",
      "source": "rides.isna().sum()",
      "metadata": {},
      "outputs": [
        {
          "data": {
            "text/plain": [
              "user_id     0\n",
              "distance    0\n",
              "duration    0\n",
              "date        0\n",
              "month       0\n",
              "dtype: int64"
            ]
          },
          "execution_count": 13,
          "metadata": {},
          "output_type": "execute_result"
        }
      ],
      "execution_count": 13
    },
    {
      "id": "e86ee2d6",
      "cell_type": "markdown",
      "source": "<b>Subscriptions:</b>",
      "metadata": {}
    },
    {
      "id": "359c5ed1",
      "cell_type": "code",
      "source": "subs",
      "metadata": {},
      "outputs": [
        {
          "data": {
            "text/html": [
              "<div>\n",
              "<style scoped>\n",
              "    .dataframe tbody tr th:only-of-type {\n",
              "        vertical-align: middle;\n",
              "    }\n",
              "\n",
              "    .dataframe tbody tr th {\n",
              "        vertical-align: top;\n",
              "    }\n",
              "\n",
              "    .dataframe thead th {\n",
              "        text-align: right;\n",
              "    }\n",
              "</style>\n",
              "<table border=\"1\" class=\"dataframe\">\n",
              "  <thead>\n",
              "    <tr style=\"text-align: right;\">\n",
              "      <th></th>\n",
              "      <th>subscription_type</th>\n",
              "      <th>minute_price</th>\n",
              "      <th>start_ride_price</th>\n",
              "      <th>subscription_fee</th>\n",
              "    </tr>\n",
              "  </thead>\n",
              "  <tbody>\n",
              "    <tr>\n",
              "      <th>0</th>\n",
              "      <td>free</td>\n",
              "      <td>8</td>\n",
              "      <td>50</td>\n",
              "      <td>0</td>\n",
              "    </tr>\n",
              "    <tr>\n",
              "      <th>1</th>\n",
              "      <td>ultra</td>\n",
              "      <td>6</td>\n",
              "      <td>0</td>\n",
              "      <td>199</td>\n",
              "    </tr>\n",
              "  </tbody>\n",
              "</table>\n",
              "</div>"
            ],
            "text/plain": [
              "  subscription_type  minute_price  start_ride_price  subscription_fee\n",
              "0              free             8                50                 0\n",
              "1             ultra             6                 0               199"
            ]
          },
          "execution_count": 14,
          "metadata": {},
          "output_type": "execute_result"
        }
      ],
      "execution_count": 14
    },
    {
      "id": "71a76a6c",
      "cell_type": "markdown",
      "source": "<b>=> Всё подготовленно к следующему этапу</b>",
      "metadata": {}
    },
    {
      "id": "55d32414",
      "cell_type": "markdown",
      "source": "На этапе предобработки данных мы выявили, что пропуски в данных отсутствуют, удалили явные дубликаты из таблицы users, а также привели столбец date в таблице rides к нужному типу данных (датированный). Там же мы добавили столбец, указывающий на месяц поездки",
      "metadata": {}
    },
    {
      "id": "228264dc",
      "cell_type": "markdown",
      "source": "#### Шаг 3. Исследовательский анализ данных",
      "metadata": {}
    },
    {
      "id": "584807fc",
      "cell_type": "code",
      "source": "cities = users['city'].value_counts()",
      "metadata": {},
      "outputs": [],
      "execution_count": 15
    },
    {
      "id": "7e2b9298",
      "cell_type": "code",
      "source": "plt.figure(figsize = (14,4))\nplt.bar(cities.index, cities.values)\nplt.title('Частота встречаемости городов')\nplt.xlabel('Города')\nplt.ylabel('Количество поездок')\nplt.show()",
      "metadata": {},
      "outputs": [
        {
          "data": {
            "image/png": "[encoded data removed]",
            "text/plain": [
              "<Figure size 1008x288 with 1 Axes>"
            ]
          },
          "metadata": {
            "needs_background": "light"
          },
          "output_type": "display_data"
        }
      ],
      "execution_count": 16
    },
    {
      "id": "9b6faba3",
      "cell_type": "code",
      "source": "plt.pie(users['subscription_type'].value_counts(), labels=['free', 'ultra'], autopct='%1.1f%%')\nplt.title('Соотнешение подписанных и неподписанных людей')\nplt.show()",
      "metadata": {},
      "outputs": [
        {
          "data": {
            "image/png": "[encoded data removed]",
            "text/plain": [
              "<Figure size 432x288 with 1 Axes>"
            ]
          },
          "metadata": {},
          "output_type": "display_data"
        }
      ],
      "execution_count": 17
    },
    {
      "id": "3f8a1f1a",
      "cell_type": "code",
      "source": "def dist_plot(data):\n    plt.hist(data['distance'], bins=20)\n    plt.xlabel('Расстояние (в метрах)')\n    plt.ylabel('Число поездок')\n    plt.title('График распределения дистанций поездок')\n    plt.show()\n\ndist_plot(rides)",
      "metadata": {},
      "outputs": [
        {
          "data": {
            "image/png": "[encoded data removed]",
            "text/plain": [
              "<Figure size 432x288 with 1 Axes>"
            ]
          },
          "metadata": {
            "needs_background": "light"
          },
          "output_type": "display_data"
        }
      ],
      "execution_count": 18
    },
    {
      "id": "35109d7c",
      "cell_type": "markdown",
      "source": "__Кажется, что данные распределены нормально;__",
      "metadata": {}
    },
    {
      "id": "57d1eca9",
      "cell_type": "code",
      "source": "rides.describe()",
      "metadata": {},
      "outputs": [
        {
          "data": {
            "text/html": [
              "<div>\n",
              "<style scoped>\n",
              "    .dataframe tbody tr th:only-of-type {\n",
              "        vertical-align: middle;\n",
              "    }\n",
              "\n",
              "    .dataframe tbody tr th {\n",
              "        vertical-align: top;\n",
              "    }\n",
              "\n",
              "    .dataframe thead th {\n",
              "        text-align: right;\n",
              "    }\n",
              "</style>\n",
              "<table border=\"1\" class=\"dataframe\">\n",
              "  <thead>\n",
              "    <tr style=\"text-align: right;\">\n",
              "      <th></th>\n",
              "      <th>user_id</th>\n",
              "      <th>distance</th>\n",
              "      <th>duration</th>\n",
              "      <th>month</th>\n",
              "    </tr>\n",
              "  </thead>\n",
              "  <tbody>\n",
              "    <tr>\n",
              "      <th>count</th>\n",
              "      <td>18068.000000</td>\n",
              "      <td>18068.000000</td>\n",
              "      <td>18068.000000</td>\n",
              "      <td>18068.000000</td>\n",
              "    </tr>\n",
              "    <tr>\n",
              "      <th>mean</th>\n",
              "      <td>842.869936</td>\n",
              "      <td>3070.659976</td>\n",
              "      <td>17.805011</td>\n",
              "      <td>6.486772</td>\n",
              "    </tr>\n",
              "    <tr>\n",
              "      <th>std</th>\n",
              "      <td>434.734317</td>\n",
              "      <td>1116.831209</td>\n",
              "      <td>6.091051</td>\n",
              "      <td>3.437410</td>\n",
              "    </tr>\n",
              "    <tr>\n",
              "      <th>min</th>\n",
              "      <td>1.000000</td>\n",
              "      <td>0.855683</td>\n",
              "      <td>0.500000</td>\n",
              "      <td>1.000000</td>\n",
              "    </tr>\n",
              "    <tr>\n",
              "      <th>25%</th>\n",
              "      <td>487.000000</td>\n",
              "      <td>2543.226360</td>\n",
              "      <td>13.597563</td>\n",
              "      <td>4.000000</td>\n",
              "    </tr>\n",
              "    <tr>\n",
              "      <th>50%</th>\n",
              "      <td>889.000000</td>\n",
              "      <td>3133.609994</td>\n",
              "      <td>17.678395</td>\n",
              "      <td>6.000000</td>\n",
              "    </tr>\n",
              "    <tr>\n",
              "      <th>75%</th>\n",
              "      <td>1213.250000</td>\n",
              "      <td>3776.222735</td>\n",
              "      <td>21.724800</td>\n",
              "      <td>9.000000</td>\n",
              "    </tr>\n",
              "    <tr>\n",
              "      <th>max</th>\n",
              "      <td>1534.000000</td>\n",
              "      <td>7211.007745</td>\n",
              "      <td>40.823963</td>\n",
              "      <td>12.000000</td>\n",
              "    </tr>\n",
              "  </tbody>\n",
              "</table>\n",
              "</div>"
            ],
            "text/plain": [
              "            user_id      distance      duration         month\n",
              "count  18068.000000  18068.000000  18068.000000  18068.000000\n",
              "mean     842.869936   3070.659976     17.805011      6.486772\n",
              "std      434.734317   1116.831209      6.091051      3.437410\n",
              "min        1.000000      0.855683      0.500000      1.000000\n",
              "25%      487.000000   2543.226360     13.597563      4.000000\n",
              "50%      889.000000   3133.609994     17.678395      6.000000\n",
              "75%     1213.250000   3776.222735     21.724800      9.000000\n",
              "max     1534.000000   7211.007745     40.823963     12.000000"
            ]
          },
          "execution_count": 19,
          "metadata": {},
          "output_type": "execute_result"
        }
      ],
      "execution_count": 19
    },
    {
      "id": "4eddba41",
      "cell_type": "code",
      "source": "def dur_plot(data):\n    plt.hist(data['duration'], bins=30)\n    plt.xlabel('Длительность (в минутах)')\n    plt.ylabel('Число поездок')\n    plt.title('График распределения длительности поездок')\n    plt.show()\n    \ndur_plot(rides)",
      "metadata": {},
      "outputs": [
        {
          "data": {
            "image/png": "[encoded data removed]",
            "text/plain": [
              "<Figure size 432x288 with 1 Axes>"
            ]
          },
          "metadata": {
            "needs_background": "light"
          },
          "output_type": "display_data"
        }
      ],
      "execution_count": 20
    },
    {
      "id": "21e75c1e",
      "cell_type": "markdown",
      "source": "__Аналогично;__",
      "metadata": {}
    },
    {
      "id": "47b369da",
      "cell_type": "markdown",
      "source": "#### Шаг 4. Объединение данных",
      "metadata": {}
    },
    {
      "id": "60a8e761",
      "cell_type": "code",
      "source": "user_rides = pd.merge(users, rides, on='user_id')\nmerged_data = pd.merge(user_rides, subs)\nmerged_data",
      "metadata": {},
      "outputs": [
        {
          "data": {
            "text/html": [
              "<div>\n",
              "<style scoped>\n",
              "    .dataframe tbody tr th:only-of-type {\n",
              "        vertical-align: middle;\n",
              "    }\n",
              "\n",
              "    .dataframe tbody tr th {\n",
              "        vertical-align: top;\n",
              "    }\n",
              "\n",
              "    .dataframe thead th {\n",
              "        text-align: right;\n",
              "    }\n",
              "</style>\n",
              "<table border=\"1\" class=\"dataframe\">\n",
              "  <thead>\n",
              "    <tr style=\"text-align: right;\">\n",
              "      <th></th>\n",
              "      <th>user_id</th>\n",
              "      <th>name</th>\n",
              "      <th>age</th>\n",
              "      <th>city</th>\n",
              "      <th>subscription_type</th>\n",
              "      <th>distance</th>\n",
              "      <th>duration</th>\n",
              "      <th>date</th>\n",
              "      <th>month</th>\n",
              "      <th>minute_price</th>\n",
              "      <th>start_ride_price</th>\n",
              "      <th>subscription_fee</th>\n",
              "    </tr>\n",
              "  </thead>\n",
              "  <tbody>\n",
              "    <tr>\n",
              "      <th>0</th>\n",
              "      <td>1</td>\n",
              "      <td>Кира</td>\n",
              "      <td>22</td>\n",
              "      <td>Тюмень</td>\n",
              "      <td>ultra</td>\n",
              "      <td>4409.919140</td>\n",
              "      <td>25.599769</td>\n",
              "      <td>2021-01-01</td>\n",
              "      <td>1</td>\n",
              "      <td>6</td>\n",
              "      <td>0</td>\n",
              "      <td>199</td>\n",
              "    </tr>\n",
              "    <tr>\n",
              "      <th>1</th>\n",
              "      <td>1</td>\n",
              "      <td>Кира</td>\n",
              "      <td>22</td>\n",
              "      <td>Тюмень</td>\n",
              "      <td>ultra</td>\n",
              "      <td>2617.592153</td>\n",
              "      <td>15.816871</td>\n",
              "      <td>2021-01-01</td>\n",
              "      <td>1</td>\n",
              "      <td>6</td>\n",
              "      <td>0</td>\n",
              "      <td>199</td>\n",
              "    </tr>\n",
              "    <tr>\n",
              "      <th>2</th>\n",
              "      <td>1</td>\n",
              "      <td>Кира</td>\n",
              "      <td>22</td>\n",
              "      <td>Тюмень</td>\n",
              "      <td>ultra</td>\n",
              "      <td>754.159807</td>\n",
              "      <td>6.232113</td>\n",
              "      <td>2021-04-01</td>\n",
              "      <td>4</td>\n",
              "      <td>6</td>\n",
              "      <td>0</td>\n",
              "      <td>199</td>\n",
              "    </tr>\n",
              "    <tr>\n",
              "      <th>3</th>\n",
              "      <td>1</td>\n",
              "      <td>Кира</td>\n",
              "      <td>22</td>\n",
              "      <td>Тюмень</td>\n",
              "      <td>ultra</td>\n",
              "      <td>2694.783254</td>\n",
              "      <td>18.511000</td>\n",
              "      <td>2021-08-01</td>\n",
              "      <td>8</td>\n",
              "      <td>6</td>\n",
              "      <td>0</td>\n",
              "      <td>199</td>\n",
              "    </tr>\n",
              "    <tr>\n",
              "      <th>4</th>\n",
              "      <td>1</td>\n",
              "      <td>Кира</td>\n",
              "      <td>22</td>\n",
              "      <td>Тюмень</td>\n",
              "      <td>ultra</td>\n",
              "      <td>4028.687306</td>\n",
              "      <td>26.265803</td>\n",
              "      <td>2021-08-01</td>\n",
              "      <td>8</td>\n",
              "      <td>6</td>\n",
              "      <td>0</td>\n",
              "      <td>199</td>\n",
              "    </tr>\n",
              "    <tr>\n",
              "      <th>...</th>\n",
              "      <td>...</td>\n",
              "      <td>...</td>\n",
              "      <td>...</td>\n",
              "      <td>...</td>\n",
              "      <td>...</td>\n",
              "      <td>...</td>\n",
              "      <td>...</td>\n",
              "      <td>...</td>\n",
              "      <td>...</td>\n",
              "      <td>...</td>\n",
              "      <td>...</td>\n",
              "      <td>...</td>\n",
              "    </tr>\n",
              "    <tr>\n",
              "      <th>18063</th>\n",
              "      <td>1534</td>\n",
              "      <td>Альберт</td>\n",
              "      <td>25</td>\n",
              "      <td>Краснодар</td>\n",
              "      <td>free</td>\n",
              "      <td>3781.098080</td>\n",
              "      <td>19.822962</td>\n",
              "      <td>2021-11-01</td>\n",
              "      <td>11</td>\n",
              "      <td>8</td>\n",
              "      <td>50</td>\n",
              "      <td>0</td>\n",
              "    </tr>\n",
              "    <tr>\n",
              "      <th>18064</th>\n",
              "      <td>1534</td>\n",
              "      <td>Альберт</td>\n",
              "      <td>25</td>\n",
              "      <td>Краснодар</td>\n",
              "      <td>free</td>\n",
              "      <td>2840.423057</td>\n",
              "      <td>21.409799</td>\n",
              "      <td>2021-11-01</td>\n",
              "      <td>11</td>\n",
              "      <td>8</td>\n",
              "      <td>50</td>\n",
              "      <td>0</td>\n",
              "    </tr>\n",
              "    <tr>\n",
              "      <th>18065</th>\n",
              "      <td>1534</td>\n",
              "      <td>Альберт</td>\n",
              "      <td>25</td>\n",
              "      <td>Краснодар</td>\n",
              "      <td>free</td>\n",
              "      <td>3826.185507</td>\n",
              "      <td>18.435051</td>\n",
              "      <td>2021-11-01</td>\n",
              "      <td>11</td>\n",
              "      <td>8</td>\n",
              "      <td>50</td>\n",
              "      <td>0</td>\n",
              "    </tr>\n",
              "    <tr>\n",
              "      <th>18066</th>\n",
              "      <td>1534</td>\n",
              "      <td>Альберт</td>\n",
              "      <td>25</td>\n",
              "      <td>Краснодар</td>\n",
              "      <td>free</td>\n",
              "      <td>2902.308661</td>\n",
              "      <td>16.674362</td>\n",
              "      <td>2021-11-01</td>\n",
              "      <td>11</td>\n",
              "      <td>8</td>\n",
              "      <td>50</td>\n",
              "      <td>0</td>\n",
              "    </tr>\n",
              "    <tr>\n",
              "      <th>18067</th>\n",
              "      <td>1534</td>\n",
              "      <td>Альберт</td>\n",
              "      <td>25</td>\n",
              "      <td>Краснодар</td>\n",
              "      <td>free</td>\n",
              "      <td>2371.711192</td>\n",
              "      <td>15.893917</td>\n",
              "      <td>2021-12-01</td>\n",
              "      <td>12</td>\n",
              "      <td>8</td>\n",
              "      <td>50</td>\n",
              "      <td>0</td>\n",
              "    </tr>\n",
              "  </tbody>\n",
              "</table>\n",
              "<p>18068 rows × 12 columns</p>\n",
              "</div>"
            ],
            "text/plain": [
              "       user_id     name  age       city subscription_type     distance  \\\n",
              "0            1     Кира   22     Тюмень             ultra  4409.919140   \n",
              "1            1     Кира   22     Тюмень             ultra  2617.592153   \n",
              "2            1     Кира   22     Тюмень             ultra   754.159807   \n",
              "3            1     Кира   22     Тюмень             ultra  2694.783254   \n",
              "4            1     Кира   22     Тюмень             ultra  4028.687306   \n",
              "...        ...      ...  ...        ...               ...          ...   \n",
              "18063     1534  Альберт   25  Краснодар              free  3781.098080   \n",
              "18064     1534  Альберт   25  Краснодар              free  2840.423057   \n",
              "18065     1534  Альберт   25  Краснодар              free  3826.185507   \n",
              "18066     1534  Альберт   25  Краснодар              free  2902.308661   \n",
              "18067     1534  Альберт   25  Краснодар              free  2371.711192   \n",
              "\n",
              "        duration       date  month  minute_price  start_ride_price  \\\n",
              "0      25.599769 2021-01-01      1             6                 0   \n",
              "1      15.816871 2021-01-01      1             6                 0   \n",
              "2       6.232113 2021-04-01      4             6                 0   \n",
              "3      18.511000 2021-08-01      8             6                 0   \n",
              "4      26.265803 2021-08-01      8             6                 0   \n",
              "...          ...        ...    ...           ...               ...   \n",
              "18063  19.822962 2021-11-01     11             8                50   \n",
              "18064  21.409799 2021-11-01     11             8                50   \n",
              "18065  18.435051 2021-11-01     11             8                50   \n",
              "18066  16.674362 2021-11-01     11             8                50   \n",
              "18067  15.893917 2021-12-01     12             8                50   \n",
              "\n",
              "       subscription_fee  \n",
              "0                   199  \n",
              "1                   199  \n",
              "2                   199  \n",
              "3                   199  \n",
              "4                   199  \n",
              "...                 ...  \n",
              "18063                 0  \n",
              "18064                 0  \n",
              "18065                 0  \n",
              "18066                 0  \n",
              "18067                 0  \n",
              "\n",
              "[18068 rows x 12 columns]"
            ]
          },
          "execution_count": 21,
          "metadata": {},
          "output_type": "execute_result"
        }
      ],
      "execution_count": 21
    },
    {
      "id": "9170bc68",
      "cell_type": "code",
      "source": "print(users.shape)\nprint(rides.shape)\nprint(user_rides.shape)\nprint(merged_data.shape)",
      "metadata": {},
      "outputs": [
        {
          "name": "stdout",
          "output_type": "stream",
          "text": [
            "(1534, 5)\n",
            "(18068, 5)\n",
            "(18068, 9)\n",
            "(18068, 12)\n"
          ]
        }
      ],
      "execution_count": 22
    },
    {
      "id": "a40df367",
      "cell_type": "code",
      "source": "ultra_subs = merged_data.query('subscription_type == \"ultra\"')\nultra_subs",
      "metadata": {},
      "outputs": [
        {
          "data": {
            "text/html": [
              "<div>\n",
              "<style scoped>\n",
              "    .dataframe tbody tr th:only-of-type {\n",
              "        vertical-align: middle;\n",
              "    }\n",
              "\n",
              "    .dataframe tbody tr th {\n",
              "        vertical-align: top;\n",
              "    }\n",
              "\n",
              "    .dataframe thead th {\n",
              "        text-align: right;\n",
              "    }\n",
              "</style>\n",
              "<table border=\"1\" class=\"dataframe\">\n",
              "  <thead>\n",
              "    <tr style=\"text-align: right;\">\n",
              "      <th></th>\n",
              "      <th>user_id</th>\n",
              "      <th>name</th>\n",
              "      <th>age</th>\n",
              "      <th>city</th>\n",
              "      <th>subscription_type</th>\n",
              "      <th>distance</th>\n",
              "      <th>duration</th>\n",
              "      <th>date</th>\n",
              "      <th>month</th>\n",
              "      <th>minute_price</th>\n",
              "      <th>start_ride_price</th>\n",
              "      <th>subscription_fee</th>\n",
              "    </tr>\n",
              "  </thead>\n",
              "  <tbody>\n",
              "    <tr>\n",
              "      <th>0</th>\n",
              "      <td>1</td>\n",
              "      <td>Кира</td>\n",
              "      <td>22</td>\n",
              "      <td>Тюмень</td>\n",
              "      <td>ultra</td>\n",
              "      <td>4409.919140</td>\n",
              "      <td>25.599769</td>\n",
              "      <td>2021-01-01</td>\n",
              "      <td>1</td>\n",
              "      <td>6</td>\n",
              "      <td>0</td>\n",
              "      <td>199</td>\n",
              "    </tr>\n",
              "    <tr>\n",
              "      <th>1</th>\n",
              "      <td>1</td>\n",
              "      <td>Кира</td>\n",
              "      <td>22</td>\n",
              "      <td>Тюмень</td>\n",
              "      <td>ultra</td>\n",
              "      <td>2617.592153</td>\n",
              "      <td>15.816871</td>\n",
              "      <td>2021-01-01</td>\n",
              "      <td>1</td>\n",
              "      <td>6</td>\n",
              "      <td>0</td>\n",
              "      <td>199</td>\n",
              "    </tr>\n",
              "    <tr>\n",
              "      <th>2</th>\n",
              "      <td>1</td>\n",
              "      <td>Кира</td>\n",
              "      <td>22</td>\n",
              "      <td>Тюмень</td>\n",
              "      <td>ultra</td>\n",
              "      <td>754.159807</td>\n",
              "      <td>6.232113</td>\n",
              "      <td>2021-04-01</td>\n",
              "      <td>4</td>\n",
              "      <td>6</td>\n",
              "      <td>0</td>\n",
              "      <td>199</td>\n",
              "    </tr>\n",
              "    <tr>\n",
              "      <th>3</th>\n",
              "      <td>1</td>\n",
              "      <td>Кира</td>\n",
              "      <td>22</td>\n",
              "      <td>Тюмень</td>\n",
              "      <td>ultra</td>\n",
              "      <td>2694.783254</td>\n",
              "      <td>18.511000</td>\n",
              "      <td>2021-08-01</td>\n",
              "      <td>8</td>\n",
              "      <td>6</td>\n",
              "      <td>0</td>\n",
              "      <td>199</td>\n",
              "    </tr>\n",
              "    <tr>\n",
              "      <th>4</th>\n",
              "      <td>1</td>\n",
              "      <td>Кира</td>\n",
              "      <td>22</td>\n",
              "      <td>Тюмень</td>\n",
              "      <td>ultra</td>\n",
              "      <td>4028.687306</td>\n",
              "      <td>26.265803</td>\n",
              "      <td>2021-08-01</td>\n",
              "      <td>8</td>\n",
              "      <td>6</td>\n",
              "      <td>0</td>\n",
              "      <td>199</td>\n",
              "    </tr>\n",
              "    <tr>\n",
              "      <th>...</th>\n",
              "      <td>...</td>\n",
              "      <td>...</td>\n",
              "      <td>...</td>\n",
              "      <td>...</td>\n",
              "      <td>...</td>\n",
              "      <td>...</td>\n",
              "      <td>...</td>\n",
              "      <td>...</td>\n",
              "      <td>...</td>\n",
              "      <td>...</td>\n",
              "      <td>...</td>\n",
              "      <td>...</td>\n",
              "    </tr>\n",
              "    <tr>\n",
              "      <th>6495</th>\n",
              "      <td>699</td>\n",
              "      <td>Оксана</td>\n",
              "      <td>22</td>\n",
              "      <td>Москва</td>\n",
              "      <td>ultra</td>\n",
              "      <td>3973.046497</td>\n",
              "      <td>24.671163</td>\n",
              "      <td>2021-08-01</td>\n",
              "      <td>8</td>\n",
              "      <td>6</td>\n",
              "      <td>0</td>\n",
              "      <td>199</td>\n",
              "    </tr>\n",
              "    <tr>\n",
              "      <th>6496</th>\n",
              "      <td>699</td>\n",
              "      <td>Оксана</td>\n",
              "      <td>22</td>\n",
              "      <td>Москва</td>\n",
              "      <td>ultra</td>\n",
              "      <td>3288.702563</td>\n",
              "      <td>15.892886</td>\n",
              "      <td>2021-09-01</td>\n",
              "      <td>9</td>\n",
              "      <td>6</td>\n",
              "      <td>0</td>\n",
              "      <td>199</td>\n",
              "    </tr>\n",
              "    <tr>\n",
              "      <th>6497</th>\n",
              "      <td>699</td>\n",
              "      <td>Оксана</td>\n",
              "      <td>22</td>\n",
              "      <td>Москва</td>\n",
              "      <td>ultra</td>\n",
              "      <td>3076.159348</td>\n",
              "      <td>14.389525</td>\n",
              "      <td>2021-09-01</td>\n",
              "      <td>9</td>\n",
              "      <td>6</td>\n",
              "      <td>0</td>\n",
              "      <td>199</td>\n",
              "    </tr>\n",
              "    <tr>\n",
              "      <th>6498</th>\n",
              "      <td>699</td>\n",
              "      <td>Оксана</td>\n",
              "      <td>22</td>\n",
              "      <td>Москва</td>\n",
              "      <td>ultra</td>\n",
              "      <td>4707.845501</td>\n",
              "      <td>15.839579</td>\n",
              "      <td>2021-10-01</td>\n",
              "      <td>10</td>\n",
              "      <td>6</td>\n",
              "      <td>0</td>\n",
              "      <td>199</td>\n",
              "    </tr>\n",
              "    <tr>\n",
              "      <th>6499</th>\n",
              "      <td>699</td>\n",
              "      <td>Оксана</td>\n",
              "      <td>22</td>\n",
              "      <td>Москва</td>\n",
              "      <td>ultra</td>\n",
              "      <td>3202.890770</td>\n",
              "      <td>25.217345</td>\n",
              "      <td>2021-12-01</td>\n",
              "      <td>12</td>\n",
              "      <td>6</td>\n",
              "      <td>0</td>\n",
              "      <td>199</td>\n",
              "    </tr>\n",
              "  </tbody>\n",
              "</table>\n",
              "<p>6500 rows × 12 columns</p>\n",
              "</div>"
            ],
            "text/plain": [
              "      user_id    name  age    city subscription_type     distance   duration  \\\n",
              "0           1    Кира   22  Тюмень             ultra  4409.919140  25.599769   \n",
              "1           1    Кира   22  Тюмень             ultra  2617.592153  15.816871   \n",
              "2           1    Кира   22  Тюмень             ultra   754.159807   6.232113   \n",
              "3           1    Кира   22  Тюмень             ultra  2694.783254  18.511000   \n",
              "4           1    Кира   22  Тюмень             ultra  4028.687306  26.265803   \n",
              "...       ...     ...  ...     ...               ...          ...        ...   \n",
              "6495      699  Оксана   22  Москва             ultra  3973.046497  24.671163   \n",
              "6496      699  Оксана   22  Москва             ultra  3288.702563  15.892886   \n",
              "6497      699  Оксана   22  Москва             ultra  3076.159348  14.389525   \n",
              "6498      699  Оксана   22  Москва             ultra  4707.845501  15.839579   \n",
              "6499      699  Оксана   22  Москва             ultra  3202.890770  25.217345   \n",
              "\n",
              "           date  month  minute_price  start_ride_price  subscription_fee  \n",
              "0    2021-01-01      1             6                 0               199  \n",
              "1    2021-01-01      1             6                 0               199  \n",
              "2    2021-04-01      4             6                 0               199  \n",
              "3    2021-08-01      8             6                 0               199  \n",
              "4    2021-08-01      8             6                 0               199  \n",
              "...         ...    ...           ...               ...               ...  \n",
              "6495 2021-08-01      8             6                 0               199  \n",
              "6496 2021-09-01      9             6                 0               199  \n",
              "6497 2021-09-01      9             6                 0               199  \n",
              "6498 2021-10-01     10             6                 0               199  \n",
              "6499 2021-12-01     12             6                 0               199  \n",
              "\n",
              "[6500 rows x 12 columns]"
            ]
          },
          "execution_count": 23,
          "metadata": {},
          "output_type": "execute_result"
        }
      ],
      "execution_count": 23
    },
    {
      "id": "75eec20a",
      "cell_type": "code",
      "source": "free_subs = merged_data.query('subscription_type == \"free\"')\nfree_subs",
      "metadata": {},
      "outputs": [
        {
          "data": {
            "text/html": [
              "<div>\n",
              "<style scoped>\n",
              "    .dataframe tbody tr th:only-of-type {\n",
              "        vertical-align: middle;\n",
              "    }\n",
              "\n",
              "    .dataframe tbody tr th {\n",
              "        vertical-align: top;\n",
              "    }\n",
              "\n",
              "    .dataframe thead th {\n",
              "        text-align: right;\n",
              "    }\n",
              "</style>\n",
              "<table border=\"1\" class=\"dataframe\">\n",
              "  <thead>\n",
              "    <tr style=\"text-align: right;\">\n",
              "      <th></th>\n",
              "      <th>user_id</th>\n",
              "      <th>name</th>\n",
              "      <th>age</th>\n",
              "      <th>city</th>\n",
              "      <th>subscription_type</th>\n",
              "      <th>distance</th>\n",
              "      <th>duration</th>\n",
              "      <th>date</th>\n",
              "      <th>month</th>\n",
              "      <th>minute_price</th>\n",
              "      <th>start_ride_price</th>\n",
              "      <th>subscription_fee</th>\n",
              "    </tr>\n",
              "  </thead>\n",
              "  <tbody>\n",
              "    <tr>\n",
              "      <th>6500</th>\n",
              "      <td>700</td>\n",
              "      <td>Айдар</td>\n",
              "      <td>22</td>\n",
              "      <td>Омск</td>\n",
              "      <td>free</td>\n",
              "      <td>2515.690719</td>\n",
              "      <td>14.944286</td>\n",
              "      <td>2021-01-01</td>\n",
              "      <td>1</td>\n",
              "      <td>8</td>\n",
              "      <td>50</td>\n",
              "      <td>0</td>\n",
              "    </tr>\n",
              "    <tr>\n",
              "      <th>6501</th>\n",
              "      <td>700</td>\n",
              "      <td>Айдар</td>\n",
              "      <td>22</td>\n",
              "      <td>Омск</td>\n",
              "      <td>free</td>\n",
              "      <td>846.932642</td>\n",
              "      <td>16.234663</td>\n",
              "      <td>2021-02-01</td>\n",
              "      <td>2</td>\n",
              "      <td>8</td>\n",
              "      <td>50</td>\n",
              "      <td>0</td>\n",
              "    </tr>\n",
              "    <tr>\n",
              "      <th>6502</th>\n",
              "      <td>700</td>\n",
              "      <td>Айдар</td>\n",
              "      <td>22</td>\n",
              "      <td>Омск</td>\n",
              "      <td>free</td>\n",
              "      <td>4004.434142</td>\n",
              "      <td>20.016628</td>\n",
              "      <td>2021-02-01</td>\n",
              "      <td>2</td>\n",
              "      <td>8</td>\n",
              "      <td>50</td>\n",
              "      <td>0</td>\n",
              "    </tr>\n",
              "    <tr>\n",
              "      <th>6503</th>\n",
              "      <td>700</td>\n",
              "      <td>Айдар</td>\n",
              "      <td>22</td>\n",
              "      <td>Омск</td>\n",
              "      <td>free</td>\n",
              "      <td>1205.911290</td>\n",
              "      <td>9.782872</td>\n",
              "      <td>2021-02-01</td>\n",
              "      <td>2</td>\n",
              "      <td>8</td>\n",
              "      <td>50</td>\n",
              "      <td>0</td>\n",
              "    </tr>\n",
              "    <tr>\n",
              "      <th>6504</th>\n",
              "      <td>700</td>\n",
              "      <td>Айдар</td>\n",
              "      <td>22</td>\n",
              "      <td>Омск</td>\n",
              "      <td>free</td>\n",
              "      <td>3047.379435</td>\n",
              "      <td>17.427673</td>\n",
              "      <td>2021-02-01</td>\n",
              "      <td>2</td>\n",
              "      <td>8</td>\n",
              "      <td>50</td>\n",
              "      <td>0</td>\n",
              "    </tr>\n",
              "    <tr>\n",
              "      <th>...</th>\n",
              "      <td>...</td>\n",
              "      <td>...</td>\n",
              "      <td>...</td>\n",
              "      <td>...</td>\n",
              "      <td>...</td>\n",
              "      <td>...</td>\n",
              "      <td>...</td>\n",
              "      <td>...</td>\n",
              "      <td>...</td>\n",
              "      <td>...</td>\n",
              "      <td>...</td>\n",
              "      <td>...</td>\n",
              "    </tr>\n",
              "    <tr>\n",
              "      <th>18063</th>\n",
              "      <td>1534</td>\n",
              "      <td>Альберт</td>\n",
              "      <td>25</td>\n",
              "      <td>Краснодар</td>\n",
              "      <td>free</td>\n",
              "      <td>3781.098080</td>\n",
              "      <td>19.822962</td>\n",
              "      <td>2021-11-01</td>\n",
              "      <td>11</td>\n",
              "      <td>8</td>\n",
              "      <td>50</td>\n",
              "      <td>0</td>\n",
              "    </tr>\n",
              "    <tr>\n",
              "      <th>18064</th>\n",
              "      <td>1534</td>\n",
              "      <td>Альберт</td>\n",
              "      <td>25</td>\n",
              "      <td>Краснодар</td>\n",
              "      <td>free</td>\n",
              "      <td>2840.423057</td>\n",
              "      <td>21.409799</td>\n",
              "      <td>2021-11-01</td>\n",
              "      <td>11</td>\n",
              "      <td>8</td>\n",
              "      <td>50</td>\n",
              "      <td>0</td>\n",
              "    </tr>\n",
              "    <tr>\n",
              "      <th>18065</th>\n",
              "      <td>1534</td>\n",
              "      <td>Альберт</td>\n",
              "      <td>25</td>\n",
              "      <td>Краснодар</td>\n",
              "      <td>free</td>\n",
              "      <td>3826.185507</td>\n",
              "      <td>18.435051</td>\n",
              "      <td>2021-11-01</td>\n",
              "      <td>11</td>\n",
              "      <td>8</td>\n",
              "      <td>50</td>\n",
              "      <td>0</td>\n",
              "    </tr>\n",
              "    <tr>\n",
              "      <th>18066</th>\n",
              "      <td>1534</td>\n",
              "      <td>Альберт</td>\n",
              "      <td>25</td>\n",
              "      <td>Краснодар</td>\n",
              "      <td>free</td>\n",
              "      <td>2902.308661</td>\n",
              "      <td>16.674362</td>\n",
              "      <td>2021-11-01</td>\n",
              "      <td>11</td>\n",
              "      <td>8</td>\n",
              "      <td>50</td>\n",
              "      <td>0</td>\n",
              "    </tr>\n",
              "    <tr>\n",
              "      <th>18067</th>\n",
              "      <td>1534</td>\n",
              "      <td>Альберт</td>\n",
              "      <td>25</td>\n",
              "      <td>Краснодар</td>\n",
              "      <td>free</td>\n",
              "      <td>2371.711192</td>\n",
              "      <td>15.893917</td>\n",
              "      <td>2021-12-01</td>\n",
              "      <td>12</td>\n",
              "      <td>8</td>\n",
              "      <td>50</td>\n",
              "      <td>0</td>\n",
              "    </tr>\n",
              "  </tbody>\n",
              "</table>\n",
              "<p>11568 rows × 12 columns</p>\n",
              "</div>"
            ],
            "text/plain": [
              "       user_id     name  age       city subscription_type     distance  \\\n",
              "6500       700    Айдар   22       Омск              free  2515.690719   \n",
              "6501       700    Айдар   22       Омск              free   846.932642   \n",
              "6502       700    Айдар   22       Омск              free  4004.434142   \n",
              "6503       700    Айдар   22       Омск              free  1205.911290   \n",
              "6504       700    Айдар   22       Омск              free  3047.379435   \n",
              "...        ...      ...  ...        ...               ...          ...   \n",
              "18063     1534  Альберт   25  Краснодар              free  3781.098080   \n",
              "18064     1534  Альберт   25  Краснодар              free  2840.423057   \n",
              "18065     1534  Альберт   25  Краснодар              free  3826.185507   \n",
              "18066     1534  Альберт   25  Краснодар              free  2902.308661   \n",
              "18067     1534  Альберт   25  Краснодар              free  2371.711192   \n",
              "\n",
              "        duration       date  month  minute_price  start_ride_price  \\\n",
              "6500   14.944286 2021-01-01      1             8                50   \n",
              "6501   16.234663 2021-02-01      2             8                50   \n",
              "6502   20.016628 2021-02-01      2             8                50   \n",
              "6503    9.782872 2021-02-01      2             8                50   \n",
              "6504   17.427673 2021-02-01      2             8                50   \n",
              "...          ...        ...    ...           ...               ...   \n",
              "18063  19.822962 2021-11-01     11             8                50   \n",
              "18064  21.409799 2021-11-01     11             8                50   \n",
              "18065  18.435051 2021-11-01     11             8                50   \n",
              "18066  16.674362 2021-11-01     11             8                50   \n",
              "18067  15.893917 2021-12-01     12             8                50   \n",
              "\n",
              "       subscription_fee  \n",
              "6500                  0  \n",
              "6501                  0  \n",
              "6502                  0  \n",
              "6503                  0  \n",
              "6504                  0  \n",
              "...                 ...  \n",
              "18063                 0  \n",
              "18064                 0  \n",
              "18065                 0  \n",
              "18066                 0  \n",
              "18067                 0  \n",
              "\n",
              "[11568 rows x 12 columns]"
            ]
          },
          "execution_count": 24,
          "metadata": {},
          "output_type": "execute_result"
        }
      ],
      "execution_count": 24
    },
    {
      "id": "d9054e6f",
      "cell_type": "code",
      "source": "dist_plot(ultra_subs)\ndur_plot(ultra_subs)",
      "metadata": {},
      "outputs": [
        {
          "data": {
            "image/png": "[encoded data removed]",
            "text/plain": [
              "<Figure size 432x288 with 1 Axes>"
            ]
          },
          "metadata": {
            "needs_background": "light"
          },
          "output_type": "display_data"
        },
        {
          "data": {
            "image/png": "[encoded data removed]",
            "text/plain": [
              "<Figure size 432x288 with 1 Axes>"
            ]
          },
          "metadata": {
            "needs_background": "light"
          },
          "output_type": "display_data"
        }
      ],
      "execution_count": 25
    },
    {
      "id": "0beb6c4b",
      "cell_type": "code",
      "source": "dist_plot(free_subs)\ndur_plot(free_subs)",
      "metadata": {},
      "outputs": [
        {
          "data": {
            "image/png": "[encoded data removed]",
            "text/plain": [
              "<Figure size 432x288 with 1 Axes>"
            ]
          },
          "metadata": {
            "needs_background": "light"
          },
          "output_type": "display_data"
        },
        {
          "data": {
            "image/png": "[encoded data removed]",
            "text/plain": [
              "<Figure size 432x288 with 1 Axes>"
            ]
          },
          "metadata": {
            "needs_background": "light"
          },
          "output_type": "display_data"
        }
      ],
      "execution_count": 26
    },
    {
      "id": "64865395",
      "cell_type": "code",
      "source": "plt.hist(ultra_subs['distance'], bins=30, alpha=0.5, label='с подпиской')\nplt.hist(free_subs['distance'], bins=30, alpha=0.5, label='без подписки')\nplt.xlabel('Расстояние (в метрах)')\nplt.ylabel('Число поездок')\nplt.legend()\n\nplt.show()",
      "metadata": {},
      "outputs": [
        {
          "data": {
            "image/png": "[encoded data removed]",
            "text/plain": [
              "<Figure size 432x288 with 1 Axes>"
            ]
          },
          "metadata": {
            "needs_background": "light"
          },
          "output_type": "display_data"
        }
      ],
      "execution_count": 27
    },
    {
      "id": "22d0eb56",
      "cell_type": "code",
      "source": "plt.hist(ultra_subs['duration'], bins=30, alpha=0.5, label='с подпиской')\nplt.hist(free_subs['duration'], bins=30, alpha=0.5, label='без подписки')\nplt.xlabel('Длительность (в минутах)')\nplt.ylabel('Число поездок')\nplt.legend()\n\nplt.show()",
      "metadata": {},
      "outputs": [
        {
          "data": {
            "image/png": "[encoded data removed]",
            "text/plain": [
              "<Figure size 432x288 with 1 Axes>"
            ]
          },
          "metadata": {
            "needs_background": "light"
          },
          "output_type": "display_data"
        }
      ],
      "execution_count": 28
    },
    {
      "id": "c321fc0d",
      "cell_type": "markdown",
      "source": "__Кажется, что все данные распределены нормально;__",
      "metadata": {}
    },
    {
      "id": "663512ea",
      "cell_type": "markdown",
      "source": "__Данные объеденены, стоит начать добавлять нужные столбцы__",
      "metadata": {}
    },
    {
      "id": "a9158d21",
      "cell_type": "markdown",
      "source": "#### Шаг 5. Подсчёт выручки",
      "metadata": {}
    },
    {
      "id": "6f6d009a",
      "cell_type": "code",
      "source": "merged_data",
      "metadata": {},
      "outputs": [
        {
          "data": {
            "text/html": [
              "<div>\n",
              "<style scoped>\n",
              "    .dataframe tbody tr th:only-of-type {\n",
              "        vertical-align: middle;\n",
              "    }\n",
              "\n",
              "    .dataframe tbody tr th {\n",
              "        vertical-align: top;\n",
              "    }\n",
              "\n",
              "    .dataframe thead th {\n",
              "        text-align: right;\n",
              "    }\n",
              "</style>\n",
              "<table border=\"1\" class=\"dataframe\">\n",
              "  <thead>\n",
              "    <tr style=\"text-align: right;\">\n",
              "      <th></th>\n",
              "      <th>user_id</th>\n",
              "      <th>name</th>\n",
              "      <th>age</th>\n",
              "      <th>city</th>\n",
              "      <th>subscription_type</th>\n",
              "      <th>distance</th>\n",
              "      <th>duration</th>\n",
              "      <th>date</th>\n",
              "      <th>month</th>\n",
              "      <th>minute_price</th>\n",
              "      <th>start_ride_price</th>\n",
              "      <th>subscription_fee</th>\n",
              "    </tr>\n",
              "  </thead>\n",
              "  <tbody>\n",
              "    <tr>\n",
              "      <th>0</th>\n",
              "      <td>1</td>\n",
              "      <td>Кира</td>\n",
              "      <td>22</td>\n",
              "      <td>Тюмень</td>\n",
              "      <td>ultra</td>\n",
              "      <td>4409.919140</td>\n",
              "      <td>25.599769</td>\n",
              "      <td>2021-01-01</td>\n",
              "      <td>1</td>\n",
              "      <td>6</td>\n",
              "      <td>0</td>\n",
              "      <td>199</td>\n",
              "    </tr>\n",
              "    <tr>\n",
              "      <th>1</th>\n",
              "      <td>1</td>\n",
              "      <td>Кира</td>\n",
              "      <td>22</td>\n",
              "      <td>Тюмень</td>\n",
              "      <td>ultra</td>\n",
              "      <td>2617.592153</td>\n",
              "      <td>15.816871</td>\n",
              "      <td>2021-01-01</td>\n",
              "      <td>1</td>\n",
              "      <td>6</td>\n",
              "      <td>0</td>\n",
              "      <td>199</td>\n",
              "    </tr>\n",
              "    <tr>\n",
              "      <th>2</th>\n",
              "      <td>1</td>\n",
              "      <td>Кира</td>\n",
              "      <td>22</td>\n",
              "      <td>Тюмень</td>\n",
              "      <td>ultra</td>\n",
              "      <td>754.159807</td>\n",
              "      <td>6.232113</td>\n",
              "      <td>2021-04-01</td>\n",
              "      <td>4</td>\n",
              "      <td>6</td>\n",
              "      <td>0</td>\n",
              "      <td>199</td>\n",
              "    </tr>\n",
              "    <tr>\n",
              "      <th>3</th>\n",
              "      <td>1</td>\n",
              "      <td>Кира</td>\n",
              "      <td>22</td>\n",
              "      <td>Тюмень</td>\n",
              "      <td>ultra</td>\n",
              "      <td>2694.783254</td>\n",
              "      <td>18.511000</td>\n",
              "      <td>2021-08-01</td>\n",
              "      <td>8</td>\n",
              "      <td>6</td>\n",
              "      <td>0</td>\n",
              "      <td>199</td>\n",
              "    </tr>\n",
              "    <tr>\n",
              "      <th>4</th>\n",
              "      <td>1</td>\n",
              "      <td>Кира</td>\n",
              "      <td>22</td>\n",
              "      <td>Тюмень</td>\n",
              "      <td>ultra</td>\n",
              "      <td>4028.687306</td>\n",
              "      <td>26.265803</td>\n",
              "      <td>2021-08-01</td>\n",
              "      <td>8</td>\n",
              "      <td>6</td>\n",
              "      <td>0</td>\n",
              "      <td>199</td>\n",
              "    </tr>\n",
              "    <tr>\n",
              "      <th>...</th>\n",
              "      <td>...</td>\n",
              "      <td>...</td>\n",
              "      <td>...</td>\n",
              "      <td>...</td>\n",
              "      <td>...</td>\n",
              "      <td>...</td>\n",
              "      <td>...</td>\n",
              "      <td>...</td>\n",
              "      <td>...</td>\n",
              "      <td>...</td>\n",
              "      <td>...</td>\n",
              "      <td>...</td>\n",
              "    </tr>\n",
              "    <tr>\n",
              "      <th>18063</th>\n",
              "      <td>1534</td>\n",
              "      <td>Альберт</td>\n",
              "      <td>25</td>\n",
              "      <td>Краснодар</td>\n",
              "      <td>free</td>\n",
              "      <td>3781.098080</td>\n",
              "      <td>19.822962</td>\n",
              "      <td>2021-11-01</td>\n",
              "      <td>11</td>\n",
              "      <td>8</td>\n",
              "      <td>50</td>\n",
              "      <td>0</td>\n",
              "    </tr>\n",
              "    <tr>\n",
              "      <th>18064</th>\n",
              "      <td>1534</td>\n",
              "      <td>Альберт</td>\n",
              "      <td>25</td>\n",
              "      <td>Краснодар</td>\n",
              "      <td>free</td>\n",
              "      <td>2840.423057</td>\n",
              "      <td>21.409799</td>\n",
              "      <td>2021-11-01</td>\n",
              "      <td>11</td>\n",
              "      <td>8</td>\n",
              "      <td>50</td>\n",
              "      <td>0</td>\n",
              "    </tr>\n",
              "    <tr>\n",
              "      <th>18065</th>\n",
              "      <td>1534</td>\n",
              "      <td>Альберт</td>\n",
              "      <td>25</td>\n",
              "      <td>Краснодар</td>\n",
              "      <td>free</td>\n",
              "      <td>3826.185507</td>\n",
              "      <td>18.435051</td>\n",
              "      <td>2021-11-01</td>\n",
              "      <td>11</td>\n",
              "      <td>8</td>\n",
              "      <td>50</td>\n",
              "      <td>0</td>\n",
              "    </tr>\n",
              "    <tr>\n",
              "      <th>18066</th>\n",
              "      <td>1534</td>\n",
              "      <td>Альберт</td>\n",
              "      <td>25</td>\n",
              "      <td>Краснодар</td>\n",
              "      <td>free</td>\n",
              "      <td>2902.308661</td>\n",
              "      <td>16.674362</td>\n",
              "      <td>2021-11-01</td>\n",
              "      <td>11</td>\n",
              "      <td>8</td>\n",
              "      <td>50</td>\n",
              "      <td>0</td>\n",
              "    </tr>\n",
              "    <tr>\n",
              "      <th>18067</th>\n",
              "      <td>1534</td>\n",
              "      <td>Альберт</td>\n",
              "      <td>25</td>\n",
              "      <td>Краснодар</td>\n",
              "      <td>free</td>\n",
              "      <td>2371.711192</td>\n",
              "      <td>15.893917</td>\n",
              "      <td>2021-12-01</td>\n",
              "      <td>12</td>\n",
              "      <td>8</td>\n",
              "      <td>50</td>\n",
              "      <td>0</td>\n",
              "    </tr>\n",
              "  </tbody>\n",
              "</table>\n",
              "<p>18068 rows × 12 columns</p>\n",
              "</div>"
            ],
            "text/plain": [
              "       user_id     name  age       city subscription_type     distance  \\\n",
              "0            1     Кира   22     Тюмень             ultra  4409.919140   \n",
              "1            1     Кира   22     Тюмень             ultra  2617.592153   \n",
              "2            1     Кира   22     Тюмень             ultra   754.159807   \n",
              "3            1     Кира   22     Тюмень             ultra  2694.783254   \n",
              "4            1     Кира   22     Тюмень             ultra  4028.687306   \n",
              "...        ...      ...  ...        ...               ...          ...   \n",
              "18063     1534  Альберт   25  Краснодар              free  3781.098080   \n",
              "18064     1534  Альберт   25  Краснодар              free  2840.423057   \n",
              "18065     1534  Альберт   25  Краснодар              free  3826.185507   \n",
              "18066     1534  Альберт   25  Краснодар              free  2902.308661   \n",
              "18067     1534  Альберт   25  Краснодар              free  2371.711192   \n",
              "\n",
              "        duration       date  month  minute_price  start_ride_price  \\\n",
              "0      25.599769 2021-01-01      1             6                 0   \n",
              "1      15.816871 2021-01-01      1             6                 0   \n",
              "2       6.232113 2021-04-01      4             6                 0   \n",
              "3      18.511000 2021-08-01      8             6                 0   \n",
              "4      26.265803 2021-08-01      8             6                 0   \n",
              "...          ...        ...    ...           ...               ...   \n",
              "18063  19.822962 2021-11-01     11             8                50   \n",
              "18064  21.409799 2021-11-01     11             8                50   \n",
              "18065  18.435051 2021-11-01     11             8                50   \n",
              "18066  16.674362 2021-11-01     11             8                50   \n",
              "18067  15.893917 2021-12-01     12             8                50   \n",
              "\n",
              "       subscription_fee  \n",
              "0                   199  \n",
              "1                   199  \n",
              "2                   199  \n",
              "3                   199  \n",
              "4                   199  \n",
              "...                 ...  \n",
              "18063                 0  \n",
              "18064                 0  \n",
              "18065                 0  \n",
              "18066                 0  \n",
              "18067                 0  \n",
              "\n",
              "[18068 rows x 12 columns]"
            ]
          },
          "execution_count": 29,
          "metadata": {},
          "output_type": "execute_result"
        }
      ],
      "execution_count": 29
    },
    {
      "id": "f3b11658",
      "cell_type": "code",
      "source": "# создаем новый столбец с округленной продолжительностью поездки\nmerged_data['duration_round'] = np.ceil(merged_data['duration'])\n\n# группируем данные по user_id и месяцу\ngrouped_trips = merged_data.groupby(['user_id', 'month']) \\\n                            .agg({'distance': 'sum',\n                                  'user_id': 'count',\n                                  'duration_round': 'sum',\n                                  'subscription_fee': 'first',\n                                  'minute_price': 'first',\n                                  'start_ride_price': 'first'})\n\ngrouped_trips.columns = ['total_distance', 'trip_count', 'total_time', 'sub_fee', 'min_price', 'start_price']\ngrouped_trips = grouped_trips.reset_index()\n\ngrouped_trips = pd.merge(grouped_trips, users[['user_id', 'subscription_type']], on='user_id', how='left')\n\ngrouped_trips.columns = ['user_id', 'month', 'total_distance',\n                         'trip_count', 'total_time', 'sub_fee',\n                         'min_price', 'start_price', 'sub_type']\ngrouped_trips",
      "metadata": {},
      "outputs": [
        {
          "data": {
            "text/html": [
              "<div>\n",
              "<style scoped>\n",
              "    .dataframe tbody tr th:only-of-type {\n",
              "        vertical-align: middle;\n",
              "    }\n",
              "\n",
              "    .dataframe tbody tr th {\n",
              "        vertical-align: top;\n",
              "    }\n",
              "\n",
              "    .dataframe thead th {\n",
              "        text-align: right;\n",
              "    }\n",
              "</style>\n",
              "<table border=\"1\" class=\"dataframe\">\n",
              "  <thead>\n",
              "    <tr style=\"text-align: right;\">\n",
              "      <th></th>\n",
              "      <th>user_id</th>\n",
              "      <th>month</th>\n",
              "      <th>total_distance</th>\n",
              "      <th>trip_count</th>\n",
              "      <th>total_time</th>\n",
              "      <th>sub_fee</th>\n",
              "      <th>min_price</th>\n",
              "      <th>start_price</th>\n",
              "      <th>sub_type</th>\n",
              "    </tr>\n",
              "  </thead>\n",
              "  <tbody>\n",
              "    <tr>\n",
              "      <th>0</th>\n",
              "      <td>1</td>\n",
              "      <td>1</td>\n",
              "      <td>7027.511294</td>\n",
              "      <td>2</td>\n",
              "      <td>42.0</td>\n",
              "      <td>199</td>\n",
              "      <td>6</td>\n",
              "      <td>0</td>\n",
              "      <td>ultra</td>\n",
              "    </tr>\n",
              "    <tr>\n",
              "      <th>1</th>\n",
              "      <td>1</td>\n",
              "      <td>4</td>\n",
              "      <td>754.159807</td>\n",
              "      <td>1</td>\n",
              "      <td>7.0</td>\n",
              "      <td>199</td>\n",
              "      <td>6</td>\n",
              "      <td>0</td>\n",
              "      <td>ultra</td>\n",
              "    </tr>\n",
              "    <tr>\n",
              "      <th>2</th>\n",
              "      <td>1</td>\n",
              "      <td>8</td>\n",
              "      <td>6723.470560</td>\n",
              "      <td>2</td>\n",
              "      <td>46.0</td>\n",
              "      <td>199</td>\n",
              "      <td>6</td>\n",
              "      <td>0</td>\n",
              "      <td>ultra</td>\n",
              "    </tr>\n",
              "    <tr>\n",
              "      <th>3</th>\n",
              "      <td>1</td>\n",
              "      <td>10</td>\n",
              "      <td>5809.911100</td>\n",
              "      <td>2</td>\n",
              "      <td>32.0</td>\n",
              "      <td>199</td>\n",
              "      <td>6</td>\n",
              "      <td>0</td>\n",
              "      <td>ultra</td>\n",
              "    </tr>\n",
              "    <tr>\n",
              "      <th>4</th>\n",
              "      <td>1</td>\n",
              "      <td>11</td>\n",
              "      <td>7003.499363</td>\n",
              "      <td>3</td>\n",
              "      <td>56.0</td>\n",
              "      <td>199</td>\n",
              "      <td>6</td>\n",
              "      <td>0</td>\n",
              "      <td>ultra</td>\n",
              "    </tr>\n",
              "    <tr>\n",
              "      <th>...</th>\n",
              "      <td>...</td>\n",
              "      <td>...</td>\n",
              "      <td>...</td>\n",
              "      <td>...</td>\n",
              "      <td>...</td>\n",
              "      <td>...</td>\n",
              "      <td>...</td>\n",
              "      <td>...</td>\n",
              "      <td>...</td>\n",
              "    </tr>\n",
              "    <tr>\n",
              "      <th>11326</th>\n",
              "      <td>1534</td>\n",
              "      <td>6</td>\n",
              "      <td>3409.468534</td>\n",
              "      <td>2</td>\n",
              "      <td>26.0</td>\n",
              "      <td>0</td>\n",
              "      <td>8</td>\n",
              "      <td>50</td>\n",
              "      <td>free</td>\n",
              "    </tr>\n",
              "    <tr>\n",
              "      <th>11327</th>\n",
              "      <td>1534</td>\n",
              "      <td>8</td>\n",
              "      <td>7622.453034</td>\n",
              "      <td>2</td>\n",
              "      <td>48.0</td>\n",
              "      <td>0</td>\n",
              "      <td>8</td>\n",
              "      <td>50</td>\n",
              "      <td>free</td>\n",
              "    </tr>\n",
              "    <tr>\n",
              "      <th>11328</th>\n",
              "      <td>1534</td>\n",
              "      <td>9</td>\n",
              "      <td>4928.173852</td>\n",
              "      <td>1</td>\n",
              "      <td>23.0</td>\n",
              "      <td>0</td>\n",
              "      <td>8</td>\n",
              "      <td>50</td>\n",
              "      <td>free</td>\n",
              "    </tr>\n",
              "    <tr>\n",
              "      <th>11329</th>\n",
              "      <td>1534</td>\n",
              "      <td>11</td>\n",
              "      <td>13350.015305</td>\n",
              "      <td>4</td>\n",
              "      <td>78.0</td>\n",
              "      <td>0</td>\n",
              "      <td>8</td>\n",
              "      <td>50</td>\n",
              "      <td>free</td>\n",
              "    </tr>\n",
              "    <tr>\n",
              "      <th>11330</th>\n",
              "      <td>1534</td>\n",
              "      <td>12</td>\n",
              "      <td>2371.711192</td>\n",
              "      <td>1</td>\n",
              "      <td>16.0</td>\n",
              "      <td>0</td>\n",
              "      <td>8</td>\n",
              "      <td>50</td>\n",
              "      <td>free</td>\n",
              "    </tr>\n",
              "  </tbody>\n",
              "</table>\n",
              "<p>11331 rows × 9 columns</p>\n",
              "</div>"
            ],
            "text/plain": [
              "       user_id  month  total_distance  trip_count  total_time  sub_fee  \\\n",
              "0            1      1     7027.511294           2        42.0      199   \n",
              "1            1      4      754.159807           1         7.0      199   \n",
              "2            1      8     6723.470560           2        46.0      199   \n",
              "3            1     10     5809.911100           2        32.0      199   \n",
              "4            1     11     7003.499363           3        56.0      199   \n",
              "...        ...    ...             ...         ...         ...      ...   \n",
              "11326     1534      6     3409.468534           2        26.0        0   \n",
              "11327     1534      8     7622.453034           2        48.0        0   \n",
              "11328     1534      9     4928.173852           1        23.0        0   \n",
              "11329     1534     11    13350.015305           4        78.0        0   \n",
              "11330     1534     12     2371.711192           1        16.0        0   \n",
              "\n",
              "       min_price  start_price sub_type  \n",
              "0              6            0    ultra  \n",
              "1              6            0    ultra  \n",
              "2              6            0    ultra  \n",
              "3              6            0    ultra  \n",
              "4              6            0    ultra  \n",
              "...          ...          ...      ...  \n",
              "11326          8           50     free  \n",
              "11327          8           50     free  \n",
              "11328          8           50     free  \n",
              "11329          8           50     free  \n",
              "11330          8           50     free  \n",
              "\n",
              "[11331 rows x 9 columns]"
            ]
          },
          "execution_count": 31,
          "metadata": {},
          "output_type": "execute_result"
        }
      ],
      "execution_count": 31
    },
    {
      "id": "5bcb2df6",
      "cell_type": "code",
      "source": "def my_func(row):\n    return row['total_time'] * row['min_price'] + row['trip_count'] * row['start_price'] + row['sub_fee']\n\ngrouped_trips['cost'] = grouped_trips.apply(my_func, axis=1)\ngrouped_trips",
      "metadata": {},
      "outputs": [
        {
          "data": {
            "text/html": [
              "<div>\n",
              "<style scoped>\n",
              "    .dataframe tbody tr th:only-of-type {\n",
              "        vertical-align: middle;\n",
              "    }\n",
              "\n",
              "    .dataframe tbody tr th {\n",
              "        vertical-align: top;\n",
              "    }\n",
              "\n",
              "    .dataframe thead th {\n",
              "        text-align: right;\n",
              "    }\n",
              "</style>\n",
              "<table border=\"1\" class=\"dataframe\">\n",
              "  <thead>\n",
              "    <tr style=\"text-align: right;\">\n",
              "      <th></th>\n",
              "      <th>user_id</th>\n",
              "      <th>month</th>\n",
              "      <th>total_distance</th>\n",
              "      <th>trip_count</th>\n",
              "      <th>total_time</th>\n",
              "      <th>sub_fee</th>\n",
              "      <th>min_price</th>\n",
              "      <th>start_price</th>\n",
              "      <th>sub_type</th>\n",
              "      <th>cost</th>\n",
              "    </tr>\n",
              "  </thead>\n",
              "  <tbody>\n",
              "    <tr>\n",
              "      <th>0</th>\n",
              "      <td>1</td>\n",
              "      <td>1</td>\n",
              "      <td>7027.511294</td>\n",
              "      <td>2</td>\n",
              "      <td>42.0</td>\n",
              "      <td>199</td>\n",
              "      <td>6</td>\n",
              "      <td>0</td>\n",
              "      <td>ultra</td>\n",
              "      <td>451.0</td>\n",
              "    </tr>\n",
              "    <tr>\n",
              "      <th>1</th>\n",
              "      <td>1</td>\n",
              "      <td>4</td>\n",
              "      <td>754.159807</td>\n",
              "      <td>1</td>\n",
              "      <td>7.0</td>\n",
              "      <td>199</td>\n",
              "      <td>6</td>\n",
              "      <td>0</td>\n",
              "      <td>ultra</td>\n",
              "      <td>241.0</td>\n",
              "    </tr>\n",
              "    <tr>\n",
              "      <th>2</th>\n",
              "      <td>1</td>\n",
              "      <td>8</td>\n",
              "      <td>6723.470560</td>\n",
              "      <td>2</td>\n",
              "      <td>46.0</td>\n",
              "      <td>199</td>\n",
              "      <td>6</td>\n",
              "      <td>0</td>\n",
              "      <td>ultra</td>\n",
              "      <td>475.0</td>\n",
              "    </tr>\n",
              "    <tr>\n",
              "      <th>3</th>\n",
              "      <td>1</td>\n",
              "      <td>10</td>\n",
              "      <td>5809.911100</td>\n",
              "      <td>2</td>\n",
              "      <td>32.0</td>\n",
              "      <td>199</td>\n",
              "      <td>6</td>\n",
              "      <td>0</td>\n",
              "      <td>ultra</td>\n",
              "      <td>391.0</td>\n",
              "    </tr>\n",
              "    <tr>\n",
              "      <th>4</th>\n",
              "      <td>1</td>\n",
              "      <td>11</td>\n",
              "      <td>7003.499363</td>\n",
              "      <td>3</td>\n",
              "      <td>56.0</td>\n",
              "      <td>199</td>\n",
              "      <td>6</td>\n",
              "      <td>0</td>\n",
              "      <td>ultra</td>\n",
              "      <td>535.0</td>\n",
              "    </tr>\n",
              "    <tr>\n",
              "      <th>...</th>\n",
              "      <td>...</td>\n",
              "      <td>...</td>\n",
              "      <td>...</td>\n",
              "      <td>...</td>\n",
              "      <td>...</td>\n",
              "      <td>...</td>\n",
              "      <td>...</td>\n",
              "      <td>...</td>\n",
              "      <td>...</td>\n",
              "      <td>...</td>\n",
              "    </tr>\n",
              "    <tr>\n",
              "      <th>11326</th>\n",
              "      <td>1534</td>\n",
              "      <td>6</td>\n",
              "      <td>3409.468534</td>\n",
              "      <td>2</td>\n",
              "      <td>26.0</td>\n",
              "      <td>0</td>\n",
              "      <td>8</td>\n",
              "      <td>50</td>\n",
              "      <td>free</td>\n",
              "      <td>308.0</td>\n",
              "    </tr>\n",
              "    <tr>\n",
              "      <th>11327</th>\n",
              "      <td>1534</td>\n",
              "      <td>8</td>\n",
              "      <td>7622.453034</td>\n",
              "      <td>2</td>\n",
              "      <td>48.0</td>\n",
              "      <td>0</td>\n",
              "      <td>8</td>\n",
              "      <td>50</td>\n",
              "      <td>free</td>\n",
              "      <td>484.0</td>\n",
              "    </tr>\n",
              "    <tr>\n",
              "      <th>11328</th>\n",
              "      <td>1534</td>\n",
              "      <td>9</td>\n",
              "      <td>4928.173852</td>\n",
              "      <td>1</td>\n",
              "      <td>23.0</td>\n",
              "      <td>0</td>\n",
              "      <td>8</td>\n",
              "      <td>50</td>\n",
              "      <td>free</td>\n",
              "      <td>234.0</td>\n",
              "    </tr>\n",
              "    <tr>\n",
              "      <th>11329</th>\n",
              "      <td>1534</td>\n",
              "      <td>11</td>\n",
              "      <td>13350.015305</td>\n",
              "      <td>4</td>\n",
              "      <td>78.0</td>\n",
              "      <td>0</td>\n",
              "      <td>8</td>\n",
              "      <td>50</td>\n",
              "      <td>free</td>\n",
              "      <td>824.0</td>\n",
              "    </tr>\n",
              "    <tr>\n",
              "      <th>11330</th>\n",
              "      <td>1534</td>\n",
              "      <td>12</td>\n",
              "      <td>2371.711192</td>\n",
              "      <td>1</td>\n",
              "      <td>16.0</td>\n",
              "      <td>0</td>\n",
              "      <td>8</td>\n",
              "      <td>50</td>\n",
              "      <td>free</td>\n",
              "      <td>178.0</td>\n",
              "    </tr>\n",
              "  </tbody>\n",
              "</table>\n",
              "<p>11331 rows × 10 columns</p>\n",
              "</div>"
            ],
            "text/plain": [
              "       user_id  month  total_distance  trip_count  total_time  sub_fee  \\\n",
              "0            1      1     7027.511294           2        42.0      199   \n",
              "1            1      4      754.159807           1         7.0      199   \n",
              "2            1      8     6723.470560           2        46.0      199   \n",
              "3            1     10     5809.911100           2        32.0      199   \n",
              "4            1     11     7003.499363           3        56.0      199   \n",
              "...        ...    ...             ...         ...         ...      ...   \n",
              "11326     1534      6     3409.468534           2        26.0        0   \n",
              "11327     1534      8     7622.453034           2        48.0        0   \n",
              "11328     1534      9     4928.173852           1        23.0        0   \n",
              "11329     1534     11    13350.015305           4        78.0        0   \n",
              "11330     1534     12     2371.711192           1        16.0        0   \n",
              "\n",
              "       min_price  start_price sub_type   cost  \n",
              "0              6            0    ultra  451.0  \n",
              "1              6            0    ultra  241.0  \n",
              "2              6            0    ultra  475.0  \n",
              "3              6            0    ultra  391.0  \n",
              "4              6            0    ultra  535.0  \n",
              "...          ...          ...      ...    ...  \n",
              "11326          8           50     free  308.0  \n",
              "11327          8           50     free  484.0  \n",
              "11328          8           50     free  234.0  \n",
              "11329          8           50     free  824.0  \n",
              "11330          8           50     free  178.0  \n",
              "\n",
              "[11331 rows x 10 columns]"
            ]
          },
          "execution_count": 32,
          "metadata": {},
          "output_type": "execute_result"
        }
      ],
      "execution_count": 32
    },
    {
      "id": "8be12f2c",
      "cell_type": "markdown",
      "source": "__Добавлен столбец с подсчётом выручки ползьователей по месяцам;__",
      "metadata": {}
    },
    {
      "id": "3a901cbd",
      "cell_type": "markdown",
      "source": "#### Шаг 6. Проверка гипотез",
      "metadata": {}
    },
    {
      "id": "557c6e17",
      "cell_type": "markdown",
      "source": "__6.1 Тратят ли пользователи с подпиской больше времени на поездки?__\n\nH0: Средние значения длительности поездок пользователей с подпиской и без подписки равны\n<br>H1: Среднее значение длительности поездок пользователей с подпиской больше, чем ползователей без подписки",
      "metadata": {}
    },
    {
      "id": "ccc6bd46",
      "cell_type": "code",
      "source": "# разделение данных на два DataFrame: подписчики и не подписчики\nsubscribers = merged_data[merged_data['subscription_type'] == 'ultra']\nnon_subscribers = merged_data[merged_data['subscription_type'] == 'free']\n\n# проведение t-теста\nstat, p = ttest_ind(subscribers['duration'], non_subscribers['duration'], alternative='greater')\n\n# вывод результатов теста\nprint(\"sub mean:\", subscribers['duration'].mean())\nprint(\"non_sub mean:\", non_subscribers['duration'].mean())\nprint(\"p-value:\", p)\nif p < 0.05:\n    print(\"Отвергаем нулевую гипотезу. Среднее значение длительности поездок пользователей с подпиской не меньше, чем у ползователей без подписки.\")\nelse:\n    print(\"Не удалось отвергнуть нулевую гипотезу. Средние значения длительности поездок пользователей с подпиской и без подписки равны.\")",
      "metadata": {},
      "outputs": [
        {
          "name": "stdout",
          "output_type": "stream",
          "text": [
            "sub mean: 18.54198516280583\n",
            "non_sub mean: 17.39090929866399\n",
            "p-value: 1.2804098316645618e-34\n",
            "Отвергаем нулевую гипотезу. Среднее значение длительности поездок пользователей с подпиской не меньше, чем у ползователей без подписки.\n"
          ]
        }
      ],
      "execution_count": 33
    },
    {
      "id": "8f1c186a",
      "cell_type": "markdown",
      "source": "<b>6.2 Можно ли сказать, что расстояние, которое проезжают пользователи с подпиской за одну поездку, не превышает 3130 метров?</b>\n\nH0: Расстояние, которое проезжают пользователи с подпиской равно 3130 метров\n<br>H1: Расстояние, которое проехжают пользователи с подпиской больше 3130 метров",
      "metadata": {}
    },
    {
      "id": "9aa23cdd",
      "cell_type": "code",
      "source": "# проведение одновыборочного t-теста\n\nstat, p = ttest_1samp(subscribers['distance'], 3130, alternative='greater')\n\n# вывод результатов теста\nprint(\"sub mean:\", subscribers['distance'].mean())\nprint(\"p-value:\", p)\nif p < 0.05:\n    print(\"Отвергаем нулевую гипотезу. Расстояние, которое проехжают пользователи с подпиской больше 3130 метров\")\nelse:\n    print(\"Не удалось отвергнуть нулевую гипотезу. Расстояние, которое проезжают пользователи с подпиской равно 3130 метров\")",
      "metadata": {},
      "outputs": [
        {
          "name": "stdout",
          "output_type": "stream",
          "text": [
            "sub mean: 3115.4453880370247\n",
            "p-value: 0.9195368847849785\n",
            "Не удалось отвергнуть нулевую гипотезу. Расстояние, которое проезжают пользователи с подпиской равно 3130 метров\n"
          ]
        }
      ],
      "execution_count": 34
    },
    {
      "id": "b89db8b1",
      "cell_type": "markdown",
      "source": "__6.3 Будет ли помесячная выручка от пользователей с подпиской по месяцам выше, чем выручка от пользователей без подписки?__\n\nH0: Помесячная выручка от пользователей с подпиской по месяцам равна выручке от пользователей без подписки\n<br>H1: Помесячная выручка от пользователей с подпиской по месяцам выше, чем выручка от пользователей без подписки. ",
      "metadata": {}
    },
    {
      "id": "654bbfc7",
      "cell_type": "code",
      "source": "# проведение t-теста\nsubscribers = grouped_trips[grouped_trips['sub_type'] == 'ultra']\nnon_subscribers = grouped_trips[grouped_trips['sub_type'] == 'free']\n\nstat, p = ttest_ind(subscribers['cost'], non_subscribers['cost'], alternative='greater')\n\n# вывод результатов\nprint(\"sub mean:\", subscribers['cost'].mean())\nprint(\"non_sub mean:\", non_subscribers['cost'].mean())\nprint(\"p-value:\", p)\nif p < 0.05:\n    print(\"Отвергаем нулевую гипотезу. Помесячная выручка от пользователей с подпиской по месяцам выше выручки от пользователей без подписки.\")\nelse:\n    print(\"Не удалось отвергнуть нулевую гипотезу. Помесячная выручка от пользователей с подпиской по месяцам равна выручке от пользователей без подписки.\")",
      "metadata": {},
      "outputs": [
        {
          "name": "stdout",
          "output_type": "stream",
          "text": [
            "sub mean: 362.7921906022502\n",
            "non_sub mean: 328.6413651073845\n",
            "p-value: 1.8850394384715216e-31\n",
            "Отвергаем нулевую гипотезу. Помесячная выручка от пользователей с подпиской по месяцам выше выручки от пользователей без подписки.\n"
          ]
        }
      ],
      "execution_count": 35
    },
    {
      "id": "65c7631d",
      "cell_type": "markdown",
      "source": "__6.4__\n\nВыборки в задании являются зависимыми, так как для каждого пользователя в файле известны значения количества обращений до и после обновления серверов.\n\nдля проверки этой гипотезы нам бы понадобился метод **scipy.stats.ttest_rel()**\n\nГипотезы звучали бы так:\n\nH0: Количество обращений в техподдержку до обновления серверов равно количеству обращений в техподдержку после обновления серверов\n<br>H1: Количество обращений в техподдержку после обновления серверов меньше количества обращений в техподдержку до обновления серверов",
      "metadata": {}
    },
    {
      "id": "98faeefa",
      "cell_type": "markdown",
      "source": "__Общий вывод__\n\nВ этом проекте мы провели следующие исследования:\n* Обработали данные о некоторых пользователях из нескольких городов, а также об их поездках при использовании сервиса аренды самокатов GoFast\n* Для удобства собрали **все данные в одну таблицу**\n* Посчитали выручку за каждого пользователя (разделили их на пользователей с тарифом **ultra** и без подписки)\n* Графически вывели количество поездок по городам, продолжительность и дальность поездок пользователей с подпиской и без, **нашли интересные закономерности** (например, **количество поездок в Пятигорске самое большое, когда в Москве - самое низкое**, а количество подписанных пользователей составило **45.6%**)\n* Выявили, что **в среднем** пользователи проезжают ~3км, а поездка длится около 18 минут\n* **Проверили различные гипотезы относительно длительности, дальности а также выручки** и получили следующие выводы:\n    1. Средние значения длительности поездок пользователей **с подпиской и без подписки равны**\n    2. Расстояние, которое проехжают пользователи **с подпиской** больше 3130 метров\n    3. Помесячная **выручка от пользователей с подпиской по месяцам выше выручки от пользователей без подписки.**",
      "metadata": {}
    }
  ]
}