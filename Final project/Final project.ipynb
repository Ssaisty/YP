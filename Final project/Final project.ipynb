{
  "metadata": {
    "kernelspec": {
      "name": "python",
      "display_name": "Python (Pyodide)",
      "language": "python"
    },
    "language_info": {
      "codemirror_mode": {
        "name": "python",
        "version": 3
      },
      "file_extension": ".py",
      "mimetype": "text/x-python",
      "name": "python",
      "nbconvert_exporter": "python",
      "pygments_lexer": "ipython3",
      "version": "3.8"
    },
    "ExecuteTimeLog": [
      {
        "duration": 227,
        "start_time": "2024-02-19T18:22:55.116Z"
      },
      {
        "duration": 3,
        "start_time": "2024-02-19T18:22:57.178Z"
      },
      {
        "duration": 2,
        "start_time": "2024-02-19T18:23:04.573Z"
      },
      {
        "duration": 10,
        "start_time": "2024-02-19T18:23:16.291Z"
      },
      {
        "duration": 4,
        "start_time": "2024-02-19T18:23:55.258Z"
      },
      {
        "duration": 5,
        "start_time": "2024-02-19T18:24:04.559Z"
      },
      {
        "duration": 4,
        "start_time": "2024-02-19T18:25:16.786Z"
      },
      {
        "duration": 3,
        "start_time": "2024-02-19T18:25:17.013Z"
      },
      {
        "duration": 5,
        "start_time": "2024-02-19T18:25:17.535Z"
      },
      {
        "duration": 5,
        "start_time": "2024-02-19T18:25:17.923Z"
      },
      {
        "duration": 5,
        "start_time": "2024-02-19T18:25:18.229Z"
      },
      {
        "duration": 228,
        "start_time": "2024-02-19T18:29:10.801Z"
      },
      {
        "duration": 3,
        "start_time": "2024-02-19T18:29:41.403Z"
      },
      {
        "duration": 5,
        "start_time": "2024-02-19T18:29:45.942Z"
      },
      {
        "duration": 6,
        "start_time": "2024-02-19T18:30:02.000Z"
      },
      {
        "duration": 3,
        "start_time": "2024-02-19T18:40:01.983Z"
      },
      {
        "duration": 4,
        "start_time": "2024-02-19T18:40:03.818Z"
      },
      {
        "duration": 3,
        "start_time": "2024-02-19T18:41:29.316Z"
      },
      {
        "duration": 3,
        "start_time": "2024-02-19T18:41:47.512Z"
      },
      {
        "duration": 4,
        "start_time": "2024-02-19T18:41:49.270Z"
      },
      {
        "duration": 234,
        "start_time": "2024-02-19T18:50:18.633Z"
      },
      {
        "duration": 5,
        "start_time": "2024-02-19T18:50:27.046Z"
      },
      {
        "duration": 5,
        "start_time": "2024-02-19T18:50:52.952Z"
      },
      {
        "duration": 8,
        "start_time": "2024-02-19T18:51:24.061Z"
      },
      {
        "duration": 4,
        "start_time": "2024-02-19T18:54:23.545Z"
      },
      {
        "duration": 5,
        "start_time": "2024-02-19T18:55:01.132Z"
      },
      {
        "duration": 4,
        "start_time": "2024-02-19T18:56:14.877Z"
      },
      {
        "duration": 4,
        "start_time": "2024-02-19T18:56:19.540Z"
      },
      {
        "duration": 6,
        "start_time": "2024-02-19T18:58:31.648Z"
      },
      {
        "duration": 5,
        "start_time": "2024-02-19T18:58:40.672Z"
      },
      {
        "duration": 4,
        "start_time": "2024-02-19T18:58:45.304Z"
      },
      {
        "duration": 5,
        "start_time": "2024-02-19T19:03:29.719Z"
      },
      {
        "duration": 101,
        "start_time": "2024-02-20T13:31:42.763Z"
      },
      {
        "duration": 440,
        "start_time": "2024-02-20T13:31:49.263Z"
      },
      {
        "duration": 107,
        "start_time": "2024-02-20T13:34:04.607Z"
      },
      {
        "duration": 79,
        "start_time": "2024-02-20T13:35:20.885Z"
      },
      {
        "duration": 22,
        "start_time": "2024-02-20T13:35:28.234Z"
      },
      {
        "duration": 273,
        "start_time": "2024-02-20T13:37:34.922Z"
      },
      {
        "duration": 12,
        "start_time": "2024-02-20T13:39:11.793Z"
      },
      {
        "duration": 7,
        "start_time": "2024-02-20T13:39:21.636Z"
      },
      {
        "duration": 4,
        "start_time": "2024-02-20T13:39:35.371Z"
      },
      {
        "duration": 12,
        "start_time": "2024-02-20T13:39:43.980Z"
      },
      {
        "duration": 7,
        "start_time": "2024-02-20T13:40:35.609Z"
      },
      {
        "duration": 112,
        "start_time": "2024-02-20T13:40:38.380Z"
      },
      {
        "duration": 7,
        "start_time": "2024-02-20T13:40:38.549Z"
      },
      {
        "duration": 3,
        "start_time": "2024-02-20T13:41:06.204Z"
      },
      {
        "duration": 26,
        "start_time": "2024-02-20T13:41:18.226Z"
      },
      {
        "duration": 3,
        "start_time": "2024-02-20T13:44:14.853Z"
      },
      {
        "duration": 17,
        "start_time": "2024-02-20T13:44:24.496Z"
      },
      {
        "duration": 7,
        "start_time": "2024-02-20T13:44:35.781Z"
      },
      {
        "duration": 86,
        "start_time": "2024-02-20T13:44:55.024Z"
      },
      {
        "duration": 3,
        "start_time": "2024-02-20T13:44:59.213Z"
      },
      {
        "duration": 4,
        "start_time": "2024-02-20T13:45:28.239Z"
      },
      {
        "duration": 6,
        "start_time": "2024-02-20T13:45:44.919Z"
      },
      {
        "duration": 3,
        "start_time": "2024-02-20T13:45:55.795Z"
      },
      {
        "duration": 96,
        "start_time": "2024-02-20T13:46:04.381Z"
      },
      {
        "duration": 3,
        "start_time": "2024-02-20T13:46:04.513Z"
      },
      {
        "duration": 4,
        "start_time": "2024-02-20T13:46:39.682Z"
      },
      {
        "duration": 34,
        "start_time": "2024-02-20T13:47:13.194Z"
      },
      {
        "duration": 31,
        "start_time": "2024-02-20T13:47:26.187Z"
      },
      {
        "duration": 3,
        "start_time": "2024-02-20T13:48:04.276Z"
      },
      {
        "duration": 3,
        "start_time": "2024-02-20T13:48:27.745Z"
      },
      {
        "duration": 3,
        "start_time": "2024-02-20T13:48:27.954Z"
      },
      {
        "duration": 93,
        "start_time": "2024-02-20T13:48:29.934Z"
      },
      {
        "duration": 4,
        "start_time": "2024-02-20T13:48:30.309Z"
      },
      {
        "duration": 41,
        "start_time": "2024-02-20T13:49:09.052Z"
      },
      {
        "duration": 28,
        "start_time": "2024-02-20T13:53:08.090Z"
      },
      {
        "duration": 31,
        "start_time": "2024-02-20T13:53:30.390Z"
      },
      {
        "duration": 28,
        "start_time": "2024-02-20T13:53:40.522Z"
      },
      {
        "duration": 34,
        "start_time": "2024-02-20T13:53:47.393Z"
      },
      {
        "duration": 39,
        "start_time": "2024-02-20T13:53:56.665Z"
      },
      {
        "duration": 88,
        "start_time": "2024-02-20T13:56:42.182Z"
      },
      {
        "duration": 26,
        "start_time": "2024-02-20T14:34:38.893Z"
      },
      {
        "duration": 11,
        "start_time": "2024-02-20T14:34:54.691Z"
      },
      {
        "duration": 10,
        "start_time": "2024-02-20T14:44:59.312Z"
      },
      {
        "duration": 35,
        "start_time": "2024-02-20T14:45:37.461Z"
      },
      {
        "duration": 4,
        "start_time": "2024-02-20T14:46:20.022Z"
      },
      {
        "duration": 8,
        "start_time": "2024-02-20T14:47:03.603Z"
      },
      {
        "duration": 8,
        "start_time": "2024-02-20T14:47:10.282Z"
      },
      {
        "duration": 847,
        "start_time": "2024-02-20T14:58:14.726Z"
      },
      {
        "duration": 41,
        "start_time": "2024-02-20T15:02:13.364Z"
      },
      {
        "duration": 324,
        "start_time": "2024-02-20T15:02:22.763Z"
      },
      {
        "duration": 4,
        "start_time": "2024-02-20T15:03:05.172Z"
      },
      {
        "duration": 11,
        "start_time": "2024-02-20T15:03:26.119Z"
      },
      {
        "duration": 3,
        "start_time": "2024-02-20T15:03:55.488Z"
      },
      {
        "duration": 9,
        "start_time": "2024-02-20T15:04:16.599Z"
      },
      {
        "duration": 113,
        "start_time": "2024-02-20T15:04:39.972Z"
      },
      {
        "duration": 90,
        "start_time": "2024-02-20T15:04:45.311Z"
      },
      {
        "duration": 87,
        "start_time": "2024-02-20T15:05:11.423Z"
      },
      {
        "duration": 12,
        "start_time": "2024-02-20T15:10:01.160Z"
      },
      {
        "duration": 10,
        "start_time": "2024-02-20T15:10:13.262Z"
      },
      {
        "duration": 15,
        "start_time": "2024-02-20T15:13:35.858Z"
      },
      {
        "duration": 14,
        "start_time": "2024-02-20T15:16:05.740Z"
      },
      {
        "duration": 16,
        "start_time": "2024-02-20T15:17:04.692Z"
      },
      {
        "duration": 7,
        "start_time": "2024-02-20T15:18:14.645Z"
      },
      {
        "duration": 12,
        "start_time": "2024-02-20T15:18:20.932Z"
      },
      {
        "duration": 10,
        "start_time": "2024-02-20T15:18:40.972Z"
      },
      {
        "duration": 1783,
        "start_time": "2024-02-20T15:18:56.971Z"
      },
      {
        "duration": 0,
        "start_time": "2024-02-20T15:18:58.756Z"
      },
      {
        "duration": 3,
        "start_time": "2024-02-20T15:19:12.295Z"
      },
      {
        "duration": 13,
        "start_time": "2024-02-20T15:19:13.123Z"
      },
      {
        "duration": 5,
        "start_time": "2024-02-20T15:19:39.728Z"
      },
      {
        "duration": 6,
        "start_time": "2024-02-20T15:19:57.702Z"
      },
      {
        "duration": 5,
        "start_time": "2024-02-20T15:20:06.086Z"
      },
      {
        "duration": 5,
        "start_time": "2024-02-20T15:20:12.928Z"
      },
      {
        "duration": 5,
        "start_time": "2024-02-20T15:20:23.601Z"
      },
      {
        "duration": 4,
        "start_time": "2024-02-20T15:21:17.695Z"
      },
      {
        "duration": 5,
        "start_time": "2024-02-20T15:21:26.682Z"
      },
      {
        "duration": 6,
        "start_time": "2024-02-20T15:21:29.572Z"
      },
      {
        "duration": 92,
        "start_time": "2024-02-20T15:21:48.788Z"
      },
      {
        "duration": 177,
        "start_time": "2024-02-20T15:21:59.958Z"
      },
      {
        "duration": 8,
        "start_time": "2024-02-20T15:22:02.602Z"
      },
      {
        "duration": 19,
        "start_time": "2024-02-20T15:23:26.476Z"
      },
      {
        "duration": 8,
        "start_time": "2024-02-20T15:23:37.678Z"
      },
      {
        "duration": 6,
        "start_time": "2024-02-20T15:23:45.032Z"
      },
      {
        "duration": 16,
        "start_time": "2024-02-20T15:23:48.488Z"
      },
      {
        "duration": 4,
        "start_time": "2024-02-20T15:24:07.185Z"
      },
      {
        "duration": 6,
        "start_time": "2024-02-20T15:25:06.144Z"
      },
      {
        "duration": 4,
        "start_time": "2024-02-20T15:27:05.125Z"
      },
      {
        "duration": 3,
        "start_time": "2024-02-20T15:27:05.364Z"
      },
      {
        "duration": 93,
        "start_time": "2024-02-20T15:27:05.796Z"
      },
      {
        "duration": 3,
        "start_time": "2024-02-20T15:27:05.985Z"
      },
      {
        "duration": 33,
        "start_time": "2024-02-20T15:27:06.166Z"
      },
      {
        "duration": 72,
        "start_time": "2024-02-20T15:27:07.220Z"
      },
      {
        "duration": 4,
        "start_time": "2024-02-20T15:27:10.410Z"
      },
      {
        "duration": 12,
        "start_time": "2024-02-20T15:27:11.168Z"
      },
      {
        "duration": 49,
        "start_time": "2024-02-20T15:27:12.970Z"
      },
      {
        "duration": 12,
        "start_time": "2024-02-20T15:27:15.170Z"
      },
      {
        "duration": 4,
        "start_time": "2024-02-20T15:27:17.476Z"
      },
      {
        "duration": 108,
        "start_time": "2024-02-20T15:27:18.060Z"
      },
      {
        "duration": 22,
        "start_time": "2024-02-20T15:27:19.462Z"
      },
      {
        "duration": 5,
        "start_time": "2024-02-20T15:27:20.586Z"
      },
      {
        "duration": 6,
        "start_time": "2024-02-20T15:27:22.810Z"
      },
      {
        "duration": 5,
        "start_time": "2024-02-20T15:27:23.369Z"
      },
      {
        "duration": 6,
        "start_time": "2024-02-20T15:27:23.947Z"
      },
      {
        "duration": 16,
        "start_time": "2024-02-20T15:27:24.689Z"
      },
      {
        "duration": 10,
        "start_time": "2024-02-20T15:36:52.916Z"
      },
      {
        "duration": 7,
        "start_time": "2024-02-20T15:37:06.384Z"
      },
      {
        "duration": 8,
        "start_time": "2024-02-20T15:37:15.177Z"
      },
      {
        "duration": 4,
        "start_time": "2024-02-20T15:38:28.827Z"
      },
      {
        "duration": 4,
        "start_time": "2024-02-20T15:38:36.643Z"
      },
      {
        "duration": 4,
        "start_time": "2024-02-20T15:43:03.528Z"
      },
      {
        "duration": 11,
        "start_time": "2024-02-20T15:48:19.948Z"
      },
      {
        "duration": 11,
        "start_time": "2024-02-20T15:48:29.098Z"
      },
      {
        "duration": 9,
        "start_time": "2024-02-20T15:48:34.551Z"
      },
      {
        "duration": 3,
        "start_time": "2024-02-20T15:53:31.546Z"
      },
      {
        "duration": 122,
        "start_time": "2024-02-20T15:53:55.266Z"
      },
      {
        "duration": 106,
        "start_time": "2024-02-20T15:55:43.309Z"
      },
      {
        "duration": 4,
        "start_time": "2024-02-20T16:11:14.742Z"
      },
      {
        "duration": 64,
        "start_time": "2024-02-20T16:11:33.431Z"
      },
      {
        "duration": 3,
        "start_time": "2024-02-20T16:12:10.378Z"
      },
      {
        "duration": 51,
        "start_time": "2024-02-20T16:12:17.757Z"
      },
      {
        "duration": 54,
        "start_time": "2024-02-20T16:13:42.684Z"
      },
      {
        "duration": 61,
        "start_time": "2024-02-20T16:13:49.368Z"
      },
      {
        "duration": 4,
        "start_time": "2024-02-20T16:14:25.664Z"
      },
      {
        "duration": 152,
        "start_time": "2024-02-20T16:14:25.853Z"
      },
      {
        "duration": 7,
        "start_time": "2024-02-20T16:14:37.399Z"
      },
      {
        "duration": 156,
        "start_time": "2024-02-20T16:14:37.726Z"
      },
      {
        "duration": 4,
        "start_time": "2024-02-20T16:15:24.322Z"
      },
      {
        "duration": 150,
        "start_time": "2024-02-20T16:15:24.468Z"
      },
      {
        "duration": 3,
        "start_time": "2024-02-20T16:27:36.910Z"
      },
      {
        "duration": 286,
        "start_time": "2024-02-20T16:27:40.950Z"
      },
      {
        "duration": 3,
        "start_time": "2024-02-20T16:27:47.332Z"
      },
      {
        "duration": 156,
        "start_time": "2024-02-20T16:27:47.473Z"
      },
      {
        "duration": 3,
        "start_time": "2024-02-20T16:27:59.340Z"
      },
      {
        "duration": 149,
        "start_time": "2024-02-20T16:28:02.123Z"
      },
      {
        "duration": 3,
        "start_time": "2024-02-20T16:28:42.896Z"
      },
      {
        "duration": 178,
        "start_time": "2024-02-20T16:28:45.788Z"
      },
      {
        "duration": 161,
        "start_time": "2024-02-20T16:39:46.347Z"
      },
      {
        "duration": 43,
        "start_time": "2024-02-20T16:40:56.390Z"
      },
      {
        "duration": 26,
        "start_time": "2024-02-20T16:41:15.767Z"
      },
      {
        "duration": 4,
        "start_time": "2024-02-21T15:17:20.660Z"
      },
      {
        "duration": 3,
        "start_time": "2024-02-21T15:17:21.385Z"
      },
      {
        "duration": 3,
        "start_time": "2024-02-21T15:17:21.870Z"
      },
      {
        "duration": 92,
        "start_time": "2024-02-21T15:17:22.204Z"
      },
      {
        "duration": 4,
        "start_time": "2024-02-21T15:17:22.378Z"
      },
      {
        "duration": 31,
        "start_time": "2024-02-21T15:17:22.902Z"
      },
      {
        "duration": 4,
        "start_time": "2024-02-21T15:17:23.807Z"
      },
      {
        "duration": 6,
        "start_time": "2024-02-21T15:17:25.164Z"
      },
      {
        "duration": 185,
        "start_time": "2024-02-21T15:17:26.303Z"
      },
      {
        "duration": 5,
        "start_time": "2024-02-21T15:17:27.283Z"
      },
      {
        "duration": 6,
        "start_time": "2024-02-21T15:17:27.442Z"
      },
      {
        "duration": 5,
        "start_time": "2024-02-21T15:17:27.613Z"
      },
      {
        "duration": 5,
        "start_time": "2024-02-21T15:17:27.776Z"
      },
      {
        "duration": 6,
        "start_time": "2024-02-21T15:17:27.936Z"
      },
      {
        "duration": 162,
        "start_time": "2024-02-21T15:17:28.419Z"
      },
      {
        "duration": 40,
        "start_time": "2024-02-21T15:17:29.574Z"
      },
      {
        "duration": 24,
        "start_time": "2024-02-21T15:17:31.245Z"
      },
      {
        "duration": 5,
        "start_time": "2024-02-21T15:18:03.475Z"
      },
      {
        "duration": 195,
        "start_time": "2024-02-21T15:18:04.300Z"
      },
      {
        "duration": 5,
        "start_time": "2024-02-21T15:18:10.643Z"
      },
      {
        "duration": 178,
        "start_time": "2024-02-21T15:18:10.967Z"
      },
      {
        "duration": 5,
        "start_time": "2024-02-21T15:18:21.500Z"
      },
      {
        "duration": 4,
        "start_time": "2024-02-21T15:18:21.922Z"
      },
      {
        "duration": 4,
        "start_time": "2024-02-21T15:18:22.364Z"
      },
      {
        "duration": 3,
        "start_time": "2024-02-21T15:18:22.748Z"
      },
      {
        "duration": 6,
        "start_time": "2024-02-21T15:18:23.009Z"
      },
      {
        "duration": 161,
        "start_time": "2024-02-21T15:18:24.240Z"
      },
      {
        "duration": 40,
        "start_time": "2024-02-21T15:18:24.942Z"
      },
      {
        "duration": 23,
        "start_time": "2024-02-21T15:18:25.959Z"
      },
      {
        "duration": 4,
        "start_time": "2024-02-21T16:34:41.190Z"
      },
      {
        "duration": 18,
        "start_time": "2024-02-21T16:40:47.153Z"
      },
      {
        "duration": 18,
        "start_time": "2024-02-21T16:42:12.083Z"
      },
      {
        "duration": 24,
        "start_time": "2024-02-21T16:45:21.533Z"
      },
      {
        "duration": 24,
        "start_time": "2024-02-21T16:45:31.935Z"
      },
      {
        "duration": 14,
        "start_time": "2024-02-21T16:47:29.952Z"
      },
      {
        "duration": 20,
        "start_time": "2024-02-21T16:53:02.993Z"
      },
      {
        "duration": 3,
        "start_time": "2024-02-21T16:53:04.557Z"
      },
      {
        "duration": 24,
        "start_time": "2024-02-21T16:53:07.481Z"
      },
      {
        "duration": 23,
        "start_time": "2024-02-21T16:53:08.152Z"
      },
      {
        "duration": 23,
        "start_time": "2024-02-21T16:53:43.970Z"
      },
      {
        "duration": 30,
        "start_time": "2024-02-21T16:57:23.857Z"
      },
      {
        "duration": 20,
        "start_time": "2024-02-21T16:57:24.262Z"
      },
      {
        "duration": 31,
        "start_time": "2024-02-21T16:57:34.774Z"
      },
      {
        "duration": 30,
        "start_time": "2024-02-21T16:57:38.216Z"
      },
      {
        "duration": 20,
        "start_time": "2024-02-21T16:57:44.942Z"
      },
      {
        "duration": 23,
        "start_time": "2024-02-21T16:57:49.403Z"
      },
      {
        "duration": 4,
        "start_time": "2024-02-22T11:45:19.951Z"
      },
      {
        "duration": 2,
        "start_time": "2024-02-22T11:45:20.152Z"
      },
      {
        "duration": 4,
        "start_time": "2024-02-22T11:45:20.324Z"
      },
      {
        "duration": 3,
        "start_time": "2024-02-22T11:45:20.516Z"
      },
      {
        "duration": 90,
        "start_time": "2024-02-22T11:45:20.896Z"
      },
      {
        "duration": 4,
        "start_time": "2024-02-22T11:45:21.102Z"
      },
      {
        "duration": 29,
        "start_time": "2024-02-22T11:45:21.132Z"
      },
      {
        "duration": 4,
        "start_time": "2024-02-22T11:45:21.685Z"
      },
      {
        "duration": 4,
        "start_time": "2024-02-22T11:45:22.255Z"
      },
      {
        "duration": 181,
        "start_time": "2024-02-22T11:45:22.644Z"
      },
      {
        "duration": 5,
        "start_time": "2024-02-22T11:45:24.016Z"
      },
      {
        "duration": 6,
        "start_time": "2024-02-22T11:45:25.077Z"
      },
      {
        "duration": 9,
        "start_time": "2024-02-22T11:45:25.084Z"
      },
      {
        "duration": 9,
        "start_time": "2024-02-22T12:43:28.360Z"
      },
      {
        "duration": 6,
        "start_time": "2024-02-22T12:48:20.401Z"
      },
      {
        "duration": 14,
        "start_time": "2024-02-22T12:48:25.636Z"
      },
      {
        "duration": 167,
        "start_time": "2024-02-22T12:49:18.407Z"
      },
      {
        "duration": 47,
        "start_time": "2024-02-22T12:49:18.973Z"
      },
      {
        "duration": 30,
        "start_time": "2024-02-22T12:49:19.265Z"
      },
      {
        "duration": 18,
        "start_time": "2024-02-22T12:49:19.959Z"
      },
      {
        "duration": 3,
        "start_time": "2024-02-22T12:49:20.099Z"
      },
      {
        "duration": 24,
        "start_time": "2024-02-22T12:49:20.749Z"
      },
      {
        "duration": 20,
        "start_time": "2024-02-22T12:49:20.901Z"
      },
      {
        "duration": 9,
        "start_time": "2024-02-22T12:53:24.871Z"
      },
      {
        "duration": 5,
        "start_time": "2024-02-22T12:54:50.294Z"
      },
      {
        "duration": 13,
        "start_time": "2024-02-22T12:55:04.194Z"
      },
      {
        "duration": 3,
        "start_time": "2024-02-22T13:01:01.575Z"
      },
      {
        "duration": 2,
        "start_time": "2024-02-22T13:01:01.717Z"
      },
      {
        "duration": 3,
        "start_time": "2024-02-22T13:01:01.863Z"
      },
      {
        "duration": 3,
        "start_time": "2024-02-22T13:01:02.009Z"
      },
      {
        "duration": 94,
        "start_time": "2024-02-22T13:01:02.310Z"
      },
      {
        "duration": 4,
        "start_time": "2024-02-22T13:01:02.462Z"
      },
      {
        "duration": 32,
        "start_time": "2024-02-22T13:01:02.615Z"
      },
      {
        "duration": 4,
        "start_time": "2024-02-22T13:01:03.095Z"
      },
      {
        "duration": 5,
        "start_time": "2024-02-22T13:01:03.556Z"
      },
      {
        "duration": 189,
        "start_time": "2024-02-22T13:01:07.836Z"
      },
      {
        "duration": 5,
        "start_time": "2024-02-22T13:01:09.997Z"
      },
      {
        "duration": 6,
        "start_time": "2024-02-22T13:01:10.312Z"
      },
      {
        "duration": 5,
        "start_time": "2024-02-22T13:01:10.653Z"
      },
      {
        "duration": 6,
        "start_time": "2024-02-22T13:01:11.166Z"
      },
      {
        "duration": 5,
        "start_time": "2024-02-22T13:01:11.493Z"
      },
      {
        "duration": 13,
        "start_time": "2024-02-22T13:01:12.067Z"
      },
      {
        "duration": 4,
        "start_time": "2024-02-22T13:01:12.840Z"
      },
      {
        "duration": 15,
        "start_time": "2024-02-22T13:01:13.027Z"
      },
      {
        "duration": 184,
        "start_time": "2024-02-22T13:01:13.653Z"
      },
      {
        "duration": 41,
        "start_time": "2024-02-22T13:01:16.487Z"
      },
      {
        "duration": 23,
        "start_time": "2024-02-22T13:01:18.447Z"
      },
      {
        "duration": 20,
        "start_time": "2024-02-22T13:01:24.037Z"
      },
      {
        "duration": 4,
        "start_time": "2024-02-22T13:01:24.806Z"
      },
      {
        "duration": 25,
        "start_time": "2024-02-22T13:01:25.244Z"
      },
      {
        "duration": 23,
        "start_time": "2024-02-22T13:01:25.926Z"
      },
      {
        "duration": 3,
        "start_time": "2024-02-22T13:01:53.408Z"
      },
      {
        "duration": 25,
        "start_time": "2024-02-22T13:01:54.346Z"
      },
      {
        "duration": 7,
        "start_time": "2024-02-22T13:01:54.496Z"
      },
      {
        "duration": 25,
        "start_time": "2024-02-22T13:01:55.388Z"
      },
      {
        "duration": 4,
        "start_time": "2024-02-22T13:01:55.574Z"
      },
      {
        "duration": 24,
        "start_time": "2024-02-22T13:01:55.692Z"
      },
      {
        "duration": 4,
        "start_time": "2024-02-22T13:02:33.426Z"
      },
      {
        "duration": 4,
        "start_time": "2024-02-22T13:02:38.239Z"
      },
      {
        "duration": 9,
        "start_time": "2024-02-22T13:05:41.869Z"
      },
      {
        "duration": 6,
        "start_time": "2024-02-22T13:05:51.828Z"
      },
      {
        "duration": 3,
        "start_time": "2024-02-22T13:05:57.657Z"
      },
      {
        "duration": 15,
        "start_time": "2024-02-22T13:06:02.659Z"
      },
      {
        "duration": 18,
        "start_time": "2024-02-22T13:06:08.001Z"
      },
      {
        "duration": 4,
        "start_time": "2024-02-22T13:06:08.163Z"
      },
      {
        "duration": 16,
        "start_time": "2024-02-22T13:06:08.801Z"
      },
      {
        "duration": 15,
        "start_time": "2024-02-22T13:06:11.737Z"
      },
      {
        "duration": 3,
        "start_time": "2024-02-22T13:06:11.869Z"
      },
      {
        "duration": 26,
        "start_time": "2024-02-22T13:06:12.009Z"
      },
      {
        "duration": 24,
        "start_time": "2024-02-22T13:06:12.149Z"
      },
      {
        "duration": 5,
        "start_time": "2024-02-22T13:06:12.291Z"
      },
      {
        "duration": 6,
        "start_time": "2024-02-22T13:06:12.731Z"
      },
      {
        "duration": 18,
        "start_time": "2024-02-22T13:06:32.750Z"
      },
      {
        "duration": 4,
        "start_time": "2024-02-22T13:06:32.903Z"
      },
      {
        "duration": 26,
        "start_time": "2024-02-22T13:06:33.045Z"
      },
      {
        "duration": 24,
        "start_time": "2024-02-22T13:06:33.179Z"
      },
      {
        "duration": 4,
        "start_time": "2024-02-22T13:06:33.341Z"
      },
      {
        "duration": 6,
        "start_time": "2024-02-22T13:06:34.133Z"
      },
      {
        "duration": 1365,
        "start_time": "2024-02-23T07:45:34.835Z"
      },
      {
        "duration": 2,
        "start_time": "2024-02-23T07:45:36.202Z"
      },
      {
        "duration": 3,
        "start_time": "2024-02-23T07:45:42.583Z"
      },
      {
        "duration": 3,
        "start_time": "2024-02-23T07:45:42.995Z"
      },
      {
        "duration": 302,
        "start_time": "2024-02-23T07:45:43.667Z"
      },
      {
        "duration": 2,
        "start_time": "2024-02-23T07:45:43.971Z"
      },
      {
        "duration": 33,
        "start_time": "2024-02-23T07:45:44.209Z"
      },
      {
        "duration": 4,
        "start_time": "2024-02-23T07:45:45.241Z"
      },
      {
        "duration": 5,
        "start_time": "2024-02-23T07:45:51.210Z"
      },
      {
        "duration": 211,
        "start_time": "2024-02-23T07:45:52.771Z"
      },
      {
        "duration": 5,
        "start_time": "2024-02-23T07:45:56.461Z"
      },
      {
        "duration": 6,
        "start_time": "2024-02-23T07:45:57.120Z"
      },
      {
        "duration": 4,
        "start_time": "2024-02-23T07:45:58.726Z"
      },
      {
        "duration": 6,
        "start_time": "2024-02-23T07:46:02.350Z"
      },
      {
        "duration": 6,
        "start_time": "2024-02-23T07:46:02.752Z"
      },
      {
        "duration": 11,
        "start_time": "2024-02-23T07:46:04.012Z"
      },
      {
        "duration": 6,
        "start_time": "2024-02-23T07:46:05.512Z"
      },
      {
        "duration": 13,
        "start_time": "2024-02-23T07:46:06.662Z"
      },
      {
        "duration": 180,
        "start_time": "2024-02-23T07:46:08.793Z"
      },
      {
        "duration": 58,
        "start_time": "2024-02-23T07:46:10.719Z"
      },
      {
        "duration": 25,
        "start_time": "2024-02-23T07:46:12.011Z"
      },
      {
        "duration": 21,
        "start_time": "2024-02-23T07:46:15.074Z"
      },
      {
        "duration": 3,
        "start_time": "2024-02-23T07:46:15.547Z"
      },
      {
        "duration": 33,
        "start_time": "2024-02-23T07:46:15.931Z"
      },
      {
        "duration": 24,
        "start_time": "2024-02-23T07:46:16.437Z"
      },
      {
        "duration": 5,
        "start_time": "2024-02-23T07:46:17.041Z"
      },
      {
        "duration": 6,
        "start_time": "2024-02-23T07:46:19.788Z"
      },
      {
        "duration": 444,
        "start_time": "2024-02-23T08:44:33.549Z"
      },
      {
        "duration": 1333,
        "start_time": "2024-02-24T14:53:18.455Z"
      },
      {
        "duration": 3,
        "start_time": "2024-02-24T14:53:20.331Z"
      },
      {
        "duration": 3,
        "start_time": "2024-02-24T14:53:21.457Z"
      },
      {
        "duration": 3,
        "start_time": "2024-02-24T14:53:21.637Z"
      },
      {
        "duration": 296,
        "start_time": "2024-02-24T14:53:21.961Z"
      },
      {
        "duration": 2,
        "start_time": "2024-02-24T14:53:22.259Z"
      },
      {
        "duration": 33,
        "start_time": "2024-02-24T14:53:22.290Z"
      },
      {
        "duration": 4,
        "start_time": "2024-02-24T14:53:22.799Z"
      },
      {
        "duration": 4,
        "start_time": "2024-02-24T14:53:23.498Z"
      },
      {
        "duration": 187,
        "start_time": "2024-02-24T14:53:23.832Z"
      },
      {
        "duration": 5,
        "start_time": "2024-02-24T14:53:24.669Z"
      },
      {
        "duration": 6,
        "start_time": "2024-02-24T14:53:24.699Z"
      },
      {
        "duration": 4,
        "start_time": "2024-02-24T14:53:24.726Z"
      },
      {
        "duration": 6,
        "start_time": "2024-02-24T14:53:24.805Z"
      },
      {
        "duration": 6,
        "start_time": "2024-02-24T14:53:24.843Z"
      },
      {
        "duration": 13,
        "start_time": "2024-02-24T14:53:24.867Z"
      },
      {
        "duration": 4,
        "start_time": "2024-02-24T14:53:24.961Z"
      },
      {
        "duration": 13,
        "start_time": "2024-02-24T14:53:24.993Z"
      },
      {
        "duration": 161,
        "start_time": "2024-02-24T14:53:25.073Z"
      },
      {
        "duration": 210,
        "start_time": "2024-02-24T15:00:20.111Z"
      },
      {
        "duration": 112,
        "start_time": "2024-02-24T15:02:45.663Z"
      },
      {
        "duration": 3,
        "start_time": "2024-02-24T15:02:53.434Z"
      },
      {
        "duration": 3,
        "start_time": "2024-02-24T15:02:53.576Z"
      },
      {
        "duration": 3,
        "start_time": "2024-02-24T15:02:53.738Z"
      },
      {
        "duration": 2,
        "start_time": "2024-02-24T15:02:53.951Z"
      },
      {
        "duration": 90,
        "start_time": "2024-02-24T15:02:54.208Z"
      },
      {
        "duration": 4,
        "start_time": "2024-02-24T15:02:54.410Z"
      },
      {
        "duration": 32,
        "start_time": "2024-02-24T15:02:54.547Z"
      },
      {
        "duration": 4,
        "start_time": "2024-02-24T15:02:55.029Z"
      },
      {
        "duration": 5,
        "start_time": "2024-02-24T15:02:55.511Z"
      },
      {
        "duration": 178,
        "start_time": "2024-02-24T15:02:55.846Z"
      },
      {
        "duration": 5,
        "start_time": "2024-02-24T15:02:57.767Z"
      },
      {
        "duration": 6,
        "start_time": "2024-02-24T15:02:57.907Z"
      },
      {
        "duration": 5,
        "start_time": "2024-02-24T15:02:58.023Z"
      },
      {
        "duration": 7,
        "start_time": "2024-02-24T15:02:58.373Z"
      },
      {
        "duration": 5,
        "start_time": "2024-02-24T15:02:58.531Z"
      },
      {
        "duration": 11,
        "start_time": "2024-02-24T15:02:58.719Z"
      },
      {
        "duration": 5,
        "start_time": "2024-02-24T15:02:59.739Z"
      },
      {
        "duration": 13,
        "start_time": "2024-02-24T15:02:59.897Z"
      },
      {
        "duration": 177,
        "start_time": "2024-02-24T15:03:00.751Z"
      },
      {
        "duration": 45,
        "start_time": "2024-02-24T15:03:03.196Z"
      },
      {
        "duration": 25,
        "start_time": "2024-02-24T15:03:03.836Z"
      },
      {
        "duration": 20,
        "start_time": "2024-02-24T15:03:04.611Z"
      },
      {
        "duration": 3,
        "start_time": "2024-02-24T15:03:05.013Z"
      },
      {
        "duration": 25,
        "start_time": "2024-02-24T15:03:05.251Z"
      },
      {
        "duration": 25,
        "start_time": "2024-02-24T15:03:05.530Z"
      },
      {
        "duration": 4,
        "start_time": "2024-02-24T15:03:05.928Z"
      },
      {
        "duration": 6,
        "start_time": "2024-02-24T15:03:08.305Z"
      },
      {
        "duration": 408,
        "start_time": "2024-02-24T15:03:12.842Z"
      },
      {
        "duration": 23,
        "start_time": "2024-02-24T15:03:38.956Z"
      },
      {
        "duration": 1093,
        "start_time": "2024-02-24T15:06:05.385Z"
      },
      {
        "duration": 1196,
        "start_time": "2024-02-24T15:06:17.637Z"
      },
      {
        "duration": 1157,
        "start_time": "2024-02-24T15:06:23.627Z"
      },
      {
        "duration": 1107,
        "start_time": "2024-02-24T15:06:34.122Z"
      },
      {
        "duration": 4,
        "start_time": "2024-02-24T15:08:30.576Z"
      },
      {
        "duration": 3,
        "start_time": "2024-02-24T15:08:30.607Z"
      },
      {
        "duration": 4,
        "start_time": "2024-02-24T15:08:30.639Z"
      },
      {
        "duration": 2,
        "start_time": "2024-02-24T15:08:30.686Z"
      },
      {
        "duration": 91,
        "start_time": "2024-02-24T15:08:31.190Z"
      },
      {
        "duration": 3,
        "start_time": "2024-02-24T15:08:31.330Z"
      },
      {
        "duration": 32,
        "start_time": "2024-02-24T15:08:31.461Z"
      },
      {
        "duration": 5,
        "start_time": "2024-02-24T15:08:31.880Z"
      },
      {
        "duration": 4,
        "start_time": "2024-02-24T15:08:32.330Z"
      },
      {
        "duration": 187,
        "start_time": "2024-02-24T15:08:32.609Z"
      },
      {
        "duration": 5,
        "start_time": "2024-02-24T15:08:33.066Z"
      },
      {
        "duration": 7,
        "start_time": "2024-02-24T15:08:33.225Z"
      },
      {
        "duration": 5,
        "start_time": "2024-02-24T15:08:33.395Z"
      },
      {
        "duration": 6,
        "start_time": "2024-02-24T15:08:33.712Z"
      },
      {
        "duration": 6,
        "start_time": "2024-02-24T15:08:33.864Z"
      },
      {
        "duration": 11,
        "start_time": "2024-02-24T15:08:34.025Z"
      },
      {
        "duration": 5,
        "start_time": "2024-02-24T15:08:34.508Z"
      },
      {
        "duration": 14,
        "start_time": "2024-02-24T15:08:34.665Z"
      },
      {
        "duration": 161,
        "start_time": "2024-02-24T15:08:34.988Z"
      },
      {
        "duration": 54,
        "start_time": "2024-02-24T15:08:35.756Z"
      },
      {
        "duration": 24,
        "start_time": "2024-02-24T15:08:36.211Z"
      },
      {
        "duration": 19,
        "start_time": "2024-02-24T15:08:36.804Z"
      },
      {
        "duration": 3,
        "start_time": "2024-02-24T15:08:36.981Z"
      },
      {
        "duration": 25,
        "start_time": "2024-02-24T15:08:37.153Z"
      },
      {
        "duration": 25,
        "start_time": "2024-02-24T15:08:37.307Z"
      },
      {
        "duration": 4,
        "start_time": "2024-02-24T15:08:37.795Z"
      },
      {
        "duration": 6,
        "start_time": "2024-02-24T15:08:38.342Z"
      },
      {
        "duration": 761,
        "start_time": "2024-02-24T15:08:39.474Z"
      },
      {
        "duration": 2,
        "start_time": "2024-02-24T15:09:05.120Z"
      },
      {
        "duration": 707,
        "start_time": "2024-02-24T15:09:05.264Z"
      },
      {
        "duration": 11,
        "start_time": "2024-02-24T15:13:05.070Z"
      },
      {
        "duration": 11,
        "start_time": "2024-02-24T15:13:11.215Z"
      },
      {
        "duration": 5,
        "start_time": "2024-02-24T15:13:16.016Z"
      },
      {
        "duration": 6,
        "start_time": "2024-02-24T15:13:19.387Z"
      },
      {
        "duration": 24,
        "start_time": "2024-02-24T15:13:25.767Z"
      },
      {
        "duration": 9,
        "start_time": "2024-02-24T15:17:16.680Z"
      },
      {
        "duration": 24,
        "start_time": "2024-02-24T15:17:23.538Z"
      },
      {
        "duration": 9,
        "start_time": "2024-02-24T15:17:32.172Z"
      },
      {
        "duration": 28,
        "start_time": "2024-02-24T15:24:47.016Z"
      },
      {
        "duration": 8,
        "start_time": "2024-02-24T15:30:34.746Z"
      },
      {
        "duration": 3,
        "start_time": "2024-02-24T15:35:46.259Z"
      },
      {
        "duration": 24,
        "start_time": "2024-02-24T15:36:33.539Z"
      },
      {
        "duration": 2,
        "start_time": "2024-02-24T15:39:23.125Z"
      },
      {
        "duration": 4,
        "start_time": "2024-02-24T16:08:24.513Z"
      },
      {
        "duration": 4,
        "start_time": "2024-02-24T16:12:03.135Z"
      },
      {
        "duration": 8,
        "start_time": "2024-02-24T16:13:36.815Z"
      },
      {
        "duration": 3,
        "start_time": "2024-02-24T16:13:58.431Z"
      },
      {
        "duration": 2,
        "start_time": "2024-02-24T16:15:04.632Z"
      },
      {
        "duration": 5,
        "start_time": "2024-02-24T16:15:13.922Z"
      },
      {
        "duration": 13,
        "start_time": "2024-02-24T16:17:14.251Z"
      },
      {
        "duration": 1797,
        "start_time": "2024-02-24T16:17:18.202Z"
      },
      {
        "duration": 7,
        "start_time": "2024-02-24T16:23:52.772Z"
      },
      {
        "duration": 2,
        "start_time": "2024-02-24T16:23:59.302Z"
      },
      {
        "duration": 5,
        "start_time": "2024-02-24T16:25:38.587Z"
      },
      {
        "duration": 9,
        "start_time": "2024-02-24T16:25:42.856Z"
      },
      {
        "duration": 4,
        "start_time": "2024-02-24T16:26:18.851Z"
      },
      {
        "duration": 17,
        "start_time": "2024-02-24T16:26:19.471Z"
      },
      {
        "duration": 3,
        "start_time": "2024-02-24T16:26:42.554Z"
      },
      {
        "duration": 2,
        "start_time": "2024-02-24T16:26:42.843Z"
      },
      {
        "duration": 3,
        "start_time": "2024-02-24T16:26:43.295Z"
      },
      {
        "duration": 2,
        "start_time": "2024-02-24T16:26:43.828Z"
      },
      {
        "duration": 88,
        "start_time": "2024-02-24T16:26:44.368Z"
      },
      {
        "duration": 3,
        "start_time": "2024-02-24T16:26:44.672Z"
      },
      {
        "duration": 28,
        "start_time": "2024-02-24T16:26:45.011Z"
      },
      {
        "duration": 4,
        "start_time": "2024-02-24T16:26:45.845Z"
      },
      {
        "duration": 5,
        "start_time": "2024-02-24T16:26:47.086Z"
      },
      {
        "duration": 180,
        "start_time": "2024-02-24T16:26:47.885Z"
      },
      {
        "duration": 4,
        "start_time": "2024-02-24T16:26:48.968Z"
      },
      {
        "duration": 6,
        "start_time": "2024-02-24T16:26:49.277Z"
      },
      {
        "duration": 5,
        "start_time": "2024-02-24T16:26:49.575Z"
      },
      {
        "duration": 6,
        "start_time": "2024-02-24T16:26:50.140Z"
      },
      {
        "duration": 6,
        "start_time": "2024-02-24T16:26:50.416Z"
      },
      {
        "duration": 13,
        "start_time": "2024-02-24T16:26:50.703Z"
      },
      {
        "duration": 4,
        "start_time": "2024-02-24T16:26:51.582Z"
      },
      {
        "duration": 14,
        "start_time": "2024-02-24T16:26:51.986Z"
      },
      {
        "duration": 175,
        "start_time": "2024-02-24T16:26:52.660Z"
      },
      {
        "duration": 40,
        "start_time": "2024-02-24T16:26:54.692Z"
      },
      {
        "duration": 22,
        "start_time": "2024-02-24T16:26:55.693Z"
      },
      {
        "duration": 20,
        "start_time": "2024-02-24T16:26:56.644Z"
      },
      {
        "duration": 3,
        "start_time": "2024-02-24T16:26:57.174Z"
      },
      {
        "duration": 34,
        "start_time": "2024-02-24T16:26:57.492Z"
      },
      {
        "duration": 24,
        "start_time": "2024-02-24T16:26:58.016Z"
      },
      {
        "duration": 4,
        "start_time": "2024-02-24T16:26:59.226Z"
      },
      {
        "duration": 6,
        "start_time": "2024-02-24T16:27:15.268Z"
      },
      {
        "duration": 3,
        "start_time": "2024-02-24T16:27:20.530Z"
      },
      {
        "duration": 660,
        "start_time": "2024-02-24T16:27:20.784Z"
      },
      {
        "duration": 7,
        "start_time": "2024-02-24T16:27:22.544Z"
      },
      {
        "duration": 2,
        "start_time": "2024-02-24T16:27:22.910Z"
      },
      {
        "duration": 6,
        "start_time": "2024-02-24T16:27:23.243Z"
      },
      {
        "duration": 9,
        "start_time": "2024-02-24T16:27:29.502Z"
      },
      {
        "duration": 3,
        "start_time": "2024-02-24T16:27:30.637Z"
      },
      {
        "duration": 16,
        "start_time": "2024-02-24T16:27:31.815Z"
      },
      {
        "duration": 1103,
        "start_time": "2024-02-24T16:29:46.691Z"
      },
      {
        "duration": 18,
        "start_time": "2024-02-24T16:30:17.142Z"
      },
      {
        "duration": 1664,
        "start_time": "2024-02-25T18:56:18.547Z"
      },
      {
        "duration": 3,
        "start_time": "2024-02-25T18:56:20.213Z"
      },
      {
        "duration": 6,
        "start_time": "2024-02-25T18:56:20.218Z"
      },
      {
        "duration": 24,
        "start_time": "2024-02-25T18:56:20.225Z"
      },
      {
        "duration": 324,
        "start_time": "2024-02-25T18:56:20.251Z"
      },
      {
        "duration": 3,
        "start_time": "2024-02-25T18:56:20.577Z"
      },
      {
        "duration": 45,
        "start_time": "2024-02-25T18:56:20.582Z"
      },
      {
        "duration": 7,
        "start_time": "2024-02-25T18:56:20.630Z"
      },
      {
        "duration": 5,
        "start_time": "2024-02-25T18:56:21.184Z"
      },
      {
        "duration": 235,
        "start_time": "2024-02-25T18:56:21.674Z"
      },
      {
        "duration": 5,
        "start_time": "2024-02-25T18:56:22.372Z"
      },
      {
        "duration": 7,
        "start_time": "2024-02-25T18:56:22.620Z"
      },
      {
        "duration": 5,
        "start_time": "2024-02-25T18:56:22.827Z"
      },
      {
        "duration": 6,
        "start_time": "2024-02-25T18:56:23.249Z"
      },
      {
        "duration": 9,
        "start_time": "2024-02-25T18:56:23.496Z"
      },
      {
        "duration": 18,
        "start_time": "2024-02-25T18:56:23.704Z"
      },
      {
        "duration": 7,
        "start_time": "2024-02-25T18:56:24.390Z"
      },
      {
        "duration": 23,
        "start_time": "2024-02-25T18:56:24.581Z"
      },
      {
        "duration": 210,
        "start_time": "2024-02-25T18:56:25.040Z"
      },
      {
        "duration": 55,
        "start_time": "2024-02-25T18:56:26.133Z"
      },
      {
        "duration": 29,
        "start_time": "2024-02-25T18:56:28.119Z"
      },
      {
        "duration": 33,
        "start_time": "2024-02-25T18:58:48.289Z"
      },
      {
        "duration": 4,
        "start_time": "2024-02-25T18:58:49.553Z"
      },
      {
        "duration": 41,
        "start_time": "2024-02-25T18:58:50.773Z"
      },
      {
        "duration": 28,
        "start_time": "2024-02-25T18:58:52.571Z"
      },
      {
        "duration": 4,
        "start_time": "2024-02-25T18:59:24.606Z"
      },
      {
        "duration": 7,
        "start_time": "2024-02-25T18:59:55.190Z"
      },
      {
        "duration": 3,
        "start_time": "2024-02-25T18:59:58.532Z"
      },
      {
        "duration": 960,
        "start_time": "2024-02-25T18:59:59.031Z"
      },
      {
        "duration": 19,
        "start_time": "2024-02-25T19:00:03.478Z"
      },
      {
        "duration": 27,
        "start_time": "2024-02-25T19:07:40.529Z"
      },
      {
        "duration": 1263,
        "start_time": "2024-02-25T19:11:21.703Z"
      },
      {
        "duration": 5,
        "start_time": "2024-02-25T19:11:33.904Z"
      },
      {
        "duration": 6,
        "start_time": "2024-02-25T19:11:49.358Z"
      },
      {
        "duration": 5,
        "start_time": "2024-02-25T19:15:56.783Z"
      },
      {
        "duration": 12,
        "start_time": "2024-02-25T19:16:43.686Z"
      },
      {
        "duration": 30,
        "start_time": "2024-02-25T19:16:53.412Z"
      },
      {
        "duration": 21,
        "start_time": "2024-02-25T19:16:57.161Z"
      },
      {
        "duration": 14,
        "start_time": "2024-02-25T19:17:27.773Z"
      },
      {
        "duration": 66,
        "start_time": "2024-02-25T19:19:26.473Z"
      },
      {
        "duration": 20,
        "start_time": "2024-02-25T19:19:30.798Z"
      },
      {
        "duration": 21,
        "start_time": "2024-02-25T19:19:37.653Z"
      },
      {
        "duration": 33,
        "start_time": "2024-02-25T19:19:41.709Z"
      },
      {
        "duration": 20,
        "start_time": "2024-02-25T19:19:50.172Z"
      },
      {
        "duration": 7,
        "start_time": "2024-02-25T19:20:21.732Z"
      },
      {
        "duration": 29,
        "start_time": "2024-02-25T19:20:33.723Z"
      },
      {
        "duration": 5,
        "start_time": "2024-02-25T19:20:44.219Z"
      },
      {
        "duration": 21,
        "start_time": "2024-02-25T19:20:44.372Z"
      },
      {
        "duration": 27,
        "start_time": "2024-02-25T19:20:48.614Z"
      },
      {
        "duration": 8,
        "start_time": "2024-02-25T19:26:04.241Z"
      },
      {
        "duration": 9,
        "start_time": "2024-02-25T19:26:39.560Z"
      },
      {
        "duration": 6,
        "start_time": "2024-02-25T19:26:45.154Z"
      },
      {
        "duration": 11,
        "start_time": "2024-02-25T19:27:01.749Z"
      },
      {
        "duration": 5,
        "start_time": "2024-02-25T19:27:07.320Z"
      },
      {
        "duration": 4,
        "start_time": "2024-02-25T19:27:28.511Z"
      },
      {
        "duration": 8,
        "start_time": "2024-02-25T19:27:29.010Z"
      },
      {
        "duration": 3,
        "start_time": "2024-02-25T19:27:44.097Z"
      },
      {
        "duration": 50,
        "start_time": "2024-02-25T19:27:44.263Z"
      },
      {
        "duration": 29,
        "start_time": "2024-02-25T19:29:21.991Z"
      },
      {
        "duration": 17,
        "start_time": "2024-02-25T19:31:03.154Z"
      },
      {
        "duration": 3,
        "start_time": "2024-02-25T19:31:13.924Z"
      },
      {
        "duration": 3,
        "start_time": "2024-02-25T19:31:14.063Z"
      },
      {
        "duration": 3,
        "start_time": "2024-02-25T19:31:14.224Z"
      },
      {
        "duration": 3,
        "start_time": "2024-02-25T19:31:14.362Z"
      },
      {
        "duration": 98,
        "start_time": "2024-02-25T19:31:14.963Z"
      },
      {
        "duration": 4,
        "start_time": "2024-02-25T19:31:15.191Z"
      },
      {
        "duration": 35,
        "start_time": "2024-02-25T19:31:15.357Z"
      },
      {
        "duration": 4,
        "start_time": "2024-02-25T19:31:15.808Z"
      },
      {
        "duration": 5,
        "start_time": "2024-02-25T19:31:16.259Z"
      },
      {
        "duration": 228,
        "start_time": "2024-02-25T19:31:16.559Z"
      },
      {
        "duration": 5,
        "start_time": "2024-02-25T19:31:17.022Z"
      },
      {
        "duration": 6,
        "start_time": "2024-02-25T19:31:17.195Z"
      },
      {
        "duration": 5,
        "start_time": "2024-02-25T19:31:17.357Z"
      },
      {
        "duration": 7,
        "start_time": "2024-02-25T19:31:17.677Z"
      },
      {
        "duration": 7,
        "start_time": "2024-02-25T19:31:17.850Z"
      },
      {
        "duration": 14,
        "start_time": "2024-02-25T19:31:18.001Z"
      },
      {
        "duration": 5,
        "start_time": "2024-02-25T19:31:18.475Z"
      },
      {
        "duration": 15,
        "start_time": "2024-02-25T19:31:18.643Z"
      },
      {
        "duration": 189,
        "start_time": "2024-02-25T19:31:18.968Z"
      },
      {
        "duration": 59,
        "start_time": "2024-02-25T19:31:19.445Z"
      },
      {
        "duration": 26,
        "start_time": "2024-02-25T19:31:19.785Z"
      },
      {
        "duration": 24,
        "start_time": "2024-02-25T19:31:21.175Z"
      },
      {
        "duration": 3,
        "start_time": "2024-02-25T19:31:21.337Z"
      },
      {
        "duration": 28,
        "start_time": "2024-02-25T19:31:21.495Z"
      },
      {
        "duration": 27,
        "start_time": "2024-02-25T19:31:21.647Z"
      },
      {
        "duration": 5,
        "start_time": "2024-02-25T19:31:22.119Z"
      },
      {
        "duration": 13,
        "start_time": "2024-02-25T19:31:26.643Z"
      },
      {
        "duration": 6,
        "start_time": "2024-02-25T19:31:37.448Z"
      },
      {
        "duration": 3,
        "start_time": "2024-02-25T19:31:40.848Z"
      },
      {
        "duration": 680,
        "start_time": "2024-02-25T19:31:41.635Z"
      },
      {
        "duration": 26,
        "start_time": "2024-02-25T19:32:44.657Z"
      },
      {
        "duration": 20,
        "start_time": "2024-02-25T19:32:52.493Z"
      },
      {
        "duration": 18,
        "start_time": "2024-02-25T19:32:55.437Z"
      },
      {
        "duration": 5,
        "start_time": "2024-02-25T19:32:56.041Z"
      },
      {
        "duration": 5,
        "start_time": "2024-02-25T19:32:56.672Z"
      },
      {
        "duration": 6,
        "start_time": "2024-02-25T19:32:58.947Z"
      },
      {
        "duration": 5,
        "start_time": "2024-02-25T19:32:59.298Z"
      },
      {
        "duration": 30,
        "start_time": "2024-02-25T19:33:00.680Z"
      },
      {
        "duration": 7,
        "start_time": "2024-02-25T19:33:03.896Z"
      },
      {
        "duration": 5,
        "start_time": "2024-02-25T19:33:05.936Z"
      },
      {
        "duration": 6,
        "start_time": "2024-02-25T19:33:06.336Z"
      },
      {
        "duration": 4,
        "start_time": "2024-02-25T19:33:08.390Z"
      },
      {
        "duration": 9,
        "start_time": "2024-02-25T19:33:08.560Z"
      },
      {
        "duration": 3,
        "start_time": "2024-02-25T19:33:10.137Z"
      },
      {
        "duration": 16,
        "start_time": "2024-02-25T19:33:10.683Z"
      },
      {
        "duration": 29,
        "start_time": "2024-02-25T19:34:52.609Z"
      },
      {
        "duration": 3,
        "start_time": "2024-02-25T19:36:14.131Z"
      },
      {
        "duration": 4,
        "start_time": "2024-02-25T19:36:19.143Z"
      },
      {
        "duration": 58,
        "start_time": "2024-02-25T19:36:59.630Z"
      },
      {
        "duration": 4,
        "start_time": "2024-02-25T19:37:16.134Z"
      },
      {
        "duration": 4,
        "start_time": "2024-02-25T19:37:21.348Z"
      },
      {
        "duration": 12,
        "start_time": "2024-02-25T19:37:32.063Z"
      },
      {
        "duration": 6,
        "start_time": "2024-02-25T19:37:38.075Z"
      },
      {
        "duration": 4,
        "start_time": "2024-02-25T19:41:41.388Z"
      },
      {
        "duration": 18,
        "start_time": "2024-02-25T19:48:43.304Z"
      },
      {
        "duration": 10,
        "start_time": "2024-02-25T19:49:23.776Z"
      },
      {
        "duration": 3,
        "start_time": "2024-02-25T19:49:28.332Z"
      },
      {
        "duration": 4,
        "start_time": "2024-02-25T19:49:28.709Z"
      },
      {
        "duration": 4,
        "start_time": "2024-02-25T19:49:30.727Z"
      },
      {
        "duration": 66,
        "start_time": "2024-02-25T19:50:12.056Z"
      },
      {
        "duration": 3,
        "start_time": "2024-02-25T19:50:50.999Z"
      },
      {
        "duration": 9,
        "start_time": "2024-02-25T19:55:37.886Z"
      },
      {
        "duration": 8,
        "start_time": "2024-02-25T19:55:51.422Z"
      },
      {
        "duration": 9,
        "start_time": "2024-02-25T19:55:51.582Z"
      },
      {
        "duration": 5,
        "start_time": "2024-02-25T19:55:57.455Z"
      },
      {
        "duration": 3,
        "start_time": "2024-02-25T19:56:11.350Z"
      },
      {
        "duration": 20,
        "start_time": "2024-02-25T19:56:11.809Z"
      },
      {
        "duration": 6,
        "start_time": "2024-02-25T19:56:17.746Z"
      },
      {
        "duration": 8,
        "start_time": "2024-02-25T19:56:18.269Z"
      },
      {
        "duration": 3,
        "start_time": "2024-02-25T19:56:20.639Z"
      },
      {
        "duration": 64,
        "start_time": "2024-02-25T19:56:20.791Z"
      },
      {
        "duration": 4,
        "start_time": "2024-02-25T19:56:21.068Z"
      },
      {
        "duration": 5,
        "start_time": "2024-02-25T19:56:27.567Z"
      },
      {
        "duration": 1463,
        "start_time": "2024-02-25T19:59:32.278Z"
      },
      {
        "duration": 3,
        "start_time": "2024-02-25T19:59:33.743Z"
      },
      {
        "duration": 52,
        "start_time": "2024-02-25T19:59:33.747Z"
      },
      {
        "duration": 8,
        "start_time": "2024-02-25T19:59:33.801Z"
      },
      {
        "duration": 98,
        "start_time": "2024-02-25T19:59:33.811Z"
      },
      {
        "duration": 3,
        "start_time": "2024-02-25T19:59:33.910Z"
      },
      {
        "duration": 46,
        "start_time": "2024-02-25T19:59:33.915Z"
      },
      {
        "duration": 4,
        "start_time": "2024-02-25T19:59:33.962Z"
      },
      {
        "duration": 8,
        "start_time": "2024-02-25T19:59:33.968Z"
      },
      {
        "duration": 245,
        "start_time": "2024-02-25T19:59:33.978Z"
      },
      {
        "duration": 4,
        "start_time": "2024-02-25T19:59:34.225Z"
      },
      {
        "duration": 7,
        "start_time": "2024-02-25T19:59:34.231Z"
      },
      {
        "duration": 5,
        "start_time": "2024-02-25T19:59:34.240Z"
      },
      {
        "duration": 8,
        "start_time": "2024-02-25T19:59:34.246Z"
      },
      {
        "duration": 6,
        "start_time": "2024-02-25T19:59:34.256Z"
      },
      {
        "duration": 15,
        "start_time": "2024-02-25T19:59:34.264Z"
      },
      {
        "duration": 5,
        "start_time": "2024-02-25T19:59:34.281Z"
      },
      {
        "duration": 48,
        "start_time": "2024-02-25T19:59:34.287Z"
      },
      {
        "duration": 210,
        "start_time": "2024-02-25T19:59:34.337Z"
      },
      {
        "duration": 55,
        "start_time": "2024-02-25T19:59:34.548Z"
      },
      {
        "duration": 32,
        "start_time": "2024-02-25T19:59:34.624Z"
      },
      {
        "duration": 25,
        "start_time": "2024-02-25T19:59:34.658Z"
      },
      {
        "duration": 3,
        "start_time": "2024-02-25T19:59:34.685Z"
      },
      {
        "duration": 68,
        "start_time": "2024-02-25T19:59:34.690Z"
      },
      {
        "duration": 30,
        "start_time": "2024-02-25T19:59:34.759Z"
      },
      {
        "duration": 4,
        "start_time": "2024-02-25T19:59:34.791Z"
      },
      {
        "duration": 29,
        "start_time": "2024-02-25T19:59:34.797Z"
      },
      {
        "duration": 4,
        "start_time": "2024-02-25T19:59:34.830Z"
      },
      {
        "duration": 794,
        "start_time": "2024-02-25T19:59:34.836Z"
      },
      {
        "duration": 28,
        "start_time": "2024-02-25T19:59:35.632Z"
      },
      {
        "duration": 18,
        "start_time": "2024-02-25T19:59:35.661Z"
      },
      {
        "duration": 4,
        "start_time": "2024-02-25T19:59:35.680Z"
      },
      {
        "duration": 7,
        "start_time": "2024-02-25T19:59:35.685Z"
      },
      {
        "duration": 5,
        "start_time": "2024-02-25T19:59:35.724Z"
      },
      {
        "duration": 7,
        "start_time": "2024-02-25T19:59:35.730Z"
      },
      {
        "duration": 33,
        "start_time": "2024-02-25T19:59:35.739Z"
      },
      {
        "duration": 6,
        "start_time": "2024-02-25T19:59:35.774Z"
      },
      {
        "duration": 8,
        "start_time": "2024-02-25T19:59:35.782Z"
      },
      {
        "duration": 37,
        "start_time": "2024-02-25T19:59:35.791Z"
      },
      {
        "duration": 93,
        "start_time": "2024-02-25T19:59:35.830Z"
      },
      {
        "duration": 8,
        "start_time": "2024-02-25T19:59:35.925Z"
      },
      {
        "duration": 15,
        "start_time": "2024-02-25T19:59:35.935Z"
      },
      {
        "duration": 5,
        "start_time": "2024-02-25T19:59:35.952Z"
      },
      {
        "duration": 5,
        "start_time": "2024-02-25T19:59:35.959Z"
      },
      {
        "duration": 26,
        "start_time": "2024-02-25T19:59:35.966Z"
      },
      {
        "duration": 5,
        "start_time": "2024-02-25T19:59:35.994Z"
      },
      {
        "duration": 22,
        "start_time": "2024-02-25T19:59:36.001Z"
      },
      {
        "duration": 2,
        "start_time": "2024-02-25T19:59:36.025Z"
      },
      {
        "duration": 65,
        "start_time": "2024-02-25T19:59:36.029Z"
      },
      {
        "duration": 3,
        "start_time": "2024-02-25T19:59:36.096Z"
      },
      {
        "duration": 23,
        "start_time": "2024-02-25T20:04:19.289Z"
      },
      {
        "duration": 4,
        "start_time": "2024-02-25T20:15:07.803Z"
      },
      {
        "duration": 375,
        "start_time": "2024-02-25T20:16:15.299Z"
      },
      {
        "duration": 1741,
        "start_time": "2024-02-26T05:27:00.282Z"
      },
      {
        "duration": 3,
        "start_time": "2024-02-26T05:27:02.025Z"
      },
      {
        "duration": 54,
        "start_time": "2024-02-26T05:27:02.030Z"
      },
      {
        "duration": 67,
        "start_time": "2024-02-26T05:27:02.086Z"
      },
      {
        "duration": 353,
        "start_time": "2024-02-26T05:27:02.155Z"
      },
      {
        "duration": 2,
        "start_time": "2024-02-26T05:27:02.510Z"
      },
      {
        "duration": 76,
        "start_time": "2024-02-26T05:27:02.514Z"
      },
      {
        "duration": 5,
        "start_time": "2024-02-26T05:27:02.592Z"
      },
      {
        "duration": 30,
        "start_time": "2024-02-26T05:27:02.599Z"
      },
      {
        "duration": 233,
        "start_time": "2024-02-26T05:27:02.631Z"
      },
      {
        "duration": 6,
        "start_time": "2024-02-26T05:27:02.865Z"
      },
      {
        "duration": 18,
        "start_time": "2024-02-26T05:27:02.873Z"
      },
      {
        "duration": 13,
        "start_time": "2024-02-26T05:27:02.893Z"
      },
      {
        "duration": 18,
        "start_time": "2024-02-26T05:27:02.908Z"
      },
      {
        "duration": 12,
        "start_time": "2024-02-26T05:27:02.928Z"
      },
      {
        "duration": 19,
        "start_time": "2024-02-26T05:27:03.044Z"
      },
      {
        "duration": 6,
        "start_time": "2024-02-26T05:27:03.162Z"
      },
      {
        "duration": 21,
        "start_time": "2024-02-26T05:27:03.200Z"
      },
      {
        "duration": 219,
        "start_time": "2024-02-26T05:27:03.276Z"
      },
      {
        "duration": 71,
        "start_time": "2024-02-26T05:27:03.497Z"
      },
      {
        "duration": 25,
        "start_time": "2024-02-26T05:27:03.570Z"
      },
      {
        "duration": 23,
        "start_time": "2024-02-26T05:27:04.286Z"
      },
      {
        "duration": 3,
        "start_time": "2024-02-26T05:27:04.667Z"
      },
      {
        "duration": 30,
        "start_time": "2024-02-26T05:27:05.017Z"
      },
      {
        "duration": 27,
        "start_time": "2024-02-26T05:27:05.344Z"
      },
      {
        "duration": 4,
        "start_time": "2024-02-26T05:27:06.698Z"
      },
      {
        "duration": 6,
        "start_time": "2024-02-26T05:27:07.398Z"
      },
      {
        "duration": 2,
        "start_time": "2024-02-26T05:27:07.784Z"
      },
      {
        "duration": 877,
        "start_time": "2024-02-26T05:27:08.297Z"
      },
      {
        "duration": 26,
        "start_time": "2024-02-26T05:27:09.176Z"
      },
      {
        "duration": 34,
        "start_time": "2024-02-26T05:27:09.205Z"
      },
      {
        "duration": 3,
        "start_time": "2024-02-26T05:27:09.241Z"
      },
      {
        "duration": 5,
        "start_time": "2024-02-26T05:27:09.307Z"
      },
      {
        "duration": 5,
        "start_time": "2024-02-26T05:27:09.359Z"
      },
      {
        "duration": 4,
        "start_time": "2024-02-26T05:27:09.401Z"
      },
      {
        "duration": 22,
        "start_time": "2024-02-26T05:27:09.437Z"
      },
      {
        "duration": 8,
        "start_time": "2024-02-26T05:27:10.202Z"
      },
      {
        "duration": 5,
        "start_time": "2024-02-26T05:27:10.399Z"
      },
      {
        "duration": 8,
        "start_time": "2024-02-26T05:27:10.602Z"
      },
      {
        "duration": 4,
        "start_time": "2024-02-26T05:27:11.910Z"
      },
      {
        "duration": 4,
        "start_time": "2024-02-26T05:27:12.178Z"
      },
      {
        "duration": 4,
        "start_time": "2024-02-26T05:27:12.320Z"
      },
      {
        "duration": 5,
        "start_time": "2024-02-26T05:27:13.034Z"
      },
      {
        "duration": 3,
        "start_time": "2024-02-26T05:27:13.224Z"
      },
      {
        "duration": 15,
        "start_time": "2024-02-26T05:27:13.508Z"
      },
      {
        "duration": 1807,
        "start_time": "2024-02-27T14:01:07.548Z"
      },
      {
        "duration": 3,
        "start_time": "2024-02-27T14:01:09.357Z"
      },
      {
        "duration": 12,
        "start_time": "2024-02-27T14:01:09.362Z"
      },
      {
        "duration": 21,
        "start_time": "2024-02-27T14:01:09.376Z"
      },
      {
        "duration": 382,
        "start_time": "2024-02-27T14:01:09.399Z"
      },
      {
        "duration": 2,
        "start_time": "2024-02-27T14:01:09.783Z"
      },
      {
        "duration": 42,
        "start_time": "2024-02-27T14:01:09.787Z"
      },
      {
        "duration": 4,
        "start_time": "2024-02-27T14:01:09.831Z"
      },
      {
        "duration": 5,
        "start_time": "2024-02-27T14:01:10.039Z"
      },
      {
        "duration": 235,
        "start_time": "2024-02-27T14:01:10.371Z"
      },
      {
        "duration": 5,
        "start_time": "2024-02-27T14:01:10.876Z"
      },
      {
        "duration": 8,
        "start_time": "2024-02-27T14:01:11.048Z"
      },
      {
        "duration": 5,
        "start_time": "2024-02-27T14:01:11.183Z"
      },
      {
        "duration": 7,
        "start_time": "2024-02-27T14:01:11.484Z"
      },
      {
        "duration": 7,
        "start_time": "2024-02-27T14:01:11.640Z"
      },
      {
        "duration": 14,
        "start_time": "2024-02-27T14:01:11.802Z"
      },
      {
        "duration": 5,
        "start_time": "2024-02-27T14:01:12.270Z"
      },
      {
        "duration": 15,
        "start_time": "2024-02-27T14:01:12.624Z"
      },
      {
        "duration": 197,
        "start_time": "2024-02-27T14:01:12.983Z"
      },
      {
        "duration": 57,
        "start_time": "2024-02-27T14:01:13.476Z"
      },
      {
        "duration": 28,
        "start_time": "2024-02-27T14:01:13.778Z"
      },
      {
        "duration": 22,
        "start_time": "2024-02-27T14:01:14.244Z"
      },
      {
        "duration": 3,
        "start_time": "2024-02-27T14:01:14.406Z"
      },
      {
        "duration": 29,
        "start_time": "2024-02-27T14:01:14.567Z"
      },
      {
        "duration": 27,
        "start_time": "2024-02-27T14:01:14.720Z"
      },
      {
        "duration": 4,
        "start_time": "2024-02-27T14:01:15.179Z"
      },
      {
        "duration": 10,
        "start_time": "2024-02-27T14:01:15.699Z"
      },
      {
        "duration": 3,
        "start_time": "2024-02-27T14:01:16.220Z"
      },
      {
        "duration": 852,
        "start_time": "2024-02-27T14:01:16.370Z"
      },
      {
        "duration": 26,
        "start_time": "2024-02-27T14:01:17.224Z"
      },
      {
        "duration": 38,
        "start_time": "2024-02-27T14:01:17.252Z"
      },
      {
        "duration": 5,
        "start_time": "2024-02-27T14:01:17.332Z"
      },
      {
        "duration": 5,
        "start_time": "2024-02-27T14:01:17.480Z"
      },
      {
        "duration": 6,
        "start_time": "2024-02-27T14:01:17.631Z"
      },
      {
        "duration": 6,
        "start_time": "2024-02-27T14:01:19.101Z"
      },
      {
        "duration": 34,
        "start_time": "2024-02-27T14:01:19.271Z"
      },
      {
        "duration": 6,
        "start_time": "2024-02-27T14:01:19.963Z"
      },
      {
        "duration": 4,
        "start_time": "2024-02-27T14:01:20.157Z"
      },
      {
        "duration": 6,
        "start_time": "2024-02-27T14:01:20.327Z"
      },
      {
        "duration": 4,
        "start_time": "2024-02-27T14:01:20.874Z"
      },
      {
        "duration": 4,
        "start_time": "2024-02-27T14:01:21.052Z"
      },
      {
        "duration": 3,
        "start_time": "2024-02-27T14:01:21.223Z"
      },
      {
        "duration": 4,
        "start_time": "2024-02-27T14:01:21.703Z"
      },
      {
        "duration": 3,
        "start_time": "2024-02-27T14:01:21.860Z"
      },
      {
        "duration": 17,
        "start_time": "2024-02-27T14:01:22.039Z"
      },
      {
        "duration": 5,
        "start_time": "2024-02-27T14:01:22.381Z"
      },
      {
        "duration": 11,
        "start_time": "2024-02-27T14:01:22.541Z"
      },
      {
        "duration": 3,
        "start_time": "2024-02-27T14:01:48.573Z"
      },
      {
        "duration": 45,
        "start_time": "2024-02-27T14:01:48.955Z"
      },
      {
        "duration": 25,
        "start_time": "2024-02-27T14:02:01.193Z"
      },
      {
        "duration": 4,
        "start_time": "2024-02-27T14:10:56.037Z"
      },
      {
        "duration": 4,
        "start_time": "2024-02-27T14:12:33.117Z"
      },
      {
        "duration": 11,
        "start_time": "2024-02-27T19:42:05.379Z"
      },
      {
        "duration": 12,
        "start_time": "2024-02-27T19:43:06.384Z"
      },
      {
        "duration": 3,
        "start_time": "2024-02-27T19:43:10.758Z"
      },
      {
        "duration": 4,
        "start_time": "2024-02-27T19:43:19.342Z"
      },
      {
        "duration": 3,
        "start_time": "2024-02-27T19:43:19.503Z"
      },
      {
        "duration": 8,
        "start_time": "2024-02-27T19:43:19.674Z"
      },
      {
        "duration": 6,
        "start_time": "2024-02-27T19:43:19.786Z"
      },
      {
        "duration": 110,
        "start_time": "2024-02-27T19:43:20.226Z"
      },
      {
        "duration": 5,
        "start_time": "2024-02-27T19:43:20.366Z"
      },
      {
        "duration": 35,
        "start_time": "2024-02-27T19:43:20.699Z"
      },
      {
        "duration": 4,
        "start_time": "2024-02-27T19:43:21.101Z"
      },
      {
        "duration": 7,
        "start_time": "2024-02-27T19:43:21.526Z"
      },
      {
        "duration": 251,
        "start_time": "2024-02-27T19:43:21.853Z"
      },
      {
        "duration": 7,
        "start_time": "2024-02-27T19:43:22.300Z"
      },
      {
        "duration": 7,
        "start_time": "2024-02-27T19:43:22.414Z"
      },
      {
        "duration": 4,
        "start_time": "2024-02-27T19:43:22.601Z"
      },
      {
        "duration": 11,
        "start_time": "2024-02-27T19:43:22.881Z"
      },
      {
        "duration": 11,
        "start_time": "2024-02-27T19:43:23.085Z"
      },
      {
        "duration": 24,
        "start_time": "2024-02-27T19:43:23.173Z"
      },
      {
        "duration": 4,
        "start_time": "2024-02-27T19:43:23.644Z"
      },
      {
        "duration": 22,
        "start_time": "2024-02-27T19:43:23.788Z"
      },
      {
        "duration": 228,
        "start_time": "2024-02-27T19:43:24.099Z"
      },
      {
        "duration": 66,
        "start_time": "2024-02-27T19:43:24.565Z"
      },
      {
        "duration": 27,
        "start_time": "2024-02-27T19:43:24.895Z"
      },
      {
        "duration": 23,
        "start_time": "2024-02-27T19:43:25.343Z"
      },
      {
        "duration": 4,
        "start_time": "2024-02-27T19:43:25.495Z"
      },
      {
        "duration": 32,
        "start_time": "2024-02-27T19:43:25.689Z"
      },
      {
        "duration": 25,
        "start_time": "2024-02-27T19:43:25.828Z"
      },
      {
        "duration": 10,
        "start_time": "2024-02-27T19:43:26.278Z"
      },
      {
        "duration": 7,
        "start_time": "2024-02-27T19:43:26.797Z"
      },
      {
        "duration": 7,
        "start_time": "2024-02-27T19:43:27.275Z"
      },
      {
        "duration": 769,
        "start_time": "2024-02-27T19:43:27.436Z"
      },
      {
        "duration": 34,
        "start_time": "2024-02-27T19:43:28.280Z"
      },
      {
        "duration": 25,
        "start_time": "2024-02-27T19:43:28.557Z"
      },
      {
        "duration": 4,
        "start_time": "2024-02-27T19:43:29.663Z"
      },
      {
        "duration": 5,
        "start_time": "2024-02-27T19:43:31.867Z"
      },
      {
        "duration": 5,
        "start_time": "2024-02-27T19:43:32.009Z"
      },
      {
        "duration": 4,
        "start_time": "2024-02-27T19:43:32.158Z"
      },
      {
        "duration": 25,
        "start_time": "2024-02-27T19:43:32.300Z"
      },
      {
        "duration": 7,
        "start_time": "2024-02-27T19:43:32.923Z"
      },
      {
        "duration": 5,
        "start_time": "2024-02-27T19:43:33.097Z"
      },
      {
        "duration": 6,
        "start_time": "2024-02-27T19:43:33.956Z"
      },
      {
        "duration": 4,
        "start_time": "2024-02-27T19:43:45.264Z"
      },
      {
        "duration": 4,
        "start_time": "2024-02-27T19:43:45.418Z"
      },
      {
        "duration": 4,
        "start_time": "2024-02-27T19:43:45.752Z"
      },
      {
        "duration": 4,
        "start_time": "2024-02-27T19:59:44.696Z"
      },
      {
        "duration": 4,
        "start_time": "2024-02-27T19:59:45.954Z"
      },
      {
        "duration": 4,
        "start_time": "2024-02-27T19:59:50.046Z"
      },
      {
        "duration": 4,
        "start_time": "2024-02-27T19:59:58.328Z"
      },
      {
        "duration": 3,
        "start_time": "2024-02-27T19:59:58.754Z"
      },
      {
        "duration": 14,
        "start_time": "2024-02-27T20:00:08.296Z"
      },
      {
        "duration": 8,
        "start_time": "2024-02-27T20:00:10.393Z"
      },
      {
        "duration": 8,
        "start_time": "2024-02-27T20:00:10.903Z"
      },
      {
        "duration": 3,
        "start_time": "2024-02-27T20:00:12.854Z"
      },
      {
        "duration": 32,
        "start_time": "2024-02-27T20:00:15.073Z"
      },
      {
        "duration": 4,
        "start_time": "2024-02-27T20:00:16.012Z"
      },
      {
        "duration": 2,
        "start_time": "2024-02-27T20:06:23.017Z"
      },
      {
        "duration": 3,
        "start_time": "2024-02-27T20:06:41.095Z"
      },
      {
        "duration": 4,
        "start_time": "2024-02-27T20:07:01.062Z"
      },
      {
        "duration": 3,
        "start_time": "2024-02-27T20:07:02.400Z"
      },
      {
        "duration": 4,
        "start_time": "2024-02-27T20:07:03.039Z"
      },
      {
        "duration": 3,
        "start_time": "2024-02-27T20:07:03.355Z"
      },
      {
        "duration": 107,
        "start_time": "2024-02-27T20:07:03.817Z"
      },
      {
        "duration": 4,
        "start_time": "2024-02-27T20:07:04.027Z"
      },
      {
        "duration": 48,
        "start_time": "2024-02-27T20:07:04.447Z"
      },
      {
        "duration": 5,
        "start_time": "2024-02-27T20:07:05.173Z"
      },
      {
        "duration": 5,
        "start_time": "2024-02-27T20:07:05.845Z"
      },
      {
        "duration": 238,
        "start_time": "2024-02-27T20:07:06.363Z"
      },
      {
        "duration": 6,
        "start_time": "2024-02-27T20:07:07.419Z"
      },
      {
        "duration": 6,
        "start_time": "2024-02-27T20:07:07.744Z"
      },
      {
        "duration": 10,
        "start_time": "2024-02-27T20:07:07.985Z"
      },
      {
        "duration": 6,
        "start_time": "2024-02-27T20:07:08.648Z"
      },
      {
        "duration": 6,
        "start_time": "2024-02-27T20:07:08.948Z"
      },
      {
        "duration": 14,
        "start_time": "2024-02-27T20:07:09.224Z"
      },
      {
        "duration": 5,
        "start_time": "2024-02-27T20:07:10.047Z"
      },
      {
        "duration": 15,
        "start_time": "2024-02-27T20:07:10.323Z"
      },
      {
        "duration": 236,
        "start_time": "2024-02-27T20:07:12.063Z"
      },
      {
        "duration": 52,
        "start_time": "2024-02-27T20:07:13.396Z"
      },
      {
        "duration": 26,
        "start_time": "2024-02-27T20:07:19.611Z"
      },
      {
        "duration": 23,
        "start_time": "2024-02-27T20:07:20.825Z"
      },
      {
        "duration": 3,
        "start_time": "2024-02-27T20:07:21.097Z"
      },
      {
        "duration": 30,
        "start_time": "2024-02-27T20:07:21.402Z"
      },
      {
        "duration": 29,
        "start_time": "2024-02-27T20:07:22.193Z"
      },
      {
        "duration": 5,
        "start_time": "2024-02-27T20:07:24.103Z"
      },
      {
        "duration": 7,
        "start_time": "2024-02-27T20:07:25.017Z"
      },
      {
        "duration": 3,
        "start_time": "2024-02-27T20:07:26.167Z"
      },
      {
        "duration": 769,
        "start_time": "2024-02-27T20:07:26.393Z"
      },
      {
        "duration": 37,
        "start_time": "2024-02-27T20:07:27.178Z"
      },
      {
        "duration": 21,
        "start_time": "2024-02-27T20:07:27.597Z"
      },
      {
        "duration": 4,
        "start_time": "2024-02-27T20:07:28.267Z"
      },
      {
        "duration": 5,
        "start_time": "2024-02-27T20:07:28.915Z"
      },
      {
        "duration": 8,
        "start_time": "2024-02-27T20:08:49.196Z"
      },
      {
        "duration": 4,
        "start_time": "2024-02-27T20:08:49.621Z"
      },
      {
        "duration": 23,
        "start_time": "2024-02-27T20:08:51.002Z"
      },
      {
        "duration": 6,
        "start_time": "2024-02-27T20:10:07.637Z"
      },
      {
        "duration": 4,
        "start_time": "2024-02-27T20:10:08.959Z"
      },
      {
        "duration": 6,
        "start_time": "2024-02-27T20:10:10.844Z"
      },
      {
        "duration": 4,
        "start_time": "2024-02-27T20:10:18.539Z"
      },
      {
        "duration": 4,
        "start_time": "2024-02-27T20:10:23.505Z"
      },
      {
        "duration": 4,
        "start_time": "2024-02-27T20:10:23.997Z"
      },
      {
        "duration": 3,
        "start_time": "2024-02-27T20:10:25.727Z"
      },
      {
        "duration": 4,
        "start_time": "2024-02-27T20:10:26.911Z"
      },
      {
        "duration": 4,
        "start_time": "2024-02-27T20:12:15.660Z"
      },
      {
        "duration": 3,
        "start_time": "2024-02-27T20:12:20.244Z"
      },
      {
        "duration": 23,
        "start_time": "2024-02-27T20:12:51.694Z"
      },
      {
        "duration": 5,
        "start_time": "2024-02-27T20:13:06.417Z"
      },
      {
        "duration": 28,
        "start_time": "2024-02-27T20:15:59.749Z"
      },
      {
        "duration": 5,
        "start_time": "2024-02-27T20:16:52.744Z"
      },
      {
        "duration": 4,
        "start_time": "2024-02-27T20:16:59.368Z"
      },
      {
        "duration": 15,
        "start_time": "2024-02-27T20:17:21.922Z"
      },
      {
        "duration": 14,
        "start_time": "2024-02-27T20:18:12.024Z"
      },
      {
        "duration": 22,
        "start_time": "2024-02-27T20:18:20.485Z"
      },
      {
        "duration": 125,
        "start_time": "2024-02-27T20:19:44.952Z"
      },
      {
        "duration": 25,
        "start_time": "2024-02-27T20:19:59.009Z"
      },
      {
        "duration": 423,
        "start_time": "2024-02-27T20:20:11.221Z"
      },
      {
        "duration": 8,
        "start_time": "2024-02-27T20:20:44.570Z"
      },
      {
        "duration": 7,
        "start_time": "2024-02-27T20:21:05.914Z"
      },
      {
        "duration": 6,
        "start_time": "2024-02-27T20:22:41.734Z"
      },
      {
        "duration": 10,
        "start_time": "2024-02-27T20:22:56.388Z"
      },
      {
        "duration": 149,
        "start_time": "2024-02-27T20:23:14.874Z"
      },
      {
        "duration": 11,
        "start_time": "2024-02-27T20:23:18.982Z"
      },
      {
        "duration": 6,
        "start_time": "2024-02-27T20:23:22.104Z"
      },
      {
        "duration": 6,
        "start_time": "2024-02-27T20:24:22.425Z"
      },
      {
        "duration": 6,
        "start_time": "2024-02-27T20:24:48.011Z"
      },
      {
        "duration": 4,
        "start_time": "2024-02-27T20:24:51.848Z"
      },
      {
        "duration": 4,
        "start_time": "2024-02-27T20:25:02.754Z"
      },
      {
        "duration": 12,
        "start_time": "2024-02-27T20:27:52.132Z"
      },
      {
        "duration": 10,
        "start_time": "2024-02-27T20:28:02.132Z"
      },
      {
        "duration": 6,
        "start_time": "2024-02-27T20:28:08.707Z"
      },
      {
        "duration": 8,
        "start_time": "2024-02-27T20:28:18.650Z"
      },
      {
        "duration": 6,
        "start_time": "2024-02-27T20:28:31.056Z"
      },
      {
        "duration": 6,
        "start_time": "2024-02-27T20:28:31.633Z"
      },
      {
        "duration": 5,
        "start_time": "2024-02-27T20:29:11.185Z"
      },
      {
        "duration": 5,
        "start_time": "2024-02-27T20:29:39.427Z"
      },
      {
        "duration": 4,
        "start_time": "2024-02-27T20:30:17.807Z"
      },
      {
        "duration": 17,
        "start_time": "2024-02-27T20:30:20.348Z"
      },
      {
        "duration": 4,
        "start_time": "2024-02-27T20:30:26.951Z"
      },
      {
        "duration": 2,
        "start_time": "2024-02-27T20:30:27.085Z"
      },
      {
        "duration": 3,
        "start_time": "2024-02-27T20:30:27.225Z"
      },
      {
        "duration": 3,
        "start_time": "2024-02-27T20:30:27.369Z"
      },
      {
        "duration": 99,
        "start_time": "2024-02-27T20:30:27.661Z"
      },
      {
        "duration": 4,
        "start_time": "2024-02-27T20:30:27.784Z"
      },
      {
        "duration": 42,
        "start_time": "2024-02-27T20:30:27.944Z"
      },
      {
        "duration": 5,
        "start_time": "2024-02-27T20:30:28.370Z"
      },
      {
        "duration": 4,
        "start_time": "2024-02-27T20:30:28.823Z"
      },
      {
        "duration": 210,
        "start_time": "2024-02-27T20:30:29.125Z"
      },
      {
        "duration": 5,
        "start_time": "2024-02-27T20:30:29.601Z"
      },
      {
        "duration": 6,
        "start_time": "2024-02-27T20:30:29.762Z"
      },
      {
        "duration": 4,
        "start_time": "2024-02-27T20:30:29.941Z"
      },
      {
        "duration": 7,
        "start_time": "2024-02-27T20:30:30.262Z"
      },
      {
        "duration": 44,
        "start_time": "2024-02-27T20:30:30.429Z"
      },
      {
        "duration": 126,
        "start_time": "2024-02-27T20:30:30.585Z"
      },
      {
        "duration": 4,
        "start_time": "2024-02-27T20:30:31.077Z"
      },
      {
        "duration": 15,
        "start_time": "2024-02-27T20:30:31.235Z"
      },
      {
        "duration": 317,
        "start_time": "2024-02-27T20:30:31.561Z"
      },
      {
        "duration": 47,
        "start_time": "2024-02-27T20:30:32.049Z"
      },
      {
        "duration": 27,
        "start_time": "2024-02-27T20:30:32.454Z"
      },
      {
        "duration": 21,
        "start_time": "2024-02-27T20:30:33.547Z"
      },
      {
        "duration": 4,
        "start_time": "2024-02-27T20:30:33.755Z"
      },
      {
        "duration": 28,
        "start_time": "2024-02-27T20:30:33.991Z"
      },
      {
        "duration": 29,
        "start_time": "2024-02-27T20:30:34.191Z"
      },
      {
        "duration": 17,
        "start_time": "2024-02-27T20:30:34.673Z"
      },
      {
        "duration": 7,
        "start_time": "2024-02-27T20:30:35.711Z"
      },
      {
        "duration": 4,
        "start_time": "2024-02-27T20:30:35.965Z"
      },
      {
        "duration": 6,
        "start_time": "2024-02-27T20:30:36.461Z"
      },
      {
        "duration": 7,
        "start_time": "2024-02-27T20:30:36.713Z"
      },
      {
        "duration": 4,
        "start_time": "2024-02-27T20:30:37.267Z"
      },
      {
        "duration": 5,
        "start_time": "2024-02-27T20:30:40.192Z"
      },
      {
        "duration": 4,
        "start_time": "2024-02-27T20:30:40.693Z"
      },
      {
        "duration": 7,
        "start_time": "2024-02-27T20:30:41.564Z"
      },
      {
        "duration": 3,
        "start_time": "2024-02-27T20:31:10.538Z"
      },
      {
        "duration": 734,
        "start_time": "2024-02-27T20:31:10.801Z"
      },
      {
        "duration": 32,
        "start_time": "2024-02-27T20:31:15.756Z"
      },
      {
        "duration": 17,
        "start_time": "2024-02-27T20:31:18.639Z"
      },
      {
        "duration": 4,
        "start_time": "2024-02-27T20:31:31.227Z"
      },
      {
        "duration": 6,
        "start_time": "2024-02-27T20:31:32.747Z"
      },
      {
        "duration": 5,
        "start_time": "2024-02-27T20:31:33.697Z"
      },
      {
        "duration": 4,
        "start_time": "2024-02-27T20:31:34.389Z"
      },
      {
        "duration": 23,
        "start_time": "2024-02-27T20:31:35.041Z"
      },
      {
        "duration": 6,
        "start_time": "2024-02-27T20:31:39.289Z"
      },
      {
        "duration": 4,
        "start_time": "2024-02-27T20:31:43.501Z"
      },
      {
        "duration": 6,
        "start_time": "2024-02-27T20:31:45.252Z"
      },
      {
        "duration": 3,
        "start_time": "2024-02-27T20:31:55.205Z"
      },
      {
        "duration": 3,
        "start_time": "2024-02-27T20:31:55.335Z"
      },
      {
        "duration": 4,
        "start_time": "2024-02-27T20:31:55.701Z"
      },
      {
        "duration": 4,
        "start_time": "2024-02-27T20:32:01.286Z"
      },
      {
        "duration": 3,
        "start_time": "2024-02-27T20:32:56.737Z"
      },
      {
        "duration": 3,
        "start_time": "2024-02-27T20:32:57.752Z"
      },
      {
        "duration": 2,
        "start_time": "2024-02-27T20:32:58.166Z"
      },
      {
        "duration": 14,
        "start_time": "2024-02-27T20:32:58.510Z"
      },
      {
        "duration": 6,
        "start_time": "2024-02-27T20:33:09.667Z"
      },
      {
        "duration": 8,
        "start_time": "2024-02-27T20:33:13.293Z"
      },
      {
        "duration": 2,
        "start_time": "2024-02-27T20:33:16.941Z"
      },
      {
        "duration": 3,
        "start_time": "2024-02-27T20:33:18.952Z"
      },
      {
        "duration": 18,
        "start_time": "2024-02-27T20:33:19.523Z"
      },
      {
        "duration": 5,
        "start_time": "2024-02-27T20:33:23.423Z"
      },
      {
        "duration": 16,
        "start_time": "2024-02-27T21:44:12.644Z"
      },
      {
        "duration": 1535,
        "start_time": "2024-02-28T13:14:56.075Z"
      },
      {
        "duration": 3,
        "start_time": "2024-02-28T13:14:59.889Z"
      },
      {
        "duration": 3,
        "start_time": "2024-02-28T13:15:00.037Z"
      },
      {
        "duration": 9,
        "start_time": "2024-02-28T13:15:00.104Z"
      },
      {
        "duration": 303,
        "start_time": "2024-02-28T13:15:01.233Z"
      },
      {
        "duration": 2,
        "start_time": "2024-02-28T13:15:01.538Z"
      },
      {
        "duration": 33,
        "start_time": "2024-02-28T13:15:01.642Z"
      },
      {
        "duration": 4,
        "start_time": "2024-02-28T13:15:02.495Z"
      },
      {
        "duration": 4,
        "start_time": "2024-02-28T13:15:03.605Z"
      },
      {
        "duration": 182,
        "start_time": "2024-02-28T13:15:03.999Z"
      },
      {
        "duration": 4,
        "start_time": "2024-02-28T13:15:04.620Z"
      },
      {
        "duration": 7,
        "start_time": "2024-02-28T13:15:04.857Z"
      },
      {
        "duration": 4,
        "start_time": "2024-02-28T13:15:05.046Z"
      },
      {
        "duration": 5,
        "start_time": "2024-02-28T13:15:05.433Z"
      },
      {
        "duration": 6,
        "start_time": "2024-02-28T13:15:05.629Z"
      },
      {
        "duration": 10,
        "start_time": "2024-02-28T13:15:05.833Z"
      },
      {
        "duration": 4,
        "start_time": "2024-02-28T13:15:06.519Z"
      },
      {
        "duration": 12,
        "start_time": "2024-02-28T13:15:06.707Z"
      },
      {
        "duration": 161,
        "start_time": "2024-02-28T13:15:07.048Z"
      },
      {
        "duration": 38,
        "start_time": "2024-02-28T13:15:07.638Z"
      },
      {
        "duration": 23,
        "start_time": "2024-02-28T13:15:08.065Z"
      },
      {
        "duration": 19,
        "start_time": "2024-02-28T13:15:08.839Z"
      },
      {
        "duration": 3,
        "start_time": "2024-02-28T13:15:09.109Z"
      },
      {
        "duration": 23,
        "start_time": "2024-02-28T13:15:09.626Z"
      },
      {
        "duration": 22,
        "start_time": "2024-02-28T13:15:24.178Z"
      },
      {
        "duration": 14,
        "start_time": "2024-02-28T13:15:25.166Z"
      },
      {
        "duration": 6,
        "start_time": "2024-02-28T13:15:25.611Z"
      },
      {
        "duration": 4,
        "start_time": "2024-02-28T13:15:25.845Z"
      },
      {
        "duration": 5,
        "start_time": "2024-02-28T13:15:26.241Z"
      },
      {
        "duration": 6,
        "start_time": "2024-02-28T13:15:26.445Z"
      },
      {
        "duration": 3,
        "start_time": "2024-02-28T13:15:26.644Z"
      },
      {
        "duration": 4,
        "start_time": "2024-02-28T13:15:26.999Z"
      },
      {
        "duration": 3,
        "start_time": "2024-02-28T13:15:27.186Z"
      },
      {
        "duration": 6,
        "start_time": "2024-02-28T13:15:27.768Z"
      },
      {
        "duration": 2,
        "start_time": "2024-02-28T13:15:28.522Z"
      },
      {
        "duration": 729,
        "start_time": "2024-02-28T13:15:29.058Z"
      },
      {
        "duration": 20,
        "start_time": "2024-02-28T13:15:31.244Z"
      },
      {
        "duration": 12,
        "start_time": "2024-02-28T13:15:31.530Z"
      },
      {
        "duration": 4,
        "start_time": "2024-02-28T13:15:33.055Z"
      },
      {
        "duration": 4,
        "start_time": "2024-02-28T13:15:33.699Z"
      },
      {
        "duration": 4,
        "start_time": "2024-02-28T13:15:33.903Z"
      },
      {
        "duration": 3,
        "start_time": "2024-02-28T13:15:34.095Z"
      },
      {
        "duration": 20,
        "start_time": "2024-02-28T13:15:34.274Z"
      },
      {
        "duration": 5,
        "start_time": "2024-02-28T13:15:38.898Z"
      },
      {
        "duration": 3,
        "start_time": "2024-02-28T13:15:39.390Z"
      },
      {
        "duration": 5,
        "start_time": "2024-02-28T13:15:42.766Z"
      },
      {
        "duration": 4,
        "start_time": "2024-02-28T13:16:34.795Z"
      },
      {
        "duration": 3,
        "start_time": "2024-02-28T13:16:37.731Z"
      },
      {
        "duration": 3,
        "start_time": "2024-02-28T13:16:39.487Z"
      },
      {
        "duration": 3,
        "start_time": "2024-02-28T13:16:41.273Z"
      },
      {
        "duration": 3,
        "start_time": "2024-02-28T13:16:53.426Z"
      },
      {
        "duration": 4,
        "start_time": "2024-02-28T13:17:02.571Z"
      },
      {
        "duration": 3,
        "start_time": "2024-02-28T13:17:03.059Z"
      },
      {
        "duration": 12,
        "start_time": "2024-02-28T13:17:04.317Z"
      },
      {
        "duration": 4,
        "start_time": "2024-02-28T13:17:05.530Z"
      },
      {
        "duration": 7,
        "start_time": "2024-02-28T13:17:05.964Z"
      },
      {
        "duration": 3,
        "start_time": "2024-02-28T13:17:07.595Z"
      },
      {
        "duration": 16,
        "start_time": "2024-02-28T13:17:08.160Z"
      },
      {
        "duration": 4,
        "start_time": "2024-02-28T13:17:08.748Z"
      },
      {
        "duration": 107,
        "start_time": "2024-02-28T13:17:11.769Z"
      },
      {
        "duration": 6,
        "start_time": "2024-02-28T13:20:22.455Z"
      },
      {
        "duration": 8,
        "start_time": "2024-02-28T13:23:44.181Z"
      },
      {
        "duration": 91,
        "start_time": "2024-02-28T13:34:14.732Z"
      },
      {
        "duration": 4,
        "start_time": "2024-02-28T13:34:21.132Z"
      },
      {
        "duration": 6816,
        "start_time": "2024-02-28T15:12:34.469Z"
      },
      {
        "duration": 15,
        "start_time": "2024-02-28T15:22:44.231Z"
      },
      {
        "duration": 10,
        "start_time": "2024-02-28T15:23:00.095Z"
      },
      {
        "duration": 13,
        "start_time": "2024-02-28T15:24:38.143Z"
      },
      {
        "duration": 2642,
        "start_time": "2024-02-28T15:25:58.099Z"
      },
      {
        "duration": 1048,
        "start_time": "2024-02-28T15:26:00.743Z"
      },
      {
        "duration": 0,
        "start_time": "2024-02-28T15:26:01.792Z"
      },
      {
        "duration": 2672,
        "start_time": "2024-02-28T15:30:39.204Z"
      },
      {
        "duration": 1145,
        "start_time": "2024-02-28T15:30:50.997Z"
      },
      {
        "duration": 2,
        "start_time": "2024-02-28T15:30:53.197Z"
      },
      {
        "duration": 4,
        "start_time": "2024-02-28T15:30:53.598Z"
      },
      {
        "duration": 2,
        "start_time": "2024-02-28T15:30:54.139Z"
      },
      {
        "duration": 91,
        "start_time": "2024-02-28T15:30:58.315Z"
      },
      {
        "duration": 2,
        "start_time": "2024-02-28T15:30:58.443Z"
      },
      {
        "duration": 37,
        "start_time": "2024-02-28T15:32:28.864Z"
      },
      {
        "duration": 4,
        "start_time": "2024-02-28T15:39:21.334Z"
      },
      {
        "duration": 8,
        "start_time": "2024-02-28T15:39:52.249Z"
      },
      {
        "duration": 4,
        "start_time": "2024-02-28T15:40:00.175Z"
      },
      {
        "duration": 7,
        "start_time": "2024-02-28T15:40:08.321Z"
      },
      {
        "duration": 4,
        "start_time": "2024-02-28T15:40:12.510Z"
      },
      {
        "duration": 5,
        "start_time": "2024-02-28T15:40:37.376Z"
      },
      {
        "duration": 193,
        "start_time": "2024-02-28T15:41:46.653Z"
      },
      {
        "duration": 4,
        "start_time": "2024-02-28T15:42:03.904Z"
      },
      {
        "duration": 6,
        "start_time": "2024-02-28T15:42:08.581Z"
      },
      {
        "duration": 105,
        "start_time": "2024-02-28T15:42:23.513Z"
      },
      {
        "duration": 4,
        "start_time": "2024-02-28T15:42:25.842Z"
      },
      {
        "duration": 11,
        "start_time": "2024-02-28T15:42:32.756Z"
      },
      {
        "duration": 5,
        "start_time": "2024-02-28T15:42:40.304Z"
      },
      {
        "duration": 6,
        "start_time": "2024-02-28T15:42:45.326Z"
      },
      {
        "duration": 6,
        "start_time": "2024-02-28T15:42:49.934Z"
      },
      {
        "duration": 11,
        "start_time": "2024-02-28T15:42:54.510Z"
      },
      {
        "duration": 8,
        "start_time": "2024-02-28T15:45:29.753Z"
      },
      {
        "duration": 6,
        "start_time": "2024-02-28T15:45:39.385Z"
      },
      {
        "duration": 4,
        "start_time": "2024-02-28T15:45:51.004Z"
      },
      {
        "duration": 8,
        "start_time": "2024-02-28T15:46:02.332Z"
      },
      {
        "duration": 3,
        "start_time": "2024-02-28T15:46:15.113Z"
      },
      {
        "duration": 4,
        "start_time": "2024-02-28T15:46:38.345Z"
      },
      {
        "duration": 4,
        "start_time": "2024-02-28T15:46:49.388Z"
      },
      {
        "duration": 3,
        "start_time": "2024-02-28T15:47:07.635Z"
      },
      {
        "duration": 8,
        "start_time": "2024-02-28T15:47:10.175Z"
      },
      {
        "duration": 5,
        "start_time": "2024-02-28T15:47:16.082Z"
      },
      {
        "duration": 3,
        "start_time": "2024-02-28T15:47:25.026Z"
      },
      {
        "duration": 4,
        "start_time": "2024-02-28T15:47:38.073Z"
      },
      {
        "duration": 13,
        "start_time": "2024-02-28T15:47:38.556Z"
      },
      {
        "duration": 178,
        "start_time": "2024-02-28T16:10:01.301Z"
      },
      {
        "duration": 6,
        "start_time": "2024-02-28T16:10:40.572Z"
      },
      {
        "duration": 263,
        "start_time": "2024-02-28T16:10:41.078Z"
      },
      {
        "duration": 4,
        "start_time": "2024-02-28T16:11:00.239Z"
      },
      {
        "duration": 4,
        "start_time": "2024-02-28T16:11:19.351Z"
      },
      {
        "duration": 216,
        "start_time": "2024-02-28T16:11:20.126Z"
      },
      {
        "duration": 2759,
        "start_time": "2024-02-28T16:12:03.100Z"
      },
      {
        "duration": 1173,
        "start_time": "2024-02-28T16:12:05.862Z"
      },
      {
        "duration": 3,
        "start_time": "2024-02-28T16:12:07.036Z"
      },
      {
        "duration": 9,
        "start_time": "2024-02-28T16:12:07.041Z"
      },
      {
        "duration": 7,
        "start_time": "2024-02-28T16:12:07.051Z"
      },
      {
        "duration": 92,
        "start_time": "2024-02-28T16:12:07.059Z"
      },
      {
        "duration": 2,
        "start_time": "2024-02-28T16:12:07.152Z"
      },
      {
        "duration": 51,
        "start_time": "2024-02-28T16:12:07.156Z"
      },
      {
        "duration": 2606,
        "start_time": "2024-02-28T16:23:12.414Z"
      },
      {
        "duration": 4,
        "start_time": "2024-02-28T16:23:17.456Z"
      },
      {
        "duration": 2,
        "start_time": "2024-02-28T16:23:17.639Z"
      },
      {
        "duration": 2,
        "start_time": "2024-02-28T16:23:17.976Z"
      },
      {
        "duration": 3,
        "start_time": "2024-02-28T16:23:18.147Z"
      },
      {
        "duration": 95,
        "start_time": "2024-02-28T16:23:18.468Z"
      },
      {
        "duration": 4,
        "start_time": "2024-02-28T16:23:18.920Z"
      },
      {
        "duration": 32,
        "start_time": "2024-02-28T16:23:19.090Z"
      },
      {
        "duration": 3,
        "start_time": "2024-02-28T16:23:20.356Z"
      },
      {
        "duration": 4,
        "start_time": "2024-02-28T16:23:21.270Z"
      },
      {
        "duration": 5,
        "start_time": "2024-02-28T16:23:22.722Z"
      },
      {
        "duration": 186,
        "start_time": "2024-02-28T16:23:23.604Z"
      },
      {
        "duration": 4,
        "start_time": "2024-02-28T16:23:24.436Z"
      },
      {
        "duration": 6,
        "start_time": "2024-02-28T16:23:24.442Z"
      },
      {
        "duration": 4,
        "start_time": "2024-02-28T16:23:24.466Z"
      },
      {
        "duration": 5,
        "start_time": "2024-02-28T16:23:24.835Z"
      },
      {
        "duration": 5,
        "start_time": "2024-02-28T16:23:25.498Z"
      },
      {
        "duration": 11,
        "start_time": "2024-02-28T16:23:25.926Z"
      },
      {
        "duration": 6,
        "start_time": "2024-02-28T16:23:26.936Z"
      },
      {
        "duration": 3,
        "start_time": "2024-02-28T16:23:27.106Z"
      },
      {
        "duration": 6,
        "start_time": "2024-02-28T16:23:50.083Z"
      },
      {
        "duration": 4,
        "start_time": "2024-02-28T16:23:50.555Z"
      },
      {
        "duration": 5,
        "start_time": "2024-02-28T16:23:51.429Z"
      },
      {
        "duration": 5,
        "start_time": "2024-02-28T16:23:51.964Z"
      },
      {
        "duration": 5,
        "start_time": "2024-02-28T16:23:52.366Z"
      },
      {
        "duration": 3,
        "start_time": "2024-02-28T16:25:38.965Z"
      },
      {
        "duration": 5,
        "start_time": "2024-02-28T16:26:59.780Z"
      },
      {
        "duration": 13,
        "start_time": "2024-02-28T16:27:04.016Z"
      },
      {
        "duration": 162,
        "start_time": "2024-02-28T16:27:14.307Z"
      },
      {
        "duration": 125,
        "start_time": "2024-02-28T16:29:21.137Z"
      },
      {
        "duration": 120,
        "start_time": "2024-02-28T16:29:25.881Z"
      },
      {
        "duration": 43,
        "start_time": "2024-02-28T16:33:48.960Z"
      },
      {
        "duration": 25,
        "start_time": "2024-02-28T16:35:23.684Z"
      },
      {
        "duration": 18,
        "start_time": "2024-02-28T16:35:31.623Z"
      },
      {
        "duration": 3,
        "start_time": "2024-02-28T16:35:37.465Z"
      },
      {
        "duration": 22,
        "start_time": "2024-02-28T16:35:44.063Z"
      },
      {
        "duration": 23,
        "start_time": "2024-02-28T16:36:32.021Z"
      },
      {
        "duration": 13,
        "start_time": "2024-02-28T16:37:53.905Z"
      },
      {
        "duration": 6,
        "start_time": "2024-02-28T16:38:32.375Z"
      },
      {
        "duration": 2,
        "start_time": "2024-02-28T16:38:42.409Z"
      },
      {
        "duration": 719,
        "start_time": "2024-02-28T16:38:42.816Z"
      },
      {
        "duration": 156,
        "start_time": "2024-02-28T16:38:57.426Z"
      },
      {
        "duration": 606,
        "start_time": "2024-02-28T16:39:08.868Z"
      },
      {
        "duration": 21,
        "start_time": "2024-02-28T17:07:10.323Z"
      },
      {
        "duration": 14,
        "start_time": "2024-02-28T17:07:28.769Z"
      },
      {
        "duration": 22,
        "start_time": "2024-02-28T17:09:10.955Z"
      },
      {
        "duration": 14,
        "start_time": "2024-02-28T17:09:15.874Z"
      },
      {
        "duration": 2656,
        "start_time": "2024-02-28T17:13:44.554Z"
      },
      {
        "duration": 1103,
        "start_time": "2024-02-28T17:13:47.212Z"
      },
      {
        "duration": 3,
        "start_time": "2024-02-28T17:13:48.317Z"
      },
      {
        "duration": 5,
        "start_time": "2024-02-28T17:13:48.322Z"
      },
      {
        "duration": 9,
        "start_time": "2024-02-28T17:13:48.329Z"
      },
      {
        "duration": 96,
        "start_time": "2024-02-28T17:13:48.339Z"
      },
      {
        "duration": 3,
        "start_time": "2024-02-28T17:13:48.437Z"
      },
      {
        "duration": 41,
        "start_time": "2024-02-28T17:13:48.442Z"
      },
      {
        "duration": 4,
        "start_time": "2024-02-28T17:13:48.484Z"
      },
      {
        "duration": 8,
        "start_time": "2024-02-28T17:13:48.491Z"
      },
      {
        "duration": 4,
        "start_time": "2024-02-28T17:13:48.501Z"
      },
      {
        "duration": 224,
        "start_time": "2024-02-28T17:13:48.506Z"
      },
      {
        "duration": 4,
        "start_time": "2024-02-28T17:13:48.731Z"
      },
      {
        "duration": 20,
        "start_time": "2024-02-28T17:13:48.737Z"
      },
      {
        "duration": 9,
        "start_time": "2024-02-28T17:13:48.759Z"
      },
      {
        "duration": 11,
        "start_time": "2024-02-28T17:13:48.769Z"
      },
      {
        "duration": 6,
        "start_time": "2024-02-28T17:13:48.782Z"
      },
      {
        "duration": 6,
        "start_time": "2024-02-28T17:13:53.546Z"
      },
      {
        "duration": 2,
        "start_time": "2024-02-28T17:13:53.931Z"
      },
      {
        "duration": 6,
        "start_time": "2024-02-28T17:13:54.629Z"
      },
      {
        "duration": 5,
        "start_time": "2024-02-28T17:13:55.216Z"
      },
      {
        "duration": 5,
        "start_time": "2024-02-28T17:13:55.579Z"
      },
      {
        "duration": 3,
        "start_time": "2024-02-28T17:13:56.372Z"
      },
      {
        "duration": 124,
        "start_time": "2024-02-28T17:13:57.096Z"
      },
      {
        "duration": 119,
        "start_time": "2024-02-28T17:14:03.399Z"
      },
      {
        "duration": 5,
        "start_time": "2024-02-28T17:14:07.437Z"
      },
      {
        "duration": 13,
        "start_time": "2024-02-28T17:14:13.034Z"
      },
      {
        "duration": 154,
        "start_time": "2024-02-28T17:14:14.399Z"
      },
      {
        "duration": 43,
        "start_time": "2024-02-28T17:14:16.219Z"
      },
      {
        "duration": 25,
        "start_time": "2024-02-28T17:14:16.839Z"
      },
      {
        "duration": 17,
        "start_time": "2024-02-28T17:14:17.786Z"
      },
      {
        "duration": 3,
        "start_time": "2024-02-28T17:14:18.119Z"
      },
      {
        "duration": 22,
        "start_time": "2024-02-28T17:14:18.451Z"
      },
      {
        "duration": 22,
        "start_time": "2024-02-28T17:14:18.875Z"
      },
      {
        "duration": 13,
        "start_time": "2024-02-28T17:14:22.453Z"
      },
      {
        "duration": 6,
        "start_time": "2024-02-28T17:14:23.994Z"
      },
      {
        "duration": 2,
        "start_time": "2024-02-28T17:14:25.649Z"
      },
      {
        "duration": 687,
        "start_time": "2024-02-28T17:14:26.105Z"
      },
      {
        "duration": 19,
        "start_time": "2024-02-28T17:14:28.672Z"
      },
      {
        "duration": 13,
        "start_time": "2024-02-28T17:14:29.224Z"
      },
      {
        "duration": 7,
        "start_time": "2024-02-28T17:14:33.643Z"
      },
      {
        "duration": 14,
        "start_time": "2024-02-28T17:14:34.164Z"
      },
      {
        "duration": 3,
        "start_time": "2024-02-28T17:14:37.163Z"
      },
      {
        "duration": 4,
        "start_time": "2024-02-28T17:14:41.312Z"
      },
      {
        "duration": 5,
        "start_time": "2024-02-28T17:14:43.191Z"
      },
      {
        "duration": 4,
        "start_time": "2024-02-28T17:14:43.650Z"
      },
      {
        "duration": 18,
        "start_time": "2024-02-28T17:14:44.957Z"
      },
      {
        "duration": 6,
        "start_time": "2024-02-28T17:15:14.033Z"
      },
      {
        "duration": 3,
        "start_time": "2024-02-28T17:15:14.377Z"
      },
      {
        "duration": 4,
        "start_time": "2024-02-28T17:15:16.923Z"
      },
      {
        "duration": 18,
        "start_time": "2024-02-28T17:15:41.018Z"
      },
      {
        "duration": 3,
        "start_time": "2024-02-28T19:29:15.671Z"
      },
      {
        "duration": 3,
        "start_time": "2024-02-28T19:29:16.090Z"
      },
      {
        "duration": 3,
        "start_time": "2024-02-28T19:30:16.077Z"
      },
      {
        "duration": 2,
        "start_time": "2024-02-28T19:33:14.247Z"
      },
      {
        "duration": 4,
        "start_time": "2024-02-28T19:33:14.624Z"
      },
      {
        "duration": 4,
        "start_time": "2024-02-28T19:34:35.550Z"
      },
      {
        "duration": 98,
        "start_time": "2024-02-28T19:35:05.275Z"
      },
      {
        "duration": 3,
        "start_time": "2024-02-28T19:35:05.384Z"
      },
      {
        "duration": 3,
        "start_time": "2024-02-28T19:35:13.698Z"
      },
      {
        "duration": 3,
        "start_time": "2024-02-28T19:35:13.853Z"
      },
      {
        "duration": 3,
        "start_time": "2024-02-28T19:35:14.000Z"
      },
      {
        "duration": 3,
        "start_time": "2024-02-28T19:35:15.079Z"
      },
      {
        "duration": 3,
        "start_time": "2024-02-28T19:35:15.803Z"
      },
      {
        "duration": 3,
        "start_time": "2024-02-28T19:35:17.373Z"
      },
      {
        "duration": 7,
        "start_time": "2024-02-28T19:35:33.296Z"
      },
      {
        "duration": 3,
        "start_time": "2024-02-28T19:35:34.496Z"
      },
      {
        "duration": 3,
        "start_time": "2024-02-28T19:35:37.493Z"
      },
      {
        "duration": 3,
        "start_time": "2024-02-28T19:35:37.635Z"
      },
      {
        "duration": 3,
        "start_time": "2024-02-28T19:35:37.737Z"
      },
      {
        "duration": 2,
        "start_time": "2024-02-28T19:35:37.998Z"
      },
      {
        "duration": 3,
        "start_time": "2024-02-28T19:35:38.931Z"
      },
      {
        "duration": 3,
        "start_time": "2024-02-28T19:35:40.531Z"
      },
      {
        "duration": 2,
        "start_time": "2024-02-28T19:35:50.731Z"
      },
      {
        "duration": 2,
        "start_time": "2024-02-28T19:36:17.983Z"
      },
      {
        "duration": 9,
        "start_time": "2024-02-28T19:36:18.483Z"
      },
      {
        "duration": 4,
        "start_time": "2024-02-28T19:36:29.112Z"
      },
      {
        "duration": 6,
        "start_time": "2024-02-28T19:36:30.055Z"
      },
      {
        "duration": 4,
        "start_time": "2024-02-28T19:36:52.700Z"
      },
      {
        "duration": 15,
        "start_time": "2024-02-28T19:36:56.693Z"
      },
      {
        "duration": 2,
        "start_time": "2024-02-28T19:37:36.411Z"
      },
      {
        "duration": 31,
        "start_time": "2024-02-28T19:39:32.696Z"
      },
      {
        "duration": 29,
        "start_time": "2024-02-28T19:39:38.298Z"
      },
      {
        "duration": 3,
        "start_time": "2024-02-28T19:39:48.634Z"
      },
      {
        "duration": 6,
        "start_time": "2024-02-28T19:44:26.002Z"
      },
      {
        "duration": 25,
        "start_time": "2024-02-28T19:44:30.455Z"
      },
      {
        "duration": 9,
        "start_time": "2024-02-28T19:53:46.335Z"
      },
      {
        "duration": 5,
        "start_time": "2024-02-28T19:53:56.408Z"
      },
      {
        "duration": 27,
        "start_time": "2024-02-28T19:54:00.094Z"
      },
      {
        "duration": 4,
        "start_time": "2024-02-28T19:54:04.924Z"
      },
      {
        "duration": 4,
        "start_time": "2024-02-28T19:55:05.171Z"
      },
      {
        "duration": 30,
        "start_time": "2024-02-28T19:55:05.467Z"
      },
      {
        "duration": 5,
        "start_time": "2024-02-28T19:55:05.668Z"
      },
      {
        "duration": 7,
        "start_time": "2024-02-28T19:55:07.637Z"
      },
      {
        "duration": 11,
        "start_time": "2024-02-28T19:55:20.156Z"
      },
      {
        "duration": 7,
        "start_time": "2024-02-28T20:07:05.486Z"
      },
      {
        "duration": 3,
        "start_time": "2024-02-28T20:07:11.667Z"
      },
      {
        "duration": 296,
        "start_time": "2024-02-28T20:07:18.770Z"
      },
      {
        "duration": 803,
        "start_time": "2024-02-28T20:07:32.155Z"
      },
      {
        "duration": 441,
        "start_time": "2024-02-28T20:09:14.725Z"
      },
      {
        "duration": 1839,
        "start_time": "2024-02-28T20:10:31.400Z"
      },
      {
        "duration": 3,
        "start_time": "2024-02-28T20:10:53.228Z"
      },
      {
        "duration": 1235,
        "start_time": "2024-02-28T20:11:04.536Z"
      },
      {
        "duration": 36,
        "start_time": "2024-02-28T20:28:06.651Z"
      },
      {
        "duration": 4,
        "start_time": "2024-02-28T20:28:17.627Z"
      },
      {
        "duration": 4,
        "start_time": "2024-02-28T20:29:57.574Z"
      },
      {
        "duration": 13,
        "start_time": "2024-02-28T21:15:00.524Z"
      },
      {
        "duration": 4,
        "start_time": "2024-02-28T21:15:30.821Z"
      },
      {
        "duration": 15642,
        "start_time": "2024-02-28T21:15:34.597Z"
      },
      {
        "duration": 15621,
        "start_time": "2024-02-28T21:16:00.657Z"
      },
      {
        "duration": 6,
        "start_time": "2024-02-28T21:40:59.179Z"
      },
      {
        "duration": 84,
        "start_time": "2024-02-28T21:41:20.977Z"
      },
      {
        "duration": 397,
        "start_time": "2024-02-28T21:41:25.264Z"
      },
      {
        "duration": 72,
        "start_time": "2024-02-28T21:43:37.939Z"
      },
      {
        "duration": 2917,
        "start_time": "2024-02-29T16:00:14.236Z"
      },
      {
        "duration": 1705,
        "start_time": "2024-02-29T16:00:20.079Z"
      },
      {
        "duration": 2,
        "start_time": "2024-02-29T16:00:21.786Z"
      },
      {
        "duration": 3,
        "start_time": "2024-02-29T16:00:23.582Z"
      },
      {
        "duration": 3,
        "start_time": "2024-02-29T16:00:23.770Z"
      },
      {
        "duration": 361,
        "start_time": "2024-02-29T16:00:24.186Z"
      },
      {
        "duration": 3,
        "start_time": "2024-02-29T16:00:24.549Z"
      },
      {
        "duration": 49,
        "start_time": "2024-02-29T16:00:24.554Z"
      },
      {
        "duration": 5,
        "start_time": "2024-02-29T16:00:25.228Z"
      },
      {
        "duration": 6,
        "start_time": "2024-02-29T16:00:25.747Z"
      },
      {
        "duration": 7,
        "start_time": "2024-02-29T16:00:25.927Z"
      },
      {
        "duration": 227,
        "start_time": "2024-02-29T16:00:26.010Z"
      },
      {
        "duration": 5,
        "start_time": "2024-02-29T16:00:26.240Z"
      },
      {
        "duration": 14,
        "start_time": "2024-02-29T16:00:26.247Z"
      },
      {
        "duration": 5,
        "start_time": "2024-02-29T16:00:26.273Z"
      },
      {
        "duration": 7,
        "start_time": "2024-02-29T16:00:26.640Z"
      },
      {
        "duration": 7,
        "start_time": "2024-02-29T16:00:26.820Z"
      },
      {
        "duration": 6,
        "start_time": "2024-02-29T16:00:27.201Z"
      },
      {
        "duration": 3,
        "start_time": "2024-02-29T16:00:27.385Z"
      },
      {
        "duration": 5,
        "start_time": "2024-02-29T16:00:27.754Z"
      },
      {
        "duration": 5,
        "start_time": "2024-02-29T16:00:28.098Z"
      },
      {
        "duration": 6,
        "start_time": "2024-02-29T16:00:28.290Z"
      },
      {
        "duration": 3,
        "start_time": "2024-02-29T16:00:28.469Z"
      },
      {
        "duration": 154,
        "start_time": "2024-02-29T16:00:28.785Z"
      },
      {
        "duration": 5,
        "start_time": "2024-02-29T16:00:29.327Z"
      },
      {
        "duration": 14,
        "start_time": "2024-02-29T16:00:29.474Z"
      },
      {
        "duration": 213,
        "start_time": "2024-02-29T16:00:29.961Z"
      },
      {
        "duration": 66,
        "start_time": "2024-02-29T16:00:30.503Z"
      },
      {
        "duration": 35,
        "start_time": "2024-02-29T16:00:31.101Z"
      },
      {
        "duration": 22,
        "start_time": "2024-02-29T16:00:31.977Z"
      },
      {
        "duration": 4,
        "start_time": "2024-02-29T16:00:32.189Z"
      },
      {
        "duration": 31,
        "start_time": "2024-02-29T16:00:32.387Z"
      },
      {
        "duration": 28,
        "start_time": "2024-02-29T16:00:32.578Z"
      },
      {
        "duration": 18,
        "start_time": "2024-02-29T16:00:33.529Z"
      },
      {
        "duration": 8,
        "start_time": "2024-02-29T16:00:34.435Z"
      },
      {
        "duration": 3,
        "start_time": "2024-02-29T16:00:35.046Z"
      },
      {
        "duration": 890,
        "start_time": "2024-02-29T16:00:35.224Z"
      },
      {
        "duration": 27,
        "start_time": "2024-02-29T16:00:36.117Z"
      },
      {
        "duration": 44,
        "start_time": "2024-02-29T16:00:36.146Z"
      },
      {
        "duration": 8,
        "start_time": "2024-02-29T16:00:36.270Z"
      },
      {
        "duration": 18,
        "start_time": "2024-02-29T16:00:36.442Z"
      },
      {
        "duration": 4,
        "start_time": "2024-02-29T16:00:36.813Z"
      },
      {
        "duration": 5,
        "start_time": "2024-02-29T16:00:36.986Z"
      },
      {
        "duration": 4,
        "start_time": "2024-02-29T16:00:37.123Z"
      },
      {
        "duration": 5,
        "start_time": "2024-02-29T16:00:37.568Z"
      },
      {
        "duration": 22,
        "start_time": "2024-02-29T16:00:37.758Z"
      },
      {
        "duration": 6,
        "start_time": "2024-02-29T16:00:38.911Z"
      },
      {
        "duration": 21,
        "start_time": "2024-02-29T16:00:39.134Z"
      },
      {
        "duration": 5,
        "start_time": "2024-02-29T16:00:40.029Z"
      },
      {
        "duration": 4,
        "start_time": "2024-02-29T16:00:40.362Z"
      },
      {
        "duration": 4,
        "start_time": "2024-02-29T16:00:40.853Z"
      },
      {
        "duration": 3,
        "start_time": "2024-02-29T16:00:41.615Z"
      },
      {
        "duration": 5,
        "start_time": "2024-02-29T16:00:41.797Z"
      },
      {
        "duration": 5,
        "start_time": "2024-02-29T16:00:42.065Z"
      },
      {
        "duration": 3,
        "start_time": "2024-02-29T16:00:42.983Z"
      },
      {
        "duration": 17,
        "start_time": "2024-02-29T16:00:43.329Z"
      },
      {
        "duration": 5,
        "start_time": "2024-02-29T16:00:44.150Z"
      },
      {
        "duration": 9,
        "start_time": "2024-02-29T16:00:44.350Z"
      },
      {
        "duration": 2,
        "start_time": "2024-02-29T16:00:45.399Z"
      },
      {
        "duration": 3,
        "start_time": "2024-02-29T16:00:46.202Z"
      },
      {
        "duration": 40,
        "start_time": "2024-02-29T16:00:46.399Z"
      },
      {
        "duration": 4,
        "start_time": "2024-02-29T16:00:46.587Z"
      },
      {
        "duration": 9,
        "start_time": "2024-02-29T16:00:47.064Z"
      },
      {
        "duration": 44,
        "start_time": "2024-02-29T16:00:47.307Z"
      },
      {
        "duration": 7,
        "start_time": "2024-02-29T16:00:49.698Z"
      },
      {
        "duration": 43,
        "start_time": "2024-02-29T16:00:50.890Z"
      },
      {
        "duration": 5,
        "start_time": "2024-02-29T16:00:51.347Z"
      },
      {
        "duration": 7,
        "start_time": "2024-02-29T16:00:51.751Z"
      },
      {
        "duration": 4,
        "start_time": "2024-02-29T16:00:53.923Z"
      },
      {
        "duration": 1923,
        "start_time": "2024-02-29T16:01:01.564Z"
      },
      {
        "duration": 23,
        "start_time": "2024-02-29T16:09:09.963Z"
      },
      {
        "duration": 4,
        "start_time": "2024-02-29T16:09:32.116Z"
      },
      {
        "duration": 12,
        "start_time": "2024-02-29T16:09:39.753Z"
      },
      {
        "duration": 4,
        "start_time": "2024-02-29T16:10:18.186Z"
      },
      {
        "duration": 129,
        "start_time": "2024-02-29T16:11:01.055Z"
      },
      {
        "duration": 1194,
        "start_time": "2024-02-29T16:11:20.576Z"
      },
      {
        "duration": 1731,
        "start_time": "2024-02-29T16:11:34.605Z"
      },
      {
        "duration": 4,
        "start_time": "2024-02-29T16:12:06.026Z"
      },
      {
        "duration": 3738,
        "start_time": "2024-02-29T16:12:06.410Z"
      },
      {
        "duration": 1105,
        "start_time": "2024-02-29T16:12:13.856Z"
      },
      {
        "duration": 3,
        "start_time": "2024-02-29T16:12:46.056Z"
      },
      {
        "duration": 18,
        "start_time": "2024-02-29T16:12:50.176Z"
      },
      {
        "duration": 1764,
        "start_time": "2024-02-29T16:13:02.333Z"
      },
      {
        "duration": 3,
        "start_time": "2024-02-29T16:13:29.697Z"
      },
      {
        "duration": 1779,
        "start_time": "2024-02-29T16:13:30.774Z"
      },
      {
        "duration": 1356,
        "start_time": "2024-02-29T16:13:39.077Z"
      },
      {
        "duration": 21,
        "start_time": "2024-02-29T16:13:56.725Z"
      },
      {
        "duration": 3,
        "start_time": "2024-02-29T16:14:04.853Z"
      },
      {
        "duration": 1570,
        "start_time": "2024-02-29T16:14:44.786Z"
      },
      {
        "duration": 893,
        "start_time": "2024-02-29T16:15:03.095Z"
      },
      {
        "duration": 25,
        "start_time": "2024-02-29T16:16:16.303Z"
      },
      {
        "duration": 5,
        "start_time": "2024-02-29T16:19:46.283Z"
      },
      {
        "duration": 44,
        "start_time": "2024-02-29T16:20:11.698Z"
      },
      {
        "duration": 3,
        "start_time": "2024-02-29T16:21:22.466Z"
      },
      {
        "duration": 84,
        "start_time": "2024-02-29T16:21:44.599Z"
      },
      {
        "duration": 2,
        "start_time": "2024-02-29T16:22:02.728Z"
      },
      {
        "duration": 71,
        "start_time": "2024-02-29T16:22:02.908Z"
      },
      {
        "duration": 3049,
        "start_time": "2024-02-29T16:22:19.270Z"
      },
      {
        "duration": 594,
        "start_time": "2024-02-29T16:23:01.641Z"
      },
      {
        "duration": 1034,
        "start_time": "2024-02-29T16:36:18.055Z"
      },
      {
        "duration": 3011,
        "start_time": "2024-02-29T16:36:33.692Z"
      },
      {
        "duration": 2498,
        "start_time": "2024-02-29T16:37:13.276Z"
      },
      {
        "duration": 1507,
        "start_time": "2024-02-29T16:37:15.777Z"
      },
      {
        "duration": 2,
        "start_time": "2024-02-29T16:37:17.286Z"
      },
      {
        "duration": 13,
        "start_time": "2024-02-29T16:37:17.290Z"
      },
      {
        "duration": 13,
        "start_time": "2024-02-29T16:37:17.304Z"
      },
      {
        "duration": 110,
        "start_time": "2024-02-29T16:37:17.319Z"
      },
      {
        "duration": 3,
        "start_time": "2024-02-29T16:37:17.430Z"
      },
      {
        "duration": 49,
        "start_time": "2024-02-29T16:37:17.434Z"
      },
      {
        "duration": 4,
        "start_time": "2024-02-29T16:37:17.484Z"
      },
      {
        "duration": 14,
        "start_time": "2024-02-29T16:37:17.491Z"
      },
      {
        "duration": 9,
        "start_time": "2024-02-29T16:37:17.507Z"
      },
      {
        "duration": 231,
        "start_time": "2024-02-29T16:37:17.518Z"
      },
      {
        "duration": 4,
        "start_time": "2024-02-29T16:37:17.751Z"
      },
      {
        "duration": 12,
        "start_time": "2024-02-29T16:37:17.757Z"
      },
      {
        "duration": 7,
        "start_time": "2024-02-29T16:37:17.770Z"
      },
      {
        "duration": 13,
        "start_time": "2024-02-29T16:37:17.778Z"
      },
      {
        "duration": 14,
        "start_time": "2024-02-29T16:37:17.792Z"
      },
      {
        "duration": 15,
        "start_time": "2024-02-29T16:37:17.807Z"
      },
      {
        "duration": 16,
        "start_time": "2024-02-29T16:37:17.823Z"
      },
      {
        "duration": 13,
        "start_time": "2024-02-29T16:37:17.841Z"
      },
      {
        "duration": 18,
        "start_time": "2024-02-29T16:37:17.855Z"
      },
      {
        "duration": 24,
        "start_time": "2024-02-29T16:37:17.875Z"
      },
      {
        "duration": 29,
        "start_time": "2024-02-29T16:37:17.900Z"
      },
      {
        "duration": 144,
        "start_time": "2024-02-29T16:37:17.931Z"
      },
      {
        "duration": 4,
        "start_time": "2024-02-29T16:37:18.077Z"
      },
      {
        "duration": 20,
        "start_time": "2024-02-29T16:37:18.086Z"
      },
      {
        "duration": 193,
        "start_time": "2024-02-29T16:37:18.108Z"
      },
      {
        "duration": 54,
        "start_time": "2024-02-29T16:37:18.305Z"
      },
      {
        "duration": 52,
        "start_time": "2024-02-29T16:37:18.361Z"
      },
      {
        "duration": 21,
        "start_time": "2024-02-29T16:37:18.415Z"
      },
      {
        "duration": 4,
        "start_time": "2024-02-29T16:37:18.437Z"
      },
      {
        "duration": 57,
        "start_time": "2024-02-29T16:37:18.443Z"
      },
      {
        "duration": 26,
        "start_time": "2024-02-29T16:37:18.502Z"
      },
      {
        "duration": 16,
        "start_time": "2024-02-29T16:37:18.529Z"
      },
      {
        "duration": 6,
        "start_time": "2024-02-29T16:37:18.546Z"
      },
      {
        "duration": 3,
        "start_time": "2024-02-29T16:37:18.614Z"
      },
      {
        "duration": 866,
        "start_time": "2024-02-29T16:37:18.813Z"
      },
      {
        "duration": 25,
        "start_time": "2024-02-29T16:37:19.681Z"
      },
      {
        "duration": 26,
        "start_time": "2024-02-29T16:37:19.708Z"
      },
      {
        "duration": 8,
        "start_time": "2024-02-29T16:37:19.904Z"
      },
      {
        "duration": 19,
        "start_time": "2024-02-29T16:37:20.413Z"
      },
      {
        "duration": 4,
        "start_time": "2024-02-29T16:37:20.914Z"
      },
      {
        "duration": 5,
        "start_time": "2024-02-29T16:37:21.081Z"
      },
      {
        "duration": 5,
        "start_time": "2024-02-29T16:37:21.250Z"
      },
      {
        "duration": 4,
        "start_time": "2024-02-29T16:37:21.423Z"
      },
      {
        "duration": 20,
        "start_time": "2024-02-29T16:37:21.607Z"
      },
      {
        "duration": 7,
        "start_time": "2024-02-29T16:37:22.535Z"
      },
      {
        "duration": 20,
        "start_time": "2024-02-29T16:37:22.703Z"
      },
      {
        "duration": 4,
        "start_time": "2024-02-29T16:37:23.183Z"
      },
      {
        "duration": 3,
        "start_time": "2024-02-29T16:37:23.353Z"
      },
      {
        "duration": 4,
        "start_time": "2024-02-29T16:37:23.512Z"
      },
      {
        "duration": 3,
        "start_time": "2024-02-29T16:37:23.845Z"
      },
      {
        "duration": 4,
        "start_time": "2024-02-29T16:37:24.004Z"
      },
      {
        "duration": 5,
        "start_time": "2024-02-29T16:37:24.173Z"
      },
      {
        "duration": 3,
        "start_time": "2024-02-29T16:37:24.525Z"
      },
      {
        "duration": 16,
        "start_time": "2024-02-29T16:37:24.705Z"
      },
      {
        "duration": 5,
        "start_time": "2024-02-29T16:37:25.035Z"
      },
      {
        "duration": 9,
        "start_time": "2024-02-29T16:37:25.166Z"
      },
      {
        "duration": 3,
        "start_time": "2024-02-29T16:37:26.036Z"
      },
      {
        "duration": 3,
        "start_time": "2024-02-29T16:37:26.216Z"
      },
      {
        "duration": 54,
        "start_time": "2024-02-29T16:37:26.415Z"
      },
      {
        "duration": 4,
        "start_time": "2024-02-29T16:37:26.595Z"
      },
      {
        "duration": 8,
        "start_time": "2024-02-29T16:37:26.952Z"
      },
      {
        "duration": 32,
        "start_time": "2024-02-29T16:37:27.131Z"
      },
      {
        "duration": 4,
        "start_time": "2024-02-29T16:37:27.311Z"
      },
      {
        "duration": 41,
        "start_time": "2024-02-29T16:37:27.482Z"
      },
      {
        "duration": 5,
        "start_time": "2024-02-29T16:37:27.669Z"
      },
      {
        "duration": 6,
        "start_time": "2024-02-29T16:37:28.038Z"
      },
      {
        "duration": 980,
        "start_time": "2024-02-29T16:37:28.927Z"
      },
      {
        "duration": 1760,
        "start_time": "2024-02-29T16:37:31.011Z"
      },
      {
        "duration": 1539,
        "start_time": "2024-02-29T16:37:38.281Z"
      },
      {
        "duration": 68774,
        "start_time": "2024-02-29T16:46:19.136Z"
      },
      {
        "duration": 1289,
        "start_time": "2024-02-29T16:51:49.379Z"
      },
      {
        "duration": 2558,
        "start_time": "2024-02-29T16:53:08.661Z"
      },
      {
        "duration": 1405,
        "start_time": "2024-02-29T16:53:11.221Z"
      },
      {
        "duration": 2,
        "start_time": "2024-02-29T16:53:12.628Z"
      },
      {
        "duration": 8,
        "start_time": "2024-02-29T16:53:12.632Z"
      },
      {
        "duration": 5,
        "start_time": "2024-02-29T16:53:12.641Z"
      },
      {
        "duration": 99,
        "start_time": "2024-02-29T16:53:12.647Z"
      },
      {
        "duration": 2,
        "start_time": "2024-02-29T16:53:12.748Z"
      },
      {
        "duration": 43,
        "start_time": "2024-02-29T16:53:12.752Z"
      },
      {
        "duration": 4,
        "start_time": "2024-02-29T16:53:12.797Z"
      },
      {
        "duration": 19,
        "start_time": "2024-02-29T16:53:12.803Z"
      },
      {
        "duration": 15,
        "start_time": "2024-02-29T16:53:12.824Z"
      },
      {
        "duration": 217,
        "start_time": "2024-02-29T16:53:12.840Z"
      },
      {
        "duration": 5,
        "start_time": "2024-02-29T16:53:13.058Z"
      },
      {
        "duration": 7,
        "start_time": "2024-02-29T16:53:13.064Z"
      },
      {
        "duration": 16,
        "start_time": "2024-02-29T16:53:13.072Z"
      },
      {
        "duration": 18,
        "start_time": "2024-02-29T16:53:13.089Z"
      },
      {
        "duration": 18,
        "start_time": "2024-02-29T16:53:13.108Z"
      },
      {
        "duration": 6,
        "start_time": "2024-02-29T16:53:13.127Z"
      },
      {
        "duration": 5,
        "start_time": "2024-02-29T16:53:13.134Z"
      },
      {
        "duration": 11,
        "start_time": "2024-02-29T16:53:13.140Z"
      },
      {
        "duration": 6,
        "start_time": "2024-02-29T16:53:13.152Z"
      },
      {
        "duration": 7,
        "start_time": "2024-02-29T16:53:13.159Z"
      },
      {
        "duration": 4,
        "start_time": "2024-02-29T16:53:13.167Z"
      },
      {
        "duration": 153,
        "start_time": "2024-02-29T16:53:13.172Z"
      },
      {
        "duration": 5,
        "start_time": "2024-02-29T16:53:13.326Z"
      },
      {
        "duration": 33,
        "start_time": "2024-02-29T16:53:13.333Z"
      },
      {
        "duration": 175,
        "start_time": "2024-02-29T16:53:13.367Z"
      },
      {
        "duration": 66,
        "start_time": "2024-02-29T16:53:13.546Z"
      },
      {
        "duration": 33,
        "start_time": "2024-02-29T16:53:13.614Z"
      },
      {
        "duration": 45,
        "start_time": "2024-02-29T16:53:13.649Z"
      },
      {
        "duration": 3,
        "start_time": "2024-02-29T16:53:13.695Z"
      },
      {
        "duration": 46,
        "start_time": "2024-02-29T16:53:13.699Z"
      },
      {
        "duration": 24,
        "start_time": "2024-02-29T16:53:13.747Z"
      },
      {
        "duration": 18,
        "start_time": "2024-02-29T16:53:13.772Z"
      },
      {
        "duration": 11,
        "start_time": "2024-02-29T16:53:13.792Z"
      },
      {
        "duration": 31,
        "start_time": "2024-02-29T16:53:13.804Z"
      },
      {
        "duration": 860,
        "start_time": "2024-02-29T16:53:13.836Z"
      },
      {
        "duration": 25,
        "start_time": "2024-02-29T16:53:14.698Z"
      },
      {
        "duration": 41,
        "start_time": "2024-02-29T16:53:14.725Z"
      },
      {
        "duration": 10,
        "start_time": "2024-02-29T16:53:14.767Z"
      },
      {
        "duration": 24,
        "start_time": "2024-02-29T16:53:14.778Z"
      },
      {
        "duration": 4,
        "start_time": "2024-02-29T16:53:14.803Z"
      },
      {
        "duration": 10,
        "start_time": "2024-02-29T16:53:14.808Z"
      },
      {
        "duration": 5,
        "start_time": "2024-02-29T16:53:14.820Z"
      },
      {
        "duration": 12,
        "start_time": "2024-02-29T16:53:14.827Z"
      },
      {
        "duration": 20,
        "start_time": "2024-02-29T16:53:14.840Z"
      },
      {
        "duration": 28,
        "start_time": "2024-02-29T16:53:14.861Z"
      },
      {
        "duration": 20,
        "start_time": "2024-02-29T16:53:14.890Z"
      },
      {
        "duration": 11,
        "start_time": "2024-02-29T16:53:14.911Z"
      },
      {
        "duration": 10,
        "start_time": "2024-02-29T16:53:14.923Z"
      },
      {
        "duration": 9,
        "start_time": "2024-02-29T16:53:14.934Z"
      },
      {
        "duration": 3,
        "start_time": "2024-02-29T16:53:14.944Z"
      },
      {
        "duration": 4,
        "start_time": "2024-02-29T16:53:14.949Z"
      },
      {
        "duration": 5,
        "start_time": "2024-02-29T16:53:14.954Z"
      },
      {
        "duration": 3,
        "start_time": "2024-02-29T16:53:14.960Z"
      },
      {
        "duration": 30,
        "start_time": "2024-02-29T16:53:14.964Z"
      },
      {
        "duration": 4,
        "start_time": "2024-02-29T16:53:14.995Z"
      },
      {
        "duration": 66,
        "start_time": "2024-02-29T16:53:15.001Z"
      },
      {
        "duration": 50,
        "start_time": "2024-02-29T16:53:15.069Z"
      },
      {
        "duration": 47,
        "start_time": "2024-02-29T16:53:15.120Z"
      },
      {
        "duration": 52,
        "start_time": "2024-02-29T16:53:15.169Z"
      },
      {
        "duration": 14,
        "start_time": "2024-02-29T16:53:15.223Z"
      },
      {
        "duration": 28,
        "start_time": "2024-02-29T16:53:15.239Z"
      },
      {
        "duration": 51,
        "start_time": "2024-02-29T16:53:15.269Z"
      },
      {
        "duration": 5,
        "start_time": "2024-02-29T16:53:15.322Z"
      },
      {
        "duration": 56,
        "start_time": "2024-02-29T16:53:15.329Z"
      },
      {
        "duration": 25,
        "start_time": "2024-02-29T16:53:15.386Z"
      },
      {
        "duration": 49,
        "start_time": "2024-02-29T16:53:15.413Z"
      },
      {
        "duration": 1024,
        "start_time": "2024-02-29T16:53:15.464Z"
      },
      {
        "duration": 68325,
        "start_time": "2024-02-29T16:53:16.490Z"
      },
      {
        "duration": 1311,
        "start_time": "2024-02-29T16:54:24.816Z"
      },
      {
        "duration": 2807,
        "start_time": "2024-03-01T10:25:59.756Z"
      },
      {
        "duration": 2857,
        "start_time": "2024-03-01T10:26:02.566Z"
      },
      {
        "duration": 2,
        "start_time": "2024-03-01T10:26:05.424Z"
      },
      {
        "duration": 4,
        "start_time": "2024-03-01T10:26:05.428Z"
      },
      {
        "duration": 4,
        "start_time": "2024-03-01T10:26:05.433Z"
      },
      {
        "duration": 348,
        "start_time": "2024-03-01T10:26:05.439Z"
      },
      {
        "duration": 3,
        "start_time": "2024-03-01T10:26:05.788Z"
      },
      {
        "duration": 40,
        "start_time": "2024-03-01T10:26:05.792Z"
      },
      {
        "duration": 4,
        "start_time": "2024-03-01T10:26:05.833Z"
      },
      {
        "duration": 11,
        "start_time": "2024-03-01T10:26:05.839Z"
      },
      {
        "duration": 5,
        "start_time": "2024-03-01T10:26:05.852Z"
      },
      {
        "duration": 249,
        "start_time": "2024-03-01T10:26:05.858Z"
      },
      {
        "duration": 4,
        "start_time": "2024-03-01T10:26:06.109Z"
      },
      {
        "duration": 24,
        "start_time": "2024-03-01T10:26:06.114Z"
      },
      {
        "duration": 4,
        "start_time": "2024-03-01T10:26:06.140Z"
      },
      {
        "duration": 14,
        "start_time": "2024-03-01T10:26:06.145Z"
      },
      {
        "duration": 13,
        "start_time": "2024-03-01T10:26:06.160Z"
      },
      {
        "duration": 24,
        "start_time": "2024-03-01T10:26:06.174Z"
      },
      {
        "duration": 8,
        "start_time": "2024-03-01T10:26:06.200Z"
      },
      {
        "duration": 7,
        "start_time": "2024-03-01T10:26:06.209Z"
      },
      {
        "duration": 20,
        "start_time": "2024-03-01T10:26:06.217Z"
      },
      {
        "duration": 6,
        "start_time": "2024-03-01T10:26:06.239Z"
      },
      {
        "duration": 3,
        "start_time": "2024-03-01T10:26:06.247Z"
      },
      {
        "duration": 145,
        "start_time": "2024-03-01T10:26:06.252Z"
      },
      {
        "duration": 6,
        "start_time": "2024-03-01T10:26:06.399Z"
      },
      {
        "duration": 29,
        "start_time": "2024-03-01T10:26:06.406Z"
      },
      {
        "duration": 193,
        "start_time": "2024-03-01T10:26:06.437Z"
      },
      {
        "duration": 69,
        "start_time": "2024-03-01T10:26:06.635Z"
      },
      {
        "duration": 31,
        "start_time": "2024-03-01T10:26:06.706Z"
      },
      {
        "duration": 20,
        "start_time": "2024-03-01T10:26:06.740Z"
      },
      {
        "duration": 3,
        "start_time": "2024-03-01T10:26:06.788Z"
      },
      {
        "duration": 40,
        "start_time": "2024-03-01T10:26:06.792Z"
      },
      {
        "duration": 26,
        "start_time": "2024-03-01T10:26:06.834Z"
      },
      {
        "duration": 16,
        "start_time": "2024-03-01T10:26:06.861Z"
      },
      {
        "duration": 6,
        "start_time": "2024-03-01T10:26:06.887Z"
      },
      {
        "duration": 4,
        "start_time": "2024-03-01T10:26:06.894Z"
      },
      {
        "duration": 863,
        "start_time": "2024-03-01T10:26:06.899Z"
      },
      {
        "duration": 31,
        "start_time": "2024-03-01T10:26:07.764Z"
      },
      {
        "duration": 16,
        "start_time": "2024-03-01T10:26:07.797Z"
      },
      {
        "duration": 8,
        "start_time": "2024-03-01T10:26:07.814Z"
      },
      {
        "duration": 16,
        "start_time": "2024-03-01T10:26:07.824Z"
      },
      {
        "duration": 3,
        "start_time": "2024-03-01T10:26:07.842Z"
      },
      {
        "duration": 10,
        "start_time": "2024-03-01T10:26:07.846Z"
      },
      {
        "duration": 32,
        "start_time": "2024-03-01T10:26:07.857Z"
      },
      {
        "duration": 3,
        "start_time": "2024-03-01T10:26:07.891Z"
      },
      {
        "duration": 32,
        "start_time": "2024-03-01T10:26:07.896Z"
      },
      {
        "duration": 6,
        "start_time": "2024-03-01T10:26:07.929Z"
      },
      {
        "duration": 25,
        "start_time": "2024-03-01T10:26:07.936Z"
      },
      {
        "duration": 13,
        "start_time": "2024-03-01T10:26:07.963Z"
      },
      {
        "duration": 5,
        "start_time": "2024-03-01T10:26:07.986Z"
      },
      {
        "duration": 63,
        "start_time": "2024-03-01T10:26:07.992Z"
      },
      {
        "duration": 10,
        "start_time": "2024-03-01T10:26:08.057Z"
      },
      {
        "duration": 17,
        "start_time": "2024-03-01T10:26:08.069Z"
      },
      {
        "duration": 5,
        "start_time": "2024-03-01T10:26:08.088Z"
      },
      {
        "duration": 27,
        "start_time": "2024-03-01T10:26:08.095Z"
      },
      {
        "duration": 32,
        "start_time": "2024-03-01T10:26:08.123Z"
      },
      {
        "duration": 20,
        "start_time": "2024-03-01T10:26:08.157Z"
      },
      {
        "duration": 10,
        "start_time": "2024-03-01T10:26:08.178Z"
      },
      {
        "duration": 2,
        "start_time": "2024-03-01T10:26:08.189Z"
      },
      {
        "duration": 17,
        "start_time": "2024-03-01T10:26:08.192Z"
      },
      {
        "duration": 68,
        "start_time": "2024-03-01T10:26:08.211Z"
      },
      {
        "duration": 21,
        "start_time": "2024-03-01T10:26:08.280Z"
      },
      {
        "duration": 36,
        "start_time": "2024-03-01T10:26:08.303Z"
      },
      {
        "duration": 71,
        "start_time": "2024-03-01T10:26:08.340Z"
      },
      {
        "duration": 4,
        "start_time": "2024-03-01T10:26:08.412Z"
      },
      {
        "duration": 45,
        "start_time": "2024-03-01T10:26:08.418Z"
      },
      {
        "duration": 10,
        "start_time": "2024-03-01T10:26:08.464Z"
      },
      {
        "duration": 23,
        "start_time": "2024-03-01T10:26:08.476Z"
      },
      {
        "duration": 895,
        "start_time": "2024-03-01T10:26:08.501Z"
      },
      {
        "duration": 72636,
        "start_time": "2024-03-01T10:26:09.494Z"
      },
      {
        "duration": 1766,
        "start_time": "2024-03-01T10:27:22.131Z"
      },
      {
        "duration": 52,
        "start_time": "2024-03-01T11:58:25.488Z"
      },
      {
        "duration": 3091,
        "start_time": "2024-03-01T12:47:10.724Z"
      },
      {
        "duration": 1654,
        "start_time": "2024-03-01T12:47:13.818Z"
      },
      {
        "duration": 9,
        "start_time": "2024-03-01T12:47:15.474Z"
      },
      {
        "duration": 39,
        "start_time": "2024-03-01T12:47:15.485Z"
      },
      {
        "duration": 60,
        "start_time": "2024-03-01T12:47:15.525Z"
      },
      {
        "duration": 331,
        "start_time": "2024-03-01T12:47:15.587Z"
      },
      {
        "duration": 3,
        "start_time": "2024-03-01T12:47:15.919Z"
      },
      {
        "duration": 61,
        "start_time": "2024-03-01T12:47:15.923Z"
      },
      {
        "duration": 4,
        "start_time": "2024-03-01T12:47:15.986Z"
      },
      {
        "duration": 56,
        "start_time": "2024-03-01T12:47:15.992Z"
      },
      {
        "duration": 14,
        "start_time": "2024-03-01T12:47:16.049Z"
      },
      {
        "duration": 237,
        "start_time": "2024-03-01T12:47:16.064Z"
      },
      {
        "duration": 5,
        "start_time": "2024-03-01T12:47:16.302Z"
      },
      {
        "duration": 10,
        "start_time": "2024-03-01T12:47:16.309Z"
      },
      {
        "duration": 8,
        "start_time": "2024-03-01T12:47:16.320Z"
      },
      {
        "duration": 13,
        "start_time": "2024-03-01T12:47:16.329Z"
      },
      {
        "duration": 14,
        "start_time": "2024-03-01T12:47:16.344Z"
      },
      {
        "duration": 6,
        "start_time": "2024-03-01T12:47:16.360Z"
      },
      {
        "duration": 6,
        "start_time": "2024-03-01T12:47:17.620Z"
      },
      {
        "duration": 4,
        "start_time": "2024-03-01T12:47:18.337Z"
      },
      {
        "duration": 7,
        "start_time": "2024-03-01T12:47:19.345Z"
      },
      {
        "duration": 5,
        "start_time": "2024-03-01T12:47:19.730Z"
      },
      {
        "duration": 6,
        "start_time": "2024-03-01T12:47:19.917Z"
      },
      {
        "duration": 3,
        "start_time": "2024-03-01T12:47:20.098Z"
      },
      {
        "duration": 137,
        "start_time": "2024-03-01T12:47:20.505Z"
      },
      {
        "duration": 5,
        "start_time": "2024-03-01T12:47:21.045Z"
      },
      {
        "duration": 14,
        "start_time": "2024-03-01T12:47:21.250Z"
      },
      {
        "duration": 230,
        "start_time": "2024-03-01T12:47:21.835Z"
      },
      {
        "duration": 54,
        "start_time": "2024-03-01T12:47:22.404Z"
      },
      {
        "duration": 31,
        "start_time": "2024-03-01T12:47:23.110Z"
      },
      {
        "duration": 22,
        "start_time": "2024-03-01T12:47:24.027Z"
      },
      {
        "duration": 3,
        "start_time": "2024-03-01T12:47:24.277Z"
      },
      {
        "duration": 26,
        "start_time": "2024-03-01T12:47:24.616Z"
      },
      {
        "duration": 26,
        "start_time": "2024-03-01T12:47:25.392Z"
      },
      {
        "duration": 15,
        "start_time": "2024-03-01T12:47:26.512Z"
      },
      {
        "duration": 7,
        "start_time": "2024-03-01T12:47:27.509Z"
      },
      {
        "duration": 3,
        "start_time": "2024-03-01T12:47:28.100Z"
      },
      {
        "duration": 870,
        "start_time": "2024-03-01T12:47:28.442Z"
      },
      {
        "duration": 24,
        "start_time": "2024-03-01T12:47:29.568Z"
      },
      {
        "duration": 17,
        "start_time": "2024-03-01T12:47:29.792Z"
      },
      {
        "duration": 8,
        "start_time": "2024-03-01T12:47:30.592Z"
      },
      {
        "duration": 18,
        "start_time": "2024-03-01T12:47:31.085Z"
      },
      {
        "duration": 4,
        "start_time": "2024-03-01T12:47:32.088Z"
      },
      {
        "duration": 5,
        "start_time": "2024-03-01T12:47:32.260Z"
      },
      {
        "duration": 6,
        "start_time": "2024-03-01T12:47:32.462Z"
      },
      {
        "duration": 5,
        "start_time": "2024-03-01T12:47:32.619Z"
      },
      {
        "duration": 22,
        "start_time": "2024-03-01T12:47:33.528Z"
      },
      {
        "duration": 6,
        "start_time": "2024-03-01T12:47:35.788Z"
      },
      {
        "duration": 23,
        "start_time": "2024-03-01T12:47:35.974Z"
      },
      {
        "duration": 4,
        "start_time": "2024-03-01T12:47:36.894Z"
      },
      {
        "duration": 4,
        "start_time": "2024-03-01T12:47:37.161Z"
      },
      {
        "duration": 3,
        "start_time": "2024-03-01T12:47:37.359Z"
      },
      {
        "duration": 2,
        "start_time": "2024-03-01T12:47:37.848Z"
      },
      {
        "duration": 5,
        "start_time": "2024-03-01T12:47:38.152Z"
      },
      {
        "duration": 4,
        "start_time": "2024-03-01T12:47:38.317Z"
      },
      {
        "duration": 2,
        "start_time": "2024-03-01T12:47:39.272Z"
      },
      {
        "duration": 18,
        "start_time": "2024-03-01T12:47:39.498Z"
      },
      {
        "duration": 4,
        "start_time": "2024-03-01T12:47:40.248Z"
      },
      {
        "duration": 7,
        "start_time": "2024-03-01T12:47:40.437Z"
      },
      {
        "duration": 3,
        "start_time": "2024-03-01T12:47:41.005Z"
      },
      {
        "duration": 2,
        "start_time": "2024-03-01T12:47:41.194Z"
      },
      {
        "duration": 40,
        "start_time": "2024-03-01T12:47:41.403Z"
      },
      {
        "duration": 4,
        "start_time": "2024-03-01T12:47:41.582Z"
      },
      {
        "duration": 10,
        "start_time": "2024-03-01T12:47:41.982Z"
      },
      {
        "duration": 34,
        "start_time": "2024-03-01T12:47:42.182Z"
      },
      {
        "duration": 4,
        "start_time": "2024-03-01T12:47:42.574Z"
      },
      {
        "duration": 32,
        "start_time": "2024-03-01T12:47:42.821Z"
      },
      {
        "duration": 5,
        "start_time": "2024-03-01T12:47:43.353Z"
      },
      {
        "duration": 8,
        "start_time": "2024-03-01T12:47:43.610Z"
      },
      {
        "duration": 1313,
        "start_time": "2024-03-01T12:47:48.971Z"
      },
      {
        "duration": 57603,
        "start_time": "2024-03-01T12:47:53.979Z"
      },
      {
        "duration": 1251,
        "start_time": "2024-03-01T12:52:32.380Z"
      },
      {
        "duration": 2467,
        "start_time": "2024-03-01T20:56:15.598Z"
      },
      {
        "duration": 1407,
        "start_time": "2024-03-01T20:56:18.068Z"
      },
      {
        "duration": 3,
        "start_time": "2024-03-01T20:56:31.020Z"
      },
      {
        "duration": 3,
        "start_time": "2024-03-01T20:56:31.740Z"
      },
      {
        "duration": 3,
        "start_time": "2024-03-01T20:56:32.072Z"
      },
      {
        "duration": 97,
        "start_time": "2024-03-01T20:56:33.097Z"
      },
      {
        "duration": 3,
        "start_time": "2024-03-01T20:56:33.846Z"
      },
      {
        "duration": 48,
        "start_time": "2024-03-01T20:56:36.442Z"
      },
      {
        "duration": 4,
        "start_time": "2024-03-01T20:56:45.109Z"
      },
      {
        "duration": 5,
        "start_time": "2024-03-01T20:56:45.405Z"
      },
      {
        "duration": 7,
        "start_time": "2024-03-01T20:56:47.117Z"
      },
      {
        "duration": 211,
        "start_time": "2024-03-01T20:56:47.525Z"
      },
      {
        "duration": 7,
        "start_time": "2024-03-01T20:56:51.085Z"
      },
      {
        "duration": 7,
        "start_time": "2024-03-01T20:56:51.766Z"
      },
      {
        "duration": 4,
        "start_time": "2024-03-01T20:56:52.187Z"
      },
      {
        "duration": 2,
        "start_time": "2024-03-01T20:56:53.208Z"
      },
      {
        "duration": 6,
        "start_time": "2024-03-01T20:56:53.568Z"
      },
      {
        "duration": 6,
        "start_time": "2024-03-01T20:57:09.040Z"
      },
      {
        "duration": 6,
        "start_time": "2024-03-01T21:03:24.821Z"
      },
      {
        "duration": 3,
        "start_time": "2024-03-01T21:03:25.221Z"
      },
      {
        "duration": 5,
        "start_time": "2024-03-01T21:03:25.902Z"
      },
      {
        "duration": 4,
        "start_time": "2024-03-01T21:03:26.255Z"
      },
      {
        "duration": 5,
        "start_time": "2024-03-01T21:03:26.602Z"
      },
      {
        "duration": 3,
        "start_time": "2024-03-01T21:03:26.780Z"
      },
      {
        "duration": 136,
        "start_time": "2024-03-01T21:03:27.152Z"
      },
      {
        "duration": 5,
        "start_time": "2024-03-01T21:03:36.991Z"
      },
      {
        "duration": 14,
        "start_time": "2024-03-01T21:03:37.241Z"
      },
      {
        "duration": 185,
        "start_time": "2024-03-01T21:06:28.036Z"
      },
      {
        "duration": 53,
        "start_time": "2024-03-01T21:06:30.250Z"
      },
      {
        "duration": 31,
        "start_time": "2024-03-01T21:06:31.161Z"
      },
      {
        "duration": 21,
        "start_time": "2024-03-01T21:06:59.758Z"
      },
      {
        "duration": 3,
        "start_time": "2024-03-01T21:12:50.220Z"
      },
      {
        "duration": 2,
        "start_time": "2024-03-01T21:35:38.893Z"
      },
      {
        "duration": 26,
        "start_time": "2024-03-01T21:37:27.499Z"
      },
      {
        "duration": 25,
        "start_time": "2024-03-01T21:37:31.989Z"
      },
      {
        "duration": 18,
        "start_time": "2024-03-01T22:00:59.847Z"
      },
      {
        "duration": 6,
        "start_time": "2024-03-01T22:01:00.319Z"
      },
      {
        "duration": 3,
        "start_time": "2024-03-01T22:01:01.295Z"
      },
      {
        "duration": 879,
        "start_time": "2024-03-01T22:01:01.483Z"
      },
      {
        "duration": 15,
        "start_time": "2024-03-01T22:08:43.312Z"
      },
      {
        "duration": 21,
        "start_time": "2024-03-01T22:08:46.932Z"
      },
      {
        "duration": 26,
        "start_time": "2024-03-01T22:15:30.424Z"
      },
      {
        "duration": 17,
        "start_time": "2024-03-01T22:15:31.153Z"
      },
      {
        "duration": 10,
        "start_time": "2024-03-01T22:15:48.915Z"
      },
      {
        "duration": 16,
        "start_time": "2024-03-01T22:15:49.465Z"
      },
      {
        "duration": 4,
        "start_time": "2024-03-01T22:16:01.216Z"
      },
      {
        "duration": 5,
        "start_time": "2024-03-01T22:16:01.541Z"
      },
      {
        "duration": 5,
        "start_time": "2024-03-01T22:16:01.767Z"
      },
      {
        "duration": 4,
        "start_time": "2024-03-01T22:16:02.597Z"
      },
      {
        "duration": 20,
        "start_time": "2024-03-01T22:16:09.757Z"
      },
      {
        "duration": 4,
        "start_time": "2024-03-01T22:40:55.300Z"
      },
      {
        "duration": 5,
        "start_time": "2024-03-01T22:46:34.772Z"
      },
      {
        "duration": 4,
        "start_time": "2024-03-01T22:46:34.962Z"
      },
      {
        "duration": 5,
        "start_time": "2024-03-01T22:46:35.148Z"
      },
      {
        "duration": 123,
        "start_time": "2024-03-01T22:47:19.140Z"
      },
      {
        "duration": 3148,
        "start_time": "2024-03-01T22:47:32.179Z"
      },
      {
        "duration": 49,
        "start_time": "2024-03-01T22:47:38.316Z"
      },
      {
        "duration": 1162,
        "start_time": "2024-03-01T22:48:17.773Z"
      },
      {
        "duration": 3484,
        "start_time": "2024-03-01T22:49:19.549Z"
      },
      {
        "duration": 2530,
        "start_time": "2024-03-01T22:51:44.316Z"
      },
      {
        "duration": 2463,
        "start_time": "2024-03-01T22:51:46.848Z"
      },
      {
        "duration": 1413,
        "start_time": "2024-03-01T22:51:49.313Z"
      },
      {
        "duration": 2,
        "start_time": "2024-03-01T22:51:54.037Z"
      },
      {
        "duration": 4,
        "start_time": "2024-03-01T22:51:54.334Z"
      },
      {
        "duration": 3,
        "start_time": "2024-03-01T22:51:54.543Z"
      },
      {
        "duration": 95,
        "start_time": "2024-03-01T22:51:55.434Z"
      },
      {
        "duration": 3,
        "start_time": "2024-03-01T22:51:55.644Z"
      },
      {
        "duration": 42,
        "start_time": "2024-03-01T22:51:55.844Z"
      },
      {
        "duration": 4,
        "start_time": "2024-03-01T22:51:56.661Z"
      },
      {
        "duration": 5,
        "start_time": "2024-03-01T22:51:56.891Z"
      },
      {
        "duration": 5,
        "start_time": "2024-03-01T22:51:57.699Z"
      },
      {
        "duration": 220,
        "start_time": "2024-03-01T22:51:58.080Z"
      },
      {
        "duration": 5,
        "start_time": "2024-03-01T22:51:58.633Z"
      },
      {
        "duration": 7,
        "start_time": "2024-03-01T22:51:58.807Z"
      },
      {
        "duration": 4,
        "start_time": "2024-03-01T22:51:58.997Z"
      },
      {
        "duration": 2,
        "start_time": "2024-03-01T22:51:59.372Z"
      },
      {
        "duration": 7,
        "start_time": "2024-03-01T22:51:59.590Z"
      },
      {
        "duration": 6,
        "start_time": "2024-03-01T22:52:00.212Z"
      },
      {
        "duration": 6,
        "start_time": "2024-03-01T22:52:00.775Z"
      },
      {
        "duration": 3,
        "start_time": "2024-03-01T22:52:01.159Z"
      },
      {
        "duration": 5,
        "start_time": "2024-03-01T22:52:01.946Z"
      },
      {
        "duration": 5,
        "start_time": "2024-03-01T22:52:02.308Z"
      },
      {
        "duration": 6,
        "start_time": "2024-03-01T22:52:02.486Z"
      },
      {
        "duration": 3,
        "start_time": "2024-03-01T22:52:02.673Z"
      },
      {
        "duration": 182,
        "start_time": "2024-03-01T22:52:03.034Z"
      },
      {
        "duration": 5,
        "start_time": "2024-03-01T22:52:03.589Z"
      },
      {
        "duration": 15,
        "start_time": "2024-03-01T22:52:03.768Z"
      },
      {
        "duration": 190,
        "start_time": "2024-03-01T22:52:04.340Z"
      },
      {
        "duration": 58,
        "start_time": "2024-03-01T22:52:04.910Z"
      },
      {
        "duration": 32,
        "start_time": "2024-03-01T22:52:05.286Z"
      },
      {
        "duration": 23,
        "start_time": "2024-03-01T22:52:05.844Z"
      },
      {
        "duration": 3,
        "start_time": "2024-03-01T22:52:06.056Z"
      },
      {
        "duration": 2,
        "start_time": "2024-03-01T22:52:06.239Z"
      },
      {
        "duration": 26,
        "start_time": "2024-03-01T22:52:06.421Z"
      },
      {
        "duration": 27,
        "start_time": "2024-03-01T22:52:07.842Z"
      },
      {
        "duration": 24,
        "start_time": "2024-03-01T22:52:08.437Z"
      },
      {
        "duration": 6,
        "start_time": "2024-03-01T22:52:08.959Z"
      },
      {
        "duration": 3,
        "start_time": "2024-03-01T22:52:09.473Z"
      },
      {
        "duration": 833,
        "start_time": "2024-03-01T22:52:09.638Z"
      },
      {
        "duration": 25,
        "start_time": "2024-03-01T22:52:10.473Z"
      },
      {
        "duration": 26,
        "start_time": "2024-03-01T22:52:11.336Z"
      },
      {
        "duration": 18,
        "start_time": "2024-03-01T22:52:11.625Z"
      },
      {
        "duration": 9,
        "start_time": "2024-03-01T22:52:13.333Z"
      },
      {
        "duration": 18,
        "start_time": "2024-03-01T22:52:13.558Z"
      },
      {
        "duration": 4,
        "start_time": "2024-03-01T22:52:17.162Z"
      },
      {
        "duration": 5,
        "start_time": "2024-03-01T22:52:17.353Z"
      },
      {
        "duration": 5,
        "start_time": "2024-03-01T22:52:17.573Z"
      },
      {
        "duration": 4,
        "start_time": "2024-03-01T22:52:20.467Z"
      },
      {
        "duration": 19,
        "start_time": "2024-03-01T22:52:20.665Z"
      },
      {
        "duration": 6,
        "start_time": "2024-03-01T22:52:21.605Z"
      },
      {
        "duration": 25,
        "start_time": "2024-03-01T22:52:21.937Z"
      },
      {
        "duration": 5,
        "start_time": "2024-03-01T22:52:23.131Z"
      },
      {
        "duration": 4,
        "start_time": "2024-03-01T22:52:23.759Z"
      },
      {
        "duration": 4,
        "start_time": "2024-03-01T22:52:54.253Z"
      },
      {
        "duration": 3497,
        "start_time": "2024-03-01T22:53:11.719Z"
      },
      {
        "duration": 6,
        "start_time": "2024-03-01T22:59:43.070Z"
      },
      {
        "duration": 115,
        "start_time": "2024-03-01T23:01:36.066Z"
      },
      {
        "duration": 1881,
        "start_time": "2024-03-01T23:01:44.395Z"
      },
      {
        "duration": 6,
        "start_time": "2024-03-01T23:03:11.645Z"
      },
      {
        "duration": 3,
        "start_time": "2024-03-01T23:04:36.096Z"
      },
      {
        "duration": 4,
        "start_time": "2024-03-01T23:05:09.163Z"
      },
      {
        "duration": 4,
        "start_time": "2024-03-01T23:05:20.898Z"
      },
      {
        "duration": 4,
        "start_time": "2024-03-01T23:05:42.507Z"
      },
      {
        "duration": 9,
        "start_time": "2024-03-01T23:05:43.182Z"
      },
      {
        "duration": 4,
        "start_time": "2024-03-01T23:05:51.915Z"
      },
      {
        "duration": 3,
        "start_time": "2024-03-01T23:05:53.416Z"
      },
      {
        "duration": 3,
        "start_time": "2024-03-01T23:05:56.091Z"
      },
      {
        "duration": 3,
        "start_time": "2024-03-01T23:05:58.110Z"
      },
      {
        "duration": 8,
        "start_time": "2024-03-01T23:06:00.353Z"
      },
      {
        "duration": 4,
        "start_time": "2024-03-01T23:06:36.005Z"
      },
      {
        "duration": 2,
        "start_time": "2024-03-01T23:06:36.273Z"
      },
      {
        "duration": 4,
        "start_time": "2024-03-01T23:06:37.110Z"
      },
      {
        "duration": 5,
        "start_time": "2024-03-01T23:06:39.010Z"
      },
      {
        "duration": 10,
        "start_time": "2024-03-01T23:07:31.410Z"
      },
      {
        "duration": 5,
        "start_time": "2024-03-01T23:07:50.825Z"
      },
      {
        "duration": 7,
        "start_time": "2024-03-01T23:07:52.160Z"
      },
      {
        "duration": 3,
        "start_time": "2024-03-01T23:10:11.062Z"
      },
      {
        "duration": 17,
        "start_time": "2024-03-01T23:10:11.408Z"
      },
      {
        "duration": 3,
        "start_time": "2024-03-01T23:10:55.390Z"
      },
      {
        "duration": 14,
        "start_time": "2024-03-01T23:12:34.857Z"
      },
      {
        "duration": 8373,
        "start_time": "2024-03-01T23:13:19.990Z"
      },
      {
        "duration": 3,
        "start_time": "2024-03-01T23:13:28.365Z"
      },
      {
        "duration": 20,
        "start_time": "2024-03-01T23:13:28.370Z"
      },
      {
        "duration": 2,
        "start_time": "2024-03-01T23:13:42.964Z"
      },
      {
        "duration": 43,
        "start_time": "2024-03-01T23:13:43.426Z"
      },
      {
        "duration": 9,
        "start_time": "2024-03-01T23:16:58.409Z"
      },
      {
        "duration": 2464,
        "start_time": "2024-03-01T23:17:10.601Z"
      },
      {
        "duration": 2597,
        "start_time": "2024-03-01T23:17:13.068Z"
      },
      {
        "duration": 1271,
        "start_time": "2024-03-01T23:17:15.667Z"
      },
      {
        "duration": 2,
        "start_time": "2024-03-01T23:17:16.940Z"
      },
      {
        "duration": 8,
        "start_time": "2024-03-01T23:17:16.944Z"
      },
      {
        "duration": 6,
        "start_time": "2024-03-01T23:17:16.954Z"
      },
      {
        "duration": 96,
        "start_time": "2024-03-01T23:17:16.961Z"
      },
      {
        "duration": 3,
        "start_time": "2024-03-01T23:17:17.058Z"
      },
      {
        "duration": 43,
        "start_time": "2024-03-01T23:17:17.063Z"
      },
      {
        "duration": 4,
        "start_time": "2024-03-01T23:17:19.934Z"
      },
      {
        "duration": 7,
        "start_time": "2024-03-01T23:17:20.096Z"
      },
      {
        "duration": 5,
        "start_time": "2024-03-01T23:17:20.920Z"
      },
      {
        "duration": 215,
        "start_time": "2024-03-01T23:17:21.253Z"
      },
      {
        "duration": 5,
        "start_time": "2024-03-01T23:17:21.764Z"
      },
      {
        "duration": 7,
        "start_time": "2024-03-01T23:17:21.923Z"
      },
      {
        "duration": 5,
        "start_time": "2024-03-01T23:17:22.262Z"
      },
      {
        "duration": 2,
        "start_time": "2024-03-01T23:17:23.353Z"
      },
      {
        "duration": 6,
        "start_time": "2024-03-01T23:17:23.642Z"
      },
      {
        "duration": 6,
        "start_time": "2024-03-01T23:17:24.556Z"
      },
      {
        "duration": 7,
        "start_time": "2024-03-01T23:17:25.437Z"
      },
      {
        "duration": 4,
        "start_time": "2024-03-01T23:17:26.619Z"
      },
      {
        "duration": 6,
        "start_time": "2024-03-01T23:17:27.600Z"
      },
      {
        "duration": 5,
        "start_time": "2024-03-01T23:17:28.015Z"
      },
      {
        "duration": 6,
        "start_time": "2024-03-01T23:17:28.295Z"
      },
      {
        "duration": 3,
        "start_time": "2024-03-01T23:17:28.504Z"
      },
      {
        "duration": 134,
        "start_time": "2024-03-01T23:17:28.989Z"
      },
      {
        "duration": 6,
        "start_time": "2024-03-01T23:17:29.620Z"
      },
      {
        "duration": 16,
        "start_time": "2024-03-01T23:17:29.841Z"
      },
      {
        "duration": 188,
        "start_time": "2024-03-01T23:17:30.467Z"
      },
      {
        "duration": 53,
        "start_time": "2024-03-01T23:17:31.070Z"
      },
      {
        "duration": 30,
        "start_time": "2024-03-01T23:17:31.458Z"
      },
      {
        "duration": 22,
        "start_time": "2024-03-01T23:17:31.981Z"
      },
      {
        "duration": 3,
        "start_time": "2024-03-01T23:17:32.302Z"
      },
      {
        "duration": 3,
        "start_time": "2024-03-01T23:17:32.522Z"
      },
      {
        "duration": 29,
        "start_time": "2024-03-01T23:17:33.261Z"
      },
      {
        "duration": 27,
        "start_time": "2024-03-01T23:17:34.245Z"
      },
      {
        "duration": 17,
        "start_time": "2024-03-01T23:17:35.521Z"
      },
      {
        "duration": 8,
        "start_time": "2024-03-01T23:17:36.072Z"
      },
      {
        "duration": 2,
        "start_time": "2024-03-01T23:17:38.129Z"
      },
      {
        "duration": 853,
        "start_time": "2024-03-01T23:17:38.483Z"
      },
      {
        "duration": 27,
        "start_time": "2024-03-01T23:17:39.982Z"
      },
      {
        "duration": 27,
        "start_time": "2024-03-01T23:17:47.498Z"
      },
      {
        "duration": 18,
        "start_time": "2024-03-01T23:17:49.722Z"
      },
      {
        "duration": 10,
        "start_time": "2024-03-01T23:17:50.110Z"
      },
      {
        "duration": 18,
        "start_time": "2024-03-01T23:17:51.512Z"
      },
      {
        "duration": 3,
        "start_time": "2024-03-01T23:17:52.028Z"
      },
      {
        "duration": 5,
        "start_time": "2024-03-01T23:17:52.204Z"
      },
      {
        "duration": 5,
        "start_time": "2024-03-01T23:17:52.382Z"
      },
      {
        "duration": 5,
        "start_time": "2024-03-01T23:17:52.564Z"
      },
      {
        "duration": 21,
        "start_time": "2024-03-01T23:17:52.756Z"
      },
      {
        "duration": 6,
        "start_time": "2024-03-01T23:17:55.146Z"
      },
      {
        "duration": 20,
        "start_time": "2024-03-01T23:17:55.523Z"
      },
      {
        "duration": 4,
        "start_time": "2024-03-01T23:17:58.056Z"
      },
      {
        "duration": 4,
        "start_time": "2024-03-01T23:17:58.372Z"
      },
      {
        "duration": 4,
        "start_time": "2024-03-01T23:17:58.569Z"
      },
      {
        "duration": 3309,
        "start_time": "2024-03-01T23:17:59.063Z"
      },
      {
        "duration": 6,
        "start_time": "2024-03-01T23:18:02.374Z"
      },
      {
        "duration": 5,
        "start_time": "2024-03-01T23:18:08.904Z"
      },
      {
        "duration": 3,
        "start_time": "2024-03-01T23:18:11.178Z"
      },
      {
        "duration": 4,
        "start_time": "2024-03-01T23:18:15.900Z"
      },
      {
        "duration": 4,
        "start_time": "2024-03-01T23:18:17.761Z"
      },
      {
        "duration": 4,
        "start_time": "2024-03-01T23:18:24.089Z"
      },
      {
        "duration": 8,
        "start_time": "2024-03-01T23:18:27.917Z"
      },
      {
        "duration": 2,
        "start_time": "2024-03-01T23:18:29.261Z"
      },
      {
        "duration": 19,
        "start_time": "2024-03-01T23:18:29.845Z"
      },
      {
        "duration": 2530,
        "start_time": "2024-03-01T23:18:33.229Z"
      },
      {
        "duration": 8,
        "start_time": "2024-03-01T23:19:25.399Z"
      },
      {
        "duration": 28,
        "start_time": "2024-03-01T23:19:36.814Z"
      },
      {
        "duration": 24,
        "start_time": "2024-03-01T23:19:44.570Z"
      },
      {
        "duration": 23,
        "start_time": "2024-03-01T23:19:58.886Z"
      },
      {
        "duration": 22,
        "start_time": "2024-03-01T23:20:04.694Z"
      },
      {
        "duration": 12,
        "start_time": "2024-03-01T23:21:33.254Z"
      },
      {
        "duration": 2569,
        "start_time": "2024-03-01T23:21:52.697Z"
      },
      {
        "duration": 7,
        "start_time": "2024-03-01T23:21:55.268Z"
      },
      {
        "duration": 26,
        "start_time": "2024-03-01T23:21:58.664Z"
      },
      {
        "duration": 24,
        "start_time": "2024-03-01T23:22:00.230Z"
      },
      {
        "duration": 18,
        "start_time": "2024-03-01T23:22:03.392Z"
      },
      {
        "duration": 16,
        "start_time": "2024-03-01T23:23:15.682Z"
      },
      {
        "duration": 50,
        "start_time": "2024-03-01T23:23:32.838Z"
      },
      {
        "duration": 56,
        "start_time": "2024-03-01T23:24:47.003Z"
      },
      {
        "duration": 48,
        "start_time": "2024-03-01T23:25:36.524Z"
      },
      {
        "duration": 54,
        "start_time": "2024-03-01T23:25:40.304Z"
      },
      {
        "duration": 27,
        "start_time": "2024-03-01T23:26:11.977Z"
      },
      {
        "duration": 58,
        "start_time": "2024-03-01T23:26:30.837Z"
      },
      {
        "duration": 53,
        "start_time": "2024-03-01T23:26:41.713Z"
      },
      {
        "duration": 104,
        "start_time": "2024-03-01T23:27:03.021Z"
      },
      {
        "duration": 30,
        "start_time": "2024-03-01T23:27:10.163Z"
      },
      {
        "duration": 2564,
        "start_time": "2024-03-01T23:28:12.893Z"
      },
      {
        "duration": 9,
        "start_time": "2024-03-01T23:28:21.224Z"
      },
      {
        "duration": 44,
        "start_time": "2024-03-01T23:28:25.815Z"
      },
      {
        "duration": 2560,
        "start_time": "2024-03-01T23:28:44.338Z"
      },
      {
        "duration": 9,
        "start_time": "2024-03-01T23:28:48.695Z"
      },
      {
        "duration": 33,
        "start_time": "2024-03-01T23:28:51.839Z"
      },
      {
        "duration": 25,
        "start_time": "2024-03-01T23:29:05.992Z"
      },
      {
        "duration": 25,
        "start_time": "2024-03-01T23:29:10.547Z"
      },
      {
        "duration": 18,
        "start_time": "2024-03-01T23:29:14.208Z"
      },
      {
        "duration": 5,
        "start_time": "2024-03-01T23:30:02.206Z"
      },
      {
        "duration": 6,
        "start_time": "2024-03-01T23:30:21.089Z"
      },
      {
        "duration": 5,
        "start_time": "2024-03-01T23:30:21.866Z"
      },
      {
        "duration": 4,
        "start_time": "2024-03-01T23:30:30.037Z"
      },
      {
        "duration": 4,
        "start_time": "2024-03-01T23:30:35.928Z"
      },
      {
        "duration": 2512,
        "start_time": "2024-03-01T23:31:03.152Z"
      },
      {
        "duration": 2485,
        "start_time": "2024-03-01T23:31:05.666Z"
      },
      {
        "duration": 1383,
        "start_time": "2024-03-01T23:31:08.154Z"
      },
      {
        "duration": 3,
        "start_time": "2024-03-01T23:31:09.539Z"
      },
      {
        "duration": 11,
        "start_time": "2024-03-01T23:31:09.544Z"
      },
      {
        "duration": 18,
        "start_time": "2024-03-01T23:31:09.556Z"
      },
      {
        "duration": 102,
        "start_time": "2024-03-01T23:31:09.575Z"
      },
      {
        "duration": 2,
        "start_time": "2024-03-01T23:31:09.679Z"
      },
      {
        "duration": 49,
        "start_time": "2024-03-01T23:31:09.683Z"
      },
      {
        "duration": 4,
        "start_time": "2024-03-01T23:31:09.734Z"
      },
      {
        "duration": 6,
        "start_time": "2024-03-01T23:31:09.739Z"
      },
      {
        "duration": 6,
        "start_time": "2024-03-01T23:31:09.746Z"
      },
      {
        "duration": 272,
        "start_time": "2024-03-01T23:31:09.753Z"
      },
      {
        "duration": 5,
        "start_time": "2024-03-01T23:31:11.053Z"
      },
      {
        "duration": 6,
        "start_time": "2024-03-01T23:31:11.713Z"
      },
      {
        "duration": 4,
        "start_time": "2024-03-01T23:31:11.960Z"
      },
      {
        "duration": 2,
        "start_time": "2024-03-01T23:31:12.374Z"
      },
      {
        "duration": 6,
        "start_time": "2024-03-01T23:31:12.584Z"
      },
      {
        "duration": 7,
        "start_time": "2024-03-01T23:31:13.259Z"
      },
      {
        "duration": 7,
        "start_time": "2024-03-01T23:31:14.223Z"
      },
      {
        "duration": 3,
        "start_time": "2024-03-01T23:31:14.502Z"
      },
      {
        "duration": 5,
        "start_time": "2024-03-01T23:31:15.211Z"
      },
      {
        "duration": 5,
        "start_time": "2024-03-01T23:31:15.512Z"
      },
      {
        "duration": 5,
        "start_time": "2024-03-01T23:31:15.927Z"
      },
      {
        "duration": 3,
        "start_time": "2024-03-01T23:31:16.600Z"
      },
      {
        "duration": 129,
        "start_time": "2024-03-01T23:31:17.006Z"
      },
      {
        "duration": 5,
        "start_time": "2024-03-01T23:31:17.527Z"
      },
      {
        "duration": 19,
        "start_time": "2024-03-01T23:31:17.878Z"
      },
      {
        "duration": 181,
        "start_time": "2024-03-01T23:31:18.525Z"
      },
      {
        "duration": 63,
        "start_time": "2024-03-01T23:31:19.066Z"
      },
      {
        "duration": 29,
        "start_time": "2024-03-01T23:31:19.416Z"
      },
      {
        "duration": 21,
        "start_time": "2024-03-01T23:31:19.909Z"
      },
      {
        "duration": 3,
        "start_time": "2024-03-01T23:31:20.078Z"
      },
      {
        "duration": 2,
        "start_time": "2024-03-01T23:31:20.232Z"
      },
      {
        "duration": 35,
        "start_time": "2024-03-01T23:31:20.392Z"
      },
      {
        "duration": 28,
        "start_time": "2024-03-01T23:31:21.270Z"
      },
      {
        "duration": 16,
        "start_time": "2024-03-01T23:31:22.178Z"
      },
      {
        "duration": 6,
        "start_time": "2024-03-01T23:31:22.689Z"
      },
      {
        "duration": 2,
        "start_time": "2024-03-01T23:31:23.189Z"
      },
      {
        "duration": 855,
        "start_time": "2024-03-01T23:31:23.524Z"
      },
      {
        "duration": 21,
        "start_time": "2024-03-01T23:31:24.382Z"
      },
      {
        "duration": 23,
        "start_time": "2024-03-01T23:31:26.055Z"
      },
      {
        "duration": 17,
        "start_time": "2024-03-01T23:31:26.241Z"
      },
      {
        "duration": 9,
        "start_time": "2024-03-01T23:31:26.611Z"
      },
      {
        "duration": 18,
        "start_time": "2024-03-01T23:31:26.782Z"
      },
      {
        "duration": 5,
        "start_time": "2024-03-01T23:31:27.269Z"
      },
      {
        "duration": 5,
        "start_time": "2024-03-01T23:31:27.468Z"
      },
      {
        "duration": 5,
        "start_time": "2024-03-01T23:31:27.638Z"
      },
      {
        "duration": 4,
        "start_time": "2024-03-01T23:31:27.786Z"
      },
      {
        "duration": 20,
        "start_time": "2024-03-01T23:31:27.957Z"
      },
      {
        "duration": 6,
        "start_time": "2024-03-01T23:31:28.708Z"
      },
      {
        "duration": 19,
        "start_time": "2024-03-01T23:31:28.888Z"
      },
      {
        "duration": 3,
        "start_time": "2024-03-01T23:31:29.253Z"
      },
      {
        "duration": 4,
        "start_time": "2024-03-01T23:31:29.460Z"
      },
      {
        "duration": 5,
        "start_time": "2024-03-01T23:31:29.650Z"
      },
      {
        "duration": 3358,
        "start_time": "2024-03-01T23:31:29.830Z"
      },
      {
        "duration": 8,
        "start_time": "2024-03-01T23:31:33.191Z"
      },
      {
        "duration": 5,
        "start_time": "2024-03-01T23:31:33.201Z"
      },
      {
        "duration": 16,
        "start_time": "2024-03-01T23:31:33.208Z"
      },
      {
        "duration": 5,
        "start_time": "2024-03-01T23:31:33.226Z"
      },
      {
        "duration": 7,
        "start_time": "2024-03-01T23:31:33.232Z"
      },
      {
        "duration": 5,
        "start_time": "2024-03-01T23:31:33.241Z"
      },
      {
        "duration": 7,
        "start_time": "2024-03-01T23:31:33.449Z"
      },
      {
        "duration": 2,
        "start_time": "2024-03-01T23:31:34.220Z"
      },
      {
        "duration": 17,
        "start_time": "2024-03-01T23:31:34.402Z"
      },
      {
        "duration": 2527,
        "start_time": "2024-03-01T23:31:34.755Z"
      },
      {
        "duration": 8,
        "start_time": "2024-03-01T23:31:37.284Z"
      },
      {
        "duration": 76,
        "start_time": "2024-03-01T23:35:37.759Z"
      },
      {
        "duration": 2611,
        "start_time": "2024-03-01T23:35:42.315Z"
      },
      {
        "duration": 31,
        "start_time": "2024-03-01T23:37:02.277Z"
      },
      {
        "duration": 5,
        "start_time": "2024-03-01T23:37:26.780Z"
      },
      {
        "duration": 2,
        "start_time": "2024-03-01T23:37:26.998Z"
      },
      {
        "duration": 3,
        "start_time": "2024-03-01T23:37:27.150Z"
      },
      {
        "duration": 3,
        "start_time": "2024-03-01T23:37:27.309Z"
      },
      {
        "duration": 96,
        "start_time": "2024-03-01T23:37:27.730Z"
      },
      {
        "duration": 5,
        "start_time": "2024-03-01T23:37:27.922Z"
      },
      {
        "duration": 36,
        "start_time": "2024-03-01T23:37:28.036Z"
      },
      {
        "duration": 4,
        "start_time": "2024-03-01T23:37:28.644Z"
      },
      {
        "duration": 4,
        "start_time": "2024-03-01T23:37:28.672Z"
      },
      {
        "duration": 5,
        "start_time": "2024-03-01T23:37:28.805Z"
      },
      {
        "duration": 218,
        "start_time": "2024-03-01T23:37:28.882Z"
      },
      {
        "duration": 5,
        "start_time": "2024-03-01T23:37:29.101Z"
      },
      {
        "duration": 19,
        "start_time": "2024-03-01T23:37:29.108Z"
      },
      {
        "duration": 7,
        "start_time": "2024-03-01T23:37:29.129Z"
      },
      {
        "duration": 4,
        "start_time": "2024-03-01T23:37:29.137Z"
      },
      {
        "duration": 7,
        "start_time": "2024-03-01T23:37:29.145Z"
      },
      {
        "duration": 6,
        "start_time": "2024-03-01T23:37:29.239Z"
      },
      {
        "duration": 6,
        "start_time": "2024-03-01T23:37:29.353Z"
      },
      {
        "duration": 3,
        "start_time": "2024-03-01T23:37:29.420Z"
      },
      {
        "duration": 5,
        "start_time": "2024-03-01T23:37:29.540Z"
      },
      {
        "duration": 4,
        "start_time": "2024-03-01T23:37:29.602Z"
      },
      {
        "duration": 6,
        "start_time": "2024-03-01T23:37:29.636Z"
      },
      {
        "duration": 3,
        "start_time": "2024-03-01T23:37:29.664Z"
      },
      {
        "duration": 156,
        "start_time": "2024-03-01T23:37:29.728Z"
      },
      {
        "duration": 4,
        "start_time": "2024-03-01T23:37:29.886Z"
      },
      {
        "duration": 18,
        "start_time": "2024-03-01T23:37:29.891Z"
      },
      {
        "duration": 188,
        "start_time": "2024-03-01T23:37:30.152Z"
      },
      {
        "duration": 53,
        "start_time": "2024-03-01T23:37:30.664Z"
      },
      {
        "duration": 32,
        "start_time": "2024-03-01T23:37:30.977Z"
      },
      {
        "duration": 20,
        "start_time": "2024-03-01T23:37:31.475Z"
      },
      {
        "duration": 4,
        "start_time": "2024-03-01T23:37:31.637Z"
      },
      {
        "duration": 2,
        "start_time": "2024-03-01T23:37:31.806Z"
      },
      {
        "duration": 25,
        "start_time": "2024-03-01T23:37:31.968Z"
      },
      {
        "duration": 26,
        "start_time": "2024-03-01T23:37:32.478Z"
      },
      {
        "duration": 17,
        "start_time": "2024-03-01T23:37:33.227Z"
      },
      {
        "duration": 7,
        "start_time": "2024-03-01T23:37:33.724Z"
      },
      {
        "duration": 2,
        "start_time": "2024-03-01T23:37:34.244Z"
      },
      {
        "duration": 815,
        "start_time": "2024-03-01T23:37:34.406Z"
      },
      {
        "duration": 20,
        "start_time": "2024-03-01T23:37:35.223Z"
      },
      {
        "duration": 24,
        "start_time": "2024-03-01T23:37:35.543Z"
      },
      {
        "duration": 16,
        "start_time": "2024-03-01T23:37:35.727Z"
      },
      {
        "duration": 7,
        "start_time": "2024-03-01T23:37:36.045Z"
      },
      {
        "duration": 18,
        "start_time": "2024-03-01T23:37:36.217Z"
      },
      {
        "duration": 4,
        "start_time": "2024-03-01T23:37:36.968Z"
      },
      {
        "duration": 4,
        "start_time": "2024-03-01T23:37:37.137Z"
      },
      {
        "duration": 6,
        "start_time": "2024-03-01T23:37:37.471Z"
      },
      {
        "duration": 4,
        "start_time": "2024-03-01T23:37:37.643Z"
      },
      {
        "duration": 21,
        "start_time": "2024-03-01T23:37:37.803Z"
      },
      {
        "duration": 7,
        "start_time": "2024-03-01T23:37:38.357Z"
      },
      {
        "duration": 20,
        "start_time": "2024-03-01T23:37:38.885Z"
      },
      {
        "duration": 4,
        "start_time": "2024-03-01T23:37:40.506Z"
      },
      {
        "duration": 3,
        "start_time": "2024-03-01T23:37:40.867Z"
      },
      {
        "duration": 4,
        "start_time": "2024-03-01T23:37:41.351Z"
      },
      {
        "duration": 3340,
        "start_time": "2024-03-01T23:37:41.640Z"
      },
      {
        "duration": 6,
        "start_time": "2024-03-01T23:37:44.982Z"
      },
      {
        "duration": 41,
        "start_time": "2024-03-01T23:37:44.990Z"
      },
      {
        "duration": 50,
        "start_time": "2024-03-01T23:37:45.032Z"
      },
      {
        "duration": 47,
        "start_time": "2024-03-01T23:37:45.096Z"
      },
      {
        "duration": 4,
        "start_time": "2024-03-01T23:37:45.373Z"
      },
      {
        "duration": 4,
        "start_time": "2024-03-01T23:37:45.895Z"
      },
      {
        "duration": 7,
        "start_time": "2024-03-01T23:37:46.588Z"
      },
      {
        "duration": 2,
        "start_time": "2024-03-01T23:37:47.293Z"
      },
      {
        "duration": 19,
        "start_time": "2024-03-01T23:37:47.463Z"
      },
      {
        "duration": 2555,
        "start_time": "2024-03-01T23:37:48.880Z"
      },
      {
        "duration": 37,
        "start_time": "2024-03-01T23:37:55.784Z"
      },
      {
        "duration": 2461,
        "start_time": "2024-03-01T23:39:57.165Z"
      },
      {
        "duration": 2524,
        "start_time": "2024-03-01T23:39:59.628Z"
      },
      {
        "duration": 1296,
        "start_time": "2024-03-01T23:40:02.154Z"
      },
      {
        "duration": 2,
        "start_time": "2024-03-01T23:40:03.452Z"
      },
      {
        "duration": 13,
        "start_time": "2024-03-01T23:40:03.456Z"
      },
      {
        "duration": 5,
        "start_time": "2024-03-01T23:40:03.470Z"
      },
      {
        "duration": 101,
        "start_time": "2024-03-01T23:40:03.476Z"
      },
      {
        "duration": 4,
        "start_time": "2024-03-01T23:40:03.578Z"
      },
      {
        "duration": 54,
        "start_time": "2024-03-01T23:40:03.583Z"
      },
      {
        "duration": 4,
        "start_time": "2024-03-01T23:40:03.640Z"
      },
      {
        "duration": 16,
        "start_time": "2024-03-01T23:40:03.646Z"
      },
      {
        "duration": 20,
        "start_time": "2024-03-01T23:40:03.664Z"
      },
      {
        "duration": 246,
        "start_time": "2024-03-01T23:40:03.686Z"
      },
      {
        "duration": 5,
        "start_time": "2024-03-01T23:40:03.933Z"
      },
      {
        "duration": 7,
        "start_time": "2024-03-01T23:40:03.939Z"
      },
      {
        "duration": 4,
        "start_time": "2024-03-01T23:40:03.948Z"
      },
      {
        "duration": 6,
        "start_time": "2024-03-01T23:40:03.954Z"
      },
      {
        "duration": 21,
        "start_time": "2024-03-01T23:40:03.962Z"
      },
      {
        "duration": 9,
        "start_time": "2024-03-01T23:40:03.984Z"
      },
      {
        "duration": 16,
        "start_time": "2024-03-01T23:40:03.995Z"
      },
      {
        "duration": 13,
        "start_time": "2024-03-01T23:40:04.012Z"
      },
      {
        "duration": 9,
        "start_time": "2024-03-01T23:40:04.027Z"
      },
      {
        "duration": 17,
        "start_time": "2024-03-01T23:40:04.038Z"
      },
      {
        "duration": 6,
        "start_time": "2024-03-01T23:40:04.205Z"
      },
      {
        "duration": 3,
        "start_time": "2024-03-01T23:40:04.383Z"
      },
      {
        "duration": 139,
        "start_time": "2024-03-01T23:40:04.719Z"
      },
      {
        "duration": 5,
        "start_time": "2024-03-01T23:40:05.231Z"
      },
      {
        "duration": 15,
        "start_time": "2024-03-01T23:40:05.398Z"
      },
      {
        "duration": 199,
        "start_time": "2024-03-01T23:40:05.901Z"
      },
      {
        "duration": 53,
        "start_time": "2024-03-01T23:40:06.383Z"
      },
      {
        "duration": 30,
        "start_time": "2024-03-01T23:40:06.704Z"
      },
      {
        "duration": 23,
        "start_time": "2024-03-01T23:40:07.177Z"
      },
      {
        "duration": 3,
        "start_time": "2024-03-01T23:40:07.357Z"
      },
      {
        "duration": 2,
        "start_time": "2024-03-01T23:40:07.507Z"
      },
      {
        "duration": 30,
        "start_time": "2024-03-01T23:40:07.704Z"
      },
      {
        "duration": 26,
        "start_time": "2024-03-01T23:40:09.422Z"
      },
      {
        "duration": 17,
        "start_time": "2024-03-01T23:40:09.901Z"
      },
      {
        "duration": 6,
        "start_time": "2024-03-01T23:40:10.371Z"
      },
      {
        "duration": 3,
        "start_time": "2024-03-01T23:40:10.851Z"
      },
      {
        "duration": 830,
        "start_time": "2024-03-01T23:40:11.021Z"
      },
      {
        "duration": 38,
        "start_time": "2024-03-01T23:40:11.854Z"
      },
      {
        "duration": 25,
        "start_time": "2024-03-01T23:40:23.897Z"
      },
      {
        "duration": 16,
        "start_time": "2024-03-01T23:40:24.933Z"
      },
      {
        "duration": 8,
        "start_time": "2024-03-01T23:40:25.455Z"
      },
      {
        "duration": 18,
        "start_time": "2024-03-01T23:40:25.665Z"
      },
      {
        "duration": 4,
        "start_time": "2024-03-01T23:40:26.192Z"
      },
      {
        "duration": 5,
        "start_time": "2024-03-01T23:40:26.384Z"
      },
      {
        "duration": 4,
        "start_time": "2024-03-01T23:40:26.552Z"
      },
      {
        "duration": 4,
        "start_time": "2024-03-01T23:40:26.711Z"
      },
      {
        "duration": 22,
        "start_time": "2024-03-01T23:40:26.914Z"
      },
      {
        "duration": 6,
        "start_time": "2024-03-01T23:40:27.423Z"
      },
      {
        "duration": 20,
        "start_time": "2024-03-01T23:40:27.581Z"
      },
      {
        "duration": 4,
        "start_time": "2024-03-01T23:40:27.965Z"
      },
      {
        "duration": 4,
        "start_time": "2024-03-01T23:40:28.127Z"
      },
      {
        "duration": 3,
        "start_time": "2024-03-01T23:40:28.368Z"
      },
      {
        "duration": 3298,
        "start_time": "2024-03-01T23:40:28.706Z"
      },
      {
        "duration": 6,
        "start_time": "2024-03-01T23:40:32.006Z"
      },
      {
        "duration": 3,
        "start_time": "2024-03-01T23:40:38.630Z"
      },
      {
        "duration": 3,
        "start_time": "2024-03-01T23:40:39.057Z"
      },
      {
        "duration": 4,
        "start_time": "2024-03-01T23:40:39.268Z"
      },
      {
        "duration": 4,
        "start_time": "2024-03-01T23:40:39.679Z"
      },
      {
        "duration": 4,
        "start_time": "2024-03-01T23:40:40.442Z"
      },
      {
        "duration": 6,
        "start_time": "2024-03-01T23:40:40.834Z"
      },
      {
        "duration": 2,
        "start_time": "2024-03-01T23:40:41.920Z"
      },
      {
        "duration": 17,
        "start_time": "2024-03-01T23:40:42.079Z"
      },
      {
        "duration": 2562,
        "start_time": "2024-03-01T23:40:44.057Z"
      },
      {
        "duration": 10,
        "start_time": "2024-03-01T23:40:48.029Z"
      },
      {
        "duration": 27,
        "start_time": "2024-03-01T23:40:56.970Z"
      },
      {
        "duration": 24,
        "start_time": "2024-03-01T23:40:57.306Z"
      },
      {
        "duration": 118,
        "start_time": "2024-03-01T23:41:35.300Z"
      },
      {
        "duration": 13,
        "start_time": "2024-03-01T23:41:35.472Z"
      },
      {
        "duration": 26,
        "start_time": "2024-03-01T23:41:47.783Z"
      },
      {
        "duration": 35,
        "start_time": "2024-03-01T23:41:53.892Z"
      },
      {
        "duration": 2458,
        "start_time": "2024-03-01T23:42:19.625Z"
      },
      {
        "duration": 2478,
        "start_time": "2024-03-01T23:42:22.085Z"
      },
      {
        "duration": 1246,
        "start_time": "2024-03-01T23:42:24.565Z"
      },
      {
        "duration": 3,
        "start_time": "2024-03-01T23:42:25.813Z"
      },
      {
        "duration": 22,
        "start_time": "2024-03-01T23:42:25.817Z"
      },
      {
        "duration": 7,
        "start_time": "2024-03-01T23:42:25.840Z"
      },
      {
        "duration": 103,
        "start_time": "2024-03-01T23:42:25.848Z"
      },
      {
        "duration": 3,
        "start_time": "2024-03-01T23:42:25.952Z"
      },
      {
        "duration": 57,
        "start_time": "2024-03-01T23:42:25.956Z"
      },
      {
        "duration": 5,
        "start_time": "2024-03-01T23:42:26.017Z"
      },
      {
        "duration": 14,
        "start_time": "2024-03-01T23:42:26.024Z"
      },
      {
        "duration": 7,
        "start_time": "2024-03-01T23:42:26.040Z"
      },
      {
        "duration": 254,
        "start_time": "2024-03-01T23:42:26.049Z"
      },
      {
        "duration": 5,
        "start_time": "2024-03-01T23:42:26.305Z"
      },
      {
        "duration": 28,
        "start_time": "2024-03-01T23:42:26.312Z"
      },
      {
        "duration": 12,
        "start_time": "2024-03-01T23:42:26.341Z"
      },
      {
        "duration": 9,
        "start_time": "2024-03-01T23:42:26.355Z"
      },
      {
        "duration": 11,
        "start_time": "2024-03-01T23:42:26.365Z"
      },
      {
        "duration": 16,
        "start_time": "2024-03-01T23:42:26.378Z"
      },
      {
        "duration": 13,
        "start_time": "2024-03-01T23:42:26.396Z"
      },
      {
        "duration": 4,
        "start_time": "2024-03-01T23:42:26.410Z"
      },
      {
        "duration": 10,
        "start_time": "2024-03-01T23:42:26.416Z"
      },
      {
        "duration": 7,
        "start_time": "2024-03-01T23:42:26.427Z"
      },
      {
        "duration": 17,
        "start_time": "2024-03-01T23:42:26.436Z"
      },
      {
        "duration": 18,
        "start_time": "2024-03-01T23:42:26.455Z"
      },
      {
        "duration": 142,
        "start_time": "2024-03-01T23:42:26.475Z"
      },
      {
        "duration": 5,
        "start_time": "2024-03-01T23:42:26.618Z"
      },
      {
        "duration": 15,
        "start_time": "2024-03-01T23:42:26.627Z"
      },
      {
        "duration": 204,
        "start_time": "2024-03-01T23:42:26.644Z"
      },
      {
        "duration": 64,
        "start_time": "2024-03-01T23:42:26.850Z"
      },
      {
        "duration": 29,
        "start_time": "2024-03-01T23:42:26.915Z"
      },
      {
        "duration": 45,
        "start_time": "2024-03-01T23:42:26.945Z"
      },
      {
        "duration": 4,
        "start_time": "2024-03-01T23:42:26.992Z"
      },
      {
        "duration": 4,
        "start_time": "2024-03-01T23:42:26.998Z"
      },
      {
        "duration": 27,
        "start_time": "2024-03-01T23:42:27.004Z"
      },
      {
        "duration": 27,
        "start_time": "2024-03-01T23:42:27.033Z"
      },
      {
        "duration": 16,
        "start_time": "2024-03-01T23:42:27.082Z"
      },
      {
        "duration": 5,
        "start_time": "2024-03-01T23:42:27.100Z"
      },
      {
        "duration": 6,
        "start_time": "2024-03-01T23:42:27.107Z"
      },
      {
        "duration": 859,
        "start_time": "2024-03-01T23:42:27.114Z"
      },
      {
        "duration": 23,
        "start_time": "2024-03-01T23:42:27.974Z"
      },
      {
        "duration": 23,
        "start_time": "2024-03-01T23:42:27.998Z"
      },
      {
        "duration": 15,
        "start_time": "2024-03-01T23:42:28.023Z"
      },
      {
        "duration": 8,
        "start_time": "2024-03-01T23:42:28.040Z"
      },
      {
        "duration": 47,
        "start_time": "2024-03-01T23:42:28.049Z"
      },
      {
        "duration": 4,
        "start_time": "2024-03-01T23:42:28.097Z"
      },
      {
        "duration": 17,
        "start_time": "2024-03-01T23:42:28.102Z"
      },
      {
        "duration": 5,
        "start_time": "2024-03-01T23:42:28.121Z"
      },
      {
        "duration": 5,
        "start_time": "2024-03-01T23:42:28.127Z"
      },
      {
        "duration": 19,
        "start_time": "2024-03-01T23:42:28.133Z"
      },
      {
        "duration": 28,
        "start_time": "2024-03-01T23:42:28.154Z"
      },
      {
        "duration": 19,
        "start_time": "2024-03-01T23:42:28.184Z"
      },
      {
        "duration": 5,
        "start_time": "2024-03-01T23:42:28.204Z"
      },
      {
        "duration": 9,
        "start_time": "2024-03-01T23:42:28.211Z"
      },
      {
        "duration": 9,
        "start_time": "2024-03-01T23:42:28.222Z"
      },
      {
        "duration": 3324,
        "start_time": "2024-03-01T23:42:28.233Z"
      },
      {
        "duration": 7,
        "start_time": "2024-03-01T23:42:31.558Z"
      },
      {
        "duration": 89,
        "start_time": "2024-03-01T23:42:31.570Z"
      },
      {
        "duration": 33,
        "start_time": "2024-03-01T23:42:31.660Z"
      },
      {
        "duration": 57,
        "start_time": "2024-03-01T23:42:31.695Z"
      },
      {
        "duration": 54,
        "start_time": "2024-03-01T23:42:31.755Z"
      },
      {
        "duration": 71,
        "start_time": "2024-03-01T23:42:31.811Z"
      },
      {
        "duration": 52,
        "start_time": "2024-03-01T23:42:31.883Z"
      },
      {
        "duration": 16,
        "start_time": "2024-03-01T23:42:31.937Z"
      },
      {
        "duration": 27,
        "start_time": "2024-03-01T23:42:31.955Z"
      },
      {
        "duration": 2558,
        "start_time": "2024-03-01T23:42:31.984Z"
      },
      {
        "duration": 8,
        "start_time": "2024-03-01T23:42:34.544Z"
      },
      {
        "duration": 33,
        "start_time": "2024-03-01T23:42:34.553Z"
      },
      {
        "duration": 23,
        "start_time": "2024-03-01T23:42:34.588Z"
      },
      {
        "duration": 812,
        "start_time": "2024-03-01T23:43:41.472Z"
      },
      {
        "duration": 37862,
        "start_time": "2024-03-01T23:51:31.726Z"
      },
      {
        "duration": 3,
        "start_time": "2024-03-01T23:52:40.262Z"
      },
      {
        "duration": 119,
        "start_time": "2024-03-01T23:55:02.041Z"
      },
      {
        "duration": 73,
        "start_time": "2024-03-01T23:56:18.524Z"
      },
      {
        "duration": 15,
        "start_time": "2024-03-01T23:56:24.268Z"
      },
      {
        "duration": 40183,
        "start_time": "2024-03-01T23:59:38.789Z"
      },
      {
        "duration": 5,
        "start_time": "2024-03-02T00:00:18.974Z"
      },
      {
        "duration": 4,
        "start_time": "2024-03-02T00:01:08.711Z"
      },
      {
        "duration": 39272,
        "start_time": "2024-03-02T00:02:26.142Z"
      },
      {
        "duration": 38064,
        "start_time": "2024-03-02T00:08:06.776Z"
      },
      {
        "duration": 2503,
        "start_time": "2024-03-02T00:09:18.697Z"
      },
      {
        "duration": 2494,
        "start_time": "2024-03-02T00:09:21.203Z"
      },
      {
        "duration": 1249,
        "start_time": "2024-03-02T00:09:23.700Z"
      },
      {
        "duration": 3,
        "start_time": "2024-03-02T00:09:24.951Z"
      },
      {
        "duration": 4,
        "start_time": "2024-03-02T00:09:24.955Z"
      },
      {
        "duration": 5,
        "start_time": "2024-03-02T00:09:24.960Z"
      },
      {
        "duration": 114,
        "start_time": "2024-03-02T00:09:24.967Z"
      },
      {
        "duration": 3,
        "start_time": "2024-03-02T00:09:25.082Z"
      },
      {
        "duration": 54,
        "start_time": "2024-03-02T00:09:25.087Z"
      },
      {
        "duration": 4,
        "start_time": "2024-03-02T00:09:25.144Z"
      },
      {
        "duration": 38,
        "start_time": "2024-03-02T00:09:25.150Z"
      },
      {
        "duration": 7,
        "start_time": "2024-03-02T00:09:25.190Z"
      },
      {
        "duration": 267,
        "start_time": "2024-03-02T00:09:25.198Z"
      },
      {
        "duration": 5,
        "start_time": "2024-03-02T00:09:25.466Z"
      },
      {
        "duration": 7,
        "start_time": "2024-03-02T00:09:25.482Z"
      },
      {
        "duration": 19,
        "start_time": "2024-03-02T00:09:25.490Z"
      },
      {
        "duration": 3,
        "start_time": "2024-03-02T00:09:25.511Z"
      },
      {
        "duration": 15,
        "start_time": "2024-03-02T00:09:25.515Z"
      },
      {
        "duration": 17,
        "start_time": "2024-03-02T00:09:25.531Z"
      },
      {
        "duration": 8,
        "start_time": "2024-03-02T00:09:25.550Z"
      },
      {
        "duration": 3,
        "start_time": "2024-03-02T00:09:25.560Z"
      },
      {
        "duration": 17,
        "start_time": "2024-03-02T00:09:25.565Z"
      },
      {
        "duration": 7,
        "start_time": "2024-03-02T00:09:25.584Z"
      },
      {
        "duration": 7,
        "start_time": "2024-03-02T00:09:25.592Z"
      },
      {
        "duration": 6,
        "start_time": "2024-03-02T00:09:25.601Z"
      },
      {
        "duration": 159,
        "start_time": "2024-03-02T00:09:25.609Z"
      },
      {
        "duration": 14,
        "start_time": "2024-03-02T00:09:25.770Z"
      },
      {
        "duration": 14,
        "start_time": "2024-03-02T00:09:25.788Z"
      },
      {
        "duration": 212,
        "start_time": "2024-03-02T00:09:25.804Z"
      },
      {
        "duration": 69,
        "start_time": "2024-03-02T00:09:26.017Z"
      },
      {
        "duration": 29,
        "start_time": "2024-03-02T00:09:26.088Z"
      },
      {
        "duration": 21,
        "start_time": "2024-03-02T00:09:26.118Z"
      },
      {
        "duration": 3,
        "start_time": "2024-03-02T00:09:26.141Z"
      },
      {
        "duration": 6,
        "start_time": "2024-03-02T00:09:26.145Z"
      },
      {
        "duration": 53,
        "start_time": "2024-03-02T00:09:26.152Z"
      },
      {
        "duration": 27,
        "start_time": "2024-03-02T00:09:26.206Z"
      },
      {
        "duration": 17,
        "start_time": "2024-03-02T00:09:26.235Z"
      },
      {
        "duration": 31,
        "start_time": "2024-03-02T00:09:26.254Z"
      },
      {
        "duration": 3,
        "start_time": "2024-03-02T00:09:26.287Z"
      },
      {
        "duration": 837,
        "start_time": "2024-03-02T00:09:26.292Z"
      },
      {
        "duration": 20,
        "start_time": "2024-03-02T00:09:27.131Z"
      },
      {
        "duration": 40,
        "start_time": "2024-03-02T00:09:27.152Z"
      },
      {
        "duration": 17,
        "start_time": "2024-03-02T00:09:27.194Z"
      },
      {
        "duration": 7,
        "start_time": "2024-03-02T00:09:27.213Z"
      },
      {
        "duration": 22,
        "start_time": "2024-03-02T00:09:27.221Z"
      },
      {
        "duration": 3,
        "start_time": "2024-03-02T00:09:27.245Z"
      },
      {
        "duration": 5,
        "start_time": "2024-03-02T00:09:27.249Z"
      },
      {
        "duration": 30,
        "start_time": "2024-03-02T00:09:27.255Z"
      },
      {
        "duration": 6,
        "start_time": "2024-03-02T00:09:27.286Z"
      },
      {
        "duration": 19,
        "start_time": "2024-03-02T00:09:27.293Z"
      },
      {
        "duration": 5,
        "start_time": "2024-03-02T00:09:27.314Z"
      },
      {
        "duration": 20,
        "start_time": "2024-03-02T00:09:27.321Z"
      },
      {
        "duration": 4,
        "start_time": "2024-03-02T00:09:27.342Z"
      },
      {
        "duration": 4,
        "start_time": "2024-03-02T00:09:27.381Z"
      },
      {
        "duration": 26,
        "start_time": "2024-03-02T00:09:27.387Z"
      },
      {
        "duration": 3265,
        "start_time": "2024-03-02T00:09:27.415Z"
      },
      {
        "duration": 6,
        "start_time": "2024-03-02T00:09:30.682Z"
      },
      {
        "duration": 43,
        "start_time": "2024-03-02T00:09:30.689Z"
      },
      {
        "duration": 58,
        "start_time": "2024-03-02T00:09:30.733Z"
      },
      {
        "duration": 57,
        "start_time": "2024-03-02T00:09:30.793Z"
      },
      {
        "duration": 46,
        "start_time": "2024-03-02T00:09:30.853Z"
      },
      {
        "duration": 44,
        "start_time": "2024-03-02T00:09:30.901Z"
      },
      {
        "duration": 51,
        "start_time": "2024-03-02T00:09:30.947Z"
      },
      {
        "duration": 98,
        "start_time": "2024-03-02T00:09:31.000Z"
      },
      {
        "duration": 60,
        "start_time": "2024-03-02T00:09:31.100Z"
      },
      {
        "duration": 2608,
        "start_time": "2024-03-02T00:09:31.162Z"
      },
      {
        "duration": 8,
        "start_time": "2024-03-02T00:09:33.772Z"
      },
      {
        "duration": 26,
        "start_time": "2024-03-02T00:09:33.781Z"
      },
      {
        "duration": 26,
        "start_time": "2024-03-02T00:09:33.808Z"
      },
      {
        "duration": 845,
        "start_time": "2024-03-02T00:09:33.839Z"
      },
      {
        "duration": 40235,
        "start_time": "2024-03-02T00:09:34.686Z"
      },
      {
        "duration": 2522,
        "start_time": "2024-03-02T00:10:50.703Z"
      },
      {
        "duration": 2484,
        "start_time": "2024-03-02T00:10:53.227Z"
      },
      {
        "duration": 1310,
        "start_time": "2024-03-02T00:10:55.713Z"
      },
      {
        "duration": 2,
        "start_time": "2024-03-02T00:10:57.025Z"
      },
      {
        "duration": 12,
        "start_time": "2024-03-02T00:10:57.028Z"
      },
      {
        "duration": 11,
        "start_time": "2024-03-02T00:10:57.041Z"
      },
      {
        "duration": 96,
        "start_time": "2024-03-02T00:10:57.054Z"
      },
      {
        "duration": 3,
        "start_time": "2024-03-02T00:10:57.152Z"
      },
      {
        "duration": 44,
        "start_time": "2024-03-02T00:10:57.156Z"
      },
      {
        "duration": 4,
        "start_time": "2024-03-02T00:10:57.202Z"
      },
      {
        "duration": 7,
        "start_time": "2024-03-02T00:10:57.207Z"
      },
      {
        "duration": 5,
        "start_time": "2024-03-02T00:10:57.216Z"
      },
      {
        "duration": 279,
        "start_time": "2024-03-02T00:10:57.222Z"
      },
      {
        "duration": 5,
        "start_time": "2024-03-02T00:10:57.502Z"
      },
      {
        "duration": 11,
        "start_time": "2024-03-02T00:10:57.509Z"
      },
      {
        "duration": 12,
        "start_time": "2024-03-02T00:10:57.522Z"
      },
      {
        "duration": 6,
        "start_time": "2024-03-02T00:10:57.536Z"
      },
      {
        "duration": 9,
        "start_time": "2024-03-02T00:10:57.543Z"
      },
      {
        "duration": 6,
        "start_time": "2024-03-02T00:10:57.554Z"
      },
      {
        "duration": 25,
        "start_time": "2024-03-02T00:10:57.561Z"
      },
      {
        "duration": 4,
        "start_time": "2024-03-02T00:10:57.588Z"
      },
      {
        "duration": 15,
        "start_time": "2024-03-02T00:10:57.593Z"
      },
      {
        "duration": 12,
        "start_time": "2024-03-02T00:10:57.609Z"
      },
      {
        "duration": 11,
        "start_time": "2024-03-02T00:10:57.623Z"
      },
      {
        "duration": 5,
        "start_time": "2024-03-02T00:10:57.635Z"
      },
      {
        "duration": 155,
        "start_time": "2024-03-02T00:10:57.641Z"
      },
      {
        "duration": 5,
        "start_time": "2024-03-02T00:10:57.798Z"
      },
      {
        "duration": 14,
        "start_time": "2024-03-02T00:10:57.806Z"
      },
      {
        "duration": 213,
        "start_time": "2024-03-02T00:10:57.822Z"
      },
      {
        "duration": 70,
        "start_time": "2024-03-02T00:10:58.037Z"
      },
      {
        "duration": 31,
        "start_time": "2024-03-02T00:10:58.109Z"
      },
      {
        "duration": 54,
        "start_time": "2024-03-02T00:10:58.142Z"
      },
      {
        "duration": 4,
        "start_time": "2024-03-02T00:10:58.197Z"
      },
      {
        "duration": 4,
        "start_time": "2024-03-02T00:10:58.203Z"
      },
      {
        "duration": 26,
        "start_time": "2024-03-02T00:10:58.208Z"
      },
      {
        "duration": 47,
        "start_time": "2024-03-02T00:10:58.236Z"
      },
      {
        "duration": 16,
        "start_time": "2024-03-02T00:10:58.284Z"
      },
      {
        "duration": 6,
        "start_time": "2024-03-02T00:10:58.302Z"
      },
      {
        "duration": 3,
        "start_time": "2024-03-02T00:10:58.310Z"
      },
      {
        "duration": 876,
        "start_time": "2024-03-02T00:10:58.315Z"
      },
      {
        "duration": 22,
        "start_time": "2024-03-02T00:10:59.193Z"
      },
      {
        "duration": 24,
        "start_time": "2024-03-02T00:10:59.217Z"
      },
      {
        "duration": 44,
        "start_time": "2024-03-02T00:10:59.243Z"
      },
      {
        "duration": 7,
        "start_time": "2024-03-02T00:10:59.290Z"
      },
      {
        "duration": 17,
        "start_time": "2024-03-02T00:10:59.299Z"
      },
      {
        "duration": 4,
        "start_time": "2024-03-02T00:10:59.317Z"
      },
      {
        "duration": 22,
        "start_time": "2024-03-02T00:10:59.322Z"
      },
      {
        "duration": 12,
        "start_time": "2024-03-02T00:10:59.345Z"
      },
      {
        "duration": 5,
        "start_time": "2024-03-02T00:10:59.359Z"
      },
      {
        "duration": 38,
        "start_time": "2024-03-02T00:10:59.366Z"
      },
      {
        "duration": 6,
        "start_time": "2024-03-02T00:10:59.406Z"
      },
      {
        "duration": 19,
        "start_time": "2024-03-02T00:10:59.413Z"
      },
      {
        "duration": 5,
        "start_time": "2024-03-02T00:10:59.551Z"
      },
      {
        "duration": 4,
        "start_time": "2024-03-02T00:10:59.705Z"
      },
      {
        "duration": 5,
        "start_time": "2024-03-02T00:10:59.863Z"
      },
      {
        "duration": 3354,
        "start_time": "2024-03-02T00:11:00.014Z"
      },
      {
        "duration": 7,
        "start_time": "2024-03-02T00:11:03.370Z"
      },
      {
        "duration": 18,
        "start_time": "2024-03-02T00:11:03.378Z"
      },
      {
        "duration": 4,
        "start_time": "2024-03-02T00:11:03.398Z"
      },
      {
        "duration": 5,
        "start_time": "2024-03-02T00:11:03.404Z"
      },
      {
        "duration": 6,
        "start_time": "2024-03-02T00:11:03.411Z"
      },
      {
        "duration": 4,
        "start_time": "2024-03-02T00:11:03.418Z"
      },
      {
        "duration": 6,
        "start_time": "2024-03-02T00:11:03.424Z"
      },
      {
        "duration": 8,
        "start_time": "2024-03-02T00:11:03.432Z"
      },
      {
        "duration": 20,
        "start_time": "2024-03-02T00:11:03.442Z"
      },
      {
        "duration": 2628,
        "start_time": "2024-03-02T00:11:03.658Z"
      },
      {
        "duration": 8,
        "start_time": "2024-03-02T00:11:06.288Z"
      },
      {
        "duration": 35,
        "start_time": "2024-03-02T00:11:06.298Z"
      },
      {
        "duration": 25,
        "start_time": "2024-03-02T00:11:06.334Z"
      },
      {
        "duration": 725,
        "start_time": "2024-03-02T00:11:07.664Z"
      },
      {
        "duration": 39038,
        "start_time": "2024-03-02T00:11:08.732Z"
      },
      {
        "duration": 885,
        "start_time": "2024-03-02T00:14:59.425Z"
      },
      {
        "duration": 2548,
        "start_time": "2024-03-02T00:17:34.072Z"
      },
      {
        "duration": 2476,
        "start_time": "2024-03-02T00:17:36.622Z"
      },
      {
        "duration": 1230,
        "start_time": "2024-03-02T00:17:39.100Z"
      },
      {
        "duration": 2,
        "start_time": "2024-03-02T00:17:40.331Z"
      },
      {
        "duration": 8,
        "start_time": "2024-03-02T00:17:40.335Z"
      },
      {
        "duration": 15,
        "start_time": "2024-03-02T00:17:40.344Z"
      },
      {
        "duration": 104,
        "start_time": "2024-03-02T00:17:40.360Z"
      },
      {
        "duration": 3,
        "start_time": "2024-03-02T00:17:40.465Z"
      },
      {
        "duration": 44,
        "start_time": "2024-03-02T00:17:40.469Z"
      },
      {
        "duration": 5,
        "start_time": "2024-03-02T00:17:40.515Z"
      },
      {
        "duration": 26,
        "start_time": "2024-03-02T00:17:40.522Z"
      },
      {
        "duration": 6,
        "start_time": "2024-03-02T00:17:40.549Z"
      },
      {
        "duration": 245,
        "start_time": "2024-03-02T00:17:40.556Z"
      },
      {
        "duration": 4,
        "start_time": "2024-03-02T00:17:40.804Z"
      },
      {
        "duration": 8,
        "start_time": "2024-03-02T00:17:40.810Z"
      },
      {
        "duration": 4,
        "start_time": "2024-03-02T00:17:40.820Z"
      },
      {
        "duration": 30,
        "start_time": "2024-03-02T00:17:40.826Z"
      },
      {
        "duration": 34,
        "start_time": "2024-03-02T00:17:40.858Z"
      },
      {
        "duration": 12,
        "start_time": "2024-03-02T00:17:40.894Z"
      },
      {
        "duration": 7,
        "start_time": "2024-03-02T00:17:40.908Z"
      },
      {
        "duration": 5,
        "start_time": "2024-03-02T00:17:40.916Z"
      },
      {
        "duration": 9,
        "start_time": "2024-03-02T00:17:40.922Z"
      },
      {
        "duration": 9,
        "start_time": "2024-03-02T00:17:40.933Z"
      },
      {
        "duration": 7,
        "start_time": "2024-03-02T00:17:40.944Z"
      },
      {
        "duration": 33,
        "start_time": "2024-03-02T00:17:40.952Z"
      },
      {
        "duration": 146,
        "start_time": "2024-03-02T00:17:40.987Z"
      },
      {
        "duration": 4,
        "start_time": "2024-03-02T00:17:41.135Z"
      },
      {
        "duration": 16,
        "start_time": "2024-03-02T00:17:41.141Z"
      },
      {
        "duration": 206,
        "start_time": "2024-03-02T00:17:41.158Z"
      },
      {
        "duration": 62,
        "start_time": "2024-03-02T00:17:41.366Z"
      },
      {
        "duration": 53,
        "start_time": "2024-03-02T00:17:41.430Z"
      },
      {
        "duration": 20,
        "start_time": "2024-03-02T00:17:41.485Z"
      },
      {
        "duration": 3,
        "start_time": "2024-03-02T00:17:41.507Z"
      },
      {
        "duration": 4,
        "start_time": "2024-03-02T00:17:41.511Z"
      },
      {
        "duration": 26,
        "start_time": "2024-03-02T00:17:41.516Z"
      },
      {
        "duration": 48,
        "start_time": "2024-03-02T00:17:41.544Z"
      },
      {
        "duration": 17,
        "start_time": "2024-03-02T00:17:41.593Z"
      },
      {
        "duration": 5,
        "start_time": "2024-03-02T00:17:41.612Z"
      },
      {
        "duration": 2,
        "start_time": "2024-03-02T00:17:41.619Z"
      },
      {
        "duration": 901,
        "start_time": "2024-03-02T00:17:41.623Z"
      },
      {
        "duration": 23,
        "start_time": "2024-03-02T00:17:42.528Z"
      },
      {
        "duration": 41,
        "start_time": "2024-03-02T00:17:42.553Z"
      },
      {
        "duration": 29,
        "start_time": "2024-03-02T00:17:42.595Z"
      },
      {
        "duration": 8,
        "start_time": "2024-03-02T00:17:42.626Z"
      },
      {
        "duration": 18,
        "start_time": "2024-03-02T00:17:42.635Z"
      },
      {
        "duration": 4,
        "start_time": "2024-03-02T00:17:42.654Z"
      },
      {
        "duration": 5,
        "start_time": "2024-03-02T00:17:42.682Z"
      },
      {
        "duration": 5,
        "start_time": "2024-03-02T00:17:42.688Z"
      },
      {
        "duration": 6,
        "start_time": "2024-03-02T00:17:42.694Z"
      },
      {
        "duration": 20,
        "start_time": "2024-03-02T00:17:42.702Z"
      },
      {
        "duration": 6,
        "start_time": "2024-03-02T00:17:42.724Z"
      },
      {
        "duration": 53,
        "start_time": "2024-03-02T00:17:42.731Z"
      },
      {
        "duration": 5,
        "start_time": "2024-03-02T00:17:42.785Z"
      },
      {
        "duration": 11,
        "start_time": "2024-03-02T00:17:42.791Z"
      },
      {
        "duration": 6,
        "start_time": "2024-03-02T00:17:42.804Z"
      },
      {
        "duration": 3504,
        "start_time": "2024-03-02T00:17:42.812Z"
      },
      {
        "duration": 6,
        "start_time": "2024-03-02T00:17:46.318Z"
      },
      {
        "duration": 13,
        "start_time": "2024-03-02T00:17:46.325Z"
      },
      {
        "duration": 18,
        "start_time": "2024-03-02T00:17:46.340Z"
      },
      {
        "duration": 9,
        "start_time": "2024-03-02T00:17:46.360Z"
      },
      {
        "duration": 18,
        "start_time": "2024-03-02T00:17:46.371Z"
      },
      {
        "duration": 10,
        "start_time": "2024-03-02T00:17:46.391Z"
      },
      {
        "duration": 8,
        "start_time": "2024-03-02T00:17:46.403Z"
      },
      {
        "duration": 3,
        "start_time": "2024-03-02T00:17:46.412Z"
      },
      {
        "duration": 33,
        "start_time": "2024-03-02T00:17:46.416Z"
      },
      {
        "duration": 2553,
        "start_time": "2024-03-02T00:17:46.451Z"
      },
      {
        "duration": 7,
        "start_time": "2024-03-02T00:17:49.006Z"
      },
      {
        "duration": 27,
        "start_time": "2024-03-02T00:17:49.014Z"
      },
      {
        "duration": 40,
        "start_time": "2024-03-02T00:17:49.043Z"
      },
      {
        "duration": 698,
        "start_time": "2024-03-02T00:17:49.085Z"
      },
      {
        "duration": 38859,
        "start_time": "2024-03-02T00:17:49.785Z"
      },
      {
        "duration": 688,
        "start_time": "2024-03-02T00:18:28.646Z"
      },
      {
        "duration": 47,
        "start_time": "2024-03-02T21:04:53.671Z"
      },
      {
        "duration": 2656,
        "start_time": "2024-03-02T21:05:53.850Z"
      },
      {
        "duration": 3035,
        "start_time": "2024-03-02T21:05:56.507Z"
      },
      {
        "duration": 3252,
        "start_time": "2024-03-02T21:05:59.544Z"
      },
      {
        "duration": 3,
        "start_time": "2024-03-02T21:06:02.798Z"
      },
      {
        "duration": 8,
        "start_time": "2024-03-02T21:06:02.803Z"
      },
      {
        "duration": 14,
        "start_time": "2024-03-02T21:06:02.813Z"
      },
      {
        "duration": 307,
        "start_time": "2024-03-02T21:06:02.829Z"
      },
      {
        "duration": 3,
        "start_time": "2024-03-02T21:06:03.138Z"
      },
      {
        "duration": 51,
        "start_time": "2024-03-02T21:06:03.142Z"
      },
      {
        "duration": 3,
        "start_time": "2024-03-02T21:06:03.195Z"
      },
      {
        "duration": 19,
        "start_time": "2024-03-02T21:06:03.200Z"
      },
      {
        "duration": 5,
        "start_time": "2024-03-02T21:06:03.221Z"
      },
      {
        "duration": 225,
        "start_time": "2024-03-02T21:06:03.227Z"
      },
      {
        "duration": 10,
        "start_time": "2024-03-02T21:06:03.455Z"
      },
      {
        "duration": 21,
        "start_time": "2024-03-02T21:06:03.467Z"
      },
      {
        "duration": 30,
        "start_time": "2024-03-02T21:06:03.489Z"
      },
      {
        "duration": 9,
        "start_time": "2024-03-02T21:06:03.521Z"
      },
      {
        "duration": 9,
        "start_time": "2024-03-02T21:06:03.531Z"
      },
      {
        "duration": 10,
        "start_time": "2024-03-02T21:06:03.541Z"
      },
      {
        "duration": 7,
        "start_time": "2024-03-02T21:06:03.553Z"
      },
      {
        "duration": 9,
        "start_time": "2024-03-02T21:06:03.561Z"
      },
      {
        "duration": 7,
        "start_time": "2024-03-02T21:06:03.571Z"
      },
      {
        "duration": 7,
        "start_time": "2024-03-02T21:06:03.580Z"
      },
      {
        "duration": 5,
        "start_time": "2024-03-02T21:06:03.588Z"
      },
      {
        "duration": 3,
        "start_time": "2024-03-02T21:06:03.595Z"
      },
      {
        "duration": 151,
        "start_time": "2024-03-02T21:06:03.599Z"
      },
      {
        "duration": 5,
        "start_time": "2024-03-02T21:06:03.752Z"
      },
      {
        "duration": 17,
        "start_time": "2024-03-02T21:06:03.759Z"
      },
      {
        "duration": 196,
        "start_time": "2024-03-02T21:06:03.777Z"
      },
      {
        "duration": 52,
        "start_time": "2024-03-02T21:06:03.975Z"
      },
      {
        "duration": 50,
        "start_time": "2024-03-02T21:06:04.029Z"
      },
      {
        "duration": 18,
        "start_time": "2024-03-02T21:06:04.080Z"
      },
      {
        "duration": 3,
        "start_time": "2024-03-02T21:06:04.100Z"
      },
      {
        "duration": 13,
        "start_time": "2024-03-02T21:06:04.104Z"
      },
      {
        "duration": 25,
        "start_time": "2024-03-02T21:06:04.118Z"
      },
      {
        "duration": 42,
        "start_time": "2024-03-02T21:06:04.145Z"
      },
      {
        "duration": 14,
        "start_time": "2024-03-02T21:06:04.189Z"
      },
      {
        "duration": 5,
        "start_time": "2024-03-02T21:06:04.204Z"
      },
      {
        "duration": 18,
        "start_time": "2024-03-02T21:06:04.211Z"
      },
      {
        "duration": 805,
        "start_time": "2024-03-02T21:06:04.231Z"
      },
      {
        "duration": 26,
        "start_time": "2024-03-02T21:06:05.040Z"
      },
      {
        "duration": 22,
        "start_time": "2024-03-02T21:06:05.068Z"
      },
      {
        "duration": 17,
        "start_time": "2024-03-02T21:06:05.092Z"
      },
      {
        "duration": 11,
        "start_time": "2024-03-02T21:06:05.110Z"
      },
      {
        "duration": 44,
        "start_time": "2024-03-02T21:06:05.123Z"
      },
      {
        "duration": 4,
        "start_time": "2024-03-02T21:06:05.168Z"
      },
      {
        "duration": 13,
        "start_time": "2024-03-02T21:06:05.174Z"
      },
      {
        "duration": 9,
        "start_time": "2024-03-02T21:06:05.188Z"
      },
      {
        "duration": 6,
        "start_time": "2024-03-02T21:06:05.199Z"
      },
      {
        "duration": 23,
        "start_time": "2024-03-02T21:06:05.207Z"
      },
      {
        "duration": 6,
        "start_time": "2024-03-02T21:06:05.232Z"
      },
      {
        "duration": 20,
        "start_time": "2024-03-02T21:06:05.265Z"
      },
      {
        "duration": 18,
        "start_time": "2024-03-02T21:06:05.287Z"
      },
      {
        "duration": 7,
        "start_time": "2024-03-02T21:06:05.307Z"
      },
      {
        "duration": 4,
        "start_time": "2024-03-02T21:06:05.316Z"
      },
      {
        "duration": 3090,
        "start_time": "2024-03-02T21:06:05.322Z"
      },
      {
        "duration": 5,
        "start_time": "2024-03-02T21:06:08.414Z"
      },
      {
        "duration": 22,
        "start_time": "2024-03-02T21:06:08.420Z"
      },
      {
        "duration": 13,
        "start_time": "2024-03-02T21:06:08.444Z"
      },
      {
        "duration": 5,
        "start_time": "2024-03-02T21:06:08.459Z"
      },
      {
        "duration": 7,
        "start_time": "2024-03-02T21:06:08.466Z"
      },
      {
        "duration": 16,
        "start_time": "2024-03-02T21:06:08.474Z"
      },
      {
        "duration": 25,
        "start_time": "2024-03-02T21:06:08.492Z"
      },
      {
        "duration": 3,
        "start_time": "2024-03-02T21:06:08.519Z"
      },
      {
        "duration": 16,
        "start_time": "2024-03-02T21:06:08.523Z"
      },
      {
        "duration": 6597,
        "start_time": "2024-03-02T21:06:08.541Z"
      },
      {
        "duration": 9,
        "start_time": "2024-03-02T21:06:15.140Z"
      },
      {
        "duration": 48,
        "start_time": "2024-03-02T21:06:15.151Z"
      },
      {
        "duration": 60,
        "start_time": "2024-03-02T21:06:15.200Z"
      },
      {
        "duration": 1409,
        "start_time": "2024-03-02T21:06:15.262Z"
      },
      {
        "duration": 37554,
        "start_time": "2024-03-02T21:06:16.673Z"
      },
      {
        "duration": 3,
        "start_time": "2024-03-02T21:06:54.229Z"
      },
      {
        "duration": 12,
        "start_time": "2024-03-02T21:06:54.233Z"
      },
      {
        "duration": 4,
        "start_time": "2024-03-02T21:23:10.877Z"
      },
      {
        "duration": 41662,
        "start_time": "2024-03-02T21:25:07.532Z"
      },
      {
        "duration": 4,
        "start_time": "2024-03-02T21:25:49.195Z"
      },
      {
        "duration": 10,
        "start_time": "2024-03-02T21:26:11.683Z"
      },
      {
        "duration": 5892,
        "start_time": "2024-03-02T21:37:31.307Z"
      },
      {
        "duration": 2319,
        "start_time": "2024-03-02T21:37:37.201Z"
      },
      {
        "duration": 1524,
        "start_time": "2024-03-02T21:37:39.521Z"
      },
      {
        "duration": 2,
        "start_time": "2024-03-02T21:37:41.047Z"
      },
      {
        "duration": 25,
        "start_time": "2024-03-02T21:37:41.051Z"
      },
      {
        "duration": 26,
        "start_time": "2024-03-02T21:37:41.077Z"
      },
      {
        "duration": 138,
        "start_time": "2024-03-02T21:37:41.104Z"
      },
      {
        "duration": 2,
        "start_time": "2024-03-02T21:37:41.244Z"
      },
      {
        "duration": 60,
        "start_time": "2024-03-02T21:37:41.248Z"
      },
      {
        "duration": 5,
        "start_time": "2024-03-02T21:37:41.309Z"
      },
      {
        "duration": 33,
        "start_time": "2024-03-02T21:37:41.315Z"
      },
      {
        "duration": 19,
        "start_time": "2024-03-02T21:37:41.349Z"
      },
      {
        "duration": 214,
        "start_time": "2024-03-02T21:37:41.369Z"
      },
      {
        "duration": 5,
        "start_time": "2024-03-02T21:37:41.586Z"
      },
      {
        "duration": 26,
        "start_time": "2024-03-02T21:37:41.592Z"
      },
      {
        "duration": 5,
        "start_time": "2024-03-02T21:37:41.620Z"
      },
      {
        "duration": 13,
        "start_time": "2024-03-02T21:37:41.626Z"
      },
      {
        "duration": 32,
        "start_time": "2024-03-02T21:37:41.640Z"
      },
      {
        "duration": 18,
        "start_time": "2024-03-02T21:37:41.673Z"
      },
      {
        "duration": 15,
        "start_time": "2024-03-02T21:37:41.692Z"
      },
      {
        "duration": 20,
        "start_time": "2024-03-02T21:37:41.709Z"
      },
      {
        "duration": 23,
        "start_time": "2024-03-02T21:37:41.730Z"
      },
      {
        "duration": 31,
        "start_time": "2024-03-02T21:37:41.755Z"
      },
      {
        "duration": 25,
        "start_time": "2024-03-02T21:37:41.787Z"
      },
      {
        "duration": 20,
        "start_time": "2024-03-02T21:37:41.813Z"
      },
      {
        "duration": 142,
        "start_time": "2024-03-02T21:37:41.834Z"
      },
      {
        "duration": 5,
        "start_time": "2024-03-02T21:37:41.977Z"
      },
      {
        "duration": 31,
        "start_time": "2024-03-02T21:37:41.984Z"
      },
      {
        "duration": 171,
        "start_time": "2024-03-02T21:37:42.017Z"
      },
      {
        "duration": 48,
        "start_time": "2024-03-02T21:37:42.190Z"
      },
      {
        "duration": 46,
        "start_time": "2024-03-02T21:37:42.240Z"
      },
      {
        "duration": 18,
        "start_time": "2024-03-02T21:37:42.288Z"
      },
      {
        "duration": 20,
        "start_time": "2024-03-02T21:37:42.307Z"
      },
      {
        "duration": 21,
        "start_time": "2024-03-02T21:37:42.328Z"
      },
      {
        "duration": 50,
        "start_time": "2024-03-02T21:37:42.351Z"
      },
      {
        "duration": 65,
        "start_time": "2024-03-02T21:37:42.403Z"
      },
      {
        "duration": 23,
        "start_time": "2024-03-02T21:37:42.470Z"
      },
      {
        "duration": 19,
        "start_time": "2024-03-02T21:37:42.495Z"
      },
      {
        "duration": 3,
        "start_time": "2024-03-02T21:37:42.564Z"
      },
      {
        "duration": 1574,
        "start_time": "2024-03-02T21:37:42.569Z"
      },
      {
        "duration": 32,
        "start_time": "2024-03-02T21:37:44.148Z"
      },
      {
        "duration": 39,
        "start_time": "2024-03-02T21:37:44.181Z"
      },
      {
        "duration": 16,
        "start_time": "2024-03-02T21:37:44.221Z"
      },
      {
        "duration": 23,
        "start_time": "2024-03-02T21:37:44.238Z"
      },
      {
        "duration": 49,
        "start_time": "2024-03-02T21:37:44.262Z"
      },
      {
        "duration": 24,
        "start_time": "2024-03-02T21:37:44.313Z"
      },
      {
        "duration": 30,
        "start_time": "2024-03-02T21:37:44.338Z"
      },
      {
        "duration": 18,
        "start_time": "2024-03-02T21:37:44.369Z"
      },
      {
        "duration": 30,
        "start_time": "2024-03-02T21:37:44.388Z"
      },
      {
        "duration": 49,
        "start_time": "2024-03-02T21:37:44.420Z"
      },
      {
        "duration": 28,
        "start_time": "2024-03-02T21:37:44.470Z"
      },
      {
        "duration": 39,
        "start_time": "2024-03-02T21:37:44.500Z"
      },
      {
        "duration": 17,
        "start_time": "2024-03-02T21:37:44.564Z"
      },
      {
        "duration": 35,
        "start_time": "2024-03-02T21:37:44.582Z"
      },
      {
        "duration": 51,
        "start_time": "2024-03-02T21:37:44.619Z"
      },
      {
        "duration": 3685,
        "start_time": "2024-03-02T21:37:44.671Z"
      },
      {
        "duration": 6,
        "start_time": "2024-03-02T21:37:48.357Z"
      },
      {
        "duration": 28,
        "start_time": "2024-03-02T21:37:48.364Z"
      },
      {
        "duration": 31,
        "start_time": "2024-03-02T21:37:48.394Z"
      },
      {
        "duration": 21,
        "start_time": "2024-03-02T21:37:48.427Z"
      },
      {
        "duration": 19,
        "start_time": "2024-03-02T21:37:48.449Z"
      },
      {
        "duration": 12,
        "start_time": "2024-03-02T21:37:48.469Z"
      },
      {
        "duration": 26,
        "start_time": "2024-03-02T21:37:48.482Z"
      },
      {
        "duration": 17,
        "start_time": "2024-03-02T21:37:48.509Z"
      },
      {
        "duration": 37,
        "start_time": "2024-03-02T21:37:48.527Z"
      },
      {
        "duration": 55,
        "start_time": "2024-03-02T21:37:48.565Z"
      },
      {
        "duration": 14,
        "start_time": "2024-03-02T21:37:48.622Z"
      },
      {
        "duration": 37,
        "start_time": "2024-03-02T21:37:48.637Z"
      },
      {
        "duration": 50,
        "start_time": "2024-03-02T21:37:48.675Z"
      },
      {
        "duration": 199,
        "start_time": "2024-03-02T21:37:48.727Z"
      },
      {
        "duration": 41535,
        "start_time": "2024-03-02T21:37:48.927Z"
      },
      {
        "duration": 4,
        "start_time": "2024-03-02T21:38:30.464Z"
      },
      {
        "duration": 60,
        "start_time": "2024-03-02T21:38:30.469Z"
      },
      {
        "duration": 39911,
        "start_time": "2024-03-02T21:41:17.308Z"
      },
      {
        "duration": 4,
        "start_time": "2024-03-02T21:41:57.221Z"
      },
      {
        "duration": 14,
        "start_time": "2024-03-02T21:41:57.226Z"
      },
      {
        "duration": 32431,
        "start_time": "2024-03-02T21:43:57.700Z"
      },
      {
        "duration": 5,
        "start_time": "2024-03-02T21:44:30.133Z"
      },
      {
        "duration": 60,
        "start_time": "2024-03-02T21:44:30.140Z"
      },
      {
        "duration": 63,
        "start_time": "2024-03-02T21:47:59.187Z"
      },
      {
        "duration": 56,
        "start_time": "2024-03-02T21:48:22.621Z"
      },
      {
        "duration": 88,
        "start_time": "2024-03-02T21:54:40.570Z"
      },
      {
        "duration": 6673,
        "start_time": "2024-03-02T22:05:59.862Z"
      },
      {
        "duration": 3062,
        "start_time": "2024-03-02T22:06:06.538Z"
      },
      {
        "duration": 1438,
        "start_time": "2024-03-02T22:06:09.602Z"
      },
      {
        "duration": 3,
        "start_time": "2024-03-02T22:06:11.042Z"
      },
      {
        "duration": 5,
        "start_time": "2024-03-02T22:06:11.047Z"
      },
      {
        "duration": 13,
        "start_time": "2024-03-02T22:06:11.054Z"
      },
      {
        "duration": 319,
        "start_time": "2024-03-02T22:06:11.069Z"
      },
      {
        "duration": 3,
        "start_time": "2024-03-02T22:06:11.390Z"
      },
      {
        "duration": 47,
        "start_time": "2024-03-02T22:06:11.394Z"
      },
      {
        "duration": 4,
        "start_time": "2024-03-02T22:06:11.444Z"
      },
      {
        "duration": 6,
        "start_time": "2024-03-02T22:06:11.465Z"
      },
      {
        "duration": 7,
        "start_time": "2024-03-02T22:06:11.472Z"
      },
      {
        "duration": 256,
        "start_time": "2024-03-02T22:06:11.480Z"
      },
      {
        "duration": 6,
        "start_time": "2024-03-02T22:06:11.738Z"
      },
      {
        "duration": 22,
        "start_time": "2024-03-02T22:06:11.746Z"
      },
      {
        "duration": 6,
        "start_time": "2024-03-02T22:06:11.770Z"
      },
      {
        "duration": 4,
        "start_time": "2024-03-02T22:06:11.778Z"
      },
      {
        "duration": 20,
        "start_time": "2024-03-02T22:06:11.784Z"
      },
      {
        "duration": 9,
        "start_time": "2024-03-02T22:06:11.806Z"
      },
      {
        "duration": 12,
        "start_time": "2024-03-02T22:06:11.817Z"
      },
      {
        "duration": 4,
        "start_time": "2024-03-02T22:06:11.831Z"
      },
      {
        "duration": 9,
        "start_time": "2024-03-02T22:06:11.836Z"
      },
      {
        "duration": 4,
        "start_time": "2024-03-02T22:06:11.865Z"
      },
      {
        "duration": 7,
        "start_time": "2024-03-02T22:06:11.871Z"
      },
      {
        "duration": 4,
        "start_time": "2024-03-02T22:06:11.963Z"
      },
      {
        "duration": 137,
        "start_time": "2024-03-02T22:06:13.013Z"
      },
      {
        "duration": 5,
        "start_time": "2024-03-02T22:06:13.152Z"
      },
      {
        "duration": 15,
        "start_time": "2024-03-02T22:06:13.182Z"
      },
      {
        "duration": 212,
        "start_time": "2024-03-02T22:06:13.290Z"
      },
      {
        "duration": 85,
        "start_time": "2024-03-02T22:06:13.504Z"
      },
      {
        "duration": 39,
        "start_time": "2024-03-02T22:06:13.591Z"
      },
      {
        "duration": 58,
        "start_time": "2024-03-02T22:06:13.632Z"
      },
      {
        "duration": 4,
        "start_time": "2024-03-02T22:06:13.693Z"
      },
      {
        "duration": 2,
        "start_time": "2024-03-02T22:06:13.702Z"
      },
      {
        "duration": 32,
        "start_time": "2024-03-02T22:06:13.747Z"
      },
      {
        "duration": 43,
        "start_time": "2024-03-02T22:06:13.882Z"
      },
      {
        "duration": 17,
        "start_time": "2024-03-02T22:06:14.010Z"
      },
      {
        "duration": 6,
        "start_time": "2024-03-02T22:06:14.140Z"
      },
      {
        "duration": 3,
        "start_time": "2024-03-02T22:06:14.252Z"
      },
      {
        "duration": 928,
        "start_time": "2024-03-02T22:06:14.292Z"
      },
      {
        "duration": 21,
        "start_time": "2024-03-02T22:06:15.222Z"
      },
      {
        "duration": 51,
        "start_time": "2024-03-02T22:06:15.244Z"
      },
      {
        "duration": 3,
        "start_time": "2024-03-02T22:06:15.296Z"
      },
      {
        "duration": 2,
        "start_time": "2024-03-02T22:06:15.687Z"
      },
      {
        "duration": 16,
        "start_time": "2024-03-02T22:06:16.513Z"
      },
      {
        "duration": 4,
        "start_time": "2024-03-02T22:06:17.138Z"
      },
      {
        "duration": 4,
        "start_time": "2024-03-02T22:06:17.332Z"
      },
      {
        "duration": 7,
        "start_time": "2024-03-02T22:06:17.537Z"
      },
      {
        "duration": 5,
        "start_time": "2024-03-02T22:06:17.741Z"
      },
      {
        "duration": 33,
        "start_time": "2024-03-02T22:06:17.931Z"
      },
      {
        "duration": 6,
        "start_time": "2024-03-02T22:06:21.144Z"
      },
      {
        "duration": 24,
        "start_time": "2024-03-02T22:06:21.465Z"
      },
      {
        "duration": 5,
        "start_time": "2024-03-02T22:06:22.305Z"
      },
      {
        "duration": 4,
        "start_time": "2024-03-02T22:06:22.477Z"
      },
      {
        "duration": 3,
        "start_time": "2024-03-02T22:06:22.653Z"
      },
      {
        "duration": 3584,
        "start_time": "2024-03-02T22:06:23.115Z"
      },
      {
        "duration": 6,
        "start_time": "2024-03-02T22:06:58.898Z"
      },
      {
        "duration": 4,
        "start_time": "2024-03-02T22:07:04.607Z"
      },
      {
        "duration": 3,
        "start_time": "2024-03-02T22:07:05.507Z"
      },
      {
        "duration": 4,
        "start_time": "2024-03-02T22:07:05.721Z"
      },
      {
        "duration": 5,
        "start_time": "2024-03-02T22:07:05.932Z"
      },
      {
        "duration": 5,
        "start_time": "2024-03-02T22:07:06.377Z"
      },
      {
        "duration": 7,
        "start_time": "2024-03-02T22:07:06.813Z"
      },
      {
        "duration": 4,
        "start_time": "2024-03-02T22:07:07.978Z"
      },
      {
        "duration": 17,
        "start_time": "2024-03-02T22:07:08.211Z"
      },
      {
        "duration": 56,
        "start_time": "2024-03-02T22:07:08.645Z"
      },
      {
        "duration": 8,
        "start_time": "2024-03-02T22:07:13.735Z"
      },
      {
        "duration": 32,
        "start_time": "2024-03-02T22:07:28.513Z"
      },
      {
        "duration": 34,
        "start_time": "2024-03-02T22:07:29.149Z"
      },
      {
        "duration": 203,
        "start_time": "2024-03-02T22:07:49.016Z"
      },
      {
        "duration": 4,
        "start_time": "2024-03-02T22:14:44.812Z"
      },
      {
        "duration": 11,
        "start_time": "2024-03-02T22:18:53.741Z"
      },
      {
        "duration": 19,
        "start_time": "2024-03-02T22:19:16.265Z"
      },
      {
        "duration": 6,
        "start_time": "2024-03-02T22:19:46.875Z"
      },
      {
        "duration": 4,
        "start_time": "2024-03-02T22:19:55.489Z"
      },
      {
        "duration": 4,
        "start_time": "2024-03-02T22:20:08.421Z"
      },
      {
        "duration": 5,
        "start_time": "2024-03-02T22:20:54.820Z"
      },
      {
        "duration": 297,
        "start_time": "2024-03-02T22:20:58.869Z"
      },
      {
        "duration": 113,
        "start_time": "2024-03-02T22:31:22.742Z"
      },
      {
        "duration": 112,
        "start_time": "2024-03-02T22:31:31.436Z"
      },
      {
        "duration": 6214,
        "start_time": "2024-03-02T22:31:35.153Z"
      },
      {
        "duration": 5996,
        "start_time": "2024-03-02T22:31:45.288Z"
      },
      {
        "duration": 23,
        "start_time": "2024-03-02T22:32:11.571Z"
      },
      {
        "duration": 2952,
        "start_time": "2024-03-02T22:32:47.460Z"
      },
      {
        "duration": 2430,
        "start_time": "2024-03-02T22:32:50.414Z"
      },
      {
        "duration": 1337,
        "start_time": "2024-03-02T22:32:52.846Z"
      },
      {
        "duration": 3,
        "start_time": "2024-03-02T22:32:54.185Z"
      },
      {
        "duration": 3,
        "start_time": "2024-03-02T22:32:54.190Z"
      },
      {
        "duration": 4,
        "start_time": "2024-03-02T22:32:54.195Z"
      },
      {
        "duration": 99,
        "start_time": "2024-03-02T22:32:54.200Z"
      },
      {
        "duration": 5,
        "start_time": "2024-03-02T22:32:54.301Z"
      },
      {
        "duration": 55,
        "start_time": "2024-03-02T22:32:54.308Z"
      },
      {
        "duration": 4,
        "start_time": "2024-03-02T22:32:54.364Z"
      },
      {
        "duration": 10,
        "start_time": "2024-03-02T22:32:54.370Z"
      },
      {
        "duration": 11,
        "start_time": "2024-03-02T22:32:54.382Z"
      },
      {
        "duration": 242,
        "start_time": "2024-03-02T22:32:54.395Z"
      },
      {
        "duration": 5,
        "start_time": "2024-03-02T22:32:54.641Z"
      },
      {
        "duration": 19,
        "start_time": "2024-03-02T22:32:54.648Z"
      },
      {
        "duration": 6,
        "start_time": "2024-03-02T22:32:54.669Z"
      },
      {
        "duration": 4,
        "start_time": "2024-03-02T22:32:54.676Z"
      },
      {
        "duration": 15,
        "start_time": "2024-03-02T22:32:54.682Z"
      },
      {
        "duration": 6,
        "start_time": "2024-03-02T22:32:54.698Z"
      },
      {
        "duration": 12,
        "start_time": "2024-03-02T22:32:54.705Z"
      },
      {
        "duration": 4,
        "start_time": "2024-03-02T22:32:54.719Z"
      },
      {
        "duration": 7,
        "start_time": "2024-03-02T22:32:54.725Z"
      },
      {
        "duration": 34,
        "start_time": "2024-03-02T22:32:54.734Z"
      },
      {
        "duration": 6,
        "start_time": "2024-03-02T22:32:54.770Z"
      },
      {
        "duration": 3,
        "start_time": "2024-03-02T22:32:54.778Z"
      },
      {
        "duration": 154,
        "start_time": "2024-03-02T22:32:54.782Z"
      },
      {
        "duration": 6,
        "start_time": "2024-03-02T22:32:54.938Z"
      },
      {
        "duration": 25,
        "start_time": "2024-03-02T22:32:54.945Z"
      },
      {
        "duration": 201,
        "start_time": "2024-03-02T22:32:54.972Z"
      },
      {
        "duration": 54,
        "start_time": "2024-03-02T22:32:55.175Z"
      },
      {
        "duration": 53,
        "start_time": "2024-03-02T22:32:55.231Z"
      },
      {
        "duration": 19,
        "start_time": "2024-03-02T22:32:55.286Z"
      },
      {
        "duration": 4,
        "start_time": "2024-03-02T22:32:55.307Z"
      },
      {
        "duration": 18,
        "start_time": "2024-03-02T22:32:55.312Z"
      },
      {
        "duration": 56,
        "start_time": "2024-03-02T22:32:55.332Z"
      },
      {
        "duration": 25,
        "start_time": "2024-03-02T22:32:55.389Z"
      },
      {
        "duration": 16,
        "start_time": "2024-03-02T22:32:55.416Z"
      },
      {
        "duration": 9,
        "start_time": "2024-03-02T22:32:55.434Z"
      },
      {
        "duration": 21,
        "start_time": "2024-03-02T22:32:55.444Z"
      },
      {
        "duration": 913,
        "start_time": "2024-03-02T22:32:55.467Z"
      },
      {
        "duration": 19,
        "start_time": "2024-03-02T22:32:56.384Z"
      },
      {
        "duration": 23,
        "start_time": "2024-03-02T22:32:56.405Z"
      },
      {
        "duration": 2,
        "start_time": "2024-03-02T22:32:56.429Z"
      },
      {
        "duration": 4,
        "start_time": "2024-03-02T22:32:56.432Z"
      },
      {
        "duration": 44,
        "start_time": "2024-03-02T22:32:56.437Z"
      },
      {
        "duration": 4,
        "start_time": "2024-03-02T22:32:56.482Z"
      },
      {
        "duration": 8,
        "start_time": "2024-03-02T22:32:56.488Z"
      },
      {
        "duration": 9,
        "start_time": "2024-03-02T22:32:56.497Z"
      },
      {
        "duration": 5,
        "start_time": "2024-03-02T22:32:56.507Z"
      },
      {
        "duration": 21,
        "start_time": "2024-03-02T22:32:56.514Z"
      },
      {
        "duration": 6,
        "start_time": "2024-03-02T22:32:56.565Z"
      },
      {
        "duration": 21,
        "start_time": "2024-03-02T22:32:56.573Z"
      },
      {
        "duration": 4,
        "start_time": "2024-03-02T22:32:56.596Z"
      },
      {
        "duration": 7,
        "start_time": "2024-03-02T22:32:56.602Z"
      },
      {
        "duration": 5,
        "start_time": "2024-03-02T22:32:56.611Z"
      },
      {
        "duration": 3265,
        "start_time": "2024-03-02T22:32:56.618Z"
      },
      {
        "duration": 7,
        "start_time": "2024-03-02T22:32:59.884Z"
      },
      {
        "duration": 19,
        "start_time": "2024-03-02T22:32:59.893Z"
      },
      {
        "duration": 17,
        "start_time": "2024-03-02T22:32:59.914Z"
      },
      {
        "duration": 31,
        "start_time": "2024-03-02T22:32:59.933Z"
      },
      {
        "duration": 12,
        "start_time": "2024-03-02T22:32:59.966Z"
      },
      {
        "duration": 11,
        "start_time": "2024-03-02T22:32:59.980Z"
      },
      {
        "duration": 33,
        "start_time": "2024-03-02T22:32:59.992Z"
      },
      {
        "duration": 41,
        "start_time": "2024-03-02T22:33:00.026Z"
      },
      {
        "duration": 69,
        "start_time": "2024-03-02T22:33:00.069Z"
      },
      {
        "duration": 84,
        "start_time": "2024-03-02T22:33:00.140Z"
      },
      {
        "duration": 36,
        "start_time": "2024-03-02T22:33:00.226Z"
      },
      {
        "duration": 82,
        "start_time": "2024-03-02T22:33:00.264Z"
      },
      {
        "duration": 53,
        "start_time": "2024-03-02T22:33:00.348Z"
      },
      {
        "duration": 19,
        "start_time": "2024-03-02T22:33:00.403Z"
      },
      {
        "duration": 257,
        "start_time": "2024-03-02T22:33:00.424Z"
      },
      {
        "duration": 6042,
        "start_time": "2024-03-02T22:33:00.766Z"
      },
      {
        "duration": 105,
        "start_time": "2024-03-02T22:33:06.810Z"
      },
      {
        "duration": 0,
        "start_time": "2024-03-02T22:33:06.917Z"
      },
      {
        "duration": 14,
        "start_time": "2024-03-02T22:33:19.172Z"
      },
      {
        "duration": 5718,
        "start_time": "2024-03-02T22:33:23.630Z"
      },
      {
        "duration": 3047,
        "start_time": "2024-03-02T22:47:15.214Z"
      },
      {
        "duration": 2457,
        "start_time": "2024-03-02T22:47:18.263Z"
      },
      {
        "duration": 1291,
        "start_time": "2024-03-02T22:47:20.722Z"
      },
      {
        "duration": 3,
        "start_time": "2024-03-02T22:47:22.014Z"
      },
      {
        "duration": 14,
        "start_time": "2024-03-02T22:47:22.019Z"
      },
      {
        "duration": 14,
        "start_time": "2024-03-02T22:47:22.035Z"
      },
      {
        "duration": 103,
        "start_time": "2024-03-02T22:47:22.050Z"
      },
      {
        "duration": 2,
        "start_time": "2024-03-02T22:47:22.155Z"
      },
      {
        "duration": 47,
        "start_time": "2024-03-02T22:47:22.158Z"
      },
      {
        "duration": 4,
        "start_time": "2024-03-02T22:47:22.206Z"
      },
      {
        "duration": 36,
        "start_time": "2024-03-02T22:47:22.212Z"
      },
      {
        "duration": 15,
        "start_time": "2024-03-02T22:47:22.250Z"
      },
      {
        "duration": 254,
        "start_time": "2024-03-02T22:47:22.266Z"
      },
      {
        "duration": 5,
        "start_time": "2024-03-02T22:47:22.523Z"
      },
      {
        "duration": 8,
        "start_time": "2024-03-02T22:47:22.529Z"
      },
      {
        "duration": 7,
        "start_time": "2024-03-02T22:47:22.539Z"
      },
      {
        "duration": 16,
        "start_time": "2024-03-02T22:47:22.547Z"
      },
      {
        "duration": 23,
        "start_time": "2024-03-02T22:47:22.566Z"
      },
      {
        "duration": 16,
        "start_time": "2024-03-02T22:47:22.591Z"
      },
      {
        "duration": 8,
        "start_time": "2024-03-02T22:47:22.609Z"
      },
      {
        "duration": 8,
        "start_time": "2024-03-02T22:47:22.618Z"
      },
      {
        "duration": 27,
        "start_time": "2024-03-02T22:47:22.627Z"
      },
      {
        "duration": 8,
        "start_time": "2024-03-02T22:47:22.656Z"
      },
      {
        "duration": 7,
        "start_time": "2024-03-02T22:47:22.666Z"
      },
      {
        "duration": 9,
        "start_time": "2024-03-02T22:47:22.675Z"
      },
      {
        "duration": 152,
        "start_time": "2024-03-02T22:47:22.686Z"
      },
      {
        "duration": 5,
        "start_time": "2024-03-02T22:47:22.839Z"
      },
      {
        "duration": 29,
        "start_time": "2024-03-02T22:47:22.845Z"
      },
      {
        "duration": 223,
        "start_time": "2024-03-02T22:47:22.877Z"
      },
      {
        "duration": 63,
        "start_time": "2024-03-02T22:47:23.102Z"
      },
      {
        "duration": 27,
        "start_time": "2024-03-02T22:47:23.167Z"
      },
      {
        "duration": 18,
        "start_time": "2024-03-02T22:47:23.196Z"
      },
      {
        "duration": 3,
        "start_time": "2024-03-02T22:47:23.216Z"
      },
      {
        "duration": 4,
        "start_time": "2024-03-02T22:47:23.220Z"
      },
      {
        "duration": 55,
        "start_time": "2024-03-02T22:47:23.226Z"
      },
      {
        "duration": 25,
        "start_time": "2024-03-02T22:47:23.282Z"
      },
      {
        "duration": 17,
        "start_time": "2024-03-02T22:47:23.309Z"
      },
      {
        "duration": 7,
        "start_time": "2024-03-02T22:47:23.328Z"
      },
      {
        "duration": 29,
        "start_time": "2024-03-02T22:47:23.337Z"
      },
      {
        "duration": 826,
        "start_time": "2024-03-02T22:47:23.367Z"
      },
      {
        "duration": 26,
        "start_time": "2024-03-02T22:47:24.199Z"
      },
      {
        "duration": 47,
        "start_time": "2024-03-02T22:47:24.227Z"
      },
      {
        "duration": 73,
        "start_time": "2024-03-02T22:47:24.276Z"
      },
      {
        "duration": 43,
        "start_time": "2024-03-02T22:47:24.351Z"
      },
      {
        "duration": 36,
        "start_time": "2024-03-02T22:47:24.396Z"
      },
      {
        "duration": 26,
        "start_time": "2024-03-02T22:47:24.433Z"
      },
      {
        "duration": 35,
        "start_time": "2024-03-02T22:47:24.461Z"
      },
      {
        "duration": 18,
        "start_time": "2024-03-02T22:47:24.498Z"
      },
      {
        "duration": 26,
        "start_time": "2024-03-02T22:47:24.518Z"
      },
      {
        "duration": 75,
        "start_time": "2024-03-02T22:47:24.546Z"
      },
      {
        "duration": 13,
        "start_time": "2024-03-02T22:47:24.623Z"
      },
      {
        "duration": 36,
        "start_time": "2024-03-02T22:47:24.638Z"
      },
      {
        "duration": 5,
        "start_time": "2024-03-02T22:47:24.676Z"
      },
      {
        "duration": 42,
        "start_time": "2024-03-02T22:47:24.683Z"
      },
      {
        "duration": 19,
        "start_time": "2024-03-02T22:47:24.726Z"
      },
      {
        "duration": 3197,
        "start_time": "2024-03-02T22:47:24.746Z"
      },
      {
        "duration": 5,
        "start_time": "2024-03-02T22:47:27.945Z"
      },
      {
        "duration": 8,
        "start_time": "2024-03-02T22:47:27.952Z"
      },
      {
        "duration": 4,
        "start_time": "2024-03-02T22:47:27.962Z"
      },
      {
        "duration": 9,
        "start_time": "2024-03-02T22:47:27.967Z"
      },
      {
        "duration": 5,
        "start_time": "2024-03-02T22:47:27.978Z"
      },
      {
        "duration": 14,
        "start_time": "2024-03-02T22:47:27.985Z"
      },
      {
        "duration": 10,
        "start_time": "2024-03-02T22:47:28.001Z"
      },
      {
        "duration": 3,
        "start_time": "2024-03-02T22:47:28.012Z"
      },
      {
        "duration": 17,
        "start_time": "2024-03-02T22:47:28.016Z"
      },
      {
        "duration": 59,
        "start_time": "2024-03-02T22:47:28.035Z"
      },
      {
        "duration": 7,
        "start_time": "2024-03-02T22:47:28.096Z"
      },
      {
        "duration": 35,
        "start_time": "2024-03-02T22:47:28.104Z"
      },
      {
        "duration": 31,
        "start_time": "2024-03-02T22:47:28.140Z"
      },
      {
        "duration": 4,
        "start_time": "2024-03-02T22:47:28.173Z"
      },
      {
        "duration": 295,
        "start_time": "2024-03-02T22:47:28.179Z"
      },
      {
        "duration": 5858,
        "start_time": "2024-03-02T22:47:28.476Z"
      },
      {
        "duration": 2,
        "start_time": "2024-03-02T22:47:34.336Z"
      },
      {
        "duration": 5719,
        "start_time": "2024-03-02T22:47:34.340Z"
      },
      {
        "duration": 2900,
        "start_time": "2024-03-02T22:50:22.401Z"
      },
      {
        "duration": 2384,
        "start_time": "2024-03-02T22:50:25.303Z"
      },
      {
        "duration": 1232,
        "start_time": "2024-03-02T22:50:27.690Z"
      },
      {
        "duration": 3,
        "start_time": "2024-03-02T22:50:28.923Z"
      },
      {
        "duration": 18,
        "start_time": "2024-03-02T22:50:28.928Z"
      },
      {
        "duration": 11,
        "start_time": "2024-03-02T22:50:28.948Z"
      },
      {
        "duration": 120,
        "start_time": "2024-03-02T22:50:28.960Z"
      },
      {
        "duration": 2,
        "start_time": "2024-03-02T22:50:29.082Z"
      },
      {
        "duration": 44,
        "start_time": "2024-03-02T22:50:29.086Z"
      },
      {
        "duration": 4,
        "start_time": "2024-03-02T22:50:29.132Z"
      },
      {
        "duration": 11,
        "start_time": "2024-03-02T22:50:29.137Z"
      },
      {
        "duration": 22,
        "start_time": "2024-03-02T22:50:29.150Z"
      },
      {
        "duration": 219,
        "start_time": "2024-03-02T22:50:29.174Z"
      },
      {
        "duration": 4,
        "start_time": "2024-03-02T22:50:29.396Z"
      },
      {
        "duration": 68,
        "start_time": "2024-03-02T22:50:29.402Z"
      },
      {
        "duration": 13,
        "start_time": "2024-03-02T22:50:29.472Z"
      },
      {
        "duration": 23,
        "start_time": "2024-03-02T22:50:29.487Z"
      },
      {
        "duration": 31,
        "start_time": "2024-03-02T22:50:29.511Z"
      },
      {
        "duration": 17,
        "start_time": "2024-03-02T22:50:29.544Z"
      },
      {
        "duration": 15,
        "start_time": "2024-03-02T22:50:29.562Z"
      },
      {
        "duration": 4,
        "start_time": "2024-03-02T22:50:29.579Z"
      },
      {
        "duration": 12,
        "start_time": "2024-03-02T22:50:29.585Z"
      },
      {
        "duration": 12,
        "start_time": "2024-03-02T22:50:29.599Z"
      },
      {
        "duration": 13,
        "start_time": "2024-03-02T22:50:29.612Z"
      },
      {
        "duration": 4,
        "start_time": "2024-03-02T22:50:29.665Z"
      },
      {
        "duration": 225,
        "start_time": "2024-03-02T22:50:29.672Z"
      },
      {
        "duration": 5,
        "start_time": "2024-03-02T22:50:29.899Z"
      },
      {
        "duration": 44,
        "start_time": "2024-03-02T22:50:29.905Z"
      },
      {
        "duration": 209,
        "start_time": "2024-03-02T22:50:29.951Z"
      },
      {
        "duration": 52,
        "start_time": "2024-03-02T22:50:30.165Z"
      },
      {
        "duration": 50,
        "start_time": "2024-03-02T22:50:30.219Z"
      },
      {
        "duration": 55,
        "start_time": "2024-03-02T22:50:30.270Z"
      },
      {
        "duration": 89,
        "start_time": "2024-03-02T22:50:30.327Z"
      },
      {
        "duration": 79,
        "start_time": "2024-03-02T22:50:30.417Z"
      },
      {
        "duration": 98,
        "start_time": "2024-03-02T22:50:30.497Z"
      },
      {
        "duration": 106,
        "start_time": "2024-03-02T22:50:30.597Z"
      },
      {
        "duration": 53,
        "start_time": "2024-03-02T22:50:30.705Z"
      },
      {
        "duration": 52,
        "start_time": "2024-03-02T22:50:30.760Z"
      },
      {
        "duration": 90,
        "start_time": "2024-03-02T22:50:30.814Z"
      },
      {
        "duration": 866,
        "start_time": "2024-03-02T22:50:30.906Z"
      },
      {
        "duration": 20,
        "start_time": "2024-03-02T22:50:31.778Z"
      },
      {
        "duration": 24,
        "start_time": "2024-03-02T22:50:31.800Z"
      },
      {
        "duration": 9,
        "start_time": "2024-03-02T22:50:31.826Z"
      },
      {
        "duration": 36,
        "start_time": "2024-03-02T22:50:31.837Z"
      },
      {
        "duration": 28,
        "start_time": "2024-03-02T22:50:31.874Z"
      },
      {
        "duration": 4,
        "start_time": "2024-03-02T22:50:31.904Z"
      },
      {
        "duration": 23,
        "start_time": "2024-03-02T22:50:31.909Z"
      },
      {
        "duration": 16,
        "start_time": "2024-03-02T22:50:31.934Z"
      },
      {
        "duration": 16,
        "start_time": "2024-03-02T22:50:31.952Z"
      },
      {
        "duration": 27,
        "start_time": "2024-03-02T22:50:31.970Z"
      },
      {
        "duration": 6,
        "start_time": "2024-03-02T22:50:31.998Z"
      },
      {
        "duration": 25,
        "start_time": "2024-03-02T22:50:32.005Z"
      },
      {
        "duration": 11,
        "start_time": "2024-03-02T22:50:32.031Z"
      },
      {
        "duration": 25,
        "start_time": "2024-03-02T22:50:32.043Z"
      },
      {
        "duration": 17,
        "start_time": "2024-03-02T22:50:32.070Z"
      },
      {
        "duration": 3119,
        "start_time": "2024-03-02T22:50:32.088Z"
      },
      {
        "duration": 6,
        "start_time": "2024-03-02T22:50:35.208Z"
      },
      {
        "duration": 12,
        "start_time": "2024-03-02T22:50:35.216Z"
      },
      {
        "duration": 14,
        "start_time": "2024-03-02T22:50:35.229Z"
      },
      {
        "duration": 16,
        "start_time": "2024-03-02T22:50:35.244Z"
      },
      {
        "duration": 10,
        "start_time": "2024-03-02T22:50:35.261Z"
      },
      {
        "duration": 12,
        "start_time": "2024-03-02T22:50:35.272Z"
      },
      {
        "duration": 10,
        "start_time": "2024-03-02T22:50:35.285Z"
      },
      {
        "duration": 4,
        "start_time": "2024-03-02T22:50:35.296Z"
      },
      {
        "duration": 20,
        "start_time": "2024-03-02T22:50:35.301Z"
      },
      {
        "duration": 42,
        "start_time": "2024-03-02T22:50:35.323Z"
      },
      {
        "duration": 7,
        "start_time": "2024-03-02T22:50:35.367Z"
      },
      {
        "duration": 22,
        "start_time": "2024-03-02T22:50:35.376Z"
      },
      {
        "duration": 23,
        "start_time": "2024-03-02T22:50:35.399Z"
      },
      {
        "duration": 17,
        "start_time": "2024-03-02T22:50:35.424Z"
      },
      {
        "duration": 428,
        "start_time": "2024-03-02T22:50:35.442Z"
      },
      {
        "duration": 38463,
        "start_time": "2024-03-02T22:50:35.872Z"
      },
      {
        "duration": 3,
        "start_time": "2024-03-02T22:51:14.337Z"
      },
      {
        "duration": 22,
        "start_time": "2024-03-02T22:51:14.342Z"
      },
      {
        "duration": 18,
        "start_time": "2024-03-02T22:51:14.365Z"
      },
      {
        "duration": 2893,
        "start_time": "2024-03-02T22:52:02.172Z"
      },
      {
        "duration": 2415,
        "start_time": "2024-03-02T22:52:05.067Z"
      },
      {
        "duration": 1242,
        "start_time": "2024-03-02T22:52:07.484Z"
      },
      {
        "duration": 2,
        "start_time": "2024-03-02T22:52:08.728Z"
      },
      {
        "duration": 3,
        "start_time": "2024-03-02T22:52:08.734Z"
      },
      {
        "duration": 4,
        "start_time": "2024-03-02T22:52:08.739Z"
      },
      {
        "duration": 107,
        "start_time": "2024-03-02T22:52:08.745Z"
      },
      {
        "duration": 2,
        "start_time": "2024-03-02T22:52:08.854Z"
      },
      {
        "duration": 40,
        "start_time": "2024-03-02T22:52:08.858Z"
      },
      {
        "duration": 4,
        "start_time": "2024-03-02T22:52:08.899Z"
      },
      {
        "duration": 6,
        "start_time": "2024-03-02T22:52:08.905Z"
      },
      {
        "duration": 14,
        "start_time": "2024-03-02T22:52:08.913Z"
      },
      {
        "duration": 264,
        "start_time": "2024-03-02T22:52:08.929Z"
      },
      {
        "duration": 4,
        "start_time": "2024-03-02T22:52:09.197Z"
      },
      {
        "duration": 7,
        "start_time": "2024-03-02T22:52:09.203Z"
      },
      {
        "duration": 21,
        "start_time": "2024-03-02T22:52:09.212Z"
      },
      {
        "duration": 4,
        "start_time": "2024-03-02T22:52:09.235Z"
      },
      {
        "duration": 9,
        "start_time": "2024-03-02T22:52:09.241Z"
      },
      {
        "duration": 16,
        "start_time": "2024-03-02T22:52:09.251Z"
      },
      {
        "duration": 6,
        "start_time": "2024-03-02T22:52:09.268Z"
      },
      {
        "duration": 11,
        "start_time": "2024-03-02T22:52:09.275Z"
      },
      {
        "duration": 6,
        "start_time": "2024-03-02T22:52:09.288Z"
      },
      {
        "duration": 5,
        "start_time": "2024-03-02T22:52:09.296Z"
      },
      {
        "duration": 6,
        "start_time": "2024-03-02T22:52:09.302Z"
      },
      {
        "duration": 3,
        "start_time": "2024-03-02T22:52:09.310Z"
      },
      {
        "duration": 157,
        "start_time": "2024-03-02T22:52:09.314Z"
      },
      {
        "duration": 5,
        "start_time": "2024-03-02T22:52:09.473Z"
      },
      {
        "duration": 39,
        "start_time": "2024-03-02T22:52:09.480Z"
      },
      {
        "duration": 178,
        "start_time": "2024-03-02T22:52:09.521Z"
      },
      {
        "duration": 65,
        "start_time": "2024-03-02T22:52:09.701Z"
      },
      {
        "duration": 29,
        "start_time": "2024-03-02T22:52:09.768Z"
      },
      {
        "duration": 20,
        "start_time": "2024-03-02T22:52:09.798Z"
      },
      {
        "duration": 8,
        "start_time": "2024-03-02T22:52:09.820Z"
      },
      {
        "duration": 9,
        "start_time": "2024-03-02T22:52:09.830Z"
      },
      {
        "duration": 45,
        "start_time": "2024-03-02T22:52:09.841Z"
      },
      {
        "duration": 24,
        "start_time": "2024-03-02T22:52:09.888Z"
      },
      {
        "duration": 16,
        "start_time": "2024-03-02T22:52:09.913Z"
      },
      {
        "duration": 6,
        "start_time": "2024-03-02T22:52:09.931Z"
      },
      {
        "duration": 25,
        "start_time": "2024-03-02T22:52:09.939Z"
      },
      {
        "duration": 866,
        "start_time": "2024-03-02T22:52:09.966Z"
      },
      {
        "duration": 33,
        "start_time": "2024-03-02T22:52:10.837Z"
      },
      {
        "duration": 24,
        "start_time": "2024-03-02T22:52:10.872Z"
      },
      {
        "duration": 6,
        "start_time": "2024-03-02T22:52:10.898Z"
      },
      {
        "duration": 16,
        "start_time": "2024-03-02T22:52:10.906Z"
      },
      {
        "duration": 42,
        "start_time": "2024-03-02T22:52:10.924Z"
      },
      {
        "duration": 4,
        "start_time": "2024-03-02T22:52:10.967Z"
      },
      {
        "duration": 27,
        "start_time": "2024-03-02T22:52:10.972Z"
      },
      {
        "duration": 29,
        "start_time": "2024-03-02T22:52:11.001Z"
      },
      {
        "duration": 31,
        "start_time": "2024-03-02T22:52:11.032Z"
      },
      {
        "duration": 45,
        "start_time": "2024-03-02T22:52:11.065Z"
      },
      {
        "duration": 17,
        "start_time": "2024-03-02T22:52:11.112Z"
      },
      {
        "duration": 55,
        "start_time": "2024-03-02T22:52:11.130Z"
      },
      {
        "duration": 37,
        "start_time": "2024-03-02T22:52:11.187Z"
      },
      {
        "duration": 27,
        "start_time": "2024-03-02T22:52:11.225Z"
      },
      {
        "duration": 33,
        "start_time": "2024-03-02T22:52:11.253Z"
      },
      {
        "duration": 3115,
        "start_time": "2024-03-02T22:52:11.288Z"
      },
      {
        "duration": 7,
        "start_time": "2024-03-02T22:52:14.405Z"
      },
      {
        "duration": 20,
        "start_time": "2024-03-02T22:52:14.414Z"
      },
      {
        "duration": 17,
        "start_time": "2024-03-02T22:52:14.435Z"
      },
      {
        "duration": 24,
        "start_time": "2024-03-02T22:52:14.454Z"
      },
      {
        "duration": 36,
        "start_time": "2024-03-02T22:52:14.480Z"
      },
      {
        "duration": 41,
        "start_time": "2024-03-02T22:52:14.517Z"
      },
      {
        "duration": 28,
        "start_time": "2024-03-02T22:52:14.560Z"
      },
      {
        "duration": 10,
        "start_time": "2024-03-02T22:52:14.590Z"
      },
      {
        "duration": 27,
        "start_time": "2024-03-02T22:52:14.602Z"
      },
      {
        "duration": 59,
        "start_time": "2024-03-02T22:52:14.630Z"
      },
      {
        "duration": 10,
        "start_time": "2024-03-02T22:52:14.695Z"
      },
      {
        "duration": 28,
        "start_time": "2024-03-02T22:52:14.707Z"
      },
      {
        "duration": 50,
        "start_time": "2024-03-02T22:52:14.736Z"
      },
      {
        "duration": 12,
        "start_time": "2024-03-02T22:52:14.788Z"
      },
      {
        "duration": 24,
        "start_time": "2024-03-02T22:52:14.802Z"
      },
      {
        "duration": 37748,
        "start_time": "2024-03-02T22:52:14.827Z"
      },
      {
        "duration": 3,
        "start_time": "2024-03-02T22:52:52.577Z"
      },
      {
        "duration": 6,
        "start_time": "2024-03-02T22:52:52.582Z"
      },
      {
        "duration": 12,
        "start_time": "2024-03-02T22:52:52.590Z"
      },
      {
        "duration": 12,
        "start_time": "2024-03-02T23:05:51.759Z"
      },
      {
        "duration": 21970,
        "start_time": "2024-03-03T01:44:45.237Z"
      },
      {
        "duration": 28164,
        "start_time": "2024-03-03T01:45:14.374Z"
      },
      {
        "duration": 35861,
        "start_time": "2024-03-03T01:45:48.739Z"
      },
      {
        "duration": 43296,
        "start_time": "2024-03-03T01:46:30.690Z"
      },
      {
        "duration": 43036,
        "start_time": "2024-03-03T01:47:29.221Z"
      },
      {
        "duration": 28420,
        "start_time": "2024-03-03T01:48:18.662Z"
      },
      {
        "duration": 72307,
        "start_time": "2024-03-03T01:49:22.018Z"
      },
      {
        "duration": 4,
        "start_time": "2024-03-03T01:51:25.543Z"
      },
      {
        "duration": 11,
        "start_time": "2024-03-03T01:51:34.529Z"
      },
      {
        "duration": 12,
        "start_time": "2024-03-03T01:51:46.495Z"
      },
      {
        "duration": 12,
        "start_time": "2024-03-03T01:51:50.172Z"
      },
      {
        "duration": 2199,
        "start_time": "2024-03-03T01:52:08.092Z"
      },
      {
        "duration": 393750,
        "start_time": "2024-03-03T01:53:37.221Z"
      },
      {
        "duration": 52,
        "start_time": "2024-03-03T02:00:10.972Z"
      },
      {
        "duration": 912,
        "start_time": "2024-03-03T02:00:11.025Z"
      },
      {
        "duration": 5757,
        "start_time": "2024-03-03T02:00:55.181Z"
      },
      {
        "duration": 5,
        "start_time": "2024-03-03T02:01:25.868Z"
      },
      {
        "duration": 5,
        "start_time": "2024-03-03T02:01:54.671Z"
      },
      {
        "duration": 5712,
        "start_time": "2024-03-03T02:01:59.987Z"
      },
      {
        "duration": 590760,
        "start_time": "2024-03-03T02:02:14.000Z"
      },
      {
        "duration": 7471,
        "start_time": "2024-03-03T08:22:27.904Z"
      },
      {
        "duration": 3319,
        "start_time": "2024-03-03T08:22:35.377Z"
      },
      {
        "duration": 1698,
        "start_time": "2024-03-03T08:22:38.698Z"
      },
      {
        "duration": 4,
        "start_time": "2024-03-03T08:22:40.399Z"
      },
      {
        "duration": 30,
        "start_time": "2024-03-03T08:22:40.405Z"
      },
      {
        "duration": 15,
        "start_time": "2024-03-03T08:22:40.437Z"
      },
      {
        "duration": 383,
        "start_time": "2024-03-03T08:22:40.454Z"
      },
      {
        "duration": 3,
        "start_time": "2024-03-03T08:22:40.839Z"
      },
      {
        "duration": 76,
        "start_time": "2024-03-03T08:22:40.844Z"
      },
      {
        "duration": 4,
        "start_time": "2024-03-03T08:22:40.923Z"
      },
      {
        "duration": 71,
        "start_time": "2024-03-03T08:22:40.929Z"
      },
      {
        "duration": 35,
        "start_time": "2024-03-03T08:22:41.002Z"
      },
      {
        "duration": 297,
        "start_time": "2024-03-03T08:22:41.039Z"
      },
      {
        "duration": 6,
        "start_time": "2024-03-03T08:22:41.338Z"
      },
      {
        "duration": 12,
        "start_time": "2024-03-03T08:22:41.346Z"
      },
      {
        "duration": 24,
        "start_time": "2024-03-03T08:22:41.359Z"
      },
      {
        "duration": 5,
        "start_time": "2024-03-03T08:22:41.385Z"
      },
      {
        "duration": 33,
        "start_time": "2024-03-03T08:22:41.392Z"
      },
      {
        "duration": 12,
        "start_time": "2024-03-03T08:22:41.427Z"
      },
      {
        "duration": 9,
        "start_time": "2024-03-03T08:22:41.440Z"
      },
      {
        "duration": 5,
        "start_time": "2024-03-03T08:22:41.450Z"
      },
      {
        "duration": 8,
        "start_time": "2024-03-03T08:22:41.457Z"
      },
      {
        "duration": 11,
        "start_time": "2024-03-03T08:22:41.467Z"
      },
      {
        "duration": 21,
        "start_time": "2024-03-03T08:22:41.479Z"
      },
      {
        "duration": 13,
        "start_time": "2024-03-03T08:22:41.502Z"
      },
      {
        "duration": 165,
        "start_time": "2024-03-03T08:22:41.517Z"
      },
      {
        "duration": 7,
        "start_time": "2024-03-03T08:22:41.684Z"
      },
      {
        "duration": 34,
        "start_time": "2024-03-03T08:22:41.696Z"
      },
      {
        "duration": 233,
        "start_time": "2024-03-03T08:22:41.732Z"
      },
      {
        "duration": 70,
        "start_time": "2024-03-03T08:22:41.967Z"
      },
      {
        "duration": 60,
        "start_time": "2024-03-03T08:22:42.039Z"
      },
      {
        "duration": 20,
        "start_time": "2024-03-03T08:22:42.101Z"
      },
      {
        "duration": 3,
        "start_time": "2024-03-03T08:22:42.123Z"
      },
      {
        "duration": 7,
        "start_time": "2024-03-03T08:22:42.128Z"
      },
      {
        "duration": 50,
        "start_time": "2024-03-03T08:22:42.137Z"
      },
      {
        "duration": 26,
        "start_time": "2024-03-03T08:22:42.189Z"
      },
      {
        "duration": 132,
        "start_time": "2024-03-03T08:22:42.217Z"
      },
      {
        "duration": 6,
        "start_time": "2024-03-03T08:22:42.350Z"
      },
      {
        "duration": 3,
        "start_time": "2024-03-03T08:22:42.357Z"
      },
      {
        "duration": 896,
        "start_time": "2024-03-03T08:22:42.361Z"
      },
      {
        "duration": 32,
        "start_time": "2024-03-03T08:22:43.259Z"
      },
      {
        "duration": 27,
        "start_time": "2024-03-03T08:22:43.293Z"
      },
      {
        "duration": 3,
        "start_time": "2024-03-03T08:22:43.321Z"
      },
      {
        "duration": 9,
        "start_time": "2024-03-03T08:22:43.326Z"
      },
      {
        "duration": 22,
        "start_time": "2024-03-03T08:22:43.337Z"
      },
      {
        "duration": 4,
        "start_time": "2024-03-03T08:22:43.360Z"
      },
      {
        "duration": 9,
        "start_time": "2024-03-03T08:22:43.388Z"
      },
      {
        "duration": 12,
        "start_time": "2024-03-03T08:22:43.399Z"
      },
      {
        "duration": 16,
        "start_time": "2024-03-03T08:22:43.412Z"
      },
      {
        "duration": 23,
        "start_time": "2024-03-03T08:22:43.430Z"
      },
      {
        "duration": 7,
        "start_time": "2024-03-03T08:22:43.455Z"
      },
      {
        "duration": 37,
        "start_time": "2024-03-03T08:22:43.464Z"
      },
      {
        "duration": 32,
        "start_time": "2024-03-03T08:22:43.503Z"
      },
      {
        "duration": 8,
        "start_time": "2024-03-03T08:22:43.536Z"
      },
      {
        "duration": 5,
        "start_time": "2024-03-03T08:22:43.546Z"
      },
      {
        "duration": 3535,
        "start_time": "2024-03-03T08:22:43.553Z"
      },
      {
        "duration": 2,
        "start_time": "2024-03-03T08:22:47.089Z"
      },
      {
        "duration": 7,
        "start_time": "2024-03-03T08:22:47.093Z"
      },
      {
        "duration": 6,
        "start_time": "2024-03-03T08:22:47.101Z"
      },
      {
        "duration": 7,
        "start_time": "2024-03-03T08:22:47.109Z"
      },
      {
        "duration": 5,
        "start_time": "2024-03-03T08:22:47.118Z"
      },
      {
        "duration": 6,
        "start_time": "2024-03-03T08:22:47.125Z"
      },
      {
        "duration": 10,
        "start_time": "2024-03-03T08:22:47.132Z"
      },
      {
        "duration": 2,
        "start_time": "2024-03-03T08:22:47.144Z"
      },
      {
        "duration": 29,
        "start_time": "2024-03-03T08:22:47.188Z"
      },
      {
        "duration": 70,
        "start_time": "2024-03-03T08:22:47.219Z"
      },
      {
        "duration": 10,
        "start_time": "2024-03-03T08:22:47.291Z"
      },
      {
        "duration": 28,
        "start_time": "2024-03-03T08:22:47.304Z"
      },
      {
        "duration": 58,
        "start_time": "2024-03-03T08:22:47.334Z"
      },
      {
        "duration": 7,
        "start_time": "2024-03-03T08:22:47.393Z"
      },
      {
        "duration": 895,
        "start_time": "2024-03-03T08:22:47.402Z"
      },
      {
        "duration": 17460,
        "start_time": "2024-03-03T08:22:48.299Z"
      },
      {
        "duration": 11,
        "start_time": "2024-03-03T08:23:05.761Z"
      },
      {
        "duration": 0,
        "start_time": "2024-03-03T08:23:05.774Z"
      },
      {
        "duration": 0,
        "start_time": "2024-03-03T08:23:05.775Z"
      },
      {
        "duration": 1,
        "start_time": "2024-03-03T08:23:05.776Z"
      },
      {
        "duration": 3005,
        "start_time": "2024-03-03T08:23:34.772Z"
      },
      {
        "duration": 2441,
        "start_time": "2024-03-03T08:23:37.779Z"
      },
      {
        "duration": 1253,
        "start_time": "2024-03-03T08:23:40.222Z"
      },
      {
        "duration": 2,
        "start_time": "2024-03-03T08:23:41.477Z"
      },
      {
        "duration": 17,
        "start_time": "2024-03-03T08:23:41.480Z"
      },
      {
        "duration": 4,
        "start_time": "2024-03-03T08:23:41.498Z"
      },
      {
        "duration": 100,
        "start_time": "2024-03-03T08:23:41.503Z"
      },
      {
        "duration": 3,
        "start_time": "2024-03-03T08:23:41.605Z"
      },
      {
        "duration": 41,
        "start_time": "2024-03-03T08:23:41.609Z"
      },
      {
        "duration": 5,
        "start_time": "2024-03-03T08:23:41.652Z"
      },
      {
        "duration": 5,
        "start_time": "2024-03-03T08:23:41.658Z"
      },
      {
        "duration": 26,
        "start_time": "2024-03-03T08:23:41.665Z"
      },
      {
        "duration": 241,
        "start_time": "2024-03-03T08:23:41.693Z"
      },
      {
        "duration": 5,
        "start_time": "2024-03-03T08:23:41.935Z"
      },
      {
        "duration": 7,
        "start_time": "2024-03-03T08:23:41.941Z"
      },
      {
        "duration": 9,
        "start_time": "2024-03-03T08:23:41.949Z"
      },
      {
        "duration": 5,
        "start_time": "2024-03-03T08:23:41.959Z"
      },
      {
        "duration": 8,
        "start_time": "2024-03-03T08:23:41.966Z"
      },
      {
        "duration": 6,
        "start_time": "2024-03-03T08:23:41.988Z"
      },
      {
        "duration": 8,
        "start_time": "2024-03-03T08:23:41.995Z"
      },
      {
        "duration": 3,
        "start_time": "2024-03-03T08:23:42.004Z"
      },
      {
        "duration": 6,
        "start_time": "2024-03-03T08:23:42.009Z"
      },
      {
        "duration": 5,
        "start_time": "2024-03-03T08:23:42.016Z"
      },
      {
        "duration": 6,
        "start_time": "2024-03-03T08:23:42.023Z"
      },
      {
        "duration": 3,
        "start_time": "2024-03-03T08:23:42.030Z"
      },
      {
        "duration": 161,
        "start_time": "2024-03-03T08:23:42.035Z"
      },
      {
        "duration": 5,
        "start_time": "2024-03-03T08:23:42.197Z"
      },
      {
        "duration": 21,
        "start_time": "2024-03-03T08:23:42.206Z"
      },
      {
        "duration": 186,
        "start_time": "2024-03-03T08:23:42.229Z"
      },
      {
        "duration": 51,
        "start_time": "2024-03-03T08:23:42.417Z"
      },
      {
        "duration": 43,
        "start_time": "2024-03-03T08:23:42.469Z"
      },
      {
        "duration": 20,
        "start_time": "2024-03-03T08:23:42.513Z"
      },
      {
        "duration": 3,
        "start_time": "2024-03-03T08:23:42.535Z"
      },
      {
        "duration": 6,
        "start_time": "2024-03-03T08:23:42.539Z"
      },
      {
        "duration": 50,
        "start_time": "2024-03-03T08:23:42.547Z"
      },
      {
        "duration": 24,
        "start_time": "2024-03-03T08:23:42.598Z"
      },
      {
        "duration": 93,
        "start_time": "2024-03-03T08:23:42.624Z"
      },
      {
        "duration": 5,
        "start_time": "2024-03-03T08:23:42.718Z"
      },
      {
        "duration": 4,
        "start_time": "2024-03-03T08:23:42.725Z"
      },
      {
        "duration": 744,
        "start_time": "2024-03-03T08:23:42.730Z"
      },
      {
        "duration": 24,
        "start_time": "2024-03-03T08:23:43.475Z"
      },
      {
        "duration": 24,
        "start_time": "2024-03-03T08:23:43.500Z"
      },
      {
        "duration": 27,
        "start_time": "2024-03-03T08:23:43.525Z"
      },
      {
        "duration": 16,
        "start_time": "2024-03-03T08:23:43.554Z"
      },
      {
        "duration": 24,
        "start_time": "2024-03-03T08:23:43.572Z"
      },
      {
        "duration": 4,
        "start_time": "2024-03-03T08:23:43.597Z"
      },
      {
        "duration": 21,
        "start_time": "2024-03-03T08:23:43.602Z"
      },
      {
        "duration": 4,
        "start_time": "2024-03-03T08:23:43.625Z"
      },
      {
        "duration": 8,
        "start_time": "2024-03-03T08:23:43.631Z"
      },
      {
        "duration": 21,
        "start_time": "2024-03-03T08:23:43.640Z"
      },
      {
        "duration": 6,
        "start_time": "2024-03-03T08:23:43.662Z"
      },
      {
        "duration": 29,
        "start_time": "2024-03-03T08:23:43.670Z"
      },
      {
        "duration": 4,
        "start_time": "2024-03-03T08:23:43.701Z"
      },
      {
        "duration": 6,
        "start_time": "2024-03-03T08:23:43.706Z"
      },
      {
        "duration": 4,
        "start_time": "2024-03-03T08:23:43.714Z"
      },
      {
        "duration": 3200,
        "start_time": "2024-03-03T08:23:43.720Z"
      },
      {
        "duration": 2,
        "start_time": "2024-03-03T08:23:46.922Z"
      },
      {
        "duration": 6,
        "start_time": "2024-03-03T08:23:46.925Z"
      },
      {
        "duration": 3,
        "start_time": "2024-03-03T08:23:46.932Z"
      },
      {
        "duration": 5,
        "start_time": "2024-03-03T08:23:46.937Z"
      },
      {
        "duration": 5,
        "start_time": "2024-03-03T08:23:46.943Z"
      },
      {
        "duration": 8,
        "start_time": "2024-03-03T08:23:46.950Z"
      },
      {
        "duration": 15,
        "start_time": "2024-03-03T08:23:46.960Z"
      },
      {
        "duration": 2,
        "start_time": "2024-03-03T08:23:46.977Z"
      },
      {
        "duration": 18,
        "start_time": "2024-03-03T08:23:46.987Z"
      },
      {
        "duration": 50,
        "start_time": "2024-03-03T08:23:47.007Z"
      },
      {
        "duration": 8,
        "start_time": "2024-03-03T08:23:47.059Z"
      },
      {
        "duration": 25,
        "start_time": "2024-03-03T08:23:47.088Z"
      },
      {
        "duration": 24,
        "start_time": "2024-03-03T08:23:47.115Z"
      },
      {
        "duration": 5,
        "start_time": "2024-03-03T08:23:47.141Z"
      },
      {
        "duration": 344,
        "start_time": "2024-03-03T08:23:47.147Z"
      },
      {
        "duration": 423128,
        "start_time": "2024-03-03T08:23:47.494Z"
      },
      {
        "duration": 4,
        "start_time": "2024-03-03T08:30:50.623Z"
      },
      {
        "duration": 14,
        "start_time": "2024-03-03T08:30:50.628Z"
      },
      {
        "duration": 11,
        "start_time": "2024-03-03T08:30:50.644Z"
      },
      {
        "duration": 16,
        "start_time": "2024-03-03T08:30:50.656Z"
      },
      {
        "duration": 15,
        "start_time": "2024-03-03T08:31:11.937Z"
      },
      {
        "duration": 5977,
        "start_time": "2024-03-03T08:31:28.138Z"
      },
      {
        "duration": 257660,
        "start_time": "2024-03-03T08:32:37.923Z"
      },
      {
        "duration": 5213,
        "start_time": "2024-03-03T08:37:00.299Z"
      },
      {
        "duration": 301814,
        "start_time": "2024-03-03T08:37:25.190Z"
      },
      {
        "duration": 4747,
        "start_time": "2024-03-03T08:45:19.084Z"
      },
      {
        "duration": 2994,
        "start_time": "2024-03-03T08:47:13.327Z"
      },
      {
        "duration": 2427,
        "start_time": "2024-03-03T08:47:16.323Z"
      },
      {
        "duration": 1370,
        "start_time": "2024-03-03T08:47:18.752Z"
      },
      {
        "duration": 2,
        "start_time": "2024-03-03T08:47:20.124Z"
      },
      {
        "duration": 14,
        "start_time": "2024-03-03T08:47:20.127Z"
      },
      {
        "duration": 5,
        "start_time": "2024-03-03T08:47:20.143Z"
      },
      {
        "duration": 110,
        "start_time": "2024-03-03T08:47:20.149Z"
      },
      {
        "duration": 2,
        "start_time": "2024-03-03T08:47:20.261Z"
      },
      {
        "duration": 42,
        "start_time": "2024-03-03T08:47:20.264Z"
      },
      {
        "duration": 4,
        "start_time": "2024-03-03T08:47:20.308Z"
      },
      {
        "duration": 12,
        "start_time": "2024-03-03T08:47:20.314Z"
      },
      {
        "duration": 7,
        "start_time": "2024-03-03T08:47:20.328Z"
      },
      {
        "duration": 256,
        "start_time": "2024-03-03T08:47:20.336Z"
      },
      {
        "duration": 5,
        "start_time": "2024-03-03T08:47:20.593Z"
      },
      {
        "duration": 9,
        "start_time": "2024-03-03T08:47:20.599Z"
      },
      {
        "duration": 15,
        "start_time": "2024-03-03T08:47:20.610Z"
      },
      {
        "duration": 12,
        "start_time": "2024-03-03T08:47:20.626Z"
      },
      {
        "duration": 14,
        "start_time": "2024-03-03T08:47:20.639Z"
      },
      {
        "duration": 8,
        "start_time": "2024-03-03T08:47:20.655Z"
      },
      {
        "duration": 14,
        "start_time": "2024-03-03T08:47:20.664Z"
      },
      {
        "duration": 35,
        "start_time": "2024-03-03T08:47:20.679Z"
      },
      {
        "duration": 20,
        "start_time": "2024-03-03T08:47:20.715Z"
      },
      {
        "duration": 14,
        "start_time": "2024-03-03T08:47:20.736Z"
      },
      {
        "duration": 19,
        "start_time": "2024-03-03T08:47:20.751Z"
      },
      {
        "duration": 12,
        "start_time": "2024-03-03T08:47:20.771Z"
      },
      {
        "duration": 142,
        "start_time": "2024-03-03T08:47:20.785Z"
      },
      {
        "duration": 5,
        "start_time": "2024-03-03T08:47:20.929Z"
      },
      {
        "duration": 30,
        "start_time": "2024-03-03T08:47:20.937Z"
      },
      {
        "duration": 181,
        "start_time": "2024-03-03T08:47:20.968Z"
      },
      {
        "duration": 59,
        "start_time": "2024-03-03T08:47:21.150Z"
      },
      {
        "duration": 30,
        "start_time": "2024-03-03T08:47:21.210Z"
      },
      {
        "duration": 47,
        "start_time": "2024-03-03T08:47:21.243Z"
      },
      {
        "duration": 24,
        "start_time": "2024-03-03T08:47:21.291Z"
      },
      {
        "duration": 18,
        "start_time": "2024-03-03T08:47:21.316Z"
      },
      {
        "duration": 30,
        "start_time": "2024-03-03T08:47:21.335Z"
      },
      {
        "duration": 24,
        "start_time": "2024-03-03T08:47:21.367Z"
      },
      {
        "duration": 80,
        "start_time": "2024-03-03T08:47:21.392Z"
      },
      {
        "duration": 6,
        "start_time": "2024-03-03T08:47:21.474Z"
      },
      {
        "duration": 8,
        "start_time": "2024-03-03T08:47:21.487Z"
      },
      {
        "duration": 794,
        "start_time": "2024-03-03T08:47:21.496Z"
      },
      {
        "duration": 20,
        "start_time": "2024-03-03T08:47:22.292Z"
      },
      {
        "duration": 25,
        "start_time": "2024-03-03T08:47:22.313Z"
      },
      {
        "duration": 11,
        "start_time": "2024-03-03T08:47:22.340Z"
      },
      {
        "duration": 20,
        "start_time": "2024-03-03T08:47:22.352Z"
      },
      {
        "duration": 36,
        "start_time": "2024-03-03T08:47:22.374Z"
      },
      {
        "duration": 4,
        "start_time": "2024-03-03T08:47:22.411Z"
      },
      {
        "duration": 28,
        "start_time": "2024-03-03T08:47:22.417Z"
      },
      {
        "duration": 10,
        "start_time": "2024-03-03T08:47:22.447Z"
      },
      {
        "duration": 17,
        "start_time": "2024-03-03T08:47:22.458Z"
      },
      {
        "duration": 36,
        "start_time": "2024-03-03T08:47:22.476Z"
      },
      {
        "duration": 6,
        "start_time": "2024-03-03T08:47:22.514Z"
      },
      {
        "duration": 28,
        "start_time": "2024-03-03T08:47:22.522Z"
      },
      {
        "duration": 16,
        "start_time": "2024-03-03T08:47:22.552Z"
      },
      {
        "duration": 26,
        "start_time": "2024-03-03T08:47:22.570Z"
      },
      {
        "duration": 30,
        "start_time": "2024-03-03T08:47:22.597Z"
      },
      {
        "duration": 3235,
        "start_time": "2024-03-03T08:47:22.629Z"
      },
      {
        "duration": 2,
        "start_time": "2024-03-03T08:47:25.865Z"
      },
      {
        "duration": 15,
        "start_time": "2024-03-03T08:47:25.869Z"
      },
      {
        "duration": 17,
        "start_time": "2024-03-03T08:47:25.886Z"
      },
      {
        "duration": 6,
        "start_time": "2024-03-03T08:47:25.905Z"
      },
      {
        "duration": 10,
        "start_time": "2024-03-03T08:47:25.912Z"
      },
      {
        "duration": 5,
        "start_time": "2024-03-03T08:47:25.923Z"
      },
      {
        "duration": 10,
        "start_time": "2024-03-03T08:47:25.930Z"
      },
      {
        "duration": 8,
        "start_time": "2024-03-03T08:47:25.941Z"
      },
      {
        "duration": 18,
        "start_time": "2024-03-03T08:47:25.950Z"
      },
      {
        "duration": 48,
        "start_time": "2024-03-03T08:47:25.970Z"
      },
      {
        "duration": 8,
        "start_time": "2024-03-03T08:47:26.019Z"
      },
      {
        "duration": 25,
        "start_time": "2024-03-03T08:47:26.028Z"
      },
      {
        "duration": 43,
        "start_time": "2024-03-03T08:47:26.055Z"
      },
      {
        "duration": 6,
        "start_time": "2024-03-03T08:47:26.099Z"
      },
      {
        "duration": 387,
        "start_time": "2024-03-03T08:47:26.106Z"
      },
      {
        "duration": 1248851,
        "start_time": "2024-03-03T08:47:26.496Z"
      },
      {
        "duration": 5,
        "start_time": "2024-03-03T09:08:15.349Z"
      },
      {
        "duration": 46,
        "start_time": "2024-03-03T09:08:15.356Z"
      },
      {
        "duration": 51,
        "start_time": "2024-03-03T09:08:15.404Z"
      },
      {
        "duration": 55123,
        "start_time": "2024-03-03T09:08:15.456Z"
      },
      {
        "duration": 23,
        "start_time": "2024-03-03T09:09:10.635Z"
      },
      {
        "duration": 5,
        "start_time": "2024-03-03T09:09:10.688Z"
      },
      {
        "duration": 12,
        "start_time": "2024-03-03T09:09:10.695Z"
      },
      {
        "duration": 55253,
        "start_time": "2024-03-03T09:09:52.207Z"
      },
      {
        "duration": 4,
        "start_time": "2024-03-03T09:20:41.917Z"
      },
      {
        "duration": 4,
        "start_time": "2024-03-03T09:20:56.758Z"
      },
      {
        "duration": 4,
        "start_time": "2024-03-03T09:20:57.172Z"
      },
      {
        "duration": 2,
        "start_time": "2024-03-03T09:21:25.166Z"
      },
      {
        "duration": 4,
        "start_time": "2024-03-03T09:21:30.220Z"
      },
      {
        "duration": 17362,
        "start_time": "2024-03-03T09:22:34.853Z"
      },
      {
        "duration": 55523,
        "start_time": "2024-03-03T09:22:52.217Z"
      },
      {
        "duration": 11,
        "start_time": "2024-03-03T09:34:46.720Z"
      },
      {
        "duration": 8,
        "start_time": "2024-03-03T09:35:00.251Z"
      },
      {
        "duration": 12,
        "start_time": "2024-03-03T09:35:16.444Z"
      },
      {
        "duration": 3087,
        "start_time": "2024-03-03T10:39:43.102Z"
      },
      {
        "duration": 2485,
        "start_time": "2024-03-03T10:39:46.191Z"
      },
      {
        "duration": 1396,
        "start_time": "2024-03-03T10:39:48.678Z"
      },
      {
        "duration": 2,
        "start_time": "2024-03-03T10:39:50.076Z"
      },
      {
        "duration": 9,
        "start_time": "2024-03-03T10:39:50.080Z"
      },
      {
        "duration": 6,
        "start_time": "2024-03-03T10:39:50.090Z"
      },
      {
        "duration": 109,
        "start_time": "2024-03-03T10:39:50.097Z"
      },
      {
        "duration": 3,
        "start_time": "2024-03-03T10:39:50.207Z"
      },
      {
        "duration": 64,
        "start_time": "2024-03-03T10:39:50.212Z"
      },
      {
        "duration": 4,
        "start_time": "2024-03-03T10:39:50.287Z"
      },
      {
        "duration": 10,
        "start_time": "2024-03-03T10:39:50.293Z"
      },
      {
        "duration": 12,
        "start_time": "2024-03-03T10:39:50.306Z"
      },
      {
        "duration": 278,
        "start_time": "2024-03-03T10:39:50.320Z"
      },
      {
        "duration": 6,
        "start_time": "2024-03-03T10:39:50.599Z"
      },
      {
        "duration": 10,
        "start_time": "2024-03-03T10:39:50.607Z"
      },
      {
        "duration": 7,
        "start_time": "2024-03-03T10:39:50.619Z"
      },
      {
        "duration": 7,
        "start_time": "2024-03-03T10:39:50.628Z"
      },
      {
        "duration": 10,
        "start_time": "2024-03-03T10:39:50.638Z"
      },
      {
        "duration": 9,
        "start_time": "2024-03-03T10:39:50.650Z"
      },
      {
        "duration": 35,
        "start_time": "2024-03-03T10:39:50.661Z"
      },
      {
        "duration": 4,
        "start_time": "2024-03-03T10:39:50.698Z"
      },
      {
        "duration": 5,
        "start_time": "2024-03-03T10:39:50.897Z"
      },
      {
        "duration": 5,
        "start_time": "2024-03-03T10:39:52.268Z"
      },
      {
        "duration": 6,
        "start_time": "2024-03-03T10:39:52.542Z"
      },
      {
        "duration": 4,
        "start_time": "2024-03-03T10:39:52.724Z"
      },
      {
        "duration": 147,
        "start_time": "2024-03-03T10:39:53.430Z"
      },
      {
        "duration": 6,
        "start_time": "2024-03-03T10:39:53.942Z"
      },
      {
        "duration": 14,
        "start_time": "2024-03-03T10:39:54.114Z"
      },
      {
        "duration": 184,
        "start_time": "2024-03-03T10:39:54.556Z"
      },
      {
        "duration": 56,
        "start_time": "2024-03-03T10:39:55.124Z"
      },
      {
        "duration": 29,
        "start_time": "2024-03-03T10:39:55.196Z"
      },
      {
        "duration": 25,
        "start_time": "2024-03-03T10:39:56.320Z"
      },
      {
        "duration": 4,
        "start_time": "2024-03-03T10:39:56.585Z"
      },
      {
        "duration": 2,
        "start_time": "2024-03-03T10:39:56.758Z"
      },
      {
        "duration": 25,
        "start_time": "2024-03-03T10:39:58.022Z"
      },
      {
        "duration": 26,
        "start_time": "2024-03-03T10:39:58.697Z"
      },
      {
        "duration": 26,
        "start_time": "2024-03-03T10:40:00.130Z"
      },
      {
        "duration": 6,
        "start_time": "2024-03-03T10:40:01.146Z"
      },
      {
        "duration": 3,
        "start_time": "2024-03-03T10:40:02.646Z"
      },
      {
        "duration": 882,
        "start_time": "2024-03-03T10:40:03.006Z"
      },
      {
        "duration": 21,
        "start_time": "2024-03-03T10:40:03.891Z"
      },
      {
        "duration": 25,
        "start_time": "2024-03-03T10:40:05.841Z"
      },
      {
        "duration": 5,
        "start_time": "2024-03-03T10:40:06.384Z"
      },
      {
        "duration": 2,
        "start_time": "2024-03-03T10:40:07.716Z"
      },
      {
        "duration": 16,
        "start_time": "2024-03-03T10:40:09.328Z"
      },
      {
        "duration": 6,
        "start_time": "2024-03-03T10:40:10.349Z"
      },
      {
        "duration": 6,
        "start_time": "2024-03-03T10:40:10.637Z"
      },
      {
        "duration": 5,
        "start_time": "2024-03-03T10:40:10.875Z"
      },
      {
        "duration": 4,
        "start_time": "2024-03-03T10:40:11.346Z"
      },
      {
        "duration": 33,
        "start_time": "2024-03-03T10:40:12.252Z"
      },
      {
        "duration": 5,
        "start_time": "2024-03-03T10:40:13.700Z"
      },
      {
        "duration": 31,
        "start_time": "2024-03-03T10:40:14.006Z"
      },
      {
        "duration": 3,
        "start_time": "2024-03-03T10:40:15.651Z"
      },
      {
        "duration": 4,
        "start_time": "2024-03-03T10:40:16.152Z"
      },
      {
        "duration": 6,
        "start_time": "2024-03-03T10:40:16.546Z"
      },
      {
        "duration": 3285,
        "start_time": "2024-03-03T10:40:37.867Z"
      },
      {
        "duration": 2,
        "start_time": "2024-03-03T10:40:41.154Z"
      },
      {
        "duration": 4,
        "start_time": "2024-03-03T10:40:42.037Z"
      },
      {
        "duration": 2,
        "start_time": "2024-03-03T10:40:43.013Z"
      },
      {
        "duration": 3,
        "start_time": "2024-03-03T10:40:46.136Z"
      },
      {
        "duration": 5,
        "start_time": "2024-03-03T10:40:54.278Z"
      },
      {
        "duration": 4,
        "start_time": "2024-03-03T10:40:56.238Z"
      },
      {
        "duration": 6,
        "start_time": "2024-03-03T10:41:00.666Z"
      },
      {
        "duration": 6,
        "start_time": "2024-03-03T10:41:10.350Z"
      },
      {
        "duration": 4,
        "start_time": "2024-03-03T10:41:11.628Z"
      },
      {
        "duration": 19,
        "start_time": "2024-03-03T10:41:15.207Z"
      },
      {
        "duration": 47,
        "start_time": "2024-03-03T10:41:18.363Z"
      },
      {
        "duration": 8,
        "start_time": "2024-03-03T10:48:26.429Z"
      },
      {
        "duration": 25,
        "start_time": "2024-03-03T10:48:26.920Z"
      },
      {
        "duration": 23,
        "start_time": "2024-03-03T10:48:27.603Z"
      },
      {
        "duration": 5,
        "start_time": "2024-03-03T10:48:30.221Z"
      },
      {
        "duration": 400,
        "start_time": "2024-03-03T10:48:30.489Z"
      },
      {
        "duration": 107,
        "start_time": "2024-03-03T10:48:31.868Z"
      },
      {
        "duration": 23,
        "start_time": "2024-03-03T10:48:41.043Z"
      },
      {
        "duration": 14,
        "start_time": "2024-03-03T10:48:50.775Z"
      },
      {
        "duration": 4,
        "start_time": "2024-03-03T10:49:18.754Z"
      },
      {
        "duration": 4,
        "start_time": "2024-03-03T10:49:24.522Z"
      },
      {
        "duration": 4,
        "start_time": "2024-03-03T10:49:30.772Z"
      },
      {
        "duration": 3,
        "start_time": "2024-03-03T10:49:39.235Z"
      },
      {
        "duration": 4,
        "start_time": "2024-03-03T10:49:43.676Z"
      },
      {
        "duration": 477602,
        "start_time": "2024-03-03T10:49:57.240Z"
      },
      {
        "duration": 932,
        "start_time": "2024-03-03T10:57:54.844Z"
      },
      {
        "duration": 12,
        "start_time": "2024-03-03T11:25:38.770Z"
      },
      {
        "duration": 3,
        "start_time": "2024-03-03T11:26:08.125Z"
      },
      {
        "duration": 19,
        "start_time": "2024-03-03T11:26:10.232Z"
      },
      {
        "duration": 46,
        "start_time": "2024-03-03T15:20:11.281Z"
      },
      {
        "duration": 7,
        "start_time": "2024-03-03T15:20:14.849Z"
      },
      {
        "duration": 3,
        "start_time": "2024-03-03T15:20:19.029Z"
      },
      {
        "duration": 6183,
        "start_time": "2024-03-03T15:26:07.735Z"
      },
      {
        "duration": 2910,
        "start_time": "2024-03-03T15:26:13.920Z"
      },
      {
        "duration": 1532,
        "start_time": "2024-03-03T15:26:16.833Z"
      },
      {
        "duration": 3,
        "start_time": "2024-03-03T15:26:18.368Z"
      },
      {
        "duration": 7,
        "start_time": "2024-03-03T15:26:18.372Z"
      },
      {
        "duration": 18,
        "start_time": "2024-03-03T15:26:18.381Z"
      },
      {
        "duration": 303,
        "start_time": "2024-03-03T15:26:18.400Z"
      },
      {
        "duration": 3,
        "start_time": "2024-03-03T15:26:18.705Z"
      },
      {
        "duration": 39,
        "start_time": "2024-03-03T15:26:18.763Z"
      },
      {
        "duration": 4,
        "start_time": "2024-03-03T15:26:19.525Z"
      },
      {
        "duration": 4,
        "start_time": "2024-03-03T15:26:19.725Z"
      },
      {
        "duration": 5,
        "start_time": "2024-03-03T15:26:20.489Z"
      },
      {
        "duration": 202,
        "start_time": "2024-03-03T15:26:20.837Z"
      },
      {
        "duration": 5,
        "start_time": "2024-03-03T15:26:21.411Z"
      },
      {
        "duration": 9,
        "start_time": "2024-03-03T15:26:21.599Z"
      },
      {
        "duration": 5,
        "start_time": "2024-03-03T15:26:21.791Z"
      },
      {
        "duration": 2,
        "start_time": "2024-03-03T15:26:22.194Z"
      },
      {
        "duration": 8,
        "start_time": "2024-03-03T15:26:22.384Z"
      },
      {
        "duration": 6,
        "start_time": "2024-03-03T15:26:22.961Z"
      },
      {
        "duration": 7,
        "start_time": "2024-03-03T15:26:23.691Z"
      },
      {
        "duration": 3,
        "start_time": "2024-03-03T15:26:25.515Z"
      },
      {
        "duration": 5,
        "start_time": "2024-03-03T15:26:26.345Z"
      },
      {
        "duration": 5,
        "start_time": "2024-03-03T15:26:27.291Z"
      },
      {
        "duration": 6,
        "start_time": "2024-03-03T15:26:27.799Z"
      },
      {
        "duration": 3,
        "start_time": "2024-03-03T15:26:28.029Z"
      },
      {
        "duration": 129,
        "start_time": "2024-03-03T15:26:28.436Z"
      },
      {
        "duration": 5,
        "start_time": "2024-03-03T15:26:29.177Z"
      },
      {
        "duration": 13,
        "start_time": "2024-03-03T15:26:29.395Z"
      },
      {
        "duration": 169,
        "start_time": "2024-03-03T15:26:30.075Z"
      },
      {
        "duration": 48,
        "start_time": "2024-03-03T15:26:31.315Z"
      },
      {
        "duration": 28,
        "start_time": "2024-03-03T15:26:32.214Z"
      },
      {
        "duration": 19,
        "start_time": "2024-03-03T15:26:33.329Z"
      },
      {
        "duration": 3,
        "start_time": "2024-03-03T15:26:33.650Z"
      },
      {
        "duration": 1,
        "start_time": "2024-03-03T15:26:34.424Z"
      },
      {
        "duration": 24,
        "start_time": "2024-03-03T15:26:36.327Z"
      },
      {
        "duration": 25,
        "start_time": "2024-03-03T15:26:43.257Z"
      },
      {
        "duration": 15,
        "start_time": "2024-03-03T15:26:45.952Z"
      },
      {
        "duration": 5,
        "start_time": "2024-03-03T15:26:47.909Z"
      },
      {
        "duration": 3,
        "start_time": "2024-03-03T15:26:50.645Z"
      },
      {
        "duration": 785,
        "start_time": "2024-03-03T15:26:50.883Z"
      },
      {
        "duration": 19,
        "start_time": "2024-03-03T15:26:51.670Z"
      },
      {
        "duration": 23,
        "start_time": "2024-03-03T15:26:54.959Z"
      },
      {
        "duration": 2,
        "start_time": "2024-03-03T15:26:55.545Z"
      },
      {
        "duration": 2,
        "start_time": "2024-03-03T15:26:56.310Z"
      },
      {
        "duration": 16,
        "start_time": "2024-03-03T15:26:58.666Z"
      },
      {
        "duration": 4,
        "start_time": "2024-03-03T15:26:59.699Z"
      },
      {
        "duration": 4,
        "start_time": "2024-03-03T15:27:00.248Z"
      },
      {
        "duration": 5,
        "start_time": "2024-03-03T15:27:00.500Z"
      },
      {
        "duration": 3,
        "start_time": "2024-03-03T15:27:01.840Z"
      },
      {
        "duration": 19,
        "start_time": "2024-03-03T15:27:03.258Z"
      },
      {
        "duration": 6,
        "start_time": "2024-03-03T15:27:06.098Z"
      },
      {
        "duration": 22,
        "start_time": "2024-03-03T15:27:07.523Z"
      },
      {
        "duration": 3,
        "start_time": "2024-03-03T15:27:11.423Z"
      },
      {
        "duration": 4,
        "start_time": "2024-03-03T15:27:13.774Z"
      },
      {
        "duration": 3,
        "start_time": "2024-03-03T15:27:26.934Z"
      },
      {
        "duration": 3118,
        "start_time": "2024-03-03T15:27:27.126Z"
      },
      {
        "duration": 3,
        "start_time": "2024-03-03T15:27:30.246Z"
      },
      {
        "duration": 13,
        "start_time": "2024-03-03T15:27:36.086Z"
      },
      {
        "duration": 5,
        "start_time": "2024-03-03T15:27:54.148Z"
      },
      {
        "duration": 4,
        "start_time": "2024-03-03T15:27:55.499Z"
      },
      {
        "duration": 2,
        "start_time": "2024-03-03T15:27:59.911Z"
      },
      {
        "duration": 4,
        "start_time": "2024-03-03T15:28:00.225Z"
      },
      {
        "duration": 4,
        "start_time": "2024-03-03T15:28:04.251Z"
      },
      {
        "duration": 4,
        "start_time": "2024-03-03T15:28:15.044Z"
      },
      {
        "duration": 7,
        "start_time": "2024-03-03T15:28:17.277Z"
      },
      {
        "duration": 2,
        "start_time": "2024-03-03T15:28:26.063Z"
      },
      {
        "duration": 25,
        "start_time": "2024-03-03T15:28:26.503Z"
      },
      {
        "duration": 75,
        "start_time": "2024-03-03T15:28:27.976Z"
      },
      {
        "duration": 9,
        "start_time": "2024-03-03T15:28:29.678Z"
      },
      {
        "duration": 24,
        "start_time": "2024-03-03T15:28:33.960Z"
      },
      {
        "duration": 24,
        "start_time": "2024-03-03T15:28:50.273Z"
      },
      {
        "duration": 4,
        "start_time": "2024-03-03T15:28:52.880Z"
      },
      {
        "duration": 253,
        "start_time": "2024-03-03T15:28:56.114Z"
      },
      {
        "duration": 178,
        "start_time": "2024-03-03T15:29:10.286Z"
      },
      {
        "duration": 9651,
        "start_time": "2024-03-03T15:29:29.954Z"
      },
      {
        "duration": 191087,
        "start_time": "2024-03-03T15:30:44.233Z"
      },
      {
        "duration": 2726,
        "start_time": "2024-03-03T15:35:09.875Z"
      },
      {
        "duration": 2270,
        "start_time": "2024-03-03T15:35:12.603Z"
      },
      {
        "duration": 1258,
        "start_time": "2024-03-03T15:35:14.875Z"
      },
      {
        "duration": 2,
        "start_time": "2024-03-03T15:35:16.135Z"
      },
      {
        "duration": 7,
        "start_time": "2024-03-03T15:35:16.139Z"
      },
      {
        "duration": 4,
        "start_time": "2024-03-03T15:35:16.147Z"
      },
      {
        "duration": 92,
        "start_time": "2024-03-03T15:35:16.152Z"
      },
      {
        "duration": 3,
        "start_time": "2024-03-03T15:35:16.245Z"
      },
      {
        "duration": 52,
        "start_time": "2024-03-03T15:35:16.249Z"
      },
      {
        "duration": 3,
        "start_time": "2024-03-03T15:35:16.303Z"
      },
      {
        "duration": 17,
        "start_time": "2024-03-03T15:35:16.307Z"
      },
      {
        "duration": 13,
        "start_time": "2024-03-03T15:35:16.325Z"
      },
      {
        "duration": 211,
        "start_time": "2024-03-03T15:35:16.339Z"
      },
      {
        "duration": 15,
        "start_time": "2024-03-03T15:35:16.552Z"
      },
      {
        "duration": 7,
        "start_time": "2024-03-03T15:35:16.569Z"
      },
      {
        "duration": 8,
        "start_time": "2024-03-03T15:35:16.577Z"
      },
      {
        "duration": 3,
        "start_time": "2024-03-03T15:35:16.587Z"
      },
      {
        "duration": 10,
        "start_time": "2024-03-03T15:35:16.592Z"
      },
      {
        "duration": 7,
        "start_time": "2024-03-03T15:35:16.604Z"
      },
      {
        "duration": 7,
        "start_time": "2024-03-03T15:35:16.612Z"
      },
      {
        "duration": 16,
        "start_time": "2024-03-03T15:35:16.622Z"
      },
      {
        "duration": 33,
        "start_time": "2024-03-03T15:35:16.639Z"
      },
      {
        "duration": 11,
        "start_time": "2024-03-03T15:35:16.673Z"
      },
      {
        "duration": 10,
        "start_time": "2024-03-03T15:35:16.685Z"
      },
      {
        "duration": 7,
        "start_time": "2024-03-03T15:35:16.697Z"
      },
      {
        "duration": 125,
        "start_time": "2024-03-03T15:35:16.841Z"
      },
      {
        "duration": 4,
        "start_time": "2024-03-03T15:35:17.345Z"
      },
      {
        "duration": 13,
        "start_time": "2024-03-03T15:35:17.502Z"
      },
      {
        "duration": 172,
        "start_time": "2024-03-03T15:35:17.991Z"
      },
      {
        "duration": 49,
        "start_time": "2024-03-03T15:35:18.453Z"
      },
      {
        "duration": 25,
        "start_time": "2024-03-03T15:35:18.776Z"
      },
      {
        "duration": 20,
        "start_time": "2024-03-03T15:35:19.262Z"
      },
      {
        "duration": 3,
        "start_time": "2024-03-03T15:35:19.385Z"
      },
      {
        "duration": 2,
        "start_time": "2024-03-03T15:35:19.539Z"
      },
      {
        "duration": 24,
        "start_time": "2024-03-03T15:35:19.689Z"
      },
      {
        "duration": 25,
        "start_time": "2024-03-03T15:35:20.501Z"
      },
      {
        "duration": 16,
        "start_time": "2024-03-03T15:35:21.352Z"
      },
      {
        "duration": 7,
        "start_time": "2024-03-03T15:35:21.861Z"
      },
      {
        "duration": 2,
        "start_time": "2024-03-03T15:35:22.345Z"
      },
      {
        "duration": 762,
        "start_time": "2024-03-03T15:35:22.497Z"
      },
      {
        "duration": 19,
        "start_time": "2024-03-03T15:35:23.265Z"
      },
      {
        "duration": 23,
        "start_time": "2024-03-03T15:35:23.945Z"
      },
      {
        "duration": 3,
        "start_time": "2024-03-03T15:35:24.137Z"
      },
      {
        "duration": 2,
        "start_time": "2024-03-03T15:35:24.463Z"
      },
      {
        "duration": 17,
        "start_time": "2024-03-03T15:35:24.964Z"
      },
      {
        "duration": 4,
        "start_time": "2024-03-03T15:35:25.455Z"
      },
      {
        "duration": 5,
        "start_time": "2024-03-03T15:35:25.611Z"
      },
      {
        "duration": 6,
        "start_time": "2024-03-03T15:35:25.773Z"
      },
      {
        "duration": 5,
        "start_time": "2024-03-03T15:35:25.933Z"
      },
      {
        "duration": 19,
        "start_time": "2024-03-03T15:35:26.097Z"
      },
      {
        "duration": 6,
        "start_time": "2024-03-03T15:35:26.759Z"
      },
      {
        "duration": 18,
        "start_time": "2024-03-03T15:35:26.931Z"
      },
      {
        "duration": 3,
        "start_time": "2024-03-03T15:35:27.437Z"
      },
      {
        "duration": 4,
        "start_time": "2024-03-03T15:35:27.619Z"
      },
      {
        "duration": 3,
        "start_time": "2024-03-03T15:35:27.777Z"
      },
      {
        "duration": 2961,
        "start_time": "2024-03-03T15:35:28.239Z"
      },
      {
        "duration": 2,
        "start_time": "2024-03-03T15:35:31.202Z"
      },
      {
        "duration": 62,
        "start_time": "2024-03-03T15:35:31.205Z"
      },
      {
        "duration": 25,
        "start_time": "2024-03-03T15:35:31.269Z"
      },
      {
        "duration": 62,
        "start_time": "2024-03-03T15:35:31.296Z"
      },
      {
        "duration": 3,
        "start_time": "2024-03-03T15:35:31.789Z"
      },
      {
        "duration": 4,
        "start_time": "2024-03-03T15:35:32.500Z"
      },
      {
        "duration": 4,
        "start_time": "2024-03-03T15:35:32.855Z"
      },
      {
        "duration": 4,
        "start_time": "2024-03-03T15:35:34.564Z"
      },
      {
        "duration": 8,
        "start_time": "2024-03-03T15:35:35.647Z"
      },
      {
        "duration": 3,
        "start_time": "2024-03-03T15:35:36.643Z"
      },
      {
        "duration": 16,
        "start_time": "2024-03-03T15:35:36.930Z"
      },
      {
        "duration": 45,
        "start_time": "2024-03-03T15:35:38.390Z"
      },
      {
        "duration": 9,
        "start_time": "2024-03-03T15:35:39.855Z"
      },
      {
        "duration": 25,
        "start_time": "2024-03-03T15:35:40.773Z"
      },
      {
        "duration": 23,
        "start_time": "2024-03-03T15:35:42.225Z"
      },
      {
        "duration": 5,
        "start_time": "2024-03-03T15:35:44.585Z"
      },
      {
        "duration": 238,
        "start_time": "2024-03-03T15:35:45.029Z"
      },
      {
        "duration": 194683,
        "start_time": "2024-03-03T15:35:47.896Z"
      },
      {
        "duration": 184589,
        "start_time": "2024-03-03T15:40:03.396Z"
      },
      {
        "duration": 5,
        "start_time": "2024-03-03T16:29:59.625Z"
      },
      {
        "duration": 2861,
        "start_time": "2024-03-03T16:30:16.571Z"
      },
      {
        "duration": 2316,
        "start_time": "2024-03-03T16:30:19.435Z"
      },
      {
        "duration": 1271,
        "start_time": "2024-03-03T16:30:21.753Z"
      },
      {
        "duration": 2,
        "start_time": "2024-03-03T16:30:23.026Z"
      },
      {
        "duration": 6,
        "start_time": "2024-03-03T16:30:23.030Z"
      },
      {
        "duration": 8,
        "start_time": "2024-03-03T16:30:23.038Z"
      },
      {
        "duration": 93,
        "start_time": "2024-03-03T16:30:23.048Z"
      },
      {
        "duration": 3,
        "start_time": "2024-03-03T16:30:23.142Z"
      },
      {
        "duration": 38,
        "start_time": "2024-03-03T16:30:23.146Z"
      },
      {
        "duration": 4,
        "start_time": "2024-03-03T16:30:23.187Z"
      },
      {
        "duration": 7,
        "start_time": "2024-03-03T16:30:23.193Z"
      },
      {
        "duration": 11,
        "start_time": "2024-03-03T16:30:23.201Z"
      },
      {
        "duration": 231,
        "start_time": "2024-03-03T16:30:23.213Z"
      },
      {
        "duration": 5,
        "start_time": "2024-03-03T16:30:23.446Z"
      },
      {
        "duration": 6,
        "start_time": "2024-03-03T16:30:23.465Z"
      },
      {
        "duration": 5,
        "start_time": "2024-03-03T16:30:23.472Z"
      },
      {
        "duration": 3,
        "start_time": "2024-03-03T16:30:23.478Z"
      },
      {
        "duration": 8,
        "start_time": "2024-03-03T16:30:23.483Z"
      },
      {
        "duration": 6,
        "start_time": "2024-03-03T16:30:23.492Z"
      },
      {
        "duration": 12,
        "start_time": "2024-03-03T16:30:23.500Z"
      },
      {
        "duration": 6,
        "start_time": "2024-03-03T16:30:23.513Z"
      },
      {
        "duration": 5,
        "start_time": "2024-03-03T16:30:23.626Z"
      },
      {
        "duration": 4,
        "start_time": "2024-03-03T16:30:24.463Z"
      },
      {
        "duration": 6,
        "start_time": "2024-03-03T16:30:24.663Z"
      },
      {
        "duration": 3,
        "start_time": "2024-03-03T16:30:24.841Z"
      },
      {
        "duration": 131,
        "start_time": "2024-03-03T16:30:25.185Z"
      },
      {
        "duration": 5,
        "start_time": "2024-03-03T16:30:25.719Z"
      },
      {
        "duration": 15,
        "start_time": "2024-03-03T16:30:25.884Z"
      },
      {
        "duration": 167,
        "start_time": "2024-03-03T16:30:26.415Z"
      },
      {
        "duration": 55,
        "start_time": "2024-03-03T16:30:26.931Z"
      },
      {
        "duration": 29,
        "start_time": "2024-03-03T16:30:27.272Z"
      },
      {
        "duration": 29,
        "start_time": "2024-03-03T16:30:27.776Z"
      },
      {
        "duration": 3,
        "start_time": "2024-03-03T16:30:27.935Z"
      },
      {
        "duration": 3,
        "start_time": "2024-03-03T16:30:28.092Z"
      },
      {
        "duration": 29,
        "start_time": "2024-03-03T16:30:28.253Z"
      },
      {
        "duration": 28,
        "start_time": "2024-03-03T16:30:28.876Z"
      },
      {
        "duration": 15,
        "start_time": "2024-03-03T16:30:29.519Z"
      },
      {
        "duration": 7,
        "start_time": "2024-03-03T16:30:30.017Z"
      },
      {
        "duration": 2,
        "start_time": "2024-03-03T16:30:30.510Z"
      },
      {
        "duration": 768,
        "start_time": "2024-03-03T16:30:30.682Z"
      },
      {
        "duration": 25,
        "start_time": "2024-03-03T16:30:31.452Z"
      },
      {
        "duration": 22,
        "start_time": "2024-03-03T16:30:32.519Z"
      },
      {
        "duration": 3,
        "start_time": "2024-03-03T16:30:32.707Z"
      },
      {
        "duration": 2,
        "start_time": "2024-03-03T16:30:33.089Z"
      },
      {
        "duration": 17,
        "start_time": "2024-03-03T16:30:33.627Z"
      },
      {
        "duration": 4,
        "start_time": "2024-03-03T16:30:34.389Z"
      },
      {
        "duration": 4,
        "start_time": "2024-03-03T16:30:34.557Z"
      },
      {
        "duration": 5,
        "start_time": "2024-03-03T16:30:34.723Z"
      },
      {
        "duration": 4,
        "start_time": "2024-03-03T16:30:34.899Z"
      },
      {
        "duration": 20,
        "start_time": "2024-03-03T16:30:35.048Z"
      },
      {
        "duration": 7,
        "start_time": "2024-03-03T16:30:35.860Z"
      },
      {
        "duration": 19,
        "start_time": "2024-03-03T16:30:36.219Z"
      },
      {
        "duration": 4,
        "start_time": "2024-03-03T16:30:37.065Z"
      },
      {
        "duration": 4,
        "start_time": "2024-03-03T16:30:37.251Z"
      },
      {
        "duration": 4,
        "start_time": "2024-03-03T16:30:37.412Z"
      },
      {
        "duration": 3033,
        "start_time": "2024-03-03T16:30:37.959Z"
      },
      {
        "duration": 2,
        "start_time": "2024-03-03T16:30:40.994Z"
      },
      {
        "duration": 12,
        "start_time": "2024-03-03T16:30:43.399Z"
      },
      {
        "duration": 4,
        "start_time": "2024-03-03T16:30:43.539Z"
      },
      {
        "duration": 4,
        "start_time": "2024-03-03T16:30:46.183Z"
      },
      {
        "duration": 3,
        "start_time": "2024-03-03T16:30:46.353Z"
      },
      {
        "duration": 4,
        "start_time": "2024-03-03T16:30:46.495Z"
      },
      {
        "duration": 4,
        "start_time": "2024-03-03T16:30:46.970Z"
      },
      {
        "duration": 4,
        "start_time": "2024-03-03T16:30:54.984Z"
      },
      {
        "duration": 112,
        "start_time": "2024-03-03T16:31:17.289Z"
      },
      {
        "duration": 0,
        "start_time": "2024-03-03T16:31:17.403Z"
      },
      {
        "duration": 18,
        "start_time": "2024-03-03T16:32:15.350Z"
      },
      {
        "duration": 5,
        "start_time": "2024-03-03T16:32:20.767Z"
      },
      {
        "duration": 68,
        "start_time": "2024-03-03T16:32:32.373Z"
      },
      {
        "duration": 12,
        "start_time": "2024-03-03T16:33:04.070Z"
      },
      {
        "duration": 143701,
        "start_time": "2024-03-03T16:33:20.663Z"
      },
      {
        "duration": 2782,
        "start_time": "2024-03-03T17:05:35.178Z"
      },
      {
        "duration": 2334,
        "start_time": "2024-03-03T17:05:37.962Z"
      },
      {
        "duration": 1246,
        "start_time": "2024-03-03T17:05:40.298Z"
      },
      {
        "duration": 3,
        "start_time": "2024-03-03T17:05:41.545Z"
      },
      {
        "duration": 10,
        "start_time": "2024-03-03T17:05:41.550Z"
      },
      {
        "duration": 6,
        "start_time": "2024-03-03T17:05:41.561Z"
      },
      {
        "duration": 94,
        "start_time": "2024-03-03T17:05:41.568Z"
      },
      {
        "duration": 3,
        "start_time": "2024-03-03T17:05:41.663Z"
      },
      {
        "duration": 62,
        "start_time": "2024-03-03T17:05:41.667Z"
      },
      {
        "duration": 4,
        "start_time": "2024-03-03T17:05:41.730Z"
      },
      {
        "duration": 7,
        "start_time": "2024-03-03T17:05:41.735Z"
      },
      {
        "duration": 9,
        "start_time": "2024-03-03T17:05:41.743Z"
      },
      {
        "duration": 205,
        "start_time": "2024-03-03T17:05:41.753Z"
      },
      {
        "duration": 7,
        "start_time": "2024-03-03T17:05:41.964Z"
      },
      {
        "duration": 17,
        "start_time": "2024-03-03T17:05:41.972Z"
      },
      {
        "duration": 4,
        "start_time": "2024-03-03T17:05:41.991Z"
      },
      {
        "duration": 10,
        "start_time": "2024-03-03T17:05:41.996Z"
      },
      {
        "duration": 7,
        "start_time": "2024-03-03T17:05:42.007Z"
      },
      {
        "duration": 5,
        "start_time": "2024-03-03T17:05:42.015Z"
      },
      {
        "duration": 6,
        "start_time": "2024-03-03T17:05:42.022Z"
      },
      {
        "duration": 3,
        "start_time": "2024-03-03T17:05:42.029Z"
      },
      {
        "duration": 6,
        "start_time": "2024-03-03T17:05:42.034Z"
      },
      {
        "duration": 25,
        "start_time": "2024-03-03T17:05:42.041Z"
      },
      {
        "duration": 7,
        "start_time": "2024-03-03T17:05:42.068Z"
      },
      {
        "duration": 6,
        "start_time": "2024-03-03T17:05:42.076Z"
      },
      {
        "duration": 126,
        "start_time": "2024-03-03T17:05:42.083Z"
      },
      {
        "duration": 4,
        "start_time": "2024-03-03T17:05:42.211Z"
      },
      {
        "duration": 33,
        "start_time": "2024-03-03T17:05:42.217Z"
      },
      {
        "duration": 191,
        "start_time": "2024-03-03T17:05:42.251Z"
      },
      {
        "duration": 63,
        "start_time": "2024-03-03T17:05:42.444Z"
      },
      {
        "duration": 29,
        "start_time": "2024-03-03T17:05:42.508Z"
      },
      {
        "duration": 43,
        "start_time": "2024-03-03T17:05:42.538Z"
      },
      {
        "duration": 3,
        "start_time": "2024-03-03T17:05:42.582Z"
      },
      {
        "duration": 4,
        "start_time": "2024-03-03T17:05:42.587Z"
      },
      {
        "duration": 23,
        "start_time": "2024-03-03T17:05:42.592Z"
      },
      {
        "duration": 23,
        "start_time": "2024-03-03T17:05:42.616Z"
      },
      {
        "duration": 38,
        "start_time": "2024-03-03T17:05:42.640Z"
      },
      {
        "duration": 12,
        "start_time": "2024-03-03T17:05:42.680Z"
      },
      {
        "duration": 3,
        "start_time": "2024-03-03T17:05:42.694Z"
      },
      {
        "duration": 761,
        "start_time": "2024-03-03T17:05:42.699Z"
      },
      {
        "duration": 18,
        "start_time": "2024-03-03T17:05:43.467Z"
      },
      {
        "duration": 22,
        "start_time": "2024-03-03T17:05:43.486Z"
      },
      {
        "duration": 2,
        "start_time": "2024-03-03T17:05:43.510Z"
      },
      {
        "duration": 16,
        "start_time": "2024-03-03T17:05:43.513Z"
      },
      {
        "duration": 17,
        "start_time": "2024-03-03T17:05:43.531Z"
      },
      {
        "duration": 4,
        "start_time": "2024-03-03T17:05:43.565Z"
      },
      {
        "duration": 13,
        "start_time": "2024-03-03T17:05:43.571Z"
      },
      {
        "duration": 5,
        "start_time": "2024-03-03T17:05:43.586Z"
      },
      {
        "duration": 6,
        "start_time": "2024-03-03T17:05:43.592Z"
      },
      {
        "duration": 23,
        "start_time": "2024-03-03T17:05:43.600Z"
      },
      {
        "duration": 6,
        "start_time": "2024-03-03T17:05:43.624Z"
      },
      {
        "duration": 41,
        "start_time": "2024-03-03T17:05:43.631Z"
      },
      {
        "duration": 6,
        "start_time": "2024-03-03T17:05:43.673Z"
      },
      {
        "duration": 13,
        "start_time": "2024-03-03T17:05:43.680Z"
      },
      {
        "duration": 10,
        "start_time": "2024-03-03T17:05:43.694Z"
      },
      {
        "duration": 2939,
        "start_time": "2024-03-03T17:05:43.705Z"
      },
      {
        "duration": 2,
        "start_time": "2024-03-03T17:05:46.645Z"
      },
      {
        "duration": 26,
        "start_time": "2024-03-03T17:05:46.649Z"
      },
      {
        "duration": 14,
        "start_time": "2024-03-03T17:05:46.676Z"
      },
      {
        "duration": 4,
        "start_time": "2024-03-03T17:05:46.691Z"
      },
      {
        "duration": 9,
        "start_time": "2024-03-03T17:05:46.696Z"
      },
      {
        "duration": 7,
        "start_time": "2024-03-03T17:05:46.706Z"
      },
      {
        "duration": 8,
        "start_time": "2024-03-03T17:05:46.715Z"
      },
      {
        "duration": 50,
        "start_time": "2024-03-03T17:05:46.725Z"
      },
      {
        "duration": 61,
        "start_time": "2024-03-03T17:05:46.777Z"
      },
      {
        "duration": 2,
        "start_time": "2024-03-03T17:05:46.839Z"
      },
      {
        "duration": 12,
        "start_time": "2024-03-03T17:05:46.843Z"
      },
      {
        "duration": 17,
        "start_time": "2024-03-03T17:05:46.856Z"
      },
      {
        "duration": 4,
        "start_time": "2024-03-03T17:05:46.875Z"
      },
      {
        "duration": 7,
        "start_time": "2024-03-03T17:05:46.880Z"
      },
      {
        "duration": 6,
        "start_time": "2024-03-03T17:05:46.888Z"
      },
      {
        "duration": 109,
        "start_time": "2024-03-03T17:05:46.895Z"
      },
      {
        "duration": 0,
        "start_time": "2024-03-03T17:05:47.006Z"
      },
      {
        "duration": 0,
        "start_time": "2024-03-03T17:05:47.007Z"
      },
      {
        "duration": 0,
        "start_time": "2024-03-03T17:05:47.008Z"
      },
      {
        "duration": 0,
        "start_time": "2024-03-03T17:05:47.009Z"
      },
      {
        "duration": 2924,
        "start_time": "2024-03-03T17:07:00.149Z"
      },
      {
        "duration": 2379,
        "start_time": "2024-03-03T17:07:03.075Z"
      },
      {
        "duration": 1264,
        "start_time": "2024-03-03T17:07:05.456Z"
      },
      {
        "duration": 2,
        "start_time": "2024-03-03T17:07:06.722Z"
      },
      {
        "duration": 15,
        "start_time": "2024-03-03T17:07:06.725Z"
      },
      {
        "duration": 10,
        "start_time": "2024-03-03T17:07:06.741Z"
      },
      {
        "duration": 96,
        "start_time": "2024-03-03T17:07:06.752Z"
      },
      {
        "duration": 3,
        "start_time": "2024-03-03T17:07:06.849Z"
      },
      {
        "duration": 47,
        "start_time": "2024-03-03T17:07:06.853Z"
      },
      {
        "duration": 3,
        "start_time": "2024-03-03T17:07:06.903Z"
      },
      {
        "duration": 17,
        "start_time": "2024-03-03T17:07:06.907Z"
      },
      {
        "duration": 14,
        "start_time": "2024-03-03T17:07:06.925Z"
      },
      {
        "duration": 203,
        "start_time": "2024-03-03T17:07:06.940Z"
      },
      {
        "duration": 4,
        "start_time": "2024-03-03T17:07:07.145Z"
      },
      {
        "duration": 29,
        "start_time": "2024-03-03T17:07:07.150Z"
      },
      {
        "duration": 4,
        "start_time": "2024-03-03T17:07:07.181Z"
      },
      {
        "duration": 4,
        "start_time": "2024-03-03T17:07:07.186Z"
      },
      {
        "duration": 8,
        "start_time": "2024-03-03T17:07:07.191Z"
      },
      {
        "duration": 5,
        "start_time": "2024-03-03T17:07:07.201Z"
      },
      {
        "duration": 10,
        "start_time": "2024-03-03T17:07:07.207Z"
      },
      {
        "duration": 8,
        "start_time": "2024-03-03T17:07:07.218Z"
      },
      {
        "duration": 10,
        "start_time": "2024-03-03T17:07:07.227Z"
      },
      {
        "duration": 4,
        "start_time": "2024-03-03T17:07:07.238Z"
      },
      {
        "duration": 4,
        "start_time": "2024-03-03T17:07:07.244Z"
      },
      {
        "duration": 16,
        "start_time": "2024-03-03T17:07:07.249Z"
      },
      {
        "duration": 126,
        "start_time": "2024-03-03T17:07:07.266Z"
      },
      {
        "duration": 4,
        "start_time": "2024-03-03T17:07:07.394Z"
      },
      {
        "duration": 14,
        "start_time": "2024-03-03T17:07:07.402Z"
      },
      {
        "duration": 180,
        "start_time": "2024-03-03T17:07:07.417Z"
      },
      {
        "duration": 67,
        "start_time": "2024-03-03T17:07:07.598Z"
      },
      {
        "duration": 27,
        "start_time": "2024-03-03T17:07:07.666Z"
      },
      {
        "duration": 18,
        "start_time": "2024-03-03T17:07:07.695Z"
      },
      {
        "duration": 3,
        "start_time": "2024-03-03T17:07:07.714Z"
      },
      {
        "duration": 6,
        "start_time": "2024-03-03T17:07:07.718Z"
      },
      {
        "duration": 43,
        "start_time": "2024-03-03T17:07:07.726Z"
      },
      {
        "duration": 27,
        "start_time": "2024-03-03T17:07:07.771Z"
      },
      {
        "duration": 112,
        "start_time": "2024-03-03T17:07:07.803Z"
      },
      {
        "duration": 6,
        "start_time": "2024-03-03T17:07:07.916Z"
      },
      {
        "duration": 8,
        "start_time": "2024-03-03T17:07:07.923Z"
      },
      {
        "duration": 705,
        "start_time": "2024-03-03T17:07:07.932Z"
      },
      {
        "duration": 18,
        "start_time": "2024-03-03T17:07:08.639Z"
      },
      {
        "duration": 22,
        "start_time": "2024-03-03T17:07:08.665Z"
      },
      {
        "duration": 6,
        "start_time": "2024-03-03T17:07:08.688Z"
      },
      {
        "duration": 4,
        "start_time": "2024-03-03T17:07:08.695Z"
      },
      {
        "duration": 17,
        "start_time": "2024-03-03T17:07:08.701Z"
      },
      {
        "duration": 4,
        "start_time": "2024-03-03T17:07:08.719Z"
      },
      {
        "duration": 8,
        "start_time": "2024-03-03T17:07:08.724Z"
      },
      {
        "duration": 4,
        "start_time": "2024-03-03T17:07:08.733Z"
      },
      {
        "duration": 28,
        "start_time": "2024-03-03T17:07:08.738Z"
      },
      {
        "duration": 20,
        "start_time": "2024-03-03T17:07:08.767Z"
      },
      {
        "duration": 5,
        "start_time": "2024-03-03T17:07:08.788Z"
      },
      {
        "duration": 20,
        "start_time": "2024-03-03T17:07:08.794Z"
      },
      {
        "duration": 11,
        "start_time": "2024-03-03T17:07:08.815Z"
      },
      {
        "duration": 9,
        "start_time": "2024-03-03T17:07:08.828Z"
      },
      {
        "duration": 26,
        "start_time": "2024-03-03T17:07:08.838Z"
      },
      {
        "duration": 3030,
        "start_time": "2024-03-03T17:07:08.866Z"
      },
      {
        "duration": 2,
        "start_time": "2024-03-03T17:07:11.897Z"
      },
      {
        "duration": 14,
        "start_time": "2024-03-03T17:07:11.901Z"
      },
      {
        "duration": 4,
        "start_time": "2024-03-03T17:07:11.916Z"
      },
      {
        "duration": 9,
        "start_time": "2024-03-03T17:07:11.921Z"
      },
      {
        "duration": 3,
        "start_time": "2024-03-03T17:07:11.931Z"
      },
      {
        "duration": 5,
        "start_time": "2024-03-03T17:07:11.935Z"
      },
      {
        "duration": 4,
        "start_time": "2024-03-03T17:07:11.941Z"
      },
      {
        "duration": 19,
        "start_time": "2024-03-03T17:07:11.946Z"
      },
      {
        "duration": 63,
        "start_time": "2024-03-03T17:07:11.966Z"
      },
      {
        "duration": 2,
        "start_time": "2024-03-03T17:07:12.031Z"
      },
      {
        "duration": 114,
        "start_time": "2024-03-03T17:07:12.034Z"
      },
      {
        "duration": 0,
        "start_time": "2024-03-03T17:07:12.149Z"
      },
      {
        "duration": 0,
        "start_time": "2024-03-03T17:07:12.151Z"
      },
      {
        "duration": 0,
        "start_time": "2024-03-03T17:07:12.152Z"
      },
      {
        "duration": 0,
        "start_time": "2024-03-03T17:07:12.153Z"
      },
      {
        "duration": 0,
        "start_time": "2024-03-03T17:07:12.153Z"
      },
      {
        "duration": 0,
        "start_time": "2024-03-03T17:07:12.154Z"
      },
      {
        "duration": 0,
        "start_time": "2024-03-03T17:07:12.165Z"
      },
      {
        "duration": 0,
        "start_time": "2024-03-03T17:07:12.166Z"
      },
      {
        "duration": 0,
        "start_time": "2024-03-03T17:07:12.167Z"
      },
      {
        "duration": 2833,
        "start_time": "2024-03-03T17:09:21.457Z"
      },
      {
        "duration": 2259,
        "start_time": "2024-03-03T17:09:24.292Z"
      },
      {
        "duration": 1297,
        "start_time": "2024-03-03T17:09:26.553Z"
      },
      {
        "duration": 3,
        "start_time": "2024-03-03T17:09:27.851Z"
      },
      {
        "duration": 4,
        "start_time": "2024-03-03T17:09:27.855Z"
      },
      {
        "duration": 10,
        "start_time": "2024-03-03T17:09:27.864Z"
      },
      {
        "duration": 96,
        "start_time": "2024-03-03T17:09:27.875Z"
      },
      {
        "duration": 3,
        "start_time": "2024-03-03T17:09:27.972Z"
      },
      {
        "duration": 36,
        "start_time": "2024-03-03T17:09:27.976Z"
      },
      {
        "duration": 3,
        "start_time": "2024-03-03T17:09:28.015Z"
      },
      {
        "duration": 5,
        "start_time": "2024-03-03T17:09:28.019Z"
      },
      {
        "duration": 5,
        "start_time": "2024-03-03T17:09:28.025Z"
      },
      {
        "duration": 228,
        "start_time": "2024-03-03T17:09:28.031Z"
      },
      {
        "duration": 7,
        "start_time": "2024-03-03T17:09:28.260Z"
      },
      {
        "duration": 7,
        "start_time": "2024-03-03T17:09:28.269Z"
      },
      {
        "duration": 6,
        "start_time": "2024-03-03T17:09:28.278Z"
      },
      {
        "duration": 2,
        "start_time": "2024-03-03T17:09:28.286Z"
      },
      {
        "duration": 6,
        "start_time": "2024-03-03T17:09:28.289Z"
      },
      {
        "duration": 14,
        "start_time": "2024-03-03T17:09:28.297Z"
      },
      {
        "duration": 6,
        "start_time": "2024-03-03T17:09:28.313Z"
      },
      {
        "duration": 3,
        "start_time": "2024-03-03T17:09:28.321Z"
      },
      {
        "duration": 8,
        "start_time": "2024-03-03T17:09:28.326Z"
      },
      {
        "duration": 6,
        "start_time": "2024-03-03T17:09:28.365Z"
      },
      {
        "duration": 7,
        "start_time": "2024-03-03T17:09:28.373Z"
      },
      {
        "duration": 4,
        "start_time": "2024-03-03T17:09:28.381Z"
      },
      {
        "duration": 158,
        "start_time": "2024-03-03T17:09:28.387Z"
      },
      {
        "duration": 6,
        "start_time": "2024-03-03T17:09:28.547Z"
      },
      {
        "duration": 14,
        "start_time": "2024-03-03T17:09:28.564Z"
      },
      {
        "duration": 202,
        "start_time": "2024-03-03T17:09:28.579Z"
      },
      {
        "duration": 51,
        "start_time": "2024-03-03T17:09:28.782Z"
      },
      {
        "duration": 47,
        "start_time": "2024-03-03T17:09:28.835Z"
      },
      {
        "duration": 26,
        "start_time": "2024-03-03T17:09:28.884Z"
      },
      {
        "duration": 3,
        "start_time": "2024-03-03T17:09:28.912Z"
      },
      {
        "duration": 8,
        "start_time": "2024-03-03T17:09:28.916Z"
      },
      {
        "duration": 57,
        "start_time": "2024-03-03T17:09:28.926Z"
      },
      {
        "duration": 22,
        "start_time": "2024-03-03T17:09:28.984Z"
      },
      {
        "duration": 87,
        "start_time": "2024-03-03T17:09:29.007Z"
      },
      {
        "duration": 5,
        "start_time": "2024-03-03T17:09:29.095Z"
      },
      {
        "duration": 8,
        "start_time": "2024-03-03T17:09:29.102Z"
      },
      {
        "duration": 702,
        "start_time": "2024-03-03T17:09:29.111Z"
      },
      {
        "duration": 26,
        "start_time": "2024-03-03T17:09:29.815Z"
      },
      {
        "duration": 37,
        "start_time": "2024-03-03T17:09:29.842Z"
      },
      {
        "duration": 7,
        "start_time": "2024-03-03T17:09:29.881Z"
      },
      {
        "duration": 13,
        "start_time": "2024-03-03T17:09:29.889Z"
      },
      {
        "duration": 17,
        "start_time": "2024-03-03T17:09:29.903Z"
      },
      {
        "duration": 3,
        "start_time": "2024-03-03T17:09:29.922Z"
      },
      {
        "duration": 7,
        "start_time": "2024-03-03T17:09:29.927Z"
      },
      {
        "duration": 5,
        "start_time": "2024-03-03T17:09:29.936Z"
      },
      {
        "duration": 23,
        "start_time": "2024-03-03T17:09:29.943Z"
      },
      {
        "duration": 22,
        "start_time": "2024-03-03T17:09:29.967Z"
      },
      {
        "duration": 6,
        "start_time": "2024-03-03T17:09:29.992Z"
      },
      {
        "duration": 23,
        "start_time": "2024-03-03T17:09:30.000Z"
      },
      {
        "duration": 24,
        "start_time": "2024-03-03T17:09:30.025Z"
      },
      {
        "duration": 28,
        "start_time": "2024-03-03T17:09:30.051Z"
      },
      {
        "duration": 34,
        "start_time": "2024-03-03T17:09:30.080Z"
      },
      {
        "duration": 3025,
        "start_time": "2024-03-03T17:09:30.115Z"
      },
      {
        "duration": 2,
        "start_time": "2024-03-03T17:09:33.141Z"
      },
      {
        "duration": 16,
        "start_time": "2024-03-03T17:09:33.144Z"
      },
      {
        "duration": 3,
        "start_time": "2024-03-03T17:09:33.162Z"
      },
      {
        "duration": 5,
        "start_time": "2024-03-03T17:09:33.166Z"
      },
      {
        "duration": 4,
        "start_time": "2024-03-03T17:09:33.173Z"
      },
      {
        "duration": 5,
        "start_time": "2024-03-03T17:09:33.178Z"
      },
      {
        "duration": 4,
        "start_time": "2024-03-03T17:09:33.184Z"
      },
      {
        "duration": 4,
        "start_time": "2024-03-03T17:09:33.190Z"
      },
      {
        "duration": 25,
        "start_time": "2024-03-03T17:09:33.195Z"
      },
      {
        "duration": 63,
        "start_time": "2024-03-03T17:09:33.221Z"
      },
      {
        "duration": 3,
        "start_time": "2024-03-03T17:09:33.285Z"
      },
      {
        "duration": 17,
        "start_time": "2024-03-03T17:09:33.289Z"
      },
      {
        "duration": 59,
        "start_time": "2024-03-03T17:09:33.307Z"
      },
      {
        "duration": 6,
        "start_time": "2024-03-03T17:09:33.368Z"
      },
      {
        "duration": 22,
        "start_time": "2024-03-03T17:09:33.376Z"
      },
      {
        "duration": 23,
        "start_time": "2024-03-03T17:09:33.399Z"
      },
      {
        "duration": 6,
        "start_time": "2024-03-03T17:09:33.424Z"
      },
      {
        "duration": 346,
        "start_time": "2024-03-03T17:09:33.432Z"
      },
      {
        "duration": 143178,
        "start_time": "2024-03-03T17:09:33.866Z"
      },
      {
        "duration": 100,
        "start_time": "2024-03-03T17:11:57.046Z"
      },
      {
        "duration": 0,
        "start_time": "2024-03-03T17:11:57.148Z"
      },
      {
        "duration": 2,
        "start_time": "2024-03-03T17:12:07.407Z"
      },
      {
        "duration": 14,
        "start_time": "2024-03-03T17:12:08.686Z"
      },
      {
        "duration": 144675,
        "start_time": "2024-03-03T17:13:02.456Z"
      },
      {
        "duration": 14,
        "start_time": "2024-03-03T17:15:58.975Z"
      },
      {
        "duration": 2820,
        "start_time": "2024-03-03T17:16:11.698Z"
      },
      {
        "duration": 2277,
        "start_time": "2024-03-03T17:16:14.521Z"
      },
      {
        "duration": 1201,
        "start_time": "2024-03-03T17:16:16.800Z"
      },
      {
        "duration": 2,
        "start_time": "2024-03-03T17:16:18.002Z"
      },
      {
        "duration": 15,
        "start_time": "2024-03-03T17:16:18.006Z"
      },
      {
        "duration": 6,
        "start_time": "2024-03-03T17:16:18.022Z"
      },
      {
        "duration": 95,
        "start_time": "2024-03-03T17:16:18.029Z"
      },
      {
        "duration": 2,
        "start_time": "2024-03-03T17:16:18.126Z"
      },
      {
        "duration": 60,
        "start_time": "2024-03-03T17:16:18.129Z"
      },
      {
        "duration": 3,
        "start_time": "2024-03-03T17:16:18.191Z"
      },
      {
        "duration": 5,
        "start_time": "2024-03-03T17:16:18.196Z"
      },
      {
        "duration": 6,
        "start_time": "2024-03-03T17:16:18.202Z"
      },
      {
        "duration": 212,
        "start_time": "2024-03-03T17:16:18.209Z"
      },
      {
        "duration": 4,
        "start_time": "2024-03-03T17:16:18.424Z"
      },
      {
        "duration": 13,
        "start_time": "2024-03-03T17:16:18.429Z"
      },
      {
        "duration": 13,
        "start_time": "2024-03-03T17:16:18.443Z"
      },
      {
        "duration": 2,
        "start_time": "2024-03-03T17:16:18.465Z"
      },
      {
        "duration": 8,
        "start_time": "2024-03-03T17:16:18.469Z"
      },
      {
        "duration": 6,
        "start_time": "2024-03-03T17:16:18.479Z"
      },
      {
        "duration": 7,
        "start_time": "2024-03-03T17:16:18.487Z"
      },
      {
        "duration": 3,
        "start_time": "2024-03-03T17:16:18.496Z"
      },
      {
        "duration": 4,
        "start_time": "2024-03-03T17:16:18.501Z"
      },
      {
        "duration": 6,
        "start_time": "2024-03-03T17:16:18.507Z"
      },
      {
        "duration": 51,
        "start_time": "2024-03-03T17:16:18.514Z"
      },
      {
        "duration": 2,
        "start_time": "2024-03-03T17:16:18.567Z"
      },
      {
        "duration": 139,
        "start_time": "2024-03-03T17:16:18.571Z"
      },
      {
        "duration": 5,
        "start_time": "2024-03-03T17:16:18.711Z"
      },
      {
        "duration": 25,
        "start_time": "2024-03-03T17:16:18.718Z"
      },
      {
        "duration": 218,
        "start_time": "2024-03-03T17:16:18.744Z"
      },
      {
        "duration": 70,
        "start_time": "2024-03-03T17:16:18.964Z"
      },
      {
        "duration": 45,
        "start_time": "2024-03-03T17:16:19.035Z"
      },
      {
        "duration": 30,
        "start_time": "2024-03-03T17:16:19.082Z"
      },
      {
        "duration": 3,
        "start_time": "2024-03-03T17:16:19.113Z"
      },
      {
        "duration": 11,
        "start_time": "2024-03-03T17:16:19.117Z"
      },
      {
        "duration": 44,
        "start_time": "2024-03-03T17:16:19.130Z"
      },
      {
        "duration": 23,
        "start_time": "2024-03-03T17:16:19.176Z"
      },
      {
        "duration": 16,
        "start_time": "2024-03-03T17:16:19.201Z"
      },
      {
        "duration": 18,
        "start_time": "2024-03-03T17:16:19.219Z"
      },
      {
        "duration": 15,
        "start_time": "2024-03-03T17:16:19.239Z"
      },
      {
        "duration": 759,
        "start_time": "2024-03-03T17:16:19.256Z"
      },
      {
        "duration": 18,
        "start_time": "2024-03-03T17:16:20.019Z"
      },
      {
        "duration": 31,
        "start_time": "2024-03-03T17:16:20.039Z"
      },
      {
        "duration": 2,
        "start_time": "2024-03-03T17:16:20.072Z"
      },
      {
        "duration": 5,
        "start_time": "2024-03-03T17:16:20.075Z"
      },
      {
        "duration": 19,
        "start_time": "2024-03-03T17:16:20.081Z"
      },
      {
        "duration": 3,
        "start_time": "2024-03-03T17:16:20.102Z"
      },
      {
        "duration": 10,
        "start_time": "2024-03-03T17:16:20.107Z"
      },
      {
        "duration": 16,
        "start_time": "2024-03-03T17:16:20.118Z"
      },
      {
        "duration": 17,
        "start_time": "2024-03-03T17:16:20.135Z"
      },
      {
        "duration": 30,
        "start_time": "2024-03-03T17:16:20.153Z"
      },
      {
        "duration": 6,
        "start_time": "2024-03-03T17:16:20.184Z"
      },
      {
        "duration": 21,
        "start_time": "2024-03-03T17:16:20.191Z"
      },
      {
        "duration": 3,
        "start_time": "2024-03-03T17:16:20.214Z"
      },
      {
        "duration": 6,
        "start_time": "2024-03-03T17:16:20.219Z"
      },
      {
        "duration": 12,
        "start_time": "2024-03-03T17:16:20.226Z"
      },
      {
        "duration": 3013,
        "start_time": "2024-03-03T17:16:20.239Z"
      },
      {
        "duration": 3,
        "start_time": "2024-03-03T17:16:23.253Z"
      },
      {
        "duration": 22,
        "start_time": "2024-03-03T17:16:23.257Z"
      },
      {
        "duration": 5,
        "start_time": "2024-03-03T17:16:23.280Z"
      },
      {
        "duration": 17,
        "start_time": "2024-03-03T17:16:23.286Z"
      },
      {
        "duration": 10,
        "start_time": "2024-03-03T17:16:23.305Z"
      },
      {
        "duration": 5,
        "start_time": "2024-03-03T17:16:23.316Z"
      },
      {
        "duration": 8,
        "start_time": "2024-03-03T17:16:23.323Z"
      },
      {
        "duration": 6,
        "start_time": "2024-03-03T17:16:23.332Z"
      },
      {
        "duration": 7,
        "start_time": "2024-03-03T17:16:23.339Z"
      },
      {
        "duration": 57,
        "start_time": "2024-03-03T17:16:23.347Z"
      },
      {
        "duration": 2,
        "start_time": "2024-03-03T17:16:23.406Z"
      },
      {
        "duration": 18,
        "start_time": "2024-03-03T17:16:23.410Z"
      },
      {
        "duration": 96,
        "start_time": "2024-03-03T17:16:23.429Z"
      },
      {
        "duration": 7,
        "start_time": "2024-03-03T17:16:23.526Z"
      },
      {
        "duration": 26,
        "start_time": "2024-03-03T17:16:23.534Z"
      },
      {
        "duration": 23,
        "start_time": "2024-03-03T17:16:23.561Z"
      },
      {
        "duration": 6,
        "start_time": "2024-03-03T17:16:23.585Z"
      },
      {
        "duration": 375,
        "start_time": "2024-03-03T17:16:23.592Z"
      },
      {
        "duration": 143958,
        "start_time": "2024-03-03T17:16:23.968Z"
      },
      {
        "duration": 2,
        "start_time": "2024-03-03T17:18:47.928Z"
      },
      {
        "duration": 34,
        "start_time": "2024-03-03T17:18:47.931Z"
      },
      {
        "duration": 2943,
        "start_time": "2024-03-03T18:05:03.230Z"
      },
      {
        "duration": 2312,
        "start_time": "2024-03-03T18:05:06.175Z"
      },
      {
        "duration": 1257,
        "start_time": "2024-03-03T18:05:08.489Z"
      },
      {
        "duration": 2,
        "start_time": "2024-03-03T18:05:09.749Z"
      },
      {
        "duration": 6,
        "start_time": "2024-03-03T18:05:09.753Z"
      },
      {
        "duration": 4,
        "start_time": "2024-03-03T18:05:09.765Z"
      },
      {
        "duration": 98,
        "start_time": "2024-03-03T18:05:09.771Z"
      },
      {
        "duration": 3,
        "start_time": "2024-03-03T18:05:09.870Z"
      },
      {
        "duration": 41,
        "start_time": "2024-03-03T18:05:09.874Z"
      },
      {
        "duration": 4,
        "start_time": "2024-03-03T18:05:09.917Z"
      },
      {
        "duration": 15,
        "start_time": "2024-03-03T18:05:09.923Z"
      },
      {
        "duration": 26,
        "start_time": "2024-03-03T18:05:09.939Z"
      },
      {
        "duration": 218,
        "start_time": "2024-03-03T18:05:09.967Z"
      },
      {
        "duration": 4,
        "start_time": "2024-03-03T18:05:10.187Z"
      },
      {
        "duration": 29,
        "start_time": "2024-03-03T18:05:10.192Z"
      },
      {
        "duration": 40,
        "start_time": "2024-03-03T18:05:10.223Z"
      },
      {
        "duration": 6,
        "start_time": "2024-03-03T18:05:10.265Z"
      },
      {
        "duration": 15,
        "start_time": "2024-03-03T18:05:10.273Z"
      },
      {
        "duration": 6,
        "start_time": "2024-03-03T18:05:10.290Z"
      },
      {
        "duration": 21,
        "start_time": "2024-03-03T18:05:10.297Z"
      },
      {
        "duration": 4,
        "start_time": "2024-03-03T18:05:10.320Z"
      },
      {
        "duration": 7,
        "start_time": "2024-03-03T18:05:10.326Z"
      },
      {
        "duration": 6,
        "start_time": "2024-03-03T18:05:10.334Z"
      },
      {
        "duration": 6,
        "start_time": "2024-03-03T18:05:10.341Z"
      },
      {
        "duration": 4,
        "start_time": "2024-03-03T18:05:10.348Z"
      },
      {
        "duration": 137,
        "start_time": "2024-03-03T18:05:10.353Z"
      },
      {
        "duration": 5,
        "start_time": "2024-03-03T18:05:10.492Z"
      },
      {
        "duration": 20,
        "start_time": "2024-03-03T18:05:10.501Z"
      },
      {
        "duration": 192,
        "start_time": "2024-03-03T18:05:10.523Z"
      },
      {
        "duration": 63,
        "start_time": "2024-03-03T18:05:10.717Z"
      },
      {
        "duration": 31,
        "start_time": "2024-03-03T18:05:10.781Z"
      },
      {
        "duration": 20,
        "start_time": "2024-03-03T18:05:10.813Z"
      },
      {
        "duration": 31,
        "start_time": "2024-03-03T18:05:10.834Z"
      },
      {
        "duration": 3,
        "start_time": "2024-03-03T18:05:10.866Z"
      },
      {
        "duration": 36,
        "start_time": "2024-03-03T18:05:10.870Z"
      },
      {
        "duration": 24,
        "start_time": "2024-03-03T18:05:10.907Z"
      },
      {
        "duration": 89,
        "start_time": "2024-03-03T18:05:10.933Z"
      },
      {
        "duration": 5,
        "start_time": "2024-03-03T18:05:11.023Z"
      },
      {
        "duration": 5,
        "start_time": "2024-03-03T18:05:11.030Z"
      },
      {
        "duration": 758,
        "start_time": "2024-03-03T18:05:11.036Z"
      },
      {
        "duration": 21,
        "start_time": "2024-03-03T18:05:11.796Z"
      },
      {
        "duration": 23,
        "start_time": "2024-03-03T18:05:11.819Z"
      },
      {
        "duration": 2,
        "start_time": "2024-03-03T18:05:11.864Z"
      },
      {
        "duration": 5,
        "start_time": "2024-03-03T18:05:11.867Z"
      },
      {
        "duration": 17,
        "start_time": "2024-03-03T18:05:11.874Z"
      },
      {
        "duration": 4,
        "start_time": "2024-03-03T18:05:11.892Z"
      },
      {
        "duration": 11,
        "start_time": "2024-03-03T18:05:11.897Z"
      },
      {
        "duration": 13,
        "start_time": "2024-03-03T18:05:11.910Z"
      },
      {
        "duration": 5,
        "start_time": "2024-03-03T18:05:11.924Z"
      },
      {
        "duration": 44,
        "start_time": "2024-03-03T18:05:11.930Z"
      },
      {
        "duration": 5,
        "start_time": "2024-03-03T18:05:11.975Z"
      },
      {
        "duration": 18,
        "start_time": "2024-03-03T18:05:11.982Z"
      },
      {
        "duration": 5,
        "start_time": "2024-03-03T18:05:12.001Z"
      },
      {
        "duration": 7,
        "start_time": "2024-03-03T18:05:12.008Z"
      },
      {
        "duration": 4,
        "start_time": "2024-03-03T18:05:12.016Z"
      },
      {
        "duration": 3015,
        "start_time": "2024-03-03T18:05:12.021Z"
      },
      {
        "duration": 2,
        "start_time": "2024-03-03T18:05:15.037Z"
      },
      {
        "duration": 52,
        "start_time": "2024-03-03T18:05:15.041Z"
      },
      {
        "duration": 43,
        "start_time": "2024-03-03T18:05:15.095Z"
      },
      {
        "duration": 28,
        "start_time": "2024-03-03T18:05:15.139Z"
      },
      {
        "duration": 43,
        "start_time": "2024-03-03T18:05:15.168Z"
      },
      {
        "duration": 32,
        "start_time": "2024-03-03T18:05:15.212Z"
      },
      {
        "duration": 54,
        "start_time": "2024-03-03T18:05:15.245Z"
      },
      {
        "duration": 6,
        "start_time": "2024-03-03T18:05:15.301Z"
      },
      {
        "duration": 21,
        "start_time": "2024-03-03T18:05:15.309Z"
      },
      {
        "duration": 70,
        "start_time": "2024-03-03T18:05:15.332Z"
      },
      {
        "duration": 2,
        "start_time": "2024-03-03T18:05:15.404Z"
      },
      {
        "duration": 31,
        "start_time": "2024-03-03T18:05:15.408Z"
      },
      {
        "duration": 53,
        "start_time": "2024-03-03T18:05:15.440Z"
      },
      {
        "duration": 6,
        "start_time": "2024-03-03T18:05:15.495Z"
      },
      {
        "duration": 38,
        "start_time": "2024-03-03T18:05:15.503Z"
      },
      {
        "duration": 22,
        "start_time": "2024-03-03T18:05:15.542Z"
      },
      {
        "duration": 26,
        "start_time": "2024-03-03T18:05:15.566Z"
      },
      {
        "duration": 278,
        "start_time": "2024-03-03T18:05:15.593Z"
      },
      {
        "duration": 143792,
        "start_time": "2024-03-03T18:05:15.873Z"
      },
      {
        "duration": 2,
        "start_time": "2024-03-03T18:07:39.667Z"
      },
      {
        "duration": 22,
        "start_time": "2024-03-03T18:07:39.671Z"
      }
    ],
    "toc": {
      "base_numbering": 1,
      "nav_menu": {},
      "number_sections": true,
      "sideBar": true,
      "skip_h1_title": true,
      "title_cell": "Table of Contents",
      "title_sidebar": "Contents",
      "toc_cell": false,
      "toc_position": {},
      "toc_section_display": true,
      "toc_window_display": false
    }
  },
  "nbformat_minor": 5,
  "nbformat": 4,
  "cells": [
    {
      "id": "9f24e3e4",
      "cell_type": "markdown",
      "source": "# Проект: телекоммуникации",
      "metadata": {}
    },
    {
      "id": "8a8b0ca1",
      "cell_type": "markdown",
      "source": "Оператор связи «ТелеДом» хочет бороться с оттоком клиентов. Для этого его сотрудники начнут предлагать промокоды и специальные условия всем, кто планирует отказаться от услуг связи. Чтобы заранее находить таких пользователей, «ТелеДому» нужна модель, которая будет предсказывать, разорвёт ли абонент договор. Команда оператора собрала персональные данные о некоторых клиентах, информацию об их тарифах и услугах. Задача — обучить на этих данных модель для прогноза оттока клиентов.  \n  \n  \n  ",
      "metadata": {}
    },
    {
      "id": "d16dbb04",
      "cell_type": "markdown",
      "source": "**Описание данных**  \nДанные состоят из нескольких файлов, полученных из разных источников:\n* `contract_new.csv` — информация о договоре;\n* `personal_new.csv` — персональные данные клиента;\n* `internet_new.csv` — информация об интернет-услугах;\n* `phone_new.csv` — информация об услугах телефонии.\n",
      "metadata": {}
    },
    {
      "id": "923acad2",
      "cell_type": "markdown",
      "source": "**План работы** \n* Загрузить данные\n* Исследовать и предобработать данные\n* Объединить данные\n* Исследовать и предобработать объединённые данные\n* Подготовить данные к обучению на них моделей МО\n* Обучение нескольких моделей\n* Выбор лучшей модели для решения поставленной задачи\n* Общий вывод по проделанной работе, рекомендации заказчику",
      "metadata": {}
    },
    {
      "id": "093fa015",
      "cell_type": "markdown",
      "source": "**Объявление библиотек и глобальных переменных и настроек:**",
      "metadata": {}
    },
    {
      "id": "613dbcf4",
      "cell_type": "code",
      "source": "pip install -U scikit-learn",
      "metadata": {},
      "outputs": [
        {
          "name": "stdout",
          "output_type": "stream",
          "text": [
            "Requirement already satisfied: scikit-learn in /opt/conda/lib/python3.9/site-packages (1.4.1.post1)\n",
            "Requirement already satisfied: threadpoolctl>=2.0.0 in /opt/conda/lib/python3.9/site-packages (from scikit-learn) (3.1.0)\n",
            "Requirement already satisfied: numpy<2.0,>=1.19.5 in /opt/conda/lib/python3.9/site-packages (from scikit-learn) (1.21.1)\n",
            "Requirement already satisfied: scipy>=1.6.0 in /opt/conda/lib/python3.9/site-packages (from scikit-learn) (1.9.1)\n",
            "Requirement already satisfied: joblib>=1.2.0 in /opt/conda/lib/python3.9/site-packages (from scikit-learn) (1.3.2)\n",
            "Note: you may need to restart the kernel to use updated packages.\n"
          ]
        }
      ],
      "execution_count": 1
    },
    {
      "id": "94ec52f7",
      "cell_type": "code",
      "source": "!pip install phik",
      "metadata": {},
      "outputs": [
        {
          "name": "stdout",
          "output_type": "stream",
          "text": [
            "Requirement already satisfied: phik in /opt/conda/lib/python3.9/site-packages (0.12.4)\r\n",
            "Requirement already satisfied: joblib>=0.14.1 in /opt/conda/lib/python3.9/site-packages (from phik) (1.3.2)\r\n",
            "Requirement already satisfied: pandas>=0.25.1 in /opt/conda/lib/python3.9/site-packages (from phik) (1.2.4)\r\n",
            "Requirement already satisfied: scipy>=1.5.2 in /opt/conda/lib/python3.9/site-packages (from phik) (1.9.1)\r\n",
            "Requirement already satisfied: numpy>=1.18.0 in /opt/conda/lib/python3.9/site-packages (from phik) (1.21.1)\r\n",
            "Requirement already satisfied: matplotlib>=2.2.3 in /opt/conda/lib/python3.9/site-packages (from phik) (3.3.4)\r\n",
            "Requirement already satisfied: cycler>=0.10 in /opt/conda/lib/python3.9/site-packages (from matplotlib>=2.2.3->phik) (0.11.0)\r\n",
            "Requirement already satisfied: python-dateutil>=2.1 in /opt/conda/lib/python3.9/site-packages (from matplotlib>=2.2.3->phik) (2.8.1)\r\n",
            "Requirement already satisfied: pillow>=6.2.0 in /opt/conda/lib/python3.9/site-packages (from matplotlib>=2.2.3->phik) (8.4.0)\r\n",
            "Requirement already satisfied: pyparsing!=2.0.4,!=2.1.2,!=2.1.6,>=2.0.3 in /opt/conda/lib/python3.9/site-packages (from matplotlib>=2.2.3->phik) (2.4.7)\r\n",
            "Requirement already satisfied: kiwisolver>=1.0.1 in /opt/conda/lib/python3.9/site-packages (from matplotlib>=2.2.3->phik) (1.4.4)\r\n",
            "Requirement already satisfied: pytz>=2017.3 in /opt/conda/lib/python3.9/site-packages (from pandas>=0.25.1->phik) (2021.1)\r\n",
            "Requirement already satisfied: six>=1.5 in /opt/conda/lib/python3.9/site-packages (from python-dateutil>=2.1->matplotlib>=2.2.3->phik) (1.16.0)\r\n"
          ]
        }
      ],
      "execution_count": 2
    },
    {
      "id": "47e50b41",
      "cell_type": "code",
      "source": "from sklearn.linear_model import LogisticRegression  # Модели МО\nfrom catboost import CatBoostClassifier, Pool        #\nfrom sklearn.ensemble import RandomForestClassifier  #\n\n\nfrom sklearn.model_selection import RandomizedSearchCV, GridSearchCV             # Вспомогательные функции\nfrom sklearn.compose import make_column_transformer                              #\nfrom sklearn.metrics import roc_auc_score, accuracy_score                        #\nfrom sklearn.model_selection import train_test_split                             #\nfrom sklearn.preprocessing import OneHotEncoder, OrdinalEncoder, StandardScaler  #\nfrom phik import phik_matrix                                                     #\n\n\nimport pandas as pd                       # Математика\nimport numpy as np                        #\nimport math as m                          #\nfrom scipy.stats import uniform, randint  #\n\n\nimport matplotlib.pyplot as plt      # Визуализация\nimport seaborn as sns                #\nfrom IPython.display import display  #\n\n\nimport warnings                    # Отключение предупреждений\nwarnings.filterwarnings(\"ignore\")  #\n\nfrom sklearn.pipeline import Pipeline\nfrom sklearn.compose import ColumnTransformer",
      "metadata": {},
      "outputs": [],
      "execution_count": 3
    },
    {
      "id": "962dd5ec",
      "cell_type": "code",
      "source": "RANDOM_SEED = 190224",
      "metadata": {},
      "outputs": [],
      "execution_count": 4
    },
    {
      "id": "51f7ea03",
      "cell_type": "code",
      "source": "class color:\n   PURPLE = '\\033[95m'\n   CYAN = '\\033[96m'\n   DARKCYAN = '\\033[36m'\n   BLUE = '\\033[94m'\n   GREEN = '\\033[92m'\n   YELLOW = '\\033[93m'\n   RED = '\\033[91m'\n   BOLD = '\\033[1m'\n   UNDERLINE = '\\033[4m'\n   END = '\\033[0m'",
      "metadata": {},
      "outputs": [],
      "execution_count": 5
    },
    {
      "id": "3a518c9f",
      "cell_type": "code",
      "source": "plt.rcParams['figure.figsize'] = (12, 8)\nplt.rcParams['font.size'] = 20\nsns.set_style(\"whitegrid\")",
      "metadata": {},
      "outputs": [],
      "execution_count": 6
    },
    {
      "id": "a46e14fc",
      "cell_type": "markdown",
      "source": "## Загрузка данных",
      "metadata": {}
    },
    {
      "id": "00103025",
      "cell_type": "code",
      "source": "contract_df = pd.read_csv('/datasets/contract_new.csv')\npersonal_df = pd.read_csv('/datasets/personal_new.csv')\ninternet_df = pd.read_csv('/datasets/internet_new.csv')\nphone_df = pd.read_csv('/datasets/phone_new.csv')",
      "metadata": {},
      "outputs": [],
      "execution_count": 7
    },
    {
      "id": "58f0b020",
      "cell_type": "code",
      "source": "df_dict = { 'Contract df': contract_df,\n            'Personal df': personal_df,\n            'Internet df': internet_df,\n            'Phone df': phone_df}",
      "metadata": {},
      "outputs": [],
      "execution_count": 8
    },
    {
      "id": "c080d143",
      "cell_type": "code",
      "source": "for i in df_dict:\n    print(color.BOLD + i + ':' + color.END)\n    display(df_dict[i].sample(10, random_state=RANDOM_SEED))\n    print('-----------------------------------------------------------------------------------------------------------')",
      "metadata": {},
      "outputs": [
        {
          "name": "stdout",
          "output_type": "stream",
          "text": [
            "\u001b[1mContract df:\u001b[0m\n"
          ]
        },
        {
          "data": {
            "text/html": [
              "<div>\n",
              "<style scoped>\n",
              "    .dataframe tbody tr th:only-of-type {\n",
              "        vertical-align: middle;\n",
              "    }\n",
              "\n",
              "    .dataframe tbody tr th {\n",
              "        vertical-align: top;\n",
              "    }\n",
              "\n",
              "    .dataframe thead th {\n",
              "        text-align: right;\n",
              "    }\n",
              "</style>\n",
              "<table border=\"1\" class=\"dataframe\">\n",
              "  <thead>\n",
              "    <tr style=\"text-align: right;\">\n",
              "      <th></th>\n",
              "      <th>customerID</th>\n",
              "      <th>BeginDate</th>\n",
              "      <th>EndDate</th>\n",
              "      <th>Type</th>\n",
              "      <th>PaperlessBilling</th>\n",
              "      <th>PaymentMethod</th>\n",
              "      <th>MonthlyCharges</th>\n",
              "      <th>TotalCharges</th>\n",
              "    </tr>\n",
              "  </thead>\n",
              "  <tbody>\n",
              "    <tr>\n",
              "      <th>3115</th>\n",
              "      <td>4822-NGOCH</td>\n",
              "      <td>2018-12-01</td>\n",
              "      <td>No</td>\n",
              "      <td>Month-to-month</td>\n",
              "      <td>Yes</td>\n",
              "      <td>Electronic check</td>\n",
              "      <td>84.45</td>\n",
              "      <td>1241.41</td>\n",
              "    </tr>\n",
              "    <tr>\n",
              "      <th>2086</th>\n",
              "      <td>2955-BJZHG</td>\n",
              "      <td>2018-08-01</td>\n",
              "      <td>2019-10-01</td>\n",
              "      <td>Month-to-month</td>\n",
              "      <td>No</td>\n",
              "      <td>Electronic check</td>\n",
              "      <td>80.85</td>\n",
              "      <td>1131.9</td>\n",
              "    </tr>\n",
              "    <tr>\n",
              "      <th>610</th>\n",
              "      <td>6543-CPZMK</td>\n",
              "      <td>2019-02-01</td>\n",
              "      <td>No</td>\n",
              "      <td>Month-to-month</td>\n",
              "      <td>Yes</td>\n",
              "      <td>Electronic check</td>\n",
              "      <td>29.95</td>\n",
              "      <td>359.4</td>\n",
              "    </tr>\n",
              "    <tr>\n",
              "      <th>912</th>\n",
              "      <td>3865-YIOTT</td>\n",
              "      <td>2014-02-01</td>\n",
              "      <td>2017-05-01</td>\n",
              "      <td>One year</td>\n",
              "      <td>Yes</td>\n",
              "      <td>Bank transfer (automatic)</td>\n",
              "      <td>106.10</td>\n",
              "      <td>4179.28</td>\n",
              "    </tr>\n",
              "    <tr>\n",
              "      <th>6572</th>\n",
              "      <td>6258-PVZWJ</td>\n",
              "      <td>2014-06-01</td>\n",
              "      <td>No</td>\n",
              "      <td>Two year</td>\n",
              "      <td>Yes</td>\n",
              "      <td>Credit card (automatic)</td>\n",
              "      <td>90.80</td>\n",
              "      <td>6174.4</td>\n",
              "    </tr>\n",
              "    <tr>\n",
              "      <th>3880</th>\n",
              "      <td>9470-RTWDV</td>\n",
              "      <td>2017-12-01</td>\n",
              "      <td>No</td>\n",
              "      <td>One year</td>\n",
              "      <td>Yes</td>\n",
              "      <td>Credit card (automatic)</td>\n",
              "      <td>82.00</td>\n",
              "      <td>2132.0</td>\n",
              "    </tr>\n",
              "    <tr>\n",
              "      <th>2669</th>\n",
              "      <td>4659-NZRUF</td>\n",
              "      <td>2018-04-01</td>\n",
              "      <td>No</td>\n",
              "      <td>Month-to-month</td>\n",
              "      <td>Yes</td>\n",
              "      <td>Electronic check</td>\n",
              "      <td>95.15</td>\n",
              "      <td>2093.3</td>\n",
              "    </tr>\n",
              "    <tr>\n",
              "      <th>2141</th>\n",
              "      <td>6648-INWPS</td>\n",
              "      <td>2018-10-01</td>\n",
              "      <td>No</td>\n",
              "      <td>Month-to-month</td>\n",
              "      <td>No</td>\n",
              "      <td>Electronic check</td>\n",
              "      <td>20.15</td>\n",
              "      <td>338.52</td>\n",
              "    </tr>\n",
              "    <tr>\n",
              "      <th>5396</th>\n",
              "      <td>5627-TVBPP</td>\n",
              "      <td>2017-03-01</td>\n",
              "      <td>No</td>\n",
              "      <td>One year</td>\n",
              "      <td>Yes</td>\n",
              "      <td>Credit card (automatic)</td>\n",
              "      <td>20.10</td>\n",
              "      <td>703.5</td>\n",
              "    </tr>\n",
              "    <tr>\n",
              "      <th>3306</th>\n",
              "      <td>9643-AVVWI</td>\n",
              "      <td>2019-11-01</td>\n",
              "      <td>No</td>\n",
              "      <td>Month-to-month</td>\n",
              "      <td>Yes</td>\n",
              "      <td>Electronic check</td>\n",
              "      <td>80.00</td>\n",
              "      <td>249.6</td>\n",
              "    </tr>\n",
              "  </tbody>\n",
              "</table>\n",
              "</div>"
            ],
            "text/plain": [
              "      customerID   BeginDate     EndDate            Type PaperlessBilling  \\\n",
              "3115  4822-NGOCH  2018-12-01          No  Month-to-month              Yes   \n",
              "2086  2955-BJZHG  2018-08-01  2019-10-01  Month-to-month               No   \n",
              "610   6543-CPZMK  2019-02-01          No  Month-to-month              Yes   \n",
              "912   3865-YIOTT  2014-02-01  2017-05-01        One year              Yes   \n",
              "6572  6258-PVZWJ  2014-06-01          No        Two year              Yes   \n",
              "3880  9470-RTWDV  2017-12-01          No        One year              Yes   \n",
              "2669  4659-NZRUF  2018-04-01          No  Month-to-month              Yes   \n",
              "2141  6648-INWPS  2018-10-01          No  Month-to-month               No   \n",
              "5396  5627-TVBPP  2017-03-01          No        One year              Yes   \n",
              "3306  9643-AVVWI  2019-11-01          No  Month-to-month              Yes   \n",
              "\n",
              "                  PaymentMethod  MonthlyCharges TotalCharges  \n",
              "3115           Electronic check           84.45      1241.41  \n",
              "2086           Electronic check           80.85       1131.9  \n",
              "610            Electronic check           29.95        359.4  \n",
              "912   Bank transfer (automatic)          106.10      4179.28  \n",
              "6572    Credit card (automatic)           90.80       6174.4  \n",
              "3880    Credit card (automatic)           82.00       2132.0  \n",
              "2669           Electronic check           95.15       2093.3  \n",
              "2141           Electronic check           20.15       338.52  \n",
              "5396    Credit card (automatic)           20.10        703.5  \n",
              "3306           Electronic check           80.00        249.6  "
            ]
          },
          "metadata": {},
          "output_type": "display_data"
        },
        {
          "name": "stdout",
          "output_type": "stream",
          "text": [
            "-----------------------------------------------------------------------------------------------------------\n",
            "\u001b[1mPersonal df:\u001b[0m\n"
          ]
        },
        {
          "data": {
            "text/html": [
              "<div>\n",
              "<style scoped>\n",
              "    .dataframe tbody tr th:only-of-type {\n",
              "        vertical-align: middle;\n",
              "    }\n",
              "\n",
              "    .dataframe tbody tr th {\n",
              "        vertical-align: top;\n",
              "    }\n",
              "\n",
              "    .dataframe thead th {\n",
              "        text-align: right;\n",
              "    }\n",
              "</style>\n",
              "<table border=\"1\" class=\"dataframe\">\n",
              "  <thead>\n",
              "    <tr style=\"text-align: right;\">\n",
              "      <th></th>\n",
              "      <th>customerID</th>\n",
              "      <th>gender</th>\n",
              "      <th>SeniorCitizen</th>\n",
              "      <th>Partner</th>\n",
              "      <th>Dependents</th>\n",
              "    </tr>\n",
              "  </thead>\n",
              "  <tbody>\n",
              "    <tr>\n",
              "      <th>3115</th>\n",
              "      <td>4822-NGOCH</td>\n",
              "      <td>Female</td>\n",
              "      <td>0</td>\n",
              "      <td>No</td>\n",
              "      <td>No</td>\n",
              "    </tr>\n",
              "    <tr>\n",
              "      <th>2086</th>\n",
              "      <td>2955-BJZHG</td>\n",
              "      <td>Male</td>\n",
              "      <td>0</td>\n",
              "      <td>Yes</td>\n",
              "      <td>Yes</td>\n",
              "    </tr>\n",
              "    <tr>\n",
              "      <th>610</th>\n",
              "      <td>6543-CPZMK</td>\n",
              "      <td>Male</td>\n",
              "      <td>0</td>\n",
              "      <td>Yes</td>\n",
              "      <td>Yes</td>\n",
              "    </tr>\n",
              "    <tr>\n",
              "      <th>912</th>\n",
              "      <td>3865-YIOTT</td>\n",
              "      <td>Male</td>\n",
              "      <td>0</td>\n",
              "      <td>Yes</td>\n",
              "      <td>Yes</td>\n",
              "    </tr>\n",
              "    <tr>\n",
              "      <th>6572</th>\n",
              "      <td>6258-PVZWJ</td>\n",
              "      <td>Male</td>\n",
              "      <td>0</td>\n",
              "      <td>Yes</td>\n",
              "      <td>No</td>\n",
              "    </tr>\n",
              "    <tr>\n",
              "      <th>3880</th>\n",
              "      <td>9470-RTWDV</td>\n",
              "      <td>Male</td>\n",
              "      <td>0</td>\n",
              "      <td>Yes</td>\n",
              "      <td>Yes</td>\n",
              "    </tr>\n",
              "    <tr>\n",
              "      <th>2669</th>\n",
              "      <td>4659-NZRUF</td>\n",
              "      <td>Female</td>\n",
              "      <td>0</td>\n",
              "      <td>No</td>\n",
              "      <td>No</td>\n",
              "    </tr>\n",
              "    <tr>\n",
              "      <th>2141</th>\n",
              "      <td>6648-INWPS</td>\n",
              "      <td>Male</td>\n",
              "      <td>0</td>\n",
              "      <td>Yes</td>\n",
              "      <td>Yes</td>\n",
              "    </tr>\n",
              "    <tr>\n",
              "      <th>5396</th>\n",
              "      <td>5627-TVBPP</td>\n",
              "      <td>Female</td>\n",
              "      <td>0</td>\n",
              "      <td>No</td>\n",
              "      <td>Yes</td>\n",
              "    </tr>\n",
              "    <tr>\n",
              "      <th>3306</th>\n",
              "      <td>9643-AVVWI</td>\n",
              "      <td>Female</td>\n",
              "      <td>0</td>\n",
              "      <td>Yes</td>\n",
              "      <td>Yes</td>\n",
              "    </tr>\n",
              "  </tbody>\n",
              "</table>\n",
              "</div>"
            ],
            "text/plain": [
              "      customerID  gender  SeniorCitizen Partner Dependents\n",
              "3115  4822-NGOCH  Female              0      No         No\n",
              "2086  2955-BJZHG    Male              0     Yes        Yes\n",
              "610   6543-CPZMK    Male              0     Yes        Yes\n",
              "912   3865-YIOTT    Male              0     Yes        Yes\n",
              "6572  6258-PVZWJ    Male              0     Yes         No\n",
              "3880  9470-RTWDV    Male              0     Yes        Yes\n",
              "2669  4659-NZRUF  Female              0      No         No\n",
              "2141  6648-INWPS    Male              0     Yes        Yes\n",
              "5396  5627-TVBPP  Female              0      No        Yes\n",
              "3306  9643-AVVWI  Female              0     Yes        Yes"
            ]
          },
          "metadata": {},
          "output_type": "display_data"
        },
        {
          "name": "stdout",
          "output_type": "stream",
          "text": [
            "-----------------------------------------------------------------------------------------------------------\n",
            "\u001b[1mInternet df:\u001b[0m\n"
          ]
        },
        {
          "data": {
            "text/html": [
              "<div>\n",
              "<style scoped>\n",
              "    .dataframe tbody tr th:only-of-type {\n",
              "        vertical-align: middle;\n",
              "    }\n",
              "\n",
              "    .dataframe tbody tr th {\n",
              "        vertical-align: top;\n",
              "    }\n",
              "\n",
              "    .dataframe thead th {\n",
              "        text-align: right;\n",
              "    }\n",
              "</style>\n",
              "<table border=\"1\" class=\"dataframe\">\n",
              "  <thead>\n",
              "    <tr style=\"text-align: right;\">\n",
              "      <th></th>\n",
              "      <th>customerID</th>\n",
              "      <th>InternetService</th>\n",
              "      <th>OnlineSecurity</th>\n",
              "      <th>OnlineBackup</th>\n",
              "      <th>DeviceProtection</th>\n",
              "      <th>TechSupport</th>\n",
              "      <th>StreamingTV</th>\n",
              "      <th>StreamingMovies</th>\n",
              "    </tr>\n",
              "  </thead>\n",
              "  <tbody>\n",
              "    <tr>\n",
              "      <th>2082</th>\n",
              "      <td>5609-IMCGG</td>\n",
              "      <td>Fiber optic</td>\n",
              "      <td>Yes</td>\n",
              "      <td>No</td>\n",
              "      <td>Yes</td>\n",
              "      <td>No</td>\n",
              "      <td>No</td>\n",
              "      <td>No</td>\n",
              "    </tr>\n",
              "    <tr>\n",
              "      <th>3221</th>\n",
              "      <td>5208-FVQKB</td>\n",
              "      <td>DSL</td>\n",
              "      <td>Yes</td>\n",
              "      <td>Yes</td>\n",
              "      <td>No</td>\n",
              "      <td>Yes</td>\n",
              "      <td>No</td>\n",
              "      <td>Yes</td>\n",
              "    </tr>\n",
              "    <tr>\n",
              "      <th>5243</th>\n",
              "      <td>4342-HFXWS</td>\n",
              "      <td>DSL</td>\n",
              "      <td>Yes</td>\n",
              "      <td>No</td>\n",
              "      <td>Yes</td>\n",
              "      <td>Yes</td>\n",
              "      <td>Yes</td>\n",
              "      <td>No</td>\n",
              "    </tr>\n",
              "    <tr>\n",
              "      <th>3457</th>\n",
              "      <td>8652-YHIYU</td>\n",
              "      <td>Fiber optic</td>\n",
              "      <td>No</td>\n",
              "      <td>No</td>\n",
              "      <td>No</td>\n",
              "      <td>Yes</td>\n",
              "      <td>No</td>\n",
              "      <td>No</td>\n",
              "    </tr>\n",
              "    <tr>\n",
              "      <th>3655</th>\n",
              "      <td>6305-YLBMM</td>\n",
              "      <td>Fiber optic</td>\n",
              "      <td>No</td>\n",
              "      <td>Yes</td>\n",
              "      <td>Yes</td>\n",
              "      <td>Yes</td>\n",
              "      <td>Yes</td>\n",
              "      <td>Yes</td>\n",
              "    </tr>\n",
              "    <tr>\n",
              "      <th>453</th>\n",
              "      <td>3716-UVSPD</td>\n",
              "      <td>DSL</td>\n",
              "      <td>No</td>\n",
              "      <td>No</td>\n",
              "      <td>No</td>\n",
              "      <td>Yes</td>\n",
              "      <td>No</td>\n",
              "      <td>No</td>\n",
              "    </tr>\n",
              "    <tr>\n",
              "      <th>1395</th>\n",
              "      <td>3669-WHAFY</td>\n",
              "      <td>Fiber optic</td>\n",
              "      <td>Yes</td>\n",
              "      <td>Yes</td>\n",
              "      <td>Yes</td>\n",
              "      <td>Yes</td>\n",
              "      <td>Yes</td>\n",
              "      <td>Yes</td>\n",
              "    </tr>\n",
              "    <tr>\n",
              "      <th>4438</th>\n",
              "      <td>2896-TBNBE</td>\n",
              "      <td>Fiber optic</td>\n",
              "      <td>No</td>\n",
              "      <td>Yes</td>\n",
              "      <td>Yes</td>\n",
              "      <td>No</td>\n",
              "      <td>No</td>\n",
              "      <td>No</td>\n",
              "    </tr>\n",
              "    <tr>\n",
              "      <th>2976</th>\n",
              "      <td>5914-DVBWJ</td>\n",
              "      <td>Fiber optic</td>\n",
              "      <td>No</td>\n",
              "      <td>Yes</td>\n",
              "      <td>No</td>\n",
              "      <td>Yes</td>\n",
              "      <td>No</td>\n",
              "      <td>No</td>\n",
              "    </tr>\n",
              "    <tr>\n",
              "      <th>2016</th>\n",
              "      <td>3230-WYKIR</td>\n",
              "      <td>DSL</td>\n",
              "      <td>No</td>\n",
              "      <td>No</td>\n",
              "      <td>Yes</td>\n",
              "      <td>Yes</td>\n",
              "      <td>Yes</td>\n",
              "      <td>Yes</td>\n",
              "    </tr>\n",
              "  </tbody>\n",
              "</table>\n",
              "</div>"
            ],
            "text/plain": [
              "      customerID InternetService OnlineSecurity OnlineBackup DeviceProtection  \\\n",
              "2082  5609-IMCGG     Fiber optic            Yes           No              Yes   \n",
              "3221  5208-FVQKB             DSL            Yes          Yes               No   \n",
              "5243  4342-HFXWS             DSL            Yes           No              Yes   \n",
              "3457  8652-YHIYU     Fiber optic             No           No               No   \n",
              "3655  6305-YLBMM     Fiber optic             No          Yes              Yes   \n",
              "453   3716-UVSPD             DSL             No           No               No   \n",
              "1395  3669-WHAFY     Fiber optic            Yes          Yes              Yes   \n",
              "4438  2896-TBNBE     Fiber optic             No          Yes              Yes   \n",
              "2976  5914-DVBWJ     Fiber optic             No          Yes               No   \n",
              "2016  3230-WYKIR             DSL             No           No              Yes   \n",
              "\n",
              "     TechSupport StreamingTV StreamingMovies  \n",
              "2082          No          No              No  \n",
              "3221         Yes          No             Yes  \n",
              "5243         Yes         Yes              No  \n",
              "3457         Yes          No              No  \n",
              "3655         Yes         Yes             Yes  \n",
              "453          Yes          No              No  \n",
              "1395         Yes         Yes             Yes  \n",
              "4438          No          No              No  \n",
              "2976         Yes          No              No  \n",
              "2016         Yes         Yes             Yes  "
            ]
          },
          "metadata": {},
          "output_type": "display_data"
        },
        {
          "name": "stdout",
          "output_type": "stream",
          "text": [
            "-----------------------------------------------------------------------------------------------------------\n",
            "\u001b[1mPhone df:\u001b[0m\n"
          ]
        },
        {
          "data": {
            "text/html": [
              "<div>\n",
              "<style scoped>\n",
              "    .dataframe tbody tr th:only-of-type {\n",
              "        vertical-align: middle;\n",
              "    }\n",
              "\n",
              "    .dataframe tbody tr th {\n",
              "        vertical-align: top;\n",
              "    }\n",
              "\n",
              "    .dataframe thead th {\n",
              "        text-align: right;\n",
              "    }\n",
              "</style>\n",
              "<table border=\"1\" class=\"dataframe\">\n",
              "  <thead>\n",
              "    <tr style=\"text-align: right;\">\n",
              "      <th></th>\n",
              "      <th>customerID</th>\n",
              "      <th>MultipleLines</th>\n",
              "    </tr>\n",
              "  </thead>\n",
              "  <tbody>\n",
              "    <tr>\n",
              "      <th>682</th>\n",
              "      <td>3115-CZMZD</td>\n",
              "      <td>No</td>\n",
              "    </tr>\n",
              "    <tr>\n",
              "      <th>4249</th>\n",
              "      <td>0980-FEXWF</td>\n",
              "      <td>No</td>\n",
              "    </tr>\n",
              "    <tr>\n",
              "      <th>3388</th>\n",
              "      <td>1965-DDBWU</td>\n",
              "      <td>Yes</td>\n",
              "    </tr>\n",
              "    <tr>\n",
              "      <th>5760</th>\n",
              "      <td>8073-IJDCM</td>\n",
              "      <td>No</td>\n",
              "    </tr>\n",
              "    <tr>\n",
              "      <th>1317</th>\n",
              "      <td>2958-NHPPS</td>\n",
              "      <td>No</td>\n",
              "    </tr>\n",
              "    <tr>\n",
              "      <th>786</th>\n",
              "      <td>3313-QKNKB</td>\n",
              "      <td>Yes</td>\n",
              "    </tr>\n",
              "    <tr>\n",
              "      <th>4441</th>\n",
              "      <td>2673-ZALNP</td>\n",
              "      <td>No</td>\n",
              "    </tr>\n",
              "    <tr>\n",
              "      <th>3115</th>\n",
              "      <td>8749-JMNKX</td>\n",
              "      <td>Yes</td>\n",
              "    </tr>\n",
              "    <tr>\n",
              "      <th>4035</th>\n",
              "      <td>6161-UUUTA</td>\n",
              "      <td>No</td>\n",
              "    </tr>\n",
              "    <tr>\n",
              "      <th>4301</th>\n",
              "      <td>8748-HFWBO</td>\n",
              "      <td>No</td>\n",
              "    </tr>\n",
              "  </tbody>\n",
              "</table>\n",
              "</div>"
            ],
            "text/plain": [
              "      customerID MultipleLines\n",
              "682   3115-CZMZD            No\n",
              "4249  0980-FEXWF            No\n",
              "3388  1965-DDBWU           Yes\n",
              "5760  8073-IJDCM            No\n",
              "1317  2958-NHPPS            No\n",
              "786   3313-QKNKB           Yes\n",
              "4441  2673-ZALNP            No\n",
              "3115  8749-JMNKX           Yes\n",
              "4035  6161-UUUTA            No\n",
              "4301  8748-HFWBO            No"
            ]
          },
          "metadata": {},
          "output_type": "display_data"
        },
        {
          "name": "stdout",
          "output_type": "stream",
          "text": [
            "-----------------------------------------------------------------------------------------------------------\n"
          ]
        }
      ],
      "execution_count": 9
    },
    {
      "id": "6ac06e98",
      "cell_type": "markdown",
      "source": "По данным, пока, мало что ясно. Видно, что у всех таблиц разное число строк и есть общий столбец: `customerID`. По нему и будет проводиться объединение всех таблиц.",
      "metadata": {}
    },
    {
      "id": "54a0536d",
      "cell_type": "markdown",
      "source": "Для удобства переименуем столбцы:",
      "metadata": {}
    },
    {
      "id": "437debab",
      "cell_type": "code",
      "source": "contract_df.columns = ['customer_id', 'begin_date', 'end_date', 'type',\n                       'paperless_billing', 'payment_method', 'monthly_charges', 'total_charges']\n\npersonal_df.columns = ['customer_id', 'gender', 'senior_citizen', 'partner', 'dependents']\n\ninternet_df.columns = ['customer_id', 'internet_service', 'online_security',\n                       'online_backup', 'device_protection', 'tech_support',\n                       'streaming_tv', 'streaming_movies']\n\nphone_df.columns = ['customer_id', 'multiple_lines']",
      "metadata": {},
      "outputs": [],
      "execution_count": 10
    },
    {
      "id": "111fe43d",
      "cell_type": "code",
      "source": "for i in df_dict:\n    print(color.BOLD + i + ':' + color.END)\n    print(df_dict[i].columns)",
      "metadata": {},
      "outputs": [
        {
          "name": "stdout",
          "output_type": "stream",
          "text": [
            "\u001b[1mContract df:\u001b[0m\n",
            "Index(['customer_id', 'begin_date', 'end_date', 'type', 'paperless_billing',\n",
            "       'payment_method', 'monthly_charges', 'total_charges'],\n",
            "      dtype='object')\n",
            "\u001b[1mPersonal df:\u001b[0m\n",
            "Index(['customer_id', 'gender', 'senior_citizen', 'partner', 'dependents'], dtype='object')\n",
            "\u001b[1mInternet df:\u001b[0m\n",
            "Index(['customer_id', 'internet_service', 'online_security', 'online_backup',\n",
            "       'device_protection', 'tech_support', 'streaming_tv',\n",
            "       'streaming_movies'],\n",
            "      dtype='object')\n",
            "\u001b[1mPhone df:\u001b[0m\n",
            "Index(['customer_id', 'multiple_lines'], dtype='object')\n"
          ]
        }
      ],
      "execution_count": 11
    },
    {
      "id": "434229e3",
      "cell_type": "markdown",
      "source": "**=>** столбцы переименованы",
      "metadata": {}
    },
    {
      "id": "276832b6",
      "cell_type": "markdown",
      "source": "## Исследовательский анализ и предобработка данных",
      "metadata": {}
    },
    {
      "id": "302b3c03",
      "cell_type": "markdown",
      "source": "Объявим функцию, печатающую основную информацию о любом датасете:",
      "metadata": {}
    },
    {
      "id": "a680fd6c",
      "cell_type": "code",
      "source": "def df_info(df):\n    \n    df.info()                                       # общая информация\n    display(df.describe(include='all'))             #\n    display(df.sample(5, random_state=RANDOM_SEED)) #\n    \n    print('\\n')\n    for col in df.columns:                                       # процент пропусков\n        pct_missing = np.mean(df[col].isnull())                  #\n        print('{} - {}%'.format(col, round(pct_missing*100, 3))) #\n        \n    for col in df.columns:                                               # если данные числовые - рисуем boxplot\n        if (df[col].dtypes == 'float64') or (df[col].dtypes == 'int64'): #\n            sns.boxplot(x=contract_df['monthly_charges'])                #\n    \n    dup = df.duplicated().sum()   # Поиск дубликатов\n    print('\\nДубликатов:', dup)   #\n    if dup > 0:                   #\n        df = df.drop_duplicates() #",
      "metadata": {},
      "outputs": [],
      "execution_count": 12
    },
    {
      "id": "de310d24",
      "cell_type": "markdown",
      "source": "**contract_df**",
      "metadata": {}
    },
    {
      "id": "ef4b3e12",
      "cell_type": "code",
      "source": "df_info(contract_df)",
      "metadata": {},
      "outputs": [
        {
          "name": "stdout",
          "output_type": "stream",
          "text": [
            "<class 'pandas.core.frame.DataFrame'>\n",
            "RangeIndex: 7043 entries, 0 to 7042\n",
            "Data columns (total 8 columns):\n",
            " #   Column             Non-Null Count  Dtype  \n",
            "---  ------             --------------  -----  \n",
            " 0   customer_id        7043 non-null   object \n",
            " 1   begin_date         7043 non-null   object \n",
            " 2   end_date           7043 non-null   object \n",
            " 3   type               7043 non-null   object \n",
            " 4   paperless_billing  7043 non-null   object \n",
            " 5   payment_method     7043 non-null   object \n",
            " 6   monthly_charges    7043 non-null   float64\n",
            " 7   total_charges      7043 non-null   object \n",
            "dtypes: float64(1), object(7)\n",
            "memory usage: 440.3+ KB\n"
          ]
        },
        {
          "data": {
            "text/html": [
              "<div>\n",
              "<style scoped>\n",
              "    .dataframe tbody tr th:only-of-type {\n",
              "        vertical-align: middle;\n",
              "    }\n",
              "\n",
              "    .dataframe tbody tr th {\n",
              "        vertical-align: top;\n",
              "    }\n",
              "\n",
              "    .dataframe thead th {\n",
              "        text-align: right;\n",
              "    }\n",
              "</style>\n",
              "<table border=\"1\" class=\"dataframe\">\n",
              "  <thead>\n",
              "    <tr style=\"text-align: right;\">\n",
              "      <th></th>\n",
              "      <th>customer_id</th>\n",
              "      <th>begin_date</th>\n",
              "      <th>end_date</th>\n",
              "      <th>type</th>\n",
              "      <th>paperless_billing</th>\n",
              "      <th>payment_method</th>\n",
              "      <th>monthly_charges</th>\n",
              "      <th>total_charges</th>\n",
              "    </tr>\n",
              "  </thead>\n",
              "  <tbody>\n",
              "    <tr>\n",
              "      <th>count</th>\n",
              "      <td>7043</td>\n",
              "      <td>7043</td>\n",
              "      <td>7043</td>\n",
              "      <td>7043</td>\n",
              "      <td>7043</td>\n",
              "      <td>7043</td>\n",
              "      <td>7043.000000</td>\n",
              "      <td>7043</td>\n",
              "    </tr>\n",
              "    <tr>\n",
              "      <th>unique</th>\n",
              "      <td>7043</td>\n",
              "      <td>77</td>\n",
              "      <td>67</td>\n",
              "      <td>3</td>\n",
              "      <td>2</td>\n",
              "      <td>4</td>\n",
              "      <td>NaN</td>\n",
              "      <td>6658</td>\n",
              "    </tr>\n",
              "    <tr>\n",
              "      <th>top</th>\n",
              "      <td>3190-ITQXP</td>\n",
              "      <td>2014-02-01</td>\n",
              "      <td>No</td>\n",
              "      <td>Month-to-month</td>\n",
              "      <td>Yes</td>\n",
              "      <td>Electronic check</td>\n",
              "      <td>NaN</td>\n",
              "      <td></td>\n",
              "    </tr>\n",
              "    <tr>\n",
              "      <th>freq</th>\n",
              "      <td>1</td>\n",
              "      <td>366</td>\n",
              "      <td>5942</td>\n",
              "      <td>3875</td>\n",
              "      <td>4171</td>\n",
              "      <td>2365</td>\n",
              "      <td>NaN</td>\n",
              "      <td>11</td>\n",
              "    </tr>\n",
              "    <tr>\n",
              "      <th>mean</th>\n",
              "      <td>NaN</td>\n",
              "      <td>NaN</td>\n",
              "      <td>NaN</td>\n",
              "      <td>NaN</td>\n",
              "      <td>NaN</td>\n",
              "      <td>NaN</td>\n",
              "      <td>64.761692</td>\n",
              "      <td>NaN</td>\n",
              "    </tr>\n",
              "    <tr>\n",
              "      <th>std</th>\n",
              "      <td>NaN</td>\n",
              "      <td>NaN</td>\n",
              "      <td>NaN</td>\n",
              "      <td>NaN</td>\n",
              "      <td>NaN</td>\n",
              "      <td>NaN</td>\n",
              "      <td>30.090047</td>\n",
              "      <td>NaN</td>\n",
              "    </tr>\n",
              "    <tr>\n",
              "      <th>min</th>\n",
              "      <td>NaN</td>\n",
              "      <td>NaN</td>\n",
              "      <td>NaN</td>\n",
              "      <td>NaN</td>\n",
              "      <td>NaN</td>\n",
              "      <td>NaN</td>\n",
              "      <td>18.250000</td>\n",
              "      <td>NaN</td>\n",
              "    </tr>\n",
              "    <tr>\n",
              "      <th>25%</th>\n",
              "      <td>NaN</td>\n",
              "      <td>NaN</td>\n",
              "      <td>NaN</td>\n",
              "      <td>NaN</td>\n",
              "      <td>NaN</td>\n",
              "      <td>NaN</td>\n",
              "      <td>35.500000</td>\n",
              "      <td>NaN</td>\n",
              "    </tr>\n",
              "    <tr>\n",
              "      <th>50%</th>\n",
              "      <td>NaN</td>\n",
              "      <td>NaN</td>\n",
              "      <td>NaN</td>\n",
              "      <td>NaN</td>\n",
              "      <td>NaN</td>\n",
              "      <td>NaN</td>\n",
              "      <td>70.350000</td>\n",
              "      <td>NaN</td>\n",
              "    </tr>\n",
              "    <tr>\n",
              "      <th>75%</th>\n",
              "      <td>NaN</td>\n",
              "      <td>NaN</td>\n",
              "      <td>NaN</td>\n",
              "      <td>NaN</td>\n",
              "      <td>NaN</td>\n",
              "      <td>NaN</td>\n",
              "      <td>89.850000</td>\n",
              "      <td>NaN</td>\n",
              "    </tr>\n",
              "    <tr>\n",
              "      <th>max</th>\n",
              "      <td>NaN</td>\n",
              "      <td>NaN</td>\n",
              "      <td>NaN</td>\n",
              "      <td>NaN</td>\n",
              "      <td>NaN</td>\n",
              "      <td>NaN</td>\n",
              "      <td>118.750000</td>\n",
              "      <td>NaN</td>\n",
              "    </tr>\n",
              "  </tbody>\n",
              "</table>\n",
              "</div>"
            ],
            "text/plain": [
              "       customer_id  begin_date end_date            type paperless_billing  \\\n",
              "count         7043        7043     7043            7043              7043   \n",
              "unique        7043          77       67               3                 2   \n",
              "top     3190-ITQXP  2014-02-01       No  Month-to-month               Yes   \n",
              "freq             1         366     5942            3875              4171   \n",
              "mean           NaN         NaN      NaN             NaN               NaN   \n",
              "std            NaN         NaN      NaN             NaN               NaN   \n",
              "min            NaN         NaN      NaN             NaN               NaN   \n",
              "25%            NaN         NaN      NaN             NaN               NaN   \n",
              "50%            NaN         NaN      NaN             NaN               NaN   \n",
              "75%            NaN         NaN      NaN             NaN               NaN   \n",
              "max            NaN         NaN      NaN             NaN               NaN   \n",
              "\n",
              "          payment_method  monthly_charges total_charges  \n",
              "count               7043      7043.000000          7043  \n",
              "unique                 4              NaN          6658  \n",
              "top     Electronic check              NaN                \n",
              "freq                2365              NaN            11  \n",
              "mean                 NaN        64.761692           NaN  \n",
              "std                  NaN        30.090047           NaN  \n",
              "min                  NaN        18.250000           NaN  \n",
              "25%                  NaN        35.500000           NaN  \n",
              "50%                  NaN        70.350000           NaN  \n",
              "75%                  NaN        89.850000           NaN  \n",
              "max                  NaN       118.750000           NaN  "
            ]
          },
          "metadata": {},
          "output_type": "display_data"
        },
        {
          "data": {
            "text/html": [
              "<div>\n",
              "<style scoped>\n",
              "    .dataframe tbody tr th:only-of-type {\n",
              "        vertical-align: middle;\n",
              "    }\n",
              "\n",
              "    .dataframe tbody tr th {\n",
              "        vertical-align: top;\n",
              "    }\n",
              "\n",
              "    .dataframe thead th {\n",
              "        text-align: right;\n",
              "    }\n",
              "</style>\n",
              "<table border=\"1\" class=\"dataframe\">\n",
              "  <thead>\n",
              "    <tr style=\"text-align: right;\">\n",
              "      <th></th>\n",
              "      <th>customer_id</th>\n",
              "      <th>begin_date</th>\n",
              "      <th>end_date</th>\n",
              "      <th>type</th>\n",
              "      <th>paperless_billing</th>\n",
              "      <th>payment_method</th>\n",
              "      <th>monthly_charges</th>\n",
              "      <th>total_charges</th>\n",
              "    </tr>\n",
              "  </thead>\n",
              "  <tbody>\n",
              "    <tr>\n",
              "      <th>3115</th>\n",
              "      <td>4822-NGOCH</td>\n",
              "      <td>2018-12-01</td>\n",
              "      <td>No</td>\n",
              "      <td>Month-to-month</td>\n",
              "      <td>Yes</td>\n",
              "      <td>Electronic check</td>\n",
              "      <td>84.45</td>\n",
              "      <td>1241.41</td>\n",
              "    </tr>\n",
              "    <tr>\n",
              "      <th>2086</th>\n",
              "      <td>2955-BJZHG</td>\n",
              "      <td>2018-08-01</td>\n",
              "      <td>2019-10-01</td>\n",
              "      <td>Month-to-month</td>\n",
              "      <td>No</td>\n",
              "      <td>Electronic check</td>\n",
              "      <td>80.85</td>\n",
              "      <td>1131.9</td>\n",
              "    </tr>\n",
              "    <tr>\n",
              "      <th>610</th>\n",
              "      <td>6543-CPZMK</td>\n",
              "      <td>2019-02-01</td>\n",
              "      <td>No</td>\n",
              "      <td>Month-to-month</td>\n",
              "      <td>Yes</td>\n",
              "      <td>Electronic check</td>\n",
              "      <td>29.95</td>\n",
              "      <td>359.4</td>\n",
              "    </tr>\n",
              "    <tr>\n",
              "      <th>912</th>\n",
              "      <td>3865-YIOTT</td>\n",
              "      <td>2014-02-01</td>\n",
              "      <td>2017-05-01</td>\n",
              "      <td>One year</td>\n",
              "      <td>Yes</td>\n",
              "      <td>Bank transfer (automatic)</td>\n",
              "      <td>106.10</td>\n",
              "      <td>4179.28</td>\n",
              "    </tr>\n",
              "    <tr>\n",
              "      <th>6572</th>\n",
              "      <td>6258-PVZWJ</td>\n",
              "      <td>2014-06-01</td>\n",
              "      <td>No</td>\n",
              "      <td>Two year</td>\n",
              "      <td>Yes</td>\n",
              "      <td>Credit card (automatic)</td>\n",
              "      <td>90.80</td>\n",
              "      <td>6174.4</td>\n",
              "    </tr>\n",
              "  </tbody>\n",
              "</table>\n",
              "</div>"
            ],
            "text/plain": [
              "     customer_id  begin_date    end_date            type paperless_billing  \\\n",
              "3115  4822-NGOCH  2018-12-01          No  Month-to-month               Yes   \n",
              "2086  2955-BJZHG  2018-08-01  2019-10-01  Month-to-month                No   \n",
              "610   6543-CPZMK  2019-02-01          No  Month-to-month               Yes   \n",
              "912   3865-YIOTT  2014-02-01  2017-05-01        One year               Yes   \n",
              "6572  6258-PVZWJ  2014-06-01          No        Two year               Yes   \n",
              "\n",
              "                 payment_method  monthly_charges total_charges  \n",
              "3115           Electronic check            84.45       1241.41  \n",
              "2086           Electronic check            80.85        1131.9  \n",
              "610            Electronic check            29.95         359.4  \n",
              "912   Bank transfer (automatic)           106.10       4179.28  \n",
              "6572    Credit card (automatic)            90.80        6174.4  "
            ]
          },
          "metadata": {},
          "output_type": "display_data"
        },
        {
          "name": "stdout",
          "output_type": "stream",
          "text": [
            "\n",
            "\n",
            "customer_id - 0.0%\n",
            "begin_date - 0.0%\n",
            "end_date - 0.0%\n",
            "type - 0.0%\n",
            "paperless_billing - 0.0%\n",
            "payment_method - 0.0%\n",
            "monthly_charges - 0.0%\n",
            "total_charges - 0.0%\n",
            "\n",
            "Дубликатов: 0\n"
          ]
        },
        {
          "data": {
            "image/png": "[encoded data removed]",
            "text/plain": [
              "<Figure size 864x576 with 1 Axes>"
            ]
          },
          "metadata": {},
          "output_type": "display_data"
        }
      ],
      "execution_count": 13
    },
    {
      "id": "aeb2cda6",
      "cell_type": "markdown",
      "source": "Видно, что выбросов нет",
      "metadata": {}
    },
    {
      "id": "4fda0689",
      "cell_type": "markdown",
      "source": "Приведём столбцы с датами к нужному типу:",
      "metadata": {}
    },
    {
      "id": "5732fbbb",
      "cell_type": "code",
      "source": "contract_df['begin_date'].unique()",
      "metadata": {},
      "outputs": [
        {
          "data": {
            "text/plain": [
              "array(['2020-01-01', '2017-04-01', '2019-10-01', '2016-05-01',\n",
              "       '2019-09-01', '2019-03-01', '2018-04-01', '2019-04-01',\n",
              "       '2017-07-01', '2014-12-01', '2019-01-01', '2018-10-01',\n",
              "       '2015-04-01', '2015-09-01', '2018-01-01', '2014-05-01',\n",
              "       '2015-10-01', '2014-03-01', '2018-05-01', '2019-11-01',\n",
              "       '2019-02-01', '2016-01-01', '2017-08-01', '2015-12-01',\n",
              "       '2014-02-01', '2018-06-01', '2019-12-01', '2017-11-01',\n",
              "       '2019-06-01', '2016-04-01', '2017-02-01', '2018-12-01',\n",
              "       '2014-04-01', '2018-09-01', '2014-11-01', '2016-07-01',\n",
              "       '2015-02-01', '2018-07-01', '2014-08-01', '2016-03-01',\n",
              "       '2018-08-01', '2014-10-01', '2015-06-01', '2016-08-01',\n",
              "       '2019-05-01', '2017-03-01', '2016-02-01', '2017-09-01',\n",
              "       '2014-09-01', '2017-12-01', '2016-12-01', '2017-06-01',\n",
              "       '2015-05-01', '2016-10-01', '2016-09-01', '2019-08-01',\n",
              "       '2019-07-01', '2017-05-01', '2017-10-01', '2014-07-01',\n",
              "       '2018-03-01', '2015-01-01', '2018-11-01', '2015-03-01',\n",
              "       '2018-02-01', '2016-06-01', '2015-08-01', '2015-11-01',\n",
              "       '2014-06-01', '2017-01-01', '2015-07-01', '2020-02-01',\n",
              "       '2016-11-01', '2013-11-01', '2014-01-01', '2013-10-01',\n",
              "       '2013-12-01'], dtype=object)"
            ]
          },
          "execution_count": 14,
          "metadata": {},
          "output_type": "execute_result"
        }
      ],
      "execution_count": 14
    },
    {
      "id": "226065ce",
      "cell_type": "code",
      "source": "contract_df['begin_date'] = contract_df['begin_date'].astype('datetime64[ns]')",
      "metadata": {},
      "outputs": [],
      "execution_count": 15
    },
    {
      "id": "d4d308f7",
      "cell_type": "code",
      "source": "contract_df['end_date'].unique()",
      "metadata": {},
      "outputs": [
        {
          "data": {
            "text/plain": [
              "array(['No', '2017-05-01', '2016-03-01', '2018-09-01', '2018-11-01',\n",
              "       '2018-12-01', '2019-08-01', '2018-07-01', '2017-09-01',\n",
              "       '2015-09-01', '2016-07-01', '2016-06-01', '2018-03-01',\n",
              "       '2019-02-01', '2018-06-01', '2019-06-01', '2020-01-01',\n",
              "       '2019-11-01', '2016-09-01', '2015-06-01', '2016-12-01',\n",
              "       '2019-05-01', '2019-04-01', '2017-06-01', '2017-08-01',\n",
              "       '2018-04-01', '2018-08-01', '2018-02-01', '2019-07-01',\n",
              "       '2015-12-01', '2014-06-01', '2018-10-01', '2019-01-01',\n",
              "       '2017-07-01', '2017-12-01', '2018-05-01', '2015-11-01',\n",
              "       '2019-10-01', '2019-03-01', '2016-02-01', '2016-10-01',\n",
              "       '2018-01-01', '2017-11-01', '2015-10-01', '2019-12-01',\n",
              "       '2015-07-01', '2017-04-01', '2015-02-01', '2017-03-01',\n",
              "       '2016-05-01', '2016-11-01', '2015-08-01', '2019-09-01',\n",
              "       '2017-10-01', '2017-02-01', '2016-08-01', '2016-04-01',\n",
              "       '2015-05-01', '2014-09-01', '2014-10-01', '2017-01-01',\n",
              "       '2015-03-01', '2015-01-01', '2016-01-01', '2015-04-01',\n",
              "       '2014-12-01', '2014-11-01'], dtype=object)"
            ]
          },
          "execution_count": 16,
          "metadata": {},
          "output_type": "execute_result"
        }
      ],
      "execution_count": 16
    },
    {
      "id": "1fca2aca",
      "cell_type": "markdown",
      "source": "Значение `'No'` означает, что клиент ещё с нами. Для удобства, заменим это значение на дату сборки датасета (01-02-2020), а затем преобразуем столбец к типу дата:",
      "metadata": {}
    },
    {
      "id": "1d34b389",
      "cell_type": "code",
      "source": "contract_df['end_date'] = contract_df['end_date'].replace('No', '01-02-2020')\ncontract_df['end_date'].unique()",
      "metadata": {},
      "outputs": [
        {
          "data": {
            "text/plain": [
              "array(['01-02-2020', '2017-05-01', '2016-03-01', '2018-09-01',\n",
              "       '2018-11-01', '2018-12-01', '2019-08-01', '2018-07-01',\n",
              "       '2017-09-01', '2015-09-01', '2016-07-01', '2016-06-01',\n",
              "       '2018-03-01', '2019-02-01', '2018-06-01', '2019-06-01',\n",
              "       '2020-01-01', '2019-11-01', '2016-09-01', '2015-06-01',\n",
              "       '2016-12-01', '2019-05-01', '2019-04-01', '2017-06-01',\n",
              "       '2017-08-01', '2018-04-01', '2018-08-01', '2018-02-01',\n",
              "       '2019-07-01', '2015-12-01', '2014-06-01', '2018-10-01',\n",
              "       '2019-01-01', '2017-07-01', '2017-12-01', '2018-05-01',\n",
              "       '2015-11-01', '2019-10-01', '2019-03-01', '2016-02-01',\n",
              "       '2016-10-01', '2018-01-01', '2017-11-01', '2015-10-01',\n",
              "       '2019-12-01', '2015-07-01', '2017-04-01', '2015-02-01',\n",
              "       '2017-03-01', '2016-05-01', '2016-11-01', '2015-08-01',\n",
              "       '2019-09-01', '2017-10-01', '2017-02-01', '2016-08-01',\n",
              "       '2016-04-01', '2015-05-01', '2014-09-01', '2014-10-01',\n",
              "       '2017-01-01', '2015-03-01', '2015-01-01', '2016-01-01',\n",
              "       '2015-04-01', '2014-12-01', '2014-11-01'], dtype=object)"
            ]
          },
          "execution_count": 18,
          "metadata": {},
          "output_type": "execute_result"
        }
      ],
      "execution_count": 18
    },
    {
      "id": "93cf6738",
      "cell_type": "code",
      "source": "contract_df['end_date'] = contract_df['end_date'].astype('datetime64[ns]')",
      "metadata": {},
      "outputs": [],
      "execution_count": 19
    },
    {
      "id": "19ae0931",
      "cell_type": "markdown",
      "source": "Приведём также столбец `total_charges` к числовому типу:",
      "metadata": {}
    },
    {
      "id": "c0ab47bf",
      "cell_type": "code",
      "source": "count = 0\nun_charges = contract_df['total_charges'].unique()\n\nfor i in un_charges:\n    try:\n        float(i)\n    except:\n        print(f'\"{i}\"')\n        count += 1",
      "metadata": {},
      "outputs": [
        {
          "name": "stdout",
          "output_type": "stream",
          "text": [
            "\" \"\n"
          ]
        }
      ],
      "execution_count": 20
    },
    {
      "id": "fe9e1f72",
      "cell_type": "markdown",
      "source": "Мешающие данные выглядят как просто пропуск. Вероятно, эти клиенты ещё не успели ничего оплатить; посмотрим, сколько их в процентном соотношении:",
      "metadata": {}
    },
    {
      "id": "a50d7dbd",
      "cell_type": "code",
      "source": "print(str(round(count / len(un_charges) * 100, 2)) + '%')",
      "metadata": {},
      "outputs": [
        {
          "name": "stdout",
          "output_type": "stream",
          "text": [
            "0.02%\n"
          ]
        }
      ],
      "execution_count": 21
    },
    {
      "id": "91d54f8e",
      "cell_type": "markdown",
      "source": "Плохих данных всего 0.02%, это крайне мало **=>** удалим их",
      "metadata": {}
    },
    {
      "id": "bb2b8dfd",
      "cell_type": "code",
      "source": "contract_df = contract_df[~contract_df['total_charges'].isin([' '])]",
      "metadata": {},
      "outputs": [],
      "execution_count": 22
    },
    {
      "id": "96ad2312",
      "cell_type": "markdown",
      "source": "Оставшиеся данные приводим к вещественному типу",
      "metadata": {}
    },
    {
      "id": "8d8c978f",
      "cell_type": "code",
      "source": "contract_df['total_charges'] = contract_df['total_charges'].astype(float)",
      "metadata": {},
      "outputs": [],
      "execution_count": 23
    },
    {
      "id": "02e9bad9",
      "cell_type": "code",
      "source": "count = 0\nun_charges = contract_df['total_charges'].unique()\n\nfor i in un_charges:\n    try:\n        float(i)\n    except:\n        print(f'\"{i}\"')\n        count += 1",
      "metadata": {},
      "outputs": [],
      "execution_count": 24
    },
    {
      "id": "60f7e43b",
      "cell_type": "code",
      "source": "print(str(round(count / len(un_charges) * 100, 2)) + '%')",
      "metadata": {},
      "outputs": [
        {
          "name": "stdout",
          "output_type": "stream",
          "text": [
            "0.0%\n"
          ]
        }
      ],
      "execution_count": 25
    },
    {
      "id": "b28de551",
      "cell_type": "markdown",
      "source": "**=>** Преобразование выполнено успешно. Посмотрим теперь распределение данных:",
      "metadata": {}
    },
    {
      "id": "2a993659",
      "cell_type": "code",
      "source": "_ = sns.boxplot(x=contract_df['total_charges'])",
      "metadata": {},
      "outputs": [
        {
          "data": {
            "image/png": "[encoded data removed]",
            "text/plain": [
              "<Figure size 864x576 with 1 Axes>"
            ]
          },
          "metadata": {},
          "output_type": "display_data"
        }
      ],
      "execution_count": 26
    },
    {
      "id": "c4e48b27",
      "cell_type": "markdown",
      "source": "Выбросов почти нет, оставим всё как есть",
      "metadata": {}
    },
    {
      "id": "7723d4a8",
      "cell_type": "markdown",
      "source": "Добавим сразу же в эту таблицу столбец, в котором будет информация о том, сколько дней с нами был клиент на момент сбора данных:",
      "metadata": {}
    },
    {
      "id": "24a9c384",
      "cell_type": "code",
      "source": "contract_df['days_diff'] = (contract_df['end_date'] - contract_df['begin_date']).dt.days",
      "metadata": {},
      "outputs": [],
      "execution_count": 27
    },
    {
      "id": "eb683d2a",
      "cell_type": "code",
      "source": "contract_df.sample(10, random_state=RANDOM_SEED)",
      "metadata": {},
      "outputs": [
        {
          "data": {
            "text/html": [
              "<div>\n",
              "<style scoped>\n",
              "    .dataframe tbody tr th:only-of-type {\n",
              "        vertical-align: middle;\n",
              "    }\n",
              "\n",
              "    .dataframe tbody tr th {\n",
              "        vertical-align: top;\n",
              "    }\n",
              "\n",
              "    .dataframe thead th {\n",
              "        text-align: right;\n",
              "    }\n",
              "</style>\n",
              "<table border=\"1\" class=\"dataframe\">\n",
              "  <thead>\n",
              "    <tr style=\"text-align: right;\">\n",
              "      <th></th>\n",
              "      <th>customer_id</th>\n",
              "      <th>begin_date</th>\n",
              "      <th>end_date</th>\n",
              "      <th>type</th>\n",
              "      <th>paperless_billing</th>\n",
              "      <th>payment_method</th>\n",
              "      <th>monthly_charges</th>\n",
              "      <th>total_charges</th>\n",
              "      <th>days_diff</th>\n",
              "    </tr>\n",
              "  </thead>\n",
              "  <tbody>\n",
              "    <tr>\n",
              "      <th>6719</th>\n",
              "      <td>2509-TFPJU</td>\n",
              "      <td>2014-02-01</td>\n",
              "      <td>2020-01-02</td>\n",
              "      <td>Two year</td>\n",
              "      <td>No</td>\n",
              "      <td>Credit card (automatic)</td>\n",
              "      <td>25.75</td>\n",
              "      <td>1854.00</td>\n",
              "      <td>2161</td>\n",
              "    </tr>\n",
              "    <tr>\n",
              "      <th>6349</th>\n",
              "      <td>3451-VAWLI</td>\n",
              "      <td>2017-03-01</td>\n",
              "      <td>2020-01-02</td>\n",
              "      <td>Two year</td>\n",
              "      <td>No</td>\n",
              "      <td>Credit card (automatic)</td>\n",
              "      <td>19.70</td>\n",
              "      <td>689.50</td>\n",
              "      <td>1037</td>\n",
              "    </tr>\n",
              "    <tr>\n",
              "      <th>6482</th>\n",
              "      <td>5419-JPRRN</td>\n",
              "      <td>2019-11-01</td>\n",
              "      <td>2020-01-02</td>\n",
              "      <td>Month-to-month</td>\n",
              "      <td>Yes</td>\n",
              "      <td>Electronic check</td>\n",
              "      <td>101.45</td>\n",
              "      <td>313.48</td>\n",
              "      <td>62</td>\n",
              "    </tr>\n",
              "    <tr>\n",
              "      <th>2240</th>\n",
              "      <td>3398-GCPMU</td>\n",
              "      <td>2014-02-01</td>\n",
              "      <td>2020-01-02</td>\n",
              "      <td>Two year</td>\n",
              "      <td>Yes</td>\n",
              "      <td>Credit card (automatic)</td>\n",
              "      <td>89.55</td>\n",
              "      <td>7092.36</td>\n",
              "      <td>2161</td>\n",
              "    </tr>\n",
              "    <tr>\n",
              "      <th>2876</th>\n",
              "      <td>6746-WAUWT</td>\n",
              "      <td>2018-07-01</td>\n",
              "      <td>2020-01-02</td>\n",
              "      <td>One year</td>\n",
              "      <td>Yes</td>\n",
              "      <td>Credit card (automatic)</td>\n",
              "      <td>19.70</td>\n",
              "      <td>374.30</td>\n",
              "      <td>550</td>\n",
              "    </tr>\n",
              "    <tr>\n",
              "      <th>3598</th>\n",
              "      <td>6185-TASNN</td>\n",
              "      <td>2020-01-01</td>\n",
              "      <td>2020-01-02</td>\n",
              "      <td>Month-to-month</td>\n",
              "      <td>No</td>\n",
              "      <td>Electronic check</td>\n",
              "      <td>46.30</td>\n",
              "      <td>46.30</td>\n",
              "      <td>1</td>\n",
              "    </tr>\n",
              "    <tr>\n",
              "      <th>2328</th>\n",
              "      <td>4238-JSSWH</td>\n",
              "      <td>2017-03-01</td>\n",
              "      <td>2020-01-02</td>\n",
              "      <td>Month-to-month</td>\n",
              "      <td>No</td>\n",
              "      <td>Bank transfer (automatic)</td>\n",
              "      <td>102.05</td>\n",
              "      <td>3786.06</td>\n",
              "      <td>1037</td>\n",
              "    </tr>\n",
              "    <tr>\n",
              "      <th>6681</th>\n",
              "      <td>1389-CXMLU</td>\n",
              "      <td>2019-08-01</td>\n",
              "      <td>2020-01-02</td>\n",
              "      <td>Month-to-month</td>\n",
              "      <td>No</td>\n",
              "      <td>Electronic check</td>\n",
              "      <td>91.05</td>\n",
              "      <td>600.93</td>\n",
              "      <td>154</td>\n",
              "    </tr>\n",
              "    <tr>\n",
              "      <th>4461</th>\n",
              "      <td>0082-OQIQY</td>\n",
              "      <td>2017-09-01</td>\n",
              "      <td>2020-01-02</td>\n",
              "      <td>Month-to-month</td>\n",
              "      <td>Yes</td>\n",
              "      <td>Electronic check</td>\n",
              "      <td>94.20</td>\n",
              "      <td>2813.75</td>\n",
              "      <td>853</td>\n",
              "    </tr>\n",
              "    <tr>\n",
              "      <th>3051</th>\n",
              "      <td>5117-ZSMHQ</td>\n",
              "      <td>2014-03-01</td>\n",
              "      <td>2017-03-01</td>\n",
              "      <td>Two year</td>\n",
              "      <td>No</td>\n",
              "      <td>Bank transfer (automatic)</td>\n",
              "      <td>89.90</td>\n",
              "      <td>3462.95</td>\n",
              "      <td>1096</td>\n",
              "    </tr>\n",
              "  </tbody>\n",
              "</table>\n",
              "</div>"
            ],
            "text/plain": [
              "     customer_id begin_date   end_date            type paperless_billing  \\\n",
              "6719  2509-TFPJU 2014-02-01 2020-01-02        Two year                No   \n",
              "6349  3451-VAWLI 2017-03-01 2020-01-02        Two year                No   \n",
              "6482  5419-JPRRN 2019-11-01 2020-01-02  Month-to-month               Yes   \n",
              "2240  3398-GCPMU 2014-02-01 2020-01-02        Two year               Yes   \n",
              "2876  6746-WAUWT 2018-07-01 2020-01-02        One year               Yes   \n",
              "3598  6185-TASNN 2020-01-01 2020-01-02  Month-to-month                No   \n",
              "2328  4238-JSSWH 2017-03-01 2020-01-02  Month-to-month                No   \n",
              "6681  1389-CXMLU 2019-08-01 2020-01-02  Month-to-month                No   \n",
              "4461  0082-OQIQY 2017-09-01 2020-01-02  Month-to-month               Yes   \n",
              "3051  5117-ZSMHQ 2014-03-01 2017-03-01        Two year                No   \n",
              "\n",
              "                 payment_method  monthly_charges  total_charges  days_diff  \n",
              "6719    Credit card (automatic)            25.75        1854.00       2161  \n",
              "6349    Credit card (automatic)            19.70         689.50       1037  \n",
              "6482           Electronic check           101.45         313.48         62  \n",
              "2240    Credit card (automatic)            89.55        7092.36       2161  \n",
              "2876    Credit card (automatic)            19.70         374.30        550  \n",
              "3598           Electronic check            46.30          46.30          1  \n",
              "2328  Bank transfer (automatic)           102.05        3786.06       1037  \n",
              "6681           Electronic check            91.05         600.93        154  \n",
              "4461           Electronic check            94.20        2813.75        853  \n",
              "3051  Bank transfer (automatic)            89.90        3462.95       1096  "
            ]
          },
          "execution_count": 28,
          "metadata": {},
          "output_type": "execute_result"
        }
      ],
      "execution_count": 28
    },
    {
      "id": "293c9250",
      "cell_type": "markdown",
      "source": "**personal_df**",
      "metadata": {}
    },
    {
      "id": "e7475c6e",
      "cell_type": "code",
      "source": "df_info(personal_df)",
      "metadata": {},
      "outputs": [
        {
          "name": "stdout",
          "output_type": "stream",
          "text": [
            "<class 'pandas.core.frame.DataFrame'>\n",
            "RangeIndex: 7043 entries, 0 to 7042\n",
            "Data columns (total 5 columns):\n",
            " #   Column          Non-Null Count  Dtype \n",
            "---  ------          --------------  ----- \n",
            " 0   customer_id     7043 non-null   object\n",
            " 1   gender          7043 non-null   object\n",
            " 2   senior_citizen  7043 non-null   int64 \n",
            " 3   partner         7043 non-null   object\n",
            " 4   dependents      7043 non-null   object\n",
            "dtypes: int64(1), object(4)\n",
            "memory usage: 275.2+ KB\n"
          ]
        },
        {
          "data": {
            "text/html": [
              "<div>\n",
              "<style scoped>\n",
              "    .dataframe tbody tr th:only-of-type {\n",
              "        vertical-align: middle;\n",
              "    }\n",
              "\n",
              "    .dataframe tbody tr th {\n",
              "        vertical-align: top;\n",
              "    }\n",
              "\n",
              "    .dataframe thead th {\n",
              "        text-align: right;\n",
              "    }\n",
              "</style>\n",
              "<table border=\"1\" class=\"dataframe\">\n",
              "  <thead>\n",
              "    <tr style=\"text-align: right;\">\n",
              "      <th></th>\n",
              "      <th>customer_id</th>\n",
              "      <th>gender</th>\n",
              "      <th>senior_citizen</th>\n",
              "      <th>partner</th>\n",
              "      <th>dependents</th>\n",
              "    </tr>\n",
              "  </thead>\n",
              "  <tbody>\n",
              "    <tr>\n",
              "      <th>count</th>\n",
              "      <td>7043</td>\n",
              "      <td>7043</td>\n",
              "      <td>7043.000000</td>\n",
              "      <td>7043</td>\n",
              "      <td>7043</td>\n",
              "    </tr>\n",
              "    <tr>\n",
              "      <th>unique</th>\n",
              "      <td>7043</td>\n",
              "      <td>2</td>\n",
              "      <td>NaN</td>\n",
              "      <td>2</td>\n",
              "      <td>2</td>\n",
              "    </tr>\n",
              "    <tr>\n",
              "      <th>top</th>\n",
              "      <td>3190-ITQXP</td>\n",
              "      <td>Male</td>\n",
              "      <td>NaN</td>\n",
              "      <td>No</td>\n",
              "      <td>No</td>\n",
              "    </tr>\n",
              "    <tr>\n",
              "      <th>freq</th>\n",
              "      <td>1</td>\n",
              "      <td>3555</td>\n",
              "      <td>NaN</td>\n",
              "      <td>3641</td>\n",
              "      <td>4933</td>\n",
              "    </tr>\n",
              "    <tr>\n",
              "      <th>mean</th>\n",
              "      <td>NaN</td>\n",
              "      <td>NaN</td>\n",
              "      <td>0.162147</td>\n",
              "      <td>NaN</td>\n",
              "      <td>NaN</td>\n",
              "    </tr>\n",
              "    <tr>\n",
              "      <th>std</th>\n",
              "      <td>NaN</td>\n",
              "      <td>NaN</td>\n",
              "      <td>0.368612</td>\n",
              "      <td>NaN</td>\n",
              "      <td>NaN</td>\n",
              "    </tr>\n",
              "    <tr>\n",
              "      <th>min</th>\n",
              "      <td>NaN</td>\n",
              "      <td>NaN</td>\n",
              "      <td>0.000000</td>\n",
              "      <td>NaN</td>\n",
              "      <td>NaN</td>\n",
              "    </tr>\n",
              "    <tr>\n",
              "      <th>25%</th>\n",
              "      <td>NaN</td>\n",
              "      <td>NaN</td>\n",
              "      <td>0.000000</td>\n",
              "      <td>NaN</td>\n",
              "      <td>NaN</td>\n",
              "    </tr>\n",
              "    <tr>\n",
              "      <th>50%</th>\n",
              "      <td>NaN</td>\n",
              "      <td>NaN</td>\n",
              "      <td>0.000000</td>\n",
              "      <td>NaN</td>\n",
              "      <td>NaN</td>\n",
              "    </tr>\n",
              "    <tr>\n",
              "      <th>75%</th>\n",
              "      <td>NaN</td>\n",
              "      <td>NaN</td>\n",
              "      <td>0.000000</td>\n",
              "      <td>NaN</td>\n",
              "      <td>NaN</td>\n",
              "    </tr>\n",
              "    <tr>\n",
              "      <th>max</th>\n",
              "      <td>NaN</td>\n",
              "      <td>NaN</td>\n",
              "      <td>1.000000</td>\n",
              "      <td>NaN</td>\n",
              "      <td>NaN</td>\n",
              "    </tr>\n",
              "  </tbody>\n",
              "</table>\n",
              "</div>"
            ],
            "text/plain": [
              "       customer_id gender  senior_citizen partner dependents\n",
              "count         7043   7043     7043.000000    7043       7043\n",
              "unique        7043      2             NaN       2          2\n",
              "top     3190-ITQXP   Male             NaN      No         No\n",
              "freq             1   3555             NaN    3641       4933\n",
              "mean           NaN    NaN        0.162147     NaN        NaN\n",
              "std            NaN    NaN        0.368612     NaN        NaN\n",
              "min            NaN    NaN        0.000000     NaN        NaN\n",
              "25%            NaN    NaN        0.000000     NaN        NaN\n",
              "50%            NaN    NaN        0.000000     NaN        NaN\n",
              "75%            NaN    NaN        0.000000     NaN        NaN\n",
              "max            NaN    NaN        1.000000     NaN        NaN"
            ]
          },
          "metadata": {},
          "output_type": "display_data"
        },
        {
          "data": {
            "text/html": [
              "<div>\n",
              "<style scoped>\n",
              "    .dataframe tbody tr th:only-of-type {\n",
              "        vertical-align: middle;\n",
              "    }\n",
              "\n",
              "    .dataframe tbody tr th {\n",
              "        vertical-align: top;\n",
              "    }\n",
              "\n",
              "    .dataframe thead th {\n",
              "        text-align: right;\n",
              "    }\n",
              "</style>\n",
              "<table border=\"1\" class=\"dataframe\">\n",
              "  <thead>\n",
              "    <tr style=\"text-align: right;\">\n",
              "      <th></th>\n",
              "      <th>customer_id</th>\n",
              "      <th>gender</th>\n",
              "      <th>senior_citizen</th>\n",
              "      <th>partner</th>\n",
              "      <th>dependents</th>\n",
              "    </tr>\n",
              "  </thead>\n",
              "  <tbody>\n",
              "    <tr>\n",
              "      <th>3115</th>\n",
              "      <td>4822-NGOCH</td>\n",
              "      <td>Female</td>\n",
              "      <td>0</td>\n",
              "      <td>No</td>\n",
              "      <td>No</td>\n",
              "    </tr>\n",
              "    <tr>\n",
              "      <th>2086</th>\n",
              "      <td>2955-BJZHG</td>\n",
              "      <td>Male</td>\n",
              "      <td>0</td>\n",
              "      <td>Yes</td>\n",
              "      <td>Yes</td>\n",
              "    </tr>\n",
              "    <tr>\n",
              "      <th>610</th>\n",
              "      <td>6543-CPZMK</td>\n",
              "      <td>Male</td>\n",
              "      <td>0</td>\n",
              "      <td>Yes</td>\n",
              "      <td>Yes</td>\n",
              "    </tr>\n",
              "    <tr>\n",
              "      <th>912</th>\n",
              "      <td>3865-YIOTT</td>\n",
              "      <td>Male</td>\n",
              "      <td>0</td>\n",
              "      <td>Yes</td>\n",
              "      <td>Yes</td>\n",
              "    </tr>\n",
              "    <tr>\n",
              "      <th>6572</th>\n",
              "      <td>6258-PVZWJ</td>\n",
              "      <td>Male</td>\n",
              "      <td>0</td>\n",
              "      <td>Yes</td>\n",
              "      <td>No</td>\n",
              "    </tr>\n",
              "  </tbody>\n",
              "</table>\n",
              "</div>"
            ],
            "text/plain": [
              "     customer_id  gender  senior_citizen partner dependents\n",
              "3115  4822-NGOCH  Female               0      No         No\n",
              "2086  2955-BJZHG    Male               0     Yes        Yes\n",
              "610   6543-CPZMK    Male               0     Yes        Yes\n",
              "912   3865-YIOTT    Male               0     Yes        Yes\n",
              "6572  6258-PVZWJ    Male               0     Yes         No"
            ]
          },
          "metadata": {},
          "output_type": "display_data"
        },
        {
          "name": "stdout",
          "output_type": "stream",
          "text": [
            "\n",
            "\n",
            "customer_id - 0.0%\n",
            "gender - 0.0%\n",
            "senior_citizen - 0.0%\n",
            "partner - 0.0%\n",
            "dependents - 0.0%\n",
            "\n",
            "Дубликатов: 0\n"
          ]
        },
        {
          "data": {
            "image/png": "[encoded data removed]",
            "text/plain": [
              "<Figure size 864x576 with 1 Axes>"
            ]
          },
          "metadata": {},
          "output_type": "display_data"
        }
      ],
      "execution_count": 29
    },
    {
      "id": "8a936ea3",
      "cell_type": "markdown",
      "source": "Здесь выбросов также не наблюдается",
      "metadata": {}
    },
    {
      "id": "cc211b8b",
      "cell_type": "markdown",
      "source": "**internet_df**",
      "metadata": {}
    },
    {
      "id": "edb2eada",
      "cell_type": "code",
      "source": "df_info(internet_df)",
      "metadata": {},
      "outputs": [
        {
          "name": "stdout",
          "output_type": "stream",
          "text": [
            "<class 'pandas.core.frame.DataFrame'>\n",
            "RangeIndex: 5517 entries, 0 to 5516\n",
            "Data columns (total 8 columns):\n",
            " #   Column             Non-Null Count  Dtype \n",
            "---  ------             --------------  ----- \n",
            " 0   customer_id        5517 non-null   object\n",
            " 1   internet_service   5517 non-null   object\n",
            " 2   online_security    5517 non-null   object\n",
            " 3   online_backup      5517 non-null   object\n",
            " 4   device_protection  5517 non-null   object\n",
            " 5   tech_support       5517 non-null   object\n",
            " 6   streaming_tv       5517 non-null   object\n",
            " 7   streaming_movies   5517 non-null   object\n",
            "dtypes: object(8)\n",
            "memory usage: 344.9+ KB\n"
          ]
        },
        {
          "data": {
            "text/html": [
              "<div>\n",
              "<style scoped>\n",
              "    .dataframe tbody tr th:only-of-type {\n",
              "        vertical-align: middle;\n",
              "    }\n",
              "\n",
              "    .dataframe tbody tr th {\n",
              "        vertical-align: top;\n",
              "    }\n",
              "\n",
              "    .dataframe thead th {\n",
              "        text-align: right;\n",
              "    }\n",
              "</style>\n",
              "<table border=\"1\" class=\"dataframe\">\n",
              "  <thead>\n",
              "    <tr style=\"text-align: right;\">\n",
              "      <th></th>\n",
              "      <th>customer_id</th>\n",
              "      <th>internet_service</th>\n",
              "      <th>online_security</th>\n",
              "      <th>online_backup</th>\n",
              "      <th>device_protection</th>\n",
              "      <th>tech_support</th>\n",
              "      <th>streaming_tv</th>\n",
              "      <th>streaming_movies</th>\n",
              "    </tr>\n",
              "  </thead>\n",
              "  <tbody>\n",
              "    <tr>\n",
              "      <th>count</th>\n",
              "      <td>5517</td>\n",
              "      <td>5517</td>\n",
              "      <td>5517</td>\n",
              "      <td>5517</td>\n",
              "      <td>5517</td>\n",
              "      <td>5517</td>\n",
              "      <td>5517</td>\n",
              "      <td>5517</td>\n",
              "    </tr>\n",
              "    <tr>\n",
              "      <th>unique</th>\n",
              "      <td>5517</td>\n",
              "      <td>2</td>\n",
              "      <td>2</td>\n",
              "      <td>2</td>\n",
              "      <td>2</td>\n",
              "      <td>2</td>\n",
              "      <td>2</td>\n",
              "      <td>2</td>\n",
              "    </tr>\n",
              "    <tr>\n",
              "      <th>top</th>\n",
              "      <td>0080-EMYVY</td>\n",
              "      <td>Fiber optic</td>\n",
              "      <td>No</td>\n",
              "      <td>No</td>\n",
              "      <td>No</td>\n",
              "      <td>No</td>\n",
              "      <td>No</td>\n",
              "      <td>No</td>\n",
              "    </tr>\n",
              "    <tr>\n",
              "      <th>freq</th>\n",
              "      <td>1</td>\n",
              "      <td>3096</td>\n",
              "      <td>3498</td>\n",
              "      <td>3088</td>\n",
              "      <td>3095</td>\n",
              "      <td>3473</td>\n",
              "      <td>2810</td>\n",
              "      <td>2785</td>\n",
              "    </tr>\n",
              "  </tbody>\n",
              "</table>\n",
              "</div>"
            ],
            "text/plain": [
              "       customer_id internet_service online_security online_backup  \\\n",
              "count         5517             5517            5517          5517   \n",
              "unique        5517                2               2             2   \n",
              "top     0080-EMYVY      Fiber optic              No            No   \n",
              "freq             1             3096            3498          3088   \n",
              "\n",
              "       device_protection tech_support streaming_tv streaming_movies  \n",
              "count               5517         5517         5517             5517  \n",
              "unique                 2            2            2                2  \n",
              "top                   No           No           No               No  \n",
              "freq                3095         3473         2810             2785  "
            ]
          },
          "metadata": {},
          "output_type": "display_data"
        },
        {
          "data": {
            "text/html": [
              "<div>\n",
              "<style scoped>\n",
              "    .dataframe tbody tr th:only-of-type {\n",
              "        vertical-align: middle;\n",
              "    }\n",
              "\n",
              "    .dataframe tbody tr th {\n",
              "        vertical-align: top;\n",
              "    }\n",
              "\n",
              "    .dataframe thead th {\n",
              "        text-align: right;\n",
              "    }\n",
              "</style>\n",
              "<table border=\"1\" class=\"dataframe\">\n",
              "  <thead>\n",
              "    <tr style=\"text-align: right;\">\n",
              "      <th></th>\n",
              "      <th>customer_id</th>\n",
              "      <th>internet_service</th>\n",
              "      <th>online_security</th>\n",
              "      <th>online_backup</th>\n",
              "      <th>device_protection</th>\n",
              "      <th>tech_support</th>\n",
              "      <th>streaming_tv</th>\n",
              "      <th>streaming_movies</th>\n",
              "    </tr>\n",
              "  </thead>\n",
              "  <tbody>\n",
              "    <tr>\n",
              "      <th>2082</th>\n",
              "      <td>5609-IMCGG</td>\n",
              "      <td>Fiber optic</td>\n",
              "      <td>Yes</td>\n",
              "      <td>No</td>\n",
              "      <td>Yes</td>\n",
              "      <td>No</td>\n",
              "      <td>No</td>\n",
              "      <td>No</td>\n",
              "    </tr>\n",
              "    <tr>\n",
              "      <th>3221</th>\n",
              "      <td>5208-FVQKB</td>\n",
              "      <td>DSL</td>\n",
              "      <td>Yes</td>\n",
              "      <td>Yes</td>\n",
              "      <td>No</td>\n",
              "      <td>Yes</td>\n",
              "      <td>No</td>\n",
              "      <td>Yes</td>\n",
              "    </tr>\n",
              "    <tr>\n",
              "      <th>5243</th>\n",
              "      <td>4342-HFXWS</td>\n",
              "      <td>DSL</td>\n",
              "      <td>Yes</td>\n",
              "      <td>No</td>\n",
              "      <td>Yes</td>\n",
              "      <td>Yes</td>\n",
              "      <td>Yes</td>\n",
              "      <td>No</td>\n",
              "    </tr>\n",
              "    <tr>\n",
              "      <th>3457</th>\n",
              "      <td>8652-YHIYU</td>\n",
              "      <td>Fiber optic</td>\n",
              "      <td>No</td>\n",
              "      <td>No</td>\n",
              "      <td>No</td>\n",
              "      <td>Yes</td>\n",
              "      <td>No</td>\n",
              "      <td>No</td>\n",
              "    </tr>\n",
              "    <tr>\n",
              "      <th>3655</th>\n",
              "      <td>6305-YLBMM</td>\n",
              "      <td>Fiber optic</td>\n",
              "      <td>No</td>\n",
              "      <td>Yes</td>\n",
              "      <td>Yes</td>\n",
              "      <td>Yes</td>\n",
              "      <td>Yes</td>\n",
              "      <td>Yes</td>\n",
              "    </tr>\n",
              "  </tbody>\n",
              "</table>\n",
              "</div>"
            ],
            "text/plain": [
              "     customer_id internet_service online_security online_backup  \\\n",
              "2082  5609-IMCGG      Fiber optic             Yes            No   \n",
              "3221  5208-FVQKB              DSL             Yes           Yes   \n",
              "5243  4342-HFXWS              DSL             Yes            No   \n",
              "3457  8652-YHIYU      Fiber optic              No            No   \n",
              "3655  6305-YLBMM      Fiber optic              No           Yes   \n",
              "\n",
              "     device_protection tech_support streaming_tv streaming_movies  \n",
              "2082               Yes           No           No               No  \n",
              "3221                No          Yes           No              Yes  \n",
              "5243               Yes          Yes          Yes               No  \n",
              "3457                No          Yes           No               No  \n",
              "3655               Yes          Yes          Yes              Yes  "
            ]
          },
          "metadata": {},
          "output_type": "display_data"
        },
        {
          "name": "stdout",
          "output_type": "stream",
          "text": [
            "\n",
            "\n",
            "customer_id - 0.0%\n",
            "internet_service - 0.0%\n",
            "online_security - 0.0%\n",
            "online_backup - 0.0%\n",
            "device_protection - 0.0%\n",
            "tech_support - 0.0%\n",
            "streaming_tv - 0.0%\n",
            "streaming_movies - 0.0%\n",
            "\n",
            "Дубликатов: 0\n"
          ]
        }
      ],
      "execution_count": 30
    },
    {
      "id": "3f259e10",
      "cell_type": "markdown",
      "source": "**phone_df**",
      "metadata": {}
    },
    {
      "id": "afb1c4be",
      "cell_type": "code",
      "source": "df_info(phone_df)",
      "metadata": {},
      "outputs": [
        {
          "name": "stdout",
          "output_type": "stream",
          "text": [
            "<class 'pandas.core.frame.DataFrame'>\n",
            "RangeIndex: 6361 entries, 0 to 6360\n",
            "Data columns (total 2 columns):\n",
            " #   Column          Non-Null Count  Dtype \n",
            "---  ------          --------------  ----- \n",
            " 0   customer_id     6361 non-null   object\n",
            " 1   multiple_lines  6361 non-null   object\n",
            "dtypes: object(2)\n",
            "memory usage: 99.5+ KB\n"
          ]
        },
        {
          "data": {
            "text/html": [
              "<div>\n",
              "<style scoped>\n",
              "    .dataframe tbody tr th:only-of-type {\n",
              "        vertical-align: middle;\n",
              "    }\n",
              "\n",
              "    .dataframe tbody tr th {\n",
              "        vertical-align: top;\n",
              "    }\n",
              "\n",
              "    .dataframe thead th {\n",
              "        text-align: right;\n",
              "    }\n",
              "</style>\n",
              "<table border=\"1\" class=\"dataframe\">\n",
              "  <thead>\n",
              "    <tr style=\"text-align: right;\">\n",
              "      <th></th>\n",
              "      <th>customer_id</th>\n",
              "      <th>multiple_lines</th>\n",
              "    </tr>\n",
              "  </thead>\n",
              "  <tbody>\n",
              "    <tr>\n",
              "      <th>count</th>\n",
              "      <td>6361</td>\n",
              "      <td>6361</td>\n",
              "    </tr>\n",
              "    <tr>\n",
              "      <th>unique</th>\n",
              "      <td>6361</td>\n",
              "      <td>2</td>\n",
              "    </tr>\n",
              "    <tr>\n",
              "      <th>top</th>\n",
              "      <td>3190-ITQXP</td>\n",
              "      <td>No</td>\n",
              "    </tr>\n",
              "    <tr>\n",
              "      <th>freq</th>\n",
              "      <td>1</td>\n",
              "      <td>3390</td>\n",
              "    </tr>\n",
              "  </tbody>\n",
              "</table>\n",
              "</div>"
            ],
            "text/plain": [
              "       customer_id multiple_lines\n",
              "count         6361           6361\n",
              "unique        6361              2\n",
              "top     3190-ITQXP             No\n",
              "freq             1           3390"
            ]
          },
          "metadata": {},
          "output_type": "display_data"
        },
        {
          "data": {
            "text/html": [
              "<div>\n",
              "<style scoped>\n",
              "    .dataframe tbody tr th:only-of-type {\n",
              "        vertical-align: middle;\n",
              "    }\n",
              "\n",
              "    .dataframe tbody tr th {\n",
              "        vertical-align: top;\n",
              "    }\n",
              "\n",
              "    .dataframe thead th {\n",
              "        text-align: right;\n",
              "    }\n",
              "</style>\n",
              "<table border=\"1\" class=\"dataframe\">\n",
              "  <thead>\n",
              "    <tr style=\"text-align: right;\">\n",
              "      <th></th>\n",
              "      <th>customer_id</th>\n",
              "      <th>multiple_lines</th>\n",
              "    </tr>\n",
              "  </thead>\n",
              "  <tbody>\n",
              "    <tr>\n",
              "      <th>682</th>\n",
              "      <td>3115-CZMZD</td>\n",
              "      <td>No</td>\n",
              "    </tr>\n",
              "    <tr>\n",
              "      <th>4249</th>\n",
              "      <td>0980-FEXWF</td>\n",
              "      <td>No</td>\n",
              "    </tr>\n",
              "    <tr>\n",
              "      <th>3388</th>\n",
              "      <td>1965-DDBWU</td>\n",
              "      <td>Yes</td>\n",
              "    </tr>\n",
              "    <tr>\n",
              "      <th>5760</th>\n",
              "      <td>8073-IJDCM</td>\n",
              "      <td>No</td>\n",
              "    </tr>\n",
              "    <tr>\n",
              "      <th>1317</th>\n",
              "      <td>2958-NHPPS</td>\n",
              "      <td>No</td>\n",
              "    </tr>\n",
              "  </tbody>\n",
              "</table>\n",
              "</div>"
            ],
            "text/plain": [
              "     customer_id multiple_lines\n",
              "682   3115-CZMZD             No\n",
              "4249  0980-FEXWF             No\n",
              "3388  1965-DDBWU            Yes\n",
              "5760  8073-IJDCM             No\n",
              "1317  2958-NHPPS             No"
            ]
          },
          "metadata": {},
          "output_type": "display_data"
        },
        {
          "name": "stdout",
          "output_type": "stream",
          "text": [
            "\n",
            "\n",
            "customer_id - 0.0%\n",
            "multiple_lines - 0.0%\n",
            "\n",
            "Дубликатов: 0\n"
          ]
        }
      ],
      "execution_count": 31
    },
    {
      "id": "1c2aa939",
      "cell_type": "markdown",
      "source": "## Объединение данных",
      "metadata": {}
    },
    {
      "id": "125f6f35",
      "cell_type": "markdown",
      "source": "Объединим все таблицы по столбцу `customer_id`, предварительно отсортировав исходные столбцы по нему:",
      "metadata": {}
    },
    {
      "id": "36ba401e",
      "cell_type": "code",
      "source": "contract_df = contract_df.sort_values(by='customer_id', ascending=False)\npersonal_df = personal_df.sort_values(by='customer_id', ascending=False)\ninternet_df = internet_df.sort_values(by='customer_id', ascending=False)\ninternet_df = internet_df.sort_values(by='customer_id', ascending=False)",
      "metadata": {},
      "outputs": [],
      "execution_count": 32
    },
    {
      "id": "352cd1ed",
      "cell_type": "code",
      "source": "df_dict = { 'Contract df': contract_df,\n            'Personal df': personal_df,\n            'Internet df': internet_df,\n            'Phone df': phone_df}",
      "metadata": {},
      "outputs": [],
      "execution_count": 33
    },
    {
      "id": "5ad7c327",
      "cell_type": "code",
      "source": "merged_df = contract_df.merge(personal_df, on='customer_id', how='left'). \\\n                        merge(internet_df, on='customer_id', how='left'). \\\n                        merge(phone_df, on='customer_id', how='left')",
      "metadata": {},
      "outputs": [],
      "execution_count": 35
    },
    {
      "id": "e6994e33",
      "cell_type": "code",
      "source": "merged_df.sample(10, random_state=RANDOM_SEED)",
      "metadata": {},
      "outputs": [
        {
          "data": {
            "text/html": [
              "<div>\n",
              "<style scoped>\n",
              "    .dataframe tbody tr th:only-of-type {\n",
              "        vertical-align: middle;\n",
              "    }\n",
              "\n",
              "    .dataframe tbody tr th {\n",
              "        vertical-align: top;\n",
              "    }\n",
              "\n",
              "    .dataframe thead th {\n",
              "        text-align: right;\n",
              "    }\n",
              "</style>\n",
              "<table border=\"1\" class=\"dataframe\">\n",
              "  <thead>\n",
              "    <tr style=\"text-align: right;\">\n",
              "      <th></th>\n",
              "      <th>customer_id</th>\n",
              "      <th>begin_date</th>\n",
              "      <th>end_date</th>\n",
              "      <th>type</th>\n",
              "      <th>paperless_billing</th>\n",
              "      <th>payment_method</th>\n",
              "      <th>monthly_charges</th>\n",
              "      <th>total_charges</th>\n",
              "      <th>days_diff</th>\n",
              "      <th>gender</th>\n",
              "      <th>...</th>\n",
              "      <th>partner</th>\n",
              "      <th>dependents</th>\n",
              "      <th>internet_service</th>\n",
              "      <th>online_security</th>\n",
              "      <th>online_backup</th>\n",
              "      <th>device_protection</th>\n",
              "      <th>tech_support</th>\n",
              "      <th>streaming_tv</th>\n",
              "      <th>streaming_movies</th>\n",
              "      <th>multiple_lines</th>\n",
              "    </tr>\n",
              "  </thead>\n",
              "  <tbody>\n",
              "    <tr>\n",
              "      <th>6709</th>\n",
              "      <td>0480-KYJVA</td>\n",
              "      <td>2014-02-01</td>\n",
              "      <td>2020-01-02</td>\n",
              "      <td>Two year</td>\n",
              "      <td>No</td>\n",
              "      <td>Credit card (automatic)</td>\n",
              "      <td>24.25</td>\n",
              "      <td>1868.22</td>\n",
              "      <td>2161</td>\n",
              "      <td>Female</td>\n",
              "      <td>...</td>\n",
              "      <td>Yes</td>\n",
              "      <td>Yes</td>\n",
              "      <td>NaN</td>\n",
              "      <td>NaN</td>\n",
              "      <td>NaN</td>\n",
              "      <td>NaN</td>\n",
              "      <td>NaN</td>\n",
              "      <td>NaN</td>\n",
              "      <td>NaN</td>\n",
              "      <td>Yes</td>\n",
              "    </tr>\n",
              "    <tr>\n",
              "      <th>6340</th>\n",
              "      <td>1023-BQXZE</td>\n",
              "      <td>2015-05-01</td>\n",
              "      <td>2020-01-02</td>\n",
              "      <td>Two year</td>\n",
              "      <td>Yes</td>\n",
              "      <td>Bank transfer (automatic)</td>\n",
              "      <td>74.35</td>\n",
              "      <td>4492.23</td>\n",
              "      <td>1707</td>\n",
              "      <td>Male</td>\n",
              "      <td>...</td>\n",
              "      <td>No</td>\n",
              "      <td>No</td>\n",
              "      <td>DSL</td>\n",
              "      <td>Yes</td>\n",
              "      <td>No</td>\n",
              "      <td>Yes</td>\n",
              "      <td>No</td>\n",
              "      <td>Yes</td>\n",
              "      <td>Yes</td>\n",
              "      <td>No</td>\n",
              "    </tr>\n",
              "    <tr>\n",
              "      <th>6473</th>\n",
              "      <td>0822-QGCXA</td>\n",
              "      <td>2017-11-01</td>\n",
              "      <td>2020-01-02</td>\n",
              "      <td>Month-to-month</td>\n",
              "      <td>No</td>\n",
              "      <td>Electronic check</td>\n",
              "      <td>83.85</td>\n",
              "      <td>2263.95</td>\n",
              "      <td>792</td>\n",
              "      <td>Female</td>\n",
              "      <td>...</td>\n",
              "      <td>Yes</td>\n",
              "      <td>No</td>\n",
              "      <td>DSL</td>\n",
              "      <td>No</td>\n",
              "      <td>Yes</td>\n",
              "      <td>Yes</td>\n",
              "      <td>Yes</td>\n",
              "      <td>Yes</td>\n",
              "      <td>Yes</td>\n",
              "      <td>Yes</td>\n",
              "    </tr>\n",
              "    <tr>\n",
              "      <th>2235</th>\n",
              "      <td>6762-NSODU</td>\n",
              "      <td>2016-04-01</td>\n",
              "      <td>2017-07-01</td>\n",
              "      <td>Two year</td>\n",
              "      <td>No</td>\n",
              "      <td>Credit card (automatic)</td>\n",
              "      <td>19.40</td>\n",
              "      <td>314.28</td>\n",
              "      <td>456</td>\n",
              "      <td>Female</td>\n",
              "      <td>...</td>\n",
              "      <td>Yes</td>\n",
              "      <td>Yes</td>\n",
              "      <td>NaN</td>\n",
              "      <td>NaN</td>\n",
              "      <td>NaN</td>\n",
              "      <td>NaN</td>\n",
              "      <td>NaN</td>\n",
              "      <td>NaN</td>\n",
              "      <td>NaN</td>\n",
              "      <td>No</td>\n",
              "    </tr>\n",
              "    <tr>\n",
              "      <th>2871</th>\n",
              "      <td>5896-NPFWW</td>\n",
              "      <td>2019-08-01</td>\n",
              "      <td>2020-01-02</td>\n",
              "      <td>Month-to-month</td>\n",
              "      <td>Yes</td>\n",
              "      <td>Electronic check</td>\n",
              "      <td>50.15</td>\n",
              "      <td>309.93</td>\n",
              "      <td>154</td>\n",
              "      <td>Male</td>\n",
              "      <td>...</td>\n",
              "      <td>Yes</td>\n",
              "      <td>Yes</td>\n",
              "      <td>DSL</td>\n",
              "      <td>No</td>\n",
              "      <td>No</td>\n",
              "      <td>Yes</td>\n",
              "      <td>No</td>\n",
              "      <td>No</td>\n",
              "      <td>No</td>\n",
              "      <td>No</td>\n",
              "    </tr>\n",
              "    <tr>\n",
              "      <th>3592</th>\n",
              "      <td>4884-ZTHVF</td>\n",
              "      <td>2019-06-01</td>\n",
              "      <td>2020-01-02</td>\n",
              "      <td>Month-to-month</td>\n",
              "      <td>Yes</td>\n",
              "      <td>Electronic check</td>\n",
              "      <td>87.10</td>\n",
              "      <td>766.48</td>\n",
              "      <td>215</td>\n",
              "      <td>Female</td>\n",
              "      <td>...</td>\n",
              "      <td>No</td>\n",
              "      <td>No</td>\n",
              "      <td>Fiber optic</td>\n",
              "      <td>No</td>\n",
              "      <td>Yes</td>\n",
              "      <td>No</td>\n",
              "      <td>No</td>\n",
              "      <td>Yes</td>\n",
              "      <td>No</td>\n",
              "      <td>No</td>\n",
              "    </tr>\n",
              "    <tr>\n",
              "      <th>2323</th>\n",
              "      <td>6647-ZEDXT</td>\n",
              "      <td>2017-08-01</td>\n",
              "      <td>2020-01-02</td>\n",
              "      <td>One year</td>\n",
              "      <td>No</td>\n",
              "      <td>Credit card (automatic)</td>\n",
              "      <td>110.45</td>\n",
              "      <td>3313.50</td>\n",
              "      <td>884</td>\n",
              "      <td>Female</td>\n",
              "      <td>...</td>\n",
              "      <td>No</td>\n",
              "      <td>No</td>\n",
              "      <td>Fiber optic</td>\n",
              "      <td>No</td>\n",
              "      <td>Yes</td>\n",
              "      <td>Yes</td>\n",
              "      <td>Yes</td>\n",
              "      <td>Yes</td>\n",
              "      <td>Yes</td>\n",
              "      <td>Yes</td>\n",
              "    </tr>\n",
              "    <tr>\n",
              "      <th>6671</th>\n",
              "      <td>0530-IJVDB</td>\n",
              "      <td>2014-04-01</td>\n",
              "      <td>2020-01-02</td>\n",
              "      <td>Two year</td>\n",
              "      <td>Yes</td>\n",
              "      <td>Electronic check</td>\n",
              "      <td>114.60</td>\n",
              "      <td>8182.44</td>\n",
              "      <td>2102</td>\n",
              "      <td>Male</td>\n",
              "      <td>...</td>\n",
              "      <td>No</td>\n",
              "      <td>Yes</td>\n",
              "      <td>Fiber optic</td>\n",
              "      <td>Yes</td>\n",
              "      <td>Yes</td>\n",
              "      <td>Yes</td>\n",
              "      <td>Yes</td>\n",
              "      <td>Yes</td>\n",
              "      <td>Yes</td>\n",
              "      <td>Yes</td>\n",
              "    </tr>\n",
              "    <tr>\n",
              "      <th>4453</th>\n",
              "      <td>3694-GLTJM</td>\n",
              "      <td>2019-09-01</td>\n",
              "      <td>2020-01-02</td>\n",
              "      <td>Month-to-month</td>\n",
              "      <td>Yes</td>\n",
              "      <td>Credit card (automatic)</td>\n",
              "      <td>19.65</td>\n",
              "      <td>98.25</td>\n",
              "      <td>123</td>\n",
              "      <td>Female</td>\n",
              "      <td>...</td>\n",
              "      <td>No</td>\n",
              "      <td>No</td>\n",
              "      <td>NaN</td>\n",
              "      <td>NaN</td>\n",
              "      <td>NaN</td>\n",
              "      <td>NaN</td>\n",
              "      <td>NaN</td>\n",
              "      <td>NaN</td>\n",
              "      <td>NaN</td>\n",
              "      <td>No</td>\n",
              "    </tr>\n",
              "    <tr>\n",
              "      <th>3046</th>\n",
              "      <td>5630-AHZIL</td>\n",
              "      <td>2019-11-01</td>\n",
              "      <td>2020-01-02</td>\n",
              "      <td>Month-to-month</td>\n",
              "      <td>Yes</td>\n",
              "      <td>Bank transfer (automatic)</td>\n",
              "      <td>64.50</td>\n",
              "      <td>193.50</td>\n",
              "      <td>62</td>\n",
              "      <td>Female</td>\n",
              "      <td>...</td>\n",
              "      <td>No</td>\n",
              "      <td>Yes</td>\n",
              "      <td>DSL</td>\n",
              "      <td>Yes</td>\n",
              "      <td>No</td>\n",
              "      <td>No</td>\n",
              "      <td>Yes</td>\n",
              "      <td>No</td>\n",
              "      <td>Yes</td>\n",
              "      <td>No</td>\n",
              "    </tr>\n",
              "  </tbody>\n",
              "</table>\n",
              "<p>10 rows × 21 columns</p>\n",
              "</div>"
            ],
            "text/plain": [
              "     customer_id begin_date   end_date            type paperless_billing  \\\n",
              "6709  0480-KYJVA 2014-02-01 2020-01-02        Two year                No   \n",
              "6340  1023-BQXZE 2015-05-01 2020-01-02        Two year               Yes   \n",
              "6473  0822-QGCXA 2017-11-01 2020-01-02  Month-to-month                No   \n",
              "2235  6762-NSODU 2016-04-01 2017-07-01        Two year                No   \n",
              "2871  5896-NPFWW 2019-08-01 2020-01-02  Month-to-month               Yes   \n",
              "3592  4884-ZTHVF 2019-06-01 2020-01-02  Month-to-month               Yes   \n",
              "2323  6647-ZEDXT 2017-08-01 2020-01-02        One year                No   \n",
              "6671  0530-IJVDB 2014-04-01 2020-01-02        Two year               Yes   \n",
              "4453  3694-GLTJM 2019-09-01 2020-01-02  Month-to-month               Yes   \n",
              "3046  5630-AHZIL 2019-11-01 2020-01-02  Month-to-month               Yes   \n",
              "\n",
              "                 payment_method  monthly_charges  total_charges  days_diff  \\\n",
              "6709    Credit card (automatic)            24.25        1868.22       2161   \n",
              "6340  Bank transfer (automatic)            74.35        4492.23       1707   \n",
              "6473           Electronic check            83.85        2263.95        792   \n",
              "2235    Credit card (automatic)            19.40         314.28        456   \n",
              "2871           Electronic check            50.15         309.93        154   \n",
              "3592           Electronic check            87.10         766.48        215   \n",
              "2323    Credit card (automatic)           110.45        3313.50        884   \n",
              "6671           Electronic check           114.60        8182.44       2102   \n",
              "4453    Credit card (automatic)            19.65          98.25        123   \n",
              "3046  Bank transfer (automatic)            64.50         193.50         62   \n",
              "\n",
              "      gender  ...  partner dependents internet_service online_security  \\\n",
              "6709  Female  ...      Yes        Yes              NaN             NaN   \n",
              "6340    Male  ...       No         No              DSL             Yes   \n",
              "6473  Female  ...      Yes         No              DSL              No   \n",
              "2235  Female  ...      Yes        Yes              NaN             NaN   \n",
              "2871    Male  ...      Yes        Yes              DSL              No   \n",
              "3592  Female  ...       No         No      Fiber optic              No   \n",
              "2323  Female  ...       No         No      Fiber optic              No   \n",
              "6671    Male  ...       No        Yes      Fiber optic             Yes   \n",
              "4453  Female  ...       No         No              NaN             NaN   \n",
              "3046  Female  ...       No        Yes              DSL             Yes   \n",
              "\n",
              "     online_backup device_protection tech_support streaming_tv  \\\n",
              "6709           NaN               NaN          NaN          NaN   \n",
              "6340            No               Yes           No          Yes   \n",
              "6473           Yes               Yes          Yes          Yes   \n",
              "2235           NaN               NaN          NaN          NaN   \n",
              "2871            No               Yes           No           No   \n",
              "3592           Yes                No           No          Yes   \n",
              "2323           Yes               Yes          Yes          Yes   \n",
              "6671           Yes               Yes          Yes          Yes   \n",
              "4453           NaN               NaN          NaN          NaN   \n",
              "3046            No                No          Yes           No   \n",
              "\n",
              "     streaming_movies multiple_lines  \n",
              "6709              NaN            Yes  \n",
              "6340              Yes             No  \n",
              "6473              Yes            Yes  \n",
              "2235              NaN             No  \n",
              "2871               No             No  \n",
              "3592               No             No  \n",
              "2323              Yes            Yes  \n",
              "6671              Yes            Yes  \n",
              "4453              NaN             No  \n",
              "3046              Yes             No  \n",
              "\n",
              "[10 rows x 21 columns]"
            ]
          },
          "execution_count": 36,
          "metadata": {},
          "output_type": "execute_result"
        }
      ],
      "execution_count": 36
    },
    {
      "id": "757eb56b",
      "cell_type": "markdown",
      "source": "**=>** Данные успешно объединены",
      "metadata": {}
    },
    {
      "id": "63c57d55",
      "cell_type": "markdown",
      "source": "## Исследовательский анализ и предобработка данных объединённого датафрейма",
      "metadata": {}
    },
    {
      "id": "8ba2af0c",
      "cell_type": "code",
      "source": "merged_df.info()",
      "metadata": {},
      "outputs": [
        {
          "name": "stdout",
          "output_type": "stream",
          "text": [
            "<class 'pandas.core.frame.DataFrame'>\n",
            "Int64Index: 7032 entries, 0 to 7031\n",
            "Data columns (total 21 columns):\n",
            " #   Column             Non-Null Count  Dtype         \n",
            "---  ------             --------------  -----         \n",
            " 0   customer_id        7032 non-null   object        \n",
            " 1   begin_date         7032 non-null   datetime64[ns]\n",
            " 2   end_date           7032 non-null   datetime64[ns]\n",
            " 3   type               7032 non-null   object        \n",
            " 4   paperless_billing  7032 non-null   object        \n",
            " 5   payment_method     7032 non-null   object        \n",
            " 6   monthly_charges    7032 non-null   float64       \n",
            " 7   total_charges      7032 non-null   float64       \n",
            " 8   days_diff          7032 non-null   int64         \n",
            " 9   gender             7032 non-null   object        \n",
            " 10  senior_citizen     7032 non-null   int64         \n",
            " 11  partner            7032 non-null   object        \n",
            " 12  dependents         7032 non-null   object        \n",
            " 13  internet_service   5512 non-null   object        \n",
            " 14  online_security    5512 non-null   object        \n",
            " 15  online_backup      5512 non-null   object        \n",
            " 16  device_protection  5512 non-null   object        \n",
            " 17  tech_support       5512 non-null   object        \n",
            " 18  streaming_tv       5512 non-null   object        \n",
            " 19  streaming_movies   5512 non-null   object        \n",
            " 20  multiple_lines     6352 non-null   object        \n",
            "dtypes: datetime64[ns](2), float64(2), int64(2), object(15)\n",
            "memory usage: 1.2+ MB\n"
          ]
        }
      ],
      "execution_count": 37
    },
    {
      "id": "c156f3c2",
      "cell_type": "markdown",
      "source": "Полученный датасет, хоть и состоит из уже предобработанных, нуждается в новых исследованиях, т.к. на этот раз мы собрали информацию о каждом пользователе в одном месте.",
      "metadata": {}
    },
    {
      "id": "156d50bd",
      "cell_type": "markdown",
      "source": "Сразу уберём столбец `customer_id` и `begin_date`\n\nОни не повлияют на качество обучаемости модели и лишь помешют в дальнейшем, всю информацию и смысл мы из них уже достали.",
      "metadata": {}
    },
    {
      "id": "792cca3c",
      "cell_type": "code",
      "source": "merged_df = merged_df.drop(['customer_id', 'begin_date'], axis=1)\nmerged_df.columns",
      "metadata": {},
      "outputs": [
        {
          "data": {
            "text/plain": [
              "Index(['end_date', 'type', 'paperless_billing', 'payment_method',\n",
              "       'monthly_charges', 'total_charges', 'days_diff', 'gender',\n",
              "       'senior_citizen', 'partner', 'dependents', 'internet_service',\n",
              "       'online_security', 'online_backup', 'device_protection', 'tech_support',\n",
              "       'streaming_tv', 'streaming_movies', 'multiple_lines'],\n",
              "      dtype='object')"
            ]
          },
          "execution_count": 38,
          "metadata": {},
          "output_type": "execute_result"
        }
      ],
      "execution_count": 38
    },
    {
      "id": "2d222657",
      "cell_type": "markdown",
      "source": "Остальные столбцы оставим и проведём с ними исследовательский анализ.",
      "metadata": {}
    },
    {
      "id": "a1c0c0c4",
      "cell_type": "markdown",
      "source": "Посмотрим на распределение данных:",
      "metadata": {}
    },
    {
      "id": "a1c48392",
      "cell_type": "code",
      "source": "plt.rcParams['font.size'] = 10",
      "metadata": {},
      "outputs": [],
      "execution_count": 39
    },
    {
      "id": "e93b5522",
      "cell_type": "code",
      "source": "_ = merged_df.hist()",
      "metadata": {},
      "outputs": [
        {
          "data": {
            "image/png": "[encoded data removed]",
            "text/plain": [
              "<Figure size 864x576 with 6 Axes>"
            ]
          },
          "metadata": {},
          "output_type": "display_data"
        }
      ],
      "execution_count": 40
    },
    {
      "id": "cea659c5",
      "cell_type": "code",
      "source": "merged_df.describe()",
      "metadata": {},
      "outputs": [
        {
          "data": {
            "text/html": [
              "<div>\n",
              "<style scoped>\n",
              "    .dataframe tbody tr th:only-of-type {\n",
              "        vertical-align: middle;\n",
              "    }\n",
              "\n",
              "    .dataframe tbody tr th {\n",
              "        vertical-align: top;\n",
              "    }\n",
              "\n",
              "    .dataframe thead th {\n",
              "        text-align: right;\n",
              "    }\n",
              "</style>\n",
              "<table border=\"1\" class=\"dataframe\">\n",
              "  <thead>\n",
              "    <tr style=\"text-align: right;\">\n",
              "      <th></th>\n",
              "      <th>monthly_charges</th>\n",
              "      <th>total_charges</th>\n",
              "      <th>days_diff</th>\n",
              "      <th>senior_citizen</th>\n",
              "    </tr>\n",
              "  </thead>\n",
              "  <tbody>\n",
              "    <tr>\n",
              "      <th>count</th>\n",
              "      <td>7032.000000</td>\n",
              "      <td>7032.000000</td>\n",
              "      <td>7032.000000</td>\n",
              "      <td>7032.000000</td>\n",
              "    </tr>\n",
              "    <tr>\n",
              "      <th>mean</th>\n",
              "      <td>64.798208</td>\n",
              "      <td>2118.621822</td>\n",
              "      <td>874.658419</td>\n",
              "      <td>0.162400</td>\n",
              "    </tr>\n",
              "    <tr>\n",
              "      <th>std</th>\n",
              "      <td>30.085974</td>\n",
              "      <td>2112.736199</td>\n",
              "      <td>682.997127</td>\n",
              "      <td>0.368844</td>\n",
              "    </tr>\n",
              "    <tr>\n",
              "      <th>min</th>\n",
              "      <td>18.250000</td>\n",
              "      <td>19.050000</td>\n",
              "      <td>1.000000</td>\n",
              "      <td>0.000000</td>\n",
              "    </tr>\n",
              "    <tr>\n",
              "      <th>25%</th>\n",
              "      <td>35.587500</td>\n",
              "      <td>439.745000</td>\n",
              "      <td>246.000000</td>\n",
              "      <td>0.000000</td>\n",
              "    </tr>\n",
              "    <tr>\n",
              "      <th>50%</th>\n",
              "      <td>70.350000</td>\n",
              "      <td>1345.275000</td>\n",
              "      <td>731.000000</td>\n",
              "      <td>0.000000</td>\n",
              "    </tr>\n",
              "    <tr>\n",
              "      <th>75%</th>\n",
              "      <td>89.862500</td>\n",
              "      <td>3239.317500</td>\n",
              "      <td>1431.000000</td>\n",
              "      <td>0.000000</td>\n",
              "    </tr>\n",
              "    <tr>\n",
              "      <th>max</th>\n",
              "      <td>118.750000</td>\n",
              "      <td>9221.380000</td>\n",
              "      <td>2284.000000</td>\n",
              "      <td>1.000000</td>\n",
              "    </tr>\n",
              "  </tbody>\n",
              "</table>\n",
              "</div>"
            ],
            "text/plain": [
              "       monthly_charges  total_charges    days_diff  senior_citizen\n",
              "count      7032.000000    7032.000000  7032.000000     7032.000000\n",
              "mean         64.798208    2118.621822   874.658419        0.162400\n",
              "std          30.085974    2112.736199   682.997127        0.368844\n",
              "min          18.250000      19.050000     1.000000        0.000000\n",
              "25%          35.587500     439.745000   246.000000        0.000000\n",
              "50%          70.350000    1345.275000   731.000000        0.000000\n",
              "75%          89.862500    3239.317500  1431.000000        0.000000\n",
              "max         118.750000    9221.380000  2284.000000        1.000000"
            ]
          },
          "execution_count": 41,
          "metadata": {},
          "output_type": "execute_result"
        }
      ],
      "execution_count": 41
    },
    {
      "id": "cbafb158",
      "cell_type": "markdown",
      "source": "Видно, что:\n* В основном клиенты пользуются услугами недавно (до 250 дней)\n* Свыше 6_000 клиентов ( > 85%) не перестали пользоваться услугами на период сборки датасета\n* Большинство клиентов - не пенсионеры\n* Большинство клиентов - не ушло, а количество ушедших больше всего было в 2018 году\n  \nНа примере с пенсионерами и выплатами виден чёткий дисбаланс классов; он нам не помешает, т.к. качество финальной модели мы будем оценивать метрикой `AUC-ROC`, а она не чувствительна к дисбалансу.",
      "metadata": {}
    },
    {
      "id": "6d03d5bf",
      "cell_type": "markdown",
      "source": "**Обработаем пропуски:**",
      "metadata": {}
    },
    {
      "id": "353b80b4",
      "cell_type": "code",
      "source": "merged_df",
      "metadata": {},
      "outputs": [
        {
          "data": {
            "text/html": [
              "<div>\n",
              "<style scoped>\n",
              "    .dataframe tbody tr th:only-of-type {\n",
              "        vertical-align: middle;\n",
              "    }\n",
              "\n",
              "    .dataframe tbody tr th {\n",
              "        vertical-align: top;\n",
              "    }\n",
              "\n",
              "    .dataframe thead th {\n",
              "        text-align: right;\n",
              "    }\n",
              "</style>\n",
              "<table border=\"1\" class=\"dataframe\">\n",
              "  <thead>\n",
              "    <tr style=\"text-align: right;\">\n",
              "      <th></th>\n",
              "      <th>end_date</th>\n",
              "      <th>type</th>\n",
              "      <th>paperless_billing</th>\n",
              "      <th>payment_method</th>\n",
              "      <th>monthly_charges</th>\n",
              "      <th>total_charges</th>\n",
              "      <th>days_diff</th>\n",
              "      <th>gender</th>\n",
              "      <th>senior_citizen</th>\n",
              "      <th>partner</th>\n",
              "      <th>dependents</th>\n",
              "      <th>internet_service</th>\n",
              "      <th>online_security</th>\n",
              "      <th>online_backup</th>\n",
              "      <th>device_protection</th>\n",
              "      <th>tech_support</th>\n",
              "      <th>streaming_tv</th>\n",
              "      <th>streaming_movies</th>\n",
              "      <th>multiple_lines</th>\n",
              "    </tr>\n",
              "  </thead>\n",
              "  <tbody>\n",
              "    <tr>\n",
              "      <th>0</th>\n",
              "      <td>2020-01-02</td>\n",
              "      <td>Two year</td>\n",
              "      <td>No</td>\n",
              "      <td>Electronic check</td>\n",
              "      <td>59.00</td>\n",
              "      <td>3717.00</td>\n",
              "      <td>1888</td>\n",
              "      <td>Male</td>\n",
              "      <td>0</td>\n",
              "      <td>Yes</td>\n",
              "      <td>Yes</td>\n",
              "      <td>DSL</td>\n",
              "      <td>Yes</td>\n",
              "      <td>Yes</td>\n",
              "      <td>Yes</td>\n",
              "      <td>No</td>\n",
              "      <td>Yes</td>\n",
              "      <td>Yes</td>\n",
              "      <td>NaN</td>\n",
              "    </tr>\n",
              "    <tr>\n",
              "      <th>1</th>\n",
              "      <td>2020-01-02</td>\n",
              "      <td>Two year</td>\n",
              "      <td>No</td>\n",
              "      <td>Mailed check</td>\n",
              "      <td>67.85</td>\n",
              "      <td>5000.55</td>\n",
              "      <td>2011</td>\n",
              "      <td>Male</td>\n",
              "      <td>0</td>\n",
              "      <td>Yes</td>\n",
              "      <td>Yes</td>\n",
              "      <td>DSL</td>\n",
              "      <td>Yes</td>\n",
              "      <td>No</td>\n",
              "      <td>Yes</td>\n",
              "      <td>Yes</td>\n",
              "      <td>No</td>\n",
              "      <td>Yes</td>\n",
              "      <td>No</td>\n",
              "    </tr>\n",
              "    <tr>\n",
              "      <th>2</th>\n",
              "      <td>2020-01-02</td>\n",
              "      <td>Month-to-month</td>\n",
              "      <td>Yes</td>\n",
              "      <td>Mailed check</td>\n",
              "      <td>50.30</td>\n",
              "      <td>102.61</td>\n",
              "      <td>32</td>\n",
              "      <td>Male</td>\n",
              "      <td>0</td>\n",
              "      <td>No</td>\n",
              "      <td>No</td>\n",
              "      <td>DSL</td>\n",
              "      <td>No</td>\n",
              "      <td>Yes</td>\n",
              "      <td>No</td>\n",
              "      <td>No</td>\n",
              "      <td>No</td>\n",
              "      <td>No</td>\n",
              "      <td>No</td>\n",
              "    </tr>\n",
              "    <tr>\n",
              "      <th>3</th>\n",
              "      <td>2018-09-01</td>\n",
              "      <td>Month-to-month</td>\n",
              "      <td>Yes</td>\n",
              "      <td>Electronic check</td>\n",
              "      <td>85.10</td>\n",
              "      <td>595.70</td>\n",
              "      <td>212</td>\n",
              "      <td>Male</td>\n",
              "      <td>0</td>\n",
              "      <td>Yes</td>\n",
              "      <td>No</td>\n",
              "      <td>Fiber optic</td>\n",
              "      <td>No</td>\n",
              "      <td>No</td>\n",
              "      <td>No</td>\n",
              "      <td>No</td>\n",
              "      <td>No</td>\n",
              "      <td>Yes</td>\n",
              "      <td>Yes</td>\n",
              "    </tr>\n",
              "    <tr>\n",
              "      <th>4</th>\n",
              "      <td>2020-01-02</td>\n",
              "      <td>One year</td>\n",
              "      <td>No</td>\n",
              "      <td>Mailed check</td>\n",
              "      <td>55.15</td>\n",
              "      <td>724.12</td>\n",
              "      <td>366</td>\n",
              "      <td>Female</td>\n",
              "      <td>0</td>\n",
              "      <td>No</td>\n",
              "      <td>No</td>\n",
              "      <td>DSL</td>\n",
              "      <td>Yes</td>\n",
              "      <td>No</td>\n",
              "      <td>No</td>\n",
              "      <td>Yes</td>\n",
              "      <td>No</td>\n",
              "      <td>No</td>\n",
              "      <td>No</td>\n",
              "    </tr>\n",
              "    <tr>\n",
              "      <th>...</th>\n",
              "      <td>...</td>\n",
              "      <td>...</td>\n",
              "      <td>...</td>\n",
              "      <td>...</td>\n",
              "      <td>...</td>\n",
              "      <td>...</td>\n",
              "      <td>...</td>\n",
              "      <td>...</td>\n",
              "      <td>...</td>\n",
              "      <td>...</td>\n",
              "      <td>...</td>\n",
              "      <td>...</td>\n",
              "      <td>...</td>\n",
              "      <td>...</td>\n",
              "      <td>...</td>\n",
              "      <td>...</td>\n",
              "      <td>...</td>\n",
              "      <td>...</td>\n",
              "      <td>...</td>\n",
              "    </tr>\n",
              "    <tr>\n",
              "      <th>7027</th>\n",
              "      <td>2020-01-02</td>\n",
              "      <td>Month-to-month</td>\n",
              "      <td>Yes</td>\n",
              "      <td>Mailed check</td>\n",
              "      <td>83.90</td>\n",
              "      <td>444.67</td>\n",
              "      <td>123</td>\n",
              "      <td>Female</td>\n",
              "      <td>1</td>\n",
              "      <td>Yes</td>\n",
              "      <td>No</td>\n",
              "      <td>Fiber optic</td>\n",
              "      <td>No</td>\n",
              "      <td>No</td>\n",
              "      <td>No</td>\n",
              "      <td>Yes</td>\n",
              "      <td>Yes</td>\n",
              "      <td>No</td>\n",
              "      <td>No</td>\n",
              "    </tr>\n",
              "    <tr>\n",
              "      <th>7028</th>\n",
              "      <td>2020-01-02</td>\n",
              "      <td>Month-to-month</td>\n",
              "      <td>Yes</td>\n",
              "      <td>Electronic check</td>\n",
              "      <td>98.00</td>\n",
              "      <td>1372.00</td>\n",
              "      <td>397</td>\n",
              "      <td>Male</td>\n",
              "      <td>1</td>\n",
              "      <td>Yes</td>\n",
              "      <td>No</td>\n",
              "      <td>Fiber optic</td>\n",
              "      <td>No</td>\n",
              "      <td>Yes</td>\n",
              "      <td>Yes</td>\n",
              "      <td>No</td>\n",
              "      <td>Yes</td>\n",
              "      <td>Yes</td>\n",
              "      <td>No</td>\n",
              "    </tr>\n",
              "    <tr>\n",
              "      <th>7029</th>\n",
              "      <td>2020-01-02</td>\n",
              "      <td>Month-to-month</td>\n",
              "      <td>Yes</td>\n",
              "      <td>Electronic check</td>\n",
              "      <td>73.90</td>\n",
              "      <td>406.45</td>\n",
              "      <td>123</td>\n",
              "      <td>Male</td>\n",
              "      <td>0</td>\n",
              "      <td>No</td>\n",
              "      <td>No</td>\n",
              "      <td>Fiber optic</td>\n",
              "      <td>No</td>\n",
              "      <td>No</td>\n",
              "      <td>Yes</td>\n",
              "      <td>No</td>\n",
              "      <td>No</td>\n",
              "      <td>No</td>\n",
              "      <td>No</td>\n",
              "    </tr>\n",
              "    <tr>\n",
              "      <th>7030</th>\n",
              "      <td>2020-01-02</td>\n",
              "      <td>Month-to-month</td>\n",
              "      <td>No</td>\n",
              "      <td>Mailed check</td>\n",
              "      <td>59.90</td>\n",
              "      <td>539.10</td>\n",
              "      <td>246</td>\n",
              "      <td>Male</td>\n",
              "      <td>0</td>\n",
              "      <td>No</td>\n",
              "      <td>No</td>\n",
              "      <td>DSL</td>\n",
              "      <td>No</td>\n",
              "      <td>No</td>\n",
              "      <td>No</td>\n",
              "      <td>No</td>\n",
              "      <td>No</td>\n",
              "      <td>Yes</td>\n",
              "      <td>Yes</td>\n",
              "    </tr>\n",
              "    <tr>\n",
              "      <th>7031</th>\n",
              "      <td>2020-01-02</td>\n",
              "      <td>One year</td>\n",
              "      <td>Yes</td>\n",
              "      <td>Mailed check</td>\n",
              "      <td>65.60</td>\n",
              "      <td>631.73</td>\n",
              "      <td>246</td>\n",
              "      <td>Female</td>\n",
              "      <td>0</td>\n",
              "      <td>Yes</td>\n",
              "      <td>Yes</td>\n",
              "      <td>DSL</td>\n",
              "      <td>No</td>\n",
              "      <td>Yes</td>\n",
              "      <td>No</td>\n",
              "      <td>Yes</td>\n",
              "      <td>Yes</td>\n",
              "      <td>No</td>\n",
              "      <td>No</td>\n",
              "    </tr>\n",
              "  </tbody>\n",
              "</table>\n",
              "<p>7032 rows × 19 columns</p>\n",
              "</div>"
            ],
            "text/plain": [
              "       end_date            type paperless_billing    payment_method  \\\n",
              "0    2020-01-02        Two year                No  Electronic check   \n",
              "1    2020-01-02        Two year                No      Mailed check   \n",
              "2    2020-01-02  Month-to-month               Yes      Mailed check   \n",
              "3    2018-09-01  Month-to-month               Yes  Electronic check   \n",
              "4    2020-01-02        One year                No      Mailed check   \n",
              "...         ...             ...               ...               ...   \n",
              "7027 2020-01-02  Month-to-month               Yes      Mailed check   \n",
              "7028 2020-01-02  Month-to-month               Yes  Electronic check   \n",
              "7029 2020-01-02  Month-to-month               Yes  Electronic check   \n",
              "7030 2020-01-02  Month-to-month                No      Mailed check   \n",
              "7031 2020-01-02        One year               Yes      Mailed check   \n",
              "\n",
              "      monthly_charges  total_charges  days_diff  gender  senior_citizen  \\\n",
              "0               59.00        3717.00       1888    Male               0   \n",
              "1               67.85        5000.55       2011    Male               0   \n",
              "2               50.30         102.61         32    Male               0   \n",
              "3               85.10         595.70        212    Male               0   \n",
              "4               55.15         724.12        366  Female               0   \n",
              "...               ...            ...        ...     ...             ...   \n",
              "7027            83.90         444.67        123  Female               1   \n",
              "7028            98.00        1372.00        397    Male               1   \n",
              "7029            73.90         406.45        123    Male               0   \n",
              "7030            59.90         539.10        246    Male               0   \n",
              "7031            65.60         631.73        246  Female               0   \n",
              "\n",
              "     partner dependents internet_service online_security online_backup  \\\n",
              "0        Yes        Yes              DSL             Yes           Yes   \n",
              "1        Yes        Yes              DSL             Yes            No   \n",
              "2         No         No              DSL              No           Yes   \n",
              "3        Yes         No      Fiber optic              No            No   \n",
              "4         No         No              DSL             Yes            No   \n",
              "...      ...        ...              ...             ...           ...   \n",
              "7027     Yes         No      Fiber optic              No            No   \n",
              "7028     Yes         No      Fiber optic              No           Yes   \n",
              "7029      No         No      Fiber optic              No            No   \n",
              "7030      No         No              DSL              No            No   \n",
              "7031     Yes        Yes              DSL              No           Yes   \n",
              "\n",
              "     device_protection tech_support streaming_tv streaming_movies  \\\n",
              "0                  Yes           No          Yes              Yes   \n",
              "1                  Yes          Yes           No              Yes   \n",
              "2                   No           No           No               No   \n",
              "3                   No           No           No              Yes   \n",
              "4                   No          Yes           No               No   \n",
              "...                ...          ...          ...              ...   \n",
              "7027                No          Yes          Yes               No   \n",
              "7028               Yes           No          Yes              Yes   \n",
              "7029               Yes           No           No               No   \n",
              "7030                No           No           No              Yes   \n",
              "7031                No          Yes          Yes               No   \n",
              "\n",
              "     multiple_lines  \n",
              "0               NaN  \n",
              "1                No  \n",
              "2                No  \n",
              "3               Yes  \n",
              "4                No  \n",
              "...             ...  \n",
              "7027             No  \n",
              "7028             No  \n",
              "7029             No  \n",
              "7030            Yes  \n",
              "7031             No  \n",
              "\n",
              "[7032 rows x 19 columns]"
            ]
          },
          "execution_count": 42,
          "metadata": {},
          "output_type": "execute_result"
        }
      ],
      "execution_count": 42
    },
    {
      "id": "61b7601c",
      "cell_type": "code",
      "source": "for col in merged_df.columns: # процент пропусков\n        pct_missing = np.mean(merged_df[col].isnull())\n        print('{} - {}%'.format(col, round(pct_missing*100, 3)))",
      "metadata": {},
      "outputs": [
        {
          "name": "stdout",
          "output_type": "stream",
          "text": [
            "end_date - 0.0%\n",
            "type - 0.0%\n",
            "paperless_billing - 0.0%\n",
            "payment_method - 0.0%\n",
            "monthly_charges - 0.0%\n",
            "total_charges - 0.0%\n",
            "days_diff - 0.0%\n",
            "gender - 0.0%\n",
            "senior_citizen - 0.0%\n",
            "partner - 0.0%\n",
            "dependents - 0.0%\n",
            "internet_service - 21.615%\n",
            "online_security - 21.615%\n",
            "online_backup - 21.615%\n",
            "device_protection - 21.615%\n",
            "tech_support - 21.615%\n",
            "streaming_tv - 21.615%\n",
            "streaming_movies - 21.615%\n",
            "multiple_lines - 9.67%\n"
          ]
        }
      ],
      "execution_count": 45
    },
    {
      "id": "9c02bc5f",
      "cell_type": "markdown",
      "source": "Непонятно, как заполнять пропуски, поэтому, где данные похожи на бинарные (содержат только значения `Yes`, `No`), пропуски будем заполнять значением `No`, отталкиваясь от предположения, что пользователь не стал заполнять эту информацию, т.к. не мог дать положительный ответ (отсутствие услуги). В столбце же `internet_service` пропуски заполним значением `unkwn` (от англ. `Unknown`, неизвестный)",
      "metadata": {}
    },
    {
      "id": "21f9c38a",
      "cell_type": "code",
      "source": "merged_df['internet_service'] = merged_df['internet_service'].fillna('unkwn')",
      "metadata": {},
      "outputs": [],
      "execution_count": 46
    },
    {
      "id": "d2501dce",
      "cell_type": "code",
      "source": "merged_df['internet_service'].unique()",
      "metadata": {},
      "outputs": [
        {
          "data": {
            "text/plain": [
              "array(['DSL', 'Fiber optic', 'unkwn'], dtype=object)"
            ]
          },
          "execution_count": 47,
          "metadata": {},
          "output_type": "execute_result"
        }
      ],
      "execution_count": 47
    },
    {
      "id": "4c4171de",
      "cell_type": "code",
      "source": "merged_df['internet_service'].isna().sum()",
      "metadata": {},
      "outputs": [
        {
          "data": {
            "text/plain": [
              "0"
            ]
          },
          "execution_count": 48,
          "metadata": {},
          "output_type": "execute_result"
        }
      ],
      "execution_count": 48
    },
    {
      "id": "613de2ac",
      "cell_type": "code",
      "source": "columns = merged_df.columns[-7:]\ncolumns",
      "metadata": {},
      "outputs": [
        {
          "data": {
            "text/plain": [
              "Index(['online_security', 'online_backup', 'device_protection', 'tech_support',\n",
              "       'streaming_tv', 'streaming_movies', 'multiple_lines'],\n",
              "      dtype='object')"
            ]
          },
          "execution_count": 49,
          "metadata": {},
          "output_type": "execute_result"
        }
      ],
      "execution_count": 49
    },
    {
      "id": "6366c296",
      "cell_type": "code",
      "source": "for col in columns:\n    merged_df[col] = merged_df[col].fillna('No')\n    print(color.BOLD + col + color.END)\n    print('\\tunique:', merged_df[col].unique())\n    print('\\tNaN:', merged_df[col].isna().sum(), end='\\n\\n')",
      "metadata": {},
      "outputs": [
        {
          "name": "stdout",
          "output_type": "stream",
          "text": [
            "\u001b[1monline_security\u001b[0m\n",
            "\tunique: ['Yes' 'No']\n",
            "\tNaN: 0\n",
            "\n",
            "\u001b[1monline_backup\u001b[0m\n",
            "\tunique: ['Yes' 'No']\n",
            "\tNaN: 0\n",
            "\n",
            "\u001b[1mdevice_protection\u001b[0m\n",
            "\tunique: ['Yes' 'No']\n",
            "\tNaN: 0\n",
            "\n",
            "\u001b[1mtech_support\u001b[0m\n",
            "\tunique: ['No' 'Yes']\n",
            "\tNaN: 0\n",
            "\n",
            "\u001b[1mstreaming_tv\u001b[0m\n",
            "\tunique: ['Yes' 'No']\n",
            "\tNaN: 0\n",
            "\n",
            "\u001b[1mstreaming_movies\u001b[0m\n",
            "\tunique: ['Yes' 'No']\n",
            "\tNaN: 0\n",
            "\n",
            "\u001b[1mmultiple_lines\u001b[0m\n",
            "\tunique: ['No' 'Yes']\n",
            "\tNaN: 0\n",
            "\n"
          ]
        }
      ],
      "execution_count": 50
    },
    {
      "id": "517cf6c1",
      "cell_type": "markdown",
      "source": "**=>** Все пропуски заполнены корректно",
      "metadata": {}
    },
    {
      "id": "ed8da8f8",
      "cell_type": "markdown",
      "source": "Выделим целевой признак и разделим все данные на тренировочные и тестовы в соотношении 3:1\nЦелевым признаком является столбец `end_date`; закодируем его вручную",
      "metadata": {}
    },
    {
      "id": "93ec1f6b",
      "cell_type": "code",
      "source": "merged_df['is_client'] = (merged_df['end_date'] == '01-02-2020').astype(int)\nmerged_df = merged_df.drop('end_date', axis=1)",
      "metadata": {},
      "outputs": [],
      "execution_count": 51
    },
    {
      "id": "9c8c7e27",
      "cell_type": "code",
      "source": "merged_df.sample(10, random_state=RANDOM_SEED)",
      "metadata": {},
      "outputs": [
        {
          "data": {
            "text/html": [
              "<div>\n",
              "<style scoped>\n",
              "    .dataframe tbody tr th:only-of-type {\n",
              "        vertical-align: middle;\n",
              "    }\n",
              "\n",
              "    .dataframe tbody tr th {\n",
              "        vertical-align: top;\n",
              "    }\n",
              "\n",
              "    .dataframe thead th {\n",
              "        text-align: right;\n",
              "    }\n",
              "</style>\n",
              "<table border=\"1\" class=\"dataframe\">\n",
              "  <thead>\n",
              "    <tr style=\"text-align: right;\">\n",
              "      <th></th>\n",
              "      <th>type</th>\n",
              "      <th>paperless_billing</th>\n",
              "      <th>payment_method</th>\n",
              "      <th>monthly_charges</th>\n",
              "      <th>total_charges</th>\n",
              "      <th>days_diff</th>\n",
              "      <th>gender</th>\n",
              "      <th>senior_citizen</th>\n",
              "      <th>partner</th>\n",
              "      <th>dependents</th>\n",
              "      <th>internet_service</th>\n",
              "      <th>online_security</th>\n",
              "      <th>online_backup</th>\n",
              "      <th>device_protection</th>\n",
              "      <th>tech_support</th>\n",
              "      <th>streaming_tv</th>\n",
              "      <th>streaming_movies</th>\n",
              "      <th>multiple_lines</th>\n",
              "      <th>is_client</th>\n",
              "    </tr>\n",
              "  </thead>\n",
              "  <tbody>\n",
              "    <tr>\n",
              "      <th>6709</th>\n",
              "      <td>Two year</td>\n",
              "      <td>No</td>\n",
              "      <td>Credit card (automatic)</td>\n",
              "      <td>24.25</td>\n",
              "      <td>1868.22</td>\n",
              "      <td>2161</td>\n",
              "      <td>Female</td>\n",
              "      <td>0</td>\n",
              "      <td>Yes</td>\n",
              "      <td>Yes</td>\n",
              "      <td>unkwn</td>\n",
              "      <td>No</td>\n",
              "      <td>No</td>\n",
              "      <td>No</td>\n",
              "      <td>No</td>\n",
              "      <td>No</td>\n",
              "      <td>No</td>\n",
              "      <td>Yes</td>\n",
              "      <td>1</td>\n",
              "    </tr>\n",
              "    <tr>\n",
              "      <th>6340</th>\n",
              "      <td>Two year</td>\n",
              "      <td>Yes</td>\n",
              "      <td>Bank transfer (automatic)</td>\n",
              "      <td>74.35</td>\n",
              "      <td>4492.23</td>\n",
              "      <td>1707</td>\n",
              "      <td>Male</td>\n",
              "      <td>0</td>\n",
              "      <td>No</td>\n",
              "      <td>No</td>\n",
              "      <td>DSL</td>\n",
              "      <td>Yes</td>\n",
              "      <td>No</td>\n",
              "      <td>Yes</td>\n",
              "      <td>No</td>\n",
              "      <td>Yes</td>\n",
              "      <td>Yes</td>\n",
              "      <td>No</td>\n",
              "      <td>1</td>\n",
              "    </tr>\n",
              "    <tr>\n",
              "      <th>6473</th>\n",
              "      <td>Month-to-month</td>\n",
              "      <td>No</td>\n",
              "      <td>Electronic check</td>\n",
              "      <td>83.85</td>\n",
              "      <td>2263.95</td>\n",
              "      <td>792</td>\n",
              "      <td>Female</td>\n",
              "      <td>1</td>\n",
              "      <td>Yes</td>\n",
              "      <td>No</td>\n",
              "      <td>DSL</td>\n",
              "      <td>No</td>\n",
              "      <td>Yes</td>\n",
              "      <td>Yes</td>\n",
              "      <td>Yes</td>\n",
              "      <td>Yes</td>\n",
              "      <td>Yes</td>\n",
              "      <td>Yes</td>\n",
              "      <td>1</td>\n",
              "    </tr>\n",
              "    <tr>\n",
              "      <th>2235</th>\n",
              "      <td>Two year</td>\n",
              "      <td>No</td>\n",
              "      <td>Credit card (automatic)</td>\n",
              "      <td>19.40</td>\n",
              "      <td>314.28</td>\n",
              "      <td>456</td>\n",
              "      <td>Female</td>\n",
              "      <td>0</td>\n",
              "      <td>Yes</td>\n",
              "      <td>Yes</td>\n",
              "      <td>unkwn</td>\n",
              "      <td>No</td>\n",
              "      <td>No</td>\n",
              "      <td>No</td>\n",
              "      <td>No</td>\n",
              "      <td>No</td>\n",
              "      <td>No</td>\n",
              "      <td>No</td>\n",
              "      <td>0</td>\n",
              "    </tr>\n",
              "    <tr>\n",
              "      <th>2871</th>\n",
              "      <td>Month-to-month</td>\n",
              "      <td>Yes</td>\n",
              "      <td>Electronic check</td>\n",
              "      <td>50.15</td>\n",
              "      <td>309.93</td>\n",
              "      <td>154</td>\n",
              "      <td>Male</td>\n",
              "      <td>0</td>\n",
              "      <td>Yes</td>\n",
              "      <td>Yes</td>\n",
              "      <td>DSL</td>\n",
              "      <td>No</td>\n",
              "      <td>No</td>\n",
              "      <td>Yes</td>\n",
              "      <td>No</td>\n",
              "      <td>No</td>\n",
              "      <td>No</td>\n",
              "      <td>No</td>\n",
              "      <td>1</td>\n",
              "    </tr>\n",
              "    <tr>\n",
              "      <th>3592</th>\n",
              "      <td>Month-to-month</td>\n",
              "      <td>Yes</td>\n",
              "      <td>Electronic check</td>\n",
              "      <td>87.10</td>\n",
              "      <td>766.48</td>\n",
              "      <td>215</td>\n",
              "      <td>Female</td>\n",
              "      <td>1</td>\n",
              "      <td>No</td>\n",
              "      <td>No</td>\n",
              "      <td>Fiber optic</td>\n",
              "      <td>No</td>\n",
              "      <td>Yes</td>\n",
              "      <td>No</td>\n",
              "      <td>No</td>\n",
              "      <td>Yes</td>\n",
              "      <td>No</td>\n",
              "      <td>No</td>\n",
              "      <td>1</td>\n",
              "    </tr>\n",
              "    <tr>\n",
              "      <th>2323</th>\n",
              "      <td>One year</td>\n",
              "      <td>No</td>\n",
              "      <td>Credit card (automatic)</td>\n",
              "      <td>110.45</td>\n",
              "      <td>3313.50</td>\n",
              "      <td>884</td>\n",
              "      <td>Female</td>\n",
              "      <td>0</td>\n",
              "      <td>No</td>\n",
              "      <td>No</td>\n",
              "      <td>Fiber optic</td>\n",
              "      <td>No</td>\n",
              "      <td>Yes</td>\n",
              "      <td>Yes</td>\n",
              "      <td>Yes</td>\n",
              "      <td>Yes</td>\n",
              "      <td>Yes</td>\n",
              "      <td>Yes</td>\n",
              "      <td>1</td>\n",
              "    </tr>\n",
              "    <tr>\n",
              "      <th>6671</th>\n",
              "      <td>Two year</td>\n",
              "      <td>Yes</td>\n",
              "      <td>Electronic check</td>\n",
              "      <td>114.60</td>\n",
              "      <td>8182.44</td>\n",
              "      <td>2102</td>\n",
              "      <td>Male</td>\n",
              "      <td>0</td>\n",
              "      <td>No</td>\n",
              "      <td>Yes</td>\n",
              "      <td>Fiber optic</td>\n",
              "      <td>Yes</td>\n",
              "      <td>Yes</td>\n",
              "      <td>Yes</td>\n",
              "      <td>Yes</td>\n",
              "      <td>Yes</td>\n",
              "      <td>Yes</td>\n",
              "      <td>Yes</td>\n",
              "      <td>1</td>\n",
              "    </tr>\n",
              "    <tr>\n",
              "      <th>4453</th>\n",
              "      <td>Month-to-month</td>\n",
              "      <td>Yes</td>\n",
              "      <td>Credit card (automatic)</td>\n",
              "      <td>19.65</td>\n",
              "      <td>98.25</td>\n",
              "      <td>123</td>\n",
              "      <td>Female</td>\n",
              "      <td>0</td>\n",
              "      <td>No</td>\n",
              "      <td>No</td>\n",
              "      <td>unkwn</td>\n",
              "      <td>No</td>\n",
              "      <td>No</td>\n",
              "      <td>No</td>\n",
              "      <td>No</td>\n",
              "      <td>No</td>\n",
              "      <td>No</td>\n",
              "      <td>No</td>\n",
              "      <td>1</td>\n",
              "    </tr>\n",
              "    <tr>\n",
              "      <th>3046</th>\n",
              "      <td>Month-to-month</td>\n",
              "      <td>Yes</td>\n",
              "      <td>Bank transfer (automatic)</td>\n",
              "      <td>64.50</td>\n",
              "      <td>193.50</td>\n",
              "      <td>62</td>\n",
              "      <td>Female</td>\n",
              "      <td>0</td>\n",
              "      <td>No</td>\n",
              "      <td>Yes</td>\n",
              "      <td>DSL</td>\n",
              "      <td>Yes</td>\n",
              "      <td>No</td>\n",
              "      <td>No</td>\n",
              "      <td>Yes</td>\n",
              "      <td>No</td>\n",
              "      <td>Yes</td>\n",
              "      <td>No</td>\n",
              "      <td>1</td>\n",
              "    </tr>\n",
              "  </tbody>\n",
              "</table>\n",
              "</div>"
            ],
            "text/plain": [
              "                type paperless_billing             payment_method  \\\n",
              "6709        Two year                No    Credit card (automatic)   \n",
              "6340        Two year               Yes  Bank transfer (automatic)   \n",
              "6473  Month-to-month                No           Electronic check   \n",
              "2235        Two year                No    Credit card (automatic)   \n",
              "2871  Month-to-month               Yes           Electronic check   \n",
              "3592  Month-to-month               Yes           Electronic check   \n",
              "2323        One year                No    Credit card (automatic)   \n",
              "6671        Two year               Yes           Electronic check   \n",
              "4453  Month-to-month               Yes    Credit card (automatic)   \n",
              "3046  Month-to-month               Yes  Bank transfer (automatic)   \n",
              "\n",
              "      monthly_charges  total_charges  days_diff  gender  senior_citizen  \\\n",
              "6709            24.25        1868.22       2161  Female               0   \n",
              "6340            74.35        4492.23       1707    Male               0   \n",
              "6473            83.85        2263.95        792  Female               1   \n",
              "2235            19.40         314.28        456  Female               0   \n",
              "2871            50.15         309.93        154    Male               0   \n",
              "3592            87.10         766.48        215  Female               1   \n",
              "2323           110.45        3313.50        884  Female               0   \n",
              "6671           114.60        8182.44       2102    Male               0   \n",
              "4453            19.65          98.25        123  Female               0   \n",
              "3046            64.50         193.50         62  Female               0   \n",
              "\n",
              "     partner dependents internet_service online_security online_backup  \\\n",
              "6709     Yes        Yes            unkwn              No            No   \n",
              "6340      No         No              DSL             Yes            No   \n",
              "6473     Yes         No              DSL              No           Yes   \n",
              "2235     Yes        Yes            unkwn              No            No   \n",
              "2871     Yes        Yes              DSL              No            No   \n",
              "3592      No         No      Fiber optic              No           Yes   \n",
              "2323      No         No      Fiber optic              No           Yes   \n",
              "6671      No        Yes      Fiber optic             Yes           Yes   \n",
              "4453      No         No            unkwn              No            No   \n",
              "3046      No        Yes              DSL             Yes            No   \n",
              "\n",
              "     device_protection tech_support streaming_tv streaming_movies  \\\n",
              "6709                No           No           No               No   \n",
              "6340               Yes           No          Yes              Yes   \n",
              "6473               Yes          Yes          Yes              Yes   \n",
              "2235                No           No           No               No   \n",
              "2871               Yes           No           No               No   \n",
              "3592                No           No          Yes               No   \n",
              "2323               Yes          Yes          Yes              Yes   \n",
              "6671               Yes          Yes          Yes              Yes   \n",
              "4453                No           No           No               No   \n",
              "3046                No          Yes           No              Yes   \n",
              "\n",
              "     multiple_lines  is_client  \n",
              "6709            Yes          1  \n",
              "6340             No          1  \n",
              "6473            Yes          1  \n",
              "2235             No          0  \n",
              "2871             No          1  \n",
              "3592             No          1  \n",
              "2323            Yes          1  \n",
              "6671            Yes          1  \n",
              "4453             No          1  \n",
              "3046             No          1  "
            ]
          },
          "execution_count": 52,
          "metadata": {},
          "output_type": "execute_result"
        }
      ],
      "execution_count": 52
    },
    {
      "id": "3ff73ba7",
      "cell_type": "markdown",
      "source": "Разделим столбцы на строковые и числовые:",
      "metadata": {}
    },
    {
      "id": "7fe7e50d",
      "cell_type": "code",
      "source": "enc_columns = []\nnum_columns = []\nfor col in merged_df.columns:\n    if merged_df[col].dtype == 'O':\n        enc_columns.append(col)\n    else:\n        num_columns.append(col)",
      "metadata": {},
      "outputs": [],
      "execution_count": 53
    },
    {
      "id": "88db770e",
      "cell_type": "code",
      "source": "num_columns",
      "metadata": {},
      "outputs": [
        {
          "data": {
            "text/plain": [
              "['monthly_charges',\n",
              " 'total_charges',\n",
              " 'days_diff',\n",
              " 'senior_citizen',\n",
              " 'is_client']"
            ]
          },
          "execution_count": 54,
          "metadata": {},
          "output_type": "execute_result"
        }
      ],
      "execution_count": 54
    },
    {
      "id": "10d91c51",
      "cell_type": "code",
      "source": "enc_columns",
      "metadata": {},
      "outputs": [
        {
          "data": {
            "text/plain": [
              "['type',\n",
              " 'paperless_billing',\n",
              " 'payment_method',\n",
              " 'gender',\n",
              " 'partner',\n",
              " 'dependents',\n",
              " 'internet_service',\n",
              " 'online_security',\n",
              " 'online_backup',\n",
              " 'device_protection',\n",
              " 'tech_support',\n",
              " 'streaming_tv',\n",
              " 'streaming_movies',\n",
              " 'multiple_lines']"
            ]
          },
          "execution_count": 55,
          "metadata": {},
          "output_type": "execute_result"
        }
      ],
      "execution_count": 55
    },
    {
      "id": "f8a91018",
      "cell_type": "code",
      "source": "phik_corr_matrix = phik_matrix(merged_df, interval_cols=num_columns)\n\nsns.heatmap(phik_corr_matrix, annot=True, cmap=\"YlGnBu\")\n_ = plt.show()",
      "metadata": {},
      "outputs": [
        {
          "data": {
            "image/png": "[encoded data removed]",
            "text/plain": [
              "<Figure size 864x576 with 2 Axes>"
            ]
          },
          "metadata": {},
          "output_type": "display_data"
        }
      ],
      "execution_count": 56
    },
    {
      "id": "4165a7c8",
      "cell_type": "markdown",
      "source": "Из матрицы корреляций Фай-Фулкерсона видно, что данные о гендере (столбец `gender`) почти никак не коррелируют со всеми остальными: его можно сбросить. Такие же размышления применимы и к столбцам `senior_citizen`, `dependents`.",
      "metadata": {}
    },
    {
      "id": "7e2270bd",
      "cell_type": "markdown",
      "source": "## Подготовка данных",
      "metadata": {}
    },
    {
      "id": "dcdc22a9",
      "cell_type": "code",
      "source": "# Добавление нового столбца на основе существующего\nmerged_df['is_senior'] = merged_df['senior_citizen'].apply(lambda x: 'Yes' if x == 1 else 'No')\n\n# Вывод DataFrame с новым столбцом\nmerged_df[['is_senior', 'senior_citizen']]\n",
      "metadata": {},
      "outputs": [
        {
          "data": {
            "text/html": [
              "<div>\n",
              "<style scoped>\n",
              "    .dataframe tbody tr th:only-of-type {\n",
              "        vertical-align: middle;\n",
              "    }\n",
              "\n",
              "    .dataframe tbody tr th {\n",
              "        vertical-align: top;\n",
              "    }\n",
              "\n",
              "    .dataframe thead th {\n",
              "        text-align: right;\n",
              "    }\n",
              "</style>\n",
              "<table border=\"1\" class=\"dataframe\">\n",
              "  <thead>\n",
              "    <tr style=\"text-align: right;\">\n",
              "      <th></th>\n",
              "      <th>is_senior</th>\n",
              "      <th>senior_citizen</th>\n",
              "    </tr>\n",
              "  </thead>\n",
              "  <tbody>\n",
              "    <tr>\n",
              "      <th>0</th>\n",
              "      <td>No</td>\n",
              "      <td>0</td>\n",
              "    </tr>\n",
              "    <tr>\n",
              "      <th>1</th>\n",
              "      <td>No</td>\n",
              "      <td>0</td>\n",
              "    </tr>\n",
              "    <tr>\n",
              "      <th>2</th>\n",
              "      <td>No</td>\n",
              "      <td>0</td>\n",
              "    </tr>\n",
              "    <tr>\n",
              "      <th>3</th>\n",
              "      <td>No</td>\n",
              "      <td>0</td>\n",
              "    </tr>\n",
              "    <tr>\n",
              "      <th>4</th>\n",
              "      <td>No</td>\n",
              "      <td>0</td>\n",
              "    </tr>\n",
              "    <tr>\n",
              "      <th>...</th>\n",
              "      <td>...</td>\n",
              "      <td>...</td>\n",
              "    </tr>\n",
              "    <tr>\n",
              "      <th>7027</th>\n",
              "      <td>Yes</td>\n",
              "      <td>1</td>\n",
              "    </tr>\n",
              "    <tr>\n",
              "      <th>7028</th>\n",
              "      <td>Yes</td>\n",
              "      <td>1</td>\n",
              "    </tr>\n",
              "    <tr>\n",
              "      <th>7029</th>\n",
              "      <td>No</td>\n",
              "      <td>0</td>\n",
              "    </tr>\n",
              "    <tr>\n",
              "      <th>7030</th>\n",
              "      <td>No</td>\n",
              "      <td>0</td>\n",
              "    </tr>\n",
              "    <tr>\n",
              "      <th>7031</th>\n",
              "      <td>No</td>\n",
              "      <td>0</td>\n",
              "    </tr>\n",
              "  </tbody>\n",
              "</table>\n",
              "<p>7032 rows × 2 columns</p>\n",
              "</div>"
            ],
            "text/plain": [
              "     is_senior  senior_citizen\n",
              "0           No               0\n",
              "1           No               0\n",
              "2           No               0\n",
              "3           No               0\n",
              "4           No               0\n",
              "...        ...             ...\n",
              "7027       Yes               1\n",
              "7028       Yes               1\n",
              "7029        No               0\n",
              "7030        No               0\n",
              "7031        No               0\n",
              "\n",
              "[7032 rows x 2 columns]"
            ]
          },
          "execution_count": 58,
          "metadata": {},
          "output_type": "execute_result"
        }
      ],
      "execution_count": 58
    },
    {
      "id": "afed060b",
      "cell_type": "code",
      "source": "merged_df = merged_df.drop(columns='senior_citizen', axis=1)",
      "metadata": {},
      "outputs": [],
      "execution_count": 59
    },
    {
      "id": "2f4a42b1",
      "cell_type": "markdown",
      "source": "**Масштабируем** числовые данные:",
      "metadata": {}
    },
    {
      "id": "06cd4328",
      "cell_type": "markdown",
      "source": "Выкинем столбец с целевым признаком:",
      "metadata": {}
    },
    {
      "id": "e68b42f8",
      "cell_type": "code",
      "source": "enc_columns = []\nnum_columns = []\nfor col in merged_df.columns:\n    if merged_df[col].dtype == 'O':\n        enc_columns.append(col)\n    else:\n        num_columns.append(col)",
      "metadata": {},
      "outputs": [],
      "execution_count": 60
    },
    {
      "id": "55457f45",
      "cell_type": "code",
      "source": "num_columns.remove('is_client')",
      "metadata": {},
      "outputs": [],
      "execution_count": 61
    },
    {
      "id": "d54bf3c7",
      "cell_type": "code",
      "source": "num_columns",
      "metadata": {
        "scrolled": true
      },
      "outputs": [
        {
          "data": {
            "text/plain": [
              "['monthly_charges', 'total_charges', 'days_diff']"
            ]
          },
          "execution_count": 62,
          "metadata": {},
          "output_type": "execute_result"
        }
      ],
      "execution_count": 62
    },
    {
      "id": "294f53b8",
      "cell_type": "code",
      "source": "enc_columns",
      "metadata": {},
      "outputs": [
        {
          "data": {
            "text/plain": [
              "['type',\n",
              " 'paperless_billing',\n",
              " 'payment_method',\n",
              " 'gender',\n",
              " 'partner',\n",
              " 'dependents',\n",
              " 'internet_service',\n",
              " 'online_security',\n",
              " 'online_backup',\n",
              " 'device_protection',\n",
              " 'tech_support',\n",
              " 'streaming_tv',\n",
              " 'streaming_movies',\n",
              " 'multiple_lines',\n",
              " 'is_senior']"
            ]
          },
          "execution_count": 63,
          "metadata": {},
          "output_type": "execute_result"
        }
      ],
      "execution_count": 63
    },
    {
      "id": "90b92709",
      "cell_type": "markdown",
      "source": "Выделим целевой признак, а также тренировочную и тестовую выборки:",
      "metadata": {}
    },
    {
      "id": "ed56c0b6",
      "cell_type": "code",
      "source": "target = merged_df['is_client']\nfeatures = merged_df.drop('is_client', axis=1)",
      "metadata": {},
      "outputs": [],
      "execution_count": 64
    },
    {
      "id": "52213a28",
      "cell_type": "code",
      "source": "features_train, features_test, target_train, target_test = train_test_split(features, target, test_size=0.25,\n                                                                            random_state=RANDOM_SEED)",
      "metadata": {},
      "outputs": [],
      "execution_count": 65
    },
    {
      "id": "103e5d49",
      "cell_type": "code",
      "source": "#кодирование данных\n\n# Splitting the dataset into the Training set and Test set\nX_train, X_test, y_train, y_test = train_test_split(features, target, test_size=0.25, random_state=RANDOM_SEED)\n\n# Identifying numeric and categorical features\nnumeric_features = X_train.select_dtypes(include=['int64', 'float64']).columns\ncategorical_features = X_train.select_dtypes(include=['object']).columns\n\n# Creating transformers for the preprocessing pipeline\nnumeric_transformer = Pipeline(steps=[\n    ('scaler', StandardScaler())  # Scaling numeric features\n])\n\ncategorical_transformer = Pipeline(steps=[\n    ('onehot', OneHotEncoder(drop='first'))  # One-hot encoding categorical features, dropping the first column\n])\n\n# Combining transformers into a ColumnTransformer\npreprocessor = ColumnTransformer(\n    transformers=[\n        ('num', numeric_transformer, numeric_features),\n        ('cat', categorical_transformer, categorical_features)\n    ])\n\n# Applying the transformations to the training and test sets\nX_train_transformed = preprocessor.fit_transform(X_train)\nX_test_transformed = preprocessor.transform(X_test)\n\n# Extracting new column names for the transformed features\nnew_numeric_features = numeric_features.tolist()\n# new_categorical_features = preprocessor.named_transformers_['cat'].get_feature_names_out(categorical_features)\nnew_categorical_features = preprocessor.named_transformers_['cat'].named_steps['onehot'].get_feature_names_out()\n\n# Combining all new feature names\nall_new_features = new_numeric_features + new_categorical_features.tolist()\n\n# Convert the transformed features back to DataFrame for readability (optional)\nX_train_transformed_df = pd.DataFrame(X_train_transformed, columns=all_new_features, index=X_train.index)\nX_test_transformed_df = pd.DataFrame(X_test_transformed, columns=all_new_features, index=X_test.index)",
      "metadata": {},
      "outputs": [],
      "execution_count": 66
    },
    {
      "id": "33509a56",
      "cell_type": "markdown",
      "source": "**=>** Данные разделены и предобработаны корректно",
      "metadata": {}
    },
    {
      "id": "9b3633dd",
      "cell_type": "code",
      "source": "scaler = StandardScaler()",
      "metadata": {},
      "outputs": [],
      "execution_count": 67
    },
    {
      "id": "321112c4",
      "cell_type": "code",
      "source": "features_train[num_columns] = scaler.fit_transform(features_train[num_columns])\nfeatures_test[num_columns] = scaler.fit_transform(features_test[num_columns])",
      "metadata": {},
      "outputs": [],
      "execution_count": 68
    },
    {
      "id": "156ce2dd",
      "cell_type": "code",
      "source": "try:\n    encoder = OneHotEncoder(drop='first', handle_unknown='ignore', sparse=False)\n\n    encoder_df = pd.DataFrame(encoder.fit_transform(features_train[enc_columns]).toarray())\n    enc_features_train = features_train.join(encoder_df)\n\n    encoder_df = pd.DataFrame(encoder.fit_transform(features_test[enc_columns]).toarray())\n    encfeatures_test = features_test.join(encoder_df)\nexcept:\n    print('\\nError occured.')\n    encoder = OneHotEncoder(handle_unknown='ignore')\n    \n    encoder_df = pd.DataFrame(encoder.fit_transform(features_train[enc_columns]).toarray())\n    enc_features_train = (features_train.reset_index()).join(encoder_df)\n\n    encoder_df = pd.DataFrame(encoder.fit_transform(features_test[enc_columns]).toarray())\n    enc_features_test = (features_test.reset_index()).join(encoder_df)",
      "metadata": {},
      "outputs": [
        {
          "name": "stdout",
          "output_type": "stream",
          "text": [
            "\n",
            "Error occured.\n"
          ]
        }
      ],
      "execution_count": 69
    },
    {
      "id": "3d861e42",
      "cell_type": "code",
      "source": "enc_features_train = enc_features_train.drop(columns=enc_columns, axis=1)\nenc_features_test = enc_features_test.drop(columns=enc_columns, axis=1)",
      "metadata": {},
      "outputs": [],
      "execution_count": 70
    },
    {
      "id": "1c6d56cf",
      "cell_type": "code",
      "source": "enc_features_train = enc_features_train.drop(columns='index')\nenc_features_train.sample(5, random_state=RANDOM_SEED)",
      "metadata": {},
      "outputs": [
        {
          "data": {
            "text/html": [
              "<div>\n",
              "<style scoped>\n",
              "    .dataframe tbody tr th:only-of-type {\n",
              "        vertical-align: middle;\n",
              "    }\n",
              "\n",
              "    .dataframe tbody tr th {\n",
              "        vertical-align: top;\n",
              "    }\n",
              "\n",
              "    .dataframe thead th {\n",
              "        text-align: right;\n",
              "    }\n",
              "</style>\n",
              "<table border=\"1\" class=\"dataframe\">\n",
              "  <thead>\n",
              "    <tr style=\"text-align: right;\">\n",
              "      <th></th>\n",
              "      <th>monthly_charges</th>\n",
              "      <th>total_charges</th>\n",
              "      <th>days_diff</th>\n",
              "      <th>0</th>\n",
              "      <th>1</th>\n",
              "      <th>2</th>\n",
              "      <th>3</th>\n",
              "      <th>4</th>\n",
              "      <th>5</th>\n",
              "      <th>6</th>\n",
              "      <th>...</th>\n",
              "      <th>24</th>\n",
              "      <th>25</th>\n",
              "      <th>26</th>\n",
              "      <th>27</th>\n",
              "      <th>28</th>\n",
              "      <th>29</th>\n",
              "      <th>30</th>\n",
              "      <th>31</th>\n",
              "      <th>32</th>\n",
              "      <th>33</th>\n",
              "    </tr>\n",
              "  </thead>\n",
              "  <tbody>\n",
              "    <tr>\n",
              "      <th>4009</th>\n",
              "      <td>-1.486934</td>\n",
              "      <td>-0.789014</td>\n",
              "      <td>-0.334809</td>\n",
              "      <td>1.0</td>\n",
              "      <td>0.0</td>\n",
              "      <td>0.0</td>\n",
              "      <td>1.0</td>\n",
              "      <td>0.0</td>\n",
              "      <td>0.0</td>\n",
              "      <td>0.0</td>\n",
              "      <td>...</td>\n",
              "      <td>1.0</td>\n",
              "      <td>0.0</td>\n",
              "      <td>1.0</td>\n",
              "      <td>0.0</td>\n",
              "      <td>1.0</td>\n",
              "      <td>0.0</td>\n",
              "      <td>1.0</td>\n",
              "      <td>0.0</td>\n",
              "      <td>1.0</td>\n",
              "      <td>0.0</td>\n",
              "    </tr>\n",
              "    <tr>\n",
              "      <th>1397</th>\n",
              "      <td>0.389213</td>\n",
              "      <td>-0.017092</td>\n",
              "      <td>-0.113327</td>\n",
              "      <td>1.0</td>\n",
              "      <td>0.0</td>\n",
              "      <td>0.0</td>\n",
              "      <td>0.0</td>\n",
              "      <td>1.0</td>\n",
              "      <td>0.0</td>\n",
              "      <td>0.0</td>\n",
              "      <td>...</td>\n",
              "      <td>1.0</td>\n",
              "      <td>0.0</td>\n",
              "      <td>1.0</td>\n",
              "      <td>0.0</td>\n",
              "      <td>1.0</td>\n",
              "      <td>0.0</td>\n",
              "      <td>1.0</td>\n",
              "      <td>0.0</td>\n",
              "      <td>1.0</td>\n",
              "      <td>0.0</td>\n",
              "    </tr>\n",
              "    <tr>\n",
              "      <th>77</th>\n",
              "      <td>0.709694</td>\n",
              "      <td>-0.872828</td>\n",
              "      <td>-1.184065</td>\n",
              "      <td>1.0</td>\n",
              "      <td>0.0</td>\n",
              "      <td>0.0</td>\n",
              "      <td>1.0</td>\n",
              "      <td>0.0</td>\n",
              "      <td>0.0</td>\n",
              "      <td>1.0</td>\n",
              "      <td>...</td>\n",
              "      <td>1.0</td>\n",
              "      <td>0.0</td>\n",
              "      <td>1.0</td>\n",
              "      <td>0.0</td>\n",
              "      <td>0.0</td>\n",
              "      <td>1.0</td>\n",
              "      <td>1.0</td>\n",
              "      <td>0.0</td>\n",
              "      <td>1.0</td>\n",
              "      <td>0.0</td>\n",
              "    </tr>\n",
              "    <tr>\n",
              "      <th>3845</th>\n",
              "      <td>1.318941</td>\n",
              "      <td>2.825212</td>\n",
              "      <td>1.894674</td>\n",
              "      <td>0.0</td>\n",
              "      <td>0.0</td>\n",
              "      <td>1.0</td>\n",
              "      <td>1.0</td>\n",
              "      <td>0.0</td>\n",
              "      <td>0.0</td>\n",
              "      <td>1.0</td>\n",
              "      <td>...</td>\n",
              "      <td>0.0</td>\n",
              "      <td>1.0</td>\n",
              "      <td>1.0</td>\n",
              "      <td>0.0</td>\n",
              "      <td>0.0</td>\n",
              "      <td>1.0</td>\n",
              "      <td>0.0</td>\n",
              "      <td>1.0</td>\n",
              "      <td>1.0</td>\n",
              "      <td>0.0</td>\n",
              "    </tr>\n",
              "    <tr>\n",
              "      <th>3020</th>\n",
              "      <td>-0.649010</td>\n",
              "      <td>-0.368775</td>\n",
              "      <td>-0.023855</td>\n",
              "      <td>1.0</td>\n",
              "      <td>0.0</td>\n",
              "      <td>0.0</td>\n",
              "      <td>0.0</td>\n",
              "      <td>1.0</td>\n",
              "      <td>0.0</td>\n",
              "      <td>0.0</td>\n",
              "      <td>...</td>\n",
              "      <td>1.0</td>\n",
              "      <td>0.0</td>\n",
              "      <td>1.0</td>\n",
              "      <td>0.0</td>\n",
              "      <td>0.0</td>\n",
              "      <td>1.0</td>\n",
              "      <td>1.0</td>\n",
              "      <td>0.0</td>\n",
              "      <td>0.0</td>\n",
              "      <td>1.0</td>\n",
              "    </tr>\n",
              "  </tbody>\n",
              "</table>\n",
              "<p>5 rows × 37 columns</p>\n",
              "</div>"
            ],
            "text/plain": [
              "      monthly_charges  total_charges  days_diff    0    1    2    3    4    5  \\\n",
              "4009        -1.486934      -0.789014  -0.334809  1.0  0.0  0.0  1.0  0.0  0.0   \n",
              "1397         0.389213      -0.017092  -0.113327  1.0  0.0  0.0  0.0  1.0  0.0   \n",
              "77           0.709694      -0.872828  -1.184065  1.0  0.0  0.0  1.0  0.0  0.0   \n",
              "3845         1.318941       2.825212   1.894674  0.0  0.0  1.0  1.0  0.0  0.0   \n",
              "3020        -0.649010      -0.368775  -0.023855  1.0  0.0  0.0  0.0  1.0  0.0   \n",
              "\n",
              "        6  ...   24   25   26   27   28   29   30   31   32   33  \n",
              "4009  0.0  ...  1.0  0.0  1.0  0.0  1.0  0.0  1.0  0.0  1.0  0.0  \n",
              "1397  0.0  ...  1.0  0.0  1.0  0.0  1.0  0.0  1.0  0.0  1.0  0.0  \n",
              "77    1.0  ...  1.0  0.0  1.0  0.0  0.0  1.0  1.0  0.0  1.0  0.0  \n",
              "3845  1.0  ...  0.0  1.0  1.0  0.0  0.0  1.0  0.0  1.0  1.0  0.0  \n",
              "3020  0.0  ...  1.0  0.0  1.0  0.0  0.0  1.0  1.0  0.0  0.0  1.0  \n",
              "\n",
              "[5 rows x 37 columns]"
            ]
          },
          "execution_count": 71,
          "metadata": {},
          "output_type": "execute_result"
        }
      ],
      "execution_count": 71
    },
    {
      "id": "e1004bd1",
      "cell_type": "code",
      "source": "enc_features_test = enc_features_test.drop(columns='index')\nenc_features_test.sample(5, random_state=RANDOM_SEED)",
      "metadata": {},
      "outputs": [
        {
          "data": {
            "text/html": [
              "<div>\n",
              "<style scoped>\n",
              "    .dataframe tbody tr th:only-of-type {\n",
              "        vertical-align: middle;\n",
              "    }\n",
              "\n",
              "    .dataframe tbody tr th {\n",
              "        vertical-align: top;\n",
              "    }\n",
              "\n",
              "    .dataframe thead th {\n",
              "        text-align: right;\n",
              "    }\n",
              "</style>\n",
              "<table border=\"1\" class=\"dataframe\">\n",
              "  <thead>\n",
              "    <tr style=\"text-align: right;\">\n",
              "      <th></th>\n",
              "      <th>monthly_charges</th>\n",
              "      <th>total_charges</th>\n",
              "      <th>days_diff</th>\n",
              "      <th>0</th>\n",
              "      <th>1</th>\n",
              "      <th>2</th>\n",
              "      <th>3</th>\n",
              "      <th>4</th>\n",
              "      <th>5</th>\n",
              "      <th>6</th>\n",
              "      <th>...</th>\n",
              "      <th>24</th>\n",
              "      <th>25</th>\n",
              "      <th>26</th>\n",
              "      <th>27</th>\n",
              "      <th>28</th>\n",
              "      <th>29</th>\n",
              "      <th>30</th>\n",
              "      <th>31</th>\n",
              "      <th>32</th>\n",
              "      <th>33</th>\n",
              "    </tr>\n",
              "  </thead>\n",
              "  <tbody>\n",
              "    <tr>\n",
              "      <th>1127</th>\n",
              "      <td>0.290078</td>\n",
              "      <td>-0.949266</td>\n",
              "      <td>-1.251576</td>\n",
              "      <td>1.0</td>\n",
              "      <td>0.0</td>\n",
              "      <td>0.0</td>\n",
              "      <td>0.0</td>\n",
              "      <td>1.0</td>\n",
              "      <td>0.0</td>\n",
              "      <td>0.0</td>\n",
              "      <td>...</td>\n",
              "      <td>1.0</td>\n",
              "      <td>0.0</td>\n",
              "      <td>1.0</td>\n",
              "      <td>0.0</td>\n",
              "      <td>1.0</td>\n",
              "      <td>0.0</td>\n",
              "      <td>1.0</td>\n",
              "      <td>0.0</td>\n",
              "      <td>1.0</td>\n",
              "      <td>0.0</td>\n",
              "    </tr>\n",
              "    <tr>\n",
              "      <th>374</th>\n",
              "      <td>1.587631</td>\n",
              "      <td>-0.426037</td>\n",
              "      <td>-0.810020</td>\n",
              "      <td>0.0</td>\n",
              "      <td>0.0</td>\n",
              "      <td>1.0</td>\n",
              "      <td>0.0</td>\n",
              "      <td>1.0</td>\n",
              "      <td>1.0</td>\n",
              "      <td>0.0</td>\n",
              "      <td>...</td>\n",
              "      <td>0.0</td>\n",
              "      <td>1.0</td>\n",
              "      <td>0.0</td>\n",
              "      <td>1.0</td>\n",
              "      <td>0.0</td>\n",
              "      <td>1.0</td>\n",
              "      <td>0.0</td>\n",
              "      <td>1.0</td>\n",
              "      <td>1.0</td>\n",
              "      <td>0.0</td>\n",
              "    </tr>\n",
              "    <tr>\n",
              "      <th>1097</th>\n",
              "      <td>0.298290</td>\n",
              "      <td>0.052220</td>\n",
              "      <td>0.029374</td>\n",
              "      <td>1.0</td>\n",
              "      <td>0.0</td>\n",
              "      <td>0.0</td>\n",
              "      <td>0.0</td>\n",
              "      <td>1.0</td>\n",
              "      <td>1.0</td>\n",
              "      <td>0.0</td>\n",
              "      <td>...</td>\n",
              "      <td>1.0</td>\n",
              "      <td>0.0</td>\n",
              "      <td>1.0</td>\n",
              "      <td>0.0</td>\n",
              "      <td>1.0</td>\n",
              "      <td>0.0</td>\n",
              "      <td>0.0</td>\n",
              "      <td>1.0</td>\n",
              "      <td>0.0</td>\n",
              "      <td>1.0</td>\n",
              "    </tr>\n",
              "    <tr>\n",
              "      <th>1039</th>\n",
              "      <td>-0.209234</td>\n",
              "      <td>0.851935</td>\n",
              "      <td>1.718362</td>\n",
              "      <td>0.0</td>\n",
              "      <td>0.0</td>\n",
              "      <td>1.0</td>\n",
              "      <td>1.0</td>\n",
              "      <td>0.0</td>\n",
              "      <td>1.0</td>\n",
              "      <td>0.0</td>\n",
              "      <td>...</td>\n",
              "      <td>0.0</td>\n",
              "      <td>1.0</td>\n",
              "      <td>0.0</td>\n",
              "      <td>1.0</td>\n",
              "      <td>0.0</td>\n",
              "      <td>1.0</td>\n",
              "      <td>1.0</td>\n",
              "      <td>0.0</td>\n",
              "      <td>1.0</td>\n",
              "      <td>0.0</td>\n",
              "    </tr>\n",
              "    <tr>\n",
              "      <th>1624</th>\n",
              "      <td>-0.439180</td>\n",
              "      <td>-0.418419</td>\n",
              "      <td>-0.278113</td>\n",
              "      <td>0.0</td>\n",
              "      <td>0.0</td>\n",
              "      <td>1.0</td>\n",
              "      <td>0.0</td>\n",
              "      <td>1.0</td>\n",
              "      <td>0.0</td>\n",
              "      <td>0.0</td>\n",
              "      <td>...</td>\n",
              "      <td>0.0</td>\n",
              "      <td>1.0</td>\n",
              "      <td>1.0</td>\n",
              "      <td>0.0</td>\n",
              "      <td>0.0</td>\n",
              "      <td>1.0</td>\n",
              "      <td>1.0</td>\n",
              "      <td>0.0</td>\n",
              "      <td>1.0</td>\n",
              "      <td>0.0</td>\n",
              "    </tr>\n",
              "  </tbody>\n",
              "</table>\n",
              "<p>5 rows × 37 columns</p>\n",
              "</div>"
            ],
            "text/plain": [
              "      monthly_charges  total_charges  days_diff    0    1    2    3    4    5  \\\n",
              "1127         0.290078      -0.949266  -1.251576  1.0  0.0  0.0  0.0  1.0  0.0   \n",
              "374          1.587631      -0.426037  -0.810020  0.0  0.0  1.0  0.0  1.0  1.0   \n",
              "1097         0.298290       0.052220   0.029374  1.0  0.0  0.0  0.0  1.0  1.0   \n",
              "1039        -0.209234       0.851935   1.718362  0.0  0.0  1.0  1.0  0.0  1.0   \n",
              "1624        -0.439180      -0.418419  -0.278113  0.0  0.0  1.0  0.0  1.0  0.0   \n",
              "\n",
              "        6  ...   24   25   26   27   28   29   30   31   32   33  \n",
              "1127  0.0  ...  1.0  0.0  1.0  0.0  1.0  0.0  1.0  0.0  1.0  0.0  \n",
              "374   0.0  ...  0.0  1.0  0.0  1.0  0.0  1.0  0.0  1.0  1.0  0.0  \n",
              "1097  0.0  ...  1.0  0.0  1.0  0.0  1.0  0.0  0.0  1.0  0.0  1.0  \n",
              "1039  0.0  ...  0.0  1.0  0.0  1.0  0.0  1.0  1.0  0.0  1.0  0.0  \n",
              "1624  0.0  ...  0.0  1.0  1.0  0.0  0.0  1.0  1.0  0.0  1.0  0.0  \n",
              "\n",
              "[5 rows x 37 columns]"
            ]
          },
          "execution_count": 72,
          "metadata": {},
          "output_type": "execute_result"
        }
      ],
      "execution_count": 72
    },
    {
      "id": "1558382e",
      "cell_type": "markdown",
      "source": "Данные успешно закодированы",
      "metadata": {}
    },
    {
      "id": "8a2ba07c",
      "cell_type": "markdown",
      "source": "## Обучение моделей машинного обучения",
      "metadata": {}
    },
    {
      "id": "d373f227",
      "cell_type": "markdown",
      "source": "Обучим следующие модели:\n* LogisticRegression\n* CatBoost",
      "metadata": {}
    },
    {
      "id": "399c2379",
      "cell_type": "markdown",
      "source": "**LogisticRegression**",
      "metadata": {}
    },
    {
      "id": "aeae9deb",
      "cell_type": "code",
      "source": "temp = list(enc_features_train.columns[0:3])\nfor i in list(enc_features_train.columns[3:]):\n    temp.append(str(i))\n\nenc_features_train.columns = temp\nenc_features_train.columns",
      "metadata": {},
      "outputs": [
        {
          "data": {
            "text/plain": [
              "Index(['monthly_charges', 'total_charges', 'days_diff', '0', '1', '2', '3',\n",
              "       '4', '5', '6', '7', '8', '9', '10', '11', '12', '13', '14', '15', '16',\n",
              "       '17', '18', '19', '20', '21', '22', '23', '24', '25', '26', '27', '28',\n",
              "       '29', '30', '31', '32', '33'],\n",
              "      dtype='object')"
            ]
          },
          "execution_count": 73,
          "metadata": {},
          "output_type": "execute_result"
        }
      ],
      "execution_count": 73
    },
    {
      "id": "6d004f02",
      "cell_type": "code",
      "source": "%%time\n\nmodel = LogisticRegression(random_state=RANDOM_SEED)\nmodel.fit(enc_features_train, target_train)\n\n# Предсказание вероятностей классов для тестовой выборки\npredictions = model.predict_proba(enc_features_train)[:, 1]\n\n# Вычисление AUC-ROC\nlr_auc_roc = roc_auc_score(target_train, predictions)\n\nprint(f\"AUC-ROC: {lr_auc_roc:.4f}\")",
      "metadata": {},
      "outputs": [
        {
          "name": "stdout",
          "output_type": "stream",
          "text": [
            "AUC-ROC: 0.7781\n",
            "CPU times: user 152 ms, sys: 163 ms, total: 315 ms\n",
            "Wall time: 261 ms\n"
          ]
        }
      ],
      "execution_count": 74
    },
    {
      "id": "1ba77c2d",
      "cell_type": "markdown",
      "source": "**CatBoost**",
      "metadata": {}
    },
    {
      "id": "d5cf4445",
      "cell_type": "code",
      "source": "%%time\n\nparam_dist = {\n     'iterations': [100, 500, 1000],\n    'learning_rate': uniform(0.01, 0.3),\n    'depth': [4, 6, 8, 10]}\n\n\n# Inisialization model CatBoostClassifier\ncatboost_model = CatBoostClassifier(verbose=False, eval_metric='AUC', loss_function='Logloss', random_seed=RANDOM_SEED)\n\n#  RandomizedSearchCV\nrandom_search = RandomizedSearchCV(catboost_model, param_distributions=param_dist, n_iter=10,\n                                   scoring='roc_auc', cv=3, random_state=RANDOM_SEED, verbose=2)\n\n# fit model with RandomizedSearchCV\nrandom_search.fit(X_train_transformed_df, y_train)\n\n#проверка на тестовых данных\n\nprint(f\"\\nbest params: {random_search.best_params_}\")\nprint(f\"best ROC AUC: {random_search.best_score_:.4f}\")\n\nbest_model = random_search.best_estimator_",
      "metadata": {},
      "outputs": [
        {
          "name": "stdout",
          "output_type": "stream",
          "text": [
            "Fitting 3 folds for each of 10 candidates, totalling 30 fits\n",
            "[CV] END depth=10, iterations=100, learning_rate=0.22317596425688302; total time=   2.5s\n",
            "[CV] END depth=10, iterations=100, learning_rate=0.22317596425688302; total time=   2.4s\n",
            "[CV] END depth=10, iterations=100, learning_rate=0.22317596425688302; total time=   2.5s\n",
            "[CV] END depth=4, iterations=1000, learning_rate=0.11187815841373282; total time=   1.8s\n",
            "[CV] END depth=4, iterations=1000, learning_rate=0.11187815841373282; total time=   2.0s\n",
            "[CV] END depth=4, iterations=1000, learning_rate=0.11187815841373282; total time=   1.8s\n",
            "[CV] END depth=8, iterations=100, learning_rate=0.2521235502410333; total time=   1.2s\n",
            "[CV] END depth=8, iterations=100, learning_rate=0.2521235502410333; total time=   1.4s\n",
            "[CV] END depth=8, iterations=100, learning_rate=0.2521235502410333; total time=   1.2s\n",
            "[CV] END depth=8, iterations=100, learning_rate=0.04645380528996295; total time=   1.2s\n",
            "[CV] END depth=8, iterations=100, learning_rate=0.04645380528996295; total time=   1.1s\n",
            "[CV] END depth=8, iterations=100, learning_rate=0.04645380528996295; total time=   1.2s\n",
            "[CV] END depth=10, iterations=1000, learning_rate=0.16436435307430583; total time=  19.4s\n",
            "[CV] END depth=10, iterations=1000, learning_rate=0.16436435307430583; total time=  19.8s\n",
            "[CV] END depth=10, iterations=1000, learning_rate=0.16436435307430583; total time=  19.6s\n",
            "[CV] END depth=4, iterations=500, learning_rate=0.14943061805659513; total time=   1.2s\n",
            "[CV] END depth=4, iterations=500, learning_rate=0.14943061805659513; total time=   1.2s\n",
            "[CV] END depth=4, iterations=500, learning_rate=0.14943061805659513; total time=   1.4s\n",
            "[CV] END depth=6, iterations=1000, learning_rate=0.03001388945438343; total time=   2.9s\n",
            "[CV] END depth=6, iterations=1000, learning_rate=0.03001388945438343; total time=   2.9s\n",
            "[CV] END depth=6, iterations=1000, learning_rate=0.03001388945438343; total time=   2.9s\n",
            "[CV] END depth=10, iterations=500, learning_rate=0.056732999400664556; total time=  10.0s\n",
            "[CV] END depth=10, iterations=500, learning_rate=0.056732999400664556; total time=  10.5s\n",
            "[CV] END depth=10, iterations=500, learning_rate=0.056732999400664556; total time=  10.0s\n",
            "[CV] END depth=6, iterations=1000, learning_rate=0.043534301513548694; total time=   3.0s\n",
            "[CV] END depth=6, iterations=1000, learning_rate=0.043534301513548694; total time=   3.0s\n",
            "[CV] END depth=6, iterations=1000, learning_rate=0.043534301513548694; total time=   2.9s\n",
            "[CV] END depth=8, iterations=500, learning_rate=0.1268569421807013; total time=   3.5s\n",
            "[CV] END depth=8, iterations=500, learning_rate=0.1268569421807013; total time=   3.6s\n",
            "[CV] END depth=8, iterations=500, learning_rate=0.1268569421807013; total time=   3.5s\n",
            "\n",
            "best params: {'depth': 4, 'iterations': 1000, 'learning_rate': 0.11187815841373282}\n",
            "best ROC AUC: 0.9283\n",
            "CPU times: user 2min, sys: 1.94 s, total: 2min 2s\n",
            "Wall time: 2min 23s\n"
          ]
        }
      ],
      "execution_count": 75
    },
    {
      "id": "81791fea",
      "cell_type": "markdown",
      "source": "## Выбор лучшей модели",
      "metadata": {}
    },
    {
      "id": "56deb3b6",
      "cell_type": "markdown",
      "source": "Лучше всего отработала модель **CatBoostClassifier**, достигнув метрики `AUC-ROC` равной 0.93; на этой модели и будем проверять наши тестовые данные",
      "metadata": {}
    },
    {
      "id": "bf78fb8f",
      "cell_type": "code",
      "source": "%%time\n\n#testing on test set\ny_pred = best_model.predict(X_test_transformed_df)\ny_pred_proba = best_model.predict_proba(X_test_transformed_df)[:, 1]\n\n#  ROC AUC and Accuracy\nroc_auc_test = roc_auc_score(y_test, y_pred_proba)\naccuracy_test = accuracy_score(y_test, y_pred)\n\nprint(f\"test AUC-ROC: {roc_auc_test:.4f}\")\nprint(f\"accuracy test: {accuracy_test:.4f}\")",
      "metadata": {},
      "outputs": [
        {
          "name": "stdout",
          "output_type": "stream",
          "text": [
            "test AUC-ROC: 0.9501\n",
            "accuracy test: 0.9408\n",
            "CPU times: user 16.7 ms, sys: 0 ns, total: 16.7 ms\n",
            "Wall time: 16 ms\n"
          ]
        }
      ],
      "execution_count": 77
    },
    {
      "id": "6f383a6c",
      "cell_type": "markdown",
      "source": "## Вывод для заказчика",
      "metadata": {}
    },
    {
      "id": "78d33e2f",
      "cell_type": "markdown",
      "source": "В ходе этого проекта мы выполнили все поставленные задачи, а именно:\n\n* Собрали портрет всех клиентов в одной таблице, изучили и предобработали её, сделали выводы по каждому этапу\n* Подготовили данные к обучению моделей машинного обучения\n* Для качественного прогноза оттока клиентов обучили следующие модели:\n    * LogisticRegression\n    * CatBoostClassifier\n\nПо результатам работы мы построили модель машинного обучения на основе `CatBoost`, которая очень точно предсказывает отток клиентов: метрика `AUC-ROC` на этой модели равна 0.95, что является очень хорошим показателем. Данную метрику было удобнее использовать для данной задачи, так как в собранных данных наблюдался сильный дисбаланс нескольких классов. Также при проверке этой модели на тестовых данных мы получили `accuracy_test` = 0.94, что говорит о том, что модель хорошо справляется с предсказаниями.  \n  \nДля эффективного удержания клиентов, рекомендуется использовать разработанную модель для предсказания потенциального оттока.",
      "metadata": {}
    }
  ]
}