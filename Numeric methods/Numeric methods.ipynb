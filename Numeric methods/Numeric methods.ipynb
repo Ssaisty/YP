{
  "metadata": {
    "kernelspec": {
      "name": "python",
      "display_name": "Python (Pyodide)",
      "language": "python"
    },
    "language_info": {
      "codemirror_mode": {
        "name": "python",
        "version": 3
      },
      "file_extension": ".py",
      "mimetype": "text/x-python",
      "name": "python",
      "nbconvert_exporter": "python",
      "pygments_lexer": "ipython3",
      "version": "3.8"
    },
    "ExecuteTimeLog": [
      {
        "duration": 439,
        "start_time": "2023-08-24T15:44:16.481Z"
      },
      {
        "duration": 2072,
        "start_time": "2023-08-24T15:44:35.608Z"
      },
      {
        "duration": 195,
        "start_time": "2023-08-24T15:45:51.482Z"
      },
      {
        "duration": 110,
        "start_time": "2023-08-24T15:46:41.414Z"
      },
      {
        "duration": 1103,
        "start_time": "2023-08-24T15:47:11.301Z"
      },
      {
        "duration": 5,
        "start_time": "2023-08-24T15:49:10.884Z"
      },
      {
        "duration": 6,
        "start_time": "2023-08-24T15:52:36.195Z"
      },
      {
        "duration": 278,
        "start_time": "2023-08-24T15:54:27.878Z"
      },
      {
        "duration": 5,
        "start_time": "2023-08-24T15:54:31.873Z"
      },
      {
        "duration": 300,
        "start_time": "2023-08-24T16:41:54.902Z"
      },
      {
        "duration": 33,
        "start_time": "2023-08-24T16:43:56.071Z"
      },
      {
        "duration": 10,
        "start_time": "2023-08-24T16:50:07.122Z"
      },
      {
        "duration": 6,
        "start_time": "2023-08-24T16:50:30.960Z"
      },
      {
        "duration": 30,
        "start_time": "2023-08-24T16:52:20.628Z"
      },
      {
        "duration": 425,
        "start_time": "2023-08-25T09:26:27.206Z"
      },
      {
        "duration": 1126,
        "start_time": "2023-08-25T09:26:27.634Z"
      },
      {
        "duration": 1626,
        "start_time": "2023-08-25T09:26:28.761Z"
      },
      {
        "duration": 0,
        "start_time": "2023-08-25T09:26:30.389Z"
      },
      {
        "duration": 0,
        "start_time": "2023-08-25T09:26:30.390Z"
      },
      {
        "duration": 0,
        "start_time": "2023-08-25T09:26:30.392Z"
      },
      {
        "duration": 0,
        "start_time": "2023-08-25T09:26:30.393Z"
      },
      {
        "duration": 0,
        "start_time": "2023-08-25T09:26:30.394Z"
      },
      {
        "duration": 123,
        "start_time": "2023-08-25T09:26:43.869Z"
      },
      {
        "duration": 129,
        "start_time": "2023-08-25T09:26:44.034Z"
      },
      {
        "duration": 901,
        "start_time": "2023-08-25T09:26:44.480Z"
      },
      {
        "duration": 5,
        "start_time": "2023-08-25T09:26:45.382Z"
      },
      {
        "duration": 335,
        "start_time": "2023-08-25T09:26:45.388Z"
      },
      {
        "duration": 20,
        "start_time": "2023-08-25T09:26:45.733Z"
      },
      {
        "duration": 88,
        "start_time": "2023-08-25T09:26:52.912Z"
      },
      {
        "duration": 19,
        "start_time": "2023-08-25T09:28:18.294Z"
      },
      {
        "duration": 125,
        "start_time": "2023-08-25T09:28:29.498Z"
      },
      {
        "duration": 32,
        "start_time": "2023-08-25T09:29:50.213Z"
      },
      {
        "duration": 83,
        "start_time": "2023-08-25T09:29:54.755Z"
      },
      {
        "duration": 48,
        "start_time": "2023-08-25T09:31:13.452Z"
      },
      {
        "duration": 84,
        "start_time": "2023-08-25T09:31:16.731Z"
      },
      {
        "duration": 25,
        "start_time": "2023-08-25T09:32:15.162Z"
      },
      {
        "duration": 62,
        "start_time": "2023-08-25T09:32:47.561Z"
      },
      {
        "duration": 154,
        "start_time": "2023-08-25T09:32:52.723Z"
      },
      {
        "duration": 81,
        "start_time": "2023-08-25T09:33:55.449Z"
      },
      {
        "duration": 96,
        "start_time": "2023-08-25T09:33:58.979Z"
      },
      {
        "duration": 54,
        "start_time": "2023-08-25T09:35:46.323Z"
      },
      {
        "duration": 29,
        "start_time": "2023-08-25T09:35:56.634Z"
      },
      {
        "duration": 105,
        "start_time": "2023-08-25T09:36:02.604Z"
      },
      {
        "duration": 94,
        "start_time": "2023-08-25T09:36:55.827Z"
      },
      {
        "duration": 4,
        "start_time": "2023-08-25T09:43:26.570Z"
      },
      {
        "duration": 4,
        "start_time": "2023-08-25T09:43:32.322Z"
      },
      {
        "duration": 6,
        "start_time": "2023-08-25T09:43:44.081Z"
      },
      {
        "duration": 4,
        "start_time": "2023-08-25T09:43:48.477Z"
      },
      {
        "duration": 6,
        "start_time": "2023-08-25T09:43:57.549Z"
      },
      {
        "duration": 5,
        "start_time": "2023-08-25T10:51:59.602Z"
      },
      {
        "duration": 4,
        "start_time": "2023-08-25T10:59:26.235Z"
      },
      {
        "duration": 808,
        "start_time": "2023-08-25T10:59:26.268Z"
      },
      {
        "duration": 127,
        "start_time": "2023-08-25T10:59:27.078Z"
      },
      {
        "duration": 899,
        "start_time": "2023-08-25T10:59:27.206Z"
      },
      {
        "duration": 12,
        "start_time": "2023-08-25T10:59:28.107Z"
      },
      {
        "duration": 0,
        "start_time": "2023-08-25T10:59:28.120Z"
      },
      {
        "duration": 0,
        "start_time": "2023-08-25T10:59:28.121Z"
      },
      {
        "duration": 0,
        "start_time": "2023-08-25T10:59:28.136Z"
      },
      {
        "duration": 0,
        "start_time": "2023-08-25T10:59:28.137Z"
      },
      {
        "duration": 0,
        "start_time": "2023-08-25T10:59:28.139Z"
      },
      {
        "duration": 0,
        "start_time": "2023-08-25T10:59:28.140Z"
      },
      {
        "duration": 3,
        "start_time": "2023-08-25T10:59:37.843Z"
      },
      {
        "duration": 791,
        "start_time": "2023-08-25T10:59:38.483Z"
      },
      {
        "duration": 131,
        "start_time": "2023-08-25T10:59:41.247Z"
      },
      {
        "duration": 984,
        "start_time": "2023-08-25T10:59:43.617Z"
      },
      {
        "duration": 10,
        "start_time": "2023-08-25T10:59:49.914Z"
      },
      {
        "duration": 26,
        "start_time": "2023-08-25T11:00:00.571Z"
      },
      {
        "duration": 997,
        "start_time": "2023-08-25T11:00:02.554Z"
      },
      {
        "duration": 5,
        "start_time": "2023-08-25T11:00:19.697Z"
      },
      {
        "duration": 312,
        "start_time": "2023-08-25T11:00:23.867Z"
      },
      {
        "duration": 88,
        "start_time": "2023-08-25T11:00:34.746Z"
      },
      {
        "duration": 86,
        "start_time": "2023-08-25T11:00:35.853Z"
      },
      {
        "duration": 4,
        "start_time": "2023-08-25T11:00:37.957Z"
      },
      {
        "duration": 546,
        "start_time": "2023-08-25T11:00:41.168Z"
      },
      {
        "duration": 22,
        "start_time": "2023-08-25T11:07:13.664Z"
      },
      {
        "duration": 443,
        "start_time": "2023-08-25T11:07:16.014Z"
      },
      {
        "duration": 7,
        "start_time": "2023-08-25T11:08:01.039Z"
      },
      {
        "duration": 394,
        "start_time": "2023-08-25T11:08:01.224Z"
      },
      {
        "duration": 4,
        "start_time": "2023-08-25T11:08:26.535Z"
      },
      {
        "duration": 359,
        "start_time": "2023-08-25T11:08:26.666Z"
      },
      {
        "duration": 5,
        "start_time": "2023-08-25T11:08:34.721Z"
      },
      {
        "duration": 369,
        "start_time": "2023-08-25T11:08:34.847Z"
      },
      {
        "duration": 4,
        "start_time": "2023-08-25T11:10:05.478Z"
      },
      {
        "duration": 361,
        "start_time": "2023-08-25T11:10:05.583Z"
      },
      {
        "duration": 4,
        "start_time": "2023-08-25T11:10:27.317Z"
      },
      {
        "duration": 334,
        "start_time": "2023-08-25T11:10:27.447Z"
      },
      {
        "duration": 4,
        "start_time": "2023-08-25T11:12:22.333Z"
      },
      {
        "duration": 368,
        "start_time": "2023-08-25T11:12:22.469Z"
      },
      {
        "duration": 4,
        "start_time": "2023-08-25T11:13:03.138Z"
      },
      {
        "duration": 7,
        "start_time": "2023-08-25T11:13:12.828Z"
      },
      {
        "duration": 8,
        "start_time": "2023-08-25T11:13:20.330Z"
      },
      {
        "duration": 4,
        "start_time": "2023-08-25T11:13:26.241Z"
      },
      {
        "duration": 131,
        "start_time": "2023-08-25T11:14:53.508Z"
      },
      {
        "duration": 334,
        "start_time": "2023-08-25T11:14:54.191Z"
      },
      {
        "duration": 5,
        "start_time": "2023-08-25T11:15:02.135Z"
      },
      {
        "duration": 373,
        "start_time": "2023-08-25T11:15:02.284Z"
      },
      {
        "duration": 5,
        "start_time": "2023-08-25T11:15:55.859Z"
      },
      {
        "duration": 349,
        "start_time": "2023-08-25T11:15:56.003Z"
      },
      {
        "duration": 6,
        "start_time": "2023-08-25T11:16:14.218Z"
      },
      {
        "duration": 419,
        "start_time": "2023-08-25T11:16:14.349Z"
      },
      {
        "duration": 5,
        "start_time": "2023-08-25T11:16:24.088Z"
      },
      {
        "duration": 346,
        "start_time": "2023-08-25T11:16:24.205Z"
      },
      {
        "duration": 6,
        "start_time": "2023-08-25T11:17:06.488Z"
      },
      {
        "duration": 499,
        "start_time": "2023-08-25T11:17:06.620Z"
      },
      {
        "duration": 408,
        "start_time": "2023-08-25T11:17:37.348Z"
      },
      {
        "duration": 777,
        "start_time": "2023-08-25T11:17:37.758Z"
      },
      {
        "duration": 122,
        "start_time": "2023-08-25T11:17:38.537Z"
      },
      {
        "duration": 827,
        "start_time": "2023-08-25T11:17:38.660Z"
      },
      {
        "duration": 55,
        "start_time": "2023-08-25T11:17:39.489Z"
      },
      {
        "duration": 5,
        "start_time": "2023-08-25T11:17:39.545Z"
      },
      {
        "duration": 360,
        "start_time": "2023-08-25T11:17:39.551Z"
      },
      {
        "duration": 90,
        "start_time": "2023-08-25T11:17:39.912Z"
      },
      {
        "duration": 118,
        "start_time": "2023-08-25T11:17:40.003Z"
      },
      {
        "duration": 16,
        "start_time": "2023-08-25T11:17:40.122Z"
      },
      {
        "duration": 475,
        "start_time": "2023-08-25T11:17:40.139Z"
      },
      {
        "duration": 5,
        "start_time": "2023-08-25T11:19:52.335Z"
      },
      {
        "duration": 417,
        "start_time": "2023-08-25T11:19:52.444Z"
      },
      {
        "duration": 5,
        "start_time": "2023-08-25T11:20:56.965Z"
      },
      {
        "duration": 394,
        "start_time": "2023-08-25T11:20:57.073Z"
      },
      {
        "duration": 414,
        "start_time": "2023-08-25T11:21:08.904Z"
      },
      {
        "duration": 788,
        "start_time": "2023-08-25T11:21:09.319Z"
      },
      {
        "duration": 134,
        "start_time": "2023-08-25T11:21:10.108Z"
      },
      {
        "duration": 848,
        "start_time": "2023-08-25T11:21:10.243Z"
      },
      {
        "duration": 50,
        "start_time": "2023-08-25T11:21:11.094Z"
      },
      {
        "duration": 11,
        "start_time": "2023-08-25T11:21:11.146Z"
      },
      {
        "duration": 318,
        "start_time": "2023-08-25T11:21:11.159Z"
      },
      {
        "duration": 86,
        "start_time": "2023-08-25T11:21:11.479Z"
      },
      {
        "duration": 90,
        "start_time": "2023-08-25T11:21:11.567Z"
      },
      {
        "duration": 11,
        "start_time": "2023-08-25T11:21:11.658Z"
      },
      {
        "duration": 463,
        "start_time": "2023-08-25T11:21:11.671Z"
      },
      {
        "duration": 411,
        "start_time": "2023-08-25T11:21:24.794Z"
      },
      {
        "duration": 392,
        "start_time": "2023-08-25T11:21:26.783Z"
      },
      {
        "duration": 391,
        "start_time": "2023-08-25T11:21:27.851Z"
      },
      {
        "duration": 381,
        "start_time": "2023-08-25T11:21:28.694Z"
      },
      {
        "duration": 386,
        "start_time": "2023-08-25T11:21:31.141Z"
      },
      {
        "duration": 401,
        "start_time": "2023-08-25T11:21:32.323Z"
      },
      {
        "duration": 379,
        "start_time": "2023-08-25T11:21:33.586Z"
      },
      {
        "duration": 7,
        "start_time": "2023-08-25T11:21:46.546Z"
      },
      {
        "duration": 374,
        "start_time": "2023-08-25T11:21:46.677Z"
      },
      {
        "duration": 368,
        "start_time": "2023-08-25T11:22:10.456Z"
      },
      {
        "duration": 771,
        "start_time": "2023-08-25T11:22:10.826Z"
      },
      {
        "duration": 136,
        "start_time": "2023-08-25T11:22:11.599Z"
      },
      {
        "duration": 832,
        "start_time": "2023-08-25T11:22:11.737Z"
      },
      {
        "duration": 47,
        "start_time": "2023-08-25T11:22:12.571Z"
      },
      {
        "duration": 23,
        "start_time": "2023-08-25T11:22:12.620Z"
      },
      {
        "duration": 327,
        "start_time": "2023-08-25T11:22:12.644Z"
      },
      {
        "duration": 87,
        "start_time": "2023-08-25T11:22:12.973Z"
      },
      {
        "duration": 86,
        "start_time": "2023-08-25T11:22:13.062Z"
      },
      {
        "duration": 5,
        "start_time": "2023-08-25T11:22:13.150Z"
      },
      {
        "duration": 428,
        "start_time": "2023-08-25T11:22:13.157Z"
      },
      {
        "duration": 464,
        "start_time": "2023-09-19T11:28:52.431Z"
      },
      {
        "duration": 3209,
        "start_time": "2023-09-19T11:28:52.931Z"
      },
      {
        "duration": 187,
        "start_time": "2023-09-19T11:28:56.142Z"
      },
      {
        "duration": 1242,
        "start_time": "2023-09-19T11:28:56.332Z"
      },
      {
        "duration": 56,
        "start_time": "2023-09-19T11:28:57.577Z"
      },
      {
        "duration": 26,
        "start_time": "2023-09-19T11:28:57.634Z"
      },
      {
        "duration": 431,
        "start_time": "2023-09-19T11:28:57.662Z"
      },
      {
        "duration": 124,
        "start_time": "2023-09-19T11:28:58.096Z"
      },
      {
        "duration": 112,
        "start_time": "2023-09-19T11:28:58.222Z"
      },
      {
        "duration": 22,
        "start_time": "2023-09-19T11:28:58.336Z"
      },
      {
        "duration": 612,
        "start_time": "2023-09-19T11:28:58.361Z"
      },
      {
        "duration": 93,
        "start_time": "2023-09-19T11:30:12.836Z"
      },
      {
        "duration": 21,
        "start_time": "2023-09-19T11:30:23.263Z"
      },
      {
        "duration": 10,
        "start_time": "2023-09-19T11:30:40.206Z"
      },
      {
        "duration": 4,
        "start_time": "2023-09-19T11:30:45.115Z"
      },
      {
        "duration": 2,
        "start_time": "2023-09-19T11:31:12.235Z"
      },
      {
        "duration": 972,
        "start_time": "2023-09-19T11:31:12.266Z"
      },
      {
        "duration": 194,
        "start_time": "2023-09-19T11:31:13.241Z"
      },
      {
        "duration": 1288,
        "start_time": "2023-09-19T11:31:13.437Z"
      },
      {
        "duration": 59,
        "start_time": "2023-09-19T11:31:14.727Z"
      },
      {
        "duration": 5,
        "start_time": "2023-09-19T11:31:14.787Z"
      },
      {
        "duration": 394,
        "start_time": "2023-09-19T11:31:14.794Z"
      },
      {
        "duration": 126,
        "start_time": "2023-09-19T11:31:15.190Z"
      },
      {
        "duration": 116,
        "start_time": "2023-09-19T11:31:15.318Z"
      },
      {
        "duration": 6,
        "start_time": "2023-09-19T11:31:15.436Z"
      },
      {
        "duration": 553,
        "start_time": "2023-09-19T11:31:15.458Z"
      },
      {
        "duration": 4,
        "start_time": "2023-09-19T11:31:16.014Z"
      },
      {
        "duration": 80,
        "start_time": "2023-09-19T11:31:16.019Z"
      },
      {
        "duration": 3,
        "start_time": "2023-09-19T11:32:05.007Z"
      },
      {
        "duration": 902,
        "start_time": "2023-09-19T11:32:05.039Z"
      },
      {
        "duration": 156,
        "start_time": "2023-09-19T11:32:05.943Z"
      },
      {
        "duration": 1108,
        "start_time": "2023-09-19T11:32:06.101Z"
      },
      {
        "duration": 59,
        "start_time": "2023-09-19T11:32:07.211Z"
      },
      {
        "duration": 6,
        "start_time": "2023-09-19T11:32:07.272Z"
      },
      {
        "duration": 358,
        "start_time": "2023-09-19T11:32:07.279Z"
      },
      {
        "duration": 110,
        "start_time": "2023-09-19T11:32:07.638Z"
      },
      {
        "duration": 122,
        "start_time": "2023-09-19T11:32:07.750Z"
      },
      {
        "duration": 6,
        "start_time": "2023-09-19T11:32:07.873Z"
      },
      {
        "duration": 545,
        "start_time": "2023-09-19T11:32:07.881Z"
      },
      {
        "duration": 4,
        "start_time": "2023-09-19T11:32:08.428Z"
      },
      {
        "duration": 39,
        "start_time": "2023-09-19T11:32:08.434Z"
      },
      {
        "duration": 1462,
        "start_time": "2023-09-19T11:34:33.830Z"
      },
      {
        "duration": 59,
        "start_time": "2023-09-19T11:35:48.299Z"
      },
      {
        "duration": 92,
        "start_time": "2023-09-19T11:36:31.401Z"
      },
      {
        "duration": 6,
        "start_time": "2023-09-19T11:55:46.839Z"
      },
      {
        "duration": 3,
        "start_time": "2023-09-19T12:45:12.271Z"
      },
      {
        "duration": 5,
        "start_time": "2023-09-19T12:45:58.551Z"
      },
      {
        "duration": 22,
        "start_time": "2023-09-19T12:46:03.654Z"
      },
      {
        "duration": 4,
        "start_time": "2023-09-19T12:46:49.378Z"
      },
      {
        "duration": 9,
        "start_time": "2023-09-19T12:46:50.408Z"
      },
      {
        "duration": 10,
        "start_time": "2023-09-19T12:47:21.905Z"
      },
      {
        "duration": 140,
        "start_time": "2023-09-19T12:48:07.844Z"
      },
      {
        "duration": 1771,
        "start_time": "2023-09-22T07:54:01.866Z"
      },
      {
        "duration": 1285,
        "start_time": "2023-09-22T07:54:06.058Z"
      },
      {
        "duration": 157,
        "start_time": "2023-09-22T07:54:07.345Z"
      },
      {
        "duration": 1049,
        "start_time": "2023-09-22T07:54:07.504Z"
      },
      {
        "duration": 64,
        "start_time": "2023-09-22T07:54:08.556Z"
      },
      {
        "duration": 12,
        "start_time": "2023-09-22T07:54:08.622Z"
      },
      {
        "duration": 389,
        "start_time": "2023-09-22T07:54:08.635Z"
      },
      {
        "duration": 110,
        "start_time": "2023-09-22T07:54:09.026Z"
      },
      {
        "duration": 110,
        "start_time": "2023-09-22T07:54:09.138Z"
      },
      {
        "duration": 5,
        "start_time": "2023-09-22T07:54:09.250Z"
      },
      {
        "duration": 521,
        "start_time": "2023-09-22T07:54:09.258Z"
      },
      {
        "duration": 28,
        "start_time": "2023-09-22T07:54:09.781Z"
      },
      {
        "duration": 148,
        "start_time": "2023-09-22T07:54:09.811Z"
      },
      {
        "duration": 4,
        "start_time": "2023-09-22T07:54:09.962Z"
      },
      {
        "duration": 52,
        "start_time": "2023-09-22T07:54:09.968Z"
      },
      {
        "duration": 246,
        "start_time": "2023-09-22T07:54:10.022Z"
      },
      {
        "duration": 1082,
        "start_time": "2023-09-22T07:54:45.290Z"
      },
      {
        "duration": 1008,
        "start_time": "2023-09-22T08:05:49.070Z"
      },
      {
        "duration": 585,
        "start_time": "2023-09-22T08:05:52.066Z"
      },
      {
        "duration": 15,
        "start_time": "2023-09-22T08:06:24.673Z"
      },
      {
        "duration": 51,
        "start_time": "2023-09-22T08:07:23.307Z"
      },
      {
        "duration": 893,
        "start_time": "2023-09-22T08:07:25.671Z"
      },
      {
        "duration": 171,
        "start_time": "2023-09-22T08:07:26.566Z"
      },
      {
        "duration": 1036,
        "start_time": "2023-09-22T08:07:26.739Z"
      },
      {
        "duration": 45,
        "start_time": "2023-09-22T08:07:27.777Z"
      },
      {
        "duration": 6,
        "start_time": "2023-09-22T08:07:27.824Z"
      },
      {
        "duration": 348,
        "start_time": "2023-09-22T08:07:27.832Z"
      },
      {
        "duration": 113,
        "start_time": "2023-09-22T08:07:28.182Z"
      },
      {
        "duration": 122,
        "start_time": "2023-09-22T08:07:28.297Z"
      },
      {
        "duration": 6,
        "start_time": "2023-09-22T08:07:33.166Z"
      },
      {
        "duration": 461,
        "start_time": "2023-09-22T08:07:34.077Z"
      },
      {
        "duration": 22,
        "start_time": "2023-09-22T08:07:36.109Z"
      },
      {
        "duration": 2,
        "start_time": "2023-09-22T08:07:36.695Z"
      },
      {
        "duration": 2,
        "start_time": "2023-09-22T08:07:36.881Z"
      },
      {
        "duration": 984,
        "start_time": "2023-09-22T08:07:37.316Z"
      },
      {
        "duration": 556,
        "start_time": "2023-09-22T08:07:38.302Z"
      },
      {
        "duration": 181,
        "start_time": "2023-09-22T08:07:40.079Z"
      },
      {
        "duration": 37351,
        "start_time": "2023-09-22T08:08:07.761Z"
      },
      {
        "duration": 3,
        "start_time": "2023-09-22T08:09:05.795Z"
      },
      {
        "duration": 3,
        "start_time": "2023-09-22T08:09:25.879Z"
      },
      {
        "duration": 4,
        "start_time": "2023-09-22T08:09:27.907Z"
      },
      {
        "duration": 115872,
        "start_time": "2023-09-22T08:09:40.906Z"
      },
      {
        "duration": 3,
        "start_time": "2023-09-22T08:11:36.780Z"
      },
      {
        "duration": 90,
        "start_time": "2023-09-22T08:11:58.182Z"
      },
      {
        "duration": 172,
        "start_time": "2023-09-22T08:11:58.363Z"
      },
      {
        "duration": 23,
        "start_time": "2023-09-22T08:12:55.854Z"
      },
      {
        "duration": 3,
        "start_time": "2023-09-22T08:18:48.427Z"
      },
      {
        "duration": 876,
        "start_time": "2023-09-22T08:18:48.780Z"
      },
      {
        "duration": 155,
        "start_time": "2023-09-22T08:18:49.658Z"
      },
      {
        "duration": 1020,
        "start_time": "2023-09-22T08:18:49.814Z"
      },
      {
        "duration": 38,
        "start_time": "2023-09-22T08:18:50.836Z"
      },
      {
        "duration": 5,
        "start_time": "2023-09-22T08:18:50.876Z"
      },
      {
        "duration": 349,
        "start_time": "2023-09-22T08:18:51.223Z"
      },
      {
        "duration": 101,
        "start_time": "2023-09-22T08:18:51.728Z"
      },
      {
        "duration": 110,
        "start_time": "2023-09-22T08:18:51.922Z"
      },
      {
        "duration": 6,
        "start_time": "2023-09-22T08:18:52.282Z"
      },
      {
        "duration": 537,
        "start_time": "2023-09-22T08:18:52.462Z"
      },
      {
        "duration": 31,
        "start_time": "2023-09-22T08:18:53.001Z"
      },
      {
        "duration": 965,
        "start_time": "2023-09-22T08:18:53.774Z"
      },
      {
        "duration": 563,
        "start_time": "2023-09-22T08:18:54.741Z"
      },
      {
        "duration": 202,
        "start_time": "2023-09-22T08:18:55.309Z"
      },
      {
        "duration": 522,
        "start_time": "2023-09-22T08:19:13.916Z"
      },
      {
        "duration": 998,
        "start_time": "2023-09-22T08:19:14.440Z"
      },
      {
        "duration": 175,
        "start_time": "2023-09-22T08:19:15.441Z"
      },
      {
        "duration": 1053,
        "start_time": "2023-09-22T08:19:15.618Z"
      },
      {
        "duration": 59,
        "start_time": "2023-09-22T08:19:16.673Z"
      },
      {
        "duration": 19,
        "start_time": "2023-09-22T08:19:16.733Z"
      },
      {
        "duration": 397,
        "start_time": "2023-09-22T08:19:16.754Z"
      },
      {
        "duration": 110,
        "start_time": "2023-09-22T08:19:17.153Z"
      },
      {
        "duration": 108,
        "start_time": "2023-09-22T08:19:17.265Z"
      },
      {
        "duration": 6,
        "start_time": "2023-09-22T08:19:17.374Z"
      },
      {
        "duration": 603,
        "start_time": "2023-09-22T08:19:17.382Z"
      },
      {
        "duration": 33,
        "start_time": "2023-09-22T08:19:17.987Z"
      },
      {
        "duration": 1010,
        "start_time": "2023-09-22T08:19:18.022Z"
      },
      {
        "duration": 283,
        "start_time": "2023-09-22T08:19:19.035Z"
      },
      {
        "duration": 0,
        "start_time": "2023-09-22T08:19:19.320Z"
      },
      {
        "duration": 0,
        "start_time": "2023-09-22T08:19:19.321Z"
      },
      {
        "duration": 0,
        "start_time": "2023-09-22T08:19:19.322Z"
      },
      {
        "duration": 0,
        "start_time": "2023-09-22T08:19:19.324Z"
      },
      {
        "duration": 0,
        "start_time": "2023-09-22T08:19:19.325Z"
      },
      {
        "duration": 0,
        "start_time": "2023-09-22T08:19:19.326Z"
      },
      {
        "duration": 0,
        "start_time": "2023-09-22T08:19:19.327Z"
      },
      {
        "duration": 0,
        "start_time": "2023-09-22T08:19:19.328Z"
      },
      {
        "duration": 0,
        "start_time": "2023-09-22T08:19:19.329Z"
      },
      {
        "duration": 0,
        "start_time": "2023-09-22T08:19:19.330Z"
      },
      {
        "duration": 0,
        "start_time": "2023-09-22T08:19:19.330Z"
      },
      {
        "duration": 0,
        "start_time": "2023-09-22T08:19:19.332Z"
      },
      {
        "duration": 0,
        "start_time": "2023-09-22T08:19:19.333Z"
      },
      {
        "duration": 0,
        "start_time": "2023-09-22T08:19:19.334Z"
      },
      {
        "duration": 1175,
        "start_time": "2023-09-22T08:19:43.919Z"
      },
      {
        "duration": 980,
        "start_time": "2023-09-22T08:19:45.096Z"
      },
      {
        "duration": 162,
        "start_time": "2023-09-22T08:19:46.078Z"
      },
      {
        "duration": 999,
        "start_time": "2023-09-22T08:19:46.243Z"
      },
      {
        "duration": 50,
        "start_time": "2023-09-22T08:19:47.245Z"
      },
      {
        "duration": 111,
        "start_time": "2023-09-22T08:19:47.296Z"
      },
      {
        "duration": 374,
        "start_time": "2023-09-22T08:19:47.408Z"
      },
      {
        "duration": 106,
        "start_time": "2023-09-22T08:19:47.784Z"
      },
      {
        "duration": 118,
        "start_time": "2023-09-22T08:19:47.892Z"
      },
      {
        "duration": 6,
        "start_time": "2023-09-22T08:19:48.012Z"
      },
      {
        "duration": 509,
        "start_time": "2023-09-22T08:19:48.020Z"
      },
      {
        "duration": 21,
        "start_time": "2023-09-22T08:19:48.531Z"
      },
      {
        "duration": 964,
        "start_time": "2023-09-22T08:19:48.554Z"
      },
      {
        "duration": 542,
        "start_time": "2023-09-22T08:19:49.521Z"
      },
      {
        "duration": 107,
        "start_time": "2023-09-22T08:19:50.065Z"
      },
      {
        "duration": 0,
        "start_time": "2023-09-22T08:19:50.174Z"
      },
      {
        "duration": 0,
        "start_time": "2023-09-22T08:19:50.175Z"
      },
      {
        "duration": 0,
        "start_time": "2023-09-22T08:19:50.177Z"
      },
      {
        "duration": 0,
        "start_time": "2023-09-22T08:19:50.178Z"
      },
      {
        "duration": 0,
        "start_time": "2023-09-22T08:19:50.180Z"
      },
      {
        "duration": 0,
        "start_time": "2023-09-22T08:19:50.182Z"
      },
      {
        "duration": 0,
        "start_time": "2023-09-22T08:19:50.183Z"
      },
      {
        "duration": 0,
        "start_time": "2023-09-22T08:19:50.185Z"
      },
      {
        "duration": 0,
        "start_time": "2023-09-22T08:19:50.186Z"
      },
      {
        "duration": 0,
        "start_time": "2023-09-22T08:19:50.210Z"
      },
      {
        "duration": 0,
        "start_time": "2023-09-22T08:19:50.212Z"
      },
      {
        "duration": 0,
        "start_time": "2023-09-22T08:19:50.214Z"
      },
      {
        "duration": 0,
        "start_time": "2023-09-22T08:19:50.216Z"
      },
      {
        "duration": 3,
        "start_time": "2023-09-22T08:20:13.628Z"
      },
      {
        "duration": 1151,
        "start_time": "2023-09-22T08:20:19.556Z"
      },
      {
        "duration": 987,
        "start_time": "2023-09-22T08:20:20.709Z"
      },
      {
        "duration": 166,
        "start_time": "2023-09-22T08:20:21.697Z"
      },
      {
        "duration": 1080,
        "start_time": "2023-09-22T08:20:21.865Z"
      },
      {
        "duration": 51,
        "start_time": "2023-09-22T08:20:22.947Z"
      },
      {
        "duration": 12,
        "start_time": "2023-09-22T08:20:23.010Z"
      },
      {
        "duration": 377,
        "start_time": "2023-09-22T08:20:23.024Z"
      },
      {
        "duration": 111,
        "start_time": "2023-09-22T08:20:23.403Z"
      },
      {
        "duration": 108,
        "start_time": "2023-09-22T08:20:23.515Z"
      },
      {
        "duration": 5,
        "start_time": "2023-09-22T08:20:23.625Z"
      },
      {
        "duration": 504,
        "start_time": "2023-09-22T08:20:23.631Z"
      },
      {
        "duration": 18,
        "start_time": "2023-09-22T08:20:24.137Z"
      },
      {
        "duration": 1046,
        "start_time": "2023-09-22T08:20:24.157Z"
      },
      {
        "duration": 549,
        "start_time": "2023-09-22T08:20:25.206Z"
      },
      {
        "duration": 179,
        "start_time": "2023-09-22T08:20:25.757Z"
      },
      {
        "duration": 173,
        "start_time": "2023-09-22T08:20:25.938Z"
      },
      {
        "duration": 9,
        "start_time": "2023-09-22T08:20:26.113Z"
      },
      {
        "duration": 0,
        "start_time": "2023-09-22T08:20:26.124Z"
      },
      {
        "duration": 0,
        "start_time": "2023-09-22T08:20:26.125Z"
      },
      {
        "duration": 0,
        "start_time": "2023-09-22T08:20:26.126Z"
      },
      {
        "duration": 0,
        "start_time": "2023-09-22T08:20:26.127Z"
      },
      {
        "duration": 0,
        "start_time": "2023-09-22T08:20:26.128Z"
      },
      {
        "duration": 0,
        "start_time": "2023-09-22T08:20:26.129Z"
      },
      {
        "duration": 0,
        "start_time": "2023-09-22T08:20:26.130Z"
      },
      {
        "duration": 0,
        "start_time": "2023-09-22T08:20:26.131Z"
      },
      {
        "duration": 0,
        "start_time": "2023-09-22T08:20:26.133Z"
      },
      {
        "duration": 0,
        "start_time": "2023-09-22T08:20:26.134Z"
      },
      {
        "duration": 0,
        "start_time": "2023-09-22T08:20:26.135Z"
      },
      {
        "duration": 3,
        "start_time": "2023-09-22T08:20:40.461Z"
      },
      {
        "duration": 1178,
        "start_time": "2023-09-22T08:20:50.069Z"
      },
      {
        "duration": 952,
        "start_time": "2023-09-22T08:20:51.250Z"
      },
      {
        "duration": 159,
        "start_time": "2023-09-22T08:20:52.208Z"
      },
      {
        "duration": 1086,
        "start_time": "2023-09-22T08:20:52.369Z"
      },
      {
        "duration": 58,
        "start_time": "2023-09-22T08:20:53.458Z"
      },
      {
        "duration": 9,
        "start_time": "2023-09-22T08:20:53.518Z"
      },
      {
        "duration": 387,
        "start_time": "2023-09-22T08:20:53.529Z"
      },
      {
        "duration": 113,
        "start_time": "2023-09-22T08:20:53.917Z"
      },
      {
        "duration": 123,
        "start_time": "2023-09-22T08:20:54.032Z"
      },
      {
        "duration": 7,
        "start_time": "2023-09-22T08:20:54.157Z"
      },
      {
        "duration": 535,
        "start_time": "2023-09-22T08:20:54.166Z"
      },
      {
        "duration": 23,
        "start_time": "2023-09-22T08:20:54.703Z"
      },
      {
        "duration": 988,
        "start_time": "2023-09-22T08:20:54.727Z"
      },
      {
        "duration": 550,
        "start_time": "2023-09-22T08:20:55.718Z"
      },
      {
        "duration": 181,
        "start_time": "2023-09-22T08:20:56.269Z"
      },
      {
        "duration": 222,
        "start_time": "2023-09-22T08:20:56.452Z"
      },
      {
        "duration": 10,
        "start_time": "2023-09-22T08:20:56.676Z"
      },
      {
        "duration": 0,
        "start_time": "2023-09-22T08:20:56.688Z"
      },
      {
        "duration": 1,
        "start_time": "2023-09-22T08:20:56.689Z"
      },
      {
        "duration": 0,
        "start_time": "2023-09-22T08:20:56.691Z"
      },
      {
        "duration": 0,
        "start_time": "2023-09-22T08:20:56.692Z"
      },
      {
        "duration": 0,
        "start_time": "2023-09-22T08:20:56.694Z"
      },
      {
        "duration": 0,
        "start_time": "2023-09-22T08:20:56.696Z"
      },
      {
        "duration": 0,
        "start_time": "2023-09-22T08:20:56.697Z"
      },
      {
        "duration": 0,
        "start_time": "2023-09-22T08:20:56.699Z"
      },
      {
        "duration": 0,
        "start_time": "2023-09-22T08:20:56.700Z"
      },
      {
        "duration": 0,
        "start_time": "2023-09-22T08:20:56.702Z"
      },
      {
        "duration": 0,
        "start_time": "2023-09-22T08:20:56.703Z"
      },
      {
        "duration": 1290,
        "start_time": "2023-09-22T08:21:14.292Z"
      },
      {
        "duration": 1016,
        "start_time": "2023-09-22T08:21:15.584Z"
      },
      {
        "duration": 168,
        "start_time": "2023-09-22T08:21:16.602Z"
      },
      {
        "duration": 1014,
        "start_time": "2023-09-22T08:21:16.772Z"
      },
      {
        "duration": 59,
        "start_time": "2023-09-22T08:21:17.789Z"
      },
      {
        "duration": 14,
        "start_time": "2023-09-22T08:21:17.849Z"
      },
      {
        "duration": 371,
        "start_time": "2023-09-22T08:21:17.864Z"
      },
      {
        "duration": 113,
        "start_time": "2023-09-22T08:21:18.237Z"
      },
      {
        "duration": 102,
        "start_time": "2023-09-22T08:21:18.351Z"
      },
      {
        "duration": 6,
        "start_time": "2023-09-22T08:21:18.455Z"
      },
      {
        "duration": 535,
        "start_time": "2023-09-22T08:21:18.463Z"
      },
      {
        "duration": 22,
        "start_time": "2023-09-22T08:21:19.000Z"
      },
      {
        "duration": 989,
        "start_time": "2023-09-22T08:21:19.024Z"
      },
      {
        "duration": 557,
        "start_time": "2023-09-22T08:21:20.016Z"
      },
      {
        "duration": 183,
        "start_time": "2023-09-22T08:21:20.575Z"
      },
      {
        "duration": 25832,
        "start_time": "2023-09-22T08:21:20.760Z"
      },
      {
        "duration": 10,
        "start_time": "2023-09-22T08:21:46.594Z"
      },
      {
        "duration": 0,
        "start_time": "2023-09-22T08:21:46.606Z"
      },
      {
        "duration": 0,
        "start_time": "2023-09-22T08:21:46.607Z"
      },
      {
        "duration": 0,
        "start_time": "2023-09-22T08:21:46.608Z"
      },
      {
        "duration": 0,
        "start_time": "2023-09-22T08:21:46.610Z"
      },
      {
        "duration": 0,
        "start_time": "2023-09-22T08:21:46.610Z"
      },
      {
        "duration": 0,
        "start_time": "2023-09-22T08:21:46.612Z"
      },
      {
        "duration": 0,
        "start_time": "2023-09-22T08:21:46.613Z"
      },
      {
        "duration": 0,
        "start_time": "2023-09-22T08:21:46.614Z"
      },
      {
        "duration": 0,
        "start_time": "2023-09-22T08:21:46.615Z"
      },
      {
        "duration": 0,
        "start_time": "2023-09-22T08:21:46.616Z"
      },
      {
        "duration": 0,
        "start_time": "2023-09-22T08:21:46.617Z"
      },
      {
        "duration": 1246,
        "start_time": "2023-09-22T08:22:22.434Z"
      },
      {
        "duration": 990,
        "start_time": "2023-09-22T08:22:23.683Z"
      },
      {
        "duration": 162,
        "start_time": "2023-09-22T08:22:24.674Z"
      },
      {
        "duration": 1057,
        "start_time": "2023-09-22T08:22:24.838Z"
      },
      {
        "duration": 54,
        "start_time": "2023-09-22T08:22:25.897Z"
      },
      {
        "duration": 130,
        "start_time": "2023-09-22T08:22:25.954Z"
      },
      {
        "duration": 527,
        "start_time": "2023-09-22T08:22:26.086Z"
      },
      {
        "duration": 116,
        "start_time": "2023-09-22T08:22:26.615Z"
      },
      {
        "duration": 109,
        "start_time": "2023-09-22T08:22:26.733Z"
      },
      {
        "duration": 78,
        "start_time": "2023-09-22T08:22:26.844Z"
      },
      {
        "duration": 534,
        "start_time": "2023-09-22T08:22:26.923Z"
      },
      {
        "duration": 18,
        "start_time": "2023-09-22T08:22:27.460Z"
      },
      {
        "duration": 997,
        "start_time": "2023-09-22T08:22:27.479Z"
      },
      {
        "duration": 552,
        "start_time": "2023-09-22T08:22:28.479Z"
      },
      {
        "duration": 184,
        "start_time": "2023-09-22T08:22:29.035Z"
      },
      {
        "duration": 36800,
        "start_time": "2023-09-22T08:22:29.222Z"
      },
      {
        "duration": 13,
        "start_time": "2023-09-22T08:23:06.024Z"
      },
      {
        "duration": 0,
        "start_time": "2023-09-22T08:23:06.039Z"
      },
      {
        "duration": 0,
        "start_time": "2023-09-22T08:23:06.040Z"
      },
      {
        "duration": 0,
        "start_time": "2023-09-22T08:23:06.042Z"
      },
      {
        "duration": 0,
        "start_time": "2023-09-22T08:23:06.043Z"
      },
      {
        "duration": 0,
        "start_time": "2023-09-22T08:23:06.045Z"
      },
      {
        "duration": 0,
        "start_time": "2023-09-22T08:23:06.046Z"
      },
      {
        "duration": 0,
        "start_time": "2023-09-22T08:23:06.047Z"
      },
      {
        "duration": 0,
        "start_time": "2023-09-22T08:23:06.049Z"
      },
      {
        "duration": 0,
        "start_time": "2023-09-22T08:23:06.050Z"
      },
      {
        "duration": 0,
        "start_time": "2023-09-22T08:23:06.052Z"
      },
      {
        "duration": 0,
        "start_time": "2023-09-22T08:23:06.053Z"
      },
      {
        "duration": 1321,
        "start_time": "2023-09-22T08:23:28.995Z"
      },
      {
        "duration": 1066,
        "start_time": "2023-09-22T08:23:30.318Z"
      },
      {
        "duration": 169,
        "start_time": "2023-09-22T08:23:31.386Z"
      },
      {
        "duration": 1269,
        "start_time": "2023-09-22T08:23:31.557Z"
      },
      {
        "duration": 51,
        "start_time": "2023-09-22T08:23:32.828Z"
      },
      {
        "duration": 29,
        "start_time": "2023-09-22T08:23:32.881Z"
      },
      {
        "duration": 384,
        "start_time": "2023-09-22T08:23:32.911Z"
      },
      {
        "duration": 116,
        "start_time": "2023-09-22T08:23:33.297Z"
      },
      {
        "duration": 111,
        "start_time": "2023-09-22T08:23:33.415Z"
      },
      {
        "duration": 6,
        "start_time": "2023-09-22T08:23:33.528Z"
      },
      {
        "duration": 533,
        "start_time": "2023-09-22T08:23:33.535Z"
      },
      {
        "duration": 22,
        "start_time": "2023-09-22T08:23:34.070Z"
      },
      {
        "duration": 1034,
        "start_time": "2023-09-22T08:23:34.093Z"
      },
      {
        "duration": 565,
        "start_time": "2023-09-22T08:23:35.130Z"
      },
      {
        "duration": 188,
        "start_time": "2023-09-22T08:23:35.697Z"
      },
      {
        "duration": 36123,
        "start_time": "2023-09-22T08:23:35.887Z"
      },
      {
        "duration": 3,
        "start_time": "2023-09-22T08:24:12.012Z"
      },
      {
        "duration": 198,
        "start_time": "2023-09-22T08:24:12.017Z"
      },
      {
        "duration": 0,
        "start_time": "2023-09-22T08:24:12.217Z"
      },
      {
        "duration": 0,
        "start_time": "2023-09-22T08:24:12.218Z"
      },
      {
        "duration": 0,
        "start_time": "2023-09-22T08:24:12.220Z"
      },
      {
        "duration": 0,
        "start_time": "2023-09-22T08:24:12.221Z"
      },
      {
        "duration": 0,
        "start_time": "2023-09-22T08:24:12.222Z"
      },
      {
        "duration": 0,
        "start_time": "2023-09-22T08:24:12.223Z"
      },
      {
        "duration": 0,
        "start_time": "2023-09-22T08:24:12.224Z"
      },
      {
        "duration": 0,
        "start_time": "2023-09-22T08:24:12.225Z"
      },
      {
        "duration": 0,
        "start_time": "2023-09-22T08:24:12.226Z"
      },
      {
        "duration": 0,
        "start_time": "2023-09-22T08:24:12.227Z"
      },
      {
        "duration": 1253,
        "start_time": "2023-09-22T08:24:50.679Z"
      },
      {
        "duration": 1101,
        "start_time": "2023-09-22T08:24:51.934Z"
      },
      {
        "duration": 174,
        "start_time": "2023-09-22T08:24:53.037Z"
      },
      {
        "duration": 1066,
        "start_time": "2023-09-22T08:24:53.213Z"
      },
      {
        "duration": 56,
        "start_time": "2023-09-22T08:24:54.281Z"
      },
      {
        "duration": 73,
        "start_time": "2023-09-22T08:24:54.339Z"
      },
      {
        "duration": 421,
        "start_time": "2023-09-22T08:24:54.414Z"
      },
      {
        "duration": 119,
        "start_time": "2023-09-22T08:24:54.838Z"
      },
      {
        "duration": 114,
        "start_time": "2023-09-22T08:24:54.959Z"
      },
      {
        "duration": 56,
        "start_time": "2023-09-22T08:24:55.075Z"
      },
      {
        "duration": 731,
        "start_time": "2023-09-22T08:24:55.132Z"
      },
      {
        "duration": 19,
        "start_time": "2023-09-22T08:24:55.865Z"
      },
      {
        "duration": 1000,
        "start_time": "2023-09-22T08:24:55.886Z"
      },
      {
        "duration": 547,
        "start_time": "2023-09-22T08:24:56.889Z"
      },
      {
        "duration": 174,
        "start_time": "2023-09-22T08:24:57.438Z"
      },
      {
        "duration": 45395,
        "start_time": "2023-09-22T08:24:57.614Z"
      },
      {
        "duration": 3,
        "start_time": "2023-09-22T08:25:43.012Z"
      },
      {
        "duration": 11,
        "start_time": "2023-09-22T08:25:43.017Z"
      },
      {
        "duration": 431,
        "start_time": "2023-09-22T08:25:43.030Z"
      },
      {
        "duration": 3,
        "start_time": "2023-09-22T08:25:43.463Z"
      },
      {
        "duration": 249,
        "start_time": "2023-09-22T08:25:43.468Z"
      },
      {
        "duration": 3,
        "start_time": "2023-09-22T08:25:43.720Z"
      },
      {
        "duration": 135,
        "start_time": "2023-09-22T08:25:43.725Z"
      },
      {
        "duration": 119,
        "start_time": "2023-09-22T08:25:43.862Z"
      },
      {
        "duration": 3,
        "start_time": "2023-09-22T08:25:43.983Z"
      },
      {
        "duration": 21,
        "start_time": "2023-09-22T08:25:43.988Z"
      },
      {
        "duration": 0,
        "start_time": "2023-09-22T08:25:44.011Z"
      },
      {
        "duration": 0,
        "start_time": "2023-09-22T08:25:44.012Z"
      },
      {
        "duration": 1559,
        "start_time": "2023-09-22T08:27:15.193Z"
      },
      {
        "duration": 1057,
        "start_time": "2023-09-22T08:27:16.754Z"
      },
      {
        "duration": 155,
        "start_time": "2023-09-22T08:27:17.813Z"
      },
      {
        "duration": 1117,
        "start_time": "2023-09-22T08:27:17.969Z"
      },
      {
        "duration": 53,
        "start_time": "2023-09-22T08:27:19.088Z"
      },
      {
        "duration": 15,
        "start_time": "2023-09-22T08:27:19.144Z"
      },
      {
        "duration": 380,
        "start_time": "2023-09-22T08:27:19.160Z"
      },
      {
        "duration": 133,
        "start_time": "2023-09-22T08:27:19.542Z"
      },
      {
        "duration": 113,
        "start_time": "2023-09-22T08:27:19.676Z"
      },
      {
        "duration": 21,
        "start_time": "2023-09-22T08:27:19.792Z"
      },
      {
        "duration": 568,
        "start_time": "2023-09-22T08:27:19.815Z"
      },
      {
        "duration": 31,
        "start_time": "2023-09-22T08:27:20.385Z"
      },
      {
        "duration": 1125,
        "start_time": "2023-09-22T08:27:20.418Z"
      },
      {
        "duration": 557,
        "start_time": "2023-09-22T08:27:21.546Z"
      },
      {
        "duration": 177,
        "start_time": "2023-09-22T08:27:22.105Z"
      },
      {
        "duration": 3,
        "start_time": "2023-09-22T08:27:22.284Z"
      },
      {
        "duration": 155,
        "start_time": "2023-09-22T08:27:22.288Z"
      },
      {
        "duration": 0,
        "start_time": "2023-09-22T08:27:22.445Z"
      },
      {
        "duration": 0,
        "start_time": "2023-09-22T08:27:22.446Z"
      },
      {
        "duration": 0,
        "start_time": "2023-09-22T08:27:22.448Z"
      },
      {
        "duration": 0,
        "start_time": "2023-09-22T08:27:22.449Z"
      },
      {
        "duration": 0,
        "start_time": "2023-09-22T08:27:22.449Z"
      },
      {
        "duration": 0,
        "start_time": "2023-09-22T08:27:22.452Z"
      },
      {
        "duration": 0,
        "start_time": "2023-09-22T08:27:22.453Z"
      },
      {
        "duration": 0,
        "start_time": "2023-09-22T08:27:22.455Z"
      },
      {
        "duration": 0,
        "start_time": "2023-09-22T08:27:22.456Z"
      },
      {
        "duration": 0,
        "start_time": "2023-09-22T08:27:22.457Z"
      },
      {
        "duration": 0,
        "start_time": "2023-09-22T08:27:22.459Z"
      },
      {
        "duration": 1523,
        "start_time": "2023-09-22T08:32:01.592Z"
      },
      {
        "duration": 1011,
        "start_time": "2023-09-22T08:32:03.117Z"
      },
      {
        "duration": 162,
        "start_time": "2023-09-22T08:32:04.130Z"
      },
      {
        "duration": 1148,
        "start_time": "2023-09-22T08:32:04.294Z"
      },
      {
        "duration": 79,
        "start_time": "2023-09-22T08:32:05.445Z"
      },
      {
        "duration": 8,
        "start_time": "2023-09-22T08:32:05.527Z"
      },
      {
        "duration": 418,
        "start_time": "2023-09-22T08:32:05.537Z"
      },
      {
        "duration": 126,
        "start_time": "2023-09-22T08:32:05.957Z"
      },
      {
        "duration": 113,
        "start_time": "2023-09-22T08:32:06.084Z"
      },
      {
        "duration": 7,
        "start_time": "2023-09-22T08:32:06.210Z"
      },
      {
        "duration": 549,
        "start_time": "2023-09-22T08:32:06.219Z"
      },
      {
        "duration": 23,
        "start_time": "2023-09-22T08:32:06.769Z"
      },
      {
        "duration": 1147,
        "start_time": "2023-09-22T08:32:06.794Z"
      },
      {
        "duration": 564,
        "start_time": "2023-09-22T08:32:07.945Z"
      },
      {
        "duration": 253,
        "start_time": "2023-09-22T08:32:08.511Z"
      },
      {
        "duration": 3,
        "start_time": "2023-09-22T08:32:08.767Z"
      },
      {
        "duration": 21,
        "start_time": "2023-09-22T08:32:08.772Z"
      },
      {
        "duration": 26,
        "start_time": "2023-09-22T08:32:08.795Z"
      },
      {
        "duration": 29,
        "start_time": "2023-09-22T08:32:08.823Z"
      },
      {
        "duration": 15,
        "start_time": "2023-09-22T08:32:08.854Z"
      },
      {
        "duration": 47,
        "start_time": "2023-09-22T08:32:08.871Z"
      },
      {
        "duration": 27,
        "start_time": "2023-09-22T08:32:08.921Z"
      },
      {
        "duration": 183,
        "start_time": "2023-09-22T08:32:08.951Z"
      },
      {
        "duration": 4,
        "start_time": "2023-09-22T08:32:09.136Z"
      },
      {
        "duration": 32,
        "start_time": "2023-09-22T08:32:09.142Z"
      },
      {
        "duration": 172,
        "start_time": "2023-09-22T08:32:09.176Z"
      },
      {
        "duration": 0,
        "start_time": "2023-09-22T08:32:09.351Z"
      },
      {
        "duration": 0,
        "start_time": "2023-09-22T08:32:09.353Z"
      },
      {
        "duration": 5,
        "start_time": "2023-09-22T08:34:06.525Z"
      },
      {
        "duration": 1405,
        "start_time": "2023-09-22T08:35:20.298Z"
      },
      {
        "duration": 1034,
        "start_time": "2023-09-22T08:35:21.705Z"
      },
      {
        "duration": 167,
        "start_time": "2023-09-22T08:35:22.742Z"
      },
      {
        "duration": 1023,
        "start_time": "2023-09-22T08:35:22.911Z"
      },
      {
        "duration": 51,
        "start_time": "2023-09-22T08:35:23.936Z"
      },
      {
        "duration": 28,
        "start_time": "2023-09-22T08:35:23.988Z"
      },
      {
        "duration": 386,
        "start_time": "2023-09-22T08:35:24.018Z"
      },
      {
        "duration": 118,
        "start_time": "2023-09-22T08:35:24.405Z"
      },
      {
        "duration": 122,
        "start_time": "2023-09-22T08:35:24.525Z"
      },
      {
        "duration": 6,
        "start_time": "2023-09-22T08:35:24.649Z"
      },
      {
        "duration": 519,
        "start_time": "2023-09-22T08:35:24.657Z"
      },
      {
        "duration": 32,
        "start_time": "2023-09-22T08:35:25.178Z"
      },
      {
        "duration": 1075,
        "start_time": "2023-09-22T08:35:25.212Z"
      },
      {
        "duration": 552,
        "start_time": "2023-09-22T08:35:26.290Z"
      },
      {
        "duration": 176,
        "start_time": "2023-09-22T08:35:26.843Z"
      },
      {
        "duration": 3,
        "start_time": "2023-09-22T08:35:27.021Z"
      },
      {
        "duration": 12,
        "start_time": "2023-09-22T08:35:27.026Z"
      },
      {
        "duration": 5,
        "start_time": "2023-09-22T08:35:27.040Z"
      },
      {
        "duration": 7,
        "start_time": "2023-09-22T08:35:27.047Z"
      },
      {
        "duration": 11,
        "start_time": "2023-09-22T08:35:27.055Z"
      },
      {
        "duration": 9,
        "start_time": "2023-09-22T08:35:27.068Z"
      },
      {
        "duration": 25,
        "start_time": "2023-09-22T08:35:27.079Z"
      },
      {
        "duration": 16,
        "start_time": "2023-09-22T08:35:27.106Z"
      },
      {
        "duration": 94,
        "start_time": "2023-09-22T08:35:27.123Z"
      },
      {
        "duration": 2,
        "start_time": "2023-09-22T08:35:27.220Z"
      },
      {
        "duration": 22,
        "start_time": "2023-09-22T08:35:27.224Z"
      },
      {
        "duration": 232,
        "start_time": "2023-09-22T08:35:27.248Z"
      },
      {
        "duration": 4,
        "start_time": "2023-09-22T08:35:27.484Z"
      },
      {
        "duration": 144,
        "start_time": "2023-09-22T08:35:27.490Z"
      },
      {
        "duration": 1445,
        "start_time": "2023-09-22T08:37:01.930Z"
      },
      {
        "duration": 939,
        "start_time": "2023-09-22T08:37:03.377Z"
      },
      {
        "duration": 155,
        "start_time": "2023-09-22T08:37:04.318Z"
      },
      {
        "duration": 1046,
        "start_time": "2023-09-22T08:37:04.475Z"
      },
      {
        "duration": 52,
        "start_time": "2023-09-22T08:37:05.523Z"
      },
      {
        "duration": 31,
        "start_time": "2023-09-22T08:37:05.577Z"
      },
      {
        "duration": 385,
        "start_time": "2023-09-22T08:37:05.610Z"
      },
      {
        "duration": 127,
        "start_time": "2023-09-22T08:37:05.997Z"
      },
      {
        "duration": 121,
        "start_time": "2023-09-22T08:37:06.126Z"
      },
      {
        "duration": 94,
        "start_time": "2023-09-22T08:37:06.249Z"
      },
      {
        "duration": 505,
        "start_time": "2023-09-22T08:37:06.345Z"
      },
      {
        "duration": 24,
        "start_time": "2023-09-22T08:37:06.852Z"
      },
      {
        "duration": 1009,
        "start_time": "2023-09-22T08:37:06.877Z"
      },
      {
        "duration": 543,
        "start_time": "2023-09-22T08:37:07.890Z"
      },
      {
        "duration": 187,
        "start_time": "2023-09-22T08:37:08.435Z"
      },
      {
        "duration": 25489,
        "start_time": "2023-09-22T08:37:08.623Z"
      },
      {
        "duration": 5,
        "start_time": "2023-09-22T08:37:34.114Z"
      },
      {
        "duration": 3,
        "start_time": "2023-09-22T08:37:34.210Z"
      },
      {
        "duration": 240,
        "start_time": "2023-09-22T08:37:34.215Z"
      },
      {
        "duration": 3,
        "start_time": "2023-09-22T08:37:34.456Z"
      },
      {
        "duration": 120,
        "start_time": "2023-09-22T08:37:34.461Z"
      },
      {
        "duration": 3,
        "start_time": "2023-09-22T08:37:34.583Z"
      },
      {
        "duration": 14,
        "start_time": "2023-09-22T08:37:34.588Z"
      },
      {
        "duration": 112,
        "start_time": "2023-09-22T08:37:34.604Z"
      },
      {
        "duration": 1289,
        "start_time": "2023-09-22T08:38:00.477Z"
      },
      {
        "duration": 1085,
        "start_time": "2023-09-22T08:38:01.768Z"
      },
      {
        "duration": 169,
        "start_time": "2023-09-22T08:38:02.855Z"
      },
      {
        "duration": 1013,
        "start_time": "2023-09-22T08:38:03.026Z"
      },
      {
        "duration": 51,
        "start_time": "2023-09-22T08:38:04.042Z"
      },
      {
        "duration": 37,
        "start_time": "2023-09-22T08:38:04.096Z"
      },
      {
        "duration": 387,
        "start_time": "2023-09-22T08:38:04.135Z"
      },
      {
        "duration": 112,
        "start_time": "2023-09-22T08:38:04.524Z"
      },
      {
        "duration": 107,
        "start_time": "2023-09-22T08:38:04.638Z"
      },
      {
        "duration": 16,
        "start_time": "2023-09-22T08:38:04.747Z"
      },
      {
        "duration": 548,
        "start_time": "2023-09-22T08:38:04.765Z"
      },
      {
        "duration": 20,
        "start_time": "2023-09-22T08:38:05.315Z"
      },
      {
        "duration": 1007,
        "start_time": "2023-09-22T08:38:05.337Z"
      },
      {
        "duration": 540,
        "start_time": "2023-09-22T08:38:06.347Z"
      },
      {
        "duration": 175,
        "start_time": "2023-09-22T08:38:06.889Z"
      },
      {
        "duration": 25746,
        "start_time": "2023-09-22T08:38:07.065Z"
      },
      {
        "duration": 3,
        "start_time": "2023-09-22T08:38:32.814Z"
      },
      {
        "duration": 39,
        "start_time": "2023-09-22T08:38:32.819Z"
      },
      {
        "duration": 116952,
        "start_time": "2023-09-22T08:38:32.861Z"
      },
      {
        "duration": 3,
        "start_time": "2023-09-22T08:40:29.815Z"
      },
      {
        "duration": 7136833,
        "start_time": "2023-09-22T08:40:29.819Z"
      },
      {
        "duration": 4,
        "start_time": "2023-09-22T10:39:26.654Z"
      },
      {
        "duration": 27,
        "start_time": "2023-09-22T10:39:26.660Z"
      },
      {
        "duration": 169,
        "start_time": "2023-09-22T10:39:26.690Z"
      },
      {
        "duration": 559028,
        "start_time": "2023-09-22T10:39:26.861Z"
      },
      {
        "duration": 2,
        "start_time": "2023-09-22T10:48:45.892Z"
      },
      {
        "duration": 206,
        "start_time": "2023-09-22T10:48:45.896Z"
      },
      {
        "duration": 188,
        "start_time": "2023-09-22T10:48:46.104Z"
      },
      {
        "duration": 12,
        "start_time": "2023-09-22T10:48:46.294Z"
      },
      {
        "duration": 108,
        "start_time": "2023-09-22T12:07:11.990Z"
      },
      {
        "duration": 889561,
        "start_time": "2023-09-22T12:07:18.469Z"
      },
      {
        "duration": 83,
        "start_time": "2023-09-22T12:22:08.032Z"
      },
      {
        "duration": 4,
        "start_time": "2023-09-22T12:44:39.883Z"
      },
      {
        "duration": 16,
        "start_time": "2023-09-22T12:44:41.383Z"
      },
      {
        "duration": 1149,
        "start_time": "2023-09-23T14:21:36.446Z"
      },
      {
        "duration": 1273,
        "start_time": "2023-09-23T14:21:37.597Z"
      },
      {
        "duration": 163,
        "start_time": "2023-09-23T14:21:38.871Z"
      },
      {
        "duration": 988,
        "start_time": "2023-09-23T14:21:39.037Z"
      },
      {
        "duration": 56,
        "start_time": "2023-09-23T14:21:40.027Z"
      },
      {
        "duration": 5,
        "start_time": "2023-09-23T14:21:40.085Z"
      },
      {
        "duration": 424,
        "start_time": "2023-09-23T14:21:40.091Z"
      },
      {
        "duration": 107,
        "start_time": "2023-09-23T14:21:40.517Z"
      },
      {
        "duration": 110,
        "start_time": "2023-09-23T14:21:40.626Z"
      },
      {
        "duration": 7,
        "start_time": "2023-09-23T14:21:40.739Z"
      },
      {
        "duration": 518,
        "start_time": "2023-09-23T14:21:40.748Z"
      },
      {
        "duration": 25,
        "start_time": "2023-09-23T14:21:41.268Z"
      },
      {
        "duration": 18,
        "start_time": "2023-09-23T14:21:54.707Z"
      },
      {
        "duration": 1582,
        "start_time": "2023-09-24T10:28:53.655Z"
      },
      {
        "duration": 3195,
        "start_time": "2023-09-24T10:28:55.239Z"
      },
      {
        "duration": 164,
        "start_time": "2023-09-24T10:28:58.437Z"
      },
      {
        "duration": 1265,
        "start_time": "2023-09-24T10:28:58.604Z"
      },
      {
        "duration": 57,
        "start_time": "2023-09-24T10:28:59.871Z"
      },
      {
        "duration": 14,
        "start_time": "2023-09-24T10:28:59.930Z"
      },
      {
        "duration": 398,
        "start_time": "2023-09-24T10:28:59.946Z"
      },
      {
        "duration": 121,
        "start_time": "2023-09-24T10:29:00.346Z"
      },
      {
        "duration": 139,
        "start_time": "2023-09-24T10:29:00.469Z"
      },
      {
        "duration": 62,
        "start_time": "2023-09-24T10:29:00.611Z"
      },
      {
        "duration": 644,
        "start_time": "2023-09-24T10:29:00.676Z"
      },
      {
        "duration": 117,
        "start_time": "2023-09-24T10:31:00.968Z"
      },
      {
        "duration": 5,
        "start_time": "2023-09-24T10:31:13.544Z"
      },
      {
        "duration": 121,
        "start_time": "2023-09-24T10:31:23.641Z"
      },
      {
        "duration": 588,
        "start_time": "2023-09-24T10:47:14.662Z"
      },
      {
        "duration": 14,
        "start_time": "2023-09-24T10:47:48.383Z"
      },
      {
        "duration": 15,
        "start_time": "2023-09-24T13:57:04.449Z"
      },
      {
        "duration": 14,
        "start_time": "2023-09-24T13:57:35.740Z"
      },
      {
        "duration": 7,
        "start_time": "2023-09-24T13:58:17.258Z"
      },
      {
        "duration": 35,
        "start_time": "2023-09-24T13:58:45.115Z"
      },
      {
        "duration": 79,
        "start_time": "2023-09-24T13:58:49.277Z"
      },
      {
        "duration": 167,
        "start_time": "2023-09-24T14:01:25.000Z"
      },
      {
        "duration": 35,
        "start_time": "2023-09-24T14:03:09.572Z"
      },
      {
        "duration": 104,
        "start_time": "2023-09-24T14:03:10.809Z"
      },
      {
        "duration": 159,
        "start_time": "2023-09-24T14:03:16.482Z"
      },
      {
        "duration": 28,
        "start_time": "2023-09-24T14:03:26.508Z"
      },
      {
        "duration": 84,
        "start_time": "2023-09-24T14:03:26.909Z"
      },
      {
        "duration": 27,
        "start_time": "2023-09-24T14:03:39.590Z"
      },
      {
        "duration": 96,
        "start_time": "2023-09-24T14:03:39.876Z"
      },
      {
        "duration": 7,
        "start_time": "2023-09-24T14:03:44.185Z"
      },
      {
        "duration": 1150,
        "start_time": "2023-09-24T14:03:44.249Z"
      },
      {
        "duration": 211,
        "start_time": "2023-09-24T14:03:45.402Z"
      },
      {
        "duration": 1515,
        "start_time": "2023-09-24T14:03:45.615Z"
      },
      {
        "duration": 74,
        "start_time": "2023-09-24T14:03:47.132Z"
      },
      {
        "duration": 6,
        "start_time": "2023-09-24T14:03:47.208Z"
      },
      {
        "duration": 490,
        "start_time": "2023-09-24T14:03:47.217Z"
      },
      {
        "duration": 141,
        "start_time": "2023-09-24T14:03:47.710Z"
      },
      {
        "duration": 142,
        "start_time": "2023-09-24T14:03:47.853Z"
      },
      {
        "duration": 11,
        "start_time": "2023-09-24T14:03:47.998Z"
      },
      {
        "duration": 676,
        "start_time": "2023-09-24T14:03:48.012Z"
      },
      {
        "duration": 272,
        "start_time": "2023-09-24T14:03:48.691Z"
      },
      {
        "duration": 24,
        "start_time": "2023-09-24T14:03:48.966Z"
      },
      {
        "duration": 19,
        "start_time": "2023-09-24T14:03:48.993Z"
      },
      {
        "duration": 43,
        "start_time": "2023-09-24T14:03:49.016Z"
      },
      {
        "duration": 71,
        "start_time": "2023-09-24T14:03:49.062Z"
      },
      {
        "duration": 559,
        "start_time": "2023-09-24T14:03:49.136Z"
      },
      {
        "duration": 43,
        "start_time": "2023-09-24T14:03:52.076Z"
      },
      {
        "duration": 93,
        "start_time": "2023-09-24T14:03:52.204Z"
      },
      {
        "duration": 109,
        "start_time": "2023-09-24T14:05:11.147Z"
      },
      {
        "duration": 109,
        "start_time": "2023-09-24T14:05:14.919Z"
      },
      {
        "duration": 172,
        "start_time": "2023-09-24T14:05:34.610Z"
      },
      {
        "duration": 25,
        "start_time": "2023-09-24T14:06:05.076Z"
      },
      {
        "duration": 23,
        "start_time": "2023-09-24T14:06:07.554Z"
      },
      {
        "duration": 12,
        "start_time": "2023-09-24T14:06:10.519Z"
      },
      {
        "duration": 183,
        "start_time": "2023-09-24T14:06:14.073Z"
      },
      {
        "duration": 11,
        "start_time": "2023-09-24T14:06:26.516Z"
      },
      {
        "duration": 36,
        "start_time": "2023-09-24T14:06:36.075Z"
      },
      {
        "duration": 28,
        "start_time": "2023-09-24T14:06:48.347Z"
      },
      {
        "duration": 1098,
        "start_time": "2023-09-24T14:06:51.316Z"
      },
      {
        "duration": 174,
        "start_time": "2023-09-24T14:06:58.806Z"
      },
      {
        "duration": 122,
        "start_time": "2023-09-24T14:07:05.626Z"
      },
      {
        "duration": 179,
        "start_time": "2023-09-24T14:07:20.281Z"
      },
      {
        "duration": 31,
        "start_time": "2023-09-24T14:07:50.738Z"
      },
      {
        "duration": 121,
        "start_time": "2023-09-24T14:07:53.480Z"
      },
      {
        "duration": 11,
        "start_time": "2023-09-24T14:08:15.030Z"
      },
      {
        "duration": 270,
        "start_time": "2023-09-24T14:08:18.818Z"
      },
      {
        "duration": 270,
        "start_time": "2023-09-24T14:08:38.224Z"
      },
      {
        "duration": 10,
        "start_time": "2023-09-24T14:09:37.654Z"
      },
      {
        "duration": 1402,
        "start_time": "2023-09-24T14:09:37.725Z"
      },
      {
        "duration": 263,
        "start_time": "2023-09-24T14:09:39.129Z"
      },
      {
        "duration": 1533,
        "start_time": "2023-09-24T14:09:39.394Z"
      },
      {
        "duration": 72,
        "start_time": "2023-09-24T14:09:40.929Z"
      },
      {
        "duration": 6,
        "start_time": "2023-09-24T14:09:41.003Z"
      },
      {
        "duration": 547,
        "start_time": "2023-09-24T14:09:41.012Z"
      },
      {
        "duration": 164,
        "start_time": "2023-09-24T14:09:41.562Z"
      },
      {
        "duration": 149,
        "start_time": "2023-09-24T14:09:41.729Z"
      },
      {
        "duration": 10,
        "start_time": "2023-09-24T14:09:41.881Z"
      },
      {
        "duration": 655,
        "start_time": "2023-09-24T14:09:41.896Z"
      },
      {
        "duration": 227,
        "start_time": "2023-09-24T14:09:42.557Z"
      },
      {
        "duration": 21,
        "start_time": "2023-09-24T14:09:42.786Z"
      },
      {
        "duration": 34,
        "start_time": "2023-09-24T14:09:42.810Z"
      },
      {
        "duration": 17,
        "start_time": "2023-09-24T14:09:42.856Z"
      },
      {
        "duration": 55,
        "start_time": "2023-09-24T14:09:42.878Z"
      },
      {
        "duration": 116,
        "start_time": "2023-09-24T14:09:42.935Z"
      },
      {
        "duration": 181,
        "start_time": "2023-09-24T14:09:43.058Z"
      },
      {
        "duration": 57,
        "start_time": "2023-09-24T14:09:43.240Z"
      },
      {
        "duration": 122,
        "start_time": "2023-09-24T14:09:43.300Z"
      },
      {
        "duration": 347,
        "start_time": "2023-09-24T14:09:43.424Z"
      },
      {
        "duration": 41,
        "start_time": "2023-09-24T14:09:43.774Z"
      },
      {
        "duration": 129,
        "start_time": "2023-09-24T14:09:43.818Z"
      },
      {
        "duration": 217,
        "start_time": "2023-09-24T14:09:43.957Z"
      },
      {
        "duration": 237,
        "start_time": "2023-09-24T14:09:44.178Z"
      },
      {
        "duration": 27,
        "start_time": "2023-09-24T14:09:44.417Z"
      },
      {
        "duration": 119,
        "start_time": "2023-09-24T14:09:44.457Z"
      },
      {
        "duration": 1196,
        "start_time": "2023-09-24T14:09:44.579Z"
      },
      {
        "duration": 564,
        "start_time": "2023-09-24T14:09:45.780Z"
      },
      {
        "duration": 12,
        "start_time": "2023-09-24T14:09:46.346Z"
      },
      {
        "duration": 232,
        "start_time": "2023-09-24T14:09:46.361Z"
      },
      {
        "duration": 2163,
        "start_time": "2023-09-24T14:10:34.568Z"
      },
      {
        "duration": 1347,
        "start_time": "2023-09-24T14:10:36.734Z"
      },
      {
        "duration": 260,
        "start_time": "2023-09-24T14:10:38.084Z"
      },
      {
        "duration": 1569,
        "start_time": "2023-09-24T14:10:38.347Z"
      },
      {
        "duration": 79,
        "start_time": "2023-09-24T14:10:39.918Z"
      },
      {
        "duration": 17,
        "start_time": "2023-09-24T14:10:39.999Z"
      },
      {
        "duration": 515,
        "start_time": "2023-09-24T14:10:40.019Z"
      },
      {
        "duration": 142,
        "start_time": "2023-09-24T14:10:40.536Z"
      },
      {
        "duration": 135,
        "start_time": "2023-09-24T14:10:40.680Z"
      },
      {
        "duration": 9,
        "start_time": "2023-09-24T14:10:40.819Z"
      },
      {
        "duration": 665,
        "start_time": "2023-09-24T14:10:40.830Z"
      },
      {
        "duration": 216,
        "start_time": "2023-09-24T14:10:41.498Z"
      },
      {
        "duration": 17,
        "start_time": "2023-09-24T14:10:41.717Z"
      },
      {
        "duration": 20,
        "start_time": "2023-09-24T14:10:41.756Z"
      },
      {
        "duration": 11,
        "start_time": "2023-09-24T14:10:41.778Z"
      },
      {
        "duration": 66,
        "start_time": "2023-09-24T14:10:41.791Z"
      },
      {
        "duration": 184,
        "start_time": "2023-09-24T14:10:41.861Z"
      },
      {
        "duration": 212,
        "start_time": "2023-09-24T14:10:42.047Z"
      },
      {
        "duration": 50,
        "start_time": "2023-09-24T14:10:42.262Z"
      },
      {
        "duration": 175,
        "start_time": "2023-09-24T14:10:42.315Z"
      },
      {
        "duration": 221,
        "start_time": "2023-09-24T14:10:42.492Z"
      },
      {
        "duration": 56,
        "start_time": "2023-09-24T14:10:42.717Z"
      },
      {
        "duration": 144,
        "start_time": "2023-09-24T14:10:42.777Z"
      },
      {
        "duration": 336,
        "start_time": "2023-09-24T14:10:42.923Z"
      },
      {
        "duration": 240,
        "start_time": "2023-09-24T14:10:43.262Z"
      },
      {
        "duration": 18,
        "start_time": "2023-09-24T14:10:43.504Z"
      },
      {
        "duration": 154,
        "start_time": "2023-09-24T14:10:43.525Z"
      },
      {
        "duration": 96,
        "start_time": "2023-09-24T14:10:43.682Z"
      },
      {
        "duration": 1219,
        "start_time": "2023-09-24T14:42:14.409Z"
      },
      {
        "duration": 131,
        "start_time": "2023-09-24T14:43:05.970Z"
      },
      {
        "duration": 18,
        "start_time": "2023-09-24T14:43:47.923Z"
      },
      {
        "duration": 20,
        "start_time": "2023-09-24T14:43:59.656Z"
      },
      {
        "duration": 21,
        "start_time": "2023-09-24T14:44:08.665Z"
      },
      {
        "duration": 4,
        "start_time": "2023-09-24T14:44:28.391Z"
      },
      {
        "duration": 1132,
        "start_time": "2023-09-24T14:44:28.397Z"
      },
      {
        "duration": 182,
        "start_time": "2023-09-24T14:44:29.531Z"
      },
      {
        "duration": 1194,
        "start_time": "2023-09-24T14:44:29.715Z"
      },
      {
        "duration": 64,
        "start_time": "2023-09-24T14:44:30.911Z"
      },
      {
        "duration": 47,
        "start_time": "2023-09-24T14:44:30.977Z"
      },
      {
        "duration": 431,
        "start_time": "2023-09-24T14:44:31.025Z"
      },
      {
        "duration": 129,
        "start_time": "2023-09-24T14:44:31.458Z"
      },
      {
        "duration": 115,
        "start_time": "2023-09-24T14:44:31.589Z"
      },
      {
        "duration": 8,
        "start_time": "2023-09-24T14:44:31.705Z"
      },
      {
        "duration": 554,
        "start_time": "2023-09-24T14:44:31.715Z"
      },
      {
        "duration": 208,
        "start_time": "2023-09-24T14:44:32.272Z"
      },
      {
        "duration": 16,
        "start_time": "2023-09-24T14:44:32.481Z"
      },
      {
        "duration": 16,
        "start_time": "2023-09-24T14:44:32.501Z"
      },
      {
        "duration": 9,
        "start_time": "2023-09-24T14:44:32.519Z"
      },
      {
        "duration": 42,
        "start_time": "2023-09-24T14:44:32.557Z"
      },
      {
        "duration": 116,
        "start_time": "2023-09-24T14:44:32.600Z"
      },
      {
        "duration": 163,
        "start_time": "2023-09-24T14:44:32.718Z"
      },
      {
        "duration": 42,
        "start_time": "2023-09-24T14:44:32.883Z"
      },
      {
        "duration": 116,
        "start_time": "2023-09-24T14:44:32.927Z"
      },
      {
        "duration": 184,
        "start_time": "2023-09-24T14:44:33.045Z"
      },
      {
        "duration": 39,
        "start_time": "2023-09-24T14:44:33.231Z"
      },
      {
        "duration": 93,
        "start_time": "2023-09-24T14:44:33.272Z"
      },
      {
        "duration": 194,
        "start_time": "2023-09-24T14:44:33.368Z"
      },
      {
        "duration": 209,
        "start_time": "2023-09-24T14:44:33.564Z"
      },
      {
        "duration": 19,
        "start_time": "2023-09-24T14:44:33.775Z"
      },
      {
        "duration": 109,
        "start_time": "2023-09-24T14:44:33.796Z"
      },
      {
        "duration": 91,
        "start_time": "2023-09-24T14:44:33.907Z"
      },
      {
        "duration": 2,
        "start_time": "2023-09-24T14:44:34.000Z"
      },
      {
        "duration": 10,
        "start_time": "2023-09-24T14:44:34.004Z"
      },
      {
        "duration": 10,
        "start_time": "2023-09-24T14:44:34.016Z"
      },
      {
        "duration": 21,
        "start_time": "2023-09-24T14:44:34.028Z"
      },
      {
        "duration": 1009,
        "start_time": "2023-09-24T14:44:34.050Z"
      },
      {
        "duration": 14,
        "start_time": "2023-09-24T14:44:35.061Z"
      },
      {
        "duration": 0,
        "start_time": "2023-09-24T14:44:35.078Z"
      },
      {
        "duration": 0,
        "start_time": "2023-09-24T14:44:35.080Z"
      },
      {
        "duration": 0,
        "start_time": "2023-09-24T14:44:35.082Z"
      },
      {
        "duration": 0,
        "start_time": "2023-09-24T14:44:35.083Z"
      },
      {
        "duration": 0,
        "start_time": "2023-09-24T14:44:35.085Z"
      },
      {
        "duration": 0,
        "start_time": "2023-09-24T14:44:35.086Z"
      },
      {
        "duration": 0,
        "start_time": "2023-09-24T14:44:35.088Z"
      },
      {
        "duration": 0,
        "start_time": "2023-09-24T14:44:35.090Z"
      },
      {
        "duration": 0,
        "start_time": "2023-09-24T14:44:35.091Z"
      },
      {
        "duration": 0,
        "start_time": "2023-09-24T14:44:35.093Z"
      },
      {
        "duration": 1,
        "start_time": "2023-09-24T14:44:35.094Z"
      },
      {
        "duration": 0,
        "start_time": "2023-09-24T14:44:35.096Z"
      },
      {
        "duration": 0,
        "start_time": "2023-09-24T14:44:35.097Z"
      },
      {
        "duration": 0,
        "start_time": "2023-09-24T14:44:35.099Z"
      },
      {
        "duration": 0,
        "start_time": "2023-09-24T14:44:35.101Z"
      },
      {
        "duration": 0,
        "start_time": "2023-09-24T14:44:35.102Z"
      },
      {
        "duration": 0,
        "start_time": "2023-09-24T14:44:35.104Z"
      },
      {
        "duration": 1625,
        "start_time": "2023-09-24T14:44:41.780Z"
      },
      {
        "duration": 1016,
        "start_time": "2023-09-24T14:44:43.407Z"
      },
      {
        "duration": 171,
        "start_time": "2023-09-24T14:44:44.426Z"
      },
      {
        "duration": 1117,
        "start_time": "2023-09-24T14:44:44.600Z"
      },
      {
        "duration": 65,
        "start_time": "2023-09-24T14:44:45.718Z"
      },
      {
        "duration": 8,
        "start_time": "2023-09-24T14:44:45.785Z"
      },
      {
        "duration": 413,
        "start_time": "2023-09-24T14:44:45.795Z"
      },
      {
        "duration": 114,
        "start_time": "2023-09-24T14:44:46.210Z"
      },
      {
        "duration": 110,
        "start_time": "2023-09-24T14:44:46.326Z"
      },
      {
        "duration": 18,
        "start_time": "2023-09-24T14:44:46.439Z"
      },
      {
        "duration": 587,
        "start_time": "2023-09-24T14:44:46.459Z"
      },
      {
        "duration": 171,
        "start_time": "2023-09-24T14:44:50.446Z"
      },
      {
        "duration": 15,
        "start_time": "2023-09-24T14:44:50.619Z"
      },
      {
        "duration": 16,
        "start_time": "2023-09-24T14:44:50.743Z"
      },
      {
        "duration": 8,
        "start_time": "2023-09-24T14:44:50.875Z"
      },
      {
        "duration": 38,
        "start_time": "2023-09-24T14:44:51.172Z"
      },
      {
        "duration": 95,
        "start_time": "2023-09-24T14:44:51.313Z"
      },
      {
        "duration": 146,
        "start_time": "2023-09-24T14:44:51.455Z"
      },
      {
        "duration": 41,
        "start_time": "2023-09-24T14:44:51.746Z"
      },
      {
        "duration": 97,
        "start_time": "2023-09-24T14:44:51.908Z"
      },
      {
        "duration": 166,
        "start_time": "2023-09-24T14:44:52.065Z"
      },
      {
        "duration": 30,
        "start_time": "2023-09-24T14:44:52.493Z"
      },
      {
        "duration": 96,
        "start_time": "2023-09-24T14:44:52.652Z"
      },
      {
        "duration": 279,
        "start_time": "2023-09-24T14:44:52.812Z"
      },
      {
        "duration": 200,
        "start_time": "2023-09-24T14:44:54.582Z"
      },
      {
        "duration": 22,
        "start_time": "2023-09-24T14:44:56.957Z"
      },
      {
        "duration": 105,
        "start_time": "2023-09-24T14:44:58.669Z"
      },
      {
        "duration": 118,
        "start_time": "2023-09-24T14:44:58.804Z"
      },
      {
        "duration": 3,
        "start_time": "2023-09-24T14:45:00.355Z"
      },
      {
        "duration": 3,
        "start_time": "2023-09-24T14:45:01.007Z"
      },
      {
        "duration": 61,
        "start_time": "2023-09-24T14:45:01.313Z"
      },
      {
        "duration": 123,
        "start_time": "2023-09-24T14:45:01.682Z"
      },
      {
        "duration": 1192,
        "start_time": "2023-09-24T14:45:02.860Z"
      },
      {
        "duration": 149,
        "start_time": "2023-09-24T14:45:04.057Z"
      },
      {
        "duration": 6,
        "start_time": "2023-09-24T14:45:24.218Z"
      },
      {
        "duration": 4,
        "start_time": "2023-09-24T14:45:31.793Z"
      },
      {
        "duration": 5,
        "start_time": "2023-09-24T14:45:40.515Z"
      },
      {
        "duration": 15,
        "start_time": "2023-09-24T14:54:43.374Z"
      },
      {
        "duration": 5,
        "start_time": "2023-09-24T14:55:01.669Z"
      },
      {
        "duration": 5,
        "start_time": "2023-09-24T14:55:10.060Z"
      },
      {
        "duration": 14,
        "start_time": "2023-09-24T15:14:16.485Z"
      },
      {
        "duration": 6,
        "start_time": "2023-09-24T15:14:24.620Z"
      },
      {
        "duration": 6,
        "start_time": "2023-09-24T15:14:49.986Z"
      },
      {
        "duration": 6,
        "start_time": "2023-09-24T15:15:28.373Z"
      },
      {
        "duration": 7,
        "start_time": "2023-09-24T15:15:40.441Z"
      },
      {
        "duration": 194,
        "start_time": "2023-09-24T15:18:20.270Z"
      },
      {
        "duration": 92,
        "start_time": "2023-09-24T15:18:27.302Z"
      },
      {
        "duration": 9,
        "start_time": "2023-09-24T15:18:55.358Z"
      },
      {
        "duration": 44,
        "start_time": "2023-09-24T15:20:20.141Z"
      },
      {
        "duration": 5,
        "start_time": "2023-09-24T15:21:13.911Z"
      },
      {
        "duration": 6,
        "start_time": "2023-09-24T15:22:24.768Z"
      },
      {
        "duration": 1251,
        "start_time": "2023-09-24T15:22:24.834Z"
      },
      {
        "duration": 226,
        "start_time": "2023-09-24T15:22:26.089Z"
      },
      {
        "duration": 1395,
        "start_time": "2023-09-24T15:22:26.317Z"
      },
      {
        "duration": 60,
        "start_time": "2023-09-24T15:22:27.716Z"
      },
      {
        "duration": 7,
        "start_time": "2023-09-24T15:22:27.779Z"
      },
      {
        "duration": 464,
        "start_time": "2023-09-24T15:22:27.788Z"
      },
      {
        "duration": 154,
        "start_time": "2023-09-24T15:22:28.254Z"
      },
      {
        "duration": 122,
        "start_time": "2023-09-24T15:22:28.411Z"
      },
      {
        "duration": 21,
        "start_time": "2023-09-24T15:22:28.536Z"
      },
      {
        "duration": 684,
        "start_time": "2023-09-24T15:22:28.561Z"
      },
      {
        "duration": 284,
        "start_time": "2023-09-24T15:22:29.248Z"
      },
      {
        "duration": 29,
        "start_time": "2023-09-24T15:22:29.534Z"
      },
      {
        "duration": 22,
        "start_time": "2023-09-24T15:22:29.565Z"
      },
      {
        "duration": 10,
        "start_time": "2023-09-24T15:22:29.589Z"
      },
      {
        "duration": 74,
        "start_time": "2023-09-24T15:22:29.601Z"
      },
      {
        "duration": 146,
        "start_time": "2023-09-24T15:22:29.677Z"
      },
      {
        "duration": 179,
        "start_time": "2023-09-24T15:22:29.825Z"
      },
      {
        "duration": 53,
        "start_time": "2023-09-24T15:22:30.007Z"
      },
      {
        "duration": 139,
        "start_time": "2023-09-24T15:22:30.062Z"
      },
      {
        "duration": 228,
        "start_time": "2023-09-24T15:22:30.204Z"
      },
      {
        "duration": 41,
        "start_time": "2023-09-24T15:22:30.435Z"
      },
      {
        "duration": 150,
        "start_time": "2023-09-24T15:22:30.479Z"
      },
      {
        "duration": 266,
        "start_time": "2023-09-24T15:22:30.632Z"
      },
      {
        "duration": 284,
        "start_time": "2023-09-24T15:22:30.900Z"
      },
      {
        "duration": 23,
        "start_time": "2023-09-24T15:22:31.189Z"
      },
      {
        "duration": 189,
        "start_time": "2023-09-24T15:22:31.214Z"
      },
      {
        "duration": 133,
        "start_time": "2023-09-24T15:22:31.405Z"
      },
      {
        "duration": 4,
        "start_time": "2023-09-24T15:22:32.488Z"
      },
      {
        "duration": 3,
        "start_time": "2023-09-24T15:22:34.305Z"
      },
      {
        "duration": 3,
        "start_time": "2023-09-24T15:22:34.949Z"
      },
      {
        "duration": 4,
        "start_time": "2023-09-24T15:22:35.476Z"
      },
      {
        "duration": 1322,
        "start_time": "2023-09-24T15:22:36.301Z"
      },
      {
        "duration": 8,
        "start_time": "2023-09-24T15:22:50.714Z"
      },
      {
        "duration": 10,
        "start_time": "2023-09-24T15:23:21.183Z"
      },
      {
        "duration": 164,
        "start_time": "2023-09-24T15:23:23.215Z"
      },
      {
        "duration": 1661,
        "start_time": "2023-09-24T22:40:06.226Z"
      },
      {
        "duration": 1057,
        "start_time": "2023-09-24T22:40:07.890Z"
      },
      {
        "duration": 196,
        "start_time": "2023-09-24T22:40:08.949Z"
      },
      {
        "duration": 1102,
        "start_time": "2023-09-24T22:40:09.147Z"
      },
      {
        "duration": 65,
        "start_time": "2023-09-24T22:40:10.251Z"
      },
      {
        "duration": 5,
        "start_time": "2023-09-24T22:40:10.319Z"
      },
      {
        "duration": 417,
        "start_time": "2023-09-24T22:40:10.326Z"
      },
      {
        "duration": 112,
        "start_time": "2023-09-24T22:40:10.745Z"
      },
      {
        "duration": 116,
        "start_time": "2023-09-24T22:40:10.859Z"
      },
      {
        "duration": 7,
        "start_time": "2023-09-24T22:40:10.977Z"
      },
      {
        "duration": 565,
        "start_time": "2023-09-24T22:40:10.986Z"
      },
      {
        "duration": 182,
        "start_time": "2023-09-24T22:40:11.556Z"
      },
      {
        "duration": 55,
        "start_time": "2023-09-24T22:40:11.740Z"
      },
      {
        "duration": 16,
        "start_time": "2023-09-24T22:40:11.798Z"
      },
      {
        "duration": 6,
        "start_time": "2023-09-24T22:40:11.816Z"
      },
      {
        "duration": 47,
        "start_time": "2023-09-24T22:40:11.824Z"
      },
      {
        "duration": 110,
        "start_time": "2023-09-24T22:40:11.874Z"
      },
      {
        "duration": 147,
        "start_time": "2023-09-24T22:40:11.987Z"
      },
      {
        "duration": 43,
        "start_time": "2023-09-24T22:40:12.136Z"
      },
      {
        "duration": 108,
        "start_time": "2023-09-24T22:40:12.181Z"
      },
      {
        "duration": 188,
        "start_time": "2023-09-24T22:40:12.291Z"
      },
      {
        "duration": 29,
        "start_time": "2023-09-24T22:40:12.481Z"
      },
      {
        "duration": 109,
        "start_time": "2023-09-24T22:40:12.512Z"
      },
      {
        "duration": 283,
        "start_time": "2023-09-24T22:40:12.623Z"
      },
      {
        "duration": 192,
        "start_time": "2023-09-24T22:40:12.908Z"
      },
      {
        "duration": 22,
        "start_time": "2023-09-24T22:40:13.103Z"
      },
      {
        "duration": 110,
        "start_time": "2023-09-24T22:40:13.127Z"
      },
      {
        "duration": 102,
        "start_time": "2023-09-24T22:40:13.238Z"
      },
      {
        "duration": 2,
        "start_time": "2023-09-24T22:40:13.342Z"
      },
      {
        "duration": 17,
        "start_time": "2023-09-24T22:40:13.345Z"
      },
      {
        "duration": 7,
        "start_time": "2023-09-24T22:40:13.365Z"
      },
      {
        "duration": 131,
        "start_time": "2023-09-24T22:40:13.374Z"
      },
      {
        "duration": 1,
        "start_time": "2023-09-24T22:40:13.507Z"
      },
      {
        "duration": 0,
        "start_time": "2023-09-24T22:40:13.509Z"
      },
      {
        "duration": 0,
        "start_time": "2023-09-24T22:40:13.513Z"
      },
      {
        "duration": 0,
        "start_time": "2023-09-24T22:40:13.513Z"
      },
      {
        "duration": 0,
        "start_time": "2023-09-24T22:40:13.515Z"
      },
      {
        "duration": 0,
        "start_time": "2023-09-24T22:40:13.515Z"
      },
      {
        "duration": 0,
        "start_time": "2023-09-24T22:40:13.516Z"
      },
      {
        "duration": 0,
        "start_time": "2023-09-24T22:40:13.518Z"
      },
      {
        "duration": 0,
        "start_time": "2023-09-24T22:40:13.519Z"
      },
      {
        "duration": 0,
        "start_time": "2023-09-24T22:40:13.520Z"
      },
      {
        "duration": 0,
        "start_time": "2023-09-24T22:40:13.521Z"
      },
      {
        "duration": 0,
        "start_time": "2023-09-24T22:40:13.522Z"
      },
      {
        "duration": 0,
        "start_time": "2023-09-24T22:40:13.523Z"
      },
      {
        "duration": 0,
        "start_time": "2023-09-24T22:40:13.524Z"
      },
      {
        "duration": 0,
        "start_time": "2023-09-24T22:40:13.526Z"
      },
      {
        "duration": 0,
        "start_time": "2023-09-24T22:40:13.527Z"
      },
      {
        "duration": 0,
        "start_time": "2023-09-24T22:40:13.528Z"
      },
      {
        "duration": 0,
        "start_time": "2023-09-24T22:40:13.558Z"
      },
      {
        "duration": 0,
        "start_time": "2023-09-24T22:40:13.560Z"
      },
      {
        "duration": 0,
        "start_time": "2023-09-24T22:40:13.562Z"
      },
      {
        "duration": 0,
        "start_time": "2023-09-24T22:40:13.563Z"
      },
      {
        "duration": 1543,
        "start_time": "2023-09-24T22:44:29.061Z"
      },
      {
        "duration": 968,
        "start_time": "2023-09-24T22:44:30.606Z"
      },
      {
        "duration": 146,
        "start_time": "2023-09-24T22:44:31.575Z"
      },
      {
        "duration": 1067,
        "start_time": "2023-09-24T22:44:31.722Z"
      },
      {
        "duration": 72,
        "start_time": "2023-09-24T22:44:32.791Z"
      },
      {
        "duration": 17,
        "start_time": "2023-09-24T22:44:32.864Z"
      },
      {
        "duration": 355,
        "start_time": "2023-09-24T22:44:32.883Z"
      },
      {
        "duration": 103,
        "start_time": "2023-09-24T22:44:33.240Z"
      },
      {
        "duration": 111,
        "start_time": "2023-09-24T22:44:33.345Z"
      },
      {
        "duration": 6,
        "start_time": "2023-09-24T22:44:33.458Z"
      },
      {
        "duration": 546,
        "start_time": "2023-09-24T22:44:33.465Z"
      },
      {
        "duration": 183,
        "start_time": "2023-09-24T22:44:34.013Z"
      },
      {
        "duration": 16,
        "start_time": "2023-09-24T22:44:34.197Z"
      },
      {
        "duration": 16,
        "start_time": "2023-09-24T22:44:34.216Z"
      },
      {
        "duration": 30,
        "start_time": "2023-09-24T22:44:34.233Z"
      },
      {
        "duration": 41,
        "start_time": "2023-09-24T22:44:34.265Z"
      },
      {
        "duration": 107,
        "start_time": "2023-09-24T22:44:34.308Z"
      },
      {
        "duration": 142,
        "start_time": "2023-09-24T22:44:34.417Z"
      },
      {
        "duration": 38,
        "start_time": "2023-09-24T22:44:34.561Z"
      },
      {
        "duration": 103,
        "start_time": "2023-09-24T22:44:34.601Z"
      },
      {
        "duration": 160,
        "start_time": "2023-09-24T22:44:34.706Z"
      },
      {
        "duration": 30,
        "start_time": "2023-09-24T22:44:34.868Z"
      },
      {
        "duration": 100,
        "start_time": "2023-09-24T22:44:34.900Z"
      },
      {
        "duration": 268,
        "start_time": "2023-09-24T22:44:35.002Z"
      },
      {
        "duration": 177,
        "start_time": "2023-09-24T22:44:35.271Z"
      },
      {
        "duration": 19,
        "start_time": "2023-09-24T22:44:35.449Z"
      },
      {
        "duration": 128,
        "start_time": "2023-09-24T22:44:35.469Z"
      },
      {
        "duration": 88,
        "start_time": "2023-09-24T22:44:35.599Z"
      },
      {
        "duration": 21,
        "start_time": "2023-09-24T22:44:35.689Z"
      },
      {
        "duration": 31,
        "start_time": "2023-09-24T22:44:35.712Z"
      },
      {
        "duration": 33,
        "start_time": "2023-09-24T22:44:35.745Z"
      },
      {
        "duration": 1065,
        "start_time": "2023-09-24T22:44:35.780Z"
      },
      {
        "duration": 10,
        "start_time": "2023-09-24T22:44:36.847Z"
      },
      {
        "duration": 174,
        "start_time": "2023-09-24T22:44:36.859Z"
      },
      {
        "duration": 167,
        "start_time": "2023-09-24T22:44:37.035Z"
      },
      {
        "duration": 1604,
        "start_time": "2023-09-24T22:44:57.128Z"
      },
      {
        "duration": 3100,
        "start_time": "2023-09-24T22:44:58.734Z"
      },
      {
        "duration": 150,
        "start_time": "2023-09-24T22:45:01.836Z"
      },
      {
        "duration": 1069,
        "start_time": "2023-09-24T22:45:01.988Z"
      },
      {
        "duration": 59,
        "start_time": "2023-09-24T22:45:03.060Z"
      },
      {
        "duration": 35,
        "start_time": "2023-09-24T22:45:03.121Z"
      },
      {
        "duration": 403,
        "start_time": "2023-09-24T22:45:03.158Z"
      },
      {
        "duration": 107,
        "start_time": "2023-09-24T22:45:03.563Z"
      },
      {
        "duration": 101,
        "start_time": "2023-09-24T22:45:03.672Z"
      },
      {
        "duration": 5,
        "start_time": "2023-09-24T22:45:03.775Z"
      },
      {
        "duration": 631,
        "start_time": "2023-09-24T22:45:03.782Z"
      },
      {
        "duration": 170,
        "start_time": "2023-09-24T22:45:04.414Z"
      },
      {
        "duration": 16,
        "start_time": "2023-09-24T22:45:04.587Z"
      },
      {
        "duration": 17,
        "start_time": "2023-09-24T22:45:04.607Z"
      },
      {
        "duration": 33,
        "start_time": "2023-09-24T22:45:04.626Z"
      },
      {
        "duration": 75,
        "start_time": "2023-09-24T22:45:04.660Z"
      },
      {
        "duration": 165,
        "start_time": "2023-09-24T22:45:04.737Z"
      },
      {
        "duration": 133,
        "start_time": "2023-09-24T22:45:04.904Z"
      },
      {
        "duration": 42,
        "start_time": "2023-09-24T22:45:05.039Z"
      },
      {
        "duration": 98,
        "start_time": "2023-09-24T22:45:05.083Z"
      },
      {
        "duration": 155,
        "start_time": "2023-09-24T22:45:05.183Z"
      },
      {
        "duration": 33,
        "start_time": "2023-09-24T22:45:05.339Z"
      },
      {
        "duration": 91,
        "start_time": "2023-09-24T22:45:05.373Z"
      },
      {
        "duration": 277,
        "start_time": "2023-09-24T22:45:05.466Z"
      },
      {
        "duration": 178,
        "start_time": "2023-09-24T22:45:05.745Z"
      },
      {
        "duration": 32,
        "start_time": "2023-09-24T22:45:05.925Z"
      },
      {
        "duration": 82,
        "start_time": "2023-09-24T22:45:05.959Z"
      },
      {
        "duration": 78,
        "start_time": "2023-09-24T22:45:06.056Z"
      },
      {
        "duration": 22,
        "start_time": "2023-09-24T22:45:06.136Z"
      },
      {
        "duration": 14,
        "start_time": "2023-09-24T22:45:06.159Z"
      },
      {
        "duration": 22,
        "start_time": "2023-09-24T22:45:06.175Z"
      },
      {
        "duration": 1003,
        "start_time": "2023-09-24T22:45:06.200Z"
      },
      {
        "duration": 6,
        "start_time": "2023-09-24T22:45:07.205Z"
      },
      {
        "duration": 169,
        "start_time": "2023-09-24T22:45:07.212Z"
      },
      {
        "duration": 165,
        "start_time": "2023-09-24T22:45:07.383Z"
      },
      {
        "duration": 1483,
        "start_time": "2023-09-24T22:47:51.061Z"
      },
      {
        "duration": 3057,
        "start_time": "2023-09-24T22:47:54.379Z"
      },
      {
        "duration": 141,
        "start_time": "2023-09-24T22:47:57.439Z"
      },
      {
        "duration": 1073,
        "start_time": "2023-09-24T22:47:57.582Z"
      },
      {
        "duration": 68,
        "start_time": "2023-09-24T22:47:58.657Z"
      },
      {
        "duration": 19,
        "start_time": "2023-09-24T22:47:58.729Z"
      },
      {
        "duration": 426,
        "start_time": "2023-09-24T22:47:58.756Z"
      },
      {
        "duration": 105,
        "start_time": "2023-09-24T22:47:59.184Z"
      },
      {
        "duration": 99,
        "start_time": "2023-09-24T22:47:59.291Z"
      },
      {
        "duration": 5,
        "start_time": "2023-09-24T22:47:59.392Z"
      },
      {
        "duration": 519,
        "start_time": "2023-09-24T22:47:59.400Z"
      },
      {
        "duration": 168,
        "start_time": "2023-09-24T22:47:59.921Z"
      },
      {
        "duration": 15,
        "start_time": "2023-09-24T22:48:00.091Z"
      },
      {
        "duration": 50,
        "start_time": "2023-09-24T22:48:00.108Z"
      },
      {
        "duration": 30,
        "start_time": "2023-09-24T22:48:00.160Z"
      },
      {
        "duration": 67,
        "start_time": "2023-09-24T22:48:00.192Z"
      },
      {
        "duration": 99,
        "start_time": "2023-09-24T22:48:00.262Z"
      },
      {
        "duration": 141,
        "start_time": "2023-09-24T22:48:00.363Z"
      },
      {
        "duration": 31,
        "start_time": "2023-09-24T22:48:00.506Z"
      },
      {
        "duration": 101,
        "start_time": "2023-09-24T22:48:00.539Z"
      },
      {
        "duration": 162,
        "start_time": "2023-09-24T22:48:00.641Z"
      },
      {
        "duration": 30,
        "start_time": "2023-09-24T22:48:00.805Z"
      },
      {
        "duration": 111,
        "start_time": "2023-09-24T22:48:00.837Z"
      },
      {
        "duration": 247,
        "start_time": "2023-09-24T22:48:00.950Z"
      },
      {
        "duration": 174,
        "start_time": "2023-09-24T22:48:01.199Z"
      },
      {
        "duration": 18,
        "start_time": "2023-09-24T22:48:01.375Z"
      },
      {
        "duration": 99,
        "start_time": "2023-09-24T22:48:01.394Z"
      },
      {
        "duration": 82,
        "start_time": "2023-09-24T22:48:01.495Z"
      },
      {
        "duration": 27,
        "start_time": "2023-09-24T22:48:01.580Z"
      },
      {
        "duration": 2,
        "start_time": "2023-09-24T22:48:07.070Z"
      },
      {
        "duration": 3,
        "start_time": "2023-09-24T22:48:07.365Z"
      },
      {
        "duration": 990,
        "start_time": "2023-09-24T22:48:09.260Z"
      },
      {
        "duration": 7,
        "start_time": "2023-09-24T22:48:11.330Z"
      },
      {
        "duration": 154,
        "start_time": "2023-09-24T22:48:11.973Z"
      },
      {
        "duration": 154,
        "start_time": "2023-09-24T22:48:15.510Z"
      },
      {
        "duration": 144,
        "start_time": "2023-09-24T22:48:39.857Z"
      },
      {
        "duration": 1580,
        "start_time": "2023-09-24T22:48:56.237Z"
      },
      {
        "duration": 3115,
        "start_time": "2023-09-24T22:48:57.819Z"
      },
      {
        "duration": 144,
        "start_time": "2023-09-24T22:49:00.936Z"
      },
      {
        "duration": 1030,
        "start_time": "2023-09-24T22:49:01.082Z"
      },
      {
        "duration": 65,
        "start_time": "2023-09-24T22:49:02.115Z"
      },
      {
        "duration": 5,
        "start_time": "2023-09-24T22:49:02.182Z"
      },
      {
        "duration": 405,
        "start_time": "2023-09-24T22:49:02.189Z"
      },
      {
        "duration": 112,
        "start_time": "2023-09-24T22:49:02.595Z"
      },
      {
        "duration": 117,
        "start_time": "2023-09-24T22:49:02.709Z"
      },
      {
        "duration": 5,
        "start_time": "2023-09-24T22:49:02.827Z"
      },
      {
        "duration": 545,
        "start_time": "2023-09-24T22:49:02.834Z"
      },
      {
        "duration": 178,
        "start_time": "2023-09-24T22:49:03.381Z"
      },
      {
        "duration": 16,
        "start_time": "2023-09-24T22:49:03.561Z"
      },
      {
        "duration": 16,
        "start_time": "2023-09-24T22:49:03.580Z"
      },
      {
        "duration": 7,
        "start_time": "2023-09-24T22:49:03.598Z"
      },
      {
        "duration": 70,
        "start_time": "2023-09-24T22:49:03.607Z"
      },
      {
        "duration": 96,
        "start_time": "2023-09-24T22:49:03.679Z"
      },
      {
        "duration": 149,
        "start_time": "2023-09-24T22:49:03.777Z"
      },
      {
        "duration": 39,
        "start_time": "2023-09-24T22:49:03.928Z"
      },
      {
        "duration": 98,
        "start_time": "2023-09-24T22:49:03.969Z"
      },
      {
        "duration": 154,
        "start_time": "2023-09-24T22:49:04.069Z"
      },
      {
        "duration": 37,
        "start_time": "2023-09-24T22:49:04.225Z"
      },
      {
        "duration": 79,
        "start_time": "2023-09-24T22:49:04.264Z"
      },
      {
        "duration": 267,
        "start_time": "2023-09-24T22:49:04.345Z"
      },
      {
        "duration": 181,
        "start_time": "2023-09-24T22:49:04.613Z"
      },
      {
        "duration": 18,
        "start_time": "2023-09-24T22:49:04.795Z"
      },
      {
        "duration": 108,
        "start_time": "2023-09-24T22:49:04.815Z"
      },
      {
        "duration": 86,
        "start_time": "2023-09-24T22:49:04.925Z"
      },
      {
        "duration": 3,
        "start_time": "2023-09-24T22:49:05.013Z"
      },
      {
        "duration": 7,
        "start_time": "2023-09-24T22:49:05.017Z"
      },
      {
        "duration": 5,
        "start_time": "2023-09-24T22:49:05.025Z"
      },
      {
        "duration": 1030,
        "start_time": "2023-09-24T22:49:05.031Z"
      },
      {
        "duration": 7,
        "start_time": "2023-09-24T22:49:06.063Z"
      },
      {
        "duration": 166,
        "start_time": "2023-09-24T22:49:06.071Z"
      },
      {
        "duration": 160,
        "start_time": "2023-09-24T22:49:06.239Z"
      },
      {
        "duration": 3,
        "start_time": "2023-09-24T22:49:06.400Z"
      },
      {
        "duration": 8,
        "start_time": "2023-09-24T22:49:06.404Z"
      },
      {
        "duration": 8,
        "start_time": "2023-09-24T22:49:06.413Z"
      },
      {
        "duration": 9,
        "start_time": "2023-09-24T22:49:06.423Z"
      },
      {
        "duration": 176,
        "start_time": "2023-09-24T23:27:05.148Z"
      },
      {
        "duration": 8,
        "start_time": "2023-09-24T23:27:05.646Z"
      },
      {
        "duration": 100,
        "start_time": "2023-09-24T23:27:05.709Z"
      },
      {
        "duration": 7,
        "start_time": "2023-09-24T23:27:05.811Z"
      },
      {
        "duration": 0,
        "start_time": "2023-09-24T23:27:05.820Z"
      },
      {
        "duration": 6,
        "start_time": "2023-09-24T23:27:05.872Z"
      },
      {
        "duration": 2,
        "start_time": "2023-09-24T23:27:05.900Z"
      },
      {
        "duration": 101,
        "start_time": "2023-09-24T23:27:05.935Z"
      },
      {
        "duration": 6,
        "start_time": "2023-09-24T23:27:06.038Z"
      },
      {
        "duration": 0,
        "start_time": "2023-09-24T23:27:06.046Z"
      },
      {
        "duration": 94,
        "start_time": "2023-09-24T23:27:06.065Z"
      },
      {
        "duration": 6,
        "start_time": "2023-09-24T23:27:06.161Z"
      },
      {
        "duration": 0,
        "start_time": "2023-09-24T23:27:06.168Z"
      },
      {
        "duration": 1599,
        "start_time": "2023-09-24T23:27:31.793Z"
      },
      {
        "duration": 3089,
        "start_time": "2023-09-24T23:27:33.394Z"
      },
      {
        "duration": 139,
        "start_time": "2023-09-24T23:27:36.484Z"
      },
      {
        "duration": 1009,
        "start_time": "2023-09-24T23:27:36.625Z"
      },
      {
        "duration": 63,
        "start_time": "2023-09-24T23:27:37.635Z"
      },
      {
        "duration": 7,
        "start_time": "2023-09-24T23:27:37.699Z"
      },
      {
        "duration": 396,
        "start_time": "2023-09-24T23:27:37.707Z"
      },
      {
        "duration": 107,
        "start_time": "2023-09-24T23:27:38.105Z"
      },
      {
        "duration": 105,
        "start_time": "2023-09-24T23:27:38.214Z"
      },
      {
        "duration": 6,
        "start_time": "2023-09-24T23:27:38.322Z"
      },
      {
        "duration": 546,
        "start_time": "2023-09-24T23:27:38.329Z"
      },
      {
        "duration": 195,
        "start_time": "2023-09-24T23:27:38.877Z"
      },
      {
        "duration": 16,
        "start_time": "2023-09-24T23:27:39.073Z"
      },
      {
        "duration": 16,
        "start_time": "2023-09-24T23:27:39.090Z"
      },
      {
        "duration": 7,
        "start_time": "2023-09-24T23:27:39.108Z"
      },
      {
        "duration": 66,
        "start_time": "2023-09-24T23:27:39.116Z"
      },
      {
        "duration": 92,
        "start_time": "2023-09-24T23:27:39.184Z"
      },
      {
        "duration": 137,
        "start_time": "2023-09-24T23:27:39.278Z"
      },
      {
        "duration": 39,
        "start_time": "2023-09-24T23:27:39.417Z"
      },
      {
        "duration": 98,
        "start_time": "2023-09-24T23:27:39.458Z"
      },
      {
        "duration": 155,
        "start_time": "2023-09-24T23:27:39.558Z"
      },
      {
        "duration": 29,
        "start_time": "2023-09-24T23:27:39.715Z"
      },
      {
        "duration": 80,
        "start_time": "2023-09-24T23:27:39.756Z"
      },
      {
        "duration": 278,
        "start_time": "2023-09-24T23:27:39.837Z"
      },
      {
        "duration": 176,
        "start_time": "2023-09-24T23:27:40.117Z"
      },
      {
        "duration": 18,
        "start_time": "2023-09-24T23:27:40.295Z"
      },
      {
        "duration": 100,
        "start_time": "2023-09-24T23:27:40.315Z"
      },
      {
        "duration": 89,
        "start_time": "2023-09-24T23:27:40.419Z"
      },
      {
        "duration": 24,
        "start_time": "2023-09-24T23:27:40.510Z"
      },
      {
        "duration": 30,
        "start_time": "2023-09-24T23:27:40.536Z"
      },
      {
        "duration": 25,
        "start_time": "2023-09-24T23:27:40.569Z"
      },
      {
        "duration": 1119,
        "start_time": "2023-09-24T23:27:41.814Z"
      },
      {
        "duration": 6,
        "start_time": "2023-09-24T23:27:42.935Z"
      },
      {
        "duration": 155,
        "start_time": "2023-09-24T23:27:44.482Z"
      },
      {
        "duration": 118,
        "start_time": "2023-09-24T23:27:52.706Z"
      },
      {
        "duration": 1516,
        "start_time": "2023-09-24T23:29:23.681Z"
      },
      {
        "duration": 3142,
        "start_time": "2023-09-24T23:29:27.456Z"
      },
      {
        "duration": 149,
        "start_time": "2023-09-24T23:29:30.601Z"
      },
      {
        "duration": 1059,
        "start_time": "2023-09-24T23:29:30.756Z"
      },
      {
        "duration": 71,
        "start_time": "2023-09-24T23:29:31.818Z"
      },
      {
        "duration": 11,
        "start_time": "2023-09-24T23:29:31.891Z"
      },
      {
        "duration": 395,
        "start_time": "2023-09-24T23:29:31.904Z"
      },
      {
        "duration": 107,
        "start_time": "2023-09-24T23:29:32.301Z"
      },
      {
        "duration": 100,
        "start_time": "2023-09-24T23:29:32.410Z"
      },
      {
        "duration": 6,
        "start_time": "2023-09-24T23:29:32.513Z"
      },
      {
        "duration": 549,
        "start_time": "2023-09-24T23:29:32.522Z"
      },
      {
        "duration": 174,
        "start_time": "2023-09-24T23:29:33.073Z"
      },
      {
        "duration": 15,
        "start_time": "2023-09-24T23:29:33.256Z"
      },
      {
        "duration": 21,
        "start_time": "2023-09-24T23:29:33.273Z"
      },
      {
        "duration": 15,
        "start_time": "2023-09-24T23:29:33.296Z"
      },
      {
        "duration": 49,
        "start_time": "2023-09-24T23:29:33.312Z"
      },
      {
        "duration": 103,
        "start_time": "2023-09-24T23:29:33.363Z"
      },
      {
        "duration": 142,
        "start_time": "2023-09-24T23:29:33.468Z"
      },
      {
        "duration": 45,
        "start_time": "2023-09-24T23:29:33.612Z"
      },
      {
        "duration": 101,
        "start_time": "2023-09-24T23:29:33.659Z"
      },
      {
        "duration": 169,
        "start_time": "2023-09-24T23:29:33.762Z"
      },
      {
        "duration": 37,
        "start_time": "2023-09-24T23:29:33.933Z"
      },
      {
        "duration": 90,
        "start_time": "2023-09-24T23:29:33.972Z"
      },
      {
        "duration": 273,
        "start_time": "2023-09-24T23:29:34.064Z"
      },
      {
        "duration": 187,
        "start_time": "2023-09-24T23:29:34.339Z"
      },
      {
        "duration": 18,
        "start_time": "2023-09-24T23:29:34.528Z"
      },
      {
        "duration": 87,
        "start_time": "2023-09-24T23:29:34.547Z"
      },
      {
        "duration": 84,
        "start_time": "2023-09-24T23:29:34.636Z"
      },
      {
        "duration": 12,
        "start_time": "2023-09-24T23:29:34.723Z"
      },
      {
        "duration": 3,
        "start_time": "2023-09-24T23:29:42.789Z"
      },
      {
        "duration": 4,
        "start_time": "2023-09-24T23:29:42.977Z"
      },
      {
        "duration": 1014,
        "start_time": "2023-09-24T23:29:47.408Z"
      },
      {
        "duration": 7,
        "start_time": "2023-09-24T23:29:48.860Z"
      },
      {
        "duration": 152,
        "start_time": "2023-09-24T23:29:49.004Z"
      },
      {
        "duration": 168,
        "start_time": "2023-09-24T23:29:51.888Z"
      },
      {
        "duration": 22,
        "start_time": "2023-09-24T23:30:14.081Z"
      },
      {
        "duration": 1624,
        "start_time": "2023-09-24T23:32:02.562Z"
      },
      {
        "duration": 941,
        "start_time": "2023-09-24T23:32:04.188Z"
      },
      {
        "duration": 145,
        "start_time": "2023-09-24T23:32:05.131Z"
      },
      {
        "duration": 1040,
        "start_time": "2023-09-24T23:32:05.278Z"
      },
      {
        "duration": 64,
        "start_time": "2023-09-24T23:32:06.320Z"
      },
      {
        "duration": 6,
        "start_time": "2023-09-24T23:32:12.252Z"
      },
      {
        "duration": 368,
        "start_time": "2023-09-24T23:32:13.819Z"
      },
      {
        "duration": 97,
        "start_time": "2023-09-24T23:32:14.280Z"
      },
      {
        "duration": 98,
        "start_time": "2023-09-24T23:32:14.567Z"
      },
      {
        "duration": 5,
        "start_time": "2023-09-24T23:32:14.873Z"
      },
      {
        "duration": 517,
        "start_time": "2023-09-24T23:32:15.027Z"
      },
      {
        "duration": 173,
        "start_time": "2023-09-24T23:32:15.547Z"
      },
      {
        "duration": 15,
        "start_time": "2023-09-24T23:32:15.722Z"
      },
      {
        "duration": 15,
        "start_time": "2023-09-24T23:32:15.813Z"
      },
      {
        "duration": 7,
        "start_time": "2023-09-24T23:32:15.979Z"
      },
      {
        "duration": 34,
        "start_time": "2023-09-24T23:32:16.275Z"
      },
      {
        "duration": 92,
        "start_time": "2023-09-24T23:32:16.419Z"
      },
      {
        "duration": 119,
        "start_time": "2023-09-24T23:32:16.570Z"
      },
      {
        "duration": 30,
        "start_time": "2023-09-24T23:32:16.891Z"
      },
      {
        "duration": 90,
        "start_time": "2023-09-24T23:32:17.045Z"
      },
      {
        "duration": 133,
        "start_time": "2023-09-24T23:32:17.204Z"
      },
      {
        "duration": 29,
        "start_time": "2023-09-24T23:32:17.840Z"
      },
      {
        "duration": 92,
        "start_time": "2023-09-24T23:32:17.971Z"
      },
      {
        "duration": 246,
        "start_time": "2023-09-24T23:32:18.133Z"
      },
      {
        "duration": 169,
        "start_time": "2023-09-24T23:32:18.381Z"
      },
      {
        "duration": 18,
        "start_time": "2023-09-24T23:32:19.798Z"
      },
      {
        "duration": 80,
        "start_time": "2023-09-24T23:32:20.931Z"
      },
      {
        "duration": 84,
        "start_time": "2023-09-24T23:32:21.061Z"
      },
      {
        "duration": 3,
        "start_time": "2023-09-24T23:32:22.746Z"
      },
      {
        "duration": 3,
        "start_time": "2023-09-24T23:32:25.395Z"
      },
      {
        "duration": 3,
        "start_time": "2023-09-24T23:32:25.517Z"
      },
      {
        "duration": 74,
        "start_time": "2023-09-24T23:32:51.958Z"
      },
      {
        "duration": 6,
        "start_time": "2023-09-24T23:32:55.173Z"
      },
      {
        "duration": 17,
        "start_time": "2023-09-24T23:32:55.886Z"
      },
      {
        "duration": 154,
        "start_time": "2023-09-24T23:32:57.515Z"
      },
      {
        "duration": 66,
        "start_time": "2023-09-24T23:33:02.057Z"
      },
      {
        "duration": 321,
        "start_time": "2023-09-24T23:33:04.764Z"
      },
      {
        "duration": 4,
        "start_time": "2023-09-24T23:34:39.759Z"
      },
      {
        "duration": 12,
        "start_time": "2023-09-24T23:39:16.630Z"
      },
      {
        "duration": 2064,
        "start_time": "2023-09-24T23:39:20.210Z"
      },
      {
        "duration": 652,
        "start_time": "2023-09-24T23:39:38.805Z"
      },
      {
        "duration": 613,
        "start_time": "2023-09-24T23:39:43.439Z"
      },
      {
        "duration": 19,
        "start_time": "2023-09-24T23:40:15.387Z"
      },
      {
        "duration": 977,
        "start_time": "2023-09-24T23:40:24.166Z"
      },
      {
        "duration": 38,
        "start_time": "2023-09-24T23:40:25.145Z"
      },
      {
        "duration": 19,
        "start_time": "2023-09-24T23:42:46.453Z"
      },
      {
        "duration": 60,
        "start_time": "2023-09-24T23:43:25.148Z"
      },
      {
        "duration": 78,
        "start_time": "2023-09-24T23:43:34.708Z"
      },
      {
        "duration": 44,
        "start_time": "2023-09-24T23:44:31.064Z"
      },
      {
        "duration": 12,
        "start_time": "2023-09-24T23:45:26.133Z"
      },
      {
        "duration": 12,
        "start_time": "2023-09-24T23:45:28.821Z"
      },
      {
        "duration": 158,
        "start_time": "2023-09-24T23:45:39.272Z"
      },
      {
        "duration": 27,
        "start_time": "2023-09-24T23:45:41.942Z"
      },
      {
        "duration": 4593,
        "start_time": "2023-09-24T23:45:44.090Z"
      },
      {
        "duration": 1525,
        "start_time": "2023-09-24T23:46:55.967Z"
      },
      {
        "duration": 1019,
        "start_time": "2023-09-24T23:46:57.494Z"
      },
      {
        "duration": 163,
        "start_time": "2023-09-24T23:46:58.515Z"
      },
      {
        "duration": 1105,
        "start_time": "2023-09-24T23:46:58.680Z"
      },
      {
        "duration": 72,
        "start_time": "2023-09-24T23:46:59.786Z"
      },
      {
        "duration": 19,
        "start_time": "2023-09-24T23:46:59.860Z"
      },
      {
        "duration": 393,
        "start_time": "2023-09-24T23:46:59.880Z"
      },
      {
        "duration": 109,
        "start_time": "2023-09-24T23:47:00.275Z"
      },
      {
        "duration": 291,
        "start_time": "2023-09-24T23:47:00.386Z"
      },
      {
        "duration": 6,
        "start_time": "2023-09-24T23:47:00.681Z"
      },
      {
        "duration": 561,
        "start_time": "2023-09-24T23:47:00.689Z"
      },
      {
        "duration": 173,
        "start_time": "2023-09-24T23:47:01.256Z"
      },
      {
        "duration": 31,
        "start_time": "2023-09-24T23:47:01.431Z"
      },
      {
        "duration": 24,
        "start_time": "2023-09-24T23:47:01.465Z"
      },
      {
        "duration": 28,
        "start_time": "2023-09-24T23:47:01.491Z"
      },
      {
        "duration": 46,
        "start_time": "2023-09-24T23:47:01.522Z"
      },
      {
        "duration": 100,
        "start_time": "2023-09-24T23:47:01.570Z"
      },
      {
        "duration": 136,
        "start_time": "2023-09-24T23:47:01.672Z"
      },
      {
        "duration": 36,
        "start_time": "2023-09-24T23:47:01.809Z"
      },
      {
        "duration": 90,
        "start_time": "2023-09-24T23:47:01.856Z"
      },
      {
        "duration": 167,
        "start_time": "2023-09-24T23:47:01.947Z"
      },
      {
        "duration": 41,
        "start_time": "2023-09-24T23:47:02.115Z"
      },
      {
        "duration": 81,
        "start_time": "2023-09-24T23:47:02.159Z"
      },
      {
        "duration": 279,
        "start_time": "2023-09-24T23:47:02.242Z"
      },
      {
        "duration": 179,
        "start_time": "2023-09-24T23:47:02.522Z"
      },
      {
        "duration": 18,
        "start_time": "2023-09-24T23:47:02.703Z"
      },
      {
        "duration": 84,
        "start_time": "2023-09-24T23:47:03.326Z"
      },
      {
        "duration": 79,
        "start_time": "2023-09-24T23:47:03.538Z"
      },
      {
        "duration": 922,
        "start_time": "2023-09-24T23:47:10.401Z"
      },
      {
        "duration": 838,
        "start_time": "2023-09-24T23:47:14.988Z"
      },
      {
        "duration": 108,
        "start_time": "2023-09-24T23:55:14.968Z"
      },
      {
        "duration": 4,
        "start_time": "2023-09-24T23:55:23.414Z"
      },
      {
        "duration": 858,
        "start_time": "2023-09-24T23:55:23.475Z"
      },
      {
        "duration": 144,
        "start_time": "2023-09-24T23:55:24.336Z"
      },
      {
        "duration": 1004,
        "start_time": "2023-09-24T23:55:24.482Z"
      },
      {
        "duration": 46,
        "start_time": "2023-09-24T23:55:25.488Z"
      },
      {
        "duration": 5,
        "start_time": "2023-09-24T23:55:25.535Z"
      },
      {
        "duration": 378,
        "start_time": "2023-09-24T23:55:25.557Z"
      },
      {
        "duration": 103,
        "start_time": "2023-09-24T23:55:25.938Z"
      },
      {
        "duration": 115,
        "start_time": "2023-09-24T23:55:26.043Z"
      },
      {
        "duration": 6,
        "start_time": "2023-09-24T23:55:26.160Z"
      },
      {
        "duration": 514,
        "start_time": "2023-09-24T23:55:26.169Z"
      },
      {
        "duration": 183,
        "start_time": "2023-09-24T23:55:26.686Z"
      },
      {
        "duration": 16,
        "start_time": "2023-09-24T23:55:26.871Z"
      },
      {
        "duration": 16,
        "start_time": "2023-09-24T23:55:26.890Z"
      },
      {
        "duration": 7,
        "start_time": "2023-09-24T23:55:26.908Z"
      },
      {
        "duration": 72,
        "start_time": "2023-09-24T23:55:26.917Z"
      },
      {
        "duration": 106,
        "start_time": "2023-09-24T23:55:26.991Z"
      },
      {
        "duration": 131,
        "start_time": "2023-09-24T23:55:27.099Z"
      },
      {
        "duration": 44,
        "start_time": "2023-09-24T23:55:27.232Z"
      },
      {
        "duration": 93,
        "start_time": "2023-09-24T23:55:27.278Z"
      },
      {
        "duration": 151,
        "start_time": "2023-09-24T23:55:27.372Z"
      },
      {
        "duration": 35,
        "start_time": "2023-09-24T23:55:27.526Z"
      },
      {
        "duration": 82,
        "start_time": "2023-09-24T23:55:27.562Z"
      },
      {
        "duration": 170,
        "start_time": "2023-09-24T23:55:27.645Z"
      },
      {
        "duration": 181,
        "start_time": "2023-09-24T23:55:27.816Z"
      },
      {
        "duration": 17,
        "start_time": "2023-09-24T23:55:28.443Z"
      },
      {
        "duration": 84,
        "start_time": "2023-09-24T23:55:29.312Z"
      },
      {
        "duration": 84,
        "start_time": "2023-09-24T23:55:31.576Z"
      },
      {
        "duration": 719,
        "start_time": "2023-09-24T23:56:08.512Z"
      },
      {
        "duration": 70,
        "start_time": "2023-09-24T23:56:14.056Z"
      },
      {
        "duration": 17,
        "start_time": "2023-09-24T23:56:16.880Z"
      },
      {
        "duration": 65,
        "start_time": "2023-09-24T23:56:20.469Z"
      },
      {
        "duration": 893,
        "start_time": "2023-09-24T23:56:29.091Z"
      },
      {
        "duration": 17,
        "start_time": "2023-09-24T23:56:35.262Z"
      },
      {
        "duration": 769,
        "start_time": "2023-09-24T23:57:15.525Z"
      },
      {
        "duration": 105,
        "start_time": "2023-09-24T23:57:19.866Z"
      },
      {
        "duration": 11,
        "start_time": "2023-09-24T23:57:23.398Z"
      },
      {
        "duration": 2,
        "start_time": "2023-09-24T23:57:23.552Z"
      },
      {
        "duration": 1992,
        "start_time": "2023-09-25T00:01:32.594Z"
      },
      {
        "duration": 985,
        "start_time": "2023-09-25T00:01:34.588Z"
      },
      {
        "duration": 161,
        "start_time": "2023-09-25T00:01:35.574Z"
      },
      {
        "duration": 1065,
        "start_time": "2023-09-25T00:01:35.737Z"
      },
      {
        "duration": 67,
        "start_time": "2023-09-25T00:01:36.804Z"
      },
      {
        "duration": 11,
        "start_time": "2023-09-25T00:01:36.873Z"
      },
      {
        "duration": 407,
        "start_time": "2023-09-25T00:01:36.886Z"
      },
      {
        "duration": 119,
        "start_time": "2023-09-25T00:01:37.295Z"
      },
      {
        "duration": 105,
        "start_time": "2023-09-25T00:01:37.416Z"
      },
      {
        "duration": 6,
        "start_time": "2023-09-25T00:01:37.523Z"
      },
      {
        "duration": 556,
        "start_time": "2023-09-25T00:01:37.530Z"
      },
      {
        "duration": 178,
        "start_time": "2023-09-25T00:01:38.088Z"
      },
      {
        "duration": 14,
        "start_time": "2023-09-25T00:01:38.268Z"
      },
      {
        "duration": 15,
        "start_time": "2023-09-25T00:01:38.284Z"
      },
      {
        "duration": 7,
        "start_time": "2023-09-25T00:01:38.301Z"
      },
      {
        "duration": 62,
        "start_time": "2023-09-25T00:01:38.309Z"
      },
      {
        "duration": 100,
        "start_time": "2023-09-25T00:01:38.373Z"
      },
      {
        "duration": 134,
        "start_time": "2023-09-25T00:01:38.475Z"
      },
      {
        "duration": 45,
        "start_time": "2023-09-25T00:01:38.611Z"
      },
      {
        "duration": 100,
        "start_time": "2023-09-25T00:01:38.658Z"
      },
      {
        "duration": 187,
        "start_time": "2023-09-25T00:01:38.760Z"
      },
      {
        "duration": 33,
        "start_time": "2023-09-25T00:01:38.949Z"
      },
      {
        "duration": 93,
        "start_time": "2023-09-25T00:01:38.984Z"
      },
      {
        "duration": 254,
        "start_time": "2023-09-25T00:01:39.079Z"
      },
      {
        "duration": 179,
        "start_time": "2023-09-25T00:01:39.335Z"
      },
      {
        "duration": 18,
        "start_time": "2023-09-25T00:01:39.516Z"
      },
      {
        "duration": 78,
        "start_time": "2023-09-25T00:01:39.729Z"
      },
      {
        "duration": 78,
        "start_time": "2023-09-25T00:01:41.435Z"
      },
      {
        "duration": 797,
        "start_time": "2023-09-25T00:01:55.049Z"
      },
      {
        "duration": 110,
        "start_time": "2023-09-25T00:01:55.848Z"
      },
      {
        "duration": 2,
        "start_time": "2023-09-25T00:02:03.979Z"
      },
      {
        "duration": 3,
        "start_time": "2023-09-25T00:02:04.815Z"
      },
      {
        "duration": 2,
        "start_time": "2023-09-25T00:02:04.968Z"
      },
      {
        "duration": 79,
        "start_time": "2023-09-25T00:02:07.018Z"
      },
      {
        "duration": 928,
        "start_time": "2023-09-25T00:02:09.778Z"
      },
      {
        "duration": 253,
        "start_time": "2023-09-25T00:02:18.629Z"
      },
      {
        "duration": 17,
        "start_time": "2023-09-25T00:02:22.488Z"
      },
      {
        "duration": 1572,
        "start_time": "2023-09-25T00:02:50.698Z"
      },
      {
        "duration": 3115,
        "start_time": "2023-09-25T00:02:52.272Z"
      },
      {
        "duration": 151,
        "start_time": "2023-09-25T00:02:55.388Z"
      },
      {
        "duration": 1052,
        "start_time": "2023-09-25T00:02:55.541Z"
      },
      {
        "duration": 64,
        "start_time": "2023-09-25T00:02:56.595Z"
      },
      {
        "duration": 24,
        "start_time": "2023-09-25T00:02:56.661Z"
      },
      {
        "duration": 409,
        "start_time": "2023-09-25T00:02:56.687Z"
      },
      {
        "duration": 109,
        "start_time": "2023-09-25T00:02:57.097Z"
      },
      {
        "duration": 101,
        "start_time": "2023-09-25T00:02:57.208Z"
      },
      {
        "duration": 7,
        "start_time": "2023-09-25T00:02:57.311Z"
      },
      {
        "duration": 525,
        "start_time": "2023-09-25T00:02:57.319Z"
      },
      {
        "duration": 185,
        "start_time": "2023-09-25T00:02:57.845Z"
      },
      {
        "duration": 31,
        "start_time": "2023-09-25T00:02:58.031Z"
      },
      {
        "duration": 19,
        "start_time": "2023-09-25T00:02:58.064Z"
      },
      {
        "duration": 16,
        "start_time": "2023-09-25T00:02:58.085Z"
      },
      {
        "duration": 51,
        "start_time": "2023-09-25T00:02:58.103Z"
      },
      {
        "duration": 105,
        "start_time": "2023-09-25T00:02:58.156Z"
      },
      {
        "duration": 144,
        "start_time": "2023-09-25T00:02:58.262Z"
      },
      {
        "duration": 36,
        "start_time": "2023-09-25T00:02:58.407Z"
      },
      {
        "duration": 101,
        "start_time": "2023-09-25T00:02:58.444Z"
      },
      {
        "duration": 158,
        "start_time": "2023-09-25T00:02:58.547Z"
      },
      {
        "duration": 29,
        "start_time": "2023-09-25T00:02:58.707Z"
      },
      {
        "duration": 105,
        "start_time": "2023-09-25T00:02:58.738Z"
      },
      {
        "duration": 292,
        "start_time": "2023-09-25T00:02:58.845Z"
      },
      {
        "duration": 183,
        "start_time": "2023-09-25T00:02:59.138Z"
      },
      {
        "duration": 18,
        "start_time": "2023-09-25T00:02:59.323Z"
      },
      {
        "duration": 91,
        "start_time": "2023-09-25T00:02:59.342Z"
      },
      {
        "duration": 84,
        "start_time": "2023-09-25T00:02:59.437Z"
      },
      {
        "duration": 731,
        "start_time": "2023-09-25T00:02:59.523Z"
      },
      {
        "duration": 2,
        "start_time": "2023-09-25T00:03:00.257Z"
      },
      {
        "duration": 61,
        "start_time": "2023-09-25T00:03:00.261Z"
      },
      {
        "duration": 71,
        "start_time": "2023-09-25T00:03:00.324Z"
      },
      {
        "duration": 134,
        "start_time": "2023-09-25T00:03:00.397Z"
      },
      {
        "duration": 1013,
        "start_time": "2023-09-25T00:03:00.532Z"
      },
      {
        "duration": 20,
        "start_time": "2023-09-25T00:03:01.547Z"
      },
      {
        "duration": 171,
        "start_time": "2023-09-25T00:03:02.562Z"
      },
      {
        "duration": 4708,
        "start_time": "2023-09-25T00:03:03.728Z"
      },
      {
        "duration": 13,
        "start_time": "2023-09-25T00:03:18.554Z"
      },
      {
        "duration": 143,
        "start_time": "2023-09-25T00:03:21.717Z"
      },
      {
        "duration": 4513,
        "start_time": "2023-09-25T00:03:24.690Z"
      },
      {
        "duration": 12,
        "start_time": "2023-09-25T00:03:37.285Z"
      },
      {
        "duration": 147,
        "start_time": "2023-09-25T00:03:39.393Z"
      },
      {
        "duration": 5251,
        "start_time": "2023-09-25T00:03:39.655Z"
      },
      {
        "duration": 2,
        "start_time": "2023-09-25T00:03:55.418Z"
      },
      {
        "duration": 3,
        "start_time": "2023-09-25T00:03:56.780Z"
      },
      {
        "duration": 59021,
        "start_time": "2023-09-25T00:03:57.765Z"
      },
      {
        "duration": 1613,
        "start_time": "2023-09-25T00:05:42.468Z"
      },
      {
        "duration": 957,
        "start_time": "2023-09-25T00:05:44.083Z"
      },
      {
        "duration": 149,
        "start_time": "2023-09-25T00:05:45.042Z"
      },
      {
        "duration": 1027,
        "start_time": "2023-09-25T00:05:45.193Z"
      },
      {
        "duration": 62,
        "start_time": "2023-09-25T00:05:46.222Z"
      },
      {
        "duration": 7,
        "start_time": "2023-09-25T00:05:46.286Z"
      },
      {
        "duration": 381,
        "start_time": "2023-09-25T00:05:46.295Z"
      },
      {
        "duration": 103,
        "start_time": "2023-09-25T00:05:46.678Z"
      },
      {
        "duration": 101,
        "start_time": "2023-09-25T00:05:46.783Z"
      },
      {
        "duration": 6,
        "start_time": "2023-09-25T00:05:46.886Z"
      },
      {
        "duration": 539,
        "start_time": "2023-09-25T00:05:46.893Z"
      },
      {
        "duration": 171,
        "start_time": "2023-09-25T00:05:47.434Z"
      },
      {
        "duration": 16,
        "start_time": "2023-09-25T00:05:47.606Z"
      },
      {
        "duration": 34,
        "start_time": "2023-09-25T00:05:47.624Z"
      },
      {
        "duration": 7,
        "start_time": "2023-09-25T00:05:47.659Z"
      },
      {
        "duration": 33,
        "start_time": "2023-09-25T00:05:47.668Z"
      },
      {
        "duration": 103,
        "start_time": "2023-09-25T00:05:47.703Z"
      },
      {
        "duration": 136,
        "start_time": "2023-09-25T00:05:47.808Z"
      },
      {
        "duration": 40,
        "start_time": "2023-09-25T00:05:47.946Z"
      },
      {
        "duration": 105,
        "start_time": "2023-09-25T00:05:47.988Z"
      },
      {
        "duration": 168,
        "start_time": "2023-09-25T00:05:48.095Z"
      },
      {
        "duration": 31,
        "start_time": "2023-09-25T00:05:48.264Z"
      },
      {
        "duration": 180,
        "start_time": "2023-09-25T00:05:48.297Z"
      },
      {
        "duration": 257,
        "start_time": "2023-09-25T00:05:48.479Z"
      },
      {
        "duration": 203,
        "start_time": "2023-09-25T00:05:48.738Z"
      },
      {
        "duration": 22,
        "start_time": "2023-09-25T00:05:48.943Z"
      },
      {
        "duration": 89,
        "start_time": "2023-09-25T00:05:48.967Z"
      },
      {
        "duration": 78,
        "start_time": "2023-09-25T00:05:49.058Z"
      },
      {
        "duration": 736,
        "start_time": "2023-09-25T00:05:49.138Z"
      },
      {
        "duration": 3,
        "start_time": "2023-09-25T00:05:49.875Z"
      },
      {
        "duration": 20,
        "start_time": "2023-09-25T00:05:49.880Z"
      },
      {
        "duration": 20,
        "start_time": "2023-09-25T00:05:49.902Z"
      },
      {
        "duration": 76,
        "start_time": "2023-09-25T00:05:51.090Z"
      },
      {
        "duration": 904,
        "start_time": "2023-09-25T00:05:52.638Z"
      },
      {
        "duration": 72,
        "start_time": "2023-09-25T00:06:01.538Z"
      },
      {
        "duration": 34555,
        "start_time": "2023-09-25T00:06:03.922Z"
      },
      {
        "duration": 30749,
        "start_time": "2023-09-25T00:07:39.558Z"
      },
      {
        "duration": 85,
        "start_time": "2023-09-25T00:08:36.138Z"
      },
      {
        "duration": 31894,
        "start_time": "2023-09-25T00:08:38.096Z"
      },
      {
        "duration": 2217,
        "start_time": "2023-09-29T11:00:23.094Z"
      },
      {
        "duration": 1361,
        "start_time": "2023-09-29T11:00:25.313Z"
      },
      {
        "duration": 194,
        "start_time": "2023-09-29T11:00:26.678Z"
      },
      {
        "duration": 1061,
        "start_time": "2023-09-29T11:00:26.875Z"
      },
      {
        "duration": 51,
        "start_time": "2023-09-29T11:00:27.938Z"
      },
      {
        "duration": 26,
        "start_time": "2023-09-29T11:00:27.991Z"
      },
      {
        "duration": 401,
        "start_time": "2023-09-29T11:00:28.019Z"
      },
      {
        "duration": 105,
        "start_time": "2023-09-29T11:00:28.421Z"
      },
      {
        "duration": 121,
        "start_time": "2023-09-29T11:00:28.528Z"
      },
      {
        "duration": 7,
        "start_time": "2023-09-29T11:00:28.652Z"
      },
      {
        "duration": 565,
        "start_time": "2023-09-29T11:00:28.662Z"
      },
      {
        "duration": 192,
        "start_time": "2023-09-29T11:00:29.229Z"
      },
      {
        "duration": 27,
        "start_time": "2023-09-29T11:00:29.423Z"
      },
      {
        "duration": 14,
        "start_time": "2023-09-29T11:00:29.452Z"
      },
      {
        "duration": 20,
        "start_time": "2023-09-29T11:00:29.468Z"
      },
      {
        "duration": 55,
        "start_time": "2023-09-29T11:00:29.490Z"
      },
      {
        "duration": 100,
        "start_time": "2023-09-29T11:00:29.547Z"
      },
      {
        "duration": 202,
        "start_time": "2023-09-29T11:00:29.649Z"
      },
      {
        "duration": 46,
        "start_time": "2023-09-29T11:00:29.854Z"
      },
      {
        "duration": 124,
        "start_time": "2023-09-29T11:00:29.905Z"
      },
      {
        "duration": 176,
        "start_time": "2023-09-29T11:00:30.031Z"
      },
      {
        "duration": 42,
        "start_time": "2023-09-29T11:00:30.209Z"
      },
      {
        "duration": 114,
        "start_time": "2023-09-29T11:00:30.253Z"
      },
      {
        "duration": 422,
        "start_time": "2023-09-29T11:00:30.369Z"
      },
      {
        "duration": 244,
        "start_time": "2023-09-29T11:00:30.793Z"
      },
      {
        "duration": 20,
        "start_time": "2023-09-29T11:00:31.467Z"
      },
      {
        "duration": 104,
        "start_time": "2023-09-29T11:00:32.219Z"
      },
      {
        "duration": 122,
        "start_time": "2023-09-29T11:00:32.394Z"
      },
      {
        "duration": 720,
        "start_time": "2023-09-29T11:00:32.977Z"
      },
      {
        "duration": 3,
        "start_time": "2023-09-29T11:00:33.699Z"
      },
      {
        "duration": 2,
        "start_time": "2023-09-29T11:00:33.751Z"
      },
      {
        "duration": 3,
        "start_time": "2023-09-29T11:00:33.843Z"
      },
      {
        "duration": 69,
        "start_time": "2023-09-29T11:00:34.270Z"
      },
      {
        "duration": 982,
        "start_time": "2023-09-29T11:00:34.437Z"
      },
      {
        "duration": 90,
        "start_time": "2023-09-29T11:00:35.421Z"
      },
      {
        "duration": 8,
        "start_time": "2023-09-29T11:00:35.514Z"
      },
      {
        "duration": 129,
        "start_time": "2023-09-29T11:00:36.019Z"
      },
      {
        "duration": 220,
        "start_time": "2023-09-29T11:00:36.192Z"
      },
      {
        "duration": 90210,
        "start_time": "2023-09-29T11:00:36.524Z"
      },
      {
        "duration": 12,
        "start_time": "2023-09-29T11:02:06.737Z"
      },
      {
        "duration": 5,
        "start_time": "2023-09-29T11:47:30.472Z"
      },
      {
        "duration": 4,
        "start_time": "2023-09-29T11:47:39.024Z"
      },
      {
        "duration": 13,
        "start_time": "2023-09-29T11:47:50.305Z"
      },
      {
        "duration": 66,
        "start_time": "2023-09-29T11:47:54.674Z"
      },
      {
        "duration": 71,
        "start_time": "2023-09-29T11:48:03.577Z"
      },
      {
        "duration": 4,
        "start_time": "2023-09-29T11:48:28.564Z"
      },
      {
        "duration": 4,
        "start_time": "2023-09-29T11:48:36.442Z"
      },
      {
        "duration": 4,
        "start_time": "2023-09-29T11:48:40.970Z"
      },
      {
        "duration": 1646,
        "start_time": "2023-09-29T11:51:28.616Z"
      },
      {
        "duration": 1034,
        "start_time": "2023-09-29T11:51:30.264Z"
      },
      {
        "duration": 181,
        "start_time": "2023-09-29T11:51:31.300Z"
      },
      {
        "duration": 1136,
        "start_time": "2023-09-29T11:51:31.484Z"
      },
      {
        "duration": 60,
        "start_time": "2023-09-29T11:51:32.622Z"
      },
      {
        "duration": 15,
        "start_time": "2023-09-29T11:51:32.684Z"
      },
      {
        "duration": 404,
        "start_time": "2023-09-29T11:51:33.062Z"
      },
      {
        "duration": 126,
        "start_time": "2023-09-29T11:51:33.558Z"
      },
      {
        "duration": 113,
        "start_time": "2023-09-29T11:51:33.872Z"
      },
      {
        "duration": 7,
        "start_time": "2023-09-29T11:51:34.207Z"
      },
      {
        "duration": 628,
        "start_time": "2023-09-29T11:51:34.370Z"
      },
      {
        "duration": 203,
        "start_time": "2023-09-29T11:51:35.000Z"
      },
      {
        "duration": 14,
        "start_time": "2023-09-29T11:51:35.214Z"
      },
      {
        "duration": 13,
        "start_time": "2023-09-29T11:51:35.362Z"
      },
      {
        "duration": 11,
        "start_time": "2023-09-29T11:51:35.540Z"
      },
      {
        "duration": 27,
        "start_time": "2023-09-29T11:51:35.860Z"
      },
      {
        "duration": 126,
        "start_time": "2023-09-29T11:51:36.030Z"
      },
      {
        "duration": 148,
        "start_time": "2023-09-29T11:51:36.198Z"
      },
      {
        "duration": 41,
        "start_time": "2023-09-29T11:51:36.534Z"
      },
      {
        "duration": 109,
        "start_time": "2023-09-29T11:51:36.712Z"
      },
      {
        "duration": 174,
        "start_time": "2023-09-29T11:51:36.913Z"
      },
      {
        "duration": 25,
        "start_time": "2023-09-29T11:51:38.093Z"
      },
      {
        "duration": 102,
        "start_time": "2023-09-29T11:51:38.438Z"
      },
      {
        "duration": 96,
        "start_time": "2023-09-29T11:51:47.782Z"
      },
      {
        "duration": 260,
        "start_time": "2023-09-29T11:51:48.059Z"
      },
      {
        "duration": 207,
        "start_time": "2023-09-29T11:51:48.867Z"
      },
      {
        "duration": 16,
        "start_time": "2023-09-29T11:51:49.910Z"
      },
      {
        "duration": 117,
        "start_time": "2023-09-29T11:51:51.015Z"
      },
      {
        "duration": 120,
        "start_time": "2023-09-29T11:51:51.214Z"
      },
      {
        "duration": 855,
        "start_time": "2023-09-29T11:51:52.261Z"
      },
      {
        "duration": 1811,
        "start_time": "2023-09-29T11:53:02.185Z"
      },
      {
        "duration": 1091,
        "start_time": "2023-09-29T11:53:03.998Z"
      },
      {
        "duration": 179,
        "start_time": "2023-09-29T11:53:05.091Z"
      },
      {
        "duration": 1129,
        "start_time": "2023-09-29T11:53:05.273Z"
      },
      {
        "duration": 80,
        "start_time": "2023-09-29T11:53:06.404Z"
      },
      {
        "duration": 22,
        "start_time": "2023-09-29T11:53:06.485Z"
      },
      {
        "duration": 478,
        "start_time": "2023-09-29T11:53:06.509Z"
      },
      {
        "duration": 259,
        "start_time": "2023-09-29T11:53:06.989Z"
      },
      {
        "duration": 217,
        "start_time": "2023-09-29T11:53:07.250Z"
      },
      {
        "duration": 7,
        "start_time": "2023-09-29T11:53:07.471Z"
      },
      {
        "duration": 640,
        "start_time": "2023-09-29T11:53:07.480Z"
      },
      {
        "duration": 249,
        "start_time": "2023-09-29T11:53:08.122Z"
      },
      {
        "duration": 17,
        "start_time": "2023-09-29T11:53:08.373Z"
      },
      {
        "duration": 15,
        "start_time": "2023-09-29T11:53:08.392Z"
      },
      {
        "duration": 24,
        "start_time": "2023-09-29T11:53:08.409Z"
      },
      {
        "duration": 37,
        "start_time": "2023-09-29T11:53:08.444Z"
      },
      {
        "duration": 120,
        "start_time": "2023-09-29T11:53:08.483Z"
      },
      {
        "duration": 161,
        "start_time": "2023-09-29T11:53:08.605Z"
      },
      {
        "duration": 34,
        "start_time": "2023-09-29T11:53:08.768Z"
      },
      {
        "duration": 125,
        "start_time": "2023-09-29T11:53:08.804Z"
      },
      {
        "duration": 201,
        "start_time": "2023-09-29T11:53:08.932Z"
      },
      {
        "duration": 35,
        "start_time": "2023-09-29T11:53:09.135Z"
      },
      {
        "duration": 110,
        "start_time": "2023-09-29T11:53:09.174Z"
      },
      {
        "duration": 303,
        "start_time": "2023-09-29T11:53:09.286Z"
      },
      {
        "duration": 216,
        "start_time": "2023-09-29T11:53:09.590Z"
      },
      {
        "duration": 17,
        "start_time": "2023-09-29T11:53:09.807Z"
      },
      {
        "duration": 119,
        "start_time": "2023-09-29T11:53:09.826Z"
      },
      {
        "duration": 111,
        "start_time": "2023-09-29T11:53:09.951Z"
      },
      {
        "duration": 3,
        "start_time": "2023-09-29T11:53:10.064Z"
      },
      {
        "duration": 39,
        "start_time": "2023-09-29T11:53:10.068Z"
      },
      {
        "duration": 21,
        "start_time": "2023-09-29T11:53:10.109Z"
      },
      {
        "duration": 59,
        "start_time": "2023-09-29T11:53:10.132Z"
      },
      {
        "duration": 79,
        "start_time": "2023-09-29T11:53:12.484Z"
      },
      {
        "duration": 638,
        "start_time": "2023-09-29T11:53:24.284Z"
      },
      {
        "duration": 9,
        "start_time": "2023-09-29T11:53:34.398Z"
      },
      {
        "duration": 187,
        "start_time": "2023-09-29T11:54:30.014Z"
      },
      {
        "duration": 139,
        "start_time": "2023-09-29T11:56:01.186Z"
      },
      {
        "duration": 1650,
        "start_time": "2023-09-29T11:56:53.489Z"
      },
      {
        "duration": 911,
        "start_time": "2023-09-29T11:56:55.143Z"
      },
      {
        "duration": 157,
        "start_time": "2023-09-29T11:56:56.055Z"
      },
      {
        "duration": 1039,
        "start_time": "2023-09-29T11:56:56.215Z"
      },
      {
        "duration": 49,
        "start_time": "2023-09-29T11:56:57.255Z"
      },
      {
        "duration": 26,
        "start_time": "2023-09-29T11:56:57.306Z"
      },
      {
        "duration": 366,
        "start_time": "2023-09-29T11:56:57.334Z"
      },
      {
        "duration": 103,
        "start_time": "2023-09-29T11:56:57.702Z"
      },
      {
        "duration": 109,
        "start_time": "2023-09-29T11:56:57.806Z"
      },
      {
        "duration": 24,
        "start_time": "2023-09-29T11:56:57.919Z"
      },
      {
        "duration": 504,
        "start_time": "2023-09-29T11:56:57.945Z"
      },
      {
        "duration": 234,
        "start_time": "2023-09-29T11:56:58.451Z"
      },
      {
        "duration": 13,
        "start_time": "2023-09-29T11:56:58.687Z"
      },
      {
        "duration": 14,
        "start_time": "2023-09-29T11:56:58.702Z"
      },
      {
        "duration": 28,
        "start_time": "2023-09-29T11:56:58.717Z"
      },
      {
        "duration": 30,
        "start_time": "2023-09-29T11:56:58.747Z"
      },
      {
        "duration": 108,
        "start_time": "2023-09-29T11:56:58.778Z"
      },
      {
        "duration": 205,
        "start_time": "2023-09-29T11:56:58.888Z"
      },
      {
        "duration": 37,
        "start_time": "2023-09-29T11:56:59.095Z"
      },
      {
        "duration": 111,
        "start_time": "2023-09-29T11:56:59.134Z"
      },
      {
        "duration": 171,
        "start_time": "2023-09-29T11:56:59.246Z"
      },
      {
        "duration": 36,
        "start_time": "2023-09-29T11:56:59.420Z"
      },
      {
        "duration": 97,
        "start_time": "2023-09-29T11:56:59.458Z"
      },
      {
        "duration": 256,
        "start_time": "2023-09-29T11:56:59.557Z"
      },
      {
        "duration": 203,
        "start_time": "2023-09-29T11:56:59.815Z"
      },
      {
        "duration": 27,
        "start_time": "2023-09-29T11:57:00.021Z"
      },
      {
        "duration": 165,
        "start_time": "2023-09-29T11:57:00.050Z"
      },
      {
        "duration": 87,
        "start_time": "2023-09-29T11:57:00.219Z"
      },
      {
        "duration": 34,
        "start_time": "2023-09-29T11:57:00.308Z"
      },
      {
        "duration": 36,
        "start_time": "2023-09-29T11:57:00.344Z"
      },
      {
        "duration": 22,
        "start_time": "2023-09-29T11:57:00.382Z"
      },
      {
        "duration": 45,
        "start_time": "2023-09-29T11:57:00.406Z"
      },
      {
        "duration": 106,
        "start_time": "2023-09-29T11:57:00.453Z"
      },
      {
        "duration": 596,
        "start_time": "2023-09-29T11:57:00.561Z"
      },
      {
        "duration": 2,
        "start_time": "2023-09-29T11:57:01.159Z"
      },
      {
        "duration": 217,
        "start_time": "2023-09-29T11:57:01.163Z"
      },
      {
        "duration": 56,
        "start_time": "2023-09-29T11:57:01.381Z"
      },
      {
        "duration": 200,
        "start_time": "2023-09-29T11:57:01.491Z"
      },
      {
        "duration": 138,
        "start_time": "2023-09-29T11:57:03.266Z"
      },
      {
        "duration": 1522,
        "start_time": "2023-09-29T11:57:36.205Z"
      },
      {
        "duration": 959,
        "start_time": "2023-09-29T11:57:37.729Z"
      },
      {
        "duration": 164,
        "start_time": "2023-09-29T11:57:38.692Z"
      },
      {
        "duration": 995,
        "start_time": "2023-09-29T11:57:38.859Z"
      },
      {
        "duration": 52,
        "start_time": "2023-09-29T11:57:39.856Z"
      },
      {
        "duration": 42,
        "start_time": "2023-09-29T11:57:39.910Z"
      },
      {
        "duration": 382,
        "start_time": "2023-09-29T11:57:39.954Z"
      },
      {
        "duration": 110,
        "start_time": "2023-09-29T11:57:40.338Z"
      },
      {
        "duration": 111,
        "start_time": "2023-09-29T11:57:40.450Z"
      },
      {
        "duration": 26,
        "start_time": "2023-09-29T11:57:40.562Z"
      },
      {
        "duration": 551,
        "start_time": "2023-09-29T11:57:40.590Z"
      },
      {
        "duration": 181,
        "start_time": "2023-09-29T11:57:41.142Z"
      },
      {
        "duration": 18,
        "start_time": "2023-09-29T11:57:41.326Z"
      },
      {
        "duration": 22,
        "start_time": "2023-09-29T11:57:41.346Z"
      },
      {
        "duration": 16,
        "start_time": "2023-09-29T11:57:41.370Z"
      },
      {
        "duration": 59,
        "start_time": "2023-09-29T11:57:41.388Z"
      },
      {
        "duration": 118,
        "start_time": "2023-09-29T11:57:41.449Z"
      },
      {
        "duration": 163,
        "start_time": "2023-09-29T11:57:41.569Z"
      },
      {
        "duration": 36,
        "start_time": "2023-09-29T11:57:41.734Z"
      },
      {
        "duration": 102,
        "start_time": "2023-09-29T11:57:41.772Z"
      },
      {
        "duration": 174,
        "start_time": "2023-09-29T11:57:41.876Z"
      },
      {
        "duration": 25,
        "start_time": "2023-09-29T11:57:42.053Z"
      },
      {
        "duration": 103,
        "start_time": "2023-09-29T11:57:42.080Z"
      },
      {
        "duration": 262,
        "start_time": "2023-09-29T11:57:42.184Z"
      },
      {
        "duration": 187,
        "start_time": "2023-09-29T11:57:42.448Z"
      },
      {
        "duration": 17,
        "start_time": "2023-09-29T11:57:42.636Z"
      },
      {
        "duration": 96,
        "start_time": "2023-09-29T11:57:42.655Z"
      },
      {
        "duration": 98,
        "start_time": "2023-09-29T11:57:42.753Z"
      },
      {
        "duration": 3,
        "start_time": "2023-09-29T11:57:42.853Z"
      },
      {
        "duration": 49,
        "start_time": "2023-09-29T11:57:42.858Z"
      },
      {
        "duration": 31,
        "start_time": "2023-09-29T11:57:42.909Z"
      },
      {
        "duration": 32,
        "start_time": "2023-09-29T11:57:42.942Z"
      },
      {
        "duration": 122,
        "start_time": "2023-09-29T11:57:42.976Z"
      },
      {
        "duration": 579,
        "start_time": "2023-09-29T11:57:43.100Z"
      },
      {
        "duration": 2,
        "start_time": "2023-09-29T11:57:43.681Z"
      },
      {
        "duration": 50,
        "start_time": "2023-09-29T11:57:43.686Z"
      },
      {
        "duration": 33,
        "start_time": "2023-09-29T11:57:43.738Z"
      },
      {
        "duration": 213,
        "start_time": "2023-09-29T11:57:43.774Z"
      },
      {
        "duration": 148,
        "start_time": "2023-09-29T11:57:43.989Z"
      },
      {
        "duration": 2,
        "start_time": "2023-09-29T11:57:44.143Z"
      },
      {
        "duration": 31404,
        "start_time": "2023-09-29T11:57:44.147Z"
      },
      {
        "duration": 6,
        "start_time": "2023-09-29T11:58:15.556Z"
      },
      {
        "duration": 5,
        "start_time": "2023-09-29T11:58:15.565Z"
      },
      {
        "duration": 2043,
        "start_time": "2023-09-29T11:58:38.620Z"
      },
      {
        "duration": 940,
        "start_time": "2023-09-29T11:58:40.665Z"
      },
      {
        "duration": 153,
        "start_time": "2023-09-29T11:58:41.607Z"
      },
      {
        "duration": 1008,
        "start_time": "2023-09-29T11:58:41.762Z"
      },
      {
        "duration": 50,
        "start_time": "2023-09-29T11:58:42.772Z"
      },
      {
        "duration": 6,
        "start_time": "2023-09-29T11:58:44.733Z"
      },
      {
        "duration": 419,
        "start_time": "2023-09-29T11:58:45.235Z"
      },
      {
        "duration": 109,
        "start_time": "2023-09-29T11:58:45.799Z"
      },
      {
        "duration": 107,
        "start_time": "2023-09-29T11:58:46.276Z"
      },
      {
        "duration": 6,
        "start_time": "2023-09-29T11:58:46.594Z"
      },
      {
        "duration": 491,
        "start_time": "2023-09-29T11:58:46.931Z"
      },
      {
        "duration": 226,
        "start_time": "2023-09-29T11:58:51.259Z"
      },
      {
        "duration": 13,
        "start_time": "2023-09-29T11:58:51.487Z"
      },
      {
        "duration": 29,
        "start_time": "2023-09-29T11:58:51.502Z"
      },
      {
        "duration": 8,
        "start_time": "2023-09-29T11:58:51.543Z"
      },
      {
        "duration": 38,
        "start_time": "2023-09-29T11:58:51.552Z"
      },
      {
        "duration": 112,
        "start_time": "2023-09-29T11:58:51.592Z"
      },
      {
        "duration": 162,
        "start_time": "2023-09-29T11:58:51.706Z"
      },
      {
        "duration": 34,
        "start_time": "2023-09-29T11:58:51.870Z"
      },
      {
        "duration": 109,
        "start_time": "2023-09-29T11:58:51.906Z"
      },
      {
        "duration": 167,
        "start_time": "2023-09-29T11:58:52.017Z"
      },
      {
        "duration": 25,
        "start_time": "2023-09-29T11:58:52.187Z"
      },
      {
        "duration": 119,
        "start_time": "2023-09-29T11:58:52.214Z"
      },
      {
        "duration": 256,
        "start_time": "2023-09-29T11:58:52.335Z"
      },
      {
        "duration": 195,
        "start_time": "2023-09-29T11:58:52.593Z"
      },
      {
        "duration": 16,
        "start_time": "2023-09-29T11:58:54.854Z"
      },
      {
        "duration": 88,
        "start_time": "2023-09-29T11:59:07.202Z"
      },
      {
        "duration": 142,
        "start_time": "2023-09-29T11:59:26.215Z"
      },
      {
        "duration": 156,
        "start_time": "2023-09-29T12:00:07.308Z"
      },
      {
        "duration": 171,
        "start_time": "2023-09-29T12:00:14.555Z"
      },
      {
        "duration": 136,
        "start_time": "2023-09-29T12:00:25.131Z"
      },
      {
        "duration": 255,
        "start_time": "2023-09-29T12:01:46.020Z"
      },
      {
        "duration": 248,
        "start_time": "2023-09-29T12:01:50.214Z"
      },
      {
        "duration": 74,
        "start_time": "2023-09-29T12:02:03.189Z"
      },
      {
        "duration": 199,
        "start_time": "2023-09-29T12:08:02.090Z"
      },
      {
        "duration": 415,
        "start_time": "2023-09-29T12:08:02.751Z"
      },
      {
        "duration": 120,
        "start_time": "2023-09-29T12:08:03.482Z"
      },
      {
        "duration": 4,
        "start_time": "2023-09-29T12:08:05.240Z"
      },
      {
        "duration": 3,
        "start_time": "2023-09-29T12:08:05.510Z"
      },
      {
        "duration": 5,
        "start_time": "2023-09-29T12:08:07.137Z"
      },
      {
        "duration": 3,
        "start_time": "2023-09-29T12:08:07.384Z"
      },
      {
        "duration": 95,
        "start_time": "2023-09-29T12:08:07.850Z"
      },
      {
        "duration": 89,
        "start_time": "2023-09-29T12:08:16.601Z"
      },
      {
        "duration": 714,
        "start_time": "2023-09-29T12:08:17.223Z"
      },
      {
        "duration": 7,
        "start_time": "2023-09-29T12:08:54.311Z"
      },
      {
        "duration": 1379,
        "start_time": "2023-09-29T12:08:54.376Z"
      },
      {
        "duration": 196,
        "start_time": "2023-09-29T12:08:55.759Z"
      },
      {
        "duration": 1560,
        "start_time": "2023-09-29T12:08:55.957Z"
      },
      {
        "duration": 61,
        "start_time": "2023-09-29T12:08:57.519Z"
      },
      {
        "duration": 7,
        "start_time": "2023-09-29T12:08:57.583Z"
      },
      {
        "duration": 566,
        "start_time": "2023-09-29T12:08:57.592Z"
      },
      {
        "duration": 164,
        "start_time": "2023-09-29T12:08:58.161Z"
      },
      {
        "duration": 175,
        "start_time": "2023-09-29T12:08:58.328Z"
      },
      {
        "duration": 12,
        "start_time": "2023-09-29T12:08:58.506Z"
      },
      {
        "duration": 669,
        "start_time": "2023-09-29T12:08:58.522Z"
      },
      {
        "duration": 258,
        "start_time": "2023-09-29T12:08:59.194Z"
      },
      {
        "duration": 18,
        "start_time": "2023-09-29T12:08:59.455Z"
      },
      {
        "duration": 17,
        "start_time": "2023-09-29T12:08:59.476Z"
      },
      {
        "duration": 9,
        "start_time": "2023-09-29T12:08:59.495Z"
      },
      {
        "duration": 76,
        "start_time": "2023-09-29T12:08:59.507Z"
      },
      {
        "duration": 188,
        "start_time": "2023-09-29T12:08:59.585Z"
      },
      {
        "duration": 218,
        "start_time": "2023-09-29T12:08:59.776Z"
      },
      {
        "duration": 53,
        "start_time": "2023-09-29T12:08:59.998Z"
      },
      {
        "duration": 206,
        "start_time": "2023-09-29T12:09:00.056Z"
      },
      {
        "duration": 252,
        "start_time": "2023-09-29T12:09:00.264Z"
      },
      {
        "duration": 44,
        "start_time": "2023-09-29T12:09:00.518Z"
      },
      {
        "duration": 154,
        "start_time": "2023-09-29T12:09:00.565Z"
      },
      {
        "duration": 252,
        "start_time": "2023-09-29T12:09:00.721Z"
      },
      {
        "duration": 262,
        "start_time": "2023-09-29T12:09:00.975Z"
      },
      {
        "duration": 422,
        "start_time": "2023-09-29T12:09:01.244Z"
      },
      {
        "duration": 474,
        "start_time": "2023-09-29T12:09:01.669Z"
      },
      {
        "duration": 448,
        "start_time": "2023-09-29T12:09:02.145Z"
      },
      {
        "duration": 151,
        "start_time": "2023-09-29T12:09:02.597Z"
      },
      {
        "duration": 201,
        "start_time": "2023-09-29T12:09:02.750Z"
      },
      {
        "duration": 108,
        "start_time": "2023-09-29T12:09:02.954Z"
      },
      {
        "duration": 14,
        "start_time": "2023-09-29T12:09:03.064Z"
      },
      {
        "duration": 69,
        "start_time": "2023-09-29T12:09:03.080Z"
      },
      {
        "duration": 130,
        "start_time": "2023-09-29T12:09:03.151Z"
      },
      {
        "duration": 537,
        "start_time": "2023-09-29T12:09:03.283Z"
      },
      {
        "duration": 11,
        "start_time": "2023-09-29T12:09:03.827Z"
      },
      {
        "duration": 189,
        "start_time": "2023-09-29T12:09:03.841Z"
      },
      {
        "duration": 180,
        "start_time": "2023-09-29T12:09:04.032Z"
      },
      {
        "duration": 22432,
        "start_time": "2023-09-29T12:09:04.214Z"
      },
      {
        "duration": 4,
        "start_time": "2023-09-29T12:09:26.650Z"
      },
      {
        "duration": 32,
        "start_time": "2023-09-29T12:09:26.656Z"
      },
      {
        "duration": 93918,
        "start_time": "2023-09-29T12:09:26.691Z"
      },
      {
        "duration": 3,
        "start_time": "2023-09-29T12:11:00.612Z"
      },
      {
        "duration": 80645,
        "start_time": "2023-09-29T12:19:44.187Z"
      },
      {
        "duration": 33850,
        "start_time": "2023-09-29T12:29:57.399Z"
      },
      {
        "duration": 3,
        "start_time": "2023-09-29T12:31:43.230Z"
      },
      {
        "duration": 137,
        "start_time": "2023-09-29T12:31:59.835Z"
      },
      {
        "duration": 5,
        "start_time": "2023-09-29T12:32:11.793Z"
      },
      {
        "duration": 4,
        "start_time": "2023-09-29T12:33:01.399Z"
      },
      {
        "duration": 5,
        "start_time": "2023-09-29T12:33:07.863Z"
      },
      {
        "duration": 5,
        "start_time": "2023-09-29T12:33:16.155Z"
      },
      {
        "duration": 9,
        "start_time": "2023-09-29T12:33:21.260Z"
      },
      {
        "duration": 82,
        "start_time": "2023-09-29T12:34:11.754Z"
      },
      {
        "duration": 451257,
        "start_time": "2023-09-29T12:35:00.598Z"
      },
      {
        "duration": 3,
        "start_time": "2023-09-29T12:42:31.857Z"
      },
      {
        "duration": 1945,
        "start_time": "2023-09-29T12:43:25.361Z"
      },
      {
        "duration": 153,
        "start_time": "2023-09-29T12:43:36.317Z"
      },
      {
        "duration": 1818,
        "start_time": "2023-09-29T13:51:56.717Z"
      },
      {
        "duration": 968,
        "start_time": "2023-09-29T13:51:58.537Z"
      },
      {
        "duration": 166,
        "start_time": "2023-09-29T13:51:59.507Z"
      },
      {
        "duration": 1248,
        "start_time": "2023-09-29T13:51:59.674Z"
      },
      {
        "duration": 69,
        "start_time": "2023-09-29T13:52:00.926Z"
      },
      {
        "duration": 95,
        "start_time": "2023-09-29T13:52:00.996Z"
      },
      {
        "duration": 759,
        "start_time": "2023-09-29T13:52:01.104Z"
      },
      {
        "duration": 160,
        "start_time": "2023-09-29T13:52:01.866Z"
      },
      {
        "duration": 397,
        "start_time": "2023-09-29T13:52:02.028Z"
      },
      {
        "duration": 13,
        "start_time": "2023-09-29T13:52:02.427Z"
      },
      {
        "duration": 601,
        "start_time": "2023-09-29T13:52:02.444Z"
      },
      {
        "duration": 252,
        "start_time": "2023-09-29T13:52:03.046Z"
      },
      {
        "duration": 18,
        "start_time": "2023-09-29T13:52:03.300Z"
      },
      {
        "duration": 34,
        "start_time": "2023-09-29T13:52:03.323Z"
      },
      {
        "duration": 15,
        "start_time": "2023-09-29T13:52:03.359Z"
      },
      {
        "duration": 37,
        "start_time": "2023-09-29T13:52:03.376Z"
      },
      {
        "duration": 155,
        "start_time": "2023-09-29T13:52:03.415Z"
      },
      {
        "duration": 230,
        "start_time": "2023-09-29T13:52:03.573Z"
      },
      {
        "duration": 49,
        "start_time": "2023-09-29T13:52:03.806Z"
      },
      {
        "duration": 130,
        "start_time": "2023-09-29T13:52:03.858Z"
      },
      {
        "duration": 170,
        "start_time": "2023-09-29T13:52:03.990Z"
      },
      {
        "duration": 33,
        "start_time": "2023-09-29T13:52:04.162Z"
      },
      {
        "duration": 128,
        "start_time": "2023-09-29T13:52:04.197Z"
      },
      {
        "duration": 352,
        "start_time": "2023-09-29T13:52:04.327Z"
      },
      {
        "duration": 258,
        "start_time": "2023-09-29T13:52:04.682Z"
      },
      {
        "duration": 21,
        "start_time": "2023-09-29T13:52:04.944Z"
      },
      {
        "duration": 192,
        "start_time": "2023-09-29T13:52:04.968Z"
      },
      {
        "duration": 325,
        "start_time": "2023-09-29T13:52:05.162Z"
      },
      {
        "duration": 102,
        "start_time": "2023-09-29T13:52:05.489Z"
      },
      {
        "duration": 20,
        "start_time": "2023-09-29T13:52:05.593Z"
      },
      {
        "duration": 47,
        "start_time": "2023-09-29T13:52:05.615Z"
      },
      {
        "duration": 47,
        "start_time": "2023-09-29T13:52:05.664Z"
      },
      {
        "duration": 31,
        "start_time": "2023-09-29T13:52:05.713Z"
      },
      {
        "duration": 78,
        "start_time": "2023-09-29T13:52:05.746Z"
      },
      {
        "duration": 556,
        "start_time": "2023-09-29T13:52:05.825Z"
      },
      {
        "duration": 11,
        "start_time": "2023-09-29T13:52:06.383Z"
      },
      {
        "duration": 194,
        "start_time": "2023-09-29T13:52:06.396Z"
      },
      {
        "duration": 172,
        "start_time": "2023-09-29T13:52:06.592Z"
      },
      {
        "duration": 27775,
        "start_time": "2023-09-29T13:52:06.769Z"
      },
      {
        "duration": 4,
        "start_time": "2023-09-29T13:52:34.549Z"
      },
      {
        "duration": 20,
        "start_time": "2023-09-29T13:52:34.559Z"
      },
      {
        "duration": 73745,
        "start_time": "2023-09-29T13:52:34.581Z"
      },
      {
        "duration": 74520,
        "start_time": "2023-09-29T13:53:48.328Z"
      },
      {
        "duration": 3,
        "start_time": "2023-09-29T13:55:02.851Z"
      },
      {
        "duration": 61,
        "start_time": "2023-09-29T13:55:02.856Z"
      },
      {
        "duration": 4233484,
        "start_time": "2023-09-29T13:55:02.919Z"
      },
      {
        "duration": 3,
        "start_time": "2023-09-29T15:05:36.405Z"
      },
      {
        "duration": 82,
        "start_time": "2023-09-29T15:05:36.409Z"
      },
      {
        "duration": 1901,
        "start_time": "2023-09-29T15:08:25.620Z"
      },
      {
        "duration": 982,
        "start_time": "2023-09-29T15:08:27.523Z"
      },
      {
        "duration": 153,
        "start_time": "2023-09-29T15:08:28.507Z"
      },
      {
        "duration": 993,
        "start_time": "2023-09-29T15:08:28.663Z"
      },
      {
        "duration": 50,
        "start_time": "2023-09-29T15:08:29.658Z"
      },
      {
        "duration": 23,
        "start_time": "2023-09-29T15:08:29.710Z"
      },
      {
        "duration": 413,
        "start_time": "2023-09-29T15:08:29.735Z"
      },
      {
        "duration": 107,
        "start_time": "2023-09-29T15:08:30.150Z"
      },
      {
        "duration": 104,
        "start_time": "2023-09-29T15:08:30.259Z"
      },
      {
        "duration": 8,
        "start_time": "2023-09-29T15:08:30.365Z"
      },
      {
        "duration": 528,
        "start_time": "2023-09-29T15:08:30.375Z"
      },
      {
        "duration": 181,
        "start_time": "2023-09-29T15:08:30.905Z"
      },
      {
        "duration": 15,
        "start_time": "2023-09-29T15:08:31.088Z"
      },
      {
        "duration": 59,
        "start_time": "2023-09-29T15:08:31.106Z"
      },
      {
        "duration": 87,
        "start_time": "2023-09-29T15:08:31.167Z"
      },
      {
        "duration": 71,
        "start_time": "2023-09-29T15:08:31.256Z"
      },
      {
        "duration": 123,
        "start_time": "2023-09-29T15:08:31.329Z"
      },
      {
        "duration": 150,
        "start_time": "2023-09-29T15:08:31.454Z"
      },
      {
        "duration": 37,
        "start_time": "2023-09-29T15:08:31.607Z"
      },
      {
        "duration": 194,
        "start_time": "2023-09-29T15:08:31.646Z"
      },
      {
        "duration": 160,
        "start_time": "2023-09-29T15:08:31.841Z"
      },
      {
        "duration": 27,
        "start_time": "2023-09-29T15:08:32.003Z"
      },
      {
        "duration": 144,
        "start_time": "2023-09-29T15:08:32.031Z"
      },
      {
        "duration": 280,
        "start_time": "2023-09-29T15:08:32.177Z"
      },
      {
        "duration": 196,
        "start_time": "2023-09-29T15:08:32.459Z"
      },
      {
        "duration": 17,
        "start_time": "2023-09-29T15:08:32.657Z"
      },
      {
        "duration": 145,
        "start_time": "2023-09-29T15:08:32.675Z"
      },
      {
        "duration": 290,
        "start_time": "2023-09-29T15:08:32.821Z"
      },
      {
        "duration": 76,
        "start_time": "2023-09-29T15:08:33.114Z"
      },
      {
        "duration": 5,
        "start_time": "2023-09-29T15:08:33.192Z"
      },
      {
        "duration": 8,
        "start_time": "2023-09-29T15:08:33.199Z"
      },
      {
        "duration": 16,
        "start_time": "2023-09-29T15:08:33.208Z"
      },
      {
        "duration": 4,
        "start_time": "2023-09-29T15:08:33.226Z"
      },
      {
        "duration": 70,
        "start_time": "2023-09-29T15:08:33.232Z"
      },
      {
        "duration": 469,
        "start_time": "2023-09-29T15:08:33.303Z"
      },
      {
        "duration": 9,
        "start_time": "2023-09-29T15:08:33.775Z"
      },
      {
        "duration": 205,
        "start_time": "2023-09-29T15:08:33.787Z"
      },
      {
        "duration": 130,
        "start_time": "2023-09-29T15:08:33.994Z"
      },
      {
        "duration": 24620,
        "start_time": "2023-09-29T15:08:34.125Z"
      },
      {
        "duration": 8,
        "start_time": "2023-09-29T15:08:58.747Z"
      },
      {
        "duration": 95,
        "start_time": "2023-09-29T15:08:58.760Z"
      },
      {
        "duration": 74893,
        "start_time": "2023-09-29T15:08:58.857Z"
      },
      {
        "duration": 72960,
        "start_time": "2023-09-29T15:10:13.752Z"
      },
      {
        "duration": 3,
        "start_time": "2023-09-29T15:11:26.715Z"
      },
      {
        "duration": 34,
        "start_time": "2023-09-29T15:11:26.720Z"
      },
      {
        "duration": 4264952,
        "start_time": "2023-09-29T15:11:26.756Z"
      },
      {
        "duration": 3,
        "start_time": "2023-09-29T16:22:31.711Z"
      },
      {
        "duration": 137,
        "start_time": "2023-09-29T16:22:31.716Z"
      },
      {
        "duration": 520838,
        "start_time": "2023-09-29T16:22:31.855Z"
      },
      {
        "duration": 3,
        "start_time": "2023-09-29T16:31:12.695Z"
      },
      {
        "duration": 186,
        "start_time": "2023-09-29T16:31:12.700Z"
      },
      {
        "duration": 6672154,
        "start_time": "2023-09-29T16:31:12.888Z"
      },
      {
        "duration": 3,
        "start_time": "2023-09-29T18:22:25.044Z"
      },
      {
        "duration": 110,
        "start_time": "2023-09-29T18:22:25.049Z"
      },
      {
        "duration": 0,
        "start_time": "2023-09-29T18:22:25.160Z"
      },
      {
        "duration": 55,
        "start_time": "2023-09-29T18:33:34.127Z"
      },
      {
        "duration": 71,
        "start_time": "2023-09-29T18:33:44.244Z"
      },
      {
        "duration": 127,
        "start_time": "2023-09-29T18:33:59.173Z"
      },
      {
        "duration": 1740,
        "start_time": "2023-09-29T18:35:33.027Z"
      },
      {
        "duration": 58,
        "start_time": "2023-09-29T18:35:49.106Z"
      },
      {
        "duration": 185,
        "start_time": "2023-09-29T18:35:53.733Z"
      },
      {
        "duration": 288546,
        "start_time": "2023-09-29T18:35:54.400Z"
      },
      {
        "duration": 3,
        "start_time": "2023-09-29T18:40:42.948Z"
      },
      {
        "duration": 12,
        "start_time": "2023-09-29T18:40:42.955Z"
      },
      {
        "duration": 130,
        "start_time": "2023-09-29T18:40:42.970Z"
      },
      {
        "duration": 4,
        "start_time": "2023-09-29T18:52:51.943Z"
      },
      {
        "duration": 6,
        "start_time": "2023-09-29T18:53:04.272Z"
      },
      {
        "duration": 9,
        "start_time": "2023-09-29T19:01:45.085Z"
      },
      {
        "duration": 5,
        "start_time": "2023-09-29T19:01:53.403Z"
      },
      {
        "duration": 5,
        "start_time": "2023-09-29T19:02:07.213Z"
      },
      {
        "duration": 6741,
        "start_time": "2023-09-29T19:04:59.454Z"
      },
      {
        "duration": 9,
        "start_time": "2023-09-29T19:08:57.210Z"
      },
      {
        "duration": 5,
        "start_time": "2023-09-29T19:09:03.865Z"
      },
      {
        "duration": 66,
        "start_time": "2023-09-29T19:09:13.572Z"
      },
      {
        "duration": 431023,
        "start_time": "2023-09-29T19:09:24.624Z"
      },
      {
        "duration": 56,
        "start_time": "2023-09-29T19:16:35.649Z"
      },
      {
        "duration": 1601,
        "start_time": "2023-10-01T12:26:38.291Z"
      },
      {
        "duration": 2965,
        "start_time": "2023-10-01T12:26:39.894Z"
      },
      {
        "duration": 144,
        "start_time": "2023-10-01T12:26:42.861Z"
      },
      {
        "duration": 881,
        "start_time": "2023-10-01T12:26:43.007Z"
      },
      {
        "duration": 43,
        "start_time": "2023-10-01T12:26:43.890Z"
      },
      {
        "duration": 20,
        "start_time": "2023-10-01T12:26:43.935Z"
      },
      {
        "duration": 411,
        "start_time": "2023-10-01T12:26:43.957Z"
      },
      {
        "duration": 104,
        "start_time": "2023-10-01T12:26:44.369Z"
      },
      {
        "duration": 101,
        "start_time": "2023-10-01T12:26:44.474Z"
      },
      {
        "duration": 5,
        "start_time": "2023-10-01T12:26:44.577Z"
      },
      {
        "duration": 456,
        "start_time": "2023-10-01T12:26:44.584Z"
      },
      {
        "duration": 108,
        "start_time": "2023-10-01T12:28:26.432Z"
      },
      {
        "duration": 4,
        "start_time": "2023-10-01T12:28:47.257Z"
      },
      {
        "duration": 3,
        "start_time": "2023-10-01T12:28:54.164Z"
      },
      {
        "duration": 213,
        "start_time": "2023-10-01T12:28:54.952Z"
      },
      {
        "duration": 3,
        "start_time": "2023-10-01T12:29:21.373Z"
      },
      {
        "duration": 173,
        "start_time": "2023-10-01T12:29:22.043Z"
      },
      {
        "duration": 175,
        "start_time": "2023-10-01T12:33:40.399Z"
      },
      {
        "duration": 245,
        "start_time": "2023-10-01T12:33:44.881Z"
      },
      {
        "duration": 2,
        "start_time": "2023-10-01T12:33:52.601Z"
      },
      {
        "duration": 172,
        "start_time": "2023-10-01T12:33:53.756Z"
      },
      {
        "duration": 161,
        "start_time": "2023-10-01T12:34:15.709Z"
      },
      {
        "duration": 164,
        "start_time": "2023-10-01T12:34:22.656Z"
      },
      {
        "duration": 179,
        "start_time": "2023-10-01T12:34:27.424Z"
      },
      {
        "duration": 181,
        "start_time": "2023-10-01T12:35:05.918Z"
      },
      {
        "duration": 147,
        "start_time": "2023-10-01T12:37:10.413Z"
      },
      {
        "duration": 197,
        "start_time": "2023-10-01T12:37:14.167Z"
      },
      {
        "duration": 168,
        "start_time": "2023-10-01T12:37:36.339Z"
      },
      {
        "duration": 175,
        "start_time": "2023-10-01T12:38:01.092Z"
      },
      {
        "duration": 84,
        "start_time": "2023-10-01T12:38:14.231Z"
      },
      {
        "duration": 175,
        "start_time": "2023-10-01T12:38:37.281Z"
      },
      {
        "duration": 213,
        "start_time": "2023-10-01T12:38:57.941Z"
      },
      {
        "duration": 5,
        "start_time": "2023-10-01T12:48:14.133Z"
      },
      {
        "duration": 789,
        "start_time": "2023-10-01T12:48:14.197Z"
      },
      {
        "duration": 144,
        "start_time": "2023-10-01T12:48:14.988Z"
      },
      {
        "duration": 1011,
        "start_time": "2023-10-01T12:48:15.133Z"
      },
      {
        "duration": 34,
        "start_time": "2023-10-01T12:48:16.147Z"
      },
      {
        "duration": 4,
        "start_time": "2023-10-01T12:48:16.183Z"
      },
      {
        "duration": 329,
        "start_time": "2023-10-01T12:48:16.188Z"
      },
      {
        "duration": 103,
        "start_time": "2023-10-01T12:48:16.519Z"
      },
      {
        "duration": 106,
        "start_time": "2023-10-01T12:48:16.624Z"
      },
      {
        "duration": 13,
        "start_time": "2023-10-01T12:48:16.731Z"
      },
      {
        "duration": 438,
        "start_time": "2023-10-01T12:48:16.746Z"
      },
      {
        "duration": 3,
        "start_time": "2023-10-01T12:48:17.239Z"
      },
      {
        "duration": 177,
        "start_time": "2023-10-01T12:48:17.407Z"
      },
      {
        "duration": 13,
        "start_time": "2023-10-01T12:48:18.446Z"
      },
      {
        "duration": 12,
        "start_time": "2023-10-01T12:48:18.598Z"
      },
      {
        "duration": 7,
        "start_time": "2023-10-01T12:48:18.776Z"
      },
      {
        "duration": 25,
        "start_time": "2023-10-01T12:48:22.685Z"
      },
      {
        "duration": 111,
        "start_time": "2023-10-01T12:48:23.974Z"
      },
      {
        "duration": 163,
        "start_time": "2023-10-01T12:48:25.081Z"
      },
      {
        "duration": 24,
        "start_time": "2023-10-01T12:48:27.325Z"
      },
      {
        "duration": 24,
        "start_time": "2023-10-01T12:52:55.637Z"
      },
      {
        "duration": 71,
        "start_time": "2023-10-01T12:52:57.742Z"
      },
      {
        "duration": 5,
        "start_time": "2023-10-01T13:03:19.567Z"
      },
      {
        "duration": 35,
        "start_time": "2023-10-01T13:03:45.457Z"
      },
      {
        "duration": 24,
        "start_time": "2023-10-01T13:07:41.678Z"
      },
      {
        "duration": 11,
        "start_time": "2023-10-01T13:07:53.092Z"
      },
      {
        "duration": 5,
        "start_time": "2023-10-01T13:07:59.137Z"
      },
      {
        "duration": 1322,
        "start_time": "2023-10-01T13:08:02.937Z"
      },
      {
        "duration": 6,
        "start_time": "2023-10-01T13:08:05.717Z"
      },
      {
        "duration": 13,
        "start_time": "2023-10-01T13:08:09.752Z"
      },
      {
        "duration": 7,
        "start_time": "2023-10-01T13:08:15.718Z"
      },
      {
        "duration": 32,
        "start_time": "2023-10-01T13:09:21.424Z"
      },
      {
        "duration": 59,
        "start_time": "2023-10-01T13:09:25.644Z"
      },
      {
        "duration": 38,
        "start_time": "2023-10-01T13:09:38.684Z"
      },
      {
        "duration": 28,
        "start_time": "2023-10-01T13:10:58.909Z"
      },
      {
        "duration": 4,
        "start_time": "2023-10-01T13:12:17.108Z"
      },
      {
        "duration": 9,
        "start_time": "2023-10-01T13:39:52.618Z"
      },
      {
        "duration": 4,
        "start_time": "2023-10-01T13:39:58.963Z"
      },
      {
        "duration": 4,
        "start_time": "2023-10-01T13:40:00.091Z"
      },
      {
        "duration": 4,
        "start_time": "2023-10-01T13:40:07.321Z"
      },
      {
        "duration": 4,
        "start_time": "2023-10-01T13:46:32.309Z"
      },
      {
        "duration": 736,
        "start_time": "2023-10-01T13:46:32.368Z"
      },
      {
        "duration": 161,
        "start_time": "2023-10-01T13:46:33.109Z"
      },
      {
        "duration": 893,
        "start_time": "2023-10-01T13:46:33.272Z"
      },
      {
        "duration": 43,
        "start_time": "2023-10-01T13:46:34.166Z"
      },
      {
        "duration": 5,
        "start_time": "2023-10-01T13:46:34.212Z"
      },
      {
        "duration": 359,
        "start_time": "2023-10-01T13:46:34.220Z"
      },
      {
        "duration": 102,
        "start_time": "2023-10-01T13:46:34.581Z"
      },
      {
        "duration": 107,
        "start_time": "2023-10-01T13:46:34.684Z"
      },
      {
        "duration": 7,
        "start_time": "2023-10-01T13:46:34.793Z"
      },
      {
        "duration": 458,
        "start_time": "2023-10-01T13:46:34.801Z"
      },
      {
        "duration": 2,
        "start_time": "2023-10-01T13:46:37.994Z"
      },
      {
        "duration": 169,
        "start_time": "2023-10-01T13:46:38.237Z"
      },
      {
        "duration": 13,
        "start_time": "2023-10-01T13:46:39.186Z"
      },
      {
        "duration": 13,
        "start_time": "2023-10-01T13:46:39.390Z"
      },
      {
        "duration": 6,
        "start_time": "2023-10-01T13:46:39.643Z"
      },
      {
        "duration": 27,
        "start_time": "2023-10-01T13:46:40.396Z"
      },
      {
        "duration": 71,
        "start_time": "2023-10-01T13:46:41.100Z"
      },
      {
        "duration": 152,
        "start_time": "2023-10-01T13:46:41.240Z"
      },
      {
        "duration": 20,
        "start_time": "2023-10-01T13:46:41.596Z"
      },
      {
        "duration": 3,
        "start_time": "2023-10-01T13:46:42.191Z"
      },
      {
        "duration": 29,
        "start_time": "2023-10-01T13:46:42.349Z"
      },
      {
        "duration": 32,
        "start_time": "2023-10-01T13:46:42.519Z"
      },
      {
        "duration": 15,
        "start_time": "2023-10-01T13:46:44.240Z"
      },
      {
        "duration": 7,
        "start_time": "2023-10-01T13:47:05.206Z"
      },
      {
        "duration": 1390,
        "start_time": "2023-10-01T13:47:19.591Z"
      },
      {
        "duration": 799,
        "start_time": "2023-10-01T13:47:20.983Z"
      },
      {
        "duration": 137,
        "start_time": "2023-10-01T13:47:21.783Z"
      },
      {
        "duration": 852,
        "start_time": "2023-10-01T13:47:21.922Z"
      },
      {
        "duration": 46,
        "start_time": "2023-10-01T13:47:22.776Z"
      },
      {
        "duration": 4,
        "start_time": "2023-10-01T13:47:23.237Z"
      },
      {
        "duration": 391,
        "start_time": "2023-10-01T13:47:23.933Z"
      },
      {
        "duration": 91,
        "start_time": "2023-10-01T13:47:24.737Z"
      },
      {
        "duration": 90,
        "start_time": "2023-10-01T13:47:25.231Z"
      },
      {
        "duration": 6,
        "start_time": "2023-10-01T13:47:26.943Z"
      },
      {
        "duration": 433,
        "start_time": "2023-10-01T13:47:27.145Z"
      },
      {
        "duration": 3,
        "start_time": "2023-10-01T13:47:31.907Z"
      },
      {
        "duration": 197,
        "start_time": "2023-10-01T13:47:32.139Z"
      },
      {
        "duration": 12,
        "start_time": "2023-10-01T13:47:33.419Z"
      },
      {
        "duration": 12,
        "start_time": "2023-10-01T13:47:33.593Z"
      },
      {
        "duration": 7,
        "start_time": "2023-10-01T13:47:34.329Z"
      },
      {
        "duration": 25,
        "start_time": "2023-10-01T13:47:35.593Z"
      },
      {
        "duration": 71,
        "start_time": "2023-10-01T13:47:40.629Z"
      },
      {
        "duration": 154,
        "start_time": "2023-10-01T13:47:43.391Z"
      },
      {
        "duration": 22,
        "start_time": "2023-10-01T13:47:43.893Z"
      },
      {
        "duration": 5,
        "start_time": "2023-10-01T13:47:44.029Z"
      },
      {
        "duration": 40,
        "start_time": "2023-10-01T13:47:45.566Z"
      },
      {
        "duration": 39,
        "start_time": "2023-10-01T13:48:06.168Z"
      },
      {
        "duration": 69,
        "start_time": "2023-10-01T13:48:07.200Z"
      },
      {
        "duration": 155,
        "start_time": "2023-10-01T13:48:09.624Z"
      },
      {
        "duration": 18,
        "start_time": "2023-10-01T13:48:13.694Z"
      },
      {
        "duration": 5,
        "start_time": "2023-10-01T13:48:19.696Z"
      },
      {
        "duration": 62,
        "start_time": "2023-10-01T13:48:20.282Z"
      },
      {
        "duration": 246,
        "start_time": "2023-10-01T13:48:22.356Z"
      },
      {
        "duration": 136,
        "start_time": "2023-10-01T13:48:28.873Z"
      },
      {
        "duration": 13,
        "start_time": "2023-10-01T13:48:34.818Z"
      },
      {
        "duration": 93,
        "start_time": "2023-10-01T13:48:36.388Z"
      },
      {
        "duration": 172,
        "start_time": "2023-10-01T13:48:36.829Z"
      },
      {
        "duration": 57,
        "start_time": "2023-10-01T13:48:37.022Z"
      },
      {
        "duration": 2,
        "start_time": "2023-10-01T13:49:39.484Z"
      },
      {
        "duration": 3,
        "start_time": "2023-10-01T13:49:39.632Z"
      },
      {
        "duration": 50,
        "start_time": "2023-10-01T13:49:42.913Z"
      },
      {
        "duration": 344,
        "start_time": "2023-10-01T13:49:43.054Z"
      },
      {
        "duration": 7,
        "start_time": "2023-10-01T13:49:43.400Z"
      },
      {
        "duration": 107,
        "start_time": "2023-10-01T13:49:45.633Z"
      },
      {
        "duration": 88,
        "start_time": "2023-10-01T13:49:46.366Z"
      },
      {
        "duration": 72519,
        "start_time": "2023-10-01T13:50:15.733Z"
      },
      {
        "duration": 3,
        "start_time": "2023-10-01T13:58:02.865Z"
      },
      {
        "duration": 102,
        "start_time": "2023-10-01T13:58:22.711Z"
      },
      {
        "duration": 5,
        "start_time": "2023-10-01T13:58:29.976Z"
      },
      {
        "duration": 5,
        "start_time": "2023-10-01T13:58:34.039Z"
      },
      {
        "duration": 99070,
        "start_time": "2023-10-01T14:02:17.287Z"
      },
      {
        "duration": 12,
        "start_time": "2023-10-01T14:07:50.739Z"
      },
      {
        "duration": 6,
        "start_time": "2023-10-01T14:07:57.588Z"
      },
      {
        "duration": 4,
        "start_time": "2023-10-01T14:08:00.021Z"
      },
      {
        "duration": 5,
        "start_time": "2023-10-01T14:08:02.374Z"
      },
      {
        "duration": 94409,
        "start_time": "2023-10-01T14:10:07.241Z"
      },
      {
        "duration": 3,
        "start_time": "2023-10-01T14:11:41.652Z"
      },
      {
        "duration": 97719,
        "start_time": "2023-10-01T14:12:34.241Z"
      },
      {
        "duration": 50901,
        "start_time": "2023-10-01T14:18:26.805Z"
      },
      {
        "duration": 262942,
        "start_time": "2023-10-01T14:30:33.774Z"
      },
      {
        "duration": 244577,
        "start_time": "2023-10-01T14:44:39.851Z"
      },
      {
        "duration": 75416,
        "start_time": "2023-10-01T14:48:44.430Z"
      },
      {
        "duration": 92024,
        "start_time": "2023-10-01T14:53:05.622Z"
      },
      {
        "duration": 265599,
        "start_time": "2023-10-01T15:00:18.341Z"
      },
      {
        "duration": 56,
        "start_time": "2023-10-01T15:04:43.944Z"
      },
      {
        "duration": 4,
        "start_time": "2023-10-01T15:09:59.399Z"
      },
      {
        "duration": 3,
        "start_time": "2023-10-01T15:09:59.530Z"
      },
      {
        "duration": 103328,
        "start_time": "2023-10-01T15:10:02.518Z"
      },
      {
        "duration": 76644,
        "start_time": "2023-10-01T15:11:45.850Z"
      },
      {
        "duration": 3,
        "start_time": "2023-10-01T15:13:11.749Z"
      },
      {
        "duration": 1560,
        "start_time": "2023-10-01T15:22:34.129Z"
      },
      {
        "duration": 859,
        "start_time": "2023-10-01T15:22:35.691Z"
      },
      {
        "duration": 140,
        "start_time": "2023-10-01T15:22:36.552Z"
      },
      {
        "duration": 910,
        "start_time": "2023-10-01T15:22:36.694Z"
      },
      {
        "duration": 54,
        "start_time": "2023-10-01T15:22:37.605Z"
      },
      {
        "duration": 4,
        "start_time": "2023-10-01T15:22:37.661Z"
      },
      {
        "duration": 354,
        "start_time": "2023-10-01T15:22:37.667Z"
      },
      {
        "duration": 98,
        "start_time": "2023-10-01T15:22:38.023Z"
      },
      {
        "duration": 100,
        "start_time": "2023-10-01T15:22:38.122Z"
      },
      {
        "duration": 5,
        "start_time": "2023-10-01T15:22:38.224Z"
      },
      {
        "duration": 470,
        "start_time": "2023-10-01T15:22:38.245Z"
      },
      {
        "duration": 2,
        "start_time": "2023-10-01T15:22:38.717Z"
      },
      {
        "duration": 197,
        "start_time": "2023-10-01T15:22:38.720Z"
      },
      {
        "duration": 26,
        "start_time": "2023-10-01T15:22:38.918Z"
      },
      {
        "duration": 13,
        "start_time": "2023-10-01T15:22:38.946Z"
      },
      {
        "duration": 10,
        "start_time": "2023-10-01T15:22:38.960Z"
      },
      {
        "duration": 40,
        "start_time": "2023-10-01T15:22:38.971Z"
      },
      {
        "duration": 92,
        "start_time": "2023-10-01T15:22:39.013Z"
      },
      {
        "duration": 168,
        "start_time": "2023-10-01T15:22:39.106Z"
      },
      {
        "duration": 23,
        "start_time": "2023-10-01T15:22:39.276Z"
      },
      {
        "duration": 4,
        "start_time": "2023-10-01T15:22:39.301Z"
      },
      {
        "duration": 63,
        "start_time": "2023-10-01T15:22:39.307Z"
      },
      {
        "duration": 41,
        "start_time": "2023-10-01T15:22:39.372Z"
      },
      {
        "duration": 85,
        "start_time": "2023-10-01T15:22:39.415Z"
      },
      {
        "duration": 173,
        "start_time": "2023-10-01T15:22:39.502Z"
      },
      {
        "duration": 21,
        "start_time": "2023-10-01T15:22:39.677Z"
      },
      {
        "duration": 6,
        "start_time": "2023-10-01T15:22:39.700Z"
      },
      {
        "duration": 85,
        "start_time": "2023-10-01T15:22:39.709Z"
      },
      {
        "duration": 260,
        "start_time": "2023-10-01T15:22:39.795Z"
      },
      {
        "duration": 146,
        "start_time": "2023-10-01T15:22:40.056Z"
      },
      {
        "duration": 18,
        "start_time": "2023-10-01T15:22:40.204Z"
      },
      {
        "duration": 126,
        "start_time": "2023-10-01T15:22:40.224Z"
      },
      {
        "duration": 194,
        "start_time": "2023-10-01T15:22:40.351Z"
      },
      {
        "duration": 54,
        "start_time": "2023-10-01T15:22:40.547Z"
      },
      {
        "duration": 58,
        "start_time": "2023-10-01T15:22:40.603Z"
      },
      {
        "duration": 33,
        "start_time": "2023-10-01T15:22:40.662Z"
      },
      {
        "duration": 57,
        "start_time": "2023-10-01T15:22:40.696Z"
      },
      {
        "duration": 346,
        "start_time": "2023-10-01T15:22:40.754Z"
      },
      {
        "duration": 6,
        "start_time": "2023-10-01T15:22:41.102Z"
      },
      {
        "duration": 124,
        "start_time": "2023-10-01T15:22:41.109Z"
      },
      {
        "duration": 94,
        "start_time": "2023-10-01T15:22:41.235Z"
      },
      {
        "duration": 85814,
        "start_time": "2023-10-01T15:22:41.330Z"
      },
      {
        "duration": 2,
        "start_time": "2023-10-01T15:24:07.146Z"
      },
      {
        "duration": 10,
        "start_time": "2023-10-01T15:24:07.150Z"
      },
      {
        "duration": 3,
        "start_time": "2023-10-01T15:24:07.162Z"
      },
      {
        "duration": 250915,
        "start_time": "2023-10-01T15:24:07.167Z"
      },
      {
        "duration": 2,
        "start_time": "2023-10-01T15:28:18.085Z"
      },
      {
        "duration": 5,
        "start_time": "2023-10-01T15:28:18.089Z"
      },
      {
        "duration": 5,
        "start_time": "2023-10-01T15:28:18.095Z"
      },
      {
        "duration": 13953136,
        "start_time": "2023-10-01T15:28:18.101Z"
      },
      {
        "duration": 3,
        "start_time": "2023-10-01T19:20:51.244Z"
      },
      {
        "duration": 88,
        "start_time": "2023-10-01T19:20:51.248Z"
      },
      {
        "duration": 656874,
        "start_time": "2023-10-01T19:20:51.338Z"
      },
      {
        "duration": 2,
        "start_time": "2023-10-01T19:31:48.214Z"
      },
      {
        "duration": 115,
        "start_time": "2023-10-01T19:31:48.218Z"
      },
      {
        "duration": 1512318,
        "start_time": "2023-10-01T19:31:48.334Z"
      },
      {
        "duration": 2,
        "start_time": "2023-10-01T19:57:00.654Z"
      },
      {
        "duration": 138,
        "start_time": "2023-10-01T19:57:00.658Z"
      },
      {
        "duration": 0,
        "start_time": "2023-10-01T19:57:00.798Z"
      },
      {
        "duration": 0,
        "start_time": "2023-10-01T19:57:00.799Z"
      },
      {
        "duration": 0,
        "start_time": "2023-10-01T19:57:00.800Z"
      },
      {
        "duration": 0,
        "start_time": "2023-10-01T19:57:00.801Z"
      },
      {
        "duration": 10,
        "start_time": "2023-10-01T19:59:32.526Z"
      },
      {
        "duration": 6,
        "start_time": "2023-10-01T19:59:36.083Z"
      },
      {
        "duration": 5,
        "start_time": "2023-10-01T19:59:47.379Z"
      },
      {
        "duration": 2,
        "start_time": "2023-10-01T19:59:47.512Z"
      },
      {
        "duration": 368732,
        "start_time": "2023-10-01T19:59:48.514Z"
      },
      {
        "duration": 6614,
        "start_time": "2023-10-02T17:56:25.070Z"
      },
      {
        "duration": 1344,
        "start_time": "2023-10-02T17:56:31.686Z"
      },
      {
        "duration": 173,
        "start_time": "2023-10-02T17:56:33.031Z"
      },
      {
        "duration": 983,
        "start_time": "2023-10-02T17:56:33.206Z"
      },
      {
        "duration": 46,
        "start_time": "2023-10-02T17:56:34.191Z"
      },
      {
        "duration": 36,
        "start_time": "2023-10-02T17:56:34.239Z"
      },
      {
        "duration": 403,
        "start_time": "2023-10-02T17:56:34.276Z"
      },
      {
        "duration": 111,
        "start_time": "2023-10-02T17:56:34.681Z"
      },
      {
        "duration": 108,
        "start_time": "2023-10-02T17:56:34.794Z"
      },
      {
        "duration": 6,
        "start_time": "2023-10-02T17:56:34.903Z"
      },
      {
        "duration": 508,
        "start_time": "2023-10-02T17:56:34.910Z"
      },
      {
        "duration": 3,
        "start_time": "2023-10-02T17:56:35.419Z"
      },
      {
        "duration": 260,
        "start_time": "2023-10-02T17:56:35.424Z"
      },
      {
        "duration": 12,
        "start_time": "2023-10-02T17:56:35.687Z"
      },
      {
        "duration": 22,
        "start_time": "2023-10-02T17:56:35.700Z"
      },
      {
        "duration": 45,
        "start_time": "2023-10-02T17:56:35.723Z"
      },
      {
        "duration": 49,
        "start_time": "2023-10-02T17:56:35.771Z"
      },
      {
        "duration": 105,
        "start_time": "2023-10-02T17:56:35.821Z"
      },
      {
        "duration": 211,
        "start_time": "2023-10-02T17:56:35.928Z"
      },
      {
        "duration": 43,
        "start_time": "2023-10-02T17:56:36.141Z"
      },
      {
        "duration": 6,
        "start_time": "2023-10-02T17:56:36.186Z"
      },
      {
        "duration": 67,
        "start_time": "2023-10-02T17:56:36.194Z"
      },
      {
        "duration": 50,
        "start_time": "2023-10-02T17:56:36.262Z"
      },
      {
        "duration": 139,
        "start_time": "2023-10-02T17:56:36.314Z"
      },
      {
        "duration": 217,
        "start_time": "2023-10-02T17:56:36.456Z"
      },
      {
        "duration": 21,
        "start_time": "2023-10-02T17:56:36.679Z"
      },
      {
        "duration": 4,
        "start_time": "2023-10-02T17:56:36.701Z"
      },
      {
        "duration": 89,
        "start_time": "2023-10-02T17:56:36.707Z"
      },
      {
        "duration": 287,
        "start_time": "2023-10-02T17:56:36.798Z"
      },
      {
        "duration": 146,
        "start_time": "2023-10-02T17:56:37.086Z"
      },
      {
        "duration": 22,
        "start_time": "2023-10-02T17:56:37.233Z"
      },
      {
        "duration": 100,
        "start_time": "2023-10-02T17:56:37.259Z"
      },
      {
        "duration": 205,
        "start_time": "2023-10-02T17:56:37.363Z"
      },
      {
        "duration": 61,
        "start_time": "2023-10-02T17:56:37.570Z"
      },
      {
        "duration": 4,
        "start_time": "2023-10-02T17:56:37.632Z"
      },
      {
        "duration": 17,
        "start_time": "2023-10-02T17:56:37.650Z"
      },
      {
        "duration": 54,
        "start_time": "2023-10-02T17:56:37.674Z"
      },
      {
        "duration": 354,
        "start_time": "2023-10-02T17:56:37.729Z"
      },
      {
        "duration": 8,
        "start_time": "2023-10-02T17:56:38.084Z"
      },
      {
        "duration": 123,
        "start_time": "2023-10-02T17:56:38.093Z"
      },
      {
        "duration": 106,
        "start_time": "2023-10-02T17:56:38.219Z"
      },
      {
        "duration": 27,
        "start_time": "2023-10-02T17:56:44.828Z"
      },
      {
        "duration": 4977,
        "start_time": "2023-10-02T17:58:18.385Z"
      },
      {
        "duration": 2,
        "start_time": "2023-10-02T17:58:33.627Z"
      },
      {
        "duration": 4934,
        "start_time": "2023-10-02T17:58:39.668Z"
      },
      {
        "duration": 4875,
        "start_time": "2023-10-02T17:58:54.254Z"
      },
      {
        "duration": 15,
        "start_time": "2023-10-03T11:15:55.206Z"
      },
      {
        "duration": 1717,
        "start_time": "2023-10-11T14:27:46.793Z"
      },
      {
        "duration": 1228,
        "start_time": "2023-10-11T14:27:48.512Z"
      },
      {
        "duration": 172,
        "start_time": "2023-10-11T14:27:49.742Z"
      },
      {
        "duration": 1023,
        "start_time": "2023-10-11T14:27:49.917Z"
      },
      {
        "duration": 51,
        "start_time": "2023-10-11T14:27:50.943Z"
      },
      {
        "duration": 22,
        "start_time": "2023-10-11T14:27:50.996Z"
      },
      {
        "duration": 412,
        "start_time": "2023-10-11T14:27:51.020Z"
      },
      {
        "duration": 131,
        "start_time": "2023-10-11T14:27:51.434Z"
      },
      {
        "duration": 289,
        "start_time": "2023-10-11T14:27:51.567Z"
      },
      {
        "duration": 138,
        "start_time": "2023-10-11T14:27:51.858Z"
      },
      {
        "duration": 568,
        "start_time": "2023-10-11T14:27:51.998Z"
      },
      {
        "duration": 3,
        "start_time": "2023-10-11T14:27:52.568Z"
      },
      {
        "duration": 280,
        "start_time": "2023-10-11T14:27:52.572Z"
      },
      {
        "duration": 12,
        "start_time": "2023-10-11T14:27:52.854Z"
      },
      {
        "duration": 25,
        "start_time": "2023-10-11T14:27:52.868Z"
      },
      {
        "duration": 15,
        "start_time": "2023-10-11T14:27:52.895Z"
      },
      {
        "duration": 44,
        "start_time": "2023-10-11T14:27:52.927Z"
      },
      {
        "duration": 111,
        "start_time": "2023-10-11T14:27:53.797Z"
      },
      {
        "duration": 190,
        "start_time": "2023-10-11T14:27:53.978Z"
      },
      {
        "duration": 31,
        "start_time": "2023-10-11T14:27:54.526Z"
      },
      {
        "duration": 4,
        "start_time": "2023-10-11T14:27:54.729Z"
      },
      {
        "duration": 45,
        "start_time": "2023-10-11T14:27:54.911Z"
      },
      {
        "duration": 44,
        "start_time": "2023-10-11T14:27:55.070Z"
      },
      {
        "duration": 77,
        "start_time": "2023-10-11T14:27:55.920Z"
      },
      {
        "duration": 173,
        "start_time": "2023-10-11T14:27:56.104Z"
      },
      {
        "duration": 21,
        "start_time": "2023-10-11T14:27:56.429Z"
      },
      {
        "duration": 4,
        "start_time": "2023-10-11T14:27:57.112Z"
      },
      {
        "duration": 68,
        "start_time": "2023-10-11T14:27:57.634Z"
      },
      {
        "duration": 307,
        "start_time": "2023-10-11T14:27:57.817Z"
      },
      {
        "duration": 159,
        "start_time": "2023-10-11T14:27:58.126Z"
      },
      {
        "duration": 13,
        "start_time": "2023-10-11T14:27:58.526Z"
      },
      {
        "duration": 114,
        "start_time": "2023-10-11T14:27:59.372Z"
      },
      {
        "duration": 190,
        "start_time": "2023-10-11T14:27:59.501Z"
      },
      {
        "duration": 60,
        "start_time": "2023-10-11T14:27:59.699Z"
      },
      {
        "duration": 45,
        "start_time": "2023-10-11T14:28:01.627Z"
      },
      {
        "duration": 360,
        "start_time": "2023-10-11T14:28:01.973Z"
      },
      {
        "duration": 10,
        "start_time": "2023-10-11T14:28:02.336Z"
      },
      {
        "duration": 140,
        "start_time": "2023-10-11T14:28:02.356Z"
      },
      {
        "duration": 102,
        "start_time": "2023-10-11T14:28:02.534Z"
      },
      {
        "duration": 77094,
        "start_time": "2023-10-11T14:28:02.860Z"
      },
      {
        "duration": 235,
        "start_time": "2023-10-11T14:50:44.197Z"
      },
      {
        "duration": 3,
        "start_time": "2023-10-11T14:50:57.421Z"
      },
      {
        "duration": 251009,
        "start_time": "2023-10-11T14:50:59.776Z"
      },
      {
        "duration": 3,
        "start_time": "2023-10-11T15:31:11.906Z"
      },
      {
        "duration": 78548,
        "start_time": "2023-10-11T15:31:17.002Z"
      },
      {
        "duration": 93,
        "start_time": "2023-10-11T15:32:35.552Z"
      },
      {
        "duration": 253876,
        "start_time": "2023-10-11T15:32:35.647Z"
      },
      {
        "duration": 200845,
        "start_time": "2023-10-11T15:44:58.985Z"
      },
      {
        "duration": 200773,
        "start_time": "2023-10-11T15:50:15.747Z"
      },
      {
        "duration": 4,
        "start_time": "2023-10-11T15:53:36.522Z"
      },
      {
        "duration": 199241,
        "start_time": "2023-10-11T15:53:44.223Z"
      },
      {
        "duration": 5,
        "start_time": "2023-10-11T15:57:46.234Z"
      },
      {
        "duration": 11,
        "start_time": "2023-10-11T15:57:53.910Z"
      },
      {
        "duration": 9,
        "start_time": "2023-10-11T15:58:07.978Z"
      },
      {
        "duration": 252469,
        "start_time": "2023-10-11T15:58:20.653Z"
      },
      {
        "duration": 5,
        "start_time": "2023-10-11T16:03:03.655Z"
      },
      {
        "duration": 5,
        "start_time": "2023-10-11T16:03:10.167Z"
      },
      {
        "duration": 9,
        "start_time": "2023-10-11T16:03:28.264Z"
      },
      {
        "duration": 4,
        "start_time": "2023-10-11T16:03:31.456Z"
      },
      {
        "duration": 257251,
        "start_time": "2023-10-11T16:32:51.347Z"
      },
      {
        "duration": 57,
        "start_time": "2023-10-11T16:53:30.893Z"
      },
      {
        "duration": 384741,
        "start_time": "2023-10-11T16:53:31.846Z"
      },
      {
        "duration": 50427,
        "start_time": "2023-10-11T17:34:39.285Z"
      },
      {
        "duration": 702816,
        "start_time": "2023-10-11T17:46:08.934Z"
      },
      {
        "duration": 1698,
        "start_time": "2023-10-13T10:03:38.377Z"
      },
      {
        "duration": 1257,
        "start_time": "2023-10-13T10:03:40.077Z"
      },
      {
        "duration": 159,
        "start_time": "2023-10-13T10:03:41.336Z"
      },
      {
        "duration": 1029,
        "start_time": "2023-10-13T10:03:41.498Z"
      },
      {
        "duration": 56,
        "start_time": "2023-10-13T10:03:42.529Z"
      },
      {
        "duration": 69,
        "start_time": "2023-10-13T10:03:42.587Z"
      },
      {
        "duration": 470,
        "start_time": "2023-10-13T10:03:42.658Z"
      },
      {
        "duration": 118,
        "start_time": "2023-10-13T10:03:43.130Z"
      },
      {
        "duration": 116,
        "start_time": "2023-10-13T10:03:43.250Z"
      },
      {
        "duration": 34,
        "start_time": "2023-10-13T10:03:43.369Z"
      },
      {
        "duration": 579,
        "start_time": "2023-10-13T10:03:43.405Z"
      },
      {
        "duration": 4,
        "start_time": "2023-10-13T10:03:43.986Z"
      },
      {
        "duration": 302,
        "start_time": "2023-10-13T10:03:43.992Z"
      },
      {
        "duration": 13,
        "start_time": "2023-10-13T10:03:44.296Z"
      },
      {
        "duration": 13,
        "start_time": "2023-10-13T10:03:44.310Z"
      },
      {
        "duration": 7,
        "start_time": "2023-10-13T10:03:44.347Z"
      },
      {
        "duration": 47,
        "start_time": "2023-10-13T10:03:44.356Z"
      },
      {
        "duration": 86,
        "start_time": "2023-10-13T10:03:44.406Z"
      },
      {
        "duration": 203,
        "start_time": "2023-10-13T10:03:44.494Z"
      },
      {
        "duration": 30,
        "start_time": "2023-10-13T10:03:44.750Z"
      },
      {
        "duration": 4,
        "start_time": "2023-10-13T10:03:44.920Z"
      },
      {
        "duration": 46,
        "start_time": "2023-10-13T10:03:45.082Z"
      },
      {
        "duration": 49,
        "start_time": "2023-10-13T10:03:45.245Z"
      },
      {
        "duration": 109,
        "start_time": "2023-10-13T10:03:46.216Z"
      },
      {
        "duration": 208,
        "start_time": "2023-10-13T10:03:46.448Z"
      },
      {
        "duration": 22,
        "start_time": "2023-10-13T10:03:46.852Z"
      },
      {
        "duration": 6,
        "start_time": "2023-10-13T10:03:47.470Z"
      },
      {
        "duration": 74,
        "start_time": "2023-10-13T10:03:48.313Z"
      },
      {
        "duration": 292,
        "start_time": "2023-10-13T10:03:48.478Z"
      },
      {
        "duration": 168,
        "start_time": "2023-10-13T10:03:48.871Z"
      },
      {
        "duration": 14,
        "start_time": "2023-10-13T10:03:50.428Z"
      },
      {
        "duration": 107,
        "start_time": "2023-10-13T10:03:51.765Z"
      },
      {
        "duration": 217,
        "start_time": "2023-10-13T10:03:52.022Z"
      },
      {
        "duration": 63,
        "start_time": "2023-10-13T10:03:52.332Z"
      },
      {
        "duration": 44,
        "start_time": "2023-10-13T10:03:57.231Z"
      },
      {
        "duration": 352,
        "start_time": "2023-10-13T10:03:57.574Z"
      },
      {
        "duration": 7,
        "start_time": "2023-10-13T10:03:58.670Z"
      },
      {
        "duration": 114,
        "start_time": "2023-10-13T10:04:00.686Z"
      },
      {
        "duration": 104,
        "start_time": "2023-10-13T10:04:07.015Z"
      },
      {
        "duration": 70446,
        "start_time": "2023-10-13T10:09:48.701Z"
      },
      {
        "duration": 4,
        "start_time": "2023-10-13T10:10:59.150Z"
      },
      {
        "duration": 269078,
        "start_time": "2023-10-13T10:10:59.247Z"
      },
      {
        "duration": 3,
        "start_time": "2023-10-13T10:15:28.327Z"
      },
      {
        "duration": 65,
        "start_time": "2023-10-13T10:15:28.332Z"
      },
      {
        "duration": 73,
        "start_time": "2023-10-13T10:18:48.875Z"
      },
      {
        "duration": 222,
        "start_time": "2023-10-13T10:18:56.362Z"
      },
      {
        "duration": 70897,
        "start_time": "2023-10-13T10:19:48.081Z"
      },
      {
        "duration": 168,
        "start_time": "2023-10-13T10:23:14.611Z"
      },
      {
        "duration": 4,
        "start_time": "2023-10-13T10:23:23.136Z"
      },
      {
        "duration": 172,
        "start_time": "2023-10-13T10:23:29.795Z"
      },
      {
        "duration": 3,
        "start_time": "2023-10-13T10:23:36.815Z"
      },
      {
        "duration": 171,
        "start_time": "2023-10-13T10:23:42.142Z"
      },
      {
        "duration": 366,
        "start_time": "2023-10-13T10:27:50.150Z"
      },
      {
        "duration": 152,
        "start_time": "2023-10-13T10:38:04.752Z"
      },
      {
        "duration": 52,
        "start_time": "2023-10-13T10:38:13.291Z"
      },
      {
        "duration": 204,
        "start_time": "2023-10-13T10:38:13.455Z"
      },
      {
        "duration": 173,
        "start_time": "2023-10-13T10:46:37.643Z"
      },
      {
        "duration": 27438,
        "start_time": "2023-10-13T10:49:33.282Z"
      },
      {
        "duration": 9882,
        "start_time": "2023-10-13T10:51:58.782Z"
      },
      {
        "duration": 1811,
        "start_time": "2023-10-13T10:52:21.571Z"
      },
      {
        "duration": 974,
        "start_time": "2023-10-13T10:52:23.384Z"
      },
      {
        "duration": 165,
        "start_time": "2023-10-13T10:52:24.360Z"
      },
      {
        "duration": 1114,
        "start_time": "2023-10-13T10:52:24.527Z"
      },
      {
        "duration": 57,
        "start_time": "2023-10-13T10:52:25.642Z"
      },
      {
        "duration": 42,
        "start_time": "2023-10-13T10:52:25.701Z"
      },
      {
        "duration": 454,
        "start_time": "2023-10-13T10:52:25.745Z"
      },
      {
        "duration": 115,
        "start_time": "2023-10-13T10:52:26.201Z"
      },
      {
        "duration": 112,
        "start_time": "2023-10-13T10:52:26.318Z"
      },
      {
        "duration": 16,
        "start_time": "2023-10-13T10:52:26.433Z"
      },
      {
        "duration": 539,
        "start_time": "2023-10-13T10:52:26.451Z"
      },
      {
        "duration": 3,
        "start_time": "2023-10-13T10:52:26.992Z"
      },
      {
        "duration": 240,
        "start_time": "2023-10-13T10:52:26.997Z"
      },
      {
        "duration": 17,
        "start_time": "2023-10-13T10:52:27.238Z"
      },
      {
        "duration": 14,
        "start_time": "2023-10-13T10:52:27.256Z"
      },
      {
        "duration": 6,
        "start_time": "2023-10-13T10:52:27.272Z"
      },
      {
        "duration": 34,
        "start_time": "2023-10-13T10:52:27.279Z"
      },
      {
        "duration": 109,
        "start_time": "2023-10-13T10:52:27.315Z"
      },
      {
        "duration": 205,
        "start_time": "2023-10-13T10:52:27.426Z"
      },
      {
        "duration": 35,
        "start_time": "2023-10-13T10:52:27.633Z"
      },
      {
        "duration": 4,
        "start_time": "2023-10-13T10:52:27.670Z"
      },
      {
        "duration": 62,
        "start_time": "2023-10-13T10:52:27.676Z"
      },
      {
        "duration": 50,
        "start_time": "2023-10-13T10:52:27.740Z"
      },
      {
        "duration": 94,
        "start_time": "2023-10-13T10:52:27.792Z"
      },
      {
        "duration": 207,
        "start_time": "2023-10-13T10:52:27.888Z"
      },
      {
        "duration": 24,
        "start_time": "2023-10-13T10:52:28.097Z"
      },
      {
        "duration": 5,
        "start_time": "2023-10-13T10:52:28.122Z"
      },
      {
        "duration": 79,
        "start_time": "2023-10-13T10:52:28.146Z"
      },
      {
        "duration": 301,
        "start_time": "2023-10-13T10:52:28.228Z"
      },
      {
        "duration": 171,
        "start_time": "2023-10-13T10:52:28.531Z"
      },
      {
        "duration": 15,
        "start_time": "2023-10-13T10:52:28.705Z"
      },
      {
        "duration": 132,
        "start_time": "2023-10-13T10:52:28.722Z"
      },
      {
        "duration": 224,
        "start_time": "2023-10-13T10:52:28.856Z"
      },
      {
        "duration": 78,
        "start_time": "2023-10-13T10:52:29.082Z"
      },
      {
        "duration": 47,
        "start_time": "2023-10-13T10:52:30.497Z"
      },
      {
        "duration": 375,
        "start_time": "2023-10-13T10:52:30.829Z"
      },
      {
        "duration": 7,
        "start_time": "2023-10-13T10:52:31.714Z"
      },
      {
        "duration": 116,
        "start_time": "2023-10-13T10:52:33.673Z"
      },
      {
        "duration": 107,
        "start_time": "2023-10-13T10:52:34.487Z"
      },
      {
        "duration": 1606,
        "start_time": "2023-10-13T10:53:11.880Z"
      },
      {
        "duration": 990,
        "start_time": "2023-10-13T10:53:13.488Z"
      },
      {
        "duration": 156,
        "start_time": "2023-10-13T10:53:14.480Z"
      },
      {
        "duration": 1045,
        "start_time": "2023-10-13T10:53:14.646Z"
      },
      {
        "duration": 63,
        "start_time": "2023-10-13T10:53:15.693Z"
      },
      {
        "duration": 8,
        "start_time": "2023-10-13T10:53:15.758Z"
      },
      {
        "duration": 435,
        "start_time": "2023-10-13T10:53:15.768Z"
      },
      {
        "duration": 115,
        "start_time": "2023-10-13T10:53:16.205Z"
      },
      {
        "duration": 108,
        "start_time": "2023-10-13T10:53:16.322Z"
      },
      {
        "duration": 15,
        "start_time": "2023-10-13T10:53:16.432Z"
      },
      {
        "duration": 520,
        "start_time": "2023-10-13T10:53:16.448Z"
      },
      {
        "duration": 3,
        "start_time": "2023-10-13T10:53:16.970Z"
      },
      {
        "duration": 240,
        "start_time": "2023-10-13T10:53:16.975Z"
      },
      {
        "duration": 13,
        "start_time": "2023-10-13T10:53:17.219Z"
      },
      {
        "duration": 25,
        "start_time": "2023-10-13T10:53:17.234Z"
      },
      {
        "duration": 8,
        "start_time": "2023-10-13T10:53:17.261Z"
      },
      {
        "duration": 30,
        "start_time": "2023-10-13T10:53:17.270Z"
      },
      {
        "duration": 113,
        "start_time": "2023-10-13T10:53:17.301Z"
      },
      {
        "duration": 194,
        "start_time": "2023-10-13T10:53:17.416Z"
      },
      {
        "duration": 34,
        "start_time": "2023-10-13T10:53:17.612Z"
      },
      {
        "duration": 5,
        "start_time": "2023-10-13T10:53:17.648Z"
      },
      {
        "duration": 49,
        "start_time": "2023-10-13T10:53:17.654Z"
      },
      {
        "duration": 59,
        "start_time": "2023-10-13T10:53:17.705Z"
      },
      {
        "duration": 90,
        "start_time": "2023-10-13T10:53:17.766Z"
      },
      {
        "duration": 205,
        "start_time": "2023-10-13T10:53:17.858Z"
      },
      {
        "duration": 22,
        "start_time": "2023-10-13T10:53:18.064Z"
      },
      {
        "duration": 4,
        "start_time": "2023-10-13T10:53:18.088Z"
      },
      {
        "duration": 104,
        "start_time": "2023-10-13T10:53:18.094Z"
      },
      {
        "duration": 301,
        "start_time": "2023-10-13T10:53:18.199Z"
      },
      {
        "duration": 174,
        "start_time": "2023-10-13T10:53:18.502Z"
      },
      {
        "duration": 19,
        "start_time": "2023-10-13T10:53:18.678Z"
      },
      {
        "duration": 152,
        "start_time": "2023-10-13T10:53:18.699Z"
      },
      {
        "duration": 228,
        "start_time": "2023-10-13T10:53:18.855Z"
      },
      {
        "duration": 76,
        "start_time": "2023-10-13T10:53:19.084Z"
      },
      {
        "duration": 61,
        "start_time": "2023-10-13T10:53:19.162Z"
      },
      {
        "duration": 401,
        "start_time": "2023-10-13T10:53:19.226Z"
      },
      {
        "duration": 17,
        "start_time": "2023-10-13T10:53:19.631Z"
      },
      {
        "duration": 115,
        "start_time": "2023-10-13T10:53:19.719Z"
      },
      {
        "duration": 109,
        "start_time": "2023-10-13T10:53:19.890Z"
      },
      {
        "duration": 66892,
        "start_time": "2023-10-13T10:53:20.460Z"
      },
      {
        "duration": 93,
        "start_time": "2023-10-13T10:54:27.354Z"
      },
      {
        "duration": 97,
        "start_time": "2023-10-13T10:54:27.450Z"
      },
      {
        "duration": 1279526,
        "start_time": "2023-10-13T10:54:27.549Z"
      },
      {
        "duration": 210,
        "start_time": "2023-10-13T11:56:44.780Z"
      },
      {
        "duration": 107,
        "start_time": "2023-10-13T12:00:25.728Z"
      },
      {
        "duration": 159,
        "start_time": "2023-10-13T12:02:23.043Z"
      },
      {
        "duration": 3718,
        "start_time": "2023-10-13T12:04:09.488Z"
      },
      {
        "duration": 3044,
        "start_time": "2023-10-13T12:07:31.023Z"
      },
      {
        "duration": 242,
        "start_time": "2023-10-13T12:12:04.553Z"
      },
      {
        "duration": 236,
        "start_time": "2023-10-13T12:12:26.945Z"
      },
      {
        "duration": 229,
        "start_time": "2023-10-13T12:12:37.047Z"
      },
      {
        "duration": 236,
        "start_time": "2023-10-13T12:13:53.634Z"
      },
      {
        "duration": 4,
        "start_time": "2023-10-13T13:17:16.915Z"
      },
      {
        "duration": 1686,
        "start_time": "2023-10-13T13:18:48.036Z"
      },
      {
        "duration": 1028,
        "start_time": "2023-10-13T13:18:49.724Z"
      },
      {
        "duration": 169,
        "start_time": "2023-10-13T13:18:50.754Z"
      },
      {
        "duration": 1060,
        "start_time": "2023-10-13T13:18:50.926Z"
      },
      {
        "duration": 59,
        "start_time": "2023-10-13T13:18:51.988Z"
      },
      {
        "duration": 27,
        "start_time": "2023-10-13T13:18:52.049Z"
      },
      {
        "duration": 408,
        "start_time": "2023-10-13T13:18:52.079Z"
      },
      {
        "duration": 114,
        "start_time": "2023-10-13T13:18:52.489Z"
      },
      {
        "duration": 131,
        "start_time": "2023-10-13T13:18:52.605Z"
      },
      {
        "duration": 44,
        "start_time": "2023-10-13T13:18:52.739Z"
      },
      {
        "duration": 624,
        "start_time": "2023-10-13T13:18:52.784Z"
      },
      {
        "duration": 3,
        "start_time": "2023-10-13T13:18:53.410Z"
      },
      {
        "duration": 292,
        "start_time": "2023-10-13T13:18:53.415Z"
      },
      {
        "duration": 15,
        "start_time": "2023-10-13T13:18:53.709Z"
      },
      {
        "duration": 30,
        "start_time": "2023-10-13T13:18:53.726Z"
      },
      {
        "duration": 8,
        "start_time": "2023-10-13T13:18:53.758Z"
      },
      {
        "duration": 55,
        "start_time": "2023-10-13T13:18:53.768Z"
      },
      {
        "duration": 82,
        "start_time": "2023-10-13T13:18:53.825Z"
      },
      {
        "duration": 192,
        "start_time": "2023-10-13T13:18:53.909Z"
      },
      {
        "duration": 25,
        "start_time": "2023-10-13T13:18:54.103Z"
      },
      {
        "duration": 17,
        "start_time": "2023-10-13T13:18:54.130Z"
      },
      {
        "duration": 58,
        "start_time": "2023-10-13T13:18:54.149Z"
      },
      {
        "duration": 52,
        "start_time": "2023-10-13T13:18:54.209Z"
      },
      {
        "duration": 90,
        "start_time": "2023-10-13T13:18:54.262Z"
      },
      {
        "duration": 197,
        "start_time": "2023-10-13T13:18:54.354Z"
      },
      {
        "duration": 22,
        "start_time": "2023-10-13T13:18:54.554Z"
      },
      {
        "duration": 8,
        "start_time": "2023-10-13T13:18:54.578Z"
      },
      {
        "duration": 92,
        "start_time": "2023-10-13T13:18:54.587Z"
      },
      {
        "duration": 289,
        "start_time": "2023-10-13T13:18:54.682Z"
      },
      {
        "duration": 177,
        "start_time": "2023-10-13T13:18:54.973Z"
      },
      {
        "duration": 14,
        "start_time": "2023-10-13T13:18:55.882Z"
      },
      {
        "duration": 106,
        "start_time": "2023-10-13T13:18:56.985Z"
      },
      {
        "duration": 210,
        "start_time": "2023-10-13T13:18:57.154Z"
      },
      {
        "duration": 74,
        "start_time": "2023-10-13T13:18:57.468Z"
      },
      {
        "duration": 44,
        "start_time": "2023-10-13T13:18:59.596Z"
      },
      {
        "duration": 381,
        "start_time": "2023-10-13T13:19:00.232Z"
      },
      {
        "duration": 7,
        "start_time": "2023-10-13T13:19:00.616Z"
      },
      {
        "duration": 156,
        "start_time": "2023-10-13T13:19:00.625Z"
      },
      {
        "duration": 118,
        "start_time": "2023-10-13T13:19:01.148Z"
      },
      {
        "duration": 4,
        "start_time": "2023-10-13T13:19:04.879Z"
      },
      {
        "duration": 47,
        "start_time": "2023-10-13T13:19:10.881Z"
      },
      {
        "duration": 26483,
        "start_time": "2023-10-13T13:28:08.176Z"
      },
      {
        "duration": 4520904,
        "start_time": "2023-10-13T13:40:49.737Z"
      },
      {
        "duration": 5,
        "start_time": "2023-10-13T15:03:34.094Z"
      },
      {
        "duration": 4,
        "start_time": "2023-10-13T15:03:37.804Z"
      },
      {
        "duration": 4,
        "start_time": "2023-10-13T15:03:45.702Z"
      },
      {
        "duration": 4,
        "start_time": "2023-10-13T15:03:53.646Z"
      },
      {
        "duration": 1710,
        "start_time": "2023-10-15T06:37:51.972Z"
      },
      {
        "duration": 1251,
        "start_time": "2023-10-15T06:37:53.684Z"
      },
      {
        "duration": 161,
        "start_time": "2023-10-15T06:37:54.937Z"
      },
      {
        "duration": 1047,
        "start_time": "2023-10-15T06:37:55.100Z"
      },
      {
        "duration": 54,
        "start_time": "2023-10-15T06:37:56.149Z"
      },
      {
        "duration": 16,
        "start_time": "2023-10-15T06:37:56.205Z"
      },
      {
        "duration": 392,
        "start_time": "2023-10-15T06:37:56.223Z"
      },
      {
        "duration": 113,
        "start_time": "2023-10-15T06:37:56.617Z"
      },
      {
        "duration": 119,
        "start_time": "2023-10-15T06:37:56.732Z"
      },
      {
        "duration": 6,
        "start_time": "2023-10-15T06:37:56.853Z"
      },
      {
        "duration": 523,
        "start_time": "2023-10-15T06:37:56.861Z"
      },
      {
        "duration": 4,
        "start_time": "2023-10-15T06:37:57.385Z"
      },
      {
        "duration": 234,
        "start_time": "2023-10-15T06:37:57.391Z"
      },
      {
        "duration": 21,
        "start_time": "2023-10-15T06:37:57.627Z"
      },
      {
        "duration": 14,
        "start_time": "2023-10-15T06:37:57.650Z"
      },
      {
        "duration": 7,
        "start_time": "2023-10-15T06:37:57.666Z"
      },
      {
        "duration": 34,
        "start_time": "2023-10-15T06:37:57.674Z"
      },
      {
        "duration": 106,
        "start_time": "2023-10-15T06:37:57.709Z"
      },
      {
        "duration": 198,
        "start_time": "2023-10-15T06:37:57.816Z"
      },
      {
        "duration": 33,
        "start_time": "2023-10-15T06:37:58.016Z"
      },
      {
        "duration": 4,
        "start_time": "2023-10-15T06:37:58.051Z"
      },
      {
        "duration": 55,
        "start_time": "2023-10-15T06:37:58.056Z"
      },
      {
        "duration": 56,
        "start_time": "2023-10-15T06:37:58.113Z"
      },
      {
        "duration": 89,
        "start_time": "2023-10-15T06:37:58.170Z"
      },
      {
        "duration": 204,
        "start_time": "2023-10-15T06:37:58.260Z"
      },
      {
        "duration": 33,
        "start_time": "2023-10-15T06:37:58.468Z"
      },
      {
        "duration": 5,
        "start_time": "2023-10-15T06:37:58.502Z"
      },
      {
        "duration": 93,
        "start_time": "2023-10-15T06:37:58.508Z"
      },
      {
        "duration": 281,
        "start_time": "2023-10-15T06:37:58.636Z"
      },
      {
        "duration": 181,
        "start_time": "2023-10-15T06:37:58.920Z"
      },
      {
        "duration": 14,
        "start_time": "2023-10-15T06:37:59.358Z"
      },
      {
        "duration": 108,
        "start_time": "2023-10-15T06:38:00.138Z"
      },
      {
        "duration": 214,
        "start_time": "2023-10-15T06:38:00.488Z"
      },
      {
        "duration": 71,
        "start_time": "2023-10-15T06:38:00.704Z"
      },
      {
        "duration": 47,
        "start_time": "2023-10-15T06:38:02.360Z"
      },
      {
        "duration": 365,
        "start_time": "2023-10-15T06:38:02.539Z"
      },
      {
        "duration": 7,
        "start_time": "2023-10-15T06:38:02.955Z"
      },
      {
        "duration": 113,
        "start_time": "2023-10-15T06:38:03.158Z"
      },
      {
        "duration": 106,
        "start_time": "2023-10-15T06:38:03.372Z"
      },
      {
        "duration": 49,
        "start_time": "2023-10-15T06:38:14.223Z"
      },
      {
        "duration": 1872909,
        "start_time": "2023-10-15T06:38:36.517Z"
      },
      {
        "duration": 67024,
        "start_time": "2023-10-15T07:09:49.429Z"
      },
      {
        "duration": 93,
        "start_time": "2023-10-15T07:10:56.455Z"
      },
      {
        "duration": 1570,
        "start_time": "2023-10-15T07:15:42.294Z"
      },
      {
        "duration": 980,
        "start_time": "2023-10-15T07:15:43.866Z"
      },
      {
        "duration": 167,
        "start_time": "2023-10-15T07:15:44.847Z"
      },
      {
        "duration": 1105,
        "start_time": "2023-10-15T07:15:45.016Z"
      },
      {
        "duration": 61,
        "start_time": "2023-10-15T07:15:46.123Z"
      },
      {
        "duration": 15,
        "start_time": "2023-10-15T07:15:46.186Z"
      },
      {
        "duration": 428,
        "start_time": "2023-10-15T07:15:46.203Z"
      },
      {
        "duration": 116,
        "start_time": "2023-10-15T07:15:46.633Z"
      },
      {
        "duration": 112,
        "start_time": "2023-10-15T07:15:46.751Z"
      },
      {
        "duration": 19,
        "start_time": "2023-10-15T07:15:46.866Z"
      },
      {
        "duration": 534,
        "start_time": "2023-10-15T07:15:46.886Z"
      },
      {
        "duration": 3,
        "start_time": "2023-10-15T07:15:47.422Z"
      },
      {
        "duration": 237,
        "start_time": "2023-10-15T07:15:47.427Z"
      },
      {
        "duration": 14,
        "start_time": "2023-10-15T07:15:47.666Z"
      },
      {
        "duration": 36,
        "start_time": "2023-10-15T07:15:47.682Z"
      },
      {
        "duration": 47,
        "start_time": "2023-10-15T07:15:47.720Z"
      },
      {
        "duration": 33,
        "start_time": "2023-10-15T07:15:47.769Z"
      },
      {
        "duration": 144,
        "start_time": "2023-10-15T07:15:47.803Z"
      },
      {
        "duration": 255,
        "start_time": "2023-10-15T07:15:47.949Z"
      },
      {
        "duration": 30,
        "start_time": "2023-10-15T07:15:48.206Z"
      },
      {
        "duration": 9,
        "start_time": "2023-10-15T07:15:48.238Z"
      },
      {
        "duration": 53,
        "start_time": "2023-10-15T07:15:48.249Z"
      },
      {
        "duration": 53,
        "start_time": "2023-10-15T07:15:48.304Z"
      },
      {
        "duration": 82,
        "start_time": "2023-10-15T07:15:48.359Z"
      },
      {
        "duration": 303,
        "start_time": "2023-10-15T07:15:48.446Z"
      },
      {
        "duration": 22,
        "start_time": "2023-10-15T07:15:48.751Z"
      },
      {
        "duration": 4,
        "start_time": "2023-10-15T07:15:48.775Z"
      },
      {
        "duration": 165,
        "start_time": "2023-10-15T07:15:48.782Z"
      },
      {
        "duration": 295,
        "start_time": "2023-10-15T07:15:48.949Z"
      },
      {
        "duration": 173,
        "start_time": "2023-10-15T07:15:49.246Z"
      },
      {
        "duration": 26,
        "start_time": "2023-10-15T07:15:49.421Z"
      },
      {
        "duration": 116,
        "start_time": "2023-10-15T07:15:49.448Z"
      },
      {
        "duration": 218,
        "start_time": "2023-10-15T07:15:49.565Z"
      },
      {
        "duration": 71,
        "start_time": "2023-10-15T07:15:49.784Z"
      },
      {
        "duration": 47,
        "start_time": "2023-10-15T07:15:49.858Z"
      },
      {
        "duration": 421,
        "start_time": "2023-10-15T07:15:49.906Z"
      },
      {
        "duration": 7,
        "start_time": "2023-10-15T07:15:50.764Z"
      },
      {
        "duration": 120,
        "start_time": "2023-10-15T07:15:50.997Z"
      },
      {
        "duration": 106,
        "start_time": "2023-10-15T07:15:55.941Z"
      },
      {
        "duration": 11627,
        "start_time": "2023-10-15T07:16:03.830Z"
      },
      {
        "duration": 3,
        "start_time": "2023-10-15T07:16:19.238Z"
      },
      {
        "duration": 21071,
        "start_time": "2023-10-15T07:16:19.670Z"
      },
      {
        "duration": 5,
        "start_time": "2023-10-15T07:16:40.742Z"
      },
      {
        "duration": 43,
        "start_time": "2023-10-15T07:17:11.512Z"
      },
      {
        "duration": 218,
        "start_time": "2023-10-15T07:17:12.221Z"
      },
      {
        "duration": 740997,
        "start_time": "2023-10-15T07:17:31.229Z"
      },
      {
        "duration": 751633,
        "start_time": "2023-10-15T07:53:25.977Z"
      },
      {
        "duration": 746871,
        "start_time": "2023-10-15T08:10:37.986Z"
      },
      {
        "duration": 5,
        "start_time": "2023-10-15T08:31:27.312Z"
      },
      {
        "duration": 4,
        "start_time": "2023-10-15T08:31:40.027Z"
      },
      {
        "duration": 151,
        "start_time": "2023-10-15T08:32:04.920Z"
      },
      {
        "duration": 5629,
        "start_time": "2023-10-15T08:33:37.287Z"
      },
      {
        "duration": 0,
        "start_time": "2023-10-15T08:33:42.918Z"
      },
      {
        "duration": 24,
        "start_time": "2023-10-15T08:38:34.621Z"
      },
      {
        "duration": 146,
        "start_time": "2023-10-15T08:38:38.322Z"
      },
      {
        "duration": 1619,
        "start_time": "2023-10-15T08:50:29.411Z"
      },
      {
        "duration": 962,
        "start_time": "2023-10-15T08:50:31.032Z"
      },
      {
        "duration": 174,
        "start_time": "2023-10-15T08:50:31.996Z"
      },
      {
        "duration": 1044,
        "start_time": "2023-10-15T08:50:32.172Z"
      },
      {
        "duration": 59,
        "start_time": "2023-10-15T08:50:33.218Z"
      },
      {
        "duration": 12,
        "start_time": "2023-10-15T08:50:33.279Z"
      },
      {
        "duration": 401,
        "start_time": "2023-10-15T08:50:33.293Z"
      },
      {
        "duration": 115,
        "start_time": "2023-10-15T08:50:33.696Z"
      },
      {
        "duration": 112,
        "start_time": "2023-10-15T08:50:33.813Z"
      },
      {
        "duration": 20,
        "start_time": "2023-10-15T08:50:33.929Z"
      },
      {
        "duration": 530,
        "start_time": "2023-10-15T08:50:33.951Z"
      },
      {
        "duration": 2,
        "start_time": "2023-10-15T08:50:34.483Z"
      },
      {
        "duration": 331,
        "start_time": "2023-10-15T08:50:34.487Z"
      },
      {
        "duration": 14,
        "start_time": "2023-10-15T08:50:34.819Z"
      },
      {
        "duration": 15,
        "start_time": "2023-10-15T08:50:34.846Z"
      },
      {
        "duration": 7,
        "start_time": "2023-10-15T08:50:34.863Z"
      },
      {
        "duration": 32,
        "start_time": "2023-10-15T08:50:34.871Z"
      },
      {
        "duration": 110,
        "start_time": "2023-10-15T08:50:34.905Z"
      },
      {
        "duration": 232,
        "start_time": "2023-10-15T08:50:35.017Z"
      },
      {
        "duration": 32,
        "start_time": "2023-10-15T08:50:35.251Z"
      },
      {
        "duration": 4,
        "start_time": "2023-10-15T08:50:35.286Z"
      },
      {
        "duration": 83,
        "start_time": "2023-10-15T08:50:35.292Z"
      },
      {
        "duration": 50,
        "start_time": "2023-10-15T08:50:35.377Z"
      },
      {
        "duration": 107,
        "start_time": "2023-10-15T08:50:35.430Z"
      },
      {
        "duration": 203,
        "start_time": "2023-10-15T08:50:35.547Z"
      },
      {
        "duration": 22,
        "start_time": "2023-10-15T08:50:35.752Z"
      },
      {
        "duration": 5,
        "start_time": "2023-10-15T08:50:35.776Z"
      },
      {
        "duration": 107,
        "start_time": "2023-10-15T08:50:35.786Z"
      },
      {
        "duration": 320,
        "start_time": "2023-10-15T08:50:35.894Z"
      },
      {
        "duration": 173,
        "start_time": "2023-10-15T08:50:36.215Z"
      },
      {
        "duration": 14,
        "start_time": "2023-10-15T08:50:36.389Z"
      },
      {
        "duration": 120,
        "start_time": "2023-10-15T08:50:36.405Z"
      },
      {
        "duration": 272,
        "start_time": "2023-10-15T08:50:36.527Z"
      },
      {
        "duration": 74,
        "start_time": "2023-10-15T08:50:36.801Z"
      },
      {
        "duration": 44,
        "start_time": "2023-10-15T08:50:36.877Z"
      },
      {
        "duration": 404,
        "start_time": "2023-10-15T08:50:36.923Z"
      },
      {
        "duration": 7,
        "start_time": "2023-10-15T08:50:37.330Z"
      },
      {
        "duration": 129,
        "start_time": "2023-10-15T08:50:37.347Z"
      },
      {
        "duration": 108,
        "start_time": "2023-10-15T08:50:37.478Z"
      },
      {
        "duration": 46,
        "start_time": "2023-10-15T08:50:44.646Z"
      },
      {
        "duration": 14375,
        "start_time": "2023-10-15T08:50:44.788Z"
      },
      {
        "duration": 1633,
        "start_time": "2023-10-15T08:51:17.990Z"
      },
      {
        "duration": 1042,
        "start_time": "2023-10-15T08:51:19.625Z"
      },
      {
        "duration": 184,
        "start_time": "2023-10-15T08:51:20.669Z"
      },
      {
        "duration": 1087,
        "start_time": "2023-10-15T08:51:20.855Z"
      },
      {
        "duration": 53,
        "start_time": "2023-10-15T08:51:21.944Z"
      },
      {
        "duration": 7,
        "start_time": "2023-10-15T08:51:21.999Z"
      },
      {
        "duration": 412,
        "start_time": "2023-10-15T08:51:22.007Z"
      },
      {
        "duration": 117,
        "start_time": "2023-10-15T08:51:22.421Z"
      },
      {
        "duration": 119,
        "start_time": "2023-10-15T08:51:22.540Z"
      },
      {
        "duration": 6,
        "start_time": "2023-10-15T08:51:22.661Z"
      },
      {
        "duration": 532,
        "start_time": "2023-10-15T08:51:22.669Z"
      },
      {
        "duration": 3,
        "start_time": "2023-10-15T08:51:23.203Z"
      },
      {
        "duration": 245,
        "start_time": "2023-10-15T08:51:23.208Z"
      },
      {
        "duration": 14,
        "start_time": "2023-10-15T08:51:23.455Z"
      },
      {
        "duration": 14,
        "start_time": "2023-10-15T08:51:23.471Z"
      },
      {
        "duration": 7,
        "start_time": "2023-10-15T08:51:23.487Z"
      },
      {
        "duration": 62,
        "start_time": "2023-10-15T08:51:23.496Z"
      },
      {
        "duration": 95,
        "start_time": "2023-10-15T08:51:23.560Z"
      },
      {
        "duration": 194,
        "start_time": "2023-10-15T08:51:23.657Z"
      },
      {
        "duration": 28,
        "start_time": "2023-10-15T08:51:23.852Z"
      },
      {
        "duration": 59,
        "start_time": "2023-10-15T08:51:23.882Z"
      },
      {
        "duration": 80,
        "start_time": "2023-10-15T08:51:23.942Z"
      },
      {
        "duration": 46,
        "start_time": "2023-10-15T08:51:24.024Z"
      },
      {
        "duration": 81,
        "start_time": "2023-10-15T08:51:24.548Z"
      },
      {
        "duration": 189,
        "start_time": "2023-10-15T08:51:24.706Z"
      },
      {
        "duration": 26,
        "start_time": "2023-10-15T08:51:25.329Z"
      },
      {
        "duration": 5,
        "start_time": "2023-10-15T08:51:25.984Z"
      },
      {
        "duration": 76,
        "start_time": "2023-10-15T08:51:31.958Z"
      },
      {
        "duration": 287,
        "start_time": "2023-10-15T08:51:32.584Z"
      },
      {
        "duration": 161,
        "start_time": "2023-10-15T08:51:33.532Z"
      },
      {
        "duration": 14,
        "start_time": "2023-10-15T08:51:37.499Z"
      },
      {
        "duration": 114,
        "start_time": "2023-10-15T08:51:40.340Z"
      },
      {
        "duration": 210,
        "start_time": "2023-10-15T08:51:40.556Z"
      },
      {
        "duration": 66,
        "start_time": "2023-10-15T08:51:40.769Z"
      },
      {
        "duration": 46,
        "start_time": "2023-10-15T08:51:52.152Z"
      },
      {
        "duration": 368,
        "start_time": "2023-10-15T08:51:52.590Z"
      },
      {
        "duration": 6,
        "start_time": "2023-10-15T08:51:53.087Z"
      },
      {
        "duration": 122,
        "start_time": "2023-10-15T08:52:00.721Z"
      },
      {
        "duration": 100,
        "start_time": "2023-10-15T08:52:01.733Z"
      },
      {
        "duration": 44,
        "start_time": "2023-10-15T08:52:10.572Z"
      },
      {
        "duration": 747316,
        "start_time": "2023-10-15T08:52:11.058Z"
      },
      {
        "duration": 211,
        "start_time": "2023-10-15T09:04:38.377Z"
      },
      {
        "duration": 3,
        "start_time": "2023-10-15T09:04:38.590Z"
      },
      {
        "duration": 16784,
        "start_time": "2023-10-15T09:04:40.677Z"
      },
      {
        "duration": 16839,
        "start_time": "2023-10-15T09:05:21.458Z"
      },
      {
        "duration": 16918,
        "start_time": "2023-10-15T09:14:41.419Z"
      },
      {
        "duration": 21613,
        "start_time": "2023-10-15T09:17:23.619Z"
      },
      {
        "duration": 4662,
        "start_time": "2023-10-15T09:18:33.165Z"
      },
      {
        "duration": 4558,
        "start_time": "2023-10-15T09:18:54.166Z"
      },
      {
        "duration": 4627,
        "start_time": "2023-10-15T09:19:15.515Z"
      },
      {
        "duration": 41,
        "start_time": "2023-10-15T09:20:13.797Z"
      },
      {
        "duration": 383,
        "start_time": "2023-10-15T09:20:14.003Z"
      },
      {
        "duration": 7,
        "start_time": "2023-10-15T09:20:14.388Z"
      },
      {
        "duration": 119,
        "start_time": "2023-10-15T09:20:14.884Z"
      },
      {
        "duration": 104,
        "start_time": "2023-10-15T09:20:15.767Z"
      },
      {
        "duration": 3831,
        "start_time": "2023-10-15T09:20:18.824Z"
      },
      {
        "duration": 88,
        "start_time": "2023-10-15T09:20:22.659Z"
      },
      {
        "duration": 957,
        "start_time": "2023-10-15T09:20:22.750Z"
      },
      {
        "duration": 870,
        "start_time": "2023-10-15T09:24:02.685Z"
      },
      {
        "duration": 41188,
        "start_time": "2023-10-15T09:24:50.011Z"
      },
      {
        "duration": 45,
        "start_time": "2023-10-15T09:26:55.034Z"
      },
      {
        "duration": 4,
        "start_time": "2023-10-15T09:27:10.059Z"
      },
      {
        "duration": 349226,
        "start_time": "2023-10-15T09:31:28.326Z"
      },
      {
        "duration": 20,
        "start_time": "2023-10-15T09:45:02.270Z"
      },
      {
        "duration": 18671,
        "start_time": "2023-10-15T10:16:52.439Z"
      },
      {
        "duration": 43,
        "start_time": "2023-10-15T11:08:40.170Z"
      },
      {
        "duration": 111,
        "start_time": "2023-10-15T11:08:40.530Z"
      },
      {
        "duration": 7358,
        "start_time": "2023-10-15T11:08:44.726Z"
      },
      {
        "duration": 84655,
        "start_time": "2023-10-15T11:09:09.620Z"
      },
      {
        "duration": 1765,
        "start_time": "2023-10-15T11:11:59.523Z"
      },
      {
        "duration": 6,
        "start_time": "2023-10-15T11:12:10.185Z"
      },
      {
        "duration": 86646,
        "start_time": "2023-10-15T11:12:28.746Z"
      },
      {
        "duration": 3398,
        "start_time": "2023-10-15T11:14:05.944Z"
      },
      {
        "duration": 3604,
        "start_time": "2023-10-15T11:14:17.000Z"
      },
      {
        "duration": 3353,
        "start_time": "2023-10-15T11:14:26.359Z"
      },
      {
        "duration": 5301,
        "start_time": "2023-10-15T11:14:36.231Z"
      },
      {
        "duration": 5908,
        "start_time": "2023-10-15T11:14:46.883Z"
      },
      {
        "duration": 5732,
        "start_time": "2023-10-15T11:15:09.375Z"
      },
      {
        "duration": 4,
        "start_time": "2023-10-15T11:15:23.113Z"
      },
      {
        "duration": 13,
        "start_time": "2023-10-15T11:15:35.211Z"
      },
      {
        "duration": 4300,
        "start_time": "2023-10-15T11:15:47.570Z"
      },
      {
        "duration": 4430,
        "start_time": "2023-10-15T11:16:23.376Z"
      },
      {
        "duration": 297994,
        "start_time": "2023-10-15T11:17:33.756Z"
      },
      {
        "duration": 3,
        "start_time": "2023-10-15T11:22:31.752Z"
      },
      {
        "duration": 5283,
        "start_time": "2023-10-15T11:23:05.644Z"
      },
      {
        "duration": 4,
        "start_time": "2023-10-15T11:23:10.929Z"
      },
      {
        "duration": 6,
        "start_time": "2023-10-15T11:23:10.935Z"
      },
      {
        "duration": 54,
        "start_time": "2023-10-15T11:26:57.932Z"
      },
      {
        "duration": 1248,
        "start_time": "2023-10-15T11:27:11.887Z"
      },
      {
        "duration": 1304,
        "start_time": "2023-10-15T11:27:23.182Z"
      },
      {
        "duration": 4334,
        "start_time": "2023-10-15T11:28:08.517Z"
      },
      {
        "duration": 1694,
        "start_time": "2023-10-15T11:28:28.059Z"
      },
      {
        "duration": 2286,
        "start_time": "2023-10-15T11:28:38.063Z"
      },
      {
        "duration": 57,
        "start_time": "2023-10-15T11:29:05.580Z"
      },
      {
        "duration": 113,
        "start_time": "2023-10-15T11:29:06.002Z"
      },
      {
        "duration": 2601,
        "start_time": "2023-10-15T11:29:10.146Z"
      },
      {
        "duration": 47,
        "start_time": "2023-10-15T11:29:31.864Z"
      },
      {
        "duration": 113,
        "start_time": "2023-10-15T11:29:32.118Z"
      },
      {
        "duration": 6110,
        "start_time": "2023-10-15T11:29:34.148Z"
      },
      {
        "duration": 2991,
        "start_time": "2023-10-15T11:29:40.260Z"
      },
      {
        "duration": 47,
        "start_time": "2023-10-15T11:30:06.243Z"
      },
      {
        "duration": 5,
        "start_time": "2023-10-15T11:30:10.300Z"
      },
      {
        "duration": 1580,
        "start_time": "2023-10-15T11:33:17.079Z"
      },
      {
        "duration": 1023,
        "start_time": "2023-10-15T11:33:18.661Z"
      },
      {
        "duration": 171,
        "start_time": "2023-10-15T11:33:19.686Z"
      },
      {
        "duration": 1080,
        "start_time": "2023-10-15T11:33:19.859Z"
      },
      {
        "duration": 56,
        "start_time": "2023-10-15T11:33:20.947Z"
      },
      {
        "duration": 8,
        "start_time": "2023-10-15T11:33:21.005Z"
      },
      {
        "duration": 432,
        "start_time": "2023-10-15T11:33:21.015Z"
      },
      {
        "duration": 134,
        "start_time": "2023-10-15T11:33:21.449Z"
      },
      {
        "duration": 129,
        "start_time": "2023-10-15T11:33:21.585Z"
      },
      {
        "duration": 22,
        "start_time": "2023-10-15T11:33:21.716Z"
      },
      {
        "duration": 560,
        "start_time": "2023-10-15T11:33:21.739Z"
      },
      {
        "duration": 3,
        "start_time": "2023-10-15T11:33:22.301Z"
      },
      {
        "duration": 262,
        "start_time": "2023-10-15T11:33:22.306Z"
      },
      {
        "duration": 14,
        "start_time": "2023-10-15T11:33:22.578Z"
      },
      {
        "duration": 14,
        "start_time": "2023-10-15T11:33:22.728Z"
      },
      {
        "duration": 7,
        "start_time": "2023-10-15T11:33:22.879Z"
      },
      {
        "duration": 27,
        "start_time": "2023-10-15T11:33:23.217Z"
      },
      {
        "duration": 95,
        "start_time": "2023-10-15T11:33:23.964Z"
      },
      {
        "duration": 195,
        "start_time": "2023-10-15T11:33:24.119Z"
      },
      {
        "duration": 25,
        "start_time": "2023-10-15T11:33:24.742Z"
      },
      {
        "duration": 4,
        "start_time": "2023-10-15T11:33:24.875Z"
      },
      {
        "duration": 55,
        "start_time": "2023-10-15T11:33:25.035Z"
      },
      {
        "duration": 49,
        "start_time": "2023-10-15T11:33:25.195Z"
      },
      {
        "duration": 80,
        "start_time": "2023-10-15T11:33:27.859Z"
      },
      {
        "duration": 202,
        "start_time": "2023-10-15T11:33:28.126Z"
      },
      {
        "duration": 23,
        "start_time": "2023-10-15T11:33:28.475Z"
      },
      {
        "duration": 6,
        "start_time": "2023-10-15T11:33:29.292Z"
      },
      {
        "duration": 90,
        "start_time": "2023-10-15T11:33:30.305Z"
      },
      {
        "duration": 441,
        "start_time": "2023-10-15T11:33:30.447Z"
      },
      {
        "duration": 160,
        "start_time": "2023-10-15T11:33:31.419Z"
      },
      {
        "duration": 20,
        "start_time": "2023-10-15T11:33:32.092Z"
      },
      {
        "duration": 134,
        "start_time": "2023-10-15T11:33:33.193Z"
      },
      {
        "duration": 261,
        "start_time": "2023-10-15T11:33:33.330Z"
      },
      {
        "duration": 65,
        "start_time": "2023-10-15T11:33:33.687Z"
      },
      {
        "duration": 49,
        "start_time": "2023-10-15T11:33:40.219Z"
      },
      {
        "duration": 399,
        "start_time": "2023-10-15T11:33:41.891Z"
      },
      {
        "duration": 7,
        "start_time": "2023-10-15T11:33:42.481Z"
      },
      {
        "duration": 115,
        "start_time": "2023-10-15T11:33:45.481Z"
      },
      {
        "duration": 103,
        "start_time": "2023-10-15T11:33:48.690Z"
      },
      {
        "duration": 197334,
        "start_time": "2023-10-15T11:33:51.817Z"
      },
      {
        "duration": 8,
        "start_time": "2023-10-15T11:37:09.155Z"
      },
      {
        "duration": 63555,
        "start_time": "2023-10-15T11:37:09.246Z"
      },
      {
        "duration": 3464918,
        "start_time": "2023-10-15T11:38:12.804Z"
      },
      {
        "duration": 63,
        "start_time": "2023-10-15T12:35:57.723Z"
      },
      {
        "duration": 122,
        "start_time": "2023-10-15T12:35:57.788Z"
      },
      {
        "duration": 2,
        "start_time": "2023-10-15T12:35:57.912Z"
      },
      {
        "duration": 830427,
        "start_time": "2023-10-15T12:35:57.916Z"
      },
      {
        "duration": 3,
        "start_time": "2023-10-15T12:49:48.346Z"
      },
      {
        "duration": 45,
        "start_time": "2023-10-15T21:37:07.102Z"
      },
      {
        "duration": 116,
        "start_time": "2023-10-15T21:37:08.511Z"
      },
      {
        "duration": 1033,
        "start_time": "2023-10-15T21:37:49.218Z"
      },
      {
        "duration": 406,
        "start_time": "2023-10-15T21:37:57.857Z"
      },
      {
        "duration": 73,
        "start_time": "2023-10-15T21:38:36.390Z"
      },
      {
        "duration": 112,
        "start_time": "2023-10-15T21:38:42.028Z"
      },
      {
        "duration": 21,
        "start_time": "2023-10-15T21:38:57.758Z"
      },
      {
        "duration": 49,
        "start_time": "2023-10-15T21:40:18.389Z"
      },
      {
        "duration": 110,
        "start_time": "2023-10-15T21:40:19.575Z"
      },
      {
        "duration": 206907,
        "start_time": "2023-10-15T21:40:29.356Z"
      },
      {
        "duration": 3,
        "start_time": "2023-10-15T21:43:56.265Z"
      },
      {
        "duration": 13,
        "start_time": "2023-10-15T21:44:55.215Z"
      },
      {
        "duration": 7,
        "start_time": "2023-10-15T21:45:50.216Z"
      },
      {
        "duration": 7,
        "start_time": "2023-10-15T21:46:35.074Z"
      },
      {
        "duration": 977121,
        "start_time": "2023-10-15T21:55:08.939Z"
      },
      {
        "duration": 1411764,
        "start_time": "2023-10-15T22:13:23.294Z"
      },
      {
        "duration": 3,
        "start_time": "2023-10-15T22:36:55.060Z"
      },
      {
        "duration": 38,
        "start_time": "2023-10-15T22:36:55.065Z"
      },
      {
        "duration": 33,
        "start_time": "2023-10-15T22:36:55.105Z"
      },
      {
        "duration": 3,
        "start_time": "2023-10-15T22:40:34.374Z"
      },
      {
        "duration": 855635,
        "start_time": "2023-10-15T22:40:38.127Z"
      },
      {
        "duration": 282393,
        "start_time": "2023-10-15T22:55:58.659Z"
      },
      {
        "duration": 1677,
        "start_time": "2023-10-16T20:28:08.125Z"
      },
      {
        "duration": 1266,
        "start_time": "2023-10-16T20:28:09.804Z"
      },
      {
        "duration": 177,
        "start_time": "2023-10-16T20:28:11.072Z"
      },
      {
        "duration": 1029,
        "start_time": "2023-10-16T20:28:11.250Z"
      },
      {
        "duration": 57,
        "start_time": "2023-10-16T20:28:12.281Z"
      },
      {
        "duration": 5,
        "start_time": "2023-10-16T20:28:12.339Z"
      },
      {
        "duration": 369,
        "start_time": "2023-10-16T20:28:12.346Z"
      },
      {
        "duration": 111,
        "start_time": "2023-10-16T20:28:12.720Z"
      },
      {
        "duration": 109,
        "start_time": "2023-10-16T20:28:12.834Z"
      },
      {
        "duration": 8,
        "start_time": "2023-10-16T20:28:12.945Z"
      },
      {
        "duration": 514,
        "start_time": "2023-10-16T20:28:12.954Z"
      },
      {
        "duration": 3,
        "start_time": "2023-10-16T20:28:13.471Z"
      },
      {
        "duration": 245,
        "start_time": "2023-10-16T20:28:13.476Z"
      },
      {
        "duration": 17,
        "start_time": "2023-10-16T20:28:13.724Z"
      },
      {
        "duration": 12,
        "start_time": "2023-10-16T20:28:13.743Z"
      },
      {
        "duration": 6,
        "start_time": "2023-10-16T20:28:13.756Z"
      },
      {
        "duration": 26,
        "start_time": "2023-10-16T20:28:13.763Z"
      },
      {
        "duration": 105,
        "start_time": "2023-10-16T20:28:13.791Z"
      },
      {
        "duration": 193,
        "start_time": "2023-10-16T20:28:13.897Z"
      },
      {
        "duration": 41,
        "start_time": "2023-10-16T20:28:14.091Z"
      },
      {
        "duration": 4,
        "start_time": "2023-10-16T20:28:14.135Z"
      },
      {
        "duration": 48,
        "start_time": "2023-10-16T20:28:14.140Z"
      },
      {
        "duration": 55,
        "start_time": "2023-10-16T20:28:14.189Z"
      },
      {
        "duration": 76,
        "start_time": "2023-10-16T20:28:14.245Z"
      },
      {
        "duration": 177,
        "start_time": "2023-10-16T20:28:14.327Z"
      },
      {
        "duration": 31,
        "start_time": "2023-10-16T20:28:14.509Z"
      },
      {
        "duration": 4,
        "start_time": "2023-10-16T20:28:14.542Z"
      },
      {
        "duration": 95,
        "start_time": "2023-10-16T20:28:14.550Z"
      },
      {
        "duration": 283,
        "start_time": "2023-10-16T20:28:14.647Z"
      },
      {
        "duration": 162,
        "start_time": "2023-10-16T20:28:14.935Z"
      },
      {
        "duration": 17,
        "start_time": "2023-10-16T20:28:15.098Z"
      },
      {
        "duration": 110,
        "start_time": "2023-10-16T20:28:15.120Z"
      },
      {
        "duration": 214,
        "start_time": "2023-10-16T20:28:15.238Z"
      },
      {
        "duration": 70,
        "start_time": "2023-10-16T20:28:15.454Z"
      },
      {
        "duration": 41,
        "start_time": "2023-10-16T20:28:15.531Z"
      },
      {
        "duration": 351,
        "start_time": "2023-10-16T20:28:15.574Z"
      },
      {
        "duration": 19,
        "start_time": "2023-10-16T20:28:15.927Z"
      },
      {
        "duration": 137,
        "start_time": "2023-10-16T20:28:15.948Z"
      },
      {
        "duration": 131,
        "start_time": "2023-10-16T20:28:16.088Z"
      },
      {
        "duration": 268314,
        "start_time": "2023-10-16T20:28:16.224Z"
      },
      {
        "duration": 8,
        "start_time": "2023-10-16T20:32:44.626Z"
      },
      {
        "duration": 59982,
        "start_time": "2023-10-16T20:32:44.636Z"
      },
      {
        "duration": 3353352,
        "start_time": "2023-10-16T20:33:44.624Z"
      },
      {
        "duration": 86,
        "start_time": "2023-10-16T21:29:37.978Z"
      },
      {
        "duration": 155,
        "start_time": "2023-10-16T21:29:38.066Z"
      },
      {
        "duration": 892073,
        "start_time": "2023-10-16T21:29:38.223Z"
      },
      {
        "duration": 9,
        "start_time": "2023-10-16T21:44:30.298Z"
      },
      {
        "duration": 1784510,
        "start_time": "2023-10-16T21:44:30.311Z"
      },
      {
        "duration": 3,
        "start_time": "2023-10-16T22:14:14.823Z"
      },
      {
        "duration": 20,
        "start_time": "2023-10-16T22:14:14.827Z"
      },
      {
        "duration": 8,
        "start_time": "2023-10-16T22:14:14.848Z"
      },
      {
        "duration": 3,
        "start_time": "2023-10-16T22:14:14.857Z"
      },
      {
        "duration": 54,
        "start_time": "2023-10-16T22:14:14.863Z"
      },
      {
        "duration": 69959,
        "start_time": "2023-10-16T22:24:30.999Z"
      },
      {
        "duration": 3,
        "start_time": "2023-10-16T22:25:40.959Z"
      },
      {
        "duration": 4,
        "start_time": "2023-10-16T22:33:31.433Z"
      }
    ],
    "toc": {
      "base_numbering": 1,
      "nav_menu": {},
      "number_sections": true,
      "sideBar": true,
      "skip_h1_title": true,
      "title_cell": "Table of Contents",
      "title_sidebar": "Contents",
      "toc_cell": false,
      "toc_position": {},
      "toc_section_display": true,
      "toc_window_display": false
    }
  },
  "nbformat_minor": 4,
  "nbformat": 4,
  "cells": [
    {
      "cell_type": "markdown",
      "source": "# Определение стоимости автомобилей",
      "metadata": {}
    },
    {
      "cell_type": "markdown",
      "source": "Сервис по продаже автомобилей с пробегом «Не бит, не крашен» разрабатывает приложение для привлечения новых клиентов. В нём можно быстро узнать рыночную стоимость своего автомобиля. В вашем распоряжении исторические данные: технические характеристики, комплектации и цены автомобилей. Вам нужно построить модель для определения стоимости. \n\nЗаказчику важны:\n\n- качество предсказания;\n- скорость предсказания;\n- время обучения.",
      "metadata": {}
    },
    {
      "cell_type": "markdown",
      "source": "## Подготовка данных",
      "metadata": {}
    },
    {
      "cell_type": "code",
      "source": "import pandas as pd\nimport numpy as np\nimport seaborn as sns\nfrom sklearn.model_selection import train_test_split\nfrom sklearn.preprocessing import StandardScaler\nfrom sklearn.linear_model import LinearRegression\nimport time\nfrom math import sqrt\nfrom sklearn.metrics import mean_squared_error\nfrom sklearn.metrics import make_scorer\nfrom sklearn.tree import DecisionTreeRegressor\nfrom sklearn.ensemble import RandomForestRegressor\nfrom catboost import CatBoostRegressor, Pool\nfrom sklearn.model_selection import GridSearchCV\nimport lightgbm as lgb\nfrom IPython.display import display\nfrom sklearn.preprocessing import OneHotEncoder\nfrom sklearn.dummy import DummyRegressor\nimport matplotlib.pyplot as plt\nfrom sklearn.model_selection import cross_val_score\n\n\nimport warnings\nwarnings.filterwarnings('ignore')",
      "metadata": {},
      "outputs": [],
      "execution_count": 1
    },
    {
      "cell_type": "code",
      "source": "df = pd.read_csv('/datasets/autos.csv')\ndf.sample(5)",
      "metadata": {},
      "outputs": [
        {
          "data": {
            "text/html": [
              "<div>\n",
              "<style scoped>\n",
              "    .dataframe tbody tr th:only-of-type {\n",
              "        vertical-align: middle;\n",
              "    }\n",
              "\n",
              "    .dataframe tbody tr th {\n",
              "        vertical-align: top;\n",
              "    }\n",
              "\n",
              "    .dataframe thead th {\n",
              "        text-align: right;\n",
              "    }\n",
              "</style>\n",
              "<table border=\"1\" class=\"dataframe\">\n",
              "  <thead>\n",
              "    <tr style=\"text-align: right;\">\n",
              "      <th></th>\n",
              "      <th>DateCrawled</th>\n",
              "      <th>Price</th>\n",
              "      <th>VehicleType</th>\n",
              "      <th>RegistrationYear</th>\n",
              "      <th>Gearbox</th>\n",
              "      <th>Power</th>\n",
              "      <th>Model</th>\n",
              "      <th>Kilometer</th>\n",
              "      <th>RegistrationMonth</th>\n",
              "      <th>FuelType</th>\n",
              "      <th>Brand</th>\n",
              "      <th>Repaired</th>\n",
              "      <th>DateCreated</th>\n",
              "      <th>NumberOfPictures</th>\n",
              "      <th>PostalCode</th>\n",
              "      <th>LastSeen</th>\n",
              "    </tr>\n",
              "  </thead>\n",
              "  <tbody>\n",
              "    <tr>\n",
              "      <th>114504</th>\n",
              "      <td>2016-03-08 09:55:08</td>\n",
              "      <td>1400</td>\n",
              "      <td>wagon</td>\n",
              "      <td>2000</td>\n",
              "      <td>manual</td>\n",
              "      <td>150</td>\n",
              "      <td>a6</td>\n",
              "      <td>150000</td>\n",
              "      <td>8</td>\n",
              "      <td>gasoline</td>\n",
              "      <td>audi</td>\n",
              "      <td>no</td>\n",
              "      <td>2016-03-08 00:00:00</td>\n",
              "      <td>0</td>\n",
              "      <td>76149</td>\n",
              "      <td>2016-04-06 20:19:33</td>\n",
              "    </tr>\n",
              "    <tr>\n",
              "      <th>7903</th>\n",
              "      <td>2016-03-12 15:37:22</td>\n",
              "      <td>2999</td>\n",
              "      <td>sedan</td>\n",
              "      <td>2001</td>\n",
              "      <td>manual</td>\n",
              "      <td>143</td>\n",
              "      <td>e_klasse</td>\n",
              "      <td>150000</td>\n",
              "      <td>6</td>\n",
              "      <td>gasoline</td>\n",
              "      <td>mercedes_benz</td>\n",
              "      <td>no</td>\n",
              "      <td>2016-03-12 00:00:00</td>\n",
              "      <td>0</td>\n",
              "      <td>71032</td>\n",
              "      <td>2016-03-14 07:16:47</td>\n",
              "    </tr>\n",
              "    <tr>\n",
              "      <th>217126</th>\n",
              "      <td>2016-03-07 14:58:37</td>\n",
              "      <td>2100</td>\n",
              "      <td>small</td>\n",
              "      <td>2000</td>\n",
              "      <td>manual</td>\n",
              "      <td>75</td>\n",
              "      <td>a2</td>\n",
              "      <td>150000</td>\n",
              "      <td>11</td>\n",
              "      <td>petrol</td>\n",
              "      <td>audi</td>\n",
              "      <td>yes</td>\n",
              "      <td>2016-03-07 00:00:00</td>\n",
              "      <td>0</td>\n",
              "      <td>65197</td>\n",
              "      <td>2016-03-11 04:16:40</td>\n",
              "    </tr>\n",
              "    <tr>\n",
              "      <th>178216</th>\n",
              "      <td>2016-03-18 17:37:18</td>\n",
              "      <td>4799</td>\n",
              "      <td>NaN</td>\n",
              "      <td>2017</td>\n",
              "      <td>manual</td>\n",
              "      <td>130</td>\n",
              "      <td>mondeo</td>\n",
              "      <td>90000</td>\n",
              "      <td>4</td>\n",
              "      <td>gasoline</td>\n",
              "      <td>ford</td>\n",
              "      <td>no</td>\n",
              "      <td>2016-03-18 00:00:00</td>\n",
              "      <td>0</td>\n",
              "      <td>35216</td>\n",
              "      <td>2016-03-20 05:44:55</td>\n",
              "    </tr>\n",
              "    <tr>\n",
              "      <th>201327</th>\n",
              "      <td>2016-03-25 17:43:37</td>\n",
              "      <td>3800</td>\n",
              "      <td>small</td>\n",
              "      <td>2009</td>\n",
              "      <td>manual</td>\n",
              "      <td>68</td>\n",
              "      <td>aygo</td>\n",
              "      <td>70000</td>\n",
              "      <td>5</td>\n",
              "      <td>petrol</td>\n",
              "      <td>toyota</td>\n",
              "      <td>no</td>\n",
              "      <td>2016-03-25 00:00:00</td>\n",
              "      <td>0</td>\n",
              "      <td>72516</td>\n",
              "      <td>2016-03-25 17:43:37</td>\n",
              "    </tr>\n",
              "  </tbody>\n",
              "</table>\n",
              "</div>"
            ],
            "text/plain": [
              "                DateCrawled  Price VehicleType  RegistrationYear Gearbox  \\\n",
              "114504  2016-03-08 09:55:08   1400       wagon              2000  manual   \n",
              "7903    2016-03-12 15:37:22   2999       sedan              2001  manual   \n",
              "217126  2016-03-07 14:58:37   2100       small              2000  manual   \n",
              "178216  2016-03-18 17:37:18   4799         NaN              2017  manual   \n",
              "201327  2016-03-25 17:43:37   3800       small              2009  manual   \n",
              "\n",
              "        Power     Model  Kilometer  RegistrationMonth  FuelType  \\\n",
              "114504    150        a6     150000                  8  gasoline   \n",
              "7903      143  e_klasse     150000                  6  gasoline   \n",
              "217126     75        a2     150000                 11    petrol   \n",
              "178216    130    mondeo      90000                  4  gasoline   \n",
              "201327     68      aygo      70000                  5    petrol   \n",
              "\n",
              "                Brand Repaired          DateCreated  NumberOfPictures  \\\n",
              "114504           audi       no  2016-03-08 00:00:00                 0   \n",
              "7903    mercedes_benz       no  2016-03-12 00:00:00                 0   \n",
              "217126           audi      yes  2016-03-07 00:00:00                 0   \n",
              "178216           ford       no  2016-03-18 00:00:00                 0   \n",
              "201327         toyota       no  2016-03-25 00:00:00                 0   \n",
              "\n",
              "        PostalCode             LastSeen  \n",
              "114504       76149  2016-04-06 20:19:33  \n",
              "7903         71032  2016-03-14 07:16:47  \n",
              "217126       65197  2016-03-11 04:16:40  \n",
              "178216       35216  2016-03-20 05:44:55  \n",
              "201327       72516  2016-03-25 17:43:37  "
            ]
          },
          "execution_count": 2,
          "metadata": {},
          "output_type": "execute_result"
        }
      ],
      "execution_count": 2
    },
    {
      "cell_type": "code",
      "source": "df.info()",
      "metadata": {},
      "outputs": [
        {
          "name": "stdout",
          "output_type": "stream",
          "text": [
            "<class 'pandas.core.frame.DataFrame'>\n",
            "RangeIndex: 354369 entries, 0 to 354368\n",
            "Data columns (total 16 columns):\n",
            " #   Column             Non-Null Count   Dtype \n",
            "---  ------             --------------   ----- \n",
            " 0   DateCrawled        354369 non-null  object\n",
            " 1   Price              354369 non-null  int64 \n",
            " 2   VehicleType        316879 non-null  object\n",
            " 3   RegistrationYear   354369 non-null  int64 \n",
            " 4   Gearbox            334536 non-null  object\n",
            " 5   Power              354369 non-null  int64 \n",
            " 6   Model              334664 non-null  object\n",
            " 7   Kilometer          354369 non-null  int64 \n",
            " 8   RegistrationMonth  354369 non-null  int64 \n",
            " 9   FuelType           321474 non-null  object\n",
            " 10  Brand              354369 non-null  object\n",
            " 11  Repaired           283215 non-null  object\n",
            " 12  DateCreated        354369 non-null  object\n",
            " 13  NumberOfPictures   354369 non-null  int64 \n",
            " 14  PostalCode         354369 non-null  int64 \n",
            " 15  LastSeen           354369 non-null  object\n",
            "dtypes: int64(7), object(9)\n",
            "memory usage: 43.3+ MB\n"
          ]
        }
      ],
      "execution_count": 3
    },
    {
      "cell_type": "code",
      "source": "df.describe(include='all')",
      "metadata": {},
      "outputs": [
        {
          "data": {
            "text/html": [
              "<div>\n",
              "<style scoped>\n",
              "    .dataframe tbody tr th:only-of-type {\n",
              "        vertical-align: middle;\n",
              "    }\n",
              "\n",
              "    .dataframe tbody tr th {\n",
              "        vertical-align: top;\n",
              "    }\n",
              "\n",
              "    .dataframe thead th {\n",
              "        text-align: right;\n",
              "    }\n",
              "</style>\n",
              "<table border=\"1\" class=\"dataframe\">\n",
              "  <thead>\n",
              "    <tr style=\"text-align: right;\">\n",
              "      <th></th>\n",
              "      <th>DateCrawled</th>\n",
              "      <th>Price</th>\n",
              "      <th>VehicleType</th>\n",
              "      <th>RegistrationYear</th>\n",
              "      <th>Gearbox</th>\n",
              "      <th>Power</th>\n",
              "      <th>Model</th>\n",
              "      <th>Kilometer</th>\n",
              "      <th>RegistrationMonth</th>\n",
              "      <th>FuelType</th>\n",
              "      <th>Brand</th>\n",
              "      <th>Repaired</th>\n",
              "      <th>DateCreated</th>\n",
              "      <th>NumberOfPictures</th>\n",
              "      <th>PostalCode</th>\n",
              "      <th>LastSeen</th>\n",
              "    </tr>\n",
              "  </thead>\n",
              "  <tbody>\n",
              "    <tr>\n",
              "      <th>count</th>\n",
              "      <td>354369</td>\n",
              "      <td>354369.000000</td>\n",
              "      <td>316879</td>\n",
              "      <td>354369.000000</td>\n",
              "      <td>334536</td>\n",
              "      <td>354369.000000</td>\n",
              "      <td>334664</td>\n",
              "      <td>354369.000000</td>\n",
              "      <td>354369.000000</td>\n",
              "      <td>321474</td>\n",
              "      <td>354369</td>\n",
              "      <td>283215</td>\n",
              "      <td>354369</td>\n",
              "      <td>354369.0</td>\n",
              "      <td>354369.000000</td>\n",
              "      <td>354369</td>\n",
              "    </tr>\n",
              "    <tr>\n",
              "      <th>unique</th>\n",
              "      <td>271174</td>\n",
              "      <td>NaN</td>\n",
              "      <td>8</td>\n",
              "      <td>NaN</td>\n",
              "      <td>2</td>\n",
              "      <td>NaN</td>\n",
              "      <td>250</td>\n",
              "      <td>NaN</td>\n",
              "      <td>NaN</td>\n",
              "      <td>7</td>\n",
              "      <td>40</td>\n",
              "      <td>2</td>\n",
              "      <td>109</td>\n",
              "      <td>NaN</td>\n",
              "      <td>NaN</td>\n",
              "      <td>179150</td>\n",
              "    </tr>\n",
              "    <tr>\n",
              "      <th>top</th>\n",
              "      <td>2016-03-24 14:49:47</td>\n",
              "      <td>NaN</td>\n",
              "      <td>sedan</td>\n",
              "      <td>NaN</td>\n",
              "      <td>manual</td>\n",
              "      <td>NaN</td>\n",
              "      <td>golf</td>\n",
              "      <td>NaN</td>\n",
              "      <td>NaN</td>\n",
              "      <td>petrol</td>\n",
              "      <td>volkswagen</td>\n",
              "      <td>no</td>\n",
              "      <td>2016-04-03 00:00:00</td>\n",
              "      <td>NaN</td>\n",
              "      <td>NaN</td>\n",
              "      <td>2016-04-06 13:45:54</td>\n",
              "    </tr>\n",
              "    <tr>\n",
              "      <th>freq</th>\n",
              "      <td>7</td>\n",
              "      <td>NaN</td>\n",
              "      <td>91457</td>\n",
              "      <td>NaN</td>\n",
              "      <td>268251</td>\n",
              "      <td>NaN</td>\n",
              "      <td>29232</td>\n",
              "      <td>NaN</td>\n",
              "      <td>NaN</td>\n",
              "      <td>216352</td>\n",
              "      <td>77013</td>\n",
              "      <td>247161</td>\n",
              "      <td>13719</td>\n",
              "      <td>NaN</td>\n",
              "      <td>NaN</td>\n",
              "      <td>17</td>\n",
              "    </tr>\n",
              "    <tr>\n",
              "      <th>mean</th>\n",
              "      <td>NaN</td>\n",
              "      <td>4416.656776</td>\n",
              "      <td>NaN</td>\n",
              "      <td>2004.234448</td>\n",
              "      <td>NaN</td>\n",
              "      <td>110.094337</td>\n",
              "      <td>NaN</td>\n",
              "      <td>128211.172535</td>\n",
              "      <td>5.714645</td>\n",
              "      <td>NaN</td>\n",
              "      <td>NaN</td>\n",
              "      <td>NaN</td>\n",
              "      <td>NaN</td>\n",
              "      <td>0.0</td>\n",
              "      <td>50508.689087</td>\n",
              "      <td>NaN</td>\n",
              "    </tr>\n",
              "    <tr>\n",
              "      <th>std</th>\n",
              "      <td>NaN</td>\n",
              "      <td>4514.158514</td>\n",
              "      <td>NaN</td>\n",
              "      <td>90.227958</td>\n",
              "      <td>NaN</td>\n",
              "      <td>189.850405</td>\n",
              "      <td>NaN</td>\n",
              "      <td>37905.341530</td>\n",
              "      <td>3.726421</td>\n",
              "      <td>NaN</td>\n",
              "      <td>NaN</td>\n",
              "      <td>NaN</td>\n",
              "      <td>NaN</td>\n",
              "      <td>0.0</td>\n",
              "      <td>25783.096248</td>\n",
              "      <td>NaN</td>\n",
              "    </tr>\n",
              "    <tr>\n",
              "      <th>min</th>\n",
              "      <td>NaN</td>\n",
              "      <td>0.000000</td>\n",
              "      <td>NaN</td>\n",
              "      <td>1000.000000</td>\n",
              "      <td>NaN</td>\n",
              "      <td>0.000000</td>\n",
              "      <td>NaN</td>\n",
              "      <td>5000.000000</td>\n",
              "      <td>0.000000</td>\n",
              "      <td>NaN</td>\n",
              "      <td>NaN</td>\n",
              "      <td>NaN</td>\n",
              "      <td>NaN</td>\n",
              "      <td>0.0</td>\n",
              "      <td>1067.000000</td>\n",
              "      <td>NaN</td>\n",
              "    </tr>\n",
              "    <tr>\n",
              "      <th>25%</th>\n",
              "      <td>NaN</td>\n",
              "      <td>1050.000000</td>\n",
              "      <td>NaN</td>\n",
              "      <td>1999.000000</td>\n",
              "      <td>NaN</td>\n",
              "      <td>69.000000</td>\n",
              "      <td>NaN</td>\n",
              "      <td>125000.000000</td>\n",
              "      <td>3.000000</td>\n",
              "      <td>NaN</td>\n",
              "      <td>NaN</td>\n",
              "      <td>NaN</td>\n",
              "      <td>NaN</td>\n",
              "      <td>0.0</td>\n",
              "      <td>30165.000000</td>\n",
              "      <td>NaN</td>\n",
              "    </tr>\n",
              "    <tr>\n",
              "      <th>50%</th>\n",
              "      <td>NaN</td>\n",
              "      <td>2700.000000</td>\n",
              "      <td>NaN</td>\n",
              "      <td>2003.000000</td>\n",
              "      <td>NaN</td>\n",
              "      <td>105.000000</td>\n",
              "      <td>NaN</td>\n",
              "      <td>150000.000000</td>\n",
              "      <td>6.000000</td>\n",
              "      <td>NaN</td>\n",
              "      <td>NaN</td>\n",
              "      <td>NaN</td>\n",
              "      <td>NaN</td>\n",
              "      <td>0.0</td>\n",
              "      <td>49413.000000</td>\n",
              "      <td>NaN</td>\n",
              "    </tr>\n",
              "    <tr>\n",
              "      <th>75%</th>\n",
              "      <td>NaN</td>\n",
              "      <td>6400.000000</td>\n",
              "      <td>NaN</td>\n",
              "      <td>2008.000000</td>\n",
              "      <td>NaN</td>\n",
              "      <td>143.000000</td>\n",
              "      <td>NaN</td>\n",
              "      <td>150000.000000</td>\n",
              "      <td>9.000000</td>\n",
              "      <td>NaN</td>\n",
              "      <td>NaN</td>\n",
              "      <td>NaN</td>\n",
              "      <td>NaN</td>\n",
              "      <td>0.0</td>\n",
              "      <td>71083.000000</td>\n",
              "      <td>NaN</td>\n",
              "    </tr>\n",
              "    <tr>\n",
              "      <th>max</th>\n",
              "      <td>NaN</td>\n",
              "      <td>20000.000000</td>\n",
              "      <td>NaN</td>\n",
              "      <td>9999.000000</td>\n",
              "      <td>NaN</td>\n",
              "      <td>20000.000000</td>\n",
              "      <td>NaN</td>\n",
              "      <td>150000.000000</td>\n",
              "      <td>12.000000</td>\n",
              "      <td>NaN</td>\n",
              "      <td>NaN</td>\n",
              "      <td>NaN</td>\n",
              "      <td>NaN</td>\n",
              "      <td>0.0</td>\n",
              "      <td>99998.000000</td>\n",
              "      <td>NaN</td>\n",
              "    </tr>\n",
              "  </tbody>\n",
              "</table>\n",
              "</div>"
            ],
            "text/plain": [
              "                DateCrawled          Price VehicleType  RegistrationYear  \\\n",
              "count                354369  354369.000000      316879     354369.000000   \n",
              "unique               271174            NaN           8               NaN   \n",
              "top     2016-03-24 14:49:47            NaN       sedan               NaN   \n",
              "freq                      7            NaN       91457               NaN   \n",
              "mean                    NaN    4416.656776         NaN       2004.234448   \n",
              "std                     NaN    4514.158514         NaN         90.227958   \n",
              "min                     NaN       0.000000         NaN       1000.000000   \n",
              "25%                     NaN    1050.000000         NaN       1999.000000   \n",
              "50%                     NaN    2700.000000         NaN       2003.000000   \n",
              "75%                     NaN    6400.000000         NaN       2008.000000   \n",
              "max                     NaN   20000.000000         NaN       9999.000000   \n",
              "\n",
              "       Gearbox          Power   Model      Kilometer  RegistrationMonth  \\\n",
              "count   334536  354369.000000  334664  354369.000000      354369.000000   \n",
              "unique       2            NaN     250            NaN                NaN   \n",
              "top     manual            NaN    golf            NaN                NaN   \n",
              "freq    268251            NaN   29232            NaN                NaN   \n",
              "mean       NaN     110.094337     NaN  128211.172535           5.714645   \n",
              "std        NaN     189.850405     NaN   37905.341530           3.726421   \n",
              "min        NaN       0.000000     NaN    5000.000000           0.000000   \n",
              "25%        NaN      69.000000     NaN  125000.000000           3.000000   \n",
              "50%        NaN     105.000000     NaN  150000.000000           6.000000   \n",
              "75%        NaN     143.000000     NaN  150000.000000           9.000000   \n",
              "max        NaN   20000.000000     NaN  150000.000000          12.000000   \n",
              "\n",
              "       FuelType       Brand Repaired          DateCreated  NumberOfPictures  \\\n",
              "count    321474      354369   283215               354369          354369.0   \n",
              "unique        7          40        2                  109               NaN   \n",
              "top      petrol  volkswagen       no  2016-04-03 00:00:00               NaN   \n",
              "freq     216352       77013   247161                13719               NaN   \n",
              "mean        NaN         NaN      NaN                  NaN               0.0   \n",
              "std         NaN         NaN      NaN                  NaN               0.0   \n",
              "min         NaN         NaN      NaN                  NaN               0.0   \n",
              "25%         NaN         NaN      NaN                  NaN               0.0   \n",
              "50%         NaN         NaN      NaN                  NaN               0.0   \n",
              "75%         NaN         NaN      NaN                  NaN               0.0   \n",
              "max         NaN         NaN      NaN                  NaN               0.0   \n",
              "\n",
              "           PostalCode             LastSeen  \n",
              "count   354369.000000               354369  \n",
              "unique            NaN               179150  \n",
              "top               NaN  2016-04-06 13:45:54  \n",
              "freq              NaN                   17  \n",
              "mean     50508.689087                  NaN  \n",
              "std      25783.096248                  NaN  \n",
              "min       1067.000000                  NaN  \n",
              "25%      30165.000000                  NaN  \n",
              "50%      49413.000000                  NaN  \n",
              "75%      71083.000000                  NaN  \n",
              "max      99998.000000                  NaN  "
            ]
          },
          "execution_count": 4,
          "metadata": {},
          "output_type": "execute_result"
        }
      ],
      "execution_count": 4
    },
    {
      "cell_type": "markdown",
      "source": "Из описания таблицы видно, что столбец, отвечающий за число фотографий полностью пустой. Брак? Возможно. Но в работе модели эти данные окажутся бессмысленными, а потому столбец можно удалить",
      "metadata": {}
    },
    {
      "cell_type": "code",
      "source": "df = df.drop('NumberOfPictures', axis=1)",
      "metadata": {},
      "outputs": [],
      "execution_count": 5
    },
    {
      "cell_type": "markdown",
      "source": "Для начала переименуем столбцы:",
      "metadata": {}
    },
    {
      "cell_type": "code",
      "source": "df.columns = ['date_crawled', 'price', 'vehicle_type', 'registration_year',\n              'gearbox', 'power', 'model', 'kilometer', 'registration_month',\n              'fuel_type', 'brand', 'repaired', 'date_created', 'postal_code', 'last_seen']\ndf.columns.to_list()",
      "metadata": {},
      "outputs": [
        {
          "data": {
            "text/plain": [
              "['date_crawled',\n",
              " 'price',\n",
              " 'vehicle_type',\n",
              " 'registration_year',\n",
              " 'gearbox',\n",
              " 'power',\n",
              " 'model',\n",
              " 'kilometer',\n",
              " 'registration_month',\n",
              " 'fuel_type',\n",
              " 'brand',\n",
              " 'repaired',\n",
              " 'date_created',\n",
              " 'postal_code',\n",
              " 'last_seen']"
            ]
          },
          "execution_count": 6,
          "metadata": {},
          "output_type": "execute_result"
        }
      ],
      "execution_count": 6
    },
    {
      "cell_type": "markdown",
      "source": "Приведём столбцы к нужному типу:",
      "metadata": {}
    },
    {
      "cell_type": "code",
      "source": "df['date_crawled'] = df['date_crawled'].astype('datetime64[ns]')\ndf['date_created'] = df['date_created'].astype('datetime64[ns]')\ndf['last_seen'] = df['last_seen'].astype('datetime64[ns]')\n\ndf.info()",
      "metadata": {},
      "outputs": [
        {
          "name": "stdout",
          "output_type": "stream",
          "text": [
            "<class 'pandas.core.frame.DataFrame'>\n",
            "RangeIndex: 354369 entries, 0 to 354368\n",
            "Data columns (total 15 columns):\n",
            " #   Column              Non-Null Count   Dtype         \n",
            "---  ------              --------------   -----         \n",
            " 0   date_crawled        354369 non-null  datetime64[ns]\n",
            " 1   price               354369 non-null  int64         \n",
            " 2   vehicle_type        316879 non-null  object        \n",
            " 3   registration_year   354369 non-null  int64         \n",
            " 4   gearbox             334536 non-null  object        \n",
            " 5   power               354369 non-null  int64         \n",
            " 6   model               334664 non-null  object        \n",
            " 7   kilometer           354369 non-null  int64         \n",
            " 8   registration_month  354369 non-null  int64         \n",
            " 9   fuel_type           321474 non-null  object        \n",
            " 10  brand               354369 non-null  object        \n",
            " 11  repaired            283215 non-null  object        \n",
            " 12  date_created        354369 non-null  datetime64[ns]\n",
            " 13  postal_code         354369 non-null  int64         \n",
            " 14  last_seen           354369 non-null  datetime64[ns]\n",
            "dtypes: datetime64[ns](3), int64(6), object(6)\n",
            "memory usage: 40.6+ MB\n"
          ]
        }
      ],
      "execution_count": 7
    },
    {
      "cell_type": "markdown",
      "source": "Заполним очевидные пропуски:",
      "metadata": {}
    },
    {
      "cell_type": "code",
      "source": "df['vehicle_type'] = df['vehicle_type'].fillna('unkwn')\ndf['gearbox'] = df['gearbox'].fillna('unkwn')\ndf['model'] = df['model'].fillna('unkwn')\ndf['fuel_type'] = df['fuel_type'].fillna('unkwn')\ndf['repaired'] = df['repaired'].fillna('unkwn')",
      "metadata": {},
      "outputs": [],
      "execution_count": 8
    },
    {
      "cell_type": "code",
      "source": "df.info()",
      "metadata": {},
      "outputs": [
        {
          "name": "stdout",
          "output_type": "stream",
          "text": [
            "<class 'pandas.core.frame.DataFrame'>\n",
            "RangeIndex: 354369 entries, 0 to 354368\n",
            "Data columns (total 15 columns):\n",
            " #   Column              Non-Null Count   Dtype         \n",
            "---  ------              --------------   -----         \n",
            " 0   date_crawled        354369 non-null  datetime64[ns]\n",
            " 1   price               354369 non-null  int64         \n",
            " 2   vehicle_type        354369 non-null  object        \n",
            " 3   registration_year   354369 non-null  int64         \n",
            " 4   gearbox             354369 non-null  object        \n",
            " 5   power               354369 non-null  int64         \n",
            " 6   model               354369 non-null  object        \n",
            " 7   kilometer           354369 non-null  int64         \n",
            " 8   registration_month  354369 non-null  int64         \n",
            " 9   fuel_type           354369 non-null  object        \n",
            " 10  brand               354369 non-null  object        \n",
            " 11  repaired            354369 non-null  object        \n",
            " 12  date_created        354369 non-null  datetime64[ns]\n",
            " 13  postal_code         354369 non-null  int64         \n",
            " 14  last_seen           354369 non-null  datetime64[ns]\n",
            "dtypes: datetime64[ns](3), int64(6), object(6)\n",
            "memory usage: 40.6+ MB\n"
          ]
        }
      ],
      "execution_count": 9
    },
    {
      "cell_type": "markdown",
      "source": "=> Все пропуски заполнены",
      "metadata": {}
    },
    {
      "cell_type": "code",
      "source": "def iqr_del(column):\n    # вычисляем квартили, кол-во данных и IQR\n    q1 = df[column].quantile(0.25)\n    q3 = df[column].quantile(0.75)\n    iqr = q3 - q1\n    l = len(df)\n\n    filt_df = df[(df[column] >= q1 - 1.5 * iqr) & (df[column] <= q3 + 1.5 * iqr)]\n    proc = 1 - len(filt_df) / len(df)\n    if proc <= 0.01 and proc > 0:\n        print(f\"Размах 1.5 iqr, столбец {i}\\nДанных вне размаха: {proc*100:.2f}%\", end='\\n\\n')\n        return filt_df\n    else:\n        filt_df = df[(df[column] >= q1 - 2.5 * iqr) & (df[column] <= q3 + 2.5 * iqr)]\n        proc = 1 - len(filt_df) / len(df)\n        if proc <= 0.01 and proc > 0:\n            print(f\"Размах 2.5 iqr, столбец {i}\\nДанных вне размаха: {proc*100:.2f}%\", end='\\n\\n')\n            return filt_df\n    \n    return df",
      "metadata": {},
      "outputs": [],
      "execution_count": 10
    },
    {
      "cell_type": "code",
      "source": "types = df.dtypes\nfor i in df.columns.to_list():\n    if types[i] == 'int64':\n        df = iqr_del(i)\n\ndf.info()",
      "metadata": {},
      "outputs": [
        {
          "name": "stdout",
          "output_type": "stream",
          "text": [
            "Размах 2.5 iqr, столбец price\n",
            "Данных вне размаха: 0.41%\n",
            "\n",
            "Размах 2.5 iqr, столбец registration_year\n",
            "Данных вне размаха: 0.78%\n",
            "\n",
            "Размах 2.5 iqr, столбец power\n",
            "Данных вне размаха: 0.62%\n",
            "\n",
            "<class 'pandas.core.frame.DataFrame'>\n",
            "Int64Index: 347987 entries, 0 to 354368\n",
            "Data columns (total 15 columns):\n",
            " #   Column              Non-Null Count   Dtype         \n",
            "---  ------              --------------   -----         \n",
            " 0   date_crawled        347987 non-null  datetime64[ns]\n",
            " 1   price               347987 non-null  int64         \n",
            " 2   vehicle_type        347987 non-null  object        \n",
            " 3   registration_year   347987 non-null  int64         \n",
            " 4   gearbox             347987 non-null  object        \n",
            " 5   power               347987 non-null  int64         \n",
            " 6   model               347987 non-null  object        \n",
            " 7   kilometer           347987 non-null  int64         \n",
            " 8   registration_month  347987 non-null  int64         \n",
            " 9   fuel_type           347987 non-null  object        \n",
            " 10  brand               347987 non-null  object        \n",
            " 11  repaired            347987 non-null  object        \n",
            " 12  date_created        347987 non-null  datetime64[ns]\n",
            " 13  postal_code         347987 non-null  int64         \n",
            " 14  last_seen           347987 non-null  datetime64[ns]\n",
            "dtypes: datetime64[ns](3), int64(6), object(6)\n",
            "memory usage: 42.5+ MB\n"
          ]
        }
      ],
      "execution_count": 11
    },
    {
      "cell_type": "code",
      "source": "plt.rcParams[\"figure.figsize\"] = (12,8)",
      "metadata": {},
      "outputs": [],
      "execution_count": 12
    },
    {
      "cell_type": "code",
      "source": "fig = plt.figure()\nax = fig.add_subplot()\n\nax.set_title('График распределения цены', fontsize=14, fontweight='bold')\n\nax.set_xlabel('Цена (евро)', fontsize=14, fontweight='bold')\nax.set_ylabel('Количество объявлений', fontsize=14, fontweight='bold')\n\n_ = df.price.hist()",
      "metadata": {},
      "outputs": [
        {
          "data": {
            "image/png": "[encoded data removed]",
            "text/plain": [
              "<Figure size 864x576 with 1 Axes>"
            ]
          },
          "metadata": {
            "needs_background": "light"
          },
          "output_type": "display_data"
        }
      ],
      "execution_count": 13
    },
    {
      "cell_type": "code",
      "source": "print('Количество объявлений, у которых стоимость автомобиля меньше 300:', len(df.query('price<300')))",
      "metadata": {},
      "outputs": [
        {
          "name": "stdout",
          "output_type": "stream",
          "text": [
            "Количество объявлений, у которых стоимость автомобиля меньше 300: 22607\n"
          ]
        }
      ],
      "execution_count": 14
    },
    {
      "cell_type": "code",
      "source": "print('Количество объявлений, у которых стоимость автомобиля меньше 500:', len(df.query('price<500')))",
      "metadata": {},
      "outputs": [
        {
          "name": "stdout",
          "output_type": "stream",
          "text": [
            "Количество объявлений, у которых стоимость автомобиля меньше 500: 35422\n"
          ]
        }
      ],
      "execution_count": 15
    },
    {
      "cell_type": "code",
      "source": "print('Количество объявлений, у которых стоимость автомобиля больше 20000:', len(df.query('price>20000')))",
      "metadata": {},
      "outputs": [
        {
          "name": "stdout",
          "output_type": "stream",
          "text": [
            "Количество объявлений, у которых стоимость автомобиля больше 20000: 0\n"
          ]
        }
      ],
      "execution_count": 16
    },
    {
      "cell_type": "markdown",
      "source": "Машины с низкой стоимостью могут нам помешать; удалим часть",
      "metadata": {}
    },
    {
      "cell_type": "code",
      "source": "df = df.query('price >=1000')",
      "metadata": {},
      "outputs": [],
      "execution_count": 17
    },
    {
      "cell_type": "code",
      "source": "df.info()",
      "metadata": {},
      "outputs": [
        {
          "name": "stdout",
          "output_type": "stream",
          "text": [
            "<class 'pandas.core.frame.DataFrame'>\n",
            "Int64Index: 265497 entries, 1 to 354368\n",
            "Data columns (total 15 columns):\n",
            " #   Column              Non-Null Count   Dtype         \n",
            "---  ------              --------------   -----         \n",
            " 0   date_crawled        265497 non-null  datetime64[ns]\n",
            " 1   price               265497 non-null  int64         \n",
            " 2   vehicle_type        265497 non-null  object        \n",
            " 3   registration_year   265497 non-null  int64         \n",
            " 4   gearbox             265497 non-null  object        \n",
            " 5   power               265497 non-null  int64         \n",
            " 6   model               265497 non-null  object        \n",
            " 7   kilometer           265497 non-null  int64         \n",
            " 8   registration_month  265497 non-null  int64         \n",
            " 9   fuel_type           265497 non-null  object        \n",
            " 10  brand               265497 non-null  object        \n",
            " 11  repaired            265497 non-null  object        \n",
            " 12  date_created        265497 non-null  datetime64[ns]\n",
            " 13  postal_code         265497 non-null  int64         \n",
            " 14  last_seen           265497 non-null  datetime64[ns]\n",
            "dtypes: datetime64[ns](3), int64(6), object(6)\n",
            "memory usage: 32.4+ MB\n"
          ]
        }
      ],
      "execution_count": 18
    },
    {
      "cell_type": "code",
      "source": "fig = plt.figure()\nax = fig.add_subplot()\n\nax.set_title('График распределения года регистрации', fontsize=14, fontweight='bold')\n\nax.set_xlabel('Год регистрации', fontsize=14, fontweight='bold')\nax.set_ylabel('Количество объявлений', fontsize=14, fontweight='bold')\n\n_ = df['registration_year'].hist()",
      "metadata": {},
      "outputs": [
        {
          "data": {
            "image/png": "[encoded data removed]",
            "text/plain": [
              "<Figure size 864x576 with 1 Axes>"
            ]
          },
          "metadata": {
            "needs_background": "light"
          },
          "output_type": "display_data"
        }
      ],
      "execution_count": 19
    },
    {
      "cell_type": "markdown",
      "source": "Слишком старые автомобили не так актуальны",
      "metadata": {}
    },
    {
      "cell_type": "code",
      "source": "df = df.query('registration_year >=1985')",
      "metadata": {},
      "outputs": [],
      "execution_count": 20
    },
    {
      "cell_type": "code",
      "source": "df.columns",
      "metadata": {},
      "outputs": [
        {
          "data": {
            "text/plain": [
              "Index(['date_crawled', 'price', 'vehicle_type', 'registration_year', 'gearbox',\n",
              "       'power', 'model', 'kilometer', 'registration_month', 'fuel_type',\n",
              "       'brand', 'repaired', 'date_created', 'postal_code', 'last_seen'],\n",
              "      dtype='object')"
            ]
          },
          "execution_count": 21,
          "metadata": {},
          "output_type": "execute_result"
        }
      ],
      "execution_count": 21
    },
    {
      "cell_type": "code",
      "source": "len(df.query('date_crawled.dt.year > registration_year'))",
      "metadata": {},
      "outputs": [
        {
          "data": {
            "text/plain": [
              "248183"
            ]
          },
          "execution_count": 22,
          "metadata": {},
          "output_type": "execute_result"
        }
      ],
      "execution_count": 22
    },
    {
      "cell_type": "code",
      "source": "df = df.query('date_crawled.dt.year > registration_year')",
      "metadata": {},
      "outputs": [],
      "execution_count": 23
    },
    {
      "cell_type": "code",
      "source": "df.info()",
      "metadata": {},
      "outputs": [
        {
          "name": "stdout",
          "output_type": "stream",
          "text": [
            "<class 'pandas.core.frame.DataFrame'>\n",
            "Int64Index: 248183 entries, 1 to 354368\n",
            "Data columns (total 15 columns):\n",
            " #   Column              Non-Null Count   Dtype         \n",
            "---  ------              --------------   -----         \n",
            " 0   date_crawled        248183 non-null  datetime64[ns]\n",
            " 1   price               248183 non-null  int64         \n",
            " 2   vehicle_type        248183 non-null  object        \n",
            " 3   registration_year   248183 non-null  int64         \n",
            " 4   gearbox             248183 non-null  object        \n",
            " 5   power               248183 non-null  int64         \n",
            " 6   model               248183 non-null  object        \n",
            " 7   kilometer           248183 non-null  int64         \n",
            " 8   registration_month  248183 non-null  int64         \n",
            " 9   fuel_type           248183 non-null  object        \n",
            " 10  brand               248183 non-null  object        \n",
            " 11  repaired            248183 non-null  object        \n",
            " 12  date_created        248183 non-null  datetime64[ns]\n",
            " 13  postal_code         248183 non-null  int64         \n",
            " 14  last_seen           248183 non-null  datetime64[ns]\n",
            "dtypes: datetime64[ns](3), int64(6), object(6)\n",
            "memory usage: 30.3+ MB\n"
          ]
        }
      ],
      "execution_count": 24
    },
    {
      "cell_type": "code",
      "source": "fig = plt.figure()\nax = fig.add_subplot()\n\nax.set_title('График распределения мощности автомобилей', fontsize=14, fontweight='bold')\n\nax.set_xlabel('Мощность (л.с.)', fontsize=14, fontweight='bold')\nax.set_ylabel('Количество объявлений', fontsize=14, fontweight='bold')\n\n_ = df.power.hist()",
      "metadata": {},
      "outputs": [
        {
          "data": {
            "image/png": "[encoded data removed]",
            "text/plain": [
              "<Figure size 864x576 with 1 Axes>"
            ]
          },
          "metadata": {
            "needs_background": "light"
          },
          "output_type": "display_data"
        }
      ],
      "execution_count": 25
    },
    {
      "cell_type": "markdown",
      "source": "Слишком медленный транспорт также может плохо продаваться",
      "metadata": {}
    },
    {
      "cell_type": "code",
      "source": "df = df.query('power > 30')",
      "metadata": {},
      "outputs": [],
      "execution_count": 26
    },
    {
      "cell_type": "code",
      "source": "df.power.max()",
      "metadata": {},
      "outputs": [
        {
          "data": {
            "text/plain": [
              "321"
            ]
          },
          "execution_count": 27,
          "metadata": {},
          "output_type": "execute_result"
        }
      ],
      "execution_count": 27
    },
    {
      "cell_type": "code",
      "source": "df.info()",
      "metadata": {},
      "outputs": [
        {
          "name": "stdout",
          "output_type": "stream",
          "text": [
            "<class 'pandas.core.frame.DataFrame'>\n",
            "Int64Index: 231237 entries, 1 to 354368\n",
            "Data columns (total 15 columns):\n",
            " #   Column              Non-Null Count   Dtype         \n",
            "---  ------              --------------   -----         \n",
            " 0   date_crawled        231237 non-null  datetime64[ns]\n",
            " 1   price               231237 non-null  int64         \n",
            " 2   vehicle_type        231237 non-null  object        \n",
            " 3   registration_year   231237 non-null  int64         \n",
            " 4   gearbox             231237 non-null  object        \n",
            " 5   power               231237 non-null  int64         \n",
            " 6   model               231237 non-null  object        \n",
            " 7   kilometer           231237 non-null  int64         \n",
            " 8   registration_month  231237 non-null  int64         \n",
            " 9   fuel_type           231237 non-null  object        \n",
            " 10  brand               231237 non-null  object        \n",
            " 11  repaired            231237 non-null  object        \n",
            " 12  date_created        231237 non-null  datetime64[ns]\n",
            " 13  postal_code         231237 non-null  int64         \n",
            " 14  last_seen           231237 non-null  datetime64[ns]\n",
            "dtypes: datetime64[ns](3), int64(6), object(6)\n",
            "memory usage: 28.2+ MB\n"
          ]
        }
      ],
      "execution_count": 28
    },
    {
      "cell_type": "code",
      "source": "fig = plt.figure()\nax = fig.add_subplot()\n\nax.set_title('График распределения пробега автомобилей', fontsize=14, fontweight='bold')\n\nax.set_xlabel('Пробег (км)', fontsize=14, fontweight='bold')\nax.set_ylabel('Количество объявлений', fontsize=14, fontweight='bold')\n\n_ = df.kilometer.hist()",
      "metadata": {},
      "outputs": [
        {
          "data": {
            "image/png": "[encoded data removed]",
            "text/plain": [
              "<Figure size 864x576 with 1 Axes>"
            ]
          },
          "metadata": {
            "needs_background": "light"
          },
          "output_type": "display_data"
        }
      ],
      "execution_count": 29
    },
    {
      "cell_type": "code",
      "source": "fig = plt.figure()\nax = fig.add_subplot()\n\nax.set_title('График распределения пробега автомобилей', fontsize=14, fontweight='bold')\n\nax.set_xlabel('Пробег (км)', fontsize=14, fontweight='bold')\nax.set_ylabel('Количество объявлений', fontsize=14, fontweight='bold')\n\n_ = sns.boxplot(df.kilometer)",
      "metadata": {},
      "outputs": [
        {
          "data": {
            "image/png": "[encoded data removed]",
            "text/plain": [
              "<Figure size 864x576 with 1 Axes>"
            ]
          },
          "metadata": {
            "needs_background": "light"
          },
          "output_type": "display_data"
        }
      ],
      "execution_count": 30
    },
    {
      "cell_type": "markdown",
      "source": "У основной массы автомобилей гигантский пробег. Тут ничего не поделаешь: новые машины больше привлекают, а использованные составляют большую часть выборки",
      "metadata": {}
    },
    {
      "cell_type": "markdown",
      "source": "=> Выбросы числовых данных удалены",
      "metadata": {}
    },
    {
      "cell_type": "code",
      "source": "columns_to_drop = [\n    'postal_code',\n    'date_crawled',\n    'registration_month',\n    'last_seen',\n    'date_created',\n]\ndf = df.drop(columns_to_drop, axis=1)",
      "metadata": {},
      "outputs": [],
      "execution_count": 31
    },
    {
      "cell_type": "code",
      "source": "df.duplicated().sum()",
      "metadata": {
        "scrolled": true
      },
      "outputs": [
        {
          "data": {
            "text/plain": [
              "30616"
            ]
          },
          "execution_count": 32,
          "metadata": {},
          "output_type": "execute_result"
        }
      ],
      "execution_count": 32
    },
    {
      "cell_type": "code",
      "source": "df = df.drop_duplicates()\ndf.duplicated().sum()",
      "metadata": {},
      "outputs": [
        {
          "data": {
            "text/plain": [
              "0"
            ]
          },
          "execution_count": 33,
          "metadata": {},
          "output_type": "execute_result"
        }
      ],
      "execution_count": 33
    },
    {
      "cell_type": "code",
      "source": "df.info()",
      "metadata": {},
      "outputs": [
        {
          "name": "stdout",
          "output_type": "stream",
          "text": [
            "<class 'pandas.core.frame.DataFrame'>\n",
            "Int64Index: 200621 entries, 1 to 354368\n",
            "Data columns (total 10 columns):\n",
            " #   Column             Non-Null Count   Dtype \n",
            "---  ------             --------------   ----- \n",
            " 0   price              200621 non-null  int64 \n",
            " 1   vehicle_type       200621 non-null  object\n",
            " 2   registration_year  200621 non-null  int64 \n",
            " 3   gearbox            200621 non-null  object\n",
            " 4   power              200621 non-null  int64 \n",
            " 5   model              200621 non-null  object\n",
            " 6   kilometer          200621 non-null  int64 \n",
            " 7   fuel_type          200621 non-null  object\n",
            " 8   brand              200621 non-null  object\n",
            " 9   repaired           200621 non-null  object\n",
            "dtypes: int64(4), object(6)\n",
            "memory usage: 16.8+ MB\n"
          ]
        }
      ],
      "execution_count": 34
    },
    {
      "cell_type": "markdown",
      "source": "**Вывод:** Предобработка завершена",
      "metadata": {}
    },
    {
      "cell_type": "markdown",
      "source": "## Обучение моделей",
      "metadata": {}
    },
    {
      "cell_type": "code",
      "source": "numbers = ['registration_year', 'power', 'kilometer']\nfeatures = df.drop('price', axis=1)\ntarget = df['price']\n\nfeatures_train, features_test, target_train, target_test = \\\ntrain_test_split(features, target, test_size=.2, random_state=1012)",
      "metadata": {},
      "outputs": [],
      "execution_count": 35
    },
    {
      "cell_type": "code",
      "source": "features_train = pd.get_dummies(features_train, drop_first=True)\nfeatures_test = pd.get_dummies(features_test, drop_first=True)",
      "metadata": {},
      "outputs": [],
      "execution_count": 36
    },
    {
      "cell_type": "code",
      "source": "a = []\nb = []\nfor i in features_train.columns:\n    if i not in features_test:\n        a.append(i)\n        \nfor i in features_test.columns:\n    if i not in features_train:\n        b.append(i)\n        \ndisplay(a)\ndisplay(b)",
      "metadata": {},
      "outputs": [
        {
          "data": {
            "text/plain": [
              "['model_601',\n",
              " 'model_charade',\n",
              " 'model_elefantino',\n",
              " 'model_kalina',\n",
              " 'model_range_rover_evoque',\n",
              " 'model_rangerover',\n",
              " 'model_samara']"
            ]
          },
          "metadata": {},
          "output_type": "display_data"
        },
        {
          "data": {
            "text/plain": [
              "[]"
            ]
          },
          "metadata": {},
          "output_type": "display_data"
        }
      ],
      "execution_count": 37
    },
    {
      "cell_type": "code",
      "source": "features_train = features_train.drop(a, axis=1)\nfeatures_test = features_test.drop(b, axis=1)",
      "metadata": {},
      "outputs": [],
      "execution_count": 38
    },
    {
      "cell_type": "code",
      "source": "scaler = StandardScaler()\nscaler.fit(features_train[numbers])\npd.options.mode.chained_assignment = None\n\nfeatures_train[numbers] = scaler.transform(features_train[numbers])\nfeatures_test[numbers] = scaler.transform(features_test[numbers])",
      "metadata": {},
      "outputs": [],
      "execution_count": 39
    },
    {
      "cell_type": "code",
      "source": "%%time\n\nmodel_lr = LinearRegression()\n\ncross_val_scores = cross_val_score(model_lr, features_train, target_train, cv=5, scoring='neg_mean_squared_error')\nrmse_scores = np.sqrt(-cross_val_scores)\nrmse_linear = round(np.mean(rmse_scores), 2)\nprint('Средний RMSE на кросс-валидации:', rmse_linear)\n\n# Обучение одной лучшей модели\n\nfit_time_start = time.time()\nmodel_lr.fit(features_train, target_train)\nfit_time_end = time.time()\n\nmodel_lr.predict(features_train)\npredict_time_end = time.time()\n\nlr_fit_time = round((fit_time_end - fit_time_start), 2)\nlr_pred_time = round(predict_time_end - fit_time_end, 2)\n\nprint('Время обучения лучшей модели:', lr_fit_time)",
      "metadata": {},
      "outputs": [
        {
          "name": "stdout",
          "output_type": "stream",
          "text": [
            "Средний RMSE на кросс-валидации: 2285.63\n",
            "Время обучения лучшей модели: 54.72\n",
            "CPU times: user 2min 1s, sys: 2min 26s, total: 4min 27s\n",
            "Wall time: 4min 28s\n"
          ]
        }
      ],
      "execution_count": 40
    },
    {
      "cell_type": "markdown",
      "source": "**Дерево решений**",
      "metadata": {}
    },
    {
      "cell_type": "code",
      "source": "def rmse(true, pred):\n    return sqrt(mean_squared_error(true, pred))\n\nrmse_scorer = make_scorer(rmse, greater_is_better=False)",
      "metadata": {},
      "outputs": [],
      "execution_count": 41
    },
    {
      "cell_type": "code",
      "source": "%%time\n\nmodel_tree = DecisionTreeRegressor(random_state=1)\nparametrs = {'max_depth': [None] + list(range(2, 7))}\n\ngrid_tree = GridSearchCV(model_tree, param_grid=parametrs, cv=5, scoring=rmse_scorer)\n\ngrid_tree.fit(features_train, target_train)\nmodel_tree = grid_tree.best_estimator_\nrmse_tree = round(-grid_tree.best_score_, 2)\n\nfit_time_start = time.time()\nmodel_tree.fit(features_train, target_train)\nfit_time_end = time.time()\n\nmodel_tree.predict(features_train)\npredict_time_end = time.time()\n\ntree_fit_time = round((fit_time_end - fit_time_start), 2)\ntree_pred_time = round(predict_time_end - fit_time_end, 2)\n\nprint('Средний RMSE на кросс-валидации:', rmse_tree)\nprint('Максимальная глубина дерева наилучшей модели:', grid_tree.best_params_['max_depth'])",
      "metadata": {},
      "outputs": [
        {
          "name": "stdout",
          "output_type": "stream",
          "text": [
            "Средний RMSE на кросс-валидации: 1911.14\n",
            "Максимальная глубина дерева наилучшей модели: None\n",
            "CPU times: user 53.6 s, sys: 5.95 s, total: 59.6 s\n",
            "Wall time: 59.9 s\n"
          ]
        }
      ],
      "execution_count": 42
    },
    {
      "cell_type": "markdown",
      "source": "**Случайный лес**",
      "metadata": {}
    },
    {
      "cell_type": "code",
      "source": "%%time\nmodel_forest = RandomForestRegressor(random_state=1)\nparametrs = {'n_estimators': [10, 50, 100],\n             'max_depth': [1, 10, 20],}\n\ngrid_forest = GridSearchCV(model_forest, param_grid=parametrs, cv=5, scoring=rmse_scorer)\n\ngrid_forest.fit(features_train, target_train)\nmodel_forest = grid_forest.best_estimator_\nrmse_forest = round(-grid_forest.best_score_, 2)\n\nfit_time_start = time.time()\nmodel_forest.fit(features_train, target_train)\nfit_time_end = time.time()\n\nmodel_forest.predict(features_train)\npredict_time_end = time.time()\n\nforest_fit_time = round((fit_time_end - fit_time_start), 2)\nforest_pred_time = round(predict_time_end - fit_time_end, 2)\n\nprint('RMSE работы случайного леса на обучающей выборке:', rmse_forest)\nprint('Максимальная глубина дерева наилучшей модели:', grid_forest.best_params_['max_depth'])\nprint('Количество деревьев в наилучшей модели:', grid_forest.best_params_['n_estimators'])",
      "metadata": {},
      "outputs": [
        {
          "name": "stdout",
          "output_type": "stream",
          "text": [
            "RMSE работы случайного леса на обучающей выборке: 1610.03\n",
            "Максимальная глубина дерева наилучшей модели: 20\n",
            "Количество деревьев в наилучшей модели: 100\n",
            "CPU times: user 55min 32s, sys: 17.4 s, total: 55min 49s\n",
            "Wall time: 55min 53s\n"
          ]
        }
      ],
      "execution_count": 43
    },
    {
      "cell_type": "markdown",
      "source": "**CatBoost**",
      "metadata": {}
    },
    {
      "cell_type": "code",
      "source": "features_cb = df.drop('price', axis=1)\ntarget_cb = df['price']\n\nfeatures_cb_train, features_cb_test, target_cb_train, target_cb_test = train_test_split(\n    features_cb, target_cb, test_size=0.2, random_state=1012)\n\ncat_features = ['vehicle_type', 'gearbox', 'model', 'fuel_type', 'brand', 'repaired']",
      "metadata": {},
      "outputs": [],
      "execution_count": 44
    },
    {
      "cell_type": "code",
      "source": "features_cb_train[cat_features] = features_cb_train[cat_features].astype('category')\nfeatures_cb_test[cat_features] = features_cb_test[cat_features].astype('category')",
      "metadata": {},
      "outputs": [],
      "execution_count": 45
    },
    {
      "cell_type": "code",
      "source": "%%time\nmodel_cb = CatBoostRegressor(silent=True, cat_features=cat_features)\ngrid_cb = {'depth': [6, 8, 10],\n           'learning_rate': [0.01, 0.05, 0.1],\n           'iterations': [200, 150]}\n\n# Создание экземпляра GridSearchCV со стандартной кросс-валидацией\ngrid_search = GridSearchCV(estimator=model_cb,\n                           param_grid=grid_cb,\n                           cv=2,\n                           n_jobs=-1,\n                           scoring='neg_mean_squared_error')\n\n# Запуск поиска сетки параметров\ngrid_search.fit(features_cb_train, target_cb_train)\nrmse_cb = round(np.sqrt(-grid_search.best_score_), 2)\n\n# Получение лучшей модели\nbest_model_cb = grid_search.best_estimator_\n\n\nfit_time_start = time.time()\nbest_model_cb.fit(features_cb_train, target_cb_train)\nfit_time_end = time.time()\n\nbest_model_cb.predict(features_cb_train)\npredict_time_end = time.time()\n\nprint('RMSE работы CatBoost на тренировочной выборке:', rmse_cb)",
      "metadata": {},
      "outputs": [
        {
          "name": "stdout",
          "output_type": "stream",
          "text": [
            "RMSE работы CatBoost на тренировочной выборке: 1574.15\n",
            "CPU times: user 14min 10s, sys: 5.3 s, total: 14min 15s\n",
            "Wall time: 14min 52s\n"
          ]
        }
      ],
      "execution_count": 46
    },
    {
      "cell_type": "code",
      "source": "cb_fit_time = round(fit_time_end - fit_time_start, 2)\ncb_pred_time = round(predict_time_end - fit_time_end, 2)",
      "metadata": {},
      "outputs": [],
      "execution_count": 47
    },
    {
      "cell_type": "markdown",
      "source": "**LightGBM**",
      "metadata": {}
    },
    {
      "cell_type": "code",
      "source": "%%time\nlgb_model = lgb.LGBMRegressor(random_state=1012)\nparametrs = {'n_estimators': [10, 50, 100],\n             'learning_rate': [0.03, 0.1],\n             'max_depth': [1, 6, 10]}\n\n\ngrid_lgb = GridSearchCV(lgb_model, param_grid=parametrs, cv=2, scoring='neg_mean_squared_error')\ngrid_lgb.fit(features_cb_train, target_cb_train)\n\nrmse_lgb = round(np.sqrt(-grid_lgb.best_score_), 2)\nbest_model_lgb = grid_lgb.best_estimator_\n\nfit_time_start = time.time()\nbest_model_lgb.fit(features_cb_train, target_cb_train)\nfit_time_end = time.time()\n\nbest_model_lgb.predict(features_cb_train)\npredict_time_end = time.time()\n\nprint('Средний RMSE на кросс-валидации:', rmse_lgb)\nprint('Максимальная глубина дерева наилучшей модели:', grid_lgb.best_params_['max_depth'])\nprint('Количество деревьев в наилучшей модели:', grid_lgb.best_params_['n_estimators'])\nprint('Коэффициент скорости обучения в наилучшей модели:', grid_lgb.best_params_['learning_rate'])",
      "metadata": {},
      "outputs": [
        {
          "name": "stdout",
          "output_type": "stream",
          "text": [
            "Средний RMSE на кросс-валидации: 1570.58\n",
            "Максимальная глубина дерева наилучшей модели: 10\n",
            "Количество деревьев в наилучшей модели: 100\n",
            "Коэффициент скорости обучения в наилучшей модели: 0.1\n",
            "CPU times: user 29min 7s, sys: 28.9 s, total: 29min 36s\n",
            "Wall time: 29min 44s\n"
          ]
        }
      ],
      "execution_count": 48
    },
    {
      "cell_type": "code",
      "source": "lgb_fit_time = round(fit_time_end - fit_time_start, 2)\nlgb_pred_time = round(predict_time_end - fit_time_end, 2)",
      "metadata": {},
      "outputs": [],
      "execution_count": 49
    },
    {
      "cell_type": "markdown",
      "source": "**Вывод:**  \nНа тренировочных данных лучше всего себя показала модель **случайного дерева** и модель градиентного бустинга на основе **catboost**. Они была оптимальнее других по точности и времени выполнения работы. Сравним их результаты на тестовой выборке с работой константной модели!",
      "metadata": {}
    },
    {
      "cell_type": "markdown",
      "source": "## Анализ моделей",
      "metadata": {}
    },
    {
      "cell_type": "code",
      "source": "results = pd.DataFrame({'Models':['Linear Regression', 'Decision Tree', 'Random Forest', 'CatBoost', 'LightGBM'],\n                       'RMSE': [rmse_linear, rmse_tree, rmse_forest, rmse_cb, rmse_lgb],\n                       'Fit time': [lr_fit_time, tree_fit_time, forest_fit_time, cb_fit_time, lgb_fit_time],\n                       'Predict time': [lr_pred_time, tree_pred_time, forest_pred_time, cb_pred_time, lgb_pred_time]})\n\nresults",
      "metadata": {},
      "outputs": [
        {
          "data": {
            "text/html": [
              "<div>\n",
              "<style scoped>\n",
              "    .dataframe tbody tr th:only-of-type {\n",
              "        vertical-align: middle;\n",
              "    }\n",
              "\n",
              "    .dataframe tbody tr th {\n",
              "        vertical-align: top;\n",
              "    }\n",
              "\n",
              "    .dataframe thead th {\n",
              "        text-align: right;\n",
              "    }\n",
              "</style>\n",
              "<table border=\"1\" class=\"dataframe\">\n",
              "  <thead>\n",
              "    <tr style=\"text-align: right;\">\n",
              "      <th></th>\n",
              "      <th>Models</th>\n",
              "      <th>RMSE</th>\n",
              "      <th>Fit time</th>\n",
              "      <th>Predict time</th>\n",
              "    </tr>\n",
              "  </thead>\n",
              "  <tbody>\n",
              "    <tr>\n",
              "      <th>0</th>\n",
              "      <td>Linear Regression</td>\n",
              "      <td>2285.63</td>\n",
              "      <td>54.72</td>\n",
              "      <td>0.30</td>\n",
              "    </tr>\n",
              "    <tr>\n",
              "      <th>1</th>\n",
              "      <td>Decision Tree</td>\n",
              "      <td>1911.14</td>\n",
              "      <td>4.77</td>\n",
              "      <td>0.34</td>\n",
              "    </tr>\n",
              "    <tr>\n",
              "      <th>2</th>\n",
              "      <td>Random Forest</td>\n",
              "      <td>1610.03</td>\n",
              "      <td>262.32</td>\n",
              "      <td>5.20</td>\n",
              "    </tr>\n",
              "    <tr>\n",
              "      <th>3</th>\n",
              "      <td>CatBoost</td>\n",
              "      <td>1574.15</td>\n",
              "      <td>84.63</td>\n",
              "      <td>0.55</td>\n",
              "    </tr>\n",
              "    <tr>\n",
              "      <th>4</th>\n",
              "      <td>LightGBM</td>\n",
              "      <td>1570.58</td>\n",
              "      <td>33.39</td>\n",
              "      <td>1.69</td>\n",
              "    </tr>\n",
              "  </tbody>\n",
              "</table>\n",
              "</div>"
            ],
            "text/plain": [
              "              Models     RMSE  Fit time  Predict time\n",
              "0  Linear Regression  2285.63     54.72          0.30\n",
              "1      Decision Tree  1911.14      4.77          0.34\n",
              "2      Random Forest  1610.03    262.32          5.20\n",
              "3           CatBoost  1574.15     84.63          0.55\n",
              "4           LightGBM  1570.58     33.39          1.69"
            ]
          },
          "execution_count": 50,
          "metadata": {},
          "output_type": "execute_result"
        }
      ],
      "execution_count": 50
    },
    {
      "cell_type": "markdown",
      "source": "По соотношению метрика/время лучше всего справилась модель **CatBoost**. Возьмём её для дальнейшего анализа.",
      "metadata": {}
    },
    {
      "cell_type": "markdown",
      "source": "Обучим константную модель для сравнения эффективности:",
      "metadata": {}
    },
    {
      "cell_type": "code",
      "source": "%%time\n\nmodel_const = DummyRegressor()\nmodel_const.fit(features_train, target_train)\nmodel_const_predict = model_const.predict(features_test)\n\nmodel_const_rmse = (mean_squared_error(target_test, model_const_predict)**0.5).mean()\nprint('RMSE:', model_const_rmse)",
      "metadata": {},
      "outputs": [
        {
          "name": "stdout",
          "output_type": "stream",
          "text": [
            "RMSE: 4488.280915202244\n",
            "CPU times: user 1.52 ms, sys: 0 ns, total: 1.52 ms\n",
            "Wall time: 1.26 ms\n"
          ]
        }
      ],
      "execution_count": 51
    },
    {
      "cell_type": "markdown",
      "source": "**=>** Время - шикарное, RMSE - ужасное",
      "metadata": {}
    },
    {
      "cell_type": "code",
      "source": "# Работа лучшей модели на тестовой выборке\n\nfinal_cb_model = grid_search.best_estimator_\nfinal_cb_model.fit(features_cb_train, target_cb_train)\n\nrmse_cb = rmse(target_cb_test, final_cb_model.predict(features_cb_test))",
      "metadata": {},
      "outputs": [],
      "execution_count": 54
    },
    {
      "cell_type": "code",
      "source": "print(\"RMSE лучшей модели на тестовой выборке:\", round(rmse_cb, 2))",
      "metadata": {},
      "outputs": [
        {
          "name": "stdout",
          "output_type": "stream",
          "text": [
            "RMSE лучшей модели на тестовой выборке: 1576.16\n"
          ]
        }
      ],
      "execution_count": 56
    },
    {
      "cell_type": "markdown",
      "source": "**Вывод:**  \nВ результате работы моделей мы выяснили следующие факты:\n* Наша работа дала плоды, модели превзошли в эффективности оценки константную\n* **Наилучшим образом** на тестовых данных показала себя модель градиентного бустинга (на основе **CatBoost**)\n* RMSE наилучшей модели составило 1576, что является хорошим показателем",
      "metadata": {}
    },
    {
      "cell_type": "code",
      "source": "model_tree = DecisionTreeRegressor(random_state=1, max_depth=None)\nmodel_tree.fit(features_train, target_train)\nprint(rmse(target_test, model_tree.predict(features_test)))",
      "metadata": {},
      "outputs": [],
      "execution_count": null
    }
  ]
}